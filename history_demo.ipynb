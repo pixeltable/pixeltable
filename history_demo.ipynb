{
 "cells": [
  {
   "cell_type": "markdown",
   "id": "0b563118-321a-4b43-9c3e-6e3dd58f1b99",
   "metadata": {},
   "source": [
    "An example of table history"
   ]
  },
  {
   "cell_type": "code",
   "execution_count": null,
   "id": "ea576a29-381a-43a8-a8b6-95b6cba46a32",
   "metadata": {},
   "outputs": [],
   "source": [
    "%pip install -qU pixeltable"
   ]
  },
  {
   "cell_type": "markdown",
   "id": "5caf7da4-1648-4501-9e12-3497406e1548",
   "metadata": {},
   "source": [
    "Let's insert a table and make some modifications to it"
   ]
  },
  {
   "cell_type": "code",
   "execution_count": null,
   "id": "59ad54e1-b3e5-432c-9647-01d91f479e38",
   "metadata": {},
   "outputs": [],
   "source": [
    "import pixeltable as pxt\n",
    "t = pxt.create_table(\n",
    "    'test',\n",
    "    {'c1': pxt.Required[pxt.Int], 'c2': pxt.String},\n",
    "    comment='some random table comment',\n",
    "    primary_key=['c1'],\n",
    "    if_exists='replace_force'\n",
    ")\n",
    "t.insert([{'c1': 1, 'c2': 'a'}, {'c1': 2, 'c2': 'b'}])\n",
    "t.add_computed_column(c3=t.c1 + 10)\n",
    "t.add_computed_column(c4=t.c2.upper())\n",
    "t.add_computed_column(c5=t.c1 + 10)\n",
    "t.add_columns({'c6': pxt.String, 'c7': pxt.Int})\n",
    "t.insert([{'c1': 3, 'c2': 'c'}, {'c1': 4, 'c2': 'd'}])\n",
    "t.insert([{'c1': 5, 'c2': 'e'}, {'c1': 6, 'c2': 'e'}])\n",
    "t.insert([{'c1': 7, 'c2': 'a'}, {'c1': 8, 'c2': 'b'}])\n",
    "t.delete((t.c1 >= 4) & (t.c1 <= 5))\n",
    "t.batch_update([{'c1': 2, 'c2': 'xxx'}])\n",
    "t.rename_column('c2', 'c2_renamed')\n",
    "t.drop_column('c4')"
   ]
  },
  {
   "cell_type": "markdown",
   "id": "7ff475d2-f9b8-457e-a6fe-21218d040018",
   "metadata": {},
   "source": [
    "This is a lot of modifications and will create a fairly complex history.\n",
    "Let's look at all of it:"
   ]
  },
  {
   "cell_type": "code",
   "execution_count": null,
   "id": "4cc44c8f-b09e-4282-a690-2200517befff",
   "metadata": {},
   "outputs": [],
   "source": [
    "t.history()"
   ]
  },
  {
   "cell_type": "markdown",
   "id": "91d94316-a816-42a2-9ad6-6ee168912302",
   "metadata": {},
   "source": [
    "If we're only interested in the last few modifications, we can request information about only those:"
   ]
  },
  {
   "cell_type": "code",
   "execution_count": null,
   "id": "3b3b5672-6fa5-43ef-8ea7-3fc8d071f869",
   "metadata": {},
   "outputs": [],
   "source": [
    "t.history(max_versions=4)"
   ]
  },
  {
   "cell_type": "markdown",
   "id": "ed1043ff-38f0-45f4-9ab7-ba15e50cf5a9",
   "metadata": {},
   "source": [
    "If we are interested in details about the data changes, we can request that information as well:"
   ]
  },
  {
   "cell_type": "code",
   "execution_count": null,
   "id": "4a0f1a22-deff-4630-bfde-09c06bc979ea",
   "metadata": {},
   "outputs": [],
   "source": [
    "t.history(summarize_data_changes=True)"
   ]
  },
  {
   "cell_type": "markdown",
   "id": "49ae1ae0-90d0-44c6-86ae-6f1d31b47526",
   "metadata": {},
   "source": [
    "The information from a table history can be inserted into pandas or a pixeltable table for further filtering or other examination:"
   ]
  },
  {
   "cell_type": "code",
   "execution_count": null,
   "id": "9fe38863-f575-4a62-942c-59a584dc3cde",
   "metadata": {},
   "outputs": [],
   "source": [
    "th=pxt.create_table('t_history', source=t.history(summarize_data_changes=True).to_pandas(), if_exists='replace_force')"
   ]
  },
  {
   "cell_type": "markdown",
   "id": "629b454c-6be8-467f-8c02-679798c0f52a",
   "metadata": {},
   "source": [
    "We can the summarize all of the data changes over the life of the table:"
   ]
  },
  {
   "cell_type": "code",
   "execution_count": null,
   "id": "fe8fd592-d637-48e4-abe9-f04d550dec16",
   "metadata": {},
   "outputs": [],
   "source": [
    "import pixeltable.functions as pxtf\n",
    "th.select(total_inserted=pxtf.sum(th.inserted), total_deleted=pxtf.sum(th.deleted), total_updated=pxtf.sum(th.updated)).collect()"
   ]
  },
  {
   "cell_type": "markdown",
   "id": "2b1cd733-a47b-4037-8eae-7bf3cff7205a",
   "metadata": {},
   "source": [
    "If we create a view on the table, we can look at the history of the view:"
   ]
  },
  {
   "cell_type": "code",
   "execution_count": null,
   "id": "29977017-95bf-4c9e-86f0-ee5fe6361289",
   "metadata": {},
   "outputs": [],
   "source": [
    "v = pxt.create_view('view1', t)\n",
    "v.history()"
   ]
  },
  {
   "cell_type": "markdown",
   "id": "516bcdbb-98e8-45ab-86b0-16f772e4d22d",
   "metadata": {},
   "source": [
    "And a snaphot on top of the view:"
   ]
  },
  {
   "cell_type": "code",
   "execution_count": null,
   "id": "68fc2335-bfe9-4c32-b876-4244f3769383",
   "metadata": {},
   "outputs": [],
   "source": [
    "s = pxt.create_snapshot('snapshot1', v)\n",
    "s.history()"
   ]
  },
  {
   "cell_type": "markdown",
   "id": "645d048e-a6a2-445b-9821-47e53299d47a",
   "metadata": {},
   "source": [
    "Let's do two inserts into the original table and look at the new history:"
   ]
  },
  {
   "cell_type": "code",
   "execution_count": null,
   "id": "9fb03911-d807-4da6-937f-b3392e8df5a6",
   "metadata": {},
   "outputs": [],
   "source": [
    "t.insert([{'c1': 9, 'c2_renamed': 'a'}, {'c1': 10, 'c2_renamed': 'b'}])\n",
    "t.insert([{'c1': 9, 'c2_renamed': 'a'}, {'c1': 10, 'c2_renamed': 'b'}])\n",
    "t.history()"
   ]
  },
  {
   "cell_type": "code",
   "execution_count": null,
   "id": "9eaea5dd-8c8e-4acd-849e-e6fb2298a8fe",
   "metadata": {},
   "outputs": [],
   "source": [
    "v.history()"
   ]
  },
  {
   "cell_type": "code",
   "execution_count": null,
   "id": "501681af-bc23-41f0-98ba-87cc35a1b9a7",
   "metadata": {},
   "outputs": [],
   "source": [
    "s.history()"
   ]
  },
  {
   "cell_type": "code",
   "execution_count": null,
   "id": "156358f9-7c21-4136-812b-4ab3e939332c",
   "metadata": {},
   "outputs": [],
   "source": []
  }
 ],
 "metadata": {
  "kernelspec": {
   "display_name": "Python 3 (ipykernel)",
   "language": "python",
   "name": "python3"
  },
  "language_info": {
   "codemirror_mode": {
    "name": "ipython",
    "version": 3
   },
   "file_extension": ".py",
   "mimetype": "text/x-python",
   "name": "python",
   "nbconvert_exporter": "python",
   "pygments_lexer": "ipython3",
   "version": "3.10.16"
  }
 },
 "nbformat": 4,
 "nbformat_minor": 5
}
