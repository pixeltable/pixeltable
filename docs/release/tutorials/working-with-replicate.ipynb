{
 "cells": [
  {
   "cell_type": "markdown",
   "metadata": {
    "id": "983yjns496tx"
   },
   "source": [
    "[![Kaggle](https://kaggle.com/static/images/open-in-kaggle.svg)](https://kaggle.com/kernels/welcome?src=https://github.com/pixeltable/pixeltable/blob/release/docs/release/tutorials/working-with-replicate.ipynb)&nbsp;&nbsp;\n",
    "[![Colab](https://colab.research.google.com/assets/colab-badge.svg)](https://colab.research.google.com/github/pixeltable/pixeltable/blob/release/docs/release/tutorials/working-with-replicate.ipynb)&nbsp;&nbsp;\n",
    "<a href=\"https://raw.githubusercontent.com/pixeltable/pixeltable/release/docs/release/tutorials/working-with-replicate.ipynb\" download><img src=\"https://img.shields.io/badge/%E2%AC%87-Download%20Notebook-blue\" alt=\"Download Notebook\"></a>\n",
    "\n",
    "# Working with Replicate in Pixeltable\n",
    "\n",
    "Pixeltable's Replicate integration enables you to access Replicate's models via the Replicate API.\n",
    "\n",
    "### Prerequisites\n",
    "\n",
    "- A Replicate account with an API token.\n",
    "\n",
    "### Important Notes\n",
    "\n",
    "- Replicate usage may incur costs based on your Replicate plan.\n",
    "- Be mindful of sensitive data and consider security measures when integrating with external services.\n",
    "\n",
    "First you'll need to install required libraries and enter a Replicate API token."
   ]
  },
  {
   "cell_type": "code",
   "execution_count": null,
   "metadata": {
    "colab": {
     "base_uri": "https://localhost:8080/"
    },
    "id": "9pckrD01ik-e",
    "outputId": "060b8b32-48a6-48a0-e720-4eacf94d83ef"
   },
   "outputs": [],
   "source": [
    "%pip install -qU pixeltable replicate"
   ]
  },
  {
   "cell_type": "code",
   "execution_count": null,
   "metadata": {
    "colab": {
     "base_uri": "https://localhost:8080/"
    },
    "id": "AQ6_Py7_7d0r",
    "outputId": "f82cfe36-be9e-4d43-f13e-9f6f5b680e8e"
   },
   "outputs": [],
   "source": [
    "import os\n",
    "import getpass\n",
    "\n",
    "if 'REPLICATE_API_TOKEN' not in os.environ:\n",
    "    os.environ['REPLICATE_API_TOKEN'] = getpass.getpass('Replicate API Token:')"
   ]
  },
  {
   "cell_type": "markdown",
   "metadata": {},
   "source": [
    "Now let's create a Pixeltable directory to hold the tables for our demo."
   ]
  },
  {
   "cell_type": "code",
   "execution_count": 1,
   "metadata": {
    "colab": {
     "base_uri": "https://localhost:8080/"
    },
    "id": "brtjK-88tTSS",
    "outputId": "55d08c91-438a-4c3e-c217-3cea72faca11"
   },
   "outputs": [
    {
     "name": "stdout",
     "output_type": "stream",
     "text": [
      "Connected to Pixeltable database at: postgresql+psycopg://postgres:@/pixeltable?host=/Users/asiegel/.pixeltable/pgdata\n",
      "Created directory `replicate_demo`.\n"
     ]
    },
    {
     "data": {
      "text/plain": [
       "<pixeltable.catalog.dir.Dir at 0x34717ac10>"
      ]
     },
     "execution_count": 1,
     "metadata": {},
     "output_type": "execute_result"
    }
   ],
   "source": [
    "import pixeltable as pxt\n",
    "\n",
    "# Remove the `replicate_demo` directory and its contents, if it exists\n",
    "pxt.drop_dir('replicate_demo', force=True)\n",
    "pxt.create_dir('replicate_demo')"
   ]
  },
  {
   "cell_type": "markdown",
   "metadata": {
    "id": "0kmjJoDq9Oqe"
   },
   "source": [
    "## Chat Completions\n",
    "\n",
    "Create a Table: In Pixeltable, create a table with columns to represent your input data and the columns where you want to store the results from Replicate."
   ]
  },
  {
   "cell_type": "code",
   "execution_count": 2,
   "metadata": {
    "colab": {
     "base_uri": "https://localhost:8080/"
    },
    "id": "5ti10tXu5m3X",
    "outputId": "30848066-1e9b-4efd-aad7-b2271a031ec3"
   },
   "outputs": [
    {
     "name": "stdout",
     "output_type": "stream",
     "text": [
      "Created table `chat`.\n",
      "Added 0 column values with 0 errors.\n"
     ]
    }
   ],
   "source": [
    "from pixeltable.functions.replicate import run\n",
    "\n",
    "# Create a table in Pixeltable and pick a model hosted on Replicate with some parameters\n",
    "\n",
    "t = pxt.create_table('replicate_demo.chat', {'prompt': pxt.String})\n",
    "\n",
    "input = {\n",
    "    'system_prompt': 'You are a helpful assistant.',\n",
    "    'prompt': t.prompt,\n",
    "    # These parameters are optional and can be used to tune model behavior:\n",
    "    'max_tokens': 300,\n",
    "    'top_p': 0.9,\n",
    "    'temperature': 0.8\n",
    "}\n",
    "t['output'] = run(input, ref='meta/meta-llama-3-8b-instruct')"
   ]
  },
  {
   "cell_type": "code",
   "execution_count": 3,
   "metadata": {
    "colab": {
     "base_uri": "https://localhost:8080/"
    },
    "id": "mePjoku95iUn",
    "outputId": "07c3f8f0-5301-44ba-ba33-25d10c3c26fa"
   },
   "outputs": [
    {
     "name": "stdout",
     "output_type": "stream",
     "text": [
      "Added 0 column values with 0 errors.\n"
     ]
    }
   ],
   "source": [
    "# Parse the response into a new column\n",
    "t['response'] = pxt.functions.string.join('', t.output)"
   ]
  },
  {
   "cell_type": "code",
   "execution_count": 4,
   "metadata": {
    "colab": {
     "base_uri": "https://localhost:8080/",
     "height": 599
    },
    "id": "IkMM7OYb5rQ_",
    "outputId": "8e94af3e-485c-49f2-d7ba-b5490ec83af9"
   },
   "outputs": [
    {
     "name": "stdout",
     "output_type": "stream",
     "text": [
      "Computing cells: 100%|████████████████████████████████████████████| 4/4 [00:07<00:00,  1.77s/ cells]\n",
      "Inserting rows into `chat`: 1 rows [00:00, 251.38 rows/s]\n",
      "Computing cells: 100%|████████████████████████████████████████████| 4/4 [00:07<00:00,  1.77s/ cells]\n",
      "Inserted 1 row with 0 errors.\n"
     ]
    },
    {
     "data": {
      "text/html": [
       "<table border=\"1\" class=\"dataframe\">\n",
       "  <thead>\n",
       "    <tr style=\"text-align: right;\">\n",
       "      <th>prompt</th>\n",
       "      <th>response</th>\n",
       "    </tr>\n",
       "  </thead>\n",
       "  <tbody>\n",
       "    <tr>\n",
       "      <td>What foods are rich in selenium?</td>\n",
       "      <td>Selenium is an essential nutrient that plays a crucial role in our body&#x27;s antioxidant defenses. Here are some of the richest food sources of selenium:\n",
       "\n",
       "1. Brazil Nuts: One or two Brazil nuts per day can provide the recommended daily intake of selenium. They are the richest plant-based source of selenium, with a single nut containing about 544 micrograms.\n",
       "2. Fish: Seafood, especially fish, is an excellent source of selenium. Some of the highest selenium-containing fish include:\n",
       "\t* Tuna ( At ...... selenium, especially if it&#x27;s raised on organic or free-range farms.\n",
       "6. Mushrooms: Certain types of mushrooms, such as shiitake and portobello, are rich in selenium.\n",
       "7. Garlic: Garlic is a good source of selenium, especially if it&#x27;s grown in selenium-rich soil.\n",
       "8. Spinach: Spinach is a leafy green vegetable that contains selenium, especially if it&#x27;s grown in selenium-rich soil.\n",
       "9. Sunflower Seeds: Sunflower seeds are a good source of selenium, especially if they&#x27;re grown in selenium-rich soil</td>\n",
       "    </tr>\n",
       "  </tbody>\n",
       "</table>"
      ],
      "text/plain": [
       "                             prompt  \\\n",
       "0  What foods are rich in selenium?   \n",
       "\n",
       "                                            response  \n",
       "0  \\n\\nSelenium is an essential nutrient that pla...  "
      ]
     },
     "execution_count": 4,
     "metadata": {},
     "output_type": "execute_result"
    }
   ],
   "source": [
    "# Start a conversation\n",
    "t.insert(prompt='What foods are rich in selenium?')\n",
    "t.select(t.prompt, t.response).show()"
   ]
  },
  {
   "cell_type": "markdown",
   "metadata": {},
   "source": [
    "## Image Generation\n",
    "\n",
    "Here's an example that shows how to use Replicate's image generation models with Pixeltable. We'll use the FLUX Schnell model."
   ]
  },
  {
   "cell_type": "code",
   "execution_count": 5,
   "metadata": {},
   "outputs": [
    {
     "name": "stdout",
     "output_type": "stream",
     "text": [
      "Created table `images`.\n",
      "Added 0 column values with 0 errors.\n"
     ]
    }
   ],
   "source": [
    "t = pxt.create_table('replicate_demo.images', {'prompt': pxt.String})\n",
    "\n",
    "input = {\n",
    "    'prompt': t.prompt,\n",
    "    'go_fast': True,\n",
    "    'megapixels': '1'\n",
    "}\n",
    "t['output'] = run(input, ref='black-forest-labs/flux-schnell')"
   ]
  },
  {
   "cell_type": "code",
   "execution_count": 6,
   "metadata": {},
   "outputs": [
    {
     "name": "stdout",
     "output_type": "stream",
     "text": [
      "Computing cells: 100%|████████████████████████████████████████████| 2/2 [00:01<00:00,  1.50 cells/s]\n",
      "Inserting rows into `images`: 1 rows [00:00, 86.50 rows/s]\n",
      "Computing cells: 100%|████████████████████████████████████████████| 2/2 [00:01<00:00,  1.48 cells/s]\n",
      "Inserted 1 row with 0 errors.\n"
     ]
    },
    {
     "data": {
      "text/plain": [
       "UpdateStatus(num_rows=1, num_computed_values=2, num_excs=0, updated_cols=[], cols_with_excs=[])"
      ]
     },
     "execution_count": 6,
     "metadata": {},
     "output_type": "execute_result"
    }
   ],
   "source": [
    "t.insert(prompt='Draw a pencil sketch of a friendly dinosaur playing tennis in a cornfield.')"
   ]
  },
  {
   "cell_type": "code",
   "execution_count": 7,
   "metadata": {},
   "outputs": [
    {
     "data": {
      "text/html": [
       "<table border=\"1\" class=\"dataframe\">\n",
       "  <thead>\n",
       "    <tr style=\"text-align: right;\">\n",
       "      <th>prompt</th>\n",
       "      <th>output</th>\n",
       "    </tr>\n",
       "  </thead>\n",
       "  <tbody>\n",
       "    <tr>\n",
       "      <td>Draw a pencil sketch of a friendly dinosaur playing tennis in a cornfield.</td>\n",
       "      <td>[&quot;data:application/octet-stream;base64,UklGRm6rAABXRUJQVlA4IGKrAABQ1AKdASoABAAEPm00lkkkIqIhIlWpeIANiWlu/Eb5xaZ+gmldTS8fusxz8rf6L+1+uH5b+s/7j/B+Of5H9 ...... qw5cz7UOSUHsPQUcZz8Jg2KkJcEebBkBACSORrSBw7EUmd1CFeYzVIEa4zlnkG/sahLQ31F7e5HaZUKOirb2ytQAVkCUOje8ocpWigAAAAAAAAAAAAAAAAAAAAAAAAAAAAAAAAAAAAAAAAAA==&quot;]</td>\n",
       "    </tr>\n",
       "  </tbody>\n",
       "</table>"
      ],
      "text/plain": [
       "                                              prompt  \\\n",
       "0  Draw a pencil sketch of a friendly dinosaur pl...   \n",
       "\n",
       "                                              output  \n",
       "0  [data:application/octet-stream;base64,UklGRm6r...  "
      ]
     },
     "execution_count": 7,
     "metadata": {},
     "output_type": "execute_result"
    }
   ],
   "source": [
    "t.select(t.prompt, t.output).collect()"
   ]
  },
  {
   "cell_type": "markdown",
   "metadata": {},
   "source": [
    "We see that Replicate returns our image as an array containing a single string, with a base64-encoded URL of the image. To turn it into an actual image, all we have to do is cast the string to type `pxt.Image`:"
   ]
  },
  {
   "cell_type": "code",
   "execution_count": 8,
   "metadata": {},
   "outputs": [
    {
     "data": {
      "text/html": [
       "<table border=\"1\" class=\"dataframe\">\n",
       "  <thead>\n",
       "    <tr style=\"text-align: right;\">\n",
       "      <th>prompt</th>\n",
       "      <th>col_1</th>\n",
       "    </tr>\n",
       "  </thead>\n",
       "  <tbody>\n",
       "    <tr>\n",
       "      <td>Draw a pencil sketch of a friendly dinosaur playing tennis in a cornfield.</td>\n",
       "      <td><div class=\"pxt_image\" style=\"width:480px;\">\n",
       "                <img src=\"data:image/webp;base64,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\" width=\"480\" />\n",
       "            </div></td>\n",
       "    </tr>\n",
       "  </tbody>\n",
       "</table>"
      ],
      "text/plain": [
       "                                              prompt  \\\n",
       "0  Draw a pencil sketch of a friendly dinosaur pl...   \n",
       "\n",
       "                                               col_1  \n",
       "0  <PIL.WebPImagePlugin.WebPImageFile image mode=...  "
      ]
     },
     "execution_count": 8,
     "metadata": {},
     "output_type": "execute_result"
    }
   ],
   "source": [
    "t.select(t.prompt, t.output[0].astype(pxt.Image)).collect()"
   ]
  },
  {
   "cell_type": "markdown",
   "metadata": {
    "id": "lTtQcjKQAlis"
   },
   "source": [
    "### Learn More\n",
    "\n",
    "To learn more about advanced techniques like RAG operations in Pixeltable, check out the [RAG Operations in Pixeltable](https://pixeltable.readme.io/docs/rag-operations-in-pixeltable) tutorial.\n",
    "\n",
    "If you have any questions, don't hesitate to reach out."
   ]
  }
 ],
 "metadata": {
  "colab": {
   "provenance": []
  },
  "kernelspec": {
   "display_name": "Python 3 (ipykernel)",
   "language": "python",
   "name": "python3"
  },
  "language_info": {
   "codemirror_mode": {
    "name": "ipython",
    "version": 3
   },
   "file_extension": ".py",
   "mimetype": "text/x-python",
   "name": "python",
   "nbconvert_exporter": "python",
   "pygments_lexer": "ipython3",
   "version": "3.9.19"
  }
 },
 "nbformat": 4,
 "nbformat_minor": 4
}
