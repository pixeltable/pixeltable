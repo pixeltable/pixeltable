{
  "nbformat": 4,
  "nbformat_minor": 0,
  "metadata": {
    "colab": {
      "provenance": []
    },
    "kernelspec": {
      "name": "python3",
      "display_name": "Python 3"
    },
    "language_info": {
      "name": "python"
    }
  },
  "cells": [
    {
      "cell_type": "markdown",
      "source": [
        "# Wrangling with Data in Pixeltable 101\n",
        "\n",
        "In this tutorial, we'll guide you through using Pixeltable's intuitive table interface to handle common data wrangling tasks. We'll cover creating tables, populating them with data, querying them with various filters, and even performing basic transformations.\n",
        "\n",
        "Pixeltable simplifies among other things data preparation and management for AI Product Development. By treating your data as tables with flexible columns, it allows for easy exploration, manipulation, and integration with other stages of your ML workflow."
      ],
      "metadata": {
        "id": "iu6P8Pks-Y72"
      }
    },
    {
      "cell_type": "markdown",
      "source": [
        "### Setting up Your Directory\n",
        "\n",
        "First, let's install Pixeltable and create a directory to hold our tables:"
      ],
      "metadata": {
        "id": "tWmM_icw-nj1"
      }
    },
    {
      "cell_type": "code",
      "execution_count": 18,
      "metadata": {
        "id": "EIBhrFB30cbF"
      },
      "outputs": [],
      "source": [
        "%pip install -q pixeltable  # Remove this line if already installed\n",
        "\n",
        "import pixeltable as pxt\n",
        "\n",
        "# Create a directory for our demonstration\n",
        "pxt.create_dir(\"demo_direct\", ignore_errors=\"true\")  # Ignore errors if the directory already exists"
      ]
    },
    {
      "cell_type": "markdown",
      "source": [
        "###  Creating and Populating Tables\n",
        "\n",
        "Pixeltable makes it easy to define tables with typed columns. Let's create a sample table to track information about things with wings and legs:"
      ],
      "metadata": {
        "id": "7StQcO-i-7NF"
      }
    },
    {
      "cell_type": "code",
      "source": [
        "pxt.drop_table('Int_Table', ignore_errors= 'True')  # Drop the table if it already exists to avoid conflict\n",
        "t = pxt.create_table('Int_Table', {'num_legs': pxt.IntType(nullable='True'),\n",
        "                                  'num_wings': pxt.IntType(),\n",
        "                                  'name': pxt.StringType(nullable='True')})\n",
        "\n",
        "# Insert rows (each row is a dictionary)\n",
        "t.insert([{'num_wings': 2, 'name': 'jake'},\n",
        "          {'num_legs': 3, 'num_wings': 2},\n",
        "          {'num_legs': 4, 'num_wings': 8, 'name': 'kev'}])\n"
      ],
      "metadata": {
        "colab": {
          "base_uri": "https://localhost:8080/"
        },
        "id": "UFRzCvtQ5Zr_",
        "outputId": "ccf0ddfa-b4b7-4023-e20d-2922ed2cfc6d"
      },
      "execution_count": 19,
      "outputs": [
        {
          "output_type": "stream",
          "name": "stdout",
          "text": [
            "Created table `Int_Table`.\n",
            "Inserting rows into `Int_Table`: 3 rows [00:00, 853.95 rows/s]\n",
            "Inserted 3 rows with 0 errors.\n"
          ]
        },
        {
          "output_type": "execute_result",
          "data": {
            "text/plain": [
              "UpdateStatus(num_rows=3, num_computed_values=0, num_excs=0, updated_cols=[], cols_with_excs=[])"
            ]
          },
          "metadata": {},
          "execution_count": 19
        }
      ]
    },
    {
      "cell_type": "markdown",
      "source": [
        "### Viewing Table Data\n",
        "\n",
        "Pixeltable offers convenient functions to inspect your data:"
      ],
      "metadata": {
        "id": "st_0PxiI_MFa"
      }
    },
    {
      "cell_type": "code",
      "source": [
        "# Show a specific row (e.g., row 1)\n",
        "# t.show(1)\n",
        "\n",
        "# Get all the rows as a list of dictionaries\n",
        "t.collect()"
      ],
      "metadata": {
        "colab": {
          "base_uri": "https://localhost:8080/",
          "height": 143
        },
        "id": "Nc-M1tek5qog",
        "outputId": "d18d1b6d-71e9-4662-b695-2f946332c9af"
      },
      "execution_count": 29,
      "outputs": [
        {
          "output_type": "execute_result",
          "data": {
            "text/plain": [
              "   num_legs  num_wings  name\n",
              "0       NaN          2  jake\n",
              "1       3.0          2  None\n",
              "2       4.0          8   kev"
            ],
            "text/html": [
              "<table border=\"1\" class=\"dataframe\">\n",
              "  <thead>\n",
              "    <tr style=\"text-align: right;\">\n",
              "      <th>num_legs</th>\n",
              "      <th>num_wings</th>\n",
              "      <th>name</th>\n",
              "    </tr>\n",
              "  </thead>\n",
              "  <tbody>\n",
              "    <tr>\n",
              "      <td>NaN</td>\n",
              "      <td>2</td>\n",
              "      <td>jake</td>\n",
              "    </tr>\n",
              "    <tr>\n",
              "      <td>3.0</td>\n",
              "      <td>2</td>\n",
              "      <td>None</td>\n",
              "    </tr>\n",
              "    <tr>\n",
              "      <td>4.0</td>\n",
              "      <td>8</td>\n",
              "      <td>kev</td>\n",
              "    </tr>\n",
              "  </tbody>\n",
              "</table>"
            ]
          },
          "metadata": {},
          "execution_count": 29
        }
      ]
    },
    {
      "cell_type": "markdown",
      "source": [
        "### Filtering Data with Queries\n",
        "\n",
        "Let's use Pixeltable's interface to filter rows based on specific criteria:"
      ],
      "metadata": {
        "id": "X2kkAKXR_c3N"
      }
    },
    {
      "cell_type": "code",
      "source": [
        "# Show rows where num_wings is greater than or equal to 7\n",
        "t.where(t.num_wings >= 7).show()"
      ],
      "metadata": {
        "colab": {
          "base_uri": "https://localhost:8080/",
          "height": 81
        },
        "id": "Sixa7YQxBWiE",
        "outputId": "35918b06-02c0-488c-a167-509e6098a8e4"
      },
      "execution_count": 30,
      "outputs": [
        {
          "output_type": "execute_result",
          "data": {
            "text/plain": [
              "   num_legs  num_wings name\n",
              "0         4          8  kev"
            ],
            "text/html": [
              "<table border=\"1\" class=\"dataframe\">\n",
              "  <thead>\n",
              "    <tr style=\"text-align: right;\">\n",
              "      <th>num_legs</th>\n",
              "      <th>num_wings</th>\n",
              "      <th>name</th>\n",
              "    </tr>\n",
              "  </thead>\n",
              "  <tbody>\n",
              "    <tr>\n",
              "      <td>4</td>\n",
              "      <td>8</td>\n",
              "      <td>kev</td>\n",
              "    </tr>\n",
              "  </tbody>\n",
              "</table>"
            ]
          },
          "metadata": {},
          "execution_count": 30
        }
      ]
    },
    {
      "cell_type": "markdown",
      "source": [
        "### Transforming Data with Queries\n",
        "\n",
        "Pixeltable allows you to perform calculations directly on columns, creating new values on the fly:"
      ],
      "metadata": {
        "id": "jK9e2vLU_p-d"
      }
    },
    {
      "cell_type": "code",
      "source": [
        "# Filter on multiple values using 'isin'\n",
        "t.where(t.num_wings.isin([2, 8])).collect()"
      ],
      "metadata": {
        "colab": {
          "base_uri": "https://localhost:8080/",
          "height": 143
        },
        "id": "zrAugZLt_1jV",
        "outputId": "b31213cb-f789-4af4-a605-9a559ef7ca6e"
      },
      "execution_count": 43,
      "outputs": [
        {
          "output_type": "execute_result",
          "data": {
            "text/plain": [
              "   num_legs  num_wings  name\n",
              "0       NaN          2  jake\n",
              "1       3.0          2  None\n",
              "2       4.0          8   kev"
            ],
            "text/html": [
              "<table border=\"1\" class=\"dataframe\">\n",
              "  <thead>\n",
              "    <tr style=\"text-align: right;\">\n",
              "      <th>num_legs</th>\n",
              "      <th>num_wings</th>\n",
              "      <th>name</th>\n",
              "    </tr>\n",
              "  </thead>\n",
              "  <tbody>\n",
              "    <tr>\n",
              "      <td>NaN</td>\n",
              "      <td>2</td>\n",
              "      <td>jake</td>\n",
              "    </tr>\n",
              "    <tr>\n",
              "      <td>3.0</td>\n",
              "      <td>2</td>\n",
              "      <td>None</td>\n",
              "    </tr>\n",
              "    <tr>\n",
              "      <td>4.0</td>\n",
              "      <td>8</td>\n",
              "      <td>kev</td>\n",
              "    </tr>\n",
              "  </tbody>\n",
              "</table>"
            ]
          },
          "metadata": {},
          "execution_count": 43
        }
      ]
    },
    {
      "cell_type": "code",
      "source": [
        "# Extract data based on calculated columns\n",
        "t.select(t.num_legs + 4 * 12, t.num_wings * t.num_legs).where(t.name == 'kev').show()"
      ],
      "metadata": {
        "colab": {
          "base_uri": "https://localhost:8080/",
          "height": 81
        },
        "id": "X1NzJOHVA7lD",
        "outputId": "964c2e91-1707-4b14-d148-480e3c951bbf"
      },
      "execution_count": 50,
      "outputs": [
        {
          "output_type": "execute_result",
          "data": {
            "text/plain": [
              "   col_0  col_1\n",
              "0     52     32"
            ],
            "text/html": [
              "<table border=\"1\" class=\"dataframe\">\n",
              "  <thead>\n",
              "    <tr style=\"text-align: right;\">\n",
              "      <th>col_0</th>\n",
              "      <th>col_1</th>\n",
              "    </tr>\n",
              "  </thead>\n",
              "  <tbody>\n",
              "    <tr>\n",
              "      <td>52</td>\n",
              "      <td>32</td>\n",
              "    </tr>\n",
              "  </tbody>\n",
              "</table>"
            ]
          },
          "metadata": {},
          "execution_count": 50
        }
      ]
    },
    {
      "cell_type": "markdown",
      "source": [
        "## Learn More\n",
        "\n",
        "This is just a taste of what Pixeltable can do. Dive into our [Documentation](https://pixeltable.readme.io/docs/get-started) and in-depth tutorials to discover how to:\n",
        "\n",
        "- Seamlessly integrate with your labeling tools\n",
        "- Experiment with different ML models and track their performance\n",
        "- Harness the full power of lineage tracking and versioning\n",
        "\n",
        "See more examples for:\n",
        "\n",
        "- [Object Detection](https://dash.readme.com/project/pixeltable/v1.0/docs/object-detection-in-videos)\n",
        "- [Rag Operations](https://dash.readme.com/project/pixeltable/v1.0/docs/rag-operations)\n",
        "- [Working with OpenAI](https://pixeltable.readme.io/docs/working-with-openai)\n",
        "\n"
      ],
      "metadata": {
        "id": "2cD6SN-1BEgk"
      }
    }
  ]
}