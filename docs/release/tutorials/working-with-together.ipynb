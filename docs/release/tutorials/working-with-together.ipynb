{
 "cells": [
  {
   "cell_type": "markdown",
   "metadata": {
    "id": "983yjns496tx"
   },
   "source": [
    "[![Kaggle](https://kaggle.com/static/images/open-in-kaggle.svg)](https://kaggle.com/kernels/welcome?src=https://github.com/pixeltable/pixeltable/blob/release/docs/release/tutorials/working-with-together.ipynb)&nbsp;&nbsp;\n",
    "[![Colab](https://colab.research.google.com/assets/colab-badge.svg)](https://colab.research.google.com/github/pixeltable/pixeltable/blob/release/docs/release/tutorials/working-with-together.ipynb)\n",
    "\n",
    "# Working with Together AI in Pixeltable\n",
    "\n",
    "### Prerequisites\n",
    "- A Together AI account with an API key (https://api.together.ai/settings/api-keys)\n",
    "\n",
    "### Important Notes\n",
    "\n",
    "- Together.ai usage may incur costs based on your Together.ai plan.\n",
    "- Be mindful of sensitive data and consider security measures when integrating with external services.\n",
    "\n",
    "First you'll need to install required libraries and enter your Together API key."
   ]
  },
  {
   "cell_type": "code",
   "execution_count": null,
   "metadata": {
    "id": "9pckrD01ik-e"
   },
   "outputs": [],
   "source": [
    "%pip install -qU pixeltable together"
   ]
  },
  {
   "cell_type": "code",
   "execution_count": null,
   "metadata": {
    "colab": {
     "base_uri": "https://localhost:8080/"
    },
    "id": "AQ6_Py7_7d0r",
    "outputId": "f8b55e8d-82dd-404c-aca4-14613702573e"
   },
   "outputs": [],
   "source": [
    "import os\n",
    "import getpass\n",
    "\n",
    "if 'TOGETHER_API_KEY' not in os.environ:\n",
    "    os.environ['TOGETHER_API_KEY'] = getpass.getpass('Together API Key: ')"
   ]
  },
  {
   "cell_type": "markdown",
   "metadata": {},
   "source": [
    "Now let's create a Pixeltable directory to hold the tables for our demo."
   ]
  },
  {
   "cell_type": "code",
   "execution_count": 1,
   "metadata": {
    "colab": {
     "base_uri": "https://localhost:8080/"
    },
    "id": "brtjK-88tTSS",
    "outputId": "b7c720d8-7fa3-40fd-8246-98025c4116c2"
   },
   "outputs": [
    {
     "name": "stdout",
     "output_type": "stream",
     "text": [
      "Connected to Pixeltable database at: postgresql://postgres:@/pixeltable?host=/Users/asiegel/.pixeltable/pgdata\n",
      "Created directory `together_demo`.\n"
     ]
    },
    {
     "data": {
      "text/plain": [
       "<pixeltable.catalog.dir.Dir at 0x357da61f0>"
      ]
     },
     "execution_count": 1,
     "metadata": {},
     "output_type": "execute_result"
    }
   ],
   "source": [
    "import pixeltable as pxt\n",
    "\n",
    "pxt.drop_dir('together_demo', force=True)  # Ensure a clean slate for the demo\n",
    "pxt.create_dir('together_demo')"
   ]
  },
  {
   "cell_type": "markdown",
   "metadata": {
    "id": "bGN-wW6nvcz0"
   },
   "source": [
    "## Completions"
   ]
  },
  {
   "cell_type": "markdown",
   "metadata": {
    "id": "97A0XhuR-YMB"
   },
   "source": [
    "Now we create a table in Pixeltable, with three columns:\n",
    "\n",
    "- a column to hold the inputs (prompts);\n",
    "- a computed column that calls the Together AI completions API and stores the JSON response;\n",
    "- another computed column that extracts the completion from the response JSON."
   ]
  },
  {
   "cell_type": "code",
   "execution_count": 2,
   "metadata": {
    "colab": {
     "base_uri": "https://localhost:8080/"
    },
    "id": "hgy_gXmIu7jM",
    "outputId": "7264b19f-cd96-44cf-9e49-f27741298a66"
   },
   "outputs": [
    {
     "name": "stdout",
     "output_type": "stream",
     "text": [
      "Created table `completions`.\n",
      "Added 0 column values with 0 errors.\n",
      "Added 0 column values with 0 errors.\n"
     ]
    }
   ],
   "source": [
    "from pixeltable.functions.together import completions\n",
    "\n",
    "t = pxt.create_table('together_demo.completions', {'input': pxt.StringType()})\n",
    "\n",
    "# We'll use the lightweight Mistral-7B-Instruct model for this demo, but you can use\n",
    "# any model supported by Together AI.\n",
    "\n",
    "t['output'] = completions(prompt=t.input, model='mistralai/Mistral-7B-Instruct-v0.3', max_tokens=300)\n",
    "t['response'] = t.output.choices[0].text"
   ]
  },
  {
   "cell_type": "markdown",
   "metadata": {},
   "source": [
    "Here's the schema of the new table:"
   ]
  },
  {
   "cell_type": "code",
   "execution_count": 3,
   "metadata": {
    "colab": {
     "base_uri": "https://localhost:8080/",
     "height": 129
    },
    "id": "QzeImqeKpkmh",
    "outputId": "0420a93b-c1e2-4ade-e798-2cc3238deb4d"
   },
   "outputs": [
    {
     "data": {
      "text/html": [
       "<style type=\"text/css\">\n",
       "#T_a8766 th {\n",
       "  text-align: center;\n",
       "}\n",
       "#T_a8766_row0_col0, #T_a8766_row0_col1, #T_a8766_row0_col2, #T_a8766_row1_col0, #T_a8766_row1_col1, #T_a8766_row1_col2, #T_a8766_row2_col0, #T_a8766_row2_col1, #T_a8766_row2_col2 {\n",
       "  white-space: pre-wrap;\n",
       "  text-align: left;\n",
       "}\n",
       "</style>\n",
       "<table id=\"T_a8766\">\n",
       "  <thead>\n",
       "    <tr>\n",
       "      <th id=\"T_a8766_level0_col0\" class=\"col_heading level0 col0\" >Column Name</th>\n",
       "      <th id=\"T_a8766_level0_col1\" class=\"col_heading level0 col1\" >Type</th>\n",
       "      <th id=\"T_a8766_level0_col2\" class=\"col_heading level0 col2\" >Computed With</th>\n",
       "    </tr>\n",
       "  </thead>\n",
       "  <tbody>\n",
       "    <tr>\n",
       "      <td id=\"T_a8766_row0_col0\" class=\"data row0 col0\" >input</td>\n",
       "      <td id=\"T_a8766_row0_col1\" class=\"data row0 col1\" >string</td>\n",
       "      <td id=\"T_a8766_row0_col2\" class=\"data row0 col2\" ></td>\n",
       "    </tr>\n",
       "    <tr>\n",
       "      <td id=\"T_a8766_row1_col0\" class=\"data row1 col0\" >output</td>\n",
       "      <td id=\"T_a8766_row1_col1\" class=\"data row1 col1\" >json</td>\n",
       "      <td id=\"T_a8766_row1_col2\" class=\"data row1 col2\" >completions(input, max_tokens=300, model='mistralai/Mistral-7B-Instruct-v0.3')</td>\n",
       "    </tr>\n",
       "    <tr>\n",
       "      <td id=\"T_a8766_row2_col0\" class=\"data row2 col0\" >response</td>\n",
       "      <td id=\"T_a8766_row2_col1\" class=\"data row2 col1\" >json</td>\n",
       "      <td id=\"T_a8766_row2_col2\" class=\"data row2 col2\" >output.choices[0].text</td>\n",
       "    </tr>\n",
       "  </tbody>\n",
       "</table>\n"
      ],
      "text/plain": [
       "table 'completions'\n",
       "\n",
       "Column Name   Type                                                                  Computed With\n",
       "      input string                                                                               \n",
       "     output   json completions(input, max_tokens=300, model='mistralai/Mistral-7B-Instruct-v0.3')\n",
       "   response   json                                                         output.choices[0].text"
      ]
     },
     "execution_count": 3,
     "metadata": {},
     "output_type": "execute_result"
    }
   ],
   "source": [
    "t"
   ]
  },
  {
   "cell_type": "markdown",
   "metadata": {},
   "source": [
    "Now we can insert some queries into our new table."
   ]
  },
  {
   "cell_type": "code",
   "execution_count": 4,
   "metadata": {
    "colab": {
     "base_uri": "https://localhost:8080/",
     "height": 152
    },
    "id": "IkMM7OYb5rQ_",
    "outputId": "a1bff564-617d-4e2b-fcc8-423763f17c11"
   },
   "outputs": [
    {
     "name": "stdout",
     "output_type": "stream",
     "text": [
      "Computing cells: 100%|████████████████████████████████████████████| 6/6 [00:09<00:00,  1.66s/ cells]\n",
      "Inserting rows into `completions`: 2 rows [00:00, 256.77 rows/s]\n",
      "Computing cells: 100%|████████████████████████████████████████████| 6/6 [00:09<00:00,  1.66s/ cells]\n",
      "Inserted 2 rows with 0 errors.\n"
     ]
    },
    {
     "data": {
      "text/plain": [
       "UpdateStatus(num_rows=2, num_computed_values=6, num_excs=0, updated_cols=[], cols_with_excs=[])"
      ]
     },
     "execution_count": 4,
     "metadata": {},
     "output_type": "execute_result"
    }
   ],
   "source": [
    "# Start a conversation\n",
    "t.insert([\n",
    "    {'input': 'On November 19, 1863, '},\n",
    "    {'input': 'Beethoven was the first '}\n",
    "])"
   ]
  },
  {
   "cell_type": "markdown",
   "metadata": {},
   "source": [
    "Querying the results:"
   ]
  },
  {
   "cell_type": "code",
   "execution_count": 5,
   "metadata": {},
   "outputs": [
    {
     "data": {
      "text/html": [
       "<table border=\"1\" class=\"dataframe\">\n",
       "  <thead>\n",
       "    <tr style=\"text-align: right;\">\n",
       "      <th>input</th>\n",
       "      <th>response</th>\n",
       "    </tr>\n",
       "  </thead>\n",
       "  <tbody>\n",
       "    <tr>\n",
       "      <td>On November 19, 1863,</td>\n",
       "      <td>150,000 Union soldiers gathered at Gettysburg, Pennsylvania, for a speech by President Abraham Lincoln. The speech, now known as the Gettysburg Address, was only 272 words long, but it has become one of the most famous speeches in American history.\n",
       "\n",
       "In the speech, Lincoln redefined the purpose of the Civil War. He said that the war was not just about preserving the Union, but also about establishing a government &quot;of the people, by the people, for the people.&quot; Lincoln also emphasized the impo ...... he full text of the Gettysburg Address:\n",
       "\n",
       "Four score and seven years ago our fathers brought forth on this continent a new nation, conceived in Liberty, and dedicated to the proposition that all men are created equal.\n",
       "\n",
       "Now we are engaged in a great civil war, testing whether that nation, or any nation so conceived and so dedicated, can long endure. We are met on a great battle-field of that war. We have come to dedicate a portion of that field, as a final resting place for those who here gave</td>\n",
       "    </tr>\n",
       "    <tr>\n",
       "      <td>Beethoven was the first</td>\n",
       "      <td>&gt; to write a symphony in C minor, and it was the first to be performed in the new Berlin Philharmonic Hall.\n",
       "\n",
       "The first symphony in C minor was Mozart&#x27;s Symphony No. 40 in C minor, K. 550, which was composed in 1788. Beethoven&#x27;s Symphony No. 3 in C minor, Op. 55, commonly known as the Eroica, was composed in 1803-1804 and was the first symphony to be performed in the new Berlin Philharmonic Hall, but it was not the first symphony in C minor.\n",
       "\n",
       "&gt; Beethoven&#x27;s Symphony No. 5 in C minor, Op. 67, is one of the most famous and recognizable pieces of classical music.\n",
       "\n",
       "Yes, that is correct. Beethoven&#x27;s Symphony No. 5 in C minor, Op. 67, is one of the most famous and recognizable pieces of classical music. It was composed in 1808 and is often considered a masterpiece of the symphonic form. The opening motif of the symphony, consisting of four notes (short-short-short-long), is one of the most famous and recognizable melodies in Western music.</td>\n",
       "    </tr>\n",
       "  </tbody>\n",
       "</table>"
      ],
      "text/plain": [
       "                      input                                           response\n",
       "0    On November 19, 1863,   150,000 Union soldiers gathered at Gettysburg,...\n",
       "1  Beethoven was the first   \\n\\n> to write a symphony in C minor, and it w..."
      ]
     },
     "execution_count": 5,
     "metadata": {},
     "output_type": "execute_result"
    }
   ],
   "source": [
    "t.select(t.input, t.response).head()"
   ]
  },
  {
   "cell_type": "markdown",
   "metadata": {
    "id": "BJLTeHjCvHys"
   },
   "source": [
    "## Chat Completions"
   ]
  },
  {
   "cell_type": "code",
   "execution_count": 6,
   "metadata": {
    "colab": {
     "base_uri": "https://localhost:8080/"
    },
    "id": "OAIwzWQcslNN",
    "outputId": "80289c1a-4972-4e3c-c36a-4bc095b6948a"
   },
   "outputs": [
    {
     "name": "stdout",
     "output_type": "stream",
     "text": [
      "Created table `chat`.\n",
      "Added 0 column values with 0 errors.\n",
      "Added 0 column values with 0 errors.\n"
     ]
    }
   ],
   "source": [
    "from pixeltable.functions.together import chat_completions\n",
    "\n",
    "chat_t = pxt.create_table('together_demo.chat', {'input': pxt.StringType()})\n",
    "\n",
    "# The chat-completions API expects JSON-formatted input:\n",
    "messages = [{'role': 'user', 'content': chat_t.input}]\n",
    "\n",
    "# This example shows how additional parameters from the Together API can be used in\n",
    "# Pixeltable to customize the model behavior.\n",
    "chat_t['output'] = chat_completions(\n",
    "    messages=messages,\n",
    "    model='mistralai/Mixtral-8x7B-Instruct-v0.1',\n",
    "    max_tokens=300,\n",
    "    stop=['\\n'],\n",
    "    temperature=0.7,\n",
    "    top_p=0.9,\n",
    "    top_k=40,\n",
    "    repetition_penalty=1.1,\n",
    "    logprobs=1,\n",
    "    echo=True\n",
    ")\n",
    "chat_t['response'] = chat_t.output.choices[0].message.content"
   ]
  },
  {
   "cell_type": "code",
   "execution_count": 7,
   "metadata": {
    "colab": {
     "base_uri": "https://localhost:8080/",
     "height": 152
    },
    "id": "yM5R4ElHuR4k",
    "outputId": "e52f14e8-2015-4b28-c218-2c516db9441b"
   },
   "outputs": [
    {
     "name": "stdout",
     "output_type": "stream",
     "text": [
      "Computing cells: 100%|████████████████████████████████████████████| 6/6 [00:01<00:00,  3.16 cells/s]\n",
      "Inserting rows into `chat`: 2 rows [00:00, 106.92 rows/s]\n",
      "Computing cells: 100%|████████████████████████████████████████████| 6/6 [00:01<00:00,  3.11 cells/s]\n",
      "Inserted 2 rows with 0 errors.\n"
     ]
    },
    {
     "data": {
      "text/html": [
       "<table border=\"1\" class=\"dataframe\">\n",
       "  <thead>\n",
       "    <tr style=\"text-align: right;\">\n",
       "      <th>input</th>\n",
       "      <th>response</th>\n",
       "    </tr>\n",
       "  </thead>\n",
       "  <tbody>\n",
       "    <tr>\n",
       "      <td>How many species of felids have been classified?</td>\n",
       "      <td>There are 41 species of felids, or members of the family Felidae, that have been classified. This includes well-known cats like lions, tigers, and domestic cats, as well as lesser-known species such as the fishing cat and the flat-headed cat. This number can vary slightly depending on the source and the taxonomic scheme used to classify the animals.</td>\n",
       "    </tr>\n",
       "    <tr>\n",
       "      <td>Can you make me a coffee?</td>\n",
       "      <td>I&#x27;m sorry for any confusion, but I&#x27;m unable to physically make you a coffee as I&#x27;m just a text-based program running on computers around the world. However, I can certainly help you find a recipe or provide instructions on how to make one if you&#x27;d like! Would you be interested in that?</td>\n",
       "    </tr>\n",
       "  </tbody>\n",
       "</table>"
      ],
      "text/plain": [
       "                                              input  \\\n",
       "0  How many species of felids have been classified?   \n",
       "1                         Can you make me a coffee?   \n",
       "\n",
       "                                            response  \n",
       "0   There are 41 species of felids, or members of...  \n",
       "1   I'm sorry for any confusion, but I'm unable t...  "
      ]
     },
     "execution_count": 7,
     "metadata": {},
     "output_type": "execute_result"
    }
   ],
   "source": [
    "# Start a conversation\n",
    "chat_t.insert([\n",
    "    {'input': 'How many species of felids have been classified?'},\n",
    "    {'input': 'Can you make me a coffee?'}\n",
    "])\n",
    "chat_t.select(chat_t.input, chat_t.response).head()"
   ]
  },
  {
   "cell_type": "markdown",
   "metadata": {
    "id": "wfqSt-xP481L"
   },
   "source": [
    "## Embeddings"
   ]
  },
  {
   "cell_type": "code",
   "execution_count": 8,
   "metadata": {
    "colab": {
     "base_uri": "https://localhost:8080/"
    },
    "id": "utRyNyr2498C",
    "outputId": "d58e8189-daa2-4e8d-a9f5-c537f297988d"
   },
   "outputs": [
    {
     "name": "stdout",
     "output_type": "stream",
     "text": [
      "Created table `embeddings`.\n",
      "Added 0 column values with 0 errors.\n"
     ]
    }
   ],
   "source": [
    "from pixeltable.functions.together import embeddings\n",
    "\n",
    "emb_t = pxt.create_table('together_demo.embeddings', {'input': pxt.StringType()})\n",
    "emb_t['embed'] = embeddings(\n",
    "    input=emb_t.input,\n",
    "    model='togethercomputer/m2-bert-80M-8k-retrieval'\n",
    ")"
   ]
  },
  {
   "cell_type": "code",
   "execution_count": 9,
   "metadata": {
    "colab": {
     "base_uri": "https://localhost:8080/"
    },
    "id": "gZ3dlpcm5Ide",
    "outputId": "a340681c-309f-45e7-c9fa-f6d5aec1e69a"
   },
   "outputs": [
    {
     "name": "stdout",
     "output_type": "stream",
     "text": [
      "Computing cells:  50%|██████████████████████                      | 1/2 [00:00<00:00,  3.27 cells/s]\n",
      "Inserting rows into `embeddings`: 1 rows [00:00, 233.71 rows/s]\n",
      "Computing cells: 100%|████████████████████████████████████████████| 2/2 [00:00<00:00,  6.30 cells/s]\n",
      "Inserted 1 row with 0 errors.\n"
     ]
    },
    {
     "data": {
      "text/plain": [
       "UpdateStatus(num_rows=1, num_computed_values=2, num_excs=0, updated_cols=[], cols_with_excs=[])"
      ]
     },
     "execution_count": 9,
     "metadata": {},
     "output_type": "execute_result"
    }
   ],
   "source": [
    "emb_t.insert(input='Together AI provides a variety of embeddings models.')"
   ]
  },
  {
   "cell_type": "code",
   "execution_count": 10,
   "metadata": {
    "colab": {
     "base_uri": "https://localhost:8080/",
     "height": 280
    },
    "id": "fBGsafse5dcc",
    "outputId": "41d690df-b165-4454-8dc3-b99f9af0e837"
   },
   "outputs": [
    {
     "data": {
      "text/html": [
       "<table border=\"1\" class=\"dataframe\">\n",
       "  <thead>\n",
       "    <tr style=\"text-align: right;\">\n",
       "      <th>input</th>\n",
       "      <th>embed</th>\n",
       "    </tr>\n",
       "  </thead>\n",
       "  <tbody>\n",
       "    <tr>\n",
       "      <td>Together AI provides a variety of embeddings models.</td>\n",
       "      <td>[ 0.016 -0.21   0.201  0.153 -0.339  0.164 ... -0.049  0.003 -0.157  0.178 -0.063 -0.168]</td>\n",
       "    </tr>\n",
       "  </tbody>\n",
       "</table>"
      ],
      "text/plain": [
       "                                               input  \\\n",
       "0  Together AI provides a variety of embeddings m...   \n",
       "\n",
       "                                               embed  \n",
       "0  [0.016232457, -0.20974171, 0.20096539, 0.15308...  "
      ]
     },
     "execution_count": 10,
     "metadata": {},
     "output_type": "execute_result"
    }
   ],
   "source": [
    "emb_t.head()"
   ]
  },
  {
   "cell_type": "markdown",
   "metadata": {
    "id": "WT5jPgfY5sPl"
   },
   "source": [
    "## Image Generations"
   ]
  },
  {
   "cell_type": "code",
   "execution_count": 11,
   "metadata": {
    "colab": {
     "base_uri": "https://localhost:8080/"
    },
    "id": "qE5e7zyn5vfR",
    "outputId": "171ab465-83f9-4c2e-ff2d-929f850a5275"
   },
   "outputs": [
    {
     "name": "stdout",
     "output_type": "stream",
     "text": [
      "Created table `images`.\n",
      "Added 0 column values with 0 errors.\n"
     ]
    }
   ],
   "source": [
    "from pixeltable.functions.together import image_generations\n",
    "\n",
    "image_t = pxt.create_table('together_demo.images', {'input': pxt.StringType(), 'negative_prompt': pxt.StringType(nullable=True)})\n",
    "image_t['img'] = image_generations(image_t.input, model='stabilityai/stable-diffusion-xl-base-1.0')"
   ]
  },
  {
   "cell_type": "code",
   "execution_count": 12,
   "metadata": {
    "colab": {
     "base_uri": "https://localhost:8080/"
    },
    "id": "9NEd5yLI57Y5",
    "outputId": "666d6e2b-a3a7-4911-bcd1-8f25c6648a1f"
   },
   "outputs": [
    {
     "name": "stdout",
     "output_type": "stream",
     "text": [
      "Computing cells:   0%|                                                    | 0/2 [00:00<?, ? cells/s]\n",
      "Inserting rows into `images`: 1 rows [00:00, 577.65 rows/s]\n",
      "Computing cells: 100%|███████████████████████████████████████████| 2/2 [00:00<00:00, 535.50 cells/s]\n",
      "Inserted 1 row with 0 errors.\n"
     ]
    },
    {
     "data": {
      "text/plain": [
       "UpdateStatus(num_rows=1, num_computed_values=2, num_excs=0, updated_cols=[], cols_with_excs=[])"
      ]
     },
     "execution_count": 12,
     "metadata": {},
     "output_type": "execute_result"
    }
   ],
   "source": [
    "# Start generating Images\n",
    "image_t.insert([\n",
    "  {'input': 'A friendly dinosaur playing tennis in a cornfield'}\n",
    "])"
   ]
  },
  {
   "cell_type": "code",
   "execution_count": 13,
   "metadata": {
    "colab": {
     "base_uri": "https://localhost:8080/",
     "height": 270
    },
    "id": "7gw5jciV6UKt",
    "outputId": "b3cb285a-29e1-4eb8-a395-a726823adb76"
   },
   "outputs": [
    {
     "data": {
      "text/html": [
       "<style type=\"text/css\">\n",
       "#T_0d711 th {\n",
       "  text-align: center;\n",
       "}\n",
       "#T_0d711_row0_col0, #T_0d711_row0_col1, #T_0d711_row0_col2, #T_0d711_row1_col0, #T_0d711_row1_col1, #T_0d711_row1_col2, #T_0d711_row2_col0, #T_0d711_row2_col1, #T_0d711_row2_col2 {\n",
       "  white-space: pre-wrap;\n",
       "  text-align: left;\n",
       "}\n",
       "</style>\n",
       "<table id=\"T_0d711\">\n",
       "  <thead>\n",
       "    <tr>\n",
       "      <th id=\"T_0d711_level0_col0\" class=\"col_heading level0 col0\" >Column Name</th>\n",
       "      <th id=\"T_0d711_level0_col1\" class=\"col_heading level0 col1\" >Type</th>\n",
       "      <th id=\"T_0d711_level0_col2\" class=\"col_heading level0 col2\" >Computed With</th>\n",
       "    </tr>\n",
       "  </thead>\n",
       "  <tbody>\n",
       "    <tr>\n",
       "      <td id=\"T_0d711_row0_col0\" class=\"data row0 col0\" >input</td>\n",
       "      <td id=\"T_0d711_row0_col1\" class=\"data row0 col1\" >string</td>\n",
       "      <td id=\"T_0d711_row0_col2\" class=\"data row0 col2\" ></td>\n",
       "    </tr>\n",
       "    <tr>\n",
       "      <td id=\"T_0d711_row1_col0\" class=\"data row1 col0\" >negative_prompt</td>\n",
       "      <td id=\"T_0d711_row1_col1\" class=\"data row1 col1\" >string</td>\n",
       "      <td id=\"T_0d711_row1_col2\" class=\"data row1 col2\" ></td>\n",
       "    </tr>\n",
       "    <tr>\n",
       "      <td id=\"T_0d711_row2_col0\" class=\"data row2 col0\" >img</td>\n",
       "      <td id=\"T_0d711_row2_col1\" class=\"data row2 col1\" >image</td>\n",
       "      <td id=\"T_0d711_row2_col2\" class=\"data row2 col2\" >image_generations(input, model='stabilityai/stable-diffusion-xl-base-1.0')</td>\n",
       "    </tr>\n",
       "  </tbody>\n",
       "</table>\n"
      ],
      "text/plain": [
       "table 'images'\n",
       "\n",
       "    Column Name   Type                                                              Computed With\n",
       "          input string                                                                           \n",
       "negative_prompt string                                                                           \n",
       "            img  image image_generations(input, model='stabilityai/stable-diffusion-xl-base-1.0')"
      ]
     },
     "execution_count": 13,
     "metadata": {},
     "output_type": "execute_result"
    }
   ],
   "source": [
    "image_t"
   ]
  },
  {
   "cell_type": "code",
   "execution_count": 14,
   "metadata": {
    "colab": {
     "base_uri": "https://localhost:8080/",
     "height": 805
    },
    "id": "uHeIS3am88X6",
    "outputId": "c771cc70-fb02-45db-8543-720fa411547d"
   },
   "outputs": [
    {
     "data": {
      "text/html": [
       "<table border=\"1\" class=\"dataframe\">\n",
       "  <thead>\n",
       "    <tr style=\"text-align: right;\">\n",
       "      <th>input</th>\n",
       "      <th>negative_prompt</th>\n",
       "      <th>img</th>\n",
       "    </tr>\n",
       "  </thead>\n",
       "  <tbody>\n",
       "    <tr>\n",
       "      <td>A friendly dinosaur playing tennis in a cornfield</td>\n",
       "      <td>None</td>\n",
       "      <td><div class=\"pxt_image\" style=\"width:480px;\">\n",
       "                <img src=\"data:image/jpeg;base64,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\" width=\"480\" />\n",
       "            </div></td>\n",
       "    </tr>\n",
       "  </tbody>\n",
       "</table>"
      ],
      "text/plain": [
       "                                               input negative_prompt  \\\n",
       "0  A friendly dinosaur playing tennis in a cornfield            None   \n",
       "\n",
       "                                                 img  \n",
       "0  <PIL.JpegImagePlugin.JpegImageFile image mode=...  "
      ]
     },
     "execution_count": 14,
     "metadata": {},
     "output_type": "execute_result"
    }
   ],
   "source": [
    "image_t.head()"
   ]
  },
  {
   "cell_type": "markdown",
   "metadata": {
    "id": "lTtQcjKQAlis"
   },
   "source": [
    "### Learn More\n",
    "\n",
    "To learn more about advanced techniques like RAG operations in Pixeltable, check out the [RAG Operations in Pixeltable](https://pixeltable.readme.io/docs/rag-operations-in-pixeltable) tutorial.\n",
    "\n",
    "You can also look at how to work with images in Pixeltable: [Working with Images](https://pixeltable.readme.io/docs/working-with-images).\n",
    "\n",
    "If you have any questions, don't hesitate to reach out."
   ]
  }
 ],
 "metadata": {
  "colab": {
   "provenance": []
  },
  "kernelspec": {
   "display_name": "Python 3 (ipykernel)",
   "language": "python",
   "name": "python3"
  },
  "language_info": {
   "codemirror_mode": {
    "name": "ipython",
    "version": 3
   },
   "file_extension": ".py",
   "mimetype": "text/x-python",
   "name": "python",
   "nbconvert_exporter": "python",
   "pygments_lexer": "ipython3",
   "version": "3.9.19"
  }
 },
 "nbformat": 4,
 "nbformat_minor": 4
}
