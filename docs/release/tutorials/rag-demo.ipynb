{
 "cells": [
  {
   "cell_type": "markdown",
   "metadata": {},
   "source": [
    "[![Kaggle](https://kaggle.com/static/images/open-in-kaggle.svg)](https://kaggle.com/kernels/welcome?src=https://github.com/pixeltable/pixeltable/blob/master/docs/release/tutorials/rag-demo.ipynb)&nbsp;&nbsp;\n",
    "[![Colab](https://colab.research.google.com/assets/colab-badge.svg)](https://colab.research.google.com/github/pixeltable/pixeltable/blob/master/docs/release/tutorials/rag-demo.ipynb)\n",
    "\n",
    "# Document Indexing and RAG"
   ]
  },
  {
   "cell_type": "markdown",
   "metadata": {},
   "source": [
    "In this tutorial, we'll demonstrate how RAG operations can be implemented in Pixeltable. In particular, we'll develop a RAG application that summarizes a collection of PDF documents and uses ChatGPT to answer questions about them.\n",
    "\n",
    "In a traditional RAG workflow, such operations might be implemented as a Python script that runs on a periodic schedule or in response to certain events. In Pixeltable, they are implemented as persistent tables that are updated automatically and incrementally as new data becomes available.\n",
    "\n",
    "**If you are running this tutorial in Colab:**\n",
    "In order to make the tutorial run a bit snappier, let's switch to a GPU-equipped instance for this Colab session. To do that, click on the `Runtime -> Change runtime type` menu item at the top, then select the `GPU` radio button and click on `Save`.\n",
    "\n",
    "We first set up our OpenAI API key:"
   ]
  },
  {
   "cell_type": "code",
   "execution_count": 1,
   "metadata": {},
   "outputs": [
    {
     "name": "stdin",
     "output_type": "stream",
     "text": [
      "OpenAI API Key: ········\n"
     ]
    }
   ],
   "source": [
    "import os\n",
    "import getpass\n",
    "if 'OPENAI_API_KEY' not in os.environ:\n",
    "    os.environ['OPENAI_API_KEY'] = getpass.getpass('OpenAI API Key:')"
   ]
  },
  {
   "cell_type": "markdown",
   "metadata": {},
   "source": [
    "We then install the packages we need for this tutorial and then set up our environment."
   ]
  },
  {
   "cell_type": "code",
   "execution_count": null,
   "metadata": {},
   "outputs": [],
   "source": [
    "%pip install -q pixeltable sentence-transformers tiktoken openai openpyxl"
   ]
  },
  {
   "cell_type": "code",
   "execution_count": 2,
   "metadata": {
    "metadata": {}
   },
   "outputs": [
    {
     "name": "stdout",
     "output_type": "stream",
     "text": [
      "Connected to Pixeltable database at: postgresql://postgres:@/pixeltable?host=/Users/asiegel/.pixeltable/pgdata\n",
      "Created directory `rag_demo`.\n"
     ]
    }
   ],
   "source": [
    "import numpy as np\n",
    "import pixeltable as pxt\n",
    "\n",
    "pxt.drop_dir('rag_demo', force=True)  # Ensure a clean slate for the demo\n",
    "pxt.create_dir('rag_demo')"
   ]
  },
  {
   "cell_type": "markdown",
   "metadata": {},
   "source": [
    "Next we'll create a table containing the sample questions we want to answer. The questions are stored in an Excel spreadsheet, along with a set of \"ground truth\" answers to help evaluate our model pipeline. We can use Pixeltable's handy `import_excel()` utility to load them."
   ]
  },
  {
   "cell_type": "code",
   "execution_count": 3,
   "metadata": {},
   "outputs": [
    {
     "name": "stdout",
     "output_type": "stream",
     "text": [
      "Created table `queries`.\n",
      "Computing cells:   0%|                                                   | 0/16 [00:00<?, ? cells/s]\n",
      "Inserting rows into `queries`: 8 rows [00:00, 2892.12 rows/s]\n",
      "Computing cells: 100%|████████████████████████████████████████| 16/16 [00:00<00:00, 3342.41 cells/s]\n",
      "Inserted 8 rows with 0 errors.\n"
     ]
    }
   ],
   "source": [
    "# download the spreadsheet\n",
    "import urllib.request\n",
    "base = 'https://github.com/pixeltable/pixeltable/raw/master/docs/source/data/rag-demo/'\n",
    "qa_url = base + 'Q-A-Rag.xlsx'\n",
    "qa_filename, _ = urllib.request.urlretrieve(qa_url)\n",
    "\n",
    "# and create a table from it\n",
    "queries_t = pxt.io.import_excel('rag_demo.queries', qa_filename)"
   ]
  },
  {
   "cell_type": "code",
   "execution_count": 4,
   "metadata": {},
   "outputs": [
    {
     "data": {
      "text/html": [
       "<table border=\"1\" class=\"dataframe\">\n",
       "  <thead>\n",
       "    <tr style=\"text-align: right;\">\n",
       "      <th>S__No_</th>\n",
       "      <th>Question</th>\n",
       "      <th>correct_answer</th>\n",
       "    </tr>\n",
       "  </thead>\n",
       "  <tbody>\n",
       "    <tr>\n",
       "      <td>1</td>\n",
       "      <td>What is roughly the current mortage rate?</td>\n",
       "      <td>0.07</td>\n",
       "    </tr>\n",
       "    <tr>\n",
       "      <td>2</td>\n",
       "      <td>What is the current dividend yield for Alphabet Inc. (\\$GOOGL)?</td>\n",
       "      <td>0.0046</td>\n",
       "    </tr>\n",
       "    <tr>\n",
       "      <td>3</td>\n",
       "      <td>What is the market capitalization of Alphabet?</td>\n",
       "      <td>\\$2182.8 Billion</td>\n",
       "    </tr>\n",
       "    <tr>\n",
       "      <td>4</td>\n",
       "      <td>What are the latest financial metrics for Accenture PLC?</td>\n",
       "      <td>missed consensus forecasts and strong total bookings rising by 22% annually</td>\n",
       "    </tr>\n",
       "    <tr>\n",
       "      <td>5</td>\n",
       "      <td>What is the overall latest rating for Amazon.com from analysts?</td>\n",
       "      <td>SELL</td>\n",
       "    </tr>\n",
       "    <tr>\n",
       "      <td>6</td>\n",
       "      <td>What is the operating cash flow of Amazon in Q1 2024?</td>\n",
       "      <td>18,989 Million</td>\n",
       "    </tr>\n",
       "    <tr>\n",
       "      <td>7</td>\n",
       "      <td>What is the expected EPS for Nvidia in Q1 2026?</td>\n",
       "      <td>0.73 EPS</td>\n",
       "    </tr>\n",
       "    <tr>\n",
       "      <td>8</td>\n",
       "      <td>What are the main reasons to buy Nvidia?</td>\n",
       "      <td>Datacenter, GPUs Demands, Self-driving, and cash-flow</td>\n",
       "    </tr>\n",
       "  </tbody>\n",
       "</table>"
      ],
      "text/plain": [
       "   S__No_                                           Question  \\\n",
       "0       1          What is roughly the current mortage rate?   \n",
       "1       2  What is the current dividend yield for Alphabe...   \n",
       "2       3     What is the market capitalization of Alphabet?   \n",
       "3       4  What are the latest financial metrics for Acce...   \n",
       "4       5  What is the overall latest rating for Amazon.c...   \n",
       "5       6  What is the operating cash flow of Amazon in Q...   \n",
       "6       7    What is the expected EPS for Nvidia in Q1 2026?   \n",
       "7       8           What are the main reasons to buy Nvidia?   \n",
       "\n",
       "                                      correct_answer  \n",
       "0                                               0.07  \n",
       "1                                             0.0046  \n",
       "2                                    $2182.8 Billion  \n",
       "3  missed consensus forecasts and strong total bo...  \n",
       "4                                               SELL  \n",
       "5                                     18,989 Million  \n",
       "6                                           0.73 EPS  \n",
       "7  Datacenter, GPUs Demands, Self-driving, and ca...  "
      ]
     },
     "execution_count": 4,
     "metadata": {},
     "output_type": "execute_result"
    }
   ],
   "source": [
    "queries_t.head()"
   ]
  },
  {
   "cell_type": "markdown",
   "metadata": {},
   "source": [
    "## Outline\n",
    "\n",
    "There are two major parts to our RAG application:\n",
    "\n",
    "1. Document Indexing: Load the documents, split them into chunks, and index them using a vector embedding.\n",
    "2. Querying: For each question on our list, do a top-k lookup for the most relevant chunks, use them to construct a ChatGPT prompt, and send the enriched prompt to an LLM.\n",
    "\n",
    "We'll implement both parts in Pixeltable.\n",
    "\n",
    "## 1. Document Indexing\n",
    "\n",
    "All data in Pixeltable, including documents, resides in tables.\n",
    "\n",
    "Tables are persistent containers that can serve as the store of record for your data. Since we are starting from scratch, we will start with an empty table `rag_demo.documents` with a single column, `document`."
   ]
  },
  {
   "cell_type": "code",
   "execution_count": 5,
   "metadata": {
    "ExecuteTime": {
     "end_time": "2024-04-11T20:58:43.144688Z",
     "start_time": "2024-04-11T20:58:42.912418Z"
    },
    "metadata": {}
   },
   "outputs": [
    {
     "name": "stdout",
     "output_type": "stream",
     "text": [
      "Created table `documents`.\n"
     ]
    },
    {
     "data": {
      "text/html": [
       "<style type=\"text/css\">\n",
       "#T_81bb3 th {\n",
       "  text-align: center;\n",
       "}\n",
       "#T_81bb3_row0_col0, #T_81bb3_row0_col1, #T_81bb3_row0_col2 {\n",
       "  white-space: pre-wrap;\n",
       "  text-align: left;\n",
       "}\n",
       "</style>\n",
       "<table id=\"T_81bb3\">\n",
       "  <thead>\n",
       "    <tr>\n",
       "      <th id=\"T_81bb3_level0_col0\" class=\"col_heading level0 col0\" >Column Name</th>\n",
       "      <th id=\"T_81bb3_level0_col1\" class=\"col_heading level0 col1\" >Type</th>\n",
       "      <th id=\"T_81bb3_level0_col2\" class=\"col_heading level0 col2\" >Computed With</th>\n",
       "    </tr>\n",
       "  </thead>\n",
       "  <tbody>\n",
       "    <tr>\n",
       "      <td id=\"T_81bb3_row0_col0\" class=\"data row0 col0\" >document</td>\n",
       "      <td id=\"T_81bb3_row0_col1\" class=\"data row0 col1\" >document</td>\n",
       "      <td id=\"T_81bb3_row0_col2\" class=\"data row0 col2\" ></td>\n",
       "    </tr>\n",
       "  </tbody>\n",
       "</table>\n"
      ],
      "text/plain": [
       "table 'documents'\n",
       "\n",
       "Column Name     Type Computed With\n",
       "   document document              "
      ]
     },
     "execution_count": 5,
     "metadata": {},
     "output_type": "execute_result"
    }
   ],
   "source": [
    "documents_t = pxt.create_table('rag_demo.documents', {'document': pxt.DocumentType()})\n",
    "documents_t"
   ]
  },
  {
   "cell_type": "markdown",
   "metadata": {
    "metadata": {}
   },
   "source": [
    "Next, we'll insert our first few source documents into the new table. We'll leave the rest for later, in order to show how to update the indexed document base incrementally."
   ]
  },
  {
   "cell_type": "code",
   "execution_count": 6,
   "metadata": {},
   "outputs": [],
   "source": [
    "document_urls = [\n",
    "    base + 'Argus-Market-Digest-June-2024.pdf',\n",
    "    base + 'Argus-Market-Watch-June-2024.pdf',\n",
    "    base + 'Company-Research-Alphabet.pdf',\n",
    "    base + 'Jefferson-Amazon.pdf',\n",
    "    base + 'Mclean-Equity-Alphabet.pdf',\n",
    "    base + 'Zacks-Nvidia-Repeport.pdf',\n",
    "]"
   ]
  },
  {
   "cell_type": "code",
   "execution_count": 7,
   "metadata": {
    "metadata": {},
    "scrolled": true
   },
   "outputs": [
    {
     "name": "stdout",
     "output_type": "stream",
     "text": [
      "Inserting rows into `documents`: 3 rows [00:00, 1660.45 rows/s]\n",
      "Inserted 3 rows with 0 errors.\n"
     ]
    },
    {
     "data": {
      "text/html": [
       "<table border=\"1\" class=\"dataframe\">\n",
       "  <thead>\n",
       "    <tr style=\"text-align: right;\">\n",
       "      <th>document</th>\n",
       "    </tr>\n",
       "  </thead>\n",
       "  <tbody>\n",
       "    <tr>\n",
       "      <td><div class=\"pxt_document\" style=\"width:320px;\">\n",
       "            <a href=\"http://127.0.0.1:64872/Users/asiegel/.pixeltable/file_cache/ae7c9d97897f45f0b0ea4785da62513d_0_0f95e650ad40e78bbe8b427de7c9095a9b8fa24cf432708e6df3c69626e732be.pdf\">\n",
       "                \n",
       "                    <img style=\"object-fit: contain; border: 1px solid black;\" src=\"data:image/jpeg;base64,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\" />\n",
       "                \n",
       "            </a>\n",
       "        </div></td>\n",
       "    </tr>\n",
       "    <tr>\n",
       "      <td><div class=\"pxt_document\" style=\"width:320px;\">\n",
       "            <a href=\"http://127.0.0.1:64872/Users/asiegel/.pixeltable/file_cache/ae7c9d97897f45f0b0ea4785da62513d_0_a1ecd0cc068f969b047d54f4611ec5620f9b2fb92aeecb3a605106591e2e3980.pdf\">\n",
       "                \n",
       "                    <img style=\"object-fit: contain; border: 1px solid black;\" src=\"data:image/jpeg;base64,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\" />\n",
       "                \n",
       "            </a>\n",
       "        </div></td>\n",
       "    </tr>\n",
       "    <tr>\n",
       "      <td><div class=\"pxt_document\" style=\"width:320px;\">\n",
       "            <a href=\"http://127.0.0.1:64872/Users/asiegel/.pixeltable/file_cache/ae7c9d97897f45f0b0ea4785da62513d_0_66aa90e7cb16107a4d93664b7c4ae5f1619cf0b259780380e30f93f6127b7f02.pdf\">\n",
       "                \n",
       "                    <img style=\"object-fit: contain; border: 1px solid black;\" src=\"data:image/jpeg;base64,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\" />\n",
       "                \n",
       "            </a>\n",
       "        </div></td>\n",
       "    </tr>\n",
       "  </tbody>\n",
       "</table>"
      ],
      "text/plain": [
       "                                            document\n",
       "0  /Users/asiegel/.pixeltable/file_cache/ae7c9d97...\n",
       "1  /Users/asiegel/.pixeltable/file_cache/ae7c9d97...\n",
       "2  /Users/asiegel/.pixeltable/file_cache/ae7c9d97..."
      ]
     },
     "execution_count": 7,
     "metadata": {},
     "output_type": "execute_result"
    }
   ],
   "source": [
    "documents_t.insert({'document': url} for url in document_urls[:3])\n",
    "documents_t.show()"
   ]
  },
  {
   "cell_type": "markdown",
   "metadata": {},
   "source": [
    "In RAG applications, we often decompose documents into smaller units, or chunks, rather than treating each document as a single entity. In this example, we'll use Pixeltable's built-in `DocumentSplitter`, but in general the chunking methodology is highly customizable. `DocumentSplitter` has a variety of options for controlling the chunking behavior, and it's also possible to replace it entirely with a user-defined iterator (or an adapter for a third-party document splitter).\n",
    "\n",
    "In Pixeltable, operations such as chunking can be automated by creating **views** of the base `documents` table. A view is a virtual derived table: rather than adding data directly to the view, we define it via a computation over the base table. In this example, the view is defined by iteration over the chunks of a `DocumentSplitter`."
   ]
  },
  {
   "cell_type": "code",
   "execution_count": 8,
   "metadata": {},
   "outputs": [
    {
     "name": "stdout",
     "output_type": "stream",
     "text": [
      "Inserting rows into `chunks`: 41 rows [00:00, 9343.46 rows/s]\n",
      "Created view `chunks` with 41 rows, 0 exceptions.\n"
     ]
    }
   ],
   "source": [
    "from pixeltable.iterators import DocumentSplitter\n",
    "\n",
    "chunks_t = pxt.create_view(\n",
    "    'rag_demo.chunks',\n",
    "    documents_t,\n",
    "    iterator=DocumentSplitter.create(\n",
    "        document=documents_t.document,\n",
    "        separators='token_limit', limit=300)\n",
    ")"
   ]
  },
  {
   "cell_type": "markdown",
   "metadata": {},
   "source": [
    "Our `chunks` view now has 3 columns:"
   ]
  },
  {
   "cell_type": "code",
   "execution_count": 9,
   "metadata": {},
   "outputs": [
    {
     "data": {
      "text/html": [
       "<style type=\"text/css\">\n",
       "#T_e5a4f th {\n",
       "  text-align: center;\n",
       "}\n",
       "#T_e5a4f_row0_col0, #T_e5a4f_row0_col1, #T_e5a4f_row0_col2, #T_e5a4f_row1_col0, #T_e5a4f_row1_col1, #T_e5a4f_row1_col2, #T_e5a4f_row2_col0, #T_e5a4f_row2_col1, #T_e5a4f_row2_col2 {\n",
       "  white-space: pre-wrap;\n",
       "  text-align: left;\n",
       "}\n",
       "</style>\n",
       "<table id=\"T_e5a4f\">\n",
       "  <thead>\n",
       "    <tr>\n",
       "      <th id=\"T_e5a4f_level0_col0\" class=\"col_heading level0 col0\" >Column Name</th>\n",
       "      <th id=\"T_e5a4f_level0_col1\" class=\"col_heading level0 col1\" >Type</th>\n",
       "      <th id=\"T_e5a4f_level0_col2\" class=\"col_heading level0 col2\" >Computed With</th>\n",
       "    </tr>\n",
       "  </thead>\n",
       "  <tbody>\n",
       "    <tr>\n",
       "      <td id=\"T_e5a4f_row0_col0\" class=\"data row0 col0\" >pos</td>\n",
       "      <td id=\"T_e5a4f_row0_col1\" class=\"data row0 col1\" >int</td>\n",
       "      <td id=\"T_e5a4f_row0_col2\" class=\"data row0 col2\" ></td>\n",
       "    </tr>\n",
       "    <tr>\n",
       "      <td id=\"T_e5a4f_row1_col0\" class=\"data row1 col0\" >text</td>\n",
       "      <td id=\"T_e5a4f_row1_col1\" class=\"data row1 col1\" >string</td>\n",
       "      <td id=\"T_e5a4f_row1_col2\" class=\"data row1 col2\" ></td>\n",
       "    </tr>\n",
       "    <tr>\n",
       "      <td id=\"T_e5a4f_row2_col0\" class=\"data row2 col0\" >document</td>\n",
       "      <td id=\"T_e5a4f_row2_col1\" class=\"data row2 col1\" >document</td>\n",
       "      <td id=\"T_e5a4f_row2_col2\" class=\"data row2 col2\" ></td>\n",
       "    </tr>\n",
       "  </tbody>\n",
       "</table>\n"
      ],
      "text/plain": [
       "view 'chunks'\n",
       "\n",
       "Column Name     Type Computed With\n",
       "        pos      int              \n",
       "       text   string              \n",
       "   document document              "
      ]
     },
     "execution_count": 9,
     "metadata": {},
     "output_type": "execute_result"
    }
   ],
   "source": [
    "chunks_t"
   ]
  },
  {
   "cell_type": "markdown",
   "metadata": {},
   "source": [
    "- `text` is the chunk text produced by the `DocumentSplitter`\n",
    "- `pos` is a system-generated integer column, starting at 0, that provides a sequence number for each row\n",
    "- `document`, which is simply the `document` column from the base table `documents`. We won't need it here, but having access to the base table's columns (in effect a parent-child join) can be quite useful."
   ]
  },
  {
   "cell_type": "markdown",
   "metadata": {},
   "source": [
    "Notice that as soon as we created it, `chunks` was automatically populated with data from the existing documents in our base table. We can select the first 2 chunks from each document using common dataframe operations, in order to get a feel for what was extracted:"
   ]
  },
  {
   "cell_type": "code",
   "execution_count": 10,
   "metadata": {
    "metadata": {},
    "scrolled": true
   },
   "outputs": [
    {
     "data": {
      "text/html": [
       "<table border=\"1\" class=\"dataframe\">\n",
       "  <thead>\n",
       "    <tr style=\"text-align: right;\">\n",
       "      <th>pos</th>\n",
       "      <th>text</th>\n",
       "      <th>document</th>\n",
       "    </tr>\n",
       "  </thead>\n",
       "  <tbody>\n",
       "    <tr>\n",
       "      <td>0</td>\n",
       "      <td>MARKET DIGEST\n",
       "- 1 -\n",
       " FRIDAY, JUNE 21, 2024\n",
       "JUNE 20, DJIA: 39,134.76\n",
       "UP 299.90\n",
       "Independent Equity Research Since 1934\n",
       "AR\n",
       "GUS\n",
       "A R G U S  R E S E A R C H  C O M P A N Y  •  6 1  B R O A D W A Y  •  N E W  Y O R K ,  N. Y.  1 0 0 0 6  •  ( 2 1 2 )  4 2 5  -  7 5 0 0\n",
       "LONDON SALES &amp; MARKETING OFFICE TEL 011-44-207-256-8383 / FAX 011-44-207-256-8363\n",
       "®\n",
       "Good Morning. This is the Market Digest for Friday, June 21, 2024, with analysis of the financial markets and comments on\n",
       "Accenture plc.\n",
       "IN THIS ISSUE:\n",
       "*\n",
       "Growth Stock: Accenture plc: Shares rally on AI optimism (Jim Kelleher)\n",
       "MARKET REVIEW:\n",
       "Yogi Berra famously said &quot;When you come to a fork in the road, take it.&quot; Stock investors did just that on Thursday,\n",
       "pushing the Dow Jones Industrial Average higher by 0.77% but the Nasdaq Composite and</td>\n",
       "      <td><div class=\"pxt_document\" style=\"width:320px;\">\n",
       "            <a href=\"http://127.0.0.1:64872/Users/asiegel/.pixeltable/file_cache/ae7c9d97897f45f0b0ea4785da62513d_0_0f95e650ad40e78bbe8b427de7c9095a9b8fa24cf432708e6df3c69626e732be.pdf\">\n",
       "                \n",
       "                    <img style=\"object-fit: contain; border: 1px solid black;\" src=\"data:image/jpeg;base64,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\" />\n",
       "                \n",
       "            </a>\n",
       "        </div></td>\n",
       "    </tr>\n",
       "    <tr>\n",
       "      <td>1</td>\n",
       "      <td>S&amp;P 500 lower by 0.79% and 0.25%,\n",
       "respectively. In a rare event, shares of Nvidia not only lost ground, but lost a relatively meaningful amount (3.5%), proving nothing\n",
       "can go up forever. Still, the major indices are comfortably ahead for the year to date — and the big non-AI mover for stocks is\n",
       "the future direction of interest rates, which remains a concern for Wall Street and (for one day at least) offset AI mania.\n",
       "ACCENTURE PLC (NYSE: ACN, \\$306.16) BUY\n",
       "ACN: Shares rally on AI optimism\n",
       "*\n",
       "A ...... wing AI momentum for the business.\n",
       "*\n",
       "Total bookings were strong in 3Q24, rising 22% annually on acceleration in managed services and resulting in a\n",
       "1.3 book-to-bill. Accenture still appears to be taking share from competitors.\n",
       "*\n",
       "We believe that Accenture has the financial resources, customer presence, and market strength to thrive as\n",
       "companies accelerate the process of digital transformation and begin their AI journeys.\n",
       "ANALYSIS\n",
       "INVESTMENT THESIS\n",
       "Shares of BUY-rated Accenture plc (NYSE: ACN)</td>\n",
       "      <td><div class=\"pxt_document\" style=\"width:320px;\">\n",
       "            <a href=\"http://127.0.0.1:64872/Users/asiegel/.pixeltable/file_cache/ae7c9d97897f45f0b0ea4785da62513d_0_0f95e650ad40e78bbe8b427de7c9095a9b8fa24cf432708e6df3c69626e732be.pdf\">\n",
       "                \n",
       "                    <img style=\"object-fit: contain; border: 1px solid black;\" src=\"data:image/jpeg;base64,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\" />\n",
       "                \n",
       "            </a>\n",
       "        </div></td>\n",
       "    </tr>\n",
       "    <tr>\n",
       "      <td>1</td>\n",
       "      <td>+11.78%\n",
       "Enterprise Value\n",
       "\\$2103.1 B\n",
       "6/20/2024\n",
       "Ex. Dividend Date\n",
       "6/10/2024\n",
       "Dividend\n",
       "\\$0.200000\n",
       "Dividend Yield (Annualized)\n",
       "0.45%\n",
       "6/20/2024\n",
       "P/E (TTM)\n",
       "27.0\n",
       "6/20/2024\n",
       "Earning Yield (TTM)\n",
       "+3.70%\n",
       "6/20/2024\n",
       "EPS (Adjusted TTM)\n",
       "\\$1.89\n",
       "4/25/2024\n",
       "Consensus EPS Estimate\n",
       "(Q2 2024)\n",
       "\\$1.84\n",
       "EPS Growth\n",
       "(TTM vs. Prior TTM)\n",
       "+45.2%\n",
       "3-Year Price Performance  Data provided by DataScope from Refinitiv\n",
       "Q3\n",
       "Q4\n",
       "Q1\n",
       "Q2\n",
       "Q3\n",
       "Q4\n",
       "Q1\n",
       "Q2\n",
       "Q3\n",
       "Q4\n",
       "Q1\n",
       "Q2\n",
       "2021\n",
       "2022\n",
       "2023\n",
       "2024\n",
       "-40%\n",
       "-20%\n",
       "0%\n",
       "20%\n",
       "40%\n",
       "0\n",
       "500\n",
       "Average Monthly Volume (Millions)\n",
       "50-Day Moving Average\n",
       "200-Day Moving Average\n",
       "Trading Characteristics\n",
       "52 Week High\n",
       "6/12/2024\n",
       "\\$180.41\n",
       "52 Week Low\n",
       "7/11/2023\n",
       "\\$115.35\n",
       "% Price Above/Below\n",
       "   20-Day Average\n",
       "2.4\n",
       "   50-Day Average</td>\n",
       "      <td><div class=\"pxt_document\" style=\"width:320px;\">\n",
       "            <a href=\"http://127.0.0.1:64872/Users/asiegel/.pixeltable/file_cache/ae7c9d97897f45f0b0ea4785da62513d_0_66aa90e7cb16107a4d93664b7c4ae5f1619cf0b259780380e30f93f6127b7f02.pdf\">\n",
       "                \n",
       "                    <img style=\"object-fit: contain; border: 1px solid black;\" src=\"data:image/jpeg;base64,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\" />\n",
       "                \n",
       "            </a>\n",
       "        </div></td>\n",
       "    </tr>\n",
       "    <tr>\n",
       "      <td>0</td>\n",
       "      <td>Friday, June 21, 2024\n",
       "Intermediate Term:\n",
       "Market Outlook\n",
       "Bullish\n",
       "-------------- PORTFOLIO STRATEGY -------------\n",
       "Equity:\n",
       "72%\n",
       "Cash:\n",
       "1%\n",
       "Today&#x27;s Market Movers\n",
       "IMPACT\n",
       "aGlobal Shares Lower\n",
       "GILD Pops on HIV Drug Results\n",
       "SRPT Soars on FDA Approval\n",
       "SWBI Drops on Sales Guidance\n",
       "+\n",
       "+\n",
       "+\n",
       "-\n",
       "a\n",
       "a\n",
       "a\n",
       "Recent Research Review\n",
       "ADSK, MRNA, IQV, WMB, BUD, LYFT, SRE, BP, \n",
       "AEE, PPC, JNPR, ORCL, CMG, TPR, DPZ, EOG, \n",
       "COST, PLTR, COR, VRTX\n",
       "Statistics Diary\n",
       "12-Mth S&amp;P 500 Forcast:\n",
       "S&amp;P 500 Current/Next EPS:\n",
       "S&amp;P 500 P/E:\n",
       "12-Mth S&amp;P P/E Range:\n",
       "10-Year Yield:\n",
       "12-Mth 10-Yr. Bond Forecast:\n",
       "Current Fed Funds Target:\n",
       "12-Mth Fed Funds Forecast:\n",
       "4800-5600\n",
       "247/265\n",
       "22.16\n",
       "18.1 - 21.1\n",
       "4.26%\n",
       "3.50-4.50%\n",
       "4.62%\n",
       "4.50-5.50%\n",
       "DJIA:\n",
       "S&amp;P 500:\n",
       "NASDAQ:\n",
       "Lrg/Small Cap:\n",
       "Growth/Value:\n",
       "PREVIOUS\n",
       "CLOSE\n",
       "200-DAY\n",
       "AVERAGE\n",
       "39134.76</td>\n",
       "      <td><div class=\"pxt_document\" style=\"width:320px;\">\n",
       "            <a href=\"http://127.0.0.1:64872/Users/asiegel/.pixeltable/file_cache/ae7c9d97897f45f0b0ea4785da62513d_0_a1ecd0cc068f969b047d54f4611ec5620f9b2fb92aeecb3a605106591e2e3980.pdf\">\n",
       "                \n",
       "                    <img style=\"object-fit: contain; border: 1px solid black;\" src=\"data:image/jpeg;base64,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\" />\n",
       "                \n",
       "            </a>\n",
       "        </div></td>\n",
       "    </tr>\n",
       "    <tr>\n",
       "      <td>1</td>\n",
       "      <td>37058.23\n",
       "5473.17\n",
       "4831.39\n",
       "17721.59\n",
       "15160.55\n",
       "1.48\n",
       "1.37\n",
       "2.07\n",
       "1.86\n",
       "CURRENT\n",
       "RANKING\n",
       "Five-Day Put/Call:\n",
       "Momentum:\n",
       "Bullish Sentiment:\n",
       "Mutual Fund Cash:\n",
       "Vickers Insider Index:\n",
       "1.00\n",
       "Positive\n",
       "346000\n",
       "Neutral\n",
       "44%\n",
       "Positive\n",
       "1.70%\n",
       "Negative\n",
       "3.42\n",
       "Negative\n",
       "Housing Sentiment Slumps\n",
       "Mortgage rates near 7% are pushing prospective buyers to the sidelines and \n",
       "could turn housing to a drag on 2Q GDP after a strong contribution to 1Q \n",
       "growth. &quot;Millions of potential homebuyers have been priced out of the market \n",
       "by  ...... rding to The State of The \n",
       "Nation&#x27;s Housing report, which was published yesterday by Harvard&#x27;s Joint \n",
       "Center for Housing Studies. Fannie Mae&#x27;s Home Purchase Sentiment Index \n",
       "for May dropped by 2.5 points to an all-time survey low of 69.4. Just 14% of \n",
       "consumers said that it is a good time to buy a home, down from 20% in April. \n",
       "Doug \n",
       "Duncan, \n",
       "Chief \n",
       "Economist \n",
       "at \n",
       "Fannie \n",
       "Mae, \n",
       "said \n",
       "&quot;While \n",
       "many \n",
       "respondents expressed optimism at the beginning of the year that mortgage \n",
       "rates would decline,</td>\n",
       "      <td><div class=\"pxt_document\" style=\"width:320px;\">\n",
       "            <a href=\"http://127.0.0.1:64872/Users/asiegel/.pixeltable/file_cache/ae7c9d97897f45f0b0ea4785da62513d_0_a1ecd0cc068f969b047d54f4611ec5620f9b2fb92aeecb3a605106591e2e3980.pdf\">\n",
       "                \n",
       "                    <img style=\"object-fit: contain; border: 1px solid black;\" src=\"data:image/jpeg;base64,/9j/4AAQSkZJRgABAQEAYABgAAD/2wBDAAIBAQEBAQIBAQECAgICAgQDAgICAgUEBAMEBgUGBgYFBgYGBwkIBgcJBwYGCAsICQoKCgoKBggLDAsKDAkKCgr/2wBDAQICAgICAgUDAwUKBwYHCgoKCgoKCgoKCgoKCgoKCgoKCgoKCgoKCgoKCgoKCgoKCgoKCgoKCgoKCgoKCgoKCgr/wgARCADGAJkDAREAAhEBAxEB/8QAHAAAAQUBAQEAAAAAAAAAAAAABAAFAwYCAQcI/8QAGgEBAAMBAQEAAAAAAAAAAAAAAAECBAUDBv/aAAwDAQACEAMQAAAB+/jzwwIQhCEIQhCEIQUXs6I+ZO5F8yTbsxwoFstPgQhHD5wPQTBwqZcw4v50R4tthy85NqNqMqs9CEIRTzYixFHIBwPQzojwX6Xlg+lcyt+NsQ/ZNDROpw85hliV5w2cfOUcOnDohHmnS5TV6QJ7Q8TEsJ/I7ZdNTxbyxEw7EoaIHDx9EI8p6XLsXp5oQjBzNpHxb4gk0YEQDiQkxcxCPB/peS2e1YLJ6nrxS1WPHoJ5HQ4SmzBsiNHQwt4hHlPV5QcRIOMwagmRefS3Yd+AoDHAADiQEEXoQjyrqcoZEoLA2YsVoMz6WfDv0dEEgA4gBsnLuIR86/ScpovBUIQqF28qv2PRJy+hGEGTgSN4eQGi7iEeK9Tlt9qjpc0aHCq9+PtWsPQINkYYRnTBIaLoIR88fTcpv9a8hdssSiLBk0c5XQlMAxOEEBsHDi6CEeS9Llt81wPUw/2iq1s+59G8e6cgIggiChEYSXEQjy/pcoG0Pk1LlsAiXHPokxb+CAQ06GDgRkg5iEeadLlAWh4mpJLJvg459L9i3wTGYmA2TDkaODUPwhHlHS5Yk1hCpWq1a9WXnw02jFuii2Jr0QUS1vUWo6KuF8j4IR5d1uUJaqAPUdeG/wA5smfRcuT0nO1EMXpVv8dnZjNb2P2wgJ5SX8Qjzzp8o+9EAle9Z4WTLosHM6gd6hrOPnZzv4IimJYkS9FS7+IR5F0eWZej7aG+DTFtofPDTYMmzK7jSZZqiMAOB4APYhHlPS5YE1t966GaJdpgfw0y028k0+0bhw6Ry1B38ZMLbjshHlfW5QFquMx30MFpkH7Joeubu7ZW9dYQaVhqIlFZecFmiFgiUI8u6XKxar1Mdkx1kyTpn0NOLeebIyU2GkRsFLoIR5Z0uVBaDZh5mGSs4Hzw0N2LeaDhpGSGwYmDC0iEec7cw8tod5gFI8HKnovH34RjwSHREZIdH7yjohANnBCOSJqFs1DZg0IkhiXQupCP/8QAKxAAAgICAQQCAgEDBQAAAAAABAMCBQEGABQVEBMWBxESICIjJBchJTI0/9oACAEBAAEFAuN3W+W35xsHPnGwc+cbBz5xsHPnGwc+cbBz5xsHPnGwc+cbBz5xsHPnGwc+cbBz5xsHPnGwc+cbBwHcLsszyPcNt7n603BhP16rcQ22IV5gyzptpFvJ/wASft28DBf9ra6hiftekIGuNzuCtWqvtA6ysVfZ9S9432DWvufJf1rrz7Ss1AOooJ69Cbo1jFlBCTCN6sXnVi86sXnVi86sXj9N0clLNG1A6X+nupfgGpArcgw+t/fIX6zbAZOid883FFZ98xQ28h5Ulz6oanSZj8So+fEqPmuUVbWn9l+wZD2NRt7x8UO5Yj2reSi6oUkOu8fjGf5WNGsw6NMMokQmvrH52MD8DXoZTCFqsca4BEB2a/UpZ7Ro/E0OmFjmU2nFl1VgLWDw21clE3+BoEbGMgb5QphSrn3E+bB1n3n+E45lDV+rwUmzxjLTcQaTYeuL3xENUwj3i3Q7ZOspiyy2a8Rtx8GCTmi4832lrbY/CmzF+EH4h8IfAis0mlzg/Xfrirxp9Zp6TsW8RWkHzjkcnDBIm5EZ1XtGwdKYnXxkDkxSYQIksgEmUrTzZFGYLidYMlM+wUsWyUtEbGvnKS1z5Rfjqw7Bq2jmQWOOdiwM6/Do4PQkM2w/qgeuxKhaJk4ctP4q7VRdz5tRrJpLgzuSHOzHI1jFoFfj38psM6sE7+/GwG95L5RhMp5U8m/qjr1ZDgdCJKSG9RMqBc6ctkSvNySpl31wEESsh24ycOqNeZHJXUbtzWZ7FmxEbOTI2DSMf9ZysxZrmQ5k3mqnHJjooDOwQp5Q8gK4iE7XzfTl3uE2pZLOYDIQRN0B7NUBHXWC6v8A9KJGFPkbLAsSMyEfY/kd3+JCvsHTy4xqIYm5KSrRhRNYRFh3m+uiQLtewyZPvzENUBuK4dJu3Ok3bmtI2NdhArp+MtMyyKTiHIlvH4WYTXlLe1QriJSPaQR6GHdREOxwXeebkwXucSw287jXfrVWQ058NxgMvTHoezEYZhh2e4rcL6UvySCtnvEPLjKPVjZxOfT5LsEdMG722PmzeUqxiaTDkbOtnyE4Mjx5GGr1xjWEdDdRgRW3Us9tusxVKnEzO11uDii6LKxx6y152tXubTqdxdYtT/NqMQ0npzYyZWVreJQkZXCh/wAL1rBeHKZ/kOtwR596r+TtKb9on1WYjPrTcQTBWJf08n+2IgzZm183QobzYpRGeAwMcr66uKZwqnrUQ1FCUMVnMinDWM5dJa8iLa4xgW14OotcXFjIZMG2sXh7MEUKGtsbXzZ19iWV2qx/Pa7TPCic0LRtnGMIOl21ukFqJcwqAhHh5+UJxsEpnLzcPcdj/iw4/hK4jDBhIxC38mHEKO8HtcpIYhXXXIpUzNPHYgiyG66ZJrVzeSZZxH11I0+lK50xfM1zPZkUvk6wjDayA8rLzcMEXb0jUSXyylHAwTBYkW7R+o1WSZmfiJLggx4QVEYeHshz2Q45/rX3MjOO5FZX7f3RWtiw3zcmeo7r855D9sR5N2c2c/8AaFGdn933Fu95d/Z543fhi5kb2kjhG9JLxPeVWkDN7HMWZvKjYG3NwaPHY7iUvNjKhUd1GryiFmpseH1xfrESau1vMl17tIzNj1b3rbpF7RrZg+a367IFJA+uBCHifWYUqjVNSKrCtB185o31zqwfP2M4NslWTYebIsxR4xr4OW9DuOw3KhJ2cTrJ7lS1hhTXZziLHjvxGUklDrIlBT1x5GZIYUT5QWZZECtaZ/YDIf3zzaCkMsOkKzKrU9GeKQV19tE6bNYSxRCpKy9OCVs9qVQVPGRh/SSk2cmRFcv84NGyI1SZFANi4nyaDrBxDKjU3c7bq3u6qq5kfXclnV2sWLaqVBTzxKjxFbKlXIRpV4Ta0ylRuaSHM3VLLneqXndaDGO9UuJ4vKaP8e3B5lmtBlzFaFjPbAf07WBzpkfvGqAhGNYBCTQA3Z7aD+uK8TGJ1wc5ZFRKWABMcmCIyfn/xAAvEQABAwEHAgUDBQEAAAAAAAABAAIRAwQSECEwUTMgMkFhMRQigZGx8BMjUHHh/9oACAEDAQE/Af71z3Xjmr7t1fdur791ffur791Z3ONTNQ/dEOUO3UPQ0XH5FXkTPRZj/JrOiT1Wbk1ndx6rNyazu4qFAUKDhZuTWMXjhlgThZuTWcSHFSVJUlScLNyazokqAoCyWSyVm5NZ3ceqzcms7uK+ig7IjAKz8ms7uKhQeizcms7uOEnos3JgCDqO7ivqs90ScJKs/Jg4g+HS2m97SQPROr02fFvcIHkd/v8AhOsdWLzcwelx+RUqVOEqzciZTdUOX68cWMrVc2CU6nQZTDXuh33TrRZGtinTJPn+gqNoomq2BdCb6ShUcI8ul3ceqzcio1Cx/rkcj/idRrgEhvomUspqggfny/74J9prPF2cthjAmcLvynpd3FHAYBWfkREoVKxdfcc05znmXGdN3ccl9MfDCz96k7K8dlfV9X1fV9X1J2UnbocDeKgqIxAlWaf3MboV0K6FdCuhXG9Tu49GUIKzcms7uOBw8EFZ+TWNmM+q9qd17U7r2fmvaeaFlI8VToFjplQoUKFChQoUKNSdP//EAEERAAECAgQICwYEBwEAAAAAAAECAAMRBBIxEyHwkdIQFEEwIjNhUYEgMuGhkgUV0VJTcaJAgrFD8SNCYnLBwuL/2gAIAQIBAT8B/CmGIcOjVNtuUOnUYJpkRKLB/FmjKCK02qFVQFTtcWAqFb+AHqFJSlKQey4lLjRIt4bXrESRGx3yimqbGqIpX4CBGg6uKypH/EO+gVu39o6HewJ8Z9gesxeTIPc9ajcmQe561G5Mg9zpkaJEhSP6BikemzwwvHwx5uVw49CSvhQ5jBjbtesUE/tYzHL9crEf08Ild4ccPc4qkriEpEhuUjgh3ZxLFGXbMZXq8TkytUBaRsyspLpAlD3yZyHWpHF76jU0iEkLiL6D3vXQFcbEl9e/6PXkT42Jl73rwqj+bEntw97iU2Ngu4q+k97RSfUYvYWo9JdPi0xUKrFUbdpO+sSmWDA8LmXNzDmQ6SZo339KZczwvC8PMxopHF75FGhxYCVmsRLmGc9QhWSX5RnPUYfMvy97FBhGfbwf2jb+ZmhwUCZr+X/06tC+JWQZzpoo4hcAmfKO875ESIlIALvYs7XfRZdou8iztZiRSJEvC6Txe+o9FhRYCVBBP5hms0OGP2z505r1OEUgiGfONv5XWoXwK8wzHXoXwK8wzHXoXwK8wzHTVUcwuAkg8pn/AMjfJ7IfS5y2sHTH4vfJ7I0THUpHF75PZGiQ6lI4vQUkW7xPZD6Hg5mANEg4/F9ckBhGCatrrpCqp6qUw6gwnHpdWHznHpdWHznHpcOj3p4Ez0d7VRlITWM5fTvaIF4CUzMuTvdNgmDDwzZIGk3aeCWBFUZgYHcxJ8JQxytUKIBK0tdsuZqRWM+qk8EaZyZjzTKqGmOUCVUHodMiXiBgAahMNJhm0smocEiWEJGHTWVKWivwKvVFgY0HQXH4tpVVagiVVNjAAs3aeyMLny6duiKAoSJk9Wg/PT9+YxRIRMhGTkXmP2Yr4xkiZj9mn5gyRMx+zT8wZImY1enFNsQZImY/ZqvjGSJmP2aZcYMkTMerQfnp+/MerQfnJ+/M6iYkkj3B3v0yB3pP8A0REz4f6Bri0eXBGHo9zRFgAcP9B7nTVwlQxU/0+A0qCFBQOEMU+kBU63gOX3l+0KTICvZyDGXJY/aNJkRXt5A1U+kKUVFeEyNg2WNPqFJhiSVS6A1epUtdq9krBY+AzV2dRPZHUwzZdI4vfJ7I0DRtZm6Rxe+BXKzxdZfN4usvm8XXic3iHWXzeLrLOzxa660yl4u5XiQ7leJDuV4kO5XiQ7leJDuV4kO5XiQ7leJDuV4kO5XiR1a6nXU66nXU663Mu8W66mFKDrqddTrqdYuup1lDqf/EAFYQAAECAwUDBQgMCggFBQAAAAECAxEEACESBTETIlFBYRQGMnEjgZEgoRVSk9HUQjfwJDOxJdIQNJLhokNiFsFTcpSCB2OVwvEmNTZUc6PTRWSDhMT/2gAIAQEABj8CpTaf6rMfWAqAWl2SgrltmK96fpD62R9s170/SH1sj7Zr3p+kPrZH2zXvT9IfWyPtmven6Q+tkfbNe9P0h9bI+2a96fpD62R9s170/SH1sj7Zr3p+kPrZH2zXvT9IfWyPtmven6Q+tkfbNe9P0h9bI+2a96fpD62R9s170/SH1sj7Zr3p+kPrZH2zTcq9/VrjcshawFTD7kncb5TdmCYdgPif1g+d5lKuZy4ZkErPyQDbvU3GIj21gU9j0wt1+b7kXTnYsoCld+6O1VDCxKuaqnnGmwCkxUgmMbdmwFQ3hJ7KmMJ5opLssgKWb6SDHs/bQRJsGP51Oqi8z/EmMRHhv8aawt9hnzlKY8zLqXdsVJuzCUJeA33VXf4gd1IZLbylGaLCrgTYqKIceOokimZpiRmFh2a5uQm6ShzTW5dNvop/KHLDFsR6O4Y41N4YCrTeCValy1aBA53cuU1OyaZttSW3G5uScQ0O6yRRb39RK0R/hqXaZkXimbaZXLuRTBQcvBPGzqGNDAXcPmmZjnvNiHEiAVo60Yg5Q8TEcQXKMLViL199SsSUnfwhZnXmCUblCyhotNJcnLxSklarFXdlUVZ+xTM3qMazD7jqHeewUFKMcwnLrWEeQkUvEWZhhEw+fjDiZy1wQA9GFkOAHz0hxExKlptrTavPRU2kkFSRZaLBCO6vvLf4dfeW/wAOvvLf4dfeW/w6+8t/h0ph7DZQpXCIs4Kvp8CiSNxoOqw1pwhvTJzimEIUm7hKE3cimz0vrK/CO+nTJsBOuu+7+krfUtJyLcu24hCW5VGiUEJjFKRZlEZclOQSwoXdoNoJ/OXhCA9Nce1UaTKy9wzofvpg2r5QIuxjCEblnZ4j3NMAbflluWOHFHUKtzJEd9Xz0abQ4FI2POzqgoQN62IhbCl3OibZXbp3sadAFlkaBVLPAwtHPHPrV8g9/OO/Wr5B7+cd+tRmJRpwK0yNp9avnNKWx0zl4aN1EWgdqyK70P0TZCy+dwrm8h0pQxMuOOrgoBQbQRAAbIKrp+fvUpaemGpchpqUkC/BCxbBNlpRv6p3wp1xnpbLpa11m4hF4oFsG8uG/M96mpadmy+6lPdHle6P22jxnJk4lOtxPUZmilO7Kg951xU3VdUvOFJtjuo3XcWcuAgh4OLTny0FBqZMd0qvk5OWtJDMwD+lLKFJa1Zhu4q8FICkUpCJl5yI/POlVKaHRmRUpLZK0NT6YAR73wNNpcwqSLC9oOLnwU22GFu8QsozKej2HxV1PjYIWEi20bhU027g0o46e6rjOAKUcyrOyETbXMJPCmmWtJTzQbmgpKrST+00ZhTDKGw6Gy4ubSBe3UHFol7pCYKVOpAiRGuchyVKSoaZVOoAXvt5K5tJc2eiYNwnkRX3ql2ENNlL6Sb6XwYQjGG/xFS7Ey8lBc/5G8kf0o+KUpVdJFh3U8iaW8qB2S6gDwQ4Uz9NIW6FxdZVPpHku+Sl38Y0XdS6ZdWKJ2fwk74eE0kKxJtpTraVH6RQPBs2xsMaEtNYxdUpmzUnkXgqw2C75d1LRM4rcU0jug84oNz8iy2o+eUaiOqyJ9CtQiH6NGWfxZIhYu9ibd9MP6Pb4KGhid4XlOn40nbb9IbPw30HFYw1cClXIYgnb5CmHJ3qZlJjFtRZTtMuTSYpXdyhd2rD4j7+GdFujzociYzkkL1+NpsTbR/0V0YQ9cNhkwU3tn9HLreSk/6N6JFUCFHmfGyB6nbZ5aeh0O6LLavnm8ZKCrsbI7OcKc889DcBFvcubSScuWKaQrEej+DMaioI1ZNoXjuFlGc6OYZh7a9H5aTl0JN08qRlZTbpxqXWQSFsuYoiHJ7mm5VvEQoW6boxNF5acokXbcqUU4ykjNt1M2nZhnwsESgd+lSb2JpKVE3VOYim/YoiwBPe8lPS7WLh1ZbSExxBEUrjyJspyGJAhBJS6nEExMOB2bLLe9RW3i7Z03IaoxJFt7eQnfycTVxGOtFK7qW1rn0WDek3c6UF4wuDCYvak2kBJG/ZyjZVxWKBTpcUHZVM2FBFh4XY+ItEv0gkkHWWm4tHgT1s6g30iw0rGaAmy3L3UaCXcdwwOFSgklJAOXC9n3+NFWIYtKKUmN5TaroA75NJQmeZJX1AHBtVtoBhlEU6A62qBybTC7lYeX2adelZlt5DSDfv4sFJTymyz8dLmWsS1ObLBeScUCkoTwJN2nJlqaR3NF5TbWJxTZyQsHLXnVc220ytUNROKi7vhlw3UhQxJBYcm7vOFz48hhxhlXPVTaGWnrUujFQltZFlllJmZSfb1Uy5UWG8QBTEHIgcOWm8V581oqUErPnAaaVQyFm1+Ol4oifSUIds+l7zauS3LhZSbs42dSJuN4mlYNnowj/l4h0sJkFgOrILpjZZblnSE+YZB+6N92Bj2HhCoIwOSRZeEVR2oW2QHhpLp6NSC1ekl6EIm33Po/MavTHR+SYCbUKaIUY/giH2OX20J9G6cxZaeWi67Nq2dpfx4kbhZds4UhtzFliIi7CdjdO7q2/jovTc6phanim4J/Z5eFlc0lpy83qw1BOlK4k2DLcK54ysQeTtp57BKMk2bPIK1nJskvKKbq57Zgm2IN3OMKRIKmu6ISc5u3VV7k7NtJZem3ELV1Eqn81cEwu0SzPr13HYBpE/AQ5LN/CpdouKUl8GBVOlzKPJv+FniTGHzUhges28TdfxNxCjft/d5kAeCkaUvgOmi42gs4y8QmJikWN8lBtX6vm8EhP0+5GwWe45KaYVL4KEuLcDZONPwiALwjp2Zjw0hOHN4Ep0udzSnHnSSrsuW1/tOF/3i5/4qV50kZNtsoJvMTa1mNnAoFOtazt9xrZjPK8kRs2A01ISrpWbYFOIm8rt2OQ+CmuZzz7qlqSpkLnLFjP0eSFd3ny1efNrc8Tswzy38KS9MTC22UsBRU3Pe44L6tsaDU3MlGsQpV2aMAmFhTZx3U04l1YYTsannEmJztN3Om2JSbvvaShpqmibI5xhnCkvMYg5poHcXBNEXvSj2WQpptrEFupG+djbd3Qt+B8RxBU0E3rNRhs+53kxowDRg8RzNMuzYi3jHhTam0shwWl1Mszsbk559lMsstodlkkd0TJt3Dv42fiouokSl++EoUmXasG8fj300mZU6tF2C+4JAJPHvZd6v6Nc2YxBKickjFVnh/06QUz6RKl3ZmefrvXY/wDTzhwjU0Ez6VFOmI+cV7O1vubNNBOKN321K/8AUVC92nTt8FFleJnTStOoTMqi3s7IBCco+StqaZWhi84SmeUTdhx2LbacbVNNJfcuXUqxBdiRkRsZny05KNT8ZlCTqtuTizdRvCrkY96jJy00yLzguwn1JVkBCGnvqX+kFFyCw4yudJh3ru1lyeJMy07jWGIW2bwv4A64YHIRD1pqA6RYSCcyejb3KD+e7aXKvY7hLSm1KiD0cdPUjE7L5ytoJZxzCUp3DBXB/wDor/iDC/7nc9sV/wAQYX/c7ntiirFcVknm9M7MvILbMe0uq+alh2e2X0KDR58tW16uzI2201Ny7qCh6KdqecSEmFtmn2W8tLfRit5u6EhS5tZ2lcl3th2U1Mqm27sNknFnCFBMP7Ll8tPIVMhQt+UnXBCOVgbPkorm51KEX03V+cFEwKf4BwIMKEu9PBm4nZu4gsnKyIucY76eYfmkoeauhz44sQQB1r1yy0imltzyCm6m7fnnG4n1e1yV3GdSpClGCBMr4D0CmHl8RyT8+Psu2q02mr1ngNao6UzECm6O5w2rsI5csaufrU6Y+k0CCM+KaMkcTcmHbytpxi7lmMgPs+MdIZlOtHTaCAYeAU5o4s7NQSNp1EIeSnVmfgA0FWTroTw5OX5qUqXeTFs35pBnnNg+62bu0N1PBnE06N4IZcM45EGGWW6PGtFGJth5pHc9PEnLd97Zju30i5MtFa3LqI4i4q9lxu5xh8DTaVvtJccgqzEnBDsIRutpt9E22plLvc3ufrJ1IRukXco1r+cIEG66hydWQlUDs5UX2J1KhrQSefuCICf4bDyVLvtzSFJeUu98eX1rbAi7AjLxFnz1KstCOw4NqPhoF/pHImBBULBFML2/dbWxiDB7HR2VfbWFDeD9i2pKca1U71dWGcaUpycadF3Z0uFBrQBF8mzFXI2/0KSppKbGyP8AcnB7qz3PwypIU2nZj1cTcEY79i2irE8aW083FK0pn1KAz5BWu50hVFcVAc6MIHZy3UlTmOTDYULqFB9YjD/OlzMjij6gVbWjMqAjQe5y/swgnXN2zkq2cmhFASbswRlSZhM3MbPuS+SFWcR4jqk4TKv27OqbT5KQ6jo9JRUiC+6Wp4Q6torukgyYZRbFlBiXZShCeqlAgB9ilS0iyta+veEIj9tK55KNNG7ZpGNPBL7x2+qU2J7KuPThB3WVZOnyV3SZTHlCbavpcHeQntoolVpWEERCQmyNQaUU28Ej2KtfVnyUSHVeCnkqcnIWwDrUG8+B8RznGBPv7XWaVn+UPgKSpHRl8G6LkViy6myO13qVc6MTWztQUuxVvDa79apweaYLaojXdNp7yj9inmsLU6VdZCHM/LS0s4YuWEOqpUY8tOgTCl3V9RSIBOVgstqLWJrRyXEn/DVuKq9Wn2KgvFCbM9NOfgq3FD6tPsVdmJnViqwkQh4BSGXpgJU5G4DxhV0TiUMK7qpKm4qSo9XwCgJhS23rg1EFvIwHw71PLUzNhJBgpx6LZt4CNniOKS8tsX/zU6U/4Kjzh2EBZ5wVwEI9SjGbdt/98bM/7PlpEzimLXQQbqHp3ZMP/j5aTKSz8mtxR2UCaMT+RyU2jEMWLRf2WwvESLxy9Cl82nxMIuRKudFwj8kUovzSlXlpSlF3qxIHfzrM1nQxJ+dCG4xS3AWo39tOGUQZhmxKSg9U7zx458lX5meeuhAGnKyty30orp6amMU1VWBN5ARd2o+H2K1FRCnDeIhlyeCFOSunm4pBQBn8E087zFCIpPdRMxJt9Hh4imE4Y6tOpDUTCHb9sGZZxwrN3uZgRy0y+4MRgHFAh2aF3q5kDMUXWhiKhZZLTVxIs3U7qGbMRYZt294KUlEzts7badMbK4WZimGWMXUtblt24jKHZZHhXMMLxJ5RV8q4ptICEHvRrVTOLU4VRU442kqPkofSrmf7tPsUPpVzP92n2K1+fqvx6+iiMN2VWYq5n+7T7FLmRizsTw008keHJU08EyWoFQvS/XAj7vxHFPTWJCEe5tXg34fx76W2y/NuQIJM2DHy/ZdUXheUADL9YU02H55RUtUNUkjq8eT9tI1n55GnbCWjBXbDOnlNPzK9/OOHZTqVTxJbXsXU3dIw/Kpesw2nUNrcIj4R/ZWlLhCEx6qEwr5SvlKK0ArIyQmFvhofRT4t4qb+tV7zU8D6JWj2aiqwlNqd1TaBMtLur6qGLpTnmfdeI4j9ZZeUgqJS4hMR4TSkp6Yyt6MU3mk5RA3/AAjQClRMLT9iGkYqBBZvS+l1tnKPDfR2oWZ1MusTKp9bQ+QYCEmPo2kCPaaamP1HxxOkY3UTUoArtGvbSZl7oTjTSWDfJE3KJEP0vjGVIu4HPAoVfg1iciIwF634xaIW9lNfQGIItC0aeJSIvDP/AJi0U0fMOIJ7pFBaxORF6By+8W7qQljAMQ9NJl8SkrQM8pi0Ulo4JiDe2iBZxORSSTaB944+WhK+YcRbKnEhJZxKRSoq4D7xxoy/6j441H3bMzKJUP8Av0EnoFiwtzL0pZ/3/EdROTC0rCrbzrnbZQc5ysgkiIccNu7y0rmU28u51oTDlnlr6Lc2+OvMuw8hpMriU3LxWo2MqfvGyOZVDKu5TrTbak7HOHnzlnEgw4087rsOECwMuOQ796rqcdw8Z9ecu5Q3jlFOSM1jOHFt1mC/pCAKVRT1vDWmHpBTLIuLu4wqCYhKBegf7NMI8U76ccm2ZJbj0veWpc644VoKRt8bYAbecIW1LTczzdKtJPNlrxB4koSdntA4RyjUs9g2Fy65QMOIli1OOXbjlivDQfnsGDyw4HAp3EHlEKgBG3jADwUkS3RxlOnMB9A545srEYEbszXyDfrT7FeaxOs699SNNCyTeGYy5D4jwaxiRQkLHc302p/KFfHcWkCniGxdMfwqOi8lUM7qo0oMKAXDZJFCXmsZlXCOuyhuCsu2m0y+ISzKjElMwOsOS0UozU5LvbOyZdMP2mjDEbqgYAKnJc/Ogw/FQXLTSlFTRWUasvspibbUZW0icbxBLALgbUpp1iAGcYlB8FLSi46hBK1uc4Y6g4GCer5aXMN4pcZWIsQdYuX7NkRQauNzilBbV9XxhlOgmPWEEWxttplwzpWxcIfm9duCVHfAcO9nUsvnVmkkqQqaaSFnliPmrWTiphqi64JlqC1Q+TyhQS93MqdIUwl9kw2SRHZveXxHVfq/JzCSqxxxYvHt2a1FdHpErMCVXsjb+jb+OlNqwmXlke50VZ27oWfZrO4bLAGBLqevGB+HfoJawSWm2rn512BB76TZS9TDGJeI/MKje7bBRRMT6Egg5Yg2f8FFLj7hWtjubLk43txssgmzt5KIl5zWvMdTnzQ2jZwGY30pDkzc7vceVztuKPJ22clOYcnEdkKKkONzralGA7LKRNpmFIStCYgTbaUpj2i3eN9OSwfSUMoWb/Om+6cpELPx0kuOtLUlGncXOtZelGGYpGFpm1JSyCq+JpEVWRtTD4CmC2sOQilbnOkqMYGANltniKmZhUxfUbSmXeHzVtmZyhYy+KEwFTF5OUJd6vvT/wDJOexQni4/qhV4K5q7nCG7dWvNOzN+7dvIYeTZ3qUqUXMbWYMs6fnFXeeTn8qod6xFbOK4hYLCZZVlsf3dADE5/Z481P8A4601Kec3rXJrifyailtY7JJf1a2kOHtknPq11HLc/iTn1agGFfyK/q1qBDl70uZOfVqKQ4P/AKbn1fFK9G052nl9k1bLjw9vsmrwYy5TyewK09CyEIRNfdhlD5/ZNaly2riZeA7TV5EsBbH5vYFXnGAaCObiCYQ+HepIDPVEE28KKlMWmMbd9Xi3kY50IM5Qhbu/zrUWyCd/if/EACgQAQACAgIBAwQDAQEBAAAAAAERITEAQVFhcYGRECChseHw8dHBQP/aAAgBAQABPyHVhqgUHCFh8g//AAQYMGDBgwYMGDBgwYMFnckAPjt5HjT6OlCJB2GJZBUWieDQqG31liyzLbYF5RI+MOCHYlnA2aHTXFzQEl44D411aEvyUe8AGF/akkDHnY8C9HHbJj1kxENo66wMcrhj8j3WoyIyDQNjLOPdas3mG4EZARdGYTb5baHUFvgO5Rdur4pIzC1oWTpa2evtfuJAU4q54i9MfR16akFMEQR8N2bP+UVdlpwTljiGoWGyyKkFky5EZC/3myHpxQMUOElMYwA64CFnMUxv+M3/ABm/4zf8Zv8AjNtGtjn/AMiQpeiimVIAC7oPg2ORmN5QCzoP0HC2c48PIQry7F40Au5CBKdvDXMKFmCCCSQilnYnUd9RksbkF5wjjTH1G8sDk2IRBKjM8RcMNLODw0hKaVhxokQDPCBFZvKajNDg3r6mDBaTSmxJw5xrKZUEJ+8oKAcsziZIoG4AlLE2Zg1EliGcgTBnY5XPQ6cQVqMsM3PyBlBv/kcz9WMgwySY+kHX2MWGIEpkCjv1NS7zagOCZFp5I6Nr/YWDlS8eseujNpXiBafYrO/rB1T1Vd6PHiyWJIVLLxoZOeWTGF2TGjs4S2IZLf3dkSpRAWCWCFKlVnWRzrGQwk4v42qAgo8a1x6WNjyY+hSHy3eHZAQgSBsn9icaKdxiYpfEx2E7GOYIkEzCUxHOrwYljTCGU6MMLLIQA4oHv9kXf4gCqcVZ4kXo+1vqAJa72wMiSj8vqvbPP7BgZUbekaACSyopSRogp/BpnsCKWEPEqQ6jVgQ1wuA8wcJNa6ccosYJIWor36Q8cYBA6k9sMHNaDFSHgTDBJ50lgxV44QwpUP8ArZYT0nEjBx05M87nUpokkRIskj/n1ceMCCSRe+budElXAAWCJNdeEh8oAqAcOLUfC/otxmd/woxYDKJlOJ2UEjJ0+hX6Z8aJKk/UQs7W9hQE9Yv00I45CkB8lyx+9nz5gO+HJccOpKRKsBWQgKDOGwThiknAW0YcQ8N9NVujKJVnmIDbndkyfydCVly7AIAYZBIgZhzyONl3cPM1gtQIZnRDmLwBSMy2kqHnSYcgyJUWclpifH2QULBVRIWQo5M4upBCbiCMckczlxqJnqECCc0Tfg1LUoYYlkhRbnGofOFSs1d52J9fCNjNShMVWdm0zVCuUUCxuzycMrp07QkGTwbrxqwSxyoQJsIT5c7FhHApIqVcnL42dQjLAAmBSXi5vUQ4IQgZcaPmSdpxH2hQJlftjQ8lx/8AhFEOc6AX2OyRshIHqToDKZh16IWH0n7/AFlryFCUOlXJeC9LQqZhqVNUfd+E0UkW3V7Ite26DnWhKbkh9fA7UdC6GR4AH46+hGMVnOxcAiUkXQXwOmJXQoYF0KiPPvpBBJyBcSAGIcakN8MykIt4VUOdgmMSkVYc0Y4xzOz7p4FBQ5hUMEK7PTQ7RFhtpxh52kG0M3DxDQ8FxjUF9lhmMg1YTtryXQgu06U5duRI7Z4rPC3B9iakBQgFKqKBYh1q1yFYKS8Cr2OtauPl4wc8OzrauC2CMXSpSYRxvN8qymD1TGPobBOPo3BDhHn2vaL9Z0pngpRNqG0QL5wNulHq3mSrYkqZXKhl8aPEZaMYWXWmId6qOVWakJYH8a2leGp0ZmT2vULEklYvY6SsQ+2z89skljlQN5I99MpSwBUhXvZ3FXs3IJnnI8fJizB9hBdSsrJfQAuIkybYSpQRSmgMsrbWrwnLMUQrLyw8bDwA6b7OMwV8NClvYCzAAkKY76Gihc1JMyWw8tzev/zcNZvESVizzlJ8VrbFthIkipwcyk6z0LtlMZNvAzhgvTPMSkahEPJJGEHcakZqTiRygzno+NeY+Z7vMfUEM3EL9RkoESMUbA9XRUQEEEzWK9v06lOfYUy7HhN5rGm8lMyEjEZ5GnH2TmASj0LkcHp09kZFbkD7ZOIuY1R6Mw7MECUuCemMjRBgm8fVatQsvF1iGNjNfLXrM2IiiHDU3HTOzp0mguElAKUWtCdFTk0Nz6w8KLhuzHdMZgzCe+3DYNEofrBdKr221HIlDMrEx/a5InUJxEwJGimQmZMTxsSvlKwIsTIYRiXY6mTnaZlyTSprjQrDLJaX2KSHfr9QXHB6AEuKIf31U3UzyQeayIFTqs0DnhYsGk8x87AXXJvEBGR/79IY6oiSnHTi+Du9UCZHBjFJnOslj4RytwvjEyzV8lw1VErg8CuJ00BDGwzGjZJkRGokDQiyEkRBTs40wtkQCk8TCmuclNM/DhfXMCeBfGHZUhiSioQUItxxNbaRI3SKPZIx7UatUYsAZkWQUTNtuyTgQcQSdBGSkdUfYNkRi4SLfd7mzcBmHA7Iq+i9fCdJJc35dieuikHEofoMjkhbCjj+dS3pwduWb/jY0neksxLgHHaxocrMrnKaOabfTAnYCKQTwsyyDz+ouUDJeymW1t4qDYLAIi0ZEotMek+dDdmroM9LRXnbyrwDCaDEzNaB2lcLBlHr27Nc4pjlXPbzsprlhUsz/H2AWiVO0qZxz8a3r7hhht40ddaKF67JmKrLpasgUHgPobMEAu1NeFOoGCkZPNHM6jVWQhIKaWc+u5RP7OeNkYVBKE67xjGtdnM3QS9Xy7LmC8gmcIrC7ORcmcVRsAgyQ2qJNICT/jbNYVT/AJqKJIsNOKXxePssG5xQwJv0O2WmYouPK5kPBvO4WJg2CMJk3AYw45XEzCYmaBIPdPE/SNjwkR8iB4P41lCt03s3w81qzcOlVJg5m9hvlzhemgAlMQ4pj/ek07FBeo2Bv/2/vzr58BFQmYoneNkT4pj51ePmI7QDigfC+jr+k610mJglSXt1sAFJ6jnfhifsQEFB4bEoxsvENqKHYli+Fli3WZS2GKXSPgxR1t1jBdprhDnrUJmJKQv4L401J4PBFOOT95vYBmEoGIzBPrxjOnbFokywYpMvGzj9Gri+etu/sQJoktsEajg2cdqiukAQTaERyxtKIDgzVQ+hA2TV6wwIXOQIiJMM9KzKQ8j0GUR7APbUp3w52T8H00QoJOqq49vshpZLgHNkx9TMlIMKOTpJlACMoyQsHMhXO4WtDQL3eeJifAPDTQ/HT+c6s3KLeILFP66O75rsr5ZBKpdmDIhIG+yEjvhpg1g4ZqZa08cVvumvKXW/edeUuv741BpYd05biPDpwlV/fOxLBVM/9oTVFJWxiro0e4/Ys8MlshYAJ/Y8tinkFuVEBisfRrzoETOeCrmuOdhV9ZZCemFcW0mAMe9WD4bOKghKPdMatzESqBU/K642muAgIePc+kONPBSQAu2jWqmdxUzoi7ygPiUNEl5EVqkWHXHfjT3vN58R1MhfZVRitcGkL7tEbeTp7+x4udRhVU2/mOTS4hRIVHdmp7w40QShCRL39B6MDC0vYDn7apDSvT50qhdE9Fw8Bj1X8txPsiMVpb4FlBfA8r62oXyCZQDiV7sahJB/7ySg+06NSwnDEwrmx7akfaft3ohnjZcAxojKLgGuBslRkQTDF2DXMOqCQGjDNOyBrBifKp/YuiqQTXZDTx6bDB6lgIMppkVn43OXhFySQvUDTJlxle7sLhMLjrHkfbR401JDCXRlV78UuHiaXBbeLjvULoRMCUEkSZ+bUlUlOPADkFMnxqkOJLEheC4JSJOpLPKkCaSxrFgjbtZdjUWleAKIHUahlMkTsC59sGjB2cGLVSAvMJmNPKQqGuDwqCgYiPpNeI8pC5jj8D9gX+BK8TDGa08bkw4YpeV410dOUPj01Gqd8DtgqZLPCaWj6d7b4AaKJo1SXeTabskgUTM8341hoNplZuK/WBsJeKhIWWZZYJfdpIoYCauKn/nSFZhiogjEU1DvUpToSQkVKzMveyzZvWBCA5E40wxlkBPDVQCQ5DrBI0XCZyXuWDqJECc0FLEBLianUBnHUGgXIrEu8T9kDxYgEXZYceNTBDF5Kh4O60FciI8VEg2lYli85+hSCsGRni8pNVrpSpsuIBwv8bNt8L6uF+c6+mvHxNRDwe/Ma3cUmjRlC/CeWdTpE6oFxOGCPw1gd0oKIRa5ez3uipc6uCypYWphHYJJNk4AlhE8Gim+gW0QI0qHB20kIQ9Mr+FY2HgDdnKXgoeLaNaicBWBa3k65j7HdegnIYHbt8z4EDj09tDEWuEyOIhwfRDLArA0WxTAPbSbIuMzmKHbpZQf+hEbND9M4L4Nf89dilDA2eg+49F269UpW5v1fOiH3Nl7YJzqSqco9FgYRGBGPyfnQlSQRyDQQQGDcKELIkxGfCtYk0zJmxOhkk+xdc2Wa13382xmAJlzbn/bT8Jw/mf4apOZ+BfPnQyCGUJcP9Xrqgw5hl5mf26WGEQHFHnwfGzoUVC2gD+nGylEJlwqv7fncawBFIgA/T40skGSqCIZ7B0MzaS9WnL0K2ZWfy7X3uKpKflaoQUWTcEfr7P/2gAMAwEAAgADAAAAEBAAAAAAABIBQtgAJIJAIB9kgAAAJIIA2cBicKABAA1ULgBIIJABAAJZAJAAAA7WfwJAJAAASI0oBIIAAAxNwAABBIABQshxIJAIABSuYwABBAAApqAQJJBBABG2IoBJJJABw4A5AIBJAAw0C5pAAQABN4GBIAHCAAuIPPJ2sNABADJoLpNCAAuLCCJJAJAAOBJFIkBFAALQpOCT+GwA/wCEOSSQAAAUQbsSQCCAAMfhgQAAQCAD/wDLrPr5IA//xAAoEQACAQIEBgMBAQEAAAAAAAABEQAhMVFB0RBhobEwcSDBgfCRQPH/2gAIAQMBAT8Q/wAw/wAa/wAgtZczipxU4icROIhkCdNJSgkUO2qXgEBHspAhc9ZYkP5CZBFsCoz66d4Wjic+PslmGneP+xjjjjlZe8ad4AaWZiYGMNjCToJwNul894wcc4CMTHiMYVzKFCdul895BYmV7xUfCa8pL3jTvAVLM9ZQt91lS3WEJL/+whaS9407xn7jGYzG5SUl7xp3gLFmesRGwEultUKCARWFQ/HeAWMz1iYGcDcBXEBWZH47xC9mYxiYjOEkmuwOJiOsNNmiNvYAm3sRCDmesZhwAo9gbOGTe6abBQgCwdfLJ5L1LGIRrJ2hMhKWCwC+KxZ1cYvGKoEEVH2mVhiMfVFLMzxE8IWFtvCEzplpDQDYEnwAS5A7nWOAB06tVH8ghA2SESRtagoKAkMmqBcqlglvQJIAJiXdpWiY2l1Jqki7LBOp4Jyy5r++qSviWSHBWXgV9RDHmdwAYQMYACLwAPofiXEFgzK4hCRDM5UusTwFrmgMASEeIIJC4NEYHEzNIA0BoKAAukPll1vvllcdgI/f6w9WNi56x29roWjaCVlH/g/EGOByjWLQC7AcfLONax/hYks8+2GIqYtywbOHWR+JxnLWIzctYmHMazw5jWJhzGsDWHMaxMOY1nhzGs4zlrOM5a+hisT12yV2yKcJZACrA/ErCCQjKSXOV2pXa5mAYQEJzUczACwlZX0AGgbnrCAqAwgiC8NwCADlAApwPx3iFwip6xjEwgc3sxmiYqG7nQ/HeKI5+A1n6gaykukaz8/jGS6RrLJyjWXVfyNGjRo0aNGjRvVmMxmMxmOMxozGYzGY4zGfT//EACkRAQABAwIEBgMBAQAAAAAAAAERACExQWFRcfCB0ZEQMLEgocHx4UD/2gAIAQIBAT8Q/wCWM0TmGs5OzF9KAGLkcwQdpeRUkiAFzhNLXugxhTS9NfwuDp1pNCy+VmHkxFtcQ2/4DsQILG2fKpUl0sWGwXOEGOfGgoBIBNIMdd8g0gAIwcMvPVmZnsUSjqy7pr+XEZ/4ESomJS2LxqauN5slASXvHGMIZtM3NCTNEebLTd5xY7TSbZptym3KYTDEmA48AqDkzLsvEJ3uzdDBIqaxALKKjdbghmJjBErVphMzdYuWm6xlGBpNBJUATMSkSruew0b2n7DY4HsypLg+KGvP4eNRgXNnjRMijs3325VIl7B40Yu+SfqvMPH3lCOBpt9XFSy4+PvB0xGWIixcRFRN6XNF55jmLvAm6w2+cn4Q87VLKEDVJi8WWnE43qfzCX8R03ppIK7Cwb3ogqaEXNlyT7yWRkM67li3DllqeIqDUoEXa3KMBpLrN/17zDm2TOjwLtuoKjgKjgKiWFC9z0+b3sMkCMEZ5B4hNDNgwsIWM5GJphdPbp/NDQLAuSJRa5w4xF6dmAuqYOfoCDV8jAEQ6nxe8hEINaUkuef+0qhub/7U0531nP5pChOdDO9YOfj70k+Ix4yw2ndoaesn589M0LPGNHYXN2Y/pMVvUgQIFJoXERfQ+Tt7yIJ0KkoTSUCYn0bN2kOU3PeTk0PipeJW5WfRZw1Jy1P37wW1oVDwqTSgDHolrFSyNfH0i4RP2kPsBkND4qCkUI09ELxRNEX8fQE1n6rAuamJSS5liPKfMpYyDD9WSYjQ4U/jFP4xRmwNmtFAgaw6ZKtxsoFuhRgiV1AxO7Rt+pY9W9seK6/ETZmeNOJWAqBO0xO8TihZENkz2l+uNPFMFoNOJGeeKZaxZ4+bLQIMJL8P5k+rARoesmMTSNGnULnJqJ94yaWdEdCJzmhxXLnOmMfDv+v4XagJ7BmOCxbN4m8cKQsl4t311Njhp6KbHfzt+X6sM2D4pnphQkmaROtR83jSLEjk49cclFAcWMr/AJB2tQMCPbXAWPoTxegcoUuzBm7AvkLtX82gMmuCkgS/7UflbnasuhZ0qIKNnOlr+F6lYsQXK7ju0rNpT2s9mvCrhsgu0ZdhrX82hMmft9BxQYPI5Vy9DajAjo2rFLbftKsrcxHfFAMWdofzQckEkySxpAb1HE+X+0zIQSxkuZaUG9v312lkjIwyWqzWCkAIiWLRkrxFYmlMVJS3Ll2XWMwTilxKI6ly7f2nMckQHZVi2krHCWKnZ2UtRRI8Zgly5mo4ny/2gC58v9fokuGD4oUylSNMxRqNJGzSW51P37wcGh8VDwKCaR6Q6K2JoRhqfv3hgj5PGpNPl8av4+Xxrb9G9X5j5PGl0p8vjRtA7PGuT0b1yejeuT0b1yejeuT0b1yejeuT0b1yejeuT0b1yejf62Inq3gUHr1bwKXInrpq/M1vdW8CrUTSjK0uQvXTQlmr8zSi3zQJA0CRNKa0Egfp/8QAJxABAQEAAgICAgIDAQADAAAAAREhADFBUWEQcSCBkfChwbFA0eH/2gAIAQEAAT8QcLwlBpDABihTASg5/wDA7du3bt27du3bt27duyatshRJDscUxOcVL9dH8cF4joBAKoNIHoOF7wZPQwJocjyBCeSRE0EQlarnMwDZhonfovOjgFevBW6eQJFQoJf0ZUpIDs+d4n8jxlxVQawen5FX5UEolfC2eEsqziogGQcNSU5BTLiNrVqchbhBz7pbcjzNrXJz07b2ZkMUBEJQb8iZ2JPrNPnPPq+uj+OCW4J7Q6grRQcKchqXOQG9RvUhwrYISdL2OSjYTgVRgJ5Ga0GahaOCWT2H1TiGiDTQ/wCB/wDef4H/AN5/gf8A3n+B/wDeU/w/98GVpW0Pf3V4aV4kf4wqs6BS6UIg8hDpFN62rG38YFZuAOEDeQCvmHAFOacCX9EQIheDqKxY7LunWCK40FDUHgY4Kz2Yg6vsI0PT5gohkEO/iCIwfAiwg5cr4NT5zEpcnEIccMqp6hVsbRLHM+9OmlAYsqm6o2X515nUVupYGjqfBXEhYYtpgPa6DrgIncJaRVGBDxUApddrBQkyhSACclA/NtVxACsCEAOQ9HIejjCJZpUSnpi/3yHo4AQH9foyn5D9h03XoeKlpyXRIdYWRaQXrS6UTUIMIoYuBTxf1SRIaJ4GrmcR6rkwk3vSoAfEucZIxCBAo3d2wzOPAhjnE0h8cUh+f2VEXEEdQRFnuAp+xSiGAUJRu2ZMqPoJhFjeJrPEOojDOSaDOCdUa5QOMgUNOyxMWwHACsXO4owrjHwpHcTokUYM4UeP0tKVYUtTSnIcjYVpP0Zj3fUV5QOZAS6aiR1on6P6q2FywCdKkJ+oWMKygQA4o7vriTqRvjrSImdPns5aQRGCLwsqgZbggWwQg3VQp0JCQ4rIcDwbld91J9KLShBw3B7ZpbLyHofeAj7YCxzYeIQZEIKknTtF9xeTObuKKBYZBVnZeD8FDZEDWDijiqcPzN4L7Wli2NdDL12FyyTGDq6KQn6KVyNuiZDVK/JXhhoUyhwDWpii82IQUKEceVKkcgvC6SGa3uWCKAJGDA8wGo0MwYCk0zpz+HHzfn3dFeLFkInoQKLgovx4OhjE1qEd5InYYECKMBhogCRAqtHngKeDMkhkkxEONHWGm08PCtAjHCoAQLWUcz3CNF7XalxlLEGiaRjsvPoNjAECA3S0PN9hBNshZqzq4tS9btgpO0oIuKOE6CQwjpkgADSB+jVJ9xobD3SsGRwfRD03NEqr0oSMBnaTATDCQCGOjw7XSmdBICLhHqrAkmYAglOBhcR88ddBY6ey9cIGnmHrGwssjpwtXs9FQWgghARGQqBI9yM10r+IrDgtYNlcE9QERuGcU7obqR7YBBqYa+ZL1SNoodlSIPEFAH4wuKqgg12FS4g8qFDocEympiiIbsgdDSKmUz8HmmAjQK0l62SYWqESHgOQnQH6LfxvGa8K7AB2Xsd21hfcnsq4MAYHBn4ieSAFaXFHYAcPSByNqSLKS5NLAzhnb8jJUXQD2+m1mryuLkIE09ng5EWF1DSn0+TGcNa5B7pnGQWCgS8A+0HQC5qSYJkqnQnZMlrFDJMaQjaADMFlKAxB5e5EG6JjK0pZSMTixAGgRAgLosIUo4dr7qsMxakIj2XOCNy28NQmhQYysKsPs9WsyVZ1BCj9B/k4+tY42OLBxIJCVpR3dKFBSOWhRFEDeSSJW2redsoPdgUSwBE3gY30mk1OIEBRWTfoTclMfqhpDUyhqnlNOGccAB0pUpleP4DbFO9KC6nRrnKihM472UFjodZEaasQJtIgQAKoKnHjruKnrqBRN+PF1QbSigCCWTs64kaLMy22kBCQCxTyFAJ1c3IRQCRQyO6o1rIKCq3oaEIyB6sFyGRwk0D7pmnxwQ7TaNoao9rAwbFkgBIGDowCPP6qgIj2BVvFUJnkmU1ZfhRETu7x+JXRV4eiIB6kFHBwQm4AXs0f8T74eYCQvRauIIkhJhfTojZCBRAFF4VkKwXoKXtLGBUNEFlgaEbjBBVcBNxTXpfU5waBnICamVbEFxpgiw4GjBZI7lgHYa2ziwgg2krgWwpg8AyV6dEwIEpdTa2dUnULI81TRkUIo/ZrdKilHJye+KAE4s9rSGwdm+QVRXjf8cVyQAEYUuI8G1VfYlMCKquWrd+xo1ABB72qQEMFUYkQvcau8wgnGC04gcDJG2oOY2Q1QuFyQwemX0yQrgU4oy8Lse00BHDwtaym1Tg98AHxrpjZQiEmQDVSlLOtOta1gNyQoeNOkFCAx8wrgSC7WvmraAOFB2qcI4x6GspKgIQOqfooHmGagWSNnbrRwIuNEITiazQqIAPGgA1f7IBSLFRNt4kc8J10zUcqlab9VlpBRoL0CwryK8QLYNLqNTSp0qyEOBSlGlHcL3ELADgJgmCxTUAvVmphyBSQ/wCumBEKKDUG4FIvSBFVIYjzp8sax47iKzyHFgu+Qj0/aoiFV4qVasHeeRhylAjlIOh/8YIuk0NSB4mPvxNQ+ZHCrAxZOlL3In8G0P2lTpNVBIBqiWcFFRlCZqzSna2giPlpLAuiaP4gnZwq05n4iY/T5nfiZysDGmIsvC8JiQqGC0kGHbO+E+BMhCqUgw5APK+5aPF5hJYqwwRfnXEVBuYCKk9HCCyTKBq2o2wmWoUjK40IAQYQQWnBxlnSiV6agdFpnCzbrBDUAAeB798tpU0GG2iy48jeIOUSEoKu+vYneOiu77dpTwbiIb2P3RlUJpRqs6OmOrhOTTKSCVCfEFhAXQ5rWpKlpKikar3z46TzsAAfj60nYcWpVVNAPdwr2fs6wolKL4NvlOSSKIIciLaaxJTrhIstQloBi0UzlhNvoSODwKvWnKtzQmipaEKFMXgYaiECSotOJOxuvKdK6dVoUWDhcH1x3AZ2vlQ7fPEABRGqoAe7w3yTXP7eKyNbns6Gmef0A7JhAMgJBIKGGFsEAGIcgUCG9srxZObSbq4YgKKrQ4l7DZ1AgHhSsGvEsi8QEEsAQ1kJGEC2rnIiy8hii0jxelGJ5DSDVaUp0HlGUCKIJKACbcfe8taWoKqUNhcCvUVOXqFgmmVB4I0h7bw1osgHSP8AOCf+KHEsAbywAuk3izVUC0bGoDPnj+ZcpxjC3wQJWD8M+bRKRrAHbieXIwHXSaJ7KJDLP0aZ+QQdeUAoKCqa3iIsxiAVZAUCISkUkhg9iADy0Ph45omffuMGsBsQwtVI/noFQ+RvUXASRGYtcUl4hXgJiDdvhnAVMCoF4HJU2CuFCSq0nicw+Mv+v44N9l/q/HJJ4bIsAsNEBVHVkTnZAYgF6BZRQc4wILR3omAUscq0FvgMkwJGRDXHXZmYgxMWPzfa8ROzHdfSLplcDeuJVDU61I17J0k81+0tjYdC1ktoVZgufeqJG7IqBEI0inDSR6spOCgnLmET8BZBARhqulS8BxSTyKHU0JJWDUamLI0UWoRVVTQRTTkGFYuoKJQlKHcjDxyxyIjWSHeNOG6pX4HbrIdCIAgAtvPO4R6JTfM+eSbWWdzHolN8/lxJLIXdvZCZ3xgBW48GvyR3x+HO0kTEQfI0WTe+WhY2oVnsWhj6f6XtN9mPJMoQUTlK4KpJAHatAi2FPoWPeASKDOj2BVSF1h5xIFmoTShRHOP6wg16CnD7QynXAX1Buh4kXbMvrricCggmRgarS1GQyfAcrqhEYvIkkgVk2LUpAKqr7XlPgenw8a+Anr88Y0hAXsQP5Q+eDVTBbIgCm0KE8N4+YCrfoAiuje8idy00EQiAt4UcpnHIhq3tYZTCPwD7rsZGBABgoLNAjUFQpy0mhCyZoROghdiJKWxsrs8fRSRReSLuCAdqpTA00KQD19szvhpWpDAi9uIzuxvDooYgcKS7B6d45BL9FOBQrw1TachCYskGoSStCq7YEQ9AhNqxEQmvAZwbDQ8VnTV8nl1cKbVa+oloCsl53n1ZpGUg8wlB4jk1slLpBkqIGZG3c+AwvGRERF4BHyeCxVIO2C+h/Q5FubSEZeq5cDnFGEGRdCO04qoIkHBnZEgR2eOzzOOPtQJKoDVwpdBKLQmlC7AQKYKKMjScijvtIgYsXTGNPIkRZ+qkHgwoZntggUal5wAwbTxBFwkyhKvY5OlqR7HwgoEGl3kEXBTqwFBrKAiOFzytrM2ikaAFNwHiAm+zC1GMKBIAEjhwkaj3wI+np9p3gJBEgABwyYMjn2lAiEd6YoL+iPcEmbfYRSEHSV467rGEk05PBFQWmA8bIlQtlplqfh9cPShgPinkvjmEPF2OjE/B4tCKl1hzqAC6CCSacjciIPRsLSRCDLXk2EO9REEAdaps0/kExAGxRh6qvEqfCmNEsTxUoGuEXRpZUcKqYHOsLxVKEpYranGFRGqbgYacW6gL5Ko2P6TmQJQwI2A4NFOWlbXCBW6AG2qN7ILGFwDoIpyspiKvPQCGOy/pqUbgNRLbAFRHY5zJxi8Rpb8aw4EasBy9FAaB2ARarj3LGCuK2RDSv1o4IUm3GoQNDcdICA3cQNeCgvX8h1wcBoy0htFVG0NvEyoLNKJAAkBgxPEZZ4lqY2DVCwxsBIzdVDY2uJusFDisgWIyyYSSm29pz6ikWaNOj09Fr7cDxpSgisJZCzcMsclCKH0ReJDixxw4uaQpa4oyJC8QgLmwQHRL9dcPsZZGAXqAfzxhXNHGAdDQEe4xOC6UihNB7FKNgOfQ5PjDZ7NL13g97wVEpKFWRLp2XEd5OjQ+p1P6Ah/RzNLc4GI8AnzjdqiZLB7KUejoABbxBRBRQwXa0r2lq14b3tCsqK4lbD/3hU0RCRIjPXmUQVRBIuYAehe+BcUxTDHzMM+OGVoBAAIAfHOOxOgHjWvQ/ADxwGETGcPR2il9KcAOhKZ+hWn53F/2f5fHkyEAkTEI1/t/HAeKrMvwx/8AV9cZItXkBE/s559QHEAiWOf2fjikPw29Szf93DpUIoEg+At/Dj5tWgUCWMMurXarVJvUqIMdFb+XFiSAIbUfAP8A+nlOKw5KXoflDmmrDdoerlQfjxODISPCEEXut/PPDjBT7PexI/PEAkOyhu7pP5f0/9k=\" />\n",
       "                \n",
       "            </a>\n",
       "        </div></td>\n",
       "    </tr>\n",
       "    <tr>\n",
       "      <td>0</td>\n",
       "      <td>Company Research Highlights\n",
       "®\n",
       "Report created on June 21, 2024\n",
       "This is not an investment recommendation from Fidelity Investments. Fidelity provides this information as a service to investors from independent, third-party sources.\n",
       "Performance of analyst recommendations are provided by StarMine from Refinitiv. Current analyst recommendations are collected and standardized by Investars.\n",
       "See each section in this report for third-party content attribution, as well as the final page of the report  ...... Market Capitalization:\n",
       "\\$2182.8 B\n",
       "Interactive Media &amp; Services Industry\n",
       "Business Description  Data provided by S&amp;P Compustat\n",
       "Alphabet Inc. offers various products and platforms in the United States, Europe, the Middle\n",
       "East, Africa, the Asia-Pacific, Canada, and Latin America. It operates through Google Services,\n",
       "Google Cloud, and Other Bets segments.\n",
       "Key Statistics\n",
       "Employee Count\n",
       "182,502\n",
       "Institutional Ownership\n",
       "80.9%\n",
       "Total Revenue (TTM)\n",
       "\\$80,539.00\n",
       "3/31/2024\n",
       "Revenue Growth\n",
       "(TTM vs. Prior TTM)</td>\n",
       "      <td><div class=\"pxt_document\" style=\"width:320px;\">\n",
       "            <a href=\"http://127.0.0.1:64872/Users/asiegel/.pixeltable/file_cache/ae7c9d97897f45f0b0ea4785da62513d_0_66aa90e7cb16107a4d93664b7c4ae5f1619cf0b259780380e30f93f6127b7f02.pdf\">\n",
       "                \n",
       "                    <img style=\"object-fit: contain; border: 1px solid black;\" src=\"data:image/jpeg;base64,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\" />\n",
       "                \n",
       "            </a>\n",
       "        </div></td>\n",
       "    </tr>\n",
       "  </tbody>\n",
       "</table>"
      ],
      "text/plain": [
       "   pos                                               text  \\\n",
       "0    0  MARKET DIGEST\\n- 1 -\\n FRIDAY, JUNE 21, 2024\\n...   \n",
       "1    1   S&P 500 lower by 0.79% and 0.25%,\\nrespective...   \n",
       "2    1  +11.78%\\nEnterprise Value\\n$2103.1 B\\n6/20/202...   \n",
       "3    0  Friday, June 21, 2024\\nIntermediate Term:\\nMar...   \n",
       "4    1  \\n37058.23\\n5473.17\\n4831.39\\n17721.59\\n15160....   \n",
       "5    0  Company Research Highlights\\n®\\nReport created...   \n",
       "\n",
       "                                            document  \n",
       "0  /Users/asiegel/.pixeltable/file_cache/ae7c9d97...  \n",
       "1  /Users/asiegel/.pixeltable/file_cache/ae7c9d97...  \n",
       "2  /Users/asiegel/.pixeltable/file_cache/ae7c9d97...  \n",
       "3  /Users/asiegel/.pixeltable/file_cache/ae7c9d97...  \n",
       "4  /Users/asiegel/.pixeltable/file_cache/ae7c9d97...  \n",
       "5  /Users/asiegel/.pixeltable/file_cache/ae7c9d97...  "
      ]
     },
     "execution_count": 10,
     "metadata": {},
     "output_type": "execute_result"
    }
   ],
   "source": [
    "chunks_t.where(chunks_t.pos < 2).show()"
   ]
  },
  {
   "cell_type": "markdown",
   "metadata": {},
   "source": [
    "Now let's compute vector embeddings for the document chunks and store them in a vector index. Pixeltable has built-in support for vector indexing using a variety of embedding model families, and it's easy for users to add new ones via UDFs. In this demo, we're going to use the E5 model from the Huggingface `sentence_transformers` library, which runs locally. \n",
    "\n",
    "The following command creates a vector index on the `text` column in the `chunks` table, using the E5 embedding model. Note that defining the index is sufficient in order to load it with the existing data (and also to update it when the underlying data changes, as we'll see later)."
   ]
  },
  {
   "cell_type": "code",
   "execution_count": 12,
   "metadata": {
    "metadata": {}
   },
   "outputs": [
    {
     "name": "stdout",
     "output_type": "stream",
     "text": [
      "Computing cells: 100%|██████████████████████████████████████████| 41/41 [00:11<00:00,  3.69 cells/s]\n"
     ]
    }
   ],
   "source": [
    "from pixeltable.functions.huggingface import sentence_transformer\n",
    "\n",
    "@pxt.expr_udf\n",
    "def e5_embed(text: str) -> np.ndarray:\n",
    "    return sentence_transformer(text, model_id='intfloat/e5-large-v2')\n",
    "\n",
    "chunks_t.add_embedding_index('text', string_embed=e5_embed)"
   ]
  },
  {
   "cell_type": "markdown",
   "metadata": {},
   "source": [
    "This completes the first part of our application, creating an indexed document base. Next, we'll use it to run some queries."
   ]
  },
  {
   "cell_type": "markdown",
   "metadata": {},
   "source": [
    "## 2. Querying\n",
    "\n",
    "In order to express a top-k lookup against our index, we use Pixeltable's `similarity` operator in combination with the standard `order_by` and `limit` operations. Before building this into our application, let's run a sample query to make sure it works."
   ]
  },
  {
   "cell_type": "code",
   "execution_count": 13,
   "metadata": {
    "metadata": {},
    "scrolled": true
   },
   "outputs": [
    {
     "data": {
      "text/html": [
       "<table border=\"1\" class=\"dataframe\">\n",
       "  <thead>\n",
       "    <tr style=\"text-align: right;\">\n",
       "      <th>similarity</th>\n",
       "      <th>text</th>\n",
       "    </tr>\n",
       "  </thead>\n",
       "  <tbody>\n",
       "    <tr>\n",
       "      <td>0.801</td>\n",
       "      <td>on 6/20/2024:\n",
       "\\$176.30\n",
       "Communication Services Sector\n",
       "Market Capitalization:\n",
       "\\$2182.8 B\n",
       "Interactive Media &amp; Services Industry\n",
       "Alphabet Class A\n",
       "The content on this page is provided by third parties and not Fidelity. Fidelity did not prepare and does not endorse such content. All are third-party companies that are not affiliated with Fidelity.\n",
       "See each section in this report for third-party content attribution and see page 4 for full disclosures.\n",
       "Page 2\n",
       "Report created on June 21, 2024\n",
       "Equity Sum ...... rom\n",
       "contributors. The number of contributors for\n",
       "each security where there is a consensus\n",
       "recommendation is provided. Each\n",
       "contributor determines how their individual\n",
       "recommendation scale maps to the I/B/E/S\n",
       "from Refinitiv 5-point scale.\n",
       "Visit Fidelity.com for firm descriptions,\n",
       "detailed methodologies, and more\n",
       "information on the Equity Summary Score,\n",
       "First Call Consensus, opinion history and\n",
       "performance, and most current available\n",
       "research reports for GOOGL.\n",
       "Equity Summary Score  (7 Firms†)</td>\n",
       "    </tr>\n",
       "    <tr>\n",
       "      <td>0.799</td>\n",
       "      <td>/B/E/S from Refinitiv\n",
       "Earnings in US Dollars\n",
       "ACTUALS\n",
       "ESTIMATES\n",
       "STARMINE ESTIMATES\n",
       "GOOGL PRICE\n",
       "Q2\n",
       "Q1\n",
       "2024\n",
       "2024\n",
       "2024\n",
       "2024\n",
       "Q4\n",
       "Q3\n",
       "Q2\n",
       "Q1\n",
       "2023\n",
       "2023\n",
       "2023\n",
       "2023\n",
       "Q4\n",
       "Q3\n",
       "Q2\n",
       "Q1\n",
       "2022\n",
       "2022\n",
       "2022\n",
       "2022\n",
       "\\$0\n",
       "\\$100\n",
       "\\$200\n",
       "Today\n",
       "1.23\n",
       "1.21\n",
       "1.06\n",
       "1.05\n",
       "1.17\n",
       "1.44\n",
       "1.55\n",
       "1.64\n",
       "1.89\n",
       "1.84\n",
       "Actuals vs. Estimates for Fiscal Year\n",
       "First Call Estimates\n",
       " \n",
       "Actual (\\$)\n",
       "Consensus (\\$)\n",
       "Analysts in Consensus\n",
       "Low / High Range (\\$)\n",
       "Previous Year (Ends 12/31/23)\n",
       "5.80\n",
       "5.74\n",
       "48\n",
       "5.26 / 6.10\n",
       "Next Year (Ends 12/31/24)\n",
       "--\n",
       "7.57\n",
       "53\n",
       "6.87 / 8.17\n",
       "Industry Comparisons**  Data provided by S&amp;P Compustat\n",
       "Valuation Ratios (trailing 12 months)\n",
       "GOOGL\n",
       "Industry\n",
       "GOOGL Percentile Rank in Industry\n",
       "Price / Earnings\n",
       "27.0\n",
       "28.1\n",
       "--\n",
       "PEG Ratio\n",
       "1</td>\n",
       "    </tr>\n",
       "    <tr>\n",
       "      <td>0.796</td>\n",
       "      <td>+11.78%\n",
       "Enterprise Value\n",
       "\\$2103.1 B\n",
       "6/20/2024\n",
       "Ex. Dividend Date\n",
       "6/10/2024\n",
       "Dividend\n",
       "\\$0.200000\n",
       "Dividend Yield (Annualized)\n",
       "0.45%\n",
       "6/20/2024\n",
       "P/E (TTM)\n",
       "27.0\n",
       "6/20/2024\n",
       "Earning Yield (TTM)\n",
       "+3.70%\n",
       "6/20/2024\n",
       "EPS (Adjusted TTM)\n",
       "\\$1.89\n",
       "4/25/2024\n",
       "Consensus EPS Estimate\n",
       "(Q2 2024)\n",
       "\\$1.84\n",
       "EPS Growth\n",
       "(TTM vs. Prior TTM)\n",
       "+45.2%\n",
       "3-Year Price Performance  Data provided by DataScope from Refinitiv\n",
       "Q3\n",
       "Q4\n",
       "Q1\n",
       "Q2\n",
       "Q3\n",
       "Q4\n",
       "Q1\n",
       "Q2\n",
       "Q3\n",
       "Q4\n",
       "Q1\n",
       "Q2\n",
       "2021\n",
       "2022\n",
       "2023\n",
       "2024\n",
       "-40%\n",
       "-20%\n",
       "0%\n",
       "20%\n",
       "40%\n",
       "0\n",
       "500\n",
       "Average Monthly Volume (Millions)\n",
       "50-Day Moving Average\n",
       "200-Day Moving Average\n",
       "Trading Characteristics\n",
       "52 Week High\n",
       "6/12/2024\n",
       "\\$180.41\n",
       "52 Week Low\n",
       "7/11/2023\n",
       "\\$115.35\n",
       "% Price Above/Below\n",
       "   20-Day Average\n",
       "2.4\n",
       "   50-Day Average</td>\n",
       "    </tr>\n",
       "    <tr>\n",
       "      <td>0.795</td>\n",
       "      <td>Friday, June 21, 2024\n",
       "Intermediate Term:\n",
       "Market Outlook\n",
       "Bullish\n",
       "-------------- PORTFOLIO STRATEGY -------------\n",
       "Equity:\n",
       "72%\n",
       "Cash:\n",
       "1%\n",
       "Today&#x27;s Market Movers\n",
       "IMPACT\n",
       "aGlobal Shares Lower\n",
       "GILD Pops on HIV Drug Results\n",
       "SRPT Soars on FDA Approval\n",
       "SWBI Drops on Sales Guidance\n",
       "+\n",
       "+\n",
       "+\n",
       "-\n",
       "a\n",
       "a\n",
       "a\n",
       "Recent Research Review\n",
       "ADSK, MRNA, IQV, WMB, BUD, LYFT, SRE, BP, \n",
       "AEE, PPC, JNPR, ORCL, CMG, TPR, DPZ, EOG, \n",
       "COST, PLTR, COR, VRTX\n",
       "Statistics Diary\n",
       "12-Mth S&amp;P 500 Forcast:\n",
       "S&amp;P 500 Current/Next EPS:\n",
       "S&amp;P 500 P/E:\n",
       "12-Mth S&amp;P P/E Range:\n",
       "10-Year Yield:\n",
       "12-Mth 10-Yr. Bond Forecast:\n",
       "Current Fed Funds Target:\n",
       "12-Mth Fed Funds Forecast:\n",
       "4800-5600\n",
       "247/265\n",
       "22.16\n",
       "18.1 - 21.1\n",
       "4.26%\n",
       "3.50-4.50%\n",
       "4.62%\n",
       "4.50-5.50%\n",
       "DJIA:\n",
       "S&amp;P 500:\n",
       "NASDAQ:\n",
       "Lrg/Small Cap:\n",
       "Growth/Value:\n",
       "PREVIOUS\n",
       "CLOSE\n",
       "200-DAY\n",
       "AVERAGE\n",
       "39134.76</td>\n",
       "    </tr>\n",
       "    <tr>\n",
       "      <td>0.794</td>\n",
       "      <td>2024:\n",
       "\\$176.30\n",
       "Communication Services Sector\n",
       "Market Capitalization:\n",
       "\\$2182.8 B\n",
       "Interactive Media &amp; Services Industry\n",
       "Alphabet Class A\n",
       "The content on this page is provided by third parties and not Fidelity. Fidelity did not prepare and does not endorse such content. All are third-party companies that are not affiliated with Fidelity.\n",
       "See each section in this report for third-party content attribution.\n",
       " \n",
       " © 2024 FMR LLC. All rights reserved. 447628.8.0\n",
       "Page 4\n",
       "Report created on June 21, 2024\n",
       "Impo ...... alyst recommendations data and analysis provided by Investars. All are third-party companies that are not affiliated with Fidelity.\n",
       "This report provides quotes and data concerning the financial markets, securities and other subjects. Content is supplied by companies that are not affiliated with Fidelity (&quot;Third-Party\n",
       "Content&quot;). Most Third-Party Content and its source are clearly and prominently identified. Fidelity does not prepare, edit, or endorse Third-Party Content. News and research are</td>\n",
       "    </tr>\n",
       "  </tbody>\n",
       "</table>"
      ],
      "text/plain": [
       "   similarity                                               text\n",
       "0    0.800725   on 6/20/2024:\\n$176.30\\nCommunication Service...\n",
       "1    0.799386  /B/E/S from Refinitiv\\nEarnings in US Dollars\\...\n",
       "2    0.796000  +11.78%\\nEnterprise Value\\n$2103.1 B\\n6/20/202...\n",
       "3    0.794835  Friday, June 21, 2024\\nIntermediate Term:\\nMar...\n",
       "4    0.794355  2024:\\n$176.30\\nCommunication Services Sector\\..."
      ]
     },
     "execution_count": 13,
     "metadata": {},
     "output_type": "execute_result"
    }
   ],
   "source": [
    "query_text = \"What is the expected EPS for Nvidia in Q1 2026?\"\n",
    "sim = chunks_t.text.similarity(query_text)\n",
    "nvidia_eps_query = (\n",
    "    chunks_t.order_by(sim, asc=False)\n",
    "        .select(similarity=sim, text=chunks_t.text)\n",
    "        .limit(5)\n",
    "    )\n",
    "nvidia_eps_query.collect()"
   ]
  },
  {
   "cell_type": "markdown",
   "metadata": {},
   "source": [
    "We perform this context retrieval for each row of our `queries` table by adding it as a computed column. In this case, the operation is a top-k similarity lookup against the data in the `chunks` table. To implement this operation, we'll use Pixeltable's `@query` decorator to enhance the capabilities of the `chunks` table."
   ]
  },
  {
   "cell_type": "code",
   "execution_count": 14,
   "metadata": {
    "metadata": {}
   },
   "outputs": [
    {
     "name": "stdout",
     "output_type": "stream",
     "text": [
      "Computing cells: 100%|████████████████████████████████████████████| 8/8 [00:02<00:00,  3.97 cells/s]\n",
      "Added 8 column values with 0 errors.\n"
     ]
    }
   ],
   "source": [
    "# A @query is essentially a reusable, parameterized query that is attached to a table (or view),\n",
    "# which is a modular way of getting data from that table.\n",
    "\n",
    "@chunks_t.query\n",
    "def top_k(query_text: str):\n",
    "    sim = chunks_t.text.similarity(query_text)\n",
    "    return (\n",
    "        chunks_t.order_by(sim, asc=False)\n",
    "            .select(chunks_t.text, sim=sim)\n",
    "            .limit(5)\n",
    "    )\n",
    "\n",
    "# Now add a computed column to `queries_t`, calling the stored query\n",
    "# `chunks_t.top_k` that we just defined.\n",
    "queries_t['question_context'] = chunks_t.top_k(queries_t.Question)"
   ]
  },
  {
   "cell_type": "markdown",
   "metadata": {},
   "source": [
    "Our `queries` table now looks like this:"
   ]
  },
  {
   "cell_type": "code",
   "execution_count": 15,
   "metadata": {},
   "outputs": [
    {
     "data": {
      "text/html": [
       "<style type=\"text/css\">\n",
       "#T_83ef4 th {\n",
       "  text-align: center;\n",
       "}\n",
       "#T_83ef4_row0_col0, #T_83ef4_row0_col1, #T_83ef4_row0_col2, #T_83ef4_row1_col0, #T_83ef4_row1_col1, #T_83ef4_row1_col2, #T_83ef4_row2_col0, #T_83ef4_row2_col1, #T_83ef4_row2_col2, #T_83ef4_row3_col0, #T_83ef4_row3_col1, #T_83ef4_row3_col2 {\n",
       "  white-space: pre-wrap;\n",
       "  text-align: left;\n",
       "}\n",
       "</style>\n",
       "<table id=\"T_83ef4\">\n",
       "  <thead>\n",
       "    <tr>\n",
       "      <th id=\"T_83ef4_level0_col0\" class=\"col_heading level0 col0\" >Column Name</th>\n",
       "      <th id=\"T_83ef4_level0_col1\" class=\"col_heading level0 col1\" >Type</th>\n",
       "      <th id=\"T_83ef4_level0_col2\" class=\"col_heading level0 col2\" >Computed With</th>\n",
       "    </tr>\n",
       "  </thead>\n",
       "  <tbody>\n",
       "    <tr>\n",
       "      <td id=\"T_83ef4_row0_col0\" class=\"data row0 col0\" >S__No_</td>\n",
       "      <td id=\"T_83ef4_row0_col1\" class=\"data row0 col1\" >int</td>\n",
       "      <td id=\"T_83ef4_row0_col2\" class=\"data row0 col2\" ></td>\n",
       "    </tr>\n",
       "    <tr>\n",
       "      <td id=\"T_83ef4_row1_col0\" class=\"data row1 col0\" >Question</td>\n",
       "      <td id=\"T_83ef4_row1_col1\" class=\"data row1 col1\" >string</td>\n",
       "      <td id=\"T_83ef4_row1_col2\" class=\"data row1 col2\" ></td>\n",
       "    </tr>\n",
       "    <tr>\n",
       "      <td id=\"T_83ef4_row2_col0\" class=\"data row2 col0\" >correct_answer</td>\n",
       "      <td id=\"T_83ef4_row2_col1\" class=\"data row2 col1\" >string</td>\n",
       "      <td id=\"T_83ef4_row2_col2\" class=\"data row2 col2\" ></td>\n",
       "    </tr>\n",
       "    <tr>\n",
       "      <td id=\"T_83ef4_row3_col0\" class=\"data row3 col0\" >question_context</td>\n",
       "      <td id=\"T_83ef4_row3_col1\" class=\"data row3 col1\" >json</td>\n",
       "      <td id=\"T_83ef4_row3_col2\" class=\"data row3 col2\" >top_k(Question)</td>\n",
       "    </tr>\n",
       "  </tbody>\n",
       "</table>\n"
      ],
      "text/plain": [
       "table 'queries'\n",
       "\n",
       "     Column Name   Type   Computed With\n",
       "          S__No_    int                \n",
       "        Question string                \n",
       "  correct_answer string                \n",
       "question_context   json top_k(Question)"
      ]
     },
     "execution_count": 15,
     "metadata": {},
     "output_type": "execute_result"
    }
   ],
   "source": [
    "queries_t"
   ]
  },
  {
   "cell_type": "markdown",
   "metadata": {},
   "source": [
    "The new column `question_context` now contains the result of executing the query for each row, formatted as a list of dictionaries:"
   ]
  },
  {
   "cell_type": "code",
   "execution_count": 16,
   "metadata": {},
   "outputs": [
    {
     "data": {
      "text/html": [
       "<table border=\"1\" class=\"dataframe\">\n",
       "  <thead>\n",
       "    <tr style=\"text-align: right;\">\n",
       "      <th>question_context</th>\n",
       "    </tr>\n",
       "  </thead>\n",
       "  <tbody>\n",
       "    <tr>\n",
       "      <td>[{&quot;sim&quot;: 0.795, &quot;text&quot;: &quot; that simply hasn&#x27;t happened, and current sentiment \\nreflects pent-up frustration with the overall lack of purchase affordability.\\&quot; \\nBased on the  ...... .5% for April. The Zillow Home Value index rose by 4.3% in April and \\n4.3% in May. High mortgage rates are a challenge, but we remain bullish on \\n&quot;}, {&quot;sim&quot;: 0.794, &quot;text&quot;: &quot;\\n37058.23\\n5473.17\\n4831.39\\n17721.59\\n15160.55\\n1.48\\n1.37\\n2.07\\n1.86\\nCURRENT\\nRANKING\\nFive-Day Put/Call:\\nMomentum:\\nBullish Sentiment:\\nMutual Fund Cash:\\n ......  \\nEconomist \\nat \\nFannie \\nMae, \\nsaid \\n\\&quot;While \\nmany \\nrespondents expressed optimism at the beginning of the year that mortgage \\nrates would decline,&quot;}, {&quot;sim&quot;: 0.779, &quot;text&quot;: &quot;+11.78%\\nEnterprise Value\\n\\$2103.1 B\\n6/20/2024\\nEx. Dividend Date\\n6/10/2024\\nDividend\\n\\$0.200000\\nDividend Yield (Annualized)\\n0.45%\\n6/20/2024\\nP/E (TTM)\\n ...... e\\nTrading Characteristics\\n52 Week High\\n6/12/2024\\n\\$180.41\\n52 Week Low\\n7/11/2023\\n\\$115.35\\n% Price Above/Below\\n   20-Day Average\\n2.4\\n   50-Day Average&quot;}, {&quot;sim&quot;: 0.77, &quot;text&quot;: &quot;, duplication, redistribution or disclosure is prohibited by law and can result in prosecution. The content of this report \\nmay be derived from Ar ......  no liability for any loss arising from the use of this report, nor shall Argus treat all recipients of this report as \\ncustomers simply by virtue&quot;}, {&quot;sim&quot;: 0.768, &quot;text&quot;: &quot; \\$11.97-\\$12.20; the new guidance implies growth of 2%-3% from FY23. That is down from 3%-5% growth\\nguidance offered in March 2024.\\nWe are reducing ...... h flow from operations was \\$9.52 billion in FY23, \\$9.54 billion in FY22, \\$8.98 billion in FY21, \\$8.36 billion in FY20,\\nand \\$6.63 billion in FY19.\\n&quot;}]</td>\n",
       "    </tr>\n",
       "  </tbody>\n",
       "</table>"
      ],
      "text/plain": [
       "                                    question_context\n",
       "0  [{'sim': 0.7950694683152768, 'text': ' that si..."
      ]
     },
     "execution_count": 16,
     "metadata": {},
     "output_type": "execute_result"
    }
   ],
   "source": [
    "queries_t.select(queries_t.question_context).head(1)"
   ]
  },
  {
   "cell_type": "markdown",
   "metadata": {},
   "source": [
    "### Asking the LLM\n",
    "\n",
    "Now it's time for the final step in our application: feeding the document chunks and questions to an LLM for resolution. In this demo, we'll use OpenAI for this, but any other inference cloud or local model could be used instead.\n",
    "\n",
    "We start by defining a UDF that takes a top-k list of context chunks and a question and turns them into a ChatGPT prompt."
   ]
  },
  {
   "cell_type": "code",
   "execution_count": 17,
   "metadata": {},
   "outputs": [],
   "source": [
    "# Define a UDF to create an LLM prompt given a top-k list of context chunks and a question.\n",
    "@pxt.udf\n",
    "def create_prompt(top_k_list: list[dict], question: str) -> str:\n",
    "    concat_top_k = '\\n\\n'.join(elt['text'] for elt in reversed(top_k_list))\n",
    "    return f'''\n",
    "    PASSAGES:\n",
    "\n",
    "    {concat_top_k}\n",
    "\n",
    "    QUESTION:\n",
    "\n",
    "    {question}'''"
   ]
  },
  {
   "cell_type": "markdown",
   "metadata": {},
   "source": [
    "We then add that again as a computed column to `queries`:"
   ]
  },
  {
   "cell_type": "code",
   "execution_count": 18,
   "metadata": {},
   "outputs": [
    {
     "name": "stdout",
     "output_type": "stream",
     "text": [
      "Computing cells: 100%|███████████████████████████████████████████| 8/8 [00:00<00:00, 458.80 cells/s]\n",
      "Computing cells: 100%|██████████████████████████████████████████| 8/8 [00:00<00:00, 1213.02 cells/s]\n",
      "Added 8 column values with 0 errors.\n"
     ]
    }
   ],
   "source": [
    "queries_t['prompt'] = create_prompt(queries_t.question_context, queries_t.Question)"
   ]
  },
  {
   "cell_type": "markdown",
   "metadata": {},
   "source": [
    "We now have a new string column containing the prompt:"
   ]
  },
  {
   "cell_type": "code",
   "execution_count": 19,
   "metadata": {},
   "outputs": [
    {
     "data": {
      "text/html": [
       "<style type=\"text/css\">\n",
       "#T_db246 th {\n",
       "  text-align: center;\n",
       "}\n",
       "#T_db246_row0_col0, #T_db246_row0_col1, #T_db246_row0_col2, #T_db246_row1_col0, #T_db246_row1_col1, #T_db246_row1_col2, #T_db246_row2_col0, #T_db246_row2_col1, #T_db246_row2_col2, #T_db246_row3_col0, #T_db246_row3_col1, #T_db246_row3_col2, #T_db246_row4_col0, #T_db246_row4_col1, #T_db246_row4_col2 {\n",
       "  white-space: pre-wrap;\n",
       "  text-align: left;\n",
       "}\n",
       "</style>\n",
       "<table id=\"T_db246\">\n",
       "  <thead>\n",
       "    <tr>\n",
       "      <th id=\"T_db246_level0_col0\" class=\"col_heading level0 col0\" >Column Name</th>\n",
       "      <th id=\"T_db246_level0_col1\" class=\"col_heading level0 col1\" >Type</th>\n",
       "      <th id=\"T_db246_level0_col2\" class=\"col_heading level0 col2\" >Computed With</th>\n",
       "    </tr>\n",
       "  </thead>\n",
       "  <tbody>\n",
       "    <tr>\n",
       "      <td id=\"T_db246_row0_col0\" class=\"data row0 col0\" >S__No_</td>\n",
       "      <td id=\"T_db246_row0_col1\" class=\"data row0 col1\" >int</td>\n",
       "      <td id=\"T_db246_row0_col2\" class=\"data row0 col2\" ></td>\n",
       "    </tr>\n",
       "    <tr>\n",
       "      <td id=\"T_db246_row1_col0\" class=\"data row1 col0\" >Question</td>\n",
       "      <td id=\"T_db246_row1_col1\" class=\"data row1 col1\" >string</td>\n",
       "      <td id=\"T_db246_row1_col2\" class=\"data row1 col2\" ></td>\n",
       "    </tr>\n",
       "    <tr>\n",
       "      <td id=\"T_db246_row2_col0\" class=\"data row2 col0\" >correct_answer</td>\n",
       "      <td id=\"T_db246_row2_col1\" class=\"data row2 col1\" >string</td>\n",
       "      <td id=\"T_db246_row2_col2\" class=\"data row2 col2\" ></td>\n",
       "    </tr>\n",
       "    <tr>\n",
       "      <td id=\"T_db246_row3_col0\" class=\"data row3 col0\" >question_context</td>\n",
       "      <td id=\"T_db246_row3_col1\" class=\"data row3 col1\" >json</td>\n",
       "      <td id=\"T_db246_row3_col2\" class=\"data row3 col2\" >top_k(Question)</td>\n",
       "    </tr>\n",
       "    <tr>\n",
       "      <td id=\"T_db246_row4_col0\" class=\"data row4 col0\" >prompt</td>\n",
       "      <td id=\"T_db246_row4_col1\" class=\"data row4 col1\" >string</td>\n",
       "      <td id=\"T_db246_row4_col2\" class=\"data row4 col2\" >create_prompt(question_context, Question)</td>\n",
       "    </tr>\n",
       "  </tbody>\n",
       "</table>\n"
      ],
      "text/plain": [
       "table 'queries'\n",
       "\n",
       "     Column Name   Type                             Computed With\n",
       "          S__No_    int                                          \n",
       "        Question string                                          \n",
       "  correct_answer string                                          \n",
       "question_context   json                           top_k(Question)\n",
       "          prompt string create_prompt(question_context, Question)"
      ]
     },
     "execution_count": 19,
     "metadata": {},
     "output_type": "execute_result"
    }
   ],
   "source": [
    "queries_t"
   ]
  },
  {
   "cell_type": "code",
   "execution_count": 20,
   "metadata": {},
   "outputs": [
    {
     "data": {
      "text/html": [
       "<table border=\"1\" class=\"dataframe\">\n",
       "  <thead>\n",
       "    <tr style=\"text-align: right;\">\n",
       "      <th>prompt</th>\n",
       "    </tr>\n",
       "  </thead>\n",
       "  <tbody>\n",
       "    <tr>\n",
       "      <td>PASSAGES:\n",
       "\n",
       "     \\$11.97-\\$12.20; the new guidance implies growth of 2%-3% from FY23. That is down from 3%-5% growth\n",
       "guidance offered in March 2024.\n",
       "We are reducing our FY24 non-GAAP earnings estimate to \\$11.88 per diluted share from \\$12.11. However, we are\n",
       "raising our FY25 forecast to \\$12.70 per diluted share from \\$12.68. Our long-term annualized EPS growth rate forecast is 10%.\n",
       "FINANCIAL STRENGTH &amp; DIVIDEND\n",
       "Accenture&#x27;s financial strength ranking is High. The company, which formerly had f ...... of 4.10 million (SAAR), down from 4.23 million in May 2023. Next \n",
       "week, we expect the Commerce Department to report May New Home Sales \n",
       "of 640,000 (SAAR), down from 741,000 a year earlier. The S&amp;P/Case-Shiller \n",
       "National Home Price Index jumped 6.5% in March. We expect it to rise about \n",
       "4.5% for April. The Zillow Home Value index rose by 4.3% in April and \n",
       "4.3% in May. High mortgage rates are a challenge, but we remain bullish on \n",
       "\n",
       "\n",
       "    QUESTION:\n",
       "\n",
       "    What is roughly the current mortage rate?</td>\n",
       "    </tr>\n",
       "  </tbody>\n",
       "</table>"
      ],
      "text/plain": [
       "                                              prompt\n",
       "0  \\n    PASSAGES:\\n\\n     $11.97-$12.20; the new..."
      ]
     },
     "execution_count": 20,
     "metadata": {},
     "output_type": "execute_result"
    }
   ],
   "source": [
    "queries_t.select(queries_t.prompt).head(1)"
   ]
  },
  {
   "cell_type": "markdown",
   "metadata": {},
   "source": [
    "We now add another computed column to call OpenAI. For the `chat_completions()` call, we need to construct two messages, containing the instructions to the model and the prompt. For the latter, we can simply reference the `prompt` column we just added."
   ]
  },
  {
   "cell_type": "code",
   "execution_count": 21,
   "metadata": {},
   "outputs": [
    {
     "name": "stdout",
     "output_type": "stream",
     "text": [
      "Computing cells: 100%|████████████████████████████████████████████| 8/8 [00:10<00:00,  1.28s/ cells]\n",
      "Added 8 column values with 0 errors.\n"
     ]
    }
   ],
   "source": [
    "from pixeltable.functions import openai\n",
    "\n",
    "# Assemble the prompt and instructions into OpenAI's message format\n",
    "messages = [\n",
    "    {'role': 'system', 'content': 'Please read the following passages and answer the question based on their contents.'},\n",
    "    {'role': 'user', 'content': queries_t.prompt}\n",
    "]\n",
    "\n",
    "# Add a computed column that calls OpenAI\n",
    "queries_t['response'] = openai.chat_completions(model='gpt-4o-mini', messages=messages)"
   ]
  },
  {
   "cell_type": "markdown",
   "metadata": {},
   "source": [
    "Our `queries` table now contains a JSON-structured column `response`, which holds the entire API response structure. At the moment, we're only interested in the response content, which we can extract easily into another computed column:"
   ]
  },
  {
   "cell_type": "code",
   "execution_count": 22,
   "metadata": {},
   "outputs": [
    {
     "name": "stdout",
     "output_type": "stream",
     "text": [
      "Computing cells: 100%|███████████████████████████████████████████| 8/8 [00:00<00:00, 576.79 cells/s]\n",
      "Added 8 column values with 0 errors.\n"
     ]
    }
   ],
   "source": [
    "queries_t['answer'] = queries_t.response.choices[0].message.content"
   ]
  },
  {
   "cell_type": "markdown",
   "metadata": {},
   "source": [
    "We now have the following `queries` schema:"
   ]
  },
  {
   "cell_type": "code",
   "execution_count": 23,
   "metadata": {},
   "outputs": [
    {
     "data": {
      "text/html": [
       "<style type=\"text/css\">\n",
       "#T_90a48 th {\n",
       "  text-align: center;\n",
       "}\n",
       "#T_90a48_row0_col0, #T_90a48_row0_col1, #T_90a48_row0_col2, #T_90a48_row1_col0, #T_90a48_row1_col1, #T_90a48_row1_col2, #T_90a48_row2_col0, #T_90a48_row2_col1, #T_90a48_row2_col2, #T_90a48_row3_col0, #T_90a48_row3_col1, #T_90a48_row3_col2, #T_90a48_row4_col0, #T_90a48_row4_col1, #T_90a48_row4_col2, #T_90a48_row5_col0, #T_90a48_row5_col1, #T_90a48_row5_col2, #T_90a48_row6_col0, #T_90a48_row6_col1, #T_90a48_row6_col2 {\n",
       "  white-space: pre-wrap;\n",
       "  text-align: left;\n",
       "}\n",
       "</style>\n",
       "<table id=\"T_90a48\">\n",
       "  <thead>\n",
       "    <tr>\n",
       "      <th id=\"T_90a48_level0_col0\" class=\"col_heading level0 col0\" >Column Name</th>\n",
       "      <th id=\"T_90a48_level0_col1\" class=\"col_heading level0 col1\" >Type</th>\n",
       "      <th id=\"T_90a48_level0_col2\" class=\"col_heading level0 col2\" >Computed With</th>\n",
       "    </tr>\n",
       "  </thead>\n",
       "  <tbody>\n",
       "    <tr>\n",
       "      <td id=\"T_90a48_row0_col0\" class=\"data row0 col0\" >S__No_</td>\n",
       "      <td id=\"T_90a48_row0_col1\" class=\"data row0 col1\" >int</td>\n",
       "      <td id=\"T_90a48_row0_col2\" class=\"data row0 col2\" ></td>\n",
       "    </tr>\n",
       "    <tr>\n",
       "      <td id=\"T_90a48_row1_col0\" class=\"data row1 col0\" >Question</td>\n",
       "      <td id=\"T_90a48_row1_col1\" class=\"data row1 col1\" >string</td>\n",
       "      <td id=\"T_90a48_row1_col2\" class=\"data row1 col2\" ></td>\n",
       "    </tr>\n",
       "    <tr>\n",
       "      <td id=\"T_90a48_row2_col0\" class=\"data row2 col0\" >correct_answer</td>\n",
       "      <td id=\"T_90a48_row2_col1\" class=\"data row2 col1\" >string</td>\n",
       "      <td id=\"T_90a48_row2_col2\" class=\"data row2 col2\" ></td>\n",
       "    </tr>\n",
       "    <tr>\n",
       "      <td id=\"T_90a48_row3_col0\" class=\"data row3 col0\" >question_context</td>\n",
       "      <td id=\"T_90a48_row3_col1\" class=\"data row3 col1\" >json</td>\n",
       "      <td id=\"T_90a48_row3_col2\" class=\"data row3 col2\" >top_k(Question)</td>\n",
       "    </tr>\n",
       "    <tr>\n",
       "      <td id=\"T_90a48_row4_col0\" class=\"data row4 col0\" >prompt</td>\n",
       "      <td id=\"T_90a48_row4_col1\" class=\"data row4 col1\" >string</td>\n",
       "      <td id=\"T_90a48_row4_col2\" class=\"data row4 col2\" >create_prompt(question_context, Question)</td>\n",
       "    </tr>\n",
       "    <tr>\n",
       "      <td id=\"T_90a48_row5_col0\" class=\"data row5 col0\" >response</td>\n",
       "      <td id=\"T_90a48_row5_col1\" class=\"data row5 col1\" >json</td>\n",
       "      <td id=\"T_90a48_row5_col2\" class=\"data row5 col2\" >chat_completions([{'role': 'system', 'content': 'Please read the following passages and answer the question based on their contents.'}, {'role': 'user', 'content': prompt}], model='gpt-4o-mini')</td>\n",
       "    </tr>\n",
       "    <tr>\n",
       "      <td id=\"T_90a48_row6_col0\" class=\"data row6 col0\" >answer</td>\n",
       "      <td id=\"T_90a48_row6_col1\" class=\"data row6 col1\" >json</td>\n",
       "      <td id=\"T_90a48_row6_col2\" class=\"data row6 col2\" >response.choices[0].message.content</td>\n",
       "    </tr>\n",
       "  </tbody>\n",
       "</table>\n"
      ],
      "text/plain": [
       "table 'queries'\n",
       "\n",
       "     Column Name   Type                                                                                                                                                                                      Computed With\n",
       "          S__No_    int                                                                                                                                                                                                   \n",
       "        Question string                                                                                                                                                                                                   \n",
       "  correct_answer string                                                                                                                                                                                                   \n",
       "question_context   json                                                                                                                                                                                    top_k(Question)\n",
       "          prompt string                                                                                                                                                          create_prompt(question_context, Question)\n",
       "        response   json chat_completions([{'role': 'system', 'content': 'Please read the following passages and answer the question based on their contents.'}, {'role': 'user', 'content': prompt}], model='gpt-4o-mini')\n",
       "          answer   json                                                                                                                                                                response.choices[0].message.content"
      ]
     },
     "execution_count": 23,
     "metadata": {},
     "output_type": "execute_result"
    }
   ],
   "source": [
    "queries_t"
   ]
  },
  {
   "cell_type": "markdown",
   "metadata": {},
   "source": [
    "Let's take a look at what we got back:"
   ]
  },
  {
   "cell_type": "code",
   "execution_count": 24,
   "metadata": {},
   "outputs": [
    {
     "data": {
      "text/html": [
       "<table border=\"1\" class=\"dataframe\">\n",
       "  <thead>\n",
       "    <tr style=\"text-align: right;\">\n",
       "      <th>Question</th>\n",
       "      <th>correct_answer</th>\n",
       "      <th>answer</th>\n",
       "    </tr>\n",
       "  </thead>\n",
       "  <tbody>\n",
       "    <tr>\n",
       "      <td>What is the expected EPS for Nvidia in Q1 2026?</td>\n",
       "      <td>0.73 EPS</td>\n",
       "      <td>The provided passages do not contain any information regarding Nvidia&#x27;s expected EPS for Q1 2026. They focus primarily on data related to Alphabet Class A (GOOGL) and certain market statistics, without mentioning Nvidia or its financial metrics. Therefore, it is not possible to answer the question based on the given information.</td>\n",
       "    </tr>\n",
       "    <tr>\n",
       "      <td>What is the market capitalization of Alphabet?</td>\n",
       "      <td>\\$2182.8 Billion</td>\n",
       "      <td>The market capitalization of Alphabet (Class A) is \\$2,182.8 billion.</td>\n",
       "    </tr>\n",
       "    <tr>\n",
       "      <td>What is the overall latest rating for Amazon.com from analysts?</td>\n",
       "      <td>SELL</td>\n",
       "      <td>The provided passages contain no information about Amazon.com; they focus solely on Alphabet Inc. (GOOGL) and its ratings from various analysts. Therefore, I cannot provide the latest rating for Amazon.com based on the information given.</td>\n",
       "    </tr>\n",
       "    <tr>\n",
       "      <td>What is roughly the current mortage rate?</td>\n",
       "      <td>0.07</td>\n",
       "      <td>The current mortgage rate is near 7%.</td>\n",
       "    </tr>\n",
       "    <tr>\n",
       "      <td>What is the operating cash flow of Amazon in Q1 2024?</td>\n",
       "      <td>18,989 Million</td>\n",
       "      <td>The passages provided do not contain any information about Amazon&#x27;s operating cash flow for Q1 2024. They focus on financial data related to Accenture and Alphabet Class A (Google). Therefore, I cannot answer the question regarding Amazon&#x27;s operating cash flow.</td>\n",
       "    </tr>\n",
       "    <tr>\n",
       "      <td>What are the latest financial metrics for Accenture PLC?</td>\n",
       "      <td>missed consensus forecasts and strong total bookings rising by 22% annually</td>\n",
       "      <td>The latest financial metrics for Accenture PLC include:\n",
       "\n",
       "1. **Free Cash Flow**: \n",
       "   - Forecast for FY24: \\$8.7-\\$9.3 billion\n",
       "   - FY23: \\$9.0 billion\n",
       "   - FY22: \\$8.2 billion\n",
       "   - FY21: \\$8.4 billion\n",
       "   - FY20: \\$7.6 billion\n",
       "\n",
       "2. **Shareholder Returns**:\n",
       "   - Expected return for FY24: At least \\$7.7 billion\n",
       "   - FY23: \\$7.2 billion returned\n",
       "   - FY22: \\$6.1 billion returned\n",
       "   - FY21: \\$5.9 billion returned\n",
       "   - FY20: \\$5.0 billion returned\n",
       "\n",
       "3. **Dividends**:\n",
       "   - Quarterly dividend as of September 2023 ...... .\n",
       "   - FY25 forecast EPS: \\$12.70 per diluted share.\n",
       "\n",
       "6. **Financial Strength**:\n",
       "   - Cash at the end of 3Q24: \\$5.54 billion\n",
       "   - Debt as of the end of 3Q24: \\$1.68 billion\n",
       "   - Credit ratings: Moody&#x27;s Aa3, Standard &amp; Poor&#x27;s A+\n",
       "\n",
       "7. **Cash Flow from Operations**:\n",
       "   - FY23: \\$9.52 billion\n",
       "   - FY22: \\$9.54 billion\n",
       "\n",
       "These metrics indicate a stable financial position for Accenture with strong cash flow, significant shareholder returns, and consistent dividend growth despite macroeconomic pressures.</td>\n",
       "    </tr>\n",
       "    <tr>\n",
       "      <td>What are the main reasons to buy Nvidia?</td>\n",
       "      <td>Datacenter, GPUs Demands, Self-driving, and cash-flow</td>\n",
       "      <td>The passage does not provide specific reasons to buy Nvidia directly; however, it does mention a critical context regarding Nvidia&#x27;s performance. The passage states that Nvidia shares lost ground, indicating a notable decline (3.5%). This suggests that there may be market fluctuations impacting investor sentiment.\n",
       "\n",
       "Nonetheless, despite the short-term decline, the reference to &quot;the major indices are comfortably ahead for the year to date&quot; implies that Nvidia could still be part of a larger uptrend in the market. Investors might consider Nvidia as a potential buy based on its previous performance and future prospects in the AI sector, since the overall market environment remains optimistic regarding AI technologies.\n",
       "\n",
       "In summary, while the passage does not explicitly outline reasons to buy Nvidia, potential investors might focus on its involvement in AI technologies, historical performance, and the broader positive trends in the market despite recent dips.</td>\n",
       "    </tr>\n",
       "    <tr>\n",
       "      <td>What is the current dividend yield for Alphabet Inc. (\\$GOOGL)?</td>\n",
       "      <td>0.0046</td>\n",
       "      <td>The passages provided do not mention a current dividend yield for Alphabet Inc. (\\$GOOGL). In fact, there is no reference to any dividends in the content. Therefore, based on the information available, it can be concluded that Alphabet Inc. does not currently offer a dividend yield.</td>\n",
       "    </tr>\n",
       "  </tbody>\n",
       "</table>"
      ],
      "text/plain": [
       "                                            Question  \\\n",
       "0    What is the expected EPS for Nvidia in Q1 2026?   \n",
       "1     What is the market capitalization of Alphabet?   \n",
       "2  What is the overall latest rating for Amazon.c...   \n",
       "3          What is roughly the current mortage rate?   \n",
       "4  What is the operating cash flow of Amazon in Q...   \n",
       "5  What are the latest financial metrics for Acce...   \n",
       "6           What are the main reasons to buy Nvidia?   \n",
       "7  What is the current dividend yield for Alphabe...   \n",
       "\n",
       "                                      correct_answer  \\\n",
       "0                                           0.73 EPS   \n",
       "1                                    $2182.8 Billion   \n",
       "2                                               SELL   \n",
       "3                                               0.07   \n",
       "4                                     18,989 Million   \n",
       "5  missed consensus forecasts and strong total bo...   \n",
       "6  Datacenter, GPUs Demands, Self-driving, and ca...   \n",
       "7                                             0.0046   \n",
       "\n",
       "                                              answer  \n",
       "0  The provided passages do not contain any infor...  \n",
       "1  The market capitalization of Alphabet (Class A...  \n",
       "2  The provided passages contain no information a...  \n",
       "3              The current mortgage rate is near 7%.  \n",
       "4  The passages provided do not contain any infor...  \n",
       "5  The latest financial metrics for Accenture PLC...  \n",
       "6  The passage does not provide specific reasons ...  \n",
       "7  The passages provided do not mention a current...  "
      ]
     },
     "execution_count": 24,
     "metadata": {},
     "output_type": "execute_result"
    }
   ],
   "source": [
    "queries_t.select(queries_t.Question, queries_t.correct_answer, queries_t.answer).show()"
   ]
  },
  {
   "cell_type": "markdown",
   "metadata": {},
   "source": [
    "The application works, but, as expected, a few questions couldn't be answered due to the missing documents. As a final step, let's add the remaining documents to our document base, and run the queries again."
   ]
  },
  {
   "cell_type": "markdown",
   "metadata": {},
   "source": [
    "## Incremental Updates"
   ]
  },
  {
   "cell_type": "markdown",
   "metadata": {},
   "source": [
    "Pixeltable's views and computed columns update automatically in response to new data. We can see this when we add the remaining documents to our `documents` table. Watch how the `chunks` view is updated to stay in sync with `documents`:"
   ]
  },
  {
   "cell_type": "code",
   "execution_count": 25,
   "metadata": {},
   "outputs": [
    {
     "name": "stdout",
     "output_type": "stream",
     "text": [
      "Inserting rows into `documents`: 3 rows [00:00, 1533.57 rows/s]\n",
      "Inserting rows into `chunks`: 68 rows [00:00, 754.41 rows/s]\n",
      "Inserted 71 rows with 0 errors.\n"
     ]
    },
    {
     "data": {
      "text/plain": [
       "UpdateStatus(num_rows=71, num_computed_values=0, num_excs=0, updated_cols=[], cols_with_excs=[])"
      ]
     },
     "execution_count": 25,
     "metadata": {},
     "output_type": "execute_result"
    }
   ],
   "source": [
    "documents_t.insert({'document': p} for p in document_urls[3:])"
   ]
  },
  {
   "cell_type": "code",
   "execution_count": 26,
   "metadata": {
    "scrolled": true
   },
   "outputs": [
    {
     "data": {
      "text/html": [
       "<table border=\"1\" class=\"dataframe\">\n",
       "  <thead>\n",
       "    <tr style=\"text-align: right;\">\n",
       "      <th>document</th>\n",
       "    </tr>\n",
       "  </thead>\n",
       "  <tbody>\n",
       "    <tr>\n",
       "      <td><div class=\"pxt_document\" style=\"width:320px;\">\n",
       "            <a href=\"http://127.0.0.1:64872/Users/asiegel/.pixeltable/file_cache/ae7c9d97897f45f0b0ea4785da62513d_0_0f95e650ad40e78bbe8b427de7c9095a9b8fa24cf432708e6df3c69626e732be.pdf\">\n",
       "                \n",
       "                    <img style=\"object-fit: contain; border: 1px solid black;\" src=\"data:image/jpeg;base64,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\" />\n",
       "                \n",
       "            </a>\n",
       "        </div></td>\n",
       "    </tr>\n",
       "    <tr>\n",
       "      <td><div class=\"pxt_document\" style=\"width:320px;\">\n",
       "            <a href=\"http://127.0.0.1:64872/Users/asiegel/.pixeltable/file_cache/ae7c9d97897f45f0b0ea4785da62513d_0_a1ecd0cc068f969b047d54f4611ec5620f9b2fb92aeecb3a605106591e2e3980.pdf\">\n",
       "                \n",
       "                    <img style=\"object-fit: contain; border: 1px solid black;\" src=\"data:image/jpeg;base64,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\" />\n",
       "                \n",
       "            </a>\n",
       "        </div></td>\n",
       "    </tr>\n",
       "    <tr>\n",
       "      <td><div class=\"pxt_document\" style=\"width:320px;\">\n",
       "            <a href=\"http://127.0.0.1:64872/Users/asiegel/.pixeltable/file_cache/ae7c9d97897f45f0b0ea4785da62513d_0_66aa90e7cb16107a4d93664b7c4ae5f1619cf0b259780380e30f93f6127b7f02.pdf\">\n",
       "                \n",
       "                    <img style=\"object-fit: contain; border: 1px solid black;\" src=\"data:image/jpeg;base64,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\" />\n",
       "                \n",
       "            </a>\n",
       "        </div></td>\n",
       "    </tr>\n",
       "    <tr>\n",
       "      <td><div class=\"pxt_document\" style=\"width:320px;\">\n",
       "            <a href=\"http://127.0.0.1:64872/Users/asiegel/.pixeltable/file_cache/ae7c9d97897f45f0b0ea4785da62513d_0_2830bc5c2ecd6b8f73fe55b9f72f6ed615a7f0af2faa9f849188548dafe6d306.pdf\">\n",
       "                \n",
       "                    <img style=\"object-fit: contain; border: 1px solid black;\" src=\"data:image/jpeg;base64,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\" />\n",
       "                \n",
       "            </a>\n",
       "        </div></td>\n",
       "    </tr>\n",
       "    <tr>\n",
       "      <td><div class=\"pxt_document\" style=\"width:320px;\">\n",
       "            <a href=\"http://127.0.0.1:64872/Users/asiegel/.pixeltable/file_cache/ae7c9d97897f45f0b0ea4785da62513d_0_9797b893dae275e7ca2e55086569b010183c4f20a7a1af477abd4794844e0b13.pdf\">\n",
       "                \n",
       "                    <img style=\"object-fit: contain; border: 1px solid black;\" src=\"data:image/jpeg;base64,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\" />\n",
       "                \n",
       "            </a>\n",
       "        </div></td>\n",
       "    </tr>\n",
       "    <tr>\n",
       "      <td><div class=\"pxt_document\" style=\"width:320px;\">\n",
       "            <a href=\"http://127.0.0.1:64872/Users/asiegel/.pixeltable/file_cache/ae7c9d97897f45f0b0ea4785da62513d_0_93e519a8498f03e7f19ad0cb4ba5f9904f15cf1a128af61200cdaf9e816296d5.pdf\">\n",
       "                \n",
       "                    <img style=\"object-fit: contain; border: 1px solid black;\" src=\"data:image/jpeg;base64,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\" />\n",
       "                \n",
       "            </a>\n",
       "        </div></td>\n",
       "    </tr>\n",
       "  </tbody>\n",
       "</table>"
      ],
      "text/plain": [
       "                                            document\n",
       "0  /Users/asiegel/.pixeltable/file_cache/ae7c9d97...\n",
       "1  /Users/asiegel/.pixeltable/file_cache/ae7c9d97...\n",
       "2  /Users/asiegel/.pixeltable/file_cache/ae7c9d97...\n",
       "3  /Users/asiegel/.pixeltable/file_cache/ae7c9d97...\n",
       "4  /Users/asiegel/.pixeltable/file_cache/ae7c9d97...\n",
       "5  /Users/asiegel/.pixeltable/file_cache/ae7c9d97..."
      ]
     },
     "execution_count": 26,
     "metadata": {},
     "output_type": "execute_result"
    }
   ],
   "source": [
    "documents_t.show()"
   ]
  },
  {
   "cell_type": "markdown",
   "metadata": {},
   "source": [
    "(Note: although Pixeltable updates `documents` and `chunks`, it **does not** automatically update the `queries` table. This is by design: we don't want all rows in `queries` to get automatically re-executed every time a single new document is added to the document base. However, newly-added rows will be run over the new, incrementally-updated index.)"
   ]
  },
  {
   "cell_type": "markdown",
   "metadata": {},
   "source": [
    "To confirm that the `chunks` index got updated, we'll re-run the chunks retrieval query for the question\n",
    "\n",
    "```What is the expected EPS for Nvidia in Q1 2026?```\n",
    "\n",
    "Previously, our most similar chunk had a similarity score of ~0.81. Let's see what we get now:"
   ]
  },
  {
   "cell_type": "code",
   "execution_count": 27,
   "metadata": {
    "scrolled": true
   },
   "outputs": [
    {
     "data": {
      "text/html": [
       "<table border=\"1\" class=\"dataframe\">\n",
       "  <thead>\n",
       "    <tr style=\"text-align: right;\">\n",
       "      <th>similarity</th>\n",
       "      <th>text</th>\n",
       "    </tr>\n",
       "  </thead>\n",
       "  <tbody>\n",
       "    <tr>\n",
       "      <td>0.863</td>\n",
       "      <td>4\n",
       "7,192 A\n",
       "13,507 A\n",
       "18,120 A\n",
       "22,103 A\n",
       "60,922 A\n",
       "EPS Estimates(2)\n",
       " \n",
       "Q1\n",
       "Q2\n",
       "Q3\n",
       "Q4\n",
       "Annual*\n",
       "2026\n",
       "0.73 E\n",
       "0.73 E\n",
       "0.77 E\n",
       "0.81 E\n",
       "3.04 E\n",
       "2025\n",
       "0.61 A\n",
       "0.62 E\n",
       "0.67 E\n",
       "0.71 E\n",
       "2.62 E\n",
       "2024\n",
       "0.11 A\n",
       "0.27 A\n",
       "0.40 A\n",
       "0.52 A\n",
       "1.30 A\n",
       "*Quarterly figures may not add up to annual.\n",
       "1) The data in the charts and tables, except the estimates, is as of 06/11/2024.\n",
       "2) The report&#x27;s text, the analyst-provided estimates, and the price target are as of 06/12/2024.\n",
       "Zacks Report Date: June 12, 2024\n",
       "© 2024 Zacks Investment Research, All Rights Reserved\n",
       "10 S. Riverside Plaza Suite 1600 · Chicago, IL 60606\n",
       "Overview\n",
       "NVIDIA\n",
       "Corporation\n",
       "is the worldwide leader in visual\n",
       "computing\n",
       "technologies and the inventor of the graphic processing unit, or GPU.\n",
       "Over the years, the company&#x27;s focus has evolved from PC graphics to\n",
       "artificial\n",
       "intelligence\n",
       "(AI)\n",
       "based\n",
       "solutions\n",
       "that</td>\n",
       "    </tr>\n",
       "    <tr>\n",
       "      <td>0.855</td>\n",
       "      <td>and Microsoft&#x27;s Xbox One will also be going with AMD. NVIDIA also has limited scope for growth in\n",
       "the apps processor market as it is dominated by Apple, Samsung and Qualcomm. We believe that competitive pressure from two CPU\n",
       "vendors, Intel and AMD, who are planning to integrate graphics cores into their chips can negatively impact NVIDIA&#x27;s revenues in the long\n",
       "haul.\n",
       " \n",
       "A substantial portion of the company&#x27;s sales is derived from outside the United States. Sales revenues to customers outside  ...... stimates, Revenues Rise Y/Y\n",
       "NVIDIA reported first-quarter fiscal 2025 earnings of \\$6.12 per share, which beat the Zacks\n",
       "Consensus Estimate by 11.48% and increased 19% sequentially. Notably, NVDA posted\n",
       "earnings of \\$1.09 per share in the year-ago quarter.\n",
       "Revenues jumped 262% year over year to \\$26.04 billion and beat the Zacks Consensus\n",
       "Estimate by 7.02%. On a sequential basis, revenues increased 18%.\n",
       "NVIDIA is riding on a strong and innovative portfolio, with the growing adoption of its GPUs</td>\n",
       "    </tr>\n",
       "    <tr>\n",
       "      <td>0.848</td>\n",
       "      <td>ations for Windows to deliver maximum performance on NVIDIA GeForce RTX AI PCs and workstations.\n",
       "For the Professional Visualization domain, it launched NVIDIA RTX 500 and 1000 professional Ada generation laptop GPUs for AI-enhanced\n",
       "workflows, NVIDIA RTX A400 and A1000 GPUs for desktop workstations and NVIDIA Omniverse Cloud APIs.\n",
       "Operating Details\n",
       "NVIDIA&#x27;s non-GAAP gross margin increased to 78.9% from 66.8% in the year-ago quarter and 76.7% from the previous quarter, mainly driven\n",
       "by higher  ...... ted benefits.\n",
       "However, as a percentage of total revenues, non-GAAP operating expenses declined to 9.6% from 24.3% in the year-ago quarter and 30.7% in\n",
       "the previous quarter.\n",
       "The non-GAAP operating income was \\$18.06 billion compared with \\$3.05 billion in the year-ago quarter. Sequentially, the figure jumped 22.4%.\n",
       "Balance Sheet and Cash Flow\n",
       "As of Apr 28, 2024, NVDA&#x27;s cash, cash equivalents and marketable securities were \\$31.44 billion, up from \\$25.98 billion as of Jan 28, 2024.\n",
       "As of Apr 28,</td>\n",
       "    </tr>\n",
       "    <tr>\n",
       "      <td>0.841</td>\n",
       "      <td>2024, the total long-term debt was \\$8.46 billion, unchanged sequentially.\n",
       "NVIDIA generated \\$15.4 billion in operating cash flow, up from the previous quarter&#x27;s \\$11.5 billion.\n",
       "The company ended the fiscal first quarter with a free cash flow of \\$14.94 billion.\n",
       "In the fiscal first quarter, it returned \\$7.8 billion to shareholders through dividend payouts and share repurchases.\n",
       "Guidance\n",
       "For the second quarter of fiscal 2025, NVIDIA anticipates revenues of \\$28 billion (+/-2%), higher than the Zac ......  IGX platform.\n",
       "On Jun 2, NVIDIA announced that the world&#x27;s leaders in robot development are adopting the NVIDIA Isaac robotics platform for the research,\n",
       "development and production of the next generation of AI-enabled autonomous machines and robots.\n",
       "On Jun 2, NVIDIA announced new NVIDIA RTX technology to power AI assistants and digital humans running on new GeForce RTX AI laptops.\n",
       "On Jun 2, NVIDIA announced the widespread adoption of the NVIDIA Spectrum-X Ethernet networking platform as well</td>\n",
       "    </tr>\n",
       "    <tr>\n",
       "      <td>0.84</td>\n",
       "      <td>9.78%.\n",
       "NVIDIA Drive Thor solution was adopted by BYD, XPENG, GAC&#x27;s AION Hyper, Nuro and others in the reported quarter. Lucid and IM Motors\n",
       "are using the NVIDIA DRIVE Orin platform for vehicle models targeting the European market.\n",
       "OEM and Other revenues moved up 1% year over year but declined 13% sequentially to \\$78 million. The figure missed the consensus mark by\n",
       "15.39%.\n",
       "Expanding Portfolio Aids Prospects\n",
       "In the fiscal first quarter, NVIDIA launched the Blackwell platform targeted for AI co ...... ucture.\n",
       "Moreover, the company launched NVIDIA AI Enterprise 5.0 with NVIDIA NIM inference microservices to speed enterprise app development.\n",
       "For the gaming domain, NVIDIA launched AI gaming technologies for NVIDIA ACE and Neural Graphics. Moreover, it unveiled AI performance\n",
       "FY Quarter Ending\n",
       "1/31/2024\n",
       "Earnings Reporting Date\n",
       "May 22, 2024\n",
       "Sales Surprise\n",
       "7.02%\n",
       "EPS Surprise\n",
       "11.48%\n",
       "Quarterly EPS\n",
       "0.61\n",
       "Annual EPS (TTM)\n",
       "1.80\n",
       "Zacks Equity Research\n",
       "www.zacks.com\n",
       "Page 5 of 10\n",
       "optimizations and integr</td>\n",
       "    </tr>\n",
       "  </tbody>\n",
       "</table>"
      ],
      "text/plain": [
       "   similarity                                               text\n",
       "0    0.862984  4\\n7,192 A\\n13,507 A\\n18,120 A\\n22,103 A\\n60,9...\n",
       "1    0.854627   and Microsoft's Xbox One will also be going w...\n",
       "2    0.847631  ations for Windows to deliver maximum performa...\n",
       "3    0.841044  2024, the total long-term debt was $8.46 billi...\n",
       "4    0.840021  9.78%.\\nNVIDIA Drive Thor solution was adopted..."
      ]
     },
     "execution_count": 27,
     "metadata": {},
     "output_type": "execute_result"
    }
   ],
   "source": [
    "nvidia_eps_query.collect()"
   ]
  },
  {
   "cell_type": "markdown",
   "metadata": {},
   "source": [
    "Our most similar chunk now has a score of ~0.86 and pulls in more relevant chunks from the newly-inserted documents.\n",
    "\n",
    "Let's force all the queries to run again by removing them from the `queries` table and re-inserting them as new rows. Note how the structure of the tables and computed columns is preserved, even after we delete the existing data."
   ]
  },
  {
   "cell_type": "code",
   "execution_count": 28,
   "metadata": {},
   "outputs": [
    {
     "name": "stdout",
     "output_type": "stream",
     "text": [
      "Computing cells: 100%|██████████████████████████████████████████| 56/56 [00:13<00:00,  4.15 cells/s]\n",
      "Inserting rows into `queries`: 8 rows [00:00, 511.80 rows/s]\n",
      "Computing cells: 100%|██████████████████████████████████████████| 56/56 [00:13<00:00,  4.14 cells/s]\n",
      "Inserted 8 rows with 0 errors.\n"
     ]
    },
    {
     "data": {
      "text/plain": [
       "UpdateStatus(num_rows=8, num_computed_values=56, num_excs=0, updated_cols=[], cols_with_excs=[])"
      ]
     },
     "execution_count": 28,
     "metadata": {},
     "output_type": "execute_result"
    }
   ],
   "source": [
    "questions = list(queries_t.select(queries_t.S__No_, queries_t.Question, queries_t.correct_answer).collect())\n",
    "queries_t.delete()\n",
    "queries_t.insert(questions)"
   ]
  },
  {
   "cell_type": "markdown",
   "metadata": {},
   "source": [
    "As a final step, let's confirm that all the queries now have answers:"
   ]
  },
  {
   "cell_type": "code",
   "execution_count": 29,
   "metadata": {
    "scrolled": true
   },
   "outputs": [
    {
     "data": {
      "text/html": [
       "<table border=\"1\" class=\"dataframe\">\n",
       "  <thead>\n",
       "    <tr style=\"text-align: right;\">\n",
       "      <th>Question</th>\n",
       "      <th>correct_answer</th>\n",
       "      <th>answer</th>\n",
       "    </tr>\n",
       "  </thead>\n",
       "  <tbody>\n",
       "    <tr>\n",
       "      <td>What is the expected EPS for Nvidia in Q1 2026?</td>\n",
       "      <td>0.73 EPS</td>\n",
       "      <td>The expected EPS (Earnings Per Share) for NVIDIA in Q1 2026 is 0.73.</td>\n",
       "    </tr>\n",
       "    <tr>\n",
       "      <td>What is the market capitalization of Alphabet?</td>\n",
       "      <td>\\$2182.8 Billion</td>\n",
       "      <td>The market capitalization of Alphabet is \\$2,182.8 billion.</td>\n",
       "    </tr>\n",
       "    <tr>\n",
       "      <td>What is the overall latest rating for Amazon.com from analysts?</td>\n",
       "      <td>SELL</td>\n",
       "      <td>The overall latest rating for Amazon.com (AMZN) from analysts is a &quot;SELL.&quot;</td>\n",
       "    </tr>\n",
       "    <tr>\n",
       "      <td>What is roughly the current mortage rate?</td>\n",
       "      <td>0.07</td>\n",
       "      <td>The current mortgage rate is near 7%.</td>\n",
       "    </tr>\n",
       "    <tr>\n",
       "      <td>What is the operating cash flow of Amazon in Q1 2024?</td>\n",
       "      <td>18,989 Million</td>\n",
       "      <td>The operating cash flow of Amazon in Q1 2024 is reported as 12,232.0 million.</td>\n",
       "    </tr>\n",
       "    <tr>\n",
       "      <td>What are the latest financial metrics for Accenture PLC?</td>\n",
       "      <td>missed consensus forecasts and strong total bookings rising by 22% annually</td>\n",
       "      <td>The latest financial metrics for Accenture PLC based on the provided passages are as follows:\n",
       "\n",
       "1. **Free Cash Flow**:\n",
       "   - FY24 forecast: \\$8.7-\\$9.3 billion\n",
       "   - FY23: \\$9.0 billion\n",
       "   - FY22: \\$8.2 billion\n",
       "   - FY21: \\$8.4 billion\n",
       "   - FY20: \\$7.6 billion\n",
       "\n",
       "2. **Shareholder Returns**:\n",
       "   - Expected return for FY24: At least \\$7.7 billion\n",
       "   - FY23: \\$7.2 billion returned\n",
       "   - FY22: \\$6.1 billion returned\n",
       "   - FY21: \\$5.9 billion returned\n",
       "   - FY20: \\$5.0 billion returned\n",
       "   - FY19: \\$4.6 billion return ...... at the end of FY23: \\$9.05 billion\n",
       "\n",
       "7. **Cash Flow from Operations**:\n",
       "   - FY23: \\$9.52 billion\n",
       "   - FY22: \\$9.54 billion\n",
       "   - FY21: \\$8.98 billion\n",
       "   - FY20: \\$8.36 billion\n",
       "   - FY19: \\$6.63 billion\n",
       "\n",
       "8. **Credit Ratings**:\n",
       "   - Moody&#x27;s long-term credit rating: Aa3\n",
       "   - Standard &amp; Poor&#x27;s long-term rating: A+\n",
       "\n",
       "Overall, Accenture shows a strong financial position with solid free cash flow, strong dividends, and healthy revenue growth expectations despite some challenges in the operating environment.</td>\n",
       "    </tr>\n",
       "    <tr>\n",
       "      <td>What are the main reasons to buy Nvidia?</td>\n",
       "      <td>Datacenter, GPUs Demands, Self-driving, and cash-flow</td>\n",
       "      <td>The main reasons to buy NVIDIA, as highlighted in the passages, include:\n",
       "\n",
       "1. **Strong Cash Flow Generation**: NVIDIA has demonstrated robust operating and free cash flow, allowing it to invest in growth initiatives and return value to shareholders. In fiscal 2024, it generated significant amounts in cash flow (\\$28.09 billion operating cash flow and \\$11.22 billion free cash flow), which indicates a strong financial position.\n",
       "\n",
       "2. **Growth Opportunities in Various Markets**: The company is well ...... ics**: NVIDIA stocks have surged in value, and despite this growth, their forward P/E ratio is lower compared to the sub-industry and sector averages, indicating potential for further price appreciation.\n",
       "\n",
       "7. **Shareholder Returns**: NVIDIA is returning significant amounts to shareholders through dividends and share repurchases, indicating confidence in its financial health and commitment to shareholder value.\n",
       "\n",
       "These factors collectively position NVIDIA as a compelling investment opportunity.</td>\n",
       "    </tr>\n",
       "    <tr>\n",
       "      <td>What is the current dividend yield for Alphabet Inc. (\\$GOOGL)?</td>\n",
       "      <td>0.0046</td>\n",
       "      <td>The current dividend yield for Alphabet Inc. (\\$GOOGL) is 0.46%.</td>\n",
       "    </tr>\n",
       "  </tbody>\n",
       "</table>"
      ],
      "text/plain": [
       "                                            Question  \\\n",
       "0    What is the expected EPS for Nvidia in Q1 2026?   \n",
       "1     What is the market capitalization of Alphabet?   \n",
       "2  What is the overall latest rating for Amazon.c...   \n",
       "3          What is roughly the current mortage rate?   \n",
       "4  What is the operating cash flow of Amazon in Q...   \n",
       "5  What are the latest financial metrics for Acce...   \n",
       "6           What are the main reasons to buy Nvidia?   \n",
       "7  What is the current dividend yield for Alphabe...   \n",
       "\n",
       "                                      correct_answer  \\\n",
       "0                                           0.73 EPS   \n",
       "1                                    $2182.8 Billion   \n",
       "2                                               SELL   \n",
       "3                                               0.07   \n",
       "4                                     18,989 Million   \n",
       "5  missed consensus forecasts and strong total bo...   \n",
       "6  Datacenter, GPUs Demands, Self-driving, and ca...   \n",
       "7                                             0.0046   \n",
       "\n",
       "                                              answer  \n",
       "0  The expected EPS (Earnings Per Share) for NVID...  \n",
       "1  The market capitalization of Alphabet is $2,18...  \n",
       "2  The overall latest rating for Amazon.com (AMZN...  \n",
       "3              The current mortgage rate is near 7%.  \n",
       "4  The operating cash flow of Amazon in Q1 2024 i...  \n",
       "5  The latest financial metrics for Accenture PLC...  \n",
       "6  The main reasons to buy NVIDIA, as highlighted...  \n",
       "7  The current dividend yield for Alphabet Inc. (...  "
      ]
     },
     "execution_count": 29,
     "metadata": {},
     "output_type": "execute_result"
    }
   ],
   "source": [
    "queries_t.select(queries_t.Question, queries_t.correct_answer, queries_t.answer).show()"
   ]
  }
 ],
 "metadata": {
  "kernelspec": {
   "display_name": "Python 3 (ipykernel)",
   "language": "python",
   "name": "python3"
  },
  "language_info": {
   "codemirror_mode": {
    "name": "ipython",
    "version": 3
   },
   "file_extension": ".py",
   "mimetype": "text/x-python",
   "name": "python",
   "nbconvert_exporter": "python",
   "pygments_lexer": "ipython3",
   "version": "3.9.19"
  }
 },
 "nbformat": 4,
 "nbformat_minor": 4
}
