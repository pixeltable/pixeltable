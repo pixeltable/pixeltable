{
 "cells": [
  {
   "cell_type": "markdown",
   "id": "3e777354",
   "metadata": {},
   "source": [
    "[![Kaggle](https://kaggle.com/static/images/open-in-kaggle.svg)](https://kaggle.com/kernels/welcome?src=https://github.com/pixeltable/pixeltable/blob/master/docs/release/tutorials/working-with-openai.ipynb)&nbsp;&nbsp;\n",
    "[![Colab](https://colab.research.google.com/assets/colab-badge.svg)](https://colab.research.google.com/github/pixeltable/pixeltable/blob/master/docs/release/tutorials/working-with-openai.ipynb)\n",
    "\n",
    "# Working with OpenAI in Pixeltable\n",
    "\n",
    "Pixeltable unifies data and computation into a table interface. In the [Pixeltable Basics](https://pixeltable.github.io/pixeltable/tutorials/pixeltable-basics/) tutorial, we saw how OpenAI API calls can be incorporated into Pixeltable workflows. In this tutorial, we'll go into more depth on OpenAI integration. You'll need an OpenAI API key to run this demo.\n",
    "\n",
    "### Prerequisites\n",
    "- An OpenAI account with an API key (https://openai.com/index/openai-api/)\n",
    "\n",
    "### Important Notes\n",
    "\n",
    "- OpenAI usage may incur costs based on your OpenAI plan.\n",
    "- Be mindful of sensitive data and consider security measures when integrating with external services."
   ]
  },
  {
   "cell_type": "code",
   "execution_count": 1,
   "id": "d5288926-c278-4cbc-815c-cbc0433bbf49",
   "metadata": {
    "execution": {
     "iopub.execute_input": "2024-05-25T22:22:21.263699Z",
     "iopub.status.busy": "2024-05-25T22:22:21.263278Z",
     "iopub.status.idle": "2024-05-25T22:22:23.242840Z",
     "shell.execute_reply": "2024-05-25T22:22:23.242337Z"
    }
   },
   "outputs": [
    {
     "name": "stdout",
     "output_type": "stream",
     "text": [
      "Note: you may need to restart the kernel to use updated packages.\n"
     ]
    }
   ],
   "source": [
    "%pip install -q pixeltable openai"
   ]
  },
  {
   "cell_type": "code",
   "execution_count": 2,
   "id": "9bdc613f",
   "metadata": {
    "execution": {
     "iopub.execute_input": "2024-05-25T22:22:23.245594Z",
     "iopub.status.busy": "2024-05-25T22:22:23.245414Z",
     "iopub.status.idle": "2024-05-25T22:22:27.437703Z",
     "shell.execute_reply": "2024-05-25T22:22:27.437328Z"
    }
   },
   "outputs": [
    {
     "name": "stdout",
     "output_type": "stream",
     "text": [
      "Connected to Pixeltable database at: postgresql://postgres:@/pixeltable?host=/Users/orm/.pixeltable/pgdata\n"
     ]
    }
   ],
   "source": [
    "import pixeltable as pxt\n",
    "pxt.create_dir('demo', ignore_errors=True)"
   ]
  },
  {
   "cell_type": "markdown",
   "id": "aa71d21e",
   "metadata": {},
   "source": [
    "## Creating the Table\n",
    "\n",
    "First, we'll create a table and populate it with some sample data."
   ]
  },
  {
   "cell_type": "code",
   "execution_count": 3,
   "id": "a6a7bd0d",
   "metadata": {
    "execution": {
     "iopub.execute_input": "2024-05-25T22:22:27.439964Z",
     "iopub.status.busy": "2024-05-25T22:22:27.439769Z",
     "iopub.status.idle": "2024-05-25T22:22:27.451230Z",
     "shell.execute_reply": "2024-05-25T22:22:27.450917Z"
    }
   },
   "outputs": [
    {
     "name": "stdout",
     "output_type": "stream",
     "text": [
      "Created table `openai`.\n"
     ]
    }
   ],
   "source": [
    "pxt.drop_table('demo.openai', ignore_errors=True)\n",
    "t = pxt.create_table('demo.openai', {'id': pxt.IntType(), 'input': pxt.StringType()})"
   ]
  },
  {
   "cell_type": "code",
   "execution_count": 4,
   "id": "342407c1",
   "metadata": {
    "execution": {
     "iopub.execute_input": "2024-05-25T22:22:27.452865Z",
     "iopub.status.busy": "2024-05-25T22:22:27.452760Z",
     "iopub.status.idle": "2024-05-25T22:22:27.455377Z",
     "shell.execute_reply": "2024-05-25T22:22:27.454916Z"
    }
   },
   "outputs": [],
   "source": [
    "# text from https://en.wikipedia.org/wiki/Global_financial_crisis_in_September_2008\n",
    "\n",
    "wikipedia_text = '''On Sunday, September 14, it was announced that Lehman Brothers would file for bankruptcy after the Federal Reserve Bank declined to participate in creating a financial support facility for Lehman Brothers.\n",
    "The significance of the Lehman Brothers bankruptcy is disputed with some assigning it a pivotal role in the unfolding of subsequent events.\n",
    "The principals involved, Ben Bernanke and Henry Paulson, dispute this view, citing a volume of toxic assets at Lehman which made a rescue impossible.[16][17] Immediately following the bankruptcy, JPMorgan Chase provided the broker dealer unit of Lehman Brothers with $138 billion to \"settle securities transactions with customers of Lehman and its clearance parties\" according to a statement made in a New York City Bankruptcy court filing.[18]\n",
    "The same day, the sale of Merrill Lynch to Bank of America was announced.[19] The beginning of the week was marked by extreme instability in global stock markets, with dramatic drops in market values on Monday, September 15, and Wednesday, September 17.\n",
    "On September 16, the large insurer American International Group (AIG), a significant participant in the credit default swaps markets, suffered a liquidity crisis following the downgrade of its credit rating.\n",
    "The Federal Reserve, at AIG's request, and after AIG had shown that it could not find lenders willing to save it from insolvency, created a credit facility for up to US$85 billion in exchange for a 79.9% equity interest, and the right to suspend dividends to previously issued common and preferred stock.[20]'''\n",
    "\n",
    "sample_inputs = wikipedia_text.split('\\n')"
   ]
  },
  {
   "cell_type": "code",
   "execution_count": 5,
   "id": "c5f0b862",
   "metadata": {
    "execution": {
     "iopub.execute_input": "2024-05-25T22:22:27.457121Z",
     "iopub.status.busy": "2024-05-25T22:22:27.456995Z",
     "iopub.status.idle": "2024-05-25T22:22:27.468881Z",
     "shell.execute_reply": "2024-05-25T22:22:27.468592Z"
    }
   },
   "outputs": [
    {
     "name": "stdout",
     "output_type": "stream",
     "text": [
      "\r",
      "Inserting rows into `openai`: 0 rows [00:00, ? rows/s]"
     ]
    },
    {
     "name": "stdout",
     "output_type": "stream",
     "text": [
      "\r",
      "Inserting rows into `openai`: 1 rows [00:00, 931.24 rows/s]"
     ]
    },
    {
     "name": "stdout",
     "output_type": "stream",
     "text": [
      "\n",
      "Inserted 1 row with 0 errors.\n"
     ]
    },
    {
     "data": {
      "text/html": [
       "<table border=\"1\" class=\"dataframe\">\n",
       "  <thead>\n",
       "    <tr style=\"text-align: right;\">\n",
       "      <th>id</th>\n",
       "      <th>input</th>\n",
       "    </tr>\n",
       "  </thead>\n",
       "  <tbody>\n",
       "    <tr>\n",
       "      <td>0</td>\n",
       "      <td>On Sunday, September 14, it was announced that Lehman Brothers would file for bankruptcy after the Federal Reserve Bank declined to participate in creating a financial support facility for Lehman Brothers.</td>\n",
       "    </tr>\n",
       "  </tbody>\n",
       "</table>"
      ],
      "text/plain": [
       "   id                                              input\n",
       "0   0  On Sunday, September 14, it was announced that..."
      ]
     },
     "execution_count": 5,
     "metadata": {},
     "output_type": "execute_result"
    }
   ],
   "source": [
    "# Insert a single sample row into the table\n",
    "t.insert(id=0, input=sample_inputs[0])\n",
    "t.show()"
   ]
  },
  {
   "cell_type": "markdown",
   "id": "8b08ecc3",
   "metadata": {},
   "source": [
    "## Making OpenAI API calls\n",
    "\n",
    "Calling OpenAI API endpoints involves constructing a message object, which we can express in Pixeltable by adding a new computed column."
   ]
  },
  {
   "cell_type": "code",
   "execution_count": 6,
   "id": "12197f4e",
   "metadata": {
    "execution": {
     "iopub.execute_input": "2024-05-25T22:22:27.470524Z",
     "iopub.status.busy": "2024-05-25T22:22:27.470418Z",
     "iopub.status.idle": "2024-05-25T22:22:27.479963Z",
     "shell.execute_reply": "2024-05-25T22:22:27.479568Z"
    }
   },
   "outputs": [
    {
     "name": "stdout",
     "output_type": "stream",
     "text": [
      "\r",
      "Computing cells:   0%|                                                    | 0/1 [00:00<?, ? cells/s]"
     ]
    },
    {
     "name": "stdout",
     "output_type": "stream",
     "text": [
      "\r",
      "Computing cells: 100%|███████████████████████████████████████████| 1/1 [00:00<00:00, 572.13 cells/s]"
     ]
    },
    {
     "name": "stdout",
     "output_type": "stream",
     "text": [
      "\n",
      "Added 1 column value with 0 errors.\n"
     ]
    },
    {
     "data": {
      "text/plain": [
       "UpdateStatus(num_rows=1, num_computed_values=1, num_excs=0, updated_cols=[], cols_with_excs=[])"
      ]
     },
     "execution_count": 6,
     "metadata": {},
     "output_type": "execute_result"
    }
   ],
   "source": [
    "prompt = \"For the following sentence, extract all company names from the text.\"\n",
    "\n",
    "msgs = [\n",
    "    { \"role\": \"system\", \"content\": prompt },\n",
    "    { \"role\": \"user\", \"content\": t.input }\n",
    "]\n",
    "\n",
    "t.add_column(input_msgs=msgs)"
   ]
  },
  {
   "cell_type": "markdown",
   "id": "92068113",
   "metadata": {},
   "source": [
    "Unlike the values of the`input` column, which users provide, the `t.input_msgs` column is computed automatically from the `t.input` column values:"
   ]
  },
  {
   "cell_type": "code",
   "execution_count": 7,
   "id": "249592fc",
   "metadata": {
    "execution": {
     "iopub.execute_input": "2024-05-25T22:22:27.481639Z",
     "iopub.status.busy": "2024-05-25T22:22:27.481523Z",
     "iopub.status.idle": "2024-05-25T22:22:27.486888Z",
     "shell.execute_reply": "2024-05-25T22:22:27.486578Z"
    }
   },
   "outputs": [
    {
     "data": {
      "text/html": [
       "<table border=\"1\" class=\"dataframe\">\n",
       "  <thead>\n",
       "    <tr style=\"text-align: right;\">\n",
       "      <th>id</th>\n",
       "      <th>input</th>\n",
       "      <th>input_msgs</th>\n",
       "    </tr>\n",
       "  </thead>\n",
       "  <tbody>\n",
       "    <tr>\n",
       "      <td>0</td>\n",
       "      <td>On Sunday, September 14, it was announced that Lehman Brothers would file for bankruptcy after the Federal Reserve Bank declined to participate in creating a financial support facility for Lehman Brothers.</td>\n",
       "      <td>[{'role': 'system', 'content': 'For the following sentence, extract all company names from the text.'}, {'role': 'user', 'content': 'On Sunday, September 14, it was announced that Lehman Brothers would file for bankruptcy after the Federal Reserve Bank declined to participate in creating a financial support facility for Lehman Brothers.'}]</td>\n",
       "    </tr>\n",
       "  </tbody>\n",
       "</table>"
      ],
      "text/plain": [
       "   id                                              input  \\\n",
       "0   0  On Sunday, September 14, it was announced that...   \n",
       "\n",
       "                                          input_msgs  \n",
       "0  [{'role': 'system', 'content': 'For the follow...  "
      ]
     },
     "execution_count": 7,
     "metadata": {},
     "output_type": "execute_result"
    }
   ],
   "source": [
    "t.show()"
   ]
  },
  {
   "cell_type": "markdown",
   "id": "7cea0186",
   "metadata": {},
   "source": [
    "In Pixeltable, OpenAI API calls are exposed as Pixeltable functions, which can be used to create computed columns. You'll need to enter your OpenAI API key now."
   ]
  },
  {
   "cell_type": "code",
   "execution_count": 8,
   "id": "fb53de89-a529-4fa8-b0b1-65992d281af1",
   "metadata": {
    "execution": {
     "iopub.execute_input": "2024-05-25T22:22:27.488559Z",
     "iopub.status.busy": "2024-05-25T22:22:27.488446Z",
     "iopub.status.idle": "2024-05-25T22:22:27.490437Z",
     "shell.execute_reply": "2024-05-25T22:22:27.490100Z"
    }
   },
   "outputs": [],
   "source": [
    "import os\n",
    "import getpass\n",
    "\n",
    "if 'OPENAI_API_KEY' not in os.environ:\n",
    "    os.environ['OPENAI_API_KEY'] = getpass.getpass('OpenAI API Key:')"
   ]
  },
  {
   "cell_type": "markdown",
   "id": "22e77b33-86ee-4cd8-9ec5-8905f6bb973c",
   "metadata": {},
   "source": [
    "Now we can run the prompt against our input data using OpenAI's `chat_completions` API."
   ]
  },
  {
   "cell_type": "code",
   "execution_count": 9,
   "id": "d0aaed0e",
   "metadata": {
    "execution": {
     "iopub.execute_input": "2024-05-25T22:22:27.492227Z",
     "iopub.status.busy": "2024-05-25T22:22:27.492111Z",
     "iopub.status.idle": "2024-05-25T22:22:28.181325Z",
     "shell.execute_reply": "2024-05-25T22:22:28.180913Z"
    }
   },
   "outputs": [
    {
     "name": "stdout",
     "output_type": "stream",
     "text": [
      "\r",
      "Computing cells:   0%|                                                    | 0/1 [00:00<?, ? cells/s]"
     ]
    },
    {
     "name": "stdout",
     "output_type": "stream",
     "text": [
      "\r",
      "Computing cells: 100%|████████████████████████████████████████████| 1/1 [00:00<00:00,  1.49 cells/s]"
     ]
    },
    {
     "name": "stdout",
     "output_type": "stream",
     "text": [
      "\n",
      "Added 1 column value with 0 errors.\n"
     ]
    },
    {
     "data": {
      "text/html": [
       "<table border=\"1\" class=\"dataframe\">\n",
       "  <thead>\n",
       "    <tr style=\"text-align: right;\">\n",
       "      <th>id</th>\n",
       "      <th>input</th>\n",
       "      <th>input_msgs</th>\n",
       "      <th>chat_output</th>\n",
       "    </tr>\n",
       "  </thead>\n",
       "  <tbody>\n",
       "    <tr>\n",
       "      <td>0</td>\n",
       "      <td>On Sunday, September 14, it was announced that Lehman Brothers would file for bankruptcy after the Federal Reserve Bank declined to participate in creating a financial support facility for Lehman Brothers.</td>\n",
       "      <td>[{'role': 'system', 'content': 'For the following sentence, extract all company names from the text.'}, {'role': 'user', 'content': 'On Sunday, September 14, it was announced that Lehman Brothers would file for bankruptcy after the Federal Reserve Bank declined to participate in creating a financial support facility for Lehman Brothers.'}]</td>\n",
       "      <td>{'id': 'chatcmpl-9Su4S630t8UQ2pRJpY1Ho9lfxyMXh', 'model': 'gpt-3.5-turbo-0125', 'usage': {'total_tokens': 66, 'prompt_tokens': 61, 'completion_tokens': 5}, 'object': 'chat.completion', 'choices': [{'index': 0, 'message': {'role': 'assistant', 'content': '1. Lehman Brothers', 'tool_calls': None, 'function_call': None}, 'logprobs': None, 'finish_reason': 'stop'}], 'created': 1716675748, 'system_fingerprint': None}</td>\n",
       "    </tr>\n",
       "  </tbody>\n",
       "</table>"
      ],
      "text/plain": [
       "   id                                              input  \\\n",
       "0   0  On Sunday, September 14, it was announced that...   \n",
       "\n",
       "                                          input_msgs  \\\n",
       "0  [{'role': 'system', 'content': 'For the follow...   \n",
       "\n",
       "                                         chat_output  \n",
       "0  {'id': 'chatcmpl-9Su4S630t8UQ2pRJpY1Ho9lfxyMXh...  "
      ]
     },
     "execution_count": 9,
     "metadata": {},
     "output_type": "execute_result"
    }
   ],
   "source": [
    "from pixeltable.functions import openai\n",
    "\n",
    "t['chat_output'] = openai.chat_completions(model='gpt-3.5-turbo', messages=t.input_msgs)\n",
    "t.show()"
   ]
  },
  {
   "cell_type": "markdown",
   "id": "004723a6",
   "metadata": {},
   "source": [
    "The output of the OpenAI API calls are generally complex JSON structures, which require some navigation to extract the response. We can express this as JSON path expressions and create another computed column:"
   ]
  },
  {
   "cell_type": "code",
   "execution_count": 10,
   "id": "06e15905",
   "metadata": {
    "execution": {
     "iopub.execute_input": "2024-05-25T22:22:28.183351Z",
     "iopub.status.busy": "2024-05-25T22:22:28.183191Z",
     "iopub.status.idle": "2024-05-25T22:22:28.198975Z",
     "shell.execute_reply": "2024-05-25T22:22:28.198688Z"
    }
   },
   "outputs": [
    {
     "name": "stdout",
     "output_type": "stream",
     "text": [
      "\r",
      "Computing cells:   0%|                                                    | 0/1 [00:00<?, ? cells/s]"
     ]
    },
    {
     "name": "stdout",
     "output_type": "stream",
     "text": [
      "\r",
      "Computing cells: 100%|███████████████████████████████████████████| 1/1 [00:00<00:00, 462.28 cells/s]"
     ]
    },
    {
     "name": "stdout",
     "output_type": "stream",
     "text": [
      "\n",
      "Added 1 column value with 0 errors.\n"
     ]
    },
    {
     "data": {
      "text/html": [
       "<table border=\"1\" class=\"dataframe\">\n",
       "  <thead>\n",
       "    <tr style=\"text-align: right;\">\n",
       "      <th>id</th>\n",
       "      <th>input</th>\n",
       "      <th>input_msgs</th>\n",
       "      <th>chat_output</th>\n",
       "      <th>response</th>\n",
       "    </tr>\n",
       "  </thead>\n",
       "  <tbody>\n",
       "    <tr>\n",
       "      <td>0</td>\n",
       "      <td>On Sunday, September 14, it was announced that Lehman Brothers would file for bankruptcy after the Federal Reserve Bank declined to participate in creating a financial support facility for Lehman Brothers.</td>\n",
       "      <td>[{'role': 'system', 'content': 'For the following sentence, extract all company names from the text.'}, {'role': 'user', 'content': 'On Sunday, September 14, it was announced that Lehman Brothers would file for bankruptcy after the Federal Reserve Bank declined to participate in creating a financial support facility for Lehman Brothers.'}]</td>\n",
       "      <td>{'id': 'chatcmpl-9Su4S630t8UQ2pRJpY1Ho9lfxyMXh', 'model': 'gpt-3.5-turbo-0125', 'usage': {'total_tokens': 66, 'prompt_tokens': 61, 'completion_tokens': 5}, 'object': 'chat.completion', 'choices': [{'index': 0, 'message': {'role': 'assistant', 'content': '1. Lehman Brothers', 'tool_calls': None, 'function_call': None}, 'logprobs': None, 'finish_reason': 'stop'}], 'created': 1716675748, 'system_fingerprint': None}</td>\n",
       "      <td>1. Lehman Brothers</td>\n",
       "    </tr>\n",
       "  </tbody>\n",
       "</table>"
      ],
      "text/plain": [
       "   id                                              input  \\\n",
       "0   0  On Sunday, September 14, it was announced that...   \n",
       "\n",
       "                                          input_msgs  \\\n",
       "0  [{'role': 'system', 'content': 'For the follow...   \n",
       "\n",
       "                                         chat_output            response  \n",
       "0  {'id': 'chatcmpl-9Su4S630t8UQ2pRJpY1Ho9lfxyMXh...  1. Lehman Brothers  "
      ]
     },
     "execution_count": 10,
     "metadata": {},
     "output_type": "execute_result"
    }
   ],
   "source": [
    "t['response'] = t.chat_output.choices[0].message.content\n",
    "t.show()"
   ]
  },
  {
   "cell_type": "markdown",
   "id": "96d19ca5",
   "metadata": {},
   "source": [
    "Let's run a query to look only at the input and output:"
   ]
  },
  {
   "cell_type": "code",
   "execution_count": 11,
   "id": "4313dbb1",
   "metadata": {
    "execution": {
     "iopub.execute_input": "2024-05-25T22:22:28.200925Z",
     "iopub.status.busy": "2024-05-25T22:22:28.200801Z",
     "iopub.status.idle": "2024-05-25T22:22:28.205817Z",
     "shell.execute_reply": "2024-05-25T22:22:28.205543Z"
    }
   },
   "outputs": [
    {
     "data": {
      "text/html": [
       "<table border=\"1\" class=\"dataframe\">\n",
       "  <thead>\n",
       "    <tr style=\"text-align: right;\">\n",
       "      <th>input</th>\n",
       "      <th>response</th>\n",
       "    </tr>\n",
       "  </thead>\n",
       "  <tbody>\n",
       "    <tr>\n",
       "      <td>On Sunday, September 14, it was announced that Lehman Brothers would file for bankruptcy after the Federal Reserve Bank declined to participate in creating a financial support facility for Lehman Brothers.</td>\n",
       "      <td>1. Lehman Brothers</td>\n",
       "    </tr>\n",
       "  </tbody>\n",
       "</table>"
      ],
      "text/plain": [
       "                                               input            response\n",
       "0  On Sunday, September 14, it was announced that...  1. Lehman Brothers"
      ]
     },
     "execution_count": 11,
     "metadata": {},
     "output_type": "execute_result"
    }
   ],
   "source": [
    "t.select(t.input, t.response).show()"
   ]
  },
  {
   "cell_type": "markdown",
   "id": "3ae2854d",
   "metadata": {},
   "source": [
    "Once we have defined these computed columns, much like with a spreadsheet, newly inserted `t.input` values trigger computation of all derived columns, such as `t.response`. Let's insert the rest of our data and see how this works."
   ]
  },
  {
   "cell_type": "code",
   "execution_count": 12,
   "id": "d5144a35",
   "metadata": {
    "execution": {
     "iopub.execute_input": "2024-05-25T22:22:28.207312Z",
     "iopub.status.busy": "2024-05-25T22:22:28.207200Z",
     "iopub.status.idle": "2024-05-25T22:22:31.024075Z",
     "shell.execute_reply": "2024-05-25T22:22:31.023684Z"
    }
   },
   "outputs": [
    {
     "name": "stdout",
     "output_type": "stream",
     "text": [
      "\r",
      "Computing cells:   0%|                                                   | 0/15 [00:00<?, ? cells/s]"
     ]
    },
    {
     "name": "stdout",
     "output_type": "stream",
     "text": [
      "\n"
     ]
    },
    {
     "name": "stdout",
     "output_type": "stream",
     "text": [
      "\r",
      "Inserting rows into `openai`: 0 rows [00:00, ? rows/s]"
     ]
    },
    {
     "name": "stdout",
     "output_type": "stream",
     "text": [
      "\u001b[A"
     ]
    },
    {
     "name": "stdout",
     "output_type": "stream",
     "text": [
      "\r",
      "Inserting rows into `openai`: 5 rows [00:00, 1303.39 rows/s]"
     ]
    },
    {
     "name": "stdout",
     "output_type": "stream",
     "text": [
      "\n",
      "\r",
      "Computing cells: 100%|██████████████████████████████████████████| 15/15 [00:02<00:00,  5.34 cells/s]"
     ]
    },
    {
     "name": "stdout",
     "output_type": "stream",
     "text": [
      "\n",
      "Inserted 5 rows with 0 errors.\n"
     ]
    },
    {
     "data": {
      "text/plain": [
       "UpdateStatus(num_rows=5, num_computed_values=15, num_excs=0, updated_cols=[], cols_with_excs=[])"
      ]
     },
     "execution_count": 12,
     "metadata": {},
     "output_type": "execute_result"
    }
   ],
   "source": [
    "t.insert({'id': i, 'input': sample_inputs[i]} for i in range(1, len(sample_inputs)))"
   ]
  },
  {
   "cell_type": "code",
   "execution_count": 13,
   "id": "729713aa",
   "metadata": {
    "execution": {
     "iopub.execute_input": "2024-05-25T22:22:31.026540Z",
     "iopub.status.busy": "2024-05-25T22:22:31.026361Z",
     "iopub.status.idle": "2024-05-25T22:22:31.034748Z",
     "shell.execute_reply": "2024-05-25T22:22:31.034412Z"
    }
   },
   "outputs": [
    {
     "data": {
      "text/html": [
       "<table border=\"1\" class=\"dataframe\">\n",
       "  <thead>\n",
       "    <tr style=\"text-align: right;\">\n",
       "      <th>input</th>\n",
       "      <th>response</th>\n",
       "    </tr>\n",
       "  </thead>\n",
       "  <tbody>\n",
       "    <tr>\n",
       "      <td>On Sunday, September 14, it was announced that Lehman Brothers would file for bankruptcy after the Federal Reserve Bank declined to participate in creating a financial support facility for Lehman Brothers.</td>\n",
       "      <td>1. Lehman Brothers</td>\n",
       "    </tr>\n",
       "    <tr>\n",
       "      <td>The significance of the Lehman Brothers bankruptcy is disputed with some assigning it a pivotal role in the unfolding of subsequent events.</td>\n",
       "      <td>Lehman Brothers</td>\n",
       "    </tr>\n",
       "    <tr>\n",
       "      <td>The principals involved, Ben Bernanke and Henry Paulson, dispute this view, citing a volume of toxic assets at Lehman which made a rescue impossible.[16][17] Immediately following the bankruptcy, JPMorgan Chase provided the broker dealer unit of Lehman Brothers with $138 billion to \"settle securities transactions with customers of Lehman and its clearance parties\" according to a statement made in a New York City Bankruptcy court filing.[18]</td>\n",
       "      <td>1. Lehman Brothers\\n2. JPMorgan Chase</td>\n",
       "    </tr>\n",
       "    <tr>\n",
       "      <td>The same day, the sale of Merrill Lynch to Bank of America was announced.[19] The beginning of the week was marked by extreme instability in global stock markets, with dramatic drops in market values on Monday, September 15, and Wednesday, September 17.</td>\n",
       "      <td>- Merrill Lynch\\n- Bank of America</td>\n",
       "    </tr>\n",
       "    <tr>\n",
       "      <td>On September 16, the large insurer American International Group (AIG), a significant participant in the credit default swaps markets, suffered a liquidity crisis following the downgrade of its credit rating.</td>\n",
       "      <td>American International Group (AIG)</td>\n",
       "    </tr>\n",
       "    <tr>\n",
       "      <td>The Federal Reserve, at AIG's request, and after AIG had shown that it could not find lenders willing to save it from insolvency, created a credit facility for up to US$85 billion in exchange for a 79.9% equity interest, and the right to suspend dividends to previously issued common and preferred stock.[20]</td>\n",
       "      <td>1. The Federal Reserve\\n2. AIG</td>\n",
       "    </tr>\n",
       "  </tbody>\n",
       "</table>"
      ],
      "text/plain": [
       "                                               input  \\\n",
       "0  On Sunday, September 14, it was announced that...   \n",
       "1  The significance of the Lehman Brothers bankru...   \n",
       "2  The principals involved, Ben Bernanke and Henr...   \n",
       "3  The same day, the sale of Merrill Lynch to Ban...   \n",
       "4  On September 16, the large insurer American In...   \n",
       "5  The Federal Reserve, at AIG's request, and aft...   \n",
       "\n",
       "                                response  \n",
       "0                     1. Lehman Brothers  \n",
       "1                        Lehman Brothers  \n",
       "2  1. Lehman Brothers\\n2. JPMorgan Chase  \n",
       "3     - Merrill Lynch\\n- Bank of America  \n",
       "4     American International Group (AIG)  \n",
       "5         1. The Federal Reserve\\n2. AIG  "
      ]
     },
     "execution_count": 13,
     "metadata": {},
     "output_type": "execute_result"
    }
   ],
   "source": [
    "t.select(t.input, t.response).show()"
   ]
  },
  {
   "cell_type": "markdown",
   "id": "a0cfe126",
   "metadata": {},
   "source": [
    "## Adding Ground Truth Data\n",
    "\n",
    "Now let's see how Pixeltable can be used to evaluate a model against ground truth data. We'll start by manually populating a `ground_truth` column in our table."
   ]
  },
  {
   "cell_type": "code",
   "execution_count": 14,
   "id": "6d4f8611",
   "metadata": {
    "execution": {
     "iopub.execute_input": "2024-05-25T22:22:31.036769Z",
     "iopub.status.busy": "2024-05-25T22:22:31.036595Z",
     "iopub.status.idle": "2024-05-25T22:22:31.076388Z",
     "shell.execute_reply": "2024-05-25T22:22:31.076136Z"
    }
   },
   "outputs": [
    {
     "name": "stdout",
     "output_type": "stream",
     "text": [
      "Added 6 column values with 0 errors.\n"
     ]
    },
    {
     "name": "stdout",
     "output_type": "stream",
     "text": [
      "\r",
      "Inserting rows into `openai`: 0 rows [00:00, ? rows/s]"
     ]
    },
    {
     "name": "stdout",
     "output_type": "stream",
     "text": [
      "\r",
      "Inserting rows into `openai`: 1 rows [00:00, 1216.80 rows/s]"
     ]
    },
    {
     "name": "stdout",
     "output_type": "stream",
     "text": [
      "\n"
     ]
    },
    {
     "name": "stdout",
     "output_type": "stream",
     "text": [
      "\r",
      "Inserting rows into `openai`: 0 rows [00:00, ? rows/s]"
     ]
    },
    {
     "name": "stdout",
     "output_type": "stream",
     "text": [
      "\r",
      "Inserting rows into `openai`: 1 rows [00:00, 2136.68 rows/s]"
     ]
    },
    {
     "name": "stdout",
     "output_type": "stream",
     "text": [
      "\n"
     ]
    },
    {
     "name": "stdout",
     "output_type": "stream",
     "text": [
      "\r",
      "Inserting rows into `openai`: 0 rows [00:00, ? rows/s]"
     ]
    },
    {
     "name": "stdout",
     "output_type": "stream",
     "text": [
      "\r",
      "Inserting rows into `openai`: 1 rows [00:00, 2308.37 rows/s]"
     ]
    },
    {
     "name": "stdout",
     "output_type": "stream",
     "text": [
      "\n"
     ]
    },
    {
     "name": "stdout",
     "output_type": "stream",
     "text": [
      "\r",
      "Inserting rows into `openai`: 0 rows [00:00, ? rows/s]"
     ]
    },
    {
     "name": "stdout",
     "output_type": "stream",
     "text": [
      "\r",
      "Inserting rows into `openai`: 1 rows [00:00, 2432.89 rows/s]"
     ]
    },
    {
     "name": "stdout",
     "output_type": "stream",
     "text": [
      "\n"
     ]
    },
    {
     "name": "stdout",
     "output_type": "stream",
     "text": [
      "\r",
      "Inserting rows into `openai`: 0 rows [00:00, ? rows/s]"
     ]
    },
    {
     "name": "stdout",
     "output_type": "stream",
     "text": [
      "\r",
      "Inserting rows into `openai`: 1 rows [00:00, 2777.68 rows/s]"
     ]
    },
    {
     "name": "stdout",
     "output_type": "stream",
     "text": [
      "\n"
     ]
    },
    {
     "name": "stdout",
     "output_type": "stream",
     "text": [
      "\r",
      "Inserting rows into `openai`: 0 rows [00:00, ? rows/s]"
     ]
    },
    {
     "name": "stdout",
     "output_type": "stream",
     "text": [
      "\r",
      "Inserting rows into `openai`: 1 rows [00:00, 2855.21 rows/s]"
     ]
    },
    {
     "name": "stdout",
     "output_type": "stream",
     "text": [
      "\n"
     ]
    }
   ],
   "source": [
    "t['ground_truth'] = pxt.StringType(nullable=True)\n",
    "\n",
    "ground_truth = [\n",
    "    'Lehman Brothers',\n",
    "    'Lehman Brothers',\n",
    "    'JP Morgan Chase, Lehman Brothers',\n",
    "    'Merill Lynch, Bank of America',\n",
    "    'American International Group',\n",
    "    'American International Group',\n",
    "]\n",
    "\n",
    "for i, gt in enumerate(ground_truth):\n",
    "    t.update({'ground_truth': gt}, where=(t.id == i))"
   ]
  },
  {
   "cell_type": "markdown",
   "id": "17406f13",
   "metadata": {},
   "source": [
    "And this is what we have so far:"
   ]
  },
  {
   "cell_type": "code",
   "execution_count": 15,
   "id": "72457011",
   "metadata": {
    "execution": {
     "iopub.execute_input": "2024-05-25T22:22:31.077855Z",
     "iopub.status.busy": "2024-05-25T22:22:31.077745Z",
     "iopub.status.idle": "2024-05-25T22:22:31.082950Z",
     "shell.execute_reply": "2024-05-25T22:22:31.082691Z"
    }
   },
   "outputs": [
    {
     "data": {
      "text/html": [
       "<table border=\"1\" class=\"dataframe\">\n",
       "  <thead>\n",
       "    <tr style=\"text-align: right;\">\n",
       "      <th>input</th>\n",
       "      <th>response</th>\n",
       "      <th>ground_truth</th>\n",
       "    </tr>\n",
       "  </thead>\n",
       "  <tbody>\n",
       "    <tr>\n",
       "      <td>On Sunday, September 14, it was announced that Lehman Brothers would file for bankruptcy after the Federal Reserve Bank declined to participate in creating a financial support facility for Lehman Brothers.</td>\n",
       "      <td>1. Lehman Brothers</td>\n",
       "      <td>Lehman Brothers</td>\n",
       "    </tr>\n",
       "    <tr>\n",
       "      <td>The significance of the Lehman Brothers bankruptcy is disputed with some assigning it a pivotal role in the unfolding of subsequent events.</td>\n",
       "      <td>Lehman Brothers</td>\n",
       "      <td>Lehman Brothers</td>\n",
       "    </tr>\n",
       "    <tr>\n",
       "      <td>The principals involved, Ben Bernanke and Henry Paulson, dispute this view, citing a volume of toxic assets at Lehman which made a rescue impossible.[16][17] Immediately following the bankruptcy, JPMorgan Chase provided the broker dealer unit of Lehman Brothers with $138 billion to \"settle securities transactions with customers of Lehman and its clearance parties\" according to a statement made in a New York City Bankruptcy court filing.[18]</td>\n",
       "      <td>1. Lehman Brothers\\n2. JPMorgan Chase</td>\n",
       "      <td>JP Morgan Chase, Lehman Brothers</td>\n",
       "    </tr>\n",
       "    <tr>\n",
       "      <td>The same day, the sale of Merrill Lynch to Bank of America was announced.[19] The beginning of the week was marked by extreme instability in global stock markets, with dramatic drops in market values on Monday, September 15, and Wednesday, September 17.</td>\n",
       "      <td>- Merrill Lynch\\n- Bank of America</td>\n",
       "      <td>Merill Lynch, Bank of America</td>\n",
       "    </tr>\n",
       "    <tr>\n",
       "      <td>The Federal Reserve, at AIG's request, and after AIG had shown that it could not find lenders willing to save it from insolvency, created a credit facility for up to US$85 billion in exchange for a 79.9% equity interest, and the right to suspend dividends to previously issued common and preferred stock.[20]</td>\n",
       "      <td>1. The Federal Reserve\\n2. AIG</td>\n",
       "      <td>American International Group</td>\n",
       "    </tr>\n",
       "    <tr>\n",
       "      <td>On September 16, the large insurer American International Group (AIG), a significant participant in the credit default swaps markets, suffered a liquidity crisis following the downgrade of its credit rating.</td>\n",
       "      <td>American International Group (AIG)</td>\n",
       "      <td>American International Group</td>\n",
       "    </tr>\n",
       "  </tbody>\n",
       "</table>"
      ],
      "text/plain": [
       "                                               input  \\\n",
       "0  On Sunday, September 14, it was announced that...   \n",
       "1  The significance of the Lehman Brothers bankru...   \n",
       "2  The principals involved, Ben Bernanke and Henr...   \n",
       "3  The same day, the sale of Merrill Lynch to Ban...   \n",
       "4  The Federal Reserve, at AIG's request, and aft...   \n",
       "5  On September 16, the large insurer American In...   \n",
       "\n",
       "                                response                      ground_truth  \n",
       "0                     1. Lehman Brothers                   Lehman Brothers  \n",
       "1                        Lehman Brothers                   Lehman Brothers  \n",
       "2  1. Lehman Brothers\\n2. JPMorgan Chase  JP Morgan Chase, Lehman Brothers  \n",
       "3     - Merrill Lynch\\n- Bank of America     Merill Lynch, Bank of America  \n",
       "4         1. The Federal Reserve\\n2. AIG      American International Group  \n",
       "5     American International Group (AIG)      American International Group  "
      ]
     },
     "execution_count": 15,
     "metadata": {},
     "output_type": "execute_result"
    }
   ],
   "source": [
    "t.select(t.input, t.response, t.ground_truth).show()"
   ]
  },
  {
   "cell_type": "markdown",
   "id": "ce291c35",
   "metadata": {},
   "source": [
    "## Evaluation\n",
    "\n",
    "Now that we have some ground truth available, we can carry out basic evaluations of the GPT outputs, in this case by asking ChatGPT to decide whether the two are equivalent. \n",
    "\n",
    "To start with, we'll create an evaluation prompt. In this case, the prompt requires some bespoke string substitution, so it's easiest to do using a UDF. (See the [Pixeltable Basics](https://pixeltable.github.io/pixeltable/tutorials/pixeltable-basics/) tutorial and the [UDFs in Pixeltable](https://pixeltable.github.io/pixeltable/howto/udfs-in-pixeltable/) guide for more details on UDFs.)"
   ]
  },
  {
   "cell_type": "code",
   "execution_count": 16,
   "id": "c49ea5b7",
   "metadata": {
    "execution": {
     "iopub.execute_input": "2024-05-25T22:22:31.084354Z",
     "iopub.status.busy": "2024-05-25T22:22:31.084249Z",
     "iopub.status.idle": "2024-05-25T22:22:31.095854Z",
     "shell.execute_reply": "2024-05-25T22:22:31.095601Z"
    }
   },
   "outputs": [
    {
     "name": "stdout",
     "output_type": "stream",
     "text": [
      "\r",
      "Computing cells:   0%|                                                    | 0/6 [00:00<?, ? cells/s]"
     ]
    },
    {
     "name": "stdout",
     "output_type": "stream",
     "text": [
      "\r",
      "Computing cells: 100%|██████████████████████████████████████████| 6/6 [00:00<00:00, 1552.01 cells/s]"
     ]
    },
    {
     "name": "stdout",
     "output_type": "stream",
     "text": [
      "\n",
      "Added 6 column values with 0 errors.\n"
     ]
    }
   ],
   "source": [
    "system_prompt = '''\n",
    "Compare the following listA and listB of entities, and check if they contain the same entities.\n",
    "Return a JSON object with the following format:\n",
    "{\"reasoning\": explaining your reasoning, \"decision\": 1 if the lists matched, 0 otherwise}\n",
    "'''\n",
    "\n",
    "@pxt.udf\n",
    "def eval_prompt(listA: str, listB: str) -> list[dict]:\n",
    "    return [\n",
    "        {'role': 'system', 'content': system_prompt},\n",
    "        {'role': 'user', 'content': f'listA: \"{listA}\" \\n listB: \"{listB}\"'}\n",
    "    ]\n",
    "\n",
    "t['eval_prompt'] = eval_prompt(t.response, t.ground_truth)"
   ]
  },
  {
   "cell_type": "code",
   "execution_count": 17,
   "id": "08445095",
   "metadata": {
    "execution": {
     "iopub.execute_input": "2024-05-25T22:22:31.097100Z",
     "iopub.status.busy": "2024-05-25T22:22:31.097002Z",
     "iopub.status.idle": "2024-05-25T22:22:31.102949Z",
     "shell.execute_reply": "2024-05-25T22:22:31.102719Z"
    }
   },
   "outputs": [
    {
     "data": {
      "text/html": [
       "<table border=\"1\" class=\"dataframe\">\n",
       "  <thead>\n",
       "    <tr style=\"text-align: right;\">\n",
       "      <th>eval_prompt</th>\n",
       "    </tr>\n",
       "  </thead>\n",
       "  <tbody>\n",
       "    <tr>\n",
       "      <td>[{'role': 'system', 'content': '\n",
       "Compare the following listA and listB of entities, and check if they contain the same entities.\n",
       "Return a JSON object with the following format:\n",
       "{\"reasoning\": explaining your reasoning, \"decision\": 1 if the lists matched, 0 otherwise}\n",
       "'}, {'role': 'user', 'content': 'listA: \"1. Lehman Brothers\" \n",
       " listB: \"Lehman Brothers\"'}]</td>\n",
       "    </tr>\n",
       "    <tr>\n",
       "      <td>[{'role': 'system', 'content': '\n",
       "Compare the following listA and listB of entities, and check if they contain the same entities.\n",
       "Return a JSON object with the following format:\n",
       "{\"reasoning\": explaining your reasoning, \"decision\": 1 if the lists matched, 0 otherwise}\n",
       "'}, {'role': 'user', 'content': 'listA: \"- Merrill Lynch\n",
       "- Bank of America\" \n",
       " listB: \"Merill Lynch, Bank of America\"'}]</td>\n",
       "    </tr>\n",
       "    <tr>\n",
       "      <td>[{'role': 'system', 'content': '\n",
       "Compare the following listA and listB of entities, and check if they contain the same entities.\n",
       "Return a JSON object with the following format:\n",
       "{\"reasoning\": explaining your reasoning, \"decision\": 1 if the lists matched, 0 otherwise}\n",
       "'}, {'role': 'user', 'content': 'listA: \"1. The Federal Reserve\n",
       "2. AIG\" \n",
       " listB: \"American International Group\"'}]</td>\n",
       "    </tr>\n",
       "    <tr>\n",
       "      <td>[{'role': 'system', 'content': '\n",
       "Compare the following listA and listB of entities, and check if they contain the same entities.\n",
       "Return a JSON object with the following format:\n",
       "{\"reasoning\": explaining your reasoning, \"decision\": 1 if the lists matched, 0 otherwise}\n",
       "'}, {'role': 'user', 'content': 'listA: \"Lehman Brothers\" \n",
       " listB: \"Lehman Brothers\"'}]</td>\n",
       "    </tr>\n",
       "    <tr>\n",
       "      <td>[{'role': 'system', 'content': '\n",
       "Compare the following listA and listB of entities, and check if they contain the same entities.\n",
       "Return a JSON object with the following format:\n",
       "{\"reasoning\": explaining your reasoning, \"decision\": 1 if the lists matched, 0 otherwise}\n",
       "'}, {'role': 'user', 'content': 'listA: \"1. Lehman Brothers\n",
       "2. JPMorgan Chase\" \n",
       " listB: \"JP Morgan Chase, Lehman Brothers\"'}]</td>\n",
       "    </tr>\n",
       "    <tr>\n",
       "      <td>[{'role': 'system', 'content': '\n",
       "Compare the following listA and listB of entities, and check if they contain the same entities.\n",
       "Return a JSON object with the following format:\n",
       "{\"reasoning\": explaining your reasoning, \"decision\": 1 if the lists matched, 0 otherwise}\n",
       "'}, {'role': 'user', 'content': 'listA: \"American International Group (AIG)\" \n",
       " listB: \"American International Group\"'}]</td>\n",
       "    </tr>\n",
       "  </tbody>\n",
       "</table>"
      ],
      "text/plain": [
       "                                         eval_prompt\n",
       "0  [{'role': 'system', 'content': '\n",
       "Compare the f...\n",
       "1  [{'role': 'system', 'content': '\n",
       "Compare the f...\n",
       "2  [{'role': 'system', 'content': '\n",
       "Compare the f...\n",
       "3  [{'role': 'system', 'content': '\n",
       "Compare the f...\n",
       "4  [{'role': 'system', 'content': '\n",
       "Compare the f...\n",
       "5  [{'role': 'system', 'content': '\n",
       "Compare the f..."
      ]
     },
     "execution_count": 17,
     "metadata": {},
     "output_type": "execute_result"
    }
   ],
   "source": [
    "t.select(t.eval_prompt).show()"
   ]
  },
  {
   "cell_type": "markdown",
   "id": "0b8be46a",
   "metadata": {},
   "source": [
    "The actual evaluation happens in another computed column. We can use OpenAI's handy `response_format` parameter to enforce that the output is properly formed JSON."
   ]
  },
  {
   "cell_type": "code",
   "execution_count": 18,
   "id": "43516050",
   "metadata": {
    "execution": {
     "iopub.execute_input": "2024-05-25T22:22:31.104224Z",
     "iopub.status.busy": "2024-05-25T22:22:31.104138Z",
     "iopub.status.idle": "2024-05-25T22:22:37.289980Z",
     "shell.execute_reply": "2024-05-25T22:22:37.289637Z"
    }
   },
   "outputs": [
    {
     "name": "stdout",
     "output_type": "stream",
     "text": [
      "\r",
      "Computing cells:   0%|                                                    | 0/6 [00:00<?, ? cells/s]"
     ]
    },
    {
     "name": "stdout",
     "output_type": "stream",
     "text": [
      "\r",
      "Computing cells: 100%|████████████████████████████████████████████| 6/6 [00:06<00:00,  1.03s/ cells]"
     ]
    },
    {
     "name": "stdout",
     "output_type": "stream",
     "text": [
      "\n",
      "Added 6 column values with 0 errors.\n"
     ]
    },
    {
     "name": "stdout",
     "output_type": "stream",
     "text": [
      "\r",
      "Computing cells:   0%|                                                    | 0/6 [00:00<?, ? cells/s]"
     ]
    },
    {
     "name": "stdout",
     "output_type": "stream",
     "text": [
      "\r",
      "Computing cells: 100%|███████████████████████████████████████████| 6/6 [00:00<00:00, 947.40 cells/s]"
     ]
    },
    {
     "name": "stdout",
     "output_type": "stream",
     "text": [
      "\n",
      "Added 6 column values with 0 errors.\n"
     ]
    }
   ],
   "source": [
    "t['eval'] = openai.chat_completions(model='gpt-3.5-turbo', messages=t.eval_prompt, response_format={'type': 'json_object'})\n",
    "t['eval_output'] = t.eval.choices[0].message.content"
   ]
  },
  {
   "cell_type": "markdown",
   "id": "c72427a8",
   "metadata": {},
   "source": [
    "Let's take a look:"
   ]
  },
  {
   "cell_type": "code",
   "execution_count": 19,
   "id": "5ce36880",
   "metadata": {
    "execution": {
     "iopub.execute_input": "2024-05-25T22:22:37.291775Z",
     "iopub.status.busy": "2024-05-25T22:22:37.291625Z",
     "iopub.status.idle": "2024-05-25T22:22:37.298545Z",
     "shell.execute_reply": "2024-05-25T22:22:37.298250Z"
    }
   },
   "outputs": [
    {
     "data": {
      "text/html": [
       "<table border=\"1\" class=\"dataframe\">\n",
       "  <thead>\n",
       "    <tr style=\"text-align: right;\">\n",
       "      <th>response</th>\n",
       "      <th>ground_truth</th>\n",
       "      <th>eval_output</th>\n",
       "    </tr>\n",
       "  </thead>\n",
       "  <tbody>\n",
       "    <tr>\n",
       "      <td>1. Lehman Brothers</td>\n",
       "      <td>Lehman Brothers</td>\n",
       "      <td>{\"reasoning\": \"The entities in listA and listB are the same, as '1.' is just a numbering and can be ignored when comparing the entities.\", \"decision\": 1}</td>\n",
       "    </tr>\n",
       "    <tr>\n",
       "      <td>1. The Federal Reserve\\n2. AIG</td>\n",
       "      <td>American International Group</td>\n",
       "      <td>{\\n  \"reasoning\": \"The entities in listA are 'The Federal Reserve' and 'AIG', while the entity in listB is 'American International Group'. Since 'AIG' (American International Group) appears in both lists, we can consider them as matching even though the formatting differs.\",\\n  \"decision\": 1\\n}</td>\n",
       "    </tr>\n",
       "    <tr>\n",
       "      <td>1. Lehman Brothers\\n2. JPMorgan Chase</td>\n",
       "      <td>JP Morgan Chase, Lehman Brothers</td>\n",
       "      <td>{\"reasoning\": \"The lists do not match because the entities are in a different order in listA and listB. Additionally, there is a slight difference in the naming convention (e.g., 'JPMorgan Chase' in listA vs. 'JP Morgan Chase' in listB).\", \"decision\": 0}</td>\n",
       "    </tr>\n",
       "    <tr>\n",
       "      <td>- Merrill Lynch\\n- Bank of America</td>\n",
       "      <td>Merill Lynch, Bank of America</td>\n",
       "      <td>{\\n    \"reasoning\": \"The entities in listA are separated with a hyphen while the entities in listB are separated with a comma. However, the entities themselves are the same.\",\\n    \"decision\": 1\\n}</td>\n",
       "    </tr>\n",
       "    <tr>\n",
       "      <td>Lehman Brothers</td>\n",
       "      <td>Lehman Brothers</td>\n",
       "      <td>{\"reasoning\": \"The entities in both lists are exactly the same.\", \"decision\": 1}</td>\n",
       "    </tr>\n",
       "    <tr>\n",
       "      <td>American International Group (AIG)</td>\n",
       "      <td>American International Group</td>\n",
       "      <td>{\"reasoning\": \"The entities in listA and listB refer to the same company, with 'AIG' being an abbreviation of 'American International Group'. Therefore, the lists contain the same entity.\", \"decision\": 1}</td>\n",
       "    </tr>\n",
       "  </tbody>\n",
       "</table>"
      ],
      "text/plain": [
       "                                response                      ground_truth  \\\n",
       "0                     1. Lehman Brothers                   Lehman Brothers   \n",
       "1         1. The Federal Reserve\\n2. AIG      American International Group   \n",
       "2  1. Lehman Brothers\\n2. JPMorgan Chase  JP Morgan Chase, Lehman Brothers   \n",
       "3     - Merrill Lynch\\n- Bank of America     Merill Lynch, Bank of America   \n",
       "4                        Lehman Brothers                   Lehman Brothers   \n",
       "5     American International Group (AIG)      American International Group   \n",
       "\n",
       "                                         eval_output  \n",
       "0  {\"reasoning\": \"The entities in listA and listB...  \n",
       "1  {\\n  \"reasoning\": \"The entities in listA are '...  \n",
       "2  {\"reasoning\": \"The lists do not match because ...  \n",
       "3  {\\n    \"reasoning\": \"The entities in listA are...  \n",
       "4  {\"reasoning\": \"The entities in both lists are ...  \n",
       "5  {\"reasoning\": \"The entities in listA and listB...  "
      ]
     },
     "execution_count": 19,
     "metadata": {},
     "output_type": "execute_result"
    }
   ],
   "source": [
    "t.select(t.response, t.ground_truth, t.eval_output).show()"
   ]
  },
  {
   "cell_type": "markdown",
   "id": "1a61994b-a489-4fc9-b71e-ec08ea9d2b85",
   "metadata": {},
   "source": [
    "Finally, it's time to pull the `decision` out of the JSON structs returned by OpenAI. There's just one complication: the `chat_completions` responses are strings, not JSON structs. We can resolve this with Pixeltable's handy `apply` method, which turns any Python function into a Pixeltable function. In this case, we'll apply the Python function `json.loads` to parse the string into a JSON struct."
   ]
  },
  {
   "cell_type": "code",
   "execution_count": 20,
   "id": "2283ef95-d344-4bae-a0e4-1a16bb190e9e",
   "metadata": {
    "execution": {
     "iopub.execute_input": "2024-05-25T22:22:37.300136Z",
     "iopub.status.busy": "2024-05-25T22:22:37.300006Z",
     "iopub.status.idle": "2024-05-25T22:22:37.314723Z",
     "shell.execute_reply": "2024-05-25T22:22:37.314435Z"
    }
   },
   "outputs": [
    {
     "name": "stdout",
     "output_type": "stream",
     "text": [
      "\r",
      "Computing cells:   0%|                                                    | 0/6 [00:00<?, ? cells/s]"
     ]
    },
    {
     "name": "stdout",
     "output_type": "stream",
     "text": [
      "\r",
      "Computing cells: 100%|██████████████████████████████████████████| 6/6 [00:00<00:00, 1314.07 cells/s]"
     ]
    },
    {
     "name": "stdout",
     "output_type": "stream",
     "text": [
      "\n",
      "Added 6 column values with 0 errors.\n"
     ]
    }
   ],
   "source": [
    "import json\n",
    "\n",
    "t['eval_decision'] = t.eval_output.apply(json.loads).decision"
   ]
  },
  {
   "cell_type": "code",
   "execution_count": 21,
   "id": "e6892c65-b104-4acd-93d8-242c70efbd76",
   "metadata": {
    "execution": {
     "iopub.execute_input": "2024-05-25T22:22:37.316369Z",
     "iopub.status.busy": "2024-05-25T22:22:37.316244Z",
     "iopub.status.idle": "2024-05-25T22:22:37.322572Z",
     "shell.execute_reply": "2024-05-25T22:22:37.322352Z"
    }
   },
   "outputs": [
    {
     "data": {
      "text/html": [
       "<table border=\"1\" class=\"dataframe\">\n",
       "  <thead>\n",
       "    <tr style=\"text-align: right;\">\n",
       "      <th>response</th>\n",
       "      <th>ground_truth</th>\n",
       "      <th>eval_output</th>\n",
       "      <th>eval_decision</th>\n",
       "    </tr>\n",
       "  </thead>\n",
       "  <tbody>\n",
       "    <tr>\n",
       "      <td>1. Lehman Brothers</td>\n",
       "      <td>Lehman Brothers</td>\n",
       "      <td>{\"reasoning\": \"The entities in listA and listB are the same, as '1.' is just a numbering and can be ignored when comparing the entities.\", \"decision\": 1}</td>\n",
       "      <td>1</td>\n",
       "    </tr>\n",
       "    <tr>\n",
       "      <td>1. The Federal Reserve\\n2. AIG</td>\n",
       "      <td>American International Group</td>\n",
       "      <td>{\\n  \"reasoning\": \"The entities in listA are 'The Federal Reserve' and 'AIG', while the entity in listB is 'American International Group'. Since 'AIG' (American International Group) appears in both lists, we can consider them as matching even though the formatting differs.\",\\n  \"decision\": 1\\n}</td>\n",
       "      <td>1</td>\n",
       "    </tr>\n",
       "    <tr>\n",
       "      <td>1. Lehman Brothers\\n2. JPMorgan Chase</td>\n",
       "      <td>JP Morgan Chase, Lehman Brothers</td>\n",
       "      <td>{\"reasoning\": \"The lists do not match because the entities are in a different order in listA and listB. Additionally, there is a slight difference in the naming convention (e.g., 'JPMorgan Chase' in listA vs. 'JP Morgan Chase' in listB).\", \"decision\": 0}</td>\n",
       "      <td>0</td>\n",
       "    </tr>\n",
       "    <tr>\n",
       "      <td>- Merrill Lynch\\n- Bank of America</td>\n",
       "      <td>Merill Lynch, Bank of America</td>\n",
       "      <td>{\\n    \"reasoning\": \"The entities in listA are separated with a hyphen while the entities in listB are separated with a comma. However, the entities themselves are the same.\",\\n    \"decision\": 1\\n}</td>\n",
       "      <td>1</td>\n",
       "    </tr>\n",
       "    <tr>\n",
       "      <td>Lehman Brothers</td>\n",
       "      <td>Lehman Brothers</td>\n",
       "      <td>{\"reasoning\": \"The entities in both lists are exactly the same.\", \"decision\": 1}</td>\n",
       "      <td>1</td>\n",
       "    </tr>\n",
       "    <tr>\n",
       "      <td>American International Group (AIG)</td>\n",
       "      <td>American International Group</td>\n",
       "      <td>{\"reasoning\": \"The entities in listA and listB refer to the same company, with 'AIG' being an abbreviation of 'American International Group'. Therefore, the lists contain the same entity.\", \"decision\": 1}</td>\n",
       "      <td>1</td>\n",
       "    </tr>\n",
       "  </tbody>\n",
       "</table>"
      ],
      "text/plain": [
       "                                response                      ground_truth  \\\n",
       "0                     1. Lehman Brothers                   Lehman Brothers   \n",
       "1         1. The Federal Reserve\\n2. AIG      American International Group   \n",
       "2  1. Lehman Brothers\\n2. JPMorgan Chase  JP Morgan Chase, Lehman Brothers   \n",
       "3     - Merrill Lynch\\n- Bank of America     Merill Lynch, Bank of America   \n",
       "4                        Lehman Brothers                   Lehman Brothers   \n",
       "5     American International Group (AIG)      American International Group   \n",
       "\n",
       "                                         eval_output  eval_decision  \n",
       "0  {\"reasoning\": \"The entities in listA and listB...              1  \n",
       "1  {\\n  \"reasoning\": \"The entities in listA are '...              1  \n",
       "2  {\"reasoning\": \"The lists do not match because ...              0  \n",
       "3  {\\n    \"reasoning\": \"The entities in listA are...              1  \n",
       "4  {\"reasoning\": \"The entities in both lists are ...              1  \n",
       "5  {\"reasoning\": \"The entities in listA and listB...              1  "
      ]
     },
     "execution_count": 21,
     "metadata": {},
     "output_type": "execute_result"
    }
   ],
   "source": [
    "t.select(t.response, t.ground_truth, t.eval_output, t.eval_decision).show()"
   ]
  }
 ],
 "metadata": {
  "kernelspec": {
   "display_name": "Python 3 (ipykernel)",
   "language": "python",
   "name": "python3"
  },
  "language_info": {
   "codemirror_mode": {
    "name": "ipython",
    "version": 3
   },
   "file_extension": ".py",
   "mimetype": "text/x-python",
   "name": "python",
   "nbconvert_exporter": "python",
   "pygments_lexer": "ipython3",
   "version": "3.10.10"
  }
 },
 "nbformat": 4,
 "nbformat_minor": 5
}
