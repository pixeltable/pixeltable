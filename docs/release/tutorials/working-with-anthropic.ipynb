{
 "cells": [
  {
   "cell_type": "markdown",
   "metadata": {
    "id": "983yjns496tx"
   },
   "source": [
    "[![Kaggle](https://kaggle.com/static/images/open-in-kaggle.svg)](https://kaggle.com/kernels/welcome?src=https://github.com/pixeltable/pixeltable/blob/release/docs/release/tutorials/working-with-anthropic.ipynb)&nbsp;&nbsp;\n",
    "[![Colab](https://colab.research.google.com/assets/colab-badge.svg)](https://colab.research.google.com/github/pixeltable/pixeltable/blob/release/docs/release/tutorials/working-with-anthropic.ipynb)&nbsp;&nbsp;\n",
    "<a href=\"https://raw.githubusercontent.com/pixeltable/pixeltable/release/docs/release/tutorials/working-with-anthropic.ipynb\" download><img src=\"https://img.shields.io/badge/%E2%AC%87-Download%20Notebook-blue\" alt=\"Download Notebook\"></a>\n",
    "\n",
    "# Working with Anthropic in Pixeltable\n",
    "\n",
    "Pixeltable's Anthropic integration enables you to access Anthropic's Claude LLM via the Anthropic API.\n",
    "\n",
    "### Prerequisites\n",
    "\n",
    "- An Anthropic account with an API key (https://docs.anthropic.com/en/api/getting-started)\n",
    "\n",
    "### Important Notes\n",
    "\n",
    "- Anthropic usage may incur costs based on your Anthropic plan.\n",
    "- Be mindful of sensitive data and consider security measures when integrating with external services.\n",
    "\n",
    "First you'll need to install required libraries and enter an Anthropic API key."
   ]
  },
  {
   "cell_type": "code",
   "execution_count": null,
   "metadata": {
    "colab": {
     "base_uri": "https://localhost:8080/"
    },
    "id": "9pckrD01ik-e",
    "outputId": "060b8b32-48a6-48a0-e720-4eacf94d83ef"
   },
   "outputs": [],
   "source": [
    "%pip install -qU pixeltable anthropic"
   ]
  },
  {
   "cell_type": "code",
   "execution_count": null,
   "metadata": {
    "colab": {
     "base_uri": "https://localhost:8080/"
    },
    "id": "AQ6_Py7_7d0r",
    "outputId": "f82cfe36-be9e-4d43-f13e-9f6f5b680e8e"
   },
   "outputs": [],
   "source": [
    "import os\n",
    "import getpass\n",
    "\n",
    "if 'ANTHROPIC_API_KEY' not in os.environ:\n",
    "    os.environ['ANTHROPIC_API_KEY'] = getpass.getpass('Anthropic API Key:')"
   ]
  },
  {
   "cell_type": "markdown",
   "metadata": {},
   "source": [
    "Now let's create a Pixeltable directory to hold the tables for our demo."
   ]
  },
  {
   "cell_type": "code",
   "execution_count": 1,
   "metadata": {
    "colab": {
     "base_uri": "https://localhost:8080/"
    },
    "id": "brtjK-88tTSS",
    "outputId": "55d08c91-438a-4c3e-c217-3cea72faca11"
   },
   "outputs": [
    {
     "name": "stdout",
     "output_type": "stream",
     "text": [
      "Connected to Pixeltable database at: postgresql+psycopg://postgres:@/pixeltable?host=/Users/asiegel/.pixeltable/pgdata\n",
      "Created directory `anthropic_demo`.\n"
     ]
    },
    {
     "data": {
      "text/plain": [
       "<pixeltable.catalog.dir.Dir at 0x33944b3a0>"
      ]
     },
     "execution_count": 1,
     "metadata": {},
     "output_type": "execute_result"
    }
   ],
   "source": [
    "import pixeltable as pxt\n",
    "\n",
    "# Remove the `anthropic_demo` directory and its contents, if it exists\n",
    "pxt.drop_dir('anthropic_demo', force=True)\n",
    "pxt.create_dir('anthropic_demo')"
   ]
  },
  {
   "cell_type": "markdown",
   "metadata": {
    "id": "0kmjJoDq9Oqe"
   },
   "source": [
    "## Messages\n",
    "\n",
    "Create a Table: In Pixeltable, create a table with columns to represent your input data and the columns where you want to store the results from Anthropic."
   ]
  },
  {
   "cell_type": "code",
   "execution_count": 2,
   "metadata": {
    "colab": {
     "base_uri": "https://localhost:8080/"
    },
    "id": "5ti10tXu5m3X",
    "outputId": "30848066-1e9b-4efd-aad7-b2271a031ec3"
   },
   "outputs": [
    {
     "name": "stdout",
     "output_type": "stream",
     "text": [
      "Created table `chat`.\n",
      "Added 0 column values with 0 errors.\n"
     ]
    }
   ],
   "source": [
    "from pixeltable.functions.anthropic import messages\n",
    "\n",
    "# Create a table in Pixeltable and pick a model hosted on Anthropic with some parameters\n",
    "\n",
    "t = pxt.create_table('anthropic_demo.chat', {'input': pxt.StringType()})\n",
    "\n",
    "msgs = [{'role': 'user', 'content': t.input}]\n",
    "t['output'] = messages(\n",
    "    messages=msgs,\n",
    "    model='claude-3-haiku-20240307',\n",
    "    # These parameters are optional and can be used to tune model behavior:\n",
    "    max_tokens=300,\n",
    "    system='Respond to the prompt with detailed historical information.',\n",
    "    top_k=40,\n",
    "    top_p=0.9,\n",
    "    temperature=0.7\n",
    ")"
   ]
  },
  {
   "cell_type": "code",
   "execution_count": 3,
   "metadata": {
    "colab": {
     "base_uri": "https://localhost:8080/"
    },
    "id": "mePjoku95iUn",
    "outputId": "07c3f8f0-5301-44ba-ba33-25d10c3c26fa"
   },
   "outputs": [
    {
     "name": "stdout",
     "output_type": "stream",
     "text": [
      "Added 0 column values with 0 errors.\n"
     ]
    }
   ],
   "source": [
    "# Parse the response into a new column\n",
    "t['response'] = t.output.content[0].text"
   ]
  },
  {
   "cell_type": "code",
   "execution_count": 4,
   "metadata": {
    "colab": {
     "base_uri": "https://localhost:8080/",
     "height": 599
    },
    "id": "IkMM7OYb5rQ_",
    "outputId": "8e94af3e-485c-49f2-d7ba-b5490ec83af9"
   },
   "outputs": [
    {
     "name": "stdout",
     "output_type": "stream",
     "text": [
      "Computing cells: 100%|████████████████████████████████████████████| 3/3 [00:01<00:00,  1.54 cells/s]\n",
      "Inserting rows into `chat`: 1 rows [00:00, 149.28 rows/s]\n",
      "Computing cells: 100%|████████████████████████████████████████████| 3/3 [00:01<00:00,  1.53 cells/s]\n",
      "Inserted 1 row with 0 errors.\n"
     ]
    },
    {
     "data": {
      "text/html": [
       "<table border=\"1\" class=\"dataframe\">\n",
       "  <thead>\n",
       "    <tr style=\"text-align: right;\">\n",
       "      <th>input</th>\n",
       "      <th>response</th>\n",
       "    </tr>\n",
       "  </thead>\n",
       "  <tbody>\n",
       "    <tr>\n",
       "      <td>What was the outcome of the 1904 US Presidential election?</td>\n",
       "      <td>The outcome of the 1904 US presidential election was:\n",
       "\n",
       "- The Republican candidate, Theodore Roosevelt, won the election. Roosevelt had become president in 1901 after the assassination of President William McKinley, and this was his first election as the Republican nominee.\n",
       "\n",
       "- Roosevelt defeated the Democratic candidate, Alton B. Parker, by a wide margin, winning 56.4% of the popular vote and 336 electoral votes compared to Parker&#x27;s 37.6% of the popular vote and 140 electoral votes.\n",
       "\n",
       "- Roosev ...... cies and his aggressive foreign policy, known as &quot;Big Stick&quot; diplomacy. \n",
       "\n",
       "- The election was also notable for the fact that it was the first time a sitting president (Roosevelt) was elected in his own right after originally assuming the presidency due to the death of his predecessor.\n",
       "\n",
       "So in summary, Theodore Roosevelt won a decisive victory over Alton B. Parker, cementing his status as a powerful and popular president during the Progressive Era of American politics in the early 20th century.</td>\n",
       "    </tr>\n",
       "  </tbody>\n",
       "</table>"
      ],
      "text/plain": [
       "                                               input  \\\n",
       "0  What was the outcome of the 1904 US Presidenti...   \n",
       "\n",
       "                                            response  \n",
       "0  The outcome of the 1904 US presidential electi...  "
      ]
     },
     "execution_count": 4,
     "metadata": {},
     "output_type": "execute_result"
    }
   ],
   "source": [
    "# Start a conversation\n",
    "t.insert(input=\"What was the outcome of the 1904 US Presidential election?\")\n",
    "t.select(t.input, t.response).show()"
   ]
  },
  {
   "cell_type": "markdown",
   "metadata": {
    "id": "lTtQcjKQAlis"
   },
   "source": [
    "### Learn More\n",
    "\n",
    "To learn more about advanced techniques like RAG operations in Pixeltable, check out the [RAG Operations in Pixeltable](https://pixeltable.readme.io/docs/rag-operations-in-pixeltable) tutorial.\n",
    "\n",
    "If you have any questions, don't hesitate to reach out."
   ]
  }
 ],
 "metadata": {
  "colab": {
   "provenance": []
  },
  "kernelspec": {
   "display_name": "Python 3 (ipykernel)",
   "language": "python",
   "name": "python3"
  },
  "language_info": {
   "codemirror_mode": {
    "name": "ipython",
    "version": 3
   },
   "file_extension": ".py",
   "mimetype": "text/x-python",
   "name": "python",
   "nbconvert_exporter": "python",
   "pygments_lexer": "ipython3",
   "version": "3.9.19"
  }
 },
 "nbformat": 4,
 "nbformat_minor": 4
}
