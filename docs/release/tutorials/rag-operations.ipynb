{
 "cells": [
  {
   "cell_type": "markdown",
   "id": "f4c59543-f758-4210-aae1-8ffa175f3e3d",
   "metadata": {},
   "source": [
    "[![Kaggle](https://kaggle.com/static/images/open-in-kaggle.svg)](https://kaggle.com/kernels/welcome?src=https://github.com/pixeltable/pixeltable/blob/master/docs/release/tutorials/rag-operations.ipynb)&nbsp;&nbsp;\n",
    "[![Colab](https://colab.research.google.com/assets/colab-badge.svg)](https://colab.research.google.com/github/pixeltable/pixeltable/blob/master/docs/release/tutorials/rag-operations.ipynb)\n",
    "\n",
    "# RAG Operations in Pixeltable\n",
    "\n",
    "In this tutorial, we'll explore Pixeltable's flexible handling of RAG operations on unstructured text. In a traditional AI workflow, such operations might be implemented as a Python script that runs on a periodic schedule or in response to certain events. In Pixeltable, as with everything else, they are implemented as persistent table operations that update incrementally as new data becomes available. In our tutorial workflow, we'll chunk Wikipedia articles in various ways with a document splitter, then apply several kinds of embeddings to the chunks.\n",
    "\n",
    "## Set Up the Table Structure\n",
    "\n",
    "We start by installing the necessary dependencies, creating a Pixeltable directory `rag_ops_demo` (if it doesn't already exist), and setting up the table structure for our new workflow."
   ]
  },
  {
   "cell_type": "code",
   "execution_count": 1,
   "id": "f54bd405-7f63-46c3-8892-5ffbcccd43d3",
   "metadata": {
    "execution": {
     "iopub.execute_input": "2024-05-25T22:21:41.686563Z",
     "iopub.status.busy": "2024-05-25T22:21:41.686256Z",
     "iopub.status.idle": "2024-05-25T22:21:43.675618Z",
     "shell.execute_reply": "2024-05-25T22:21:43.675088Z"
    }
   },
   "outputs": [
    {
     "name": "stdout",
     "output_type": "stream",
     "text": [
      "Note: you may need to restart the kernel to use updated packages.\n"
     ]
    }
   ],
   "source": [
    "%pip install -q sentence-transformers pixeltable"
   ]
  },
  {
   "cell_type": "code",
   "execution_count": 2,
   "id": "a6e5554a-440e-4573-be78-624d012948de",
   "metadata": {
    "execution": {
     "iopub.execute_input": "2024-05-25T22:21:43.678117Z",
     "iopub.status.busy": "2024-05-25T22:21:43.677925Z",
     "iopub.status.idle": "2024-05-25T22:21:46.185812Z",
     "shell.execute_reply": "2024-05-25T22:21:46.185527Z"
    }
   },
   "outputs": [
    {
     "name": "stdout",
     "output_type": "stream",
     "text": [
      "Connected to Pixeltable database at: postgresql://postgres:@/pixeltable?host=/Users/orm/.pixeltable/pgdata\n"
     ]
    },
    {
     "name": "stdout",
     "output_type": "stream",
     "text": [
      "Created directory `rag_ops_demo`.\n"
     ]
    }
   ],
   "source": [
    "import pixeltable as pxt\n",
    "\n",
    "# Create the Pixeltable workspace\n",
    "pxt.create_dir('rag_ops_demo', ignore_errors=True)\n",
    "\n",
    "# Clean the database to ensure we're using fresh table instances\n",
    "# (in case this demo has been run before)\n",
    "pxt.drop_table('rag_ops_demo.short_char_chunks', ignore_errors=True)\n",
    "pxt.drop_table('rag_ops_demo.short_chunks', ignore_errors=True)\n",
    "pxt.drop_table('rag_ops_demo.chunks', ignore_errors=True)\n",
    "pxt.drop_table('rag_ops_demo.sentences', ignore_errors=True)\n",
    "pxt.drop_table('rag_ops_demo.docs', ignore_errors=True)"
   ]
  },
  {
   "cell_type": "markdown",
   "id": "90639ba7",
   "metadata": {},
   "source": [
    "## Creating Tables and Views\n",
    "\n",
    "Now we'll create the tables that represent our workflow, starting with a table to hold references to source documents. The table contains a single column `source_doc` whose elements have type `pxt.DocumentType`, representing a general document instance. In this tutorial, we'll be working with HTML documents, but Pixeltable supports a range of other document types, such as Markdown and PDF."
   ]
  },
  {
   "cell_type": "code",
   "execution_count": 3,
   "id": "c8371827",
   "metadata": {
    "execution": {
     "iopub.execute_input": "2024-05-25T22:21:46.187372Z",
     "iopub.status.busy": "2024-05-25T22:21:46.187226Z",
     "iopub.status.idle": "2024-05-25T22:21:46.195951Z",
     "shell.execute_reply": "2024-05-25T22:21:46.195718Z"
    }
   },
   "outputs": [
    {
     "name": "stdout",
     "output_type": "stream",
     "text": [
      "Created table `docs`.\n"
     ]
    }
   ],
   "source": [
    "docs = pxt.create_table('rag_ops_demo.docs', {'source_doc': pxt.DocumentType()})"
   ]
  },
  {
   "cell_type": "markdown",
   "id": "275d07fd-1f16-47b4-b42a-39c613c3bf5c",
   "metadata": {},
   "source": [
    "If we take a peek at the `docs` table, we see its very simple structure."
   ]
  },
  {
   "cell_type": "code",
   "execution_count": 4,
   "id": "d0644d63-991f-4bf4-82d3-7f887eadadbb",
   "metadata": {
    "execution": {
     "iopub.execute_input": "2024-05-25T22:21:46.197300Z",
     "iopub.status.busy": "2024-05-25T22:21:46.197204Z",
     "iopub.status.idle": "2024-05-25T22:21:46.202201Z",
     "shell.execute_reply": "2024-05-25T22:21:46.201975Z"
    }
   },
   "outputs": [
    {
     "data": {
      "text/html": [
       "<style type=\"text/css\">\n",
       "#T_4fa5c th {\n",
       "  text-align: center;\n",
       "}\n",
       "#T_4fa5c_row0_col0, #T_4fa5c_row0_col1, #T_4fa5c_row0_col2 {\n",
       "  white-space: pre-wrap;\n",
       "  text-align: left;\n",
       "}\n",
       "</style>\n",
       "<table id=\"T_4fa5c\">\n",
       "  <thead>\n",
       "    <tr>\n",
       "      <th id=\"T_4fa5c_level0_col0\" class=\"col_heading level0 col0\" >Column Name</th>\n",
       "      <th id=\"T_4fa5c_level0_col1\" class=\"col_heading level0 col1\" >Type</th>\n",
       "      <th id=\"T_4fa5c_level0_col2\" class=\"col_heading level0 col2\" >Computed With</th>\n",
       "    </tr>\n",
       "  </thead>\n",
       "  <tbody>\n",
       "    <tr>\n",
       "      <td id=\"T_4fa5c_row0_col0\" class=\"data row0 col0\" >source_doc</td>\n",
       "      <td id=\"T_4fa5c_row0_col1\" class=\"data row0 col1\" >document</td>\n",
       "      <td id=\"T_4fa5c_row0_col2\" class=\"data row0 col2\" ></td>\n",
       "    </tr>\n",
       "  </tbody>\n",
       "</table>\n"
      ],
      "text/plain": [
       "table 'docs'\n",
       "\n",
       "Column Name     Type Computed With\n",
       " source_doc document              "
      ]
     },
     "execution_count": 4,
     "metadata": {},
     "output_type": "execute_result"
    }
   ],
   "source": [
    "docs"
   ]
  },
  {
   "cell_type": "markdown",
   "id": "4e1a701e-5f9d-4f56-a306-c31ff9da6ee7",
   "metadata": {},
   "source": [
    "Next we create a view to represent chunks of our HTML documents. A Pixeltable view is a virtual table, which is dynamically derived from a source table by applying a transformation and/or selecting a subset of data. In this case, our view represents a one-to-many transformation from source documents into individual sentences. This is achieved using Pixeltable's built-in `DocumentSplitter` class.\n",
    "\n",
    "Note that the `docs` table is currently empty, so creating this view doesn't actually *do* anything yet: it simply defines an operation that we want Pixeltable to execute when it sees new data."
   ]
  },
  {
   "cell_type": "code",
   "execution_count": 5,
   "id": "d074b305",
   "metadata": {
    "execution": {
     "iopub.execute_input": "2024-05-25T22:21:46.203452Z",
     "iopub.status.busy": "2024-05-25T22:21:46.203363Z",
     "iopub.status.idle": "2024-05-25T22:21:46.212472Z",
     "shell.execute_reply": "2024-05-25T22:21:46.212257Z"
    }
   },
   "outputs": [
    {
     "name": "stdout",
     "output_type": "stream",
     "text": [
      "Created view `sentences` with 0 rows, 0 exceptions.\n"
     ]
    }
   ],
   "source": [
    "from pixeltable.iterators.document import DocumentSplitter\n",
    "\n",
    "sentences = pxt.create_view(\n",
    "    'rag_ops_demo.sentences',  # Name of the view\n",
    "    docs,  # Table from which the view is derived\n",
    "    iterator=DocumentSplitter.create(\n",
    "        document=docs.source_doc,\n",
    "        separators='sentence',  # Chunk docs into sentences\n",
    "        metadata='title,heading,sourceline'\n",
    "    )\n",
    ")"
   ]
  },
  {
   "cell_type": "markdown",
   "id": "9badf052-7e8d-43b2-9aea-0b20a9409a83",
   "metadata": {},
   "source": [
    "Let's take a peek at the new `sentences` view."
   ]
  },
  {
   "cell_type": "code",
   "execution_count": 6,
   "id": "29b07709",
   "metadata": {
    "execution": {
     "iopub.execute_input": "2024-05-25T22:21:46.213691Z",
     "iopub.status.busy": "2024-05-25T22:21:46.213598Z",
     "iopub.status.idle": "2024-05-25T22:21:46.217209Z",
     "shell.execute_reply": "2024-05-25T22:21:46.216956Z"
    }
   },
   "outputs": [
    {
     "data": {
      "text/html": [
       "<style type=\"text/css\">\n",
       "#T_9b882 th {\n",
       "  text-align: center;\n",
       "}\n",
       "#T_9b882_row0_col0, #T_9b882_row0_col1, #T_9b882_row0_col2, #T_9b882_row1_col0, #T_9b882_row1_col1, #T_9b882_row1_col2, #T_9b882_row2_col0, #T_9b882_row2_col1, #T_9b882_row2_col2, #T_9b882_row3_col0, #T_9b882_row3_col1, #T_9b882_row3_col2, #T_9b882_row4_col0, #T_9b882_row4_col1, #T_9b882_row4_col2, #T_9b882_row5_col0, #T_9b882_row5_col1, #T_9b882_row5_col2 {\n",
       "  white-space: pre-wrap;\n",
       "  text-align: left;\n",
       "}\n",
       "</style>\n",
       "<table id=\"T_9b882\">\n",
       "  <thead>\n",
       "    <tr>\n",
       "      <th id=\"T_9b882_level0_col0\" class=\"col_heading level0 col0\" >Column Name</th>\n",
       "      <th id=\"T_9b882_level0_col1\" class=\"col_heading level0 col1\" >Type</th>\n",
       "      <th id=\"T_9b882_level0_col2\" class=\"col_heading level0 col2\" >Computed With</th>\n",
       "    </tr>\n",
       "  </thead>\n",
       "  <tbody>\n",
       "    <tr>\n",
       "      <td id=\"T_9b882_row0_col0\" class=\"data row0 col0\" >pos</td>\n",
       "      <td id=\"T_9b882_row0_col1\" class=\"data row0 col1\" >int</td>\n",
       "      <td id=\"T_9b882_row0_col2\" class=\"data row0 col2\" ></td>\n",
       "    </tr>\n",
       "    <tr>\n",
       "      <td id=\"T_9b882_row1_col0\" class=\"data row1 col0\" >text</td>\n",
       "      <td id=\"T_9b882_row1_col1\" class=\"data row1 col1\" >string</td>\n",
       "      <td id=\"T_9b882_row1_col2\" class=\"data row1 col2\" ></td>\n",
       "    </tr>\n",
       "    <tr>\n",
       "      <td id=\"T_9b882_row2_col0\" class=\"data row2 col0\" >title</td>\n",
       "      <td id=\"T_9b882_row2_col1\" class=\"data row2 col1\" >string</td>\n",
       "      <td id=\"T_9b882_row2_col2\" class=\"data row2 col2\" ></td>\n",
       "    </tr>\n",
       "    <tr>\n",
       "      <td id=\"T_9b882_row3_col0\" class=\"data row3 col0\" >heading</td>\n",
       "      <td id=\"T_9b882_row3_col1\" class=\"data row3 col1\" >json</td>\n",
       "      <td id=\"T_9b882_row3_col2\" class=\"data row3 col2\" ></td>\n",
       "    </tr>\n",
       "    <tr>\n",
       "      <td id=\"T_9b882_row4_col0\" class=\"data row4 col0\" >sourceline</td>\n",
       "      <td id=\"T_9b882_row4_col1\" class=\"data row4 col1\" >int</td>\n",
       "      <td id=\"T_9b882_row4_col2\" class=\"data row4 col2\" ></td>\n",
       "    </tr>\n",
       "    <tr>\n",
       "      <td id=\"T_9b882_row5_col0\" class=\"data row5 col0\" >source_doc</td>\n",
       "      <td id=\"T_9b882_row5_col1\" class=\"data row5 col1\" >document</td>\n",
       "      <td id=\"T_9b882_row5_col2\" class=\"data row5 col2\" ></td>\n",
       "    </tr>\n",
       "  </tbody>\n",
       "</table>\n"
      ],
      "text/plain": [
       "view 'sentences'\n",
       "\n",
       "Column Name     Type Computed With\n",
       "        pos      int              \n",
       "       text   string              \n",
       "      title   string              \n",
       "    heading     json              \n",
       " sourceline      int              \n",
       " source_doc document              "
      ]
     },
     "execution_count": 6,
     "metadata": {},
     "output_type": "execute_result"
    }
   ],
   "source": [
    "sentences"
   ]
  },
  {
   "cell_type": "markdown",
   "id": "9641a8a0-a7fe-46b8-a2e8-3589e0df2bae",
   "metadata": {},
   "source": [
    "We see that `sentences` inherits the `source_doc` column from `docs`, together with some new fields:\n",
    "- `pos`: The position in the source document where the sentence appears.\n",
    "-  `text`: The text of the sentence.\n",
    "- `title`, `heading`, and `sourceline`: The metadata we requested when we set up the view."
   ]
  },
  {
   "cell_type": "markdown",
   "id": "e53392cb",
   "metadata": {},
   "source": [
    "## Data Ingestion"
   ]
  },
  {
   "cell_type": "markdown",
   "id": "0aec54a3-f5a8-483e-b3b9-c9111929ec74",
   "metadata": {},
   "source": [
    "Ok, now it's time to insert some data into our workflow. A document in Pixeltable is just a URL; the following command inserts a single row into the `docs` table with the `source_doc` field set to the specified URL:"
   ]
  },
  {
   "cell_type": "code",
   "execution_count": 7,
   "id": "a718a299",
   "metadata": {
    "execution": {
     "iopub.execute_input": "2024-05-25T22:21:46.218464Z",
     "iopub.status.busy": "2024-05-25T22:21:46.218363Z",
     "iopub.status.idle": "2024-05-25T22:21:51.378140Z",
     "shell.execute_reply": "2024-05-25T22:21:51.377835Z"
    }
   },
   "outputs": [
    {
     "name": "stdout",
     "output_type": "stream",
     "text": [
      "\r",
      "Inserting rows into `docs`: 0 rows [00:00, ? rows/s]"
     ]
    },
    {
     "name": "stdout",
     "output_type": "stream",
     "text": [
      "\r",
      "Inserting rows into `docs`: 1 rows [00:00, 367.41 rows/s]"
     ]
    },
    {
     "name": "stdout",
     "output_type": "stream",
     "text": [
      "\n"
     ]
    },
    {
     "name": "stdout",
     "output_type": "stream",
     "text": [
      "\r",
      "Inserting rows into `sentences`: 0 rows [00:00, ? rows/s]"
     ]
    },
    {
     "name": "stdout",
     "output_type": "stream",
     "text": [
      "\r",
      "Inserting rows into `sentences`: 1462 rows [00:00, 3266.06 rows/s]"
     ]
    },
    {
     "name": "stdout",
     "output_type": "stream",
     "text": [
      "\n",
      "Inserted 1463 rows with 0 errors.\n"
     ]
    },
    {
     "data": {
      "text/plain": [
       "UpdateStatus(num_rows=1463, num_computed_values=0, num_excs=0, updated_cols=[], cols_with_excs=[])"
      ]
     },
     "execution_count": 7,
     "metadata": {},
     "output_type": "execute_result"
    }
   ],
   "source": [
    "docs.insert(source_doc='https://en.wikipedia.org/wiki/Marc_Chagall')"
   ]
  },
  {
   "cell_type": "markdown",
   "id": "542f97cd-08b9-4001-9d38-10f47bfdd5d0",
   "metadata": {},
   "source": [
    "We can see that two things happened. First, a single row was inserted into `docs`, containing the URL representing our source document. Then, the view `sentences` was incrementally updated by applying the `DocumentSplitter` according to the definition of the view. This illustrates an important principle in Pixeltable: by default, anytime Pixeltable sees new data, the update is incrementally propagated to any downstream views or computed columns.\n",
    "\n",
    "We can see the effect of the insertion with the `select` command. There's a single row in `docs`:"
   ]
  },
  {
   "cell_type": "code",
   "execution_count": 8,
   "id": "0bbe8e86-3cec-499f-a30f-58c5073ab42b",
   "metadata": {
    "execution": {
     "iopub.execute_input": "2024-05-25T22:21:51.379795Z",
     "iopub.status.busy": "2024-05-25T22:21:51.379705Z",
     "iopub.status.idle": "2024-05-25T22:21:51.384946Z",
     "shell.execute_reply": "2024-05-25T22:21:51.384715Z"
    }
   },
   "outputs": [
    {
     "data": {
      "text/html": [
       "<table border=\"1\" class=\"dataframe\">\n",
       "  <thead>\n",
       "    <tr style=\"text-align: right;\">\n",
       "      <th>source_doc_fileurl</th>\n",
       "    </tr>\n",
       "  </thead>\n",
       "  <tbody>\n",
       "    <tr>\n",
       "      <td>https://en.wikipedia.org/wiki/Marc_Chagall</td>\n",
       "    </tr>\n",
       "  </tbody>\n",
       "</table>"
      ],
      "text/plain": [
       "                           source_doc_fileurl\n",
       "0  https://en.wikipedia.org/wiki/Marc_Chagall"
      ]
     },
     "execution_count": 8,
     "metadata": {},
     "output_type": "execute_result"
    }
   ],
   "source": [
    "docs.select(docs.source_doc.fileurl).show()"
   ]
  },
  {
   "cell_type": "markdown",
   "id": "a2dd8f07-6f5c-426b-a829-51dd8e26f888",
   "metadata": {},
   "source": [
    "And here are the first 20 rows in `sentences`. The content of the article is broken into individual sentences, as expected."
   ]
  },
  {
   "cell_type": "code",
   "execution_count": 9,
   "id": "42199e16-559f-4827-940c-1726f83452e5",
   "metadata": {
    "execution": {
     "iopub.execute_input": "2024-05-25T22:21:51.386265Z",
     "iopub.status.busy": "2024-05-25T22:21:51.386164Z",
     "iopub.status.idle": "2024-05-25T22:21:51.393147Z",
     "shell.execute_reply": "2024-05-25T22:21:51.392911Z"
    },
    "scrolled": true
   },
   "outputs": [
    {
     "data": {
      "text/html": [
       "<table border=\"1\" class=\"dataframe\">\n",
       "  <thead>\n",
       "    <tr style=\"text-align: right;\">\n",
       "      <th>text</th>\n",
       "      <th>heading</th>\n",
       "    </tr>\n",
       "  </thead>\n",
       "  <tbody>\n",
       "    <tr>\n",
       "      <td>Marc Chagall - Wikipedia Jump to content Search Search</td>\n",
       "      <td>{}</td>\n",
       "    </tr>\n",
       "    <tr>\n",
       "      <td>Marc Chagall 81 languages Afrikaans Alemannisch العربية</td>\n",
       "      <td>{'1': 'Marc Chagall'}</td>\n",
       "    </tr>\n",
       "    <tr>\n",
       "      <td>Aragonés Արեւմտահայերէն Asturianu Azərbaycanca বাংলা Башҡортса Беларуская Беларуская (тарашкевіца) Български Català Čeština Cymraeg Dansk Deutsch Eesti Ελληνικά Español Esperanto Euskara فارسی Français Galego 한국어 Հայերեն हिन्दी</td>\n",
       "      <td>{'1': 'Marc Chagall'}</td>\n",
       "    </tr>\n",
       "    <tr>\n",
       "      <td>Hrvatski Ido Bahasa Indonesia Interlingua Italiano עברית Jawa ქართული Kiswahili Latina Latviešu Lëtzebuergesch Lietuvių Magyar Македонски Malagasy مصرى Nederlands Nedersaksies 日本語 Norsk bokmål Norsk nynorsk Occitan Oʻzbekcha / ўзбекча پنجابی Picard Piemontèis Plattdüütsch Polski Português Română Runa Simi Русский Scots Shqip Sicilianu Simple English Slovenčina Slovenščina کوردی Српски / srpski Srpskohrvatski / српскохрватски Suomi Svenska ไทย</td>\n",
       "      <td>{'1': 'Marc Chagall'}</td>\n",
       "    </tr>\n",
       "    <tr>\n",
       "      <td>Türkçe Українська Tiếng Việt Winaray 吴语 ייִדיש</td>\n",
       "      <td>{'1': 'Marc Chagall'}</td>\n",
       "    </tr>\n",
       "    <tr>\n",
       "      <td>粵語 中文 Edit links From Wikipedia, the free encyclopedia Russian-French artist (1887–1985) \"Chagall\" redirects here.</td>\n",
       "      <td>{'1': 'Marc Chagall'}</td>\n",
       "    </tr>\n",
       "    <tr>\n",
       "      <td>For other uses, see Chagall (disambiguation) .</td>\n",
       "      <td>{'1': 'Marc Chagall'}</td>\n",
       "    </tr>\n",
       "    <tr>\n",
       "      <td>Marc Chagall Chagall, c. 1920</td>\n",
       "      <td>{'1': 'Marc Chagall'}</td>\n",
       "    </tr>\n",
       "    <tr>\n",
       "      <td>Born Moishe Shagal ( 1887-07-06 ) 6 July 1887 (N.S.) Liozna , Vitebsk Governorate , Russian Empire (now Belarus)</td>\n",
       "      <td>{'1': 'Marc Chagall'}</td>\n",
       "    </tr>\n",
       "    <tr>\n",
       "      <td>[1] Died 28 March 1985 (1985-03-28) (aged 97)</td>\n",
       "      <td>{'1': 'Marc Chagall'}</td>\n",
       "    </tr>\n",
       "    <tr>\n",
       "      <td>Saint-Paul-de-Vence , France Nationality (legal) Russian,</td>\n",
       "      <td>{'1': 'Marc Chagall'}</td>\n",
       "    </tr>\n",
       "    <tr>\n",
       "      <td>later French</td>\n",
       "      <td>{'1': 'Marc Chagall'}</td>\n",
       "    </tr>\n",
       "    <tr>\n",
       "      <td>[2] Known for Painting stained glass Notable work See list of artworks by Marc Chagall Movement Cubism Expressionism School of Paris Spouses Bella Rosenfeld ​ ​ ( m. 1915; died 1944)</td>\n",
       "      <td>{'1': 'Marc Chagall'}</td>\n",
       "    </tr>\n",
       "    <tr>\n",
       "      <td>​ Valentina (Vava) Brodsky ​ ​ ( m. 1952)</td>\n",
       "      <td>{'1': 'Marc Chagall'}</td>\n",
       "    </tr>\n",
       "    <tr>\n",
       "      <td>​</td>\n",
       "      <td>{'1': 'Marc Chagall'}</td>\n",
       "    </tr>\n",
       "    <tr>\n",
       "      <td>[3] Children 2</td>\n",
       "      <td>{'1': 'Marc Chagall'}</td>\n",
       "    </tr>\n",
       "    <tr>\n",
       "      <td>[4]</td>\n",
       "      <td>{'1': 'Marc Chagall'}</td>\n",
       "    </tr>\n",
       "    <tr>\n",
       "      <td>Marc Chagall</td>\n",
       "      <td>{'1': 'Marc Chagall'}</td>\n",
       "    </tr>\n",
       "    <tr>\n",
       "      <td>[a] (born Moishe Shagal ; 6 July [ O.S. 24 June] 1887 – 28 March 1985) was a Russian-French artist.</td>\n",
       "      <td>{'1': 'Marc Chagall'}</td>\n",
       "    </tr>\n",
       "    <tr>\n",
       "      <td>[b] An early modernist , he was associated with the École de Paris as well as several major artistic styles and created works in a wide range of artistic formats, including painting, drawings, book illustrations, stained glass , stage sets, ceramics, tapestries and fine art prints.</td>\n",
       "      <td>{'1': 'Marc Chagall'}</td>\n",
       "    </tr>\n",
       "  </tbody>\n",
       "</table>"
      ],
      "text/plain": [
       "                                                 text                heading\n",
       "0   Marc Chagall - Wikipedia Jump to content Searc...                     {}\n",
       "1   Marc Chagall 81 languages Afrikaans Alemannisc...  {'1': 'Marc Chagall'}\n",
       "2   Aragonés Արեւմտահայերէն Asturianu Azərbaycanca...  {'1': 'Marc Chagall'}\n",
       "3   Hrvatski Ido Bahasa Indonesia Interlingua Ital...  {'1': 'Marc Chagall'}\n",
       "4      Türkçe Українська Tiếng Việt Winaray 吴语 ייִדיש  {'1': 'Marc Chagall'}\n",
       "5   粵語 中文 Edit links From Wikipedia, the free ency...  {'1': 'Marc Chagall'}\n",
       "6      For other uses, see Chagall (disambiguation) .  {'1': 'Marc Chagall'}\n",
       "7                       Marc Chagall Chagall, c. 1920  {'1': 'Marc Chagall'}\n",
       "8   Born Moishe Shagal ( 1887-07-06 ) 6 July 1887 ...  {'1': 'Marc Chagall'}\n",
       "9       [1] Died 28 March 1985 (1985-03-28) (aged 97)  {'1': 'Marc Chagall'}\n",
       "10  Saint-Paul-de-Vence , France Nationality (lega...  {'1': 'Marc Chagall'}\n",
       "11                                       later French  {'1': 'Marc Chagall'}\n",
       "12  [2] Known for Painting stained glass Notable w...  {'1': 'Marc Chagall'}\n",
       "13          ​ Valentina (Vava) Brodsky ​ ​ ( m. 1952)  {'1': 'Marc Chagall'}\n",
       "14                                                  ​  {'1': 'Marc Chagall'}\n",
       "15                                     [3] Children 2  {'1': 'Marc Chagall'}\n",
       "16                                                [4]  {'1': 'Marc Chagall'}\n",
       "17                                       Marc Chagall  {'1': 'Marc Chagall'}\n",
       "18  [a] (born Moishe Shagal ; 6 July [ O.S. 24 Jun...  {'1': 'Marc Chagall'}\n",
       "19  [b] An early modernist , he was associated wit...  {'1': 'Marc Chagall'}"
      ]
     },
     "execution_count": 9,
     "metadata": {},
     "output_type": "execute_result"
    }
   ],
   "source": [
    "sentences.select(sentences.text, sentences.heading).show(20)"
   ]
  },
  {
   "cell_type": "markdown",
   "id": "9e3abbdd",
   "metadata": {},
   "source": [
    "## Experimenting with Chunking"
   ]
  },
  {
   "cell_type": "markdown",
   "id": "2d229545-79b6-4fdd-be54-f786669533eb",
   "metadata": {},
   "source": [
    "Of course, chunking into sentences isn't the only way to split a document. Perhaps we want to experiment with different chunking methodologies, in order to see which one performs best in a particular application. Pixeltable makes it easy to do this, by creating several views of the same source table. Here are a few examples. Notice that as each new view is created, it is initially populated from the data already in `docs`."
   ]
  },
  {
   "cell_type": "code",
   "execution_count": 10,
   "id": "887389a1",
   "metadata": {
    "execution": {
     "iopub.execute_input": "2024-05-25T22:21:51.394400Z",
     "iopub.status.busy": "2024-05-25T22:21:51.394308Z",
     "iopub.status.idle": "2024-05-25T22:21:51.908137Z",
     "shell.execute_reply": "2024-05-25T22:21:51.907863Z"
    }
   },
   "outputs": [
    {
     "name": "stdout",
     "output_type": "stream",
     "text": [
      "\r",
      "Inserting rows into `chunks`: 0 rows [00:00, ? rows/s]"
     ]
    },
    {
     "name": "stdout",
     "output_type": "stream",
     "text": [
      "\r",
      "Inserting rows into `chunks`: 205 rows [00:00, 15211.00 rows/s]"
     ]
    },
    {
     "name": "stdout",
     "output_type": "stream",
     "text": [
      "\n",
      "Created view `chunks` with 205 rows, 0 exceptions.\n"
     ]
    }
   ],
   "source": [
    "chunks = pxt.create_view(\n",
    "    'rag_ops_demo.chunks', docs,\n",
    "    iterator=DocumentSplitter.create(\n",
    "        document=docs.source_doc,\n",
    "        separators='paragraph,token_limit',\n",
    "        limit=2048,\n",
    "        overlap=0,\n",
    "        metadata='title,heading,sourceline'\n",
    "    )\n",
    ")"
   ]
  },
  {
   "cell_type": "code",
   "execution_count": 11,
   "id": "fd4c8b8b",
   "metadata": {
    "execution": {
     "iopub.execute_input": "2024-05-25T22:21:51.909797Z",
     "iopub.status.busy": "2024-05-25T22:21:51.909679Z",
     "iopub.status.idle": "2024-05-25T22:21:52.234574Z",
     "shell.execute_reply": "2024-05-25T22:21:52.234317Z"
    }
   },
   "outputs": [
    {
     "name": "stdout",
     "output_type": "stream",
     "text": [
      "\r",
      "Inserting rows into `short_chunks`: 0 rows [00:00, ? rows/s]"
     ]
    },
    {
     "name": "stdout",
     "output_type": "stream",
     "text": [
      "\r",
      "Inserting rows into `short_chunks`: 531 rows [00:00, 20031.08 rows/s]"
     ]
    },
    {
     "name": "stdout",
     "output_type": "stream",
     "text": [
      "\n",
      "Created view `short_chunks` with 531 rows, 0 exceptions.\n"
     ]
    }
   ],
   "source": [
    "short_chunks = pxt.create_view(\n",
    "    'rag_ops_demo.short_chunks', docs,\n",
    "    iterator=DocumentSplitter.create(\n",
    "        document=docs.source_doc,\n",
    "        separators='paragraph,token_limit',\n",
    "        limit=72,\n",
    "        overlap=0,\n",
    "        metadata='title,heading,sourceline'\n",
    "    )\n",
    ")"
   ]
  },
  {
   "cell_type": "code",
   "execution_count": 12,
   "id": "096df773",
   "metadata": {
    "execution": {
     "iopub.execute_input": "2024-05-25T22:21:52.236022Z",
     "iopub.status.busy": "2024-05-25T22:21:52.235920Z",
     "iopub.status.idle": "2024-05-25T22:21:52.604251Z",
     "shell.execute_reply": "2024-05-25T22:21:52.603974Z"
    }
   },
   "outputs": [
    {
     "name": "stdout",
     "output_type": "stream",
     "text": [
      "\r",
      "Inserting rows into `short_char_chunks`: 0 rows [00:00, ? rows/s]"
     ]
    },
    {
     "name": "stdout",
     "output_type": "stream",
     "text": [
      "\r",
      "Inserting rows into `short_char_chunks`: 1764 rows [00:00, 16349.39 rows/s]"
     ]
    },
    {
     "name": "stdout",
     "output_type": "stream",
     "text": [
      "\n",
      "Created view `short_char_chunks` with 1764 rows, 0 exceptions.\n"
     ]
    }
   ],
   "source": [
    "short_char_chunks = pxt.create_view(\n",
    "    'rag_ops_demo.short_char_chunks', docs,\n",
    "    iterator=DocumentSplitter.create(\n",
    "        document=docs.source_doc,\n",
    "        separators='paragraph,char_limit',\n",
    "        limit=72,\n",
    "        overlap=0,\n",
    "        metadata='title,heading,sourceline'\n",
    "    )\n",
    ")"
   ]
  },
  {
   "cell_type": "code",
   "execution_count": 13,
   "id": "d8289f0a",
   "metadata": {
    "execution": {
     "iopub.execute_input": "2024-05-25T22:21:52.605666Z",
     "iopub.status.busy": "2024-05-25T22:21:52.605578Z",
     "iopub.status.idle": "2024-05-25T22:21:52.613194Z",
     "shell.execute_reply": "2024-05-25T22:21:52.612962Z"
    },
    "scrolled": true
   },
   "outputs": [
    {
     "data": {
      "text/html": [
       "<table border=\"1\" class=\"dataframe\">\n",
       "  <thead>\n",
       "    <tr style=\"text-align: right;\">\n",
       "      <th>text</th>\n",
       "      <th>heading</th>\n",
       "    </tr>\n",
       "  </thead>\n",
       "  <tbody>\n",
       "    <tr>\n",
       "      <td>Marc Chagall - Wikipedia Jump to content Search Search</td>\n",
       "      <td>{}</td>\n",
       "    </tr>\n",
       "    <tr>\n",
       "      <td>Marc Chagall 81 languages Afrikaans Alemannisch العربية Aragonés Արեւմտահայերէն Asturianu Azərbaycanca বাংলা Башҡортса Беларуская Беларуская (тарашкевіца) Български Català Čeština Cymraeg Dansk Deutsch Eesti Ελληνικά Español Esperanto Euskara فارسی Français Galego 한국어 Հայերեն हिन्दी Hrvatski Ido Bahasa Indonesia Interlingua Italiano עברית Jawa ქართული Kiswahili Latina Latviešu Lëtzebuergesch Lietuvių Magyar Македонски Malagasy مصرى Nederlands Nedersaksies 日本語 Norsk bokmål Norsk nynorsk Occitan Oʻzbekcha / ўзбекча پنجابی Picard Piemontèis Plattdüütsch Polski Português Română Runa Simi Русский Scots Shqip Sicilianu Simple English Slovenčina Slovenščina کوردی Српски / srpski Srpskohrvatski / српскохрватски Suomi Svenska ไทย Türkçe Українська Tiếng Việt Winaray 吴语 ייִדיש 粵語 中文 Edit links From Wikipedia, the free encyclopedia Russian-French artist (1887–1985) \"Chagall\" redirects here. For other uses, see Chagall (disambiguation) .</td>\n",
       "      <td>{'1': 'Marc Chagall'}</td>\n",
       "    </tr>\n",
       "    <tr>\n",
       "      <td>Marc Chagall Chagall, c. 1920 Born Moishe Shagal ( 1887-07-06 ) 6 July 1887 (N.S.) Liozna , Vitebsk Governorate , Russian Empire (now Belarus) [1] Died 28 March 1985 (1985-03-28) (aged 97) Saint-Paul-de-Vence , France Nationality (legal) Russian, later French [2] Known for Painting stained glass Notable work See list of artworks by Marc Chagall Movement Cubism Expressionism School of Paris Spouses Bella Rosenfeld ​ ​ ( m. 1915; died 1944) ​ Valentina (Vava) Brodsky ​ ​ ( m. 1952) ​ [3] Children 2 [4]</td>\n",
       "      <td>{'1': 'Marc Chagall'}</td>\n",
       "    </tr>\n",
       "    <tr>\n",
       "      <td>Marc Chagall [a] (born Moishe Shagal ; 6 July [ O.S. 24 June] 1887 – 28 March 1985) was a Russian-French artist. [b] An early modernist , he was associated with the École de Paris as well as several major artistic styles and created works in a wide range of artistic formats, including painting, drawings, book illustrations, stained glass , stage sets, ceramics, tapestries and fine art prints.</td>\n",
       "      <td>{'1': 'Marc Chagall'}</td>\n",
       "    </tr>\n",
       "    <tr>\n",
       "      <td>Chagall was born in 1887, into a Jewish family near Vitebsk , today in Belarus , but at that time in the Pale of Settlement of the Russian Empire. Before World War I , he travelled between Saint Petersburg , Paris , and Berlin . During that period, he created his own mixture and style of modern art, based on his ideas of Eastern European and Jewish folklore. He spent the wartime years in his native Belarus, becoming one of the country's most distinguished artists and a member of the modernist avant-garde , founding the Vitebsk Arts College . He later worked in and near Moscow in difficult conditions during hard times in Russia following the Bolshevik Revolution , before leaving again for Paris in 1923. During World War II , he escaped occupied France to the United States, where he lived in New York City for seven years before returning to France in 1948.</td>\n",
       "      <td>{'1': 'Marc Chagall'}</td>\n",
       "    </tr>\n",
       "    <tr>\n",
       "      <td>Art critic Robert Hughes referred to Chagall as \"the quintessential Jewish artist of the twentieth century\". According to art historian Michael J. Lewis, Chagall was considered to be \"the last survivor of the first generation of European modernists\". For decades, he \"had also been respected as the world's pre-eminent Jewish artist\". [15] Using the medium of stained glass, he produced windows for the cathedrals of Reims and Metz as well as the Fraumünster in Zürich , windows for the UN and the Art Institute of Chicago and the Jerusalem Windows in Israel. He also did large-scale paintings, including part of the ceiling of the Paris Opéra . He experienced modernism's \"golden age\" in Paris, where \"he synthesized the art forms of Cubism , Symbolism , and Fauvism , and the influence of Fauvism gave rise to Surrealism \". Yet throughout these phases of his style \"he remained most emphatically a Jewish artist, whose work was one long dreamy reverie of life in his native village of Vitebsk.\" [16] \"When Matisse dies\", Pablo Picasso remarked in the 1950s, \"Chagall will be the only painter left who understands what colour really is\". [17]</td>\n",
       "      <td>{'1': 'Marc Chagall'}</td>\n",
       "    </tr>\n",
       "    <tr>\n",
       "      <td>Early life and education [ edit ]</td>\n",
       "      <td>{'1': 'Marc Chagall', '2': 'Early life and education[edit]'}</td>\n",
       "    </tr>\n",
       "    <tr>\n",
       "      <td>Early life [ edit ] Marc Chagall's childhood home in Vitebsk , Belarus. Currently site of the Marc Chagall Museum . Marc Chagall, 1912, The Spoonful of Milk (La Cuillerée de lait) , gouache on paper</td>\n",
       "      <td>{'1': 'Marc Chagall', '2': 'Early life and education[edit]', '3': 'Early life[edit]'}</td>\n",
       "    </tr>\n",
       "    <tr>\n",
       "      <td>Marc Chagall was born Moishe Shagal in 1887, into a Jewish family in Liozna , [1] near the city of Vitebsk , Belarus, then part of the Russian Empire . [c] [18] At the time of his birth, Vitebsk's population was about 66,000. Half of the population was Jewish. [16] A picturesque city of churches and synagogues, it was called \"Russian Toledo \" by artist Ilya Repin , after the cosmopolitan city of the former Spanish Empire . [19] Because the city was built mostly of wood, little of it survived years of occupation and destruction during World War II.</td>\n",
       "      <td>{'1': 'Marc Chagall', '2': 'Early life and education[edit]', '3': 'Early life[edit]'}</td>\n",
       "    </tr>\n",
       "    <tr>\n",
       "      <td>Chagall was the eldest of nine children. The family name, Shagal, is a variant of the name Segal , which in a Jewish community was usually borne by a Levitic family. [20] His father, Khatskl (Zachar) Shagal, was employed by a herring merchant, and his mother, Feige-Ite, sold groceries from their home. His father worked hard, carrying heavy barrels, earning 20 roubles each month (the average wages across the Russian Empire was 13 roubles a month). Chagall wrote of those early years:</td>\n",
       "      <td>{'1': 'Marc Chagall', '2': 'Early life and education[edit]', '3': 'Early life[edit]'}</td>\n",
       "    </tr>\n",
       "    <tr>\n",
       "      <td>Day after day, winter and summer, at six o'clock in the morning, my father got up and went off to the synagogue. There he said his usual prayer for some dead man or other. On his return he made ready the samovar , drank some tea and went to work. Hellish work, the work of a galley-slave. Why try to hide it? How tell about it? No word will ever ease my father's lot... There was always plenty of butter and cheese on our table. Buttered bread, like an eternal symbol, was never out of my childish hands. [21]</td>\n",
       "      <td>{'1': 'Marc Chagall', '2': 'Early life and education[edit]', '3': 'Early life[edit]'}</td>\n",
       "    </tr>\n",
       "    <tr>\n",
       "      <td>Years later, at the age of 57, while living in the United States, Chagall confirmed that when he published an open letter entitled, \"To My City Vitebsk\":</td>\n",
       "      <td>{'1': 'Marc Chagall', '2': 'Early life and education[edit]', '3': 'Artistic inspiration[edit]'}</td>\n",
       "    </tr>\n",
       "    <tr>\n",
       "      <td>One of the main sources of income for the Jewish population of the town was from the manufacture of clothing that was sold throughout the Russian Empire. They also made furniture and various agricultural tools. [22] From the late 18th century to the First World War, the Imperial Russian government confined Jews to living within the Pale of Settlement , which included modern Ukraine, Belarus, Poland, Lithuania, and Latvia, almost exactly corresponding to the territory of the Polish-Lithuanian Commonwealth which was taken over by Imperial Russia in the late 18th century. That led to the creation of Jewish market-villages ( shtetls ) throughout today's Eastern Europe, with their own markets, schools, hospitals, and other community institutions. [23] : 14</td>\n",
       "      <td>{'1': 'Marc Chagall', '2': 'Early life and education[edit]', '3': 'Early life[edit]'}</td>\n",
       "    </tr>\n",
       "    <tr>\n",
       "      <td>Chagall wrote as a boy; \"I felt at every step that I was a Jew—people made me feel it\". [24] [25] During a pogrom , Chagall wrote that: \"The street lamps are out. I feel panicky, especially in front of butchers' windows. There you can see calves that are still alive lying beside the butchers' hatchets and knives\". [25] [26] When asked by some pogromniks \"Jew or not?\", Chagall remembered thinking: \"My pockets are empty, my fingers sensitive, my legs weak and they are out for blood. My death would be futile. I so wanted to live\". [25] [26] Chagall denied being a Jew, leading the pogromniks to shout \"All right! Get along!\" [25] [26]</td>\n",
       "      <td>{'1': 'Marc Chagall', '2': 'Early life and education[edit]', '3': 'Early life[edit]'}</td>\n",
       "    </tr>\n",
       "    <tr>\n",
       "      <td>Most of what is known about Chagall's early life has come from his autobiography, My Life . In it, he described the major influence that the culture of Hasidic Judaism had on his life as an artist. Chagall related how he realised that the Jewish traditions in which he had grown up were fast disappearing and that he needed to document them. From the 1730s, Vitebsk itself had been a centre of that culture, with its teachings derived from the Kabbalah . Chagall scholar, Susan Tumarkin Goodman, describes the links and sources of his art to his early home:</td>\n",
       "      <td>{'1': 'Marc Chagall', '2': 'Early life and education[edit]', '3': 'Early life[edit]'}</td>\n",
       "    </tr>\n",
       "    <tr>\n",
       "      <td>Chagall's art can be understood as the response to a situation that has long marked the history of Russian Jews. Though they were cultural innovators who made important contributions to the broader society, Jews were considered outsiders in a frequently hostile society ... Chagall himself was born of a family steeped in religious life; his parents were observant Hasidic Jews who found spiritual satisfaction in a life defined by their faith and organized by prayer. [23] : 14</td>\n",
       "      <td>{'1': 'Marc Chagall', '2': 'Early life and education[edit]', '3': 'Early life[edit]'}</td>\n",
       "    </tr>\n",
       "    <tr>\n",
       "      <td>Art education [ edit ] Portrait of Chagall by Yehuda Pen , his first art teacher in Vitebsk</td>\n",
       "      <td>{'1': 'Marc Chagall', '2': 'Early life and education[edit]', '3': 'Art education[edit]'}</td>\n",
       "    </tr>\n",
       "    <tr>\n",
       "      <td>In the Russian Empire at that time, Jewish children were not allowed to attend regular schools and universities imposed a quota on Jews . Their movement within the city was also restricted. Chagall therefore received his primary education at the local Jewish religious school, where he studied Hebrew and the Bible. At the age of 13, his mother tried to enrol him in a regular high school, and he recalled: \"But in that school, they don't take Jews. Without a moment's hesitation, my courageous mother walks up to a professor.\" She offered the headmaster 50 roubles to let him attend, which he accepted. [21]</td>\n",
       "      <td>{'1': 'Marc Chagall', '2': 'Early life and education[edit]', '3': 'Art education[edit]'}</td>\n",
       "    </tr>\n",
       "    <tr>\n",
       "      <td>A turning point of his artistic life came when he first noticed a fellow student drawing. Baal-Teshuva writes that, for the young Chagall, watching someone draw \"was like a vision, a revelation in black and white\". Chagall would later say that there was no art of any kind in his family's home and the concept was totally alien to him. When Chagall asked the schoolmate how he learned to draw, his friend replied, \"Go and find a book in the library, idiot, choose any picture you like, and just copy it\". He soon began copying images from books and found the experience so rewarding he then decided he wanted to become an artist. [22]</td>\n",
       "      <td>{'1': 'Marc Chagall', '2': 'Early life and education[edit]', '3': 'Art education[edit]'}</td>\n",
       "    </tr>\n",
       "    <tr>\n",
       "      <td>Goodman writes that Chagall eventually confided to his mother, \"I want to be a painter\", although she could not yet understand his sudden interest in art or why he would choose a vocation that \"seemed so impractical\". The young Chagall explained: \"There's a place in town; if I'm admitted and if I complete the course, I'll come out a regular artist. I'd be so happy!\" It was 1906, and he had noticed the studio of Yehuda (Yuri) Pen , a realist artist who operated a drawing school in Vitebsk. At the same time, future artists El Lissitzky and Ossip Zadkine were also Pen's students. Due to Chagall's youth and lack of income, Pen offered to teach him free of charge. However, after a few months at the school, Chagall realized that academic portrait painting did not suit him. [22]</td>\n",
       "      <td>{'1': 'Marc Chagall', '2': 'Early life and education[edit]', '3': 'Art education[edit]'}</td>\n",
       "    </tr>\n",
       "  </tbody>\n",
       "</table>"
      ],
      "text/plain": [
       "                                                 text  \\\n",
       "0   Marc Chagall - Wikipedia Jump to content Searc...   \n",
       "1   Marc Chagall 81 languages Afrikaans Alemannisc...   \n",
       "2   Marc Chagall Chagall, c. 1920 Born Moishe Shag...   \n",
       "3   Marc Chagall [a] (born Moishe Shagal ; 6 July ...   \n",
       "4   Chagall was born in 1887, into a Jewish family...   \n",
       "5   Art critic Robert Hughes referred to Chagall a...   \n",
       "6                   Early life and education [ edit ]   \n",
       "7   Early life [ edit ] Marc Chagall's childhood h...   \n",
       "8   Marc Chagall was born Moishe Shagal in 1887, i...   \n",
       "9   Chagall was the eldest of nine children. The f...   \n",
       "10  Day after day, winter and summer, at six o'clo...   \n",
       "11  Years later, at the age of 57, while living in...   \n",
       "12  One of the main sources of income for the Jewi...   \n",
       "13  Chagall wrote as a boy; \"I felt at every step ...   \n",
       "14  Most of what is known about Chagall's early li...   \n",
       "15  Chagall's art can be understood as the respons...   \n",
       "16  Art education [ edit ] Portrait of Chagall by ...   \n",
       "17  In the Russian Empire at that time, Jewish chi...   \n",
       "18  A turning point of his artistic life came when...   \n",
       "19  Goodman writes that Chagall eventually confide...   \n",
       "\n",
       "                                              heading  \n",
       "0                                                  {}  \n",
       "1                               {'1': 'Marc Chagall'}  \n",
       "2                               {'1': 'Marc Chagall'}  \n",
       "3                               {'1': 'Marc Chagall'}  \n",
       "4                               {'1': 'Marc Chagall'}  \n",
       "5                               {'1': 'Marc Chagall'}  \n",
       "6   {'1': 'Marc Chagall', '2': 'Early life and edu...  \n",
       "7   {'1': 'Marc Chagall', '2': 'Early life and edu...  \n",
       "8   {'1': 'Marc Chagall', '2': 'Early life and edu...  \n",
       "9   {'1': 'Marc Chagall', '2': 'Early life and edu...  \n",
       "10  {'1': 'Marc Chagall', '2': 'Early life and edu...  \n",
       "11  {'1': 'Marc Chagall', '2': 'Early life and edu...  \n",
       "12  {'1': 'Marc Chagall', '2': 'Early life and edu...  \n",
       "13  {'1': 'Marc Chagall', '2': 'Early life and edu...  \n",
       "14  {'1': 'Marc Chagall', '2': 'Early life and edu...  \n",
       "15  {'1': 'Marc Chagall', '2': 'Early life and edu...  \n",
       "16  {'1': 'Marc Chagall', '2': 'Early life and edu...  \n",
       "17  {'1': 'Marc Chagall', '2': 'Early life and edu...  \n",
       "18  {'1': 'Marc Chagall', '2': 'Early life and edu...  \n",
       "19  {'1': 'Marc Chagall', '2': 'Early life and edu...  "
      ]
     },
     "execution_count": 13,
     "metadata": {},
     "output_type": "execute_result"
    }
   ],
   "source": [
    "chunks.select(chunks.text, chunks.heading).show(20)"
   ]
  },
  {
   "cell_type": "code",
   "execution_count": 14,
   "id": "c0d453cf",
   "metadata": {
    "execution": {
     "iopub.execute_input": "2024-05-25T22:21:52.614467Z",
     "iopub.status.busy": "2024-05-25T22:21:52.614369Z",
     "iopub.status.idle": "2024-05-25T22:21:52.621279Z",
     "shell.execute_reply": "2024-05-25T22:21:52.621057Z"
    },
    "scrolled": true
   },
   "outputs": [
    {
     "data": {
      "text/html": [
       "<table border=\"1\" class=\"dataframe\">\n",
       "  <thead>\n",
       "    <tr style=\"text-align: right;\">\n",
       "      <th>text</th>\n",
       "      <th>heading</th>\n",
       "    </tr>\n",
       "  </thead>\n",
       "  <tbody>\n",
       "    <tr>\n",
       "      <td>Marc Chagall - Wikipedia Jump to content Search Search</td>\n",
       "      <td>{}</td>\n",
       "    </tr>\n",
       "    <tr>\n",
       "      <td>Marc Chagall 81 languages Afrikaans Alemannisch العربية Aragonés Արեւմտահայերէն Asturianu Azərbaycanca বাংলা Башҡ</td>\n",
       "      <td>{'1': 'Marc Chagall'}</td>\n",
       "    </tr>\n",
       "    <tr>\n",
       "      <td>ортса Беларуская Беларуская (тарашкевіца) Български Català Čeština Cymraeg Dansk Deutsch Eesti Ελληνικά Español Esperanto Euskara فارسی Français Galego 한</td>\n",
       "      <td>{'1': 'Marc Chagall'}</td>\n",
       "    </tr>\n",
       "    <tr>\n",
       "      <td>국어 Հայերեն हिन्दी Hrvatski Ido Bahasa Indonesia Interlingua Italiano עברית Jawa ქართული Kiswahili Latina Latviešu Lë</td>\n",
       "      <td>{'1': 'Marc Chagall'}</td>\n",
       "    </tr>\n",
       "    <tr>\n",
       "      <td>tzebuergesch Lietuvių Magyar Македонски Malagasy مصرى Nederlands Nedersaksies 日本語 Norsk bokmål Norsk nynorsk Occitan Oʻzbekcha / ўзбекча پنجابی Picard Piemont</td>\n",
       "      <td>{'1': 'Marc Chagall'}</td>\n",
       "    </tr>\n",
       "    <tr>\n",
       "      <td>èis Plattdüütsch Polski Português Română Runa Simi Русский Scots Shqip Sicilianu Simple English Slovenčina Slovenščina کوردی Српски / srpski Srpskohrvatski / српскохрватски Suomi</td>\n",
       "      <td>{'1': 'Marc Chagall'}</td>\n",
       "    </tr>\n",
       "    <tr>\n",
       "      <td>Svenska ไทย Türkçe Українська Tiếng Việt Winaray 吴语 ייִדיש 粵語 中文 Edit links From Wikipedia, the free encyclopedia Russian-French artist (1887–1985) \"Chagall\" redirects here</td>\n",
       "      <td>{'1': 'Marc Chagall'}</td>\n",
       "    </tr>\n",
       "    <tr>\n",
       "      <td>. For other uses, see Chagall (disambiguation) .</td>\n",
       "      <td>{'1': 'Marc Chagall'}</td>\n",
       "    </tr>\n",
       "    <tr>\n",
       "      <td>Marc Chagall Chagall, c. 1920 Born Moishe Shagal ( 1887-07-06 ) 6 July 1887 (N.S.) Liozna , Vitebsk Governorate , Russian Empire (now Belarus) [1] Died 28 March 1985 (1985-03-</td>\n",
       "      <td>{'1': 'Marc Chagall'}</td>\n",
       "    </tr>\n",
       "    <tr>\n",
       "      <td>28) (aged 97) Saint-Paul-de-Vence , France Nationality (legal) Russian, later French [2] Known for Painting stained glass Notable work See list of artworks by Marc Chagall Movement Cubism Expressionism School of Paris Spouses Bella Rosenfeld ​ ​ ( m. 1915; died 1944)</td>\n",
       "      <td>{'1': 'Marc Chagall'}</td>\n",
       "    </tr>\n",
       "    <tr>\n",
       "      <td>​ Valentina (Vava) Brodsky ​ ​ ( m. 1952) ​ [3] Children 2 [4]</td>\n",
       "      <td>{'1': 'Marc Chagall'}</td>\n",
       "    </tr>\n",
       "    <tr>\n",
       "      <td>Marc Chagall [a] (born Moishe Shagal ; 6 July [ O.S. 24 June] 1887 – 28 March 1985) was a Russian-French artist. [b] An early modernist , he was associated with the École de Paris as well as several major artistic styles and created works</td>\n",
       "      <td>{'1': 'Marc Chagall'}</td>\n",
       "    </tr>\n",
       "    <tr>\n",
       "      <td>in a wide range of artistic formats, including painting, drawings, book illustrations, stained glass , stage sets, ceramics, tapestries and fine art prints.</td>\n",
       "      <td>{'1': 'Marc Chagall'}</td>\n",
       "    </tr>\n",
       "    <tr>\n",
       "      <td>Chagall was born in 1887, into a Jewish family near Vitebsk , today in Belarus , but at that time in the Pale of Settlement of the Russian Empire. Before World War I , he travelled between Saint Petersburg , Paris , and Berlin . During that period, he created his own mixture and style of modern art, based on his</td>\n",
       "      <td>{'1': 'Marc Chagall'}</td>\n",
       "    </tr>\n",
       "    <tr>\n",
       "      <td>ideas of Eastern European and Jewish folklore. He spent the wartime years in his native Belarus, becoming one of the country's most distinguished artists and a member of the modernist avant-garde , founding the Vitebsk Arts College . He later worked in and near Moscow in difficult conditions during hard times in Russia following the Bolshevik Revolution , before leaving again for Paris</td>\n",
       "      <td>{'1': 'Marc Chagall'}</td>\n",
       "    </tr>\n",
       "    <tr>\n",
       "      <td>in 1923. During World War II , he escaped occupied France to the United States, where he lived in New York City for seven years before returning to France in 1948.</td>\n",
       "      <td>{'1': 'Marc Chagall'}</td>\n",
       "    </tr>\n",
       "    <tr>\n",
       "      <td>Art critic Robert Hughes referred to Chagall as \"the quintessential Jewish artist of the twentieth century\". According to art historian Michael J. Lewis, Chagall was considered to be \"the last survivor of the first generation of European modernists\". For decades, he \"had also been respected as the world's pre-eminent Jewish artist\". [15]</td>\n",
       "      <td>{'1': 'Marc Chagall'}</td>\n",
       "    </tr>\n",
       "    <tr>\n",
       "      <td>Using the medium of stained glass, he produced windows for the cathedrals of Reims and Metz as well as the Fraumünster in Zürich , windows for the UN and the Art Institute of Chicago and the Jerusalem Windows in Israel. He also did large-scale paintings, including part of the ceiling of the Paris Opéra . He experienced</td>\n",
       "      <td>{'1': 'Marc Chagall'}</td>\n",
       "    </tr>\n",
       "    <tr>\n",
       "      <td>modernism's \"golden age\" in Paris, where \"he synthesized the art forms of Cubism , Symbolism , and Fauvism , and the influence of Fauvism gave rise to Surrealism \". Yet throughout these phases of his style \"he remained most emphatically a Jewish artist, whose work was one long dreamy reverie of</td>\n",
       "      <td>{'1': 'Marc Chagall'}</td>\n",
       "    </tr>\n",
       "    <tr>\n",
       "      <td>life in his native village of Vitebsk.\" [16] \"When Matisse dies\", Pablo Picasso remarked in the 1950s, \"Chagall will be the only painter left who understands what colour really is\". [17]</td>\n",
       "      <td>{'1': 'Marc Chagall'}</td>\n",
       "    </tr>\n",
       "  </tbody>\n",
       "</table>"
      ],
      "text/plain": [
       "                                                 text                heading\n",
       "0   Marc Chagall - Wikipedia Jump to content Searc...                     {}\n",
       "1   Marc Chagall 81 languages Afrikaans Alemannisc...  {'1': 'Marc Chagall'}\n",
       "2   ортса Беларуская Беларуская (тарашкевіца) Бълг...  {'1': 'Marc Chagall'}\n",
       "3   국어 Հայերեն हिन्दी Hrvatski Ido Bahasa Indonesi...  {'1': 'Marc Chagall'}\n",
       "4   tzebuergesch Lietuvių Magyar Македонски Malaga...  {'1': 'Marc Chagall'}\n",
       "5   èis Plattdüütsch Polski Português Română Runa ...  {'1': 'Marc Chagall'}\n",
       "6    Svenska ไทย Türkçe Українська Tiếng Việt Wina...  {'1': 'Marc Chagall'}\n",
       "7    . For other uses, see Chagall (disambiguation) .  {'1': 'Marc Chagall'}\n",
       "8   Marc Chagall Chagall, c. 1920 Born Moishe Shag...  {'1': 'Marc Chagall'}\n",
       "9   28) (aged 97) Saint-Paul-de-Vence , France Nat...  {'1': 'Marc Chagall'}\n",
       "10   ​ Valentina (Vava) Brodsky ​ ​ ( m. 1952) ​ [...  {'1': 'Marc Chagall'}\n",
       "11  Marc Chagall [a] (born Moishe Shagal ; 6 July ...  {'1': 'Marc Chagall'}\n",
       "12   in a wide range of artistic formats, includin...  {'1': 'Marc Chagall'}\n",
       "13  Chagall was born in 1887, into a Jewish family...  {'1': 'Marc Chagall'}\n",
       "14   ideas of Eastern European and Jewish folklore...  {'1': 'Marc Chagall'}\n",
       "15   in 1923. During World War II , he escaped occ...  {'1': 'Marc Chagall'}\n",
       "16  Art critic Robert Hughes referred to Chagall a...  {'1': 'Marc Chagall'}\n",
       "17   Using the medium of stained glass, he produce...  {'1': 'Marc Chagall'}\n",
       "18   modernism's \"golden age\" in Paris, where \"he ...  {'1': 'Marc Chagall'}\n",
       "19   life in his native village of Vitebsk.\" [16] ...  {'1': 'Marc Chagall'}"
      ]
     },
     "execution_count": 14,
     "metadata": {},
     "output_type": "execute_result"
    }
   ],
   "source": [
    "short_chunks.select(short_chunks.text, short_chunks.heading).show(20)"
   ]
  },
  {
   "cell_type": "code",
   "execution_count": 15,
   "id": "bb32ade8-9727-4ebc-b57a-ff8097aca993",
   "metadata": {
    "execution": {
     "iopub.execute_input": "2024-05-25T22:21:52.622572Z",
     "iopub.status.busy": "2024-05-25T22:21:52.622473Z",
     "iopub.status.idle": "2024-05-25T22:21:52.629149Z",
     "shell.execute_reply": "2024-05-25T22:21:52.628914Z"
    },
    "scrolled": true
   },
   "outputs": [
    {
     "data": {
      "text/html": [
       "<table border=\"1\" class=\"dataframe\">\n",
       "  <thead>\n",
       "    <tr style=\"text-align: right;\">\n",
       "      <th>text</th>\n",
       "      <th>heading</th>\n",
       "    </tr>\n",
       "  </thead>\n",
       "  <tbody>\n",
       "    <tr>\n",
       "      <td>Marc Chagall - Wikipedia Jump to content Search Search</td>\n",
       "      <td>{}</td>\n",
       "    </tr>\n",
       "    <tr>\n",
       "      <td>Marc Chagall 81 languages Afrikaans Alemannisch العربية Aragonés Արեւմտա</td>\n",
       "      <td>{'1': 'Marc Chagall'}</td>\n",
       "    </tr>\n",
       "    <tr>\n",
       "      <td>հայերէն Asturianu Azərbaycanca বাংলা Башҡортса Беларуская Беларуская (та</td>\n",
       "      <td>{'1': 'Marc Chagall'}</td>\n",
       "    </tr>\n",
       "    <tr>\n",
       "      <td>рашкевіца) Български Català Čeština Cymraeg Dansk Deutsch Eesti Ελληνικά</td>\n",
       "      <td>{'1': 'Marc Chagall'}</td>\n",
       "    </tr>\n",
       "    <tr>\n",
       "      <td>Español Esperanto Euskara فارسی Français Galego 한국어 Հայերեն हिन्दी Hrva</td>\n",
       "      <td>{'1': 'Marc Chagall'}</td>\n",
       "    </tr>\n",
       "    <tr>\n",
       "      <td>tski Ido Bahasa Indonesia Interlingua Italiano עברית Jawa ქართული Kiswah</td>\n",
       "      <td>{'1': 'Marc Chagall'}</td>\n",
       "    </tr>\n",
       "    <tr>\n",
       "      <td>ili Latina Latviešu Lëtzebuergesch Lietuvių Magyar Македонски Malagasy م</td>\n",
       "      <td>{'1': 'Marc Chagall'}</td>\n",
       "    </tr>\n",
       "    <tr>\n",
       "      <td>صرى Nederlands Nedersaksies 日本語 Norsk bokmål Norsk nynorsk Occitan Oʻzbe</td>\n",
       "      <td>{'1': 'Marc Chagall'}</td>\n",
       "    </tr>\n",
       "    <tr>\n",
       "      <td>kcha / ўзбекча پنجابی Picard Piemontèis Plattdüütsch Polski Português Ro</td>\n",
       "      <td>{'1': 'Marc Chagall'}</td>\n",
       "    </tr>\n",
       "    <tr>\n",
       "      <td>mână Runa Simi Русский Scots Shqip Sicilianu Simple English Slovenčina S</td>\n",
       "      <td>{'1': 'Marc Chagall'}</td>\n",
       "    </tr>\n",
       "    <tr>\n",
       "      <td>lovenščina کوردی Српски / srpski Srpskohrvatski / српскохрватски Suomi S</td>\n",
       "      <td>{'1': 'Marc Chagall'}</td>\n",
       "    </tr>\n",
       "    <tr>\n",
       "      <td>venska ไทย Türkçe Українська Tiếng Việt Winaray 吴语 ייִדיש 粵語 中文 Edit lin</td>\n",
       "      <td>{'1': 'Marc Chagall'}</td>\n",
       "    </tr>\n",
       "    <tr>\n",
       "      <td>ks From Wikipedia, the free encyclopedia Russian-French artist (1887–198</td>\n",
       "      <td>{'1': 'Marc Chagall'}</td>\n",
       "    </tr>\n",
       "    <tr>\n",
       "      <td>5) \"Chagall\" redirects here. For other uses, see Chagall (disambiguation</td>\n",
       "      <td>{'1': 'Marc Chagall'}</td>\n",
       "    </tr>\n",
       "    <tr>\n",
       "      <td>) .</td>\n",
       "      <td>{'1': 'Marc Chagall'}</td>\n",
       "    </tr>\n",
       "    <tr>\n",
       "      <td>Marc Chagall Chagall, c. 1920 Born Moishe Shagal ( 1887-07-06 ) 6 July 1</td>\n",
       "      <td>{'1': 'Marc Chagall'}</td>\n",
       "    </tr>\n",
       "    <tr>\n",
       "      <td>887 (N.S.) Liozna , Vitebsk Governorate , Russian Empire (now Belarus) [</td>\n",
       "      <td>{'1': 'Marc Chagall'}</td>\n",
       "    </tr>\n",
       "    <tr>\n",
       "      <td>1] Died 28 March 1985 (1985-03-28) (aged 97) Saint-Paul-de-Vence , Franc</td>\n",
       "      <td>{'1': 'Marc Chagall'}</td>\n",
       "    </tr>\n",
       "    <tr>\n",
       "      <td>e Nationality (legal) Russian, later French [2] Known for Painting stain</td>\n",
       "      <td>{'1': 'Marc Chagall'}</td>\n",
       "    </tr>\n",
       "    <tr>\n",
       "      <td>ed glass Notable work See list of artworks by Marc Chagall Movement Cubi</td>\n",
       "      <td>{'1': 'Marc Chagall'}</td>\n",
       "    </tr>\n",
       "  </tbody>\n",
       "</table>"
      ],
      "text/plain": [
       "                                                 text                heading\n",
       "0   Marc Chagall - Wikipedia Jump to content Searc...                     {}\n",
       "1   Marc Chagall 81 languages Afrikaans Alemannisc...  {'1': 'Marc Chagall'}\n",
       "2   հայերէն Asturianu Azərbaycanca বাংলা Башҡортса...  {'1': 'Marc Chagall'}\n",
       "3   рашкевіца) Български Català Čeština Cymraeg Da...  {'1': 'Marc Chagall'}\n",
       "4    Español Esperanto Euskara فارسی Français Gale...  {'1': 'Marc Chagall'}\n",
       "5   tski Ido Bahasa Indonesia Interlingua Italiano...  {'1': 'Marc Chagall'}\n",
       "6   ili Latina Latviešu Lëtzebuergesch Lietuvių Ma...  {'1': 'Marc Chagall'}\n",
       "7   صرى Nederlands Nedersaksies 日本語 Norsk bokmål N...  {'1': 'Marc Chagall'}\n",
       "8   kcha / ўзбекча پنجابی Picard Piemontèis Plattd...  {'1': 'Marc Chagall'}\n",
       "9   mână Runa Simi Русский Scots Shqip Sicilianu S...  {'1': 'Marc Chagall'}\n",
       "10  lovenščina کوردی Српски / srpski Srpskohrvatsk...  {'1': 'Marc Chagall'}\n",
       "11  venska ไทย Türkçe Українська Tiếng Việt Winara...  {'1': 'Marc Chagall'}\n",
       "12  ks From Wikipedia, the free encyclopedia Russi...  {'1': 'Marc Chagall'}\n",
       "13  5) \"Chagall\" redirects here. For other uses, s...  {'1': 'Marc Chagall'}\n",
       "14                                                ) .  {'1': 'Marc Chagall'}\n",
       "15  Marc Chagall Chagall, c. 1920 Born Moishe Shag...  {'1': 'Marc Chagall'}\n",
       "16  887 (N.S.) Liozna , Vitebsk Governorate , Russ...  {'1': 'Marc Chagall'}\n",
       "17  1] Died 28 March 1985 (1985-03-28) (aged 97) S...  {'1': 'Marc Chagall'}\n",
       "18  e Nationality (legal) Russian, later French [2...  {'1': 'Marc Chagall'}\n",
       "19  ed glass Notable work See list of artworks by ...  {'1': 'Marc Chagall'}"
      ]
     },
     "execution_count": 15,
     "metadata": {},
     "output_type": "execute_result"
    }
   ],
   "source": [
    "short_char_chunks.select(short_char_chunks.text, short_char_chunks.heading).show(20)"
   ]
  },
  {
   "cell_type": "markdown",
   "id": "556d86ab-ef09-43e6-8bff-95caf8b8e45d",
   "metadata": {},
   "source": [
    "Now let's add a few more documents to our workflow. Notice how all of the downstream views are updated incrementally, processing just the new documents as they are inserted."
   ]
  },
  {
   "cell_type": "code",
   "execution_count": 16,
   "id": "71735d6a-3f99-46ef-99d7-4783aa6840cb",
   "metadata": {
    "execution": {
     "iopub.execute_input": "2024-05-25T22:21:52.630393Z",
     "iopub.status.busy": "2024-05-25T22:21:52.630293Z",
     "iopub.status.idle": "2024-05-25T22:22:02.091477Z",
     "shell.execute_reply": "2024-05-25T22:22:02.091176Z"
    }
   },
   "outputs": [
    {
     "name": "stdout",
     "output_type": "stream",
     "text": [
      "\r",
      "Inserting rows into `docs`: 0 rows [00:00, ? rows/s]"
     ]
    },
    {
     "name": "stdout",
     "output_type": "stream",
     "text": [
      "\r",
      "Inserting rows into `docs`: 3 rows [00:00, 3618.90 rows/s]"
     ]
    },
    {
     "name": "stdout",
     "output_type": "stream",
     "text": [
      "\n"
     ]
    },
    {
     "name": "stdout",
     "output_type": "stream",
     "text": [
      "\r",
      "Inserting rows into `sentences`: 0 rows [00:00, ? rows/s]"
     ]
    },
    {
     "name": "stdout",
     "output_type": "stream",
     "text": [
      "\r",
      "Inserting rows into `sentences`: 2105 rows [00:03, 635.43 rows/s]"
     ]
    },
    {
     "name": "stdout",
     "output_type": "stream",
     "text": [
      "\n"
     ]
    },
    {
     "name": "stdout",
     "output_type": "stream",
     "text": [
      "\r",
      "Inserting rows into `chunks`: 0 rows [00:00, ? rows/s]"
     ]
    },
    {
     "name": "stdout",
     "output_type": "stream",
     "text": [
      "\r",
      "Inserting rows into `chunks`: 276 rows [00:00, 16361.31 rows/s]"
     ]
    },
    {
     "name": "stdout",
     "output_type": "stream",
     "text": [
      "\n"
     ]
    },
    {
     "name": "stdout",
     "output_type": "stream",
     "text": [
      "\r",
      "Inserting rows into `short_chunks`: 0 rows [00:00, ? rows/s]"
     ]
    },
    {
     "name": "stdout",
     "output_type": "stream",
     "text": [
      "\r",
      "Inserting rows into `short_chunks`: 811 rows [00:00, 20491.70 rows/s]"
     ]
    },
    {
     "name": "stdout",
     "output_type": "stream",
     "text": [
      "\n"
     ]
    },
    {
     "name": "stdout",
     "output_type": "stream",
     "text": [
      "\r",
      "Inserting rows into `short_char_chunks`: 0 rows [00:00, ? rows/s]"
     ]
    },
    {
     "name": "stdout",
     "output_type": "stream",
     "text": [
      "\r",
      "Inserting rows into `short_char_chunks`: 2636 rows [00:00, 5624.57 rows/s]"
     ]
    },
    {
     "name": "stdout",
     "output_type": "stream",
     "text": [
      "\n",
      "Inserted 5831 rows with 0 errors.\n"
     ]
    },
    {
     "data": {
      "text/plain": [
       "UpdateStatus(num_rows=5831, num_computed_values=0, num_excs=0, updated_cols=[], cols_with_excs=[])"
      ]
     },
     "execution_count": 16,
     "metadata": {},
     "output_type": "execute_result"
    }
   ],
   "source": [
    "urls = [\n",
    "    'https://en.wikipedia.org/wiki/Pierre-Auguste_Renoir',\n",
    "    'https://en.wikipedia.org/wiki/Henri_Matisse',\n",
    "    'https://en.wikipedia.org/wiki/Marcel_Duchamp'\n",
    "]\n",
    "docs.insert({'source_doc': url} for url in urls)"
   ]
  },
  {
   "cell_type": "markdown",
   "id": "bdf1e13c-b038-40ee-b48c-35d514149c62",
   "metadata": {},
   "source": [
    "## Further Experiments\n",
    "\n",
    "This is a good time to mention another important guiding principle of Pixeltable. The preceding examples all used the built-in `DocumentSplitter` class with various configurations. That's probably fine as a first cut or to prototype an application quickly, and it might be sufficient for some applications. But other applications might want to do more sophisticated kinds of chunking, implementing their own specialized logic or leveraging third-party tools. Pixeltable imposes no constraints on the AI or RAG operations a workflow uses: the iterator interface is highly general, and it's easy to implement new operations or adapt existing code or third-party tools into the Pixeltable workflow."
   ]
  },
  {
   "cell_type": "markdown",
   "id": "709a4be2",
   "metadata": {},
   "source": [
    "## Computing Embeddings"
   ]
  },
  {
   "cell_type": "markdown",
   "id": "fa455441-bfd1-41cc-a802-a396a2323c4f",
   "metadata": {},
   "source": [
    "Next, let's look at how embedding indices can be added seamlessly to existing Pixeltable workflows. To compute our embeddings, we'll use the Huggingface `sentence_transformer` package, running it over the `chunks` view that broke our documents up into larger paragraphs. Pixeltable has a built-in `sentence_transformer` adapter, and all we have to do is add a new column that leverages it. Pixeltable takes care of the rest, applying the new column to all existing data in the view."
   ]
  },
  {
   "cell_type": "code",
   "execution_count": 17,
   "id": "e0d7ea4a",
   "metadata": {
    "execution": {
     "iopub.execute_input": "2024-05-25T22:22:02.092941Z",
     "iopub.status.busy": "2024-05-25T22:22:02.092850Z",
     "iopub.status.idle": "2024-05-25T22:22:04.401060Z",
     "shell.execute_reply": "2024-05-25T22:22:04.400760Z"
    }
   },
   "outputs": [
    {
     "name": "stdout",
     "output_type": "stream",
     "text": [
      "\r",
      "Computing cells:   0%|                                                  | 0/481 [00:00<?, ? cells/s]"
     ]
    },
    {
     "name": "stdout",
     "output_type": "stream",
     "text": [
      "\r",
      "Computing cells: 100%|███████████████████████████████████████| 481/481 [00:00<00:00, 532.60 cells/s]"
     ]
    },
    {
     "name": "stdout",
     "output_type": "stream",
     "text": [
      "\n",
      "Added 481 column values with 0 errors.\n"
     ]
    }
   ],
   "source": [
    "from pixeltable.functions.huggingface import sentence_transformer\n",
    "\n",
    "chunks['minilm_embed'] =sentence_transformer(chunks.text, model_id='paraphrase-MiniLM-L6-v2')"
   ]
  },
  {
   "cell_type": "markdown",
   "id": "65bb3b1b-04fd-422b-a070-d3faa16033e0",
   "metadata": {},
   "source": [
    "The new column is a *computed column*: it is defined as a function on top of existing data and updated incrementally as new data are added to the workflow. Let's have a look at how the new column affected the `chunks` view."
   ]
  },
  {
   "cell_type": "code",
   "execution_count": 18,
   "id": "3cf786cc",
   "metadata": {
    "execution": {
     "iopub.execute_input": "2024-05-25T22:22:04.402591Z",
     "iopub.status.busy": "2024-05-25T22:22:04.402423Z",
     "iopub.status.idle": "2024-05-25T22:22:04.407069Z",
     "shell.execute_reply": "2024-05-25T22:22:04.406808Z"
    }
   },
   "outputs": [
    {
     "data": {
      "text/html": [
       "<style type=\"text/css\">\n",
       "#T_98cad th {\n",
       "  text-align: center;\n",
       "}\n",
       "#T_98cad_row0_col0, #T_98cad_row0_col1, #T_98cad_row0_col2, #T_98cad_row1_col0, #T_98cad_row1_col1, #T_98cad_row1_col2, #T_98cad_row2_col0, #T_98cad_row2_col1, #T_98cad_row2_col2, #T_98cad_row3_col0, #T_98cad_row3_col1, #T_98cad_row3_col2, #T_98cad_row4_col0, #T_98cad_row4_col1, #T_98cad_row4_col2, #T_98cad_row5_col0, #T_98cad_row5_col1, #T_98cad_row5_col2, #T_98cad_row6_col0, #T_98cad_row6_col1, #T_98cad_row6_col2 {\n",
       "  white-space: pre-wrap;\n",
       "  text-align: left;\n",
       "}\n",
       "</style>\n",
       "<table id=\"T_98cad\">\n",
       "  <thead>\n",
       "    <tr>\n",
       "      <th id=\"T_98cad_level0_col0\" class=\"col_heading level0 col0\" >Column Name</th>\n",
       "      <th id=\"T_98cad_level0_col1\" class=\"col_heading level0 col1\" >Type</th>\n",
       "      <th id=\"T_98cad_level0_col2\" class=\"col_heading level0 col2\" >Computed With</th>\n",
       "    </tr>\n",
       "  </thead>\n",
       "  <tbody>\n",
       "    <tr>\n",
       "      <td id=\"T_98cad_row0_col0\" class=\"data row0 col0\" >pos</td>\n",
       "      <td id=\"T_98cad_row0_col1\" class=\"data row0 col1\" >int</td>\n",
       "      <td id=\"T_98cad_row0_col2\" class=\"data row0 col2\" ></td>\n",
       "    </tr>\n",
       "    <tr>\n",
       "      <td id=\"T_98cad_row1_col0\" class=\"data row1 col0\" >text</td>\n",
       "      <td id=\"T_98cad_row1_col1\" class=\"data row1 col1\" >string</td>\n",
       "      <td id=\"T_98cad_row1_col2\" class=\"data row1 col2\" ></td>\n",
       "    </tr>\n",
       "    <tr>\n",
       "      <td id=\"T_98cad_row2_col0\" class=\"data row2 col0\" >title</td>\n",
       "      <td id=\"T_98cad_row2_col1\" class=\"data row2 col1\" >string</td>\n",
       "      <td id=\"T_98cad_row2_col2\" class=\"data row2 col2\" ></td>\n",
       "    </tr>\n",
       "    <tr>\n",
       "      <td id=\"T_98cad_row3_col0\" class=\"data row3 col0\" >heading</td>\n",
       "      <td id=\"T_98cad_row3_col1\" class=\"data row3 col1\" >json</td>\n",
       "      <td id=\"T_98cad_row3_col2\" class=\"data row3 col2\" ></td>\n",
       "    </tr>\n",
       "    <tr>\n",
       "      <td id=\"T_98cad_row4_col0\" class=\"data row4 col0\" >sourceline</td>\n",
       "      <td id=\"T_98cad_row4_col1\" class=\"data row4 col1\" >int</td>\n",
       "      <td id=\"T_98cad_row4_col2\" class=\"data row4 col2\" ></td>\n",
       "    </tr>\n",
       "    <tr>\n",
       "      <td id=\"T_98cad_row5_col0\" class=\"data row5 col0\" >minilm_embed</td>\n",
       "      <td id=\"T_98cad_row5_col1\" class=\"data row5 col1\" >array((384,), dtype=FLOAT)</td>\n",
       "      <td id=\"T_98cad_row5_col2\" class=\"data row5 col2\" >sentence_transformer(text, model_id='paraphrase-MiniLM-L6-v2')</td>\n",
       "    </tr>\n",
       "    <tr>\n",
       "      <td id=\"T_98cad_row6_col0\" class=\"data row6 col0\" >source_doc</td>\n",
       "      <td id=\"T_98cad_row6_col1\" class=\"data row6 col1\" >document</td>\n",
       "      <td id=\"T_98cad_row6_col2\" class=\"data row6 col2\" ></td>\n",
       "    </tr>\n",
       "  </tbody>\n",
       "</table>\n"
      ],
      "text/plain": [
       "view 'chunks'\n",
       "\n",
       " Column Name                       Type                                                  Computed With\n",
       "         pos                        int                                                               \n",
       "        text                     string                                                               \n",
       "       title                     string                                                               \n",
       "     heading                       json                                                               \n",
       "  sourceline                        int                                                               \n",
       "minilm_embed array((384,), dtype=FLOAT) sentence_transformer(text, model_id='paraphrase-MiniLM-L6-v2')\n",
       "  source_doc                   document                                                               "
      ]
     },
     "execution_count": 18,
     "metadata": {},
     "output_type": "execute_result"
    }
   ],
   "source": [
    "chunks"
   ]
  },
  {
   "cell_type": "code",
   "execution_count": 19,
   "id": "bc2893b5",
   "metadata": {
    "execution": {
     "iopub.execute_input": "2024-05-25T22:22:04.408358Z",
     "iopub.status.busy": "2024-05-25T22:22:04.408257Z",
     "iopub.status.idle": "2024-05-25T22:22:04.420556Z",
     "shell.execute_reply": "2024-05-25T22:22:04.420322Z"
    },
    "scrolled": true
   },
   "outputs": [
    {
     "data": {
      "text/html": [
       "<table border=\"1\" class=\"dataframe\">\n",
       "  <thead>\n",
       "    <tr style=\"text-align: right;\">\n",
       "      <th>pos</th>\n",
       "      <th>text</th>\n",
       "      <th>title</th>\n",
       "      <th>heading</th>\n",
       "      <th>sourceline</th>\n",
       "      <th>minilm_embed</th>\n",
       "      <th>source_doc</th>\n",
       "    </tr>\n",
       "  </thead>\n",
       "  <tbody>\n",
       "    <tr>\n",
       "      <td>0</td>\n",
       "      <td>Marc Chagall - Wikipedia Jump to content Search Search</td>\n",
       "      <td>Marc Chagall - Wikipedia</td>\n",
       "      <td>{}</td>\n",
       "      <td>0</td>\n",
       "      <td>[-0.26239732, -0.11875591, -0.1327097, 0.048251763, 0.119876005, -0.0060523152, 0.3206637, 0.048359092, 0.29429576, -0.25400952, 0.62501234, 0.17804724, -0.0049088127, 0.26455665, -0.25857225, -0.042355698, 0.36528525, 0.2355129, 0.27595904, -0.37120572, 0.17573284, 0.0029876332, 0.23927855, -0.17485912, 0.19540663, -0.4889194, -0.74182695, -0.30720598, 0.23550892, -0.2615956, 0.5011108, -0.6918159, -0.2546256, -0.19169815, 0.5265673, 0.10684735, -0.35004124, -0.47890806, 0.27644458, 0.26248983, 0.05517806, -0.1461072, -0.2148267, 0.7246924, -0.10529771, 0.51069117, -0.18174122, 0.4592061, 0.367213, 0.5129049, -0.65757203, -0.4469793, -0.2626698, -0.44820145, 0.38971043, -0.16952051, -0.11435013, -0.07236251, 0.2645086, -0.57930374, 0.28047335, 0.09170138, -0.16436054, 0.10646381, -0.14615737, 0.196611, 0.07363939, 0.21059911, 0.17992193, 0.15980816, -0.37105098, 0.2537625, -0.4467156, 0.65733236, -0.38872766, -0.2764635, -0.7946084, -0.088374026, -0.27318338, -0.21008582, 0.570234, -0.343479, 0.15152024, -0.30319422, -0.043730408, -0.3291484, 0.25554976, 0.060874507, 0.23776962, 0.29614982, 0.18648787, -0.3559974, 0.15256234, -0.08413425, -0.48064336, 0.30865648, 0.10970467, 0.11276882, 0.71860456, -0.21019448, ...]</td>\n",
       "      <td><div class=\"pxt_document\" style=\"width:320px;\">\n",
       "            <a href=\"http://127.0.0.1:58648/Users/orm/.pixeltable/file_cache/34dd779efea04a9f8c4a6505b1ca3595_0_3c5b8031c7610e17a42ab6df79e614c2ee1a85dbd022497373d574cf65e15c51\">\n",
       "                /Users/orm/.pixeltable/file_cache/34dd779efea04a9f8c4a6505b1ca3595_0_3c5b8031c7610e17a42ab6df79e614c2ee1a85dbd022497373d574cf65e15c51\n",
       "            </a>\n",
       "        </div></td>\n",
       "    </tr>\n",
       "    <tr>\n",
       "      <td>1</td>\n",
       "      <td>Marc Chagall 81 languages Afrikaans Alemannisch العربية Aragonés Արեւմտահայերէն Asturianu Azərbaycanca বাংলা Башҡортса Беларуская Беларуская (тарашкевіца) Български Català Čeština Cymraeg Dansk Deutsch Eesti Ελληνικά Español Esperanto Euskara فارسی Français Galego 한국어 Հայերեն हिन्दी Hrvatski Ido Bahasa Indonesia Interlingua Italiano עברית Jawa ქართული Kiswahili Latina Latviešu Lëtzebuergesch Lietuvių Magyar Македонски Malagasy مصرى Nederlands Nedersaksies 日本語 Norsk bokmål Norsk nynorsk Occitan Oʻzbekcha / ўзбекча پنجابی Picard Piemontèis Plattdüütsch Polski Português Română Runa Simi Русский Scots Shqip Sicilianu Simple English Slovenčina Slovenščina کوردی Српски / srpski Srpskohrvatski / српскохрватски Suomi Svenska ไทย Türkçe Українська Tiếng Việt Winaray 吴语 ייִדיש 粵語 中文 Edit links From Wikipedia, the free encyclopedia Russian-French artist (1887–1985) \"Chagall\" redirects here. For other uses, see Chagall (disambiguation) .</td>\n",
       "      <td>Marc Chagall - Wikipedia</td>\n",
       "      <td>{'1': 'Marc Chagall'}</td>\n",
       "      <td>820</td>\n",
       "      <td>[-0.13631254, 0.4006328, -0.53002965, -0.18143162, -0.45317018, -0.12492235, 0.7796179, -0.24712478, 0.12325853, -0.22153583, 0.2845529, -0.4370275, 0.2315685, 0.14490248, -0.1085123, -0.28869784, 0.21817628, 0.7690573, -0.3198972, -0.44312775, 0.059898265, -0.08027313, 0.12561788, 0.20749891, -0.047795247, 0.24811827, 0.31219923, -0.08558017, -0.22011806, 0.35220212, 0.58977973, 0.078810096, 0.19522712, -0.14123645, 0.35313034, 0.24841914, -0.13180918, 0.2722456, 0.28210616, 0.13397667, 0.10607717, -0.09232131, 0.09185549, 0.18311335, 0.124486126, -0.050988954, -0.17604427, 0.015647132, -0.052447487, -0.24283406, -0.42616764, -0.45576853, -0.35507983, -0.43146545, 0.30693337, -0.94204426, -0.15023255, 0.7332699, 0.0008645663, -0.36632675, -0.5619298, 0.21601516, -0.6227498, 0.43365526, -0.28584415, -0.33551338, -0.04429045, 0.34400985, -0.20072128, 0.051950324, -0.1412438, -0.12208984, 0.17209938, 0.24971372, -0.114884295, -0.36850506, 0.25038427, 0.22488219, -0.23860508, 0.014345452, 0.13038509, -0.005723659, -0.03041903, -0.29217678, 0.23628002, -0.07539819, -0.011316, -0.09114751, 0.6540444, -0.94689786, 0.5174335, 0.29965198, 0.23870113, -0.069477096, 0.5011024, -0.0839444, 0.15647289, -0.33553213, 0.086335406, -0.11068058, ...]</td>\n",
       "      <td><div class=\"pxt_document\" style=\"width:320px;\">\n",
       "            <a href=\"http://127.0.0.1:58648/Users/orm/.pixeltable/file_cache/34dd779efea04a9f8c4a6505b1ca3595_0_3c5b8031c7610e17a42ab6df79e614c2ee1a85dbd022497373d574cf65e15c51\">\n",
       "                /Users/orm/.pixeltable/file_cache/34dd779efea04a9f8c4a6505b1ca3595_0_3c5b8031c7610e17a42ab6df79e614c2ee1a85dbd022497373d574cf65e15c51\n",
       "            </a>\n",
       "        </div></td>\n",
       "    </tr>\n",
       "    <tr>\n",
       "      <td>2</td>\n",
       "      <td>Marc Chagall Chagall, c. 1920 Born Moishe Shagal ( 1887-07-06 ) 6 July 1887 (N.S.) Liozna , Vitebsk Governorate , Russian Empire (now Belarus) [1] Died 28 March 1985 (1985-03-28) (aged 97) Saint-Paul-de-Vence , France Nationality (legal) Russian, later French [2] Known for Painting stained glass Notable work See list of artworks by Marc Chagall Movement Cubism Expressionism School of Paris Spouses Bella Rosenfeld ​ ​ ( m. 1915; died 1944) ​ Valentina (Vava) Brodsky ​ ​ ( m. 1952) ​ [3] Children 2 [4]</td>\n",
       "      <td>Marc Chagall - Wikipedia</td>\n",
       "      <td>{'1': 'Marc Chagall'}</td>\n",
       "      <td>1015</td>\n",
       "      <td>[0.016423345, 0.3260471, -0.32559133, 0.17548874, -0.11227007, 0.42083314, 0.31912604, -0.093757965, 0.10363078, -0.2513861, -0.31695336, -0.00797247, 0.19112656, 0.04687702, -0.22143048, 0.21226852, -0.0014498234, 0.015135364, 0.05909173, -0.04501134, 0.18712749, 0.025107566, 0.12048915, 0.043447517, 0.19589916, -0.29240823, -0.056350805, -0.20459962, 0.010940395, 0.0042984625, 0.15800866, 0.0011073127, -0.33152056, 0.19035816, 0.06652364, -0.0419053, -0.24648198, -0.016879573, 0.13765833, 0.27679026, 0.07269068, 0.16871119, -0.16303802, 0.074207194, 0.21334225, -0.041831627, 0.2733978, 0.056097288, -0.14027601, 0.1096323, -0.41540742, -0.26369876, 0.14651904, -0.24260817, 0.18506075, -0.45687962, -0.09110221, -0.04181574, 0.09889838, -0.23749281, -0.13145898, -0.09306832, -0.12145932, -0.017310424, -0.2820541, 0.13026169, 0.073336765, -0.15457141, 0.29600057, -0.100084685, 0.22818252, 0.004132746, -0.28860497, 0.03525365, -0.25121364, -0.1309707, -0.11360861, 0.088135384, -0.40955418, -0.29876286, 0.17228752, 0.039190907, 0.2045032, 0.30850697, 0.12591475, 0.040452853, -0.07205826, 0.14395201, 0.0033970978, -0.0037041586, 0.18989766, 0.32151735, -0.011084309, 0.033990867, 0.14902866, 0.1288926, 0.12314282, 0.13965552, 0.14047459, -0.18733303, ...]</td>\n",
       "      <td><div class=\"pxt_document\" style=\"width:320px;\">\n",
       "            <a href=\"http://127.0.0.1:58648/Users/orm/.pixeltable/file_cache/34dd779efea04a9f8c4a6505b1ca3595_0_3c5b8031c7610e17a42ab6df79e614c2ee1a85dbd022497373d574cf65e15c51\">\n",
       "                /Users/orm/.pixeltable/file_cache/34dd779efea04a9f8c4a6505b1ca3595_0_3c5b8031c7610e17a42ab6df79e614c2ee1a85dbd022497373d574cf65e15c51\n",
       "            </a>\n",
       "        </div></td>\n",
       "    </tr>\n",
       "    <tr>\n",
       "      <td>3</td>\n",
       "      <td>Marc Chagall [a] (born Moishe Shagal ; 6 July [ O.S. 24 June] 1887 – 28 March 1985) was a Russian-French artist. [b] An early modernist , he was associated with the École de Paris as well as several major artistic styles and created works in a wide range of artistic formats, including painting, drawings, book illustrations, stained glass , stage sets, ceramics, tapestries and fine art prints.</td>\n",
       "      <td>Marc Chagall - Wikipedia</td>\n",
       "      <td>{'1': 'Marc Chagall'}</td>\n",
       "      <td>1029</td>\n",
       "      <td>[0.060708035, 0.15527864, -0.18933795, 0.16767837, -0.08854681, 0.17130667, 0.15085003, -0.043867454, 0.15022105, -0.47134027, -0.28864866, -0.17173253, -0.047001004, 0.026634151, -0.06628928, 0.16065475, 0.118141666, 0.13180228, -0.0040200683, -0.14932014, 0.17918748, 0.21494935, 0.09146323, 0.038962238, 0.038501576, -0.25235462, 0.27075022, -0.25661978, 0.13307261, -0.39810285, 0.21422939, 0.07985357, -0.28083134, -0.009454755, -0.007048412, 0.052204013, -0.21774013, -0.021139672, 0.110311024, 0.26661927, 0.2108482, 0.32182977, -0.09556154, 0.07259306, 0.12131232, -0.104517154, -0.010188514, -0.037562035, -0.2270827, 0.14353335, -0.37686607, -0.17414233, 0.21614805, -0.45889544, 0.07239758, -0.40199208, 0.07049388, 0.02676745, 0.15950087, -0.24915557, -0.09596282, -0.0755193, 0.195818, -0.03572103, -0.1016923, -0.08450511, -0.09172755, -0.07791161, 0.12658155, -0.03965357, 0.027229583, 0.08718763, 0.03742094, -0.03136943, 0.02182637, -0.50100785, -0.18308254, 0.24249065, -0.30463603, -0.1627776, 0.3999881, -0.16028926, 0.03417181, 0.20159687, 0.08487641, 0.06755656, -0.05060122, 0.14891125, -0.025254702, -0.0067674625, 0.12155224, 0.16791321, -0.24602468, 0.080474466, -0.0122392755, 0.09207292, 0.019632956, 0.24711516, 0.1967246, -0.003105058, ...]</td>\n",
       "      <td><div class=\"pxt_document\" style=\"width:320px;\">\n",
       "            <a href=\"http://127.0.0.1:58648/Users/orm/.pixeltable/file_cache/34dd779efea04a9f8c4a6505b1ca3595_0_3c5b8031c7610e17a42ab6df79e614c2ee1a85dbd022497373d574cf65e15c51\">\n",
       "                /Users/orm/.pixeltable/file_cache/34dd779efea04a9f8c4a6505b1ca3595_0_3c5b8031c7610e17a42ab6df79e614c2ee1a85dbd022497373d574cf65e15c51\n",
       "            </a>\n",
       "        </div></td>\n",
       "    </tr>\n",
       "    <tr>\n",
       "      <td>4</td>\n",
       "      <td>Chagall was born in 1887, into a Jewish family near Vitebsk , today in Belarus , but at that time in the Pale of Settlement of the Russian Empire. Before World War I , he travelled between Saint Petersburg , Paris , and Berlin . During that period, he created his own mixture and style of modern art, based on his ideas of Eastern European and Jewish folklore. He spent the wartime years in his native Belarus, becoming one of the country's most distinguished artists and a member of the modernist avant-garde , founding the Vitebsk Arts College . He later worked in and near Moscow in difficult conditions during hard times in Russia following the Bolshevik Revolution , before leaving again for Paris in 1923. During World War II , he escaped occupied France to the United States, where he lived in New York City for seven years before returning to France in 1948.</td>\n",
       "      <td>Marc Chagall - Wikipedia</td>\n",
       "      <td>{'1': 'Marc Chagall'}</td>\n",
       "      <td>1030</td>\n",
       "      <td>[0.012889174, 0.24784824, -0.6924429, 0.14261195, -0.3790235, 0.25358495, 0.25536227, -0.12604733, 0.11600016, -0.34645444, -0.42178217, 0.019877413, 0.21520871, -0.06495543, -0.15178007, 0.11160536, -0.1597105, 0.06491926, -0.0047338046, -0.3383147, -0.27981138, -0.19120824, 0.31149352, -0.09731055, 0.41788453, -0.3613028, 0.12893897, -0.11600201, -0.041783907, -0.107950926, 0.29499692, -0.1380633, -0.14393339, -0.00805237, 0.016671645, 0.1772139, -0.039549142, -0.101248175, 0.07856567, 0.16309285, 0.18659104, 0.2518267, -0.08688407, 0.08496212, 0.09951486, 0.30495757, 0.17764318, 0.14045668, -0.18228966, 0.042524237, -0.23616268, -0.22173879, 0.12292059, -0.21659333, 0.20440894, -0.26627278, -0.028624993, 0.20077914, 0.17120823, -0.43130225, -0.08327538, -0.2631482, 0.20102105, 0.05320874, -0.23124728, 0.053521, -0.14058791, -0.009598315, 0.25529024, 0.073672146, 0.10801272, 0.21220183, -0.31999528, -0.011201487, -0.10513605, -0.57905316, -0.09553762, 0.0084090335, -0.23266536, -0.08355544, 0.32477874, 0.22916754, 0.07943097, 0.31860444, 0.083672404, 0.026719432, -0.014187926, 0.19423044, 0.05962751, -0.006766697, 0.52944493, -0.03524573, 0.058794506, -0.06393037, 0.008244336, 0.19260898, 0.01611611, 0.35155183, 0.19266358, -0.24429817, ...]</td>\n",
       "      <td><div class=\"pxt_document\" style=\"width:320px;\">\n",
       "            <a href=\"http://127.0.0.1:58648/Users/orm/.pixeltable/file_cache/34dd779efea04a9f8c4a6505b1ca3595_0_3c5b8031c7610e17a42ab6df79e614c2ee1a85dbd022497373d574cf65e15c51\">\n",
       "                /Users/orm/.pixeltable/file_cache/34dd779efea04a9f8c4a6505b1ca3595_0_3c5b8031c7610e17a42ab6df79e614c2ee1a85dbd022497373d574cf65e15c51\n",
       "            </a>\n",
       "        </div></td>\n",
       "    </tr>\n",
       "    <tr>\n",
       "      <td>5</td>\n",
       "      <td>Art critic Robert Hughes referred to Chagall as \"the quintessential Jewish artist of the twentieth century\". According to art historian Michael J. Lewis, Chagall was considered to be \"the last survivor of the first generation of European modernists\". For decades, he \"had also been respected as the world's pre-eminent Jewish artist\". [15] Using the medium of stained glass, he produced windows for the cathedrals of Reims and Metz as well as the Fraumünster in Zürich , windows for the UN and the Art Institute of Chicago and the Jerusalem Windows in Israel. He also did large-scale paintings, including part of the ceiling of the Paris Opéra . He experienced modernism's \"golden age\" in Paris, where \"he synthesized the art forms of Cubism , Symbolism , and Fauvism , and the influence of Fauvism gave rise to Surrealism \". Yet throughout these phases of his style \"he remained most emphatically a Jewish artist, whose work was one long dreamy reverie of life in his native village of Vitebsk.\" [16] \"When Matisse dies\", Pablo Picasso remarked in the 1950s, \"Chagall will be the only painter left who understands what colour really is\". [17]</td>\n",
       "      <td>Marc Chagall - Wikipedia</td>\n",
       "      <td>{'1': 'Marc Chagall'}</td>\n",
       "      <td>1031</td>\n",
       "      <td>[-0.17184903, 0.3480283, -0.30670434, 0.03375928, -0.07120789, 0.11081608, -0.015894294, -0.1335661, -0.03370828, -0.2419455, -0.4445681, 0.059292234, 0.020918146, 0.14204665, -0.24098691, 0.27005807, -0.25892308, 0.045101214, 0.053786278, 0.11298114, -0.08186169, 0.07691848, 0.30562973, -0.12195027, 0.3086164, -0.20567954, 0.19921318, -0.12860526, -0.14399265, -0.060565796, 0.09843996, -0.103407316, -0.2655592, -0.02704632, 0.070481755, 0.07951161, -0.06800349, 0.0012840182, 0.23670605, 0.16051254, 0.0861586, 0.30511197, -0.027098997, -0.17317611, 0.014067189, -0.015782569, 0.123053096, 0.054618157, -0.20789412, 0.11169625, -0.24329379, -0.17174809, 0.31153318, -0.47722533, 0.08077131, -0.31602696, -0.1080764, -0.06080746, -0.12826554, -0.47114912, -0.11467488, -0.38747925, -0.18139105, 0.17687625, -0.033176735, -0.10800503, -0.1130805, -0.19606866, -0.022167346, 0.08167161, 0.0778763, 0.04912969, 0.019410174, 0.077514306, 0.11992865, -0.27325967, -0.07606409, -0.012376133, -0.30934045, -0.055395264, 0.4909275, 0.05449154, 0.13599762, 0.29677787, 0.195668, -0.027227707, -0.10856444, 0.039952166, -0.06816654, 0.14353538, 0.109842226, 0.08890336, 0.1212473, 0.23209861, 0.18221277, 0.22661191, -0.053041577, 0.17716616, -0.0038241148, -0.22502866, ...]</td>\n",
       "      <td><div class=\"pxt_document\" style=\"width:320px;\">\n",
       "            <a href=\"http://127.0.0.1:58648/Users/orm/.pixeltable/file_cache/34dd779efea04a9f8c4a6505b1ca3595_0_3c5b8031c7610e17a42ab6df79e614c2ee1a85dbd022497373d574cf65e15c51\">\n",
       "                /Users/orm/.pixeltable/file_cache/34dd779efea04a9f8c4a6505b1ca3595_0_3c5b8031c7610e17a42ab6df79e614c2ee1a85dbd022497373d574cf65e15c51\n",
       "            </a>\n",
       "        </div></td>\n",
       "    </tr>\n",
       "    <tr>\n",
       "      <td>6</td>\n",
       "      <td>Early life and education [ edit ]</td>\n",
       "      <td>Marc Chagall - Wikipedia</td>\n",
       "      <td>{'1': 'Marc Chagall', '2': 'Early life and education[edit]'}</td>\n",
       "      <td>1034</td>\n",
       "      <td>[-0.21258698, 0.41762647, 0.094004124, 0.13499935, -0.06885195, 0.26491657, -0.12511124, 0.28833577, 0.045799807, 0.22168955, 0.29161096, -0.31456754, -0.31366932, 0.11542559, 0.08831857, 0.05697426, 0.24027623, -0.25183347, -0.123562574, -0.5461291, -0.09656469, 0.06608663, 0.25659174, -0.05296478, 0.4823797, 0.3273776, 0.08615846, -0.07120525, 0.12762073, 0.4256448, 0.027729776, -0.41478574, 0.5348891, -0.45198333, -0.47164482, 0.3165918, 0.8776634, 0.042705916, -0.25590706, 0.044347025, -0.14535573, 0.28647193, -0.11327096, 0.19460024, 0.050738804, -0.15815681, 0.2512932, -0.22205178, -0.09832464, -0.12678054, -0.56669307, -0.121038385, 0.03459479, -0.35877654, 0.19099648, 0.32248327, -0.06600316, 0.42566484, -0.23869164, 0.06701732, -0.8374609, -0.26572576, -0.009735842, 0.7078459, -0.07748278, 0.27188873, -0.06916775, 0.44513565, 0.19136162, -0.3350215, -0.15556425, -0.27112764, 0.11840285, 0.36182833, -0.33293813, -0.13884011, 0.040201083, 0.33501434, 0.11592451, -0.79345524, 0.21794981, 0.23457973, -0.09650018, 0.2424503, -0.29104403, 0.41454446, -0.48009607, 0.29933113, -0.14576513, -0.29111084, 0.6442536, -0.46670663, -0.48874167, 0.35364056, 0.61178327, 0.20668009, -0.55355793, -0.32985795, -0.13371447, -0.22560576, ...]</td>\n",
       "      <td><div class=\"pxt_document\" style=\"width:320px;\">\n",
       "            <a href=\"http://127.0.0.1:58648/Users/orm/.pixeltable/file_cache/34dd779efea04a9f8c4a6505b1ca3595_0_3c5b8031c7610e17a42ab6df79e614c2ee1a85dbd022497373d574cf65e15c51\">\n",
       "                /Users/orm/.pixeltable/file_cache/34dd779efea04a9f8c4a6505b1ca3595_0_3c5b8031c7610e17a42ab6df79e614c2ee1a85dbd022497373d574cf65e15c51\n",
       "            </a>\n",
       "        </div></td>\n",
       "    </tr>\n",
       "    <tr>\n",
       "      <td>7</td>\n",
       "      <td>Early life [ edit ] Marc Chagall's childhood home in Vitebsk , Belarus. Currently site of the Marc Chagall Museum . Marc Chagall, 1912, The Spoonful of Milk (La Cuillerée de lait) , gouache on paper</td>\n",
       "      <td>Marc Chagall - Wikipedia</td>\n",
       "      <td>{'1': 'Marc Chagall', '2': 'Early life and education[edit]', '3': 'Early life[edit]'}</td>\n",
       "      <td>1035</td>\n",
       "      <td>[-0.0404035, 0.14281149, -0.35680765, 0.41181737, -0.3306095, 0.20134626, 0.15904723, 0.16806927, 0.23450543, -0.17853774, 0.07621702, -0.23785762, 0.04705944, 0.07234819, -0.5144091, 0.005939323, 0.1176371, 0.16320857, 0.20046344, -0.31078824, 0.03309101, -0.030747632, 0.261122, -0.040257245, 0.33917275, 0.008225234, -0.21099372, -0.19426729, -0.17069323, -0.1522077, 0.066140614, -0.2930247, -0.16281907, -0.21634799, 0.050712116, 0.36889896, 0.210998, -0.28517646, 0.04653245, 0.101085044, 0.17541899, 0.2714978, -0.02460046, 0.13682239, -0.07306933, 0.1662985, 0.33900672, -0.022616236, -0.12385289, 0.08320009, -0.6044519, -0.30993283, 0.21716231, -0.29389492, 0.16422023, -0.253794, 0.059631497, 0.0020763832, 0.30152464, -0.13549949, -0.074332155, -0.21543205, 0.086262144, 0.08691746, -0.27768353, 0.20129631, -0.2511051, 0.100580245, 0.20634237, -0.049445085, -0.030262988, -0.07400849, -0.2162252, -0.06387962, -0.3289665, -0.50731266, -0.18882515, 0.0753875, -0.36687744, -0.12156573, 0.017601077, -0.0004210054, 0.0061057555, 0.0038017756, -0.291648, 0.09753012, 0.030996734, 0.15973966, -0.16489506, -0.043514356, 0.698703, 0.054011714, -0.016611706, 0.069362804, 0.029853463, -0.17610972, -0.4302865, 0.2358562, 0.5384829, -0.30086926, ...]</td>\n",
       "      <td><div class=\"pxt_document\" style=\"width:320px;\">\n",
       "            <a href=\"http://127.0.0.1:58648/Users/orm/.pixeltable/file_cache/34dd779efea04a9f8c4a6505b1ca3595_0_3c5b8031c7610e17a42ab6df79e614c2ee1a85dbd022497373d574cf65e15c51\">\n",
       "                /Users/orm/.pixeltable/file_cache/34dd779efea04a9f8c4a6505b1ca3595_0_3c5b8031c7610e17a42ab6df79e614c2ee1a85dbd022497373d574cf65e15c51\n",
       "            </a>\n",
       "        </div></td>\n",
       "    </tr>\n",
       "    <tr>\n",
       "      <td>8</td>\n",
       "      <td>Marc Chagall was born Moishe Shagal in 1887, into a Jewish family in Liozna , [1] near the city of Vitebsk , Belarus, then part of the Russian Empire . [c] [18] At the time of his birth, Vitebsk's population was about 66,000. Half of the population was Jewish. [16] A picturesque city of churches and synagogues, it was called \"Russian Toledo \" by artist Ilya Repin , after the cosmopolitan city of the former Spanish Empire . [19] Because the city was built mostly of wood, little of it survived years of occupation and destruction during World War II.</td>\n",
       "      <td>Marc Chagall - Wikipedia</td>\n",
       "      <td>{'1': 'Marc Chagall', '2': 'Early life and education[edit]', '3': 'Early life[edit]'}</td>\n",
       "      <td>1038</td>\n",
       "      <td>[0.12289612, 0.1977109, -0.49609962, 0.1543681, -0.3683884, 0.07807954, 0.3530501, -0.059554365, 0.1704166, -0.099932134, -0.12581159, -0.14822458, 0.19600679, -0.04903756, -0.22496164, -0.11782658, -0.029684046, -0.1513589, -0.076080665, -0.13164538, -0.15614824, -0.1281365, 0.26295257, -0.05009394, 0.5081692, -0.37993735, 0.21430777, 0.017430516, -0.11382136, -0.0031903274, 0.13804048, 0.04282832, 0.10256403, -0.037603617, 0.059482053, 0.017253272, 0.10230851, -0.1745731, -0.081567764, -0.03025414, 0.009354115, 0.3099227, -0.18747082, 0.15136026, -0.07682169, 0.07280417, 0.039466508, 0.16246983, -0.046938345, -0.05776772, -0.28829092, -0.07179848, 0.11064632, 0.08096681, 0.3141637, -0.31155926, -0.20154516, -0.03271049, 0.22301683, -0.018219639, 0.008291874, -0.14288111, 0.14590028, 0.14642462, -0.21697524, 0.11366704, 0.04197382, -0.2781006, 0.05985947, -0.14236778, 0.11666659, 0.02317623, -0.1517931, 0.194137, -0.1907406, -0.45537865, -0.10794489, 0.17236887, -0.319219, -0.10242921, 0.15102844, 0.09995356, 0.13968731, 0.23945302, -0.14752804, 0.088864, -0.28502023, 0.08256012, 0.021981189, 0.10126795, 0.4183139, 0.18025152, 0.14450523, -0.15728235, -0.08622716, -0.16223419, -0.16473389, 0.16730462, 0.02451137, -0.30024886, ...]</td>\n",
       "      <td><div class=\"pxt_document\" style=\"width:320px;\">\n",
       "            <a href=\"http://127.0.0.1:58648/Users/orm/.pixeltable/file_cache/34dd779efea04a9f8c4a6505b1ca3595_0_3c5b8031c7610e17a42ab6df79e614c2ee1a85dbd022497373d574cf65e15c51\">\n",
       "                /Users/orm/.pixeltable/file_cache/34dd779efea04a9f8c4a6505b1ca3595_0_3c5b8031c7610e17a42ab6df79e614c2ee1a85dbd022497373d574cf65e15c51\n",
       "            </a>\n",
       "        </div></td>\n",
       "    </tr>\n",
       "    <tr>\n",
       "      <td>9</td>\n",
       "      <td>Chagall was the eldest of nine children. The family name, Shagal, is a variant of the name Segal , which in a Jewish community was usually borne by a Levitic family. [20] His father, Khatskl (Zachar) Shagal, was employed by a herring merchant, and his mother, Feige-Ite, sold groceries from their home. His father worked hard, carrying heavy barrels, earning 20 roubles each month (the average wages across the Russian Empire was 13 roubles a month). Chagall wrote of those early years:</td>\n",
       "      <td>Marc Chagall - Wikipedia</td>\n",
       "      <td>{'1': 'Marc Chagall', '2': 'Early life and education[edit]', '3': 'Early life[edit]'}</td>\n",
       "      <td>1039</td>\n",
       "      <td>[-0.19016077, 0.26621002, -0.40008062, 0.12919338, -0.49314585, 0.062543355, 0.4524839, -0.1977007, 0.35659608, -0.39628688, 0.07525154, -0.03459463, 0.10077569, -5.7026013e-05, -0.04313891, 0.2171885, -0.18270242, 0.023722425, -0.08137792, -0.21935266, 0.2364391, -0.1853012, 0.19012831, -0.13759927, 0.29683107, -0.0026682205, 0.25923353, -0.045603503, 0.07434834, -0.15570934, -0.057429634, 0.02490562, 0.15878381, -0.065306455, 0.067106016, 0.13660581, 0.13979793, -0.26153925, 0.15460366, 0.17037597, 0.31496704, 0.18973106, 0.053521205, -0.043894984, -0.42555627, 0.0038221285, 0.18964641, -0.10599316, -0.019261774, 0.14236806, -0.77524936, -0.11940778, 0.3259698, -0.13587342, 0.4652508, -0.28711104, 0.0886177, -0.16499332, 0.15993866, -0.25447276, -0.45596838, -0.2072017, 0.07966242, -0.010653508, -0.04557161, -0.19634885, -0.24372217, -0.34079146, 0.14983986, 0.025766565, -0.12969418, 0.14368066, 0.07250716, 0.29788023, -0.46605867, -0.3884826, -0.16261539, 0.14219211, -0.34438905, -0.11124551, -0.31215024, -0.19792818, 0.09765517, 0.26211587, -0.18964133, 0.18680166, -0.15452732, 0.0019692956, -0.0585146, 0.16725044, 0.2820385, 0.1375038, 0.23745137, -0.045294654, 0.075897984, -0.05800112, 0.08730703, 0.021642057, -0.22950399, -0.06303495, ...]</td>\n",
       "      <td><div class=\"pxt_document\" style=\"width:320px;\">\n",
       "            <a href=\"http://127.0.0.1:58648/Users/orm/.pixeltable/file_cache/34dd779efea04a9f8c4a6505b1ca3595_0_3c5b8031c7610e17a42ab6df79e614c2ee1a85dbd022497373d574cf65e15c51\">\n",
       "                /Users/orm/.pixeltable/file_cache/34dd779efea04a9f8c4a6505b1ca3595_0_3c5b8031c7610e17a42ab6df79e614c2ee1a85dbd022497373d574cf65e15c51\n",
       "            </a>\n",
       "        </div></td>\n",
       "    </tr>\n",
       "  </tbody>\n",
       "</table>"
      ],
      "text/plain": [
       "   pos                                               text  \\\n",
       "0    0  Marc Chagall - Wikipedia Jump to content Searc...   \n",
       "1    1  Marc Chagall 81 languages Afrikaans Alemannisc...   \n",
       "2    2  Marc Chagall Chagall, c. 1920 Born Moishe Shag...   \n",
       "3    3  Marc Chagall [a] (born Moishe Shagal ; 6 July ...   \n",
       "4    4  Chagall was born in 1887, into a Jewish family...   \n",
       "5    5  Art critic Robert Hughes referred to Chagall a...   \n",
       "6    6                  Early life and education [ edit ]   \n",
       "7    7  Early life [ edit ] Marc Chagall's childhood h...   \n",
       "8    8  Marc Chagall was born Moishe Shagal in 1887, i...   \n",
       "9    9  Chagall was the eldest of nine children. The f...   \n",
       "\n",
       "                      title  \\\n",
       "0  Marc Chagall - Wikipedia   \n",
       "1  Marc Chagall - Wikipedia   \n",
       "2  Marc Chagall - Wikipedia   \n",
       "3  Marc Chagall - Wikipedia   \n",
       "4  Marc Chagall - Wikipedia   \n",
       "5  Marc Chagall - Wikipedia   \n",
       "6  Marc Chagall - Wikipedia   \n",
       "7  Marc Chagall - Wikipedia   \n",
       "8  Marc Chagall - Wikipedia   \n",
       "9  Marc Chagall - Wikipedia   \n",
       "\n",
       "                                             heading  sourceline  \\\n",
       "0                                                 {}           0   \n",
       "1                              {'1': 'Marc Chagall'}         820   \n",
       "2                              {'1': 'Marc Chagall'}        1015   \n",
       "3                              {'1': 'Marc Chagall'}        1029   \n",
       "4                              {'1': 'Marc Chagall'}        1030   \n",
       "5                              {'1': 'Marc Chagall'}        1031   \n",
       "6  {'1': 'Marc Chagall', '2': 'Early life and edu...        1034   \n",
       "7  {'1': 'Marc Chagall', '2': 'Early life and edu...        1035   \n",
       "8  {'1': 'Marc Chagall', '2': 'Early life and edu...        1038   \n",
       "9  {'1': 'Marc Chagall', '2': 'Early life and edu...        1039   \n",
       "\n",
       "                                        minilm_embed  \\\n",
       "0  [-0.26239732, -0.11875591, -0.1327097, 0.04825...   \n",
       "1  [-0.13631254, 0.4006328, -0.53002965, -0.18143...   \n",
       "2  [0.016423345, 0.3260471, -0.32559133, 0.175488...   \n",
       "3  [0.060708035, 0.15527864, -0.18933795, 0.16767...   \n",
       "4  [0.012889174, 0.24784824, -0.6924429, 0.142611...   \n",
       "5  [-0.17184903, 0.3480283, -0.30670434, 0.033759...   \n",
       "6  [-0.21258698, 0.41762647, 0.094004124, 0.13499...   \n",
       "7  [-0.0404035, 0.14281149, -0.35680765, 0.411817...   \n",
       "8  [0.12289612, 0.1977109, -0.49609962, 0.1543681...   \n",
       "9  [-0.19016077, 0.26621002, -0.40008062, 0.12919...   \n",
       "\n",
       "                                          source_doc  \n",
       "0  /Users/orm/.pixeltable/file_cache/34dd779efea0...  \n",
       "1  /Users/orm/.pixeltable/file_cache/34dd779efea0...  \n",
       "2  /Users/orm/.pixeltable/file_cache/34dd779efea0...  \n",
       "3  /Users/orm/.pixeltable/file_cache/34dd779efea0...  \n",
       "4  /Users/orm/.pixeltable/file_cache/34dd779efea0...  \n",
       "5  /Users/orm/.pixeltable/file_cache/34dd779efea0...  \n",
       "6  /Users/orm/.pixeltable/file_cache/34dd779efea0...  \n",
       "7  /Users/orm/.pixeltable/file_cache/34dd779efea0...  \n",
       "8  /Users/orm/.pixeltable/file_cache/34dd779efea0...  \n",
       "9  /Users/orm/.pixeltable/file_cache/34dd779efea0...  "
      ]
     },
     "execution_count": 19,
     "metadata": {},
     "output_type": "execute_result"
    }
   ],
   "source": [
    "chunks.head()"
   ]
  },
  {
   "cell_type": "markdown",
   "id": "258f0b29-aa1b-4292-8eb0-9dd3cd89d53b",
   "metadata": {},
   "source": [
    "Similarly, we might want to add a CLIP embedding to our workflow; once again, it's just another computed column:"
   ]
  },
  {
   "cell_type": "code",
   "execution_count": 20,
   "id": "bc4811c4",
   "metadata": {
    "execution": {
     "iopub.execute_input": "2024-05-25T22:22:04.421862Z",
     "iopub.status.busy": "2024-05-25T22:22:04.421768Z",
     "iopub.status.idle": "2024-05-25T22:22:06.624071Z",
     "shell.execute_reply": "2024-05-25T22:22:06.623765Z"
    }
   },
   "outputs": [
    {
     "name": "stdout",
     "output_type": "stream",
     "text": [
      "\r",
      "Computing cells:   0%|                                                  | 0/481 [00:00<?, ? cells/s]"
     ]
    },
    {
     "name": "stdout",
     "output_type": "stream",
     "text": [
      "\r",
      "Computing cells: 100%|███████████████████████████████████████| 481/481 [00:01<00:00, 274.47 cells/s]"
     ]
    },
    {
     "name": "stdout",
     "output_type": "stream",
     "text": [
      "\n",
      "Added 481 column values with 0 errors.\n"
     ]
    }
   ],
   "source": [
    "from pixeltable.functions.huggingface import clip_text\n",
    "\n",
    "chunks['clip_embed'] = clip_text(chunks.text, model_id='openai/clip-vit-base-patch32')"
   ]
  },
  {
   "cell_type": "code",
   "execution_count": 21,
   "id": "40f446a4",
   "metadata": {
    "execution": {
     "iopub.execute_input": "2024-05-25T22:22:06.625547Z",
     "iopub.status.busy": "2024-05-25T22:22:06.625461Z",
     "iopub.status.idle": "2024-05-25T22:22:06.629720Z",
     "shell.execute_reply": "2024-05-25T22:22:06.629497Z"
    }
   },
   "outputs": [
    {
     "data": {
      "text/html": [
       "<style type=\"text/css\">\n",
       "#T_2570d th {\n",
       "  text-align: center;\n",
       "}\n",
       "#T_2570d_row0_col0, #T_2570d_row0_col1, #T_2570d_row0_col2, #T_2570d_row1_col0, #T_2570d_row1_col1, #T_2570d_row1_col2, #T_2570d_row2_col0, #T_2570d_row2_col1, #T_2570d_row2_col2, #T_2570d_row3_col0, #T_2570d_row3_col1, #T_2570d_row3_col2, #T_2570d_row4_col0, #T_2570d_row4_col1, #T_2570d_row4_col2, #T_2570d_row5_col0, #T_2570d_row5_col1, #T_2570d_row5_col2, #T_2570d_row6_col0, #T_2570d_row6_col1, #T_2570d_row6_col2, #T_2570d_row7_col0, #T_2570d_row7_col1, #T_2570d_row7_col2 {\n",
       "  white-space: pre-wrap;\n",
       "  text-align: left;\n",
       "}\n",
       "</style>\n",
       "<table id=\"T_2570d\">\n",
       "  <thead>\n",
       "    <tr>\n",
       "      <th id=\"T_2570d_level0_col0\" class=\"col_heading level0 col0\" >Column Name</th>\n",
       "      <th id=\"T_2570d_level0_col1\" class=\"col_heading level0 col1\" >Type</th>\n",
       "      <th id=\"T_2570d_level0_col2\" class=\"col_heading level0 col2\" >Computed With</th>\n",
       "    </tr>\n",
       "  </thead>\n",
       "  <tbody>\n",
       "    <tr>\n",
       "      <td id=\"T_2570d_row0_col0\" class=\"data row0 col0\" >pos</td>\n",
       "      <td id=\"T_2570d_row0_col1\" class=\"data row0 col1\" >int</td>\n",
       "      <td id=\"T_2570d_row0_col2\" class=\"data row0 col2\" ></td>\n",
       "    </tr>\n",
       "    <tr>\n",
       "      <td id=\"T_2570d_row1_col0\" class=\"data row1 col0\" >text</td>\n",
       "      <td id=\"T_2570d_row1_col1\" class=\"data row1 col1\" >string</td>\n",
       "      <td id=\"T_2570d_row1_col2\" class=\"data row1 col2\" ></td>\n",
       "    </tr>\n",
       "    <tr>\n",
       "      <td id=\"T_2570d_row2_col0\" class=\"data row2 col0\" >title</td>\n",
       "      <td id=\"T_2570d_row2_col1\" class=\"data row2 col1\" >string</td>\n",
       "      <td id=\"T_2570d_row2_col2\" class=\"data row2 col2\" ></td>\n",
       "    </tr>\n",
       "    <tr>\n",
       "      <td id=\"T_2570d_row3_col0\" class=\"data row3 col0\" >heading</td>\n",
       "      <td id=\"T_2570d_row3_col1\" class=\"data row3 col1\" >json</td>\n",
       "      <td id=\"T_2570d_row3_col2\" class=\"data row3 col2\" ></td>\n",
       "    </tr>\n",
       "    <tr>\n",
       "      <td id=\"T_2570d_row4_col0\" class=\"data row4 col0\" >sourceline</td>\n",
       "      <td id=\"T_2570d_row4_col1\" class=\"data row4 col1\" >int</td>\n",
       "      <td id=\"T_2570d_row4_col2\" class=\"data row4 col2\" ></td>\n",
       "    </tr>\n",
       "    <tr>\n",
       "      <td id=\"T_2570d_row5_col0\" class=\"data row5 col0\" >minilm_embed</td>\n",
       "      <td id=\"T_2570d_row5_col1\" class=\"data row5 col1\" >array((384,), dtype=FLOAT)</td>\n",
       "      <td id=\"T_2570d_row5_col2\" class=\"data row5 col2\" >sentence_transformer(text, model_id='paraphrase-MiniLM-L6-v2')</td>\n",
       "    </tr>\n",
       "    <tr>\n",
       "      <td id=\"T_2570d_row6_col0\" class=\"data row6 col0\" >clip_embed</td>\n",
       "      <td id=\"T_2570d_row6_col1\" class=\"data row6 col1\" >array((512,), dtype=FLOAT)</td>\n",
       "      <td id=\"T_2570d_row6_col2\" class=\"data row6 col2\" >clip_text(text, model_id='openai/clip-vit-base-patch32')</td>\n",
       "    </tr>\n",
       "    <tr>\n",
       "      <td id=\"T_2570d_row7_col0\" class=\"data row7 col0\" >source_doc</td>\n",
       "      <td id=\"T_2570d_row7_col1\" class=\"data row7 col1\" >document</td>\n",
       "      <td id=\"T_2570d_row7_col2\" class=\"data row7 col2\" ></td>\n",
       "    </tr>\n",
       "  </tbody>\n",
       "</table>\n"
      ],
      "text/plain": [
       "view 'chunks'\n",
       "\n",
       " Column Name                       Type                                                  Computed With\n",
       "         pos                        int                                                               \n",
       "        text                     string                                                               \n",
       "       title                     string                                                               \n",
       "     heading                       json                                                               \n",
       "  sourceline                        int                                                               \n",
       "minilm_embed array((384,), dtype=FLOAT) sentence_transformer(text, model_id='paraphrase-MiniLM-L6-v2')\n",
       "  clip_embed array((512,), dtype=FLOAT)       clip_text(text, model_id='openai/clip-vit-base-patch32')\n",
       "  source_doc                   document                                                               "
      ]
     },
     "execution_count": 21,
     "metadata": {},
     "output_type": "execute_result"
    }
   ],
   "source": [
    "chunks"
   ]
  },
  {
   "cell_type": "code",
   "execution_count": 22,
   "id": "695af1d1",
   "metadata": {
    "execution": {
     "iopub.execute_input": "2024-05-25T22:22:06.630923Z",
     "iopub.status.busy": "2024-05-25T22:22:06.630827Z",
     "iopub.status.idle": "2024-05-25T22:22:06.646815Z",
     "shell.execute_reply": "2024-05-25T22:22:06.646573Z"
    },
    "scrolled": true
   },
   "outputs": [
    {
     "data": {
      "text/html": [
       "<table border=\"1\" class=\"dataframe\">\n",
       "  <thead>\n",
       "    <tr style=\"text-align: right;\">\n",
       "      <th>pos</th>\n",
       "      <th>text</th>\n",
       "      <th>title</th>\n",
       "      <th>heading</th>\n",
       "      <th>sourceline</th>\n",
       "      <th>minilm_embed</th>\n",
       "      <th>clip_embed</th>\n",
       "      <th>source_doc</th>\n",
       "    </tr>\n",
       "  </thead>\n",
       "  <tbody>\n",
       "    <tr>\n",
       "      <td>0</td>\n",
       "      <td>Marc Chagall - Wikipedia Jump to content Search Search</td>\n",
       "      <td>Marc Chagall - Wikipedia</td>\n",
       "      <td>{}</td>\n",
       "      <td>0</td>\n",
       "      <td>[-0.26239732, -0.11875591, -0.1327097, 0.048251763, 0.119876005, -0.0060523152, 0.3206637, 0.048359092, 0.29429576, -0.25400952, 0.62501234, 0.17804724, -0.0049088127, 0.26455665, -0.25857225, -0.042355698, 0.36528525, 0.2355129, 0.27595904, -0.37120572, 0.17573284, 0.0029876332, 0.23927855, -0.17485912, 0.19540663, -0.4889194, -0.74182695, -0.30720598, 0.23550892, -0.2615956, 0.5011108, -0.6918159, -0.2546256, -0.19169815, 0.5265673, 0.10684735, -0.35004124, -0.47890806, 0.27644458, 0.26248983, 0.05517806, -0.1461072, -0.2148267, 0.7246924, -0.10529771, 0.51069117, -0.18174122, 0.4592061, 0.367213, 0.5129049, -0.65757203, -0.4469793, -0.2626698, -0.44820145, 0.38971043, -0.16952051, -0.11435013, -0.07236251, 0.2645086, -0.57930374, 0.28047335, 0.09170138, -0.16436054, 0.10646381, -0.14615737, 0.196611, 0.07363939, 0.21059911, 0.17992193, 0.15980816, -0.37105098, 0.2537625, -0.4467156, 0.65733236, -0.38872766, -0.2764635, -0.7946084, -0.088374026, -0.27318338, -0.21008582, 0.570234, -0.343479, 0.15152024, -0.30319422, -0.043730408, -0.3291484, 0.25554976, 0.060874507, 0.23776962, 0.29614982, 0.18648787, -0.3559974, 0.15256234, -0.08413425, -0.48064336, 0.30865648, 0.10970467, 0.11276882, 0.71860456, -0.21019448, ...]</td>\n",
       "      <td>[0.43900874, -0.20442133, -0.37038484, -0.24842021, 0.25256464, 0.10988469, 0.1787996, -0.19681211, -0.21898617, 0.16312215, -0.11581885, 0.10922372, -0.39804918, 0.091451496, 0.102825515, -0.08496888, -0.26351994, 0.21744415, -0.30518508, -0.25689325, 0.39599538, 0.05023126, 0.06975518, 0.024919225, -0.23106056, 0.40560913, 0.05541394, 0.32912296, 0.30847415, -0.5097266, -0.09413501, -0.114752494, 0.060903713, -0.4149294, 0.22001833, -0.18334094, -0.17864174, -0.31954294, 0.2573869, -0.22377014, 0.18910274, 0.026809327, -0.0042928024, 0.40239286, 0.20990919, 0.09746959, -0.13026199, -0.2248049, -0.57115334, -0.083108194, 0.47325364, -0.18007922, 0.1250683, 0.086631335, 0.907816, 0.294417, 0.37376267, 0.0021946859, -0.45549914, 0.31297567, 0.15392748, 0.19201714, 0.40218097, 0.07109234, 0.17547837, -0.15966526, 0.23044449, 0.17929573, -0.06235044, -0.14394829, 0.083964586, -0.19787122, 0.15875803, 0.15464817, -0.12898065, -0.124066375, -0.4527831, 0.09551758, 0.0028747853, 0.6825149, -0.5988115, -0.33829063, -0.3487403, 0.07570097, -0.353639, -0.31604543, -0.14599589, -0.51746255, -0.13107207, 0.020408625, -0.47953776, -0.08089556, -1.0206134, -0.15478405, 0.23600495, 0.29316545, -0.4474535, -0.07385781, -0.11532661, -0.16539533, ...]</td>\n",
       "      <td><div class=\"pxt_document\" style=\"width:320px;\">\n",
       "            <a href=\"http://127.0.0.1:58648/Users/orm/.pixeltable/file_cache/34dd779efea04a9f8c4a6505b1ca3595_0_3c5b8031c7610e17a42ab6df79e614c2ee1a85dbd022497373d574cf65e15c51\">\n",
       "                /Users/orm/.pixeltable/file_cache/34dd779efea04a9f8c4a6505b1ca3595_0_3c5b8031c7610e17a42ab6df79e614c2ee1a85dbd022497373d574cf65e15c51\n",
       "            </a>\n",
       "        </div></td>\n",
       "    </tr>\n",
       "    <tr>\n",
       "      <td>1</td>\n",
       "      <td>Marc Chagall 81 languages Afrikaans Alemannisch العربية Aragonés Արեւմտահայերէն Asturianu Azərbaycanca বাংলা Башҡортса Беларуская Беларуская (тарашкевіца) Български Català Čeština Cymraeg Dansk Deutsch Eesti Ελληνικά Español Esperanto Euskara فارسی Français Galego 한국어 Հայերեն हिन्दी Hrvatski Ido Bahasa Indonesia Interlingua Italiano עברית Jawa ქართული Kiswahili Latina Latviešu Lëtzebuergesch Lietuvių Magyar Македонски Malagasy مصرى Nederlands Nedersaksies 日本語 Norsk bokmål Norsk nynorsk Occitan Oʻzbekcha / ўзбекча پنجابی Picard Piemontèis Plattdüütsch Polski Português Română Runa Simi Русский Scots Shqip Sicilianu Simple English Slovenčina Slovenščina کوردی Српски / srpski Srpskohrvatski / српскохрватски Suomi Svenska ไทย Türkçe Українська Tiếng Việt Winaray 吴语 ייִדיש 粵語 中文 Edit links From Wikipedia, the free encyclopedia Russian-French artist (1887–1985) \"Chagall\" redirects here. For other uses, see Chagall (disambiguation) .</td>\n",
       "      <td>Marc Chagall - Wikipedia</td>\n",
       "      <td>{'1': 'Marc Chagall'}</td>\n",
       "      <td>820</td>\n",
       "      <td>[-0.13631254, 0.4006328, -0.53002965, -0.18143162, -0.45317018, -0.12492235, 0.7796179, -0.24712478, 0.12325853, -0.22153583, 0.2845529, -0.4370275, 0.2315685, 0.14490248, -0.1085123, -0.28869784, 0.21817628, 0.7690573, -0.3198972, -0.44312775, 0.059898265, -0.08027313, 0.12561788, 0.20749891, -0.047795247, 0.24811827, 0.31219923, -0.08558017, -0.22011806, 0.35220212, 0.58977973, 0.078810096, 0.19522712, -0.14123645, 0.35313034, 0.24841914, -0.13180918, 0.2722456, 0.28210616, 0.13397667, 0.10607717, -0.09232131, 0.09185549, 0.18311335, 0.124486126, -0.050988954, -0.17604427, 0.015647132, -0.052447487, -0.24283406, -0.42616764, -0.45576853, -0.35507983, -0.43146545, 0.30693337, -0.94204426, -0.15023255, 0.7332699, 0.0008645663, -0.36632675, -0.5619298, 0.21601516, -0.6227498, 0.43365526, -0.28584415, -0.33551338, -0.04429045, 0.34400985, -0.20072128, 0.051950324, -0.1412438, -0.12208984, 0.17209938, 0.24971372, -0.114884295, -0.36850506, 0.25038427, 0.22488219, -0.23860508, 0.014345452, 0.13038509, -0.005723659, -0.03041903, -0.29217678, 0.23628002, -0.07539819, -0.011316, -0.09114751, 0.6540444, -0.94689786, 0.5174335, 0.29965198, 0.23870113, -0.069477096, 0.5011024, -0.0839444, 0.15647289, -0.33553213, 0.086335406, -0.11068058, ...]</td>\n",
       "      <td>[0.10576786, 0.006254318, -0.15221627, 0.04325815, 0.2833634, -0.017217014, 0.048431803, 0.18082319, -0.38419798, 0.19428828, -0.39347005, 0.17033984, -0.29696226, 0.00937879, -0.07561171, 0.09139142, -0.21508361, -0.002943615, -0.23163794, -0.2664362, 0.43764395, -0.09557644, 0.049560335, 0.10321086, -0.444029, 0.0888037, 0.31638604, 0.24560808, 0.31070623, -0.49791464, -0.1007289, -0.3882161, -0.109926835, -0.4855158, 0.018071942, -0.23383619, -0.12965907, -0.24974622, 0.38025245, 0.019615643, 0.16431798, -0.005382711, 0.05113524, 0.28567964, 0.07000262, 0.03818007, 0.035019893, -0.11470996, -0.4450423, -0.056286402, 0.5971692, -0.09969435, -0.02341275, 0.03231832, 0.67035115, 0.15605323, 0.43111214, -0.08197321, -0.27741283, -0.10294503, 0.168211, 0.33112246, 0.18491659, 0.28806263, -0.140981, -0.031310186, 0.33622837, 0.06441252, 0.015533691, -0.004683582, 0.09588127, 0.03722097, 0.10615999, 0.10976228, -0.39696792, -0.3427749, -0.27425358, 0.08473393, -0.04741863, 0.6563588, -0.75865734, -0.12130371, -0.36402068, -0.38133082, -0.3997971, -0.64593697, -0.0860318, -0.22102836, -0.1032634, -0.057846192, -0.032790672, 0.15000412, -0.9866642, -0.15627573, 0.30921713, 0.5299872, -0.45030722, 0.087648794, 0.018437576, -0.012726567, ...]</td>\n",
       "      <td><div class=\"pxt_document\" style=\"width:320px;\">\n",
       "            <a href=\"http://127.0.0.1:58648/Users/orm/.pixeltable/file_cache/34dd779efea04a9f8c4a6505b1ca3595_0_3c5b8031c7610e17a42ab6df79e614c2ee1a85dbd022497373d574cf65e15c51\">\n",
       "                /Users/orm/.pixeltable/file_cache/34dd779efea04a9f8c4a6505b1ca3595_0_3c5b8031c7610e17a42ab6df79e614c2ee1a85dbd022497373d574cf65e15c51\n",
       "            </a>\n",
       "        </div></td>\n",
       "    </tr>\n",
       "    <tr>\n",
       "      <td>2</td>\n",
       "      <td>Marc Chagall Chagall, c. 1920 Born Moishe Shagal ( 1887-07-06 ) 6 July 1887 (N.S.) Liozna , Vitebsk Governorate , Russian Empire (now Belarus) [1] Died 28 March 1985 (1985-03-28) (aged 97) Saint-Paul-de-Vence , France Nationality (legal) Russian, later French [2] Known for Painting stained glass Notable work See list of artworks by Marc Chagall Movement Cubism Expressionism School of Paris Spouses Bella Rosenfeld ​ ​ ( m. 1915; died 1944) ​ Valentina (Vava) Brodsky ​ ​ ( m. 1952) ​ [3] Children 2 [4]</td>\n",
       "      <td>Marc Chagall - Wikipedia</td>\n",
       "      <td>{'1': 'Marc Chagall'}</td>\n",
       "      <td>1015</td>\n",
       "      <td>[0.016423345, 0.3260471, -0.32559133, 0.17548874, -0.11227007, 0.42083314, 0.31912604, -0.093757965, 0.10363078, -0.2513861, -0.31695336, -0.00797247, 0.19112656, 0.04687702, -0.22143048, 0.21226852, -0.0014498234, 0.015135364, 0.05909173, -0.04501134, 0.18712749, 0.025107566, 0.12048915, 0.043447517, 0.19589916, -0.29240823, -0.056350805, -0.20459962, 0.010940395, 0.0042984625, 0.15800866, 0.0011073127, -0.33152056, 0.19035816, 0.06652364, -0.0419053, -0.24648198, -0.016879573, 0.13765833, 0.27679026, 0.07269068, 0.16871119, -0.16303802, 0.074207194, 0.21334225, -0.041831627, 0.2733978, 0.056097288, -0.14027601, 0.1096323, -0.41540742, -0.26369876, 0.14651904, -0.24260817, 0.18506075, -0.45687962, -0.09110221, -0.04181574, 0.09889838, -0.23749281, -0.13145898, -0.09306832, -0.12145932, -0.017310424, -0.2820541, 0.13026169, 0.073336765, -0.15457141, 0.29600057, -0.100084685, 0.22818252, 0.004132746, -0.28860497, 0.03525365, -0.25121364, -0.1309707, -0.11360861, 0.088135384, -0.40955418, -0.29876286, 0.17228752, 0.039190907, 0.2045032, 0.30850697, 0.12591475, 0.040452853, -0.07205826, 0.14395201, 0.0033970978, -0.0037041586, 0.18989766, 0.32151735, -0.011084309, 0.033990867, 0.14902866, 0.1288926, 0.12314282, 0.13965552, 0.14047459, -0.18733303, ...]</td>\n",
       "      <td>[0.30112246, -0.2156775, -0.18620926, -0.097714245, 0.27349445, 0.15388454, 0.10835067, 0.48285732, -0.028905753, 0.10257562, -0.24442045, 0.10036859, -0.112576604, -0.03324712, -0.04672969, -0.12508349, 0.0331005, -0.12861526, -0.391206, -0.29264662, 0.4809355, 0.20298253, -0.24013849, 0.08975817, -0.008845232, -0.033221383, 0.04486422, 0.30186352, 0.38389337, -0.68360925, -0.17460674, -0.100917704, -0.047647715, -0.39354622, -0.05361437, -0.41126317, -0.21097833, -0.42032665, 0.70855486, -0.034173068, 0.10004054, 0.04333895, -0.016356913, 0.3516917, 0.29917097, 0.08771603, -0.21276085, -0.0054448475, -0.66255015, 0.0054534143, 0.36224732, -0.055883292, -0.14412412, -0.114647664, 0.8230194, 0.16299799, 0.49727646, -0.1627736, -0.20177284, 0.03170457, 0.21911417, 0.20055088, 0.28127983, 0.47658452, -0.005874767, 0.09306575, 0.1251229, 0.10183082, 0.049821433, 0.13005161, 0.12684411, -0.14724024, 0.13363618, 0.023525115, -0.21775804, -0.0928079, -0.28592396, 0.18538056, -0.13984609, 0.5198545, -0.7172308, -0.1592574, -0.69605446, -0.17635372, -0.58166426, -0.43333992, -0.11624473, -0.37945676, -0.115529805, 0.1645295, -0.38990748, 0.07160464, -0.55712944, -0.18772349, 0.33600542, 0.48813498, -0.5591385, 0.030640345, -0.0975778, -0.17803974, ...]</td>\n",
       "      <td><div class=\"pxt_document\" style=\"width:320px;\">\n",
       "            <a href=\"http://127.0.0.1:58648/Users/orm/.pixeltable/file_cache/34dd779efea04a9f8c4a6505b1ca3595_0_3c5b8031c7610e17a42ab6df79e614c2ee1a85dbd022497373d574cf65e15c51\">\n",
       "                /Users/orm/.pixeltable/file_cache/34dd779efea04a9f8c4a6505b1ca3595_0_3c5b8031c7610e17a42ab6df79e614c2ee1a85dbd022497373d574cf65e15c51\n",
       "            </a>\n",
       "        </div></td>\n",
       "    </tr>\n",
       "    <tr>\n",
       "      <td>3</td>\n",
       "      <td>Marc Chagall [a] (born Moishe Shagal ; 6 July [ O.S. 24 June] 1887 – 28 March 1985) was a Russian-French artist. [b] An early modernist , he was associated with the École de Paris as well as several major artistic styles and created works in a wide range of artistic formats, including painting, drawings, book illustrations, stained glass , stage sets, ceramics, tapestries and fine art prints.</td>\n",
       "      <td>Marc Chagall - Wikipedia</td>\n",
       "      <td>{'1': 'Marc Chagall'}</td>\n",
       "      <td>1029</td>\n",
       "      <td>[0.060708035, 0.15527864, -0.18933795, 0.16767837, -0.08854681, 0.17130667, 0.15085003, -0.043867454, 0.15022105, -0.47134027, -0.28864866, -0.17173253, -0.047001004, 0.026634151, -0.06628928, 0.16065475, 0.118141666, 0.13180228, -0.0040200683, -0.14932014, 0.17918748, 0.21494935, 0.09146323, 0.038962238, 0.038501576, -0.25235462, 0.27075022, -0.25661978, 0.13307261, -0.39810285, 0.21422939, 0.07985357, -0.28083134, -0.009454755, -0.007048412, 0.052204013, -0.21774013, -0.021139672, 0.110311024, 0.26661927, 0.2108482, 0.32182977, -0.09556154, 0.07259306, 0.12131232, -0.104517154, -0.010188514, -0.037562035, -0.2270827, 0.14353335, -0.37686607, -0.17414233, 0.21614805, -0.45889544, 0.07239758, -0.40199208, 0.07049388, 0.02676745, 0.15950087, -0.24915557, -0.09596282, -0.0755193, 0.195818, -0.03572103, -0.1016923, -0.08450511, -0.09172755, -0.07791161, 0.12658155, -0.03965357, 0.027229583, 0.08718763, 0.03742094, -0.03136943, 0.02182637, -0.50100785, -0.18308254, 0.24249065, -0.30463603, -0.1627776, 0.3999881, -0.16028926, 0.03417181, 0.20159687, 0.08487641, 0.06755656, -0.05060122, 0.14891125, -0.025254702, -0.0067674625, 0.12155224, 0.16791321, -0.24602468, 0.080474466, -0.0122392755, 0.09207292, 0.019632956, 0.24711516, 0.1967246, -0.003105058, ...]</td>\n",
       "      <td>[0.31319115, -0.15600297, -0.1403571, -0.061735548, 0.42363074, 0.07034149, 0.2290586, 0.76764846, -0.11780245, 0.113086104, -0.18308355, 0.20165142, -0.21682008, 0.041389234, -0.020286113, -0.09577879, -0.11146526, -0.0048570964, -0.39506894, -0.18178545, 0.41950282, 0.13025181, -0.073377125, 0.017768374, -0.26477274, 0.031201309, 0.04882845, 0.2498605, 0.32550943, -0.6700011, -0.13368733, -0.16846506, -0.11299126, -0.48804122, 0.059935678, -0.28848165, -0.14706036, -0.20621179, 0.64667296, -0.07773676, 0.025871981, 0.11426903, 0.07911683, 0.36857545, 0.25322145, 0.043255925, -0.18690576, 0.0321375, -0.5694606, 0.0041376767, 0.570582, -0.11751359, -0.069068685, -0.16005868, 0.8113274, 0.2946581, 0.54707575, 0.12774919, -0.23945831, 0.12890328, 0.11779747, 0.17128803, 0.19173057, 0.34948987, 0.059351522, -0.0059911236, 0.21449576, 0.17856808, -0.001777339, -0.026938338, 0.20174539, 0.0146913985, 0.15926205, 0.111132585, -0.23153293, -0.12869671, -0.413569, 0.25905922, -0.1265607, 0.5451279, -0.5852856, -0.18912841, -0.5723395, -0.12212755, -0.48440778, -0.5028281, -0.12991248, -0.23104736, -0.2874338, 0.11462435, -0.27056366, 0.023289073, -0.9101882, -0.013463395, 0.33331704, 0.44557503, -0.6020772, 0.09257934, -0.08192398, -0.0752803, ...]</td>\n",
       "      <td><div class=\"pxt_document\" style=\"width:320px;\">\n",
       "            <a href=\"http://127.0.0.1:58648/Users/orm/.pixeltable/file_cache/34dd779efea04a9f8c4a6505b1ca3595_0_3c5b8031c7610e17a42ab6df79e614c2ee1a85dbd022497373d574cf65e15c51\">\n",
       "                /Users/orm/.pixeltable/file_cache/34dd779efea04a9f8c4a6505b1ca3595_0_3c5b8031c7610e17a42ab6df79e614c2ee1a85dbd022497373d574cf65e15c51\n",
       "            </a>\n",
       "        </div></td>\n",
       "    </tr>\n",
       "    <tr>\n",
       "      <td>4</td>\n",
       "      <td>Chagall was born in 1887, into a Jewish family near Vitebsk , today in Belarus , but at that time in the Pale of Settlement of the Russian Empire. Before World War I , he travelled between Saint Petersburg , Paris , and Berlin . During that period, he created his own mixture and style of modern art, based on his ideas of Eastern European and Jewish folklore. He spent the wartime years in his native Belarus, becoming one of the country's most distinguished artists and a member of the modernist avant-garde , founding the Vitebsk Arts College . He later worked in and near Moscow in difficult conditions during hard times in Russia following the Bolshevik Revolution , before leaving again for Paris in 1923. During World War II , he escaped occupied France to the United States, where he lived in New York City for seven years before returning to France in 1948.</td>\n",
       "      <td>Marc Chagall - Wikipedia</td>\n",
       "      <td>{'1': 'Marc Chagall'}</td>\n",
       "      <td>1030</td>\n",
       "      <td>[0.012889174, 0.24784824, -0.6924429, 0.14261195, -0.3790235, 0.25358495, 0.25536227, -0.12604733, 0.11600016, -0.34645444, -0.42178217, 0.019877413, 0.21520871, -0.06495543, -0.15178007, 0.11160536, -0.1597105, 0.06491926, -0.0047338046, -0.3383147, -0.27981138, -0.19120824, 0.31149352, -0.09731055, 0.41788453, -0.3613028, 0.12893897, -0.11600201, -0.041783907, -0.107950926, 0.29499692, -0.1380633, -0.14393339, -0.00805237, 0.016671645, 0.1772139, -0.039549142, -0.101248175, 0.07856567, 0.16309285, 0.18659104, 0.2518267, -0.08688407, 0.08496212, 0.09951486, 0.30495757, 0.17764318, 0.14045668, -0.18228966, 0.042524237, -0.23616268, -0.22173879, 0.12292059, -0.21659333, 0.20440894, -0.26627278, -0.028624993, 0.20077914, 0.17120823, -0.43130225, -0.08327538, -0.2631482, 0.20102105, 0.05320874, -0.23124728, 0.053521, -0.14058791, -0.009598315, 0.25529024, 0.073672146, 0.10801272, 0.21220183, -0.31999528, -0.011201487, -0.10513605, -0.57905316, -0.09553762, 0.0084090335, -0.23266536, -0.08355544, 0.32477874, 0.22916754, 0.07943097, 0.31860444, 0.083672404, 0.026719432, -0.014187926, 0.19423044, 0.05962751, -0.006766697, 0.52944493, -0.03524573, 0.058794506, -0.06393037, 0.008244336, 0.19260898, 0.01611611, 0.35155183, 0.19266358, -0.24429817, ...]</td>\n",
       "      <td>[0.32602388, 0.06719934, -0.061004907, -0.0456133, 0.24230741, 0.22669819, 0.03589073, 0.25091663, -0.106639005, 0.25306085, -0.1936216, 0.105220415, -0.24750978, -0.02287904, -0.010763888, -0.23732501, 0.020199798, 0.05931714, -0.4728335, -0.07102746, 0.41458502, 0.05855834, -0.16911833, 0.03999725, -0.23728712, 0.15409698, 0.16028894, 0.42120266, 0.26914668, -0.823283, 0.020973416, -0.09554994, -0.050507445, -0.4046779, -0.10258125, -0.31561857, -0.14072876, -0.4551575, 0.68523914, 0.01587821, 0.2174838, 0.11716061, 0.08289784, 0.3930934, 0.38873658, -0.071498066, -0.20025063, -0.15203965, -0.79350376, 0.13830747, 0.18156937, -0.12217498, -0.0469015, -0.0042374358, 0.7574846, 0.006198529, 0.362043, 0.101865225, -0.044472735, 0.029974045, 0.15678465, 0.19892278, 0.06683689, 0.5635899, -0.13283883, 0.16568394, 0.1677395, 0.05625743, 0.0010499379, 0.15627424, 0.2749416, -0.1697881, 0.07080804, -0.034207087, -0.037819654, -0.032615297, -0.3532419, -0.01923982, -0.03625852, 0.44368023, -0.5497844, -0.1707899, -0.58789635, -0.143372, -0.56500006, -0.25570717, -0.06714871, -0.23282321, -0.0035441332, 0.25267586, -0.2822094, -0.14999154, -0.75066125, -0.059533846, 0.2379709, 0.3865337, -0.48986152, 0.0012848116, -0.103792496, -0.20454389, ...]</td>\n",
       "      <td><div class=\"pxt_document\" style=\"width:320px;\">\n",
       "            <a href=\"http://127.0.0.1:58648/Users/orm/.pixeltable/file_cache/34dd779efea04a9f8c4a6505b1ca3595_0_3c5b8031c7610e17a42ab6df79e614c2ee1a85dbd022497373d574cf65e15c51\">\n",
       "                /Users/orm/.pixeltable/file_cache/34dd779efea04a9f8c4a6505b1ca3595_0_3c5b8031c7610e17a42ab6df79e614c2ee1a85dbd022497373d574cf65e15c51\n",
       "            </a>\n",
       "        </div></td>\n",
       "    </tr>\n",
       "    <tr>\n",
       "      <td>5</td>\n",
       "      <td>Art critic Robert Hughes referred to Chagall as \"the quintessential Jewish artist of the twentieth century\". According to art historian Michael J. Lewis, Chagall was considered to be \"the last survivor of the first generation of European modernists\". For decades, he \"had also been respected as the world's pre-eminent Jewish artist\". [15] Using the medium of stained glass, he produced windows for the cathedrals of Reims and Metz as well as the Fraumünster in Zürich , windows for the UN and the Art Institute of Chicago and the Jerusalem Windows in Israel. He also did large-scale paintings, including part of the ceiling of the Paris Opéra . He experienced modernism's \"golden age\" in Paris, where \"he synthesized the art forms of Cubism , Symbolism , and Fauvism , and the influence of Fauvism gave rise to Surrealism \". Yet throughout these phases of his style \"he remained most emphatically a Jewish artist, whose work was one long dreamy reverie of life in his native village of Vitebsk.\" [16] \"When Matisse dies\", Pablo Picasso remarked in the 1950s, \"Chagall will be the only painter left who understands what colour really is\". [17]</td>\n",
       "      <td>Marc Chagall - Wikipedia</td>\n",
       "      <td>{'1': 'Marc Chagall'}</td>\n",
       "      <td>1031</td>\n",
       "      <td>[-0.17184903, 0.3480283, -0.30670434, 0.03375928, -0.07120789, 0.11081608, -0.015894294, -0.1335661, -0.03370828, -0.2419455, -0.4445681, 0.059292234, 0.020918146, 0.14204665, -0.24098691, 0.27005807, -0.25892308, 0.045101214, 0.053786278, 0.11298114, -0.08186169, 0.07691848, 0.30562973, -0.12195027, 0.3086164, -0.20567954, 0.19921318, -0.12860526, -0.14399265, -0.060565796, 0.09843996, -0.103407316, -0.2655592, -0.02704632, 0.070481755, 0.07951161, -0.06800349, 0.0012840182, 0.23670605, 0.16051254, 0.0861586, 0.30511197, -0.027098997, -0.17317611, 0.014067189, -0.015782569, 0.123053096, 0.054618157, -0.20789412, 0.11169625, -0.24329379, -0.17174809, 0.31153318, -0.47722533, 0.08077131, -0.31602696, -0.1080764, -0.06080746, -0.12826554, -0.47114912, -0.11467488, -0.38747925, -0.18139105, 0.17687625, -0.033176735, -0.10800503, -0.1130805, -0.19606866, -0.022167346, 0.08167161, 0.0778763, 0.04912969, 0.019410174, 0.077514306, 0.11992865, -0.27325967, -0.07606409, -0.012376133, -0.30934045, -0.055395264, 0.4909275, 0.05449154, 0.13599762, 0.29677787, 0.195668, -0.027227707, -0.10856444, 0.039952166, -0.06816654, 0.14353538, 0.109842226, 0.08890336, 0.1212473, 0.23209861, 0.18221277, 0.22661191, -0.053041577, 0.17716616, -0.0038241148, -0.22502866, ...]</td>\n",
       "      <td>[0.37371916, 0.03151862, -0.31062463, -0.093097046, 0.24152155, 0.26400724, -0.16518652, 0.30133653, -0.08091042, 0.14807665, -0.15886173, 0.1478208, -0.1908923, -0.27328432, 0.027997056, -0.08933257, -0.1336112, -0.011525611, -0.5003737, -0.29616728, 0.43145654, 0.18745933, -0.1974783, 0.17880793, -0.47594613, 0.07138237, 0.3336393, 0.283885, 0.30272946, -0.7221536, -0.13787778, -0.029895985, -0.13562845, -0.40576208, -0.09930529, -0.34826502, -0.279591, -0.43808007, 0.6397611, 0.14684743, 0.2334364, 0.14553753, 0.071684524, 0.5343038, 0.03650404, 0.011418302, -0.14454624, -0.30756316, -0.5589623, 0.1726012, 0.34423193, -0.15806562, -0.060706995, -0.12075632, 0.47494125, -0.09361645, 0.4080602, 0.03153433, -0.051488686, 0.021137737, 0.12258469, 0.36774212, -0.17544591, 0.66220635, 0.050919965, 0.10766161, 0.24184927, 0.20567527, 0.099018194, 0.010522275, 0.26210105, -0.03179162, 0.098482594, 0.1255104, -0.20656334, -0.17304152, -0.37142602, 0.16360305, -0.2765556, 0.50820965, -0.40158263, -0.13790657, -0.31900525, -0.040413737, -0.577424, -0.2768364, -0.0019159673, -0.2257807, -0.17014053, 0.17284091, -0.0052049207, -0.2157922, -0.98140174, 0.037707757, 0.080858864, 0.42327905, -0.50282437, 0.038659703, -0.14375548, -0.16322334, ...]</td>\n",
       "      <td><div class=\"pxt_document\" style=\"width:320px;\">\n",
       "            <a href=\"http://127.0.0.1:58648/Users/orm/.pixeltable/file_cache/34dd779efea04a9f8c4a6505b1ca3595_0_3c5b8031c7610e17a42ab6df79e614c2ee1a85dbd022497373d574cf65e15c51\">\n",
       "                /Users/orm/.pixeltable/file_cache/34dd779efea04a9f8c4a6505b1ca3595_0_3c5b8031c7610e17a42ab6df79e614c2ee1a85dbd022497373d574cf65e15c51\n",
       "            </a>\n",
       "        </div></td>\n",
       "    </tr>\n",
       "    <tr>\n",
       "      <td>6</td>\n",
       "      <td>Early life and education [ edit ]</td>\n",
       "      <td>Marc Chagall - Wikipedia</td>\n",
       "      <td>{'1': 'Marc Chagall', '2': 'Early life and education[edit]'}</td>\n",
       "      <td>1034</td>\n",
       "      <td>[-0.21258698, 0.41762647, 0.094004124, 0.13499935, -0.06885195, 0.26491657, -0.12511124, 0.28833577, 0.045799807, 0.22168955, 0.29161096, -0.31456754, -0.31366932, 0.11542559, 0.08831857, 0.05697426, 0.24027623, -0.25183347, -0.123562574, -0.5461291, -0.09656469, 0.06608663, 0.25659174, -0.05296478, 0.4823797, 0.3273776, 0.08615846, -0.07120525, 0.12762073, 0.4256448, 0.027729776, -0.41478574, 0.5348891, -0.45198333, -0.47164482, 0.3165918, 0.8776634, 0.042705916, -0.25590706, 0.044347025, -0.14535573, 0.28647193, -0.11327096, 0.19460024, 0.050738804, -0.15815681, 0.2512932, -0.22205178, -0.09832464, -0.12678054, -0.56669307, -0.121038385, 0.03459479, -0.35877654, 0.19099648, 0.32248327, -0.06600316, 0.42566484, -0.23869164, 0.06701732, -0.8374609, -0.26572576, -0.009735842, 0.7078459, -0.07748278, 0.27188873, -0.06916775, 0.44513565, 0.19136162, -0.3350215, -0.15556425, -0.27112764, 0.11840285, 0.36182833, -0.33293813, -0.13884011, 0.040201083, 0.33501434, 0.11592451, -0.79345524, 0.21794981, 0.23457973, -0.09650018, 0.2424503, -0.29104403, 0.41454446, -0.48009607, 0.29933113, -0.14576513, -0.29111084, 0.6442536, -0.46670663, -0.48874167, 0.35364056, 0.61178327, 0.20668009, -0.55355793, -0.32985795, -0.13371447, -0.22560576, ...]</td>\n",
       "      <td>[-0.111430824, -0.31773454, 0.043278523, 0.032854725, 0.04152407, -0.5313428, 0.45811027, -0.36068735, 0.054695778, -0.3428508, 0.31704468, -0.19573307, -0.027915748, -0.39266032, -0.026370656, 0.019747406, -0.39865962, -0.07020932, -0.26962268, 0.5109483, 0.3238057, 0.05865144, 0.0977049, -0.0075243306, -0.27222186, 0.41854763, 0.28565288, -0.07448078, -0.2393064, -0.14176716, 0.20248127, -0.009274072, 0.43742958, -0.09010365, -0.5735004, -0.35785255, -0.35996738, 0.043062292, -0.035681088, -0.37566745, -0.04627044, 0.13364826, -0.049247056, -0.14865246, -0.15109651, -0.14720696, 0.3130711, -0.19546007, 0.40953165, -0.0045734183, 0.4358659, -0.17121367, 0.027290953, -0.0052675055, -0.027318535, -0.30503994, 0.033608783, 0.42871866, 0.2412603, -0.084075734, 0.21431604, -0.4253287, -0.28839067, -0.2726965, -0.36684474, -0.38856533, -0.27410987, 0.4462216, -0.12703018, -0.324995, -0.053103786, -0.14677352, 0.047116492, -0.060834527, 0.03622309, -0.17463501, 0.15566136, -0.10230181, -0.11055454, 0.052486304, -0.41645783, 0.06511594, 0.012356396, 1.1083236, -0.1218769, 0.158246, 0.2667745, -0.33876222, 0.29505333, 0.2331846, 0.38895336, -0.49044785, -1.3143334, 0.068582274, 0.12922595, -0.17053917, -0.17255594, 0.51328975, -0.25261515, -0.19256803, ...]</td>\n",
       "      <td><div class=\"pxt_document\" style=\"width:320px;\">\n",
       "            <a href=\"http://127.0.0.1:58648/Users/orm/.pixeltable/file_cache/34dd779efea04a9f8c4a6505b1ca3595_0_3c5b8031c7610e17a42ab6df79e614c2ee1a85dbd022497373d574cf65e15c51\">\n",
       "                /Users/orm/.pixeltable/file_cache/34dd779efea04a9f8c4a6505b1ca3595_0_3c5b8031c7610e17a42ab6df79e614c2ee1a85dbd022497373d574cf65e15c51\n",
       "            </a>\n",
       "        </div></td>\n",
       "    </tr>\n",
       "    <tr>\n",
       "      <td>7</td>\n",
       "      <td>Early life [ edit ] Marc Chagall's childhood home in Vitebsk , Belarus. Currently site of the Marc Chagall Museum . Marc Chagall, 1912, The Spoonful of Milk (La Cuillerée de lait) , gouache on paper</td>\n",
       "      <td>Marc Chagall - Wikipedia</td>\n",
       "      <td>{'1': 'Marc Chagall', '2': 'Early life and education[edit]', '3': 'Early life[edit]'}</td>\n",
       "      <td>1035</td>\n",
       "      <td>[-0.0404035, 0.14281149, -0.35680765, 0.41181737, -0.3306095, 0.20134626, 0.15904723, 0.16806927, 0.23450543, -0.17853774, 0.07621702, -0.23785762, 0.04705944, 0.07234819, -0.5144091, 0.005939323, 0.1176371, 0.16320857, 0.20046344, -0.31078824, 0.03309101, -0.030747632, 0.261122, -0.040257245, 0.33917275, 0.008225234, -0.21099372, -0.19426729, -0.17069323, -0.1522077, 0.066140614, -0.2930247, -0.16281907, -0.21634799, 0.050712116, 0.36889896, 0.210998, -0.28517646, 0.04653245, 0.101085044, 0.17541899, 0.2714978, -0.02460046, 0.13682239, -0.07306933, 0.1662985, 0.33900672, -0.022616236, -0.12385289, 0.08320009, -0.6044519, -0.30993283, 0.21716231, -0.29389492, 0.16422023, -0.253794, 0.059631497, 0.0020763832, 0.30152464, -0.13549949, -0.074332155, -0.21543205, 0.086262144, 0.08691746, -0.27768353, 0.20129631, -0.2511051, 0.100580245, 0.20634237, -0.049445085, -0.030262988, -0.07400849, -0.2162252, -0.06387962, -0.3289665, -0.50731266, -0.18882515, 0.0753875, -0.36687744, -0.12156573, 0.017601077, -0.0004210054, 0.0061057555, 0.0038017756, -0.291648, 0.09753012, 0.030996734, 0.15973966, -0.16489506, -0.043514356, 0.698703, 0.054011714, -0.016611706, 0.069362804, 0.029853463, -0.17610972, -0.4302865, 0.2358562, 0.5384829, -0.30086926, ...]</td>\n",
       "      <td>[-0.21067286, 0.18139021, -0.23682395, 0.15844767, 0.3368066, -0.14441408, 0.11554945, 0.83115137, -0.36302164, -0.1796663, -0.42524233, 0.14120737, -0.10904879, 0.3884527, 0.14302602, -0.33268857, -0.32424158, -0.060191117, -0.23298764, 0.46078724, 0.3490125, 0.13597436, -0.4323114, 0.24163964, 0.07982606, 0.040123668, 0.19880742, -0.030124987, 0.38552326, -0.7492684, -0.13019916, -0.0036396664, 0.112899855, -0.0040488583, -0.6842463, -0.24232884, 0.053719208, -0.2945934, 0.52784264, -0.09898165, -0.14561237, 0.025891848, 0.02271036, 0.13442577, -0.036028422, -0.101103775, 0.20456159, 0.0023504617, -0.20882942, -0.007938717, 0.6606005, 0.10962603, -0.28556174, -0.26774338, 0.64127535, 0.1456033, 0.3547239, 0.07986984, -0.49003693, 0.020767137, -0.16763929, -0.19990864, 0.080942236, -0.12488833, -0.1433924, -0.17905967, 0.06621156, 0.33662787, 0.057264253, 0.39783132, -0.017675566, -0.0054884935, 0.26443058, -0.06275325, -0.026209885, 0.28899926, 0.08764855, -0.0098847365, -0.24725127, 0.30802178, -0.44759658, -0.062987916, -0.66064477, -0.20012982, -0.16598348, -0.30995896, -0.11357899, -0.40124485, 0.023973675, -0.006190451, -0.17440954, 0.015801953, -0.4450694, 0.11005753, 0.61295617, 0.23613614, -0.60851425, 0.16766338, 0.02151145, -0.11083656, ...]</td>\n",
       "      <td><div class=\"pxt_document\" style=\"width:320px;\">\n",
       "            <a href=\"http://127.0.0.1:58648/Users/orm/.pixeltable/file_cache/34dd779efea04a9f8c4a6505b1ca3595_0_3c5b8031c7610e17a42ab6df79e614c2ee1a85dbd022497373d574cf65e15c51\">\n",
       "                /Users/orm/.pixeltable/file_cache/34dd779efea04a9f8c4a6505b1ca3595_0_3c5b8031c7610e17a42ab6df79e614c2ee1a85dbd022497373d574cf65e15c51\n",
       "            </a>\n",
       "        </div></td>\n",
       "    </tr>\n",
       "    <tr>\n",
       "      <td>8</td>\n",
       "      <td>Marc Chagall was born Moishe Shagal in 1887, into a Jewish family in Liozna , [1] near the city of Vitebsk , Belarus, then part of the Russian Empire . [c] [18] At the time of his birth, Vitebsk's population was about 66,000. Half of the population was Jewish. [16] A picturesque city of churches and synagogues, it was called \"Russian Toledo \" by artist Ilya Repin , after the cosmopolitan city of the former Spanish Empire . [19] Because the city was built mostly of wood, little of it survived years of occupation and destruction during World War II.</td>\n",
       "      <td>Marc Chagall - Wikipedia</td>\n",
       "      <td>{'1': 'Marc Chagall', '2': 'Early life and education[edit]', '3': 'Early life[edit]'}</td>\n",
       "      <td>1038</td>\n",
       "      <td>[0.12289612, 0.1977109, -0.49609962, 0.1543681, -0.3683884, 0.07807954, 0.3530501, -0.059554365, 0.1704166, -0.099932134, -0.12581159, -0.14822458, 0.19600679, -0.04903756, -0.22496164, -0.11782658, -0.029684046, -0.1513589, -0.076080665, -0.13164538, -0.15614824, -0.1281365, 0.26295257, -0.05009394, 0.5081692, -0.37993735, 0.21430777, 0.017430516, -0.11382136, -0.0031903274, 0.13804048, 0.04282832, 0.10256403, -0.037603617, 0.059482053, 0.017253272, 0.10230851, -0.1745731, -0.081567764, -0.03025414, 0.009354115, 0.3099227, -0.18747082, 0.15136026, -0.07682169, 0.07280417, 0.039466508, 0.16246983, -0.046938345, -0.05776772, -0.28829092, -0.07179848, 0.11064632, 0.08096681, 0.3141637, -0.31155926, -0.20154516, -0.03271049, 0.22301683, -0.018219639, 0.008291874, -0.14288111, 0.14590028, 0.14642462, -0.21697524, 0.11366704, 0.04197382, -0.2781006, 0.05985947, -0.14236778, 0.11666659, 0.02317623, -0.1517931, 0.194137, -0.1907406, -0.45537865, -0.10794489, 0.17236887, -0.319219, -0.10242921, 0.15102844, 0.09995356, 0.13968731, 0.23945302, -0.14752804, 0.088864, -0.28502023, 0.08256012, 0.021981189, 0.10126795, 0.4183139, 0.18025152, 0.14450523, -0.15728235, -0.08622716, -0.16223419, -0.16473389, 0.16730462, 0.02451137, -0.30024886, ...]</td>\n",
       "      <td>[0.27152565, -0.13698365, -0.2572203, -0.08675931, 0.42969635, 0.17921136, 0.2259651, 0.74167114, -0.19865538, 0.02357358, -0.12882242, 0.11156605, -0.2901746, 0.07495555, -0.018235065, -0.18144402, -0.066047125, -0.08419888, -0.43689948, -0.20866443, 0.3894952, 0.05126712, -0.1143868, -0.1450498, -0.14231104, -0.035829898, 0.17235278, 0.3132749, 0.2383078, -0.8352427, -0.20216477, -0.15945731, -0.21852493, -0.38532218, 0.1051239, -0.2356378, -0.2935425, -0.30828542, 0.56360704, 0.09332982, 0.03198673, 0.065793395, -0.03080675, 0.30396348, 0.23006311, 0.044860486, -0.17087162, 0.16843249, -0.5627937, 0.052566484, 0.55612445, -0.12561281, -0.09115717, -0.15193869, 0.9517319, 0.2665105, 0.47749057, 0.115045145, -0.1911644, 0.16940911, 0.1702492, 0.13633817, 0.32520735, 0.3592644, 0.0103190625, -0.06500061, 0.1926644, 0.22522219, 0.021035964, 0.0723434, 0.23579513, 0.019804856, 0.16501781, 0.1122164, -0.20417708, -0.12707303, -0.3059224, 0.15413418, -0.07973685, 0.6260965, -0.697242, -0.30985478, -0.67288566, -0.18736531, -0.47875562, -0.38787127, -0.13616177, -0.3647512, -0.2553848, 0.08159804, -0.23162082, 0.02140252, -0.93636507, -0.11674585, 0.3255603, 0.42079806, -0.626671, -0.0029218532, -0.11793214, -0.13511091, ...]</td>\n",
       "      <td><div class=\"pxt_document\" style=\"width:320px;\">\n",
       "            <a href=\"http://127.0.0.1:58648/Users/orm/.pixeltable/file_cache/34dd779efea04a9f8c4a6505b1ca3595_0_3c5b8031c7610e17a42ab6df79e614c2ee1a85dbd022497373d574cf65e15c51\">\n",
       "                /Users/orm/.pixeltable/file_cache/34dd779efea04a9f8c4a6505b1ca3595_0_3c5b8031c7610e17a42ab6df79e614c2ee1a85dbd022497373d574cf65e15c51\n",
       "            </a>\n",
       "        </div></td>\n",
       "    </tr>\n",
       "    <tr>\n",
       "      <td>9</td>\n",
       "      <td>Chagall was the eldest of nine children. The family name, Shagal, is a variant of the name Segal , which in a Jewish community was usually borne by a Levitic family. [20] His father, Khatskl (Zachar) Shagal, was employed by a herring merchant, and his mother, Feige-Ite, sold groceries from their home. His father worked hard, carrying heavy barrels, earning 20 roubles each month (the average wages across the Russian Empire was 13 roubles a month). Chagall wrote of those early years:</td>\n",
       "      <td>Marc Chagall - Wikipedia</td>\n",
       "      <td>{'1': 'Marc Chagall', '2': 'Early life and education[edit]', '3': 'Early life[edit]'}</td>\n",
       "      <td>1039</td>\n",
       "      <td>[-0.19016077, 0.26621002, -0.40008062, 0.12919338, -0.49314585, 0.062543355, 0.4524839, -0.1977007, 0.35659608, -0.39628688, 0.07525154, -0.03459463, 0.10077569, -5.7026013e-05, -0.04313891, 0.2171885, -0.18270242, 0.023722425, -0.08137792, -0.21935266, 0.2364391, -0.1853012, 0.19012831, -0.13759927, 0.29683107, -0.0026682205, 0.25923353, -0.045603503, 0.07434834, -0.15570934, -0.057429634, 0.02490562, 0.15878381, -0.065306455, 0.067106016, 0.13660581, 0.13979793, -0.26153925, 0.15460366, 0.17037597, 0.31496704, 0.18973106, 0.053521205, -0.043894984, -0.42555627, 0.0038221285, 0.18964641, -0.10599316, -0.019261774, 0.14236806, -0.77524936, -0.11940778, 0.3259698, -0.13587342, 0.4652508, -0.28711104, 0.0886177, -0.16499332, 0.15993866, -0.25447276, -0.45596838, -0.2072017, 0.07966242, -0.010653508, -0.04557161, -0.19634885, -0.24372217, -0.34079146, 0.14983986, 0.025766565, -0.12969418, 0.14368066, 0.07250716, 0.29788023, -0.46605867, -0.3884826, -0.16261539, 0.14219211, -0.34438905, -0.11124551, -0.31215024, -0.19792818, 0.09765517, 0.26211587, -0.18964133, 0.18680166, -0.15452732, 0.0019692956, -0.0585146, 0.16725044, 0.2820385, 0.1375038, 0.23745137, -0.045294654, 0.075897984, -0.05800112, 0.08730703, 0.021642057, -0.22950399, -0.06303495, ...]</td>\n",
       "      <td>[0.18217626, -0.07319703, -0.19468296, -0.14967537, 0.27654344, 0.24555703, 0.051268335, 0.3458868, -0.066527136, 0.20431583, -0.16331358, 0.26935396, -0.11542385, 0.009640068, 0.060735777, -0.22838122, -0.11435729, -0.0025002847, -0.3808978, -0.29333547, 0.5265535, 0.14625151, -0.32505122, 0.017311625, -0.30031627, 0.19884133, 0.27903596, 0.46846688, 0.39547223, -0.83511823, 0.078348145, -0.059977606, -0.12875241, -0.4370503, -0.14172675, -0.39207482, -0.117757425, -0.43573663, 0.77321553, -0.04266197, 0.19813074, 0.04641959, 0.044522602, 0.24076852, 0.23203525, 0.057000875, -0.2680772, -0.15271626, -0.8536603, 0.18620998, 0.14610332, -0.15371732, -0.12421706, -0.04489522, 0.7183975, -0.009792185, 0.33814546, 0.096963614, -0.1286304, 0.02527868, 0.12703623, 0.2567141, 0.096909285, 0.39807025, -0.17849998, 0.04007674, 0.15242444, 0.2595945, -0.020206496, 0.047548622, 0.33762866, -0.06752805, -0.01814635, -0.011285662, -0.14204797, -0.07502586, -0.37610775, 0.11125761, -0.11869526, 0.44446674, -0.5647877, -0.07456063, -0.5185311, -0.15623204, -0.56246954, -0.32528466, 0.018042155, -0.16166824, -0.06880917, 0.1810037, 0.009668026, -0.29734462, -0.9413165, -0.11885192, 0.19610569, 0.22029534, -0.55619144, -0.15192239, -0.12441878, 0.09338623, ...]</td>\n",
       "      <td><div class=\"pxt_document\" style=\"width:320px;\">\n",
       "            <a href=\"http://127.0.0.1:58648/Users/orm/.pixeltable/file_cache/34dd779efea04a9f8c4a6505b1ca3595_0_3c5b8031c7610e17a42ab6df79e614c2ee1a85dbd022497373d574cf65e15c51\">\n",
       "                /Users/orm/.pixeltable/file_cache/34dd779efea04a9f8c4a6505b1ca3595_0_3c5b8031c7610e17a42ab6df79e614c2ee1a85dbd022497373d574cf65e15c51\n",
       "            </a>\n",
       "        </div></td>\n",
       "    </tr>\n",
       "  </tbody>\n",
       "</table>"
      ],
      "text/plain": [
       "   pos                                               text  \\\n",
       "0    0  Marc Chagall - Wikipedia Jump to content Searc...   \n",
       "1    1  Marc Chagall 81 languages Afrikaans Alemannisc...   \n",
       "2    2  Marc Chagall Chagall, c. 1920 Born Moishe Shag...   \n",
       "3    3  Marc Chagall [a] (born Moishe Shagal ; 6 July ...   \n",
       "4    4  Chagall was born in 1887, into a Jewish family...   \n",
       "5    5  Art critic Robert Hughes referred to Chagall a...   \n",
       "6    6                  Early life and education [ edit ]   \n",
       "7    7  Early life [ edit ] Marc Chagall's childhood h...   \n",
       "8    8  Marc Chagall was born Moishe Shagal in 1887, i...   \n",
       "9    9  Chagall was the eldest of nine children. The f...   \n",
       "\n",
       "                      title  \\\n",
       "0  Marc Chagall - Wikipedia   \n",
       "1  Marc Chagall - Wikipedia   \n",
       "2  Marc Chagall - Wikipedia   \n",
       "3  Marc Chagall - Wikipedia   \n",
       "4  Marc Chagall - Wikipedia   \n",
       "5  Marc Chagall - Wikipedia   \n",
       "6  Marc Chagall - Wikipedia   \n",
       "7  Marc Chagall - Wikipedia   \n",
       "8  Marc Chagall - Wikipedia   \n",
       "9  Marc Chagall - Wikipedia   \n",
       "\n",
       "                                             heading  sourceline  \\\n",
       "0                                                 {}           0   \n",
       "1                              {'1': 'Marc Chagall'}         820   \n",
       "2                              {'1': 'Marc Chagall'}        1015   \n",
       "3                              {'1': 'Marc Chagall'}        1029   \n",
       "4                              {'1': 'Marc Chagall'}        1030   \n",
       "5                              {'1': 'Marc Chagall'}        1031   \n",
       "6  {'1': 'Marc Chagall', '2': 'Early life and edu...        1034   \n",
       "7  {'1': 'Marc Chagall', '2': 'Early life and edu...        1035   \n",
       "8  {'1': 'Marc Chagall', '2': 'Early life and edu...        1038   \n",
       "9  {'1': 'Marc Chagall', '2': 'Early life and edu...        1039   \n",
       "\n",
       "                                        minilm_embed  \\\n",
       "0  [-0.26239732, -0.11875591, -0.1327097, 0.04825...   \n",
       "1  [-0.13631254, 0.4006328, -0.53002965, -0.18143...   \n",
       "2  [0.016423345, 0.3260471, -0.32559133, 0.175488...   \n",
       "3  [0.060708035, 0.15527864, -0.18933795, 0.16767...   \n",
       "4  [0.012889174, 0.24784824, -0.6924429, 0.142611...   \n",
       "5  [-0.17184903, 0.3480283, -0.30670434, 0.033759...   \n",
       "6  [-0.21258698, 0.41762647, 0.094004124, 0.13499...   \n",
       "7  [-0.0404035, 0.14281149, -0.35680765, 0.411817...   \n",
       "8  [0.12289612, 0.1977109, -0.49609962, 0.1543681...   \n",
       "9  [-0.19016077, 0.26621002, -0.40008062, 0.12919...   \n",
       "\n",
       "                                          clip_embed  \\\n",
       "0  [0.43900874, -0.20442133, -0.37038484, -0.2484...   \n",
       "1  [0.10576786, 0.006254318, -0.15221627, 0.04325...   \n",
       "2  [0.30112246, -0.2156775, -0.18620926, -0.09771...   \n",
       "3  [0.31319115, -0.15600297, -0.1403571, -0.06173...   \n",
       "4  [0.32602388, 0.06719934, -0.061004907, -0.0456...   \n",
       "5  [0.37371916, 0.03151862, -0.31062463, -0.09309...   \n",
       "6  [-0.111430824, -0.31773454, 0.043278523, 0.032...   \n",
       "7  [-0.21067286, 0.18139021, -0.23682395, 0.15844...   \n",
       "8  [0.27152565, -0.13698365, -0.2572203, -0.08675...   \n",
       "9  [0.18217626, -0.07319703, -0.19468296, -0.1496...   \n",
       "\n",
       "                                          source_doc  \n",
       "0  /Users/orm/.pixeltable/file_cache/34dd779efea0...  \n",
       "1  /Users/orm/.pixeltable/file_cache/34dd779efea0...  \n",
       "2  /Users/orm/.pixeltable/file_cache/34dd779efea0...  \n",
       "3  /Users/orm/.pixeltable/file_cache/34dd779efea0...  \n",
       "4  /Users/orm/.pixeltable/file_cache/34dd779efea0...  \n",
       "5  /Users/orm/.pixeltable/file_cache/34dd779efea0...  \n",
       "6  /Users/orm/.pixeltable/file_cache/34dd779efea0...  \n",
       "7  /Users/orm/.pixeltable/file_cache/34dd779efea0...  \n",
       "8  /Users/orm/.pixeltable/file_cache/34dd779efea0...  \n",
       "9  /Users/orm/.pixeltable/file_cache/34dd779efea0...  "
      ]
     },
     "execution_count": 22,
     "metadata": {},
     "output_type": "execute_result"
    }
   ],
   "source": [
    "chunks.head()"
   ]
  }
 ],
 "metadata": {
  "kernelspec": {
   "display_name": "Python 3 (ipykernel)",
   "language": "python",
   "name": "python3"
  },
  "language_info": {
   "codemirror_mode": {
    "name": "ipython",
    "version": 3
   },
   "file_extension": ".py",
   "mimetype": "text/x-python",
   "name": "python",
   "nbconvert_exporter": "python",
   "pygments_lexer": "ipython3",
   "version": "3.10.10"
  }
 },
 "nbformat": 4,
 "nbformat_minor": 5
}
