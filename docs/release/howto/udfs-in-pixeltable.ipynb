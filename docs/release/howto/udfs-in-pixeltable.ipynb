{
 "cells": [
  {
   "cell_type": "markdown",
   "id": "96282d95-63c9-4d09-bf43-6dccd5076046",
   "metadata": {},
   "source": [
    "[![Kaggle](https://kaggle.com/static/images/open-in-kaggle.svg)](https://kaggle.com/kernels/welcome?src=https://github.com/pixeltable/pixeltable/blob/master/docs/release/howto/udfs-in-pixeltable.ipynb)&nbsp;&nbsp;\n",
    "[![Colab](https://colab.research.google.com/assets/colab-badge.svg)](https://colab.research.google.com/github/pixeltable/pixeltable/blob/master/docs/release/howto/udfs-in-pixeltable.ipynb)\n",
    "\n",
    "# UDFs in Pixeltable\n",
    "\n",
    "Pixeltable comes with a library of built-in functions and integrations, but sooner or later, you'll want to introduce some customized logic into your workflow. This is where Pixeltable's rich UDF (User-Defined Function) capability comes in. Pixeltable UDFs let you write code in Python, then directly insert your custom logic into Pixeltable expressions and computed columns. In this how-to guide, we'll show how to define UDFs, extend their capabilities, and use them in computed columns.\n",
    "\n",
    "To start, we'll install the necessary dependencies, create a Pixeltable directory and table to experiment with, and add some sample data."
   ]
  },
  {
   "cell_type": "code",
   "execution_count": null,
   "id": "d35cd5f2-365b-43c6-94b2-0f4e308ca2a6",
   "metadata": {},
   "outputs": [],
   "source": [
    "%pip install -q pixeltable"
   ]
  },
  {
   "cell_type": "code",
   "execution_count": 1,
   "id": "638d95c1-7c2f-4f38-a4e7-e7eaf830c881",
   "metadata": {},
   "outputs": [
    {
     "name": "stdout",
     "output_type": "stream",
     "text": [
      "Connected to Pixeltable database at: postgresql://postgres:@/pixeltable?host=/Users/asiegel/.pixeltable/pgdata\n",
      "Created table `strings`.\n",
      "Inserting rows into `strings`: 2 rows [00:00, 617.72 rows/s]\n",
      "Inserted 2 rows with 0 errors.\n"
     ]
    },
    {
     "data": {
      "text/html": [
       "<table border=\"1\" class=\"dataframe\">\n",
       "  <thead>\n",
       "    <tr style=\"text-align: right;\">\n",
       "      <th>input</th>\n",
       "    </tr>\n",
       "  </thead>\n",
       "  <tbody>\n",
       "    <tr>\n",
       "      <td>Hello, world!</td>\n",
       "    </tr>\n",
       "    <tr>\n",
       "      <td>You can do a lot with Pixeltable UDFs.</td>\n",
       "    </tr>\n",
       "  </tbody>\n",
       "</table>"
      ],
      "text/plain": [
       "                                    input\n",
       "0                           Hello, world!\n",
       "1  You can do a lot with Pixeltable UDFs."
      ]
     },
     "execution_count": 1,
     "metadata": {},
     "output_type": "execute_result"
    }
   ],
   "source": [
    "import pixeltable as pxt\n",
    "\n",
    "# Create the directory and table\n",
    "pxt.create_dir('udf_demo', ignore_errors=True)\n",
    "pxt.drop_table('udf_demo.strings', ignore_errors=True)\n",
    "t = pxt.create_table('udf_demo.strings', {'input': pxt.StringType()})\n",
    "\n",
    "# Add some sample data\n",
    "t.insert([{'input': 'Hello, world!'}, {'input': 'You can do a lot with Pixeltable UDFs.'}])\n",
    "t.show()"
   ]
  },
  {
   "cell_type": "markdown",
   "id": "6a6310aa-ade3-4c0e-8e69-1e9b6f7ebf6d",
   "metadata": {},
   "source": [
    "## What is a UDF?\n",
    "\n",
    "A Pixeltable UDF is just a Python function that is marked with the `@pxt.udf` decorator.\n",
    "\n",
    "```python\n",
    "@pxt.udf\n",
    "def add_one(n: int) -> int:\n",
    "    return n + 1\n",
    "```\n",
    "\n",
    "It's as simple as that! Without the decorator, `add_one` would be an ordinary Python function that operates on integers. Adding `@pxt.udf` converts it into a Pixeltable function that operates on _columns_ of integers. The decorated function can then be used directly to define computed columns; Pixeltable will orchestrate its execution across all the input data."
   ]
  },
  {
   "cell_type": "markdown",
   "id": "54640b5d-5192-41ed-be80-82ffd1e140e0",
   "metadata": {},
   "source": [
    "For our first working example, let's do something slightly more interesting: write a function to extract the longest word from a sentence. (If there are ties for the longest word, we choose the first word among those ties.) In Python, that might look something like this:"
   ]
  },
  {
   "cell_type": "code",
   "execution_count": 3,
   "id": "d3ca2d38-4529-4fba-ad67-eb230a4d92d5",
   "metadata": {},
   "outputs": [],
   "source": [
    "import numpy as np\n",
    "\n",
    "def longest_word(sentence: str, strip_punctuation: bool = False) -> str:\n",
    "    words = sentence.split()\n",
    "    if strip_punctuation:  # Remove non-alphanumeric characters from each word\n",
    "        words = [''.join(filter(str.isalnum, word)) for word in words]\n",
    "    i = np.argmax([len(word) for word in words])\n",
    "    return words[i]"
   ]
  },
  {
   "cell_type": "code",
   "execution_count": 5,
   "id": "55629458-ca5f-437d-81bf-5e040e0f886f",
   "metadata": {},
   "outputs": [
    {
     "data": {
      "text/plain": [
       "'check'"
      ]
     },
     "execution_count": 5,
     "metadata": {},
     "output_type": "execute_result"
    }
   ],
   "source": [
    "longest_word(\"Let's check that it works.\", strip_punctuation=True)"
   ]
  },
  {
   "cell_type": "markdown",
   "id": "099e7b23-170c-4e62-81ce-61f1ac841df2",
   "metadata": {},
   "source": [
    "The `longest_word` Python function isn't a Pixeltable UDF (yet); it operates on individual strings, not columns of strings. Adding the decorator turns it into a UDF:"
   ]
  },
  {
   "cell_type": "code",
   "execution_count": 4,
   "id": "0e8bfcf9-9fef-44a6-83cc-b8232198ae18",
   "metadata": {},
   "outputs": [],
   "source": [
    "@pxt.udf\n",
    "def longest_word(sentence: str, strip_punctuation: bool = False) -> str:\n",
    "    words = sentence.split()\n",
    "    if strip_punctuation:  # Remove non-alphanumeric characters from each word\n",
    "        words = [''.join(filter(str.isalnum, word)) for word in words]\n",
    "    i = np.argmax([len(word) for word in words])\n",
    "    return words[i]"
   ]
  },
  {
   "cell_type": "markdown",
   "id": "936c0bb6-9ca6-4b66-873c-0c7cd6664856",
   "metadata": {},
   "source": [
    "Now we can use it to create a computed column. Pixeltable orchestrates the computation like it does with any other function, applying the UDF in turn to each existing row of the table, then updating incrementally each time a new row is added."
   ]
  },
  {
   "cell_type": "code",
   "execution_count": 5,
   "id": "32dd5d6f-eb8a-4db9-b224-238a913ff0c5",
   "metadata": {},
   "outputs": [
    {
     "name": "stdout",
     "output_type": "stream",
     "text": [
      "Computing cells: 100%|███████████████████████████████████████████| 2/2 [00:00<00:00, 289.26 cells/s]\n",
      "Added 2 column values with 0 errors.\n"
     ]
    },
    {
     "data": {
      "text/html": [
       "<table border=\"1\" class=\"dataframe\">\n",
       "  <thead>\n",
       "    <tr style=\"text-align: right;\">\n",
       "      <th>input</th>\n",
       "      <th>longest_word</th>\n",
       "    </tr>\n",
       "  </thead>\n",
       "  <tbody>\n",
       "    <tr>\n",
       "      <td>Hello, world!</td>\n",
       "      <td>Hello,</td>\n",
       "    </tr>\n",
       "    <tr>\n",
       "      <td>You can do a lot with Pixeltable UDFs.</td>\n",
       "      <td>Pixeltable</td>\n",
       "    </tr>\n",
       "  </tbody>\n",
       "</table>"
      ],
      "text/plain": [
       "                                    input longest_word\n",
       "0                           Hello, world!       Hello,\n",
       "1  You can do a lot with Pixeltable UDFs.   Pixeltable"
      ]
     },
     "execution_count": 5,
     "metadata": {},
     "output_type": "execute_result"
    }
   ],
   "source": [
    "t['longest_word'] = longest_word(t.input)\n",
    "t.show()"
   ]
  },
  {
   "cell_type": "code",
   "execution_count": 6,
   "id": "61d81cc5-37ee-4d19-8f68-af9f6f8b7fad",
   "metadata": {},
   "outputs": [
    {
     "name": "stdout",
     "output_type": "stream",
     "text": [
      "Computing cells:   0%|                                                    | 0/1 [00:00<?, ? cells/s]\n",
      "Inserting rows into `strings`: 1 rows [00:00, 379.23 rows/s]\n",
      "Computing cells: 100%|███████████████████████████████████████████| 1/1 [00:00<00:00, 144.47 cells/s]\n",
      "Inserted 1 row with 0 errors.\n"
     ]
    },
    {
     "data": {
      "text/html": [
       "<table border=\"1\" class=\"dataframe\">\n",
       "  <thead>\n",
       "    <tr style=\"text-align: right;\">\n",
       "      <th>input</th>\n",
       "      <th>longest_word</th>\n",
       "    </tr>\n",
       "  </thead>\n",
       "  <tbody>\n",
       "    <tr>\n",
       "      <td>Hello, world!</td>\n",
       "      <td>Hello,</td>\n",
       "    </tr>\n",
       "    <tr>\n",
       "      <td>You can do a lot with Pixeltable UDFs.</td>\n",
       "      <td>Pixeltable</td>\n",
       "    </tr>\n",
       "    <tr>\n",
       "      <td>Pixeltable updates tables incrementally.</td>\n",
       "      <td>incrementally.</td>\n",
       "    </tr>\n",
       "  </tbody>\n",
       "</table>"
      ],
      "text/plain": [
       "                                      input    longest_word\n",
       "0                             Hello, world!          Hello,\n",
       "1    You can do a lot with Pixeltable UDFs.      Pixeltable\n",
       "2  Pixeltable updates tables incrementally.  incrementally."
      ]
     },
     "execution_count": 6,
     "metadata": {},
     "output_type": "execute_result"
    }
   ],
   "source": [
    "t.insert(input='Pixeltable updates tables incrementally.')\n",
    "t.show()"
   ]
  },
  {
   "cell_type": "markdown",
   "id": "7dc596c5-bcea-4df8-94c1-2aea6e0fbfdd",
   "metadata": {},
   "source": [
    "Oops, those trailing punctuation marks are kind of annoying. Let's add another column, this time using the handy `strip_punctuation` parameter from our UDF. (We could alternatively drop the first column before adding the new one, but for purposes of this tutorial it's convenient to see how Pixeltable executes both variants side-by-side.) Note how _columns_ such as `t.input` and _constants_ such as `True` can be freely intermixed as arguments to the UDF."
   ]
  },
  {
   "cell_type": "code",
   "execution_count": 7,
   "id": "847d6416-b430-4fe9-b951-1c2147174c1e",
   "metadata": {},
   "outputs": [
    {
     "name": "stdout",
     "output_type": "stream",
     "text": [
      "Computing cells: 100%|███████████████████████████████████████████| 3/3 [00:00<00:00, 424.52 cells/s]\n",
      "Added 3 column values with 0 errors.\n"
     ]
    },
    {
     "data": {
      "text/html": [
       "<table border=\"1\" class=\"dataframe\">\n",
       "  <thead>\n",
       "    <tr style=\"text-align: right;\">\n",
       "      <th>input</th>\n",
       "      <th>longest_word</th>\n",
       "      <th>longest_word_2</th>\n",
       "    </tr>\n",
       "  </thead>\n",
       "  <tbody>\n",
       "    <tr>\n",
       "      <td>Hello, world!</td>\n",
       "      <td>Hello,</td>\n",
       "      <td>Hello</td>\n",
       "    </tr>\n",
       "    <tr>\n",
       "      <td>You can do a lot with Pixeltable UDFs.</td>\n",
       "      <td>Pixeltable</td>\n",
       "      <td>Pixeltable</td>\n",
       "    </tr>\n",
       "    <tr>\n",
       "      <td>Pixeltable updates tables incrementally.</td>\n",
       "      <td>incrementally.</td>\n",
       "      <td>incrementally</td>\n",
       "    </tr>\n",
       "  </tbody>\n",
       "</table>"
      ],
      "text/plain": [
       "                                      input    longest_word longest_word_2\n",
       "0                             Hello, world!          Hello,          Hello\n",
       "1    You can do a lot with Pixeltable UDFs.      Pixeltable     Pixeltable\n",
       "2  Pixeltable updates tables incrementally.  incrementally.  incrementally"
      ]
     },
     "execution_count": 7,
     "metadata": {},
     "output_type": "execute_result"
    }
   ],
   "source": [
    "t['longest_word_2'] = longest_word(t.input, strip_punctuation=True)\n",
    "t.show()"
   ]
  },
  {
   "cell_type": "markdown",
   "id": "b5811fb4-a9cd-46b3-bcdf-082880bebf65",
   "metadata": {},
   "source": [
    "## Types in UDFs\n",
    "\n",
    "You might have noticed that the `longest_word` UDF has _type hints_ in its signature.\n",
    "\n",
    "```python\n",
    "def longest_word(sentence: str, strip_punctuation: bool = False) -> str: ...\n",
    "```\n",
    "\n",
    "The `sentence` parameter, `strip_punctuation` parameter, and return value all have explicit types (`str`, `bool`, and `str` respectively). In general Python code, type hints are usually optional. But Pixeltable is a database system: _everything_ in Pixeltable must have a type. And since Pixeltable is also an orchestrator - meaning it sets up workflows and computed columns _before_ executing them - these types need to be known in advance. That's the reasoning behind a fundamental principle of Pixeltable UDFs:\n",
    "- Type hints are _required_.\n",
    "\n",
    "You can turn almost any Python function into a Pixeltable UDF, provided that it has type hints, and provided that Pixeltable supports the types that it uses. The most familiar types that you'll use in UDFs are:\n",
    "- `int`\n",
    "- `float`\n",
    "- `str`\n",
    "- `list` (can optionally be parameterized, e.g., `list[str]`)\n",
    "- `dict` (can optionally be parameterized, e.g., `dict[str, int]`)\n",
    "- `PIL.Image.Image`\n",
    "\n",
    "In addition to these standard Python types, Pixeltable also recognizes various kinds of arrays, audio and video media, and documents. For a full discussion of Pixeltable types, see the [Pixeltable Type System](TODO) howto guide."
   ]
  },
  {
   "cell_type": "markdown",
   "id": "2527b31d-ce08-4a09-adee-3c0f3a6621e5",
   "metadata": {},
   "source": [
    "## Local and Module UDFs\n",
    "\n",
    "The `longest_word` UDF that we defined above is a _local_ UDF: it was defined directly in our notebook, rather than in a module that we imported. Many other UDFs, including all of Pixeltable's built-in functions, are defined in modules. We encountered a few of these in the Pixeltable Basics tutorial: the `huggingface.detr_for_object_detection` and `openai.vision` functions. (Although these are built-in functions, they behave the same way as UDFs, and in fact they're defined the same way under the covers.)\n",
    "\n",
    "There is an important difference between the two. When you add a module UDF such as `openai.vision` to a table, Pixeltable stores a _reference_ to the corresponding Python function in the module. If you later restart your Python runtime and reload Pixeltable, then Pixeltable will re-import the module UDF when it loads the computed column. This means that any code changes made to the UDF will be picked up at that time, and the new version of the UDF will be used in any future execution.\n",
    "\n",
    "Conversely, when you add a local UDF to a table, the _entire code_ for the UDF is serialized and stored in the table. This ensures that if you restart your notebook kernel (say), or even delete the notebook entirely, the UDF will continue to function. However, it also means that if you modify the UDF code, the updated logic will not be reflected in any existing Pixeltable columns.\n",
    "\n",
    "To see how this works in practice, let's modify our `longest_word` UDF so that if `strip_punctuation` is `True`, then we remove only a single punctuation mark from the _end_ of each word."
   ]
  },
  {
   "cell_type": "code",
   "execution_count": 8,
   "id": "fdb64049-12c3-4cd6-a6e0-a798aa46670a",
   "metadata": {},
   "outputs": [],
   "source": [
    "@pxt.udf\n",
    "def longest_word(sentence: str, strip_punctuation: bool = False) -> str:\n",
    "    words = sentence.split()\n",
    "    if strip_punctuation:\n",
    "        words = [\n",
    "            word if word[-1].isalnum() else word[:-1]\n",
    "            for word in words\n",
    "        ]\n",
    "    i = np.argmax([len(word) for word in words])\n",
    "    return words[i]"
   ]
  },
  {
   "cell_type": "markdown",
   "id": "3d67ba18-7ed7-4add-9980-831a7a889253",
   "metadata": {},
   "source": [
    "Now we see that Pixeltable continues to use the _old_ definition, even as new rows are added to the table."
   ]
  },
  {
   "cell_type": "code",
   "execution_count": 9,
   "id": "52a8cb29-9d81-4fd1-b3ba-8eb86370821a",
   "metadata": {},
   "outputs": [
    {
     "name": "stdout",
     "output_type": "stream",
     "text": [
      "Computing cells:   0%|                                                    | 0/2 [00:00<?, ? cells/s]\n",
      "Inserting rows into `strings`: 1 rows [00:00, 364.69 rows/s]\n",
      "Computing cells: 100%|███████████████████████████████████████████| 2/2 [00:00<00:00, 316.30 cells/s]\n",
      "Inserted 1 row with 0 errors.\n"
     ]
    },
    {
     "data": {
      "text/html": [
       "<table border=\"1\" class=\"dataframe\">\n",
       "  <thead>\n",
       "    <tr style=\"text-align: right;\">\n",
       "      <th>input</th>\n",
       "      <th>longest_word</th>\n",
       "      <th>longest_word_2</th>\n",
       "    </tr>\n",
       "  </thead>\n",
       "  <tbody>\n",
       "    <tr>\n",
       "      <td>Hello, world!</td>\n",
       "      <td>Hello,</td>\n",
       "      <td>Hello</td>\n",
       "    </tr>\n",
       "    <tr>\n",
       "      <td>You can do a lot with Pixeltable UDFs.</td>\n",
       "      <td>Pixeltable</td>\n",
       "      <td>Pixeltable</td>\n",
       "    </tr>\n",
       "    <tr>\n",
       "      <td>Pixeltable updates tables incrementally.</td>\n",
       "      <td>incrementally.</td>\n",
       "      <td>incrementally</td>\n",
       "    </tr>\n",
       "    <tr>\n",
       "      <td>Let's check that it still works.</td>\n",
       "      <td>works.</td>\n",
       "      <td>check</td>\n",
       "    </tr>\n",
       "  </tbody>\n",
       "</table>"
      ],
      "text/plain": [
       "                                      input    longest_word longest_word_2\n",
       "0                             Hello, world!          Hello,          Hello\n",
       "1    You can do a lot with Pixeltable UDFs.      Pixeltable     Pixeltable\n",
       "2  Pixeltable updates tables incrementally.  incrementally.  incrementally\n",
       "3          Let's check that it still works.          works.          check"
      ]
     },
     "execution_count": 9,
     "metadata": {},
     "output_type": "execute_result"
    }
   ],
   "source": [
    "t.insert(input=\"Let's check that it still works.\")\n",
    "t.show()"
   ]
  },
  {
   "cell_type": "markdown",
   "id": "b64c40f1-b7f0-416c-ac15-57f624d7dabb",
   "metadata": {},
   "source": [
    "But if we add a new _column_ that references the `longest_word` UDF, Pixeltable will use the updated version."
   ]
  },
  {
   "cell_type": "code",
   "execution_count": 10,
   "id": "b62c1601-ca63-475e-ab2b-76edaac37ce0",
   "metadata": {},
   "outputs": [
    {
     "name": "stdout",
     "output_type": "stream",
     "text": [
      "Computing cells: 100%|███████████████████████████████████████████| 4/4 [00:00<00:00, 444.98 cells/s]\n",
      "Added 4 column values with 0 errors.\n"
     ]
    },
    {
     "data": {
      "text/html": [
       "<table border=\"1\" class=\"dataframe\">\n",
       "  <thead>\n",
       "    <tr style=\"text-align: right;\">\n",
       "      <th>input</th>\n",
       "      <th>longest_word</th>\n",
       "      <th>longest_word_2</th>\n",
       "      <th>longest_word_3</th>\n",
       "    </tr>\n",
       "  </thead>\n",
       "  <tbody>\n",
       "    <tr>\n",
       "      <td>Hello, world!</td>\n",
       "      <td>Hello,</td>\n",
       "      <td>Hello</td>\n",
       "      <td>Hello</td>\n",
       "    </tr>\n",
       "    <tr>\n",
       "      <td>You can do a lot with Pixeltable UDFs.</td>\n",
       "      <td>Pixeltable</td>\n",
       "      <td>Pixeltable</td>\n",
       "      <td>Pixeltable</td>\n",
       "    </tr>\n",
       "    <tr>\n",
       "      <td>Pixeltable updates tables incrementally.</td>\n",
       "      <td>incrementally.</td>\n",
       "      <td>incrementally</td>\n",
       "      <td>incrementally</td>\n",
       "    </tr>\n",
       "    <tr>\n",
       "      <td>Let's check that it still works.</td>\n",
       "      <td>works.</td>\n",
       "      <td>check</td>\n",
       "      <td>Let's</td>\n",
       "    </tr>\n",
       "  </tbody>\n",
       "</table>"
      ],
      "text/plain": [
       "                                      input    longest_word longest_word_2  \\\n",
       "0                             Hello, world!          Hello,          Hello   \n",
       "1    You can do a lot with Pixeltable UDFs.      Pixeltable     Pixeltable   \n",
       "2  Pixeltable updates tables incrementally.  incrementally.  incrementally   \n",
       "3          Let's check that it still works.          works.          check   \n",
       "\n",
       "  longest_word_3  \n",
       "0          Hello  \n",
       "1     Pixeltable  \n",
       "2  incrementally  \n",
       "3          Let's  "
      ]
     },
     "execution_count": 10,
     "metadata": {},
     "output_type": "execute_result"
    }
   ],
   "source": [
    "t['longest_word_3'] = longest_word(t.input, strip_punctuation=True)\n",
    "t.show()"
   ]
  },
  {
   "cell_type": "markdown",
   "id": "3f12d7c2-b5dd-446a-997d-5510131a6ade",
   "metadata": {},
   "source": [
    "The general rule is: changes to module UDFs will affect any future execution; changes to local UDFs will only affect _new columns_ that are defined using the new version of the UDF."
   ]
  },
  {
   "cell_type": "markdown",
   "id": "42158866-8127-405c-af25-cd59d0acef8c",
   "metadata": {},
   "source": [
    "## Batching\n",
    "\n",
    "Pixeltable provides several ways to optimize UDFs for better performance. One of the most common is _batching_, which is particularly important for UDFs that involve GPU operations.\n",
    "\n",
    "Ordinary UDFs process one row at a time, meaning the UDF will be invoked exactly once per row processed. Conversely, a batched UDF processes several rows at a time; the specific number is user-configurable. As an example, let's modify our `longest_word` UDF to take a batched parameter. Here's what it looks like:"
   ]
  },
  {
   "cell_type": "code",
   "execution_count": 11,
   "id": "7bb26ff0-155d-4c51-a19f-92d235195d61",
   "metadata": {},
   "outputs": [],
   "source": [
    "from pixeltable.func import Batch\n",
    "\n",
    "@pxt.udf(batch_size=16)\n",
    "def longest_word(sentences: Batch[str], strip_punctuation: bool = False) -> Batch[str]:\n",
    "    results = []\n",
    "    for sentence in sentences:\n",
    "        words = sentence.split()\n",
    "        if strip_punctuation:\n",
    "            words = [\n",
    "                word if word[-1].isalnum else word[:-1]\n",
    "                for word in words\n",
    "            ]\n",
    "        i = np.argmax([len(word) for word in words])\n",
    "        results.append(words[i])\n",
    "    return results"
   ]
  },
  {
   "cell_type": "markdown",
   "id": "bd41d42a-2df0-4b14-b000-ab1cbf4b22a8",
   "metadata": {},
   "source": [
    "There are several changes:\n",
    "- The parameter `batch_size=16` has been added to the `@pxt.udf` decorator, specifying the batch size;\n",
    "- The `sentences` parameter has changed from `str` to `Batch[str]`;\n",
    "- The return type has also changed from `str` to `Batch[str]`; and\n",
    "- Instead of processing a single sentence, the UDF is processing a `Batch` of sentences and returning the result `Batch`.\n",
    "\n",
    "What exactly is a `Batch[str]`? Functionally, it's simply a `list[str]`, and you can use it exactly like a `list[str]` in any Python code. The only difference is in the type hint; a type hint of `Batch[str]` tells Pixeltable, \"My data consists of individual strings that I want you to process in batches\". Conversely, a type hint of `list[str]` would mean, \"My data consists of _lists_ of strings that I want you to process one at a time\".\n",
    "\n",
    "Notice that the `strip_punctuation` parameter is _not_ wrapped in a `Batch` type. This because `strip_punctuation` controls the behavior of the UDF, rather than being part of the input data. When we use the batched `longest_word` UDF, the `strip_punctuation` parameter will always be a constant, not a column.\n",
    "\n",
    "Let's put the new, batched UDF to work."
   ]
  },
  {
   "cell_type": "code",
   "execution_count": 12,
   "id": "3a1b54bb-044d-4235-b9ee-e9ad2adf572d",
   "metadata": {},
   "outputs": [
    {
     "name": "stdout",
     "output_type": "stream",
     "text": [
      "Computing cells: 100%|███████████████████████████████████████████| 4/4 [00:00<00:00, 546.29 cells/s]\n"
     ]
    },
    {
     "ename": "NotImplementedError",
     "evalue": "",
     "output_type": "error",
     "traceback": [
      "\u001b[0;31m---------------------------------------------------------------------------\u001b[0m",
      "\u001b[0;31mNotImplementedError\u001b[0m                       Traceback (most recent call last)",
      "Cell \u001b[0;32mIn[12], line 1\u001b[0m\n\u001b[0;32m----> 1\u001b[0m \u001b[43mt\u001b[49m\u001b[43m[\u001b[49m\u001b[38;5;124;43m'\u001b[39;49m\u001b[38;5;124;43mlongest_word_3_batched\u001b[39;49m\u001b[38;5;124;43m'\u001b[39;49m\u001b[43m]\u001b[49m \u001b[38;5;241m=\u001b[39m longest_word(t\u001b[38;5;241m.\u001b[39minput, strip_punctuation\u001b[38;5;241m=\u001b[39m\u001b[38;5;28;01mTrue\u001b[39;00m)\n\u001b[1;32m      2\u001b[0m t\u001b[38;5;241m.\u001b[39mshow()\n",
      "File \u001b[0;32m~/Dropbox/workspace/pixeltable/pixeltable/pixeltable/catalog/table.py:250\u001b[0m, in \u001b[0;36mTable.__setitem__\u001b[0;34m(self, column_name, value)\u001b[0m\n\u001b[1;32m    248\u001b[0m new_col \u001b[38;5;241m=\u001b[39m \u001b[38;5;28mself\u001b[39m\u001b[38;5;241m.\u001b[39m_create_columns({column_name: value})[\u001b[38;5;241m0\u001b[39m]\n\u001b[1;32m    249\u001b[0m \u001b[38;5;28mself\u001b[39m\u001b[38;5;241m.\u001b[39m_verify_column(new_col, \u001b[38;5;28mself\u001b[39m\u001b[38;5;241m.\u001b[39mcolumn_names())\n\u001b[0;32m--> 250\u001b[0m \u001b[38;5;28;01mreturn\u001b[39;00m \u001b[38;5;28;43mself\u001b[39;49m\u001b[38;5;241;43m.\u001b[39;49m\u001b[43mtbl_version_path\u001b[49m\u001b[38;5;241;43m.\u001b[39;49m\u001b[43mtbl_version\u001b[49m\u001b[38;5;241;43m.\u001b[39;49m\u001b[43madd_column\u001b[49m\u001b[43m(\u001b[49m\u001b[43mnew_col\u001b[49m\u001b[43m)\u001b[49m\n",
      "File \u001b[0;32m~/Dropbox/workspace/pixeltable/pixeltable/pixeltable/catalog/table_version.py:410\u001b[0m, in \u001b[0;36mTableVersion.add_column\u001b[0;34m(self, col, print_stats)\u001b[0m\n\u001b[1;32m    408\u001b[0m \u001b[38;5;28mself\u001b[39m\u001b[38;5;241m.\u001b[39mschema_version \u001b[38;5;241m=\u001b[39m \u001b[38;5;28mself\u001b[39m\u001b[38;5;241m.\u001b[39mversion\n\u001b[1;32m    409\u001b[0m \u001b[38;5;28;01mwith\u001b[39;00m Env\u001b[38;5;241m.\u001b[39mget()\u001b[38;5;241m.\u001b[39mengine\u001b[38;5;241m.\u001b[39mbegin() \u001b[38;5;28;01mas\u001b[39;00m conn:\n\u001b[0;32m--> 410\u001b[0m     status \u001b[38;5;241m=\u001b[39m \u001b[38;5;28;43mself\u001b[39;49m\u001b[38;5;241;43m.\u001b[39;49m\u001b[43m_add_columns\u001b[49m\u001b[43m(\u001b[49m\u001b[43m[\u001b[49m\u001b[43mcol\u001b[49m\u001b[43m]\u001b[49m\u001b[43m,\u001b[49m\u001b[43m \u001b[49m\u001b[43mconn\u001b[49m\u001b[43m,\u001b[49m\u001b[43m \u001b[49m\u001b[43mpreceding_schema_version\u001b[49m\u001b[43m,\u001b[49m\u001b[43m \u001b[49m\u001b[43mprint_stats\u001b[49m\u001b[38;5;241;43m=\u001b[39;49m\u001b[43mprint_stats\u001b[49m\u001b[43m)\u001b[49m\n\u001b[1;32m    411\u001b[0m _logger\u001b[38;5;241m.\u001b[39minfo(\u001b[38;5;124mf\u001b[39m\u001b[38;5;124m'\u001b[39m\u001b[38;5;124mAdded column \u001b[39m\u001b[38;5;132;01m{\u001b[39;00mcol\u001b[38;5;241m.\u001b[39mname\u001b[38;5;132;01m}\u001b[39;00m\u001b[38;5;124m to table \u001b[39m\u001b[38;5;132;01m{\u001b[39;00m\u001b[38;5;28mself\u001b[39m\u001b[38;5;241m.\u001b[39mname\u001b[38;5;132;01m}\u001b[39;00m\u001b[38;5;124m, new version: \u001b[39m\u001b[38;5;132;01m{\u001b[39;00m\u001b[38;5;28mself\u001b[39m\u001b[38;5;241m.\u001b[39mversion\u001b[38;5;132;01m}\u001b[39;00m\u001b[38;5;124m'\u001b[39m)\n\u001b[1;32m    413\u001b[0m msg \u001b[38;5;241m=\u001b[39m (\n\u001b[1;32m    414\u001b[0m     \u001b[38;5;124mf\u001b[39m\u001b[38;5;124m'\u001b[39m\u001b[38;5;124mAdded \u001b[39m\u001b[38;5;132;01m{\u001b[39;00mstatus\u001b[38;5;241m.\u001b[39mnum_rows\u001b[38;5;132;01m}\u001b[39;00m\u001b[38;5;124m column value\u001b[39m\u001b[38;5;132;01m{\u001b[39;00m\u001b[38;5;124m\"\u001b[39m\u001b[38;5;124m\"\u001b[39m\u001b[38;5;250m \u001b[39m\u001b[38;5;28;01mif\u001b[39;00m\u001b[38;5;250m \u001b[39mstatus\u001b[38;5;241m.\u001b[39mnum_rows\u001b[38;5;250m \u001b[39m\u001b[38;5;241m==\u001b[39m\u001b[38;5;250m \u001b[39m\u001b[38;5;241m1\u001b[39m\u001b[38;5;250m \u001b[39m\u001b[38;5;28;01melse\u001b[39;00m\u001b[38;5;250m \u001b[39m\u001b[38;5;124m\"\u001b[39m\u001b[38;5;124ms\u001b[39m\u001b[38;5;124m\"\u001b[39m\u001b[38;5;132;01m}\u001b[39;00m\u001b[38;5;124m \u001b[39m\u001b[38;5;124m'\u001b[39m\n\u001b[1;32m    415\u001b[0m     \u001b[38;5;124mf\u001b[39m\u001b[38;5;124m'\u001b[39m\u001b[38;5;124mwith \u001b[39m\u001b[38;5;132;01m{\u001b[39;00mstatus\u001b[38;5;241m.\u001b[39mnum_excs\u001b[38;5;132;01m}\u001b[39;00m\u001b[38;5;124m error\u001b[39m\u001b[38;5;132;01m{\u001b[39;00m\u001b[38;5;124m\"\u001b[39m\u001b[38;5;124m\"\u001b[39m\u001b[38;5;250m \u001b[39m\u001b[38;5;28;01mif\u001b[39;00m\u001b[38;5;250m \u001b[39mstatus\u001b[38;5;241m.\u001b[39mnum_excs\u001b[38;5;250m \u001b[39m\u001b[38;5;241m==\u001b[39m\u001b[38;5;250m \u001b[39m\u001b[38;5;241m1\u001b[39m\u001b[38;5;250m \u001b[39m\u001b[38;5;28;01melse\u001b[39;00m\u001b[38;5;250m \u001b[39m\u001b[38;5;124m\"\u001b[39m\u001b[38;5;124ms\u001b[39m\u001b[38;5;124m\"\u001b[39m\u001b[38;5;132;01m}\u001b[39;00m\u001b[38;5;124m.\u001b[39m\u001b[38;5;124m'\u001b[39m\n\u001b[1;32m    416\u001b[0m )\n",
      "File \u001b[0;32m~/Dropbox/workspace/pixeltable/pixeltable/pixeltable/catalog/table_version.py:478\u001b[0m, in \u001b[0;36mTableVersion._add_columns\u001b[0;34m(self, cols, conn, preceding_schema_version, print_stats)\u001b[0m\n\u001b[1;32m    475\u001b[0m     \u001b[38;5;28;01mfinally\u001b[39;00m:\n\u001b[1;32m    476\u001b[0m         plan\u001b[38;5;241m.\u001b[39mclose()\n\u001b[0;32m--> 478\u001b[0m \u001b[38;5;28;43mself\u001b[39;49m\u001b[38;5;241;43m.\u001b[39;49m\u001b[43m_update_md\u001b[49m\u001b[43m(\u001b[49m\u001b[43mts\u001b[49m\u001b[43m,\u001b[49m\u001b[43m \u001b[49m\u001b[43mpreceding_schema_version\u001b[49m\u001b[43m,\u001b[49m\u001b[43m \u001b[49m\u001b[43mconn\u001b[49m\u001b[43m)\u001b[49m\n\u001b[1;32m    479\u001b[0m \u001b[38;5;28;01mif\u001b[39;00m print_stats:\n\u001b[1;32m    480\u001b[0m     plan\u001b[38;5;241m.\u001b[39mctx\u001b[38;5;241m.\u001b[39mprofile\u001b[38;5;241m.\u001b[39mprint(num_rows\u001b[38;5;241m=\u001b[39mrow_count)\n",
      "File \u001b[0;32m~/Dropbox/workspace/pixeltable/pixeltable/pixeltable/catalog/table_version.py:298\u001b[0m, in \u001b[0;36mTableVersion._update_md\u001b[0;34m(self, ts, preceding_schema_version, conn)\u001b[0m\n\u001b[1;32m    290\u001b[0m \u001b[38;5;28;01mdef\u001b[39;00m \u001b[38;5;21m_update_md\u001b[39m(\u001b[38;5;28mself\u001b[39m, ts: \u001b[38;5;28mfloat\u001b[39m, preceding_schema_version: Optional[\u001b[38;5;28mint\u001b[39m], conn: sql\u001b[38;5;241m.\u001b[39mengine\u001b[38;5;241m.\u001b[39mConnection) \u001b[38;5;241m-\u001b[39m\u001b[38;5;241m>\u001b[39m \u001b[38;5;28;01mNone\u001b[39;00m:\n\u001b[1;32m    291\u001b[0m \u001b[38;5;250m    \u001b[39m\u001b[38;5;124;03m\"\"\"Update all recorded metadata in response to a data or schema change.\u001b[39;00m\n\u001b[1;32m    292\u001b[0m \u001b[38;5;124;03m    Args:\u001b[39;00m\n\u001b[1;32m    293\u001b[0m \u001b[38;5;124;03m        ts: timestamp of the change\u001b[39;00m\n\u001b[1;32m    294\u001b[0m \u001b[38;5;124;03m        preceding_schema_version: last schema version if schema change, else None\u001b[39;00m\n\u001b[1;32m    295\u001b[0m \u001b[38;5;124;03m    \"\"\"\u001b[39;00m\n\u001b[1;32m    296\u001b[0m     conn\u001b[38;5;241m.\u001b[39mexecute(\n\u001b[1;32m    297\u001b[0m         sql\u001b[38;5;241m.\u001b[39mupdate(schema\u001b[38;5;241m.\u001b[39mTable\u001b[38;5;241m.\u001b[39m__table__)\n\u001b[0;32m--> 298\u001b[0m             \u001b[38;5;241m.\u001b[39mvalues({schema\u001b[38;5;241m.\u001b[39mTable\u001b[38;5;241m.\u001b[39mmd: dataclasses\u001b[38;5;241m.\u001b[39masdict(\u001b[38;5;28;43mself\u001b[39;49m\u001b[38;5;241;43m.\u001b[39;49m\u001b[43m_create_tbl_md\u001b[49m\u001b[43m(\u001b[49m\u001b[43m)\u001b[49m)})\n\u001b[1;32m    299\u001b[0m             \u001b[38;5;241m.\u001b[39mwhere(schema\u001b[38;5;241m.\u001b[39mTable\u001b[38;5;241m.\u001b[39mid \u001b[38;5;241m==\u001b[39m \u001b[38;5;28mself\u001b[39m\u001b[38;5;241m.\u001b[39mid))\n\u001b[1;32m    301\u001b[0m     version_md \u001b[38;5;241m=\u001b[39m \u001b[38;5;28mself\u001b[39m\u001b[38;5;241m.\u001b[39m_create_version_md(ts)\n\u001b[1;32m    302\u001b[0m     conn\u001b[38;5;241m.\u001b[39mexecute(\n\u001b[1;32m    303\u001b[0m         sql\u001b[38;5;241m.\u001b[39minsert(schema\u001b[38;5;241m.\u001b[39mTableVersion\u001b[38;5;241m.\u001b[39m__table__)\n\u001b[1;32m    304\u001b[0m             \u001b[38;5;241m.\u001b[39mvalues(tbl_id\u001b[38;5;241m=\u001b[39m\u001b[38;5;28mself\u001b[39m\u001b[38;5;241m.\u001b[39mid, version\u001b[38;5;241m=\u001b[39m\u001b[38;5;28mself\u001b[39m\u001b[38;5;241m.\u001b[39mversion, md\u001b[38;5;241m=\u001b[39mdataclasses\u001b[38;5;241m.\u001b[39masdict(version_md)))\n",
      "File \u001b[0;32m~/Dropbox/workspace/pixeltable/pixeltable/pixeltable/catalog/table_version.py:1014\u001b[0m, in \u001b[0;36mTableVersion._create_tbl_md\u001b[0;34m(self)\u001b[0m\n\u001b[1;32m   1010\u001b[0m \u001b[38;5;28;01mdef\u001b[39;00m \u001b[38;5;21m_create_tbl_md\u001b[39m(\u001b[38;5;28mself\u001b[39m) \u001b[38;5;241m-\u001b[39m\u001b[38;5;241m>\u001b[39m schema\u001b[38;5;241m.\u001b[39mTableMd:\n\u001b[1;32m   1011\u001b[0m     \u001b[38;5;28;01mreturn\u001b[39;00m schema\u001b[38;5;241m.\u001b[39mTableMd(\n\u001b[1;32m   1012\u001b[0m         name\u001b[38;5;241m=\u001b[39m\u001b[38;5;28mself\u001b[39m\u001b[38;5;241m.\u001b[39mname, current_version\u001b[38;5;241m=\u001b[39m\u001b[38;5;28mself\u001b[39m\u001b[38;5;241m.\u001b[39mversion, current_schema_version\u001b[38;5;241m=\u001b[39m\u001b[38;5;28mself\u001b[39m\u001b[38;5;241m.\u001b[39mschema_version,\n\u001b[1;32m   1013\u001b[0m         next_col_id\u001b[38;5;241m=\u001b[39m\u001b[38;5;28mself\u001b[39m\u001b[38;5;241m.\u001b[39mnext_col_id, next_idx_id\u001b[38;5;241m=\u001b[39m\u001b[38;5;28mself\u001b[39m\u001b[38;5;241m.\u001b[39mnext_idx_id, next_row_id\u001b[38;5;241m=\u001b[39m\u001b[38;5;28mself\u001b[39m\u001b[38;5;241m.\u001b[39mnext_rowid,\n\u001b[0;32m-> 1014\u001b[0m         column_md\u001b[38;5;241m=\u001b[39m\u001b[38;5;28;43mself\u001b[39;49m\u001b[38;5;241;43m.\u001b[39;49m\u001b[43m_create_column_md\u001b[49m\u001b[43m(\u001b[49m\u001b[38;5;28;43mself\u001b[39;49m\u001b[38;5;241;43m.\u001b[39;49m\u001b[43mcols\u001b[49m\u001b[43m)\u001b[49m, index_md\u001b[38;5;241m=\u001b[39m\u001b[38;5;28mself\u001b[39m\u001b[38;5;241m.\u001b[39midx_md, view_md\u001b[38;5;241m=\u001b[39m\u001b[38;5;28mself\u001b[39m\u001b[38;5;241m.\u001b[39mview_md)\n",
      "File \u001b[0;32m~/Dropbox/workspace/pixeltable/pixeltable/pixeltable/catalog/table_version.py:1003\u001b[0m, in \u001b[0;36mTableVersion._create_column_md\u001b[0;34m(cls, cols)\u001b[0m\n\u001b[1;32m   1001\u001b[0m column_md: Dict[\u001b[38;5;28mint\u001b[39m, schema\u001b[38;5;241m.\u001b[39mColumnMd] \u001b[38;5;241m=\u001b[39m {}\n\u001b[1;32m   1002\u001b[0m \u001b[38;5;28;01mfor\u001b[39;00m col \u001b[38;5;129;01min\u001b[39;00m cols:\n\u001b[0;32m-> 1003\u001b[0m     value_expr_dict \u001b[38;5;241m=\u001b[39m \u001b[43mcol\u001b[49m\u001b[38;5;241;43m.\u001b[39;49m\u001b[43mvalue_expr\u001b[49m\u001b[38;5;241;43m.\u001b[39;49m\u001b[43mas_dict\u001b[49m\u001b[43m(\u001b[49m\u001b[43m)\u001b[49m \u001b[38;5;28;01mif\u001b[39;00m col\u001b[38;5;241m.\u001b[39mvalue_expr \u001b[38;5;129;01mis\u001b[39;00m \u001b[38;5;129;01mnot\u001b[39;00m \u001b[38;5;28;01mNone\u001b[39;00m \u001b[38;5;28;01melse\u001b[39;00m \u001b[38;5;28;01mNone\u001b[39;00m\n\u001b[1;32m   1004\u001b[0m     column_md[col\u001b[38;5;241m.\u001b[39mid] \u001b[38;5;241m=\u001b[39m schema\u001b[38;5;241m.\u001b[39mColumnMd(\n\u001b[1;32m   1005\u001b[0m         \u001b[38;5;28mid\u001b[39m\u001b[38;5;241m=\u001b[39mcol\u001b[38;5;241m.\u001b[39mid, col_type\u001b[38;5;241m=\u001b[39mcol\u001b[38;5;241m.\u001b[39mcol_type\u001b[38;5;241m.\u001b[39mas_dict(), is_pk\u001b[38;5;241m=\u001b[39mcol\u001b[38;5;241m.\u001b[39mis_pk,\n\u001b[1;32m   1006\u001b[0m         schema_version_add\u001b[38;5;241m=\u001b[39mcol\u001b[38;5;241m.\u001b[39mschema_version_add, schema_version_drop\u001b[38;5;241m=\u001b[39mcol\u001b[38;5;241m.\u001b[39mschema_version_drop,\n\u001b[1;32m   1007\u001b[0m         value_expr\u001b[38;5;241m=\u001b[39mvalue_expr_dict, stored\u001b[38;5;241m=\u001b[39mcol\u001b[38;5;241m.\u001b[39mstored)\n\u001b[1;32m   1008\u001b[0m \u001b[38;5;28;01mreturn\u001b[39;00m column_md\n",
      "File \u001b[0;32m~/Dropbox/workspace/pixeltable/pixeltable/pixeltable/exprs/expr.py:363\u001b[0m, in \u001b[0;36mExpr.as_dict\u001b[0;34m(self)\u001b[0m\n\u001b[1;32m    356\u001b[0m \u001b[38;5;28;01mdef\u001b[39;00m \u001b[38;5;21mas_dict\u001b[39m(\u001b[38;5;28mself\u001b[39m) \u001b[38;5;241m-\u001b[39m\u001b[38;5;241m>\u001b[39m Dict:\n\u001b[1;32m    357\u001b[0m \u001b[38;5;250m    \u001b[39m\u001b[38;5;124;03m\"\"\"\u001b[39;00m\n\u001b[1;32m    358\u001b[0m \u001b[38;5;124;03m    Turn Expr object into a dict that can be passed to json.dumps().\u001b[39;00m\n\u001b[1;32m    359\u001b[0m \u001b[38;5;124;03m    Subclasses override _as_dict().\u001b[39;00m\n\u001b[1;32m    360\u001b[0m \u001b[38;5;124;03m    \"\"\"\u001b[39;00m\n\u001b[1;32m    361\u001b[0m     \u001b[38;5;28;01mreturn\u001b[39;00m {\n\u001b[1;32m    362\u001b[0m         \u001b[38;5;124m'\u001b[39m\u001b[38;5;124m_classname\u001b[39m\u001b[38;5;124m'\u001b[39m: \u001b[38;5;28mself\u001b[39m\u001b[38;5;241m.\u001b[39m\u001b[38;5;18m__class__\u001b[39m\u001b[38;5;241m.\u001b[39m\u001b[38;5;18m__name__\u001b[39m,\n\u001b[0;32m--> 363\u001b[0m         \u001b[38;5;241m*\u001b[39m\u001b[38;5;241m*\u001b[39m\u001b[38;5;28;43mself\u001b[39;49m\u001b[38;5;241;43m.\u001b[39;49m\u001b[43m_as_dict\u001b[49m\u001b[43m(\u001b[49m\u001b[43m)\u001b[49m,\n\u001b[1;32m    364\u001b[0m     }\n",
      "File \u001b[0;32m~/Dropbox/workspace/pixeltable/pixeltable/pixeltable/exprs/function_call.py:359\u001b[0m, in \u001b[0;36mFunctionCall._as_dict\u001b[0;34m(self)\u001b[0m\n\u001b[1;32m    357\u001b[0m \u001b[38;5;28;01mdef\u001b[39;00m \u001b[38;5;21m_as_dict\u001b[39m(\u001b[38;5;28mself\u001b[39m) \u001b[38;5;241m-\u001b[39m\u001b[38;5;241m>\u001b[39m Dict:\n\u001b[1;32m    358\u001b[0m     result \u001b[38;5;241m=\u001b[39m {\n\u001b[0;32m--> 359\u001b[0m         \u001b[38;5;124m'\u001b[39m\u001b[38;5;124mfn\u001b[39m\u001b[38;5;124m'\u001b[39m: \u001b[38;5;28;43mself\u001b[39;49m\u001b[38;5;241;43m.\u001b[39;49m\u001b[43mfn\u001b[49m\u001b[38;5;241;43m.\u001b[39;49m\u001b[43mas_dict\u001b[49m\u001b[43m(\u001b[49m\u001b[43m)\u001b[49m, \u001b[38;5;124m'\u001b[39m\u001b[38;5;124margs\u001b[39m\u001b[38;5;124m'\u001b[39m: \u001b[38;5;28mself\u001b[39m\u001b[38;5;241m.\u001b[39margs, \u001b[38;5;124m'\u001b[39m\u001b[38;5;124mkwargs\u001b[39m\u001b[38;5;124m'\u001b[39m: \u001b[38;5;28mself\u001b[39m\u001b[38;5;241m.\u001b[39mkwargs,\n\u001b[1;32m    360\u001b[0m         \u001b[38;5;124m'\u001b[39m\u001b[38;5;124mgroup_by_start_idx\u001b[39m\u001b[38;5;124m'\u001b[39m: \u001b[38;5;28mself\u001b[39m\u001b[38;5;241m.\u001b[39mgroup_by_start_idx, \u001b[38;5;124m'\u001b[39m\u001b[38;5;124mgroup_by_stop_idx\u001b[39m\u001b[38;5;124m'\u001b[39m: \u001b[38;5;28mself\u001b[39m\u001b[38;5;241m.\u001b[39mgroup_by_stop_idx,\n\u001b[1;32m    361\u001b[0m         \u001b[38;5;124m'\u001b[39m\u001b[38;5;124morder_by_start_idx\u001b[39m\u001b[38;5;124m'\u001b[39m: \u001b[38;5;28mself\u001b[39m\u001b[38;5;241m.\u001b[39morder_by_start_idx,\n\u001b[1;32m    362\u001b[0m         \u001b[38;5;241m*\u001b[39m\u001b[38;5;241m*\u001b[39m\u001b[38;5;28msuper\u001b[39m()\u001b[38;5;241m.\u001b[39m_as_dict()\n\u001b[1;32m    363\u001b[0m     }\n\u001b[1;32m    364\u001b[0m     \u001b[38;5;28;01mreturn\u001b[39;00m result\n",
      "File \u001b[0;32m~/Dropbox/workspace/pixeltable/pixeltable/pixeltable/func/function.py:98\u001b[0m, in \u001b[0;36mFunction.as_dict\u001b[0;34m(self)\u001b[0m\n\u001b[1;32m     92\u001b[0m \u001b[38;5;250m\u001b[39m\u001b[38;5;124;03m\"\"\"\u001b[39;00m\n\u001b[1;32m     93\u001b[0m \u001b[38;5;124;03mReturn a serialized reference to the instance that can be passed to json.dumps() and converted back\u001b[39;00m\n\u001b[1;32m     94\u001b[0m \u001b[38;5;124;03mto an instance with from_dict().\u001b[39;00m\n\u001b[1;32m     95\u001b[0m \u001b[38;5;124;03mSubclasses can override _as_dict().\u001b[39;00m\n\u001b[1;32m     96\u001b[0m \u001b[38;5;124;03m\"\"\"\u001b[39;00m\n\u001b[1;32m     97\u001b[0m classpath \u001b[38;5;241m=\u001b[39m \u001b[38;5;124mf\u001b[39m\u001b[38;5;124m'\u001b[39m\u001b[38;5;132;01m{\u001b[39;00m\u001b[38;5;28mself\u001b[39m\u001b[38;5;241m.\u001b[39m\u001b[38;5;18m__class__\u001b[39m\u001b[38;5;241m.\u001b[39m\u001b[38;5;18m__module__\u001b[39m\u001b[38;5;132;01m}\u001b[39;00m\u001b[38;5;124m.\u001b[39m\u001b[38;5;132;01m{\u001b[39;00m\u001b[38;5;28mself\u001b[39m\u001b[38;5;241m.\u001b[39m\u001b[38;5;18m__class__\u001b[39m\u001b[38;5;241m.\u001b[39m\u001b[38;5;18m__qualname__\u001b[39m\u001b[38;5;132;01m}\u001b[39;00m\u001b[38;5;124m'\u001b[39m\n\u001b[0;32m---> 98\u001b[0m \u001b[38;5;28;01mreturn\u001b[39;00m {\u001b[38;5;124m'\u001b[39m\u001b[38;5;124m_classpath\u001b[39m\u001b[38;5;124m'\u001b[39m: classpath, \u001b[38;5;241m*\u001b[39m\u001b[38;5;241m*\u001b[39m\u001b[38;5;28;43mself\u001b[39;49m\u001b[38;5;241;43m.\u001b[39;49m\u001b[43m_as_dict\u001b[49m\u001b[43m(\u001b[49m\u001b[43m)\u001b[49m}\n",
      "File \u001b[0;32m~/Dropbox/workspace/pixeltable/pixeltable/pixeltable/func/batched_function.py:69\u001b[0m, in \u001b[0;36mExplicitBatchedFunction._as_dict\u001b[0;34m(self)\u001b[0m\n\u001b[1;32m     66\u001b[0m \u001b[38;5;28;01mif\u001b[39;00m \u001b[38;5;28mself\u001b[39m\u001b[38;5;241m.\u001b[39mself_path \u001b[38;5;129;01mis\u001b[39;00m \u001b[38;5;28;01mNone\u001b[39;00m:\n\u001b[1;32m     67\u001b[0m     \u001b[38;5;66;03m# this is not a module function\u001b[39;00m\n\u001b[1;32m     68\u001b[0m     \u001b[38;5;28;01mfrom\u001b[39;00m \u001b[38;5;21;01m.\u001b[39;00m\u001b[38;5;21;01mfunction_registry\u001b[39;00m \u001b[38;5;28;01mimport\u001b[39;00m FunctionRegistry\n\u001b[0;32m---> 69\u001b[0m     \u001b[38;5;28mid\u001b[39m \u001b[38;5;241m=\u001b[39m \u001b[43mFunctionRegistry\u001b[49m\u001b[38;5;241;43m.\u001b[39;49m\u001b[43mget\u001b[49m\u001b[43m(\u001b[49m\u001b[43m)\u001b[49m\u001b[38;5;241;43m.\u001b[39;49m\u001b[43mcreate_stored_function\u001b[49m\u001b[43m(\u001b[49m\u001b[38;5;28;43mself\u001b[39;49m\u001b[43m)\u001b[49m\n\u001b[1;32m     70\u001b[0m     \u001b[38;5;28;01mreturn\u001b[39;00m {\u001b[38;5;124m'\u001b[39m\u001b[38;5;124mid\u001b[39m\u001b[38;5;124m'\u001b[39m: \u001b[38;5;28mid\u001b[39m\u001b[38;5;241m.\u001b[39mhex}\n\u001b[1;32m     71\u001b[0m \u001b[38;5;28;01mreturn\u001b[39;00m \u001b[38;5;28msuper\u001b[39m()\u001b[38;5;241m.\u001b[39m_as_dict()\n",
      "File \u001b[0;32m~/Dropbox/workspace/pixeltable/pixeltable/pixeltable/func/function_registry.py:139\u001b[0m, in \u001b[0;36mFunctionRegistry.create_stored_function\u001b[0;34m(self, pxt_fn, dir_id)\u001b[0m\n\u001b[1;32m    138\u001b[0m \u001b[38;5;28;01mdef\u001b[39;00m \u001b[38;5;21mcreate_stored_function\u001b[39m(\u001b[38;5;28mself\u001b[39m, pxt_fn: Function, dir_id: Optional[UUID] \u001b[38;5;241m=\u001b[39m \u001b[38;5;28;01mNone\u001b[39;00m) \u001b[38;5;241m-\u001b[39m\u001b[38;5;241m>\u001b[39m UUID:\n\u001b[0;32m--> 139\u001b[0m     fn_md, binary_obj \u001b[38;5;241m=\u001b[39m \u001b[43mpxt_fn\u001b[49m\u001b[38;5;241;43m.\u001b[39;49m\u001b[43mto_store\u001b[49m\u001b[43m(\u001b[49m\u001b[43m)\u001b[49m\n\u001b[1;32m    140\u001b[0m     md \u001b[38;5;241m=\u001b[39m schema\u001b[38;5;241m.\u001b[39mFunctionMd(name\u001b[38;5;241m=\u001b[39mpxt_fn\u001b[38;5;241m.\u001b[39mname, md\u001b[38;5;241m=\u001b[39mfn_md, py_version\u001b[38;5;241m=\u001b[39msys\u001b[38;5;241m.\u001b[39mversion, class_name\u001b[38;5;241m=\u001b[39mpxt_fn\u001b[38;5;241m.\u001b[39m\u001b[38;5;18m__class__\u001b[39m\u001b[38;5;241m.\u001b[39m\u001b[38;5;18m__name__\u001b[39m)\n\u001b[1;32m    141\u001b[0m     \u001b[38;5;28;01mwith\u001b[39;00m env\u001b[38;5;241m.\u001b[39mEnv\u001b[38;5;241m.\u001b[39mget()\u001b[38;5;241m.\u001b[39mengine\u001b[38;5;241m.\u001b[39mbegin() \u001b[38;5;28;01mas\u001b[39;00m conn:\n",
      "File \u001b[0;32m~/Dropbox/workspace/pixeltable/pixeltable/pixeltable/func/function.py:132\u001b[0m, in \u001b[0;36mFunction.to_store\u001b[0;34m(self)\u001b[0m\n\u001b[1;32m    124\u001b[0m \u001b[38;5;28;01mdef\u001b[39;00m \u001b[38;5;21mto_store\u001b[39m(\u001b[38;5;28mself\u001b[39m) \u001b[38;5;241m-\u001b[39m\u001b[38;5;241m>\u001b[39m Tuple[Dict, \u001b[38;5;28mbytes\u001b[39m]:\n\u001b[1;32m    125\u001b[0m \u001b[38;5;250m    \u001b[39m\u001b[38;5;124;03m\"\"\"\u001b[39;00m\n\u001b[1;32m    126\u001b[0m \u001b[38;5;124;03m    Serialize the function to a format that can be stored in the Pixeltable store\u001b[39;00m\n\u001b[1;32m    127\u001b[0m \u001b[38;5;124;03m    Returns:\u001b[39;00m\n\u001b[0;32m   (...)\u001b[0m\n\u001b[1;32m    130\u001b[0m \u001b[38;5;124;03m    Only Function subclasses that can be stored need to override this.\u001b[39;00m\n\u001b[1;32m    131\u001b[0m \u001b[38;5;124;03m    \"\"\"\u001b[39;00m\n\u001b[0;32m--> 132\u001b[0m     \u001b[38;5;28;01mraise\u001b[39;00m \u001b[38;5;167;01mNotImplementedError\u001b[39;00m()\n",
      "\u001b[0;31mNotImplementedError\u001b[0m: "
     ]
    }
   ],
   "source": [
    "t['longest_word_3_batched'] = longest_word(t.input, strip_punctuation=True)\n",
    "t.show()"
   ]
  },
  {
   "cell_type": "markdown",
   "id": "c487704a-7e88-4d53-bf9e-8838e8a6a6f0",
   "metadata": {},
   "source": [
    "As expected, the output of the `longest_word_3_batched` column is identical to the `longest_word_3` column. Under the covers, though, Pixeltable is orchestrating execution in batches of 16. That probably won't have much performance impact on our toy example, but for GPU-bound computations such as text or image embeddings, it can make a massive difference."
   ]
  }
 ],
 "metadata": {
  "kernelspec": {
   "display_name": "Python 3 (ipykernel)",
   "language": "python",
   "name": "python3"
  },
  "language_info": {
   "codemirror_mode": {
    "name": "ipython",
    "version": 3
   },
   "file_extension": ".py",
   "mimetype": "text/x-python",
   "name": "python",
   "nbconvert_exporter": "python",
   "pygments_lexer": "ipython3",
   "version": "3.9.19"
  }
 },
 "nbformat": 4,
 "nbformat_minor": 5
}
