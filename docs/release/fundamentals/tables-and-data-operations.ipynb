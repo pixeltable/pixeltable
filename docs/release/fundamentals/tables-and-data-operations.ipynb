{
 "cells": [
  {
   "cell_type": "markdown",
   "metadata": {
    "id": "iu6P8Pks-Y72"
   },
   "source": [
    "# Pixeltable Fundamentals\n",
    "\n",
    "## Part 1: Tables and Data Operations\n",
    "\n",
    "In this tutorial, we'll learn the basics of creating tables and manipulating data in Pixeltable. This is Part 1 of the [Pixeltable Fundamentals](...) tutorial.\n",
    "\n",
    "First, let's ensure the Pixeltable library is installed in your environment."
   ]
  },
  {
   "cell_type": "code",
   "execution_count": null,
   "metadata": {
    "id": "GwjjornhycHU"
   },
   "outputs": [],
   "source": [
    "%pip install -q pixeltable"
   ]
  },
  {
   "cell_type": "markdown",
   "metadata": {},
   "source": [
    "### Tables\n",
    "\n",
    "All data in Pixeltable is stored in tables. At a high level, a Pixeltable table behaves similarly to an ordinary SQL database table, but with many additional capabilities to support complex AI workflows. We'll introduce those advanced capabilities gradually throughout this series of tutorials; for now, the focus is on basic table and data operations.\n",
    "\n",
    "Tables in Pixeltable are grouped into __directories__, which are simply user-defined namespaces. The following command creates a new directory, `fundamentals`, which we'll use to store the tables in our tutorial."
   ]
  },
  {
   "cell_type": "code",
   "execution_count": 1,
   "metadata": {
    "colab": {
     "base_uri": "https://localhost:8080/"
    },
    "id": "EIBhrFB30cbF",
    "outputId": "9c30c33d-e16b-4aeb-cfc5-9a5770416d59"
   },
   "outputs": [
    {
     "name": "stdout",
     "output_type": "stream",
     "text": [
      "Connected to Pixeltable database at: postgresql://postgres:@/pixeltable?host=/Users/asiegel/.pixeltable/pgdata\n",
      "Created directory `fundamentals`.\n"
     ]
    },
    {
     "data": {
      "text/plain": [
       "<pixeltable.catalog.dir.Dir at 0x3451b7e20>"
      ]
     },
     "execution_count": 1,
     "metadata": {},
     "output_type": "execute_result"
    }
   ],
   "source": [
    "import pixeltable as pxt\n",
    "\n",
    "# First we drop the `fundamentals` directory and all its contents,\n",
    "# in order to ensure a clean environment for the tutorial.\n",
    "pxt.drop_dir('fundamentals', force=True)\n",
    "\n",
    "# Now we create the directory.\n",
    "pxt.create_dir('fundamentals')"
   ]
  },
  {
   "cell_type": "markdown",
   "metadata": {
    "id": "7StQcO-i-7NF"
   },
   "source": [
    "Now let's create our first table. To create a table, we must give it a name and a __schema__ that describes the table structure. Note that prefacing the name with `fundamentals` causes it to be placed in our newly-created directory."
   ]
  },
  {
   "cell_type": "code",
   "execution_count": 2,
   "metadata": {},
   "outputs": [
    {
     "name": "stdout",
     "output_type": "stream",
     "text": [
      "Created table `films`.\n"
     ]
    }
   ],
   "source": [
    "films_t = pxt.create_table('fundamentals.films', {\n",
    "    'film_name': pxt.StringType(),\n",
    "    'year': pxt.IntType(),\n",
    "    'revenue': pxt.FloatType()\n",
    "})"
   ]
  },
  {
   "cell_type": "markdown",
   "metadata": {},
   "source": [
    "To insert data into a table, we use the `insert()` method, passing it a list of Python dicts."
   ]
  },
  {
   "cell_type": "code",
   "execution_count": 3,
   "metadata": {},
   "outputs": [
    {
     "name": "stdout",
     "output_type": "stream",
     "text": [
      "Computing cells:   0%|                                                    | 0/3 [00:00<?, ? cells/s]\n",
      "Inserting rows into `films`: 3 rows [00:00, 1051.56 rows/s]\n",
      "Computing cells: 100%|███████████████████████████████████████████| 3/3 [00:00<00:00, 553.90 cells/s]\n",
      "Inserted 3 rows with 0 errors.\n"
     ]
    },
    {
     "data": {
      "text/plain": [
       "UpdateStatus(num_rows=3, num_computed_values=3, num_excs=0, updated_cols=[], cols_with_excs=[])"
      ]
     },
     "execution_count": 3,
     "metadata": {},
     "output_type": "execute_result"
    }
   ],
   "source": [
    "films_t.insert([\n",
    "    {'film_name': 'Jurassic Park', 'year': 1993, 'revenue': 1037.5},\n",
    "    {'film_name': 'Titanic', 'year': 1997, 'revenue': 2257.8},\n",
    "    {'film_name': 'Avengers: Endgame', 'year': 2019, 'revenue': 2797.5}\n",
    "])"
   ]
  },
  {
   "cell_type": "markdown",
   "metadata": {},
   "source": [
    "If you're inserting just a single row, you can use an alternate syntax that is sometimes more convenient."
   ]
  },
  {
   "cell_type": "code",
   "execution_count": 4,
   "metadata": {},
   "outputs": [
    {
     "name": "stdout",
     "output_type": "stream",
     "text": [
      "Computing cells:   0%|                                                    | 0/1 [00:00<?, ? cells/s]\n",
      "Inserting rows into `films`: 1 rows [00:00, 1148.50 rows/s]\n",
      "Computing cells: 100%|███████████████████████████████████████████| 1/1 [00:00<00:00, 509.39 cells/s]\n",
      "Inserted 1 row with 0 errors.\n"
     ]
    },
    {
     "data": {
      "text/plain": [
       "UpdateStatus(num_rows=1, num_computed_values=1, num_excs=0, updated_cols=[], cols_with_excs=[])"
      ]
     },
     "execution_count": 4,
     "metadata": {},
     "output_type": "execute_result"
    }
   ],
   "source": [
    "films_t.insert(film_name='Inside Out 2', year=2024, revenue=1462.7)"
   ]
  },
  {
   "cell_type": "markdown",
   "metadata": {},
   "source": [
    "We can peek at the data in our table with the `head()` method."
   ]
  },
  {
   "cell_type": "code",
   "execution_count": 5,
   "metadata": {},
   "outputs": [
    {
     "data": {
      "text/html": [
       "<table border=\"1\" class=\"dataframe\">\n",
       "  <thead>\n",
       "    <tr style=\"text-align: right;\">\n",
       "      <th>film_name</th>\n",
       "      <th>year</th>\n",
       "      <th>revenue</th>\n",
       "    </tr>\n",
       "  </thead>\n",
       "  <tbody>\n",
       "    <tr>\n",
       "      <td>Jurassic Park</td>\n",
       "      <td>1993</td>\n",
       "      <td>1037.5</td>\n",
       "    </tr>\n",
       "    <tr>\n",
       "      <td>Titanic</td>\n",
       "      <td>1997</td>\n",
       "      <td>2257.8</td>\n",
       "    </tr>\n",
       "    <tr>\n",
       "      <td>Avengers: Endgame</td>\n",
       "      <td>2019</td>\n",
       "      <td>2797.5</td>\n",
       "    </tr>\n",
       "    <tr>\n",
       "      <td>Inside Out 2</td>\n",
       "      <td>2024</td>\n",
       "      <td>1462.7</td>\n",
       "    </tr>\n",
       "  </tbody>\n",
       "</table>"
      ],
      "text/plain": [
       "           film_name  year  revenue\n",
       "0      Jurassic Park  1993   1037.5\n",
       "1            Titanic  1997   2257.8\n",
       "2  Avengers: Endgame  2019   2797.5\n",
       "3       Inside Out 2  2024   1462.7"
      ]
     },
     "execution_count": 5,
     "metadata": {},
     "output_type": "execute_result"
    }
   ],
   "source": [
    "films_t.head()"
   ]
  },
  {
   "cell_type": "markdown",
   "metadata": {},
   "source": [
    "Pixeltable keeps track of the insertion order of data in its tables, and `head()` will always return the _earliest_ rows in the table. By default, it returns (at most) 10 rows, but you can specify a different value:"
   ]
  },
  {
   "cell_type": "code",
   "execution_count": 6,
   "metadata": {},
   "outputs": [
    {
     "data": {
      "text/html": [
       "<table border=\"1\" class=\"dataframe\">\n",
       "  <thead>\n",
       "    <tr style=\"text-align: right;\">\n",
       "      <th>film_name</th>\n",
       "      <th>year</th>\n",
       "      <th>revenue</th>\n",
       "    </tr>\n",
       "  </thead>\n",
       "  <tbody>\n",
       "    <tr>\n",
       "      <td>Jurassic Park</td>\n",
       "      <td>1993</td>\n",
       "      <td>1037.5</td>\n",
       "    </tr>\n",
       "    <tr>\n",
       "      <td>Titanic</td>\n",
       "      <td>1997</td>\n",
       "      <td>2257.8</td>\n",
       "    </tr>\n",
       "  </tbody>\n",
       "</table>"
      ],
      "text/plain": [
       "       film_name  year  revenue\n",
       "0  Jurassic Park  1993   1037.5\n",
       "1        Titanic  1997   2257.8"
      ]
     },
     "execution_count": 6,
     "metadata": {},
     "output_type": "execute_result"
    }
   ],
   "source": [
    "films_t.head(2)"
   ]
  },
  {
   "cell_type": "markdown",
   "metadata": {},
   "source": [
    "To see the _most recently inserted_ rows in a table, use `tail()`."
   ]
  },
  {
   "cell_type": "code",
   "execution_count": 7,
   "metadata": {},
   "outputs": [
    {
     "data": {
      "text/html": [
       "<table border=\"1\" class=\"dataframe\">\n",
       "  <thead>\n",
       "    <tr style=\"text-align: right;\">\n",
       "      <th>film_name</th>\n",
       "      <th>year</th>\n",
       "      <th>revenue</th>\n",
       "    </tr>\n",
       "  </thead>\n",
       "  <tbody>\n",
       "    <tr>\n",
       "      <td>Avengers: Endgame</td>\n",
       "      <td>2019</td>\n",
       "      <td>2797.5</td>\n",
       "    </tr>\n",
       "    <tr>\n",
       "      <td>Inside Out 2</td>\n",
       "      <td>2024</td>\n",
       "      <td>1462.7</td>\n",
       "    </tr>\n",
       "  </tbody>\n",
       "</table>"
      ],
      "text/plain": [
       "           film_name  year  revenue\n",
       "0  Avengers: Endgame  2019   2797.5\n",
       "1       Inside Out 2  2024   1462.7"
      ]
     },
     "execution_count": 7,
     "metadata": {},
     "output_type": "execute_result"
    }
   ],
   "source": [
    "films_t.tail(2)"
   ]
  },
  {
   "cell_type": "markdown",
   "metadata": {},
   "source": [
    "### Filtering and Selecting Data\n",
    "\n",
    "Often you want to select only certain data or certain columns in a table. You can do this with the `where()` and `select()` methods."
   ]
  },
  {
   "cell_type": "code",
   "execution_count": 8,
   "metadata": {},
   "outputs": [
    {
     "data": {
      "text/html": [
       "<table border=\"1\" class=\"dataframe\">\n",
       "  <thead>\n",
       "    <tr style=\"text-align: right;\">\n",
       "      <th>film_name</th>\n",
       "      <th>year</th>\n",
       "      <th>revenue</th>\n",
       "    </tr>\n",
       "  </thead>\n",
       "  <tbody>\n",
       "    <tr>\n",
       "      <td>Titanic</td>\n",
       "      <td>1997</td>\n",
       "      <td>2257.8</td>\n",
       "    </tr>\n",
       "    <tr>\n",
       "      <td>Avengers: Endgame</td>\n",
       "      <td>2019</td>\n",
       "      <td>2797.5</td>\n",
       "    </tr>\n",
       "  </tbody>\n",
       "</table>"
      ],
      "text/plain": [
       "           film_name  year  revenue\n",
       "0            Titanic  1997   2257.8\n",
       "1  Avengers: Endgame  2019   2797.5"
      ]
     },
     "execution_count": 8,
     "metadata": {},
     "output_type": "execute_result"
    }
   ],
   "source": [
    "films_t.where(films_t.revenue >= 2000.0).head()"
   ]
  },
  {
   "cell_type": "code",
   "execution_count": 9,
   "metadata": {},
   "outputs": [
    {
     "data": {
      "text/html": [
       "<table border=\"1\" class=\"dataframe\">\n",
       "  <thead>\n",
       "    <tr style=\"text-align: right;\">\n",
       "      <th>film_name</th>\n",
       "      <th>year</th>\n",
       "    </tr>\n",
       "  </thead>\n",
       "  <tbody>\n",
       "    <tr>\n",
       "      <td>Jurassic Park</td>\n",
       "      <td>1993</td>\n",
       "    </tr>\n",
       "    <tr>\n",
       "      <td>Titanic</td>\n",
       "      <td>1997</td>\n",
       "    </tr>\n",
       "    <tr>\n",
       "      <td>Avengers: Endgame</td>\n",
       "      <td>2019</td>\n",
       "    </tr>\n",
       "    <tr>\n",
       "      <td>Inside Out 2</td>\n",
       "      <td>2024</td>\n",
       "    </tr>\n",
       "  </tbody>\n",
       "</table>"
      ],
      "text/plain": [
       "           film_name  year\n",
       "0      Jurassic Park  1993\n",
       "1            Titanic  1997\n",
       "2  Avengers: Endgame  2019\n",
       "3       Inside Out 2  2024"
      ]
     },
     "execution_count": 9,
     "metadata": {},
     "output_type": "execute_result"
    }
   ],
   "source": [
    "films_t.select(films_t.film_name, films_t.year).head()"
   ]
  },
  {
   "cell_type": "markdown",
   "metadata": {},
   "source": [
    "Note the expressions that appear inside the calls to `where()` and `select()`, such as `films_t.year`. These are __column references__ that point to specific columns within a table. In place of `films_t.year`, you can also use dictionary syntax and type `films_t['year']`, which means exactly the same thing but is sometimes more convenient."
   ]
  },
  {
   "cell_type": "code",
   "execution_count": 10,
   "metadata": {},
   "outputs": [
    {
     "data": {
      "text/html": [
       "<table border=\"1\" class=\"dataframe\">\n",
       "  <thead>\n",
       "    <tr style=\"text-align: right;\">\n",
       "      <th>film_name</th>\n",
       "      <th>year</th>\n",
       "    </tr>\n",
       "  </thead>\n",
       "  <tbody>\n",
       "    <tr>\n",
       "      <td>Jurassic Park</td>\n",
       "      <td>1993</td>\n",
       "    </tr>\n",
       "    <tr>\n",
       "      <td>Titanic</td>\n",
       "      <td>1997</td>\n",
       "    </tr>\n",
       "    <tr>\n",
       "      <td>Avengers: Endgame</td>\n",
       "      <td>2019</td>\n",
       "    </tr>\n",
       "    <tr>\n",
       "      <td>Inside Out 2</td>\n",
       "      <td>2024</td>\n",
       "    </tr>\n",
       "  </tbody>\n",
       "</table>"
      ],
      "text/plain": [
       "           film_name  year\n",
       "0      Jurassic Park  1993\n",
       "1            Titanic  1997\n",
       "2  Avengers: Endgame  2019\n",
       "3       Inside Out 2  2024"
      ]
     },
     "execution_count": 10,
     "metadata": {},
     "output_type": "execute_result"
    }
   ],
   "source": [
    "films_t.select(films_t['film_name'], films_t['year']).head()"
   ]
  },
  {
   "cell_type": "markdown",
   "metadata": {},
   "source": [
    "In addition to selecting columns directly, you can use column references inside various kinds of expressions. For example, our `revenue` numbers are given in millions of dollars. Let's say we wanted to select revenue in thousands of dollars instead; we could do that as follows:"
   ]
  },
  {
   "cell_type": "code",
   "execution_count": 11,
   "metadata": {},
   "outputs": [
    {
     "data": {
      "text/html": [
       "<table border=\"1\" class=\"dataframe\">\n",
       "  <thead>\n",
       "    <tr style=\"text-align: right;\">\n",
       "      <th>film_name</th>\n",
       "      <th>col_1</th>\n",
       "    </tr>\n",
       "  </thead>\n",
       "  <tbody>\n",
       "    <tr>\n",
       "      <td>Jurassic Park</td>\n",
       "      <td>1037500.</td>\n",
       "    </tr>\n",
       "    <tr>\n",
       "      <td>Titanic</td>\n",
       "      <td>2257800.</td>\n",
       "    </tr>\n",
       "    <tr>\n",
       "      <td>Avengers: Endgame</td>\n",
       "      <td>2797500.</td>\n",
       "    </tr>\n",
       "    <tr>\n",
       "      <td>Inside Out 2</td>\n",
       "      <td>1462700.</td>\n",
       "    </tr>\n",
       "  </tbody>\n",
       "</table>"
      ],
      "text/plain": [
       "           film_name      col_1\n",
       "0      Jurassic Park  1037500.0\n",
       "1            Titanic  2257800.0\n",
       "2  Avengers: Endgame  2797500.0\n",
       "3       Inside Out 2  1462700.0"
      ]
     },
     "execution_count": 11,
     "metadata": {},
     "output_type": "execute_result"
    }
   ],
   "source": [
    "films_t.select(films_t.film_name, films_t.revenue * 1000).head()"
   ]
  },
  {
   "cell_type": "markdown",
   "metadata": {},
   "source": [
    "Note that since we selected an abstract expression rather than a specific column, Pixeltable gave it the generic name `col_1`. You can assign it a more informative name with Python keyword syntax:"
   ]
  },
  {
   "cell_type": "code",
   "execution_count": 12,
   "metadata": {},
   "outputs": [
    {
     "data": {
      "text/html": [
       "<table border=\"1\" class=\"dataframe\">\n",
       "  <thead>\n",
       "    <tr style=\"text-align: right;\">\n",
       "      <th>film_name</th>\n",
       "      <th>revenue_thousands</th>\n",
       "    </tr>\n",
       "  </thead>\n",
       "  <tbody>\n",
       "    <tr>\n",
       "      <td>Jurassic Park</td>\n",
       "      <td>1037500.</td>\n",
       "    </tr>\n",
       "    <tr>\n",
       "      <td>Titanic</td>\n",
       "      <td>2257800.</td>\n",
       "    </tr>\n",
       "    <tr>\n",
       "      <td>Avengers: Endgame</td>\n",
       "      <td>2797500.</td>\n",
       "    </tr>\n",
       "    <tr>\n",
       "      <td>Inside Out 2</td>\n",
       "      <td>1462700.</td>\n",
       "    </tr>\n",
       "  </tbody>\n",
       "</table>"
      ],
      "text/plain": [
       "           film_name  revenue_thousands\n",
       "0      Jurassic Park          1037500.0\n",
       "1            Titanic          2257800.0\n",
       "2  Avengers: Endgame          2797500.0\n",
       "3       Inside Out 2          1462700.0"
      ]
     },
     "execution_count": 12,
     "metadata": {},
     "output_type": "execute_result"
    }
   ],
   "source": [
    "films_t.select(films_t.film_name, revenue_thousands=films_t.revenue * 1000).head()"
   ]
  },
  {
   "cell_type": "markdown",
   "metadata": {},
   "source": [
    "### Tables are Persistent"
   ]
  },
  {
   "cell_type": "markdown",
   "metadata": {},
   "source": [
    "This is a good time to mention a few key differences between Pixeltable tables and other familiar datastructures, such as Python dicts or Pandas dataframes.\n",
    "\n",
    "First, **Pixeltable is persistent. Unlike in-memory Python libraries such as Pandas, Pixeltable is a database**. When you reset a notebook kernel or start a new Python session, you'll have access to all the data you've stored previously in Pixeltable. Let's demonstrate this by using the IPython `%reset -f` command to clear out all our notebook variables, so that `films_t` is no longer defined."
   ]
  },
  {
   "cell_type": "code",
   "execution_count": 13,
   "metadata": {},
   "outputs": [
    {
     "ename": "NameError",
     "evalue": "name 'films_t' is not defined",
     "output_type": "error",
     "traceback": [
      "\u001b[0;31m---------------------------------------------------------------------------\u001b[0m",
      "\u001b[0;31mNameError\u001b[0m                                 Traceback (most recent call last)",
      "Cell \u001b[0;32mIn[13], line 2\u001b[0m\n\u001b[1;32m      1\u001b[0m get_ipython()\u001b[38;5;241m.\u001b[39mrun_line_magic(\u001b[38;5;124m'\u001b[39m\u001b[38;5;124mreset\u001b[39m\u001b[38;5;124m'\u001b[39m, \u001b[38;5;124m'\u001b[39m\u001b[38;5;124m-f\u001b[39m\u001b[38;5;124m'\u001b[39m)\n\u001b[0;32m----> 2\u001b[0m \u001b[43mfilms_t\u001b[49m\u001b[38;5;241m.\u001b[39mhead()  \u001b[38;5;66;03m# Throws an exception now\u001b[39;00m\n",
      "\u001b[0;31mNameError\u001b[0m: name 'films_t' is not defined"
     ]
    }
   ],
   "source": [
    "%reset -f\n",
    "films_t.head()  # Throws an exception now"
   ]
  },
  {
   "cell_type": "markdown",
   "metadata": {},
   "source": [
    "The `films_t` variable is no longer defined - but that's ok, because it wasn't the source of record for our data. The `films_t` variable is just a reference to the underlying database table. We can recover it with the `get_table` command, referencing the `films` table by name."
   ]
  },
  {
   "cell_type": "code",
   "execution_count": 14,
   "metadata": {},
   "outputs": [
    {
     "data": {
      "text/html": [
       "<table border=\"1\" class=\"dataframe\">\n",
       "  <thead>\n",
       "    <tr style=\"text-align: right;\">\n",
       "      <th>film_name</th>\n",
       "      <th>year</th>\n",
       "      <th>revenue</th>\n",
       "    </tr>\n",
       "  </thead>\n",
       "  <tbody>\n",
       "    <tr>\n",
       "      <td>Jurassic Park</td>\n",
       "      <td>1993</td>\n",
       "      <td>1037.5</td>\n",
       "    </tr>\n",
       "    <tr>\n",
       "      <td>Titanic</td>\n",
       "      <td>1997</td>\n",
       "      <td>2257.8</td>\n",
       "    </tr>\n",
       "    <tr>\n",
       "      <td>Avengers: Endgame</td>\n",
       "      <td>2019</td>\n",
       "      <td>2797.5</td>\n",
       "    </tr>\n",
       "    <tr>\n",
       "      <td>Inside Out 2</td>\n",
       "      <td>2024</td>\n",
       "      <td>1462.7</td>\n",
       "    </tr>\n",
       "  </tbody>\n",
       "</table>"
      ],
      "text/plain": [
       "           film_name  year  revenue\n",
       "0      Jurassic Park  1993   1037.5\n",
       "1            Titanic  1997   2257.8\n",
       "2  Avengers: Endgame  2019   2797.5\n",
       "3       Inside Out 2  2024   1462.7"
      ]
     },
     "execution_count": 14,
     "metadata": {},
     "output_type": "execute_result"
    }
   ],
   "source": [
    "import pixeltable as pxt\n",
    "\n",
    "films_t = pxt.get_table('fundamentals.films')\n",
    "films_t.head()"
   ]
  },
  {
   "cell_type": "markdown",
   "metadata": {},
   "source": [
    "You can always get a list of all existing tables with the Pixeltable `list_tables` command."
   ]
  },
  {
   "cell_type": "code",
   "execution_count": 15,
   "metadata": {},
   "outputs": [
    {
     "data": {
      "text/plain": [
       "['fundamentals.films']"
      ]
     },
     "execution_count": 15,
     "metadata": {},
     "output_type": "execute_result"
    }
   ],
   "source": [
    "pxt.list_tables()"
   ]
  },
  {
   "cell_type": "markdown",
   "metadata": {},
   "source": [
    "<div class=\"alert alert-block alert-info\">\n",
    "Note that if you're running Pixeltable on colab or kaggle, the database will persist only as long as your colab/kaggle session. If you're running it locally or on your own server, then your database will persist indefinitely (until you actively delete it).\n",
    "</div>"
   ]
  },
  {
   "cell_type": "markdown",
   "metadata": {},
   "source": [
    "### Tables are Typed\n",
    "\n",
    "The second major difference is that **Pixeltable is strongly typed**. Because Pixeltable is a database, every column has a data type: that's why we specified `StringType`, `IntType`, and `FloatType` for the three columns when we created the table. These __type specifiers__ are _mandatory_ when creating tables, and they become part of the table schema. You can always see the table schema with the `describe()` method."
   ]
  },
  {
   "cell_type": "code",
   "execution_count": 16,
   "metadata": {},
   "outputs": [
    {
     "data": {
      "text/html": [
       "<style type=\"text/css\">\n",
       "#T_ab46b th {\n",
       "  text-align: center;\n",
       "}\n",
       "#T_ab46b_row0_col0, #T_ab46b_row0_col1, #T_ab46b_row0_col2, #T_ab46b_row1_col0, #T_ab46b_row1_col1, #T_ab46b_row1_col2, #T_ab46b_row2_col0, #T_ab46b_row2_col1, #T_ab46b_row2_col2 {\n",
       "  white-space: pre-wrap;\n",
       "  text-align: left;\n",
       "}\n",
       "</style>\n",
       "<table id=\"T_ab46b\">\n",
       "  <thead>\n",
       "    <tr>\n",
       "      <th id=\"T_ab46b_level0_col0\" class=\"col_heading level0 col0\" >Column Name</th>\n",
       "      <th id=\"T_ab46b_level0_col1\" class=\"col_heading level0 col1\" >Type</th>\n",
       "      <th id=\"T_ab46b_level0_col2\" class=\"col_heading level0 col2\" >Computed With</th>\n",
       "    </tr>\n",
       "  </thead>\n",
       "  <tbody>\n",
       "    <tr>\n",
       "      <td id=\"T_ab46b_row0_col0\" class=\"data row0 col0\" >film_name</td>\n",
       "      <td id=\"T_ab46b_row0_col1\" class=\"data row0 col1\" >string</td>\n",
       "      <td id=\"T_ab46b_row0_col2\" class=\"data row0 col2\" ></td>\n",
       "    </tr>\n",
       "    <tr>\n",
       "      <td id=\"T_ab46b_row1_col0\" class=\"data row1 col0\" >year</td>\n",
       "      <td id=\"T_ab46b_row1_col1\" class=\"data row1 col1\" >int</td>\n",
       "      <td id=\"T_ab46b_row1_col2\" class=\"data row1 col2\" ></td>\n",
       "    </tr>\n",
       "    <tr>\n",
       "      <td id=\"T_ab46b_row2_col0\" class=\"data row2 col0\" >revenue</td>\n",
       "      <td id=\"T_ab46b_row2_col1\" class=\"data row2 col1\" >float</td>\n",
       "      <td id=\"T_ab46b_row2_col2\" class=\"data row2 col2\" ></td>\n",
       "    </tr>\n",
       "  </tbody>\n",
       "</table>\n"
      ],
      "text/plain": [
       "<pandas.io.formats.style.Styler at 0x30542b3d0>"
      ]
     },
     "metadata": {},
     "output_type": "display_data"
    }
   ],
   "source": [
    "films_t.describe()"
   ]
  },
  {
   "cell_type": "markdown",
   "metadata": {},
   "source": [
    "Besides the column names and types, there's a third element to the schema, `Computed With`. We'll explain what this means in the next section of the tutorial, [Computed Columns](...)."
   ]
  },
  {
   "cell_type": "markdown",
   "metadata": {},
   "source": [
    "All of the methods we've discussed so far, such as `insert()` and `get_table()`, are documented in the [Pixeltable API](https://pixeltable.github.io/pixeltable/) Documentation. The following pages are particularly relevant to this section of the tutorial:\n",
    "- [pixeltable](https://pixeltable.github.io/pixeltable/api/pixeltable/) package reference\n",
    "- [pxt.Table](https://pixeltable.github.io/pixeltable/api/table/) class reference\n",
    "- [API Cheat Sheet](https://pixeltable.github.io/pixeltable/api-cheat-sheet/)"
   ]
  },
  {
   "cell_type": "markdown",
   "metadata": {},
   "source": [
    "### A Real-World Example: Earthquake Data\n",
    "\n",
    "Now let's dive a little deeper into Pixeltable's data operations. To showcase all the features, it'll be helpful to have a real-world dataset, rather than our toy dataset with four movies. The dataset we'll be using consists of Earthquake data drawn from the US Geological Survey: all recorded Earthquakes that occurred within 100 km of Seattle, Washington, between January 1, 2023 and June 30, 2024.\n",
    "\n",
    "The dataset is in CSV format, and we can easily load it into Pixeltable with the handy `import_csv()` function, which creates a new Pixeltable table from the contents of a CSV file."
   ]
  },
  {
   "cell_type": "code",
   "execution_count": 17,
   "metadata": {},
   "outputs": [
    {
     "name": "stdout",
     "output_type": "stream",
     "text": [
      "Created table `earthquakes`.\n",
      "Computing cells:   0%|                                                 | 0/1823 [00:00<?, ? cells/s]\n",
      "Inserting rows into `earthquakes`: 0 rows [00:00, ? rows/s]\u001b[A\n",
      "Inserting rows into `earthquakes`: 1823 rows [00:00, 12150.16 rows/s]\u001b[A\n",
      "Computing cells: 100%|███████████████████████████████████| 1823/1823 [00:00<00:00, 11744.85 cells/s]\n",
      "Inserted 1823 rows with 0 errors.\n"
     ]
    }
   ],
   "source": [
    "eq_t = pxt.io.import_csv(\n",
    "    'fundamentals.earthquakes',  # Name for the new table\n",
    "    'https://raw.githubusercontent.com/aaron-siegel/pixeltable/fundamentals-tutorial/docs/source/data/earthquakes.csv',\n",
    "    parse_dates=[3]  # Interpret column 3 as a timestamp\n",
    ")"
   ]
  },
  {
   "cell_type": "markdown",
   "metadata": {},
   "source": [
    "<div class=\"alert alert-block alert-info\">\n",
    "In Pixeltable, you can always import external data by giving a URL instead of a local file path. This applies to CSV datasets, media files (such images and video), and other types of content. The URL will often be an http:// URL, but it can also be an s3:// URL referencing an S3 bucket.\n",
    "</div>\n",
    "\n",
    "Let's have a peek at our new dataset."
   ]
  },
  {
   "cell_type": "code",
   "execution_count": 18,
   "metadata": {},
   "outputs": [
    {
     "data": {
      "text/html": [
       "<table border=\"1\" class=\"dataframe\">\n",
       "  <thead>\n",
       "    <tr style=\"text-align: right;\">\n",
       "      <th>id</th>\n",
       "      <th>magnitude</th>\n",
       "      <th>location</th>\n",
       "      <th>timestamp</th>\n",
       "      <th>longitude</th>\n",
       "      <th>latitude</th>\n",
       "    </tr>\n",
       "  </thead>\n",
       "  <tbody>\n",
       "    <tr>\n",
       "      <td>0</td>\n",
       "      <td>1.15</td>\n",
       "      <td>10 km NW of Belfair, Washington</td>\n",
       "      <td>2023-01-01 08:10:37.050</td>\n",
       "      <td>-122.93</td>\n",
       "      <td>47.51</td>\n",
       "    </tr>\n",
       "    <tr>\n",
       "      <td>1</td>\n",
       "      <td>0.29</td>\n",
       "      <td>23 km ENE of Ashford, Washington</td>\n",
       "      <td>2023-01-02 01:02:43.950</td>\n",
       "      <td>-121.76</td>\n",
       "      <td>46.85</td>\n",
       "    </tr>\n",
       "    <tr>\n",
       "      <td>2</td>\n",
       "      <td>0.2</td>\n",
       "      <td>23 km ENE of Ashford, Washington</td>\n",
       "      <td>2023-01-02 12:05:01.420</td>\n",
       "      <td>-121.75</td>\n",
       "      <td>46.86</td>\n",
       "    </tr>\n",
       "    <tr>\n",
       "      <td>3</td>\n",
       "      <td>0.52</td>\n",
       "      <td>15 km NNE of Ashford, Washington</td>\n",
       "      <td>2023-01-02 12:45:14.220</td>\n",
       "      <td>-121.95</td>\n",
       "      <td>46.89</td>\n",
       "    </tr>\n",
       "    <tr>\n",
       "      <td>4</td>\n",
       "      <td>1.56</td>\n",
       "      <td>0 km WSW of Esperance, Washington</td>\n",
       "      <td>2023-01-02 13:19:27.200</td>\n",
       "      <td>-122.36</td>\n",
       "      <td>47.79</td>\n",
       "    </tr>\n",
       "    <tr>\n",
       "      <td>5</td>\n",
       "      <td>0.72</td>\n",
       "      <td>8 km ESE of Buckley, Washington</td>\n",
       "      <td>2023-01-03 05:51:24.760</td>\n",
       "      <td>-121.93</td>\n",
       "      <td>47.14</td>\n",
       "    </tr>\n",
       "    <tr>\n",
       "      <td>6</td>\n",
       "      <td>1.9</td>\n",
       "      <td>1 km ENE of Enetai, Washington</td>\n",
       "      <td>2023-01-03 05:56:23.780</td>\n",
       "      <td>-122.58</td>\n",
       "      <td>47.59</td>\n",
       "    </tr>\n",
       "    <tr>\n",
       "      <td>7</td>\n",
       "      <td>1.36</td>\n",
       "      <td>6 km SE of Black Diamond, Washington</td>\n",
       "      <td>2023-01-03 06:34:56.990</td>\n",
       "      <td>-121.93</td>\n",
       "      <td>47.28</td>\n",
       "    </tr>\n",
       "    <tr>\n",
       "      <td>8</td>\n",
       "      <td>1.47</td>\n",
       "      <td>2 km NE of Kapowsin, Washington</td>\n",
       "      <td>2023-01-03 20:41:01.760</td>\n",
       "      <td>-122.2</td>\n",
       "      <td>47.01</td>\n",
       "    </tr>\n",
       "    <tr>\n",
       "      <td>9</td>\n",
       "      <td>0.97</td>\n",
       "      <td>4 km NW of Picnic Point, Washington</td>\n",
       "      <td>2023-01-03 22:40:42.400</td>\n",
       "      <td>-122.36</td>\n",
       "      <td>47.91</td>\n",
       "    </tr>\n",
       "  </tbody>\n",
       "</table>"
      ],
      "text/plain": [
       "   id  magnitude                              location  \\\n",
       "0   0       1.15       10 km NW of Belfair, Washington   \n",
       "1   1       0.29      23 km ENE of Ashford, Washington   \n",
       "2   2       0.20      23 km ENE of Ashford, Washington   \n",
       "3   3       0.52      15 km NNE of Ashford, Washington   \n",
       "4   4       1.56     0 km WSW of Esperance, Washington   \n",
       "5   5       0.72       8 km ESE of Buckley, Washington   \n",
       "6   6       1.90        1 km ENE of Enetai, Washington   \n",
       "7   7       1.36  6 km SE of Black Diamond, Washington   \n",
       "8   8       1.47       2 km NE of Kapowsin, Washington   \n",
       "9   9       0.97   4 km NW of Picnic Point, Washington   \n",
       "\n",
       "                timestamp  longitude  latitude  \n",
       "0 2023-01-01 08:10:37.050    -122.93     47.51  \n",
       "1 2023-01-02 01:02:43.950    -121.76     46.85  \n",
       "2 2023-01-02 12:05:01.420    -121.75     46.86  \n",
       "3 2023-01-02 12:45:14.220    -121.95     46.89  \n",
       "4 2023-01-02 13:19:27.200    -122.36     47.79  \n",
       "5 2023-01-03 05:51:24.760    -121.93     47.14  \n",
       "6 2023-01-03 05:56:23.780    -122.58     47.59  \n",
       "7 2023-01-03 06:34:56.990    -121.93     47.28  \n",
       "8 2023-01-03 20:41:01.760    -122.20     47.01  \n",
       "9 2023-01-03 22:40:42.400    -122.36     47.91  "
      ]
     },
     "execution_count": 18,
     "metadata": {},
     "output_type": "execute_result"
    }
   ],
   "source": [
    "eq_t.head()"
   ]
  },
  {
   "cell_type": "markdown",
   "metadata": {},
   "source": [
    "And the schema:"
   ]
  },
  {
   "cell_type": "code",
   "execution_count": 19,
   "metadata": {},
   "outputs": [
    {
     "data": {
      "text/html": [
       "<style type=\"text/css\">\n",
       "#T_9bd96 th {\n",
       "  text-align: center;\n",
       "}\n",
       "#T_9bd96_row0_col0, #T_9bd96_row0_col1, #T_9bd96_row0_col2, #T_9bd96_row1_col0, #T_9bd96_row1_col1, #T_9bd96_row1_col2, #T_9bd96_row2_col0, #T_9bd96_row2_col1, #T_9bd96_row2_col2, #T_9bd96_row3_col0, #T_9bd96_row3_col1, #T_9bd96_row3_col2, #T_9bd96_row4_col0, #T_9bd96_row4_col1, #T_9bd96_row4_col2, #T_9bd96_row5_col0, #T_9bd96_row5_col1, #T_9bd96_row5_col2 {\n",
       "  white-space: pre-wrap;\n",
       "  text-align: left;\n",
       "}\n",
       "</style>\n",
       "<table id=\"T_9bd96\">\n",
       "  <thead>\n",
       "    <tr>\n",
       "      <th id=\"T_9bd96_level0_col0\" class=\"col_heading level0 col0\" >Column Name</th>\n",
       "      <th id=\"T_9bd96_level0_col1\" class=\"col_heading level0 col1\" >Type</th>\n",
       "      <th id=\"T_9bd96_level0_col2\" class=\"col_heading level0 col2\" >Computed With</th>\n",
       "    </tr>\n",
       "  </thead>\n",
       "  <tbody>\n",
       "    <tr>\n",
       "      <td id=\"T_9bd96_row0_col0\" class=\"data row0 col0\" >id</td>\n",
       "      <td id=\"T_9bd96_row0_col1\" class=\"data row0 col1\" >int</td>\n",
       "      <td id=\"T_9bd96_row0_col2\" class=\"data row0 col2\" ></td>\n",
       "    </tr>\n",
       "    <tr>\n",
       "      <td id=\"T_9bd96_row1_col0\" class=\"data row1 col0\" >magnitude</td>\n",
       "      <td id=\"T_9bd96_row1_col1\" class=\"data row1 col1\" >float</td>\n",
       "      <td id=\"T_9bd96_row1_col2\" class=\"data row1 col2\" ></td>\n",
       "    </tr>\n",
       "    <tr>\n",
       "      <td id=\"T_9bd96_row2_col0\" class=\"data row2 col0\" >location</td>\n",
       "      <td id=\"T_9bd96_row2_col1\" class=\"data row2 col1\" >string</td>\n",
       "      <td id=\"T_9bd96_row2_col2\" class=\"data row2 col2\" ></td>\n",
       "    </tr>\n",
       "    <tr>\n",
       "      <td id=\"T_9bd96_row3_col0\" class=\"data row3 col0\" >timestamp</td>\n",
       "      <td id=\"T_9bd96_row3_col1\" class=\"data row3 col1\" >timestamp</td>\n",
       "      <td id=\"T_9bd96_row3_col2\" class=\"data row3 col2\" ></td>\n",
       "    </tr>\n",
       "    <tr>\n",
       "      <td id=\"T_9bd96_row4_col0\" class=\"data row4 col0\" >longitude</td>\n",
       "      <td id=\"T_9bd96_row4_col1\" class=\"data row4 col1\" >float</td>\n",
       "      <td id=\"T_9bd96_row4_col2\" class=\"data row4 col2\" ></td>\n",
       "    </tr>\n",
       "    <tr>\n",
       "      <td id=\"T_9bd96_row5_col0\" class=\"data row5 col0\" >latitude</td>\n",
       "      <td id=\"T_9bd96_row5_col1\" class=\"data row5 col1\" >float</td>\n",
       "      <td id=\"T_9bd96_row5_col2\" class=\"data row5 col2\" ></td>\n",
       "    </tr>\n",
       "  </tbody>\n",
       "</table>\n"
      ],
      "text/plain": [
       "<pandas.io.formats.style.Styler at 0x3050479a0>"
      ]
     },
     "metadata": {},
     "output_type": "display_data"
    }
   ],
   "source": [
    "eq_t.describe()"
   ]
  },
  {
   "cell_type": "markdown",
   "metadata": {},
   "source": [
    "Note that while specifying a schema is mandatory when _creating_ a table, it's not always required when _importing_ data. This is because Pixeltable uses the structure of the imported data to infer the column types, when feasible. You can always override the inferred column types with the `schema_overrides` parameter of `import_csv()`.\n",
    "\n",
    "The following examples showcase some common data operations."
   ]
  },
  {
   "cell_type": "code",
   "execution_count": 20,
   "metadata": {},
   "outputs": [
    {
     "data": {
      "text/plain": [
       "1823"
      ]
     },
     "execution_count": 20,
     "metadata": {},
     "output_type": "execute_result"
    }
   ],
   "source": [
    "eq_t.count()  # Number of rows in the table"
   ]
  },
  {
   "cell_type": "code",
   "execution_count": 21,
   "metadata": {},
   "outputs": [
    {
     "data": {
      "text/html": [
       "<table border=\"1\" class=\"dataframe\">\n",
       "  <thead>\n",
       "    <tr style=\"text-align: right;\">\n",
       "      <th>id</th>\n",
       "      <th>magnitude</th>\n",
       "      <th>location</th>\n",
       "      <th>timestamp</th>\n",
       "      <th>longitude</th>\n",
       "      <th>latitude</th>\n",
       "    </tr>\n",
       "  </thead>\n",
       "  <tbody>\n",
       "    <tr>\n",
       "      <td>1002</td>\n",
       "      <td>4.3</td>\n",
       "      <td>Port Townsend, WA</td>\n",
       "      <td>2023-10-09 02:21:08.960</td>\n",
       "      <td>-122.73</td>\n",
       "      <td>48.04</td>\n",
       "    </tr>\n",
       "    <tr>\n",
       "      <td>1226</td>\n",
       "      <td>4.04</td>\n",
       "      <td>6 km W of Quilcene, Washington</td>\n",
       "      <td>2023-12-24 15:14:04.220</td>\n",
       "      <td>-122.96</td>\n",
       "      <td>47.82</td>\n",
       "    </tr>\n",
       "    <tr>\n",
       "      <td>699</td>\n",
       "      <td>3.91</td>\n",
       "      <td>9 km NNE of Snoqualmie, Washington</td>\n",
       "      <td>2023-08-08 10:17:23.910</td>\n",
       "      <td>-121.77</td>\n",
       "      <td>47.6</td>\n",
       "    </tr>\n",
       "    <tr>\n",
       "      <td>1281</td>\n",
       "      <td>3.48</td>\n",
       "      <td>7 km SSW of River Road, Washington</td>\n",
       "      <td>2024-01-15 07:25:05.920</td>\n",
       "      <td>-123.17</td>\n",
       "      <td>48.</td>\n",
       "    </tr>\n",
       "    <tr>\n",
       "      <td>1355</td>\n",
       "      <td>3.42</td>\n",
       "      <td>17 km WSW of Brinnon, Washington</td>\n",
       "      <td>2024-02-16 16:30:18.830</td>\n",
       "      <td>-123.09</td>\n",
       "      <td>47.59</td>\n",
       "    </tr>\n",
       "    <tr>\n",
       "      <td>1367</td>\n",
       "      <td>3.38</td>\n",
       "      <td>13 km E of Lake Marcel-Stillwater, Washington</td>\n",
       "      <td>2024-02-22 13:02:49.580</td>\n",
       "      <td>-121.73</td>\n",
       "      <td>47.67</td>\n",
       "    </tr>\n",
       "    <tr>\n",
       "      <td>1123</td>\n",
       "      <td>3.32</td>\n",
       "      <td>2 km SSE of Stanwood, Washington</td>\n",
       "      <td>2023-11-17 00:47:40.540</td>\n",
       "      <td>-122.36</td>\n",
       "      <td>48.22</td>\n",
       "    </tr>\n",
       "    <tr>\n",
       "      <td>1286</td>\n",
       "      <td>3.26</td>\n",
       "      <td>1 km NNE of Coupeville, Washington</td>\n",
       "      <td>2024-01-18 03:47:41.020</td>\n",
       "      <td>-122.68</td>\n",
       "      <td>48.24</td>\n",
       "    </tr>\n",
       "    <tr>\n",
       "      <td>1408</td>\n",
       "      <td>3.12</td>\n",
       "      <td>7 km WSW of Snoqualmie, Washington</td>\n",
       "      <td>2024-03-07 01:48:35.340</td>\n",
       "      <td>-121.91</td>\n",
       "      <td>47.49</td>\n",
       "    </tr>\n",
       "    <tr>\n",
       "      <td>455</td>\n",
       "      <td>3.11</td>\n",
       "      <td>6 km N of Camano, Washington</td>\n",
       "      <td>2023-05-23 07:21:34.690</td>\n",
       "      <td>-122.52</td>\n",
       "      <td>48.23</td>\n",
       "    </tr>\n",
       "  </tbody>\n",
       "</table>"
      ],
      "text/plain": [
       "     id  magnitude                                       location  \\\n",
       "0  1002       4.30                              Port Townsend, WA   \n",
       "1  1226       4.04                 6 km W of Quilcene, Washington   \n",
       "2   699       3.91             9 km NNE of Snoqualmie, Washington   \n",
       "3  1281       3.48             7 km SSW of River Road, Washington   \n",
       "4  1355       3.42               17 km WSW of Brinnon, Washington   \n",
       "5  1367       3.38  13 km E of Lake Marcel-Stillwater, Washington   \n",
       "6  1123       3.32               2 km SSE of Stanwood, Washington   \n",
       "7  1286       3.26             1 km NNE of Coupeville, Washington   \n",
       "8  1408       3.12             7 km WSW of Snoqualmie, Washington   \n",
       "9   455       3.11                   6 km N of Camano, Washington   \n",
       "\n",
       "                timestamp  longitude  latitude  \n",
       "0 2023-10-09 02:21:08.960    -122.73     48.04  \n",
       "1 2023-12-24 15:14:04.220    -122.96     47.82  \n",
       "2 2023-08-08 10:17:23.910    -121.77     47.60  \n",
       "3 2024-01-15 07:25:05.920    -123.17     48.00  \n",
       "4 2024-02-16 16:30:18.830    -123.09     47.59  \n",
       "5 2024-02-22 13:02:49.580    -121.73     47.67  \n",
       "6 2023-11-17 00:47:40.540    -122.36     48.22  \n",
       "7 2024-01-18 03:47:41.020    -122.68     48.24  \n",
       "8 2024-03-07 01:48:35.340    -121.91     47.49  \n",
       "9 2023-05-23 07:21:34.690    -122.52     48.23  "
      ]
     },
     "execution_count": 21,
     "metadata": {},
     "output_type": "execute_result"
    }
   ],
   "source": [
    "# 10 highest-magnitude earthquakes\n",
    "\n",
    "eq_t.order_by(eq_t.magnitude, asc=False).head()"
   ]
  },
  {
   "cell_type": "code",
   "execution_count": 22,
   "metadata": {},
   "outputs": [
    {
     "data": {
      "text/html": [
       "<table border=\"1\" class=\"dataframe\">\n",
       "  <thead>\n",
       "    <tr style=\"text-align: right;\">\n",
       "      <th>id</th>\n",
       "      <th>magnitude</th>\n",
       "      <th>location</th>\n",
       "      <th>timestamp</th>\n",
       "      <th>longitude</th>\n",
       "      <th>latitude</th>\n",
       "    </tr>\n",
       "  </thead>\n",
       "  <tbody>\n",
       "    <tr>\n",
       "      <td>699</td>\n",
       "      <td>3.91</td>\n",
       "      <td>9 km NNE of Snoqualmie, Washington</td>\n",
       "      <td>2023-08-08 10:17:23.910</td>\n",
       "      <td>-121.77</td>\n",
       "      <td>47.6</td>\n",
       "    </tr>\n",
       "    <tr>\n",
       "      <td>799</td>\n",
       "      <td>2.86</td>\n",
       "      <td>5 km E of Ashford, Washington</td>\n",
       "      <td>2023-08-27 10:10:23.770</td>\n",
       "      <td>-121.96</td>\n",
       "      <td>46.77</td>\n",
       "    </tr>\n",
       "    <tr>\n",
       "      <td>710</td>\n",
       "      <td>2.84</td>\n",
       "      <td>8 km ENE of Fall City, Washington</td>\n",
       "      <td>2023-08-08 11:51:12.750</td>\n",
       "      <td>-121.79</td>\n",
       "      <td>47.6</td>\n",
       "    </tr>\n",
       "    <tr>\n",
       "      <td>577</td>\n",
       "      <td>2.79</td>\n",
       "      <td>0 km NE of Maple Valley, Washington</td>\n",
       "      <td>2023-07-04 15:52:54.430</td>\n",
       "      <td>-122.04</td>\n",
       "      <td>47.4</td>\n",
       "    </tr>\n",
       "    <tr>\n",
       "      <td>769</td>\n",
       "      <td>2.73</td>\n",
       "      <td>16 km NE of Ashford, Washington</td>\n",
       "      <td>2023-08-22 23:44:12.250</td>\n",
       "      <td>-121.88</td>\n",
       "      <td>46.87</td>\n",
       "    </tr>\n",
       "    <tr>\n",
       "      <td>606</td>\n",
       "      <td>2.58</td>\n",
       "      <td>Puget Sound region, Washington</td>\n",
       "      <td>2023-07-11 18:12:58.050</td>\n",
       "      <td>-122.92</td>\n",
       "      <td>47.53</td>\n",
       "    </tr>\n",
       "    <tr>\n",
       "      <td>584</td>\n",
       "      <td>2.57</td>\n",
       "      <td>20 km S of Friday Harbor, Washington</td>\n",
       "      <td>2023-07-07 09:12:34.430</td>\n",
       "      <td>-123.</td>\n",
       "      <td>48.35</td>\n",
       "    </tr>\n",
       "    <tr>\n",
       "      <td>926</td>\n",
       "      <td>2.5</td>\n",
       "      <td>9 km NNE of Snoqualmie, Washington</td>\n",
       "      <td>2023-09-17 07:08:54.480</td>\n",
       "      <td>-121.76</td>\n",
       "      <td>47.6</td>\n",
       "    </tr>\n",
       "    <tr>\n",
       "      <td>643</td>\n",
       "      <td>2.42</td>\n",
       "      <td>11 km SW of Brinnon, Washington</td>\n",
       "      <td>2023-07-21 17:39:03.540</td>\n",
       "      <td>-123.</td>\n",
       "      <td>47.61</td>\n",
       "    </tr>\n",
       "    <tr>\n",
       "      <td>509</td>\n",
       "      <td>2.35</td>\n",
       "      <td>21 km NE of Ashford, Washington</td>\n",
       "      <td>2023-06-08 22:34:11.200</td>\n",
       "      <td>-121.87</td>\n",
       "      <td>46.91</td>\n",
       "    </tr>\n",
       "  </tbody>\n",
       "</table>"
      ],
      "text/plain": [
       "    id  magnitude                              location  \\\n",
       "0  699       3.91    9 km NNE of Snoqualmie, Washington   \n",
       "1  799       2.86         5 km E of Ashford, Washington   \n",
       "2  710       2.84     8 km ENE of Fall City, Washington   \n",
       "3  577       2.79   0 km NE of Maple Valley, Washington   \n",
       "4  769       2.73       16 km NE of Ashford, Washington   \n",
       "5  606       2.58        Puget Sound region, Washington   \n",
       "6  584       2.57  20 km S of Friday Harbor, Washington   \n",
       "7  926       2.50    9 km NNE of Snoqualmie, Washington   \n",
       "8  643       2.42       11 km SW of Brinnon, Washington   \n",
       "9  509       2.35       21 km NE of Ashford, Washington   \n",
       "\n",
       "                timestamp  longitude  latitude  \n",
       "0 2023-08-08 10:17:23.910    -121.77     47.60  \n",
       "1 2023-08-27 10:10:23.770    -121.96     46.77  \n",
       "2 2023-08-08 11:51:12.750    -121.79     47.60  \n",
       "3 2023-07-04 15:52:54.430    -122.04     47.40  \n",
       "4 2023-08-22 23:44:12.250    -121.88     46.87  \n",
       "5 2023-07-11 18:12:58.050    -122.92     47.53  \n",
       "6 2023-07-07 09:12:34.430    -123.00     48.35  \n",
       "7 2023-09-17 07:08:54.480    -121.76     47.60  \n",
       "8 2023-07-21 17:39:03.540    -123.00     47.61  \n",
       "9 2023-06-08 22:34:11.200    -121.87     46.91  "
      ]
     },
     "execution_count": 22,
     "metadata": {},
     "output_type": "execute_result"
    }
   ],
   "source": [
    "# 10 highest-magnitude earthquakes in Q3 2023\n",
    "\n",
    "eq_t.where((eq_t.timestamp >= '2023-06-01') & (eq_t.timestamp < '2023-10-01')) \\\n",
    "  .order_by(eq_t.magnitude, asc=False).head()"
   ]
  },
  {
   "cell_type": "markdown",
   "metadata": {},
   "source": [
    "Note that Pixeltable uses Pandas-like operators for filtering data:\n",
    "\n",
    "```\n",
    "(eq_t.timestamp >= '2023-06-01') & (eq_t.timestamp < '2023-10-01')\n",
    "```\n",
    "\n",
    "means _both_ conditions must be true; similarly (say),\n",
    "\n",
    "```\n",
    "(eq_t.timestamp < '2023-06-01') | (eq_t.timestamp >= '2024-01-01')\n",
    "```\n",
    "\n",
    "would mean _either_ condition must be true.\n",
    "\n",
    "You can also use the special `isin` operator to select just those values that appear within a particular list:"
   ]
  },
  {
   "cell_type": "code",
   "execution_count": 23,
   "metadata": {},
   "outputs": [
    {
     "data": {
      "text/html": [
       "<table border=\"1\" class=\"dataframe\">\n",
       "  <thead>\n",
       "    <tr style=\"text-align: right;\">\n",
       "      <th>id</th>\n",
       "      <th>magnitude</th>\n",
       "      <th>location</th>\n",
       "      <th>timestamp</th>\n",
       "      <th>longitude</th>\n",
       "      <th>latitude</th>\n",
       "    </tr>\n",
       "  </thead>\n",
       "  <tbody>\n",
       "    <tr>\n",
       "      <td>123</td>\n",
       "      <td>1.23</td>\n",
       "      <td>7 km SW of Rainier, Washington</td>\n",
       "      <td>2023-02-17 00:28:25.460</td>\n",
       "      <td>-122.75</td>\n",
       "      <td>46.84</td>\n",
       "    </tr>\n",
       "    <tr>\n",
       "      <td>456</td>\n",
       "      <td>0.23</td>\n",
       "      <td>Washington</td>\n",
       "      <td>2023-05-23 08:49:02.450</td>\n",
       "      <td>-121.98</td>\n",
       "      <td>46.87</td>\n",
       "    </tr>\n",
       "    <tr>\n",
       "      <td>789</td>\n",
       "      <td>1.67</td>\n",
       "      <td>Puget Sound region, Washington</td>\n",
       "      <td>2023-08-26 04:04:11.200</td>\n",
       "      <td>-122.57</td>\n",
       "      <td>47.6</td>\n",
       "    </tr>\n",
       "  </tbody>\n",
       "</table>"
      ],
      "text/plain": [
       "    id  magnitude                        location               timestamp  \\\n",
       "0  123       1.23  7 km SW of Rainier, Washington 2023-02-17 00:28:25.460   \n",
       "1  456       0.23                      Washington 2023-05-23 08:49:02.450   \n",
       "2  789       1.67  Puget Sound region, Washington 2023-08-26 04:04:11.200   \n",
       "\n",
       "   longitude  latitude  \n",
       "0    -122.75     46.84  \n",
       "1    -121.98     46.87  \n",
       "2    -122.57     47.60  "
      ]
     },
     "execution_count": 23,
     "metadata": {},
     "output_type": "execute_result"
    }
   ],
   "source": [
    "# Earthquakes with specific ids\n",
    "\n",
    "eq_t.where(eq_t.id.isin([123,456,789])).head()"
   ]
  },
  {
   "cell_type": "code",
   "execution_count": 24,
   "metadata": {},
   "outputs": [
    {
     "data": {
      "text/html": [
       "<table border=\"1\" class=\"dataframe\">\n",
       "  <thead>\n",
       "    <tr style=\"text-align: right;\">\n",
       "      <th>min</th>\n",
       "      <th>max</th>\n",
       "    </tr>\n",
       "  </thead>\n",
       "  <tbody>\n",
       "    <tr>\n",
       "      <td>-0.83</td>\n",
       "      <td>4.3</td>\n",
       "    </tr>\n",
       "  </tbody>\n",
       "</table>"
      ],
      "text/plain": [
       "    min  max\n",
       "0 -0.83  4.3"
      ]
     },
     "execution_count": 24,
     "metadata": {},
     "output_type": "execute_result"
    }
   ],
   "source": [
    "# Min and max magnitudes\n",
    "\n",
    "eq_t.select(min=pxt.functions.min(eq_t.magnitude), max=pxt.functions.max(eq_t.magnitude)).head()"
   ]
  },
  {
   "cell_type": "markdown",
   "metadata": {},
   "source": [
    "### Extracting Data from Tables into Python/Pandas"
   ]
  },
  {
   "cell_type": "markdown",
   "metadata": {},
   "source": [
    "Sometimes it's handy to pull out data from a table into a Python object. We've actually already done this; all the calls to `head()` and `tail()` return an in-memory result set, which we can then dereference in various ways. For example:"
   ]
  },
  {
   "cell_type": "code",
   "execution_count": 25,
   "metadata": {},
   "outputs": [
    {
     "data": {
      "text/plain": [
       "{'id': 0,\n",
       " 'magnitude': 1.15,\n",
       " 'location': '10 km NW of Belfair, Washington',\n",
       " 'timestamp': datetime.datetime(2023, 1, 1, 8, 10, 37, 50000),\n",
       " 'longitude': -122.93,\n",
       " 'latitude': 47.51}"
      ]
     },
     "execution_count": 25,
     "metadata": {},
     "output_type": "execute_result"
    }
   ],
   "source": [
    "result = eq_t.head()\n",
    "result[0]  # Get the first row of the table as a dict"
   ]
  },
  {
   "cell_type": "code",
   "execution_count": 26,
   "metadata": {},
   "outputs": [
    {
     "data": {
      "text/plain": [
       "[datetime.datetime(2023, 1, 1, 8, 10, 37, 50000),\n",
       " datetime.datetime(2023, 1, 2, 1, 2, 43, 950000),\n",
       " datetime.datetime(2023, 1, 2, 12, 5, 1, 420000),\n",
       " datetime.datetime(2023, 1, 2, 12, 45, 14, 220000),\n",
       " datetime.datetime(2023, 1, 2, 13, 19, 27, 200000),\n",
       " datetime.datetime(2023, 1, 3, 5, 51, 24, 760000),\n",
       " datetime.datetime(2023, 1, 3, 5, 56, 23, 780000),\n",
       " datetime.datetime(2023, 1, 3, 6, 34, 56, 990000),\n",
       " datetime.datetime(2023, 1, 3, 20, 41, 1, 760000),\n",
       " datetime.datetime(2023, 1, 3, 22, 40, 42, 400000)]"
      ]
     },
     "execution_count": 26,
     "metadata": {},
     "output_type": "execute_result"
    }
   ],
   "source": [
    "result['timestamp']  # Get a list of the `timestamp` field of the first 10 rows"
   ]
  },
  {
   "cell_type": "code",
   "execution_count": 27,
   "metadata": {},
   "outputs": [
    {
     "data": {
      "text/plain": [
       "count    10.000000\n",
       "mean      1.014000\n",
       "std       0.572367\n",
       "min       0.200000\n",
       "25%       0.570000\n",
       "50%       1.060000\n",
       "75%       1.442500\n",
       "max       1.900000\n",
       "Name: magnitude, dtype: float64"
      ]
     },
     "execution_count": 27,
     "metadata": {},
     "output_type": "execute_result"
    }
   ],
   "source": [
    "df = result.to_pandas()  # Convert the result set into a Pandas data frame\n",
    "df['magnitude'].describe()"
   ]
  },
  {
   "cell_type": "markdown",
   "metadata": {},
   "source": [
    "`head()` and `tail()` return a fixed maximum number of rows. If you want to return _all_ the rows from a query, use `collect()`. Be careful! `collect()` pulls the entire contents of a query into memory. For very large tables, this could result in out-of-memory errors. In this example, the 1823 rows in the table fit comfortable into a data frame."
   ]
  },
  {
   "cell_type": "code",
   "execution_count": 28,
   "metadata": {},
   "outputs": [
    {
     "data": {
      "text/plain": [
       "count    1823.000000\n",
       "mean        0.900378\n",
       "std         0.625492\n",
       "min        -0.830000\n",
       "25%         0.420000\n",
       "50%         0.850000\n",
       "75%         1.310000\n",
       "max         4.300000\n",
       "Name: magnitude, dtype: float64"
      ]
     },
     "execution_count": 28,
     "metadata": {},
     "output_type": "execute_result"
    }
   ],
   "source": [
    "df = eq_t.collect().to_pandas()\n",
    "df['magnitude'].describe()"
   ]
  },
  {
   "cell_type": "markdown",
   "metadata": {},
   "source": [
    "You can use `limit()` to prune the results of `collect()`. Unlike `head()` and `tail()`, which go by insertion order of the table, `collect()` will return the results in an arbitrary order (which might be insertion order, but not necessarily), unless an `order_by()` clause is specified."
   ]
  },
  {
   "cell_type": "code",
   "execution_count": 29,
   "metadata": {},
   "outputs": [
    {
     "data": {
      "text/html": [
       "<table border=\"1\" class=\"dataframe\">\n",
       "  <thead>\n",
       "    <tr style=\"text-align: right;\">\n",
       "      <th>id</th>\n",
       "      <th>magnitude</th>\n",
       "      <th>location</th>\n",
       "      <th>timestamp</th>\n",
       "      <th>longitude</th>\n",
       "      <th>latitude</th>\n",
       "    </tr>\n",
       "  </thead>\n",
       "  <tbody>\n",
       "    <tr>\n",
       "      <td>1236</td>\n",
       "      <td>0.83</td>\n",
       "      <td>1 km NNE of Lake Marcel-Stillwater, Washington</td>\n",
       "      <td>2024-01-01 14:32:21.920</td>\n",
       "      <td>-121.91</td>\n",
       "      <td>47.7</td>\n",
       "    </tr>\n",
       "    <tr>\n",
       "      <td>1237</td>\n",
       "      <td>1.17</td>\n",
       "      <td>3 km WNW of Eatonville, Washington</td>\n",
       "      <td>2024-01-02 19:56:08.460</td>\n",
       "      <td>-122.31</td>\n",
       "      <td>46.87</td>\n",
       "    </tr>\n",
       "    <tr>\n",
       "      <td>1238</td>\n",
       "      <td>1.88</td>\n",
       "      <td>10 km NE of Lake Marcel-Stillwater, Washington</td>\n",
       "      <td>2024-01-02 22:10:16.890</td>\n",
       "      <td>-121.84</td>\n",
       "      <td>47.77</td>\n",
       "    </tr>\n",
       "    <tr>\n",
       "      <td>1239</td>\n",
       "      <td>1.19</td>\n",
       "      <td>3 km S of Quilcene, Washington</td>\n",
       "      <td>2024-01-03 03:42:54.260</td>\n",
       "      <td>-122.87</td>\n",
       "      <td>47.79</td>\n",
       "    </tr>\n",
       "    <tr>\n",
       "      <td>1240</td>\n",
       "      <td>0.5</td>\n",
       "      <td>23 km ENE of Ashford, Washington</td>\n",
       "      <td>2024-01-03 10:31:55.890</td>\n",
       "      <td>-121.76</td>\n",
       "      <td>46.85</td>\n",
       "    </tr>\n",
       "  </tbody>\n",
       "</table>"
      ],
      "text/plain": [
       "     id  magnitude                                        location  \\\n",
       "0  1236       0.83  1 km NNE of Lake Marcel-Stillwater, Washington   \n",
       "1  1237       1.17              3 km WNW of Eatonville, Washington   \n",
       "2  1238       1.88  10 km NE of Lake Marcel-Stillwater, Washington   \n",
       "3  1239       1.19                  3 km S of Quilcene, Washington   \n",
       "4  1240       0.50                23 km ENE of Ashford, Washington   \n",
       "\n",
       "                timestamp  longitude  latitude  \n",
       "0 2024-01-01 14:32:21.920    -121.91     47.70  \n",
       "1 2024-01-02 19:56:08.460    -122.31     46.87  \n",
       "2 2024-01-02 22:10:16.890    -121.84     47.77  \n",
       "3 2024-01-03 03:42:54.260    -122.87     47.79  \n",
       "4 2024-01-03 10:31:55.890    -121.76     46.85  "
      ]
     },
     "execution_count": 29,
     "metadata": {},
     "output_type": "execute_result"
    }
   ],
   "source": [
    "eq_t.where(eq_t.timestamp >= '2024-01-01').limit(5).collect()"
   ]
  },
  {
   "cell_type": "markdown",
   "metadata": {},
   "source": [
    "### Adding Columns"
   ]
  },
  {
   "cell_type": "markdown",
   "metadata": {},
   "source": [
    "Like other database tables, Pixeltable tables aren't fixed entities: they're meant to evolve over time. Suppose we want to add a new column to hold user-specified comments about particular earthquake events. We can do this with the `add_column()` method:"
   ]
  },
  {
   "cell_type": "code",
   "execution_count": 30,
   "metadata": {},
   "outputs": [
    {
     "name": "stdout",
     "output_type": "stream",
     "text": [
      "Computing cells: 100%|████████████████████████████████████| 1823/1823 [00:00<00:00, 3019.30 cells/s]\n",
      "Added 1823 column values with 0 errors.\n"
     ]
    },
    {
     "data": {
      "text/plain": [
       "UpdateStatus(num_rows=1823, num_computed_values=1823, num_excs=0, updated_cols=[], cols_with_excs=[])"
      ]
     },
     "execution_count": 30,
     "metadata": {},
     "output_type": "execute_result"
    }
   ],
   "source": [
    "eq_t.add_column(note=pxt.StringType(nullable=True))"
   ]
  },
  {
   "cell_type": "markdown",
   "metadata": {},
   "source": [
    "Here, `pxt.StringType` specifies the type of the new column. `nullable=True` means that it's an _optional_ field. That `nullable=True` is mandatory for newly-added columns, because none of the existing rows have a comment (yet) - so it'd be inconsistent with the existing data to make `comment` a required field.\n",
    "\n",
    "An alternate syntax is sometimes convenient for adding columns:"
   ]
  },
  {
   "cell_type": "code",
   "execution_count": 31,
   "metadata": {},
   "outputs": [
    {
     "name": "stdout",
     "output_type": "stream",
     "text": [
      "Computing cells: 100%|████████████████████████████████████| 1823/1823 [00:00<00:00, 2902.28 cells/s]\n",
      "Added 1823 column values with 0 errors.\n"
     ]
    }
   ],
   "source": [
    "eq_t['contact_email'] = pxt.StringType(nullable=True)"
   ]
  },
  {
   "cell_type": "markdown",
   "metadata": {},
   "source": [
    "Let's have a look at the revised schema."
   ]
  },
  {
   "cell_type": "code",
   "execution_count": 32,
   "metadata": {},
   "outputs": [
    {
     "data": {
      "text/html": [
       "<style type=\"text/css\">\n",
       "#T_960a1 th {\n",
       "  text-align: center;\n",
       "}\n",
       "#T_960a1_row0_col0, #T_960a1_row0_col1, #T_960a1_row0_col2, #T_960a1_row1_col0, #T_960a1_row1_col1, #T_960a1_row1_col2, #T_960a1_row2_col0, #T_960a1_row2_col1, #T_960a1_row2_col2, #T_960a1_row3_col0, #T_960a1_row3_col1, #T_960a1_row3_col2, #T_960a1_row4_col0, #T_960a1_row4_col1, #T_960a1_row4_col2, #T_960a1_row5_col0, #T_960a1_row5_col1, #T_960a1_row5_col2, #T_960a1_row6_col0, #T_960a1_row6_col1, #T_960a1_row6_col2, #T_960a1_row7_col0, #T_960a1_row7_col1, #T_960a1_row7_col2 {\n",
       "  white-space: pre-wrap;\n",
       "  text-align: left;\n",
       "}\n",
       "</style>\n",
       "<table id=\"T_960a1\">\n",
       "  <thead>\n",
       "    <tr>\n",
       "      <th id=\"T_960a1_level0_col0\" class=\"col_heading level0 col0\" >Column Name</th>\n",
       "      <th id=\"T_960a1_level0_col1\" class=\"col_heading level0 col1\" >Type</th>\n",
       "      <th id=\"T_960a1_level0_col2\" class=\"col_heading level0 col2\" >Computed With</th>\n",
       "    </tr>\n",
       "  </thead>\n",
       "  <tbody>\n",
       "    <tr>\n",
       "      <td id=\"T_960a1_row0_col0\" class=\"data row0 col0\" >id</td>\n",
       "      <td id=\"T_960a1_row0_col1\" class=\"data row0 col1\" >int</td>\n",
       "      <td id=\"T_960a1_row0_col2\" class=\"data row0 col2\" ></td>\n",
       "    </tr>\n",
       "    <tr>\n",
       "      <td id=\"T_960a1_row1_col0\" class=\"data row1 col0\" >magnitude</td>\n",
       "      <td id=\"T_960a1_row1_col1\" class=\"data row1 col1\" >float</td>\n",
       "      <td id=\"T_960a1_row1_col2\" class=\"data row1 col2\" ></td>\n",
       "    </tr>\n",
       "    <tr>\n",
       "      <td id=\"T_960a1_row2_col0\" class=\"data row2 col0\" >location</td>\n",
       "      <td id=\"T_960a1_row2_col1\" class=\"data row2 col1\" >string</td>\n",
       "      <td id=\"T_960a1_row2_col2\" class=\"data row2 col2\" ></td>\n",
       "    </tr>\n",
       "    <tr>\n",
       "      <td id=\"T_960a1_row3_col0\" class=\"data row3 col0\" >timestamp</td>\n",
       "      <td id=\"T_960a1_row3_col1\" class=\"data row3 col1\" >timestamp</td>\n",
       "      <td id=\"T_960a1_row3_col2\" class=\"data row3 col2\" ></td>\n",
       "    </tr>\n",
       "    <tr>\n",
       "      <td id=\"T_960a1_row4_col0\" class=\"data row4 col0\" >longitude</td>\n",
       "      <td id=\"T_960a1_row4_col1\" class=\"data row4 col1\" >float</td>\n",
       "      <td id=\"T_960a1_row4_col2\" class=\"data row4 col2\" ></td>\n",
       "    </tr>\n",
       "    <tr>\n",
       "      <td id=\"T_960a1_row5_col0\" class=\"data row5 col0\" >latitude</td>\n",
       "      <td id=\"T_960a1_row5_col1\" class=\"data row5 col1\" >float</td>\n",
       "      <td id=\"T_960a1_row5_col2\" class=\"data row5 col2\" ></td>\n",
       "    </tr>\n",
       "    <tr>\n",
       "      <td id=\"T_960a1_row6_col0\" class=\"data row6 col0\" >note</td>\n",
       "      <td id=\"T_960a1_row6_col1\" class=\"data row6 col1\" >string</td>\n",
       "      <td id=\"T_960a1_row6_col2\" class=\"data row6 col2\" ></td>\n",
       "    </tr>\n",
       "    <tr>\n",
       "      <td id=\"T_960a1_row7_col0\" class=\"data row7 col0\" >contact_email</td>\n",
       "      <td id=\"T_960a1_row7_col1\" class=\"data row7 col1\" >string</td>\n",
       "      <td id=\"T_960a1_row7_col2\" class=\"data row7 col2\" ></td>\n",
       "    </tr>\n",
       "  </tbody>\n",
       "</table>\n"
      ],
      "text/plain": [
       "<pandas.io.formats.style.Styler at 0x30568fc70>"
      ]
     },
     "metadata": {},
     "output_type": "display_data"
    }
   ],
   "source": [
    "eq_t.describe()"
   ]
  },
  {
   "cell_type": "markdown",
   "metadata": {},
   "source": [
    "### Updating and Deleting Data"
   ]
  },
  {
   "cell_type": "markdown",
   "metadata": {},
   "source": [
    "Table rows can be modified and deleted with the SQL-like `update()` and `delete()` commands."
   ]
  },
  {
   "cell_type": "code",
   "execution_count": 33,
   "metadata": {},
   "outputs": [
    {
     "name": "stdout",
     "output_type": "stream",
     "text": [
      "Inserting rows into `earthquakes`: 2 rows [00:00, 746.58 rows/s]\n"
     ]
    },
    {
     "data": {
      "text/plain": [
       "UpdateStatus(num_rows=2, num_computed_values=0, num_excs=0, updated_cols=['earthquakes.note', 'earthquakes.contact_email'], cols_with_excs=[])"
      ]
     },
     "execution_count": 33,
     "metadata": {},
     "output_type": "execute_result"
    }
   ],
   "source": [
    "# Add a comment to records with IDs 123 and 127\n",
    "\n",
    "eq_t.where(eq_t.id.isin([123,127])).update({'note': 'Still investigating.', 'contact_email': 'contact@pixeltable.com'})"
   ]
  },
  {
   "cell_type": "code",
   "execution_count": 34,
   "metadata": {},
   "outputs": [
    {
     "data": {
      "text/html": [
       "<table border=\"1\" class=\"dataframe\">\n",
       "  <thead>\n",
       "    <tr style=\"text-align: right;\">\n",
       "      <th>id</th>\n",
       "      <th>magnitude</th>\n",
       "      <th>note</th>\n",
       "      <th>contact_email</th>\n",
       "    </tr>\n",
       "  </thead>\n",
       "  <tbody>\n",
       "    <tr>\n",
       "      <td>120</td>\n",
       "      <td>1.17</td>\n",
       "      <td>None</td>\n",
       "      <td>None</td>\n",
       "    </tr>\n",
       "    <tr>\n",
       "      <td>121</td>\n",
       "      <td>1.87</td>\n",
       "      <td>None</td>\n",
       "      <td>None</td>\n",
       "    </tr>\n",
       "    <tr>\n",
       "      <td>122</td>\n",
       "      <td>0.34</td>\n",
       "      <td>None</td>\n",
       "      <td>None</td>\n",
       "    </tr>\n",
       "    <tr>\n",
       "      <td>123</td>\n",
       "      <td>1.23</td>\n",
       "      <td>Still investigating.</td>\n",
       "      <td>contact@pixeltable.com</td>\n",
       "    </tr>\n",
       "    <tr>\n",
       "      <td>124</td>\n",
       "      <td>0.13</td>\n",
       "      <td>None</td>\n",
       "      <td>None</td>\n",
       "    </tr>\n",
       "    <tr>\n",
       "      <td>125</td>\n",
       "      <td>0.29</td>\n",
       "      <td>None</td>\n",
       "      <td>None</td>\n",
       "    </tr>\n",
       "    <tr>\n",
       "      <td>126</td>\n",
       "      <td>1.48</td>\n",
       "      <td>None</td>\n",
       "      <td>None</td>\n",
       "    </tr>\n",
       "    <tr>\n",
       "      <td>127</td>\n",
       "      <td>0.63</td>\n",
       "      <td>Still investigating.</td>\n",
       "      <td>contact@pixeltable.com</td>\n",
       "    </tr>\n",
       "    <tr>\n",
       "      <td>128</td>\n",
       "      <td>1.54</td>\n",
       "      <td>None</td>\n",
       "      <td>None</td>\n",
       "    </tr>\n",
       "    <tr>\n",
       "      <td>129</td>\n",
       "      <td>0.7</td>\n",
       "      <td>None</td>\n",
       "      <td>None</td>\n",
       "    </tr>\n",
       "  </tbody>\n",
       "</table>"
      ],
      "text/plain": [
       "    id  magnitude                  note           contact_email\n",
       "0  120       1.17                  None                    None\n",
       "1  121       1.87                  None                    None\n",
       "2  122       0.34                  None                    None\n",
       "3  123       1.23  Still investigating.  contact@pixeltable.com\n",
       "4  124       0.13                  None                    None\n",
       "5  125       0.29                  None                    None\n",
       "6  126       1.48                  None                    None\n",
       "7  127       0.63  Still investigating.  contact@pixeltable.com\n",
       "8  128       1.54                  None                    None\n",
       "9  129       0.70                  None                    None"
      ]
     },
     "execution_count": 34,
     "metadata": {},
     "output_type": "execute_result"
    }
   ],
   "source": [
    "eq_t.where(eq_t.id >= 120).select(eq_t.id, eq_t.magnitude, eq_t.note, eq_t.contact_email).head()"
   ]
  },
  {
   "cell_type": "code",
   "execution_count": 35,
   "metadata": {},
   "outputs": [
    {
     "data": {
      "text/plain": [
       "UpdateStatus(num_rows=587, num_computed_values=0, num_excs=0, updated_cols=[], cols_with_excs=[])"
      ]
     },
     "execution_count": 35,
     "metadata": {},
     "output_type": "execute_result"
    }
   ],
   "source": [
    "# Delete all records in 2024\n",
    "\n",
    "eq_t.where(eq_t.timestamp >= '2024-01-01').delete()"
   ]
  },
  {
   "cell_type": "code",
   "execution_count": 36,
   "metadata": {},
   "outputs": [
    {
     "data": {
      "text/plain": [
       "1236"
      ]
     },
     "execution_count": 36,
     "metadata": {},
     "output_type": "execute_result"
    }
   ],
   "source": [
    "eq_t.count()  # How many are left after deleting?"
   ]
  },
  {
   "cell_type": "markdown",
   "metadata": {},
   "source": [
    "That's the end of this section of the Fundamentals tutorial! Continue on to the next section:\n",
    "- [Computed Columns](...)"
   ]
  }
 ],
 "metadata": {
  "colab": {
   "provenance": []
  },
  "kernelspec": {
   "display_name": "Python 3 (ipykernel)",
   "language": "python",
   "name": "python3"
  },
  "language_info": {
   "codemirror_mode": {
    "name": "ipython",
    "version": 3
   },
   "file_extension": ".py",
   "mimetype": "text/x-python",
   "name": "python",
   "nbconvert_exporter": "python",
   "pygments_lexer": "ipython3",
   "version": "3.9.19"
  }
 },
 "nbformat": 4,
 "nbformat_minor": 4
}
