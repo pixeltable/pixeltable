{
 "cells": [
  {
   "cell_type": "markdown",
   "metadata": {
    "id": "iu6P8Pks-Y72"
   },
   "source": [
    "[![Kaggle](https://kaggle.com/static/images/open-in-kaggle.svg)](https://kaggle.com/kernels/welcome?src=https://github.com/pixeltable/pixeltable/blob/release/docs/release/fundamentals/tables-and-data-operations.ipynb)&nbsp;&nbsp;\n",
    "[![Colab](https://colab.research.google.com/assets/colab-badge.svg)](https://colab.research.google.com/github/pixeltable/pixeltable/blob/release/docs/release/fundamentals/tables-and-data-operations.ipynb)&nbsp;&nbsp;\n",
    "<a href=\"https://raw.githubusercontent.com/pixeltable/pixeltable/release/docs/release/fundamentals/tables-and-data-operations.ipynb\" download><img src=\"https://img.shields.io/badge/%E2%AC%87-Download%20Notebook-blue\" alt=\"Download Notebook\"></a>\n",
    "\n",
    "# Pixeltable Fundamentals\n",
    "\n",
    "## Section 1: Tables and Data Operations\n",
    "\n",
    "Welcome to Section 1 of the [Pixeltable Fundamentals](...) tutorial, __Tables and Data Operations__. In this section, we'll learn how to:\n",
    "\n",
    "- Create and manage tables: Understand Pixeltable's table structure, create and modify tables, and work with table schemas\n",
    "- Manipulate data: Insert, update, and delete data within tables, and retrieve data from tables into Python variables\n",
    "- Filter and select data: Use `where()`, `select()`, and `order_by()` to query for specific rows and columns\n",
    "- Import data from CSV files and other file types\n",
    "\n",
    "First, let's ensure the Pixeltable library is installed in your environment."
   ]
  },
  {
   "cell_type": "code",
   "execution_count": null,
   "metadata": {
    "id": "GwjjornhycHU"
   },
   "outputs": [],
   "source": [
    "%pip install -qU pixeltable"
   ]
  },
  {
   "cell_type": "markdown",
   "metadata": {},
   "source": [
    "### Tables\n",
    "\n",
    "All data in Pixeltable is stored in tables. At a high level, a Pixeltable table behaves similarly to an ordinary SQL database table, but with many additional capabilities to support complex AI workflows. We'll introduce those advanced capabilities gradually throughout this tutorial; in this section, the focus is on basic table and data operations.\n",
    "\n",
    "Tables in Pixeltable are grouped into __directories__, which are simply user-defined namespaces. The following command creates a new directory, `fundamentals`, which we'll use to store the tables in our tutorial."
   ]
  },
  {
   "cell_type": "code",
   "execution_count": 1,
   "metadata": {
    "colab": {
     "base_uri": "https://localhost:8080/"
    },
    "id": "EIBhrFB30cbF",
    "outputId": "9c30c33d-e16b-4aeb-cfc5-9a5770416d59"
   },
   "outputs": [
    {
     "name": "stdout",
     "output_type": "stream",
     "text": [
      "Connected to Pixeltable database at: postgresql+psycopg://postgres:@/pixeltable?host=/home/marcel/.pixeltable/pgdata\n",
      "Created directory `fundamentals`.\n"
     ]
    },
    {
     "data": {
      "text/plain": [
       "<pixeltable.catalog.dir.Dir at 0x7f872f5418d0>"
      ]
     },
     "execution_count": 1,
     "metadata": {},
     "output_type": "execute_result"
    }
   ],
   "source": [
    "import pixeltable as pxt\n",
    "\n",
    "# First we delete the `fundamentals` directory and all its contents (if\n",
    "# it exists), in order to ensure a clean environment for the tutorial.\n",
    "pxt.drop_dir('fundamentals', force=True)\n",
    "\n",
    "# Now we create the directory.\n",
    "pxt.create_dir('fundamentals')"
   ]
  },
  {
   "cell_type": "markdown",
   "metadata": {
    "id": "7StQcO-i-7NF"
   },
   "source": [
    "Now let's create our first table. To create a table, we must give it a name and a __schema__ that describes the table structure. Note that prefacing the name with `fundamentals` causes it to be placed in our newly-created directory."
   ]
  },
  {
   "cell_type": "code",
   "execution_count": 2,
   "metadata": {},
   "outputs": [
    {
     "name": "stdout",
     "output_type": "stream",
     "text": [
      "Created table `films`.\n"
     ]
    }
   ],
   "source": [
    "films_t = pxt.create_table('fundamentals.films', {\n",
    "    'film_name': pxt.StringType(),\n",
    "    'year': pxt.IntType(),\n",
    "    'revenue': pxt.FloatType()\n",
    "})"
   ]
  },
  {
   "cell_type": "markdown",
   "metadata": {},
   "source": [
    "To insert data into a table, we use the `insert()` method, passing it a list of Python dicts."
   ]
  },
  {
   "cell_type": "code",
   "execution_count": 3,
   "metadata": {},
   "outputs": [
    {
     "name": "stdout",
     "output_type": "stream",
     "text": [
      "Inserting rows into `films`: 3 rows [00:00, 1215.15 rows/s]\n",
      "Inserted 3 rows with 0 errors.\n"
     ]
    },
    {
     "data": {
      "text/plain": [
       "UpdateStatus(num_rows=3, num_computed_values=3, num_excs=0, updated_cols=[], cols_with_excs=[])"
      ]
     },
     "execution_count": 3,
     "metadata": {},
     "output_type": "execute_result"
    }
   ],
   "source": [
    "films_t.insert([\n",
    "    {'film_name': 'Jurassic Park', 'year': 1993, 'revenue': 1037.5},\n",
    "    {'film_name': 'Titanic', 'year': 1997, 'revenue': 2257.8},\n",
    "    {'film_name': 'Avengers: Endgame', 'year': 2019, 'revenue': 2797.5}\n",
    "])"
   ]
  },
  {
   "cell_type": "markdown",
   "metadata": {},
   "source": [
    "If you're inserting just a single row, you can use an alternate syntax that is sometimes more convenient."
   ]
  },
  {
   "cell_type": "code",
   "execution_count": 4,
   "metadata": {},
   "outputs": [
    {
     "name": "stdout",
     "output_type": "stream",
     "text": [
      "Inserting rows into `films`: 1 rows [00:00, 484.55 rows/s]\n",
      "Inserted 1 row with 0 errors.\n"
     ]
    },
    {
     "data": {
      "text/plain": [
       "UpdateStatus(num_rows=1, num_computed_values=1, num_excs=0, updated_cols=[], cols_with_excs=[])"
      ]
     },
     "execution_count": 4,
     "metadata": {},
     "output_type": "execute_result"
    }
   ],
   "source": [
    "films_t.insert(film_name='Inside Out 2', year=2024, revenue=1462.7)"
   ]
  },
  {
   "cell_type": "markdown",
   "metadata": {},
   "source": [
    "We can peek at the data in our table with the `collect()` method, which retrieves all the rows in the table."
   ]
  },
  {
   "cell_type": "code",
   "execution_count": 5,
   "metadata": {},
   "outputs": [
    {
     "data": {
      "text/html": [
       "<table border=\"1\" class=\"dataframe\">\n",
       "  <thead>\n",
       "    <tr style=\"text-align: right;\">\n",
       "      <th>film_name</th>\n",
       "      <th>year</th>\n",
       "      <th>revenue</th>\n",
       "    </tr>\n",
       "  </thead>\n",
       "  <tbody>\n",
       "    <tr>\n",
       "      <td>Jurassic Park</td>\n",
       "      <td>1993</td>\n",
       "      <td>1037.5</td>\n",
       "    </tr>\n",
       "    <tr>\n",
       "      <td>Titanic</td>\n",
       "      <td>1997</td>\n",
       "      <td>2257.8</td>\n",
       "    </tr>\n",
       "    <tr>\n",
       "      <td>Avengers: Endgame</td>\n",
       "      <td>2019</td>\n",
       "      <td>2797.5</td>\n",
       "    </tr>\n",
       "    <tr>\n",
       "      <td>Inside Out 2</td>\n",
       "      <td>2024</td>\n",
       "      <td>1462.7</td>\n",
       "    </tr>\n",
       "  </tbody>\n",
       "</table>"
      ],
      "text/plain": [
       "           film_name  year  revenue\n",
       "0      Jurassic Park  1993   1037.5\n",
       "1            Titanic  1997   2257.8\n",
       "2  Avengers: Endgame  2019   2797.5\n",
       "3       Inside Out 2  2024   1462.7"
      ]
     },
     "execution_count": 5,
     "metadata": {},
     "output_type": "execute_result"
    }
   ],
   "source": [
    "films_t.collect()"
   ]
  },
  {
   "cell_type": "markdown",
   "metadata": {},
   "source": [
    "Pixeltable also provides `update()` and `delete()` methods for modifying and removing data from a table; we'll see examples of them shortly."
   ]
  },
  {
   "cell_type": "markdown",
   "metadata": {},
   "source": [
    "### Filtering and Selecting Data\n",
    "\n",
    "Often you want to select only certain rows and/or certain columns in a table. You can do this with the `where()` and `select()` methods."
   ]
  },
  {
   "cell_type": "code",
   "execution_count": 6,
   "metadata": {},
   "outputs": [
    {
     "data": {
      "text/html": [
       "<table border=\"1\" class=\"dataframe\">\n",
       "  <thead>\n",
       "    <tr style=\"text-align: right;\">\n",
       "      <th>film_name</th>\n",
       "      <th>year</th>\n",
       "      <th>revenue</th>\n",
       "    </tr>\n",
       "  </thead>\n",
       "  <tbody>\n",
       "    <tr>\n",
       "      <td>Titanic</td>\n",
       "      <td>1997</td>\n",
       "      <td>2257.8</td>\n",
       "    </tr>\n",
       "    <tr>\n",
       "      <td>Avengers: Endgame</td>\n",
       "      <td>2019</td>\n",
       "      <td>2797.5</td>\n",
       "    </tr>\n",
       "  </tbody>\n",
       "</table>"
      ],
      "text/plain": [
       "           film_name  year  revenue\n",
       "0            Titanic  1997   2257.8\n",
       "1  Avengers: Endgame  2019   2797.5"
      ]
     },
     "execution_count": 6,
     "metadata": {},
     "output_type": "execute_result"
    }
   ],
   "source": [
    "films_t.where(films_t.revenue >= 2000.0).collect()"
   ]
  },
  {
   "cell_type": "code",
   "execution_count": 7,
   "metadata": {},
   "outputs": [
    {
     "data": {
      "text/html": [
       "<table border=\"1\" class=\"dataframe\">\n",
       "  <thead>\n",
       "    <tr style=\"text-align: right;\">\n",
       "      <th>film_name</th>\n",
       "      <th>year</th>\n",
       "    </tr>\n",
       "  </thead>\n",
       "  <tbody>\n",
       "    <tr>\n",
       "      <td>Jurassic Park</td>\n",
       "      <td>1993</td>\n",
       "    </tr>\n",
       "    <tr>\n",
       "      <td>Titanic</td>\n",
       "      <td>1997</td>\n",
       "    </tr>\n",
       "    <tr>\n",
       "      <td>Avengers: Endgame</td>\n",
       "      <td>2019</td>\n",
       "    </tr>\n",
       "    <tr>\n",
       "      <td>Inside Out 2</td>\n",
       "      <td>2024</td>\n",
       "    </tr>\n",
       "  </tbody>\n",
       "</table>"
      ],
      "text/plain": [
       "           film_name  year\n",
       "0      Jurassic Park  1993\n",
       "1            Titanic  1997\n",
       "2  Avengers: Endgame  2019\n",
       "3       Inside Out 2  2024"
      ]
     },
     "execution_count": 7,
     "metadata": {},
     "output_type": "execute_result"
    }
   ],
   "source": [
    "films_t.select(films_t.film_name, films_t.year).collect()"
   ]
  },
  {
   "cell_type": "markdown",
   "metadata": {},
   "source": [
    "Note the expressions that appear inside the calls to `where()` and `select()`, such as `films_t.year`. These are __column references__ that point to specific columns within a table. In place of `films_t.year`, you can also use dictionary syntax and type `films_t['year']`, which means exactly the same thing but is sometimes more convenient."
   ]
  },
  {
   "cell_type": "code",
   "execution_count": 8,
   "metadata": {},
   "outputs": [
    {
     "data": {
      "text/html": [
       "<table border=\"1\" class=\"dataframe\">\n",
       "  <thead>\n",
       "    <tr style=\"text-align: right;\">\n",
       "      <th>film_name</th>\n",
       "      <th>year</th>\n",
       "    </tr>\n",
       "  </thead>\n",
       "  <tbody>\n",
       "    <tr>\n",
       "      <td>Jurassic Park</td>\n",
       "      <td>1993</td>\n",
       "    </tr>\n",
       "    <tr>\n",
       "      <td>Titanic</td>\n",
       "      <td>1997</td>\n",
       "    </tr>\n",
       "    <tr>\n",
       "      <td>Avengers: Endgame</td>\n",
       "      <td>2019</td>\n",
       "    </tr>\n",
       "    <tr>\n",
       "      <td>Inside Out 2</td>\n",
       "      <td>2024</td>\n",
       "    </tr>\n",
       "  </tbody>\n",
       "</table>"
      ],
      "text/plain": [
       "           film_name  year\n",
       "0      Jurassic Park  1993\n",
       "1            Titanic  1997\n",
       "2  Avengers: Endgame  2019\n",
       "3       Inside Out 2  2024"
      ]
     },
     "execution_count": 8,
     "metadata": {},
     "output_type": "execute_result"
    }
   ],
   "source": [
    "films_t.select(films_t['film_name'], films_t['year']).collect()"
   ]
  },
  {
   "cell_type": "markdown",
   "metadata": {},
   "source": [
    "In addition to selecting columns directly, you can use column references inside various kinds of expressions. For example, our `revenue` numbers are given in millions of dollars. Let's say we wanted to select revenue in thousands of dollars instead; we could do that as follows:"
   ]
  },
  {
   "cell_type": "code",
   "execution_count": 9,
   "metadata": {},
   "outputs": [
    {
     "data": {
      "text/html": [
       "<table border=\"1\" class=\"dataframe\">\n",
       "  <thead>\n",
       "    <tr style=\"text-align: right;\">\n",
       "      <th>film_name</th>\n",
       "      <th>col_1</th>\n",
       "    </tr>\n",
       "  </thead>\n",
       "  <tbody>\n",
       "    <tr>\n",
       "      <td>Jurassic Park</td>\n",
       "      <td>1037500.</td>\n",
       "    </tr>\n",
       "    <tr>\n",
       "      <td>Titanic</td>\n",
       "      <td>2257800.</td>\n",
       "    </tr>\n",
       "    <tr>\n",
       "      <td>Avengers: Endgame</td>\n",
       "      <td>2797500.</td>\n",
       "    </tr>\n",
       "    <tr>\n",
       "      <td>Inside Out 2</td>\n",
       "      <td>1462700.</td>\n",
       "    </tr>\n",
       "  </tbody>\n",
       "</table>"
      ],
      "text/plain": [
       "           film_name      col_1\n",
       "0      Jurassic Park  1037500.0\n",
       "1            Titanic  2257800.0\n",
       "2  Avengers: Endgame  2797500.0\n",
       "3       Inside Out 2  1462700.0"
      ]
     },
     "execution_count": 9,
     "metadata": {},
     "output_type": "execute_result"
    }
   ],
   "source": [
    "films_t.select(films_t.film_name, films_t.revenue * 1000).collect()"
   ]
  },
  {
   "cell_type": "markdown",
   "metadata": {},
   "source": [
    "Note that since we selected an abstract expression rather than a specific column, Pixeltable gave it the generic name `col_1`. You can assign it a more informative name with Python keyword syntax:"
   ]
  },
  {
   "cell_type": "code",
   "execution_count": 10,
   "metadata": {},
   "outputs": [
    {
     "data": {
      "text/html": [
       "<table border=\"1\" class=\"dataframe\">\n",
       "  <thead>\n",
       "    <tr style=\"text-align: right;\">\n",
       "      <th>film_name</th>\n",
       "      <th>revenue_thousands</th>\n",
       "    </tr>\n",
       "  </thead>\n",
       "  <tbody>\n",
       "    <tr>\n",
       "      <td>Jurassic Park</td>\n",
       "      <td>1037500.</td>\n",
       "    </tr>\n",
       "    <tr>\n",
       "      <td>Titanic</td>\n",
       "      <td>2257800.</td>\n",
       "    </tr>\n",
       "    <tr>\n",
       "      <td>Avengers: Endgame</td>\n",
       "      <td>2797500.</td>\n",
       "    </tr>\n",
       "    <tr>\n",
       "      <td>Inside Out 2</td>\n",
       "      <td>1462700.</td>\n",
       "    </tr>\n",
       "  </tbody>\n",
       "</table>"
      ],
      "text/plain": [
       "           film_name  revenue_thousands\n",
       "0      Jurassic Park          1037500.0\n",
       "1            Titanic          2257800.0\n",
       "2  Avengers: Endgame          2797500.0\n",
       "3       Inside Out 2          1462700.0"
      ]
     },
     "execution_count": 10,
     "metadata": {},
     "output_type": "execute_result"
    }
   ],
   "source": [
    "films_t.select(films_t.film_name, revenue_thousands=films_t.revenue * 1000).collect()"
   ]
  },
  {
   "cell_type": "markdown",
   "metadata": {},
   "source": [
    "### Tables are Persistent"
   ]
  },
  {
   "cell_type": "markdown",
   "metadata": {},
   "source": [
    "This is a good time to mention a few key differences between Pixeltable tables and other familiar datastructures, such as Python dicts or Pandas dataframes.\n",
    "\n",
    "First, **Pixeltable is persistent. Unlike in-memory Python libraries such as Pandas, Pixeltable is a database**. When you reset a notebook kernel or start a new Python session, you'll have access to all the data you've stored previously in Pixeltable. Let's demonstrate this by using the IPython `%reset -f` command to clear out all our notebook variables, so that `films_t` is no longer defined."
   ]
  },
  {
   "cell_type": "code",
   "execution_count": 11,
   "metadata": {
    "slideshow": {
     "slide_type": ""
    },
    "tags": [
     "raises-exception"
    ]
   },
   "outputs": [
    {
     "ename": "NameError",
     "evalue": "name 'films_t' is not defined",
     "output_type": "error",
     "traceback": [
      "\u001b[0;31m---------------------------------------------------------------------------\u001b[0m",
      "\u001b[0;31mNameError\u001b[0m                                 Traceback (most recent call last)",
      "Cell \u001b[0;32mIn[11], line 2\u001b[0m\n\u001b[1;32m      1\u001b[0m get_ipython()\u001b[38;5;241m.\u001b[39mrun_line_magic(\u001b[38;5;124m'\u001b[39m\u001b[38;5;124mreset\u001b[39m\u001b[38;5;124m'\u001b[39m, \u001b[38;5;124m'\u001b[39m\u001b[38;5;124m-f\u001b[39m\u001b[38;5;124m'\u001b[39m)\n\u001b[0;32m----> 2\u001b[0m \u001b[43mfilms_t\u001b[49m\u001b[38;5;241m.\u001b[39mcollect()  \u001b[38;5;66;03m# Throws an exception now\u001b[39;00m\n",
      "\u001b[0;31mNameError\u001b[0m: name 'films_t' is not defined"
     ]
    }
   ],
   "source": [
    "%reset -f\n",
    "films_t.collect()  # Throws an exception now"
   ]
  },
  {
   "cell_type": "markdown",
   "metadata": {},
   "source": [
    "The `films_t` variable (along with all other variables in our Python session) has been cleared out - but that's ok, because it wasn't the source of record for our data. The `films_t` variable is just a reference to the underlying database table. We can recover it with the `get_table` command, referencing the `films` table by name."
   ]
  },
  {
   "cell_type": "code",
   "execution_count": 12,
   "metadata": {},
   "outputs": [
    {
     "data": {
      "text/html": [
       "<table border=\"1\" class=\"dataframe\">\n",
       "  <thead>\n",
       "    <tr style=\"text-align: right;\">\n",
       "      <th>film_name</th>\n",
       "      <th>year</th>\n",
       "      <th>revenue</th>\n",
       "    </tr>\n",
       "  </thead>\n",
       "  <tbody>\n",
       "    <tr>\n",
       "      <td>Jurassic Park</td>\n",
       "      <td>1993</td>\n",
       "      <td>1037.5</td>\n",
       "    </tr>\n",
       "    <tr>\n",
       "      <td>Titanic</td>\n",
       "      <td>1997</td>\n",
       "      <td>2257.8</td>\n",
       "    </tr>\n",
       "    <tr>\n",
       "      <td>Avengers: Endgame</td>\n",
       "      <td>2019</td>\n",
       "      <td>2797.5</td>\n",
       "    </tr>\n",
       "    <tr>\n",
       "      <td>Inside Out 2</td>\n",
       "      <td>2024</td>\n",
       "      <td>1462.7</td>\n",
       "    </tr>\n",
       "  </tbody>\n",
       "</table>"
      ],
      "text/plain": [
       "           film_name  year  revenue\n",
       "0      Jurassic Park  1993   1037.5\n",
       "1            Titanic  1997   2257.8\n",
       "2  Avengers: Endgame  2019   2797.5\n",
       "3       Inside Out 2  2024   1462.7"
      ]
     },
     "execution_count": 12,
     "metadata": {},
     "output_type": "execute_result"
    }
   ],
   "source": [
    "import pixeltable as pxt\n",
    "\n",
    "films_t = pxt.get_table('fundamentals.films')\n",
    "films_t.collect()"
   ]
  },
  {
   "cell_type": "markdown",
   "metadata": {},
   "source": [
    "You can always get a list of all existing tables with the Pixeltable `list_tables` command."
   ]
  },
  {
   "cell_type": "code",
   "execution_count": 13,
   "metadata": {},
   "outputs": [
    {
     "data": {
      "text/plain": [
       "['test',\n",
       " 't2',\n",
       " 'det',\n",
       " 'dlc',\n",
       " 'video_tutorial.videos',\n",
       " 'video_tutorial.frames',\n",
       " 'transcription_demo.video_table',\n",
       " 'rag_demo.queries',\n",
       " 'fundamentals.films']"
      ]
     },
     "execution_count": 13,
     "metadata": {},
     "output_type": "execute_result"
    }
   ],
   "source": [
    "pxt.list_tables()"
   ]
  },
  {
   "cell_type": "markdown",
   "metadata": {},
   "source": [
    "<div class=\"alert alert-block alert-info\">\n",
    "Note that if you're running Pixeltable on colab or kaggle, the database will persist only for as long as your colab/kaggle session remains active. If you're running it locally or on your own server, then your database will persist indefinitely (until you actively delete it).\n",
    "</div>"
   ]
  },
  {
   "cell_type": "markdown",
   "metadata": {},
   "source": [
    "### Tables are Typed\n",
    "\n",
    "The second major difference is that **Pixeltable is strongly typed**. Because Pixeltable is a database, every column has a data type: that's why we specified `StringType`, `IntType`, and `FloatType` for the three columns when we created the table. These __type specifiers__ are _mandatory_ when creating tables, and they become part of the table schema. You can always see the table schema with the `describe()` method."
   ]
  },
  {
   "cell_type": "code",
   "execution_count": 14,
   "metadata": {},
   "outputs": [
    {
     "data": {
      "text/html": [
       "<style type=\"text/css\">\n",
       "#T_295bb th {\n",
       "  text-align: center;\n",
       "}\n",
       "#T_295bb_row0_col0, #T_295bb_row0_col1, #T_295bb_row0_col2, #T_295bb_row1_col0, #T_295bb_row1_col1, #T_295bb_row1_col2, #T_295bb_row2_col0, #T_295bb_row2_col1, #T_295bb_row2_col2 {\n",
       "  white-space: pre-wrap;\n",
       "  text-align: left;\n",
       "}\n",
       "</style>\n",
       "<table id=\"T_295bb\">\n",
       "  <thead>\n",
       "    <tr>\n",
       "      <th id=\"T_295bb_level0_col0\" class=\"col_heading level0 col0\" >Column Name</th>\n",
       "      <th id=\"T_295bb_level0_col1\" class=\"col_heading level0 col1\" >Type</th>\n",
       "      <th id=\"T_295bb_level0_col2\" class=\"col_heading level0 col2\" >Computed With</th>\n",
       "    </tr>\n",
       "  </thead>\n",
       "  <tbody>\n",
       "    <tr>\n",
       "      <td id=\"T_295bb_row0_col0\" class=\"data row0 col0\" >film_name</td>\n",
       "      <td id=\"T_295bb_row0_col1\" class=\"data row0 col1\" >string</td>\n",
       "      <td id=\"T_295bb_row0_col2\" class=\"data row0 col2\" ></td>\n",
       "    </tr>\n",
       "    <tr>\n",
       "      <td id=\"T_295bb_row1_col0\" class=\"data row1 col0\" >year</td>\n",
       "      <td id=\"T_295bb_row1_col1\" class=\"data row1 col1\" >int</td>\n",
       "      <td id=\"T_295bb_row1_col2\" class=\"data row1 col2\" ></td>\n",
       "    </tr>\n",
       "    <tr>\n",
       "      <td id=\"T_295bb_row2_col0\" class=\"data row2 col0\" >revenue</td>\n",
       "      <td id=\"T_295bb_row2_col1\" class=\"data row2 col1\" >float</td>\n",
       "      <td id=\"T_295bb_row2_col2\" class=\"data row2 col2\" ></td>\n",
       "    </tr>\n",
       "  </tbody>\n",
       "</table>\n"
      ],
      "text/plain": [
       "<pandas.io.formats.style.Styler at 0x7f872e92d3f0>"
      ]
     },
     "metadata": {},
     "output_type": "display_data"
    }
   ],
   "source": [
    "films_t.describe()"
   ]
  },
  {
   "cell_type": "markdown",
   "metadata": {},
   "source": [
    "In a notebook, you can also just type `films_t` to see the schema; its output is identical to `films_t.describe()`."
   ]
  },
  {
   "cell_type": "code",
   "execution_count": 15,
   "metadata": {},
   "outputs": [
    {
     "data": {
      "text/html": [
       "<style type=\"text/css\">\n",
       "#T_2d85c th {\n",
       "  text-align: center;\n",
       "}\n",
       "#T_2d85c_row0_col0, #T_2d85c_row0_col1, #T_2d85c_row0_col2, #T_2d85c_row1_col0, #T_2d85c_row1_col1, #T_2d85c_row1_col2, #T_2d85c_row2_col0, #T_2d85c_row2_col1, #T_2d85c_row2_col2 {\n",
       "  white-space: pre-wrap;\n",
       "  text-align: left;\n",
       "}\n",
       "</style>\n",
       "<table id=\"T_2d85c\">\n",
       "  <thead>\n",
       "    <tr>\n",
       "      <th id=\"T_2d85c_level0_col0\" class=\"col_heading level0 col0\" >Column Name</th>\n",
       "      <th id=\"T_2d85c_level0_col1\" class=\"col_heading level0 col1\" >Type</th>\n",
       "      <th id=\"T_2d85c_level0_col2\" class=\"col_heading level0 col2\" >Computed With</th>\n",
       "    </tr>\n",
       "  </thead>\n",
       "  <tbody>\n",
       "    <tr>\n",
       "      <td id=\"T_2d85c_row0_col0\" class=\"data row0 col0\" >film_name</td>\n",
       "      <td id=\"T_2d85c_row0_col1\" class=\"data row0 col1\" >string</td>\n",
       "      <td id=\"T_2d85c_row0_col2\" class=\"data row0 col2\" ></td>\n",
       "    </tr>\n",
       "    <tr>\n",
       "      <td id=\"T_2d85c_row1_col0\" class=\"data row1 col0\" >year</td>\n",
       "      <td id=\"T_2d85c_row1_col1\" class=\"data row1 col1\" >int</td>\n",
       "      <td id=\"T_2d85c_row1_col2\" class=\"data row1 col2\" ></td>\n",
       "    </tr>\n",
       "    <tr>\n",
       "      <td id=\"T_2d85c_row2_col0\" class=\"data row2 col0\" >revenue</td>\n",
       "      <td id=\"T_2d85c_row2_col1\" class=\"data row2 col1\" >float</td>\n",
       "      <td id=\"T_2d85c_row2_col2\" class=\"data row2 col2\" ></td>\n",
       "    </tr>\n",
       "  </tbody>\n",
       "</table>\n"
      ],
      "text/plain": [
       "table 'films'\n",
       "\n",
       "Column Name   Type Computed With\n",
       "  film_name string              \n",
       "       year    int              \n",
       "    revenue  float              "
      ]
     },
     "execution_count": 15,
     "metadata": {},
     "output_type": "execute_result"
    }
   ],
   "source": [
    "films_t"
   ]
  },
  {
   "cell_type": "markdown",
   "metadata": {},
   "source": [
    "<div class=\"alert alert-block alert-info\">\n",
    "In addition to <code>StringType</code>, <code>IntType</code>, and <code>FloatType</code>, Pixeltable provides several additional data types:\n",
    "<ul><li><code>BoolType</code>, whose values are <code>True</code> or <code>False</code>;</li>\n",
    "    <li><code>ArrayType</code> for numerical arrays;</li>\n",
    "    <li><code>JsonType</code>, for lists or dicts that correspond to valid JSON structures; and</li>\n",
    "    <li>The <b>media types</b> <code>ImageType</code>, <code>VideoType</code>, <code>AudioType</code>, and <code>DocumentType</code>.</li>\n",
    "</ul>\n",
    "We'll see examples of each of these types later in the tutorial.\n",
    "</div>"
   ]
  },
  {
   "cell_type": "markdown",
   "metadata": {},
   "source": [
    "Besides the column names and types, there's a third element to the schema, `Computed With`. We'll explain what this means in the next section of the tutorial, [Computed Columns](...)."
   ]
  },
  {
   "cell_type": "markdown",
   "metadata": {},
   "source": [
    "All of the methods we've discussed so far, such as `insert()` and `get_table()`, are documented in the [Pixeltable API](https://pixeltable.github.io/pixeltable/) Documentation. The following pages are particularly relevant to this section of the tutorial:\n",
    "- [pixeltable](https://pixeltable.github.io/pixeltable/api/pixeltable/) package reference\n",
    "- [pxt.Table](https://pixeltable.github.io/pixeltable/api/table/) class reference\n",
    "- [API Cheat Sheet](https://pixeltable.github.io/pixeltable/api-cheat-sheet/)"
   ]
  },
  {
   "cell_type": "markdown",
   "metadata": {},
   "source": [
    "### A Real-World Example: Earthquake Data\n",
    "\n",
    "Now let's dive a little deeper into Pixeltable's data operations. To showcase all the features, it'll be helpful to have a real-world dataset, rather than our toy dataset with four movies. The dataset we'll be using consists of Earthquake data drawn from the US Geological Survey: all recorded Earthquakes that occurred within 100 km of Seattle, Washington, between January 1, 2023 and June 30, 2024.\n",
    "\n",
    "The dataset is in CSV format, and we can load it into Pixeltable with the handy `import_csv()` function, which creates a new Pixeltable table from the contents of a CSV file."
   ]
  },
  {
   "cell_type": "code",
   "execution_count": 16,
   "metadata": {},
   "outputs": [
    {
     "name": "stdout",
     "output_type": "stream",
     "text": [
      "Created table `earthquakes`.\n",
      "Inserting rows into `earthquakes`: 1823 rows [00:00, 28045.51 rows/s]\n",
      "Inserted 1823 rows with 0 errors.\n"
     ]
    }
   ],
   "source": [
    "eq_t = pxt.io.import_csv(\n",
    "    'fundamentals.earthquakes',  # Name for the new table\n",
    "    'https://raw.githubusercontent.com/pixeltable/pixeltable/release/docs/source/data/earthquakes.csv',\n",
    "    primary_key='id',  # Column 'id' is the primary key\n",
    "    parse_dates=[3]  # Interpret column 3 as a timestamp\n",
    ")"
   ]
  },
  {
   "cell_type": "markdown",
   "metadata": {},
   "source": [
    "<div class=\"alert alert-block alert-info\">\n",
    "In Pixeltable, you can always import external data by giving a URL instead of a local file path. This applies to CSV datasets, media files (such images and video), and other types of content. The URL will often be an <code>http://</code> URL, but it can also be an <code>s3://</code> URL referencing an S3 bucket.\n",
    "</div>\n",
    "\n",
    "<div class=\"alert alert-block alert-info\">\n",
    "In addition to <code>import_csv</code>, Pixeltable provides a variety of other importers for structured data, such as <code>import_pandas</code> (which creates a table from a Pandas dataframe) and <code>import_excel</code>. These importers are described in the <a href=\"https://pixeltable.github.io/pixeltable/api/io/\">pixeltable.io package reference</a>.\n",
    "</div>\n",
    "\n",
    "Let's have a peek at our new dataset. The dataset contains 1823 rows, and we probably don't want to display them all at once. We can limit our query to fewer rows with the `limit()` method."
   ]
  },
  {
   "cell_type": "code",
   "execution_count": 17,
   "metadata": {},
   "outputs": [
    {
     "data": {
      "text/html": [
       "<table border=\"1\" class=\"dataframe\">\n",
       "  <thead>\n",
       "    <tr style=\"text-align: right;\">\n",
       "      <th>id</th>\n",
       "      <th>magnitude</th>\n",
       "      <th>location</th>\n",
       "      <th>timestamp</th>\n",
       "      <th>longitude</th>\n",
       "      <th>latitude</th>\n",
       "    </tr>\n",
       "  </thead>\n",
       "  <tbody>\n",
       "    <tr>\n",
       "      <td>0</td>\n",
       "      <td>1.15</td>\n",
       "      <td>10 km NW of Belfair, Washington</td>\n",
       "      <td>2023-01-01 08:10:37.050000-08:00</td>\n",
       "      <td>-122.93</td>\n",
       "      <td>47.51</td>\n",
       "    </tr>\n",
       "    <tr>\n",
       "      <td>1</td>\n",
       "      <td>0.29</td>\n",
       "      <td>23 km ENE of Ashford, Washington</td>\n",
       "      <td>2023-01-02 01:02:43.950000-08:00</td>\n",
       "      <td>-121.76</td>\n",
       "      <td>46.85</td>\n",
       "    </tr>\n",
       "    <tr>\n",
       "      <td>2</td>\n",
       "      <td>0.2</td>\n",
       "      <td>23 km ENE of Ashford, Washington</td>\n",
       "      <td>2023-01-02 12:05:01.420000-08:00</td>\n",
       "      <td>-121.75</td>\n",
       "      <td>46.86</td>\n",
       "    </tr>\n",
       "    <tr>\n",
       "      <td>3</td>\n",
       "      <td>0.52</td>\n",
       "      <td>15 km NNE of Ashford, Washington</td>\n",
       "      <td>2023-01-02 12:45:14.220000-08:00</td>\n",
       "      <td>-121.95</td>\n",
       "      <td>46.89</td>\n",
       "    </tr>\n",
       "    <tr>\n",
       "      <td>4</td>\n",
       "      <td>1.56</td>\n",
       "      <td>0 km WSW of Esperance, Washington</td>\n",
       "      <td>2023-01-02 13:19:27.200000-08:00</td>\n",
       "      <td>-122.36</td>\n",
       "      <td>47.79</td>\n",
       "    </tr>\n",
       "  </tbody>\n",
       "</table>"
      ],
      "text/plain": [
       "   id  magnitude                           location  \\\n",
       "0   0       1.15    10 km NW of Belfair, Washington   \n",
       "1   1       0.29   23 km ENE of Ashford, Washington   \n",
       "2   2       0.20   23 km ENE of Ashford, Washington   \n",
       "3   3       0.52   15 km NNE of Ashford, Washington   \n",
       "4   4       1.56  0 km WSW of Esperance, Washington   \n",
       "\n",
       "                         timestamp  longitude  latitude  \n",
       "0 2023-01-01 08:10:37.050000-08:00    -122.93     47.51  \n",
       "1 2023-01-02 01:02:43.950000-08:00    -121.76     46.85  \n",
       "2 2023-01-02 12:05:01.420000-08:00    -121.75     46.86  \n",
       "3 2023-01-02 12:45:14.220000-08:00    -121.95     46.89  \n",
       "4 2023-01-02 13:19:27.200000-08:00    -122.36     47.79  "
      ]
     },
     "execution_count": 17,
     "metadata": {},
     "output_type": "execute_result"
    }
   ],
   "source": [
    "eq_t.limit(5).collect()"
   ]
  },
  {
   "cell_type": "markdown",
   "metadata": {},
   "source": [
    "A different way of achieving something similar is to use the `head()` and `tail()` methods. Pixeltable keeps track of the insertion order of all its data, and `head()` and `tail()` will always return the _earliest inserted_ and _most recently inserted_ rows in a table, respectively."
   ]
  },
  {
   "cell_type": "code",
   "execution_count": 18,
   "metadata": {},
   "outputs": [
    {
     "data": {
      "text/html": [
       "<table border=\"1\" class=\"dataframe\">\n",
       "  <thead>\n",
       "    <tr style=\"text-align: right;\">\n",
       "      <th>id</th>\n",
       "      <th>magnitude</th>\n",
       "      <th>location</th>\n",
       "      <th>timestamp</th>\n",
       "      <th>longitude</th>\n",
       "      <th>latitude</th>\n",
       "    </tr>\n",
       "  </thead>\n",
       "  <tbody>\n",
       "    <tr>\n",
       "      <td>0</td>\n",
       "      <td>1.15</td>\n",
       "      <td>10 km NW of Belfair, Washington</td>\n",
       "      <td>2023-01-01 08:10:37.050000-08:00</td>\n",
       "      <td>-122.93</td>\n",
       "      <td>47.51</td>\n",
       "    </tr>\n",
       "    <tr>\n",
       "      <td>1</td>\n",
       "      <td>0.29</td>\n",
       "      <td>23 km ENE of Ashford, Washington</td>\n",
       "      <td>2023-01-02 01:02:43.950000-08:00</td>\n",
       "      <td>-121.76</td>\n",
       "      <td>46.85</td>\n",
       "    </tr>\n",
       "    <tr>\n",
       "      <td>2</td>\n",
       "      <td>0.2</td>\n",
       "      <td>23 km ENE of Ashford, Washington</td>\n",
       "      <td>2023-01-02 12:05:01.420000-08:00</td>\n",
       "      <td>-121.75</td>\n",
       "      <td>46.86</td>\n",
       "    </tr>\n",
       "    <tr>\n",
       "      <td>3</td>\n",
       "      <td>0.52</td>\n",
       "      <td>15 km NNE of Ashford, Washington</td>\n",
       "      <td>2023-01-02 12:45:14.220000-08:00</td>\n",
       "      <td>-121.95</td>\n",
       "      <td>46.89</td>\n",
       "    </tr>\n",
       "    <tr>\n",
       "      <td>4</td>\n",
       "      <td>1.56</td>\n",
       "      <td>0 km WSW of Esperance, Washington</td>\n",
       "      <td>2023-01-02 13:19:27.200000-08:00</td>\n",
       "      <td>-122.36</td>\n",
       "      <td>47.79</td>\n",
       "    </tr>\n",
       "  </tbody>\n",
       "</table>"
      ],
      "text/plain": [
       "   id  magnitude                           location  \\\n",
       "0   0       1.15    10 km NW of Belfair, Washington   \n",
       "1   1       0.29   23 km ENE of Ashford, Washington   \n",
       "2   2       0.20   23 km ENE of Ashford, Washington   \n",
       "3   3       0.52   15 km NNE of Ashford, Washington   \n",
       "4   4       1.56  0 km WSW of Esperance, Washington   \n",
       "\n",
       "                         timestamp  longitude  latitude  \n",
       "0 2023-01-01 08:10:37.050000-08:00    -122.93     47.51  \n",
       "1 2023-01-02 01:02:43.950000-08:00    -121.76     46.85  \n",
       "2 2023-01-02 12:05:01.420000-08:00    -121.75     46.86  \n",
       "3 2023-01-02 12:45:14.220000-08:00    -121.95     46.89  \n",
       "4 2023-01-02 13:19:27.200000-08:00    -122.36     47.79  "
      ]
     },
     "execution_count": 18,
     "metadata": {},
     "output_type": "execute_result"
    }
   ],
   "source": [
    "eq_t.head(5)"
   ]
  },
  {
   "cell_type": "code",
   "execution_count": 19,
   "metadata": {},
   "outputs": [
    {
     "data": {
      "text/html": [
       "<table border=\"1\" class=\"dataframe\">\n",
       "  <thead>\n",
       "    <tr style=\"text-align: right;\">\n",
       "      <th>id</th>\n",
       "      <th>magnitude</th>\n",
       "      <th>location</th>\n",
       "      <th>timestamp</th>\n",
       "      <th>longitude</th>\n",
       "      <th>latitude</th>\n",
       "    </tr>\n",
       "  </thead>\n",
       "  <tbody>\n",
       "    <tr>\n",
       "      <td>1818</td>\n",
       "      <td>1.7</td>\n",
       "      <td>14 km W of Skokomish, Washington</td>\n",
       "      <td>2024-06-29 08:55:50.030000-07:00</td>\n",
       "      <td>-123.35</td>\n",
       "      <td>47.32</td>\n",
       "    </tr>\n",
       "    <tr>\n",
       "      <td>1819</td>\n",
       "      <td>1.06</td>\n",
       "      <td>7 km E of Lake McMurray, Washington</td>\n",
       "      <td>2024-06-29 12:15:19.130000-07:00</td>\n",
       "      <td>-122.13</td>\n",
       "      <td>48.31</td>\n",
       "    </tr>\n",
       "    <tr>\n",
       "      <td>1820</td>\n",
       "      <td>0.48</td>\n",
       "      <td>4 km E of Duvall, Washington</td>\n",
       "      <td>2024-06-30 09:15:43.020000-07:00</td>\n",
       "      <td>-121.93</td>\n",
       "      <td>47.75</td>\n",
       "    </tr>\n",
       "    <tr>\n",
       "      <td>1821</td>\n",
       "      <td>0.46</td>\n",
       "      <td>12 km NE of Ashford, Washington</td>\n",
       "      <td>2024-06-30 10:05:15.410000-07:00</td>\n",
       "      <td>-121.93</td>\n",
       "      <td>46.84</td>\n",
       "    </tr>\n",
       "    <tr>\n",
       "      <td>1822</td>\n",
       "      <td>0.72</td>\n",
       "      <td>6 km ENE of Oso, Washington</td>\n",
       "      <td>2024-06-30 11:12:41.900000-07:00</td>\n",
       "      <td>-121.84</td>\n",
       "      <td>48.28</td>\n",
       "    </tr>\n",
       "  </tbody>\n",
       "</table>"
      ],
      "text/plain": [
       "     id  magnitude                             location  \\\n",
       "0  1818       1.70     14 km W of Skokomish, Washington   \n",
       "1  1819       1.06  7 km E of Lake McMurray, Washington   \n",
       "2  1820       0.48         4 km E of Duvall, Washington   \n",
       "3  1821       0.46      12 km NE of Ashford, Washington   \n",
       "4  1822       0.72          6 km ENE of Oso, Washington   \n",
       "\n",
       "                         timestamp  longitude  latitude  \n",
       "0 2024-06-29 08:55:50.030000-07:00    -123.35     47.32  \n",
       "1 2024-06-29 12:15:19.130000-07:00    -122.13     48.31  \n",
       "2 2024-06-30 09:15:43.020000-07:00    -121.93     47.75  \n",
       "3 2024-06-30 10:05:15.410000-07:00    -121.93     46.84  \n",
       "4 2024-06-30 11:12:41.900000-07:00    -121.84     48.28  "
      ]
     },
     "execution_count": 19,
     "metadata": {},
     "output_type": "execute_result"
    }
   ],
   "source": [
    "eq_t.tail(5)"
   ]
  },
  {
   "cell_type": "markdown",
   "metadata": {},
   "source": [
    "<div class=\"alert alert-block alert-info\">\n",
    "<code>head(n)</code> and <code>limit(n).collect()</code> appear similar in this example. But <code>head()</code> always returns the <i>earliest</i> rows in a table, whereas <code>limit()</code> makes no promises about the ordering of its results (unless you specify an <code>order_by()</code> clause - more on this below).\n",
    "</div>"
   ]
  },
  {
   "cell_type": "markdown",
   "metadata": {},
   "source": [
    "Let's also peek at the schema:"
   ]
  },
  {
   "cell_type": "code",
   "execution_count": 20,
   "metadata": {},
   "outputs": [
    {
     "data": {
      "text/html": [
       "<style type=\"text/css\">\n",
       "#T_8c7ab th {\n",
       "  text-align: center;\n",
       "}\n",
       "#T_8c7ab_row0_col0, #T_8c7ab_row0_col1, #T_8c7ab_row0_col2, #T_8c7ab_row1_col0, #T_8c7ab_row1_col1, #T_8c7ab_row1_col2, #T_8c7ab_row2_col0, #T_8c7ab_row2_col1, #T_8c7ab_row2_col2, #T_8c7ab_row3_col0, #T_8c7ab_row3_col1, #T_8c7ab_row3_col2, #T_8c7ab_row4_col0, #T_8c7ab_row4_col1, #T_8c7ab_row4_col2, #T_8c7ab_row5_col0, #T_8c7ab_row5_col1, #T_8c7ab_row5_col2 {\n",
       "  white-space: pre-wrap;\n",
       "  text-align: left;\n",
       "}\n",
       "</style>\n",
       "<table id=\"T_8c7ab\">\n",
       "  <thead>\n",
       "    <tr>\n",
       "      <th id=\"T_8c7ab_level0_col0\" class=\"col_heading level0 col0\" >Column Name</th>\n",
       "      <th id=\"T_8c7ab_level0_col1\" class=\"col_heading level0 col1\" >Type</th>\n",
       "      <th id=\"T_8c7ab_level0_col2\" class=\"col_heading level0 col2\" >Computed With</th>\n",
       "    </tr>\n",
       "  </thead>\n",
       "  <tbody>\n",
       "    <tr>\n",
       "      <td id=\"T_8c7ab_row0_col0\" class=\"data row0 col0\" >id</td>\n",
       "      <td id=\"T_8c7ab_row0_col1\" class=\"data row0 col1\" >int</td>\n",
       "      <td id=\"T_8c7ab_row0_col2\" class=\"data row0 col2\" ></td>\n",
       "    </tr>\n",
       "    <tr>\n",
       "      <td id=\"T_8c7ab_row1_col0\" class=\"data row1 col0\" >magnitude</td>\n",
       "      <td id=\"T_8c7ab_row1_col1\" class=\"data row1 col1\" >float</td>\n",
       "      <td id=\"T_8c7ab_row1_col2\" class=\"data row1 col2\" ></td>\n",
       "    </tr>\n",
       "    <tr>\n",
       "      <td id=\"T_8c7ab_row2_col0\" class=\"data row2 col0\" >location</td>\n",
       "      <td id=\"T_8c7ab_row2_col1\" class=\"data row2 col1\" >string</td>\n",
       "      <td id=\"T_8c7ab_row2_col2\" class=\"data row2 col2\" ></td>\n",
       "    </tr>\n",
       "    <tr>\n",
       "      <td id=\"T_8c7ab_row3_col0\" class=\"data row3 col0\" >timestamp</td>\n",
       "      <td id=\"T_8c7ab_row3_col1\" class=\"data row3 col1\" >timestamp</td>\n",
       "      <td id=\"T_8c7ab_row3_col2\" class=\"data row3 col2\" ></td>\n",
       "    </tr>\n",
       "    <tr>\n",
       "      <td id=\"T_8c7ab_row4_col0\" class=\"data row4 col0\" >longitude</td>\n",
       "      <td id=\"T_8c7ab_row4_col1\" class=\"data row4 col1\" >float</td>\n",
       "      <td id=\"T_8c7ab_row4_col2\" class=\"data row4 col2\" ></td>\n",
       "    </tr>\n",
       "    <tr>\n",
       "      <td id=\"T_8c7ab_row5_col0\" class=\"data row5 col0\" >latitude</td>\n",
       "      <td id=\"T_8c7ab_row5_col1\" class=\"data row5 col1\" >float</td>\n",
       "      <td id=\"T_8c7ab_row5_col2\" class=\"data row5 col2\" ></td>\n",
       "    </tr>\n",
       "  </tbody>\n",
       "</table>\n"
      ],
      "text/plain": [
       "<pandas.io.formats.style.Styler at 0x7f872f5acd00>"
      ]
     },
     "metadata": {},
     "output_type": "display_data"
    }
   ],
   "source": [
    "eq_t.describe()"
   ]
  },
  {
   "cell_type": "markdown",
   "metadata": {},
   "source": [
    "Note that while specifying a schema is mandatory when _creating_ a table, it's not always required when _importing_ data. This is because Pixeltable uses the structure of the imported data to infer the column types, when feasible. You can always override the inferred column types with the `schema_overrides` parameter of `import_csv()`.\n",
    "\n",
    "The following examples showcase some common data operations."
   ]
  },
  {
   "cell_type": "code",
   "execution_count": 21,
   "metadata": {},
   "outputs": [
    {
     "data": {
      "text/plain": [
       "1823"
      ]
     },
     "execution_count": 21,
     "metadata": {},
     "output_type": "execute_result"
    }
   ],
   "source": [
    "eq_t.count()  # Number of rows in the table"
   ]
  },
  {
   "cell_type": "code",
   "execution_count": 22,
   "metadata": {},
   "outputs": [
    {
     "data": {
      "text/html": [
       "<table border=\"1\" class=\"dataframe\">\n",
       "  <thead>\n",
       "    <tr style=\"text-align: right;\">\n",
       "      <th>id</th>\n",
       "      <th>magnitude</th>\n",
       "      <th>location</th>\n",
       "      <th>timestamp</th>\n",
       "      <th>longitude</th>\n",
       "      <th>latitude</th>\n",
       "    </tr>\n",
       "  </thead>\n",
       "  <tbody>\n",
       "    <tr>\n",
       "      <td>1002</td>\n",
       "      <td>4.3</td>\n",
       "      <td>Port Townsend, WA</td>\n",
       "      <td>2023-10-09 02:21:08.960000-07:00</td>\n",
       "      <td>-122.73</td>\n",
       "      <td>48.04</td>\n",
       "    </tr>\n",
       "    <tr>\n",
       "      <td>1226</td>\n",
       "      <td>4.04</td>\n",
       "      <td>6 km W of Quilcene, Washington</td>\n",
       "      <td>2023-12-24 15:14:04.220000-08:00</td>\n",
       "      <td>-122.96</td>\n",
       "      <td>47.82</td>\n",
       "    </tr>\n",
       "    <tr>\n",
       "      <td>699</td>\n",
       "      <td>3.91</td>\n",
       "      <td>9 km NNE of Snoqualmie, Washington</td>\n",
       "      <td>2023-08-08 10:17:23.910000-07:00</td>\n",
       "      <td>-121.77</td>\n",
       "      <td>47.6</td>\n",
       "    </tr>\n",
       "    <tr>\n",
       "      <td>1281</td>\n",
       "      <td>3.48</td>\n",
       "      <td>7 km SSW of River Road, Washington</td>\n",
       "      <td>2024-01-15 07:25:05.920000-08:00</td>\n",
       "      <td>-123.17</td>\n",
       "      <td>48.</td>\n",
       "    </tr>\n",
       "    <tr>\n",
       "      <td>1355</td>\n",
       "      <td>3.42</td>\n",
       "      <td>17 km WSW of Brinnon, Washington</td>\n",
       "      <td>2024-02-16 16:30:18.830000-08:00</td>\n",
       "      <td>-123.09</td>\n",
       "      <td>47.59</td>\n",
       "    </tr>\n",
       "  </tbody>\n",
       "</table>"
      ],
      "text/plain": [
       "     id  magnitude                            location  \\\n",
       "0  1002       4.30                   Port Townsend, WA   \n",
       "1  1226       4.04      6 km W of Quilcene, Washington   \n",
       "2   699       3.91  9 km NNE of Snoqualmie, Washington   \n",
       "3  1281       3.48  7 km SSW of River Road, Washington   \n",
       "4  1355       3.42    17 km WSW of Brinnon, Washington   \n",
       "\n",
       "                         timestamp  longitude  latitude  \n",
       "0 2023-10-09 02:21:08.960000-07:00    -122.73     48.04  \n",
       "1 2023-12-24 15:14:04.220000-08:00    -122.96     47.82  \n",
       "2 2023-08-08 10:17:23.910000-07:00    -121.77     47.60  \n",
       "3 2024-01-15 07:25:05.920000-08:00    -123.17     48.00  \n",
       "4 2024-02-16 16:30:18.830000-08:00    -123.09     47.59  "
      ]
     },
     "execution_count": 22,
     "metadata": {},
     "output_type": "execute_result"
    }
   ],
   "source": [
    "# 5 highest-magnitude earthquakes\n",
    "\n",
    "eq_t.order_by(eq_t.magnitude, asc=False).limit(5).collect()"
   ]
  },
  {
   "cell_type": "code",
   "execution_count": 23,
   "metadata": {},
   "outputs": [
    {
     "data": {
      "text/html": [
       "<table border=\"1\" class=\"dataframe\">\n",
       "  <thead>\n",
       "    <tr style=\"text-align: right;\">\n",
       "      <th>id</th>\n",
       "      <th>magnitude</th>\n",
       "      <th>location</th>\n",
       "      <th>timestamp</th>\n",
       "      <th>longitude</th>\n",
       "      <th>latitude</th>\n",
       "    </tr>\n",
       "  </thead>\n",
       "  <tbody>\n",
       "    <tr>\n",
       "      <td>699</td>\n",
       "      <td>3.91</td>\n",
       "      <td>9 km NNE of Snoqualmie, Washington</td>\n",
       "      <td>2023-08-08 10:17:23.910000-07:00</td>\n",
       "      <td>-121.77</td>\n",
       "      <td>47.6</td>\n",
       "    </tr>\n",
       "    <tr>\n",
       "      <td>799</td>\n",
       "      <td>2.86</td>\n",
       "      <td>5 km E of Ashford, Washington</td>\n",
       "      <td>2023-08-27 10:10:23.770000-07:00</td>\n",
       "      <td>-121.96</td>\n",
       "      <td>46.77</td>\n",
       "    </tr>\n",
       "    <tr>\n",
       "      <td>710</td>\n",
       "      <td>2.84</td>\n",
       "      <td>8 km ENE of Fall City, Washington</td>\n",
       "      <td>2023-08-08 11:51:12.750000-07:00</td>\n",
       "      <td>-121.79</td>\n",
       "      <td>47.6</td>\n",
       "    </tr>\n",
       "    <tr>\n",
       "      <td>577</td>\n",
       "      <td>2.79</td>\n",
       "      <td>0 km NE of Maple Valley, Washington</td>\n",
       "      <td>2023-07-04 15:52:54.430000-07:00</td>\n",
       "      <td>-122.04</td>\n",
       "      <td>47.4</td>\n",
       "    </tr>\n",
       "    <tr>\n",
       "      <td>769</td>\n",
       "      <td>2.73</td>\n",
       "      <td>16 km NE of Ashford, Washington</td>\n",
       "      <td>2023-08-22 23:44:12.250000-07:00</td>\n",
       "      <td>-121.88</td>\n",
       "      <td>46.87</td>\n",
       "    </tr>\n",
       "  </tbody>\n",
       "</table>"
      ],
      "text/plain": [
       "    id  magnitude                             location  \\\n",
       "0  699       3.91   9 km NNE of Snoqualmie, Washington   \n",
       "1  799       2.86        5 km E of Ashford, Washington   \n",
       "2  710       2.84    8 km ENE of Fall City, Washington   \n",
       "3  577       2.79  0 km NE of Maple Valley, Washington   \n",
       "4  769       2.73      16 km NE of Ashford, Washington   \n",
       "\n",
       "                         timestamp  longitude  latitude  \n",
       "0 2023-08-08 10:17:23.910000-07:00    -121.77     47.60  \n",
       "1 2023-08-27 10:10:23.770000-07:00    -121.96     46.77  \n",
       "2 2023-08-08 11:51:12.750000-07:00    -121.79     47.60  \n",
       "3 2023-07-04 15:52:54.430000-07:00    -122.04     47.40  \n",
       "4 2023-08-22 23:44:12.250000-07:00    -121.88     46.87  "
      ]
     },
     "execution_count": 23,
     "metadata": {},
     "output_type": "execute_result"
    }
   ],
   "source": [
    "from datetime import datetime\n",
    "\n",
    "# 5 highest-magnitude earthquakes in Q3 2023\n",
    "\n",
    "eq_t.where((eq_t.timestamp >= datetime(2023, 6, 1)) & (eq_t.timestamp < datetime(2023, 10, 1))) \\\n",
    "  .order_by(eq_t.magnitude, asc=False).limit(5).collect()"
   ]
  },
  {
   "cell_type": "markdown",
   "metadata": {},
   "source": [
    "Note that Pixeltable uses Pandas-like operators for filtering data: the expression\n",
    "\n",
    "```python\n",
    "(eq_t.timestamp >= datetime(2023, 6, 1)) & (eq_t.timestamp < datetime(2023, 10, 1))\n",
    "```\n",
    "\n",
    "means _both_ conditions must be true; similarly (say),\n",
    "\n",
    "```python\n",
    "(eq_t.timestamp < datetime(2023, 6, 1)) | (eq_t.timestamp >= datetime(2023, 10, 1))\n",
    "```\n",
    "\n",
    "would mean _either_ condition must be true.\n",
    "\n",
    "You can also use the special `isin` operator to select just those values that appear within a particular list:"
   ]
  },
  {
   "cell_type": "code",
   "execution_count": 24,
   "metadata": {},
   "outputs": [
    {
     "data": {
      "text/html": [
       "<table border=\"1\" class=\"dataframe\">\n",
       "  <thead>\n",
       "    <tr style=\"text-align: right;\">\n",
       "      <th>id</th>\n",
       "      <th>magnitude</th>\n",
       "      <th>location</th>\n",
       "      <th>timestamp</th>\n",
       "      <th>longitude</th>\n",
       "      <th>latitude</th>\n",
       "    </tr>\n",
       "  </thead>\n",
       "  <tbody>\n",
       "    <tr>\n",
       "      <td>123</td>\n",
       "      <td>1.23</td>\n",
       "      <td>7 km SW of Rainier, Washington</td>\n",
       "      <td>2023-02-17 00:28:25.460000-08:00</td>\n",
       "      <td>-122.75</td>\n",
       "      <td>46.84</td>\n",
       "    </tr>\n",
       "    <tr>\n",
       "      <td>456</td>\n",
       "      <td>0.23</td>\n",
       "      <td>Washington</td>\n",
       "      <td>2023-05-23 08:49:02.450000-07:00</td>\n",
       "      <td>-121.98</td>\n",
       "      <td>46.87</td>\n",
       "    </tr>\n",
       "    <tr>\n",
       "      <td>789</td>\n",
       "      <td>1.67</td>\n",
       "      <td>Puget Sound region, Washington</td>\n",
       "      <td>2023-08-26 04:04:11.200000-07:00</td>\n",
       "      <td>-122.57</td>\n",
       "      <td>47.6</td>\n",
       "    </tr>\n",
       "  </tbody>\n",
       "</table>"
      ],
      "text/plain": [
       "    id  magnitude                        location  \\\n",
       "0  123       1.23  7 km SW of Rainier, Washington   \n",
       "1  456       0.23                      Washington   \n",
       "2  789       1.67  Puget Sound region, Washington   \n",
       "\n",
       "                         timestamp  longitude  latitude  \n",
       "0 2023-02-17 00:28:25.460000-08:00    -122.75     46.84  \n",
       "1 2023-05-23 08:49:02.450000-07:00    -121.98     46.87  \n",
       "2 2023-08-26 04:04:11.200000-07:00    -122.57     47.60  "
      ]
     },
     "execution_count": 24,
     "metadata": {},
     "output_type": "execute_result"
    }
   ],
   "source": [
    "# Earthquakes with specific ids\n",
    "\n",
    "eq_t.where(eq_t.id.isin([123,456,789])).collect()"
   ]
  },
  {
   "cell_type": "markdown",
   "metadata": {},
   "source": [
    "In addition to basic operators like `>=` and `isin`, a Pixeltable `where` clause can also contain more complex operations. For example, the `location` column in our dataset is a string that contains a lot of information, but in a relatively unstructured way. Suppose we wanted to see all Earthquakes in the vicinity of Rainier, Washington; one way to do this is with the `contains()` method:"
   ]
  },
  {
   "cell_type": "code",
   "execution_count": 25,
   "metadata": {},
   "outputs": [
    {
     "data": {
      "text/html": [
       "<table border=\"1\" class=\"dataframe\">\n",
       "  <thead>\n",
       "    <tr style=\"text-align: right;\">\n",
       "      <th>id</th>\n",
       "      <th>magnitude</th>\n",
       "      <th>location</th>\n",
       "      <th>timestamp</th>\n",
       "      <th>longitude</th>\n",
       "      <th>latitude</th>\n",
       "    </tr>\n",
       "  </thead>\n",
       "  <tbody>\n",
       "    <tr>\n",
       "      <td>40</td>\n",
       "      <td>1.22</td>\n",
       "      <td>11 km SSE of Rainier, Washington</td>\n",
       "      <td>2023-01-19 21:52:29.910000-08:00</td>\n",
       "      <td>-122.65</td>\n",
       "      <td>46.79</td>\n",
       "    </tr>\n",
       "    <tr>\n",
       "      <td>85</td>\n",
       "      <td>1.45</td>\n",
       "      <td>10 km SSE of Rainier, Washington</td>\n",
       "      <td>2023-02-02 20:08:27.810000-08:00</td>\n",
       "      <td>-122.65</td>\n",
       "      <td>46.79</td>\n",
       "    </tr>\n",
       "    <tr>\n",
       "      <td>123</td>\n",
       "      <td>1.23</td>\n",
       "      <td>7 km SW of Rainier, Washington</td>\n",
       "      <td>2023-02-17 00:28:25.460000-08:00</td>\n",
       "      <td>-122.75</td>\n",
       "      <td>46.84</td>\n",
       "    </tr>\n",
       "    <tr>\n",
       "      <td>467</td>\n",
       "      <td>1.09</td>\n",
       "      <td>10 km SSE of Rainier, Washington</td>\n",
       "      <td>2023-05-26 19:39:44.120000-07:00</td>\n",
       "      <td>-122.65</td>\n",
       "      <td>46.8</td>\n",
       "    </tr>\n",
       "    <tr>\n",
       "      <td>1399</td>\n",
       "      <td>1.08</td>\n",
       "      <td>5 km SW of Rainier, Washington</td>\n",
       "      <td>2024-03-04 22:34:25.210000-08:00</td>\n",
       "      <td>-122.74</td>\n",
       "      <td>46.85</td>\n",
       "    </tr>\n",
       "    <tr>\n",
       "      <td>1709</td>\n",
       "      <td>1.16</td>\n",
       "      <td>10 km S of Rainier, Washington</td>\n",
       "      <td>2024-05-22 18:28:38.130000-07:00</td>\n",
       "      <td>-122.68</td>\n",
       "      <td>46.79</td>\n",
       "    </tr>\n",
       "    <tr>\n",
       "      <td>1776</td>\n",
       "      <td>1.17</td>\n",
       "      <td>12 km S of Rainier, Washington</td>\n",
       "      <td>2024-06-17 18:25:33.400000-07:00</td>\n",
       "      <td>-122.66</td>\n",
       "      <td>46.77</td>\n",
       "    </tr>\n",
       "  </tbody>\n",
       "</table>"
      ],
      "text/plain": [
       "     id  magnitude                          location  \\\n",
       "0    40       1.22  11 km SSE of Rainier, Washington   \n",
       "1    85       1.45  10 km SSE of Rainier, Washington   \n",
       "2   123       1.23    7 km SW of Rainier, Washington   \n",
       "3   467       1.09  10 km SSE of Rainier, Washington   \n",
       "4  1399       1.08    5 km SW of Rainier, Washington   \n",
       "5  1709       1.16    10 km S of Rainier, Washington   \n",
       "6  1776       1.17    12 km S of Rainier, Washington   \n",
       "\n",
       "                         timestamp  longitude  latitude  \n",
       "0 2023-01-19 21:52:29.910000-08:00    -122.65     46.79  \n",
       "1 2023-02-02 20:08:27.810000-08:00    -122.65     46.79  \n",
       "2 2023-02-17 00:28:25.460000-08:00    -122.75     46.84  \n",
       "3 2023-05-26 19:39:44.120000-07:00    -122.65     46.80  \n",
       "4 2024-03-04 22:34:25.210000-08:00    -122.74     46.85  \n",
       "5 2024-05-22 18:28:38.130000-07:00    -122.68     46.79  \n",
       "6 2024-06-17 18:25:33.400000-07:00    -122.66     46.77  "
      ]
     },
     "execution_count": 25,
     "metadata": {},
     "output_type": "execute_result"
    }
   ],
   "source": [
    "# All earthquakes in the vicinity of Rainier\n",
    "\n",
    "eq_t.where(eq_t.location.contains('Rainier')).collect()"
   ]
  },
  {
   "cell_type": "markdown",
   "metadata": {},
   "source": [
    "Pixeltable also supports various __aggregators__; here's an example showcasing two fairly simple ones, `max()` and `min()`:"
   ]
  },
  {
   "cell_type": "code",
   "execution_count": 26,
   "metadata": {},
   "outputs": [
    {
     "data": {
      "text/html": [
       "<table border=\"1\" class=\"dataframe\">\n",
       "  <thead>\n",
       "    <tr style=\"text-align: right;\">\n",
       "      <th>min</th>\n",
       "      <th>max</th>\n",
       "    </tr>\n",
       "  </thead>\n",
       "  <tbody>\n",
       "    <tr>\n",
       "      <td>0</td>\n",
       "      <td>1822</td>\n",
       "    </tr>\n",
       "  </tbody>\n",
       "</table>"
      ],
      "text/plain": [
       "   min   max\n",
       "0    0  1822"
      ]
     },
     "execution_count": 26,
     "metadata": {},
     "output_type": "execute_result"
    }
   ],
   "source": [
    "# Min and max ids\n",
    "\n",
    "eq_t.select(min=pxt.functions.min(eq_t.id), max=pxt.functions.max(eq_t.id)).collect()"
   ]
  },
  {
   "cell_type": "markdown",
   "metadata": {},
   "source": [
    "We'll discuss the various Pixeltable functions and expressions more thoroughly in the next tutorial section, [Computed Columns and Expressions](), and they're exhaustively documented in the [Pixeltable API](https://pixeltable.github.io/pixeltable/)."
   ]
  },
  {
   "cell_type": "markdown",
   "metadata": {},
   "source": [
    "### Extracting Data from Tables into Python/Pandas"
   ]
  },
  {
   "cell_type": "markdown",
   "metadata": {},
   "source": [
    "Sometimes it's handy to pull out data from a table into a Python object. We've actually already done this; the call to `collect()` returns an in-memory result set, which we can then dereference in various ways. For example:"
   ]
  },
  {
   "cell_type": "code",
   "execution_count": 27,
   "metadata": {},
   "outputs": [
    {
     "data": {
      "text/plain": [
       "{'id': 0,\n",
       " 'magnitude': 1.15,\n",
       " 'location': '10 km NW of Belfair, Washington',\n",
       " 'timestamp': datetime.datetime(2023, 1, 1, 8, 10, 37, 50000, tzinfo=zoneinfo.ZoneInfo(key='America/Los_Angeles')),\n",
       " 'longitude': -122.93,\n",
       " 'latitude': 47.51}"
      ]
     },
     "execution_count": 27,
     "metadata": {},
     "output_type": "execute_result"
    }
   ],
   "source": [
    "result = eq_t.limit(5).collect()\n",
    "result[0]  # Get the first row of the results as a dict"
   ]
  },
  {
   "cell_type": "code",
   "execution_count": 28,
   "metadata": {},
   "outputs": [
    {
     "data": {
      "text/plain": [
       "[datetime.datetime(2023, 1, 1, 8, 10, 37, 50000, tzinfo=zoneinfo.ZoneInfo(key='America/Los_Angeles')),\n",
       " datetime.datetime(2023, 1, 2, 1, 2, 43, 950000, tzinfo=zoneinfo.ZoneInfo(key='America/Los_Angeles')),\n",
       " datetime.datetime(2023, 1, 2, 12, 5, 1, 420000, tzinfo=zoneinfo.ZoneInfo(key='America/Los_Angeles')),\n",
       " datetime.datetime(2023, 1, 2, 12, 45, 14, 220000, tzinfo=zoneinfo.ZoneInfo(key='America/Los_Angeles')),\n",
       " datetime.datetime(2023, 1, 2, 13, 19, 27, 200000, tzinfo=zoneinfo.ZoneInfo(key='America/Los_Angeles'))]"
      ]
     },
     "execution_count": 28,
     "metadata": {},
     "output_type": "execute_result"
    }
   ],
   "source": [
    "result['timestamp']  # Get a list of the `timestamp` field of all the rows that were queried"
   ]
  },
  {
   "cell_type": "code",
   "execution_count": 29,
   "metadata": {},
   "outputs": [
    {
     "data": {
      "text/plain": [
       "count    5.000000\n",
       "mean     0.744000\n",
       "std      0.587988\n",
       "min      0.200000\n",
       "25%      0.290000\n",
       "50%      0.520000\n",
       "75%      1.150000\n",
       "max      1.560000\n",
       "Name: magnitude, dtype: float64"
      ]
     },
     "execution_count": 29,
     "metadata": {},
     "output_type": "execute_result"
    }
   ],
   "source": [
    "df = result.to_pandas()  # Convert the result set into a Pandas dataframe\n",
    "df['magnitude'].describe()"
   ]
  },
  {
   "cell_type": "markdown",
   "metadata": {},
   "source": [
    "`collect()` without a preceding `limit()` returns the entire contents of a query or table. Be careful! For very large tables, this could result in out-of-memory errors. In this example, the 1823 rows in the table fit comfortably into a dataframe."
   ]
  },
  {
   "cell_type": "code",
   "execution_count": 30,
   "metadata": {},
   "outputs": [
    {
     "data": {
      "text/plain": [
       "count    1823.000000\n",
       "mean        0.900378\n",
       "std         0.625492\n",
       "min        -0.830000\n",
       "25%         0.420000\n",
       "50%         0.850000\n",
       "75%         1.310000\n",
       "max         4.300000\n",
       "Name: magnitude, dtype: float64"
      ]
     },
     "execution_count": 30,
     "metadata": {},
     "output_type": "execute_result"
    }
   ],
   "source": [
    "df = eq_t.collect().to_pandas()\n",
    "df['magnitude'].describe()"
   ]
  },
  {
   "cell_type": "markdown",
   "metadata": {},
   "source": [
    "### Adding Columns"
   ]
  },
  {
   "cell_type": "markdown",
   "metadata": {},
   "source": [
    "Like other database tables, Pixeltable tables aren't fixed entities: they're meant to evolve over time. Suppose we want to add a new column to hold user-specified comments about particular earthquake events. We can do this with the `add_column()` method:"
   ]
  },
  {
   "cell_type": "code",
   "execution_count": 31,
   "metadata": {},
   "outputs": [
    {
     "name": "stdout",
     "output_type": "stream",
     "text": [
      "Added 1823 column values with 0 errors.\n"
     ]
    },
    {
     "data": {
      "text/plain": [
       "UpdateStatus(num_rows=1823, num_computed_values=1823, num_excs=0, updated_cols=[], cols_with_excs=[])"
      ]
     },
     "execution_count": 31,
     "metadata": {},
     "output_type": "execute_result"
    }
   ],
   "source": [
    "eq_t.add_column(note=pxt.StringType(nullable=True))"
   ]
  },
  {
   "cell_type": "markdown",
   "metadata": {},
   "source": [
    "Here, `note` is the column name, and `pxt.StringType` specifies the type of the new column. `nullable=True` means that it's an _optional_ field. That `nullable=True` is mandatory for newly-added columns, because none of the existing rows have a comment (yet) - so it'd be inconsistent with the existing data to make `note` a required field.\n",
    "\n",
    "An alternate syntax is sometimes convenient for adding columns:"
   ]
  },
  {
   "cell_type": "code",
   "execution_count": 32,
   "metadata": {},
   "outputs": [
    {
     "name": "stdout",
     "output_type": "stream",
     "text": [
      "Added 1823 column values with 0 errors.\n"
     ]
    }
   ],
   "source": [
    "eq_t['contact_email'] = pxt.StringType(nullable=True)"
   ]
  },
  {
   "cell_type": "markdown",
   "metadata": {},
   "source": [
    "Let's have a look at the revised schema."
   ]
  },
  {
   "cell_type": "code",
   "execution_count": 33,
   "metadata": {},
   "outputs": [
    {
     "data": {
      "text/html": [
       "<style type=\"text/css\">\n",
       "#T_a6709 th {\n",
       "  text-align: center;\n",
       "}\n",
       "#T_a6709_row0_col0, #T_a6709_row0_col1, #T_a6709_row0_col2, #T_a6709_row1_col0, #T_a6709_row1_col1, #T_a6709_row1_col2, #T_a6709_row2_col0, #T_a6709_row2_col1, #T_a6709_row2_col2, #T_a6709_row3_col0, #T_a6709_row3_col1, #T_a6709_row3_col2, #T_a6709_row4_col0, #T_a6709_row4_col1, #T_a6709_row4_col2, #T_a6709_row5_col0, #T_a6709_row5_col1, #T_a6709_row5_col2, #T_a6709_row6_col0, #T_a6709_row6_col1, #T_a6709_row6_col2, #T_a6709_row7_col0, #T_a6709_row7_col1, #T_a6709_row7_col2 {\n",
       "  white-space: pre-wrap;\n",
       "  text-align: left;\n",
       "}\n",
       "</style>\n",
       "<table id=\"T_a6709\">\n",
       "  <thead>\n",
       "    <tr>\n",
       "      <th id=\"T_a6709_level0_col0\" class=\"col_heading level0 col0\" >Column Name</th>\n",
       "      <th id=\"T_a6709_level0_col1\" class=\"col_heading level0 col1\" >Type</th>\n",
       "      <th id=\"T_a6709_level0_col2\" class=\"col_heading level0 col2\" >Computed With</th>\n",
       "    </tr>\n",
       "  </thead>\n",
       "  <tbody>\n",
       "    <tr>\n",
       "      <td id=\"T_a6709_row0_col0\" class=\"data row0 col0\" >id</td>\n",
       "      <td id=\"T_a6709_row0_col1\" class=\"data row0 col1\" >int</td>\n",
       "      <td id=\"T_a6709_row0_col2\" class=\"data row0 col2\" ></td>\n",
       "    </tr>\n",
       "    <tr>\n",
       "      <td id=\"T_a6709_row1_col0\" class=\"data row1 col0\" >magnitude</td>\n",
       "      <td id=\"T_a6709_row1_col1\" class=\"data row1 col1\" >float</td>\n",
       "      <td id=\"T_a6709_row1_col2\" class=\"data row1 col2\" ></td>\n",
       "    </tr>\n",
       "    <tr>\n",
       "      <td id=\"T_a6709_row2_col0\" class=\"data row2 col0\" >location</td>\n",
       "      <td id=\"T_a6709_row2_col1\" class=\"data row2 col1\" >string</td>\n",
       "      <td id=\"T_a6709_row2_col2\" class=\"data row2 col2\" ></td>\n",
       "    </tr>\n",
       "    <tr>\n",
       "      <td id=\"T_a6709_row3_col0\" class=\"data row3 col0\" >timestamp</td>\n",
       "      <td id=\"T_a6709_row3_col1\" class=\"data row3 col1\" >timestamp</td>\n",
       "      <td id=\"T_a6709_row3_col2\" class=\"data row3 col2\" ></td>\n",
       "    </tr>\n",
       "    <tr>\n",
       "      <td id=\"T_a6709_row4_col0\" class=\"data row4 col0\" >longitude</td>\n",
       "      <td id=\"T_a6709_row4_col1\" class=\"data row4 col1\" >float</td>\n",
       "      <td id=\"T_a6709_row4_col2\" class=\"data row4 col2\" ></td>\n",
       "    </tr>\n",
       "    <tr>\n",
       "      <td id=\"T_a6709_row5_col0\" class=\"data row5 col0\" >latitude</td>\n",
       "      <td id=\"T_a6709_row5_col1\" class=\"data row5 col1\" >float</td>\n",
       "      <td id=\"T_a6709_row5_col2\" class=\"data row5 col2\" ></td>\n",
       "    </tr>\n",
       "    <tr>\n",
       "      <td id=\"T_a6709_row6_col0\" class=\"data row6 col0\" >note</td>\n",
       "      <td id=\"T_a6709_row6_col1\" class=\"data row6 col1\" >string</td>\n",
       "      <td id=\"T_a6709_row6_col2\" class=\"data row6 col2\" ></td>\n",
       "    </tr>\n",
       "    <tr>\n",
       "      <td id=\"T_a6709_row7_col0\" class=\"data row7 col0\" >contact_email</td>\n",
       "      <td id=\"T_a6709_row7_col1\" class=\"data row7 col1\" >string</td>\n",
       "      <td id=\"T_a6709_row7_col2\" class=\"data row7 col2\" ></td>\n",
       "    </tr>\n",
       "  </tbody>\n",
       "</table>\n"
      ],
      "text/plain": [
       "<pandas.io.formats.style.Styler at 0x7f872e7f17b0>"
      ]
     },
     "metadata": {},
     "output_type": "display_data"
    }
   ],
   "source": [
    "eq_t.describe()"
   ]
  },
  {
   "cell_type": "markdown",
   "metadata": {},
   "source": [
    "### Updating Rows in a Table"
   ]
  },
  {
   "cell_type": "markdown",
   "metadata": {},
   "source": [
    "Table rows can be modified and deleted with the SQL-like `update()` and `delete()` commands."
   ]
  },
  {
   "cell_type": "code",
   "execution_count": 34,
   "metadata": {},
   "outputs": [
    {
     "name": "stdout",
     "output_type": "stream",
     "text": [
      "Inserting rows into `earthquakes`: 2 rows [00:00, 1162.34 rows/s]\n"
     ]
    },
    {
     "data": {
      "text/plain": [
       "UpdateStatus(num_rows=2, num_computed_values=0, num_excs=0, updated_cols=['earthquakes.note', 'earthquakes.contact_email'], cols_with_excs=[])"
      ]
     },
     "execution_count": 34,
     "metadata": {},
     "output_type": "execute_result"
    }
   ],
   "source": [
    "# Add a comment to records with IDs 123 and 127\n",
    "\n",
    "(\n",
    "    eq_t\n",
    "    .where(eq_t.id.isin([121,123]))\n",
    "    .update({'note': 'Still investigating.', 'contact_email': 'contact@pixeltable.com'})\n",
    ")"
   ]
  },
  {
   "cell_type": "code",
   "execution_count": 35,
   "metadata": {},
   "outputs": [
    {
     "data": {
      "text/html": [
       "<table border=\"1\" class=\"dataframe\">\n",
       "  <thead>\n",
       "    <tr style=\"text-align: right;\">\n",
       "      <th>id</th>\n",
       "      <th>magnitude</th>\n",
       "      <th>note</th>\n",
       "      <th>contact_email</th>\n",
       "    </tr>\n",
       "  </thead>\n",
       "  <tbody>\n",
       "    <tr>\n",
       "      <td>120</td>\n",
       "      <td>1.17</td>\n",
       "      <td>None</td>\n",
       "      <td>None</td>\n",
       "    </tr>\n",
       "    <tr>\n",
       "      <td>121</td>\n",
       "      <td>1.87</td>\n",
       "      <td>Still investigating.</td>\n",
       "      <td>contact@pixeltable.com</td>\n",
       "    </tr>\n",
       "    <tr>\n",
       "      <td>122</td>\n",
       "      <td>0.34</td>\n",
       "      <td>None</td>\n",
       "      <td>None</td>\n",
       "    </tr>\n",
       "    <tr>\n",
       "      <td>123</td>\n",
       "      <td>1.23</td>\n",
       "      <td>Still investigating.</td>\n",
       "      <td>contact@pixeltable.com</td>\n",
       "    </tr>\n",
       "    <tr>\n",
       "      <td>124</td>\n",
       "      <td>0.13</td>\n",
       "      <td>None</td>\n",
       "      <td>None</td>\n",
       "    </tr>\n",
       "  </tbody>\n",
       "</table>"
      ],
      "text/plain": [
       "    id  magnitude                  note           contact_email\n",
       "0  120       1.17                  None                    None\n",
       "1  121       1.87  Still investigating.  contact@pixeltable.com\n",
       "2  122       0.34                  None                    None\n",
       "3  123       1.23  Still investigating.  contact@pixeltable.com\n",
       "4  124       0.13                  None                    None"
      ]
     },
     "execution_count": 35,
     "metadata": {},
     "output_type": "execute_result"
    }
   ],
   "source": [
    "eq_t.where(eq_t.id >= 120).select(eq_t.id, eq_t.magnitude, eq_t.note, eq_t.contact_email).head(5)"
   ]
  },
  {
   "cell_type": "markdown",
   "metadata": {},
   "source": [
    "`update()` can also accept an expression, rather than a constant value. For example, suppose we wanted to shorten the location strings by replacing every occurrence of `Washington` with `WA`. One way to do this is with an `update()` clause, using a Pixeltable expression with the `replace()` method."
   ]
  },
  {
   "cell_type": "code",
   "execution_count": 36,
   "metadata": {},
   "outputs": [
    {
     "name": "stdout",
     "output_type": "stream",
     "text": [
      "Inserting rows into `earthquakes`: 1823 rows [00:00, 23121.24 rows/s]\n"
     ]
    },
    {
     "data": {
      "text/plain": [
       "UpdateStatus(num_rows=1823, num_computed_values=0, num_excs=0, updated_cols=['earthquakes.location'], cols_with_excs=[])"
      ]
     },
     "execution_count": 36,
     "metadata": {},
     "output_type": "execute_result"
    }
   ],
   "source": [
    "eq_t.update({'location': eq_t.location.replace('Washington', 'WA')})"
   ]
  },
  {
   "cell_type": "code",
   "execution_count": 37,
   "metadata": {},
   "outputs": [
    {
     "data": {
      "text/html": [
       "<table border=\"1\" class=\"dataframe\">\n",
       "  <thead>\n",
       "    <tr style=\"text-align: right;\">\n",
       "      <th>id</th>\n",
       "      <th>magnitude</th>\n",
       "      <th>location</th>\n",
       "      <th>timestamp</th>\n",
       "      <th>longitude</th>\n",
       "      <th>latitude</th>\n",
       "      <th>note</th>\n",
       "      <th>contact_email</th>\n",
       "    </tr>\n",
       "  </thead>\n",
       "  <tbody>\n",
       "    <tr>\n",
       "      <td>0</td>\n",
       "      <td>1.15</td>\n",
       "      <td>10 km NW of Belfair, WA</td>\n",
       "      <td>2023-01-01 08:10:37.050000-08:00</td>\n",
       "      <td>-122.93</td>\n",
       "      <td>47.51</td>\n",
       "      <td>None</td>\n",
       "      <td>None</td>\n",
       "    </tr>\n",
       "    <tr>\n",
       "      <td>1</td>\n",
       "      <td>0.29</td>\n",
       "      <td>23 km ENE of Ashford, WA</td>\n",
       "      <td>2023-01-02 01:02:43.950000-08:00</td>\n",
       "      <td>-121.76</td>\n",
       "      <td>46.85</td>\n",
       "      <td>None</td>\n",
       "      <td>None</td>\n",
       "    </tr>\n",
       "    <tr>\n",
       "      <td>2</td>\n",
       "      <td>0.2</td>\n",
       "      <td>23 km ENE of Ashford, WA</td>\n",
       "      <td>2023-01-02 12:05:01.420000-08:00</td>\n",
       "      <td>-121.75</td>\n",
       "      <td>46.86</td>\n",
       "      <td>None</td>\n",
       "      <td>None</td>\n",
       "    </tr>\n",
       "    <tr>\n",
       "      <td>3</td>\n",
       "      <td>0.52</td>\n",
       "      <td>15 km NNE of Ashford, WA</td>\n",
       "      <td>2023-01-02 12:45:14.220000-08:00</td>\n",
       "      <td>-121.95</td>\n",
       "      <td>46.89</td>\n",
       "      <td>None</td>\n",
       "      <td>None</td>\n",
       "    </tr>\n",
       "    <tr>\n",
       "      <td>4</td>\n",
       "      <td>1.56</td>\n",
       "      <td>0 km WSW of Esperance, WA</td>\n",
       "      <td>2023-01-02 13:19:27.200000-08:00</td>\n",
       "      <td>-122.36</td>\n",
       "      <td>47.79</td>\n",
       "      <td>None</td>\n",
       "      <td>None</td>\n",
       "    </tr>\n",
       "  </tbody>\n",
       "</table>"
      ],
      "text/plain": [
       "   id  magnitude                   location                        timestamp  \\\n",
       "0   0       1.15    10 km NW of Belfair, WA 2023-01-01 08:10:37.050000-08:00   \n",
       "1   1       0.29   23 km ENE of Ashford, WA 2023-01-02 01:02:43.950000-08:00   \n",
       "2   2       0.20   23 km ENE of Ashford, WA 2023-01-02 12:05:01.420000-08:00   \n",
       "3   3       0.52   15 km NNE of Ashford, WA 2023-01-02 12:45:14.220000-08:00   \n",
       "4   4       1.56  0 km WSW of Esperance, WA 2023-01-02 13:19:27.200000-08:00   \n",
       "\n",
       "   longitude  latitude  note contact_email  \n",
       "0    -122.93     47.51  None          None  \n",
       "1    -121.76     46.85  None          None  \n",
       "2    -121.75     46.86  None          None  \n",
       "3    -121.95     46.89  None          None  \n",
       "4    -122.36     47.79  None          None  "
      ]
     },
     "execution_count": 37,
     "metadata": {},
     "output_type": "execute_result"
    }
   ],
   "source": [
    "eq_t.head(5)"
   ]
  },
  {
   "cell_type": "markdown",
   "metadata": {},
   "source": [
    "Notice that in all cases, the `update()` clause takes a Python dictionary, but its values can be either constants such as `'contact@pixeltable.com'`, or more complex expressions such as `eq_t.location.replace('Washington', 'WA')`. Also notice that if `update()` appears without a `where()` clause, then every row in the table will be updated, as in the preceding example.\n",
    "\n",
    "### Batch Updates\n",
    "\n",
    "The `batch_update()` method provides an alternative way to update multiple rows with different values. With a `batch_update()`, the contents of each row are specified by individual `dict`s, rather than according to a formula. Here's a toy example that shows `batch_update()` in action."
   ]
  },
  {
   "cell_type": "code",
   "execution_count": 38,
   "metadata": {},
   "outputs": [
    {
     "name": "stdout",
     "output_type": "stream",
     "text": [
      "Inserting rows into `earthquakes`: 3 rows [00:00, 347.46 rows/s]\n"
     ]
    },
    {
     "data": {
      "text/plain": [
       "UpdateStatus(num_rows=3, num_computed_values=0, num_excs=0, updated_cols=['earthquakes.note'], cols_with_excs=[])"
      ]
     },
     "execution_count": 38,
     "metadata": {},
     "output_type": "execute_result"
    }
   ],
   "source": [
    "updates = [\n",
    "    {'id': 500, 'note': 'This is an example note.'},\n",
    "    {'id': 501, 'note': 'This is a different note.'},\n",
    "    {'id': 502, 'note': 'A third note, unrelated to the others.'}\n",
    "]\n",
    "eq_t.batch_update(updates)"
   ]
  },
  {
   "cell_type": "code",
   "execution_count": 39,
   "metadata": {},
   "outputs": [
    {
     "data": {
      "text/html": [
       "<table border=\"1\" class=\"dataframe\">\n",
       "  <thead>\n",
       "    <tr style=\"text-align: right;\">\n",
       "      <th>id</th>\n",
       "      <th>magnitude</th>\n",
       "      <th>note</th>\n",
       "      <th>contact_email</th>\n",
       "    </tr>\n",
       "  </thead>\n",
       "  <tbody>\n",
       "    <tr>\n",
       "      <td>500</td>\n",
       "      <td>0.75</td>\n",
       "      <td>This is an example note.</td>\n",
       "      <td>None</td>\n",
       "    </tr>\n",
       "    <tr>\n",
       "      <td>501</td>\n",
       "      <td>0.23</td>\n",
       "      <td>This is a different note.</td>\n",
       "      <td>None</td>\n",
       "    </tr>\n",
       "    <tr>\n",
       "      <td>502</td>\n",
       "      <td>0.43</td>\n",
       "      <td>A third note, unrelated to the others.</td>\n",
       "      <td>None</td>\n",
       "    </tr>\n",
       "    <tr>\n",
       "      <td>503</td>\n",
       "      <td>0.31</td>\n",
       "      <td>None</td>\n",
       "      <td>None</td>\n",
       "    </tr>\n",
       "    <tr>\n",
       "      <td>504</td>\n",
       "      <td>0.35</td>\n",
       "      <td>None</td>\n",
       "      <td>None</td>\n",
       "    </tr>\n",
       "  </tbody>\n",
       "</table>"
      ],
      "text/plain": [
       "    id  magnitude                                    note contact_email\n",
       "0  500       0.75                This is an example note.          None\n",
       "1  501       0.23               This is a different note.          None\n",
       "2  502       0.43  A third note, unrelated to the others.          None\n",
       "3  503       0.31                                    None          None\n",
       "4  504       0.35                                    None          None"
      ]
     },
     "execution_count": 39,
     "metadata": {},
     "output_type": "execute_result"
    }
   ],
   "source": [
    "eq_t.where(eq_t.id >= 500).select(eq_t.id, eq_t.magnitude, eq_t.note, eq_t.contact_email).head(5)"
   ]
  },
  {
   "cell_type": "markdown",
   "metadata": {},
   "source": [
    "### Deleting Rows\n",
    "\n",
    "To delete rows from a table, use the `delete()` method."
   ]
  },
  {
   "cell_type": "code",
   "execution_count": 40,
   "metadata": {},
   "outputs": [
    {
     "data": {
      "text/plain": [
       "UpdateStatus(num_rows=587, num_computed_values=0, num_excs=0, updated_cols=[], cols_with_excs=[])"
      ]
     },
     "execution_count": 40,
     "metadata": {},
     "output_type": "execute_result"
    }
   ],
   "source": [
    "# Delete all rows in 2024\n",
    "\n",
    "eq_t.where(eq_t.timestamp >= datetime(2024, 1, 1)).delete()"
   ]
  },
  {
   "cell_type": "code",
   "execution_count": 41,
   "metadata": {},
   "outputs": [
    {
     "data": {
      "text/plain": [
       "1236"
      ]
     },
     "execution_count": 41,
     "metadata": {},
     "output_type": "execute_result"
    }
   ],
   "source": [
    "eq_t.count()  # How many are left after deleting?"
   ]
  },
  {
   "cell_type": "markdown",
   "metadata": {},
   "source": [
    "Don't forget to specify a `where()` clause when using `delete()`! If you run `delete()` without a `where()` clause, the entire contents of the table will be deleted."
   ]
  },
  {
   "cell_type": "code",
   "execution_count": 42,
   "metadata": {},
   "outputs": [
    {
     "data": {
      "text/plain": [
       "UpdateStatus(num_rows=1236, num_computed_values=0, num_excs=0, updated_cols=[], cols_with_excs=[])"
      ]
     },
     "execution_count": 42,
     "metadata": {},
     "output_type": "execute_result"
    }
   ],
   "source": [
    "eq_t.delete()"
   ]
  },
  {
   "cell_type": "code",
   "execution_count": 43,
   "metadata": {},
   "outputs": [
    {
     "data": {
      "text/plain": [
       "0"
      ]
     },
     "execution_count": 43,
     "metadata": {},
     "output_type": "execute_result"
    }
   ],
   "source": [
    "eq_t.count()"
   ]
  },
  {
   "cell_type": "markdown",
   "metadata": {},
   "source": [
    "### Table Versioning\n",
    "\n",
    "Every table in Pixeltable is versioned: some or all of its modification history is preserved. If you make a mistake, you can always call `revert()` to undo the previous change to a table. Let's try it out: we'll use it to revert the successive `delete()` calls that we just executed."
   ]
  },
  {
   "cell_type": "code",
   "execution_count": 44,
   "metadata": {},
   "outputs": [],
   "source": [
    "eq_t.revert()"
   ]
  },
  {
   "cell_type": "code",
   "execution_count": 45,
   "metadata": {},
   "outputs": [
    {
     "data": {
      "text/plain": [
       "1236"
      ]
     },
     "execution_count": 45,
     "metadata": {},
     "output_type": "execute_result"
    }
   ],
   "source": [
    "eq_t.count()"
   ]
  },
  {
   "cell_type": "code",
   "execution_count": 46,
   "metadata": {},
   "outputs": [],
   "source": [
    "eq_t.revert()"
   ]
  },
  {
   "cell_type": "code",
   "execution_count": 47,
   "metadata": {},
   "outputs": [
    {
     "data": {
      "text/plain": [
       "1823"
      ]
     },
     "execution_count": 47,
     "metadata": {},
     "output_type": "execute_result"
    }
   ],
   "source": [
    "eq_t.count()"
   ]
  },
  {
   "cell_type": "markdown",
   "metadata": {},
   "source": [
    "<div class=\"alert alert-block alert-info\">\n",
    "Be aware: calling <code>revert()</code> cannot be undone!\n",
    "</div>"
   ]
  },
  {
   "cell_type": "markdown",
   "metadata": {},
   "source": [
    "### Multimodal Data\n",
    "\n",
    "In addition to the structured data we've been exploring so far in this tutorial, Pixeltable has native support for __media types__: images, video, audio, and unstructured documents such as pdfs. Media support is one of Pixeltable's core capabilities, and we'll have much more to say about it the upcoming [Unstructured Data](...) section of this tutorial. For now, we'll just give one example to show how media data lives side-by-side with structured data in Pixeltable."
   ]
  },
  {
   "cell_type": "code",
   "execution_count": 48,
   "metadata": {},
   "outputs": [
    {
     "name": "stdout",
     "output_type": "stream",
     "text": [
      "Added 1823 column values with 0 errors.\n"
     ]
    },
    {
     "data": {
      "text/html": [
       "<style type=\"text/css\">\n",
       "#T_805e9 th {\n",
       "  text-align: center;\n",
       "}\n",
       "#T_805e9_row0_col0, #T_805e9_row0_col1, #T_805e9_row0_col2, #T_805e9_row1_col0, #T_805e9_row1_col1, #T_805e9_row1_col2, #T_805e9_row2_col0, #T_805e9_row2_col1, #T_805e9_row2_col2, #T_805e9_row3_col0, #T_805e9_row3_col1, #T_805e9_row3_col2, #T_805e9_row4_col0, #T_805e9_row4_col1, #T_805e9_row4_col2, #T_805e9_row5_col0, #T_805e9_row5_col1, #T_805e9_row5_col2, #T_805e9_row6_col0, #T_805e9_row6_col1, #T_805e9_row6_col2, #T_805e9_row7_col0, #T_805e9_row7_col1, #T_805e9_row7_col2, #T_805e9_row8_col0, #T_805e9_row8_col1, #T_805e9_row8_col2 {\n",
       "  white-space: pre-wrap;\n",
       "  text-align: left;\n",
       "}\n",
       "</style>\n",
       "<table id=\"T_805e9\">\n",
       "  <thead>\n",
       "    <tr>\n",
       "      <th id=\"T_805e9_level0_col0\" class=\"col_heading level0 col0\" >Column Name</th>\n",
       "      <th id=\"T_805e9_level0_col1\" class=\"col_heading level0 col1\" >Type</th>\n",
       "      <th id=\"T_805e9_level0_col2\" class=\"col_heading level0 col2\" >Computed With</th>\n",
       "    </tr>\n",
       "  </thead>\n",
       "  <tbody>\n",
       "    <tr>\n",
       "      <td id=\"T_805e9_row0_col0\" class=\"data row0 col0\" >id</td>\n",
       "      <td id=\"T_805e9_row0_col1\" class=\"data row0 col1\" >int</td>\n",
       "      <td id=\"T_805e9_row0_col2\" class=\"data row0 col2\" ></td>\n",
       "    </tr>\n",
       "    <tr>\n",
       "      <td id=\"T_805e9_row1_col0\" class=\"data row1 col0\" >magnitude</td>\n",
       "      <td id=\"T_805e9_row1_col1\" class=\"data row1 col1\" >float</td>\n",
       "      <td id=\"T_805e9_row1_col2\" class=\"data row1 col2\" ></td>\n",
       "    </tr>\n",
       "    <tr>\n",
       "      <td id=\"T_805e9_row2_col0\" class=\"data row2 col0\" >location</td>\n",
       "      <td id=\"T_805e9_row2_col1\" class=\"data row2 col1\" >string</td>\n",
       "      <td id=\"T_805e9_row2_col2\" class=\"data row2 col2\" ></td>\n",
       "    </tr>\n",
       "    <tr>\n",
       "      <td id=\"T_805e9_row3_col0\" class=\"data row3 col0\" >timestamp</td>\n",
       "      <td id=\"T_805e9_row3_col1\" class=\"data row3 col1\" >timestamp</td>\n",
       "      <td id=\"T_805e9_row3_col2\" class=\"data row3 col2\" ></td>\n",
       "    </tr>\n",
       "    <tr>\n",
       "      <td id=\"T_805e9_row4_col0\" class=\"data row4 col0\" >longitude</td>\n",
       "      <td id=\"T_805e9_row4_col1\" class=\"data row4 col1\" >float</td>\n",
       "      <td id=\"T_805e9_row4_col2\" class=\"data row4 col2\" ></td>\n",
       "    </tr>\n",
       "    <tr>\n",
       "      <td id=\"T_805e9_row5_col0\" class=\"data row5 col0\" >latitude</td>\n",
       "      <td id=\"T_805e9_row5_col1\" class=\"data row5 col1\" >float</td>\n",
       "      <td id=\"T_805e9_row5_col2\" class=\"data row5 col2\" ></td>\n",
       "    </tr>\n",
       "    <tr>\n",
       "      <td id=\"T_805e9_row6_col0\" class=\"data row6 col0\" >note</td>\n",
       "      <td id=\"T_805e9_row6_col1\" class=\"data row6 col1\" >string</td>\n",
       "      <td id=\"T_805e9_row6_col2\" class=\"data row6 col2\" ></td>\n",
       "    </tr>\n",
       "    <tr>\n",
       "      <td id=\"T_805e9_row7_col0\" class=\"data row7 col0\" >contact_email</td>\n",
       "      <td id=\"T_805e9_row7_col1\" class=\"data row7 col1\" >string</td>\n",
       "      <td id=\"T_805e9_row7_col2\" class=\"data row7 col2\" ></td>\n",
       "    </tr>\n",
       "    <tr>\n",
       "      <td id=\"T_805e9_row8_col0\" class=\"data row8 col0\" >map_image</td>\n",
       "      <td id=\"T_805e9_row8_col1\" class=\"data row8 col1\" >image</td>\n",
       "      <td id=\"T_805e9_row8_col2\" class=\"data row8 col2\" ></td>\n",
       "    </tr>\n",
       "  </tbody>\n",
       "</table>\n"
      ],
      "text/plain": [
       "<pandas.io.formats.style.Styler at 0x7f872e7bf6a0>"
      ]
     },
     "metadata": {},
     "output_type": "display_data"
    }
   ],
   "source": [
    "eq_t['map_image'] = pxt.ImageType(nullable=True)  # Add a new `ImageType` column\n",
    "eq_t.describe()"
   ]
  },
  {
   "cell_type": "code",
   "execution_count": 49,
   "metadata": {},
   "outputs": [
    {
     "name": "stdout",
     "output_type": "stream",
     "text": [
      "Inserting rows into `earthquakes`: 1 rows [00:00, 403.57 rows/s]\n"
     ]
    },
    {
     "data": {
      "text/plain": [
       "UpdateStatus(num_rows=1, num_computed_values=0, num_excs=0, updated_cols=['earthquakes.map_image'], cols_with_excs=[])"
      ]
     },
     "execution_count": 49,
     "metadata": {},
     "output_type": "execute_result"
    }
   ],
   "source": [
    "# Update the row with id == 1002, adding an image to the `map_image` column\n",
    "\n",
    "eq_t.where(eq_t.id == 1002).update(\n",
    "    {'map_image': 'https://raw.githubusercontent.com/pixeltable/pixeltable/release/docs/source/data/port-townsend-map.jpeg'}\n",
    ")"
   ]
  },
  {
   "cell_type": "markdown",
   "metadata": {},
   "source": [
    "<div class=\"alert alert-block alert-info\">\n",
    "Note that in Pixeltable, you can always insert images into a table by giving the file path or URL of the image (as a string). It's not necessary to load the image first; Pixeltable will manage the loading and caching of images in the background. The same applies to other media data such as documents and videos.\n",
    "</div>\n",
    "\n",
    "Pixeltable will also embed image thumbnails in your notebook when you do a query:"
   ]
  },
  {
   "cell_type": "code",
   "execution_count": 50,
   "metadata": {},
   "outputs": [
    {
     "data": {
      "text/html": [
       "<table border=\"1\" class=\"dataframe\">\n",
       "  <thead>\n",
       "    <tr style=\"text-align: right;\">\n",
       "      <th>id</th>\n",
       "      <th>magnitude</th>\n",
       "      <th>location</th>\n",
       "      <th>map_image</th>\n",
       "    </tr>\n",
       "  </thead>\n",
       "  <tbody>\n",
       "    <tr>\n",
       "      <td>1000</td>\n",
       "      <td>-0.02</td>\n",
       "      <td>17 km SSE of Carbonado, WA</td>\n",
       "      <td>None</td>\n",
       "    </tr>\n",
       "    <tr>\n",
       "      <td>1001</td>\n",
       "      <td>0.82</td>\n",
       "      <td>22 km ENE of Ashford, WA</td>\n",
       "      <td>None</td>\n",
       "    </tr>\n",
       "    <tr>\n",
       "      <td>1002</td>\n",
       "      <td>4.3</td>\n",
       "      <td>Port Townsend, WA</td>\n",
       "      <td><div class=\"pxt_image\" style=\"width:240px;\">\n",
       "                <img src=\"data:image/webp;base64,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\" width=\"240\" />\n",
       "            </div></td>\n",
       "    </tr>\n",
       "    <tr>\n",
       "      <td>1003</td>\n",
       "      <td>1.04</td>\n",
       "      <td>WA</td>\n",
       "      <td>None</td>\n",
       "    </tr>\n",
       "    <tr>\n",
       "      <td>1004</td>\n",
       "      <td>0.79</td>\n",
       "      <td>24 km ENE of Ashford, WA</td>\n",
       "      <td>None</td>\n",
       "    </tr>\n",
       "  </tbody>\n",
       "</table>"
      ],
      "text/plain": [
       "     id  magnitude                    location  \\\n",
       "0  1000      -0.02  17 km SSE of Carbonado, WA   \n",
       "1  1001       0.82    22 km ENE of Ashford, WA   \n",
       "2  1002       4.30           Port Townsend, WA   \n",
       "3  1003       1.04                          WA   \n",
       "4  1004       0.79    24 km ENE of Ashford, WA   \n",
       "\n",
       "                                           map_image  \n",
       "0                                               None  \n",
       "1                                               None  \n",
       "2  <PIL.JpegImagePlugin.JpegImageFile image mode=...  \n",
       "3                                               None  \n",
       "4                                               None  "
      ]
     },
     "execution_count": 50,
     "metadata": {},
     "output_type": "execute_result"
    }
   ],
   "source": [
    "eq_t.where(eq_t.id >= 1000).select(eq_t.id, eq_t.magnitude, eq_t.location, eq_t.map_image).head(5)"
   ]
  },
  {
   "cell_type": "markdown",
   "metadata": {},
   "source": [
    "### Directory Hierarchies\n",
    "\n",
    "So far we've only seen an example of a single directory with a table inside it, but one can also put directories inside other directories, in whatever fashion makes the most sense for a given application."
   ]
  },
  {
   "cell_type": "code",
   "execution_count": 51,
   "metadata": {},
   "outputs": [
    {
     "name": "stdout",
     "output_type": "stream",
     "text": [
      "Created directory `fundamentals.subdir`.\n",
      "Created directory `fundamentals.subdir.subsubdir`.\n",
      "Created table `my_table`.\n"
     ]
    },
    {
     "data": {
      "text/html": [
       "<style type=\"text/css\">\n",
       "#T_bc821 th {\n",
       "  text-align: center;\n",
       "}\n",
       "#T_bc821_row0_col0, #T_bc821_row0_col1, #T_bc821_row0_col2 {\n",
       "  white-space: pre-wrap;\n",
       "  text-align: left;\n",
       "}\n",
       "</style>\n",
       "<table id=\"T_bc821\">\n",
       "  <thead>\n",
       "    <tr>\n",
       "      <th id=\"T_bc821_level0_col0\" class=\"col_heading level0 col0\" >Column Name</th>\n",
       "      <th id=\"T_bc821_level0_col1\" class=\"col_heading level0 col1\" >Type</th>\n",
       "      <th id=\"T_bc821_level0_col2\" class=\"col_heading level0 col2\" >Computed With</th>\n",
       "    </tr>\n",
       "  </thead>\n",
       "  <tbody>\n",
       "    <tr>\n",
       "      <td id=\"T_bc821_row0_col0\" class=\"data row0 col0\" >my_col</td>\n",
       "      <td id=\"T_bc821_row0_col1\" class=\"data row0 col1\" >string</td>\n",
       "      <td id=\"T_bc821_row0_col2\" class=\"data row0 col2\" ></td>\n",
       "    </tr>\n",
       "  </tbody>\n",
       "</table>\n"
      ],
      "text/plain": [
       "table 'my_table'\n",
       "\n",
       "Column Name   Type Computed With\n",
       "     my_col string              "
      ]
     },
     "execution_count": 51,
     "metadata": {},
     "output_type": "execute_result"
    }
   ],
   "source": [
    "pxt.create_dir('fundamentals.subdir')\n",
    "pxt.create_dir('fundamentals.subdir.subsubdir')\n",
    "pxt.create_table('fundamentals.subdir.subsubdir.my_table', {'my_col': pxt.StringType()})"
   ]
  },
  {
   "cell_type": "markdown",
   "metadata": {},
   "source": [
    "### Deleting Columns, Tables, and Directories"
   ]
  },
  {
   "cell_type": "markdown",
   "metadata": {},
   "source": [
    "`drop_column()`, `drop_table()`, and `drop_dir()` are used to delete columns, tables, and directories, respectively."
   ]
  },
  {
   "cell_type": "code",
   "execution_count": 52,
   "metadata": {},
   "outputs": [],
   "source": [
    "# Delete the `contact_email` column\n",
    "\n",
    "eq_t.drop_column('contact_email')"
   ]
  },
  {
   "cell_type": "code",
   "execution_count": 53,
   "metadata": {},
   "outputs": [
    {
     "data": {
      "text/html": [
       "<style type=\"text/css\">\n",
       "#T_d1177 th {\n",
       "  text-align: center;\n",
       "}\n",
       "#T_d1177_row0_col0, #T_d1177_row0_col1, #T_d1177_row0_col2, #T_d1177_row1_col0, #T_d1177_row1_col1, #T_d1177_row1_col2, #T_d1177_row2_col0, #T_d1177_row2_col1, #T_d1177_row2_col2, #T_d1177_row3_col0, #T_d1177_row3_col1, #T_d1177_row3_col2, #T_d1177_row4_col0, #T_d1177_row4_col1, #T_d1177_row4_col2, #T_d1177_row5_col0, #T_d1177_row5_col1, #T_d1177_row5_col2, #T_d1177_row6_col0, #T_d1177_row6_col1, #T_d1177_row6_col2, #T_d1177_row7_col0, #T_d1177_row7_col1, #T_d1177_row7_col2 {\n",
       "  white-space: pre-wrap;\n",
       "  text-align: left;\n",
       "}\n",
       "</style>\n",
       "<table id=\"T_d1177\">\n",
       "  <thead>\n",
       "    <tr>\n",
       "      <th id=\"T_d1177_level0_col0\" class=\"col_heading level0 col0\" >Column Name</th>\n",
       "      <th id=\"T_d1177_level0_col1\" class=\"col_heading level0 col1\" >Type</th>\n",
       "      <th id=\"T_d1177_level0_col2\" class=\"col_heading level0 col2\" >Computed With</th>\n",
       "    </tr>\n",
       "  </thead>\n",
       "  <tbody>\n",
       "    <tr>\n",
       "      <td id=\"T_d1177_row0_col0\" class=\"data row0 col0\" >id</td>\n",
       "      <td id=\"T_d1177_row0_col1\" class=\"data row0 col1\" >int</td>\n",
       "      <td id=\"T_d1177_row0_col2\" class=\"data row0 col2\" ></td>\n",
       "    </tr>\n",
       "    <tr>\n",
       "      <td id=\"T_d1177_row1_col0\" class=\"data row1 col0\" >magnitude</td>\n",
       "      <td id=\"T_d1177_row1_col1\" class=\"data row1 col1\" >float</td>\n",
       "      <td id=\"T_d1177_row1_col2\" class=\"data row1 col2\" ></td>\n",
       "    </tr>\n",
       "    <tr>\n",
       "      <td id=\"T_d1177_row2_col0\" class=\"data row2 col0\" >location</td>\n",
       "      <td id=\"T_d1177_row2_col1\" class=\"data row2 col1\" >string</td>\n",
       "      <td id=\"T_d1177_row2_col2\" class=\"data row2 col2\" ></td>\n",
       "    </tr>\n",
       "    <tr>\n",
       "      <td id=\"T_d1177_row3_col0\" class=\"data row3 col0\" >timestamp</td>\n",
       "      <td id=\"T_d1177_row3_col1\" class=\"data row3 col1\" >timestamp</td>\n",
       "      <td id=\"T_d1177_row3_col2\" class=\"data row3 col2\" ></td>\n",
       "    </tr>\n",
       "    <tr>\n",
       "      <td id=\"T_d1177_row4_col0\" class=\"data row4 col0\" >longitude</td>\n",
       "      <td id=\"T_d1177_row4_col1\" class=\"data row4 col1\" >float</td>\n",
       "      <td id=\"T_d1177_row4_col2\" class=\"data row4 col2\" ></td>\n",
       "    </tr>\n",
       "    <tr>\n",
       "      <td id=\"T_d1177_row5_col0\" class=\"data row5 col0\" >latitude</td>\n",
       "      <td id=\"T_d1177_row5_col1\" class=\"data row5 col1\" >float</td>\n",
       "      <td id=\"T_d1177_row5_col2\" class=\"data row5 col2\" ></td>\n",
       "    </tr>\n",
       "    <tr>\n",
       "      <td id=\"T_d1177_row6_col0\" class=\"data row6 col0\" >note</td>\n",
       "      <td id=\"T_d1177_row6_col1\" class=\"data row6 col1\" >string</td>\n",
       "      <td id=\"T_d1177_row6_col2\" class=\"data row6 col2\" ></td>\n",
       "    </tr>\n",
       "    <tr>\n",
       "      <td id=\"T_d1177_row7_col0\" class=\"data row7 col0\" >map_image</td>\n",
       "      <td id=\"T_d1177_row7_col1\" class=\"data row7 col1\" >image</td>\n",
       "      <td id=\"T_d1177_row7_col2\" class=\"data row7 col2\" ></td>\n",
       "    </tr>\n",
       "  </tbody>\n",
       "</table>\n"
      ],
      "text/plain": [
       "<pandas.io.formats.style.Styler at 0x7f872e27ae00>"
      ]
     },
     "metadata": {},
     "output_type": "display_data"
    }
   ],
   "source": [
    "eq_t.describe()"
   ]
  },
  {
   "cell_type": "code",
   "execution_count": 54,
   "metadata": {},
   "outputs": [],
   "source": [
    "# Delete the entire table (cannot be reverted!)\n",
    "\n",
    "pxt.drop_table('fundamentals.earthquakes')"
   ]
  },
  {
   "cell_type": "code",
   "execution_count": 55,
   "metadata": {},
   "outputs": [],
   "source": [
    "# Delete the entire directory and all its contents, including any nested\n",
    "# subdirectories (cannot be reverted!)\n",
    "\n",
    "pxt.drop_dir('fundamentals', force=True)"
   ]
  },
  {
   "cell_type": "markdown",
   "metadata": {},
   "source": [
    "That's the end of this section of the Fundamentals tutorial! Continue on to the next section:\n",
    "- [Computed Columns and Expressions]()"
   ]
  }
 ],
 "metadata": {
  "colab": {
   "provenance": []
  },
  "kernelspec": {
   "display_name": "Python 3 (ipykernel)",
   "language": "python",
   "name": "python3"
  },
  "language_info": {
   "codemirror_mode": {
    "name": "ipython",
    "version": 3
   },
   "file_extension": ".py",
   "mimetype": "text/x-python",
   "name": "python",
   "nbconvert_exporter": "python",
   "pygments_lexer": "ipython3",
   "version": "3.10.12"
  }
 },
 "nbformat": 4,
 "nbformat_minor": 4
}
