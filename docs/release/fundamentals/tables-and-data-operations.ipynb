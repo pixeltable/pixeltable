{
 "cells": [
  {
   "cell_type": "markdown",
   "metadata": {
    "id": "iu6P8Pks-Y72"
   },
   "source": [
    "[![Kaggle](https://kaggle.com/static/images/open-in-kaggle.svg)](https://kaggle.com/kernels/welcome?src=https://github.com/pixeltable/pixeltable/blob/release/docs/release/fundamentals/tables-and-data-operations.ipynb)&nbsp;&nbsp;\n",
    "[![Colab](https://colab.research.google.com/assets/colab-badge.svg)](https://colab.research.google.com/github/pixeltable/pixeltable/blob/release/docs/release/fundamentals/tables-and-data-operations.ipynb)&nbsp;&nbsp;\n",
    "<a href=\"https://raw.githubusercontent.com/pixeltable/pixeltable/release/docs/release/fundamentals/tables-and-data-operations.ipynb\" download><img src=\"https://img.shields.io/badge/%E2%AC%87-Download%20Notebook-blue\" alt=\"Download Notebook\"></a>\n",
    "\n",
    "# Pixeltable Fundamentals\n",
    "\n",
    "## Section 1: Tables and Data Operations\n",
    "\n",
    "Welcome to Section 1 of the [Pixeltable Fundamentals](...) tutorial, __Tables and Data Operations__. In this section, we'll learn how to:\n",
    "\n",
    "- Create and manage tables: Understand Pixeltable's table structure, create and modify tables, and work with table schemas\n",
    "- Manipulate data: Insert, update, and delete data within tables, and retrieve data from tables into Python variables\n",
    "- Filter and select data: Use `where()`, `select()`, and `order_by()` to query for specific rows and columns\n",
    "- Import data from CSV files and other file types\n",
    "\n",
    "First, let's ensure the Pixeltable library is installed in your environment."
   ]
  },
  {
   "cell_type": "code",
   "execution_count": null,
   "metadata": {
    "id": "GwjjornhycHU"
   },
   "outputs": [],
   "source": [
    "%pip install -qU pixeltable"
   ]
  },
  {
   "cell_type": "markdown",
   "metadata": {},
   "source": [
    "### Tables\n",
    "\n",
    "All data in Pixeltable is stored in tables. At a high level, a Pixeltable table behaves similarly to an ordinary SQL database table, but with many additional capabilities to support complex AI workflows. We'll introduce those advanced capabilities gradually throughout this tutorial; in this section, the focus is on basic table and data operations.\n",
    "\n",
    "Tables in Pixeltable are grouped into __directories__, which are simply user-defined namespaces. The following command creates a new directory, `fundamentals`, which we'll use to store the tables in our tutorial."
   ]
  },
  {
   "cell_type": "code",
   "execution_count": 1,
   "metadata": {
    "colab": {
     "base_uri": "https://localhost:8080/"
    },
    "id": "EIBhrFB30cbF",
    "outputId": "9c30c33d-e16b-4aeb-cfc5-9a5770416d59"
   },
   "outputs": [
    {
     "name": "stdout",
     "output_type": "stream",
     "text": [
      "Connected to Pixeltable database at: postgresql://postgres:@/pixeltable?host=/Users/asiegel/.pixeltable/pgdata\n",
      "Created directory `fundamentals`.\n"
     ]
    },
    {
     "data": {
      "text/plain": [
       "<pixeltable.catalog.dir.Dir at 0x323a3c2b0>"
      ]
     },
     "execution_count": 1,
     "metadata": {},
     "output_type": "execute_result"
    }
   ],
   "source": [
    "import pixeltable as pxt\n",
    "\n",
    "# First we delete the `fundamentals` directory and all its contents (if\n",
    "# it exists), in order to ensure a clean environment for the tutorial.\n",
    "pxt.drop_dir('fundamentals', force=True)\n",
    "\n",
    "# Now we create the directory.\n",
    "pxt.create_dir('fundamentals')"
   ]
  },
  {
   "cell_type": "markdown",
   "metadata": {
    "id": "7StQcO-i-7NF"
   },
   "source": [
    "Now let's create our first table. To create a table, we must give it a name and a __schema__ that describes the table structure. Note that prefacing the name with `fundamentals` causes it to be placed in our newly-created directory."
   ]
  },
  {
   "cell_type": "code",
   "execution_count": 2,
   "metadata": {},
   "outputs": [
    {
     "name": "stdout",
     "output_type": "stream",
     "text": [
      "Created table `films`.\n"
     ]
    }
   ],
   "source": [
    "films_t = pxt.create_table('fundamentals.films', {\n",
    "    'film_name': pxt.StringType(),\n",
    "    'year': pxt.IntType(),\n",
    "    'revenue': pxt.FloatType()\n",
    "})"
   ]
  },
  {
   "cell_type": "markdown",
   "metadata": {},
   "source": [
    "To insert data into a table, we use the `insert()` method, passing it a list of Python dicts."
   ]
  },
  {
   "cell_type": "code",
   "execution_count": 3,
   "metadata": {},
   "outputs": [
    {
     "name": "stdout",
     "output_type": "stream",
     "text": [
      "Inserting rows into `films`: 3 rows [00:00, 422.53 rows/s]\n",
      "Inserted 3 rows with 0 errors.\n"
     ]
    },
    {
     "data": {
      "text/plain": [
       "UpdateStatus(num_rows=3, num_computed_values=3, num_excs=0, updated_cols=[], cols_with_excs=[])"
      ]
     },
     "execution_count": 3,
     "metadata": {},
     "output_type": "execute_result"
    }
   ],
   "source": [
    "films_t.insert([\n",
    "    {'film_name': 'Jurassic Park', 'year': 1993, 'revenue': 1037.5},\n",
    "    {'film_name': 'Titanic', 'year': 1997, 'revenue': 2257.8},\n",
    "    {'film_name': 'Avengers: Endgame', 'year': 2019, 'revenue': 2797.5}\n",
    "])"
   ]
  },
  {
   "cell_type": "markdown",
   "metadata": {},
   "source": [
    "If you're inserting just a single row, you can use an alternate syntax that is sometimes more convenient."
   ]
  },
  {
   "cell_type": "code",
   "execution_count": 4,
   "metadata": {},
   "outputs": [
    {
     "name": "stdout",
     "output_type": "stream",
     "text": [
      "Inserting rows into `films`: 1 rows [00:00, 379.37 rows/s]\n",
      "Inserted 1 row with 0 errors.\n"
     ]
    },
    {
     "data": {
      "text/plain": [
       "UpdateStatus(num_rows=1, num_computed_values=1, num_excs=0, updated_cols=[], cols_with_excs=[])"
      ]
     },
     "execution_count": 4,
     "metadata": {},
     "output_type": "execute_result"
    }
   ],
   "source": [
    "films_t.insert(film_name='Inside Out 2', year=2024, revenue=1462.7)"
   ]
  },
  {
   "cell_type": "markdown",
   "metadata": {},
   "source": [
    "We can peek at the data in our table with the `collect()` method, which retrieves all the rows in the table."
   ]
  },
  {
   "cell_type": "code",
   "execution_count": 5,
   "metadata": {},
   "outputs": [
    {
     "data": {
      "text/html": [
       "<table border=\"1\" class=\"dataframe\">\n",
       "  <thead>\n",
       "    <tr style=\"text-align: right;\">\n",
       "      <th>film_name</th>\n",
       "      <th>year</th>\n",
       "      <th>revenue</th>\n",
       "    </tr>\n",
       "  </thead>\n",
       "  <tbody>\n",
       "    <tr>\n",
       "      <td>Jurassic Park</td>\n",
       "      <td>1993</td>\n",
       "      <td>1037.5</td>\n",
       "    </tr>\n",
       "    <tr>\n",
       "      <td>Titanic</td>\n",
       "      <td>1997</td>\n",
       "      <td>2257.8</td>\n",
       "    </tr>\n",
       "    <tr>\n",
       "      <td>Avengers: Endgame</td>\n",
       "      <td>2019</td>\n",
       "      <td>2797.5</td>\n",
       "    </tr>\n",
       "    <tr>\n",
       "      <td>Inside Out 2</td>\n",
       "      <td>2024</td>\n",
       "      <td>1462.7</td>\n",
       "    </tr>\n",
       "  </tbody>\n",
       "</table>"
      ],
      "text/plain": [
       "           film_name  year  revenue\n",
       "0      Jurassic Park  1993   1037.5\n",
       "1            Titanic  1997   2257.8\n",
       "2  Avengers: Endgame  2019   2797.5\n",
       "3       Inside Out 2  2024   1462.7"
      ]
     },
     "execution_count": 5,
     "metadata": {},
     "output_type": "execute_result"
    }
   ],
   "source": [
    "films_t.collect()"
   ]
  },
  {
   "cell_type": "markdown",
   "metadata": {},
   "source": [
    "Pixeltable also provides `update()` and `delete()` methods for modifying and removing data from a table; we'll see examples of them shortly."
   ]
  },
  {
   "cell_type": "markdown",
   "metadata": {},
   "source": [
    "### Filtering and Selecting Data\n",
    "\n",
    "Often you want to select only certain rows and/or certain columns in a table. You can do this with the `where()` and `select()` methods."
   ]
  },
  {
   "cell_type": "code",
   "execution_count": 6,
   "metadata": {},
   "outputs": [
    {
     "data": {
      "text/html": [
       "<table border=\"1\" class=\"dataframe\">\n",
       "  <thead>\n",
       "    <tr style=\"text-align: right;\">\n",
       "      <th>film_name</th>\n",
       "      <th>year</th>\n",
       "      <th>revenue</th>\n",
       "    </tr>\n",
       "  </thead>\n",
       "  <tbody>\n",
       "    <tr>\n",
       "      <td>Titanic</td>\n",
       "      <td>1997</td>\n",
       "      <td>2257.8</td>\n",
       "    </tr>\n",
       "    <tr>\n",
       "      <td>Avengers: Endgame</td>\n",
       "      <td>2019</td>\n",
       "      <td>2797.5</td>\n",
       "    </tr>\n",
       "  </tbody>\n",
       "</table>"
      ],
      "text/plain": [
       "           film_name  year  revenue\n",
       "0            Titanic  1997   2257.8\n",
       "1  Avengers: Endgame  2019   2797.5"
      ]
     },
     "execution_count": 6,
     "metadata": {},
     "output_type": "execute_result"
    }
   ],
   "source": [
    "films_t.where(films_t.revenue >= 2000.0).collect()"
   ]
  },
  {
   "cell_type": "code",
   "execution_count": 7,
   "metadata": {},
   "outputs": [
    {
     "data": {
      "text/html": [
       "<table border=\"1\" class=\"dataframe\">\n",
       "  <thead>\n",
       "    <tr style=\"text-align: right;\">\n",
       "      <th>film_name</th>\n",
       "      <th>year</th>\n",
       "    </tr>\n",
       "  </thead>\n",
       "  <tbody>\n",
       "    <tr>\n",
       "      <td>Jurassic Park</td>\n",
       "      <td>1993</td>\n",
       "    </tr>\n",
       "    <tr>\n",
       "      <td>Titanic</td>\n",
       "      <td>1997</td>\n",
       "    </tr>\n",
       "    <tr>\n",
       "      <td>Avengers: Endgame</td>\n",
       "      <td>2019</td>\n",
       "    </tr>\n",
       "    <tr>\n",
       "      <td>Inside Out 2</td>\n",
       "      <td>2024</td>\n",
       "    </tr>\n",
       "  </tbody>\n",
       "</table>"
      ],
      "text/plain": [
       "           film_name  year\n",
       "0      Jurassic Park  1993\n",
       "1            Titanic  1997\n",
       "2  Avengers: Endgame  2019\n",
       "3       Inside Out 2  2024"
      ]
     },
     "execution_count": 7,
     "metadata": {},
     "output_type": "execute_result"
    }
   ],
   "source": [
    "films_t.select(films_t.film_name, films_t.year).collect()"
   ]
  },
  {
   "cell_type": "markdown",
   "metadata": {},
   "source": [
    "Note the expressions that appear inside the calls to `where()` and `select()`, such as `films_t.year`. These are __column references__ that point to specific columns within a table. In place of `films_t.year`, you can also use dictionary syntax and type `films_t['year']`, which means exactly the same thing but is sometimes more convenient."
   ]
  },
  {
   "cell_type": "code",
   "execution_count": 8,
   "metadata": {},
   "outputs": [
    {
     "data": {
      "text/html": [
       "<table border=\"1\" class=\"dataframe\">\n",
       "  <thead>\n",
       "    <tr style=\"text-align: right;\">\n",
       "      <th>film_name</th>\n",
       "      <th>year</th>\n",
       "    </tr>\n",
       "  </thead>\n",
       "  <tbody>\n",
       "    <tr>\n",
       "      <td>Jurassic Park</td>\n",
       "      <td>1993</td>\n",
       "    </tr>\n",
       "    <tr>\n",
       "      <td>Titanic</td>\n",
       "      <td>1997</td>\n",
       "    </tr>\n",
       "    <tr>\n",
       "      <td>Avengers: Endgame</td>\n",
       "      <td>2019</td>\n",
       "    </tr>\n",
       "    <tr>\n",
       "      <td>Inside Out 2</td>\n",
       "      <td>2024</td>\n",
       "    </tr>\n",
       "  </tbody>\n",
       "</table>"
      ],
      "text/plain": [
       "           film_name  year\n",
       "0      Jurassic Park  1993\n",
       "1            Titanic  1997\n",
       "2  Avengers: Endgame  2019\n",
       "3       Inside Out 2  2024"
      ]
     },
     "execution_count": 8,
     "metadata": {},
     "output_type": "execute_result"
    }
   ],
   "source": [
    "films_t.select(films_t['film_name'], films_t['year']).collect()"
   ]
  },
  {
   "cell_type": "markdown",
   "metadata": {},
   "source": [
    "In addition to selecting columns directly, you can use column references inside various kinds of expressions. For example, our `revenue` numbers are given in millions of dollars. Let's say we wanted to select revenue in thousands of dollars instead; we could do that as follows:"
   ]
  },
  {
   "cell_type": "code",
   "execution_count": 9,
   "metadata": {},
   "outputs": [
    {
     "data": {
      "text/html": [
       "<table border=\"1\" class=\"dataframe\">\n",
       "  <thead>\n",
       "    <tr style=\"text-align: right;\">\n",
       "      <th>film_name</th>\n",
       "      <th>col_1</th>\n",
       "    </tr>\n",
       "  </thead>\n",
       "  <tbody>\n",
       "    <tr>\n",
       "      <td>Jurassic Park</td>\n",
       "      <td>1037500.</td>\n",
       "    </tr>\n",
       "    <tr>\n",
       "      <td>Titanic</td>\n",
       "      <td>2257800.</td>\n",
       "    </tr>\n",
       "    <tr>\n",
       "      <td>Avengers: Endgame</td>\n",
       "      <td>2797500.</td>\n",
       "    </tr>\n",
       "    <tr>\n",
       "      <td>Inside Out 2</td>\n",
       "      <td>1462700.</td>\n",
       "    </tr>\n",
       "  </tbody>\n",
       "</table>"
      ],
      "text/plain": [
       "           film_name      col_1\n",
       "0      Jurassic Park  1037500.0\n",
       "1            Titanic  2257800.0\n",
       "2  Avengers: Endgame  2797500.0\n",
       "3       Inside Out 2  1462700.0"
      ]
     },
     "execution_count": 9,
     "metadata": {},
     "output_type": "execute_result"
    }
   ],
   "source": [
    "films_t.select(films_t.film_name, films_t.revenue * 1000).collect()"
   ]
  },
  {
   "cell_type": "markdown",
   "metadata": {},
   "source": [
    "Note that since we selected an abstract expression rather than a specific column, Pixeltable gave it the generic name `col_1`. You can assign it a more informative name with Python keyword syntax:"
   ]
  },
  {
   "cell_type": "code",
   "execution_count": 10,
   "metadata": {},
   "outputs": [
    {
     "data": {
      "text/html": [
       "<table border=\"1\" class=\"dataframe\">\n",
       "  <thead>\n",
       "    <tr style=\"text-align: right;\">\n",
       "      <th>film_name</th>\n",
       "      <th>revenue_thousands</th>\n",
       "    </tr>\n",
       "  </thead>\n",
       "  <tbody>\n",
       "    <tr>\n",
       "      <td>Jurassic Park</td>\n",
       "      <td>1037500.</td>\n",
       "    </tr>\n",
       "    <tr>\n",
       "      <td>Titanic</td>\n",
       "      <td>2257800.</td>\n",
       "    </tr>\n",
       "    <tr>\n",
       "      <td>Avengers: Endgame</td>\n",
       "      <td>2797500.</td>\n",
       "    </tr>\n",
       "    <tr>\n",
       "      <td>Inside Out 2</td>\n",
       "      <td>1462700.</td>\n",
       "    </tr>\n",
       "  </tbody>\n",
       "</table>"
      ],
      "text/plain": [
       "           film_name  revenue_thousands\n",
       "0      Jurassic Park          1037500.0\n",
       "1            Titanic          2257800.0\n",
       "2  Avengers: Endgame          2797500.0\n",
       "3       Inside Out 2          1462700.0"
      ]
     },
     "execution_count": 10,
     "metadata": {},
     "output_type": "execute_result"
    }
   ],
   "source": [
    "films_t.select(films_t.film_name, revenue_thousands=films_t.revenue * 1000).collect()"
   ]
  },
  {
   "cell_type": "markdown",
   "metadata": {},
   "source": [
    "### Tables are Persistent"
   ]
  },
  {
   "cell_type": "markdown",
   "metadata": {},
   "source": [
    "This is a good time to mention a few key differences between Pixeltable tables and other familiar datastructures, such as Python dicts or Pandas dataframes.\n",
    "\n",
    "First, **Pixeltable is persistent. Unlike in-memory Python libraries such as Pandas, Pixeltable is a database**. When you reset a notebook kernel or start a new Python session, you'll have access to all the data you've stored previously in Pixeltable. Let's demonstrate this by using the IPython `%reset -f` command to clear out all our notebook variables, so that `films_t` is no longer defined."
   ]
  },
  {
   "cell_type": "code",
   "execution_count": 11,
   "metadata": {},
   "outputs": [
    {
     "ename": "NameError",
     "evalue": "name 'films_t' is not defined",
     "output_type": "error",
     "traceback": [
      "\u001b[0;31m---------------------------------------------------------------------------\u001b[0m",
      "\u001b[0;31mNameError\u001b[0m                                 Traceback (most recent call last)",
      "Cell \u001b[0;32mIn[11], line 2\u001b[0m\n\u001b[1;32m      1\u001b[0m get_ipython()\u001b[38;5;241m.\u001b[39mrun_line_magic(\u001b[38;5;124m'\u001b[39m\u001b[38;5;124mreset\u001b[39m\u001b[38;5;124m'\u001b[39m, \u001b[38;5;124m'\u001b[39m\u001b[38;5;124m-f\u001b[39m\u001b[38;5;124m'\u001b[39m)\n\u001b[0;32m----> 2\u001b[0m \u001b[43mfilms_t\u001b[49m\u001b[38;5;241m.\u001b[39mcollect()  \u001b[38;5;66;03m# Throws an exception now\u001b[39;00m\n",
      "\u001b[0;31mNameError\u001b[0m: name 'films_t' is not defined"
     ]
    }
   ],
   "source": [
    "%reset -f\n",
    "films_t.collect()  # Throws an exception now"
   ]
  },
  {
   "cell_type": "markdown",
   "metadata": {},
   "source": [
    "The `films_t` variable (along with all other variables in our Python session) has been cleared out - but that's ok, because it wasn't the source of record for our data. The `films_t` variable is just a reference to the underlying database table. We can recover it with the `get_table` command, referencing the `films` table by name."
   ]
  },
  {
   "cell_type": "code",
   "execution_count": 12,
   "metadata": {},
   "outputs": [
    {
     "data": {
      "text/html": [
       "<table border=\"1\" class=\"dataframe\">\n",
       "  <thead>\n",
       "    <tr style=\"text-align: right;\">\n",
       "      <th>film_name</th>\n",
       "      <th>year</th>\n",
       "      <th>revenue</th>\n",
       "    </tr>\n",
       "  </thead>\n",
       "  <tbody>\n",
       "    <tr>\n",
       "      <td>Jurassic Park</td>\n",
       "      <td>1993</td>\n",
       "      <td>1037.5</td>\n",
       "    </tr>\n",
       "    <tr>\n",
       "      <td>Titanic</td>\n",
       "      <td>1997</td>\n",
       "      <td>2257.8</td>\n",
       "    </tr>\n",
       "    <tr>\n",
       "      <td>Avengers: Endgame</td>\n",
       "      <td>2019</td>\n",
       "      <td>2797.5</td>\n",
       "    </tr>\n",
       "    <tr>\n",
       "      <td>Inside Out 2</td>\n",
       "      <td>2024</td>\n",
       "      <td>1462.7</td>\n",
       "    </tr>\n",
       "  </tbody>\n",
       "</table>"
      ],
      "text/plain": [
       "           film_name  year  revenue\n",
       "0      Jurassic Park  1993   1037.5\n",
       "1            Titanic  1997   2257.8\n",
       "2  Avengers: Endgame  2019   2797.5\n",
       "3       Inside Out 2  2024   1462.7"
      ]
     },
     "execution_count": 12,
     "metadata": {},
     "output_type": "execute_result"
    }
   ],
   "source": [
    "import pixeltable as pxt\n",
    "\n",
    "films_t = pxt.get_table('fundamentals.films')\n",
    "films_t.collect()"
   ]
  },
  {
   "cell_type": "markdown",
   "metadata": {},
   "source": [
    "You can always get a list of all existing tables with the Pixeltable `list_tables` command."
   ]
  },
  {
   "cell_type": "code",
   "execution_count": 13,
   "metadata": {},
   "outputs": [
    {
     "data": {
      "text/plain": [
       "['test',\n",
       " 'test2',\n",
       " 'ls_demo.videos',\n",
       " 'ls_demo.videos_2024_04_22',\n",
       " 'ls_demo.frames_2024_04_22',\n",
       " 'fundamentals.films']"
      ]
     },
     "execution_count": 13,
     "metadata": {},
     "output_type": "execute_result"
    }
   ],
   "source": [
    "pxt.list_tables()"
   ]
  },
  {
   "cell_type": "markdown",
   "metadata": {},
   "source": [
    "<div class=\"alert alert-block alert-info\">\n",
    "Note that if you're running Pixeltable on colab or kaggle, the database will persist only for as long as your colab/kaggle session remains active. If you're running it locally or on your own server, then your database will persist indefinitely (until you actively delete it).\n",
    "</div>"
   ]
  },
  {
   "cell_type": "markdown",
   "metadata": {},
   "source": [
    "### Tables are Typed\n",
    "\n",
    "The second major difference is that **Pixeltable is strongly typed**. Because Pixeltable is a database, every column has a data type: that's why we specified `StringType`, `IntType`, and `FloatType` for the three columns when we created the table. These __type specifiers__ are _mandatory_ when creating tables, and they become part of the table schema. You can always see the table schema with the `describe()` method."
   ]
  },
  {
   "cell_type": "code",
   "execution_count": 14,
   "metadata": {},
   "outputs": [
    {
     "data": {
      "text/html": [
       "<style type=\"text/css\">\n",
       "#T_9c8cd th {\n",
       "  text-align: center;\n",
       "}\n",
       "#T_9c8cd_row0_col0, #T_9c8cd_row0_col1, #T_9c8cd_row0_col2, #T_9c8cd_row1_col0, #T_9c8cd_row1_col1, #T_9c8cd_row1_col2, #T_9c8cd_row2_col0, #T_9c8cd_row2_col1, #T_9c8cd_row2_col2 {\n",
       "  white-space: pre-wrap;\n",
       "  text-align: left;\n",
       "}\n",
       "</style>\n",
       "<table id=\"T_9c8cd\">\n",
       "  <thead>\n",
       "    <tr>\n",
       "      <th id=\"T_9c8cd_level0_col0\" class=\"col_heading level0 col0\" >Column Name</th>\n",
       "      <th id=\"T_9c8cd_level0_col1\" class=\"col_heading level0 col1\" >Type</th>\n",
       "      <th id=\"T_9c8cd_level0_col2\" class=\"col_heading level0 col2\" >Computed With</th>\n",
       "    </tr>\n",
       "  </thead>\n",
       "  <tbody>\n",
       "    <tr>\n",
       "      <td id=\"T_9c8cd_row0_col0\" class=\"data row0 col0\" >film_name</td>\n",
       "      <td id=\"T_9c8cd_row0_col1\" class=\"data row0 col1\" >string</td>\n",
       "      <td id=\"T_9c8cd_row0_col2\" class=\"data row0 col2\" ></td>\n",
       "    </tr>\n",
       "    <tr>\n",
       "      <td id=\"T_9c8cd_row1_col0\" class=\"data row1 col0\" >year</td>\n",
       "      <td id=\"T_9c8cd_row1_col1\" class=\"data row1 col1\" >int</td>\n",
       "      <td id=\"T_9c8cd_row1_col2\" class=\"data row1 col2\" ></td>\n",
       "    </tr>\n",
       "    <tr>\n",
       "      <td id=\"T_9c8cd_row2_col0\" class=\"data row2 col0\" >revenue</td>\n",
       "      <td id=\"T_9c8cd_row2_col1\" class=\"data row2 col1\" >float</td>\n",
       "      <td id=\"T_9c8cd_row2_col2\" class=\"data row2 col2\" ></td>\n",
       "    </tr>\n",
       "  </tbody>\n",
       "</table>\n"
      ],
      "text/plain": [
       "<pandas.io.formats.style.Styler at 0x176be28e0>"
      ]
     },
     "metadata": {},
     "output_type": "display_data"
    }
   ],
   "source": [
    "films_t.describe()"
   ]
  },
  {
   "cell_type": "markdown",
   "metadata": {},
   "source": [
    "In a notebook, you can also just type `films_t` to see the schema; its output is identical to `films_t.describe()`."
   ]
  },
  {
   "cell_type": "code",
   "execution_count": 15,
   "metadata": {},
   "outputs": [
    {
     "data": {
      "text/html": [
       "<style type=\"text/css\">\n",
       "#T_e9f8b th {\n",
       "  text-align: center;\n",
       "}\n",
       "#T_e9f8b_row0_col0, #T_e9f8b_row0_col1, #T_e9f8b_row0_col2, #T_e9f8b_row1_col0, #T_e9f8b_row1_col1, #T_e9f8b_row1_col2, #T_e9f8b_row2_col0, #T_e9f8b_row2_col1, #T_e9f8b_row2_col2 {\n",
       "  white-space: pre-wrap;\n",
       "  text-align: left;\n",
       "}\n",
       "</style>\n",
       "<table id=\"T_e9f8b\">\n",
       "  <thead>\n",
       "    <tr>\n",
       "      <th id=\"T_e9f8b_level0_col0\" class=\"col_heading level0 col0\" >Column Name</th>\n",
       "      <th id=\"T_e9f8b_level0_col1\" class=\"col_heading level0 col1\" >Type</th>\n",
       "      <th id=\"T_e9f8b_level0_col2\" class=\"col_heading level0 col2\" >Computed With</th>\n",
       "    </tr>\n",
       "  </thead>\n",
       "  <tbody>\n",
       "    <tr>\n",
       "      <td id=\"T_e9f8b_row0_col0\" class=\"data row0 col0\" >film_name</td>\n",
       "      <td id=\"T_e9f8b_row0_col1\" class=\"data row0 col1\" >string</td>\n",
       "      <td id=\"T_e9f8b_row0_col2\" class=\"data row0 col2\" ></td>\n",
       "    </tr>\n",
       "    <tr>\n",
       "      <td id=\"T_e9f8b_row1_col0\" class=\"data row1 col0\" >year</td>\n",
       "      <td id=\"T_e9f8b_row1_col1\" class=\"data row1 col1\" >int</td>\n",
       "      <td id=\"T_e9f8b_row1_col2\" class=\"data row1 col2\" ></td>\n",
       "    </tr>\n",
       "    <tr>\n",
       "      <td id=\"T_e9f8b_row2_col0\" class=\"data row2 col0\" >revenue</td>\n",
       "      <td id=\"T_e9f8b_row2_col1\" class=\"data row2 col1\" >float</td>\n",
       "      <td id=\"T_e9f8b_row2_col2\" class=\"data row2 col2\" ></td>\n",
       "    </tr>\n",
       "  </tbody>\n",
       "</table>\n"
      ],
      "text/plain": [
       "table 'films'\n",
       "\n",
       "Column Name   Type Computed With\n",
       "  film_name string              \n",
       "       year    int              \n",
       "    revenue  float              "
      ]
     },
     "execution_count": 15,
     "metadata": {},
     "output_type": "execute_result"
    }
   ],
   "source": [
    "films_t"
   ]
  },
  {
   "cell_type": "markdown",
   "metadata": {},
   "source": [
    "<div class=\"alert alert-block alert-info\">\n",
    "In addition to <code>StringType</code>, <code>IntType</code>, and <code>FloatType</code>, Pixeltable provides several additional data types:\n",
    "<ul><li><code>BoolType</code>, whose values are <code>True</code> or <code>False</code>;</li>\n",
    "    <li><code>ArrayType</code> for numerical arrays;</li>\n",
    "    <li><code>JsonType</code>, for lists or dicts that correspond to valid JSON structures; and</li>\n",
    "    <li>The <b>media types</b> <code>ImageType</code>, <code>VideoType</code>, <code>AudioType</code>, and <code>DocumentType</code>.</li>\n",
    "</ul>\n",
    "We'll see examples of each of these types later in the tutorial.\n",
    "</div>"
   ]
  },
  {
   "cell_type": "markdown",
   "metadata": {},
   "source": [
    "Besides the column names and types, there's a third element to the schema, `Computed With`. We'll explain what this means in the next section of the tutorial, [Computed Columns](...)."
   ]
  },
  {
   "cell_type": "markdown",
   "metadata": {},
   "source": [
    "All of the methods we've discussed so far, such as `insert()` and `get_table()`, are documented in the [Pixeltable API](https://pixeltable.github.io/pixeltable/) Documentation. The following pages are particularly relevant to this section of the tutorial:\n",
    "- [pixeltable](https://pixeltable.github.io/pixeltable/api/pixeltable/) package reference\n",
    "- [pxt.Table](https://pixeltable.github.io/pixeltable/api/table/) class reference\n",
    "- [API Cheat Sheet](https://pixeltable.github.io/pixeltable/api-cheat-sheet/)"
   ]
  },
  {
   "cell_type": "markdown",
   "metadata": {},
   "source": [
    "### A Real-World Example: Earthquake Data\n",
    "\n",
    "Now let's dive a little deeper into Pixeltable's data operations. To showcase all the features, it'll be helpful to have a real-world dataset, rather than our toy dataset with four movies. The dataset we'll be using consists of Earthquake data drawn from the US Geological Survey: all recorded Earthquakes that occurred within 100 km of Seattle, Washington, between January 1, 2023 and June 30, 2024.\n",
    "\n",
    "The dataset is in CSV format, and we can load it into Pixeltable with the handy `import_csv()` function, which creates a new Pixeltable table from the contents of a CSV file."
   ]
  },
  {
   "cell_type": "code",
   "execution_count": 16,
   "metadata": {},
   "outputs": [
    {
     "name": "stdout",
     "output_type": "stream",
     "text": [
      "Created table `earthquakes`.\n",
      "Inserting rows into `earthquakes`: 1823 rows [00:00, 12209.16 rows/s]\n",
      "Inserted 1823 rows with 0 errors.\n"
     ]
    }
   ],
   "source": [
    "eq_t = pxt.io.import_csv(\n",
    "    'fundamentals.earthquakes',  # Name for the new table\n",
    "    'https://raw.githubusercontent.com/pixeltable/pixeltable/release/docs/source/data/earthquakes.csv',\n",
    "    primary_key='id',  # Column 'id' is the primary key\n",
    "    parse_dates=[3]  # Interpret column 3 as a timestamp\n",
    ")"
   ]
  },
  {
   "cell_type": "markdown",
   "metadata": {},
   "source": [
    "<div class=\"alert alert-block alert-info\">\n",
    "In Pixeltable, you can always import external data by giving a URL instead of a local file path. This applies to CSV datasets, media files (such images and video), and other types of content. The URL will often be an <code>http://</code> URL, but it can also be an <code>s3://</code> URL referencing an S3 bucket.\n",
    "</div>\n",
    "\n",
    "<div class=\"alert alert-block alert-info\">\n",
    "In addition to <code>import_csv</code>, Pixeltable provides a variety of other importers for structured data, such as <code>import_pandas</code> (which creates a table from a Pandas dataframe) and <code>import_excel</code>. These importers are described in the <a href=\"https://pixeltable.github.io/pixeltable/api/io/\">pixeltable.io package reference</a>.\n",
    "</div>\n",
    "\n",
    "Let's have a peek at our new dataset. The dataset contains 1823 rows, and we probably don't want to display them all at once. We can limit our query to fewer rows with the `limit()` method."
   ]
  },
  {
   "cell_type": "code",
   "execution_count": 17,
   "metadata": {},
   "outputs": [
    {
     "data": {
      "text/html": [
       "<table border=\"1\" class=\"dataframe\">\n",
       "  <thead>\n",
       "    <tr style=\"text-align: right;\">\n",
       "      <th>id</th>\n",
       "      <th>magnitude</th>\n",
       "      <th>location</th>\n",
       "      <th>timestamp</th>\n",
       "      <th>longitude</th>\n",
       "      <th>latitude</th>\n",
       "    </tr>\n",
       "  </thead>\n",
       "  <tbody>\n",
       "    <tr>\n",
       "      <td>0</td>\n",
       "      <td>1.15</td>\n",
       "      <td>10 km NW of Belfair, Washington</td>\n",
       "      <td>2023-01-01 08:10:37.050</td>\n",
       "      <td>-122.93</td>\n",
       "      <td>47.51</td>\n",
       "    </tr>\n",
       "    <tr>\n",
       "      <td>1</td>\n",
       "      <td>0.29</td>\n",
       "      <td>23 km ENE of Ashford, Washington</td>\n",
       "      <td>2023-01-02 01:02:43.950</td>\n",
       "      <td>-121.76</td>\n",
       "      <td>46.85</td>\n",
       "    </tr>\n",
       "    <tr>\n",
       "      <td>2</td>\n",
       "      <td>0.2</td>\n",
       "      <td>23 km ENE of Ashford, Washington</td>\n",
       "      <td>2023-01-02 12:05:01.420</td>\n",
       "      <td>-121.75</td>\n",
       "      <td>46.86</td>\n",
       "    </tr>\n",
       "    <tr>\n",
       "      <td>3</td>\n",
       "      <td>0.52</td>\n",
       "      <td>15 km NNE of Ashford, Washington</td>\n",
       "      <td>2023-01-02 12:45:14.220</td>\n",
       "      <td>-121.95</td>\n",
       "      <td>46.89</td>\n",
       "    </tr>\n",
       "    <tr>\n",
       "      <td>4</td>\n",
       "      <td>1.56</td>\n",
       "      <td>0 km WSW of Esperance, Washington</td>\n",
       "      <td>2023-01-02 13:19:27.200</td>\n",
       "      <td>-122.36</td>\n",
       "      <td>47.79</td>\n",
       "    </tr>\n",
       "  </tbody>\n",
       "</table>"
      ],
      "text/plain": [
       "   id  magnitude                           location               timestamp  \\\n",
       "0   0       1.15    10 km NW of Belfair, Washington 2023-01-01 08:10:37.050   \n",
       "1   1       0.29   23 km ENE of Ashford, Washington 2023-01-02 01:02:43.950   \n",
       "2   2       0.20   23 km ENE of Ashford, Washington 2023-01-02 12:05:01.420   \n",
       "3   3       0.52   15 km NNE of Ashford, Washington 2023-01-02 12:45:14.220   \n",
       "4   4       1.56  0 km WSW of Esperance, Washington 2023-01-02 13:19:27.200   \n",
       "\n",
       "   longitude  latitude  \n",
       "0    -122.93     47.51  \n",
       "1    -121.76     46.85  \n",
       "2    -121.75     46.86  \n",
       "3    -121.95     46.89  \n",
       "4    -122.36     47.79  "
      ]
     },
     "execution_count": 17,
     "metadata": {},
     "output_type": "execute_result"
    }
   ],
   "source": [
    "eq_t.limit(5).collect()"
   ]
  },
  {
   "cell_type": "markdown",
   "metadata": {},
   "source": [
    "A different way of achieving something similar is to use the `head()` and `tail()` methods. Pixeltable keeps track of the insertion order of all its data, and `head()` and `tail()` will always return the _earliest inserted_ and _most recently inserted_ rows in a table, respectively."
   ]
  },
  {
   "cell_type": "code",
   "execution_count": 18,
   "metadata": {},
   "outputs": [
    {
     "data": {
      "text/html": [
       "<table border=\"1\" class=\"dataframe\">\n",
       "  <thead>\n",
       "    <tr style=\"text-align: right;\">\n",
       "      <th>id</th>\n",
       "      <th>magnitude</th>\n",
       "      <th>location</th>\n",
       "      <th>timestamp</th>\n",
       "      <th>longitude</th>\n",
       "      <th>latitude</th>\n",
       "    </tr>\n",
       "  </thead>\n",
       "  <tbody>\n",
       "    <tr>\n",
       "      <td>0</td>\n",
       "      <td>1.15</td>\n",
       "      <td>10 km NW of Belfair, Washington</td>\n",
       "      <td>2023-01-01 08:10:37.050</td>\n",
       "      <td>-122.93</td>\n",
       "      <td>47.51</td>\n",
       "    </tr>\n",
       "    <tr>\n",
       "      <td>1</td>\n",
       "      <td>0.29</td>\n",
       "      <td>23 km ENE of Ashford, Washington</td>\n",
       "      <td>2023-01-02 01:02:43.950</td>\n",
       "      <td>-121.76</td>\n",
       "      <td>46.85</td>\n",
       "    </tr>\n",
       "    <tr>\n",
       "      <td>2</td>\n",
       "      <td>0.2</td>\n",
       "      <td>23 km ENE of Ashford, Washington</td>\n",
       "      <td>2023-01-02 12:05:01.420</td>\n",
       "      <td>-121.75</td>\n",
       "      <td>46.86</td>\n",
       "    </tr>\n",
       "    <tr>\n",
       "      <td>3</td>\n",
       "      <td>0.52</td>\n",
       "      <td>15 km NNE of Ashford, Washington</td>\n",
       "      <td>2023-01-02 12:45:14.220</td>\n",
       "      <td>-121.95</td>\n",
       "      <td>46.89</td>\n",
       "    </tr>\n",
       "    <tr>\n",
       "      <td>4</td>\n",
       "      <td>1.56</td>\n",
       "      <td>0 km WSW of Esperance, Washington</td>\n",
       "      <td>2023-01-02 13:19:27.200</td>\n",
       "      <td>-122.36</td>\n",
       "      <td>47.79</td>\n",
       "    </tr>\n",
       "  </tbody>\n",
       "</table>"
      ],
      "text/plain": [
       "   id  magnitude                           location               timestamp  \\\n",
       "0   0       1.15    10 km NW of Belfair, Washington 2023-01-01 08:10:37.050   \n",
       "1   1       0.29   23 km ENE of Ashford, Washington 2023-01-02 01:02:43.950   \n",
       "2   2       0.20   23 km ENE of Ashford, Washington 2023-01-02 12:05:01.420   \n",
       "3   3       0.52   15 km NNE of Ashford, Washington 2023-01-02 12:45:14.220   \n",
       "4   4       1.56  0 km WSW of Esperance, Washington 2023-01-02 13:19:27.200   \n",
       "\n",
       "   longitude  latitude  \n",
       "0    -122.93     47.51  \n",
       "1    -121.76     46.85  \n",
       "2    -121.75     46.86  \n",
       "3    -121.95     46.89  \n",
       "4    -122.36     47.79  "
      ]
     },
     "execution_count": 18,
     "metadata": {},
     "output_type": "execute_result"
    }
   ],
   "source": [
    "eq_t.head(5)"
   ]
  },
  {
   "cell_type": "code",
   "execution_count": 19,
   "metadata": {},
   "outputs": [
    {
     "data": {
      "text/html": [
       "<table border=\"1\" class=\"dataframe\">\n",
       "  <thead>\n",
       "    <tr style=\"text-align: right;\">\n",
       "      <th>id</th>\n",
       "      <th>magnitude</th>\n",
       "      <th>location</th>\n",
       "      <th>timestamp</th>\n",
       "      <th>longitude</th>\n",
       "      <th>latitude</th>\n",
       "    </tr>\n",
       "  </thead>\n",
       "  <tbody>\n",
       "    <tr>\n",
       "      <td>1818</td>\n",
       "      <td>1.7</td>\n",
       "      <td>14 km W of Skokomish, Washington</td>\n",
       "      <td>2024-06-29 08:55:50.030</td>\n",
       "      <td>-123.35</td>\n",
       "      <td>47.32</td>\n",
       "    </tr>\n",
       "    <tr>\n",
       "      <td>1819</td>\n",
       "      <td>1.06</td>\n",
       "      <td>7 km E of Lake McMurray, Washington</td>\n",
       "      <td>2024-06-29 12:15:19.130</td>\n",
       "      <td>-122.13</td>\n",
       "      <td>48.31</td>\n",
       "    </tr>\n",
       "    <tr>\n",
       "      <td>1820</td>\n",
       "      <td>0.48</td>\n",
       "      <td>4 km E of Duvall, Washington</td>\n",
       "      <td>2024-06-30 09:15:43.020</td>\n",
       "      <td>-121.93</td>\n",
       "      <td>47.75</td>\n",
       "    </tr>\n",
       "    <tr>\n",
       "      <td>1821</td>\n",
       "      <td>0.46</td>\n",
       "      <td>12 km NE of Ashford, Washington</td>\n",
       "      <td>2024-06-30 10:05:15.410</td>\n",
       "      <td>-121.93</td>\n",
       "      <td>46.84</td>\n",
       "    </tr>\n",
       "    <tr>\n",
       "      <td>1822</td>\n",
       "      <td>0.72</td>\n",
       "      <td>6 km ENE of Oso, Washington</td>\n",
       "      <td>2024-06-30 11:12:41.900</td>\n",
       "      <td>-121.84</td>\n",
       "      <td>48.28</td>\n",
       "    </tr>\n",
       "  </tbody>\n",
       "</table>"
      ],
      "text/plain": [
       "     id  magnitude                             location  \\\n",
       "0  1818       1.70     14 km W of Skokomish, Washington   \n",
       "1  1819       1.06  7 km E of Lake McMurray, Washington   \n",
       "2  1820       0.48         4 km E of Duvall, Washington   \n",
       "3  1821       0.46      12 km NE of Ashford, Washington   \n",
       "4  1822       0.72          6 km ENE of Oso, Washington   \n",
       "\n",
       "                timestamp  longitude  latitude  \n",
       "0 2024-06-29 08:55:50.030    -123.35     47.32  \n",
       "1 2024-06-29 12:15:19.130    -122.13     48.31  \n",
       "2 2024-06-30 09:15:43.020    -121.93     47.75  \n",
       "3 2024-06-30 10:05:15.410    -121.93     46.84  \n",
       "4 2024-06-30 11:12:41.900    -121.84     48.28  "
      ]
     },
     "execution_count": 19,
     "metadata": {},
     "output_type": "execute_result"
    }
   ],
   "source": [
    "eq_t.tail(5)"
   ]
  },
  {
   "cell_type": "markdown",
   "metadata": {},
   "source": [
    "<div class=\"alert alert-block alert-info\">\n",
    "<code>head(n)</code> and <code>limit(n).collect()</code> appear similar in this example. But <code>head()</code> always returns the <i>earliest</i> rows in a table, whereas <code>limit()</code> makes no promises about the ordering of its results (unless you specify an <code>order_by()</code> clause - more on this below).\n",
    "</div>"
   ]
  },
  {
   "cell_type": "markdown",
   "metadata": {},
   "source": [
    "Let's also peek at the schema:"
   ]
  },
  {
   "cell_type": "code",
   "execution_count": 20,
   "metadata": {},
   "outputs": [
    {
     "data": {
      "text/html": [
       "<style type=\"text/css\">\n",
       "#T_8460b th {\n",
       "  text-align: center;\n",
       "}\n",
       "#T_8460b_row0_col0, #T_8460b_row0_col1, #T_8460b_row0_col2, #T_8460b_row1_col0, #T_8460b_row1_col1, #T_8460b_row1_col2, #T_8460b_row2_col0, #T_8460b_row2_col1, #T_8460b_row2_col2, #T_8460b_row3_col0, #T_8460b_row3_col1, #T_8460b_row3_col2, #T_8460b_row4_col0, #T_8460b_row4_col1, #T_8460b_row4_col2, #T_8460b_row5_col0, #T_8460b_row5_col1, #T_8460b_row5_col2 {\n",
       "  white-space: pre-wrap;\n",
       "  text-align: left;\n",
       "}\n",
       "</style>\n",
       "<table id=\"T_8460b\">\n",
       "  <thead>\n",
       "    <tr>\n",
       "      <th id=\"T_8460b_level0_col0\" class=\"col_heading level0 col0\" >Column Name</th>\n",
       "      <th id=\"T_8460b_level0_col1\" class=\"col_heading level0 col1\" >Type</th>\n",
       "      <th id=\"T_8460b_level0_col2\" class=\"col_heading level0 col2\" >Computed With</th>\n",
       "    </tr>\n",
       "  </thead>\n",
       "  <tbody>\n",
       "    <tr>\n",
       "      <td id=\"T_8460b_row0_col0\" class=\"data row0 col0\" >id</td>\n",
       "      <td id=\"T_8460b_row0_col1\" class=\"data row0 col1\" >int</td>\n",
       "      <td id=\"T_8460b_row0_col2\" class=\"data row0 col2\" ></td>\n",
       "    </tr>\n",
       "    <tr>\n",
       "      <td id=\"T_8460b_row1_col0\" class=\"data row1 col0\" >magnitude</td>\n",
       "      <td id=\"T_8460b_row1_col1\" class=\"data row1 col1\" >float</td>\n",
       "      <td id=\"T_8460b_row1_col2\" class=\"data row1 col2\" ></td>\n",
       "    </tr>\n",
       "    <tr>\n",
       "      <td id=\"T_8460b_row2_col0\" class=\"data row2 col0\" >location</td>\n",
       "      <td id=\"T_8460b_row2_col1\" class=\"data row2 col1\" >string</td>\n",
       "      <td id=\"T_8460b_row2_col2\" class=\"data row2 col2\" ></td>\n",
       "    </tr>\n",
       "    <tr>\n",
       "      <td id=\"T_8460b_row3_col0\" class=\"data row3 col0\" >timestamp</td>\n",
       "      <td id=\"T_8460b_row3_col1\" class=\"data row3 col1\" >timestamp</td>\n",
       "      <td id=\"T_8460b_row3_col2\" class=\"data row3 col2\" ></td>\n",
       "    </tr>\n",
       "    <tr>\n",
       "      <td id=\"T_8460b_row4_col0\" class=\"data row4 col0\" >longitude</td>\n",
       "      <td id=\"T_8460b_row4_col1\" class=\"data row4 col1\" >float</td>\n",
       "      <td id=\"T_8460b_row4_col2\" class=\"data row4 col2\" ></td>\n",
       "    </tr>\n",
       "    <tr>\n",
       "      <td id=\"T_8460b_row5_col0\" class=\"data row5 col0\" >latitude</td>\n",
       "      <td id=\"T_8460b_row5_col1\" class=\"data row5 col1\" >float</td>\n",
       "      <td id=\"T_8460b_row5_col2\" class=\"data row5 col2\" ></td>\n",
       "    </tr>\n",
       "  </tbody>\n",
       "</table>\n"
      ],
      "text/plain": [
       "<pandas.io.formats.style.Styler at 0x321a772e0>"
      ]
     },
     "metadata": {},
     "output_type": "display_data"
    }
   ],
   "source": [
    "eq_t.describe()"
   ]
  },
  {
   "cell_type": "markdown",
   "metadata": {},
   "source": [
    "Note that while specifying a schema is mandatory when _creating_ a table, it's not always required when _importing_ data. This is because Pixeltable uses the structure of the imported data to infer the column types, when feasible. You can always override the inferred column types with the `schema_overrides` parameter of `import_csv()`.\n",
    "\n",
    "The following examples showcase some common data operations."
   ]
  },
  {
   "cell_type": "code",
   "execution_count": 21,
   "metadata": {},
   "outputs": [
    {
     "data": {
      "text/plain": [
       "1823"
      ]
     },
     "execution_count": 21,
     "metadata": {},
     "output_type": "execute_result"
    }
   ],
   "source": [
    "eq_t.count()  # Number of rows in the table"
   ]
  },
  {
   "cell_type": "code",
   "execution_count": 22,
   "metadata": {},
   "outputs": [
    {
     "data": {
      "text/html": [
       "<table border=\"1\" class=\"dataframe\">\n",
       "  <thead>\n",
       "    <tr style=\"text-align: right;\">\n",
       "      <th>id</th>\n",
       "      <th>magnitude</th>\n",
       "      <th>location</th>\n",
       "      <th>timestamp</th>\n",
       "      <th>longitude</th>\n",
       "      <th>latitude</th>\n",
       "    </tr>\n",
       "  </thead>\n",
       "  <tbody>\n",
       "    <tr>\n",
       "      <td>1002</td>\n",
       "      <td>4.3</td>\n",
       "      <td>Port Townsend, WA</td>\n",
       "      <td>2023-10-09 02:21:08.960</td>\n",
       "      <td>-122.73</td>\n",
       "      <td>48.04</td>\n",
       "    </tr>\n",
       "    <tr>\n",
       "      <td>1226</td>\n",
       "      <td>4.04</td>\n",
       "      <td>6 km W of Quilcene, Washington</td>\n",
       "      <td>2023-12-24 15:14:04.220</td>\n",
       "      <td>-122.96</td>\n",
       "      <td>47.82</td>\n",
       "    </tr>\n",
       "    <tr>\n",
       "      <td>699</td>\n",
       "      <td>3.91</td>\n",
       "      <td>9 km NNE of Snoqualmie, Washington</td>\n",
       "      <td>2023-08-08 10:17:23.910</td>\n",
       "      <td>-121.77</td>\n",
       "      <td>47.6</td>\n",
       "    </tr>\n",
       "    <tr>\n",
       "      <td>1281</td>\n",
       "      <td>3.48</td>\n",
       "      <td>7 km SSW of River Road, Washington</td>\n",
       "      <td>2024-01-15 07:25:05.920</td>\n",
       "      <td>-123.17</td>\n",
       "      <td>48.</td>\n",
       "    </tr>\n",
       "    <tr>\n",
       "      <td>1355</td>\n",
       "      <td>3.42</td>\n",
       "      <td>17 km WSW of Brinnon, Washington</td>\n",
       "      <td>2024-02-16 16:30:18.830</td>\n",
       "      <td>-123.09</td>\n",
       "      <td>47.59</td>\n",
       "    </tr>\n",
       "  </tbody>\n",
       "</table>"
      ],
      "text/plain": [
       "     id  magnitude                            location  \\\n",
       "0  1002       4.30                   Port Townsend, WA   \n",
       "1  1226       4.04      6 km W of Quilcene, Washington   \n",
       "2   699       3.91  9 km NNE of Snoqualmie, Washington   \n",
       "3  1281       3.48  7 km SSW of River Road, Washington   \n",
       "4  1355       3.42    17 km WSW of Brinnon, Washington   \n",
       "\n",
       "                timestamp  longitude  latitude  \n",
       "0 2023-10-09 02:21:08.960    -122.73     48.04  \n",
       "1 2023-12-24 15:14:04.220    -122.96     47.82  \n",
       "2 2023-08-08 10:17:23.910    -121.77     47.60  \n",
       "3 2024-01-15 07:25:05.920    -123.17     48.00  \n",
       "4 2024-02-16 16:30:18.830    -123.09     47.59  "
      ]
     },
     "execution_count": 22,
     "metadata": {},
     "output_type": "execute_result"
    }
   ],
   "source": [
    "# 5 highest-magnitude earthquakes\n",
    "\n",
    "eq_t.order_by(eq_t.magnitude, asc=False).limit(5).collect()"
   ]
  },
  {
   "cell_type": "code",
   "execution_count": 23,
   "metadata": {},
   "outputs": [
    {
     "data": {
      "text/html": [
       "<table border=\"1\" class=\"dataframe\">\n",
       "  <thead>\n",
       "    <tr style=\"text-align: right;\">\n",
       "      <th>id</th>\n",
       "      <th>magnitude</th>\n",
       "      <th>location</th>\n",
       "      <th>timestamp</th>\n",
       "      <th>longitude</th>\n",
       "      <th>latitude</th>\n",
       "    </tr>\n",
       "  </thead>\n",
       "  <tbody>\n",
       "    <tr>\n",
       "      <td>699</td>\n",
       "      <td>3.91</td>\n",
       "      <td>9 km NNE of Snoqualmie, Washington</td>\n",
       "      <td>2023-08-08 10:17:23.910</td>\n",
       "      <td>-121.77</td>\n",
       "      <td>47.6</td>\n",
       "    </tr>\n",
       "    <tr>\n",
       "      <td>799</td>\n",
       "      <td>2.86</td>\n",
       "      <td>5 km E of Ashford, Washington</td>\n",
       "      <td>2023-08-27 10:10:23.770</td>\n",
       "      <td>-121.96</td>\n",
       "      <td>46.77</td>\n",
       "    </tr>\n",
       "    <tr>\n",
       "      <td>710</td>\n",
       "      <td>2.84</td>\n",
       "      <td>8 km ENE of Fall City, Washington</td>\n",
       "      <td>2023-08-08 11:51:12.750</td>\n",
       "      <td>-121.79</td>\n",
       "      <td>47.6</td>\n",
       "    </tr>\n",
       "    <tr>\n",
       "      <td>577</td>\n",
       "      <td>2.79</td>\n",
       "      <td>0 km NE of Maple Valley, Washington</td>\n",
       "      <td>2023-07-04 15:52:54.430</td>\n",
       "      <td>-122.04</td>\n",
       "      <td>47.4</td>\n",
       "    </tr>\n",
       "    <tr>\n",
       "      <td>769</td>\n",
       "      <td>2.73</td>\n",
       "      <td>16 km NE of Ashford, Washington</td>\n",
       "      <td>2023-08-22 23:44:12.250</td>\n",
       "      <td>-121.88</td>\n",
       "      <td>46.87</td>\n",
       "    </tr>\n",
       "  </tbody>\n",
       "</table>"
      ],
      "text/plain": [
       "    id  magnitude                             location  \\\n",
       "0  699       3.91   9 km NNE of Snoqualmie, Washington   \n",
       "1  799       2.86        5 km E of Ashford, Washington   \n",
       "2  710       2.84    8 km ENE of Fall City, Washington   \n",
       "3  577       2.79  0 km NE of Maple Valley, Washington   \n",
       "4  769       2.73      16 km NE of Ashford, Washington   \n",
       "\n",
       "                timestamp  longitude  latitude  \n",
       "0 2023-08-08 10:17:23.910    -121.77     47.60  \n",
       "1 2023-08-27 10:10:23.770    -121.96     46.77  \n",
       "2 2023-08-08 11:51:12.750    -121.79     47.60  \n",
       "3 2023-07-04 15:52:54.430    -122.04     47.40  \n",
       "4 2023-08-22 23:44:12.250    -121.88     46.87  "
      ]
     },
     "execution_count": 23,
     "metadata": {},
     "output_type": "execute_result"
    }
   ],
   "source": [
    "# 5 highest-magnitude earthquakes in Q3 2023\n",
    "\n",
    "eq_t.where((eq_t.timestamp >= '2023-06-01') & (eq_t.timestamp < '2023-10-01')) \\\n",
    "  .order_by(eq_t.magnitude, asc=False).limit(5).collect()"
   ]
  },
  {
   "cell_type": "markdown",
   "metadata": {},
   "source": [
    "Note that Pixeltable uses Pandas-like operators for filtering data: the expression\n",
    "\n",
    "```python\n",
    "(eq_t.timestamp >= '2023-06-01') & (eq_t.timestamp < '2023-10-01')\n",
    "```\n",
    "\n",
    "means _both_ conditions must be true; similarly (say),\n",
    "\n",
    "```python\n",
    "(eq_t.timestamp < '2023-06-01') | (eq_t.timestamp >= '2024-01-01')\n",
    "```\n",
    "\n",
    "would mean _either_ condition must be true.\n",
    "\n",
    "You can also use the special `isin` operator to select just those values that appear within a particular list:"
   ]
  },
  {
   "cell_type": "code",
   "execution_count": 24,
   "metadata": {},
   "outputs": [
    {
     "data": {
      "text/html": [
       "<table border=\"1\" class=\"dataframe\">\n",
       "  <thead>\n",
       "    <tr style=\"text-align: right;\">\n",
       "      <th>id</th>\n",
       "      <th>magnitude</th>\n",
       "      <th>location</th>\n",
       "      <th>timestamp</th>\n",
       "      <th>longitude</th>\n",
       "      <th>latitude</th>\n",
       "    </tr>\n",
       "  </thead>\n",
       "  <tbody>\n",
       "    <tr>\n",
       "      <td>123</td>\n",
       "      <td>1.23</td>\n",
       "      <td>7 km SW of Rainier, Washington</td>\n",
       "      <td>2023-02-17 00:28:25.460</td>\n",
       "      <td>-122.75</td>\n",
       "      <td>46.84</td>\n",
       "    </tr>\n",
       "    <tr>\n",
       "      <td>456</td>\n",
       "      <td>0.23</td>\n",
       "      <td>Washington</td>\n",
       "      <td>2023-05-23 08:49:02.450</td>\n",
       "      <td>-121.98</td>\n",
       "      <td>46.87</td>\n",
       "    </tr>\n",
       "    <tr>\n",
       "      <td>789</td>\n",
       "      <td>1.67</td>\n",
       "      <td>Puget Sound region, Washington</td>\n",
       "      <td>2023-08-26 04:04:11.200</td>\n",
       "      <td>-122.57</td>\n",
       "      <td>47.6</td>\n",
       "    </tr>\n",
       "  </tbody>\n",
       "</table>"
      ],
      "text/plain": [
       "    id  magnitude                        location               timestamp  \\\n",
       "0  123       1.23  7 km SW of Rainier, Washington 2023-02-17 00:28:25.460   \n",
       "1  456       0.23                      Washington 2023-05-23 08:49:02.450   \n",
       "2  789       1.67  Puget Sound region, Washington 2023-08-26 04:04:11.200   \n",
       "\n",
       "   longitude  latitude  \n",
       "0    -122.75     46.84  \n",
       "1    -121.98     46.87  \n",
       "2    -122.57     47.60  "
      ]
     },
     "execution_count": 24,
     "metadata": {},
     "output_type": "execute_result"
    }
   ],
   "source": [
    "# Earthquakes with specific ids\n",
    "\n",
    "eq_t.where(eq_t.id.isin([123,456,789])).collect()"
   ]
  },
  {
   "cell_type": "markdown",
   "metadata": {},
   "source": [
    "In addition to basic operators like `>=` and `isin`, a Pixeltable `where` clause can also contain more complex operations. For example, the `location` column in our dataset is a string that contains a lot of information, but in a relatively unstructured way. Suppose we wanted to see all Earthquakes in the vicinity of Rainier, Washington; one way to do this is with the `contains()` method:"
   ]
  },
  {
   "cell_type": "code",
   "execution_count": 25,
   "metadata": {},
   "outputs": [
    {
     "data": {
      "text/html": [
       "<table border=\"1\" class=\"dataframe\">\n",
       "  <thead>\n",
       "    <tr style=\"text-align: right;\">\n",
       "      <th>id</th>\n",
       "      <th>magnitude</th>\n",
       "      <th>location</th>\n",
       "      <th>timestamp</th>\n",
       "      <th>longitude</th>\n",
       "      <th>latitude</th>\n",
       "    </tr>\n",
       "  </thead>\n",
       "  <tbody>\n",
       "    <tr>\n",
       "      <td>40</td>\n",
       "      <td>1.22</td>\n",
       "      <td>11 km SSE of Rainier, Washington</td>\n",
       "      <td>2023-01-19 21:52:29.910</td>\n",
       "      <td>-122.65</td>\n",
       "      <td>46.79</td>\n",
       "    </tr>\n",
       "    <tr>\n",
       "      <td>85</td>\n",
       "      <td>1.45</td>\n",
       "      <td>10 km SSE of Rainier, Washington</td>\n",
       "      <td>2023-02-02 20:08:27.810</td>\n",
       "      <td>-122.65</td>\n",
       "      <td>46.79</td>\n",
       "    </tr>\n",
       "    <tr>\n",
       "      <td>123</td>\n",
       "      <td>1.23</td>\n",
       "      <td>7 km SW of Rainier, Washington</td>\n",
       "      <td>2023-02-17 00:28:25.460</td>\n",
       "      <td>-122.75</td>\n",
       "      <td>46.84</td>\n",
       "    </tr>\n",
       "    <tr>\n",
       "      <td>467</td>\n",
       "      <td>1.09</td>\n",
       "      <td>10 km SSE of Rainier, Washington</td>\n",
       "      <td>2023-05-26 19:39:44.120</td>\n",
       "      <td>-122.65</td>\n",
       "      <td>46.8</td>\n",
       "    </tr>\n",
       "    <tr>\n",
       "      <td>1399</td>\n",
       "      <td>1.08</td>\n",
       "      <td>5 km SW of Rainier, Washington</td>\n",
       "      <td>2024-03-04 22:34:25.210</td>\n",
       "      <td>-122.74</td>\n",
       "      <td>46.85</td>\n",
       "    </tr>\n",
       "    <tr>\n",
       "      <td>1709</td>\n",
       "      <td>1.16</td>\n",
       "      <td>10 km S of Rainier, Washington</td>\n",
       "      <td>2024-05-22 18:28:38.130</td>\n",
       "      <td>-122.68</td>\n",
       "      <td>46.79</td>\n",
       "    </tr>\n",
       "    <tr>\n",
       "      <td>1776</td>\n",
       "      <td>1.17</td>\n",
       "      <td>12 km S of Rainier, Washington</td>\n",
       "      <td>2024-06-17 18:25:33.400</td>\n",
       "      <td>-122.66</td>\n",
       "      <td>46.77</td>\n",
       "    </tr>\n",
       "  </tbody>\n",
       "</table>"
      ],
      "text/plain": [
       "     id  magnitude                          location               timestamp  \\\n",
       "0    40       1.22  11 km SSE of Rainier, Washington 2023-01-19 21:52:29.910   \n",
       "1    85       1.45  10 km SSE of Rainier, Washington 2023-02-02 20:08:27.810   \n",
       "2   123       1.23    7 km SW of Rainier, Washington 2023-02-17 00:28:25.460   \n",
       "3   467       1.09  10 km SSE of Rainier, Washington 2023-05-26 19:39:44.120   \n",
       "4  1399       1.08    5 km SW of Rainier, Washington 2024-03-04 22:34:25.210   \n",
       "5  1709       1.16    10 km S of Rainier, Washington 2024-05-22 18:28:38.130   \n",
       "6  1776       1.17    12 km S of Rainier, Washington 2024-06-17 18:25:33.400   \n",
       "\n",
       "   longitude  latitude  \n",
       "0    -122.65     46.79  \n",
       "1    -122.65     46.79  \n",
       "2    -122.75     46.84  \n",
       "3    -122.65     46.80  \n",
       "4    -122.74     46.85  \n",
       "5    -122.68     46.79  \n",
       "6    -122.66     46.77  "
      ]
     },
     "execution_count": 25,
     "metadata": {},
     "output_type": "execute_result"
    }
   ],
   "source": [
    "# All earthquakes in the vicinity of Rainier\n",
    "\n",
    "eq_t.where(eq_t.location.contains('Rainier')).collect()"
   ]
  },
  {
   "cell_type": "markdown",
   "metadata": {},
   "source": [
    "Pixeltable also supports various __aggregators__; here's an example showcasing two fairly simple ones, `max()` and `min()`:"
   ]
  },
  {
   "cell_type": "code",
   "execution_count": 26,
   "metadata": {},
   "outputs": [
    {
     "data": {
      "text/html": [
       "<table border=\"1\" class=\"dataframe\">\n",
       "  <thead>\n",
       "    <tr style=\"text-align: right;\">\n",
       "      <th>min</th>\n",
       "      <th>max</th>\n",
       "    </tr>\n",
       "  </thead>\n",
       "  <tbody>\n",
       "    <tr>\n",
       "      <td>-0.83</td>\n",
       "      <td>4.3</td>\n",
       "    </tr>\n",
       "  </tbody>\n",
       "</table>"
      ],
      "text/plain": [
       "    min  max\n",
       "0 -0.83  4.3"
      ]
     },
     "execution_count": 26,
     "metadata": {},
     "output_type": "execute_result"
    }
   ],
   "source": [
    "# Min and max magnitudes\n",
    "\n",
    "eq_t.select(min=pxt.functions.min(eq_t.magnitude), max=pxt.functions.max(eq_t.magnitude)).collect()"
   ]
  },
  {
   "cell_type": "markdown",
   "metadata": {},
   "source": [
    "We'll discuss the various Pixeltable functions and expressions more thoroughly in the next tutorial section, [Computed Columns and Expressions](), and they're exhaustively documented in the [Pixeltable API](https://pixeltable.github.io/pixeltable/)."
   ]
  },
  {
   "cell_type": "markdown",
   "metadata": {},
   "source": [
    "### Extracting Data from Tables into Python/Pandas"
   ]
  },
  {
   "cell_type": "markdown",
   "metadata": {},
   "source": [
    "Sometimes it's handy to pull out data from a table into a Python object. We've actually already done this; the call to `collect()` returns an in-memory result set, which we can then dereference in various ways. For example:"
   ]
  },
  {
   "cell_type": "code",
   "execution_count": 27,
   "metadata": {},
   "outputs": [
    {
     "data": {
      "text/plain": [
       "{'id': 0,\n",
       " 'magnitude': 1.15,\n",
       " 'location': '10 km NW of Belfair, Washington',\n",
       " 'timestamp': datetime.datetime(2023, 1, 1, 8, 10, 37, 50000),\n",
       " 'longitude': -122.93,\n",
       " 'latitude': 47.51}"
      ]
     },
     "execution_count": 27,
     "metadata": {},
     "output_type": "execute_result"
    }
   ],
   "source": [
    "result = eq_t.limit(5).collect()\n",
    "result[0]  # Get the first row of the results as a dict"
   ]
  },
  {
   "cell_type": "code",
   "execution_count": 28,
   "metadata": {},
   "outputs": [
    {
     "data": {
      "text/plain": [
       "[datetime.datetime(2023, 1, 1, 8, 10, 37, 50000),\n",
       " datetime.datetime(2023, 1, 2, 1, 2, 43, 950000),\n",
       " datetime.datetime(2023, 1, 2, 12, 5, 1, 420000),\n",
       " datetime.datetime(2023, 1, 2, 12, 45, 14, 220000),\n",
       " datetime.datetime(2023, 1, 2, 13, 19, 27, 200000)]"
      ]
     },
     "execution_count": 28,
     "metadata": {},
     "output_type": "execute_result"
    }
   ],
   "source": [
    "result['timestamp']  # Get a list of the `timestamp` field of all the rows that were queried"
   ]
  },
  {
   "cell_type": "code",
   "execution_count": 29,
   "metadata": {},
   "outputs": [
    {
     "data": {
      "text/plain": [
       "count    5.000000\n",
       "mean     0.744000\n",
       "std      0.587988\n",
       "min      0.200000\n",
       "25%      0.290000\n",
       "50%      0.520000\n",
       "75%      1.150000\n",
       "max      1.560000\n",
       "Name: magnitude, dtype: float64"
      ]
     },
     "execution_count": 29,
     "metadata": {},
     "output_type": "execute_result"
    }
   ],
   "source": [
    "df = result.to_pandas()  # Convert the result set into a Pandas dataframe\n",
    "df['magnitude'].describe()"
   ]
  },
  {
   "cell_type": "markdown",
   "metadata": {},
   "source": [
    "`collect()` without a preceding `limit()` returns the entire contents of a query or table. Be careful! For very large tables, this could result in out-of-memory errors. In this example, the 1823 rows in the table fit comfortably into a dataframe."
   ]
  },
  {
   "cell_type": "code",
   "execution_count": 30,
   "metadata": {},
   "outputs": [
    {
     "data": {
      "text/plain": [
       "count    1823.000000\n",
       "mean        0.900378\n",
       "std         0.625492\n",
       "min        -0.830000\n",
       "25%         0.420000\n",
       "50%         0.850000\n",
       "75%         1.310000\n",
       "max         4.300000\n",
       "Name: magnitude, dtype: float64"
      ]
     },
     "execution_count": 30,
     "metadata": {},
     "output_type": "execute_result"
    }
   ],
   "source": [
    "df = eq_t.collect().to_pandas()\n",
    "df['magnitude'].describe()"
   ]
  },
  {
   "cell_type": "markdown",
   "metadata": {},
   "source": [
    "### Adding Columns"
   ]
  },
  {
   "cell_type": "markdown",
   "metadata": {},
   "source": [
    "Like other database tables, Pixeltable tables aren't fixed entities: they're meant to evolve over time. Suppose we want to add a new column to hold user-specified comments about particular earthquake events. We can do this with the `add_column()` method:"
   ]
  },
  {
   "cell_type": "code",
   "execution_count": 31,
   "metadata": {},
   "outputs": [
    {
     "name": "stdout",
     "output_type": "stream",
     "text": [
      "Added 1823 column values with 0 errors.\n"
     ]
    },
    {
     "data": {
      "text/plain": [
       "UpdateStatus(num_rows=1823, num_computed_values=1823, num_excs=0, updated_cols=[], cols_with_excs=[])"
      ]
     },
     "execution_count": 31,
     "metadata": {},
     "output_type": "execute_result"
    }
   ],
   "source": [
    "eq_t.add_column(note=pxt.StringType(nullable=True))"
   ]
  },
  {
   "cell_type": "markdown",
   "metadata": {},
   "source": [
    "Here, `note` is the column name, and `pxt.StringType` specifies the type of the new column. `nullable=True` means that it's an _optional_ field. That `nullable=True` is mandatory for newly-added columns, because none of the existing rows have a comment (yet) - so it'd be inconsistent with the existing data to make `note` a required field.\n",
    "\n",
    "An alternate syntax is sometimes convenient for adding columns:"
   ]
  },
  {
   "cell_type": "code",
   "execution_count": 32,
   "metadata": {},
   "outputs": [
    {
     "name": "stdout",
     "output_type": "stream",
     "text": [
      "Added 1823 column values with 0 errors.\n"
     ]
    }
   ],
   "source": [
    "eq_t['contact_email'] = pxt.StringType(nullable=True)"
   ]
  },
  {
   "cell_type": "markdown",
   "metadata": {},
   "source": [
    "Let's have a look at the revised schema."
   ]
  },
  {
   "cell_type": "code",
   "execution_count": 33,
   "metadata": {},
   "outputs": [
    {
     "data": {
      "text/html": [
       "<style type=\"text/css\">\n",
       "#T_033e0 th {\n",
       "  text-align: center;\n",
       "}\n",
       "#T_033e0_row0_col0, #T_033e0_row0_col1, #T_033e0_row0_col2, #T_033e0_row1_col0, #T_033e0_row1_col1, #T_033e0_row1_col2, #T_033e0_row2_col0, #T_033e0_row2_col1, #T_033e0_row2_col2, #T_033e0_row3_col0, #T_033e0_row3_col1, #T_033e0_row3_col2, #T_033e0_row4_col0, #T_033e0_row4_col1, #T_033e0_row4_col2, #T_033e0_row5_col0, #T_033e0_row5_col1, #T_033e0_row5_col2, #T_033e0_row6_col0, #T_033e0_row6_col1, #T_033e0_row6_col2, #T_033e0_row7_col0, #T_033e0_row7_col1, #T_033e0_row7_col2 {\n",
       "  white-space: pre-wrap;\n",
       "  text-align: left;\n",
       "}\n",
       "</style>\n",
       "<table id=\"T_033e0\">\n",
       "  <thead>\n",
       "    <tr>\n",
       "      <th id=\"T_033e0_level0_col0\" class=\"col_heading level0 col0\" >Column Name</th>\n",
       "      <th id=\"T_033e0_level0_col1\" class=\"col_heading level0 col1\" >Type</th>\n",
       "      <th id=\"T_033e0_level0_col2\" class=\"col_heading level0 col2\" >Computed With</th>\n",
       "    </tr>\n",
       "  </thead>\n",
       "  <tbody>\n",
       "    <tr>\n",
       "      <td id=\"T_033e0_row0_col0\" class=\"data row0 col0\" >id</td>\n",
       "      <td id=\"T_033e0_row0_col1\" class=\"data row0 col1\" >int</td>\n",
       "      <td id=\"T_033e0_row0_col2\" class=\"data row0 col2\" ></td>\n",
       "    </tr>\n",
       "    <tr>\n",
       "      <td id=\"T_033e0_row1_col0\" class=\"data row1 col0\" >magnitude</td>\n",
       "      <td id=\"T_033e0_row1_col1\" class=\"data row1 col1\" >float</td>\n",
       "      <td id=\"T_033e0_row1_col2\" class=\"data row1 col2\" ></td>\n",
       "    </tr>\n",
       "    <tr>\n",
       "      <td id=\"T_033e0_row2_col0\" class=\"data row2 col0\" >location</td>\n",
       "      <td id=\"T_033e0_row2_col1\" class=\"data row2 col1\" >string</td>\n",
       "      <td id=\"T_033e0_row2_col2\" class=\"data row2 col2\" ></td>\n",
       "    </tr>\n",
       "    <tr>\n",
       "      <td id=\"T_033e0_row3_col0\" class=\"data row3 col0\" >timestamp</td>\n",
       "      <td id=\"T_033e0_row3_col1\" class=\"data row3 col1\" >timestamp</td>\n",
       "      <td id=\"T_033e0_row3_col2\" class=\"data row3 col2\" ></td>\n",
       "    </tr>\n",
       "    <tr>\n",
       "      <td id=\"T_033e0_row4_col0\" class=\"data row4 col0\" >longitude</td>\n",
       "      <td id=\"T_033e0_row4_col1\" class=\"data row4 col1\" >float</td>\n",
       "      <td id=\"T_033e0_row4_col2\" class=\"data row4 col2\" ></td>\n",
       "    </tr>\n",
       "    <tr>\n",
       "      <td id=\"T_033e0_row5_col0\" class=\"data row5 col0\" >latitude</td>\n",
       "      <td id=\"T_033e0_row5_col1\" class=\"data row5 col1\" >float</td>\n",
       "      <td id=\"T_033e0_row5_col2\" class=\"data row5 col2\" ></td>\n",
       "    </tr>\n",
       "    <tr>\n",
       "      <td id=\"T_033e0_row6_col0\" class=\"data row6 col0\" >note</td>\n",
       "      <td id=\"T_033e0_row6_col1\" class=\"data row6 col1\" >string</td>\n",
       "      <td id=\"T_033e0_row6_col2\" class=\"data row6 col2\" ></td>\n",
       "    </tr>\n",
       "    <tr>\n",
       "      <td id=\"T_033e0_row7_col0\" class=\"data row7 col0\" >contact_email</td>\n",
       "      <td id=\"T_033e0_row7_col1\" class=\"data row7 col1\" >string</td>\n",
       "      <td id=\"T_033e0_row7_col2\" class=\"data row7 col2\" ></td>\n",
       "    </tr>\n",
       "  </tbody>\n",
       "</table>\n"
      ],
      "text/plain": [
       "<pandas.io.formats.style.Styler at 0x31cd60d90>"
      ]
     },
     "metadata": {},
     "output_type": "display_data"
    }
   ],
   "source": [
    "eq_t.describe()"
   ]
  },
  {
   "cell_type": "markdown",
   "metadata": {},
   "source": [
    "### Updating Rows in a Table"
   ]
  },
  {
   "cell_type": "markdown",
   "metadata": {},
   "source": [
    "Table rows can be modified and deleted with the SQL-like `update()` and `delete()` commands."
   ]
  },
  {
   "cell_type": "code",
   "execution_count": 34,
   "metadata": {},
   "outputs": [
    {
     "name": "stdout",
     "output_type": "stream",
     "text": [
      "Inserting rows into `earthquakes`: 2 rows [00:00, 725.66 rows/s]\n"
     ]
    },
    {
     "data": {
      "text/plain": [
       "UpdateStatus(num_rows=2, num_computed_values=0, num_excs=0, updated_cols=['earthquakes.note', 'earthquakes.contact_email'], cols_with_excs=[])"
      ]
     },
     "execution_count": 34,
     "metadata": {},
     "output_type": "execute_result"
    }
   ],
   "source": [
    "# Add a comment to records with IDs 123 and 127\n",
    "\n",
    "eq_t.where(eq_t.id.isin([121,123])).update({'note': 'Still investigating.', 'contact_email': 'contact@pixeltable.com'})"
   ]
  },
  {
   "cell_type": "code",
   "execution_count": 35,
   "metadata": {},
   "outputs": [
    {
     "data": {
      "text/html": [
       "<table border=\"1\" class=\"dataframe\">\n",
       "  <thead>\n",
       "    <tr style=\"text-align: right;\">\n",
       "      <th>id</th>\n",
       "      <th>magnitude</th>\n",
       "      <th>note</th>\n",
       "      <th>contact_email</th>\n",
       "    </tr>\n",
       "  </thead>\n",
       "  <tbody>\n",
       "    <tr>\n",
       "      <td>120</td>\n",
       "      <td>1.17</td>\n",
       "      <td>None</td>\n",
       "      <td>None</td>\n",
       "    </tr>\n",
       "    <tr>\n",
       "      <td>121</td>\n",
       "      <td>1.87</td>\n",
       "      <td>Still investigating.</td>\n",
       "      <td>contact@pixeltable.com</td>\n",
       "    </tr>\n",
       "    <tr>\n",
       "      <td>122</td>\n",
       "      <td>0.34</td>\n",
       "      <td>None</td>\n",
       "      <td>None</td>\n",
       "    </tr>\n",
       "    <tr>\n",
       "      <td>123</td>\n",
       "      <td>1.23</td>\n",
       "      <td>Still investigating.</td>\n",
       "      <td>contact@pixeltable.com</td>\n",
       "    </tr>\n",
       "    <tr>\n",
       "      <td>124</td>\n",
       "      <td>0.13</td>\n",
       "      <td>None</td>\n",
       "      <td>None</td>\n",
       "    </tr>\n",
       "  </tbody>\n",
       "</table>"
      ],
      "text/plain": [
       "    id  magnitude                  note           contact_email\n",
       "0  120       1.17                  None                    None\n",
       "1  121       1.87  Still investigating.  contact@pixeltable.com\n",
       "2  122       0.34                  None                    None\n",
       "3  123       1.23  Still investigating.  contact@pixeltable.com\n",
       "4  124       0.13                  None                    None"
      ]
     },
     "execution_count": 35,
     "metadata": {},
     "output_type": "execute_result"
    }
   ],
   "source": [
    "eq_t.where(eq_t.id >= 120).select(eq_t.id, eq_t.magnitude, eq_t.note, eq_t.contact_email).head(5)"
   ]
  },
  {
   "cell_type": "markdown",
   "metadata": {},
   "source": [
    "`update()` can also accept an expression, rather than a constant value. For example, suppose we wanted to shorten the location strings by replacing every occurrence of `Washington` with `WA`. One way to do this is with an `update()` clause, using a Pixeltable expression with the `replace()` method."
   ]
  },
  {
   "cell_type": "code",
   "execution_count": 36,
   "metadata": {},
   "outputs": [
    {
     "name": "stdout",
     "output_type": "stream",
     "text": [
      "Inserting rows into `earthquakes`: 1823 rows [00:00, 10798.67 rows/s]\n"
     ]
    },
    {
     "data": {
      "text/plain": [
       "UpdateStatus(num_rows=1823, num_computed_values=0, num_excs=0, updated_cols=['earthquakes.location'], cols_with_excs=[])"
      ]
     },
     "execution_count": 36,
     "metadata": {},
     "output_type": "execute_result"
    }
   ],
   "source": [
    "eq_t.update({'location': eq_t.location.replace('Washington', 'WA')})"
   ]
  },
  {
   "cell_type": "code",
   "execution_count": 37,
   "metadata": {},
   "outputs": [
    {
     "data": {
      "text/html": [
       "<table border=\"1\" class=\"dataframe\">\n",
       "  <thead>\n",
       "    <tr style=\"text-align: right;\">\n",
       "      <th>id</th>\n",
       "      <th>magnitude</th>\n",
       "      <th>location</th>\n",
       "      <th>timestamp</th>\n",
       "      <th>longitude</th>\n",
       "      <th>latitude</th>\n",
       "      <th>note</th>\n",
       "      <th>contact_email</th>\n",
       "    </tr>\n",
       "  </thead>\n",
       "  <tbody>\n",
       "    <tr>\n",
       "      <td>0</td>\n",
       "      <td>1.15</td>\n",
       "      <td>10 km NW of Belfair, WA</td>\n",
       "      <td>2023-01-01 08:10:37.050</td>\n",
       "      <td>-122.93</td>\n",
       "      <td>47.51</td>\n",
       "      <td>None</td>\n",
       "      <td>None</td>\n",
       "    </tr>\n",
       "    <tr>\n",
       "      <td>1</td>\n",
       "      <td>0.29</td>\n",
       "      <td>23 km ENE of Ashford, WA</td>\n",
       "      <td>2023-01-02 01:02:43.950</td>\n",
       "      <td>-121.76</td>\n",
       "      <td>46.85</td>\n",
       "      <td>None</td>\n",
       "      <td>None</td>\n",
       "    </tr>\n",
       "    <tr>\n",
       "      <td>2</td>\n",
       "      <td>0.2</td>\n",
       "      <td>23 km ENE of Ashford, WA</td>\n",
       "      <td>2023-01-02 12:05:01.420</td>\n",
       "      <td>-121.75</td>\n",
       "      <td>46.86</td>\n",
       "      <td>None</td>\n",
       "      <td>None</td>\n",
       "    </tr>\n",
       "    <tr>\n",
       "      <td>3</td>\n",
       "      <td>0.52</td>\n",
       "      <td>15 km NNE of Ashford, WA</td>\n",
       "      <td>2023-01-02 12:45:14.220</td>\n",
       "      <td>-121.95</td>\n",
       "      <td>46.89</td>\n",
       "      <td>None</td>\n",
       "      <td>None</td>\n",
       "    </tr>\n",
       "    <tr>\n",
       "      <td>4</td>\n",
       "      <td>1.56</td>\n",
       "      <td>0 km WSW of Esperance, WA</td>\n",
       "      <td>2023-01-02 13:19:27.200</td>\n",
       "      <td>-122.36</td>\n",
       "      <td>47.79</td>\n",
       "      <td>None</td>\n",
       "      <td>None</td>\n",
       "    </tr>\n",
       "  </tbody>\n",
       "</table>"
      ],
      "text/plain": [
       "   id  magnitude                   location               timestamp  \\\n",
       "0   0       1.15    10 km NW of Belfair, WA 2023-01-01 08:10:37.050   \n",
       "1   1       0.29   23 km ENE of Ashford, WA 2023-01-02 01:02:43.950   \n",
       "2   2       0.20   23 km ENE of Ashford, WA 2023-01-02 12:05:01.420   \n",
       "3   3       0.52   15 km NNE of Ashford, WA 2023-01-02 12:45:14.220   \n",
       "4   4       1.56  0 km WSW of Esperance, WA 2023-01-02 13:19:27.200   \n",
       "\n",
       "   longitude  latitude  note contact_email  \n",
       "0    -122.93     47.51  None          None  \n",
       "1    -121.76     46.85  None          None  \n",
       "2    -121.75     46.86  None          None  \n",
       "3    -121.95     46.89  None          None  \n",
       "4    -122.36     47.79  None          None  "
      ]
     },
     "execution_count": 37,
     "metadata": {},
     "output_type": "execute_result"
    }
   ],
   "source": [
    "eq_t.head(5)"
   ]
  },
  {
   "cell_type": "markdown",
   "metadata": {},
   "source": [
    "Notice that in all cases, the `update()` clause takes a Python dictionary, but its values can be either constants such as `'contact@pixeltable.com'`, or more complex expressions such as `eq_t.location.replace('Washington', 'WA')`. Also notice that if `update()` appears without a `where()` clause, then every row in the table will be updated, as in the preceding example.\n",
    "\n",
    "### Batch Updates\n",
    "\n",
    "The `batch_update()` method provides an alternative way to update multiple rows with different values. With a `batch_update()`, the contents of each row are specified by individual `dict`s, rather than according to a formula. Here's a toy example that shows `batch_update()` in action."
   ]
  },
  {
   "cell_type": "code",
   "execution_count": 38,
   "metadata": {},
   "outputs": [
    {
     "data": {
      "text/plain": [
       "UpdateStatus(num_rows=3, num_computed_values=0, num_excs=0, updated_cols=['earthquakes.note'], cols_with_excs=[])"
      ]
     },
     "execution_count": 38,
     "metadata": {},
     "output_type": "execute_result"
    }
   ],
   "source": [
    "updates = [\n",
    "    {'id': 500, 'note': 'This is an example note.'},\n",
    "    {'id': 501, 'note': 'This is a different note.'},\n",
    "    {'id': 502, 'note': 'A third note, unrelated to the others.'}\n",
    "]\n",
    "eq_t.batch_update(updates)"
   ]
  },
  {
   "cell_type": "code",
   "execution_count": 39,
   "metadata": {},
   "outputs": [
    {
     "data": {
      "text/html": [
       "<table border=\"1\" class=\"dataframe\">\n",
       "  <thead>\n",
       "    <tr style=\"text-align: right;\">\n",
       "      <th>id</th>\n",
       "      <th>magnitude</th>\n",
       "      <th>note</th>\n",
       "      <th>contact_email</th>\n",
       "    </tr>\n",
       "  </thead>\n",
       "  <tbody>\n",
       "    <tr>\n",
       "      <td>500</td>\n",
       "      <td>0.75</td>\n",
       "      <td>This is an example note.</td>\n",
       "      <td>None</td>\n",
       "    </tr>\n",
       "    <tr>\n",
       "      <td>501</td>\n",
       "      <td>0.23</td>\n",
       "      <td>This is a different note.</td>\n",
       "      <td>None</td>\n",
       "    </tr>\n",
       "    <tr>\n",
       "      <td>502</td>\n",
       "      <td>0.43</td>\n",
       "      <td>A third note, unrelated to the others.</td>\n",
       "      <td>None</td>\n",
       "    </tr>\n",
       "    <tr>\n",
       "      <td>503</td>\n",
       "      <td>0.31</td>\n",
       "      <td>None</td>\n",
       "      <td>None</td>\n",
       "    </tr>\n",
       "    <tr>\n",
       "      <td>504</td>\n",
       "      <td>0.35</td>\n",
       "      <td>None</td>\n",
       "      <td>None</td>\n",
       "    </tr>\n",
       "  </tbody>\n",
       "</table>"
      ],
      "text/plain": [
       "    id  magnitude                                    note contact_email\n",
       "0  500       0.75                This is an example note.          None\n",
       "1  501       0.23               This is a different note.          None\n",
       "2  502       0.43  A third note, unrelated to the others.          None\n",
       "3  503       0.31                                    None          None\n",
       "4  504       0.35                                    None          None"
      ]
     },
     "execution_count": 39,
     "metadata": {},
     "output_type": "execute_result"
    }
   ],
   "source": [
    "eq_t.where(eq_t.id >= 500).select(eq_t.id, eq_t.magnitude, eq_t.note, eq_t.contact_email).head(5)"
   ]
  },
  {
   "cell_type": "markdown",
   "metadata": {},
   "source": [
    "### Deleting Rows\n",
    "\n",
    "To delete rows from a table, use the `delete()` method."
   ]
  },
  {
   "cell_type": "code",
   "execution_count": 40,
   "metadata": {},
   "outputs": [
    {
     "data": {
      "text/plain": [
       "UpdateStatus(num_rows=587, num_computed_values=0, num_excs=0, updated_cols=[], cols_with_excs=[])"
      ]
     },
     "execution_count": 40,
     "metadata": {},
     "output_type": "execute_result"
    }
   ],
   "source": [
    "# Delete all rows in 2024\n",
    "\n",
    "eq_t.where(eq_t.timestamp >= '2024-01-01').delete()"
   ]
  },
  {
   "cell_type": "code",
   "execution_count": 41,
   "metadata": {},
   "outputs": [
    {
     "data": {
      "text/plain": [
       "1236"
      ]
     },
     "execution_count": 41,
     "metadata": {},
     "output_type": "execute_result"
    }
   ],
   "source": [
    "eq_t.count()  # How many are left after deleting?"
   ]
  },
  {
   "cell_type": "markdown",
   "metadata": {},
   "source": [
    "Don't forget to specify a `where()` clause when using `delete()`! If you run `delete()` without a `where()` clause, the entire contents of the table will be deleted."
   ]
  },
  {
   "cell_type": "code",
   "execution_count": 42,
   "metadata": {},
   "outputs": [
    {
     "data": {
      "text/plain": [
       "UpdateStatus(num_rows=1236, num_computed_values=0, num_excs=0, updated_cols=[], cols_with_excs=[])"
      ]
     },
     "execution_count": 42,
     "metadata": {},
     "output_type": "execute_result"
    }
   ],
   "source": [
    "eq_t.delete()"
   ]
  },
  {
   "cell_type": "code",
   "execution_count": 43,
   "metadata": {},
   "outputs": [
    {
     "data": {
      "text/plain": [
       "0"
      ]
     },
     "execution_count": 43,
     "metadata": {},
     "output_type": "execute_result"
    }
   ],
   "source": [
    "eq_t.count()"
   ]
  },
  {
   "cell_type": "markdown",
   "metadata": {},
   "source": [
    "### Table Versioning\n",
    "\n",
    "Every table in Pixeltable is versioned: some or all of its modification history is preserved. If you make a mistake, you can always call `revert()` to undo the previous change to a table. Let's try it out: we'll use it to revert the successive `delete()` calls that we just executed."
   ]
  },
  {
   "cell_type": "code",
   "execution_count": 44,
   "metadata": {},
   "outputs": [],
   "source": [
    "eq_t.revert()"
   ]
  },
  {
   "cell_type": "code",
   "execution_count": 45,
   "metadata": {},
   "outputs": [
    {
     "data": {
      "text/plain": [
       "1236"
      ]
     },
     "execution_count": 45,
     "metadata": {},
     "output_type": "execute_result"
    }
   ],
   "source": [
    "eq_t.count()"
   ]
  },
  {
   "cell_type": "code",
   "execution_count": 46,
   "metadata": {},
   "outputs": [],
   "source": [
    "eq_t.revert()"
   ]
  },
  {
   "cell_type": "code",
   "execution_count": 47,
   "metadata": {},
   "outputs": [
    {
     "data": {
      "text/plain": [
       "1823"
      ]
     },
     "execution_count": 47,
     "metadata": {},
     "output_type": "execute_result"
    }
   ],
   "source": [
    "eq_t.count()"
   ]
  },
  {
   "cell_type": "markdown",
   "metadata": {},
   "source": [
    "<div class=\"alert alert-block alert-info\">\n",
    "Be aware: calling <code>revert()</code> cannot be undone!\n",
    "</div>"
   ]
  },
  {
   "cell_type": "markdown",
   "metadata": {},
   "source": [
    "### Multimodal Data\n",
    "\n",
    "In addition to the structured data we've been exploring so far in this tutorial, Pixeltable has native support for __media types__: images, video, audio, and unstructured documents such as pdfs. Media support is one of Pixeltable's core capabilities, and we'll have much more to say about it the upcoming [Unstructured Data](...) section of this tutorial. For now, we'll just give one example to show how media data lives side-by-side with structured data in Pixeltable."
   ]
  },
  {
   "cell_type": "code",
   "execution_count": 48,
   "metadata": {},
   "outputs": [
    {
     "name": "stdout",
     "output_type": "stream",
     "text": [
      "Added 1823 column values with 0 errors.\n"
     ]
    },
    {
     "data": {
      "text/html": [
       "<style type=\"text/css\">\n",
       "#T_2faf0 th {\n",
       "  text-align: center;\n",
       "}\n",
       "#T_2faf0_row0_col0, #T_2faf0_row0_col1, #T_2faf0_row0_col2, #T_2faf0_row1_col0, #T_2faf0_row1_col1, #T_2faf0_row1_col2, #T_2faf0_row2_col0, #T_2faf0_row2_col1, #T_2faf0_row2_col2, #T_2faf0_row3_col0, #T_2faf0_row3_col1, #T_2faf0_row3_col2, #T_2faf0_row4_col0, #T_2faf0_row4_col1, #T_2faf0_row4_col2, #T_2faf0_row5_col0, #T_2faf0_row5_col1, #T_2faf0_row5_col2, #T_2faf0_row6_col0, #T_2faf0_row6_col1, #T_2faf0_row6_col2, #T_2faf0_row7_col0, #T_2faf0_row7_col1, #T_2faf0_row7_col2, #T_2faf0_row8_col0, #T_2faf0_row8_col1, #T_2faf0_row8_col2 {\n",
       "  white-space: pre-wrap;\n",
       "  text-align: left;\n",
       "}\n",
       "</style>\n",
       "<table id=\"T_2faf0\">\n",
       "  <thead>\n",
       "    <tr>\n",
       "      <th id=\"T_2faf0_level0_col0\" class=\"col_heading level0 col0\" >Column Name</th>\n",
       "      <th id=\"T_2faf0_level0_col1\" class=\"col_heading level0 col1\" >Type</th>\n",
       "      <th id=\"T_2faf0_level0_col2\" class=\"col_heading level0 col2\" >Computed With</th>\n",
       "    </tr>\n",
       "  </thead>\n",
       "  <tbody>\n",
       "    <tr>\n",
       "      <td id=\"T_2faf0_row0_col0\" class=\"data row0 col0\" >id</td>\n",
       "      <td id=\"T_2faf0_row0_col1\" class=\"data row0 col1\" >int</td>\n",
       "      <td id=\"T_2faf0_row0_col2\" class=\"data row0 col2\" ></td>\n",
       "    </tr>\n",
       "    <tr>\n",
       "      <td id=\"T_2faf0_row1_col0\" class=\"data row1 col0\" >magnitude</td>\n",
       "      <td id=\"T_2faf0_row1_col1\" class=\"data row1 col1\" >float</td>\n",
       "      <td id=\"T_2faf0_row1_col2\" class=\"data row1 col2\" ></td>\n",
       "    </tr>\n",
       "    <tr>\n",
       "      <td id=\"T_2faf0_row2_col0\" class=\"data row2 col0\" >location</td>\n",
       "      <td id=\"T_2faf0_row2_col1\" class=\"data row2 col1\" >string</td>\n",
       "      <td id=\"T_2faf0_row2_col2\" class=\"data row2 col2\" ></td>\n",
       "    </tr>\n",
       "    <tr>\n",
       "      <td id=\"T_2faf0_row3_col0\" class=\"data row3 col0\" >timestamp</td>\n",
       "      <td id=\"T_2faf0_row3_col1\" class=\"data row3 col1\" >timestamp</td>\n",
       "      <td id=\"T_2faf0_row3_col2\" class=\"data row3 col2\" ></td>\n",
       "    </tr>\n",
       "    <tr>\n",
       "      <td id=\"T_2faf0_row4_col0\" class=\"data row4 col0\" >longitude</td>\n",
       "      <td id=\"T_2faf0_row4_col1\" class=\"data row4 col1\" >float</td>\n",
       "      <td id=\"T_2faf0_row4_col2\" class=\"data row4 col2\" ></td>\n",
       "    </tr>\n",
       "    <tr>\n",
       "      <td id=\"T_2faf0_row5_col0\" class=\"data row5 col0\" >latitude</td>\n",
       "      <td id=\"T_2faf0_row5_col1\" class=\"data row5 col1\" >float</td>\n",
       "      <td id=\"T_2faf0_row5_col2\" class=\"data row5 col2\" ></td>\n",
       "    </tr>\n",
       "    <tr>\n",
       "      <td id=\"T_2faf0_row6_col0\" class=\"data row6 col0\" >note</td>\n",
       "      <td id=\"T_2faf0_row6_col1\" class=\"data row6 col1\" >string</td>\n",
       "      <td id=\"T_2faf0_row6_col2\" class=\"data row6 col2\" ></td>\n",
       "    </tr>\n",
       "    <tr>\n",
       "      <td id=\"T_2faf0_row7_col0\" class=\"data row7 col0\" >contact_email</td>\n",
       "      <td id=\"T_2faf0_row7_col1\" class=\"data row7 col1\" >string</td>\n",
       "      <td id=\"T_2faf0_row7_col2\" class=\"data row7 col2\" ></td>\n",
       "    </tr>\n",
       "    <tr>\n",
       "      <td id=\"T_2faf0_row8_col0\" class=\"data row8 col0\" >map_image</td>\n",
       "      <td id=\"T_2faf0_row8_col1\" class=\"data row8 col1\" >image</td>\n",
       "      <td id=\"T_2faf0_row8_col2\" class=\"data row8 col2\" ></td>\n",
       "    </tr>\n",
       "  </tbody>\n",
       "</table>\n"
      ],
      "text/plain": [
       "<pandas.io.formats.style.Styler at 0x3242c6970>"
      ]
     },
     "metadata": {},
     "output_type": "display_data"
    }
   ],
   "source": [
    "eq_t['map_image'] = pxt.ImageType(nullable=True)  # Add a new `ImageType` column\n",
    "eq_t.describe()"
   ]
  },
  {
   "cell_type": "code",
   "execution_count": 49,
   "metadata": {},
   "outputs": [
    {
     "name": "stdout",
     "output_type": "stream",
     "text": [
      "Inserting rows into `earthquakes`: 1 rows [00:00, 615.00 rows/s]\n"
     ]
    },
    {
     "data": {
      "text/plain": [
       "UpdateStatus(num_rows=1, num_computed_values=0, num_excs=0, updated_cols=['earthquakes.map_image'], cols_with_excs=[])"
      ]
     },
     "execution_count": 49,
     "metadata": {},
     "output_type": "execute_result"
    }
   ],
   "source": [
    "# Update the row with id == 1002, adding an image to the `map_image` column\n",
    "\n",
    "eq_t.where(eq_t.id == 1002).update(\n",
    "    {'map_image': 'https://raw.githubusercontent.com/pixeltable/pixeltable/release/docs/source/data/port-townsend-map.jpeg'}\n",
    ")"
   ]
  },
  {
   "cell_type": "markdown",
   "metadata": {},
   "source": [
    "<div class=\"alert alert-block alert-info\">\n",
    "Note that in Pixeltable, you can always insert images into a table by giving the file path or URL of the image (as a string). It's not necessary to load the image first; Pixeltable will manage the loading and caching of images in the background. The same applies to other media data such as documents and videos.\n",
    "</div>\n",
    "\n",
    "Pixeltable will also embed image thumbnails in your notebook when you do a query:"
   ]
  },
  {
   "cell_type": "code",
   "execution_count": 50,
   "metadata": {},
   "outputs": [
    {
     "data": {
      "text/html": [
       "<table border=\"1\" class=\"dataframe\">\n",
       "  <thead>\n",
       "    <tr style=\"text-align: right;\">\n",
       "      <th>id</th>\n",
       "      <th>magnitude</th>\n",
       "      <th>location</th>\n",
       "      <th>map_image</th>\n",
       "    </tr>\n",
       "  </thead>\n",
       "  <tbody>\n",
       "    <tr>\n",
       "      <td>1000</td>\n",
       "      <td>-0.02</td>\n",
       "      <td>17 km SSE of Carbonado, WA</td>\n",
       "      <td>None</td>\n",
       "    </tr>\n",
       "    <tr>\n",
       "      <td>1001</td>\n",
       "      <td>0.82</td>\n",
       "      <td>22 km ENE of Ashford, WA</td>\n",
       "      <td>None</td>\n",
       "    </tr>\n",
       "    <tr>\n",
       "      <td>1002</td>\n",
       "      <td>4.3</td>\n",
       "      <td>Port Townsend, WA</td>\n",
       "      <td><div class=\"pxt_image\" style=\"width:240px;\">\n",
       "                <img src=\"data:image/jpeg;base64,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\" width=\"240\" />\n",
       "            </div></td>\n",
       "    </tr>\n",
       "    <tr>\n",
       "      <td>1003</td>\n",
       "      <td>1.04</td>\n",
       "      <td>WA</td>\n",
       "      <td>None</td>\n",
       "    </tr>\n",
       "    <tr>\n",
       "      <td>1004</td>\n",
       "      <td>0.79</td>\n",
       "      <td>24 km ENE of Ashford, WA</td>\n",
       "      <td>None</td>\n",
       "    </tr>\n",
       "  </tbody>\n",
       "</table>"
      ],
      "text/plain": [
       "     id  magnitude                    location  \\\n",
       "0  1000      -0.02  17 km SSE of Carbonado, WA   \n",
       "1  1001       0.82    22 km ENE of Ashford, WA   \n",
       "2  1002       4.30           Port Townsend, WA   \n",
       "3  1003       1.04                          WA   \n",
       "4  1004       0.79    24 km ENE of Ashford, WA   \n",
       "\n",
       "                                           map_image  \n",
       "0                                               None  \n",
       "1                                               None  \n",
       "2  <PIL.JpegImagePlugin.JpegImageFile image mode=...  \n",
       "3                                               None  \n",
       "4                                               None  "
      ]
     },
     "execution_count": 50,
     "metadata": {},
     "output_type": "execute_result"
    }
   ],
   "source": [
    "eq_t.where(eq_t.id >= 1000).select(eq_t.id, eq_t.magnitude, eq_t.location, eq_t.map_image).head(5)"
   ]
  },
  {
   "cell_type": "markdown",
   "metadata": {},
   "source": [
    "### Directory Hierarchies\n",
    "\n",
    "So far we've only seen an example of a single directory with a table inside it, but one can also put directories inside other directories, in whatever fashion makes the most sense for a given application."
   ]
  },
  {
   "cell_type": "code",
   "execution_count": 51,
   "metadata": {},
   "outputs": [
    {
     "name": "stdout",
     "output_type": "stream",
     "text": [
      "Created directory `fundamentals.subdir`.\n",
      "Created directory `fundamentals.subdir.subsubdir`.\n",
      "Created table `my_table`.\n"
     ]
    },
    {
     "data": {
      "text/html": [
       "<style type=\"text/css\">\n",
       "#T_d8f6f th {\n",
       "  text-align: center;\n",
       "}\n",
       "#T_d8f6f_row0_col0, #T_d8f6f_row0_col1, #T_d8f6f_row0_col2 {\n",
       "  white-space: pre-wrap;\n",
       "  text-align: left;\n",
       "}\n",
       "</style>\n",
       "<table id=\"T_d8f6f\">\n",
       "  <thead>\n",
       "    <tr>\n",
       "      <th id=\"T_d8f6f_level0_col0\" class=\"col_heading level0 col0\" >Column Name</th>\n",
       "      <th id=\"T_d8f6f_level0_col1\" class=\"col_heading level0 col1\" >Type</th>\n",
       "      <th id=\"T_d8f6f_level0_col2\" class=\"col_heading level0 col2\" >Computed With</th>\n",
       "    </tr>\n",
       "  </thead>\n",
       "  <tbody>\n",
       "    <tr>\n",
       "      <td id=\"T_d8f6f_row0_col0\" class=\"data row0 col0\" >my_col</td>\n",
       "      <td id=\"T_d8f6f_row0_col1\" class=\"data row0 col1\" >string</td>\n",
       "      <td id=\"T_d8f6f_row0_col2\" class=\"data row0 col2\" ></td>\n",
       "    </tr>\n",
       "  </tbody>\n",
       "</table>\n"
      ],
      "text/plain": [
       "table 'my_table'\n",
       "\n",
       "Column Name   Type Computed With\n",
       "     my_col string              "
      ]
     },
     "execution_count": 51,
     "metadata": {},
     "output_type": "execute_result"
    }
   ],
   "source": [
    "pxt.create_dir('fundamentals.subdir')\n",
    "pxt.create_dir('fundamentals.subdir.subsubdir')\n",
    "pxt.create_table('fundamentals.subdir.subsubdir.my_table', {'my_col': pxt.StringType()})"
   ]
  },
  {
   "cell_type": "markdown",
   "metadata": {},
   "source": [
    "### Deleting Columns, Tables, and Directories"
   ]
  },
  {
   "cell_type": "markdown",
   "metadata": {},
   "source": [
    "`drop_column()`, `drop_table()`, and `drop_dir()` are used to delete columns, tables, and directories, respectively."
   ]
  },
  {
   "cell_type": "code",
   "execution_count": 52,
   "metadata": {},
   "outputs": [],
   "source": [
    "# Delete the `contact_email` column\n",
    "\n",
    "eq_t.drop_column('contact_email')"
   ]
  },
  {
   "cell_type": "code",
   "execution_count": 53,
   "metadata": {},
   "outputs": [
    {
     "data": {
      "text/html": [
       "<style type=\"text/css\">\n",
       "#T_490dc th {\n",
       "  text-align: center;\n",
       "}\n",
       "#T_490dc_row0_col0, #T_490dc_row0_col1, #T_490dc_row0_col2, #T_490dc_row1_col0, #T_490dc_row1_col1, #T_490dc_row1_col2, #T_490dc_row2_col0, #T_490dc_row2_col1, #T_490dc_row2_col2, #T_490dc_row3_col0, #T_490dc_row3_col1, #T_490dc_row3_col2, #T_490dc_row4_col0, #T_490dc_row4_col1, #T_490dc_row4_col2, #T_490dc_row5_col0, #T_490dc_row5_col1, #T_490dc_row5_col2, #T_490dc_row6_col0, #T_490dc_row6_col1, #T_490dc_row6_col2, #T_490dc_row7_col0, #T_490dc_row7_col1, #T_490dc_row7_col2 {\n",
       "  white-space: pre-wrap;\n",
       "  text-align: left;\n",
       "}\n",
       "</style>\n",
       "<table id=\"T_490dc\">\n",
       "  <thead>\n",
       "    <tr>\n",
       "      <th id=\"T_490dc_level0_col0\" class=\"col_heading level0 col0\" >Column Name</th>\n",
       "      <th id=\"T_490dc_level0_col1\" class=\"col_heading level0 col1\" >Type</th>\n",
       "      <th id=\"T_490dc_level0_col2\" class=\"col_heading level0 col2\" >Computed With</th>\n",
       "    </tr>\n",
       "  </thead>\n",
       "  <tbody>\n",
       "    <tr>\n",
       "      <td id=\"T_490dc_row0_col0\" class=\"data row0 col0\" >id</td>\n",
       "      <td id=\"T_490dc_row0_col1\" class=\"data row0 col1\" >int</td>\n",
       "      <td id=\"T_490dc_row0_col2\" class=\"data row0 col2\" ></td>\n",
       "    </tr>\n",
       "    <tr>\n",
       "      <td id=\"T_490dc_row1_col0\" class=\"data row1 col0\" >magnitude</td>\n",
       "      <td id=\"T_490dc_row1_col1\" class=\"data row1 col1\" >float</td>\n",
       "      <td id=\"T_490dc_row1_col2\" class=\"data row1 col2\" ></td>\n",
       "    </tr>\n",
       "    <tr>\n",
       "      <td id=\"T_490dc_row2_col0\" class=\"data row2 col0\" >location</td>\n",
       "      <td id=\"T_490dc_row2_col1\" class=\"data row2 col1\" >string</td>\n",
       "      <td id=\"T_490dc_row2_col2\" class=\"data row2 col2\" ></td>\n",
       "    </tr>\n",
       "    <tr>\n",
       "      <td id=\"T_490dc_row3_col0\" class=\"data row3 col0\" >timestamp</td>\n",
       "      <td id=\"T_490dc_row3_col1\" class=\"data row3 col1\" >timestamp</td>\n",
       "      <td id=\"T_490dc_row3_col2\" class=\"data row3 col2\" ></td>\n",
       "    </tr>\n",
       "    <tr>\n",
       "      <td id=\"T_490dc_row4_col0\" class=\"data row4 col0\" >longitude</td>\n",
       "      <td id=\"T_490dc_row4_col1\" class=\"data row4 col1\" >float</td>\n",
       "      <td id=\"T_490dc_row4_col2\" class=\"data row4 col2\" ></td>\n",
       "    </tr>\n",
       "    <tr>\n",
       "      <td id=\"T_490dc_row5_col0\" class=\"data row5 col0\" >latitude</td>\n",
       "      <td id=\"T_490dc_row5_col1\" class=\"data row5 col1\" >float</td>\n",
       "      <td id=\"T_490dc_row5_col2\" class=\"data row5 col2\" ></td>\n",
       "    </tr>\n",
       "    <tr>\n",
       "      <td id=\"T_490dc_row6_col0\" class=\"data row6 col0\" >note</td>\n",
       "      <td id=\"T_490dc_row6_col1\" class=\"data row6 col1\" >string</td>\n",
       "      <td id=\"T_490dc_row6_col2\" class=\"data row6 col2\" ></td>\n",
       "    </tr>\n",
       "    <tr>\n",
       "      <td id=\"T_490dc_row7_col0\" class=\"data row7 col0\" >map_image</td>\n",
       "      <td id=\"T_490dc_row7_col1\" class=\"data row7 col1\" >image</td>\n",
       "      <td id=\"T_490dc_row7_col2\" class=\"data row7 col2\" ></td>\n",
       "    </tr>\n",
       "  </tbody>\n",
       "</table>\n"
      ],
      "text/plain": [
       "<pandas.io.formats.style.Styler at 0x3246e1820>"
      ]
     },
     "metadata": {},
     "output_type": "display_data"
    }
   ],
   "source": [
    "eq_t.describe()"
   ]
  },
  {
   "cell_type": "code",
   "execution_count": 54,
   "metadata": {},
   "outputs": [],
   "source": [
    "# Delete the entire table (cannot be reverted!)\n",
    "\n",
    "pxt.drop_table('fundamentals.earthquakes')"
   ]
  },
  {
   "cell_type": "code",
   "execution_count": 55,
   "metadata": {},
   "outputs": [],
   "source": [
    "# Delete the entire directory and all its contents, including any nested\n",
    "# subdirectories (cannot be reverted!)\n",
    "\n",
    "pxt.drop_dir('fundamentals', force=True)"
   ]
  },
  {
   "cell_type": "markdown",
   "metadata": {},
   "source": [
    "That's the end of this section of the Fundamentals tutorial! Continue on to the next section:\n",
    "- [Computed Columns and Expressions]()"
   ]
  }
 ],
 "metadata": {
  "colab": {
   "provenance": []
  },
  "kernelspec": {
   "display_name": "Python 3 (ipykernel)",
   "language": "python",
   "name": "python3"
  },
  "language_info": {
   "codemirror_mode": {
    "name": "ipython",
    "version": 3
   },
   "file_extension": ".py",
   "mimetype": "text/x-python",
   "name": "python",
   "nbconvert_exporter": "python",
   "pygments_lexer": "ipython3",
   "version": "3.9.19"
  }
 },
 "nbformat": 4,
 "nbformat_minor": 4
}
