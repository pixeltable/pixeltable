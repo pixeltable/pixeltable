{
 "cells": [
  {
   "cell_type": "markdown",
   "id": "c6580207-e8eb-4730-9768-ff6a3b2f6004",
   "metadata": {},
   "source": [
    "[![Kaggle](https://kaggle.com/static/images/open-in-kaggle.svg)](https://kaggle.com/kernels/welcome?src=https://github.com/pixeltable/pixeltable/blob/release/docs/release/fundamentals/computed-columns.ipynb)&nbsp;&nbsp;\n",
    "[![Colab](https://colab.research.google.com/assets/colab-badge.svg)](https://colab.research.google.com/github/pixeltable/pixeltable/blob/release/docs/release/fundamentals/computed-columns.ipynb)&nbsp;&nbsp;\n",
    "<a href=\"https://raw.githubusercontent.com/pixeltable/pixeltable/release/docs/release/fundamentals/computed-columns.ipynb\" download><img src=\"https://img.shields.io/badge/%E2%AC%87-Download%20Notebook-blue\" alt=\"Download Notebook\"></a>\n",
    "\n",
    "# Pixeltable Fundamentals\n",
    "\n",
    "## Section 2: Computed Columns and Expressions\n",
    "\n",
    "Welcome to Section 2 of the [Pixeltable Fundamentals](...) tutorial, __Computed Columns and Expressions__.\n",
    "\n",
    "In the previous section, [Tables and Data Operations](...), we learned how to create tables, populate them with data, and query and manipulate their contents. In this section, we'll introduce one of Pixeltable's most essential and powerful concepts: computed columns.\n",
    "\n",
    "First, let's ensure the Pixeltable library is installed in your environment."
   ]
  },
  {
   "cell_type": "code",
   "execution_count": null,
   "id": "3b801006-8738-485d-97ca-58d698e02f7f",
   "metadata": {},
   "outputs": [],
   "source": [
    "%pip install -qU pixeltable"
   ]
  },
  {
   "cell_type": "markdown",
   "id": "50e33d13-f9ee-46de-b1b9-ef263c5d2f23",
   "metadata": {},
   "source": [
    "### Computed Columns"
   ]
  },
  {
   "cell_type": "markdown",
   "id": "c0c8fa1b-9037-4f0f-8992-05eeada6e9fb",
   "metadata": {},
   "source": [
    "Let's start with a simple example that illustrates the basic concepts behind computed columns. We'll use a table of world population data for our example."
   ]
  },
  {
   "cell_type": "code",
   "execution_count": 1,
   "id": "9ce15344-3990-4f43-9dc9-df3874cbb647",
   "metadata": {},
   "outputs": [
    {
     "name": "stdout",
     "output_type": "stream",
     "text": [
      "Connected to Pixeltable database at: postgresql://postgres:@/pixeltable?host=/Users/asiegel/.pixeltable/pgdata\n",
      "Created directory `fundamentals`.\n",
      "Created table `population`.\n",
      "Inserting rows into `population`: 234 rows [00:00, 10583.91 rows/s]\n",
      "Inserted 234 rows with 0 errors.\n"
     ]
    }
   ],
   "source": [
    "import pixeltable as pxt\n",
    "\n",
    "pxt.drop_dir('fundamentals', force=True)\n",
    "pxt.create_dir('fundamentals')\n",
    "pop_t = pxt.io.import_csv(\n",
    "    'fundamentals.population',\n",
    "    '/Users/asiegel/Dropbox/workspace/pixeltable/pixeltable/docs/source/data/world-population-data.csv'\n",
    ")"
   ]
  },
  {
   "cell_type": "markdown",
   "id": "e1ceaafb-0173-4c98-aa1c-e5e4d1c31299",
   "metadata": {},
   "source": [
    "Remember that `pop_t.head()` returns the first few rows of a table, and typing the table name `pop_t` by itself gives the schema."
   ]
  },
  {
   "cell_type": "code",
   "execution_count": 2,
   "id": "f398a3d0-21e3-4b7f-850a-dfb2dd642c9c",
   "metadata": {},
   "outputs": [
    {
     "data": {
      "text/html": [
       "<table border=\"1\" class=\"dataframe\">\n",
       "  <thead>\n",
       "    <tr style=\"text-align: right;\">\n",
       "      <th>cca3</th>\n",
       "      <th>country</th>\n",
       "      <th>continent</th>\n",
       "      <th>pop_2023</th>\n",
       "      <th>pop_2022</th>\n",
       "      <th>pop_2000</th>\n",
       "      <th>area__km__</th>\n",
       "    </tr>\n",
       "  </thead>\n",
       "  <tbody>\n",
       "    <tr>\n",
       "      <td>IND</td>\n",
       "      <td>India</td>\n",
       "      <td>Asia</td>\n",
       "      <td>1428627663</td>\n",
       "      <td>1417173173</td>\n",
       "      <td>1059633675</td>\n",
       "      <td>3287590.</td>\n",
       "    </tr>\n",
       "    <tr>\n",
       "      <td>CHN</td>\n",
       "      <td>China</td>\n",
       "      <td>Asia</td>\n",
       "      <td>1425671352</td>\n",
       "      <td>1425887337</td>\n",
       "      <td>1264099069</td>\n",
       "      <td>9706961.</td>\n",
       "    </tr>\n",
       "    <tr>\n",
       "      <td>USA</td>\n",
       "      <td>United States</td>\n",
       "      <td>North America</td>\n",
       "      <td>339996563</td>\n",
       "      <td>338289857</td>\n",
       "      <td>282398554</td>\n",
       "      <td>9372610.</td>\n",
       "    </tr>\n",
       "    <tr>\n",
       "      <td>IDN</td>\n",
       "      <td>Indonesia</td>\n",
       "      <td>Asia</td>\n",
       "      <td>277534122</td>\n",
       "      <td>275501339</td>\n",
       "      <td>214072421</td>\n",
       "      <td>1904569.</td>\n",
       "    </tr>\n",
       "    <tr>\n",
       "      <td>PAK</td>\n",
       "      <td>Pakistan</td>\n",
       "      <td>Asia</td>\n",
       "      <td>240485658</td>\n",
       "      <td>235824862</td>\n",
       "      <td>154369924</td>\n",
       "      <td>881912.</td>\n",
       "    </tr>\n",
       "  </tbody>\n",
       "</table>"
      ],
      "text/plain": [
       "  cca3        country      continent    pop_2023    pop_2022    pop_2000  \\\n",
       "0  IND          India           Asia  1428627663  1417173173  1059633675   \n",
       "1  CHN          China           Asia  1425671352  1425887337  1264099069   \n",
       "2  USA  United States  North America   339996563   338289857   282398554   \n",
       "3  IDN      Indonesia           Asia   277534122   275501339   214072421   \n",
       "4  PAK       Pakistan           Asia   240485658   235824862   154369924   \n",
       "\n",
       "   area__km__  \n",
       "0   3287590.0  \n",
       "1   9706961.0  \n",
       "2   9372610.0  \n",
       "3   1904569.0  \n",
       "4    881912.0  "
      ]
     },
     "execution_count": 2,
     "metadata": {},
     "output_type": "execute_result"
    }
   ],
   "source": [
    "pop_t.head(5)"
   ]
  },
  {
   "cell_type": "code",
   "execution_count": 3,
   "id": "8e21cc05-cdbf-4e0c-be5d-baa723f39bb2",
   "metadata": {},
   "outputs": [
    {
     "data": {
      "text/html": [
       "<style type=\"text/css\">\n",
       "#T_85d3a th {\n",
       "  text-align: center;\n",
       "}\n",
       "#T_85d3a_row0_col0, #T_85d3a_row0_col1, #T_85d3a_row0_col2, #T_85d3a_row1_col0, #T_85d3a_row1_col1, #T_85d3a_row1_col2, #T_85d3a_row2_col0, #T_85d3a_row2_col1, #T_85d3a_row2_col2, #T_85d3a_row3_col0, #T_85d3a_row3_col1, #T_85d3a_row3_col2, #T_85d3a_row4_col0, #T_85d3a_row4_col1, #T_85d3a_row4_col2, #T_85d3a_row5_col0, #T_85d3a_row5_col1, #T_85d3a_row5_col2, #T_85d3a_row6_col0, #T_85d3a_row6_col1, #T_85d3a_row6_col2 {\n",
       "  white-space: pre-wrap;\n",
       "  text-align: left;\n",
       "}\n",
       "</style>\n",
       "<table id=\"T_85d3a\">\n",
       "  <thead>\n",
       "    <tr>\n",
       "      <th id=\"T_85d3a_level0_col0\" class=\"col_heading level0 col0\" >Column Name</th>\n",
       "      <th id=\"T_85d3a_level0_col1\" class=\"col_heading level0 col1\" >Type</th>\n",
       "      <th id=\"T_85d3a_level0_col2\" class=\"col_heading level0 col2\" >Computed With</th>\n",
       "    </tr>\n",
       "  </thead>\n",
       "  <tbody>\n",
       "    <tr>\n",
       "      <td id=\"T_85d3a_row0_col0\" class=\"data row0 col0\" >cca3</td>\n",
       "      <td id=\"T_85d3a_row0_col1\" class=\"data row0 col1\" >string</td>\n",
       "      <td id=\"T_85d3a_row0_col2\" class=\"data row0 col2\" ></td>\n",
       "    </tr>\n",
       "    <tr>\n",
       "      <td id=\"T_85d3a_row1_col0\" class=\"data row1 col0\" >country</td>\n",
       "      <td id=\"T_85d3a_row1_col1\" class=\"data row1 col1\" >string</td>\n",
       "      <td id=\"T_85d3a_row1_col2\" class=\"data row1 col2\" ></td>\n",
       "    </tr>\n",
       "    <tr>\n",
       "      <td id=\"T_85d3a_row2_col0\" class=\"data row2 col0\" >continent</td>\n",
       "      <td id=\"T_85d3a_row2_col1\" class=\"data row2 col1\" >string</td>\n",
       "      <td id=\"T_85d3a_row2_col2\" class=\"data row2 col2\" ></td>\n",
       "    </tr>\n",
       "    <tr>\n",
       "      <td id=\"T_85d3a_row3_col0\" class=\"data row3 col0\" >pop_2023</td>\n",
       "      <td id=\"T_85d3a_row3_col1\" class=\"data row3 col1\" >int</td>\n",
       "      <td id=\"T_85d3a_row3_col2\" class=\"data row3 col2\" ></td>\n",
       "    </tr>\n",
       "    <tr>\n",
       "      <td id=\"T_85d3a_row4_col0\" class=\"data row4 col0\" >pop_2022</td>\n",
       "      <td id=\"T_85d3a_row4_col1\" class=\"data row4 col1\" >int</td>\n",
       "      <td id=\"T_85d3a_row4_col2\" class=\"data row4 col2\" ></td>\n",
       "    </tr>\n",
       "    <tr>\n",
       "      <td id=\"T_85d3a_row5_col0\" class=\"data row5 col0\" >pop_2000</td>\n",
       "      <td id=\"T_85d3a_row5_col1\" class=\"data row5 col1\" >int</td>\n",
       "      <td id=\"T_85d3a_row5_col2\" class=\"data row5 col2\" ></td>\n",
       "    </tr>\n",
       "    <tr>\n",
       "      <td id=\"T_85d3a_row6_col0\" class=\"data row6 col0\" >area__km__</td>\n",
       "      <td id=\"T_85d3a_row6_col1\" class=\"data row6 col1\" >float</td>\n",
       "      <td id=\"T_85d3a_row6_col2\" class=\"data row6 col2\" ></td>\n",
       "    </tr>\n",
       "  </tbody>\n",
       "</table>\n"
      ],
      "text/plain": [
       "table 'population'\n",
       "\n",
       "Column Name   Type Computed With\n",
       "       cca3 string              \n",
       "    country string              \n",
       "  continent string              \n",
       "   pop_2023    int              \n",
       "   pop_2022    int              \n",
       "   pop_2000    int              \n",
       " area__km__  float              "
      ]
     },
     "execution_count": 3,
     "metadata": {},
     "output_type": "execute_result"
    }
   ],
   "source": [
    "pop_t"
   ]
  },
  {
   "cell_type": "markdown",
   "id": "512a5b14-998a-458f-8cd1-a8cec212c1b7",
   "metadata": {},
   "source": [
    "Now let's suppose we want to add a new column for the year-over-year population change from 2022 to 2023. In the previous tutorial section, [Tables and Data Operations](...), we saw how one might `select()` such a quantity into a Pixeltable `DataFrame`:"
   ]
  },
  {
   "cell_type": "code",
   "execution_count": 11,
   "id": "cb90fa27-d2dc-4b5f-8e8c-3ab554a831cf",
   "metadata": {},
   "outputs": [
    {
     "data": {
      "text/html": [
       "<table border=\"1\" class=\"dataframe\">\n",
       "  <thead>\n",
       "    <tr style=\"text-align: right;\">\n",
       "      <th>country</th>\n",
       "      <th>yoy_growth</th>\n",
       "    </tr>\n",
       "  </thead>\n",
       "  <tbody>\n",
       "    <tr>\n",
       "      <td>India</td>\n",
       "      <td>11454490</td>\n",
       "    </tr>\n",
       "    <tr>\n",
       "      <td>China</td>\n",
       "      <td>-215985</td>\n",
       "    </tr>\n",
       "    <tr>\n",
       "      <td>United States</td>\n",
       "      <td>1706706</td>\n",
       "    </tr>\n",
       "    <tr>\n",
       "      <td>Indonesia</td>\n",
       "      <td>2032783</td>\n",
       "    </tr>\n",
       "    <tr>\n",
       "      <td>Pakistan</td>\n",
       "      <td>4660796</td>\n",
       "    </tr>\n",
       "  </tbody>\n",
       "</table>"
      ],
      "text/plain": [
       "         country  yoy_growth\n",
       "0          India    11454490\n",
       "1          China     -215985\n",
       "2  United States     1706706\n",
       "3      Indonesia     2032783\n",
       "4       Pakistan     4660796"
      ]
     },
     "execution_count": 11,
     "metadata": {},
     "output_type": "execute_result"
    }
   ],
   "source": [
    "pop_t.select(pop_t.country, yoy_change=(pop_t.pop_2023 - pop_t.pop_2022)).head(5)"
   ]
  },
  {
   "cell_type": "markdown",
   "id": "9fb3220e-7577-4aa8-a51a-6565fde17689",
   "metadata": {},
   "source": [
    "A __computed column__ is a way of turning such a selection into a permanent part of the table. Here's how it works:"
   ]
  },
  {
   "cell_type": "code",
   "execution_count": 5,
   "id": "7e7b479e-221a-48ea-b334-e955645e1072",
   "metadata": {},
   "outputs": [
    {
     "name": "stdout",
     "output_type": "stream",
     "text": [
      "Added 234 column values with 0 errors.\n"
     ]
    },
    {
     "data": {
      "text/plain": [
       "UpdateStatus(num_rows=234, num_computed_values=234, num_excs=0, updated_cols=[], cols_with_excs=[])"
      ]
     },
     "execution_count": 5,
     "metadata": {},
     "output_type": "execute_result"
    }
   ],
   "source": [
    "pop_t.add_column(yoy_change=(pop_t.pop_2023 - pop_t.pop_2022))"
   ]
  },
  {
   "cell_type": "markdown",
   "id": "6e6ea02d-56e5-4407-a6fb-8ebf96e1dd61",
   "metadata": {},
   "source": [
    "As soon as the column is added, Pixeltable will (by default) automatically compute its value for all rows in the table, storing the results in the new column. If we now inspect the schema of `pop_t`, we see the new column and its definition."
   ]
  },
  {
   "cell_type": "code",
   "execution_count": 6,
   "id": "ec010d9b-cd9e-4040-93ef-8e008fce53e5",
   "metadata": {},
   "outputs": [
    {
     "data": {
      "text/html": [
       "<style type=\"text/css\">\n",
       "#T_060c2 th {\n",
       "  text-align: center;\n",
       "}\n",
       "#T_060c2_row0_col0, #T_060c2_row0_col1, #T_060c2_row0_col2, #T_060c2_row1_col0, #T_060c2_row1_col1, #T_060c2_row1_col2, #T_060c2_row2_col0, #T_060c2_row2_col1, #T_060c2_row2_col2, #T_060c2_row3_col0, #T_060c2_row3_col1, #T_060c2_row3_col2, #T_060c2_row4_col0, #T_060c2_row4_col1, #T_060c2_row4_col2, #T_060c2_row5_col0, #T_060c2_row5_col1, #T_060c2_row5_col2, #T_060c2_row6_col0, #T_060c2_row6_col1, #T_060c2_row6_col2, #T_060c2_row7_col0, #T_060c2_row7_col1, #T_060c2_row7_col2 {\n",
       "  white-space: pre-wrap;\n",
       "  text-align: left;\n",
       "}\n",
       "</style>\n",
       "<table id=\"T_060c2\">\n",
       "  <thead>\n",
       "    <tr>\n",
       "      <th id=\"T_060c2_level0_col0\" class=\"col_heading level0 col0\" >Column Name</th>\n",
       "      <th id=\"T_060c2_level0_col1\" class=\"col_heading level0 col1\" >Type</th>\n",
       "      <th id=\"T_060c2_level0_col2\" class=\"col_heading level0 col2\" >Computed With</th>\n",
       "    </tr>\n",
       "  </thead>\n",
       "  <tbody>\n",
       "    <tr>\n",
       "      <td id=\"T_060c2_row0_col0\" class=\"data row0 col0\" >cca3</td>\n",
       "      <td id=\"T_060c2_row0_col1\" class=\"data row0 col1\" >string</td>\n",
       "      <td id=\"T_060c2_row0_col2\" class=\"data row0 col2\" ></td>\n",
       "    </tr>\n",
       "    <tr>\n",
       "      <td id=\"T_060c2_row1_col0\" class=\"data row1 col0\" >country</td>\n",
       "      <td id=\"T_060c2_row1_col1\" class=\"data row1 col1\" >string</td>\n",
       "      <td id=\"T_060c2_row1_col2\" class=\"data row1 col2\" ></td>\n",
       "    </tr>\n",
       "    <tr>\n",
       "      <td id=\"T_060c2_row2_col0\" class=\"data row2 col0\" >continent</td>\n",
       "      <td id=\"T_060c2_row2_col1\" class=\"data row2 col1\" >string</td>\n",
       "      <td id=\"T_060c2_row2_col2\" class=\"data row2 col2\" ></td>\n",
       "    </tr>\n",
       "    <tr>\n",
       "      <td id=\"T_060c2_row3_col0\" class=\"data row3 col0\" >pop_2023</td>\n",
       "      <td id=\"T_060c2_row3_col1\" class=\"data row3 col1\" >int</td>\n",
       "      <td id=\"T_060c2_row3_col2\" class=\"data row3 col2\" ></td>\n",
       "    </tr>\n",
       "    <tr>\n",
       "      <td id=\"T_060c2_row4_col0\" class=\"data row4 col0\" >pop_2022</td>\n",
       "      <td id=\"T_060c2_row4_col1\" class=\"data row4 col1\" >int</td>\n",
       "      <td id=\"T_060c2_row4_col2\" class=\"data row4 col2\" ></td>\n",
       "    </tr>\n",
       "    <tr>\n",
       "      <td id=\"T_060c2_row5_col0\" class=\"data row5 col0\" >pop_2000</td>\n",
       "      <td id=\"T_060c2_row5_col1\" class=\"data row5 col1\" >int</td>\n",
       "      <td id=\"T_060c2_row5_col2\" class=\"data row5 col2\" ></td>\n",
       "    </tr>\n",
       "    <tr>\n",
       "      <td id=\"T_060c2_row6_col0\" class=\"data row6 col0\" >area__km__</td>\n",
       "      <td id=\"T_060c2_row6_col1\" class=\"data row6 col1\" >float</td>\n",
       "      <td id=\"T_060c2_row6_col2\" class=\"data row6 col2\" ></td>\n",
       "    </tr>\n",
       "    <tr>\n",
       "      <td id=\"T_060c2_row7_col0\" class=\"data row7 col0\" >yoy_growth</td>\n",
       "      <td id=\"T_060c2_row7_col1\" class=\"data row7 col1\" >int</td>\n",
       "      <td id=\"T_060c2_row7_col2\" class=\"data row7 col2\" >pop_2023 - pop_2022</td>\n",
       "    </tr>\n",
       "  </tbody>\n",
       "</table>\n"
      ],
      "text/plain": [
       "table 'population'\n",
       "\n",
       "Column Name   Type       Computed With\n",
       "       cca3 string                    \n",
       "    country string                    \n",
       "  continent string                    \n",
       "   pop_2023    int                    \n",
       "   pop_2022    int                    \n",
       "   pop_2000    int                    \n",
       " area__km__  float                    \n",
       " yoy_growth    int pop_2023 - pop_2022"
      ]
     },
     "execution_count": 6,
     "metadata": {},
     "output_type": "execute_result"
    }
   ],
   "source": [
    "pop_t"
   ]
  },
  {
   "cell_type": "markdown",
   "id": "5b70ee06-e946-402d-a4e9-357007ce90c5",
   "metadata": {},
   "source": [
    "The new column can be queried in the usual manner."
   ]
  },
  {
   "cell_type": "code",
   "execution_count": 7,
   "id": "26882591-8101-4f10-bf2e-c5f0a1220d28",
   "metadata": {},
   "outputs": [
    {
     "data": {
      "text/html": [
       "<table border=\"1\" class=\"dataframe\">\n",
       "  <thead>\n",
       "    <tr style=\"text-align: right;\">\n",
       "      <th>country</th>\n",
       "      <th>yoy_growth</th>\n",
       "    </tr>\n",
       "  </thead>\n",
       "  <tbody>\n",
       "    <tr>\n",
       "      <td>India</td>\n",
       "      <td>11454490</td>\n",
       "    </tr>\n",
       "    <tr>\n",
       "      <td>China</td>\n",
       "      <td>-215985</td>\n",
       "    </tr>\n",
       "    <tr>\n",
       "      <td>United States</td>\n",
       "      <td>1706706</td>\n",
       "    </tr>\n",
       "    <tr>\n",
       "      <td>Indonesia</td>\n",
       "      <td>2032783</td>\n",
       "    </tr>\n",
       "    <tr>\n",
       "      <td>Pakistan</td>\n",
       "      <td>4660796</td>\n",
       "    </tr>\n",
       "  </tbody>\n",
       "</table>"
      ],
      "text/plain": [
       "         country  yoy_growth\n",
       "0          India    11454490\n",
       "1          China     -215985\n",
       "2  United States     1706706\n",
       "3      Indonesia     2032783\n",
       "4       Pakistan     4660796"
      ]
     },
     "execution_count": 7,
     "metadata": {},
     "output_type": "execute_result"
    }
   ],
   "source": [
    "pop_t.select(pop_t.country, pop_t.yoy_change).head(5)"
   ]
  },
  {
   "cell_type": "markdown",
   "id": "457ebd24-c2ea-46fd-aac9-d59457f75944",
   "metadata": {},
   "source": [
    "Computed columns can be \"chained\" with other computed columns. Here's an example that expresses population change as a percentage:"
   ]
  },
  {
   "cell_type": "code",
   "execution_count": 8,
   "id": "671940f0-19e5-4e1f-8b60-32bf49e8e17c",
   "metadata": {},
   "outputs": [
    {
     "name": "stdout",
     "output_type": "stream",
     "text": [
      "Added 234 column values with 0 errors.\n"
     ]
    },
    {
     "data": {
      "text/plain": [
       "UpdateStatus(num_rows=234, num_computed_values=234, num_excs=0, updated_cols=[], cols_with_excs=[])"
      ]
     },
     "execution_count": 8,
     "metadata": {},
     "output_type": "execute_result"
    }
   ],
   "source": [
    "pop_t.add_column(yoy_percent_change=(pop_t.yoy_change * 100 / pop_t.pop_2022))"
   ]
  },
  {
   "cell_type": "code",
   "execution_count": 9,
   "id": "dfc3aa93-3338-4c5c-9097-76916af56768",
   "metadata": {},
   "outputs": [
    {
     "data": {
      "text/html": [
       "<style type=\"text/css\">\n",
       "#T_3844b th {\n",
       "  text-align: center;\n",
       "}\n",
       "#T_3844b_row0_col0, #T_3844b_row0_col1, #T_3844b_row0_col2, #T_3844b_row1_col0, #T_3844b_row1_col1, #T_3844b_row1_col2, #T_3844b_row2_col0, #T_3844b_row2_col1, #T_3844b_row2_col2, #T_3844b_row3_col0, #T_3844b_row3_col1, #T_3844b_row3_col2, #T_3844b_row4_col0, #T_3844b_row4_col1, #T_3844b_row4_col2, #T_3844b_row5_col0, #T_3844b_row5_col1, #T_3844b_row5_col2, #T_3844b_row6_col0, #T_3844b_row6_col1, #T_3844b_row6_col2, #T_3844b_row7_col0, #T_3844b_row7_col1, #T_3844b_row7_col2, #T_3844b_row8_col0, #T_3844b_row8_col1, #T_3844b_row8_col2 {\n",
       "  white-space: pre-wrap;\n",
       "  text-align: left;\n",
       "}\n",
       "</style>\n",
       "<table id=\"T_3844b\">\n",
       "  <thead>\n",
       "    <tr>\n",
       "      <th id=\"T_3844b_level0_col0\" class=\"col_heading level0 col0\" >Column Name</th>\n",
       "      <th id=\"T_3844b_level0_col1\" class=\"col_heading level0 col1\" >Type</th>\n",
       "      <th id=\"T_3844b_level0_col2\" class=\"col_heading level0 col2\" >Computed With</th>\n",
       "    </tr>\n",
       "  </thead>\n",
       "  <tbody>\n",
       "    <tr>\n",
       "      <td id=\"T_3844b_row0_col0\" class=\"data row0 col0\" >cca3</td>\n",
       "      <td id=\"T_3844b_row0_col1\" class=\"data row0 col1\" >string</td>\n",
       "      <td id=\"T_3844b_row0_col2\" class=\"data row0 col2\" ></td>\n",
       "    </tr>\n",
       "    <tr>\n",
       "      <td id=\"T_3844b_row1_col0\" class=\"data row1 col0\" >country</td>\n",
       "      <td id=\"T_3844b_row1_col1\" class=\"data row1 col1\" >string</td>\n",
       "      <td id=\"T_3844b_row1_col2\" class=\"data row1 col2\" ></td>\n",
       "    </tr>\n",
       "    <tr>\n",
       "      <td id=\"T_3844b_row2_col0\" class=\"data row2 col0\" >continent</td>\n",
       "      <td id=\"T_3844b_row2_col1\" class=\"data row2 col1\" >string</td>\n",
       "      <td id=\"T_3844b_row2_col2\" class=\"data row2 col2\" ></td>\n",
       "    </tr>\n",
       "    <tr>\n",
       "      <td id=\"T_3844b_row3_col0\" class=\"data row3 col0\" >pop_2023</td>\n",
       "      <td id=\"T_3844b_row3_col1\" class=\"data row3 col1\" >int</td>\n",
       "      <td id=\"T_3844b_row3_col2\" class=\"data row3 col2\" ></td>\n",
       "    </tr>\n",
       "    <tr>\n",
       "      <td id=\"T_3844b_row4_col0\" class=\"data row4 col0\" >pop_2022</td>\n",
       "      <td id=\"T_3844b_row4_col1\" class=\"data row4 col1\" >int</td>\n",
       "      <td id=\"T_3844b_row4_col2\" class=\"data row4 col2\" ></td>\n",
       "    </tr>\n",
       "    <tr>\n",
       "      <td id=\"T_3844b_row5_col0\" class=\"data row5 col0\" >pop_2000</td>\n",
       "      <td id=\"T_3844b_row5_col1\" class=\"data row5 col1\" >int</td>\n",
       "      <td id=\"T_3844b_row5_col2\" class=\"data row5 col2\" ></td>\n",
       "    </tr>\n",
       "    <tr>\n",
       "      <td id=\"T_3844b_row6_col0\" class=\"data row6 col0\" >area__km__</td>\n",
       "      <td id=\"T_3844b_row6_col1\" class=\"data row6 col1\" >float</td>\n",
       "      <td id=\"T_3844b_row6_col2\" class=\"data row6 col2\" ></td>\n",
       "    </tr>\n",
       "    <tr>\n",
       "      <td id=\"T_3844b_row7_col0\" class=\"data row7 col0\" >yoy_growth</td>\n",
       "      <td id=\"T_3844b_row7_col1\" class=\"data row7 col1\" >int</td>\n",
       "      <td id=\"T_3844b_row7_col2\" class=\"data row7 col2\" >pop_2023 - pop_2022</td>\n",
       "    </tr>\n",
       "    <tr>\n",
       "      <td id=\"T_3844b_row8_col0\" class=\"data row8 col0\" >yoy_percent_growth</td>\n",
       "      <td id=\"T_3844b_row8_col1\" class=\"data row8 col1\" >float</td>\n",
       "      <td id=\"T_3844b_row8_col2\" class=\"data row8 col2\" >(yoy_growth * 100) / pop_2022</td>\n",
       "    </tr>\n",
       "  </tbody>\n",
       "</table>\n"
      ],
      "text/plain": [
       "table 'population'\n",
       "\n",
       "       Column Name   Type                 Computed With\n",
       "              cca3 string                              \n",
       "           country string                              \n",
       "         continent string                              \n",
       "          pop_2023    int                              \n",
       "          pop_2022    int                              \n",
       "          pop_2000    int                              \n",
       "        area__km__  float                              \n",
       "        yoy_growth    int           pop_2023 - pop_2022\n",
       "yoy_percent_growth  float (yoy_growth * 100) / pop_2022"
      ]
     },
     "execution_count": 9,
     "metadata": {},
     "output_type": "execute_result"
    }
   ],
   "source": [
    "pop_t"
   ]
  },
  {
   "cell_type": "code",
   "execution_count": 10,
   "id": "ed03276d-c987-4222-bbca-76a6be06a51c",
   "metadata": {},
   "outputs": [
    {
     "data": {
      "text/html": [
       "<table border=\"1\" class=\"dataframe\">\n",
       "  <thead>\n",
       "    <tr style=\"text-align: right;\">\n",
       "      <th>country</th>\n",
       "      <th>yoy_growth</th>\n",
       "      <th>yoy_percent_growth</th>\n",
       "    </tr>\n",
       "  </thead>\n",
       "  <tbody>\n",
       "    <tr>\n",
       "      <td>India</td>\n",
       "      <td>11454490</td>\n",
       "      <td>0.808</td>\n",
       "    </tr>\n",
       "    <tr>\n",
       "      <td>China</td>\n",
       "      <td>-215985</td>\n",
       "      <td>-0.015</td>\n",
       "    </tr>\n",
       "    <tr>\n",
       "      <td>United States</td>\n",
       "      <td>1706706</td>\n",
       "      <td>0.505</td>\n",
       "    </tr>\n",
       "    <tr>\n",
       "      <td>Indonesia</td>\n",
       "      <td>2032783</td>\n",
       "      <td>0.738</td>\n",
       "    </tr>\n",
       "    <tr>\n",
       "      <td>Pakistan</td>\n",
       "      <td>4660796</td>\n",
       "      <td>1.976</td>\n",
       "    </tr>\n",
       "  </tbody>\n",
       "</table>"
      ],
      "text/plain": [
       "         country  yoy_growth  yoy_percent_growth\n",
       "0          India    11454490            0.808263\n",
       "1          China     -215985           -0.015147\n",
       "2  United States     1706706            0.504510\n",
       "3      Indonesia     2032783            0.737849\n",
       "4       Pakistan     4660796            1.976380"
      ]
     },
     "execution_count": 10,
     "metadata": {},
     "output_type": "execute_result"
    }
   ],
   "source": [
    "pop_t.select(pop_t.country, pop_t.yoy_change, pop_t.yoy_percent_change).head(5)"
   ]
  },
  {
   "cell_type": "markdown",
   "id": "e94950c8-739e-4a6e-a07b-34a168726685",
   "metadata": {},
   "source": [
    "Although computed columns appear superficially similar to DataFrames, there is a key difference. Because computed columns are a permanent part of the table, they will be automatically updated any time new data is added to the table. These updates will propagate through any other computed columns that are \"downstream\" of the new data.\n",
    "\n",
    "<div class=\"alert alert-block alert-info\">\n",
    "In traditional data workflows, it is commonplace to recompute entire pipelines when the input dataset is changed or enlarged. In Pixeltable, by contrast, <b>all updates are applied incrementally</b>. When new data appear in a table or existing data are altered, Pixeltable will recompute only those rows that are dependent on the changed data.\n",
    "</div>\n",
    "\n",
    "Let's see how this works in practice. For purposes of illustration, we'll add an entry for California to the table, as if it were a country."
   ]
  },
  {
   "cell_type": "code",
   "execution_count": 13,
   "id": "309d240d-2a14-4983-963c-38de012671c6",
   "metadata": {},
   "outputs": [
    {
     "name": "stdout",
     "output_type": "stream",
     "text": [
      "Computing cells:   0%|                                                    | 0/5 [00:00<?, ? cells/s]\n",
      "Inserting rows into `population`: 1 rows [00:00, 194.20 rows/s]\n",
      "Computing cells: 100%|███████████████████████████████████████████| 5/5 [00:00<00:00, 568.46 cells/s]\n",
      "Inserted 1 row with 0 errors.\n"
     ]
    },
    {
     "data": {
      "text/plain": [
       "UpdateStatus(num_rows=1, num_computed_values=5, num_excs=0, updated_cols=[], cols_with_excs=[])"
      ]
     },
     "execution_count": 13,
     "metadata": {},
     "output_type": "execute_result"
    }
   ],
   "source": [
    "pop_t.insert(\n",
    "    cca3='',\n",
    "    country='California',\n",
    "    continent='North America',\n",
    "    pop_2023=39110000,\n",
    "    pop_2022=39030000,\n",
    "    pop_2000=33990000,\n",
    "    area__km__=432970.0\n",
    ")"
   ]
  },
  {
   "cell_type": "markdown",
   "id": "ab488573-099d-4100-b6c9-007b6cb52edd",
   "metadata": {},
   "source": [
    "Observe that the computed columns `yoy_growth` and `yoy_percent_growth` have been automatically updated in response to the new data."
   ]
  },
  {
   "cell_type": "code",
   "execution_count": 15,
   "id": "46b1fa03-080e-4b99-8f55-d25c48c56afe",
   "metadata": {},
   "outputs": [
    {
     "data": {
      "text/html": [
       "<table border=\"1\" class=\"dataframe\">\n",
       "  <thead>\n",
       "    <tr style=\"text-align: right;\">\n",
       "      <th>cca3</th>\n",
       "      <th>country</th>\n",
       "      <th>continent</th>\n",
       "      <th>pop_2023</th>\n",
       "      <th>pop_2022</th>\n",
       "      <th>pop_2000</th>\n",
       "      <th>area__km__</th>\n",
       "      <th>yoy_growth</th>\n",
       "      <th>yoy_percent_growth</th>\n",
       "    </tr>\n",
       "  </thead>\n",
       "  <tbody>\n",
       "    <tr>\n",
       "      <td>FLK</td>\n",
       "      <td>Falkland Islands</td>\n",
       "      <td>South America</td>\n",
       "      <td>3791</td>\n",
       "      <td>3780</td>\n",
       "      <td>3080</td>\n",
       "      <td>12173.</td>\n",
       "      <td>11</td>\n",
       "      <td>0.291</td>\n",
       "    </tr>\n",
       "    <tr>\n",
       "      <td>NIU</td>\n",
       "      <td>Niue</td>\n",
       "      <td>Oceania</td>\n",
       "      <td>1935</td>\n",
       "      <td>1934</td>\n",
       "      <td>2074</td>\n",
       "      <td>261.</td>\n",
       "      <td>1</td>\n",
       "      <td>0.052</td>\n",
       "    </tr>\n",
       "    <tr>\n",
       "      <td>TKL</td>\n",
       "      <td>Tokelau</td>\n",
       "      <td>Oceania</td>\n",
       "      <td>1893</td>\n",
       "      <td>1871</td>\n",
       "      <td>1666</td>\n",
       "      <td>12.</td>\n",
       "      <td>22</td>\n",
       "      <td>1.176</td>\n",
       "    </tr>\n",
       "    <tr>\n",
       "      <td>VAT</td>\n",
       "      <td>Vatican City</td>\n",
       "      <td>Europe</td>\n",
       "      <td>518</td>\n",
       "      <td>510</td>\n",
       "      <td>651</td>\n",
       "      <td>0.44</td>\n",
       "      <td>8</td>\n",
       "      <td>1.569</td>\n",
       "    </tr>\n",
       "    <tr>\n",
       "      <td></td>\n",
       "      <td>California</td>\n",
       "      <td>North America</td>\n",
       "      <td>39110000</td>\n",
       "      <td>39030000</td>\n",
       "      <td>33990000</td>\n",
       "      <td>432970.</td>\n",
       "      <td>80000</td>\n",
       "      <td>0.205</td>\n",
       "    </tr>\n",
       "  </tbody>\n",
       "</table>"
      ],
      "text/plain": [
       "  cca3           country      continent  pop_2023  pop_2022  pop_2000  \\\n",
       "0  FLK  Falkland Islands  South America      3791      3780      3080   \n",
       "1  NIU              Niue        Oceania      1935      1934      2074   \n",
       "2  TKL           Tokelau        Oceania      1893      1871      1666   \n",
       "3  VAT      Vatican City         Europe       518       510       651   \n",
       "4             California  North America  39110000  39030000  33990000   \n",
       "\n",
       "   area__km__  yoy_growth  yoy_percent_growth  \n",
       "0    12173.00          11            0.291005  \n",
       "1      261.00           1            0.051706  \n",
       "2       12.00          22            1.175842  \n",
       "3        0.44           8            1.568627  \n",
       "4   432970.00       80000            0.204971  "
      ]
     },
     "execution_count": 15,
     "metadata": {},
     "output_type": "execute_result"
    }
   ],
   "source": [
    "pop_t.tail(5)"
   ]
  },
  {
   "cell_type": "markdown",
   "id": "69471c19-96c2-48dc-a317-02662da7aca9",
   "metadata": {},
   "source": [
    "<div class=\"alert alert-block alert-info\">\n",
    "Remember that <b>all tables in Pixeltable are persistent</b>. This includes computed columns: when you create a computed column, its definition is stored in the database. You can think of computed columns as setting up a persistent compute workflow: if you close your notebook or restart your Python instance, computed columns (along with the relationships between them, and any data contained in them) will be preserved.\n",
    "</div>"
   ]
  },
  {
   "cell_type": "markdown",
   "id": "eeb2adaa-52e5-4617-b5d3-f7cfcc873510",
   "metadata": {},
   "source": [
    "### A More Interesting Example: Image Processing"
   ]
  },
  {
   "cell_type": "code",
   "execution_count": null,
   "id": "951f4fac-0bba-4005-811f-2c28ee8f0412",
   "metadata": {},
   "outputs": [],
   "source": []
  }
 ],
 "metadata": {
  "kernelspec": {
   "display_name": "Python 3 (ipykernel)",
   "language": "python",
   "name": "python3"
  },
  "language_info": {
   "codemirror_mode": {
    "name": "ipython",
    "version": 3
   },
   "file_extension": ".py",
   "mimetype": "text/x-python",
   "name": "python",
   "nbconvert_exporter": "python",
   "pygments_lexer": "ipython3",
   "version": "3.9.19"
  }
 },
 "nbformat": 4,
 "nbformat_minor": 5
}
