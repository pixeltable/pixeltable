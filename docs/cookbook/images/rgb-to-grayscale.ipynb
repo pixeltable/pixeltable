{
 "cells": [
  {
   "cell_type": "markdown",
   "metadata": {},
   "source": [
    "# Convert color images to grayscale\n",
    "\n",
    "Transform RGB images to grayscale for analysis, preprocessing, or model inputs that require single-channel images.\n",
    "\n",
    "**What's in this recipe:**\n",
    "- Simple conversion with PIL\n",
    "- Perceptually accurate grayscale (weighted RGB channels)\n",
    "- Custom UDF for advanced conversion\n"
   ]
  },
  {
   "cell_type": "markdown",
   "metadata": {},
   "source": [
    "## Problem\n",
    "\n",
    "You need to convert color images to grayscale for analysis, preprocessing, or model inputs that require single-channel images.\n",
    "\n",
    "Different conversion methods produce different results—you need to choose the right approach for your use case.\n"
   ]
  },
  {
   "cell_type": "markdown",
   "metadata": {},
   "source": [
    "## Solution\n",
    "\n",
    "**Without Pixeltable:** Write a loop to convert images with Pillow's `.convert()` (or OpenCV, NumPy), manage files yourself.\n",
    "\n",
    "**With Pixeltable:** Use PIL's `.convert('L')` or custom UDFs in computed columns. All conversions automatic.\n",
    "\n",
    "**Conversion methods:**\n",
    "\n",
    "| Method | Speed | Accuracy | When to use |\n",
    "|--------|-------|----------|-------------|\n",
    "| **Simple (PIL `.convert('L')`)** | Fast | Good | Model preprocessing, general analysis |\n",
    "| **Gamma-corrected (custom UDF)** | Slow | Best | Scientific imaging, professional photography |\n",
    "\n",
    "The simple method uses PIL's built-in conversion. The gamma-corrected method requires a custom UDF (not built into PIL) that applies perceptual weighting in linear color space.\n",
    "\n",
    "*For technical details on gamma correction and grayscale conversion, see [Wikipedia: Grayscale](https://en.wikipedia.org/wiki/Grayscale).*\n",
    "\n",
    "### Setup\n"
   ]
  },
  {
   "cell_type": "code",
   "execution_count": null,
   "metadata": {},
   "outputs": [],
   "source": [
    "%pip install -qU pixeltable numpy"
   ]
  },
  {
   "cell_type": "code",
   "execution_count": null,
   "metadata": {},
   "outputs": [],
   "source": [
    "import pixeltable as pxt\n",
    "import numpy as np\n",
    "from PIL import Image\n",
    "\n",
    "# Create a fresh directory (drop existing if present)\n",
    "pxt.drop_dir('image_demo', force=True)\n",
    "pxt.create_dir('image_demo')"
   ]
  },
  {
   "cell_type": "markdown",
   "metadata": {},
   "source": [
    "### Load images\n"
   ]
  },
  {
   "cell_type": "code",
   "execution_count": null,
   "metadata": {},
   "outputs": [],
   "source": [
    "t = pxt.create_table('image_demo.gray', {'image': pxt.Image})\n",
    "t.insert([\n",
    "    {'image': 'https://raw.githubusercontent.com/pixeltable/pixeltable/main/docs/resources/images/000000000001.jpg'},\n",
    "    {'image': 'https://raw.githubusercontent.com/pixeltable/pixeltable/main/docs/resources/images/000000000016.jpg'},\n",
    "])\n"
   ]
  },
  {
   "cell_type": "markdown",
   "metadata": {},
   "source": [
    "### Simple conversion with PIL\n"
   ]
  },
  {
   "cell_type": "code",
   "execution_count": null,
   "metadata": {},
   "outputs": [],
   "source": [
    "# Built-in PIL conversion (fast and good for most use cases)\n",
    "t.add_computed_column(grayscale=t.image.convert('L'))\n",
    "\n",
    "t.select(t.image, t.grayscale).show()\n"
   ]
  },
  {
   "cell_type": "markdown",
   "metadata": {},
   "source": [
    "### Perceptually accurate conversion\n",
    "\n",
    "For scientific imaging or when perception accuracy matters, use a custom UDF with gamma correction.\n",
    "\n",
    "#### Define the UDF\n"
   ]
  },
  {
   "cell_type": "code",
   "execution_count": null,
   "metadata": {},
   "outputs": [],
   "source": [
    "@pxt.udf\n",
    "def rgb_to_gray_accurate(img: Image.Image) -> Image.Image:\n",
    "    \"\"\"Convert RGB to grayscale with full gamma correction.\n",
    "    \n",
    "    Most accurate but slower. Gamma-decompresses, applies perceptual weights\n",
    "    in linear space, then re-compresses for display.\n",
    "    \"\"\"\n",
    "    rgb = np.array(img).astype(np.float32) / 255.0\n",
    "    \n",
    "    # Gamma decompress: make pixel values perceptually linear\n",
    "    rgb_lin = ((rgb + 0.055) / 1.055) ** 2.4\n",
    "    rgb_lin = np.where(rgb <= 0.04045, rgb / 12.92, rgb_lin)\n",
    "    \n",
    "    # Apply perceptual weights in linear space\n",
    "    gray_lin = (\n",
    "        0.2126 * rgb_lin[:, :, 0] +\n",
    "        0.7152 * rgb_lin[:, :, 1] +\n",
    "        0.0722 * rgb_lin[:, :, 2]\n",
    "    )\n",
    "    \n",
    "    # Gamma compress: make values display-ready\n",
    "    gray = 1.055 * gray_lin ** (1 / 2.4) - 0.055\n",
    "    gray = np.where(gray_lin <= 0.0031308, 12.92 * gray_lin, gray)\n",
    "    \n",
    "    gray = (gray * 255).astype(np.uint8)\n",
    "    return Image.fromarray(gray)"
   ]
  },
  {
   "cell_type": "markdown",
   "metadata": {},
   "source": [
    "#### Test the conversion\n"
   ]
  },
  {
   "cell_type": "code",
   "execution_count": null,
   "metadata": {},
   "outputs": [],
   "source": [
    "# Compare both methods on first image\n",
    "t.select(\n",
    "    t.image,\n",
    "    t.grayscale,\n",
    "    rgb_to_gray_accurate(t.image)\n",
    ").head(1)\n"
   ]
  },
  {
   "cell_type": "markdown",
   "metadata": {},
   "source": [
    "#### Apply to all images\n"
   ]
  },
  {
   "cell_type": "code",
   "execution_count": null,
   "metadata": {},
   "outputs": [],
   "source": [
    "t.add_computed_column(accurate=rgb_to_gray_accurate(t.image))\n",
    "\n",
    "# View all results\n",
    "t.select(t.image, t.grayscale, t.accurate).show()\n"
   ]
  },
  {
   "cell_type": "markdown",
   "metadata": {},
   "source": [
    "## Explanation\n",
    "\n",
    "**Two approaches:**\n",
    "\n",
    "1. **Simple (`.convert('L')`):** PIL's built-in. Fast, good for most use cases (model preprocessing, general analysis).\n",
    "\n",
    "2. **Gamma-corrected (custom UDF):** Not built into PIL. Requires a custom UDF that:\n",
    "   - Gamma-decompresses to linear space\n",
    "   - Applies perceptual weights: 0.2126 × R + 0.7152 × G + 0.0722 × B\n",
    "   - Gamma-compresses back for display\n",
    "   - Slower but most perceptually accurate\n",
    "   - Use for scientific imaging, professional photography\n",
    "\n",
    "**Why gamma matters:** Displays aren't linear—doubling a pixel value doesn't double perceived brightness. Gamma correction accounts for this. For best results, convert to linear space before weighting, then convert back.\n",
    "\n",
    "*The gamma-corrected method is based on [Brandon Rohrer's explanation](https://brandonrohrer.com/convert_rgb_to_grayscale.html) of perceptually accurate RGB to grayscale conversion.*\n"
   ]
  },
  {
   "cell_type": "markdown",
   "metadata": {},
   "source": [
    "## See also\n",
    "\n",
    "- [Transform images with PIL operations](./image-transformations.ipynb)\n",
    "- [Test transformations with fast feedback loops](../iteration/fast-feedback-loops.ipynb)\n"
   ]
  }
 ],
 "metadata": {
  "kernelspec": {
   "display_name": ".venv",
   "language": "python",
   "name": "python3"
  },
  "language_info": {
   "codemirror_mode": {
    "name": "ipython",
    "version": 3
   },
   "file_extension": ".py",
   "mimetype": "text/x-python",
   "name": "python",
   "nbconvert_exporter": "python",
   "pygments_lexer": "ipython3",
   "version": "3.13.7"
  }
 },
 "nbformat": 4,
 "nbformat_minor": 2
}
