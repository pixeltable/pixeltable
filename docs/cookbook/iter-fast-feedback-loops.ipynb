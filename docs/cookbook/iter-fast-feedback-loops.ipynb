{
 "cells": [
  {
   "cell_type": "markdown",
   "metadata": {},
   "source": [
    "# Get fast feedback on transformations\n",
    "\n",
    "Test transformation logic on sample rows before processing your entire dataset.\n",
    "\n",
    "**What's in this recipe:**\n",
    "- Query transformations without adding columns\n",
    "- Test on sample rows with `.head()`\n",
    "- Speed up your iteration cycle\n"
   ]
  },
  {
   "cell_type": "markdown",
   "metadata": {},
   "source": [
    "## Problem\n",
    "\n",
    "You want to test transformation logic on your data, but you need a way to preview results before processing everything.\n",
    "\n",
    "**The challenge:** How do you verify your logic works correctly without either:\n",
    "- Writing throwaway test code that you'll delete later\n",
    "- Waiting for expensive operations (API calls, model inference) to run on your full dataset\n",
    "\n",
    "```python\n",
    "# Test a transformation on sample data\n",
    "t.add_computed_column(result=expensive_transform(t.col))\n",
    "# Processes all 10,000 rows... then you realize the logic is wrong\n",
    "```\n",
    "\n",
    "You need a pattern for fast iteration that doesn't require temporary code or processing the full dataset.\n"
   ]
  },
  {
   "cell_type": "markdown",
   "metadata": {},
   "source": [
    "## Solution\n",
    "\n",
    "**Without Pixeltable:** Write temporary test code on a subset, verify it works, then rewrite it for the full dataset—and hope you copied the logic correctly.\n",
    "\n",
    "**With Pixeltable:** Use the same expression twice:\n",
    "\n",
    "1. **Query**: Preview with `.select(expr).head()` \n",
    "2. **Commit**: Apply with `.add_computed_column(col=expr)`\n",
    "\n",
    "Same expression means no transcription errors. Run expensive operations only after you've confirmed the logic works.\n",
    "\n",
    "### Setup\n"
   ]
  },
  {
   "cell_type": "code",
   "execution_count": null,
   "metadata": {},
   "outputs": [],
   "source": [
    "%pip install -qU pixeltable"
   ]
  },
  {
   "cell_type": "code",
   "execution_count": null,
   "metadata": {},
   "outputs": [],
   "source": [
    "import pixeltable as pxt"
   ]
  },
  {
   "cell_type": "code",
   "execution_count": null,
   "metadata": {},
   "outputs": [],
   "source": [
    "# Create a fresh directory (drop existing if present)\n",
    "pxt.drop_dir('demo_project', force=True)\n",
    "pxt.create_dir('demo_project')"
   ]
  },
  {
   "cell_type": "markdown",
   "metadata": {},
   "source": [
    "### Create sample data\n"
   ]
  },
  {
   "cell_type": "code",
   "execution_count": null,
   "metadata": {},
   "outputs": [],
   "source": [
    "t = pxt.create_table('demo_project.lyrics', {'text': pxt.String})\n",
    "t.insert([\n",
    "    {'text': 'Tumble out of bed and I stumble to the kitchen'},\n",
    "    {'text': 'Pour myself a cup of ambition'},\n",
    "    {'text': 'And yawn and stretch and try to come to life'},\n",
    "    {'text': \"Jump in the shower and the blood starts pumpin'\"},\n",
    "    {'text': \"Out on the street, the traffic starts jumpin'\"},\n",
    "    {'text': 'With folks like me on the job from nine to five'}\n",
    "])\n",
    "\n",
    "print(f\"Total rows: {t.count()}\")"
   ]
  },
  {
   "cell_type": "markdown",
   "metadata": {},
   "source": [
    "### Example 1: Built-in string methods\n",
    "\n",
    "Query-then-Commit with built-in functions.\n"
   ]
  },
  {
   "cell_type": "code",
   "execution_count": null,
   "metadata": {},
   "outputs": [],
   "source": [
    "# Query: Test uppercase transformation on subset\n",
    "t.select(\n",
    "    t.text,\n",
    "    uppercase=t.text.upper()\n",
    ").head(2)"
   ]
  },
  {
   "cell_type": "markdown",
   "metadata": {},
   "source": [
    "\n"
   ]
  },
  {
   "cell_type": "code",
   "execution_count": null,
   "metadata": {},
   "outputs": [],
   "source": [
    "# Commit: Apply to all rows (same expression)\n",
    "t.add_computed_column(uppercase=t.text.upper())\n",
    "\n",
    "t.select(t.text, t.uppercase).show()"
   ]
  },
  {
   "cell_type": "markdown",
   "metadata": {},
   "source": [
    "### Example 2: Custom UDF\n",
    "\n",
    "Query-then-Commit with a user-defined function.\n"
   ]
  },
  {
   "cell_type": "code",
   "execution_count": null,
   "metadata": {},
   "outputs": [],
   "source": [
    "# Define a custom transformation\n",
    "@pxt.udf\n",
    "def word_count(text: str) -> int:\n",
    "    return len(text.split())\n"
   ]
  },
  {
   "cell_type": "code",
   "execution_count": null,
   "metadata": {},
   "outputs": [],
   "source": [
    "# Query: Test UDF on subset\n",
    "t.select(\n",
    "    t.text,\n",
    "    word_count=word_count(t.text)\n",
    ").head(2)\n"
   ]
  },
  {
   "cell_type": "code",
   "execution_count": null,
   "metadata": {},
   "outputs": [],
   "source": [
    "# Commit: Apply to all rows (same expression)\n",
    "t.add_computed_column(word_count=word_count(t.text))\n",
    "\n",
    "t.select(t.text, t.word_count).show()\n"
   ]
  },
  {
   "cell_type": "code",
   "execution_count": null,
   "metadata": {},
   "outputs": [],
   "source": [
    "# Now process all rows and store\n",
    "t.add_computed_column(words=word_count(t.text))\n",
    "\n",
    "t.show()"
   ]
  },
  {
   "cell_type": "markdown",
   "metadata": {},
   "source": [
    "## Explanation\n",
    "\n",
    "**Fast iteration matters:**\n",
    "- Test transformation logic on 3 rows instead of 10,000\n",
    "- Immediate feedback on whether logic is correct\n",
    "- Iterate 10x or 100x faster\n",
    "- Build better transformations through rapid experimentation\n",
    "\n",
    "**Pattern:**\n",
    "```python\n",
    "# Fast iteration loop\n",
    "t.select(t.col, result=transform(t.col)).head(3)  # Test logic\n",
    "t.select(t.col, result=transform_v2(t.col)).head(3)  # Refine logic\n",
    "t.add_computed_column(result=transform_v2(t.col))  # Commit when ready\n",
    "```\n",
    "\n",
    "**Key insight:**\n",
    "Optimizing for iteration speed means keeping feedback loops tight. Process small batches, learn fast, iterate. As Erik Bernhardsson notes in [Optimizing for iteration speed](https://erikbern.com/2017/07/06/optimizing-for-iteration-speed.html): \"By keeping the feedback loop tight, you keep changing the combination of spices and learn from the feedback you get. Your recipe can evolve 10x or 100x faster.\"\n"
   ]
  },
  {
   "cell_type": "markdown",
   "metadata": {},
   "source": [
    "## See also\n",
    "- [Inspect large datasets](./iteration/inspect-large-datasets.ipynb) - Use `.head()` to view sample rows\n",
    "- [Refine your transformations](./iteration/refine-transformations.ipynb) - Replace columns after testing\n"
   ]
  }
 ],
 "metadata": {
  "kernelspec": {
   "display_name": ".venv",
   "language": "python",
   "name": "python3"
  },
  "language_info": {
   "codemirror_mode": {
    "name": "ipython",
    "version": 3
   },
   "file_extension": ".py",
   "mimetype": "text/x-python",
   "name": "python",
   "nbconvert_exporter": "python",
   "pygments_lexer": "ipython3",
   "version": "3.13.7"
  }
 },
 "nbformat": 4,
 "nbformat_minor": 2
}
