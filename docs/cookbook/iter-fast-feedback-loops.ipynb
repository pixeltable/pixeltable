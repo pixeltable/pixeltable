{
 "cells": [
  {
   "cell_type": "markdown",
   "metadata": {},
   "source": [
    "# Get fast feedback on transformations\n",
    "\n",
    "Test transformation logic on sample rows before processing your entire dataset.\n",
    "\n",
    "**What's in this recipe:**\n",
    "- Query transformations without adding columns\n",
    "- Test on sample rows with `.head()`\n",
    "- Speed up your iteration cycle\n"
   ]
  },
  {
   "cell_type": "markdown",
   "metadata": {},
   "source": [
    "## Problem\n",
    "\n",
    "You want to test transformation logic on your data, but you need a way to preview results before processing everything.\n",
    "\n",
    "**The challenge:** How do you verify your logic works correctly without either:\n",
    "- Writing throwaway test code that you'll delete later\n",
    "- Waiting for expensive operations (API calls, model inference) to run on your full dataset\n",
    "\n",
    "```python\n",
    "# Test a transformation on sample data\n",
    "t.add_computed_column(result=expensive_transform(t.col))\n",
    "# Processes all 10,000 rows... then you realize the logic is wrong\n",
    "```\n",
    "\n",
    "You need a pattern for fast iteration that doesn't require temporary code or processing the full dataset.\n"
   ]
  },
  {
   "cell_type": "markdown",
   "metadata": {},
   "source": [
    "## Solution\n",
    "\n",
    "**Without Pixeltable:** Write temporary test code on a subset, verify it works, then rewrite it for the full dataset—and hope you copied the logic correctly.\n",
    "\n",
    "**With Pixeltable:** Use Pixeltable's Query-then-Commit pattern:\n",
    "\n",
    "1. **Query**: Preview with `.select(expr).head()` \n",
    "2. **Commit**: Apply with `.add_computed_column(col=expr)`\n",
    "\n",
    "Same expression in both steps means no transcription errors. Run expensive operations only after you've confirmed the logic works.\n",
    "\n",
    "### Setup\n"
   ]
  },
  {
   "cell_type": "code",
   "execution_count": null,
   "metadata": {},
   "outputs": [],
   "source": [
    "%pip install -qU pixeltable"
   ]
  },
  {
   "cell_type": "code",
   "execution_count": 8,
   "metadata": {},
   "outputs": [],
   "source": [
    "import pixeltable as pxt"
   ]
  },
  {
   "cell_type": "code",
   "execution_count": 9,
   "metadata": {},
   "outputs": [
    {
     "name": "stdout",
     "output_type": "stream",
     "text": [
      "Created directory 'demo_project'.\n"
     ]
    },
    {
     "data": {
      "text/plain": [
       "<pixeltable.catalog.dir.Dir at 0x16f3c3350>"
      ]
     },
     "execution_count": 9,
     "metadata": {},
     "output_type": "execute_result"
    }
   ],
   "source": [
    "# Create a fresh directory (drop existing if present)\n",
    "pxt.drop_dir('demo_project', force=True)\n",
    "pxt.create_dir('demo_project')"
   ]
  },
  {
   "cell_type": "markdown",
   "metadata": {},
   "source": [
    "### Create sample data\n"
   ]
  },
  {
   "cell_type": "code",
   "execution_count": 10,
   "metadata": {},
   "outputs": [
    {
     "name": "stdout",
     "output_type": "stream",
     "text": [
      "Created table 'lyrics'.\n",
      "Inserting rows into `lyrics`: 6 rows [00:00, 1747.87 rows/s]\n",
      "Inserted 6 rows with 0 errors.\n",
      "Total rows: 6\n"
     ]
    }
   ],
   "source": [
    "t = pxt.create_table('demo_project.lyrics', {'text': pxt.String})\n",
    "t.insert([\n",
    "    {'text': 'Tumble out of bed and I stumble to the kitchen'},\n",
    "    {'text': 'Pour myself a cup of ambition'},\n",
    "    {'text': 'And yawn and stretch and try to come to life'},\n",
    "    {'text': \"Jump in the shower and the blood starts pumpin'\"},\n",
    "    {'text': \"Out on the street, the traffic starts jumpin'\"},\n",
    "    {'text': 'With folks like me on the job from nine to five'}\n",
    "])\n",
    "\n",
    "print(f\"Total rows: {t.count()}\")"
   ]
  },
  {
   "cell_type": "markdown",
   "metadata": {},
   "source": [
    "### Example 1: Built-in string methods\n",
    "\n",
    "Query-then-Commit with built-in functions.\n"
   ]
  },
  {
   "cell_type": "code",
   "execution_count": 11,
   "metadata": {},
   "outputs": [
    {
     "data": {
      "text/html": [
       "<table border=\"1\" class=\"dataframe\">\n",
       "  <thead>\n",
       "    <tr style=\"text-align: right;\">\n",
       "      <th>text</th>\n",
       "      <th>uppercase</th>\n",
       "    </tr>\n",
       "  </thead>\n",
       "  <tbody>\n",
       "    <tr>\n",
       "      <td>Tumble out of bed and I stumble to the kitchen</td>\n",
       "      <td>TUMBLE OUT OF BED AND I STUMBLE TO THE KITCHEN</td>\n",
       "    </tr>\n",
       "    <tr>\n",
       "      <td>Pour myself a cup of ambition</td>\n",
       "      <td>POUR MYSELF A CUP OF AMBITION</td>\n",
       "    </tr>\n",
       "  </tbody>\n",
       "</table>"
      ],
      "text/plain": [
       "                                             text  \\\n",
       "0  Tumble out of bed and I stumble to the kitchen   \n",
       "1                   Pour myself a cup of ambition   \n",
       "\n",
       "                                        uppercase  \n",
       "0  TUMBLE OUT OF BED AND I STUMBLE TO THE KITCHEN  \n",
       "1                   POUR MYSELF A CUP OF AMBITION  "
      ]
     },
     "execution_count": 11,
     "metadata": {},
     "output_type": "execute_result"
    }
   ],
   "source": [
    "# Query: Test uppercase transformation on subset\n",
    "t.select(\n",
    "    t.text,\n",
    "    uppercase=t.text.upper()\n",
    ").head(2)"
   ]
  },
  {
   "cell_type": "code",
   "execution_count": 12,
   "metadata": {},
   "outputs": [
    {
     "name": "stdout",
     "output_type": "stream",
     "text": [
      "Added 6 column values with 0 errors.\n"
     ]
    },
    {
     "data": {
      "text/html": [
       "<table border=\"1\" class=\"dataframe\">\n",
       "  <thead>\n",
       "    <tr style=\"text-align: right;\">\n",
       "      <th>text</th>\n",
       "      <th>uppercase</th>\n",
       "    </tr>\n",
       "  </thead>\n",
       "  <tbody>\n",
       "    <tr>\n",
       "      <td>Tumble out of bed and I stumble to the kitchen</td>\n",
       "      <td>TUMBLE OUT OF BED AND I STUMBLE TO THE KITCHEN</td>\n",
       "    </tr>\n",
       "    <tr>\n",
       "      <td>Pour myself a cup of ambition</td>\n",
       "      <td>POUR MYSELF A CUP OF AMBITION</td>\n",
       "    </tr>\n",
       "    <tr>\n",
       "      <td>And yawn and stretch and try to come to life</td>\n",
       "      <td>AND YAWN AND STRETCH AND TRY TO COME TO LIFE</td>\n",
       "    </tr>\n",
       "    <tr>\n",
       "      <td>Jump in the shower and the blood starts pumpin&#x27;</td>\n",
       "      <td>JUMP IN THE SHOWER AND THE BLOOD STARTS PUMPIN&#x27;</td>\n",
       "    </tr>\n",
       "    <tr>\n",
       "      <td>Out on the street, the traffic starts jumpin&#x27;</td>\n",
       "      <td>OUT ON THE STREET, THE TRAFFIC STARTS JUMPIN&#x27;</td>\n",
       "    </tr>\n",
       "    <tr>\n",
       "      <td>With folks like me on the job from nine to five</td>\n",
       "      <td>WITH FOLKS LIKE ME ON THE JOB FROM NINE TO FIVE</td>\n",
       "    </tr>\n",
       "  </tbody>\n",
       "</table>"
      ],
      "text/plain": [
       "                                              text  \\\n",
       "0   Tumble out of bed and I stumble to the kitchen   \n",
       "1                    Pour myself a cup of ambition   \n",
       "2     And yawn and stretch and try to come to life   \n",
       "3  Jump in the shower and the blood starts pumpin'   \n",
       "4    Out on the street, the traffic starts jumpin'   \n",
       "5  With folks like me on the job from nine to five   \n",
       "\n",
       "                                         uppercase  \n",
       "0   TUMBLE OUT OF BED AND I STUMBLE TO THE KITCHEN  \n",
       "1                    POUR MYSELF A CUP OF AMBITION  \n",
       "2     AND YAWN AND STRETCH AND TRY TO COME TO LIFE  \n",
       "3  JUMP IN THE SHOWER AND THE BLOOD STARTS PUMPIN'  \n",
       "4    OUT ON THE STREET, THE TRAFFIC STARTS JUMPIN'  \n",
       "5  WITH FOLKS LIKE ME ON THE JOB FROM NINE TO FIVE  "
      ]
     },
     "execution_count": 12,
     "metadata": {},
     "output_type": "execute_result"
    }
   ],
   "source": [
    "# Commit: Apply to all rows (same expression)\n",
    "t.add_computed_column(uppercase=t.text.upper())\n",
    "\n",
    "t.select(t.text, t.uppercase).show()"
   ]
  },
  {
   "cell_type": "markdown",
   "metadata": {},
   "source": [
    "### Example 2: Custom UDF\n",
    "\n",
    "Query-then-Commit with a user-defined function.\n"
   ]
  },
  {
   "cell_type": "code",
   "execution_count": 13,
   "metadata": {},
   "outputs": [],
   "source": [
    "# Define a custom transformation\n",
    "@pxt.udf\n",
    "def word_count(text: str) -> int:\n",
    "    return len(text.split())\n"
   ]
  },
  {
   "cell_type": "code",
   "execution_count": 14,
   "metadata": {},
   "outputs": [
    {
     "data": {
      "text/html": [
       "<table border=\"1\" class=\"dataframe\">\n",
       "  <thead>\n",
       "    <tr style=\"text-align: right;\">\n",
       "      <th>text</th>\n",
       "      <th>word_count</th>\n",
       "    </tr>\n",
       "  </thead>\n",
       "  <tbody>\n",
       "    <tr>\n",
       "      <td>Tumble out of bed and I stumble to the kitchen</td>\n",
       "      <td>10</td>\n",
       "    </tr>\n",
       "    <tr>\n",
       "      <td>Pour myself a cup of ambition</td>\n",
       "      <td>6</td>\n",
       "    </tr>\n",
       "  </tbody>\n",
       "</table>"
      ],
      "text/plain": [
       "                                             text  word_count\n",
       "0  Tumble out of bed and I stumble to the kitchen          10\n",
       "1                   Pour myself a cup of ambition           6"
      ]
     },
     "execution_count": 14,
     "metadata": {},
     "output_type": "execute_result"
    }
   ],
   "source": [
    "# Query: Test UDF on subset\n",
    "t.select(\n",
    "    t.text,\n",
    "    word_count=word_count(t.text)\n",
    ").head(2)\n"
   ]
  },
  {
   "cell_type": "code",
   "execution_count": 15,
   "metadata": {},
   "outputs": [
    {
     "name": "stdout",
     "output_type": "stream",
     "text": [
      "Added 6 column values with 0 errors.\n"
     ]
    },
    {
     "data": {
      "text/html": [
       "<table border=\"1\" class=\"dataframe\">\n",
       "  <thead>\n",
       "    <tr style=\"text-align: right;\">\n",
       "      <th>text</th>\n",
       "      <th>word_count</th>\n",
       "    </tr>\n",
       "  </thead>\n",
       "  <tbody>\n",
       "    <tr>\n",
       "      <td>Tumble out of bed and I stumble to the kitchen</td>\n",
       "      <td>10</td>\n",
       "    </tr>\n",
       "    <tr>\n",
       "      <td>Pour myself a cup of ambition</td>\n",
       "      <td>6</td>\n",
       "    </tr>\n",
       "    <tr>\n",
       "      <td>And yawn and stretch and try to come to life</td>\n",
       "      <td>10</td>\n",
       "    </tr>\n",
       "    <tr>\n",
       "      <td>Jump in the shower and the blood starts pumpin&#x27;</td>\n",
       "      <td>9</td>\n",
       "    </tr>\n",
       "    <tr>\n",
       "      <td>Out on the street, the traffic starts jumpin&#x27;</td>\n",
       "      <td>8</td>\n",
       "    </tr>\n",
       "    <tr>\n",
       "      <td>With folks like me on the job from nine to five</td>\n",
       "      <td>11</td>\n",
       "    </tr>\n",
       "  </tbody>\n",
       "</table>"
      ],
      "text/plain": [
       "                                              text  word_count\n",
       "0   Tumble out of bed and I stumble to the kitchen          10\n",
       "1                    Pour myself a cup of ambition           6\n",
       "2     And yawn and stretch and try to come to life          10\n",
       "3  Jump in the shower and the blood starts pumpin'           9\n",
       "4    Out on the street, the traffic starts jumpin'           8\n",
       "5  With folks like me on the job from nine to five          11"
      ]
     },
     "execution_count": 15,
     "metadata": {},
     "output_type": "execute_result"
    }
   ],
   "source": [
    "# Commit: Apply to all rows (same expression)\n",
    "t.add_computed_column(word_count=word_count(t.text))\n",
    "\n",
    "t.select(t.text, t.word_count).show()\n"
   ]
  },
  {
   "cell_type": "markdown",
   "metadata": {},
   "source": [
    "## Explanation\n",
    "\n",
    "**How Query-then-Commit works:**\n",
    "\n",
    "1. **Query** - Use `.select()` with `.head()` to test logic on a subset\n",
    "2. **Commit** - Use `.add_computed_column()` with the exact same expression\n",
    "\n",
    "**Why it matters:**\n",
    "- Test on 2-3 rows instead of your full dataset\n",
    "- No throwaway code to delete later\n",
    "- No transcription errors (same expression in both steps)\n",
    "- Iterate faster, especially with expensive operations (API calls, model inference)\n"
   ]
  },
  {
   "cell_type": "markdown",
   "metadata": {},
   "source": [
    "## See also\n",
    "\n",
    "- [Transform images with PIL operations](./img-pil-transforms.ipynb)\n",
    "- [Convert RGB images to grayscale](./img-rgb-to-grayscale.ipynb)\n",
    "- [Apply filters to images](./img-apply-filters.ipynb)\n"
   ]
  }
 ],
 "metadata": {
  "kernelspec": {
   "display_name": ".venv",
   "language": "python",
   "name": "python3"
  },
  "language_info": {
   "codemirror_mode": {
    "name": "ipython",
    "version": 3
   },
   "file_extension": ".py",
   "mimetype": "text/x-python",
   "name": "python",
   "nbconvert_exporter": "python",
   "pygments_lexer": "ipython3",
   "version": "3.13.7"
  }
 },
 "nbformat": 4,
 "nbformat_minor": 2
}
