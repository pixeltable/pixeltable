{
 "cells": [
  {
   "cell_type": "markdown",
   "id": "2da74129",
   "metadata": {},
   "source": [
    "# Using the OpenAI API with Pixeltable"
   ]
  },
  {
   "cell_type": "markdown",
   "id": "3e777354",
   "metadata": {},
   "source": [
    "PixelTable helps users unify data and computation into a table interface. This notebook shows how we can use the OpenAI API via pixeltable.\n",
    "We will keep all artifacts within the `demos` directory."
   ]
  },
  {
   "cell_type": "code",
   "execution_count": 1,
   "id": "9bdc613f",
   "metadata": {},
   "outputs": [
    {
     "name": "stdout",
     "output_type": "stream",
     "text": [
      "2024-01-29 14:50:16,598 INFO pixeltable env.py:188: found database postgresql://postgres:@/pixeltable?host=/run/user/1000/python_PostgresServer/8fd7da6a31\n",
      "2024-01-29 14:50:16,692 INFO pixeltable env.py:199: connecting to NOS\n"
     ]
    },
    {
     "name": "stderr",
     "output_type": "stream",
     "text": [
      "/home/marcel/pixeltable/pixeltable/exec/expr_eval_node.py:6: TqdmExperimentalWarning: Using `tqdm.autonotebook.tqdm` in notebook mode. Use `tqdm.tqdm` instead to force console mode (e.g. in jupyter console)\n",
      "  from tqdm.autonotebook import tqdm\n"
     ]
    },
    {
     "name": "stdout",
     "output_type": "stream",
     "text": [
      "\u001b[32m2024-01-29 14:50:16.714\u001b[0m | \u001b[1mINFO    \u001b[0m | \u001b[36mnos.server\u001b[0m:\u001b[36minit\u001b[0m:\u001b[36m131\u001b[0m - \u001b[1mInference server already running (name=nos-inference-service-gpu, image=<Image: 'autonomi/nos:0.0.9-gpu'>, id=d4255c36b739).\u001b[0m\n",
      "2024-01-29 14:50:16,715 INFO pixeltable env.py:202: waiting for NOS\n",
      "2024-01-29 14:50:16,727 INFO pixeltable env.py:223: connecting to OpenAI\n"
     ]
    }
   ],
   "source": [
    "import pixeltable as pxt\n",
    "cl = pxt.Client()\n",
    "cl.create_dir('demos', ignore_errors=True)\n",
    "path = 'demos.chat_completions_demo'"
   ]
  },
  {
   "cell_type": "markdown",
   "id": "aa71d21e",
   "metadata": {},
   "source": [
    "# Creating a table with inputs"
   ]
  },
  {
   "cell_type": "code",
   "execution_count": 2,
   "id": "a6a7bd0d",
   "metadata": {},
   "outputs": [],
   "source": [
    "if path in cl.list_tables():\n",
    "    cl.drop_table(path)\n",
    "\n",
    "t = cl.create_table(path, {'id': pxt.IntType(), 'input': pxt.StringType()})"
   ]
  },
  {
   "cell_type": "code",
   "execution_count": 3,
   "id": "342407c1",
   "metadata": {},
   "outputs": [],
   "source": [
    "# text from https://en.wikipedia.org/wiki/Global_financial_crisis_in_September_2008\n",
    "wikipedia_text = '''On Sunday, September 14, it was announced that Lehman Brothers would file for bankruptcy after the Federal Reserve Bank declined to participate in creating a financial support facility for Lehman Brothers.\n",
    "The significance of the Lehman Brothers bankruptcy is disputed with some assigning it a pivotal role in the unfolding of subsequent events.\n",
    "The principals involved, Ben Bernanke and Henry Paulson, dispute this view, citing a volume of toxic assets at Lehman which made a rescue impossible.[16][17] Immediately following the bankruptcy, JPMorgan Chase provided the broker dealer unit of Lehman Brothers with $138 billion to \"settle securities transactions with customers of Lehman and its clearance parties\" according to a statement made in a New York City Bankruptcy court filing.[18]\n",
    "The same day, the sale of Merrill Lynch to Bank of America was announced.[19] The beginning of the week was marked by extreme instability in global stock markets, with dramatic drops in market values on Monday, September 15, and Wednesday, September 17.\n",
    "On September 16, the large insurer American International Group (AIG), a significant participant in the credit default swaps markets, suffered a liquidity crisis following the downgrade of its credit rating.\n",
    "The Federal Reserve, at AIG's request, and after AIG had shown that it could not find lenders willing to save it from insolvency, created a credit facility for up to US$85 billion in exchange for a 79.9% equity interest, and the right to suspend dividends to previously issued common and preferred stock.[20]'''\n",
    "\n",
    "sample_inputs = wikipedia_text.split('\\n')"
   ]
  },
  {
   "cell_type": "code",
   "execution_count": 4,
   "id": "c5f0b862",
   "metadata": {},
   "outputs": [
    {
     "data": {
      "application/vnd.jupyter.widget-view+json": {
       "model_id": "810829c30ce64748bc8a9a1abd4b334e",
       "version_major": 2,
       "version_minor": 0
      },
      "text/plain": [
       "Inserting rows into table: 0rows [00:00, ?rows/s]"
      ]
     },
     "metadata": {},
     "output_type": "display_data"
    },
    {
     "name": "stdout",
     "output_type": "stream",
     "text": [
      "inserted 1 row with 0 errors \n"
     ]
    },
    {
     "data": {
      "text/html": [
       "<table border=\"1\" class=\"dataframe\">\n",
       "  <thead>\n",
       "    <tr style=\"text-align: right;\">\n",
       "      <th>id</th>\n",
       "      <th>input</th>\n",
       "    </tr>\n",
       "  </thead>\n",
       "  <tbody>\n",
       "    <tr>\n",
       "      <td>0</td>\n",
       "      <td>On Sunday, September 14, it was announced that Lehman Brothers would file for bankruptcy after the Federal Reserve Bank declined to participate in creating a financial support facility for Lehman Brothers.</td>\n",
       "    </tr>\n",
       "  </tbody>\n",
       "</table>"
      ],
      "text/plain": [
       "   id                                              input\n",
       "0   0  On Sunday, September 14, it was announced that..."
      ]
     },
     "execution_count": 4,
     "metadata": {},
     "output_type": "execute_result"
    }
   ],
   "source": [
    "# example row inserted, persisted to table.\n",
    "t.insert([{'id': 0, 'input': sample_inputs[0]}])\n",
    "t.show()"
   ]
  },
  {
   "cell_type": "markdown",
   "id": "8b08ecc3",
   "metadata": {},
   "source": [
    "# Making OpenAI API calls\n",
    "\n",
    "Calling OpenAI API endpoints involves constructing a message object, which we express in Pixeltable by adding a new computed column,i.e., a column that represents a computation."
   ]
  },
  {
   "cell_type": "code",
   "execution_count": 5,
   "id": "12197f4e",
   "metadata": {},
   "outputs": [
    {
     "data": {
      "application/vnd.jupyter.widget-view+json": {
       "model_id": "610411c44d344b5eb2336fa4564a38cc",
       "version_major": 2,
       "version_minor": 0
      },
      "text/plain": [
       "Computing cells:   0%|          | 0/1 [00:00<?, ?cells/s]"
      ]
     },
     "metadata": {},
     "output_type": "display_data"
    },
    {
     "name": "stdout",
     "output_type": "stream",
     "text": [
      "added 1 column values with 0 errors\n"
     ]
    },
    {
     "data": {
      "text/plain": [
       "UpdateStatus(num_rows=1, num_computed_values=1, num_excs=0, updated_cols=[], cols_with_excs=[])"
      ]
     },
     "execution_count": 5,
     "metadata": {},
     "output_type": "execute_result"
    }
   ],
   "source": [
    "prompt = \"For the following sentence, extract all company names from the text.\"\n",
    "\n",
    "msgs = [\n",
    "    { \"role\": \"system\", \"content\": prompt },\n",
    "    { \"role\": \"user\", \"content\": t.input }\n",
    "]\n",
    "\n",
    "t.add_column(input_msgs=msgs)"
   ]
  },
  {
   "cell_type": "markdown",
   "id": "92068113",
   "metadata": {},
   "source": [
    "Unlike the values of the`input` column, which users provide, the `t.input_msgs` column is computed automatically from the `t.input` column values:"
   ]
  },
  {
   "cell_type": "code",
   "execution_count": 6,
   "id": "249592fc",
   "metadata": {},
   "outputs": [
    {
     "data": {
      "text/html": [
       "<table border=\"1\" class=\"dataframe\">\n",
       "  <thead>\n",
       "    <tr style=\"text-align: right;\">\n",
       "      <th>id</th>\n",
       "      <th>input</th>\n",
       "      <th>input_msgs</th>\n",
       "    </tr>\n",
       "  </thead>\n",
       "  <tbody>\n",
       "    <tr>\n",
       "      <td>0</td>\n",
       "      <td>On Sunday, September 14, it was announced that Lehman Brothers would file for bankruptcy after the Federal Reserve Bank declined to participate in creating a financial support facility for Lehman Brothers.</td>\n",
       "      <td>[{'role': 'system', 'content': 'For the following sentence, extract all company names from the text.'}, {'role': 'user', 'content': 'On Sunday, September 14, it was announced that Lehman Brothers would file for bankruptcy after the Federal Reserve Bank declined to participate in creating a financial support facility for Lehman Brothers.'}]</td>\n",
       "    </tr>\n",
       "  </tbody>\n",
       "</table>"
      ],
      "text/plain": [
       "   id                                              input  \\\n",
       "0   0  On Sunday, September 14, it was announced that...   \n",
       "\n",
       "                                          input_msgs  \n",
       "0  [{'role': 'system', 'content': 'For the follow...  "
      ]
     },
     "execution_count": 6,
     "metadata": {},
     "output_type": "execute_result"
    }
   ],
   "source": [
    "t.show()"
   ]
  },
  {
   "cell_type": "markdown",
   "id": "7cea0186",
   "metadata": {},
   "source": [
    "In Pixeltable, OpenAI API calls are exposed as Pixeltable functions, which can be used to create computed columns.\n",
    "\n",
    "For the following command to work, you must have set `os.environ['OPENAI_API_KEY']`."
   ]
  },
  {
   "cell_type": "code",
   "execution_count": 7,
   "id": "d0aaed0e",
   "metadata": {},
   "outputs": [
    {
     "data": {
      "application/vnd.jupyter.widget-view+json": {
       "model_id": "996e1d7e46de4e73a81bf827ba822058",
       "version_major": 2,
       "version_minor": 0
      },
      "text/plain": [
       "Computing cells:   0%|          | 0/1 [00:00<?, ?cells/s]"
      ]
     },
     "metadata": {},
     "output_type": "display_data"
    },
    {
     "name": "stdout",
     "output_type": "stream",
     "text": [
      "added 1 column values with 0 errors\n"
     ]
    },
    {
     "data": {
      "text/html": [
       "<table border=\"1\" class=\"dataframe\">\n",
       "  <thead>\n",
       "    <tr style=\"text-align: right;\">\n",
       "      <th>id</th>\n",
       "      <th>input</th>\n",
       "      <th>input_msgs</th>\n",
       "      <th>chat_output</th>\n",
       "    </tr>\n",
       "  </thead>\n",
       "  <tbody>\n",
       "    <tr>\n",
       "      <td>0</td>\n",
       "      <td>On Sunday, September 14, it was announced that Lehman Brothers would file for bankruptcy after the Federal Reserve Bank declined to participate in creating a financial support facility for Lehman Brothers.</td>\n",
       "      <td>[{'role': 'system', 'content': 'For the following sentence, extract all company names from the text.'}, {'role': 'user', 'content': 'On Sunday, September 14, it was announced that Lehman Brothers would file for bankruptcy after the Federal Reserve Bank declined to participate in creating a financial support facility for Lehman Brothers.'}]</td>\n",
       "      <td>{'id': 'chatcmpl-8mUkDEuZVPzk6k4veHCYEHSrpLvTM', 'model': 'gpt-3.5-turbo-0613', 'usage': {'total_tokens': 65, 'prompt_tokens': 61, 'completion_tokens': 4}, 'object': 'chat.completion', 'choices': [{'index': 0, 'message': {'role': 'assistant', 'content': 'Lehman Brothers', 'tool_calls': None, 'function_call': None}, 'logprobs': None, 'finish_reason': 'stop'}], 'created': 1706568617, 'system_fingerprint': None}</td>\n",
       "    </tr>\n",
       "  </tbody>\n",
       "</table>"
      ],
      "text/plain": [
       "   id                                              input  \\\n",
       "0   0  On Sunday, September 14, it was announced that...   \n",
       "\n",
       "                                          input_msgs  \\\n",
       "0  [{'role': 'system', 'content': 'For the follow...   \n",
       "\n",
       "                                         chat_output  \n",
       "0  {'id': 'chatcmpl-8mUkDEuZVPzk6k4veHCYEHSrpLvTM...  "
      ]
     },
     "execution_count": 7,
     "metadata": {},
     "output_type": "execute_result"
    }
   ],
   "source": [
    "from pixeltable.functions.openai import chat_completions\n",
    "t['chat_output'] = chat_completions(model='gpt-3.5-turbo', messages=t.input_msgs)\n",
    "t.show()"
   ]
  },
  {
   "cell_type": "markdown",
   "id": "004723a6",
   "metadata": {},
   "source": [
    "The result objects of the OpenAI API calls are generally complex JSON structures, which require some navigation to extract the response. We can express this as JSON path expressions and create another computed column:"
   ]
  },
  {
   "cell_type": "code",
   "execution_count": 8,
   "id": "06e15905",
   "metadata": {},
   "outputs": [
    {
     "data": {
      "application/vnd.jupyter.widget-view+json": {
       "model_id": "c3f36bb5ab86445982cadc9514a61844",
       "version_major": 2,
       "version_minor": 0
      },
      "text/plain": [
       "Computing cells:   0%|          | 0/1 [00:00<?, ?cells/s]"
      ]
     },
     "metadata": {},
     "output_type": "display_data"
    },
    {
     "name": "stdout",
     "output_type": "stream",
     "text": [
      "added 1 column values with 0 errors\n"
     ]
    },
    {
     "data": {
      "text/html": [
       "<table border=\"1\" class=\"dataframe\">\n",
       "  <thead>\n",
       "    <tr style=\"text-align: right;\">\n",
       "      <th>id</th>\n",
       "      <th>input</th>\n",
       "      <th>input_msgs</th>\n",
       "      <th>chat_output</th>\n",
       "      <th>response</th>\n",
       "    </tr>\n",
       "  </thead>\n",
       "  <tbody>\n",
       "    <tr>\n",
       "      <td>0</td>\n",
       "      <td>On Sunday, September 14, it was announced that Lehman Brothers would file for bankruptcy after the Federal Reserve Bank declined to participate in creating a financial support facility for Lehman Brothers.</td>\n",
       "      <td>[{'role': 'system', 'content': 'For the following sentence, extract all company names from the text.'}, {'role': 'user', 'content': 'On Sunday, September 14, it was announced that Lehman Brothers would file for bankruptcy after the Federal Reserve Bank declined to participate in creating a financial support facility for Lehman Brothers.'}]</td>\n",
       "      <td>{'id': 'chatcmpl-8mUkDEuZVPzk6k4veHCYEHSrpLvTM', 'model': 'gpt-3.5-turbo-0613', 'usage': {'total_tokens': 65, 'prompt_tokens': 61, 'completion_tokens': 4}, 'object': 'chat.completion', 'choices': [{'index': 0, 'message': {'role': 'assistant', 'content': 'Lehman Brothers', 'tool_calls': None, 'function_call': None}, 'logprobs': None, 'finish_reason': 'stop'}], 'created': 1706568617, 'system_fingerprint': None}</td>\n",
       "      <td>Lehman Brothers</td>\n",
       "    </tr>\n",
       "  </tbody>\n",
       "</table>"
      ],
      "text/plain": [
       "   id                                              input  \\\n",
       "0   0  On Sunday, September 14, it was announced that...   \n",
       "\n",
       "                                          input_msgs  \\\n",
       "0  [{'role': 'system', 'content': 'For the follow...   \n",
       "\n",
       "                                         chat_output         response  \n",
       "0  {'id': 'chatcmpl-8mUkDEuZVPzk6k4veHCYEHSrpLvTM...  Lehman Brothers  "
      ]
     },
     "execution_count": 8,
     "metadata": {},
     "output_type": "execute_result"
    }
   ],
   "source": [
    "t['response'] = t.chat_output.choices[0].message.content\n",
    "t.show()"
   ]
  },
  {
   "cell_type": "markdown",
   "id": "96d19ca5",
   "metadata": {},
   "source": [
    "Let's run a query to look only at the input and output:"
   ]
  },
  {
   "cell_type": "code",
   "execution_count": 9,
   "id": "4313dbb1",
   "metadata": {},
   "outputs": [
    {
     "data": {
      "text/html": [
       "<table border=\"1\" class=\"dataframe\">\n",
       "  <thead>\n",
       "    <tr style=\"text-align: right;\">\n",
       "      <th>input</th>\n",
       "      <th>response</th>\n",
       "    </tr>\n",
       "  </thead>\n",
       "  <tbody>\n",
       "    <tr>\n",
       "      <td>On Sunday, September 14, it was announced that Lehman Brothers would file for bankruptcy after the Federal Reserve Bank declined to participate in creating a financial support facility for Lehman Brothers.</td>\n",
       "      <td>Lehman Brothers</td>\n",
       "    </tr>\n",
       "  </tbody>\n",
       "</table>"
      ],
      "text/plain": [
       "                                               input         response\n",
       "0  On Sunday, September 14, it was announced that...  Lehman Brothers"
      ]
     },
     "execution_count": 9,
     "metadata": {},
     "output_type": "execute_result"
    }
   ],
   "source": [
    "t.select(t.input, t.response).show()"
   ]
  },
  {
   "cell_type": "markdown",
   "id": "3ae2854d",
   "metadata": {},
   "source": [
    "Once we have defined these computed columns, much like with a spreadsheet, newly inserted `t.input` values trigger computation of all derived columns, such as `t.response`:"
   ]
  },
  {
   "cell_type": "code",
   "execution_count": 10,
   "id": "d5144a35",
   "metadata": {},
   "outputs": [
    {
     "data": {
      "application/vnd.jupyter.widget-view+json": {
       "model_id": "f99ff09a01c24402977a676240592044",
       "version_major": 2,
       "version_minor": 0
      },
      "text/plain": [
       "Computing cells:   0%|          | 0/15 [00:00<?, ?cells/s]"
      ]
     },
     "metadata": {},
     "output_type": "display_data"
    },
    {
     "data": {
      "application/vnd.jupyter.widget-view+json": {
       "model_id": "901a13f4bec64429b653ce772a262b48",
       "version_major": 2,
       "version_minor": 0
      },
      "text/plain": [
       "Inserting rows into table: 0rows [00:00, ?rows/s]"
      ]
     },
     "metadata": {},
     "output_type": "display_data"
    },
    {
     "name": "stdout",
     "output_type": "stream",
     "text": [
      "inserted 5 rows with 0 errors \n"
     ]
    },
    {
     "data": {
      "text/plain": [
       "UpdateStatus(num_rows=5, num_computed_values=15, num_excs=0, updated_cols=[], cols_with_excs=[])"
      ]
     },
     "execution_count": 10,
     "metadata": {},
     "output_type": "execute_result"
    }
   ],
   "source": [
    "t.insert([{'id': i, 'input': sample_inputs[i]} for i in range(1, len(sample_inputs))])"
   ]
  },
  {
   "cell_type": "code",
   "execution_count": 11,
   "id": "729713aa",
   "metadata": {},
   "outputs": [
    {
     "data": {
      "text/html": [
       "<table border=\"1\" class=\"dataframe\">\n",
       "  <thead>\n",
       "    <tr style=\"text-align: right;\">\n",
       "      <th>input</th>\n",
       "      <th>response</th>\n",
       "    </tr>\n",
       "  </thead>\n",
       "  <tbody>\n",
       "    <tr>\n",
       "      <td>On Sunday, September 14, it was announced that Lehman Brothers would file for bankruptcy after the Federal Reserve Bank declined to participate in creating a financial support facility for Lehman Brothers.</td>\n",
       "      <td>Lehman Brothers</td>\n",
       "    </tr>\n",
       "    <tr>\n",
       "      <td>The significance of the Lehman Brothers bankruptcy is disputed with some assigning it a pivotal role in the unfolding of subsequent events.</td>\n",
       "      <td>Lehman Brothers</td>\n",
       "    </tr>\n",
       "    <tr>\n",
       "      <td>The principals involved, Ben Bernanke and Henry Paulson, dispute this view, citing a volume of toxic assets at Lehman which made a rescue impossible.[16][17] Immediately following the bankruptcy, JPMorgan Chase provided the broker dealer unit of Lehman Brothers with $138 billion to \"settle securities transactions with customers of Lehman and its clearance parties\" according to a statement made in a New York City Bankruptcy court filing.[18]</td>\n",
       "      <td>Lehman Brothers, JPMorgan Chase</td>\n",
       "    </tr>\n",
       "    <tr>\n",
       "      <td>The same day, the sale of Merrill Lynch to Bank of America was announced.[19] The beginning of the week was marked by extreme instability in global stock markets, with dramatic drops in market values on Monday, September 15, and Wednesday, September 17.</td>\n",
       "      <td>Merrill Lynch, Bank of America</td>\n",
       "    </tr>\n",
       "    <tr>\n",
       "      <td>On September 16, the large insurer American International Group (AIG), a significant participant in the credit default swaps markets, suffered a liquidity crisis following the downgrade of its credit rating.</td>\n",
       "      <td>American International Group (AIG)</td>\n",
       "    </tr>\n",
       "    <tr>\n",
       "      <td>The Federal Reserve, at AIG's request, and after AIG had shown that it could not find lenders willing to save it from insolvency, created a credit facility for up to US$85 billion in exchange for a 79.9% equity interest, and the right to suspend dividends to previously issued common and preferred stock.[20]</td>\n",
       "      <td>AIG, Federal Reserve</td>\n",
       "    </tr>\n",
       "  </tbody>\n",
       "</table>"
      ],
      "text/plain": [
       "                                               input  \\\n",
       "0  On Sunday, September 14, it was announced that...   \n",
       "1  The significance of the Lehman Brothers bankru...   \n",
       "2  The principals involved, Ben Bernanke and Henr...   \n",
       "3  The same day, the sale of Merrill Lynch to Ban...   \n",
       "4  On September 16, the large insurer American In...   \n",
       "5  The Federal Reserve, at AIG's request, and aft...   \n",
       "\n",
       "                             response  \n",
       "0                     Lehman Brothers  \n",
       "1                     Lehman Brothers  \n",
       "2     Lehman Brothers, JPMorgan Chase  \n",
       "3      Merrill Lynch, Bank of America  \n",
       "4  American International Group (AIG)  \n",
       "5                AIG, Federal Reserve  "
      ]
     },
     "execution_count": 11,
     "metadata": {},
     "output_type": "execute_result"
    }
   ],
   "source": [
    "t.select(t.input, t.response).show()"
   ]
  },
  {
   "cell_type": "markdown",
   "id": "a0cfe126",
   "metadata": {},
   "source": [
    "# Adding ground truth data\n",
    "\n",
    "Computed table columns are stored and persisted, avoiding repeated computation.\n",
    "Pixeltable can be used to conduct experiments, for example to compare prompt variations:\n",
    "\n",
    "We'll start by creating our ground-truth data manually:"
   ]
  },
  {
   "cell_type": "code",
   "execution_count": 12,
   "id": "6d4f8611",
   "metadata": {},
   "outputs": [
    {
     "data": {
      "application/vnd.jupyter.widget-view+json": {
       "model_id": "e2525bd541704f8c9840aa40865baccb",
       "version_major": 2,
       "version_minor": 0
      },
      "text/plain": [
       "Inserting rows into table: 0rows [00:00, ?rows/s]"
      ]
     },
     "metadata": {},
     "output_type": "display_data"
    },
    {
     "data": {
      "application/vnd.jupyter.widget-view+json": {
       "model_id": "95c4ae0335e94557a2af8acf3bf5d869",
       "version_major": 2,
       "version_minor": 0
      },
      "text/plain": [
       "Inserting rows into table: 0rows [00:00, ?rows/s]"
      ]
     },
     "metadata": {},
     "output_type": "display_data"
    },
    {
     "data": {
      "application/vnd.jupyter.widget-view+json": {
       "model_id": "860602d31a0d49cdbe22c7b454dd25a0",
       "version_major": 2,
       "version_minor": 0
      },
      "text/plain": [
       "Inserting rows into table: 0rows [00:00, ?rows/s]"
      ]
     },
     "metadata": {},
     "output_type": "display_data"
    },
    {
     "data": {
      "application/vnd.jupyter.widget-view+json": {
       "model_id": "3bd75bba519c4645a5bd9df664149125",
       "version_major": 2,
       "version_minor": 0
      },
      "text/plain": [
       "Inserting rows into table: 0rows [00:00, ?rows/s]"
      ]
     },
     "metadata": {},
     "output_type": "display_data"
    },
    {
     "data": {
      "application/vnd.jupyter.widget-view+json": {
       "model_id": "61ef002424e54f3dab843aaf520c7e9e",
       "version_major": 2,
       "version_minor": 0
      },
      "text/plain": [
       "Inserting rows into table: 0rows [00:00, ?rows/s]"
      ]
     },
     "metadata": {},
     "output_type": "display_data"
    },
    {
     "data": {
      "application/vnd.jupyter.widget-view+json": {
       "model_id": "4fb9aa424f3f483cb046611a0c543785",
       "version_major": 2,
       "version_minor": 0
      },
      "text/plain": [
       "Inserting rows into table: 0rows [00:00, ?rows/s]"
      ]
     },
     "metadata": {},
     "output_type": "display_data"
    }
   ],
   "source": [
    "t['ground_truth'] = pxt.StringType(nullable=True)\n",
    "\n",
    "ground_truth = [\n",
    "    'Lehman Brothers',\n",
    "    'Lehman Brothers',\n",
    "    'JP Morgan Chase, Lehman Brothers',\n",
    "    'Merill Lynch, Bank of America',\n",
    "    'American International Group',\n",
    "    'American International Group',\n",
    "]\n",
    "\n",
    "for i, gt in enumerate(ground_truth):\n",
    "    t.update({'ground_truth': gt}, where=(t['id'] == i))"
   ]
  },
  {
   "cell_type": "markdown",
   "id": "17406f13",
   "metadata": {},
   "source": [
    "And this is what we have so far:"
   ]
  },
  {
   "cell_type": "code",
   "execution_count": 13,
   "id": "72457011",
   "metadata": {},
   "outputs": [
    {
     "data": {
      "text/html": [
       "<table border=\"1\" class=\"dataframe\">\n",
       "  <thead>\n",
       "    <tr style=\"text-align: right;\">\n",
       "      <th>input</th>\n",
       "      <th>response</th>\n",
       "      <th>ground_truth</th>\n",
       "    </tr>\n",
       "  </thead>\n",
       "  <tbody>\n",
       "    <tr>\n",
       "      <td>On Sunday, September 14, it was announced that Lehman Brothers would file for bankruptcy after the Federal Reserve Bank declined to participate in creating a financial support facility for Lehman Brothers.</td>\n",
       "      <td>Lehman Brothers</td>\n",
       "      <td>Lehman Brothers</td>\n",
       "    </tr>\n",
       "    <tr>\n",
       "      <td>The significance of the Lehman Brothers bankruptcy is disputed with some assigning it a pivotal role in the unfolding of subsequent events.</td>\n",
       "      <td>Lehman Brothers</td>\n",
       "      <td>Lehman Brothers</td>\n",
       "    </tr>\n",
       "    <tr>\n",
       "      <td>The principals involved, Ben Bernanke and Henry Paulson, dispute this view, citing a volume of toxic assets at Lehman which made a rescue impossible.[16][17] Immediately following the bankruptcy, JPMorgan Chase provided the broker dealer unit of Lehman Brothers with $138 billion to \"settle securities transactions with customers of Lehman and its clearance parties\" according to a statement made in a New York City Bankruptcy court filing.[18]</td>\n",
       "      <td>Lehman Brothers, JPMorgan Chase</td>\n",
       "      <td>JP Morgan Chase, Lehman Brothers</td>\n",
       "    </tr>\n",
       "    <tr>\n",
       "      <td>The same day, the sale of Merrill Lynch to Bank of America was announced.[19] The beginning of the week was marked by extreme instability in global stock markets, with dramatic drops in market values on Monday, September 15, and Wednesday, September 17.</td>\n",
       "      <td>Merrill Lynch, Bank of America</td>\n",
       "      <td>Merill Lynch, Bank of America</td>\n",
       "    </tr>\n",
       "    <tr>\n",
       "      <td>On September 16, the large insurer American International Group (AIG), a significant participant in the credit default swaps markets, suffered a liquidity crisis following the downgrade of its credit rating.</td>\n",
       "      <td>American International Group (AIG)</td>\n",
       "      <td>American International Group</td>\n",
       "    </tr>\n",
       "    <tr>\n",
       "      <td>The Federal Reserve, at AIG's request, and after AIG had shown that it could not find lenders willing to save it from insolvency, created a credit facility for up to US$85 billion in exchange for a 79.9% equity interest, and the right to suspend dividends to previously issued common and preferred stock.[20]</td>\n",
       "      <td>AIG, Federal Reserve</td>\n",
       "      <td>American International Group</td>\n",
       "    </tr>\n",
       "  </tbody>\n",
       "</table>"
      ],
      "text/plain": [
       "                                               input  \\\n",
       "0  On Sunday, September 14, it was announced that...   \n",
       "1  The significance of the Lehman Brothers bankru...   \n",
       "2  The principals involved, Ben Bernanke and Henr...   \n",
       "3  The same day, the sale of Merrill Lynch to Ban...   \n",
       "4  On September 16, the large insurer American In...   \n",
       "5  The Federal Reserve, at AIG's request, and aft...   \n",
       "\n",
       "                             response                      ground_truth  \n",
       "0                     Lehman Brothers                   Lehman Brothers  \n",
       "1                     Lehman Brothers                   Lehman Brothers  \n",
       "2     Lehman Brothers, JPMorgan Chase  JP Morgan Chase, Lehman Brothers  \n",
       "3      Merrill Lynch, Bank of America     Merill Lynch, Bank of America  \n",
       "4  American International Group (AIG)      American International Group  \n",
       "5                AIG, Federal Reserve      American International Group  "
      ]
     },
     "execution_count": 13,
     "metadata": {},
     "output_type": "execute_result"
    }
   ],
   "source": [
    "t.select(t.input, t.response, t.ground_truth).show()"
   ]
  },
  {
   "cell_type": "markdown",
   "id": "ce291c35",
   "metadata": {},
   "source": [
    "# Evaluation\n",
    "\n",
    "Now that we have some ground truth available, we can carry out basic evaluations of the GPT outputs, in this case by asking ChatGPT to decide whether the two are equivalent. \n",
    "\n",
    "To start with, we'll create an evaluation prompt:"
   ]
  },
  {
   "cell_type": "code",
   "execution_count": 14,
   "id": "c49ea5b7",
   "metadata": {},
   "outputs": [
    {
     "data": {
      "application/vnd.jupyter.widget-view+json": {
       "model_id": "dcfc25e35be2414a8ea2843e62736119",
       "version_major": 2,
       "version_minor": 0
      },
      "text/plain": [
       "Computing cells:   0%|          | 0/6 [00:00<?, ?cells/s]"
      ]
     },
     "metadata": {},
     "output_type": "display_data"
    },
    {
     "name": "stdout",
     "output_type": "stream",
     "text": [
      "added 6 column values with 0 errors\n"
     ]
    },
    {
     "data": {
      "text/plain": [
       "UpdateStatus(num_rows=6, num_computed_values=6, num_excs=0, updated_cols=[], cols_with_excs=[])"
      ]
     },
     "execution_count": 14,
     "metadata": {},
     "output_type": "execute_result"
    }
   ],
   "source": [
    "eval_prompt = '''\n",
    "Compare the following listA and listB of entities, check if they contains the same entities.\n",
    "Return a json object with the following format:\n",
    "{\"reasoning\": explaining your reasoning, \"decision\": 1 if the lists matched, 0 otherwise}\n",
    "'''\n",
    "\n",
    "t.add_column(\n",
    "    eval_prompt=[\n",
    "        { \"role\": \"system\", \"content\": eval_prompt },\n",
    "        {\n",
    "            \"role\": \"user\",\n",
    "            \"content\": pxt.functions.str_format(\n",
    "                'listA: \"{0}\" \\n listB: \"{1}\"', t.response, t.ground_truth)\n",
    "        }])"
   ]
  },
  {
   "cell_type": "markdown",
   "id": "011a85be",
   "metadata": {},
   "source": [
    "The function `str_format()` is similar to an f-string, but allows values to come from any table column."
   ]
  },
  {
   "cell_type": "code",
   "execution_count": 15,
   "id": "08445095",
   "metadata": {
    "scrolled": false
   },
   "outputs": [
    {
     "data": {
      "text/html": [
       "<table border=\"1\" class=\"dataframe\">\n",
       "  <thead>\n",
       "    <tr style=\"text-align: right;\">\n",
       "      <th>eval_prompt</th>\n",
       "    </tr>\n",
       "  </thead>\n",
       "  <tbody>\n",
       "    <tr>\n",
       "      <td>[{'role': 'system', 'content': '\n",
       "Compare the following listA and listB of entities, check if they contains the same entities.\n",
       "Return a json object with the following format:\n",
       "{\"reasoning\": explaining your reasoning, \"decision\": 1 if the lists matched, 0 otherwise}\n",
       "'}, {'role': 'user', 'content': 'listA: \"Lehman Brothers\" \n",
       " listB: \"Lehman Brothers\"'}]</td>\n",
       "    </tr>\n",
       "    <tr>\n",
       "      <td>[{'role': 'system', 'content': '\n",
       "Compare the following listA and listB of entities, check if they contains the same entities.\n",
       "Return a json object with the following format:\n",
       "{\"reasoning\": explaining your reasoning, \"decision\": 1 if the lists matched, 0 otherwise}\n",
       "'}, {'role': 'user', 'content': 'listA: \"Lehman Brothers\" \n",
       " listB: \"Lehman Brothers\"'}]</td>\n",
       "    </tr>\n",
       "    <tr>\n",
       "      <td>[{'role': 'system', 'content': '\n",
       "Compare the following listA and listB of entities, check if they contains the same entities.\n",
       "Return a json object with the following format:\n",
       "{\"reasoning\": explaining your reasoning, \"decision\": 1 if the lists matched, 0 otherwise}\n",
       "'}, {'role': 'user', 'content': 'listA: \"Lehman Brothers, JPMorgan Chase\" \n",
       " listB: \"JP Morgan Chase, Lehman Brothers\"'}]</td>\n",
       "    </tr>\n",
       "    <tr>\n",
       "      <td>[{'role': 'system', 'content': '\n",
       "Compare the following listA and listB of entities, check if they contains the same entities.\n",
       "Return a json object with the following format:\n",
       "{\"reasoning\": explaining your reasoning, \"decision\": 1 if the lists matched, 0 otherwise}\n",
       "'}, {'role': 'user', 'content': 'listA: \"Merrill Lynch, Bank of America\" \n",
       " listB: \"Merill Lynch, Bank of America\"'}]</td>\n",
       "    </tr>\n",
       "    <tr>\n",
       "      <td>[{'role': 'system', 'content': '\n",
       "Compare the following listA and listB of entities, check if they contains the same entities.\n",
       "Return a json object with the following format:\n",
       "{\"reasoning\": explaining your reasoning, \"decision\": 1 if the lists matched, 0 otherwise}\n",
       "'}, {'role': 'user', 'content': 'listA: \"American International Group (AIG)\" \n",
       " listB: \"American International Group\"'}]</td>\n",
       "    </tr>\n",
       "    <tr>\n",
       "      <td>[{'role': 'system', 'content': '\n",
       "Compare the following listA and listB of entities, check if they contains the same entities.\n",
       "Return a json object with the following format:\n",
       "{\"reasoning\": explaining your reasoning, \"decision\": 1 if the lists matched, 0 otherwise}\n",
       "'}, {'role': 'user', 'content': 'listA: \"AIG, Federal Reserve\" \n",
       " listB: \"American International Group\"'}]</td>\n",
       "    </tr>\n",
       "  </tbody>\n",
       "</table>"
      ],
      "text/plain": [
       "                                         eval_prompt\n",
       "0  [{'role': 'system', 'content': '\n",
       "Compare the f...\n",
       "1  [{'role': 'system', 'content': '\n",
       "Compare the f...\n",
       "2  [{'role': 'system', 'content': '\n",
       "Compare the f...\n",
       "3  [{'role': 'system', 'content': '\n",
       "Compare the f...\n",
       "4  [{'role': 'system', 'content': '\n",
       "Compare the f...\n",
       "5  [{'role': 'system', 'content': '\n",
       "Compare the f..."
      ]
     },
     "execution_count": 15,
     "metadata": {},
     "output_type": "execute_result"
    }
   ],
   "source": [
    "t.select(t.eval_prompt).show()"
   ]
  },
  {
   "cell_type": "markdown",
   "id": "0b8be46a",
   "metadata": {},
   "source": [
    "The actual evaluation happens in another computed column:"
   ]
  },
  {
   "cell_type": "code",
   "execution_count": 16,
   "id": "43516050",
   "metadata": {},
   "outputs": [
    {
     "data": {
      "application/vnd.jupyter.widget-view+json": {
       "model_id": "2366a0017acb4501a1d097fbb36dfda1",
       "version_major": 2,
       "version_minor": 0
      },
      "text/plain": [
       "Computing cells:   0%|          | 0/6 [00:00<?, ?cells/s]"
      ]
     },
     "metadata": {},
     "output_type": "display_data"
    },
    {
     "name": "stdout",
     "output_type": "stream",
     "text": [
      "added 6 column values with 0 errors\n"
     ]
    },
    {
     "data": {
      "application/vnd.jupyter.widget-view+json": {
       "model_id": "f50b8622cb6b47ae8a962d6499984e88",
       "version_major": 2,
       "version_minor": 0
      },
      "text/plain": [
       "Computing cells:   0%|          | 0/6 [00:00<?, ?cells/s]"
      ]
     },
     "metadata": {},
     "output_type": "display_data"
    },
    {
     "name": "stdout",
     "output_type": "stream",
     "text": [
      "added 6 column values with 0 errors\n"
     ]
    }
   ],
   "source": [
    "t['eval'] = chat_completions(model='gpt-3.5-turbo', messages=t.eval_prompt)\n",
    "t['eval_output'] = t.eval.choices[0].message.content"
   ]
  },
  {
   "cell_type": "markdown",
   "id": "c72427a8",
   "metadata": {},
   "source": [
    "Let's take a look:"
   ]
  },
  {
   "cell_type": "code",
   "execution_count": 17,
   "id": "5ce36880",
   "metadata": {},
   "outputs": [
    {
     "data": {
      "text/html": [
       "<table border=\"1\" class=\"dataframe\">\n",
       "  <thead>\n",
       "    <tr style=\"text-align: right;\">\n",
       "      <th>eval</th>\n",
       "      <th>eval_output</th>\n",
       "    </tr>\n",
       "  </thead>\n",
       "  <tbody>\n",
       "    <tr>\n",
       "      <td>{'id': 'chatcmpl-8mUkH5nobeETZqebvgcqY0X8N5CiX', 'model': 'gpt-3.5-turbo-0613', 'usage': {'total_tokens': 111, 'prompt_tokens': 81, 'completion_tokens': 30}, 'object': 'chat.completion', 'choices': [{'index': 0, 'message': {'role': 'assistant', 'content': '{\"reasoning\": \"The entities in listA and listB are the same: \\'Lehman Brothers\\'.\", \"decision\": 1}', 'tool_calls': None, 'function_call': None}, 'logprobs': None, 'finish_reason': 'stop'}], 'created': 1706568621, 'system_fingerprint': None}</td>\n",
       "      <td>{\"reasoning\": \"The entities in listA and listB are the same: 'Lehman Brothers'.\", \"decision\": 1}</td>\n",
       "    </tr>\n",
       "    <tr>\n",
       "      <td>{'id': 'chatcmpl-8mUkJkp2BuXPxOHLCFeqMLU8R5WCL', 'model': 'gpt-3.5-turbo-0613', 'usage': {'total_tokens': 108, 'prompt_tokens': 81, 'completion_tokens': 27}, 'object': 'chat.completion', 'choices': [{'index': 0, 'message': {'role': 'assistant', 'content': '{\"reasoning\": \"The reasoning is that both lists have the same entity \\'Lehman Brothers\\'\", \"decision\": 1}', 'tool_calls': None, 'function_call': None}, 'logprobs': None, 'finish_reason': 'stop'}], 'created': 1706568623, 'system_fingerprint': None}</td>\n",
       "      <td>{\"reasoning\": \"The reasoning is that both lists have the same entity 'Lehman Brothers'\", \"decision\": 1}</td>\n",
       "    </tr>\n",
       "    <tr>\n",
       "      <td>{'id': 'chatcmpl-8mUkLgv9bFjgw9fOqOkjTxtelPzVX', 'model': 'gpt-3.5-turbo-0613', 'usage': {'total_tokens': 128, 'prompt_tokens': 89, 'completion_tokens': 39}, 'object': 'chat.completion', 'choices': [{'index': 0, 'message': {'role': 'assistant', 'content': '{\"reasoning\": \"The order of the entities in the lists does not matter. Therefore, we can simply compare the entities in the lists without considering their order.\", \"decision\": 1}', 'tool_calls': None, 'function_call': None}, 'logprobs': None, 'finish_reason': 'stop'}], 'created': 1706568625, 'system_fingerprint': None}</td>\n",
       "      <td>{\"reasoning\": \"The order of the entities in the lists does not matter. Therefore, we can simply compare the entities in the lists without considering their order.\", \"decision\": 1}</td>\n",
       "    </tr>\n",
       "    <tr>\n",
       "      <td>{'id': 'chatcmpl-8mUkM8A1x7oBowCe9svTy06CnB9iP', 'model': 'gpt-3.5-turbo-0613', 'usage': {'total_tokens': 175, 'prompt_tokens': 88, 'completion_tokens': 87}, 'object': 'chat.completion', 'choices': [{'index': 0, 'message': {'role': 'assistant', 'content': '{\"reasoning\": \"Based on the given lists, both listA and listB contain the same entities, which are \\'Merrill Lynch\\' and \\'Bank of America\\'. The only difference is a minor spelling mistake in listB where \\'Merrill\\' is misspelled as \\'Merill\\'. Since the entities are the same despite the spelling difference, the lists can be considered as matched.\", \"decision\": 1}', 'tool_calls': None, 'function_call': None}, 'logprobs': None, 'finish_reason': 'stop'}], 'created': 1706568626, 'system_fingerprint': None}</td>\n",
       "      <td>{\"reasoning\": \"Based on the given lists, both listA and listB contain the same entities, which are 'Merrill Lynch' and 'Bank of America'. The only difference is a minor spelling mistake in listB where 'Merrill' is misspelled as 'Merill'. Since the entities are the same despite the spelling difference, the lists can be considered as matched.\", \"decision\": 1}</td>\n",
       "    </tr>\n",
       "    <tr>\n",
       "      <td>{'id': 'chatcmpl-8mUkQgLIAZBHMFQuCNwyyWbg3A4nb', 'model': 'gpt-3.5-turbo-0613', 'usage': {'total_tokens': 144, 'prompt_tokens': 82, 'completion_tokens': 62}, 'object': 'chat.completion', 'choices': [{'index': 0, 'message': {'role': 'assistant', 'content': '{\"reasoning\": \"The two lists contain the same entity, \\'American International Group\\'. The only difference is that listA includes the abbreviation \\'AIG\\' while listB does not. However, since the core entity is the same, we can consider them as a match.\", \"decision\": 1}', 'tool_calls': None, 'function_call': None}, 'logprobs': None, 'finish_reason': 'stop'}], 'created': 1706568630, 'system_fingerprint': None}</td>\n",
       "      <td>{\"reasoning\": \"The two lists contain the same entity, 'American International Group'. The only difference is that listA includes the abbreviation 'AIG' while listB does not. However, since the core entity is the same, we can consider them as a match.\", \"decision\": 1}</td>\n",
       "    </tr>\n",
       "    <tr>\n",
       "      <td>{'id': 'chatcmpl-8mUkTHsy42wGDVXB5xcdq3z4fd5Mk', 'model': 'gpt-3.5-turbo-0613', 'usage': {'total_tokens': 129, 'prompt_tokens': 81, 'completion_tokens': 48}, 'object': 'chat.completion', 'choices': [{'index': 0, 'message': {'role': 'assistant', 'content': '{\"reasoning\": \"The entities in listA are AIG and Federal Reserve. The entity in listB is American International Group. Since American International Group is the same as AIG, the lists match.\", \"decision\": 1}', 'tool_calls': None, 'function_call': None}, 'logprobs': None, 'finish_reason': 'stop'}], 'created': 1706568633, 'system_fingerprint': None}</td>\n",
       "      <td>{\"reasoning\": \"The entities in listA are AIG and Federal Reserve. The entity in listB is American International Group. Since American International Group is the same as AIG, the lists match.\", \"decision\": 1}</td>\n",
       "    </tr>\n",
       "  </tbody>\n",
       "</table>"
      ],
      "text/plain": [
       "                                                eval  \\\n",
       "0  {'id': 'chatcmpl-8mUkH5nobeETZqebvgcqY0X8N5CiX...   \n",
       "1  {'id': 'chatcmpl-8mUkJkp2BuXPxOHLCFeqMLU8R5WCL...   \n",
       "2  {'id': 'chatcmpl-8mUkLgv9bFjgw9fOqOkjTxtelPzVX...   \n",
       "3  {'id': 'chatcmpl-8mUkM8A1x7oBowCe9svTy06CnB9iP...   \n",
       "4  {'id': 'chatcmpl-8mUkQgLIAZBHMFQuCNwyyWbg3A4nb...   \n",
       "5  {'id': 'chatcmpl-8mUkTHsy42wGDVXB5xcdq3z4fd5Mk...   \n",
       "\n",
       "                                         eval_output  \n",
       "0  {\"reasoning\": \"The entities in listA and listB...  \n",
       "1  {\"reasoning\": \"The reasoning is that both list...  \n",
       "2  {\"reasoning\": \"The order of the entities in th...  \n",
       "3  {\"reasoning\": \"Based on the given lists, both ...  \n",
       "4  {\"reasoning\": \"The two lists contain the same ...  \n",
       "5  {\"reasoning\": \"The entities in listA are AIG a...  "
      ]
     },
     "execution_count": 17,
     "metadata": {},
     "output_type": "execute_result"
    }
   ],
   "source": [
    "t.select(t.eval, t.eval_output).show()"
   ]
  },
  {
   "cell_type": "code",
   "execution_count": null,
   "id": "bc7920a1",
   "metadata": {},
   "outputs": [],
   "source": []
  }
 ],
 "metadata": {
  "kernelspec": {
   "display_name": "Python 3 (ipykernel)",
   "language": "python",
   "name": "python3"
  },
  "language_info": {
   "codemirror_mode": {
    "name": "ipython",
    "version": 3
   },
   "file_extension": ".py",
   "mimetype": "text/x-python",
   "name": "python",
   "nbconvert_exporter": "python",
   "pygments_lexer": "ipython3",
   "version": "3.10.12"
  }
 },
 "nbformat": 4,
 "nbformat_minor": 5
}
