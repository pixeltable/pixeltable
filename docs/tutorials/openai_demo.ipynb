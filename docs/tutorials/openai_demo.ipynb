{
 "cells": [
  {
   "cell_type": "code",
   "execution_count": 1,
   "id": "60de69cc",
   "metadata": {},
   "outputs": [],
   "source": [
    "import logging\n",
    "logging.basicConfig(filename='/tmp/openai_demo.log') # avoid info message flood on stderr"
   ]
  },
  {
   "cell_type": "markdown",
   "id": "2da74129",
   "metadata": {},
   "source": [
    "# Using the OpenAI API with PixelTable"
   ]
  },
  {
   "cell_type": "markdown",
   "id": "3e777354",
   "metadata": {},
   "source": [
    "PixelTable helps users unify data and computation into a table interface. This notebook shows how we can use the OpenAI API via pixeltable.\n",
    "We will keep all artifacts within the `demos` directory."
   ]
  },
  {
   "cell_type": "code",
   "execution_count": 2,
   "id": "9bdc613f",
   "metadata": {},
   "outputs": [
    {
     "name": "stdout",
     "output_type": "stream",
     "text": [
      "2024-01-25 15:22:55,554 INFO env env.py:183: found database postgresql://postgres:@/pixeltable?host=/Users/orm/Library/Caches/TemporaryItems/python_PostgresServer/dc4677b93f\n"
     ]
    },
    {
     "name": "stderr",
     "output_type": "stream",
     "text": [
      "/Users/orm/repos/pixeltable/pixeltable/exec/expr_eval_node.py:6: TqdmWarning: IProgress not found. Please update jupyter and ipywidgets. See https://ipywidgets.readthedocs.io/en/stable/user_install.html\n",
      "  from tqdm.autonotebook import tqdm\n"
     ]
    },
    {
     "name": "stdout",
     "output_type": "stream",
     "text": [
      "2024-01-25 15:22:55,679 INFO env env.py:194: connecting to NOS\n",
      "\u001b[32m2024-01-25 15:22:55.716\u001b[0m | \u001b[1mINFO    \u001b[0m | \u001b[36mnos.server\u001b[0m:\u001b[36minit\u001b[0m:\u001b[36m131\u001b[0m - \u001b[1mInference server already running (name=nos-inference-service-cpu, image=<Image: 'autonomi/nos:0.0.9-cpu'>, id=be5acf593f3a).\u001b[0m\n",
      "2024-01-25 15:22:55,717 INFO env env.py:197: waiting for NOS\n",
      "2024-01-25 15:22:55,749 INFO env env.py:218: connecting to OpenAI\n"
     ]
    }
   ],
   "source": [
    "import pixeltable as pxt\n",
    "cl = pxt.Client()\n",
    "cl.create_dir('demos', ignore_errors=True)\n",
    "path = 'demos.chat_completion_demo'"
   ]
  },
  {
   "cell_type": "code",
   "execution_count": 3,
   "id": "a6a7bd0d",
   "metadata": {},
   "outputs": [],
   "source": [
    "if path in cl.list_tables():\n",
    "    cl.drop_table(path)\n",
    "\n",
    "t = cl.create_table(path, {'input': pxt.StringType()})\n"
   ]
  },
  {
   "cell_type": "code",
   "execution_count": 4,
   "id": "342407c1",
   "metadata": {},
   "outputs": [],
   "source": [
    "# text from https://en.wikipedia.org/wiki/Global_financial_crisis_in_September_2008\n",
    "wikipedia_text = '''On Sunday, September 14, it was announced that Lehman Brothers would file for bankruptcy after the Federal Reserve Bank declined to participate in creating a financial support facility for Lehman Brothers.\n",
    "The significance of the Lehman Brothers bankruptcy is disputed with some assigning it a pivotal role in the unfolding of subsequent events.\n",
    "The principals involved, Ben Bernanke and Henry Paulson, dispute this view, citing a volume of toxic assets at Lehman which made a rescue impossible.[16][17] Immediately following the bankruptcy, JPMorgan Chase provided the broker dealer unit of Lehman Brothers with $138 billion to \"settle securities transactions with customers of Lehman and its clearance parties\" according to a statement made in a New York City Bankruptcy court filing.[18]\n",
    "The same day, the sale of Merrill Lynch to Bank of America was announced.[19] The beginning of the week was marked by extreme instability in global stock markets, with dramatic drops in market values on Monday, September 15, and Wednesday, September 17.\n",
    "On September 16, the large insurer American International Group (AIG), a significant participant in the credit default swaps markets, suffered a liquidity crisis following the downgrade of its credit rating.\n",
    "The Federal Reserve, at AIG's request, and after AIG had shown that it could not find lenders willing to save it from insolvency, created a credit facility for up to US$85 billion in exchange for a 79.9% equity interest, and the right to suspend dividends to previously issued common and preferred stock.[20]'''\n",
    "\n",
    "sample_inputs = wikipedia_text.split('\\n')"
   ]
  },
  {
   "cell_type": "code",
   "execution_count": 5,
   "id": "c5f0b862",
   "metadata": {},
   "outputs": [
    {
     "name": "stderr",
     "output_type": "stream",
     "text": [
      "Inserting rows into table: 1rows [00:00, 497.60rows/s]"
     ]
    },
    {
     "name": "stdout",
     "output_type": "stream",
     "text": [
      "inserted 1 row with 0 errors \n"
     ]
    },
    {
     "name": "stderr",
     "output_type": "stream",
     "text": [
      "\n"
     ]
    },
    {
     "data": {
      "text/html": [
       "<table border=\"1\" class=\"dataframe\">\n",
       "  <thead>\n",
       "    <tr style=\"text-align: right;\">\n",
       "      <th>input</th>\n",
       "    </tr>\n",
       "  </thead>\n",
       "  <tbody>\n",
       "    <tr>\n",
       "      <td>On Sunday, September 14, it was announced that Lehman Brothers would file for bankruptcy after the Federal Reserve Bank declined to participate in creating a financial support facility for Lehman Brothers.</td>\n",
       "    </tr>\n",
       "  </tbody>\n",
       "</table>"
      ],
      "text/plain": [
       "                                               input\n",
       "0  On Sunday, September 14, it was announced that..."
      ]
     },
     "execution_count": 5,
     "metadata": {},
     "output_type": "execute_result"
    }
   ],
   "source": [
    "# example row inserted, persisted to table.\n",
    "t.insert([{'input': sample_inputs[0]}])\n",
    "t.show()"
   ]
  },
  {
   "cell_type": "markdown",
   "id": "8b08ecc3",
   "metadata": {},
   "source": [
    "Calling OpenAI models involves constructing a message object, which we express in pixeltable by adding a new _computed_ column, ie a column that represents a computation."
   ]
  },
  {
   "cell_type": "code",
   "execution_count": 6,
   "id": "12197f4e",
   "metadata": {},
   "outputs": [
    {
     "name": "stderr",
     "output_type": "stream",
     "text": [
      "Computing cells: 100%|██████████| 1/1 [00:00<00:00, 221.83cells/s]"
     ]
    },
    {
     "name": "stdout",
     "output_type": "stream",
     "text": [
      "added 1 column values with 0 errors\n"
     ]
    },
    {
     "name": "stderr",
     "output_type": "stream",
     "text": [
      "\n"
     ]
    },
    {
     "data": {
      "text/plain": [
       "UpdateStatus(num_rows=1, num_computed_values=1, num_excs=0, updated_cols=[], cols_with_excs=[])"
      ]
     },
     "execution_count": 6,
     "metadata": {},
     "output_type": "execute_result"
    }
   ],
   "source": [
    "prompt = \"For the following sentence, extract all company names from the text.\"\n",
    "\n",
    "msgs = [\n",
    "    { \"role\": \"system\", \"content\": prompt },\n",
    "    { \"role\": \"user\", \"content\": t.input }\n",
    "]\n",
    "\n",
    "t.add_column(input_msgs=msgs)"
   ]
  },
  {
   "cell_type": "markdown",
   "id": "92068113",
   "metadata": {},
   "source": [
    "Unlike the values of the`input` column, which users will provide. The `t.input_msgs` column is computed automatically from the `t.input` column values:"
   ]
  },
  {
   "cell_type": "code",
   "execution_count": 7,
   "id": "249592fc",
   "metadata": {},
   "outputs": [
    {
     "data": {
      "text/html": [
       "<table border=\"1\" class=\"dataframe\">\n",
       "  <thead>\n",
       "    <tr style=\"text-align: right;\">\n",
       "      <th>input</th>\n",
       "      <th>input_msgs</th>\n",
       "    </tr>\n",
       "  </thead>\n",
       "  <tbody>\n",
       "    <tr>\n",
       "      <td>On Sunday, September 14, it was announced that Lehman Brothers would file for bankruptcy after the Federal Reserve Bank declined to participate in creating a financial support facility for Lehman Brothers.</td>\n",
       "      <td>[{'role': 'system', 'content': 'For the following sentence, extract all company names from the text.'}, {'role': 'user', 'content': 'On Sunday, September 14, it was announced that Lehman Brothers would file for bankruptcy after the Federal Reserve Bank declined to participate in creating a financial support facility for Lehman Brothers.'}]</td>\n",
       "    </tr>\n",
       "  </tbody>\n",
       "</table>"
      ],
      "text/plain": [
       "                                               input  \\\n",
       "0  On Sunday, September 14, it was announced that...   \n",
       "\n",
       "                                          input_msgs  \n",
       "0  [{'role': 'system', 'content': 'For the follow...  "
      ]
     },
     "execution_count": 7,
     "metadata": {},
     "output_type": "execute_result"
    }
   ],
   "source": [
    "t.show()"
   ]
  },
  {
   "cell_type": "markdown",
   "id": "7cea0186",
   "metadata": {},
   "source": [
    "OpenAI APIs can also be thought of as function. In this case, pixeltable already offers first class support for this API, so it can be used\n",
    "directly as a function to define new computed columns.\n",
    "\n",
    "(For the following command to work, you must have set `os.environ['OPENAI_API_KEY']`)"
   ]
  },
  {
   "cell_type": "code",
   "execution_count": 8,
   "id": "d0aaed0e",
   "metadata": {},
   "outputs": [
    {
     "name": "stderr",
     "output_type": "stream",
     "text": [
      "Computing cells: 100%|██████████| 1/1 [00:00<00:00,  2.56cells/s]"
     ]
    },
    {
     "name": "stdout",
     "output_type": "stream",
     "text": [
      "added 1 column values with 0 errors\n"
     ]
    },
    {
     "name": "stderr",
     "output_type": "stream",
     "text": [
      "\n"
     ]
    },
    {
     "data": {
      "text/html": [
       "<table border=\"1\" class=\"dataframe\">\n",
       "  <thead>\n",
       "    <tr style=\"text-align: right;\">\n",
       "      <th>input</th>\n",
       "      <th>input_msgs</th>\n",
       "      <th>chat_output</th>\n",
       "    </tr>\n",
       "  </thead>\n",
       "  <tbody>\n",
       "    <tr>\n",
       "      <td>On Sunday, September 14, it was announced that Lehman Brothers would file for bankruptcy after the Federal Reserve Bank declined to participate in creating a financial support facility for Lehman Brothers.</td>\n",
       "      <td>[{'role': 'system', 'content': 'For the following sentence, extract all company names from the text.'}, {'role': 'user', 'content': 'On Sunday, September 14, it was announced that Lehman Brothers would file for bankruptcy after the Federal Reserve Bank declined to participate in creating a financial support facility for Lehman Brothers.'}]</td>\n",
       "      <td>{'id': 'chatcmpl-8l0XQADZzSvE8JqSmN02udJFu523M', 'model': 'gpt-3.5-turbo-0613', 'usage': {'total_tokens': 65, 'prompt_tokens': 61, 'completion_tokens': 4}, 'object': 'chat.completion', 'choices': [{'index': 0, 'message': {'role': 'assistant', 'content': 'Lehman Brothers', 'tool_calls': None, 'function_call': None}, 'logprobs': None, 'finish_reason': 'stop'}], 'created': 1706214176, 'system_fingerprint': None}</td>\n",
       "    </tr>\n",
       "  </tbody>\n",
       "</table>"
      ],
      "text/plain": [
       "                                               input  \\\n",
       "0  On Sunday, September 14, it was announced that...   \n",
       "\n",
       "                                          input_msgs  \\\n",
       "0  [{'role': 'system', 'content': 'For the follow...   \n",
       "\n",
       "                                         chat_output  \n",
       "0  {'id': 'chatcmpl-8l0XQADZzSvE8JqSmN02udJFu523M...  "
      ]
     },
     "execution_count": 8,
     "metadata": {},
     "output_type": "execute_result"
    }
   ],
   "source": [
    "from pixeltable.functions.openai import chat_completion\n",
    "t.add_column(chat_output = chat_completion(model='gpt-3.5-turbo', messages=t.input_msgs))\n",
    "t.show()"
   ]
  },
  {
   "cell_type": "markdown",
   "id": "004723a6",
   "metadata": {},
   "source": [
    "The result objects of the OpenAI api are complex, so we will extract the response. We can express extraction as another computed column:"
   ]
  },
  {
   "cell_type": "code",
   "execution_count": 9,
   "id": "06e15905",
   "metadata": {},
   "outputs": [
    {
     "name": "stderr",
     "output_type": "stream",
     "text": [
      "Computing cells: 100%|██████████| 1/1 [00:00<00:00, 200.80cells/s]"
     ]
    },
    {
     "name": "stdout",
     "output_type": "stream",
     "text": [
      "added 1 column values with 0 errors\n"
     ]
    },
    {
     "name": "stderr",
     "output_type": "stream",
     "text": [
      "\n"
     ]
    },
    {
     "data": {
      "text/html": [
       "<table border=\"1\" class=\"dataframe\">\n",
       "  <thead>\n",
       "    <tr style=\"text-align: right;\">\n",
       "      <th>input</th>\n",
       "      <th>input_msgs</th>\n",
       "      <th>chat_output</th>\n",
       "      <th>response</th>\n",
       "    </tr>\n",
       "  </thead>\n",
       "  <tbody>\n",
       "    <tr>\n",
       "      <td>On Sunday, September 14, it was announced that Lehman Brothers would file for bankruptcy after the Federal Reserve Bank declined to participate in creating a financial support facility for Lehman Brothers.</td>\n",
       "      <td>[{'role': 'system', 'content': 'For the following sentence, extract all company names from the text.'}, {'role': 'user', 'content': 'On Sunday, September 14, it was announced that Lehman Brothers would file for bankruptcy after the Federal Reserve Bank declined to participate in creating a financial support facility for Lehman Brothers.'}]</td>\n",
       "      <td>{'id': 'chatcmpl-8l0XQADZzSvE8JqSmN02udJFu523M', 'model': 'gpt-3.5-turbo-0613', 'usage': {'total_tokens': 65, 'prompt_tokens': 61, 'completion_tokens': 4}, 'object': 'chat.completion', 'choices': [{'index': 0, 'message': {'role': 'assistant', 'content': 'Lehman Brothers', 'tool_calls': None, 'function_call': None}, 'logprobs': None, 'finish_reason': 'stop'}], 'created': 1706214176, 'system_fingerprint': None}</td>\n",
       "      <td>Lehman Brothers</td>\n",
       "    </tr>\n",
       "  </tbody>\n",
       "</table>"
      ],
      "text/plain": [
       "                                               input  \\\n",
       "0  On Sunday, September 14, it was announced that...   \n",
       "\n",
       "                                          input_msgs  \\\n",
       "0  [{'role': 'system', 'content': 'For the follow...   \n",
       "\n",
       "                                         chat_output         response  \n",
       "0  {'id': 'chatcmpl-8l0XQADZzSvE8JqSmN02udJFu523M...  Lehman Brothers  "
      ]
     },
     "execution_count": 9,
     "metadata": {},
     "output_type": "execute_result"
    }
   ],
   "source": [
    "t.add_column(response=t.chat_output.choices[0].message.content)\n",
    "t.show()"
   ]
  },
  {
   "cell_type": "markdown",
   "id": "96d19ca5",
   "metadata": {},
   "source": [
    "We can use Dataframe (eg. pandas) or SQL-like operations to view only certain columns, in this case only the plain inputs and outputs:"
   ]
  },
  {
   "cell_type": "code",
   "execution_count": 10,
   "id": "4313dbb1",
   "metadata": {},
   "outputs": [
    {
     "data": {
      "text/html": [
       "<table border=\"1\" class=\"dataframe\">\n",
       "  <thead>\n",
       "    <tr style=\"text-align: right;\">\n",
       "      <th>input</th>\n",
       "      <th>response</th>\n",
       "    </tr>\n",
       "  </thead>\n",
       "  <tbody>\n",
       "    <tr>\n",
       "      <td>On Sunday, September 14, it was announced that Lehman Brothers would file for bankruptcy after the Federal Reserve Bank declined to participate in creating a financial support facility for Lehman Brothers.</td>\n",
       "      <td>Lehman Brothers</td>\n",
       "    </tr>\n",
       "  </tbody>\n",
       "</table>"
      ],
      "text/plain": [
       "                                               input         response\n",
       "0  On Sunday, September 14, it was announced that...  Lehman Brothers"
      ]
     },
     "execution_count": 10,
     "metadata": {},
     "output_type": "execute_result"
    }
   ],
   "source": [
    "t.select(t.input, t.response).show()"
   ]
  },
  {
   "cell_type": "markdown",
   "id": "3ae2854d",
   "metadata": {},
   "source": [
    "Once we have defined these computed columns, much like with a spreadsheet, newly inserted `t.input` values trigger computation of all derived columns, such as `t.response`:"
   ]
  },
  {
   "cell_type": "code",
   "execution_count": 11,
   "id": "d5144a35",
   "metadata": {},
   "outputs": [
    {
     "name": "stderr",
     "output_type": "stream",
     "text": [
      "Inserting rows into table: 5rows [00:00, 978.70rows/s] 2.93cells/s]\n",
      "Computing cells: 100%|██████████| 15/15 [00:03<00:00,  4.38cells/s]"
     ]
    },
    {
     "name": "stdout",
     "output_type": "stream",
     "text": [
      "inserted 5 rows with 0 errors \n"
     ]
    },
    {
     "name": "stderr",
     "output_type": "stream",
     "text": [
      "\n"
     ]
    },
    {
     "data": {
      "text/plain": [
       "UpdateStatus(num_rows=5, num_computed_values=15, num_excs=0, updated_cols=[], cols_with_excs=[])"
      ]
     },
     "execution_count": 11,
     "metadata": {},
     "output_type": "execute_result"
    }
   ],
   "source": [
    "t.insert([{'input': sample_inputs[i]} for i in range(1, len(sample_inputs))])"
   ]
  },
  {
   "cell_type": "code",
   "execution_count": 12,
   "id": "729713aa",
   "metadata": {},
   "outputs": [
    {
     "data": {
      "text/html": [
       "<table border=\"1\" class=\"dataframe\">\n",
       "  <thead>\n",
       "    <tr style=\"text-align: right;\">\n",
       "      <th>input</th>\n",
       "      <th>response</th>\n",
       "    </tr>\n",
       "  </thead>\n",
       "  <tbody>\n",
       "    <tr>\n",
       "      <td>On Sunday, September 14, it was announced that Lehman Brothers would file for bankruptcy after the Federal Reserve Bank declined to participate in creating a financial support facility for Lehman Brothers.</td>\n",
       "      <td>Lehman Brothers</td>\n",
       "    </tr>\n",
       "    <tr>\n",
       "      <td>The significance of the Lehman Brothers bankruptcy is disputed with some assigning it a pivotal role in the unfolding of subsequent events.</td>\n",
       "      <td>Lehman Brothers</td>\n",
       "    </tr>\n",
       "    <tr>\n",
       "      <td>The principals involved, Ben Bernanke and Henry Paulson, dispute this view, citing a volume of toxic assets at Lehman which made a rescue impossible.[16][17] Immediately following the bankruptcy, JPMorgan Chase provided the broker dealer unit of Lehman Brothers with $138 billion to \"settle securities transactions with customers of Lehman and its clearance parties\" according to a statement made in a New York City Bankruptcy court filing.[18]</td>\n",
       "      <td>Lehman Brothers, JPMorgan Chase</td>\n",
       "    </tr>\n",
       "    <tr>\n",
       "      <td>The same day, the sale of Merrill Lynch to Bank of America was announced.[19] The beginning of the week was marked by extreme instability in global stock markets, with dramatic drops in market values on Monday, September 15, and Wednesday, September 17.</td>\n",
       "      <td>Merrill Lynch, Bank of America</td>\n",
       "    </tr>\n",
       "    <tr>\n",
       "      <td>On September 16, the large insurer American International Group (AIG), a significant participant in the credit default swaps markets, suffered a liquidity crisis following the downgrade of its credit rating.</td>\n",
       "      <td>American International Group (AIG)</td>\n",
       "    </tr>\n",
       "    <tr>\n",
       "      <td>The Federal Reserve, at AIG's request, and after AIG had shown that it could not find lenders willing to save it from insolvency, created a credit facility for up to US$85 billion in exchange for a 79.9% equity interest, and the right to suspend dividends to previously issued common and preferred stock.[20]</td>\n",
       "      <td>- The Federal Reserve\\n- AIG</td>\n",
       "    </tr>\n",
       "  </tbody>\n",
       "</table>"
      ],
      "text/plain": [
       "                                               input  \\\n",
       "0  On Sunday, September 14, it was announced that...   \n",
       "1  The significance of the Lehman Brothers bankru...   \n",
       "2  The principals involved, Ben Bernanke and Henr...   \n",
       "3  The same day, the sale of Merrill Lynch to Ban...   \n",
       "4  On September 16, the large insurer American In...   \n",
       "5  The Federal Reserve, at AIG's request, and aft...   \n",
       "\n",
       "                             response  \n",
       "0                     Lehman Brothers  \n",
       "1                     Lehman Brothers  \n",
       "2     Lehman Brothers, JPMorgan Chase  \n",
       "3      Merrill Lynch, Bank of America  \n",
       "4  American International Group (AIG)  \n",
       "5        - The Federal Reserve\\n- AIG  "
      ]
     },
     "execution_count": 12,
     "metadata": {},
     "output_type": "execute_result"
    }
   ],
   "source": [
    "t.select(t.input, t.response).show()"
   ]
  },
  {
   "cell_type": "markdown",
   "id": "a0cfe126",
   "metadata": {},
   "source": [
    "Once computed, the computed table columns are stored and persisted, avoiding repeated computation.\n",
    "Pixeltable can be used to conduct experiments, for example, to compare prompt variations:\n"
   ]
  },
  {
   "cell_type": "code",
   "execution_count": 13,
   "id": "e7fb0157",
   "metadata": {},
   "outputs": [
    {
     "data": {
      "text/plain": [
       "UpdateStatus(num_rows=6, num_computed_values=0, num_excs=0, updated_cols=[], cols_with_excs=[])"
      ]
     },
     "execution_count": 13,
     "metadata": {},
     "output_type": "execute_result"
    }
   ],
   "source": [
    "t.add_column(ground_truth = pxt.StringType(nullable=True))"
   ]
  },
  {
   "cell_type": "code",
   "execution_count": 14,
   "id": "d08737d7",
   "metadata": {},
   "outputs": [
    {
     "data": {
      "text/plain": [
       "['On Sunday, September 14, it was announced that Lehman Brothers would file for bankruptcy after the Federal Reserve Bank declined to participate in creating a financial support facility for Lehman Brothers.',\n",
       " 'The significance of the Lehman Brothers bankruptcy is disputed with some assigning it a pivotal role in the unfolding of subsequent events.',\n",
       " 'The principals involved, Ben Bernanke and Henry Paulson, dispute this view, citing a volume of toxic assets at Lehman which made a rescue impossible.[16][17] Immediately following the bankruptcy, JPMorgan Chase provided the broker dealer unit of Lehman Brothers with $138 billion to \"settle securities transactions with customers of Lehman and its clearance parties\" according to a statement made in a New York City Bankruptcy court filing.[18]',\n",
       " 'The same day, the sale of Merrill Lynch to Bank of America was announced.[19] The beginning of the week was marked by extreme instability in global stock markets, with dramatic drops in market values on Monday, September 15, and Wednesday, September 17.',\n",
       " 'On September 16, the large insurer American International Group (AIG), a significant participant in the credit default swaps markets, suffered a liquidity crisis following the downgrade of its credit rating.',\n",
       " \"The Federal Reserve, at AIG's request, and after AIG had shown that it could not find lenders willing to save it from insolvency, created a credit facility for up to US$85 billion in exchange for a 79.9% equity interest, and the right to suspend dividends to previously issued common and preferred stock.[20]\"]"
      ]
     },
     "execution_count": 14,
     "metadata": {},
     "output_type": "execute_result"
    }
   ],
   "source": [
    "sample_inputs"
   ]
  },
  {
   "cell_type": "code",
   "execution_count": 15,
   "id": "4a4e399c",
   "metadata": {},
   "outputs": [],
   "source": [
    "ground_truth = {\n",
    "'On Sunday, September 14, it was announced that Lehman Brothers would file for bankruptcy after the Federal Reserve Bank declined to participate in creating a financial support facility for Lehman Brothers.' : 'Lehman Brothers',\n",
    " 'The significance of the Lehman Brothers bankruptcy is disputed with some assigning it a pivotal role in the unfolding of subsequent events.': 'Lehman Brothers',\n",
    " 'The principals involved, Ben Bernanke and Henry Paulson, dispute this view, citing a volume of toxic assets at Lehman which made a rescue impossible.[16][17] Immediately following the bankruptcy, JPMorgan Chase provided the broker dealer unit of Lehman Brothers with $138 billion to \"settle securities transactions with customers of Lehman and its clearance parties\" according to a statement made in a New York City Bankruptcy court filing.[18]': 'JP Morgan Chase, Lehman Brothers',\n",
    " 'The same day, the sale of Merrill Lynch to Bank of America was announced.[19] The beginning of the week was marked by extreme instability in global stock markets, with dramatic drops in market values on Monday, September 15, and Wednesday, September 17.': 'Merrill Lynch, Bank of America',\n",
    " 'On September 16, the large insurer American International Group (AIG), a significant participant in the credit default swaps markets, suffered a liquidity crisis following the downgrade of its credit rating.': 'American International Group',\n",
    " \"The Federal Reserve, at AIG's request, and after AIG had shown that it could not find lenders willing to save it from insolvency, created a credit facility for up to US$85 billion in exchange for a 79.9% equity interest, and the right to suspend dividends to previously issued common and preferred stock.[20]\": 'American International Group',\n",
    "}"
   ]
  },
  {
   "cell_type": "code",
   "execution_count": 16,
   "id": "9df2a2b3",
   "metadata": {},
   "outputs": [
    {
     "name": "stderr",
     "output_type": "stream",
     "text": [
      "Inserting rows into table: 1rows [00:00, 786.19rows/s]\n",
      "Inserting rows into table: 1rows [00:00, 1402.78rows/s]\n",
      "Inserting rows into table: 1rows [00:00, 1182.16rows/s]\n",
      "Inserting rows into table: 1rows [00:00, 1259.17rows/s]\n",
      "Inserting rows into table: 1rows [00:00, 1319.38rows/s]\n",
      "Inserting rows into table: 1rows [00:00, 1377.44rows/s]\n"
     ]
    }
   ],
   "source": [
    "for input,gt in ground_truth.items():\n",
    "    t.update({'ground_truth': gt}, where=t.input == input)"
   ]
  },
  {
   "cell_type": "code",
   "execution_count": 17,
   "id": "72457011",
   "metadata": {},
   "outputs": [
    {
     "data": {
      "text/html": [
       "<table border=\"1\" class=\"dataframe\">\n",
       "  <thead>\n",
       "    <tr style=\"text-align: right;\">\n",
       "      <th>input</th>\n",
       "      <th>response</th>\n",
       "      <th>ground_truth</th>\n",
       "    </tr>\n",
       "  </thead>\n",
       "  <tbody>\n",
       "    <tr>\n",
       "      <td>On Sunday, September 14, it was announced that Lehman Brothers would file for bankruptcy after the Federal Reserve Bank declined to participate in creating a financial support facility for Lehman Brothers.</td>\n",
       "      <td>Lehman Brothers</td>\n",
       "      <td>Lehman Brothers</td>\n",
       "    </tr>\n",
       "    <tr>\n",
       "      <td>The significance of the Lehman Brothers bankruptcy is disputed with some assigning it a pivotal role in the unfolding of subsequent events.</td>\n",
       "      <td>Lehman Brothers</td>\n",
       "      <td>Lehman Brothers</td>\n",
       "    </tr>\n",
       "    <tr>\n",
       "      <td>The principals involved, Ben Bernanke and Henry Paulson, dispute this view, citing a volume of toxic assets at Lehman which made a rescue impossible.[16][17] Immediately following the bankruptcy, JPMorgan Chase provided the broker dealer unit of Lehman Brothers with $138 billion to \"settle securities transactions with customers of Lehman and its clearance parties\" according to a statement made in a New York City Bankruptcy court filing.[18]</td>\n",
       "      <td>Lehman Brothers, JPMorgan Chase</td>\n",
       "      <td>JP Morgan Chase, Lehman Brothers</td>\n",
       "    </tr>\n",
       "    <tr>\n",
       "      <td>The same day, the sale of Merrill Lynch to Bank of America was announced.[19] The beginning of the week was marked by extreme instability in global stock markets, with dramatic drops in market values on Monday, September 15, and Wednesday, September 17.</td>\n",
       "      <td>Merrill Lynch, Bank of America</td>\n",
       "      <td>Merrill Lynch, Bank of America</td>\n",
       "    </tr>\n",
       "    <tr>\n",
       "      <td>On September 16, the large insurer American International Group (AIG), a significant participant in the credit default swaps markets, suffered a liquidity crisis following the downgrade of its credit rating.</td>\n",
       "      <td>American International Group (AIG)</td>\n",
       "      <td>American International Group</td>\n",
       "    </tr>\n",
       "    <tr>\n",
       "      <td>The Federal Reserve, at AIG's request, and after AIG had shown that it could not find lenders willing to save it from insolvency, created a credit facility for up to US$85 billion in exchange for a 79.9% equity interest, and the right to suspend dividends to previously issued common and preferred stock.[20]</td>\n",
       "      <td>- The Federal Reserve\\n- AIG</td>\n",
       "      <td>American International Group</td>\n",
       "    </tr>\n",
       "  </tbody>\n",
       "</table>"
      ],
      "text/plain": [
       "                                               input  \\\n",
       "0  On Sunday, September 14, it was announced that...   \n",
       "1  The significance of the Lehman Brothers bankru...   \n",
       "2  The principals involved, Ben Bernanke and Henr...   \n",
       "3  The same day, the sale of Merrill Lynch to Ban...   \n",
       "4  On September 16, the large insurer American In...   \n",
       "5  The Federal Reserve, at AIG's request, and aft...   \n",
       "\n",
       "                             response                      ground_truth  \n",
       "0                     Lehman Brothers                   Lehman Brothers  \n",
       "1                     Lehman Brothers                   Lehman Brothers  \n",
       "2     Lehman Brothers, JPMorgan Chase  JP Morgan Chase, Lehman Brothers  \n",
       "3      Merrill Lynch, Bank of America    Merrill Lynch, Bank of America  \n",
       "4  American International Group (AIG)      American International Group  \n",
       "5        - The Federal Reserve\\n- AIG      American International Group  "
      ]
     },
     "execution_count": 17,
     "metadata": {},
     "output_type": "execute_result"
    }
   ],
   "source": [
    "t.select(t.input, t.response, t.ground_truth).show()"
   ]
  },
  {
   "cell_type": "markdown",
   "id": "ce291c35",
   "metadata": {},
   "source": [
    "Now that we have some ground truth available, we can carry out basic evaluations of the GPT outputs, for example by \n",
    "asking ChatGPT to decide whether the two are equivalent. "
   ]
  },
  {
   "cell_type": "code",
   "execution_count": 18,
   "id": "43516050",
   "metadata": {},
   "outputs": [
    {
     "name": "stderr",
     "output_type": "stream",
     "text": [
      "Computing cells: 100%|██████████| 6/6 [00:00<00:00, 976.29cells/s]\n"
     ]
    },
    {
     "name": "stdout",
     "output_type": "stream",
     "text": [
      "added 6 column values with 0 errors\n"
     ]
    },
    {
     "name": "stderr",
     "output_type": "stream",
     "text": [
      "Computing cells: 100%|██████████| 6/6 [00:15<00:00,  2.62s/cells]"
     ]
    },
    {
     "name": "stdout",
     "output_type": "stream",
     "text": [
      "added 6 column values with 0 errors\n"
     ]
    },
    {
     "name": "stderr",
     "output_type": "stream",
     "text": [
      "\n"
     ]
    },
    {
     "data": {
      "text/plain": [
       "UpdateStatus(num_rows=6, num_computed_values=6, num_excs=0, updated_cols=[], cols_with_excs=[])"
      ]
     },
     "execution_count": 18,
     "metadata": {},
     "output_type": "execute_result"
    }
   ],
   "source": [
    "\n",
    "eval_prompt = '''Compare the following listA and listB of entities, check if they contains the same entities.\n",
    "Return a json object with the following format: {\"reasoning\": explaining your reasoning, \"decision\": 1 if the lists matched, 0 otherwise\n",
    "'''\n",
    "\n",
    "t.add_column(eval_prompt=[{ \"role\": \"system\", \"content\": eval_prompt },\n",
    "                         { \"role\": \"user\", \"content\": pxt.functions.str_format('listA: \"{output0}\" \\n listB: \"{output1}\"',\n",
    "                                                                               output0=t.response, output1=t.ground_truth)}])\n",
    "t.add_column(evaluation = chat_completion(model='gpt-3.5-turbo', messages=t.eval_prompt).choices[0].message.content)"
   ]
  },
  {
   "cell_type": "code",
   "execution_count": 19,
   "id": "dcc42dbe",
   "metadata": {},
   "outputs": [],
   "source": [
    "import json\n",
    "@pxt.udf(param_types=[pxt.StringType()], return_type=pxt.JsonType())\n",
    "def parse_json(json_str):\n",
    "    return json.loads(json_str)"
   ]
  },
  {
   "cell_type": "code",
   "execution_count": 20,
   "id": "6e96caed",
   "metadata": {},
   "outputs": [
    {
     "name": "stderr",
     "output_type": "stream",
     "text": [
      "Computing cells: 100%|██████████| 6/6 [00:00<00:00, 896.63cells/s]"
     ]
    },
    {
     "name": "stdout",
     "output_type": "stream",
     "text": [
      "added 6 column values with 0 errors\n"
     ]
    },
    {
     "name": "stderr",
     "output_type": "stream",
     "text": [
      "\n"
     ]
    },
    {
     "data": {
      "text/plain": [
       "UpdateStatus(num_rows=6, num_computed_values=6, num_excs=0, updated_cols=[], cols_with_excs=[])"
      ]
     },
     "execution_count": 20,
     "metadata": {},
     "output_type": "execute_result"
    }
   ],
   "source": [
    "t.add_column(correctness=parse_json(t.evaluation).decision)"
   ]
  },
  {
   "cell_type": "code",
   "execution_count": 21,
   "id": "37afc52f",
   "metadata": {},
   "outputs": [
    {
     "data": {
      "text/html": [
       "<table border=\"1\" class=\"dataframe\">\n",
       "  <thead>\n",
       "    <tr style=\"text-align: right;\">\n",
       "      <th>input</th>\n",
       "      <th>response</th>\n",
       "      <th>ground_truth</th>\n",
       "      <th>correctness</th>\n",
       "    </tr>\n",
       "  </thead>\n",
       "  <tbody>\n",
       "    <tr>\n",
       "      <td>On Sunday, September 14, it was announced that Lehman Brothers would file for bankruptcy after the Federal Reserve Bank declined to participate in creating a financial support facility for Lehman Brothers.</td>\n",
       "      <td>Lehman Brothers</td>\n",
       "      <td>Lehman Brothers</td>\n",
       "      <td>1</td>\n",
       "    </tr>\n",
       "    <tr>\n",
       "      <td>The principals involved, Ben Bernanke and Henry Paulson, dispute this view, citing a volume of toxic assets at Lehman which made a rescue impossible.[16][17] Immediately following the bankruptcy, JPMorgan Chase provided the broker dealer unit of Lehman Brothers with $138 billion to \"settle securities transactions with customers of Lehman and its clearance parties\" according to a statement made in a New York City Bankruptcy court filing.[18]</td>\n",
       "      <td>Lehman Brothers, JPMorgan Chase</td>\n",
       "      <td>JP Morgan Chase, Lehman Brothers</td>\n",
       "      <td>1</td>\n",
       "    </tr>\n",
       "    <tr>\n",
       "      <td>The same day, the sale of Merrill Lynch to Bank of America was announced.[19] The beginning of the week was marked by extreme instability in global stock markets, with dramatic drops in market values on Monday, September 15, and Wednesday, September 17.</td>\n",
       "      <td>Merrill Lynch, Bank of America</td>\n",
       "      <td>Merrill Lynch, Bank of America</td>\n",
       "      <td>1</td>\n",
       "    </tr>\n",
       "    <tr>\n",
       "      <td>The significance of the Lehman Brothers bankruptcy is disputed with some assigning it a pivotal role in the unfolding of subsequent events.</td>\n",
       "      <td>Lehman Brothers</td>\n",
       "      <td>Lehman Brothers</td>\n",
       "      <td>1</td>\n",
       "    </tr>\n",
       "    <tr>\n",
       "      <td>On September 16, the large insurer American International Group (AIG), a significant participant in the credit default swaps markets, suffered a liquidity crisis following the downgrade of its credit rating.</td>\n",
       "      <td>American International Group (AIG)</td>\n",
       "      <td>American International Group</td>\n",
       "      <td>1</td>\n",
       "    </tr>\n",
       "    <tr>\n",
       "      <td>The Federal Reserve, at AIG's request, and after AIG had shown that it could not find lenders willing to save it from insolvency, created a credit facility for up to US$85 billion in exchange for a 79.9% equity interest, and the right to suspend dividends to previously issued common and preferred stock.[20]</td>\n",
       "      <td>- The Federal Reserve\\n- AIG</td>\n",
       "      <td>American International Group</td>\n",
       "      <td>1</td>\n",
       "    </tr>\n",
       "  </tbody>\n",
       "</table>"
      ],
      "text/plain": [
       "                                               input  \\\n",
       "0  On Sunday, September 14, it was announced that...   \n",
       "1  The principals involved, Ben Bernanke and Henr...   \n",
       "2  The same day, the sale of Merrill Lynch to Ban...   \n",
       "3  The significance of the Lehman Brothers bankru...   \n",
       "4  On September 16, the large insurer American In...   \n",
       "5  The Federal Reserve, at AIG's request, and aft...   \n",
       "\n",
       "                             response                      ground_truth  \\\n",
       "0                     Lehman Brothers                   Lehman Brothers   \n",
       "1     Lehman Brothers, JPMorgan Chase  JP Morgan Chase, Lehman Brothers   \n",
       "2      Merrill Lynch, Bank of America    Merrill Lynch, Bank of America   \n",
       "3                     Lehman Brothers                   Lehman Brothers   \n",
       "4  American International Group (AIG)      American International Group   \n",
       "5        - The Federal Reserve\\n- AIG      American International Group   \n",
       "\n",
       "   correctness  \n",
       "0            1  \n",
       "1            1  \n",
       "2            1  \n",
       "3            1  \n",
       "4            1  \n",
       "5            1  "
      ]
     },
     "execution_count": 21,
     "metadata": {},
     "output_type": "execute_result"
    }
   ],
   "source": [
    "t.select(t.input, t.response, t.ground_truth, t.correctness).show()"
   ]
  }
 ],
 "metadata": {
  "kernelspec": {
   "display_name": "Python 3 (ipykernel)",
   "language": "python",
   "name": "python3"
  },
  "language_info": {
   "codemirror_mode": {
    "name": "ipython",
    "version": 3
   },
   "file_extension": ".py",
   "mimetype": "text/x-python",
   "name": "python",
   "nbconvert_exporter": "python",
   "pygments_lexer": "ipython3",
   "version": "3.8.18"
  }
 },
 "nbformat": 4,
 "nbformat_minor": 5
}
