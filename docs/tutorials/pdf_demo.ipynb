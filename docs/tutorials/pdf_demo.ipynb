{
 "cells": [
  {
   "cell_type": "code",
   "execution_count": 1,
   "metadata": {},
   "outputs": [
    {
     "name": "stderr",
     "output_type": "stream",
     "text": [
      "/Users/orm/repos/pixeltable/pixeltable/exec/expr_eval_node.py:6: TqdmExperimentalWarning: Using `tqdm.autonotebook.tqdm` in notebook mode. Use `tqdm.tqdm` instead to force console mode (e.g. in jupyter console)\n",
      "  from tqdm.autonotebook import tqdm\n"
     ]
    }
   ],
   "source": [
    "import pixeltable as pxt\n",
    "from pixeltable.iterators.document import DocumentSplitter"
   ]
  },
  {
   "cell_type": "code",
   "execution_count": 2,
   "metadata": {},
   "outputs": [],
   "source": [
    "pdf_path = f'{pxt.__path__[0]}/tests/data/documents/layout-parser-paper.pdf'"
   ]
  },
  {
   "cell_type": "code",
   "execution_count": 3,
   "metadata": {},
   "outputs": [
    {
     "name": "stdout",
     "output_type": "stream",
     "text": [
      "2024-03-20 21:32:11,552 INFO pixeltable env.py:220: found database postgresql://postgres:@/pixeltable?host=/Users/orm/.pixeltable/pgdata\n"
     ]
    },
    {
     "name": "stdout",
     "output_type": "stream",
     "text": [
      "2024-03-20 21:32:13,304 INFO pixeltable env.py:259: OpenAI client not initialized (no API key configured).\n",
      "2024-03-20 21:32:13,304 INFO pixeltable env.py:271: Together client not initialized (no API key configured).\n"
     ]
    }
   ],
   "source": [
    "cl = pxt.Client()"
   ]
  },
  {
   "cell_type": "code",
   "execution_count": 4,
   "metadata": {},
   "outputs": [
    {
     "data": {
      "application/vnd.jupyter.widget-view+json": {
       "model_id": "915fb31a40164d3b927217b138520d73",
       "version_major": 2,
       "version_minor": 0
      },
      "text/plain": [
       "Inserting rows into table: 0rows [00:00, ?rows/s]"
      ]
     },
     "metadata": {},
     "output_type": "display_data"
    },
    {
     "name": "stdout",
     "output_type": "stream",
     "text": [
      "inserted 1 row with 0 errors \n"
     ]
    },
    {
     "data": {
      "application/vnd.jupyter.widget-view+json": {
       "model_id": "ae0bfda2aebe4cb1bbf51f50c8b51a2a",
       "version_major": 2,
       "version_minor": 0
      },
      "text/plain": [
       "Inserting rows into table: 0rows [00:00, ?rows/s]"
      ]
     },
     "metadata": {},
     "output_type": "display_data"
    },
    {
     "name": "stdout",
     "output_type": "stream",
     "text": [
      "created view pdf_paragraphs with 197 rows, 0 exceptions\n"
     ]
    }
   ],
   "source": [
    "cl.drop_table('pdf_paragraphs', ignore_errors=True)\n",
    "cl.drop_table('pdf_table', ignore_errors=True)\n",
    "\n",
    "pdf_table = cl.create_table('pdf_table', { 'document' : pxt.DocumentType() })\n",
    "\n",
    "iterator_args = {\n",
    "    'document': pdf_table.document,\n",
    "    'separators': 'paragraph',\n",
    "}\n",
    "\n",
    "pdf_table.insert(document=pdf_path)\n",
    "\n",
    "paragraph_table = cl.create_view(f'pdf_paragraphs', pdf_table, iterator_class=DocumentSplitter, iterator_args=iterator_args)\n"
   ]
  },
  {
   "cell_type": "code",
   "execution_count": 5,
   "metadata": {},
   "outputs": [
    {
     "data": {
      "text/html": [
       "<table border=\"1\" class=\"dataframe\">\n",
       "  <thead>\n",
       "    <tr style=\"text-align: right;\">\n",
       "      <th>pos</th>\n",
       "      <th>text</th>\n",
       "      <th>document</th>\n",
       "    </tr>\n",
       "  </thead>\n",
       "  <tbody>\n",
       "    <tr>\n",
       "      <td>0</td>\n",
       "      <td>1\\n2\\n0\\n2</td>\n",
       "      <td>/Users/orm/repos/pixeltable/pixeltable/tests/data/documents/layout-parser-paper.pdf</td>\n",
       "    </tr>\n",
       "    <tr>\n",
       "      <td>1</td>\n",
       "      <td>n\\nu\\nJ</td>\n",
       "      <td>/Users/orm/repos/pixeltable/pixeltable/tests/data/documents/layout-parser-paper.pdf</td>\n",
       "    </tr>\n",
       "    <tr>\n",
       "      <td>2</td>\n",
       "      <td>1\\n2</td>\n",
       "      <td>/Users/orm/repos/pixeltable/pixeltable/tests/data/documents/layout-parser-paper.pdf</td>\n",
       "    </tr>\n",
       "    <tr>\n",
       "      <td>3</td>\n",
       "      <td>]</td>\n",
       "      <td>/Users/orm/repos/pixeltable/pixeltable/tests/data/documents/layout-parser-paper.pdf</td>\n",
       "    </tr>\n",
       "    <tr>\n",
       "      <td>4</td>\n",
       "      <td>V\\nC\\n.\\ns\\nc\\n[</td>\n",
       "      <td>/Users/orm/repos/pixeltable/pixeltable/tests/data/documents/layout-parser-paper.pdf</td>\n",
       "    </tr>\n",
       "    <tr>\n",
       "      <td>5</td>\n",
       "      <td>2\\nv\\n8\\n4\\n3\\n5\\n1\\n.\\n3\\n0\\n1\\n2\\n:\\nv\\ni\\nX\\nr\\na</td>\n",
       "      <td>/Users/orm/repos/pixeltable/pixeltable/tests/data/documents/layout-parser-paper.pdf</td>\n",
       "    </tr>\n",
       "    <tr>\n",
       "      <td>6</td>\n",
       "      <td>LayoutParser: A Uniﬁed Toolkit for Deep\\nLearning Based Document Image Analysis</td>\n",
       "      <td>/Users/orm/repos/pixeltable/pixeltable/tests/data/documents/layout-parser-paper.pdf</td>\n",
       "    </tr>\n",
       "    <tr>\n",
       "      <td>7</td>\n",
       "      <td>Zejiang Shen1 ((cid:0)), Ruochen Zhang2, Melissa Dell3, Benjamin Charles Germain\\nLee4, Jacob Carlson3, and Weining Li5</td>\n",
       "      <td>/Users/orm/repos/pixeltable/pixeltable/tests/data/documents/layout-parser-paper.pdf</td>\n",
       "    </tr>\n",
       "    <tr>\n",
       "      <td>8</td>\n",
       "      <td>1 Allen Institute for AI\\nshannons@allenai.org\\n2 Brown University\\nruochen zhang@brown.edu\\n3 Harvard University\\n{melissadell,jacob carlson}@fas.harvard.edu\\n4 University of Washington\\nbcgl@cs.washington.edu\\n5 University of Waterloo\\nw422li@uwaterloo.ca</td>\n",
       "      <td>/Users/orm/repos/pixeltable/pixeltable/tests/data/documents/layout-parser-paper.pdf</td>\n",
       "    </tr>\n",
       "    <tr>\n",
       "      <td>9</td>\n",
       "      <td>Abstract. Recent advances in document image analysis (DIA) have been\\nprimarily driven by the application of neural networks. Ideally, research\\noutcomes could be easily deployed in production and extended for further\\ninvestigation. However, various factors like loosely organized codebases\\nand sophisticated model conﬁgurations complicate the easy reuse of im-\\nportant innovations by a wide audience. Though there have been on-going\\neﬀorts to improve reusability and simplify deep learning (DL) model\\ndevelopment in disciplines like natural language processing and computer\\nvision, none of them are optimized for challenges in the domain of DIA.\\nThis represents a major gap in the existing toolkit, as DIA is central to\\nacademic research across a wide range of disciplines in the social sciences\\nand humanities. This paper introduces LayoutParser, an open-source\\nlibrary for streamlining the usage of DL in DIA research and applica-\\ntions. The core LayoutParser library comes with a set of simple and\\nintuitive interfaces for applying and customizing DL models for layout de-\\ntection, character recognition, and many other document processing tasks.\\nTo promote extensibility, LayoutParser also incorporates a community\\nplatform for sharing both pre-trained models and full document digiti-\\nzation pipelines. We demonstrate that LayoutParser is helpful for both\\nlightweight and large-scale digitization pipelines in real-word use cases.\\nThe library is publicly available at https://layout-parser.github.io.</td>\n",
       "      <td>/Users/orm/repos/pixeltable/pixeltable/tests/data/documents/layout-parser-paper.pdf</td>\n",
       "    </tr>\n",
       "    <tr>\n",
       "      <td>10</td>\n",
       "      <td>Keywords: Document Image Analysis · Deep Learning · Layout Analysis\\n· Character Recognition · Open Source library · Toolkit.</td>\n",
       "      <td>/Users/orm/repos/pixeltable/pixeltable/tests/data/documents/layout-parser-paper.pdf</td>\n",
       "    </tr>\n",
       "    <tr>\n",
       "      <td>11</td>\n",
       "      <td>1</td>\n",
       "      <td>/Users/orm/repos/pixeltable/pixeltable/tests/data/documents/layout-parser-paper.pdf</td>\n",
       "    </tr>\n",
       "    <tr>\n",
       "      <td>12</td>\n",
       "      <td>Introduction</td>\n",
       "      <td>/Users/orm/repos/pixeltable/pixeltable/tests/data/documents/layout-parser-paper.pdf</td>\n",
       "    </tr>\n",
       "    <tr>\n",
       "      <td>13</td>\n",
       "      <td>Deep Learning(DL)-based approaches are the state-of-the-art for a wide range of\\ndocument image analysis (DIA) tasks including document image classiﬁcation [11,</td>\n",
       "      <td>/Users/orm/repos/pixeltable/pixeltable/tests/data/documents/layout-parser-paper.pdf</td>\n",
       "    </tr>\n",
       "    <tr>\n",
       "      <td>14</td>\n",
       "      <td>2</td>\n",
       "      <td>/Users/orm/repos/pixeltable/pixeltable/tests/data/documents/layout-parser-paper.pdf</td>\n",
       "    </tr>\n",
       "    <tr>\n",
       "      <td>15</td>\n",
       "      <td>Z. Shen et al.</td>\n",
       "      <td>/Users/orm/repos/pixeltable/pixeltable/tests/data/documents/layout-parser-paper.pdf</td>\n",
       "    </tr>\n",
       "    <tr>\n",
       "      <td>16</td>\n",
       "      <td>37], layout detection [38, 22], table detection [26], and scene text detection [4].\\nA generalized learning-based framework dramatically reduces the need for the\\nmanual speciﬁcation of complicated rules, which is the status quo with traditional\\nmethods. DL has the potential to transform DIA pipelines and beneﬁt a broad\\nspectrum of large-scale document digitization projects.</td>\n",
       "      <td>/Users/orm/repos/pixeltable/pixeltable/tests/data/documents/layout-parser-paper.pdf</td>\n",
       "    </tr>\n",
       "    <tr>\n",
       "      <td>17</td>\n",
       "      <td>However, there are several practical diﬃculties for taking advantages of re-\\ncent advances in DL-based methods: 1) DL models are notoriously convoluted\\nfor reuse and extension. Existing models are developed using distinct frame-\\nworks like TensorFlow [1] or PyTorch [24], and the high-level parameters can\\nbe obfuscated by implementation details [8]. It can be a time-consuming and\\nfrustrating experience to debug, reproduce, and adapt existing models for DIA,\\nand many researchers who would beneﬁt the most from using these methods lack\\nthe technical background to implement them from scratch. 2) Document images\\ncontain diverse and disparate patterns across domains, and customized training\\nis often required to achieve a desirable detection accuracy. Currently there is no\\nfull-ﬂedged infrastructure for easily curating the target document image datasets\\nand ﬁne-tuning or re-training the models. 3) DIA usually requires a sequence of\\nmodels and other processing to obtain the ﬁnal outputs. Often research teams use\\nDL models and then perform further document analyses in separate processes,\\nand these pipelines are not documented in any central location (and often not\\ndocumented at all). This makes it diﬃcult for research teams to learn about how\\nfull pipelines are implemented and leads them to invest signiﬁcant resources in\\nreinventing the DIA wheel.</td>\n",
       "      <td>/Users/orm/repos/pixeltable/pixeltable/tests/data/documents/layout-parser-paper.pdf</td>\n",
       "    </tr>\n",
       "    <tr>\n",
       "      <td>18</td>\n",
       "      <td>LayoutParser provides a uniﬁed toolkit to support DL-based document image\\nanalysis and processing. To address the aforementioned challenges, LayoutParser\\nis built with the following components:</td>\n",
       "      <td>/Users/orm/repos/pixeltable/pixeltable/tests/data/documents/layout-parser-paper.pdf</td>\n",
       "    </tr>\n",
       "    <tr>\n",
       "      <td>19</td>\n",
       "      <td>1. An oﬀ-the-shelf toolkit for applying DL models for layout detection, character</td>\n",
       "      <td>/Users/orm/repos/pixeltable/pixeltable/tests/data/documents/layout-parser-paper.pdf</td>\n",
       "    </tr>\n",
       "  </tbody>\n",
       "</table>"
      ],
      "text/plain": [
       "    pos                                               text  \\\n",
       "0     0                                         1\\n2\\n0\\n2   \n",
       "1     1                                            n\\nu\\nJ   \n",
       "2     2                                               1\\n2   \n",
       "3     3                                                  ]   \n",
       "4     4                                   V\\nC\\n.\\ns\\nc\\n[   \n",
       "5     5  2\\nv\\n8\\n4\\n3\\n5\\n1\\n.\\n3\\n0\\n1\\n2\\n:\\nv\\ni\\nX...   \n",
       "6     6  LayoutParser: A Uniﬁed Toolkit for Deep\\nLearn...   \n",
       "7     7  Zejiang Shen1 ((cid:0)), Ruochen Zhang2, Melis...   \n",
       "8     8  1 Allen Institute for AI\\nshannons@allenai.org...   \n",
       "9     9  Abstract. Recent advances in document image an...   \n",
       "10   10  Keywords: Document Image Analysis · Deep Learn...   \n",
       "11   11                                                  1   \n",
       "12   12                                       Introduction   \n",
       "13   13  Deep Learning(DL)-based approaches are the sta...   \n",
       "14   14                                                  2   \n",
       "15   15                                     Z. Shen et al.   \n",
       "16   16  37], layout detection [38, 22], table detectio...   \n",
       "17   17  However, there are several practical diﬃcultie...   \n",
       "18   18  LayoutParser provides a uniﬁed toolkit to supp...   \n",
       "19   19  1. An oﬀ-the-shelf toolkit for applying DL mod...   \n",
       "\n",
       "                                             document  \n",
       "0   /Users/orm/repos/pixeltable/pixeltable/tests/d...  \n",
       "1   /Users/orm/repos/pixeltable/pixeltable/tests/d...  \n",
       "2   /Users/orm/repos/pixeltable/pixeltable/tests/d...  \n",
       "3   /Users/orm/repos/pixeltable/pixeltable/tests/d...  \n",
       "4   /Users/orm/repos/pixeltable/pixeltable/tests/d...  \n",
       "5   /Users/orm/repos/pixeltable/pixeltable/tests/d...  \n",
       "6   /Users/orm/repos/pixeltable/pixeltable/tests/d...  \n",
       "7   /Users/orm/repos/pixeltable/pixeltable/tests/d...  \n",
       "8   /Users/orm/repos/pixeltable/pixeltable/tests/d...  \n",
       "9   /Users/orm/repos/pixeltable/pixeltable/tests/d...  \n",
       "10  /Users/orm/repos/pixeltable/pixeltable/tests/d...  \n",
       "11  /Users/orm/repos/pixeltable/pixeltable/tests/d...  \n",
       "12  /Users/orm/repos/pixeltable/pixeltable/tests/d...  \n",
       "13  /Users/orm/repos/pixeltable/pixeltable/tests/d...  \n",
       "14  /Users/orm/repos/pixeltable/pixeltable/tests/d...  \n",
       "15  /Users/orm/repos/pixeltable/pixeltable/tests/d...  \n",
       "16  /Users/orm/repos/pixeltable/pixeltable/tests/d...  \n",
       "17  /Users/orm/repos/pixeltable/pixeltable/tests/d...  \n",
       "18  /Users/orm/repos/pixeltable/pixeltable/tests/d...  \n",
       "19  /Users/orm/repos/pixeltable/pixeltable/tests/d...  "
      ]
     },
     "execution_count": 5,
     "metadata": {},
     "output_type": "execute_result"
    }
   ],
   "source": [
    "paragraph_table.show()"
   ]
  }
 ],
 "metadata": {
  "kernelspec": {
   "display_name": "pixeltable_39",
   "language": "python",
   "name": "python3"
  },
  "language_info": {
   "codemirror_mode": {
    "name": "ipython",
    "version": 3
   },
   "file_extension": ".py",
   "mimetype": "text/x-python",
   "name": "python",
   "nbconvert_exporter": "python",
   "pygments_lexer": "ipython3",
   "version": "3.8.18"
  }
 },
 "nbformat": 4,
 "nbformat_minor": 2
}
