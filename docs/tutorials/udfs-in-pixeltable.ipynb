{
 "cells": [
  {
   "cell_type": "markdown",
   "id": "96282d95-63c9-4d09-bf43-6dccd5076046",
   "metadata": {},
   "source": [
    "# UDFs in Pixeltable\n",
    "\n",
    "Pixeltable has a library of built-in functions and integrations, but sooner or later, you'll want to introduce some customized logic into your workflow. This is where Pixeltable's rich UDF capability comes in. Pixeltable UDFs let you write code in Python, then directly insert your custom logic into Pixeltable expressions and computed columns. In this how-to guide, we'll show how to define UDFs, extend their capabilities, and use them in computed columns.\n",
    "\n",
    "To start, we'll install the necessary dependencies, create a Pixeltable directory and table to experiment with, and add some sample data."
   ]
  },
  {
   "cell_type": "code",
   "execution_count": null,
   "id": "d35cd5f2-365b-43c6-94b2-0f4e308ca2a6",
   "metadata": {},
   "outputs": [],
   "source": [
    "%pip install -q pixeltable"
   ]
  },
  {
   "cell_type": "code",
   "execution_count": 47,
   "id": "638d95c1-7c2f-4f38-a4e7-e7eaf830c881",
   "metadata": {},
   "outputs": [
    {
     "name": "stdout",
     "output_type": "stream",
     "text": [
      "Created table `udfs`.\n",
      "Inserting rows into `udfs`: 2 rows [00:00, 1773.12 rows/s]\n",
      "Inserted 2 rows with 0 errors.\n"
     ]
    },
    {
     "data": {
      "text/html": [
       "<table border=\"1\" class=\"dataframe\">\n",
       "  <thead>\n",
       "    <tr style=\"text-align: right;\">\n",
       "      <th>input</th>\n",
       "    </tr>\n",
       "  </thead>\n",
       "  <tbody>\n",
       "    <tr>\n",
       "      <td>Hello, world!</td>\n",
       "    </tr>\n",
       "    <tr>\n",
       "      <td>You can do a lot with Pixeltable UDFs.</td>\n",
       "    </tr>\n",
       "  </tbody>\n",
       "</table>"
      ],
      "text/plain": [
       "                                    input\n",
       "0                           Hello, world!\n",
       "1  You can do a lot with Pixeltable UDFs."
      ]
     },
     "execution_count": 47,
     "metadata": {},
     "output_type": "execute_result"
    }
   ],
   "source": [
    "import pixeltable as pxt\n",
    "\n",
    "cl = pxt.Client()\n",
    "cl.create_dir('udf_demo', ignore_errors=True)\n",
    "cl.drop_table('udf_demo.udfs', ignore_errors=True)\n",
    "t = cl.create_table('udf_demo.udfs', {'input': pxt.StringType()})\n",
    "t.insert([{'input': 'Hello, world!'}, {'input': 'You can do a lot with Pixeltable UDFs.'}])\n",
    "t.show()"
   ]
  },
  {
   "cell_type": "markdown",
   "id": "54640b5d-5192-41ed-be80-82ffd1e140e0",
   "metadata": {},
   "source": [
    "For our first UDF, we'll do something very simple: write a function to extract the longest word from a string. In Python that might look something like this:"
   ]
  },
  {
   "cell_type": "code",
   "execution_count": 48,
   "id": "d3ca2d38-4529-4fba-ad67-eb230a4d92d5",
   "metadata": {},
   "outputs": [],
   "source": [
    "def longest_word(sentence: str, strip_punctuation: bool = False) -> str:\n",
    "    words = sentence.split()\n",
    "    if strip_punctuation:\n",
    "        # Remove non-alphanumeric characters from each word\n",
    "        words = [''.join(filter(str.isalnum, word)) for word in words]\n",
    "    max_len = max(len(word) for word in words)\n",
    "    return next(word for word in words if len(word) == max_len)"
   ]
  },
  {
   "cell_type": "code",
   "execution_count": 38,
   "id": "a6e813e0-c21d-4538-bdea-4b14eabe2534",
   "metadata": {},
   "outputs": [
    {
     "data": {
      "text/plain": [
       "'check'"
      ]
     },
     "execution_count": 38,
     "metadata": {},
     "output_type": "execute_result"
    }
   ],
   "source": [
    "longest_word(\"Let's check that it works\", strip_punctuation=True)"
   ]
  },
  {
   "cell_type": "markdown",
   "id": "617ed7ae-3756-4f17-b9fa-23c594a441ea",
   "metadata": {},
   "source": [
    "The `longest_word` Python function isn't a Pixeltable UDF (yet), because it operates on individual strings, while a Pixeltable UDF needs to be able to operate on _columns_ of strings. But turning it into a Pixeltable UDF is easy: all we need to do is add the `@pxt.udf` decorator to the function signature."
   ]
  },
  {
   "cell_type": "code",
   "execution_count": 49,
   "id": "0e8bfcf9-9fef-44a6-83cc-b8232198ae18",
   "metadata": {},
   "outputs": [],
   "source": [
    "@pxt.udf\n",
    "def longest_word(sentence: str, strip_punctuation: bool = False) -> str:\n",
    "    words = sentence.split()\n",
    "    if strip_punctuation:\n",
    "        # Remove non-alphanumeric characters from each word\n",
    "        words = [''.join(filter(str.isalnum, word)) for word in words]\n",
    "    max_len = max(len(word) for word in words)\n",
    "    return next(word for word in words if len(word) == max_len)"
   ]
  },
  {
   "cell_type": "markdown",
   "id": "936c0bb6-9ca6-4b66-873c-0c7cd6664856",
   "metadata": {},
   "source": [
    "Now we can create a computed column using our new UDF. Pixeltable orchestrates the computation like it does with any other function, applying the UDF in turn to each existing row of the table, then updating incrementally each time a new row is added."
   ]
  },
  {
   "cell_type": "code",
   "execution_count": 50,
   "id": "32dd5d6f-eb8a-4db9-b224-238a913ff0c5",
   "metadata": {},
   "outputs": [
    {
     "name": "stdout",
     "output_type": "stream",
     "text": [
      "Computing cells: 100%|███████████████████████████████████████████| 2/2 [00:00<00:00, 340.46 cells/s]\n",
      "Added 2 column values with 0 errors.\n"
     ]
    }
   ],
   "source": [
    "t['longest_word'] = longest_word(t.input)"
   ]
  },
  {
   "cell_type": "code",
   "execution_count": 51,
   "id": "feae94dc-b87b-4895-bae2-f08503969219",
   "metadata": {},
   "outputs": [
    {
     "data": {
      "text/html": [
       "<table border=\"1\" class=\"dataframe\">\n",
       "  <thead>\n",
       "    <tr style=\"text-align: right;\">\n",
       "      <th>input</th>\n",
       "      <th>longest_word</th>\n",
       "    </tr>\n",
       "  </thead>\n",
       "  <tbody>\n",
       "    <tr>\n",
       "      <td>Hello, world!</td>\n",
       "      <td>Hello,</td>\n",
       "    </tr>\n",
       "    <tr>\n",
       "      <td>You can do a lot with Pixeltable UDFs.</td>\n",
       "      <td>Pixeltable</td>\n",
       "    </tr>\n",
       "  </tbody>\n",
       "</table>"
      ],
      "text/plain": [
       "                                    input longest_word\n",
       "0                           Hello, world!       Hello,\n",
       "1  You can do a lot with Pixeltable UDFs.   Pixeltable"
      ]
     },
     "execution_count": 51,
     "metadata": {},
     "output_type": "execute_result"
    }
   ],
   "source": [
    "t.show()"
   ]
  },
  {
   "cell_type": "code",
   "execution_count": 52,
   "id": "61d81cc5-37ee-4d19-8f68-af9f6f8b7fad",
   "metadata": {},
   "outputs": [
    {
     "name": "stdout",
     "output_type": "stream",
     "text": [
      "Computing cells:   0%|                                                    | 0/1 [00:00<?, ? cells/s]\n",
      "Inserting rows into `udfs`: 1 rows [00:00, 372.86 rows/s]\n",
      "Computing cells: 100%|███████████████████████████████████████████| 1/1 [00:00<00:00, 160.54 cells/s]\n",
      "Inserted 1 row with 0 errors.\n"
     ]
    },
    {
     "data": {
      "text/html": [
       "<table border=\"1\" class=\"dataframe\">\n",
       "  <thead>\n",
       "    <tr style=\"text-align: right;\">\n",
       "      <th>input</th>\n",
       "      <th>longest_word</th>\n",
       "    </tr>\n",
       "  </thead>\n",
       "  <tbody>\n",
       "    <tr>\n",
       "      <td>Hello, world!</td>\n",
       "      <td>Hello,</td>\n",
       "    </tr>\n",
       "    <tr>\n",
       "      <td>You can do a lot with Pixeltable UDFs.</td>\n",
       "      <td>Pixeltable</td>\n",
       "    </tr>\n",
       "    <tr>\n",
       "      <td>Pixeltable updates tables incrementally.</td>\n",
       "      <td>incrementally.</td>\n",
       "    </tr>\n",
       "  </tbody>\n",
       "</table>"
      ],
      "text/plain": [
       "                                      input    longest_word\n",
       "0                             Hello, world!          Hello,\n",
       "1    You can do a lot with Pixeltable UDFs.      Pixeltable\n",
       "2  Pixeltable updates tables incrementally.  incrementally."
      ]
     },
     "execution_count": 52,
     "metadata": {},
     "output_type": "execute_result"
    }
   ],
   "source": [
    "t.insert(input='Pixeltable updates tables incrementally.')\n",
    "t.show()"
   ]
  },
  {
   "cell_type": "markdown",
   "id": "7dc596c5-bcea-4df8-94c1-2aea6e0fbfdd",
   "metadata": {},
   "source": [
    "Oops, those trailing punctuation marks are kind of annoying. Let's add another column, this time using the handy `strip_punctuation` parameter from our UDF. (We could alternatively drop the first column before adding the new one, but for purposes of this tutorial it's useful to see how Pixeltable executes both variants side-by-side.)"
   ]
  },
  {
   "cell_type": "code",
   "execution_count": 53,
   "id": "847d6416-b430-4fe9-b951-1c2147174c1e",
   "metadata": {},
   "outputs": [
    {
     "name": "stdout",
     "output_type": "stream",
     "text": [
      "Computing cells: 100%|███████████████████████████████████████████| 3/3 [00:00<00:00, 543.19 cells/s]\n",
      "Added 3 column values with 0 errors.\n"
     ]
    },
    {
     "data": {
      "text/html": [
       "<table border=\"1\" class=\"dataframe\">\n",
       "  <thead>\n",
       "    <tr style=\"text-align: right;\">\n",
       "      <th>input</th>\n",
       "      <th>longest_word</th>\n",
       "      <th>longest_word_2</th>\n",
       "    </tr>\n",
       "  </thead>\n",
       "  <tbody>\n",
       "    <tr>\n",
       "      <td>Hello, world!</td>\n",
       "      <td>Hello,</td>\n",
       "      <td>Hello</td>\n",
       "    </tr>\n",
       "    <tr>\n",
       "      <td>You can do a lot with Pixeltable UDFs.</td>\n",
       "      <td>Pixeltable</td>\n",
       "      <td>Pixeltable</td>\n",
       "    </tr>\n",
       "    <tr>\n",
       "      <td>Pixeltable updates tables incrementally.</td>\n",
       "      <td>incrementally.</td>\n",
       "      <td>incrementally</td>\n",
       "    </tr>\n",
       "  </tbody>\n",
       "</table>"
      ],
      "text/plain": [
       "                                      input    longest_word longest_word_2\n",
       "0                             Hello, world!          Hello,          Hello\n",
       "1    You can do a lot with Pixeltable UDFs.      Pixeltable     Pixeltable\n",
       "2  Pixeltable updates tables incrementally.  incrementally.  incrementally"
      ]
     },
     "execution_count": 53,
     "metadata": {},
     "output_type": "execute_result"
    }
   ],
   "source": [
    "t['longest_word_2'] = longest_word(t.input, strip_punctuation=True)\n",
    "t.show()"
   ]
  },
  {
   "cell_type": "markdown",
   "id": "b5811fb4-a9cd-46b3-bcdf-082880bebf65",
   "metadata": {},
   "source": [
    "## Types in Pixeltable\n",
    "\n",
    "You might have noticed that the `longest_word` UDF has _type hints_ in its signature.\n",
    "\n",
    "```python\n",
    "def longest_word(sentence: str, strip_punctuation: bool = False) -> str: ...\n",
    "```\n",
    "\n",
    "The `sentence` parameter, `strip_punctuation` parameter, and return value all have explicit types (`str`, `bool`, and `str` respectively). In general Python code, type hints are usually optional. But Pixeltable is a database system: _everything_ in Pixeltable has a type. And since Pixeltable is also an orchestrator - meaning it sets up workflows and computed columns _before_ executing them - these types need to be known in advance. That's the reasoning behind a fundamental principle of Pixeltable UDFs:\n",
    "- Type hints are _required_.\n",
    "\n",
    "You can turn almost any Python function into a Pixeltable UDF, provided that it has type hints, and provided that Pixeltable supports the types that it uses."
   ]
  },
  {
   "cell_type": "code",
   "execution_count": null,
   "id": "5ec96336-97dd-4c9b-89bd-88c4390167fe",
   "metadata": {},
   "outputs": [],
   "source": []
  },
  {
   "cell_type": "code",
   "execution_count": null,
   "id": "7df62ddf-dec5-4fa7-aec8-386288c05588",
   "metadata": {},
   "outputs": [],
   "source": []
  }
 ],
 "metadata": {
  "kernelspec": {
   "display_name": "Python 3 (ipykernel)",
   "language": "python",
   "name": "python3"
  },
  "language_info": {
   "codemirror_mode": {
    "name": "ipython",
    "version": 3
   },
   "file_extension": ".py",
   "mimetype": "text/x-python",
   "name": "python",
   "nbconvert_exporter": "python",
   "pygments_lexer": "ipython3",
   "version": "3.9.19"
  }
 },
 "nbformat": 4,
 "nbformat_minor": 5
}
