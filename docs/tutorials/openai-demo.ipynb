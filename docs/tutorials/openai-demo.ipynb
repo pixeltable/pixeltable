{
 "cells": [
  {
   "cell_type": "markdown",
   "id": "3e777354",
   "metadata": {},
   "source": [
    "[![Kaggle](https://kaggle.com/static/images/open-in-kaggle.svg)](https://kaggle.com/kernels/welcome?src=https://github.com/pixeltable/pixeltable/blob/master/docs/tutorials/openai-demo.ipynb)&nbsp;&nbsp;\n",
    "<a target=\"_blank\" href=\"https://colab.research.google.com/github/pixeltable/pixeltable/blob/master/docs/tutorials/openai-demo.ipynb\">\n",
    "  <img src=\"https://colab.research.google.com/assets/colab-badge.svg\" alt=\"Open In Colab\"/>\n",
    "</a>\n",
    "\n",
    "# Using the OpenAI API with Pixeltable\n",
    "\n",
    "PixelTable helps users unify data and computation into a table interface. This notebook shows how we can use the OpenAI API via pixeltable.\n",
    "We will keep all artifacts within the `demos` directory."
   ]
  },
  {
   "cell_type": "code",
   "execution_count": null,
   "id": "d5288926-c278-4cbc-815c-cbc0433bbf49",
   "metadata": {},
   "outputs": [],
   "source": [
    "%pip install -q pixeltable openai"
   ]
  },
  {
   "cell_type": "code",
   "execution_count": 1,
   "id": "9bdc613f",
   "metadata": {},
   "outputs": [
    {
     "name": "stdout",
     "output_type": "stream",
     "text": [
      "Connected to Pixeltable database at: postgresql://postgres:@/pixeltable?host=/Users/asiegel/.pixeltable/pgdata\n"
     ]
    }
   ],
   "source": [
    "import pixeltable as pxt\n",
    "pxt.create_dir('demos', ignore_errors=True)"
   ]
  },
  {
   "cell_type": "markdown",
   "id": "aa71d21e",
   "metadata": {},
   "source": [
    "# Creating a table with inputs"
   ]
  },
  {
   "cell_type": "code",
   "execution_count": 2,
   "id": "a6a7bd0d",
   "metadata": {},
   "outputs": [
    {
     "name": "stdout",
     "output_type": "stream",
     "text": [
      "Created table `chat_completions_demo`.\n"
     ]
    }
   ],
   "source": [
    "path = 'demos.chat_completions_demo'\n",
    "pxt.drop_table(path, ignore_errors=True)\n",
    "t = pxt.create_table(path, {'id': pxt.IntType(), 'input': pxt.StringType()})"
   ]
  },
  {
   "cell_type": "code",
   "execution_count": 3,
   "id": "342407c1",
   "metadata": {},
   "outputs": [],
   "source": [
    "# text from https://en.wikipedia.org/wiki/Global_financial_crisis_in_September_2008\n",
    "\n",
    "wikipedia_text = '''On Sunday, September 14, it was announced that Lehman Brothers would file for bankruptcy after the Federal Reserve Bank declined to participate in creating a financial support facility for Lehman Brothers.\n",
    "The significance of the Lehman Brothers bankruptcy is disputed with some assigning it a pivotal role in the unfolding of subsequent events.\n",
    "The principals involved, Ben Bernanke and Henry Paulson, dispute this view, citing a volume of toxic assets at Lehman which made a rescue impossible.[16][17] Immediately following the bankruptcy, JPMorgan Chase provided the broker dealer unit of Lehman Brothers with $138 billion to \"settle securities transactions with customers of Lehman and its clearance parties\" according to a statement made in a New York City Bankruptcy court filing.[18]\n",
    "The same day, the sale of Merrill Lynch to Bank of America was announced.[19] The beginning of the week was marked by extreme instability in global stock markets, with dramatic drops in market values on Monday, September 15, and Wednesday, September 17.\n",
    "On September 16, the large insurer American International Group (AIG), a significant participant in the credit default swaps markets, suffered a liquidity crisis following the downgrade of its credit rating.\n",
    "The Federal Reserve, at AIG's request, and after AIG had shown that it could not find lenders willing to save it from insolvency, created a credit facility for up to US$85 billion in exchange for a 79.9% equity interest, and the right to suspend dividends to previously issued common and preferred stock.[20]'''\n",
    "\n",
    "sample_inputs = wikipedia_text.split('\\n')"
   ]
  },
  {
   "cell_type": "code",
   "execution_count": 4,
   "id": "c5f0b862",
   "metadata": {},
   "outputs": [
    {
     "name": "stdout",
     "output_type": "stream",
     "text": [
      "Inserting rows into `chat_completions_demo`: 1 rows [00:00, 148.26 rows/s]\n",
      "Inserted 1 row with 0 errors.\n"
     ]
    },
    {
     "data": {
      "text/html": [
       "<table border=\"1\" class=\"dataframe\">\n",
       "  <thead>\n",
       "    <tr style=\"text-align: right;\">\n",
       "      <th>id</th>\n",
       "      <th>input</th>\n",
       "    </tr>\n",
       "  </thead>\n",
       "  <tbody>\n",
       "    <tr>\n",
       "      <td>0</td>\n",
       "      <td>On Sunday, September 14, it was announced that Lehman Brothers would file for bankruptcy after the Federal Reserve Bank declined to participate in creating a financial support facility for Lehman Brothers.</td>\n",
       "    </tr>\n",
       "  </tbody>\n",
       "</table>"
      ],
      "text/plain": [
       "   id                                              input\n",
       "0   0  On Sunday, September 14, it was announced that..."
      ]
     },
     "execution_count": 4,
     "metadata": {},
     "output_type": "execute_result"
    }
   ],
   "source": [
    "# example row inserted, persisted to table.\n",
    "t.insert(id=0, input=sample_inputs[0])\n",
    "t.show()"
   ]
  },
  {
   "cell_type": "markdown",
   "id": "8b08ecc3",
   "metadata": {},
   "source": [
    "# Making OpenAI API calls\n",
    "\n",
    "Calling OpenAI API endpoints involves constructing a message object, which we express in Pixeltable by adding a new computed column,i.e., a column that represents a computation."
   ]
  },
  {
   "cell_type": "code",
   "execution_count": 5,
   "id": "12197f4e",
   "metadata": {},
   "outputs": [
    {
     "name": "stdout",
     "output_type": "stream",
     "text": [
      "Computing cells: 100%|███████████████████████████████████████████| 1/1 [00:00<00:00, 211.78 cells/s]\n",
      "Added 1 column value with 0 errors.\n"
     ]
    },
    {
     "data": {
      "text/plain": [
       "UpdateStatus(num_rows=1, num_computed_values=1, num_excs=0, updated_cols=[], cols_with_excs=[])"
      ]
     },
     "execution_count": 5,
     "metadata": {},
     "output_type": "execute_result"
    }
   ],
   "source": [
    "prompt = \"For the following sentence, extract all company names from the text.\"\n",
    "\n",
    "msgs = [\n",
    "    { \"role\": \"system\", \"content\": prompt },\n",
    "    { \"role\": \"user\", \"content\": t.input }\n",
    "]\n",
    "\n",
    "t.add_column(input_msgs=msgs)"
   ]
  },
  {
   "cell_type": "markdown",
   "id": "92068113",
   "metadata": {},
   "source": [
    "Unlike the values of the`input` column, which users provide, the `t.input_msgs` column is computed automatically from the `t.input` column values:"
   ]
  },
  {
   "cell_type": "code",
   "execution_count": 6,
   "id": "249592fc",
   "metadata": {},
   "outputs": [
    {
     "data": {
      "text/html": [
       "<table border=\"1\" class=\"dataframe\">\n",
       "  <thead>\n",
       "    <tr style=\"text-align: right;\">\n",
       "      <th>id</th>\n",
       "      <th>input</th>\n",
       "      <th>input_msgs</th>\n",
       "    </tr>\n",
       "  </thead>\n",
       "  <tbody>\n",
       "    <tr>\n",
       "      <td>0</td>\n",
       "      <td>On Sunday, September 14, it was announced that Lehman Brothers would file for bankruptcy after the Federal Reserve Bank declined to participate in creating a financial support facility for Lehman Brothers.</td>\n",
       "      <td>[{'role': 'system', 'content': 'For the following sentence, extract all company names from the text.'}, {'role': 'user', 'content': 'On Sunday, September 14, it was announced that Lehman Brothers would file for bankruptcy after the Federal Reserve Bank declined to participate in creating a financial support facility for Lehman Brothers.'}]</td>\n",
       "    </tr>\n",
       "  </tbody>\n",
       "</table>"
      ],
      "text/plain": [
       "   id                                              input  \\\n",
       "0   0  On Sunday, September 14, it was announced that...   \n",
       "\n",
       "                                          input_msgs  \n",
       "0  [{'role': 'system', 'content': 'For the follow...  "
      ]
     },
     "execution_count": 6,
     "metadata": {},
     "output_type": "execute_result"
    }
   ],
   "source": [
    "t.show()"
   ]
  },
  {
   "cell_type": "markdown",
   "id": "7cea0186",
   "metadata": {},
   "source": [
    "In Pixeltable, OpenAI API calls are exposed as Pixeltable functions, which can be used to create computed columns.\n",
    "\n",
    "For the following command to work, you must have set `os.environ['OPENAI_API_KEY']`."
   ]
  },
  {
   "cell_type": "code",
   "execution_count": 7,
   "id": "d0aaed0e",
   "metadata": {},
   "outputs": [
    {
     "name": "stdout",
     "output_type": "stream",
     "text": [
      "Computing cells: 100%|████████████████████████████████████████████| 1/1 [00:00<00:00,  1.25 cells/s]\n",
      "Added 1 column value with 0 errors.\n"
     ]
    },
    {
     "data": {
      "text/html": [
       "<table border=\"1\" class=\"dataframe\">\n",
       "  <thead>\n",
       "    <tr style=\"text-align: right;\">\n",
       "      <th>id</th>\n",
       "      <th>input</th>\n",
       "      <th>input_msgs</th>\n",
       "      <th>chat_output</th>\n",
       "    </tr>\n",
       "  </thead>\n",
       "  <tbody>\n",
       "    <tr>\n",
       "      <td>0</td>\n",
       "      <td>On Sunday, September 14, it was announced that Lehman Brothers would file for bankruptcy after the Federal Reserve Bank declined to participate in creating a financial support facility for Lehman Brothers.</td>\n",
       "      <td>[{'role': 'system', 'content': 'For the following sentence, extract all company names from the text.'}, {'role': 'user', 'content': 'On Sunday, September 14, it was announced that Lehman Brothers would file for bankruptcy after the Federal Reserve Bank declined to participate in creating a financial support facility for Lehman Brothers.'}]</td>\n",
       "      <td>{'id': 'chatcmpl-9G7ou4uLNHVoCHNwyLsfhBWVtQiMP', 'model': 'gpt-3.5-turbo-0125', 'usage': {'total_tokens': 69, 'prompt_tokens': 61, 'completion_tokens': 8}, 'object': 'chat.completion', 'choices': [{'index': 0, 'message': {'role': 'assistant', 'content': 'Lehman Brothers, Federal Reserve Bank', 'tool_calls': None, 'function_call': None}, 'logprobs': None, 'finish_reason': 'stop'}], 'created': 1713630336, 'system_fingerprint': 'fp_c2295e73ad'}</td>\n",
       "    </tr>\n",
       "  </tbody>\n",
       "</table>"
      ],
      "text/plain": [
       "   id                                              input  \\\n",
       "0   0  On Sunday, September 14, it was announced that...   \n",
       "\n",
       "                                          input_msgs  \\\n",
       "0  [{'role': 'system', 'content': 'For the follow...   \n",
       "\n",
       "                                         chat_output  \n",
       "0  {'id': 'chatcmpl-9G7ou4uLNHVoCHNwyLsfhBWVtQiMP...  "
      ]
     },
     "execution_count": 7,
     "metadata": {},
     "output_type": "execute_result"
    }
   ],
   "source": [
    "from pixeltable.functions import openai\n",
    "\n",
    "t['chat_output'] = openai.chat_completions(model='gpt-3.5-turbo', messages=t.input_msgs)\n",
    "t.show()"
   ]
  },
  {
   "cell_type": "markdown",
   "id": "004723a6",
   "metadata": {},
   "source": [
    "The result objects of the OpenAI API calls are generally complex JSON structures, which require some navigation to extract the response. We can express this as JSON path expressions and create another computed column:"
   ]
  },
  {
   "cell_type": "code",
   "execution_count": 8,
   "id": "06e15905",
   "metadata": {},
   "outputs": [
    {
     "name": "stdout",
     "output_type": "stream",
     "text": [
      "Computing cells: 100%|███████████████████████████████████████████| 1/1 [00:00<00:00, 233.03 cells/s]\n",
      "Added 1 column value with 0 errors.\n"
     ]
    },
    {
     "data": {
      "text/html": [
       "<table border=\"1\" class=\"dataframe\">\n",
       "  <thead>\n",
       "    <tr style=\"text-align: right;\">\n",
       "      <th>id</th>\n",
       "      <th>input</th>\n",
       "      <th>input_msgs</th>\n",
       "      <th>chat_output</th>\n",
       "      <th>response</th>\n",
       "    </tr>\n",
       "  </thead>\n",
       "  <tbody>\n",
       "    <tr>\n",
       "      <td>0</td>\n",
       "      <td>On Sunday, September 14, it was announced that Lehman Brothers would file for bankruptcy after the Federal Reserve Bank declined to participate in creating a financial support facility for Lehman Brothers.</td>\n",
       "      <td>[{'role': 'system', 'content': 'For the following sentence, extract all company names from the text.'}, {'role': 'user', 'content': 'On Sunday, September 14, it was announced that Lehman Brothers would file for bankruptcy after the Federal Reserve Bank declined to participate in creating a financial support facility for Lehman Brothers.'}]</td>\n",
       "      <td>{'id': 'chatcmpl-9G7ou4uLNHVoCHNwyLsfhBWVtQiMP', 'model': 'gpt-3.5-turbo-0125', 'usage': {'total_tokens': 69, 'prompt_tokens': 61, 'completion_tokens': 8}, 'object': 'chat.completion', 'choices': [{'index': 0, 'message': {'role': 'assistant', 'content': 'Lehman Brothers, Federal Reserve Bank', 'tool_calls': None, 'function_call': None}, 'logprobs': None, 'finish_reason': 'stop'}], 'created': 1713630336, 'system_fingerprint': 'fp_c2295e73ad'}</td>\n",
       "      <td>Lehman Brothers, Federal Reserve Bank</td>\n",
       "    </tr>\n",
       "  </tbody>\n",
       "</table>"
      ],
      "text/plain": [
       "   id                                              input  \\\n",
       "0   0  On Sunday, September 14, it was announced that...   \n",
       "\n",
       "                                          input_msgs  \\\n",
       "0  [{'role': 'system', 'content': 'For the follow...   \n",
       "\n",
       "                                         chat_output  \\\n",
       "0  {'id': 'chatcmpl-9G7ou4uLNHVoCHNwyLsfhBWVtQiMP...   \n",
       "\n",
       "                                response  \n",
       "0  Lehman Brothers, Federal Reserve Bank  "
      ]
     },
     "execution_count": 8,
     "metadata": {},
     "output_type": "execute_result"
    }
   ],
   "source": [
    "t['response'] = t.chat_output.choices[0].message.content\n",
    "t.show()"
   ]
  },
  {
   "cell_type": "markdown",
   "id": "96d19ca5",
   "metadata": {},
   "source": [
    "Let's run a query to look only at the input and output:"
   ]
  },
  {
   "cell_type": "code",
   "execution_count": 9,
   "id": "4313dbb1",
   "metadata": {},
   "outputs": [
    {
     "data": {
      "text/html": [
       "<table border=\"1\" class=\"dataframe\">\n",
       "  <thead>\n",
       "    <tr style=\"text-align: right;\">\n",
       "      <th>input</th>\n",
       "      <th>response</th>\n",
       "    </tr>\n",
       "  </thead>\n",
       "  <tbody>\n",
       "    <tr>\n",
       "      <td>On Sunday, September 14, it was announced that Lehman Brothers would file for bankruptcy after the Federal Reserve Bank declined to participate in creating a financial support facility for Lehman Brothers.</td>\n",
       "      <td>Lehman Brothers, Federal Reserve Bank</td>\n",
       "    </tr>\n",
       "  </tbody>\n",
       "</table>"
      ],
      "text/plain": [
       "                                               input  \\\n",
       "0  On Sunday, September 14, it was announced that...   \n",
       "\n",
       "                                response  \n",
       "0  Lehman Brothers, Federal Reserve Bank  "
      ]
     },
     "execution_count": 9,
     "metadata": {},
     "output_type": "execute_result"
    }
   ],
   "source": [
    "t.select(t.input, t.response).show()"
   ]
  },
  {
   "cell_type": "markdown",
   "id": "3ae2854d",
   "metadata": {},
   "source": [
    "Once we have defined these computed columns, much like with a spreadsheet, newly inserted `t.input` values trigger computation of all derived columns, such as `t.response`:"
   ]
  },
  {
   "cell_type": "code",
   "execution_count": 10,
   "id": "d5144a35",
   "metadata": {},
   "outputs": [
    {
     "name": "stdout",
     "output_type": "stream",
     "text": [
      "Computing cells: 100%|██████████████████████████████████████████| 15/15 [00:02<00:00,  5.73 cells/s]\n",
      "Inserting rows into `chat_completions_demo`: 5 rows [00:00, 1473.75 rows/s]\n",
      "Computing cells: 100%|██████████████████████████████████████████| 15/15 [00:02<00:00,  5.71 cells/s]\n",
      "Inserted 5 rows with 0 errors.\n"
     ]
    },
    {
     "data": {
      "text/plain": [
       "UpdateStatus(num_rows=5, num_computed_values=15, num_excs=0, updated_cols=[], cols_with_excs=[])"
      ]
     },
     "execution_count": 10,
     "metadata": {},
     "output_type": "execute_result"
    }
   ],
   "source": [
    "t.insert({'id': i, 'input': sample_inputs[i]} for i in range(1, len(sample_inputs)))"
   ]
  },
  {
   "cell_type": "code",
   "execution_count": 11,
   "id": "729713aa",
   "metadata": {},
   "outputs": [
    {
     "data": {
      "text/html": [
       "<table border=\"1\" class=\"dataframe\">\n",
       "  <thead>\n",
       "    <tr style=\"text-align: right;\">\n",
       "      <th>input</th>\n",
       "      <th>response</th>\n",
       "    </tr>\n",
       "  </thead>\n",
       "  <tbody>\n",
       "    <tr>\n",
       "      <td>On Sunday, September 14, it was announced that Lehman Brothers would file for bankruptcy after the Federal Reserve Bank declined to participate in creating a financial support facility for Lehman Brothers.</td>\n",
       "      <td>Lehman Brothers, Federal Reserve Bank</td>\n",
       "    </tr>\n",
       "    <tr>\n",
       "      <td>The significance of the Lehman Brothers bankruptcy is disputed with some assigning it a pivotal role in the unfolding of subsequent events.</td>\n",
       "      <td>Lehman Brothers</td>\n",
       "    </tr>\n",
       "    <tr>\n",
       "      <td>The principals involved, Ben Bernanke and Henry Paulson, dispute this view, citing a volume of toxic assets at Lehman which made a rescue impossible.[16][17] Immediately following the bankruptcy, JPMorgan Chase provided the broker dealer unit of Lehman Brothers with $138 billion to \"settle securities transactions with customers of Lehman and its clearance parties\" according to a statement made in a New York City Bankruptcy court filing.[18]</td>\n",
       "      <td>1. Lehman\\n2. JPMorgan Chase</td>\n",
       "    </tr>\n",
       "    <tr>\n",
       "      <td>The same day, the sale of Merrill Lynch to Bank of America was announced.[19] The beginning of the week was marked by extreme instability in global stock markets, with dramatic drops in market values on Monday, September 15, and Wednesday, September 17.</td>\n",
       "      <td>1. Merrill Lynch\\n2. Bank of America</td>\n",
       "    </tr>\n",
       "    <tr>\n",
       "      <td>On September 16, the large insurer American International Group (AIG), a significant participant in the credit default swaps markets, suffered a liquidity crisis following the downgrade of its credit rating.</td>\n",
       "      <td>- American International Group (AIG)</td>\n",
       "    </tr>\n",
       "    <tr>\n",
       "      <td>The Federal Reserve, at AIG's request, and after AIG had shown that it could not find lenders willing to save it from insolvency, created a credit facility for up to US$85 billion in exchange for a 79.9% equity interest, and the right to suspend dividends to previously issued common and preferred stock.[20]</td>\n",
       "      <td>- The Federal Reserve\\n- AIG</td>\n",
       "    </tr>\n",
       "  </tbody>\n",
       "</table>"
      ],
      "text/plain": [
       "                                               input  \\\n",
       "0  On Sunday, September 14, it was announced that...   \n",
       "1  The significance of the Lehman Brothers bankru...   \n",
       "2  The principals involved, Ben Bernanke and Henr...   \n",
       "3  The same day, the sale of Merrill Lynch to Ban...   \n",
       "4  On September 16, the large insurer American In...   \n",
       "5  The Federal Reserve, at AIG's request, and aft...   \n",
       "\n",
       "                                response  \n",
       "0  Lehman Brothers, Federal Reserve Bank  \n",
       "1                        Lehman Brothers  \n",
       "2           1. Lehman\\n2. JPMorgan Chase  \n",
       "3   1. Merrill Lynch\\n2. Bank of America  \n",
       "4   - American International Group (AIG)  \n",
       "5           - The Federal Reserve\\n- AIG  "
      ]
     },
     "execution_count": 11,
     "metadata": {},
     "output_type": "execute_result"
    }
   ],
   "source": [
    "t.select(t.input, t.response).show()"
   ]
  },
  {
   "cell_type": "markdown",
   "id": "a0cfe126",
   "metadata": {},
   "source": [
    "# Adding ground truth data\n",
    "\n",
    "Computed table columns are stored and persisted, avoiding repeated computation.\n",
    "Pixeltable can be used to conduct experiments, for example to compare prompt variations:\n",
    "\n",
    "We'll start by creating our ground-truth data manually:"
   ]
  },
  {
   "cell_type": "code",
   "execution_count": 12,
   "id": "6d4f8611",
   "metadata": {},
   "outputs": [
    {
     "name": "stdout",
     "output_type": "stream",
     "text": [
      "Added 6 column values with 0 errors.\n",
      "Inserting rows into `chat_completions_demo`: 1 rows [00:00, 584.16 rows/s]\n",
      "Inserting rows into `chat_completions_demo`: 1 rows [00:00, 919.20 rows/s]\n",
      "Inserting rows into `chat_completions_demo`: 1 rows [00:00, 868.93 rows/s]\n",
      "Inserting rows into `chat_completions_demo`: 1 rows [00:00, 557.75 rows/s]\n",
      "Inserting rows into `chat_completions_demo`: 1 rows [00:00, 937.07 rows/s]\n",
      "Inserting rows into `chat_completions_demo`: 1 rows [00:00, 929.38 rows/s]\n"
     ]
    }
   ],
   "source": [
    "t['ground_truth'] = pxt.StringType(nullable=True)\n",
    "\n",
    "ground_truth = [\n",
    "    'Lehman Brothers',\n",
    "    'Lehman Brothers',\n",
    "    'JP Morgan Chase, Lehman Brothers',\n",
    "    'Merill Lynch, Bank of America',\n",
    "    'American International Group',\n",
    "    'American International Group',\n",
    "]\n",
    "\n",
    "for i, gt in enumerate(ground_truth):\n",
    "    t.update({'ground_truth': gt}, where=(t.id == i))"
   ]
  },
  {
   "cell_type": "markdown",
   "id": "17406f13",
   "metadata": {},
   "source": [
    "And this is what we have so far:"
   ]
  },
  {
   "cell_type": "code",
   "execution_count": 13,
   "id": "72457011",
   "metadata": {},
   "outputs": [
    {
     "data": {
      "text/html": [
       "<table border=\"1\" class=\"dataframe\">\n",
       "  <thead>\n",
       "    <tr style=\"text-align: right;\">\n",
       "      <th>input</th>\n",
       "      <th>response</th>\n",
       "      <th>ground_truth</th>\n",
       "    </tr>\n",
       "  </thead>\n",
       "  <tbody>\n",
       "    <tr>\n",
       "      <td>On Sunday, September 14, it was announced that Lehman Brothers would file for bankruptcy after the Federal Reserve Bank declined to participate in creating a financial support facility for Lehman Brothers.</td>\n",
       "      <td>Lehman Brothers, Federal Reserve Bank</td>\n",
       "      <td>Lehman Brothers</td>\n",
       "    </tr>\n",
       "    <tr>\n",
       "      <td>The significance of the Lehman Brothers bankruptcy is disputed with some assigning it a pivotal role in the unfolding of subsequent events.</td>\n",
       "      <td>Lehman Brothers</td>\n",
       "      <td>Lehman Brothers</td>\n",
       "    </tr>\n",
       "    <tr>\n",
       "      <td>The principals involved, Ben Bernanke and Henry Paulson, dispute this view, citing a volume of toxic assets at Lehman which made a rescue impossible.[16][17] Immediately following the bankruptcy, JPMorgan Chase provided the broker dealer unit of Lehman Brothers with $138 billion to \"settle securities transactions with customers of Lehman and its clearance parties\" according to a statement made in a New York City Bankruptcy court filing.[18]</td>\n",
       "      <td>1. Lehman\\n2. JPMorgan Chase</td>\n",
       "      <td>JP Morgan Chase, Lehman Brothers</td>\n",
       "    </tr>\n",
       "    <tr>\n",
       "      <td>The same day, the sale of Merrill Lynch to Bank of America was announced.[19] The beginning of the week was marked by extreme instability in global stock markets, with dramatic drops in market values on Monday, September 15, and Wednesday, September 17.</td>\n",
       "      <td>1. Merrill Lynch\\n2. Bank of America</td>\n",
       "      <td>Merill Lynch, Bank of America</td>\n",
       "    </tr>\n",
       "    <tr>\n",
       "      <td>The Federal Reserve, at AIG's request, and after AIG had shown that it could not find lenders willing to save it from insolvency, created a credit facility for up to US$85 billion in exchange for a 79.9% equity interest, and the right to suspend dividends to previously issued common and preferred stock.[20]</td>\n",
       "      <td>- The Federal Reserve\\n- AIG</td>\n",
       "      <td>American International Group</td>\n",
       "    </tr>\n",
       "    <tr>\n",
       "      <td>On September 16, the large insurer American International Group (AIG), a significant participant in the credit default swaps markets, suffered a liquidity crisis following the downgrade of its credit rating.</td>\n",
       "      <td>- American International Group (AIG)</td>\n",
       "      <td>American International Group</td>\n",
       "    </tr>\n",
       "  </tbody>\n",
       "</table>"
      ],
      "text/plain": [
       "                                               input  \\\n",
       "0  On Sunday, September 14, it was announced that...   \n",
       "1  The significance of the Lehman Brothers bankru...   \n",
       "2  The principals involved, Ben Bernanke and Henr...   \n",
       "3  The same day, the sale of Merrill Lynch to Ban...   \n",
       "4  The Federal Reserve, at AIG's request, and aft...   \n",
       "5  On September 16, the large insurer American In...   \n",
       "\n",
       "                                response                      ground_truth  \n",
       "0  Lehman Brothers, Federal Reserve Bank                   Lehman Brothers  \n",
       "1                        Lehman Brothers                   Lehman Brothers  \n",
       "2           1. Lehman\\n2. JPMorgan Chase  JP Morgan Chase, Lehman Brothers  \n",
       "3   1. Merrill Lynch\\n2. Bank of America     Merill Lynch, Bank of America  \n",
       "4           - The Federal Reserve\\n- AIG      American International Group  \n",
       "5   - American International Group (AIG)      American International Group  "
      ]
     },
     "execution_count": 13,
     "metadata": {},
     "output_type": "execute_result"
    }
   ],
   "source": [
    "t.select(t.input, t.response, t.ground_truth).show()"
   ]
  },
  {
   "cell_type": "markdown",
   "id": "ce291c35",
   "metadata": {},
   "source": [
    "# Evaluation\n",
    "\n",
    "Now that we have some ground truth available, we can carry out basic evaluations of the GPT outputs, in this case by asking ChatGPT to decide whether the two are equivalent. \n",
    "\n",
    "To start with, we'll create an evaluation prompt:"
   ]
  },
  {
   "cell_type": "code",
   "execution_count": 14,
   "id": "c49ea5b7",
   "metadata": {},
   "outputs": [
    {
     "name": "stdout",
     "output_type": "stream",
     "text": [
      "Computing cells: 100%|███████████████████████████████████████████| 6/6 [00:00<00:00, 549.45 cells/s]\n",
      "Added 6 column values with 0 errors.\n"
     ]
    },
    {
     "data": {
      "text/plain": [
       "UpdateStatus(num_rows=6, num_computed_values=6, num_excs=0, updated_cols=[], cols_with_excs=[])"
      ]
     },
     "execution_count": 14,
     "metadata": {},
     "output_type": "execute_result"
    }
   ],
   "source": [
    "system_prompt = '''\n",
    "Compare the following listA and listB of entities, and check if they contain the same entities.\n",
    "Return a json object with the following format:\n",
    "{\"reasoning\": explaining your reasoning, \"decision\": 1 if the lists matched, 0 otherwise}\n",
    "'''\n",
    "\n",
    "@pxt.udf\n",
    "def user_prompt(listA: str, listB: str) -> str:\n",
    "    return f'listA: \"{listA}\" \\n listB: \"{listB}\"'\n",
    "\n",
    "t.add_column(\n",
    "    eval_prompt=[\n",
    "        { \"role\": \"system\", \"content\": system_prompt },\n",
    "        { \"role\": \"user\", \"content\": user_prompt(t.response, t.ground_truth) }\n",
    "    ])"
   ]
  },
  {
   "cell_type": "code",
   "execution_count": 15,
   "id": "08445095",
   "metadata": {},
   "outputs": [
    {
     "data": {
      "text/html": [
       "<table border=\"1\" class=\"dataframe\">\n",
       "  <thead>\n",
       "    <tr style=\"text-align: right;\">\n",
       "      <th>eval_prompt</th>\n",
       "    </tr>\n",
       "  </thead>\n",
       "  <tbody>\n",
       "    <tr>\n",
       "      <td>[{'role': 'system', 'content': '\n",
       "Compare the following listA and listB of entities, and check if they contain the same entities.\n",
       "Return a json object with the following format:\n",
       "{\"reasoning\": explaining your reasoning, \"decision\": 1 if the lists matched, 0 otherwise}\n",
       "'}, {'role': 'user', 'content': 'listA: \"Lehman Brothers\" \n",
       " listB: \"Lehman Brothers\"'}]</td>\n",
       "    </tr>\n",
       "    <tr>\n",
       "      <td>[{'role': 'system', 'content': '\n",
       "Compare the following listA and listB of entities, and check if they contain the same entities.\n",
       "Return a json object with the following format:\n",
       "{\"reasoning\": explaining your reasoning, \"decision\": 1 if the lists matched, 0 otherwise}\n",
       "'}, {'role': 'user', 'content': 'listA: \"1. Merrill Lynch\n",
       "2. Bank of America\" \n",
       " listB: \"Merill Lynch, Bank of America\"'}]</td>\n",
       "    </tr>\n",
       "    <tr>\n",
       "      <td>[{'role': 'system', 'content': '\n",
       "Compare the following listA and listB of entities, and check if they contain the same entities.\n",
       "Return a json object with the following format:\n",
       "{\"reasoning\": explaining your reasoning, \"decision\": 1 if the lists matched, 0 otherwise}\n",
       "'}, {'role': 'user', 'content': 'listA: \"- The Federal Reserve\n",
       "- AIG\" \n",
       " listB: \"American International Group\"'}]</td>\n",
       "    </tr>\n",
       "    <tr>\n",
       "      <td>[{'role': 'system', 'content': '\n",
       "Compare the following listA and listB of entities, and check if they contain the same entities.\n",
       "Return a json object with the following format:\n",
       "{\"reasoning\": explaining your reasoning, \"decision\": 1 if the lists matched, 0 otherwise}\n",
       "'}, {'role': 'user', 'content': 'listA: \"Lehman Brothers, Federal Reserve Bank\" \n",
       " listB: \"Lehman Brothers\"'}]</td>\n",
       "    </tr>\n",
       "    <tr>\n",
       "      <td>[{'role': 'system', 'content': '\n",
       "Compare the following listA and listB of entities, and check if they contain the same entities.\n",
       "Return a json object with the following format:\n",
       "{\"reasoning\": explaining your reasoning, \"decision\": 1 if the lists matched, 0 otherwise}\n",
       "'}, {'role': 'user', 'content': 'listA: \"1. Lehman\n",
       "2. JPMorgan Chase\" \n",
       " listB: \"JP Morgan Chase, Lehman Brothers\"'}]</td>\n",
       "    </tr>\n",
       "    <tr>\n",
       "      <td>[{'role': 'system', 'content': '\n",
       "Compare the following listA and listB of entities, and check if they contain the same entities.\n",
       "Return a json object with the following format:\n",
       "{\"reasoning\": explaining your reasoning, \"decision\": 1 if the lists matched, 0 otherwise}\n",
       "'}, {'role': 'user', 'content': 'listA: \"- American International Group (AIG)\" \n",
       " listB: \"American International Group\"'}]</td>\n",
       "    </tr>\n",
       "  </tbody>\n",
       "</table>"
      ],
      "text/plain": [
       "                                         eval_prompt\n",
       "0  [{'role': 'system', 'content': '\n",
       "Compare the f...\n",
       "1  [{'role': 'system', 'content': '\n",
       "Compare the f...\n",
       "2  [{'role': 'system', 'content': '\n",
       "Compare the f...\n",
       "3  [{'role': 'system', 'content': '\n",
       "Compare the f...\n",
       "4  [{'role': 'system', 'content': '\n",
       "Compare the f...\n",
       "5  [{'role': 'system', 'content': '\n",
       "Compare the f..."
      ]
     },
     "execution_count": 15,
     "metadata": {},
     "output_type": "execute_result"
    }
   ],
   "source": [
    "t.select(t.eval_prompt).show()"
   ]
  },
  {
   "cell_type": "markdown",
   "id": "0b8be46a",
   "metadata": {},
   "source": [
    "The actual evaluation happens in another computed column. We can use OpenAI's handy `response_format` parameter to enforce that the output is properly formed JSON."
   ]
  },
  {
   "cell_type": "code",
   "execution_count": 16,
   "id": "43516050",
   "metadata": {},
   "outputs": [
    {
     "name": "stdout",
     "output_type": "stream",
     "text": [
      "Computing cells: 100%|████████████████████████████████████████████| 6/6 [00:06<00:00,  1.05s/ cells]\n",
      "Added 6 column values with 0 errors.\n",
      "Computing cells: 100%|███████████████████████████████████████████| 6/6 [00:00<00:00, 679.57 cells/s]\n",
      "Added 6 column values with 0 errors.\n"
     ]
    }
   ],
   "source": [
    "t['eval'] = openai.chat_completions(model='gpt-3.5-turbo', messages=t.eval_prompt, response_format={'type': 'json_object'})\n",
    "t['eval_output'] = t.eval.choices[0].message.content"
   ]
  },
  {
   "cell_type": "markdown",
   "id": "c72427a8",
   "metadata": {},
   "source": [
    "Let's take a look:"
   ]
  },
  {
   "cell_type": "code",
   "execution_count": 17,
   "id": "5ce36880",
   "metadata": {},
   "outputs": [
    {
     "data": {
      "text/html": [
       "<table border=\"1\" class=\"dataframe\">\n",
       "  <thead>\n",
       "    <tr style=\"text-align: right;\">\n",
       "      <th>eval</th>\n",
       "      <th>eval_output</th>\n",
       "    </tr>\n",
       "  </thead>\n",
       "  <tbody>\n",
       "    <tr>\n",
       "      <td>{'id': 'chatcmpl-9G7pLpT0mfYMSG5XpElAfCNme1Vg1', 'model': 'gpt-3.5-turbo-0125', 'usage': {'total_tokens': 113, 'prompt_tokens': 82, 'completion_tokens': 31}, 'object': 'chat.completion', 'choices': [{'index': 0, 'message': {'role': 'assistant', 'content': '{\"reasoning\": \"The entities in listA and listB are the same (both \\'Lehman Brothers\\').\", \"decision\": 1}', 'tool_calls': None, 'function_call': None}, 'logprobs': None, 'finish_reason': 'stop'}], 'created': 1713630363, 'system_fingerprint': 'fp_c2295e73ad'}</td>\n",
       "      <td>{\"reasoning\": \"The entities in listA and listB are the same (both 'Lehman Brothers').\", \"decision\": 1}</td>\n",
       "    </tr>\n",
       "    <tr>\n",
       "      <td>{'id': 'chatcmpl-9G7pNHOzwtt3cCYsc82jbMQuXGmDe', 'model': 'gpt-3.5-turbo-0125', 'usage': {'total_tokens': 146, 'prompt_tokens': 84, 'completion_tokens': 62}, 'object': 'chat.completion', 'choices': [{'index': 0, 'message': {'role': 'assistant', 'content': '{\\n    \"reasoning\": \"ListA contains entities \\'The Federal Reserve\\' and \\'AIG\\', while ListB contains the entity \\'American International Group\\'. \\'AIG\\' in ListA most likely refers to \\'American International Group\\'. Hence, the lists match.\",\\n    \"decision\": 1\\n}', 'tool_calls': None, 'function_call': None}, 'logprobs': None, 'finish_reason': 'stop'}], 'created': 1713630365, 'system_fingerprint': 'fp_c2295e73ad'}</td>\n",
       "      <td>{\\n    \"reasoning\": \"ListA contains entities 'The Federal Reserve' and 'AIG', while ListB contains the entity 'American International Group'. 'AIG' in ListA most likely refers to 'American International Group'. Hence, the lists match.\",\\n    \"decision\": 1\\n}</td>\n",
       "    </tr>\n",
       "    <tr>\n",
       "      <td>{'id': 'chatcmpl-9G7pPNFYpBZMkqj8C8uPDqduQIXek', 'model': 'gpt-3.5-turbo-0125', 'usage': {'total_tokens': 165, 'prompt_tokens': 92, 'completion_tokens': 73}, 'object': 'chat.completion', 'choices': [{'index': 0, 'message': {'role': 'assistant', 'content': '{\"reasoning\": \"The entities in listA and listB are the same, but they are formatted differently. \\'JP Morgan Chase\\' in listB is the same as \\'JPMorgan Chase\\' in listA. \\'Lehman Brothers\\' in listB is the same as \\'Lehman\\' in listA.\", \"decision\": 1}', 'tool_calls': None, 'function_call': None}, 'logprobs': None, 'finish_reason': 'stop'}], 'created': 1713630367, 'system_fingerprint': 'fp_c2295e73ad'}</td>\n",
       "      <td>{\"reasoning\": \"The entities in listA and listB are the same, but they are formatted differently. 'JP Morgan Chase' in listB is the same as 'JPMorgan Chase' in listA. 'Lehman Brothers' in listB is the same as 'Lehman' in listA.\", \"decision\": 1}</td>\n",
       "    </tr>\n",
       "    <tr>\n",
       "      <td>{'id': 'chatcmpl-9G7pMqB7iH4FwOsxhUIoJLSszDVWr', 'model': 'gpt-3.5-turbo-0125', 'usage': {'total_tokens': 149, 'prompt_tokens': 91, 'completion_tokens': 58}, 'object': 'chat.completion', 'choices': [{'index': 0, 'message': {'role': 'assistant', 'content': '{\\n    \"reasoning\": \"ListA has entities with numbers and periods, while listB does not. The spelling of \\'Merrill Lynch\\' is also different in listB. Therefore, the entities in the two lists do not match.\",\\n    \"decision\": 0\\n}', 'tool_calls': None, 'function_call': None}, 'logprobs': None, 'finish_reason': 'stop'}], 'created': 1713630364, 'system_fingerprint': 'fp_c2295e73ad'}</td>\n",
       "      <td>{\\n    \"reasoning\": \"ListA has entities with numbers and periods, while listB does not. The spelling of 'Merrill Lynch' is also different in listB. Therefore, the entities in the two lists do not match.\",\\n    \"decision\": 0\\n}</td>\n",
       "    </tr>\n",
       "    <tr>\n",
       "      <td>{'id': 'chatcmpl-9G7pOAcuWtKuInEcv5rQhXwp5a71Q', 'model': 'gpt-3.5-turbo-0125', 'usage': {'total_tokens': 120, 'prompt_tokens': 86, 'completion_tokens': 34}, 'object': 'chat.completion', 'choices': [{'index': 0, 'message': {'role': 'assistant', 'content': '{\\n    \"reasoning\": \"ListA contains an additional entity (Federal Reserve Bank) that is not present in ListB.\",\\n    \"decision\": 0\\n}', 'tool_calls': None, 'function_call': None}, 'logprobs': None, 'finish_reason': 'stop'}], 'created': 1713630366, 'system_fingerprint': 'fp_c2295e73ad'}</td>\n",
       "      <td>{\\n    \"reasoning\": \"ListA contains an additional entity (Federal Reserve Bank) that is not present in ListB.\",\\n    \"decision\": 0\\n}</td>\n",
       "    </tr>\n",
       "    <tr>\n",
       "      <td>{'id': 'chatcmpl-9G7pQt19rNQ2a1Fu1OU9zR9bjdLk0', 'model': 'gpt-3.5-turbo-0125', 'usage': {'total_tokens': 126, 'prompt_tokens': 83, 'completion_tokens': 43}, 'object': 'chat.completion', 'choices': [{'index': 0, 'message': {'role': 'assistant', 'content': '{\"reasoning\": \"The entities in listA and listB refer to the same company \\'American International Group\\', the only difference is the abbreviation \\'AIG\\' in listA.\", \"decision\": 1}', 'tool_calls': None, 'function_call': None}, 'logprobs': None, 'finish_reason': 'stop'}], 'created': 1713630368, 'system_fingerprint': 'fp_c2295e73ad'}</td>\n",
       "      <td>{\"reasoning\": \"The entities in listA and listB refer to the same company 'American International Group', the only difference is the abbreviation 'AIG' in listA.\", \"decision\": 1}</td>\n",
       "    </tr>\n",
       "  </tbody>\n",
       "</table>"
      ],
      "text/plain": [
       "                                                eval  \\\n",
       "0  {'id': 'chatcmpl-9G7pLpT0mfYMSG5XpElAfCNme1Vg1...   \n",
       "1  {'id': 'chatcmpl-9G7pNHOzwtt3cCYsc82jbMQuXGmDe...   \n",
       "2  {'id': 'chatcmpl-9G7pPNFYpBZMkqj8C8uPDqduQIXek...   \n",
       "3  {'id': 'chatcmpl-9G7pMqB7iH4FwOsxhUIoJLSszDVWr...   \n",
       "4  {'id': 'chatcmpl-9G7pOAcuWtKuInEcv5rQhXwp5a71Q...   \n",
       "5  {'id': 'chatcmpl-9G7pQt19rNQ2a1Fu1OU9zR9bjdLk0...   \n",
       "\n",
       "                                         eval_output  \n",
       "0  {\"reasoning\": \"The entities in listA and listB...  \n",
       "1  {\\n    \"reasoning\": \"ListA contains entities '...  \n",
       "2  {\"reasoning\": \"The entities in listA and listB...  \n",
       "3  {\\n    \"reasoning\": \"ListA has entities with n...  \n",
       "4  {\\n    \"reasoning\": \"ListA contains an additio...  \n",
       "5  {\"reasoning\": \"The entities in listA and listB...  "
      ]
     },
     "execution_count": 17,
     "metadata": {},
     "output_type": "execute_result"
    }
   ],
   "source": [
    "t.select(t.eval, t.eval_output).show()"
   ]
  },
  {
   "cell_type": "markdown",
   "id": "1a61994b-a489-4fc9-b71e-ec08ea9d2b85",
   "metadata": {},
   "source": [
    "Finally, it's time to pull the `decision` out of the JSON structs returned by OpenAI. There's just one complication: the `chat_completions` responses are strings, not JSON structs. We can resolve this with Pixeltable's handy `apply` method, which turns any Python function into a Pixeltable function. In this case, we'll apply the Python function `json.loads` to parse the string into a JSON struct."
   ]
  },
  {
   "cell_type": "code",
   "execution_count": 24,
   "id": "2283ef95-d344-4bae-a0e4-1a16bb190e9e",
   "metadata": {},
   "outputs": [
    {
     "name": "stdout",
     "output_type": "stream",
     "text": [
      "Computing cells: 100%|███████████████████████████████████████████| 6/6 [00:00<00:00, 661.61 cells/s]\n",
      "Added 6 column values with 0 errors.\n"
     ]
    }
   ],
   "source": [
    "import json\n",
    "\n",
    "t['eval_decision'] = t.eval_output.apply(json.loads).decision"
   ]
  },
  {
   "cell_type": "code",
   "execution_count": 25,
   "id": "e6892c65-b104-4acd-93d8-242c70efbd76",
   "metadata": {},
   "outputs": [
    {
     "data": {
      "text/html": [
       "<table border=\"1\" class=\"dataframe\">\n",
       "  <thead>\n",
       "    <tr style=\"text-align: right;\">\n",
       "      <th>eval_output</th>\n",
       "      <th>eval_decision</th>\n",
       "    </tr>\n",
       "  </thead>\n",
       "  <tbody>\n",
       "    <tr>\n",
       "      <td>{\"reasoning\": \"The entities in listA and listB are the same (both 'Lehman Brothers').\", \"decision\": 1}</td>\n",
       "      <td>1</td>\n",
       "    </tr>\n",
       "    <tr>\n",
       "      <td>{\\n    \"reasoning\": \"ListA contains an additional entity (Federal Reserve Bank) that is not present in ListB.\",\\n    \"decision\": 0\\n}</td>\n",
       "      <td>0</td>\n",
       "    </tr>\n",
       "    <tr>\n",
       "      <td>{\\n    \"reasoning\": \"ListA contains entities 'The Federal Reserve' and 'AIG', while ListB contains the entity 'American International Group'. 'AIG' in ListA most likely refers to 'American International Group'. Hence, the lists match.\",\\n    \"decision\": 1\\n}</td>\n",
       "      <td>1</td>\n",
       "    </tr>\n",
       "    <tr>\n",
       "      <td>{\"reasoning\": \"The entities in listA and listB are the same, but they are formatted differently. 'JP Morgan Chase' in listB is the same as 'JPMorgan Chase' in listA. 'Lehman Brothers' in listB is the same as 'Lehman' in listA.\", \"decision\": 1}</td>\n",
       "      <td>1</td>\n",
       "    </tr>\n",
       "    <tr>\n",
       "      <td>{\\n    \"reasoning\": \"ListA has entities with numbers and periods, while listB does not. The spelling of 'Merrill Lynch' is also different in listB. Therefore, the entities in the two lists do not match.\",\\n    \"decision\": 0\\n}</td>\n",
       "      <td>0</td>\n",
       "    </tr>\n",
       "    <tr>\n",
       "      <td>{\"reasoning\": \"The entities in listA and listB refer to the same company 'American International Group', the only difference is the abbreviation 'AIG' in listA.\", \"decision\": 1}</td>\n",
       "      <td>1</td>\n",
       "    </tr>\n",
       "  </tbody>\n",
       "</table>"
      ],
      "text/plain": [
       "                                         eval_output  eval_decision\n",
       "0  {\"reasoning\": \"The entities in listA and listB...              1\n",
       "1  {\\n    \"reasoning\": \"ListA contains an additio...              0\n",
       "2  {\\n    \"reasoning\": \"ListA contains entities '...              1\n",
       "3  {\"reasoning\": \"The entities in listA and listB...              1\n",
       "4  {\\n    \"reasoning\": \"ListA has entities with n...              0\n",
       "5  {\"reasoning\": \"The entities in listA and listB...              1"
      ]
     },
     "execution_count": 25,
     "metadata": {},
     "output_type": "execute_result"
    }
   ],
   "source": [
    "t.select(t.eval_output, t.eval_decision).show()"
   ]
  }
 ],
 "metadata": {
  "kernelspec": {
   "display_name": "Python 3 (ipykernel)",
   "language": "python",
   "name": "python3"
  },
  "language_info": {
   "codemirror_mode": {
    "name": "ipython",
    "version": 3
   },
   "file_extension": ".py",
   "mimetype": "text/x-python",
   "name": "python",
   "nbconvert_exporter": "python",
   "pygments_lexer": "ipython3",
   "version": "3.9.19"
  }
 },
 "nbformat": 4,
 "nbformat_minor": 5
}
