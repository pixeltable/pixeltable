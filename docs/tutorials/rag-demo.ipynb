{
 "cells": [
  {
   "cell_type": "markdown",
   "id": "f4c59543-f758-4210-aae1-8ffa175f3e3d",
   "metadata": {},
   "source": [
    "# RAG Operations in Pixeltable\n",
    "\n",
    "In this tutorial, we'll explore Pixeltable's flexible handling of RAG operations on unstructured text. In a traditional AI workflow, such operations might be implemented as a Python script that runs on a periodic schedule or in response to certain events. In Pixeltable, as with everything else, they are implemented as persistent table operations that update incrementally as new data becomes available. In our tutorial workflow, we'll chunk Wikipedia articles in various ways with a document splitter, then apply several kinds of embeddings to the chunks.\n",
    "\n",
    "To run this tutorial, you'll need to have Pixeltable installed, along with the Huggingface `sentence_transformers` package.\n",
    "\n",
    "## Set Up the Table Structure\n",
    "\n",
    "We start by creating a Pixeltable workspace `rag_demo` (if it doesn't already exist) and setting up the table structure for our new workflow."
   ]
  },
  {
   "cell_type": "code",
   "execution_count": 2,
   "id": "a6e5554a-440e-4573-be78-624d012948de",
   "metadata": {},
   "outputs": [
    {
     "name": "stdout",
     "output_type": "stream",
     "text": [
      "Created directory `rag_demo`.\n"
     ]
    }
   ],
   "source": [
    "import pixeltable as pxt\n",
    "\n",
    "# Create the Pixeltable workspace\n",
    "pxt.create_dir('rag_demo', ignore_errors=True)\n",
    "\n",
    "# Clean the database to ensure we're using fresh table instances\n",
    "# (in case this demo has been run before)\n",
    "pxt.drop_table('rag_demo.short_char_chunks', ignore_errors=True)\n",
    "pxt.drop_table('rag_demo.short_chunks', ignore_errors=True)\n",
    "pxt.drop_table('rag_demo.chunks', ignore_errors=True)\n",
    "pxt.drop_table('rag_demo.sentences', ignore_errors=True)\n",
    "pxt.drop_table('rag_demo.docs', ignore_errors=True)"
   ]
  },
  {
   "cell_type": "markdown",
   "id": "90639ba7",
   "metadata": {},
   "source": [
    "## Creating Tables and Views\n",
    "\n",
    "Now we'll create the tables that represent our workflow, starting with a table to hold references to source documents. The table contains a single column `source_doc` whose elements have type `pxt.DocumentType`, representing a general document instance. In this tutorial, we'll be working with HTML documents, but Pixeltable supports a range of other document types, such as Markdown and PDF."
   ]
  },
  {
   "cell_type": "code",
   "execution_count": 3,
   "id": "c8371827",
   "metadata": {},
   "outputs": [
    {
     "name": "stdout",
     "output_type": "stream",
     "text": [
      "Created table `docs`.\n"
     ]
    }
   ],
   "source": [
    "docs = pxt.create_table('rag_demo.docs', {'source_doc': pxt.DocumentType()})"
   ]
  },
  {
   "cell_type": "markdown",
   "id": "275d07fd-1f16-47b4-b42a-39c613c3bf5c",
   "metadata": {},
   "source": [
    "If we take a peek at the `docs` table, we see its very simple structure."
   ]
  },
  {
   "cell_type": "code",
   "execution_count": 4,
   "id": "d0644d63-991f-4bf4-82d3-7f887eadadbb",
   "metadata": {},
   "outputs": [
    {
     "data": {
      "text/html": [
       "<style type=\"text/css\">\n",
       "#T_ea1a3 th {\n",
       "  text-align: center;\n",
       "}\n",
       "#T_ea1a3_row0_col0, #T_ea1a3_row0_col1, #T_ea1a3_row0_col2 {\n",
       "  white-space: pre-wrap;\n",
       "  text-align: left;\n",
       "}\n",
       "</style>\n",
       "<table id=\"T_ea1a3\">\n",
       "  <thead>\n",
       "    <tr>\n",
       "      <th id=\"T_ea1a3_level0_col0\" class=\"col_heading level0 col0\" >Column Name</th>\n",
       "      <th id=\"T_ea1a3_level0_col1\" class=\"col_heading level0 col1\" >Type</th>\n",
       "      <th id=\"T_ea1a3_level0_col2\" class=\"col_heading level0 col2\" >Computed With</th>\n",
       "    </tr>\n",
       "  </thead>\n",
       "  <tbody>\n",
       "    <tr>\n",
       "      <td id=\"T_ea1a3_row0_col0\" class=\"data row0 col0\" >source_doc</td>\n",
       "      <td id=\"T_ea1a3_row0_col1\" class=\"data row0 col1\" >document</td>\n",
       "      <td id=\"T_ea1a3_row0_col2\" class=\"data row0 col2\" ></td>\n",
       "    </tr>\n",
       "  </tbody>\n",
       "</table>\n"
      ],
      "text/plain": [
       "table 'docs'\n",
       "\n",
       "Column Name     Type Computed With\n",
       " source_doc document              "
      ]
     },
     "execution_count": 4,
     "metadata": {},
     "output_type": "execute_result"
    }
   ],
   "source": [
    "docs"
   ]
  },
  {
   "cell_type": "markdown",
   "id": "4e1a701e-5f9d-4f56-a306-c31ff9da6ee7",
   "metadata": {},
   "source": [
    "Next we create a view to represent chunks of our HTML documents. A Pixeltable view is a virtual table, which is dynamically derived from a source table by applying a transformation and/or selecting a subset of data. In this case, our view represents a one-to-many transformation from source documents into individual sentences. This is achieved using Pixeltable's built-in `DocumentSplitter` class.\n",
    "\n",
    "Note that the `docs` table is currently empty, so creating this view doesn't actually *do* anything yet: it simply defines an operation that we want Pixeltable to execute when it sees new data."
   ]
  },
  {
   "cell_type": "code",
   "execution_count": 4,
   "id": "d074b305",
   "metadata": {},
   "outputs": [
    {
     "name": "stdout",
     "output_type": "stream",
     "text": [
      "Created view `sentences` with 0 rows, 0 exceptions.\n"
     ]
    }
   ],
   "source": [
    "from pixeltable.iterators.document import DocumentSplitter\n",
    "\n",
    "sentences = pxt.create_view(\n",
    "    'rag_demo.sentences',  # Name of the view\n",
    "    docs,  # Table from which the view is derived\n",
    "    iterator_class=DocumentSplitter,\n",
    "    iterator_args={\n",
    "        'document': docs.source_doc,\n",
    "        'separators': 'sentence',  # Chunk docs into sentences\n",
    "        'metadata': 'title,headings,sourceline',\n",
    "    })"
   ]
  },
  {
   "cell_type": "markdown",
   "id": "9badf052-7e8d-43b2-9aea-0b20a9409a83",
   "metadata": {},
   "source": [
    "Let's take a peek at the new `sentences` view. Run the following command:"
   ]
  },
  {
   "cell_type": "code",
   "execution_count": 5,
   "id": "29b07709",
   "metadata": {},
   "outputs": [
    {
     "data": {
      "text/html": [
       "<style type=\"text/css\">\n",
       "#T_89b1d th {\n",
       "  text-align: center;\n",
       "}\n",
       "#T_89b1d_row0_col0, #T_89b1d_row0_col1, #T_89b1d_row0_col2, #T_89b1d_row1_col0, #T_89b1d_row1_col1, #T_89b1d_row1_col2, #T_89b1d_row2_col0, #T_89b1d_row2_col1, #T_89b1d_row2_col2, #T_89b1d_row3_col0, #T_89b1d_row3_col1, #T_89b1d_row3_col2, #T_89b1d_row4_col0, #T_89b1d_row4_col1, #T_89b1d_row4_col2, #T_89b1d_row5_col0, #T_89b1d_row5_col1, #T_89b1d_row5_col2 {\n",
       "  white-space: pre-wrap;\n",
       "  text-align: left;\n",
       "}\n",
       "</style>\n",
       "<table id=\"T_89b1d\">\n",
       "  <thead>\n",
       "    <tr>\n",
       "      <th id=\"T_89b1d_level0_col0\" class=\"col_heading level0 col0\" >Column Name</th>\n",
       "      <th id=\"T_89b1d_level0_col1\" class=\"col_heading level0 col1\" >Type</th>\n",
       "      <th id=\"T_89b1d_level0_col2\" class=\"col_heading level0 col2\" >Computed With</th>\n",
       "    </tr>\n",
       "  </thead>\n",
       "  <tbody>\n",
       "    <tr>\n",
       "      <td id=\"T_89b1d_row0_col0\" class=\"data row0 col0\" >pos</td>\n",
       "      <td id=\"T_89b1d_row0_col1\" class=\"data row0 col1\" >int</td>\n",
       "      <td id=\"T_89b1d_row0_col2\" class=\"data row0 col2\" ></td>\n",
       "    </tr>\n",
       "    <tr>\n",
       "      <td id=\"T_89b1d_row1_col0\" class=\"data row1 col0\" >text</td>\n",
       "      <td id=\"T_89b1d_row1_col1\" class=\"data row1 col1\" >string</td>\n",
       "      <td id=\"T_89b1d_row1_col2\" class=\"data row1 col2\" ></td>\n",
       "    </tr>\n",
       "    <tr>\n",
       "      <td id=\"T_89b1d_row2_col0\" class=\"data row2 col0\" >title</td>\n",
       "      <td id=\"T_89b1d_row2_col1\" class=\"data row2 col1\" >string</td>\n",
       "      <td id=\"T_89b1d_row2_col2\" class=\"data row2 col2\" ></td>\n",
       "    </tr>\n",
       "    <tr>\n",
       "      <td id=\"T_89b1d_row3_col0\" class=\"data row3 col0\" >headings</td>\n",
       "      <td id=\"T_89b1d_row3_col1\" class=\"data row3 col1\" >json</td>\n",
       "      <td id=\"T_89b1d_row3_col2\" class=\"data row3 col2\" ></td>\n",
       "    </tr>\n",
       "    <tr>\n",
       "      <td id=\"T_89b1d_row4_col0\" class=\"data row4 col0\" >sourceline</td>\n",
       "      <td id=\"T_89b1d_row4_col1\" class=\"data row4 col1\" >int</td>\n",
       "      <td id=\"T_89b1d_row4_col2\" class=\"data row4 col2\" ></td>\n",
       "    </tr>\n",
       "    <tr>\n",
       "      <td id=\"T_89b1d_row5_col0\" class=\"data row5 col0\" >source_doc</td>\n",
       "      <td id=\"T_89b1d_row5_col1\" class=\"data row5 col1\" >document</td>\n",
       "      <td id=\"T_89b1d_row5_col2\" class=\"data row5 col2\" ></td>\n",
       "    </tr>\n",
       "  </tbody>\n",
       "</table>\n"
      ],
      "text/plain": [
       "view 'sentences'\n",
       "\n",
       "Column Name     Type Computed With\n",
       "        pos      int              \n",
       "       text   string              \n",
       "      title   string              \n",
       "   headings     json              \n",
       " sourceline      int              \n",
       " source_doc document              "
      ]
     },
     "execution_count": 5,
     "metadata": {},
     "output_type": "execute_result"
    }
   ],
   "source": [
    "sentences"
   ]
  },
  {
   "cell_type": "markdown",
   "id": "9641a8a0-a7fe-46b8-a2e8-3589e0df2bae",
   "metadata": {},
   "source": [
    "We see that `sentences` inherits the `source_doc` column from `docs`, together with some new fields:\n",
    "- `pos`: The position in the source document where the sentence appears.\n",
    "-  `text`: The text of the sentence.\n",
    "- `title`, `headings`, and `sourceline`: The metadata we requested when we set up the view."
   ]
  },
  {
   "cell_type": "markdown",
   "id": "e53392cb",
   "metadata": {},
   "source": [
    "## Data Ingestion"
   ]
  },
  {
   "cell_type": "markdown",
   "id": "0aec54a3-f5a8-483e-b3b9-c9111929ec74",
   "metadata": {},
   "source": [
    "Ok, now it's time to insert some data into our workflow. A document in Pixeltable is just a URL; the following command inserts a single row into the `docs` table with the `source_doc` field set to the specified URL:"
   ]
  },
  {
   "cell_type": "code",
   "execution_count": 6,
   "id": "a718a299",
   "metadata": {},
   "outputs": [
    {
     "name": "stderr",
     "output_type": "stream",
     "text": [
      "Inserting rows into `docs`: 1 rows [00:00, 182.72 rows/s]\n",
      "Inserting rows into `sentences`: 1465 rows [00:00, 3008.51 rows/s]"
     ]
    },
    {
     "name": "stdout",
     "output_type": "stream",
     "text": [
      "Inserted 1466 rows with 0 errors.\n"
     ]
    },
    {
     "name": "stderr",
     "output_type": "stream",
     "text": [
      "\n"
     ]
    },
    {
     "data": {
      "text/plain": [
       "UpdateStatus(num_rows=1466, num_computed_values=0, num_excs=0, updated_cols=[], cols_with_excs=[])"
      ]
     },
     "execution_count": 6,
     "metadata": {},
     "output_type": "execute_result"
    }
   ],
   "source": [
    "docs.insert(source_doc='https://en.wikipedia.org/wiki/Marc_Chagall')"
   ]
  },
  {
   "cell_type": "markdown",
   "id": "542f97cd-08b9-4001-9d38-10f47bfdd5d0",
   "metadata": {},
   "source": [
    "We can see that two things happened. First, a single row was inserted into `docs`, containing the URL representing our source document. Then, the view `sentences` was incrementally updated by applying the `DocumentSplitter` according to the definition of the view. This illustrates an important principle in Pixeltable: by default, anytime Pixeltable sees new data, the update is incrementally propagated to any downstream views or computed columns.\n",
    "\n",
    "We can see the effect of the insertion with the `select` command. There's a single row in `docs`:"
   ]
  },
  {
   "cell_type": "code",
   "execution_count": 7,
   "id": "0bbe8e86-3cec-499f-a30f-58c5073ab42b",
   "metadata": {},
   "outputs": [
    {
     "data": {
      "text/html": [
       "<table border=\"1\" class=\"dataframe\">\n",
       "  <thead>\n",
       "    <tr style=\"text-align: right;\">\n",
       "      <th>source_doc_fileurl</th>\n",
       "    </tr>\n",
       "  </thead>\n",
       "  <tbody>\n",
       "    <tr>\n",
       "      <td>https://en.wikipedia.org/wiki/Marc_Chagall</td>\n",
       "    </tr>\n",
       "  </tbody>\n",
       "</table>"
      ],
      "text/plain": [
       "                           source_doc_fileurl\n",
       "0  https://en.wikipedia.org/wiki/Marc_Chagall"
      ]
     },
     "execution_count": 7,
     "metadata": {},
     "output_type": "execute_result"
    }
   ],
   "source": [
    "docs.select(docs.source_doc.fileurl).show()"
   ]
  },
  {
   "cell_type": "markdown",
   "id": "a2dd8f07-6f5c-426b-a829-51dd8e26f888",
   "metadata": {},
   "source": [
    "And here are the first 20 rows in `sentences`. The content of the article is broken into individual sentences, as expected."
   ]
  },
  {
   "cell_type": "code",
   "execution_count": 8,
   "id": "42199e16-559f-4827-940c-1726f83452e5",
   "metadata": {
    "scrolled": true
   },
   "outputs": [
    {
     "data": {
      "text/html": [
       "<table border=\"1\" class=\"dataframe\">\n",
       "  <thead>\n",
       "    <tr style=\"text-align: right;\">\n",
       "      <th>text</th>\n",
       "      <th>headings</th>\n",
       "    </tr>\n",
       "  </thead>\n",
       "  <tbody>\n",
       "    <tr>\n",
       "      <td>Marc Chagall - Wikipedia Jump to content Search Search</td>\n",
       "      <td>{}</td>\n",
       "    </tr>\n",
       "    <tr>\n",
       "      <td>Marc Chagall 81 languages Afrikaans Alemannisch العربية</td>\n",
       "      <td>{'1': 'Marc Chagall'}</td>\n",
       "    </tr>\n",
       "    <tr>\n",
       "      <td>Aragonés Արեւմտահայերէն Asturianu Azərbaycanca বাংলা Башҡортса Беларуская Беларуская (тарашкевіца) Български Català Čeština Cymraeg Dansk Deutsch Eesti Ελληνικά Español Esperanto Euskara فارسی Français Galego 한국어 Հայերեն हिन्दी</td>\n",
       "      <td>{'1': 'Marc Chagall'}</td>\n",
       "    </tr>\n",
       "    <tr>\n",
       "      <td>Hrvatski Ido Bahasa Indonesia Interlingua Italiano עברית Jawa ქართული Kiswahili Latina Latviešu Lëtzebuergesch Lietuvių Magyar Македонски Malagasy مصرى Nederlands Nedersaksies 日本語 Norsk bokmål Norsk nynorsk Occitan Oʻzbekcha / ўзбекча پنجابی Picard Piemontèis Plattdüütsch Polski Português Română Runa Simi Русский Scots Shqip Sicilianu Simple English Slovenčina Slovenščina کوردی Српски / srpski Srpskohrvatski / српскохрватски Suomi Svenska ไทย</td>\n",
       "      <td>{'1': 'Marc Chagall'}</td>\n",
       "    </tr>\n",
       "    <tr>\n",
       "      <td>Türkçe Українська Tiếng Việt Winaray 吴语 ייִדיש</td>\n",
       "      <td>{'1': 'Marc Chagall'}</td>\n",
       "    </tr>\n",
       "    <tr>\n",
       "      <td>粵語 中文 Edit links From Wikipedia, the free encyclopedia Russian-French artist (1887–1985) \"Chagall\" redirects here.</td>\n",
       "      <td>{'1': 'Marc Chagall'}</td>\n",
       "    </tr>\n",
       "    <tr>\n",
       "      <td>For other uses, see Chagall (disambiguation) .</td>\n",
       "      <td>{'1': 'Marc Chagall'}</td>\n",
       "    </tr>\n",
       "    <tr>\n",
       "      <td>Marc Chagall Chagall, c. 1920</td>\n",
       "      <td>{'1': 'Marc Chagall'}</td>\n",
       "    </tr>\n",
       "    <tr>\n",
       "      <td>Born Moishe Shagal ( 1887-07-06 ) 6 July 1887 (N.S.) Liozna , Vitebsk Governorate , Russian Empire</td>\n",
       "      <td>{'1': 'Marc Chagall'}</td>\n",
       "    </tr>\n",
       "    <tr>\n",
       "      <td>[1] Died 28 March 1985 (1985-03-28) (aged 97)</td>\n",
       "      <td>{'1': 'Marc Chagall'}</td>\n",
       "    </tr>\n",
       "    <tr>\n",
       "      <td>Saint-Paul-de-Vence , France Nationality Russian, later French</td>\n",
       "      <td>{'1': 'Marc Chagall'}</td>\n",
       "    </tr>\n",
       "    <tr>\n",
       "      <td>[2] Known for Painting stained glass Notable work See list of artworks by Marc Chagall Movement Cubism Expressionism School of Paris Spouses Bella Rosenfeld ​ ​ ( m. 1915; died 1944)</td>\n",
       "      <td>{'1': 'Marc Chagall'}</td>\n",
       "    </tr>\n",
       "    <tr>\n",
       "      <td>​ Valentina (Vava) Brodsky ​ ​ ( m. 1952)</td>\n",
       "      <td>{'1': 'Marc Chagall'}</td>\n",
       "    </tr>\n",
       "    <tr>\n",
       "      <td>​</td>\n",
       "      <td>{'1': 'Marc Chagall'}</td>\n",
       "    </tr>\n",
       "    <tr>\n",
       "      <td>[3] Children 2</td>\n",
       "      <td>{'1': 'Marc Chagall'}</td>\n",
       "    </tr>\n",
       "    <tr>\n",
       "      <td>[4]</td>\n",
       "      <td>{'1': 'Marc Chagall'}</td>\n",
       "    </tr>\n",
       "    <tr>\n",
       "      <td>Marc Chagall [a] (born Moishe Shagal ; 6 July [ O.S. 24 June] 1887 – 28 March 1985) was a Russian-French artist.</td>\n",
       "      <td>{'1': 'Marc Chagall'}</td>\n",
       "    </tr>\n",
       "    <tr>\n",
       "      <td>[b] An early modernist , he was associated with the École de Paris as well as several major artistic styles and created works in a wide range of artistic formats, including painting, drawings, book illustrations, stained glass , stage sets, ceramics, tapestries and fine art prints.</td>\n",
       "      <td>{'1': 'Marc Chagall'}</td>\n",
       "    </tr>\n",
       "    <tr>\n",
       "      <td>Chagall was born in 1887, into a Jewish family near Vitebsk , today in Belarus , but at that time in the Pale of Settlement of the Russian Empire.</td>\n",
       "      <td>{'1': 'Marc Chagall'}</td>\n",
       "    </tr>\n",
       "    <tr>\n",
       "      <td>Before World War I , he travelled between Saint Petersburg , Paris , and Berlin .</td>\n",
       "      <td>{'1': 'Marc Chagall'}</td>\n",
       "    </tr>\n",
       "  </tbody>\n",
       "</table>"
      ],
      "text/plain": [
       "                                                 text               headings\n",
       "0    Marc Chagall - Wikipedia Jump to content Sear...                     {}\n",
       "1    Marc Chagall 81 languages Afrikaans Alemannis...  {'1': 'Marc Chagall'}\n",
       "2   Aragonés Արեւմտահայերէն Asturianu Azərbaycanca...  {'1': 'Marc Chagall'}\n",
       "3   Hrvatski Ido Bahasa Indonesia Interlingua Ital...  {'1': 'Marc Chagall'}\n",
       "4      Türkçe Українська Tiếng Việt Winaray 吴语 ייִדיש  {'1': 'Marc Chagall'}\n",
       "5   粵語 中文 Edit links From Wikipedia, the free ency...  {'1': 'Marc Chagall'}\n",
       "6      For other uses, see Chagall (disambiguation) .  {'1': 'Marc Chagall'}\n",
       "7                       Marc Chagall Chagall, c. 1920  {'1': 'Marc Chagall'}\n",
       "8   Born Moishe Shagal ( 1887-07-06 ) 6 July 1887 ...  {'1': 'Marc Chagall'}\n",
       "9       [1] Died 28 March 1985 (1985-03-28) (aged 97)  {'1': 'Marc Chagall'}\n",
       "10  Saint-Paul-de-Vence , France Nationality Russi...  {'1': 'Marc Chagall'}\n",
       "11  [2] Known for Painting stained glass Notable w...  {'1': 'Marc Chagall'}\n",
       "12          ​ Valentina (Vava) Brodsky ​ ​ ( m. 1952)  {'1': 'Marc Chagall'}\n",
       "13                                                  ​  {'1': 'Marc Chagall'}\n",
       "14                                     [3] Children 2  {'1': 'Marc Chagall'}\n",
       "15                                                [4]  {'1': 'Marc Chagall'}\n",
       "16   Marc Chagall [a] (born Moishe Shagal ; 6 July...  {'1': 'Marc Chagall'}\n",
       "17  [b] An early modernist , he was associated wit...  {'1': 'Marc Chagall'}\n",
       "18   Chagall was born in 1887, into a Jewish famil...  {'1': 'Marc Chagall'}\n",
       "19  Before World War I , he travelled between Sain...  {'1': 'Marc Chagall'}"
      ]
     },
     "execution_count": 8,
     "metadata": {},
     "output_type": "execute_result"
    }
   ],
   "source": [
    "sentences.select(sentences.text, sentences.headings).show(20)"
   ]
  },
  {
   "cell_type": "markdown",
   "id": "9e3abbdd",
   "metadata": {},
   "source": [
    "## Experimenting with Chunking"
   ]
  },
  {
   "cell_type": "markdown",
   "id": "2d229545-79b6-4fdd-be54-f786669533eb",
   "metadata": {},
   "source": [
    "Of course, chunking into sentences isn't the only way to split a document. Perhaps we want to experiment with different chunking methodologies, in order to see which one performs best in a particular application. Pixeltable makes it easy to do this, by creating several views of the same source table. Here are a few examples. Notice that as each new view is created, it is initially populated from the data already in `docs`."
   ]
  },
  {
   "cell_type": "code",
   "execution_count": 9,
   "id": "887389a1",
   "metadata": {},
   "outputs": [
    {
     "name": "stderr",
     "output_type": "stream",
     "text": [
      "Inserting rows into `chunks`: 205 rows [00:00, 8721.47 rows/s]"
     ]
    },
    {
     "name": "stdout",
     "output_type": "stream",
     "text": [
      "Created view `chunks` with 205 rows, 0 exceptions.\n"
     ]
    },
    {
     "name": "stderr",
     "output_type": "stream",
     "text": [
      "\n"
     ]
    }
   ],
   "source": [
    "chunks = pxt.create_view(\n",
    "    'rag_demo.chunks', docs, iterator_class=DocumentSplitter,\n",
    "    iterator_args={\n",
    "        'document': docs.source_doc,\n",
    "        'separators': 'paragraph,token_limit',\n",
    "        'limit': 2048,\n",
    "        'overlap': 0,\n",
    "        'metadata': 'title,headings,sourceline',\n",
    "    })"
   ]
  },
  {
   "cell_type": "code",
   "execution_count": 10,
   "id": "fd4c8b8b",
   "metadata": {},
   "outputs": [
    {
     "name": "stderr",
     "output_type": "stream",
     "text": [
      "Inserting rows into `short_chunks`: 527 rows [00:00, 10806.26 rows/s]"
     ]
    },
    {
     "name": "stdout",
     "output_type": "stream",
     "text": [
      "Created view `short_chunks` with 527 rows, 0 exceptions.\n"
     ]
    },
    {
     "name": "stderr",
     "output_type": "stream",
     "text": [
      "\n"
     ]
    }
   ],
   "source": [
    "short_chunks = pxt.create_view(\n",
    "    'rag_demo.short_chunks', docs, iterator_class=DocumentSplitter,\n",
    "    iterator_args={\n",
    "        'document': docs.source_doc,\n",
    "        'separators': 'paragraph,token_limit',\n",
    "        'limit': 72,\n",
    "        'overlap': 0,\n",
    "        'metadata': 'title,headings,sourceline',\n",
    "    })"
   ]
  },
  {
   "cell_type": "code",
   "execution_count": 11,
   "id": "096df773",
   "metadata": {},
   "outputs": [
    {
     "name": "stderr",
     "output_type": "stream",
     "text": [
      "Inserting rows into `short_char_chunks`: 1759 rows [00:00, 9943.34 rows/s]"
     ]
    },
    {
     "name": "stdout",
     "output_type": "stream",
     "text": [
      "Created view `short_char_chunks` with 1759 rows, 0 exceptions.\n"
     ]
    },
    {
     "name": "stderr",
     "output_type": "stream",
     "text": [
      "\n"
     ]
    }
   ],
   "source": [
    "short_char_chunks = pxt.create_view(\n",
    "    'rag_demo.short_char_chunks', docs, iterator_class=DocumentSplitter,\n",
    "    iterator_args={\n",
    "        'document': docs.source_doc,\n",
    "        'separators': 'paragraph,char_limit',\n",
    "        'limit': 72,\n",
    "        'overlap': 0,\n",
    "        'metadata': 'title,headings,sourceline',\n",
    "    })"
   ]
  },
  {
   "cell_type": "code",
   "execution_count": 22,
   "id": "d8289f0a",
   "metadata": {
    "scrolled": true
   },
   "outputs": [
    {
     "data": {
      "text/html": [
       "<table border=\"1\" class=\"dataframe\">\n",
       "  <thead>\n",
       "    <tr style=\"text-align: right;\">\n",
       "      <th>text</th>\n",
       "      <th>headings</th>\n",
       "    </tr>\n",
       "  </thead>\n",
       "  <tbody>\n",
       "    <tr>\n",
       "      <td>Marc Chagall 81 languages Afrikaans Alemannisch العربية Aragonés Արեւմտահայերէն Asturianu Azərbaycanca বাংলা Башҡортса Беларуская Беларуская (тарашкевіца) Български Català Čeština Cymraeg Dansk Deutsch Eesti Ελληνικά Español Esperanto Euskara فارسی Français Galego 한국어 Հայերեն हिन्दी Hrvatski Ido Bahasa Indonesia Interlingua Italiano עברית Jawa ქართული Kiswahili Latina Latviešu Lëtzebuergesch Lietuvių Magyar Македонски Malagasy مصرى Nederlands Nedersaksies 日本語 Norsk bokmål Norsk nynorsk Occitan Oʻzbekcha / ўзбекча پنجابی Picard Piemontèis Plattdüütsch Polski Português Română Runa Simi Русский Scots Shqip Sicilianu Simple English Slovenčina Slovenščina کوردی Српски / srpski Srpskohrvatski / српскохрватски Suomi Svenska ไทย Türkçe Українська Tiếng Việt Winaray 吴语 ייִדיש 粵語 中文 Edit links From Wikipedia, the free encyclopedia Russian-French artist (1887–1985) \"Chagall\" redirects here. For other uses, see Chagall (disambiguation) .</td>\n",
       "      <td>{'1': 'Marc Chagall'}</td>\n",
       "    </tr>\n",
       "    <tr>\n",
       "      <td>Marc Chagall Chagall, c. 1920 Born Moishe Shagal ( 1887-07-06 ) 6 July 1887 (N.S.) Liozna , Vitebsk Governorate , Russian Empire [1] Died 28 March 1985 (1985-03-28) (aged 97) Saint-Paul-de-Vence , France Nationality Russian, later French [2] Known for Painting stained glass Notable work See list of artworks by Marc Chagall Movement Cubism Expressionism School of Paris Spouses Bella Rosenfeld ​ ​ ( m. 1915; died 1944) ​ Valentina (Vava) Brodsky ​ ​ ( m. 1952) ​ [3] Children 2 [4]</td>\n",
       "      <td>{'1': 'Marc Chagall'}</td>\n",
       "    </tr>\n",
       "    <tr>\n",
       "      <td>Marc Chagall [a] (born Moishe Shagal ; 6 July [ O.S. 24 June] 1887 – 28 March 1985) was a Russian-French artist. [b] An early modernist , he was associated with the École de Paris as well as several major artistic styles and created works in a wide range of artistic formats, including painting, drawings, book illustrations, stained glass , stage sets, ceramics, tapestries and fine art prints.</td>\n",
       "      <td>{'1': 'Marc Chagall'}</td>\n",
       "    </tr>\n",
       "    <tr>\n",
       "      <td>Chagall was born in 1887, into a Jewish family near Vitebsk , today in Belarus , but at that time in the Pale of Settlement of the Russian Empire. Before World War I , he travelled between Saint Petersburg , Paris , and Berlin . During that period, he created his own mixture and style of modern art, based on his ideas of Eastern European and Jewish folklore. He spent the wartime years in his native Belarus, becoming one of the country's most distinguished artists and a member of the modernist avant-garde , founding the Vitebsk Arts College . He later worked in and near Moscow in difficult conditions during hard times in Russia following the Bolshevik Revolution , before leaving again for Paris in 1923. During World War II , he escaped occupied France to the United States, where he lived in New York City for seven years before returning to France in 1948.</td>\n",
       "      <td>{'1': 'Marc Chagall'}</td>\n",
       "    </tr>\n",
       "    <tr>\n",
       "      <td>Art critic Robert Hughes referred to Chagall as \"the quintessential Jewish artist of the twentieth century\". According to art historian Michael J. Lewis, Chagall was considered to be \"the last survivor of the first generation of European modernists\". For decades, he \"had also been respected as the world's pre-eminent Jewish artist\". [15] Using the medium of stained glass, he produced windows for the cathedrals of Reims and Metz as well as the Fraumünster in Zürich , windows for the UN and the Art Institute of Chicago and the Jerusalem Windows in Israel. He also did large-scale paintings, including part of the ceiling of the Paris Opéra . He experienced modernism's \"golden age\" in Paris, where \"he synthesized the art forms of Cubism , Symbolism , and Fauvism , and the influence of Fauvism gave rise to Surrealism \". Yet throughout these phases of his style \"he remained most emphatically a Jewish artist, whose work was one long dreamy reverie of life in his native village of Vitebsk.\" [16] \"When Matisse dies\", Pablo Picasso remarked in the 1950s, \"Chagall will be the only painter left who understands what colour really is\". [17]</td>\n",
       "      <td>{'1': 'Marc Chagall'}</td>\n",
       "    </tr>\n",
       "    <tr>\n",
       "      <td>Early life and education [ edit ]</td>\n",
       "      <td>{'1': 'Marc Chagall', '2': 'Early life and education[edit]'}</td>\n",
       "    </tr>\n",
       "    <tr>\n",
       "      <td>Early life [ edit ] Marc Chagall's childhood home in Vitebsk , Belarus. Currently site of the Marc Chagall Museum . Marc Chagall, 1912, The Spoonful of Milk (La Cuillerée de lait) , gouache on paper</td>\n",
       "      <td>{'1': 'Marc Chagall', '2': 'Early life and education[edit]', '3': 'Early life[edit]'}</td>\n",
       "    </tr>\n",
       "    <tr>\n",
       "      <td>Marc Chagall was born Moishe Shagal in 1887, into a Jewish family in Liozna , [1] near the city of Vitebsk , Belarus, then part of the Russian Empire . [c] [18] At the time of his birth, Vitebsk's population was about 66,000. Half of the population was Jewish. [16] A picturesque city of churches and synagogues, it was called \"Russian Toledo \" by artist Ilya Repin , after the cosmopolitan city of the former Spanish Empire . [19] Because the city was built mostly of wood, little of it survived years of occupation and destruction during World War II.</td>\n",
       "      <td>{'1': 'Marc Chagall', '2': 'Early life and education[edit]', '3': 'Early life[edit]'}</td>\n",
       "    </tr>\n",
       "    <tr>\n",
       "      <td>Years later, at the age of 57, while living in the United States, Chagall confirmed that when he published an open letter entitled, \"To My City Vitebsk\":</td>\n",
       "      <td>{'1': 'Marc Chagall', '2': 'Early life and education[edit]', '3': 'Artistic inspiration[edit]'}</td>\n",
       "    </tr>\n",
       "    <tr>\n",
       "      <td>One of the main sources of income for the Jewish population of the town was from the manufacture of clothing that was sold throughout the Russian Empire. They also made furniture and various agricultural tools. [22] From the late 18th century to the First World War, the Imperial Russian government confined Jews to living within the Pale of Settlement , which included modern Ukraine, Belarus, Poland, Lithuania, and Latvia, almost exactly corresponding to the territory of the Polish-Lithuanian Commonwealth which was taken over by Imperial Russia in the late 18th century. That led to the creation of Jewish market-villages ( shtetls ) throughout today's Eastern Europe, with their own markets, schools, hospitals, and other community institutions. [23] : 14</td>\n",
       "      <td>{'1': 'Marc Chagall', '2': 'Early life and education[edit]', '3': 'Early life[edit]'}</td>\n",
       "    </tr>\n",
       "    <tr>\n",
       "      <td>Chagall wrote as a boy; \"I felt at every step that I was a Jew—people made me feel it\". [24] [25] During a pogrom , Chagall wrote that: \"The street lamps are out. I feel panicky, especially in front of butchers' windows. There you can see calves that are still alive lying beside the butchers' hatchets and knives\". [25] [26] When asked by some pogromniks \"Jew or not?\", Chagall remembered thinking: \"My pockets are empty, my fingers sensitive, my legs weak and they are out for blood. My death would be futile. I so wanted to live\". [25] [26] Chagall denied being a Jew, leading the pogromniks to shout \"All right! Get along!\" [25] [26]</td>\n",
       "      <td>{'1': 'Marc Chagall', '2': 'Early life and education[edit]', '3': 'Early life[edit]'}</td>\n",
       "    </tr>\n",
       "    <tr>\n",
       "      <td>Most of what is known about Chagall's early life has come from his autobiography, My Life . In it, he described the major influence that the culture of Hasidic Judaism had on his life as an artist. Chagall related how he realised that the Jewish traditions in which he had grown up were fast disappearing and that he needed to document them. From the 1730s, Vitebsk itself had been a centre of that culture, with its teachings derived from the Kabbalah . Chagall scholar, Susan Tumarkin Goodman, describes the links and sources of his art to his early home:</td>\n",
       "      <td>{'1': 'Marc Chagall', '2': 'Early life and education[edit]', '3': 'Early life[edit]'}</td>\n",
       "    </tr>\n",
       "    <tr>\n",
       "      <td>Chagall's art can be understood as the response to a situation that has long marked the history of Russian Jews. Though they were cultural innovators who made important contributions to the broader society, Jews were considered outsiders in a frequently hostile society ... Chagall himself was born of a family steeped in religious life; his parents were observant Hasidic Jews who found spiritual satisfaction in a life defined by their faith and organized by prayer. [23] : 14</td>\n",
       "      <td>{'1': 'Marc Chagall', '2': 'Early life and education[edit]', '3': 'Early life[edit]'}</td>\n",
       "    </tr>\n",
       "    <tr>\n",
       "      <td>Art education [ edit ] Portrait of Chagall by Yehuda Pen , his first art teacher in Vitebsk</td>\n",
       "      <td>{'1': 'Marc Chagall', '2': 'Early life and education[edit]', '3': 'Art education[edit]'}</td>\n",
       "    </tr>\n",
       "    <tr>\n",
       "      <td>In the Russian Empire at that time, Jewish children were not allowed to attend regular schools and universities imposed a quota on Jews . Their movement within the city was also restricted. Chagall therefore received his primary education at the local Jewish religious school, where he studied Hebrew and the Bible. At the age of 13, his mother tried to enrol him in a regular high school, and he recalled: \"But in that school, they don't take Jews. Without a moment's hesitation, my courageous mother walks up to a professor.\" She offered the headmaster 50 roubles to let him attend, which he accepted. [21]</td>\n",
       "      <td>{'1': 'Marc Chagall', '2': 'Early life and education[edit]', '3': 'Art education[edit]'}</td>\n",
       "    </tr>\n",
       "    <tr>\n",
       "      <td>Goodman writes that Chagall eventually confided to his mother, \"I want to be a painter\", although she could not yet understand his sudden interest in art or why he would choose a vocation that \"seemed so impractical\". The young Chagall explained: \"There's a place in town; if I'm admitted and if I complete the course, I'll come out a regular artist. I'd be so happy!\" It was 1906, and he had noticed the studio of Yehuda (Yuri) Pen , a realist artist who operated a drawing school in Vitebsk. At the same time, future artists El Lissitzky and Ossip Zadkine were also Pen's students. Due to Chagall's youth and lack of income, Pen offered to teach him free of charge. However, after a few months at the school, Chagall realized that academic portrait painting did not suit him. [22]</td>\n",
       "      <td>{'1': 'Marc Chagall', '2': 'Early life and education[edit]', '3': 'Art education[edit]'}</td>\n",
       "    </tr>\n",
       "    <tr>\n",
       "      <td>Artistic inspiration [ edit ] Marc Chagall, 1912, Calvary ( Golgotha ) , oil on canvas, 174.6 × 192.4 cm, Museum of Modern Art , New York. Alternative titles: Kreuzigung Bild 2 Christus gewidmet [Golgotha. Crucifixion. Dedicated to Christ] . Sold through Galerie Der Sturm (Herwarth Walden), Berlin to Bernhard Koehler (1849–1927), Berlin, 1913. Exhibited: Erster Deutscher Herbstsalon , Berlin, 1913</td>\n",
       "      <td>{'1': 'Marc Chagall', '2': 'Early life and education[edit]', '3': 'Artistic inspiration[edit]'}</td>\n",
       "    </tr>\n",
       "    <tr>\n",
       "      <td>Goodman notes that during that period in Imperial Russia, Jews had two ways to join the art world: one was to \"hide or deny one's Jewish roots\", the other—the one that Chagall chose—was \"to cherish and publicly express one's Jewish roots\" by integrating them into art. For Chagall, that was also his means of \"self-assertion and an expression of principle\". [23] : 14</td>\n",
       "      <td>{'1': 'Marc Chagall', '2': 'Early life and education[edit]', '3': 'Artistic inspiration[edit]'}</td>\n",
       "    </tr>\n",
       "    <tr>\n",
       "      <td>Chagall biographer, Franz Meyer, explains that with the connections between his art and early life \"the hassidic spirit is still the basis and source of nourishment for his art\". [27] Lewis adds: \"As cosmopolitan an artist as he would later become, his storehouse of visual imagery would never expand beyond the landscape of his childhood, with its snowy streets, wooden houses, and ubiquitous fiddlers... [with] scenes of childhood so indelibly in one's mind and to invest them with an emotional charge so intense that it could only be discharged obliquely through an obsessive repetition of the same cryptic symbols and ideograms... \" [16]</td>\n",
       "      <td>{'1': 'Marc Chagall', '2': 'Early life and education[edit]', '3': 'Artistic inspiration[edit]'}</td>\n",
       "    </tr>\n",
       "    <tr>\n",
       "      <td>Why? Why did I leave you many years ago? ... You thought, the boy seeks something, seeks such a special subtlety, that color descending like stars from the sky and landing, bright and transparent, like snow on our roofs. Where did he get it? How would it come to a boy like him? I don't know why he couldn't find it with us, in the city—in his homeland. Maybe the boy is \"crazy\", but \"crazy\" for the sake of art. ...You thought: \"I can see, I am etched in the boy's heart, but he is still 'flying', he is still striving to take off, he has 'wind' in his head.\" ... I did not live with you, but I didn't have one single painting that didn't breathe with your spirit and reflection. [28]</td>\n",
       "      <td>{'1': 'Marc Chagall', '2': 'Early life and education[edit]', '3': 'Artistic inspiration[edit]'}</td>\n",
       "    </tr>\n",
       "  </tbody>\n",
       "</table>"
      ],
      "text/plain": [
       "                                                 text  \\\n",
       "0    Marc Chagall 81 languages Afrikaans Alemannis...   \n",
       "1    Marc Chagall Chagall, c. 1920 Born Moishe Sha...   \n",
       "2    Marc Chagall [a] (born Moishe Shagal ; 6 July...   \n",
       "3    Chagall was born in 1887, into a Jewish famil...   \n",
       "4    Art critic Robert Hughes referred to Chagall ...   \n",
       "5                   Early life and education [ edit ]   \n",
       "6    Early life [ edit ] Marc Chagall's childhood ...   \n",
       "7    Marc Chagall was born Moishe Shagal in 1887, ...   \n",
       "8    Years later, at the age of 57, while living i...   \n",
       "9    One of the main sources of income for the Jew...   \n",
       "10   Chagall wrote as a boy; \"I felt at every step...   \n",
       "11   Most of what is known about Chagall's early l...   \n",
       "12   Chagall's art can be understood as the respon...   \n",
       "13   Art education [ edit ] Portrait of Chagall by...   \n",
       "14   In the Russian Empire at that time, Jewish ch...   \n",
       "15   Goodman writes that Chagall eventually confid...   \n",
       "16   Artistic inspiration [ edit ] Marc Chagall, 1...   \n",
       "17   Goodman notes that during that period in Impe...   \n",
       "18   Chagall biographer, Franz Meyer, explains tha...   \n",
       "19   Why? Why did I leave you many years ago? ... ...   \n",
       "\n",
       "                                             headings  \n",
       "0                               {'1': 'Marc Chagall'}  \n",
       "1                               {'1': 'Marc Chagall'}  \n",
       "2                               {'1': 'Marc Chagall'}  \n",
       "3                               {'1': 'Marc Chagall'}  \n",
       "4                               {'1': 'Marc Chagall'}  \n",
       "5   {'1': 'Marc Chagall', '2': 'Early life and edu...  \n",
       "6   {'1': 'Marc Chagall', '2': 'Early life and edu...  \n",
       "7   {'1': 'Marc Chagall', '2': 'Early life and edu...  \n",
       "8   {'1': 'Marc Chagall', '2': 'Early life and edu...  \n",
       "9   {'1': 'Marc Chagall', '2': 'Early life and edu...  \n",
       "10  {'1': 'Marc Chagall', '2': 'Early life and edu...  \n",
       "11  {'1': 'Marc Chagall', '2': 'Early life and edu...  \n",
       "12  {'1': 'Marc Chagall', '2': 'Early life and edu...  \n",
       "13  {'1': 'Marc Chagall', '2': 'Early life and edu...  \n",
       "14  {'1': 'Marc Chagall', '2': 'Early life and edu...  \n",
       "15  {'1': 'Marc Chagall', '2': 'Early life and edu...  \n",
       "16  {'1': 'Marc Chagall', '2': 'Early life and edu...  \n",
       "17  {'1': 'Marc Chagall', '2': 'Early life and edu...  \n",
       "18  {'1': 'Marc Chagall', '2': 'Early life and edu...  \n",
       "19  {'1': 'Marc Chagall', '2': 'Early life and edu...  "
      ]
     },
     "execution_count": 22,
     "metadata": {},
     "output_type": "execute_result"
    }
   ],
   "source": [
    "chunks.select(chunks.text, chunks.headings).show(20)"
   ]
  },
  {
   "cell_type": "code",
   "execution_count": 23,
   "id": "c0d453cf",
   "metadata": {
    "scrolled": true
   },
   "outputs": [
    {
     "data": {
      "text/html": [
       "<table border=\"1\" class=\"dataframe\">\n",
       "  <thead>\n",
       "    <tr style=\"text-align: right;\">\n",
       "      <th>text</th>\n",
       "      <th>headings</th>\n",
       "    </tr>\n",
       "  </thead>\n",
       "  <tbody>\n",
       "    <tr>\n",
       "      <td>Marc Chagall - Wikipedia Jump to content Search Search</td>\n",
       "      <td>{}</td>\n",
       "    </tr>\n",
       "    <tr>\n",
       "      <td>Marc Chagall 81 languages Afrikaans Alemannisch العربية Aragonés Արեւմտահայերէն Asturianu Azərbaycanca বাংলা Башҡ</td>\n",
       "      <td>{'1': 'Marc Chagall'}</td>\n",
       "    </tr>\n",
       "    <tr>\n",
       "      <td>ортса Беларуская Беларуская (тарашкевіца) Български Català Čeština Cymraeg Dansk Deutsch Eesti Ελληνικά Español Esperanto Euskara فارسی Français Galego 한</td>\n",
       "      <td>{'1': 'Marc Chagall'}</td>\n",
       "    </tr>\n",
       "    <tr>\n",
       "      <td>국어 Հայերեն हिन्दी Hrvatski Ido Bahasa Indonesia Interlingua Italiano עברית Jawa ქართული Kiswahili Latina Latviešu Lë</td>\n",
       "      <td>{'1': 'Marc Chagall'}</td>\n",
       "    </tr>\n",
       "    <tr>\n",
       "      <td>tzebuergesch Lietuvių Magyar Македонски Malagasy مصرى Nederlands Nedersaksies 日本語 Norsk bokmål Norsk nynorsk Occitan Oʻzbekcha / ўзбекча پنجابی Picard Piemont</td>\n",
       "      <td>{'1': 'Marc Chagall'}</td>\n",
       "    </tr>\n",
       "    <tr>\n",
       "      <td>èis Plattdüütsch Polski Português Română Runa Simi Русский Scots Shqip Sicilianu Simple English Slovenčina Slovenščina کوردی Српски / srpski Srpskohrvatski / српскохрватски Suomi</td>\n",
       "      <td>{'1': 'Marc Chagall'}</td>\n",
       "    </tr>\n",
       "    <tr>\n",
       "      <td>Svenska ไทย Türkçe Українська Tiếng Việt Winaray 吴语 ייִדיש 粵語 中文 Edit links From Wikipedia, the free encyclopedia Russian-French artist (1887–1985) \"Chagall\" redirects here</td>\n",
       "      <td>{'1': 'Marc Chagall'}</td>\n",
       "    </tr>\n",
       "    <tr>\n",
       "      <td>. For other uses, see Chagall (disambiguation) .</td>\n",
       "      <td>{'1': 'Marc Chagall'}</td>\n",
       "    </tr>\n",
       "    <tr>\n",
       "      <td>Marc Chagall Chagall, c. 1920 Born Moishe Shagal ( 1887-07-06 ) 6 July 1887 (N.S.) Liozna , Vitebsk Governorate , Russian Empire [1] Died 28 March 1985 (1985-03-28) (aged</td>\n",
       "      <td>{'1': 'Marc Chagall'}</td>\n",
       "    </tr>\n",
       "    <tr>\n",
       "      <td>97) Saint-Paul-de-Vence , France Nationality Russian, later French [2] Known for Painting stained glass Notable work See list of artworks by Marc Chagall Movement Cubism Expressionism School of Paris Spouses Bella Rosenfeld ​ ​ ( m. 1915; died 1944) ​ Valentina (Vava)</td>\n",
       "      <td>{'1': 'Marc Chagall'}</td>\n",
       "    </tr>\n",
       "    <tr>\n",
       "      <td>Brodsky ​ ​ ( m. 1952) ​ [3] Children 2 [4]</td>\n",
       "      <td>{'1': 'Marc Chagall'}</td>\n",
       "    </tr>\n",
       "    <tr>\n",
       "      <td>Marc Chagall [a] (born Moishe Shagal ; 6 July [ O.S. 24 June] 1887 – 28 March 1985) was a Russian-French artist. [b] An early modernist , he was associated with the École de Paris as well as several major artistic styles and created works</td>\n",
       "      <td>{'1': 'Marc Chagall'}</td>\n",
       "    </tr>\n",
       "    <tr>\n",
       "      <td>in a wide range of artistic formats, including painting, drawings, book illustrations, stained glass , stage sets, ceramics, tapestries and fine art prints.</td>\n",
       "      <td>{'1': 'Marc Chagall'}</td>\n",
       "    </tr>\n",
       "    <tr>\n",
       "      <td>Chagall was born in 1887, into a Jewish family near Vitebsk , today in Belarus , but at that time in the Pale of Settlement of the Russian Empire. Before World War I , he travelled between Saint Petersburg , Paris , and Berlin . During that period, he created his own mixture and style of modern art, based on his</td>\n",
       "      <td>{'1': 'Marc Chagall'}</td>\n",
       "    </tr>\n",
       "    <tr>\n",
       "      <td>ideas of Eastern European and Jewish folklore. He spent the wartime years in his native Belarus, becoming one of the country's most distinguished artists and a member of the modernist avant-garde , founding the Vitebsk Arts College . He later worked in and near Moscow in difficult conditions during hard times in Russia following the Bolshevik Revolution , before leaving again for Paris</td>\n",
       "      <td>{'1': 'Marc Chagall'}</td>\n",
       "    </tr>\n",
       "    <tr>\n",
       "      <td>in 1923. During World War II , he escaped occupied France to the United States, where he lived in New York City for seven years before returning to France in 1948.</td>\n",
       "      <td>{'1': 'Marc Chagall'}</td>\n",
       "    </tr>\n",
       "    <tr>\n",
       "      <td>Art critic Robert Hughes referred to Chagall as \"the quintessential Jewish artist of the twentieth century\". According to art historian Michael J. Lewis, Chagall was considered to be \"the last survivor of the first generation of European modernists\". For decades, he \"had also been respected as the world's pre-eminent Jewish artist\". [15]</td>\n",
       "      <td>{'1': 'Marc Chagall'}</td>\n",
       "    </tr>\n",
       "    <tr>\n",
       "      <td>Using the medium of stained glass, he produced windows for the cathedrals of Reims and Metz as well as the Fraumünster in Zürich , windows for the UN and the Art Institute of Chicago and the Jerusalem Windows in Israel. He also did large-scale paintings, including part of the ceiling of the Paris Opéra . He experienced</td>\n",
       "      <td>{'1': 'Marc Chagall'}</td>\n",
       "    </tr>\n",
       "    <tr>\n",
       "      <td>modernism's \"golden age\" in Paris, where \"he synthesized the art forms of Cubism , Symbolism , and Fauvism , and the influence of Fauvism gave rise to Surrealism \". Yet throughout these phases of his style \"he remained most emphatically a Jewish artist, whose work was one long dreamy reverie of</td>\n",
       "      <td>{'1': 'Marc Chagall'}</td>\n",
       "    </tr>\n",
       "    <tr>\n",
       "      <td>life in his native village of Vitebsk.\" [16] \"When Matisse dies\", Pablo Picasso remarked in the 1950s, \"Chagall will be the only painter left who understands what colour really is\". [17]</td>\n",
       "      <td>{'1': 'Marc Chagall'}</td>\n",
       "    </tr>\n",
       "  </tbody>\n",
       "</table>"
      ],
      "text/plain": [
       "                                                 text               headings\n",
       "0    Marc Chagall - Wikipedia Jump to content Sear...                     {}\n",
       "1    Marc Chagall 81 languages Afrikaans Alemannis...  {'1': 'Marc Chagall'}\n",
       "2   ортса Беларуская Беларуская (тарашкевіца) Бълг...  {'1': 'Marc Chagall'}\n",
       "3   국어 Հայերեն हिन्दी Hrvatski Ido Bahasa Indonesi...  {'1': 'Marc Chagall'}\n",
       "4   tzebuergesch Lietuvių Magyar Македонски Malaga...  {'1': 'Marc Chagall'}\n",
       "5   èis Plattdüütsch Polski Português Română Runa ...  {'1': 'Marc Chagall'}\n",
       "6    Svenska ไทย Türkçe Українська Tiếng Việt Wina...  {'1': 'Marc Chagall'}\n",
       "7    . For other uses, see Chagall (disambiguation) .  {'1': 'Marc Chagall'}\n",
       "8    Marc Chagall Chagall, c. 1920 Born Moishe Sha...  {'1': 'Marc Chagall'}\n",
       "9    97) Saint-Paul-de-Vence , France Nationality ...  {'1': 'Marc Chagall'}\n",
       "10        Brodsky ​ ​ ( m. 1952) ​ [3] Children 2 [4]  {'1': 'Marc Chagall'}\n",
       "11   Marc Chagall [a] (born Moishe Shagal ; 6 July...  {'1': 'Marc Chagall'}\n",
       "12   in a wide range of artistic formats, includin...  {'1': 'Marc Chagall'}\n",
       "13   Chagall was born in 1887, into a Jewish famil...  {'1': 'Marc Chagall'}\n",
       "14   ideas of Eastern European and Jewish folklore...  {'1': 'Marc Chagall'}\n",
       "15   in 1923. During World War II , he escaped occ...  {'1': 'Marc Chagall'}\n",
       "16   Art critic Robert Hughes referred to Chagall ...  {'1': 'Marc Chagall'}\n",
       "17   Using the medium of stained glass, he produce...  {'1': 'Marc Chagall'}\n",
       "18   modernism's \"golden age\" in Paris, where \"he ...  {'1': 'Marc Chagall'}\n",
       "19   life in his native village of Vitebsk.\" [16] ...  {'1': 'Marc Chagall'}"
      ]
     },
     "execution_count": 23,
     "metadata": {},
     "output_type": "execute_result"
    }
   ],
   "source": [
    "short_chunks.select(short_chunks.text, short_chunks.headings).show(20)"
   ]
  },
  {
   "cell_type": "code",
   "execution_count": 24,
   "id": "bb32ade8-9727-4ebc-b57a-ff8097aca993",
   "metadata": {
    "scrolled": true
   },
   "outputs": [
    {
     "data": {
      "text/html": [
       "<table border=\"1\" class=\"dataframe\">\n",
       "  <thead>\n",
       "    <tr style=\"text-align: right;\">\n",
       "      <th>text</th>\n",
       "      <th>headings</th>\n",
       "    </tr>\n",
       "  </thead>\n",
       "  <tbody>\n",
       "    <tr>\n",
       "      <td>Marc Chagall - Wikipedia Jump to content Search Search</td>\n",
       "      <td>{}</td>\n",
       "    </tr>\n",
       "    <tr>\n",
       "      <td>Marc Chagall 81 languages Afrikaans Alemannisch العربية Aragonés Արեւմտ</td>\n",
       "      <td>{'1': 'Marc Chagall'}</td>\n",
       "    </tr>\n",
       "    <tr>\n",
       "      <td>ահայերէն Asturianu Azərbaycanca বাংলা Башҡортса Беларуская Беларуская (т</td>\n",
       "      <td>{'1': 'Marc Chagall'}</td>\n",
       "    </tr>\n",
       "    <tr>\n",
       "      <td>арашкевіца) Български Català Čeština Cymraeg Dansk Deutsch Eesti Ελληνικ</td>\n",
       "      <td>{'1': 'Marc Chagall'}</td>\n",
       "    </tr>\n",
       "    <tr>\n",
       "      <td>ά Español Esperanto Euskara فارسی Français Galego 한국어 Հայերեն हिन्दी Hrv</td>\n",
       "      <td>{'1': 'Marc Chagall'}</td>\n",
       "    </tr>\n",
       "    <tr>\n",
       "      <td>atski Ido Bahasa Indonesia Interlingua Italiano עברית Jawa ქართული Kiswa</td>\n",
       "      <td>{'1': 'Marc Chagall'}</td>\n",
       "    </tr>\n",
       "    <tr>\n",
       "      <td>hili Latina Latviešu Lëtzebuergesch Lietuvių Magyar Македонски Malagasy</td>\n",
       "      <td>{'1': 'Marc Chagall'}</td>\n",
       "    </tr>\n",
       "    <tr>\n",
       "      <td>مصرى Nederlands Nedersaksies 日本語 Norsk bokmål Norsk nynorsk Occitan Oʻzb</td>\n",
       "      <td>{'1': 'Marc Chagall'}</td>\n",
       "    </tr>\n",
       "    <tr>\n",
       "      <td>ekcha / ўзбекча پنجابی Picard Piemontèis Plattdüütsch Polski Português R</td>\n",
       "      <td>{'1': 'Marc Chagall'}</td>\n",
       "    </tr>\n",
       "    <tr>\n",
       "      <td>omână Runa Simi Русский Scots Shqip Sicilianu Simple English Slovenčina</td>\n",
       "      <td>{'1': 'Marc Chagall'}</td>\n",
       "    </tr>\n",
       "    <tr>\n",
       "      <td>Slovenščina کوردی Српски / srpski Srpskohrvatski / српскохрватски Suomi</td>\n",
       "      <td>{'1': 'Marc Chagall'}</td>\n",
       "    </tr>\n",
       "    <tr>\n",
       "      <td>Svenska ไทย Türkçe Українська Tiếng Việt Winaray 吴语 ייִדיש 粵語 中文 Edit li</td>\n",
       "      <td>{'1': 'Marc Chagall'}</td>\n",
       "    </tr>\n",
       "    <tr>\n",
       "      <td>nks From Wikipedia, the free encyclopedia Russian-French artist (1887–19</td>\n",
       "      <td>{'1': 'Marc Chagall'}</td>\n",
       "    </tr>\n",
       "    <tr>\n",
       "      <td>85) \"Chagall\" redirects here. For other uses, see Chagall (disambiguatio</td>\n",
       "      <td>{'1': 'Marc Chagall'}</td>\n",
       "    </tr>\n",
       "    <tr>\n",
       "      <td>n) .</td>\n",
       "      <td>{'1': 'Marc Chagall'}</td>\n",
       "    </tr>\n",
       "    <tr>\n",
       "      <td>Marc Chagall Chagall, c. 1920 Born Moishe Shagal ( 1887-07-06 ) 6 July</td>\n",
       "      <td>{'1': 'Marc Chagall'}</td>\n",
       "    </tr>\n",
       "    <tr>\n",
       "      <td>1887 (N.S.) Liozna , Vitebsk Governorate , Russian Empire [1] Died 28 Ma</td>\n",
       "      <td>{'1': 'Marc Chagall'}</td>\n",
       "    </tr>\n",
       "    <tr>\n",
       "      <td>rch 1985 (1985-03-28) (aged 97) Saint-Paul-de-Vence , France Nationality</td>\n",
       "      <td>{'1': 'Marc Chagall'}</td>\n",
       "    </tr>\n",
       "    <tr>\n",
       "      <td>Russian, later French [2] Known for Painting stained glass Notable work</td>\n",
       "      <td>{'1': 'Marc Chagall'}</td>\n",
       "    </tr>\n",
       "    <tr>\n",
       "      <td>See list of artworks by Marc Chagall Movement Cubism Expressionism Scho</td>\n",
       "      <td>{'1': 'Marc Chagall'}</td>\n",
       "    </tr>\n",
       "  </tbody>\n",
       "</table>"
      ],
      "text/plain": [
       "                                                 text               headings\n",
       "0    Marc Chagall - Wikipedia Jump to content Sear...                     {}\n",
       "1    Marc Chagall 81 languages Afrikaans Alemannis...  {'1': 'Marc Chagall'}\n",
       "2   ահայերէն Asturianu Azərbaycanca বাংলা Башҡортс...  {'1': 'Marc Chagall'}\n",
       "3   арашкевіца) Български Català Čeština Cymraeg D...  {'1': 'Marc Chagall'}\n",
       "4   ά Español Esperanto Euskara فارسی Français Gal...  {'1': 'Marc Chagall'}\n",
       "5   atski Ido Bahasa Indonesia Interlingua Italian...  {'1': 'Marc Chagall'}\n",
       "6   hili Latina Latviešu Lëtzebuergesch Lietuvių M...  {'1': 'Marc Chagall'}\n",
       "7   مصرى Nederlands Nedersaksies 日本語 Norsk bokmål ...  {'1': 'Marc Chagall'}\n",
       "8   ekcha / ўзбекча پنجابی Picard Piemontèis Platt...  {'1': 'Marc Chagall'}\n",
       "9   omână Runa Simi Русский Scots Shqip Sicilianu ...  {'1': 'Marc Chagall'}\n",
       "10  Slovenščina کوردی Српски / srpski Srpskohrvats...  {'1': 'Marc Chagall'}\n",
       "11  Svenska ไทย Türkçe Українська Tiếng Việt Winar...  {'1': 'Marc Chagall'}\n",
       "12  nks From Wikipedia, the free encyclopedia Russ...  {'1': 'Marc Chagall'}\n",
       "13  85) \"Chagall\" redirects here. For other uses, ...  {'1': 'Marc Chagall'}\n",
       "14                                               n) .  {'1': 'Marc Chagall'}\n",
       "15   Marc Chagall Chagall, c. 1920 Born Moishe Sha...  {'1': 'Marc Chagall'}\n",
       "16  1887 (N.S.) Liozna , Vitebsk Governorate , Rus...  {'1': 'Marc Chagall'}\n",
       "17  rch 1985 (1985-03-28) (aged 97) Saint-Paul-de-...  {'1': 'Marc Chagall'}\n",
       "18   Russian, later French [2] Known for Painting ...  {'1': 'Marc Chagall'}\n",
       "19   See list of artworks by Marc Chagall Movement...  {'1': 'Marc Chagall'}"
      ]
     },
     "execution_count": 24,
     "metadata": {},
     "output_type": "execute_result"
    }
   ],
   "source": [
    "short_char_chunks.select(short_char_chunks.text, short_char_chunks.headings).show(20)"
   ]
  },
  {
   "cell_type": "markdown",
   "id": "556d86ab-ef09-43e6-8bff-95caf8b8e45d",
   "metadata": {},
   "source": [
    "Now let's add a few more documents to our workflow. Notice how all of the downstream views are updated incrementally, processing just the new documents as they are inserted."
   ]
  },
  {
   "cell_type": "code",
   "execution_count": 15,
   "id": "71735d6a-3f99-46ef-99d7-4783aa6840cb",
   "metadata": {},
   "outputs": [
    {
     "name": "stderr",
     "output_type": "stream",
     "text": [
      "Inserting rows into `docs`: 3 rows [00:00, 1907.37 rows/s]\n",
      "Inserting rows into `sentences`: 2104 rows [00:03, 602.96 rows/s]\n",
      "Inserting rows into `chunks`: 274 rows [00:00, 8737.80 rows/s]\n",
      "Inserting rows into `short_chunks`: 802 rows [00:00, 10560.29 rows/s]\n",
      "Inserting rows into `short_char_chunks`: 2622 rows [00:00, 5677.07 rows/s]"
     ]
    },
    {
     "name": "stdout",
     "output_type": "stream",
     "text": [
      "Inserted 5805 rows with 0 errors.\n"
     ]
    },
    {
     "name": "stderr",
     "output_type": "stream",
     "text": [
      "\n"
     ]
    },
    {
     "data": {
      "text/plain": [
       "UpdateStatus(num_rows=5805, num_computed_values=0, num_excs=0, updated_cols=[], cols_with_excs=[])"
      ]
     },
     "execution_count": 15,
     "metadata": {},
     "output_type": "execute_result"
    }
   ],
   "source": [
    "urls = [\n",
    "    'https://en.wikipedia.org/wiki/Pierre-Auguste_Renoir',\n",
    "    'https://en.wikipedia.org/wiki/Henri_Matisse',\n",
    "    'https://en.wikipedia.org/wiki/Marcel_Duchamp'\n",
    "]\n",
    "docs.insert({'source_doc': url} for url in urls)"
   ]
  },
  {
   "cell_type": "markdown",
   "id": "bdf1e13c-b038-40ee-b48c-35d514149c62",
   "metadata": {},
   "source": [
    "## Further Experiments\n",
    "\n",
    "This is a good time to mention another important guiding principle of Pixeltable. The preceding examples all used the built-in `DocumentSplitter` class with various configurations. That's probably fine as a first cut or to prototype an application quickly, and it might be sufficient for some applications. But other applications might want to do more sophisticated kinds of chunking, implementing their own specialized logic or leveraging third-party tools. Pixeltable imposes no constraints on the AI or RAG operations a workflow uses: the iterator interface is highly general, and it's easy to implement new operations or adapt existing code or third-party tools into the Pixeltable workflow. Pixeltable manages *data* storage and workflow that is common to all such operations; above the data plane, it's fully general and extensible.\n",
    "\n",
    "TODO: Example of a custom splitter?"
   ]
  },
  {
   "cell_type": "markdown",
   "id": "709a4be2",
   "metadata": {},
   "source": [
    "## Adding embeddings"
   ]
  },
  {
   "cell_type": "markdown",
   "id": "fa455441-bfd1-41cc-a802-a396a2323c4f",
   "metadata": {},
   "source": [
    "Next, let's look at how embeddings can be added seamlessly to existing Pixeltable workflows. To compute our embeddings, we'll use the Huggingface `sentence_transformer` package, running it over the `chunks` view that broke our documents up into larger paragraphs. Pixeltable has a built-in `sentence_transformer` adapter, and all we have to do is add a new column that leverages it. Pixeltable takes care of the rest, applying the new column to all existing data in the view."
   ]
  },
  {
   "cell_type": "code",
   "execution_count": 16,
   "id": "e0d7ea4a",
   "metadata": {},
   "outputs": [
    {
     "name": "stderr",
     "output_type": "stream",
     "text": [
      "Computing cells:   0%|                                                                                                                                                                                                                                                                    | 0/479 [00:00<?, ?cells/s]/Users/asiegel/Dropbox/workspace/pixeltable/pixeltable/.venv/lib/python3.11/site-packages/torch/_utils.py:831: UserWarning: TypedStorage is deprecated. It will be removed in the future and UntypedStorage will be the only storage class. This should only matter to you if you are using storages directly.  To access UntypedStorage directly, use tensor.untyped_storage() instead of tensor.storage()\n",
      "  return self.fget.__get__(instance, owner)()\n",
      "Computing cells: 100%|██████████████████████████████████████████████████████████████████████████████████████████████████████████████████████████████████████████████████████████████████████████████████████████████████████████████████████████████████████████████████████████| 479/479 [00:06<00:00, 71.25cells/s]"
     ]
    },
    {
     "name": "stdout",
     "output_type": "stream",
     "text": [
      "added 479 column values with 0 errors\n"
     ]
    },
    {
     "name": "stderr",
     "output_type": "stream",
     "text": [
      "\n"
     ]
    },
    {
     "data": {
      "text/plain": [
       "UpdateStatus(num_rows=479, num_computed_values=479, num_excs=0, updated_cols=[], cols_with_excs=[])"
      ]
     },
     "execution_count": 16,
     "metadata": {},
     "output_type": "execute_result"
    }
   ],
   "source": [
    "from pixeltable.functions.huggingface import sentence_transformer, clip\n",
    "\n",
    "minilm_model_id = 'paraphrase-MiniLM-L6-v2'\n",
    "\n",
    "chunks.add_column(minilm_embedding=sentence_transformer(chunks.text, model_id=minilm_model_id))"
   ]
  },
  {
   "cell_type": "markdown",
   "id": "65bb3b1b-04fd-422b-a070-d3faa16033e0",
   "metadata": {},
   "source": [
    "The new column is a *computed column*: it is defined as a function on top of existing data and updated incrementally as new data are added to the workflow. Let's have a look at how the new column affected the `chunks` view."
   ]
  },
  {
   "cell_type": "code",
   "execution_count": 17,
   "id": "3cf786cc",
   "metadata": {},
   "outputs": [
    {
     "data": {
      "text/html": [
       "<style type=\"text/css\">\n",
       "#T_424a5 th {\n",
       "  text-align: center;\n",
       "}\n",
       "#T_424a5_row0_col0, #T_424a5_row0_col1, #T_424a5_row0_col2, #T_424a5_row1_col0, #T_424a5_row1_col1, #T_424a5_row1_col2, #T_424a5_row2_col0, #T_424a5_row2_col1, #T_424a5_row2_col2, #T_424a5_row3_col0, #T_424a5_row3_col1, #T_424a5_row3_col2, #T_424a5_row4_col0, #T_424a5_row4_col1, #T_424a5_row4_col2, #T_424a5_row5_col0, #T_424a5_row5_col1, #T_424a5_row5_col2, #T_424a5_row6_col0, #T_424a5_row6_col1, #T_424a5_row6_col2 {\n",
       "  white-space: pre-wrap;\n",
       "  text-align: left;\n",
       "}\n",
       "</style>\n",
       "<table id=\"T_424a5\">\n",
       "  <thead>\n",
       "    <tr>\n",
       "      <th id=\"T_424a5_level0_col0\" class=\"col_heading level0 col0\" >Column Name</th>\n",
       "      <th id=\"T_424a5_level0_col1\" class=\"col_heading level0 col1\" >Type</th>\n",
       "      <th id=\"T_424a5_level0_col2\" class=\"col_heading level0 col2\" >Computed With</th>\n",
       "    </tr>\n",
       "  </thead>\n",
       "  <tbody>\n",
       "    <tr>\n",
       "      <td id=\"T_424a5_row0_col0\" class=\"data row0 col0\" >pos</td>\n",
       "      <td id=\"T_424a5_row0_col1\" class=\"data row0 col1\" >int</td>\n",
       "      <td id=\"T_424a5_row0_col2\" class=\"data row0 col2\" ></td>\n",
       "    </tr>\n",
       "    <tr>\n",
       "      <td id=\"T_424a5_row1_col0\" class=\"data row1 col0\" >text</td>\n",
       "      <td id=\"T_424a5_row1_col1\" class=\"data row1 col1\" >string</td>\n",
       "      <td id=\"T_424a5_row1_col2\" class=\"data row1 col2\" ></td>\n",
       "    </tr>\n",
       "    <tr>\n",
       "      <td id=\"T_424a5_row2_col0\" class=\"data row2 col0\" >title</td>\n",
       "      <td id=\"T_424a5_row2_col1\" class=\"data row2 col1\" >string</td>\n",
       "      <td id=\"T_424a5_row2_col2\" class=\"data row2 col2\" ></td>\n",
       "    </tr>\n",
       "    <tr>\n",
       "      <td id=\"T_424a5_row3_col0\" class=\"data row3 col0\" >headings</td>\n",
       "      <td id=\"T_424a5_row3_col1\" class=\"data row3 col1\" >json</td>\n",
       "      <td id=\"T_424a5_row3_col2\" class=\"data row3 col2\" ></td>\n",
       "    </tr>\n",
       "    <tr>\n",
       "      <td id=\"T_424a5_row4_col0\" class=\"data row4 col0\" >sourceline</td>\n",
       "      <td id=\"T_424a5_row4_col1\" class=\"data row4 col1\" >int</td>\n",
       "      <td id=\"T_424a5_row4_col2\" class=\"data row4 col2\" ></td>\n",
       "    </tr>\n",
       "    <tr>\n",
       "      <td id=\"T_424a5_row5_col0\" class=\"data row5 col0\" >minilm_embedding</td>\n",
       "      <td id=\"T_424a5_row5_col1\" class=\"data row5 col1\" >array((None,), dtype=FLOAT)</td>\n",
       "      <td id=\"T_424a5_row5_col2\" class=\"data row5 col2\" >huggingface.sentence_transformer(text, model_id='paraphrase-MiniLM-L6-v2')</td>\n",
       "    </tr>\n",
       "    <tr>\n",
       "      <td id=\"T_424a5_row6_col0\" class=\"data row6 col0\" >source_doc</td>\n",
       "      <td id=\"T_424a5_row6_col1\" class=\"data row6 col1\" >document</td>\n",
       "      <td id=\"T_424a5_row6_col2\" class=\"data row6 col2\" ></td>\n",
       "    </tr>\n",
       "  </tbody>\n",
       "</table>\n"
      ],
      "text/plain": [
       "view 'chunks'\n",
       "\n",
       "     Column Name                        Type                                                              Computed With\n",
       "             pos                         int                                                                           \n",
       "            text                      string                                                                           \n",
       "           title                      string                                                                           \n",
       "        headings                        json                                                                           \n",
       "      sourceline                         int                                                                           \n",
       "minilm_embedding array((None,), dtype=FLOAT) huggingface.sentence_transformer(text, model_id='paraphrase-MiniLM-L6-v2')\n",
       "      source_doc                    document                                                                           "
      ]
     },
     "execution_count": 17,
     "metadata": {},
     "output_type": "execute_result"
    }
   ],
   "source": [
    "chunks"
   ]
  },
  {
   "cell_type": "code",
   "execution_count": 18,
   "id": "bc2893b5",
   "metadata": {
    "scrolled": true
   },
   "outputs": [
    {
     "data": {
      "text/html": [
       "<table border=\"1\" class=\"dataframe\">\n",
       "  <thead>\n",
       "    <tr style=\"text-align: right;\">\n",
       "      <th>pos</th>\n",
       "      <th>text</th>\n",
       "      <th>title</th>\n",
       "      <th>headings</th>\n",
       "      <th>sourceline</th>\n",
       "      <th>minilm_embedding</th>\n",
       "      <th>source_doc</th>\n",
       "    </tr>\n",
       "  </thead>\n",
       "  <tbody>\n",
       "    <tr>\n",
       "      <td>0</td>\n",
       "      <td>Marc Chagall - Wikipedia Jump to content Search Search</td>\n",
       "      <td>Marc Chagall - Wikipedia</td>\n",
       "      <td>{}</td>\n",
       "      <td>0</td>\n",
       "      <td>[-0.26239744, -0.11875608, -0.13270901, 0.048251476, 0.11987579, -0.0060523422, 0.32066357, 0.04835883, 0.29429552, -0.25400946, 0.6250121, 0.17804725, -0.0049092094, 0.26455665, -0.25857177, -0.04235531, 0.36528507, 0.23551288, 0.27595958, -0.3712053, 0.17573264, 0.0029876528, 0.23927844, -0.17485948, 0.1954067, -0.48891908, -0.7418267, -0.30720565, 0.23550902, -0.26159504, 0.5011105, -0.6918158, -0.25462586, -0.19169782, 0.5265674, 0.10684755, -0.3500413, -0.47890776, 0.27644473, 0.2624894, 0.055178, -0.1461069, -0.21482669, 0.7246923, -0.105297744, 0.5106913, -0.18174116, 0.45920599, 0.36721304, 0.51290447, -0.65757185, -0.4469795, -0.26267004, -0.44820127, 0.38971028, -0.1695206, -0.114350036, -0.07236255, 0.2645084, -0.5793037, 0.28047276, 0.091701195, -0.16436026, 0.10646367, -0.1461572, 0.19661109, 0.07363955, 0.21059886, 0.1799219, 0.1598077, -0.37105122, 0.25376227, -0.4467154, 0.6573318, -0.38872772, -0.2764637, -0.79460824, -0.08837392, -0.27318305, -0.21008545, 0.57023394, -0.3434785, 0.15152003, -0.30319378, -0.043730583, -0.3291485, 0.2555499, 0.060874756, 0.23776941, 0.29614958, 0.18648784, -0.35599723, 0.15256202, -0.084133916, -0.48064327, 0.30865645, 0.1097052, 0.11276893, 0.718605, -0.21019463, ...]</td>\n",
       "      <td>/Users/asiegel/.pixeltable/file_cache/a34a1838d0db4b6297e5c301481ee747_0_3c5b8031c7610e17a42ab6df79e614c2ee1a85dbd022497373d574cf65e15c51</td>\n",
       "    </tr>\n",
       "    <tr>\n",
       "      <td>1</td>\n",
       "      <td>Marc Chagall 81 languages Afrikaans Alemannisch العربية Aragonés Արեւմտահայերէն Asturianu Azərbaycanca বাংলা Башҡортса Беларуская Беларуская (тарашкевіца) Български Català Čeština Cymraeg Dansk Deutsch Eesti Ελληνικά Español Esperanto Euskara فارسی Français Galego 한국어 Հայերեն हिन्दी Hrvatski Ido Bahasa Indonesia Interlingua Italiano עברית Jawa ქართული Kiswahili Latina Latviešu Lëtzebuergesch Lietuvių Magyar Македонски Malagasy مصرى Nederlands Nedersaksies 日本語 Norsk bokmål Norsk nynorsk Occitan Oʻzbekcha / ўзбекча پنجابی Picard Piemontèis Plattdüütsch Polski Português Română Runa Simi Русский Scots Shqip Sicilianu Simple English Slovenčina Slovenščina کوردی Српски / srpski Srpskohrvatski / српскохрватски Suomi Svenska ไทย Türkçe Українська Tiếng Việt Winaray 吴语 ייִדיש 粵語 中文 Edit links From Wikipedia, the free encyclopedia Russian-French artist (1887–1985) \"Chagall\" redirects here. For other uses, see Chagall (disambiguation) .</td>\n",
       "      <td>Marc Chagall - Wikipedia</td>\n",
       "      <td>{'1': 'Marc Chagall'}</td>\n",
       "      <td>820</td>\n",
       "      <td>[-0.1363125, 0.40063262, -0.53002965, -0.18143149, -0.45316985, -0.124922395, 0.7796174, -0.24712479, 0.12325851, -0.22153592, 0.28455305, -0.4370274, 0.23156813, 0.14490244, -0.1085123, -0.28869802, 0.21817636, 0.7690572, -0.31989712, -0.44312742, 0.059898064, -0.08027313, 0.12561844, 0.20749849, -0.04779504, 0.2481188, 0.31219974, -0.08558018, -0.22011802, 0.3522022, 0.58977985, 0.07881048, 0.19522715, -0.14123625, 0.35312974, 0.24841884, -0.13180904, 0.27224553, 0.28210613, 0.13397679, 0.10607662, -0.09232119, 0.09185555, 0.18311317, 0.12448643, -0.050988674, -0.17604467, 0.015647216, -0.05244761, -0.24283391, -0.42616737, -0.45576864, -0.35507995, -0.43146488, 0.30693346, -0.9420446, -0.15023254, 0.73326993, 0.0008648038, -0.36632615, -0.5619301, 0.21601507, -0.6227495, 0.43365502, -0.2858443, -0.33551332, -0.044290252, 0.3440103, -0.2007212, 0.051950164, -0.14124432, -0.12208969, 0.17209955, 0.24971402, -0.114884056, -0.36850527, 0.2503845, 0.2248823, -0.23860496, 0.014345463, 0.13038495, -0.005723685, -0.030419044, -0.29217696, 0.23628014, -0.0753976, -0.011316212, -0.09114735, 0.6540441, -0.9468982, 0.51743305, 0.29965192, 0.23870105, -0.06947729, 0.50110245, -0.08394459, 0.15647276, -0.33553198, 0.086335674, -0.11068067, ...]</td>\n",
       "      <td>/Users/asiegel/.pixeltable/file_cache/a34a1838d0db4b6297e5c301481ee747_0_3c5b8031c7610e17a42ab6df79e614c2ee1a85dbd022497373d574cf65e15c51</td>\n",
       "    </tr>\n",
       "    <tr>\n",
       "      <td>2</td>\n",
       "      <td>Marc Chagall Chagall, c. 1920 Born Moishe Shagal ( 1887-07-06 ) 6 July 1887 (N.S.) Liozna , Vitebsk Governorate , Russian Empire [1] Died 28 March 1985 (1985-03-28) (aged 97) Saint-Paul-de-Vence , France Nationality Russian, later French [2] Known for Painting stained glass Notable work See list of artworks by Marc Chagall Movement Cubism Expressionism School of Paris Spouses Bella Rosenfeld ​ ​ ( m. 1915; died 1944) ​ Valentina (Vava) Brodsky ​ ​ ( m. 1952) ​ [3] Children 2 [4]</td>\n",
       "      <td>Marc Chagall - Wikipedia</td>\n",
       "      <td>{'1': 'Marc Chagall'}</td>\n",
       "      <td>1015</td>\n",
       "      <td>[-0.008921713, 0.2953745, -0.27866575, 0.11898915, -0.10827372, 0.34317943, 0.30031225, -0.030542523, 0.140571, -0.28433242, -0.2565046, -0.05376678, 0.15980518, -0.0073799845, -0.28197083, 0.1605216, -0.03273403, -0.023190707, 0.028482616, 0.02866254, 0.2178052, 0.09019671, 0.052278988, 0.061336607, 0.16683066, -0.31540227, -0.019625362, -0.17355925, 0.02343002, -0.018515123, 0.14497948, 0.011320164, -0.3156602, 0.13852714, 0.10553112, -0.044779748, -0.25689107, -0.06320519, 0.25297517, 0.22012936, 0.07603831, 0.0792726, -0.09764494, 0.05466658, 0.17789416, -0.052053563, 0.26565787, 0.00021006167, -0.1526493, 0.12836061, -0.4405348, -0.26161498, 0.12986717, -0.21648112, 0.20075297, -0.44728103, -0.10824932, -0.06369618, 0.1275613, -0.23966262, -0.13780478, -0.046827924, -0.07935211, -0.03928666, -0.25900114, 0.12769607, 0.08089128, -0.10918328, 0.28736144, -0.09079674, 0.18327945, 0.009950456, -0.27137786, -0.015346631, -0.27941808, -0.093986854, -0.16076668, 0.057925873, -0.40844643, -0.32947126, 0.18667138, -0.01637459, 0.17409977, 0.33120197, 0.075517796, 0.048949778, -0.06265739, 0.0670907, 5.528424e-05, -0.00027803052, 0.2049149, 0.3010924, -0.05034807, 0.052502863, 0.10266558, 0.10392622, 0.101448216, 0.0930416, 0.08641965, -0.13062412, ...]</td>\n",
       "      <td>/Users/asiegel/.pixeltable/file_cache/a34a1838d0db4b6297e5c301481ee747_0_3c5b8031c7610e17a42ab6df79e614c2ee1a85dbd022497373d574cf65e15c51</td>\n",
       "    </tr>\n",
       "    <tr>\n",
       "      <td>3</td>\n",
       "      <td>Marc Chagall [a] (born Moishe Shagal ; 6 July [ O.S. 24 June] 1887 – 28 March 1985) was a Russian-French artist. [b] An early modernist , he was associated with the École de Paris as well as several major artistic styles and created works in a wide range of artistic formats, including painting, drawings, book illustrations, stained glass , stage sets, ceramics, tapestries and fine art prints.</td>\n",
       "      <td>Marc Chagall - Wikipedia</td>\n",
       "      <td>{'1': 'Marc Chagall'}</td>\n",
       "      <td>1029</td>\n",
       "      <td>[0.06070795, 0.15527856, -0.18933804, 0.1676786, -0.08854648, 0.17130661, 0.15085012, -0.043867312, 0.15022112, -0.47134027, -0.28864872, -0.17173266, -0.047000878, 0.026633887, -0.06628941, 0.16065459, 0.11814179, 0.13180229, -0.004020047, -0.14932036, 0.17918746, 0.21494934, 0.09146305, 0.038962457, 0.038501732, -0.2523544, 0.2707501, -0.25661966, 0.13307239, -0.39810288, 0.21422932, 0.079853565, -0.2808314, -0.009454813, -0.00704834, 0.052204095, -0.21773988, -0.021139788, 0.11031103, 0.26661894, 0.21084817, 0.32182968, -0.09556146, 0.072593026, 0.12131224, -0.10451728, -0.010188689, -0.037562072, -0.22708271, 0.14353341, -0.37686625, -0.17414235, 0.21614799, -0.45889544, 0.07239775, -0.40199217, 0.07049387, 0.02676736, 0.15950078, -0.24915555, -0.09596315, -0.07551933, 0.19581802, -0.035720993, -0.10169222, -0.08450496, -0.091727786, -0.07791178, 0.12658142, -0.039653488, 0.027229717, 0.08718759, 0.037420988, -0.031369355, 0.021826634, -0.50100785, -0.18308267, 0.24249087, -0.30463615, -0.1627777, 0.39998814, -0.16028915, 0.034172066, 0.2015968, 0.08487637, 0.06755659, -0.050601058, 0.14891133, -0.025254607, -0.0067675593, 0.1215523, 0.16791311, -0.24602473, 0.080474414, -0.012239213, 0.09207286, 0.019633006, 0.24711514, 0.19672461, -0.0031050658, ...]</td>\n",
       "      <td>/Users/asiegel/.pixeltable/file_cache/a34a1838d0db4b6297e5c301481ee747_0_3c5b8031c7610e17a42ab6df79e614c2ee1a85dbd022497373d574cf65e15c51</td>\n",
       "    </tr>\n",
       "    <tr>\n",
       "      <td>4</td>\n",
       "      <td>Chagall was born in 1887, into a Jewish family near Vitebsk , today in Belarus , but at that time in the Pale of Settlement of the Russian Empire. Before World War I , he travelled between Saint Petersburg , Paris , and Berlin . During that period, he created his own mixture and style of modern art, based on his ideas of Eastern European and Jewish folklore. He spent the wartime years in his native Belarus, becoming one of the country's most distinguished artists and a member of the modernist avant-garde , founding the Vitebsk Arts College . He later worked in and near Moscow in difficult conditions during hard times in Russia following the Bolshevik Revolution , before leaving again for Paris in 1923. During World War II , he escaped occupied France to the United States, where he lived in New York City for seven years before returning to France in 1948.</td>\n",
       "      <td>Marc Chagall - Wikipedia</td>\n",
       "      <td>{'1': 'Marc Chagall'}</td>\n",
       "      <td>1030</td>\n",
       "      <td>[0.012889067, 0.24784814, -0.6924428, 0.1426121, -0.3790234, 0.25358468, 0.25536245, -0.12604716, 0.116000354, -0.34645474, -0.42178202, 0.019877212, 0.21520866, -0.06495547, -0.15178001, 0.11160548, -0.15971011, 0.06491916, -0.0047337115, -0.33831468, -0.27981135, -0.19120821, 0.3114935, -0.09731045, 0.41788405, -0.36130282, 0.1289389, -0.11600192, -0.041783914, -0.10795093, 0.2949969, -0.13806339, -0.14393348, -0.008052545, 0.016671669, 0.17721409, -0.03954895, -0.10124817, 0.0785659, 0.16309267, 0.18659109, 0.25182652, -0.086883925, 0.08496222, 0.099514656, 0.30495775, 0.17764322, 0.14045668, -0.18228962, 0.042524166, -0.23616257, -0.22173877, 0.12292056, -0.21659315, 0.20440893, -0.26627287, -0.028624976, 0.20077917, 0.17120816, -0.43130222, -0.08327547, -0.26314807, 0.2010209, 0.05320871, -0.23124723, 0.053521108, -0.14058796, -0.009598296, 0.25529027, 0.07367204, 0.108012736, 0.21220206, -0.31999534, -0.011201449, -0.1051358, -0.5790532, -0.09553775, 0.008409397, -0.23266529, -0.08355572, 0.32477862, 0.22916731, 0.07943112, 0.31860423, 0.08367223, 0.026719313, -0.014187841, 0.19423032, 0.059627395, -0.0067669214, 0.5294448, -0.035245955, 0.05879449, -0.06393026, 0.008244172, 0.19260912, 0.016116004, 0.3515519, 0.1926637, -0.24429806, ...]</td>\n",
       "      <td>/Users/asiegel/.pixeltable/file_cache/a34a1838d0db4b6297e5c301481ee747_0_3c5b8031c7610e17a42ab6df79e614c2ee1a85dbd022497373d574cf65e15c51</td>\n",
       "    </tr>\n",
       "    <tr>\n",
       "      <td>5</td>\n",
       "      <td>Art critic Robert Hughes referred to Chagall as \"the quintessential Jewish artist of the twentieth century\". According to art historian Michael J. Lewis, Chagall was considered to be \"the last survivor of the first generation of European modernists\". For decades, he \"had also been respected as the world's pre-eminent Jewish artist\". [15] Using the medium of stained glass, he produced windows for the cathedrals of Reims and Metz as well as the Fraumünster in Zürich , windows for the UN and the Art Institute of Chicago and the Jerusalem Windows in Israel. He also did large-scale paintings, including part of the ceiling of the Paris Opéra . He experienced modernism's \"golden age\" in Paris, where \"he synthesized the art forms of Cubism , Symbolism , and Fauvism , and the influence of Fauvism gave rise to Surrealism \". Yet throughout these phases of his style \"he remained most emphatically a Jewish artist, whose work was one long dreamy reverie of life in his native village of Vitebsk.\" [16] \"When Matisse dies\", Pablo Picasso remarked in the 1950s, \"Chagall will be the only painter left who understands what colour really is\". [17]</td>\n",
       "      <td>Marc Chagall - Wikipedia</td>\n",
       "      <td>{'1': 'Marc Chagall'}</td>\n",
       "      <td>1031</td>\n",
       "      <td>[-0.1718488, 0.34802842, -0.3067041, 0.033759266, -0.07120789, 0.11081593, -0.015894428, -0.13356614, -0.033708245, -0.2419452, -0.44456822, 0.05929219, 0.020918187, 0.14204657, -0.24098685, 0.270058, -0.25892293, 0.045101464, 0.053786207, 0.112981185, -0.08186188, 0.076918334, 0.3056298, -0.1219505, 0.30861628, -0.20567948, 0.19921294, -0.12860534, -0.14399259, -0.060565773, 0.09843977, -0.10340746, -0.26555914, -0.027046643, 0.070481814, 0.07951172, -0.06800346, 0.0012837779, 0.23670606, 0.1605123, 0.08615838, 0.3051123, -0.027099106, -0.17317611, 0.014067065, -0.01578261, 0.12305312, 0.05461803, -0.20789422, 0.11169634, -0.243294, -0.1717479, 0.31153303, -0.477225, 0.08077119, -0.3160271, -0.108076364, -0.060807537, -0.12826538, -0.47114924, -0.11467476, -0.3874791, -0.18139084, 0.17687614, -0.033176806, -0.10800477, -0.113080636, -0.19606844, -0.022167385, 0.08167149, 0.077876404, 0.04912953, 0.019410212, 0.07751435, 0.11992899, -0.27325982, -0.07606392, -0.0123761445, -0.30934036, -0.05539541, 0.49092746, 0.054491326, 0.1359975, 0.29677787, 0.195668, -0.02722781, -0.10856432, 0.039952196, -0.06816634, 0.14353533, 0.10984236, 0.08890318, 0.12124765, 0.23209828, 0.18221292, 0.226612, -0.053041402, 0.17716643, -0.003824023, -0.22502854, ...]</td>\n",
       "      <td>/Users/asiegel/.pixeltable/file_cache/a34a1838d0db4b6297e5c301481ee747_0_3c5b8031c7610e17a42ab6df79e614c2ee1a85dbd022497373d574cf65e15c51</td>\n",
       "    </tr>\n",
       "    <tr>\n",
       "      <td>6</td>\n",
       "      <td>Early life and education [ edit ]</td>\n",
       "      <td>Marc Chagall - Wikipedia</td>\n",
       "      <td>{'1': 'Marc Chagall', '2': 'Early life and education[edit]'}</td>\n",
       "      <td>1034</td>\n",
       "      <td>[-0.21258694, 0.41762605, 0.09400449, 0.13499947, -0.06885149, 0.26491603, -0.12511107, 0.28833583, 0.04579986, 0.22168949, 0.29161087, -0.31456777, -0.31366986, 0.11542555, 0.08831894, 0.056974404, 0.2402763, -0.25183347, -0.12356235, -0.54612905, -0.09656416, 0.0660866, 0.25659195, -0.052964527, 0.4823795, 0.32737747, 0.086159095, -0.071204886, 0.12762076, 0.42564514, 0.02772967, -0.41478524, 0.5348886, -0.45198312, -0.47164515, 0.31659156, 0.8776631, 0.042706072, -0.255907, 0.044347186, -0.14535584, 0.2864719, -0.113270864, 0.19460054, 0.05073829, -0.15815656, 0.25129333, -0.2220522, -0.09832473, -0.12678048, -0.5666925, -0.12103812, 0.03459396, -0.35877624, 0.19099654, 0.32248336, -0.06600305, 0.4256649, -0.23869184, 0.067017615, -0.83746076, -0.26572597, -0.0097357035, 0.70784605, -0.07748319, 0.27188894, -0.06916828, 0.4451362, 0.1913614, -0.33502167, -0.15556404, -0.2711281, 0.118402824, 0.361828, -0.33293796, -0.13884008, 0.040201046, 0.33501458, 0.11592436, -0.79345524, 0.21795018, 0.23458, -0.09650008, 0.24245013, -0.2910435, 0.41454414, -0.4800957, 0.29933104, -0.14576554, -0.29111043, 0.64425385, -0.46670642, -0.48874134, 0.35364032, 0.6117833, 0.20667987, -0.5535579, -0.32985795, -0.13371441, -0.22560607, ...]</td>\n",
       "      <td>/Users/asiegel/.pixeltable/file_cache/a34a1838d0db4b6297e5c301481ee747_0_3c5b8031c7610e17a42ab6df79e614c2ee1a85dbd022497373d574cf65e15c51</td>\n",
       "    </tr>\n",
       "    <tr>\n",
       "      <td>7</td>\n",
       "      <td>Early life [ edit ] Marc Chagall's childhood home in Vitebsk , Belarus. Currently site of the Marc Chagall Museum . Marc Chagall, 1912, The Spoonful of Milk (La Cuillerée de lait) , gouache on paper</td>\n",
       "      <td>Marc Chagall - Wikipedia</td>\n",
       "      <td>{'1': 'Marc Chagall', '2': 'Early life and education[edit]', '3': 'Early life[edit]'}</td>\n",
       "      <td>1035</td>\n",
       "      <td>[-0.040403567, 0.14281169, -0.35680732, 0.41181752, -0.33060923, 0.20134678, 0.15904729, 0.1680692, 0.23450555, -0.17853774, 0.076216996, -0.23785742, 0.047059476, 0.0723482, -0.5144092, 0.0059390757, 0.11763715, 0.16320866, 0.20046358, -0.31078827, 0.033091, -0.03074765, 0.26112205, -0.040257227, 0.33917278, 0.008225182, -0.21099399, -0.19426702, -0.17069323, -0.15220758, 0.06614052, -0.29302466, -0.16281912, -0.21634808, 0.0507121, 0.36889926, 0.2109983, -0.28517646, 0.046531904, 0.101085275, 0.17541906, 0.27149823, -0.024600174, 0.13682236, -0.073069565, 0.16629833, 0.33900666, -0.0226166, -0.1238528, 0.083200105, -0.60445195, -0.30993247, 0.21716255, -0.29389524, 0.16422015, -0.25379407, 0.059631355, 0.0020764398, 0.3015244, -0.13549966, -0.07433209, -0.2154322, 0.08626243, 0.08691749, -0.27768335, 0.20129625, -0.25110516, 0.100580424, 0.20634235, -0.049445, -0.030263336, -0.07400871, -0.21622524, -0.06387937, -0.32896656, -0.507313, -0.18882531, 0.07538769, -0.36687744, -0.12156589, 0.017601155, -0.00042121453, 0.00610549, 0.0038016152, -0.29164794, 0.097530276, 0.030996814, 0.15973984, -0.16489528, -0.043514118, 0.69870305, 0.05401157, -0.016611714, 0.06936291, 0.02985333, -0.17610958, -0.43028656, 0.2358565, 0.5384827, -0.30086905, ...]</td>\n",
       "      <td>/Users/asiegel/.pixeltable/file_cache/a34a1838d0db4b6297e5c301481ee747_0_3c5b8031c7610e17a42ab6df79e614c2ee1a85dbd022497373d574cf65e15c51</td>\n",
       "    </tr>\n",
       "    <tr>\n",
       "      <td>8</td>\n",
       "      <td>Marc Chagall was born Moishe Shagal in 1887, into a Jewish family in Liozna , [1] near the city of Vitebsk , Belarus, then part of the Russian Empire . [c] [18] At the time of his birth, Vitebsk's population was about 66,000. Half of the population was Jewish. [16] A picturesque city of churches and synagogues, it was called \"Russian Toledo \" by artist Ilya Repin , after the cosmopolitan city of the former Spanish Empire . [19] Because the city was built mostly of wood, little of it survived years of occupation and destruction during World War II.</td>\n",
       "      <td>Marc Chagall - Wikipedia</td>\n",
       "      <td>{'1': 'Marc Chagall', '2': 'Early life and education[edit]', '3': 'Early life[edit]'}</td>\n",
       "      <td>1038</td>\n",
       "      <td>[0.12289584, 0.19771095, -0.49609926, 0.15436818, -0.3683883, 0.07807937, 0.3530502, -0.059554473, 0.17041667, -0.09993227, -0.12581128, -0.14822444, 0.1960066, -0.049037382, -0.22496143, -0.11782649, -0.029683743, -0.15135886, -0.07608065, -0.13164505, -0.15614808, -0.1281366, 0.26295242, -0.050093833, 0.508169, -0.37993705, 0.2143076, 0.017430518, -0.11382118, -0.0031905696, 0.13804077, 0.042828385, 0.102564044, -0.037603594, 0.059482064, 0.017253254, 0.10230875, -0.17457339, -0.081567675, -0.030254176, 0.009354096, 0.309923, -0.18747081, 0.15136003, -0.076821506, 0.072804056, 0.0394665, 0.16246986, -0.04693833, -0.057768002, -0.28829083, -0.07179849, 0.11064629, 0.080966555, 0.3141635, -0.31155917, -0.20154503, -0.032710448, 0.22301686, -0.018219613, 0.0082920715, -0.14288127, 0.14590013, 0.1464246, -0.21697515, 0.11366698, 0.041973703, -0.2781005, 0.059859313, -0.14236777, 0.1166666, 0.023176108, -0.15179297, 0.19413717, -0.19074057, -0.4553784, -0.10794483, 0.17236865, -0.319219, -0.10242921, 0.1510283, 0.09995351, 0.13968733, 0.23945294, -0.14752798, 0.08886419, -0.28502, 0.082560085, 0.021981327, 0.10126787, 0.41831374, 0.1802515, 0.14450534, -0.15728228, -0.08622702, -0.16223393, -0.16473386, 0.1673045, 0.024511559, -0.30024892, ...]</td>\n",
       "      <td>/Users/asiegel/.pixeltable/file_cache/a34a1838d0db4b6297e5c301481ee747_0_3c5b8031c7610e17a42ab6df79e614c2ee1a85dbd022497373d574cf65e15c51</td>\n",
       "    </tr>\n",
       "    <tr>\n",
       "      <td>9</td>\n",
       "      <td>Chagall was the eldest of nine children. The family name, Shagal, is a variant of the name Segal , which in a Jewish community was usually borne by a Levitic family. [20] His father, Khatskl (Zachar) Shagal, was employed by a herring merchant, and his mother, Feige-Ite, sold groceries from their home. His father worked hard, carrying heavy barrels, earning 20 roubles each month (the average wages across the Russian Empire was 13 roubles a month). Chagall wrote of those early years:</td>\n",
       "      <td>Marc Chagall - Wikipedia</td>\n",
       "      <td>{'1': 'Marc Chagall', '2': 'Early life and education[edit]', '3': 'Early life[edit]'}</td>\n",
       "      <td>1039</td>\n",
       "      <td>[-0.19016051, 0.2662102, -0.40008038, 0.12919344, -0.4931461, 0.06254342, 0.4524838, -0.19770071, 0.35659614, -0.39628673, 0.0752513, -0.034594607, 0.100775726, -5.697031e-05, -0.0431388, 0.21718843, -0.18270254, 0.023722509, -0.08137782, -0.21935253, 0.23643914, -0.18530129, 0.19012834, -0.13759938, 0.29683122, -0.0026679556, 0.2592335, -0.045603562, 0.074348554, -0.15570927, -0.05742962, 0.024905544, 0.15878385, -0.06530662, 0.06710602, 0.1366059, 0.13979799, -0.26153907, 0.15460359, 0.17037603, 0.31496724, 0.1897313, 0.053521436, -0.04389488, -0.4255563, 0.0038219942, 0.18964615, -0.10599321, -0.019261595, 0.14236806, -0.77524954, -0.119407855, 0.32596987, -0.1358735, 0.46525088, -0.2871111, 0.08861766, -0.16499312, 0.15993859, -0.2544725, -0.45596844, -0.20720147, 0.079662286, -0.0106536085, -0.045571707, -0.19634902, -0.2437222, -0.34079152, 0.14983965, 0.025766388, -0.12969424, 0.14368069, 0.07250721, 0.29788, -0.46605885, -0.3884827, -0.16261555, 0.14219214, -0.34438896, -0.11124558, -0.31215012, -0.19792828, 0.09765506, 0.26211566, -0.18964094, 0.18680178, -0.15452722, 0.0019693451, -0.058514655, 0.16725062, 0.28203857, 0.1375037, 0.23745139, -0.045294467, 0.075898126, -0.058001257, 0.08730732, 0.021642098, -0.2295039, -0.06303484, ...]</td>\n",
       "      <td>/Users/asiegel/.pixeltable/file_cache/a34a1838d0db4b6297e5c301481ee747_0_3c5b8031c7610e17a42ab6df79e614c2ee1a85dbd022497373d574cf65e15c51</td>\n",
       "    </tr>\n",
       "  </tbody>\n",
       "</table>"
      ],
      "text/plain": [
       "   pos                                               text  \\\n",
       "0    0   Marc Chagall - Wikipedia Jump to content Sear...   \n",
       "1    1   Marc Chagall 81 languages Afrikaans Alemannis...   \n",
       "2    2   Marc Chagall Chagall, c. 1920 Born Moishe Sha...   \n",
       "3    3   Marc Chagall [a] (born Moishe Shagal ; 6 July...   \n",
       "4    4   Chagall was born in 1887, into a Jewish famil...   \n",
       "5    5   Art critic Robert Hughes referred to Chagall ...   \n",
       "6    6                  Early life and education [ edit ]   \n",
       "7    7   Early life [ edit ] Marc Chagall's childhood ...   \n",
       "8    8   Marc Chagall was born Moishe Shagal in 1887, ...   \n",
       "9    9   Chagall was the eldest of nine children. The ...   \n",
       "\n",
       "                      title  \\\n",
       "0  Marc Chagall - Wikipedia   \n",
       "1  Marc Chagall - Wikipedia   \n",
       "2  Marc Chagall - Wikipedia   \n",
       "3  Marc Chagall - Wikipedia   \n",
       "4  Marc Chagall - Wikipedia   \n",
       "5  Marc Chagall - Wikipedia   \n",
       "6  Marc Chagall - Wikipedia   \n",
       "7  Marc Chagall - Wikipedia   \n",
       "8  Marc Chagall - Wikipedia   \n",
       "9  Marc Chagall - Wikipedia   \n",
       "\n",
       "                                            headings  sourceline  \\\n",
       "0                                                 {}           0   \n",
       "1                              {'1': 'Marc Chagall'}         820   \n",
       "2                              {'1': 'Marc Chagall'}        1015   \n",
       "3                              {'1': 'Marc Chagall'}        1029   \n",
       "4                              {'1': 'Marc Chagall'}        1030   \n",
       "5                              {'1': 'Marc Chagall'}        1031   \n",
       "6  {'1': 'Marc Chagall', '2': 'Early life and edu...        1034   \n",
       "7  {'1': 'Marc Chagall', '2': 'Early life and edu...        1035   \n",
       "8  {'1': 'Marc Chagall', '2': 'Early life and edu...        1038   \n",
       "9  {'1': 'Marc Chagall', '2': 'Early life and edu...        1039   \n",
       "\n",
       "                                    minilm_embedding  \\\n",
       "0  [-0.26239744, -0.11875608, -0.13270901, 0.0482...   \n",
       "1  [-0.1363125, 0.40063262, -0.53002965, -0.18143...   \n",
       "2  [-0.008921713, 0.2953745, -0.27866575, 0.11898...   \n",
       "3  [0.06070795, 0.15527856, -0.18933804, 0.167678...   \n",
       "4  [0.012889067, 0.24784814, -0.6924428, 0.142612...   \n",
       "5  [-0.1718488, 0.34802842, -0.3067041, 0.0337592...   \n",
       "6  [-0.21258694, 0.41762605, 0.09400449, 0.134999...   \n",
       "7  [-0.040403567, 0.14281169, -0.35680732, 0.4118...   \n",
       "8  [0.12289584, 0.19771095, -0.49609926, 0.154368...   \n",
       "9  [-0.19016051, 0.2662102, -0.40008038, 0.129193...   \n",
       "\n",
       "                                          source_doc  \n",
       "0  /Users/asiegel/.pixeltable/file_cache/a34a1838...  \n",
       "1  /Users/asiegel/.pixeltable/file_cache/a34a1838...  \n",
       "2  /Users/asiegel/.pixeltable/file_cache/a34a1838...  \n",
       "3  /Users/asiegel/.pixeltable/file_cache/a34a1838...  \n",
       "4  /Users/asiegel/.pixeltable/file_cache/a34a1838...  \n",
       "5  /Users/asiegel/.pixeltable/file_cache/a34a1838...  \n",
       "6  /Users/asiegel/.pixeltable/file_cache/a34a1838...  \n",
       "7  /Users/asiegel/.pixeltable/file_cache/a34a1838...  \n",
       "8  /Users/asiegel/.pixeltable/file_cache/a34a1838...  \n",
       "9  /Users/asiegel/.pixeltable/file_cache/a34a1838...  "
      ]
     },
     "execution_count": 18,
     "metadata": {},
     "output_type": "execute_result"
    }
   ],
   "source": [
    "chunks.head()"
   ]
  },
  {
   "cell_type": "markdown",
   "id": "258f0b29-aa1b-4292-8eb0-9dd3cd89d53b",
   "metadata": {},
   "source": [
    "Similarly, we might want to add a CLIP embedding to our workflow; once again, it's just another computed column:"
   ]
  },
  {
   "cell_type": "code",
   "execution_count": 19,
   "id": "bc4811c4",
   "metadata": {},
   "outputs": [
    {
     "name": "stderr",
     "output_type": "stream",
     "text": [
      "Computing cells: 100%|██████████████████████████████████████████████████████████████████████████████████████████████████████████████████████████████████████████████████████████████████████████████████████████████████████████████████████████████████████████████████████████| 479/479 [00:30<00:00, 15.84cells/s]"
     ]
    },
    {
     "name": "stdout",
     "output_type": "stream",
     "text": [
      "added 479 column values with 0 errors\n"
     ]
    },
    {
     "name": "stderr",
     "output_type": "stream",
     "text": [
      "\n"
     ]
    },
    {
     "data": {
      "text/plain": [
       "UpdateStatus(num_rows=479, num_computed_values=479, num_excs=0, updated_cols=[], cols_with_excs=[])"
      ]
     },
     "execution_count": 19,
     "metadata": {},
     "output_type": "execute_result"
    }
   ],
   "source": [
    "clip_model_id = 'openai/clip-vit-base-patch32'\n",
    "\n",
    "chunks.add_column(clip_embedding=clip(text=chunks.text, model_id=clip_model_id))"
   ]
  },
  {
   "cell_type": "code",
   "execution_count": 20,
   "id": "40f446a4",
   "metadata": {},
   "outputs": [
    {
     "data": {
      "text/html": [
       "<style type=\"text/css\">\n",
       "#T_cabc4 th {\n",
       "  text-align: center;\n",
       "}\n",
       "#T_cabc4_row0_col0, #T_cabc4_row0_col1, #T_cabc4_row0_col2, #T_cabc4_row1_col0, #T_cabc4_row1_col1, #T_cabc4_row1_col2, #T_cabc4_row2_col0, #T_cabc4_row2_col1, #T_cabc4_row2_col2, #T_cabc4_row3_col0, #T_cabc4_row3_col1, #T_cabc4_row3_col2, #T_cabc4_row4_col0, #T_cabc4_row4_col1, #T_cabc4_row4_col2, #T_cabc4_row5_col0, #T_cabc4_row5_col1, #T_cabc4_row5_col2, #T_cabc4_row6_col0, #T_cabc4_row6_col1, #T_cabc4_row6_col2, #T_cabc4_row7_col0, #T_cabc4_row7_col1, #T_cabc4_row7_col2 {\n",
       "  white-space: pre-wrap;\n",
       "  text-align: left;\n",
       "}\n",
       "</style>\n",
       "<table id=\"T_cabc4\">\n",
       "  <thead>\n",
       "    <tr>\n",
       "      <th id=\"T_cabc4_level0_col0\" class=\"col_heading level0 col0\" >Column Name</th>\n",
       "      <th id=\"T_cabc4_level0_col1\" class=\"col_heading level0 col1\" >Type</th>\n",
       "      <th id=\"T_cabc4_level0_col2\" class=\"col_heading level0 col2\" >Computed With</th>\n",
       "    </tr>\n",
       "  </thead>\n",
       "  <tbody>\n",
       "    <tr>\n",
       "      <td id=\"T_cabc4_row0_col0\" class=\"data row0 col0\" >pos</td>\n",
       "      <td id=\"T_cabc4_row0_col1\" class=\"data row0 col1\" >int</td>\n",
       "      <td id=\"T_cabc4_row0_col2\" class=\"data row0 col2\" ></td>\n",
       "    </tr>\n",
       "    <tr>\n",
       "      <td id=\"T_cabc4_row1_col0\" class=\"data row1 col0\" >text</td>\n",
       "      <td id=\"T_cabc4_row1_col1\" class=\"data row1 col1\" >string</td>\n",
       "      <td id=\"T_cabc4_row1_col2\" class=\"data row1 col2\" ></td>\n",
       "    </tr>\n",
       "    <tr>\n",
       "      <td id=\"T_cabc4_row2_col0\" class=\"data row2 col0\" >title</td>\n",
       "      <td id=\"T_cabc4_row2_col1\" class=\"data row2 col1\" >string</td>\n",
       "      <td id=\"T_cabc4_row2_col2\" class=\"data row2 col2\" ></td>\n",
       "    </tr>\n",
       "    <tr>\n",
       "      <td id=\"T_cabc4_row3_col0\" class=\"data row3 col0\" >headings</td>\n",
       "      <td id=\"T_cabc4_row3_col1\" class=\"data row3 col1\" >json</td>\n",
       "      <td id=\"T_cabc4_row3_col2\" class=\"data row3 col2\" ></td>\n",
       "    </tr>\n",
       "    <tr>\n",
       "      <td id=\"T_cabc4_row4_col0\" class=\"data row4 col0\" >sourceline</td>\n",
       "      <td id=\"T_cabc4_row4_col1\" class=\"data row4 col1\" >int</td>\n",
       "      <td id=\"T_cabc4_row4_col2\" class=\"data row4 col2\" ></td>\n",
       "    </tr>\n",
       "    <tr>\n",
       "      <td id=\"T_cabc4_row5_col0\" class=\"data row5 col0\" >minilm_embedding</td>\n",
       "      <td id=\"T_cabc4_row5_col1\" class=\"data row5 col1\" >array((None,), dtype=FLOAT)</td>\n",
       "      <td id=\"T_cabc4_row5_col2\" class=\"data row5 col2\" >huggingface.sentence_transformer(text, model_id='paraphrase-MiniLM-L6-v2')</td>\n",
       "    </tr>\n",
       "    <tr>\n",
       "      <td id=\"T_cabc4_row6_col0\" class=\"data row6 col0\" >clip_embedding</td>\n",
       "      <td id=\"T_cabc4_row6_col1\" class=\"data row6 col1\" >array((None,), dtype=FLOAT)</td>\n",
       "      <td id=\"T_cabc4_row6_col2\" class=\"data row6 col2\" >huggingface.clip(text=text, model_id='openai/clip-vit-base-patch32')</td>\n",
       "    </tr>\n",
       "    <tr>\n",
       "      <td id=\"T_cabc4_row7_col0\" class=\"data row7 col0\" >source_doc</td>\n",
       "      <td id=\"T_cabc4_row7_col1\" class=\"data row7 col1\" >document</td>\n",
       "      <td id=\"T_cabc4_row7_col2\" class=\"data row7 col2\" ></td>\n",
       "    </tr>\n",
       "  </tbody>\n",
       "</table>\n"
      ],
      "text/plain": [
       "view 'chunks'\n",
       "\n",
       "     Column Name                        Type                                                              Computed With\n",
       "             pos                         int                                                                           \n",
       "            text                      string                                                                           \n",
       "           title                      string                                                                           \n",
       "        headings                        json                                                                           \n",
       "      sourceline                         int                                                                           \n",
       "minilm_embedding array((None,), dtype=FLOAT) huggingface.sentence_transformer(text, model_id='paraphrase-MiniLM-L6-v2')\n",
       "  clip_embedding array((None,), dtype=FLOAT)       huggingface.clip(text=text, model_id='openai/clip-vit-base-patch32')\n",
       "      source_doc                    document                                                                           "
      ]
     },
     "execution_count": 20,
     "metadata": {},
     "output_type": "execute_result"
    }
   ],
   "source": [
    "chunks"
   ]
  },
  {
   "cell_type": "code",
   "execution_count": 21,
   "id": "695af1d1",
   "metadata": {
    "scrolled": true
   },
   "outputs": [
    {
     "data": {
      "text/html": [
       "<table border=\"1\" class=\"dataframe\">\n",
       "  <thead>\n",
       "    <tr style=\"text-align: right;\">\n",
       "      <th>pos</th>\n",
       "      <th>text</th>\n",
       "      <th>title</th>\n",
       "      <th>headings</th>\n",
       "      <th>sourceline</th>\n",
       "      <th>minilm_embedding</th>\n",
       "      <th>clip_embedding</th>\n",
       "      <th>source_doc</th>\n",
       "    </tr>\n",
       "  </thead>\n",
       "  <tbody>\n",
       "    <tr>\n",
       "      <td>0</td>\n",
       "      <td>Marc Chagall - Wikipedia Jump to content Search Search</td>\n",
       "      <td>Marc Chagall - Wikipedia</td>\n",
       "      <td>{}</td>\n",
       "      <td>0</td>\n",
       "      <td>[-0.26239744, -0.11875608, -0.13270901, 0.048251476, 0.11987579, -0.0060523422, 0.32066357, 0.04835883, 0.29429552, -0.25400946, 0.6250121, 0.17804725, -0.0049092094, 0.26455665, -0.25857177, -0.04235531, 0.36528507, 0.23551288, 0.27595958, -0.3712053, 0.17573264, 0.0029876528, 0.23927844, -0.17485948, 0.1954067, -0.48891908, -0.7418267, -0.30720565, 0.23550902, -0.26159504, 0.5011105, -0.6918158, -0.25462586, -0.19169782, 0.5265674, 0.10684755, -0.3500413, -0.47890776, 0.27644473, 0.2624894, 0.055178, -0.1461069, -0.21482669, 0.7246923, -0.105297744, 0.5106913, -0.18174116, 0.45920599, 0.36721304, 0.51290447, -0.65757185, -0.4469795, -0.26267004, -0.44820127, 0.38971028, -0.1695206, -0.114350036, -0.07236255, 0.2645084, -0.5793037, 0.28047276, 0.091701195, -0.16436026, 0.10646367, -0.1461572, 0.19661109, 0.07363955, 0.21059886, 0.1799219, 0.1598077, -0.37105122, 0.25376227, -0.4467154, 0.6573318, -0.38872772, -0.2764637, -0.79460824, -0.08837392, -0.27318305, -0.21008545, 0.57023394, -0.3434785, 0.15152003, -0.30319378, -0.043730583, -0.3291485, 0.2555499, 0.060874756, 0.23776941, 0.29614958, 0.18648784, -0.35599723, 0.15256202, -0.084133916, -0.48064327, 0.30865645, 0.1097052, 0.11276893, 0.718605, -0.21019463, ...]</td>\n",
       "      <td>[0.43900743, -0.20442066, -0.3703856, -0.24842092, 0.2525654, 0.10988422, 0.17879994, -0.196813, -0.21898538, 0.16312195, -0.11581904, 0.10922383, -0.3980483, 0.09145157, 0.10282475, -0.08496836, -0.26351994, 0.21744385, -0.3051855, -0.25689328, 0.3959951, 0.050230637, 0.069754474, 0.024919227, -0.23106074, 0.40560833, 0.055413835, 0.32912296, 0.308473, -0.5097272, -0.09413433, -0.11475259, 0.060904503, -0.4149298, 0.22001794, -0.18334071, -0.17864163, -0.31954357, 0.25738722, -0.22377047, 0.18910344, 0.026809722, -0.004293531, 0.40239182, 0.20990916, 0.097469255, -0.13026372, -0.22480412, -0.57115316, -0.08310877, 0.4732533, -0.18007854, 0.1250679, 0.086631775, 0.9078158, 0.2944157, 0.37376213, 0.0021959953, -0.45549828, 0.3129748, 0.1539275, 0.1920172, 0.4021812, 0.07109217, 0.1754788, -0.15966587, 0.23044436, 0.17929715, -0.062350556, -0.14394853, 0.08396445, -0.1978707, 0.15875788, 0.15464768, -0.12898067, -0.12406565, -0.4527824, 0.09551789, 0.0028743632, 0.68251455, -0.59881175, -0.33829093, -0.3487394, 0.075701036, -0.35363907, -0.31604585, -0.14599548, -0.5174625, -0.13107216, 0.020409035, -0.47953704, -0.080894835, -1.0206147, -0.15478382, 0.2360041, 0.29316625, -0.44745338, -0.07385804, -0.11532639, -0.1653951, ...]</td>\n",
       "      <td>/Users/asiegel/.pixeltable/file_cache/a34a1838d0db4b6297e5c301481ee747_0_3c5b8031c7610e17a42ab6df79e614c2ee1a85dbd022497373d574cf65e15c51</td>\n",
       "    </tr>\n",
       "    <tr>\n",
       "      <td>1</td>\n",
       "      <td>Marc Chagall 81 languages Afrikaans Alemannisch العربية Aragonés Արեւմտահայերէն Asturianu Azərbaycanca বাংলা Башҡортса Беларуская Беларуская (тарашкевіца) Български Català Čeština Cymraeg Dansk Deutsch Eesti Ελληνικά Español Esperanto Euskara فارسی Français Galego 한국어 Հայերեն हिन्दी Hrvatski Ido Bahasa Indonesia Interlingua Italiano עברית Jawa ქართული Kiswahili Latina Latviešu Lëtzebuergesch Lietuvių Magyar Македонски Malagasy مصرى Nederlands Nedersaksies 日本語 Norsk bokmål Norsk nynorsk Occitan Oʻzbekcha / ўзбекча پنجابی Picard Piemontèis Plattdüütsch Polski Português Română Runa Simi Русский Scots Shqip Sicilianu Simple English Slovenčina Slovenščina کوردی Српски / srpski Srpskohrvatski / српскохрватски Suomi Svenska ไทย Türkçe Українська Tiếng Việt Winaray 吴语 ייִדיש 粵語 中文 Edit links From Wikipedia, the free encyclopedia Russian-French artist (1887–1985) \"Chagall\" redirects here. For other uses, see Chagall (disambiguation) .</td>\n",
       "      <td>Marc Chagall - Wikipedia</td>\n",
       "      <td>{'1': 'Marc Chagall'}</td>\n",
       "      <td>820</td>\n",
       "      <td>[-0.1363125, 0.40063262, -0.53002965, -0.18143149, -0.45316985, -0.124922395, 0.7796174, -0.24712479, 0.12325851, -0.22153592, 0.28455305, -0.4370274, 0.23156813, 0.14490244, -0.1085123, -0.28869802, 0.21817636, 0.7690572, -0.31989712, -0.44312742, 0.059898064, -0.08027313, 0.12561844, 0.20749849, -0.04779504, 0.2481188, 0.31219974, -0.08558018, -0.22011802, 0.3522022, 0.58977985, 0.07881048, 0.19522715, -0.14123625, 0.35312974, 0.24841884, -0.13180904, 0.27224553, 0.28210613, 0.13397679, 0.10607662, -0.09232119, 0.09185555, 0.18311317, 0.12448643, -0.050988674, -0.17604467, 0.015647216, -0.05244761, -0.24283391, -0.42616737, -0.45576864, -0.35507995, -0.43146488, 0.30693346, -0.9420446, -0.15023254, 0.73326993, 0.0008648038, -0.36632615, -0.5619301, 0.21601507, -0.6227495, 0.43365502, -0.2858443, -0.33551332, -0.044290252, 0.3440103, -0.2007212, 0.051950164, -0.14124432, -0.12208969, 0.17209955, 0.24971402, -0.114884056, -0.36850527, 0.2503845, 0.2248823, -0.23860496, 0.014345463, 0.13038495, -0.005723685, -0.030419044, -0.29217696, 0.23628014, -0.0753976, -0.011316212, -0.09114735, 0.6540441, -0.9468982, 0.51743305, 0.29965192, 0.23870105, -0.06947729, 0.50110245, -0.08394459, 0.15647276, -0.33553198, 0.086335674, -0.11068067, ...]</td>\n",
       "      <td>[0.10576726, 0.0062548285, -0.15221648, 0.04325895, 0.28336343, -0.017216904, 0.048432305, 0.18082103, -0.38419753, 0.1942887, -0.3934702, 0.1703408, -0.29696217, 0.009378701, -0.07561199, 0.09139115, -0.21508363, -0.002944082, -0.23163866, -0.2664358, 0.43764433, -0.09557707, 0.04955954, 0.10321079, -0.4440287, 0.088803366, 0.31638646, 0.24560744, 0.3107057, -0.4979143, -0.100728914, -0.38821647, -0.109925725, -0.4855165, 0.01807117, -0.233836, -0.12965867, -0.2497466, 0.38025331, 0.019615296, 0.16431904, -0.005382888, 0.051134765, 0.285679, 0.0700022, 0.03818, 0.035019174, -0.11470949, -0.4450416, -0.056285903, 0.59716856, -0.09969357, -0.023412608, 0.032318383, 0.6703502, 0.15605195, 0.4311117, -0.081973225, -0.27741277, -0.102946505, 0.16821143, 0.33112323, 0.1849161, 0.2880625, -0.14098072, -0.03131099, 0.33622795, 0.06441298, 0.015533805, -0.0046834317, 0.09588139, 0.03722093, 0.1061594, 0.109761484, -0.39696816, -0.3427739, -0.2742528, 0.084733956, -0.04741838, 0.6563601, -0.75865734, -0.1213026, -0.36402082, -0.38133097, -0.399796, -0.6459371, -0.08603081, -0.22102787, -0.103263326, -0.057846203, -0.03279003, 0.15000474, -0.9866644, -0.15627575, 0.30921665, 0.52998817, -0.45030674, 0.08764841, 0.018438563, -0.012725789, ...]</td>\n",
       "      <td>/Users/asiegel/.pixeltable/file_cache/a34a1838d0db4b6297e5c301481ee747_0_3c5b8031c7610e17a42ab6df79e614c2ee1a85dbd022497373d574cf65e15c51</td>\n",
       "    </tr>\n",
       "    <tr>\n",
       "      <td>2</td>\n",
       "      <td>Marc Chagall Chagall, c. 1920 Born Moishe Shagal ( 1887-07-06 ) 6 July 1887 (N.S.) Liozna , Vitebsk Governorate , Russian Empire [1] Died 28 March 1985 (1985-03-28) (aged 97) Saint-Paul-de-Vence , France Nationality Russian, later French [2] Known for Painting stained glass Notable work See list of artworks by Marc Chagall Movement Cubism Expressionism School of Paris Spouses Bella Rosenfeld ​ ​ ( m. 1915; died 1944) ​ Valentina (Vava) Brodsky ​ ​ ( m. 1952) ​ [3] Children 2 [4]</td>\n",
       "      <td>Marc Chagall - Wikipedia</td>\n",
       "      <td>{'1': 'Marc Chagall'}</td>\n",
       "      <td>1015</td>\n",
       "      <td>[-0.008921713, 0.2953745, -0.27866575, 0.11898915, -0.10827372, 0.34317943, 0.30031225, -0.030542523, 0.140571, -0.28433242, -0.2565046, -0.05376678, 0.15980518, -0.0073799845, -0.28197083, 0.1605216, -0.03273403, -0.023190707, 0.028482616, 0.02866254, 0.2178052, 0.09019671, 0.052278988, 0.061336607, 0.16683066, -0.31540227, -0.019625362, -0.17355925, 0.02343002, -0.018515123, 0.14497948, 0.011320164, -0.3156602, 0.13852714, 0.10553112, -0.044779748, -0.25689107, -0.06320519, 0.25297517, 0.22012936, 0.07603831, 0.0792726, -0.09764494, 0.05466658, 0.17789416, -0.052053563, 0.26565787, 0.00021006167, -0.1526493, 0.12836061, -0.4405348, -0.26161498, 0.12986717, -0.21648112, 0.20075297, -0.44728103, -0.10824932, -0.06369618, 0.1275613, -0.23966262, -0.13780478, -0.046827924, -0.07935211, -0.03928666, -0.25900114, 0.12769607, 0.08089128, -0.10918328, 0.28736144, -0.09079674, 0.18327945, 0.009950456, -0.27137786, -0.015346631, -0.27941808, -0.093986854, -0.16076668, 0.057925873, -0.40844643, -0.32947126, 0.18667138, -0.01637459, 0.17409977, 0.33120197, 0.075517796, 0.048949778, -0.06265739, 0.0670907, 5.528424e-05, -0.00027803052, 0.2049149, 0.3010924, -0.05034807, 0.052502863, 0.10266558, 0.10392622, 0.101448216, 0.0930416, 0.08641965, -0.13062412, ...]</td>\n",
       "      <td>[0.27890137, -0.20730078, -0.21657133, -0.11899415, 0.29705253, 0.13267045, 0.144259, 0.4943046, -0.0672164, 0.10724728, -0.28608358, 0.08189191, -0.1404834, -0.022452347, -0.075431496, -0.13546634, 0.023324817, -0.12881926, -0.3592385, -0.2945941, 0.50179446, 0.21628043, -0.23906408, 0.082132295, 0.015869483, -0.032170683, 0.059255913, 0.29289043, 0.4030633, -0.64645654, -0.20299308, -0.078597784, -0.10301193, -0.4085632, 0.0032864995, -0.40147346, -0.20502825, -0.4041382, 0.6891718, -0.036338326, 0.12626752, 0.028391868, -0.0016252697, 0.369042, 0.25803536, 0.07382333, -0.19590165, 0.035416022, -0.6005479, -0.024783045, 0.3842185, -0.044771258, -0.15902333, -0.1151039, 0.8336, 0.18546708, 0.5050619, -0.16106965, -0.23294158, 0.0684662, 0.20496517, 0.24494071, 0.3122273, 0.45877573, 0.009733893, 0.10309622, 0.114777304, 0.13349582, 0.0892286, 0.15880138, 0.098774984, -0.16649732, 0.1431975, 0.040802434, -0.19765553, -0.08852293, -0.274639, 0.21479043, -0.114407524, 0.5625518, -0.7192221, -0.17440435, -0.7244936, -0.1871125, -0.5983864, -0.47310275, -0.15488116, -0.36789304, -0.14778556, 0.11746228, -0.3866823, 0.08936779, -0.5849571, -0.18929294, 0.30989763, 0.46090806, -0.56554836, 0.05129993, -0.077630825, -0.14868318, ...]</td>\n",
       "      <td>/Users/asiegel/.pixeltable/file_cache/a34a1838d0db4b6297e5c301481ee747_0_3c5b8031c7610e17a42ab6df79e614c2ee1a85dbd022497373d574cf65e15c51</td>\n",
       "    </tr>\n",
       "    <tr>\n",
       "      <td>3</td>\n",
       "      <td>Marc Chagall [a] (born Moishe Shagal ; 6 July [ O.S. 24 June] 1887 – 28 March 1985) was a Russian-French artist. [b] An early modernist , he was associated with the École de Paris as well as several major artistic styles and created works in a wide range of artistic formats, including painting, drawings, book illustrations, stained glass , stage sets, ceramics, tapestries and fine art prints.</td>\n",
       "      <td>Marc Chagall - Wikipedia</td>\n",
       "      <td>{'1': 'Marc Chagall'}</td>\n",
       "      <td>1029</td>\n",
       "      <td>[0.06070795, 0.15527856, -0.18933804, 0.1676786, -0.08854648, 0.17130661, 0.15085012, -0.043867312, 0.15022112, -0.47134027, -0.28864872, -0.17173266, -0.047000878, 0.026633887, -0.06628941, 0.16065459, 0.11814179, 0.13180229, -0.004020047, -0.14932036, 0.17918746, 0.21494934, 0.09146305, 0.038962457, 0.038501732, -0.2523544, 0.2707501, -0.25661966, 0.13307239, -0.39810288, 0.21422932, 0.079853565, -0.2808314, -0.009454813, -0.00704834, 0.052204095, -0.21773988, -0.021139788, 0.11031103, 0.26661894, 0.21084817, 0.32182968, -0.09556146, 0.072593026, 0.12131224, -0.10451728, -0.010188689, -0.037562072, -0.22708271, 0.14353341, -0.37686625, -0.17414235, 0.21614799, -0.45889544, 0.07239775, -0.40199217, 0.07049387, 0.02676736, 0.15950078, -0.24915555, -0.09596315, -0.07551933, 0.19581802, -0.035720993, -0.10169222, -0.08450496, -0.091727786, -0.07791178, 0.12658142, -0.039653488, 0.027229717, 0.08718759, 0.037420988, -0.031369355, 0.021826634, -0.50100785, -0.18308267, 0.24249087, -0.30463615, -0.1627777, 0.39998814, -0.16028915, 0.034172066, 0.2015968, 0.08487637, 0.06755659, -0.050601058, 0.14891133, -0.025254607, -0.0067675593, 0.1215523, 0.16791311, -0.24602473, 0.080474414, -0.012239213, 0.09207286, 0.019633006, 0.24711514, 0.19672461, -0.0031050658, ...]</td>\n",
       "      <td>[0.31319043, -0.1560022, -0.14035743, -0.061735544, 0.42363116, 0.07034189, 0.22905919, 0.76764786, -0.11780238, 0.113086894, -0.18308343, 0.2016515, -0.21681885, 0.041388772, -0.020286843, -0.09577894, -0.111465864, -0.004856445, -0.39506912, -0.18178557, 0.41950294, 0.13025184, -0.0733778, 0.017768443, -0.26477298, 0.031200737, 0.04882873, 0.24986002, 0.32550868, -0.6700022, -0.13368644, -0.16846476, -0.112990335, -0.48804194, 0.059935343, -0.2884813, -0.14705978, -0.20621212, 0.6466737, -0.077737086, 0.025872868, 0.11426908, 0.0791159, 0.368575, 0.25322148, 0.043255813, -0.18690658, 0.032138467, -0.56945956, 0.0041377842, 0.5705812, -0.11751311, -0.06906898, -0.16005844, 0.8113265, 0.29465753, 0.5470754, 0.12775023, -0.23945804, 0.12890235, 0.11779701, 0.17128803, 0.19173062, 0.34948987, 0.0593511, -0.00599128, 0.21449581, 0.17856844, -0.0017768741, -0.026937973, 0.20174496, 0.014691558, 0.15926166, 0.11113167, -0.23153263, -0.12869568, -0.41356862, 0.2590595, -0.12656093, 0.5451278, -0.585286, -0.18912783, -0.5723392, -0.12212754, -0.48440865, -0.5028284, -0.12991165, -0.23104712, -0.28743368, 0.11462467, -0.27056375, 0.023289394, -0.9101886, -0.01346302, 0.33331668, 0.44557577, -0.6020771, 0.09257904, -0.08192372, -0.07527991, ...]</td>\n",
       "      <td>/Users/asiegel/.pixeltable/file_cache/a34a1838d0db4b6297e5c301481ee747_0_3c5b8031c7610e17a42ab6df79e614c2ee1a85dbd022497373d574cf65e15c51</td>\n",
       "    </tr>\n",
       "    <tr>\n",
       "      <td>4</td>\n",
       "      <td>Chagall was born in 1887, into a Jewish family near Vitebsk , today in Belarus , but at that time in the Pale of Settlement of the Russian Empire. Before World War I , he travelled between Saint Petersburg , Paris , and Berlin . During that period, he created his own mixture and style of modern art, based on his ideas of Eastern European and Jewish folklore. He spent the wartime years in his native Belarus, becoming one of the country's most distinguished artists and a member of the modernist avant-garde , founding the Vitebsk Arts College . He later worked in and near Moscow in difficult conditions during hard times in Russia following the Bolshevik Revolution , before leaving again for Paris in 1923. During World War II , he escaped occupied France to the United States, where he lived in New York City for seven years before returning to France in 1948.</td>\n",
       "      <td>Marc Chagall - Wikipedia</td>\n",
       "      <td>{'1': 'Marc Chagall'}</td>\n",
       "      <td>1030</td>\n",
       "      <td>[0.012889067, 0.24784814, -0.6924428, 0.1426121, -0.3790234, 0.25358468, 0.25536245, -0.12604716, 0.116000354, -0.34645474, -0.42178202, 0.019877212, 0.21520866, -0.06495547, -0.15178001, 0.11160548, -0.15971011, 0.06491916, -0.0047337115, -0.33831468, -0.27981135, -0.19120821, 0.3114935, -0.09731045, 0.41788405, -0.36130282, 0.1289389, -0.11600192, -0.041783914, -0.10795093, 0.2949969, -0.13806339, -0.14393348, -0.008052545, 0.016671669, 0.17721409, -0.03954895, -0.10124817, 0.0785659, 0.16309267, 0.18659109, 0.25182652, -0.086883925, 0.08496222, 0.099514656, 0.30495775, 0.17764322, 0.14045668, -0.18228962, 0.042524166, -0.23616257, -0.22173877, 0.12292056, -0.21659315, 0.20440893, -0.26627287, -0.028624976, 0.20077917, 0.17120816, -0.43130222, -0.08327547, -0.26314807, 0.2010209, 0.05320871, -0.23124723, 0.053521108, -0.14058796, -0.009598296, 0.25529027, 0.07367204, 0.108012736, 0.21220206, -0.31999534, -0.011201449, -0.1051358, -0.5790532, -0.09553775, 0.008409397, -0.23266529, -0.08355572, 0.32477862, 0.22916731, 0.07943112, 0.31860423, 0.08367223, 0.026719313, -0.014187841, 0.19423032, 0.059627395, -0.0067669214, 0.5294448, -0.035245955, 0.05879449, -0.06393026, 0.008244172, 0.19260912, 0.016116004, 0.3515519, 0.1926637, -0.24429806, ...]</td>\n",
       "      <td>[0.3260236, 0.06720028, -0.06100463, -0.04561384, 0.2423084, 0.22669676, 0.035891097, 0.2509161, -0.106639236, 0.25306195, -0.19362219, 0.105219536, -0.24750978, -0.022878632, -0.010763168, -0.23732483, 0.020199887, 0.059316933, -0.4728327, -0.07102768, 0.41458455, 0.058558926, -0.16911799, 0.039997205, -0.23728761, 0.15409654, 0.16028914, 0.4212034, 0.2691457, -0.82328445, 0.020973414, -0.09555048, -0.0505076, -0.40467718, -0.10258034, -0.3156195, -0.14072889, -0.45515656, 0.6852393, 0.01587819, 0.21748453, 0.11716142, 0.08289739, 0.39309347, 0.38873634, -0.07149842, -0.20025074, -0.1520394, -0.7935029, 0.13830628, 0.1815696, -0.12217435, -0.04690223, -0.0042369366, 0.75748557, 0.0061985645, 0.36204237, 0.101865456, -0.044472437, 0.02997367, 0.156785, 0.19892272, 0.06683682, 0.56358945, -0.13283905, 0.16568443, 0.16774036, 0.05625753, 0.0010502934, 0.15627444, 0.27494252, -0.16978766, 0.070807844, -0.034206897, -0.037819564, -0.03261423, -0.35324097, -0.019239023, -0.03625813, 0.44367996, -0.54978395, -0.17079037, -0.58789563, -0.14337218, -0.5649993, -0.25570738, -0.06714849, -0.23282252, -0.0035443343, 0.25267553, -0.2822091, -0.14999099, -0.7506616, -0.05953388, 0.23797072, 0.38653335, -0.4898622, 0.0012848079, -0.10379305, -0.20454393, ...]</td>\n",
       "      <td>/Users/asiegel/.pixeltable/file_cache/a34a1838d0db4b6297e5c301481ee747_0_3c5b8031c7610e17a42ab6df79e614c2ee1a85dbd022497373d574cf65e15c51</td>\n",
       "    </tr>\n",
       "    <tr>\n",
       "      <td>5</td>\n",
       "      <td>Art critic Robert Hughes referred to Chagall as \"the quintessential Jewish artist of the twentieth century\". According to art historian Michael J. Lewis, Chagall was considered to be \"the last survivor of the first generation of European modernists\". For decades, he \"had also been respected as the world's pre-eminent Jewish artist\". [15] Using the medium of stained glass, he produced windows for the cathedrals of Reims and Metz as well as the Fraumünster in Zürich , windows for the UN and the Art Institute of Chicago and the Jerusalem Windows in Israel. He also did large-scale paintings, including part of the ceiling of the Paris Opéra . He experienced modernism's \"golden age\" in Paris, where \"he synthesized the art forms of Cubism , Symbolism , and Fauvism , and the influence of Fauvism gave rise to Surrealism \". Yet throughout these phases of his style \"he remained most emphatically a Jewish artist, whose work was one long dreamy reverie of life in his native village of Vitebsk.\" [16] \"When Matisse dies\", Pablo Picasso remarked in the 1950s, \"Chagall will be the only painter left who understands what colour really is\". [17]</td>\n",
       "      <td>Marc Chagall - Wikipedia</td>\n",
       "      <td>{'1': 'Marc Chagall'}</td>\n",
       "      <td>1031</td>\n",
       "      <td>[-0.1718488, 0.34802842, -0.3067041, 0.033759266, -0.07120789, 0.11081593, -0.015894428, -0.13356614, -0.033708245, -0.2419452, -0.44456822, 0.05929219, 0.020918187, 0.14204657, -0.24098685, 0.270058, -0.25892293, 0.045101464, 0.053786207, 0.112981185, -0.08186188, 0.076918334, 0.3056298, -0.1219505, 0.30861628, -0.20567948, 0.19921294, -0.12860534, -0.14399259, -0.060565773, 0.09843977, -0.10340746, -0.26555914, -0.027046643, 0.070481814, 0.07951172, -0.06800346, 0.0012837779, 0.23670606, 0.1605123, 0.08615838, 0.3051123, -0.027099106, -0.17317611, 0.014067065, -0.01578261, 0.12305312, 0.05461803, -0.20789422, 0.11169634, -0.243294, -0.1717479, 0.31153303, -0.477225, 0.08077119, -0.3160271, -0.108076364, -0.060807537, -0.12826538, -0.47114924, -0.11467476, -0.3874791, -0.18139084, 0.17687614, -0.033176806, -0.10800477, -0.113080636, -0.19606844, -0.022167385, 0.08167149, 0.077876404, 0.04912953, 0.019410212, 0.07751435, 0.11992899, -0.27325982, -0.07606392, -0.0123761445, -0.30934036, -0.05539541, 0.49092746, 0.054491326, 0.1359975, 0.29677787, 0.195668, -0.02722781, -0.10856432, 0.039952196, -0.06816634, 0.14353533, 0.10984236, 0.08890318, 0.12124765, 0.23209828, 0.18221292, 0.226612, -0.053041402, 0.17716643, -0.003824023, -0.22502854, ...]</td>\n",
       "      <td>[0.37371883, 0.031517506, -0.31062502, -0.093097195, 0.24152097, 0.26400828, -0.16518655, 0.30133694, -0.08091084, 0.14807537, -0.15886195, 0.14782012, -0.19089215, -0.27328497, 0.027997017, -0.08933134, -0.13361098, -0.011525825, -0.5003743, -0.29616696, 0.43145713, 0.18745854, -0.19747896, 0.17880838, -0.47594684, 0.07138191, 0.33363938, 0.28388476, 0.30272815, -0.7221526, -0.13787824, -0.029895931, -0.13562766, -0.40576217, -0.09930601, -0.34826538, -0.2795905, -0.43808073, 0.6397612, 0.14684781, 0.2334369, 0.14553761, 0.07168442, 0.53430367, 0.036504, 0.011418276, -0.1445462, -0.3075632, -0.5589618, 0.17260133, 0.34423184, -0.15806657, -0.06070686, -0.12075645, 0.47494018, -0.093615875, 0.4080602, 0.031534944, -0.051487587, 0.021138325, 0.12258445, 0.3677423, -0.17544807, 0.6622064, 0.050919354, 0.10766199, 0.2418495, 0.2056752, 0.09901829, 0.010521844, 0.26210117, -0.031790487, 0.09848264, 0.12550955, -0.20656416, -0.17304093, -0.37142733, 0.16360284, -0.27655625, 0.5082086, -0.4015825, -0.13790771, -0.31900492, -0.040414073, -0.57742345, -0.2768371, -0.0019161701, -0.22578019, -0.17013973, 0.17284118, -0.0052040275, -0.21579233, -0.9814019, 0.037708744, 0.08085903, 0.42327997, -0.5028246, 0.038658917, -0.14375632, -0.16322409, ...]</td>\n",
       "      <td>/Users/asiegel/.pixeltable/file_cache/a34a1838d0db4b6297e5c301481ee747_0_3c5b8031c7610e17a42ab6df79e614c2ee1a85dbd022497373d574cf65e15c51</td>\n",
       "    </tr>\n",
       "    <tr>\n",
       "      <td>6</td>\n",
       "      <td>Early life and education [ edit ]</td>\n",
       "      <td>Marc Chagall - Wikipedia</td>\n",
       "      <td>{'1': 'Marc Chagall', '2': 'Early life and education[edit]'}</td>\n",
       "      <td>1034</td>\n",
       "      <td>[-0.21258694, 0.41762605, 0.09400449, 0.13499947, -0.06885149, 0.26491603, -0.12511107, 0.28833583, 0.04579986, 0.22168949, 0.29161087, -0.31456777, -0.31366986, 0.11542555, 0.08831894, 0.056974404, 0.2402763, -0.25183347, -0.12356235, -0.54612905, -0.09656416, 0.0660866, 0.25659195, -0.052964527, 0.4823795, 0.32737747, 0.086159095, -0.071204886, 0.12762076, 0.42564514, 0.02772967, -0.41478524, 0.5348886, -0.45198312, -0.47164515, 0.31659156, 0.8776631, 0.042706072, -0.255907, 0.044347186, -0.14535584, 0.2864719, -0.113270864, 0.19460054, 0.05073829, -0.15815656, 0.25129333, -0.2220522, -0.09832473, -0.12678048, -0.5666925, -0.12103812, 0.03459396, -0.35877624, 0.19099654, 0.32248336, -0.06600305, 0.4256649, -0.23869184, 0.067017615, -0.83746076, -0.26572597, -0.0097357035, 0.70784605, -0.07748319, 0.27188894, -0.06916828, 0.4451362, 0.1913614, -0.33502167, -0.15556404, -0.2711281, 0.118402824, 0.361828, -0.33293796, -0.13884008, 0.040201046, 0.33501458, 0.11592436, -0.79345524, 0.21795018, 0.23458, -0.09650008, 0.24245013, -0.2910435, 0.41454414, -0.4800957, 0.29933104, -0.14576554, -0.29111043, 0.64425385, -0.46670642, -0.48874134, 0.35364032, 0.6117833, 0.20667987, -0.5535579, -0.32985795, -0.13371441, -0.22560607, ...]</td>\n",
       "      <td>[-0.11143042, -0.3177344, 0.043278307, 0.032855134, 0.041524187, -0.5313429, 0.45811015, -0.3606873, 0.054696023, -0.3428524, 0.3170445, -0.19573388, -0.027914956, -0.39266098, -0.026370842, 0.01974721, -0.39866096, -0.070209086, -0.26962164, 0.51094794, 0.32380602, 0.058651097, 0.09770484, -0.007524483, -0.2722217, 0.41854805, 0.2856537, -0.07448056, -0.23930608, -0.14176765, 0.20248072, -0.009274196, 0.43742988, -0.09010367, -0.5735017, -0.35785252, -0.35996717, 0.04306226, -0.035681237, -0.3756672, -0.04626941, 0.13364795, -0.049246185, -0.14865316, -0.15109596, -0.14720687, 0.31307077, -0.1954595, 0.40953222, -0.0045743138, 0.435866, -0.17121388, 0.027291171, -0.0052670687, -0.02731806, -0.30504042, 0.03360878, 0.4287191, 0.24126011, -0.08407598, 0.21431592, -0.4253294, -0.28839022, -0.27269614, -0.36684537, -0.3885652, -0.2741109, 0.4462211, -0.12703028, -0.32499513, -0.053103972, -0.14677432, 0.047115974, -0.060834333, 0.036224555, -0.17463647, 0.15566204, -0.102302015, -0.11055364, 0.052487373, -0.4164579, 0.065115996, 0.01235643, 1.1083236, -0.12187713, 0.15824632, 0.26677424, -0.3387624, 0.29505423, 0.23318543, 0.38895285, -0.49044752, -1.3143318, 0.068582594, 0.12922636, -0.17053914, -0.17255586, 0.51328915, -0.25261456, -0.19256735, ...]</td>\n",
       "      <td>/Users/asiegel/.pixeltable/file_cache/a34a1838d0db4b6297e5c301481ee747_0_3c5b8031c7610e17a42ab6df79e614c2ee1a85dbd022497373d574cf65e15c51</td>\n",
       "    </tr>\n",
       "    <tr>\n",
       "      <td>7</td>\n",
       "      <td>Early life [ edit ] Marc Chagall's childhood home in Vitebsk , Belarus. Currently site of the Marc Chagall Museum . Marc Chagall, 1912, The Spoonful of Milk (La Cuillerée de lait) , gouache on paper</td>\n",
       "      <td>Marc Chagall - Wikipedia</td>\n",
       "      <td>{'1': 'Marc Chagall', '2': 'Early life and education[edit]', '3': 'Early life[edit]'}</td>\n",
       "      <td>1035</td>\n",
       "      <td>[-0.040403567, 0.14281169, -0.35680732, 0.41181752, -0.33060923, 0.20134678, 0.15904729, 0.1680692, 0.23450555, -0.17853774, 0.076216996, -0.23785742, 0.047059476, 0.0723482, -0.5144092, 0.0059390757, 0.11763715, 0.16320866, 0.20046358, -0.31078827, 0.033091, -0.03074765, 0.26112205, -0.040257227, 0.33917278, 0.008225182, -0.21099399, -0.19426702, -0.17069323, -0.15220758, 0.06614052, -0.29302466, -0.16281912, -0.21634808, 0.0507121, 0.36889926, 0.2109983, -0.28517646, 0.046531904, 0.101085275, 0.17541906, 0.27149823, -0.024600174, 0.13682236, -0.073069565, 0.16629833, 0.33900666, -0.0226166, -0.1238528, 0.083200105, -0.60445195, -0.30993247, 0.21716255, -0.29389524, 0.16422015, -0.25379407, 0.059631355, 0.0020764398, 0.3015244, -0.13549966, -0.07433209, -0.2154322, 0.08626243, 0.08691749, -0.27768335, 0.20129625, -0.25110516, 0.100580424, 0.20634235, -0.049445, -0.030263336, -0.07400871, -0.21622524, -0.06387937, -0.32896656, -0.507313, -0.18882531, 0.07538769, -0.36687744, -0.12156589, 0.017601155, -0.00042121453, 0.00610549, 0.0038016152, -0.29164794, 0.097530276, 0.030996814, 0.15973984, -0.16489528, -0.043514118, 0.69870305, 0.05401157, -0.016611714, 0.06936291, 0.02985333, -0.17610958, -0.43028656, 0.2358565, 0.5384827, -0.30086905, ...]</td>\n",
       "      <td>[-0.2106729, 0.1813906, -0.23682462, 0.15844774, 0.33680773, -0.14441323, 0.11554897, 0.8311518, -0.36302215, -0.17966662, -0.42524242, 0.14120685, -0.109049045, 0.38845176, 0.14302501, -0.33268875, -0.3242424, -0.060191467, -0.23298776, 0.4607867, 0.3490119, 0.13597272, -0.43231064, 0.24163917, 0.07982436, 0.04012401, 0.19880758, -0.030124325, 0.38552117, -0.7492682, -0.13019815, -0.0036394075, 0.1128995, -0.0040483996, -0.68424433, -0.24232826, 0.053719036, -0.29459232, 0.5278423, -0.098981336, -0.14561291, 0.025891736, 0.022710666, 0.13442543, -0.03602831, -0.10110382, 0.20455986, 0.0023501068, -0.20882827, -0.007938746, 0.66060054, 0.109627016, -0.28556165, -0.26774395, 0.64127535, 0.14560302, 0.3547237, 0.079871185, -0.49003696, 0.020767748, -0.16763894, -0.19990939, 0.08094209, -0.12488873, -0.1433922, -0.17905958, 0.066211194, 0.33662805, 0.057264388, 0.39783138, -0.017675027, -0.0054890737, 0.2644306, -0.062752895, -0.026210006, 0.28899932, 0.087647706, -0.009886503, -0.24725036, 0.30802214, -0.44759646, -0.062987104, -0.6606446, -0.2001296, -0.1659831, -0.30995846, -0.113578856, -0.40124434, 0.02397404, -0.0061898082, -0.17440921, 0.015801698, -0.4450708, 0.11005801, 0.61295617, 0.23613659, -0.60851413, 0.1676628, 0.021511607, -0.11083612, ...]</td>\n",
       "      <td>/Users/asiegel/.pixeltable/file_cache/a34a1838d0db4b6297e5c301481ee747_0_3c5b8031c7610e17a42ab6df79e614c2ee1a85dbd022497373d574cf65e15c51</td>\n",
       "    </tr>\n",
       "    <tr>\n",
       "      <td>8</td>\n",
       "      <td>Marc Chagall was born Moishe Shagal in 1887, into a Jewish family in Liozna , [1] near the city of Vitebsk , Belarus, then part of the Russian Empire . [c] [18] At the time of his birth, Vitebsk's population was about 66,000. Half of the population was Jewish. [16] A picturesque city of churches and synagogues, it was called \"Russian Toledo \" by artist Ilya Repin , after the cosmopolitan city of the former Spanish Empire . [19] Because the city was built mostly of wood, little of it survived years of occupation and destruction during World War II.</td>\n",
       "      <td>Marc Chagall - Wikipedia</td>\n",
       "      <td>{'1': 'Marc Chagall', '2': 'Early life and education[edit]', '3': 'Early life[edit]'}</td>\n",
       "      <td>1038</td>\n",
       "      <td>[0.12289584, 0.19771095, -0.49609926, 0.15436818, -0.3683883, 0.07807937, 0.3530502, -0.059554473, 0.17041667, -0.09993227, -0.12581128, -0.14822444, 0.1960066, -0.049037382, -0.22496143, -0.11782649, -0.029683743, -0.15135886, -0.07608065, -0.13164505, -0.15614808, -0.1281366, 0.26295242, -0.050093833, 0.508169, -0.37993705, 0.2143076, 0.017430518, -0.11382118, -0.0031905696, 0.13804077, 0.042828385, 0.102564044, -0.037603594, 0.059482064, 0.017253254, 0.10230875, -0.17457339, -0.081567675, -0.030254176, 0.009354096, 0.309923, -0.18747081, 0.15136003, -0.076821506, 0.072804056, 0.0394665, 0.16246986, -0.04693833, -0.057768002, -0.28829083, -0.07179849, 0.11064629, 0.080966555, 0.3141635, -0.31155917, -0.20154503, -0.032710448, 0.22301686, -0.018219613, 0.0082920715, -0.14288127, 0.14590013, 0.1464246, -0.21697515, 0.11366698, 0.041973703, -0.2781005, 0.059859313, -0.14236777, 0.1166666, 0.023176108, -0.15179297, 0.19413717, -0.19074057, -0.4553784, -0.10794483, 0.17236865, -0.319219, -0.10242921, 0.1510283, 0.09995351, 0.13968733, 0.23945294, -0.14752798, 0.08886419, -0.28502, 0.082560085, 0.021981327, 0.10126787, 0.41831374, 0.1802515, 0.14450534, -0.15728228, -0.08622702, -0.16223393, -0.16473386, 0.1673045, 0.024511559, -0.30024892, ...]</td>\n",
       "      <td>[0.27152428, -0.13698247, -0.2572204, -0.08675922, 0.42969704, 0.17921159, 0.22596544, 0.74167085, -0.1986554, 0.023573756, -0.1288221, 0.11156627, -0.2901746, 0.07495565, -0.018235408, -0.18144451, -0.06604696, -0.08419872, -0.43689924, -0.20866485, 0.38949496, 0.051266737, -0.11438696, -0.14504969, -0.14231065, -0.035830826, 0.17235345, 0.3132749, 0.23830715, -0.8352432, -0.20216438, -0.15945658, -0.21852452, -0.3853222, 0.10512352, -0.23563763, -0.2935429, -0.3082856, 0.5636081, 0.09332925, 0.03198697, 0.06579302, -0.030807257, 0.3039636, 0.23006293, 0.044860575, -0.17087252, 0.16843368, -0.56279254, 0.05256664, 0.5561236, -0.12561178, -0.09115761, -0.15193811, 0.95173144, 0.26651013, 0.47748995, 0.11504638, -0.19116402, 0.16940834, 0.17024904, 0.13633826, 0.3252074, 0.3592638, 0.010318585, -0.06500144, 0.19266394, 0.22522259, 0.021036088, 0.07234384, 0.23579478, 0.01980519, 0.1650174, 0.11221548, -0.20417781, -0.12707269, -0.30592173, 0.15413406, -0.0797362, 0.62609667, -0.6972417, -0.3098553, -0.6728849, -0.18736564, -0.4787558, -0.38787156, -0.13616131, -0.36475113, -0.25538492, 0.081598386, -0.23162037, 0.02140272, -0.93636477, -0.11674568, 0.32556087, 0.42079818, -0.62667125, -0.002921909, -0.11793229, -0.1351109, ...]</td>\n",
       "      <td>/Users/asiegel/.pixeltable/file_cache/a34a1838d0db4b6297e5c301481ee747_0_3c5b8031c7610e17a42ab6df79e614c2ee1a85dbd022497373d574cf65e15c51</td>\n",
       "    </tr>\n",
       "    <tr>\n",
       "      <td>9</td>\n",
       "      <td>Chagall was the eldest of nine children. The family name, Shagal, is a variant of the name Segal , which in a Jewish community was usually borne by a Levitic family. [20] His father, Khatskl (Zachar) Shagal, was employed by a herring merchant, and his mother, Feige-Ite, sold groceries from their home. His father worked hard, carrying heavy barrels, earning 20 roubles each month (the average wages across the Russian Empire was 13 roubles a month). Chagall wrote of those early years:</td>\n",
       "      <td>Marc Chagall - Wikipedia</td>\n",
       "      <td>{'1': 'Marc Chagall', '2': 'Early life and education[edit]', '3': 'Early life[edit]'}</td>\n",
       "      <td>1039</td>\n",
       "      <td>[-0.19016051, 0.2662102, -0.40008038, 0.12919344, -0.4931461, 0.06254342, 0.4524838, -0.19770071, 0.35659614, -0.39628673, 0.0752513, -0.034594607, 0.100775726, -5.697031e-05, -0.0431388, 0.21718843, -0.18270254, 0.023722509, -0.08137782, -0.21935253, 0.23643914, -0.18530129, 0.19012834, -0.13759938, 0.29683122, -0.0026679556, 0.2592335, -0.045603562, 0.074348554, -0.15570927, -0.05742962, 0.024905544, 0.15878385, -0.06530662, 0.06710602, 0.1366059, 0.13979799, -0.26153907, 0.15460359, 0.17037603, 0.31496724, 0.1897313, 0.053521436, -0.04389488, -0.4255563, 0.0038219942, 0.18964615, -0.10599321, -0.019261595, 0.14236806, -0.77524954, -0.119407855, 0.32596987, -0.1358735, 0.46525088, -0.2871111, 0.08861766, -0.16499312, 0.15993859, -0.2544725, -0.45596844, -0.20720147, 0.079662286, -0.0106536085, -0.045571707, -0.19634902, -0.2437222, -0.34079152, 0.14983965, 0.025766388, -0.12969424, 0.14368069, 0.07250721, 0.29788, -0.46605885, -0.3884827, -0.16261555, 0.14219214, -0.34438896, -0.11124558, -0.31215012, -0.19792828, 0.09765506, 0.26211566, -0.18964094, 0.18680178, -0.15452722, 0.0019693451, -0.058514655, 0.16725062, 0.28203857, 0.1375037, 0.23745139, -0.045294467, 0.075898126, -0.058001257, 0.08730732, 0.021642098, -0.2295039, -0.06303484, ...]</td>\n",
       "      <td>[0.18217605, -0.07319644, -0.19468212, -0.14967602, 0.27654436, 0.24555618, 0.051268373, 0.34588543, -0.06652638, 0.20431729, -0.16331406, 0.26935354, -0.11542318, 0.009639803, 0.060736224, -0.22838107, -0.114356816, -0.0025013685, -0.38089743, -0.2933352, 0.5265533, 0.14625165, -0.32505187, 0.017311625, -0.3003168, 0.19884071, 0.27903628, 0.46846792, 0.39547157, -0.83511984, 0.07834871, -0.05997783, -0.12875333, -0.43704984, -0.14172675, -0.39207605, -0.11775714, -0.43573603, 0.7732164, -0.042661734, 0.19813177, 0.046419635, 0.04452227, 0.24076807, 0.23203501, 0.0570008, -0.26807785, -0.15271573, -0.8536604, 0.1862087, 0.14610264, -0.15371722, -0.12421906, -0.044895664, 0.71839833, -0.009791836, 0.33814403, 0.096963376, -0.12863003, 0.025278047, 0.12703587, 0.256715, 0.09690946, 0.39806953, -0.1784999, 0.040076897, 0.15242463, 0.25959492, -0.020206124, 0.047548197, 0.33762947, -0.067527674, -0.018146971, -0.011285953, -0.14204751, -0.075025454, -0.37610686, 0.11125929, -0.11869543, 0.44446653, -0.56478745, -0.074560374, -0.5185307, -0.15623264, -0.56246865, -0.32528496, 0.018042564, -0.1616676, -0.068809316, 0.18100347, 0.009668887, -0.29734492, -0.94131565, -0.11885197, 0.19610521, 0.2202949, -0.55619186, -0.15192273, -0.124419, 0.09338665, ...]</td>\n",
       "      <td>/Users/asiegel/.pixeltable/file_cache/a34a1838d0db4b6297e5c301481ee747_0_3c5b8031c7610e17a42ab6df79e614c2ee1a85dbd022497373d574cf65e15c51</td>\n",
       "    </tr>\n",
       "  </tbody>\n",
       "</table>"
      ],
      "text/plain": [
       "   pos                                               text  \\\n",
       "0    0   Marc Chagall - Wikipedia Jump to content Sear...   \n",
       "1    1   Marc Chagall 81 languages Afrikaans Alemannis...   \n",
       "2    2   Marc Chagall Chagall, c. 1920 Born Moishe Sha...   \n",
       "3    3   Marc Chagall [a] (born Moishe Shagal ; 6 July...   \n",
       "4    4   Chagall was born in 1887, into a Jewish famil...   \n",
       "5    5   Art critic Robert Hughes referred to Chagall ...   \n",
       "6    6                  Early life and education [ edit ]   \n",
       "7    7   Early life [ edit ] Marc Chagall's childhood ...   \n",
       "8    8   Marc Chagall was born Moishe Shagal in 1887, ...   \n",
       "9    9   Chagall was the eldest of nine children. The ...   \n",
       "\n",
       "                      title  \\\n",
       "0  Marc Chagall - Wikipedia   \n",
       "1  Marc Chagall - Wikipedia   \n",
       "2  Marc Chagall - Wikipedia   \n",
       "3  Marc Chagall - Wikipedia   \n",
       "4  Marc Chagall - Wikipedia   \n",
       "5  Marc Chagall - Wikipedia   \n",
       "6  Marc Chagall - Wikipedia   \n",
       "7  Marc Chagall - Wikipedia   \n",
       "8  Marc Chagall - Wikipedia   \n",
       "9  Marc Chagall - Wikipedia   \n",
       "\n",
       "                                            headings  sourceline  \\\n",
       "0                                                 {}           0   \n",
       "1                              {'1': 'Marc Chagall'}         820   \n",
       "2                              {'1': 'Marc Chagall'}        1015   \n",
       "3                              {'1': 'Marc Chagall'}        1029   \n",
       "4                              {'1': 'Marc Chagall'}        1030   \n",
       "5                              {'1': 'Marc Chagall'}        1031   \n",
       "6  {'1': 'Marc Chagall', '2': 'Early life and edu...        1034   \n",
       "7  {'1': 'Marc Chagall', '2': 'Early life and edu...        1035   \n",
       "8  {'1': 'Marc Chagall', '2': 'Early life and edu...        1038   \n",
       "9  {'1': 'Marc Chagall', '2': 'Early life and edu...        1039   \n",
       "\n",
       "                                    minilm_embedding  \\\n",
       "0  [-0.26239744, -0.11875608, -0.13270901, 0.0482...   \n",
       "1  [-0.1363125, 0.40063262, -0.53002965, -0.18143...   \n",
       "2  [-0.008921713, 0.2953745, -0.27866575, 0.11898...   \n",
       "3  [0.06070795, 0.15527856, -0.18933804, 0.167678...   \n",
       "4  [0.012889067, 0.24784814, -0.6924428, 0.142612...   \n",
       "5  [-0.1718488, 0.34802842, -0.3067041, 0.0337592...   \n",
       "6  [-0.21258694, 0.41762605, 0.09400449, 0.134999...   \n",
       "7  [-0.040403567, 0.14281169, -0.35680732, 0.4118...   \n",
       "8  [0.12289584, 0.19771095, -0.49609926, 0.154368...   \n",
       "9  [-0.19016051, 0.2662102, -0.40008038, 0.129193...   \n",
       "\n",
       "                                      clip_embedding  \\\n",
       "0  [0.43900743, -0.20442066, -0.3703856, -0.24842...   \n",
       "1  [0.10576726, 0.0062548285, -0.15221648, 0.0432...   \n",
       "2  [0.27890137, -0.20730078, -0.21657133, -0.1189...   \n",
       "3  [0.31319043, -0.1560022, -0.14035743, -0.06173...   \n",
       "4  [0.3260236, 0.06720028, -0.06100463, -0.045613...   \n",
       "5  [0.37371883, 0.031517506, -0.31062502, -0.0930...   \n",
       "6  [-0.11143042, -0.3177344, 0.043278307, 0.03285...   \n",
       "7  [-0.2106729, 0.1813906, -0.23682462, 0.1584477...   \n",
       "8  [0.27152428, -0.13698247, -0.2572204, -0.08675...   \n",
       "9  [0.18217605, -0.07319644, -0.19468212, -0.1496...   \n",
       "\n",
       "                                          source_doc  \n",
       "0  /Users/asiegel/.pixeltable/file_cache/a34a1838...  \n",
       "1  /Users/asiegel/.pixeltable/file_cache/a34a1838...  \n",
       "2  /Users/asiegel/.pixeltable/file_cache/a34a1838...  \n",
       "3  /Users/asiegel/.pixeltable/file_cache/a34a1838...  \n",
       "4  /Users/asiegel/.pixeltable/file_cache/a34a1838...  \n",
       "5  /Users/asiegel/.pixeltable/file_cache/a34a1838...  \n",
       "6  /Users/asiegel/.pixeltable/file_cache/a34a1838...  \n",
       "7  /Users/asiegel/.pixeltable/file_cache/a34a1838...  \n",
       "8  /Users/asiegel/.pixeltable/file_cache/a34a1838...  \n",
       "9  /Users/asiegel/.pixeltable/file_cache/a34a1838...  "
      ]
     },
     "execution_count": 21,
     "metadata": {},
     "output_type": "execute_result"
    }
   ],
   "source": [
    "chunks.head()"
   ]
  }
 ],
 "metadata": {
  "kernelspec": {
   "display_name": "Python 3 (ipykernel)",
   "language": "python",
   "name": "python3"
  },
  "language_info": {
   "codemirror_mode": {
    "name": "ipython",
    "version": 3
   },
   "file_extension": ".py",
   "mimetype": "text/x-python",
   "name": "python",
   "nbconvert_exporter": "python",
   "pygments_lexer": "ipython3",
   "version": "3.9.19"
  }
 },
 "nbformat": 4,
 "nbformat_minor": 5
}
