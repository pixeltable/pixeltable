{
 "cells": [
  {
   "cell_type": "markdown",
   "id": "f4c59543-f758-4210-aae1-8ffa175f3e3d",
   "metadata": {},
   "source": [
    "# RAG Operations in Pixeltable\n",
    "\n",
    "Authors: Marcel Kornacker, Aaron Siegel\n",
    "\n",
    "In this tutorial, we'll explore Pixeltable's flexible handling of RAG operations on unstructured text. In a traditional AI workflow, such operations might be implemented as a Python script that runs on a periodic schedule or in response to certain events. In Pixeltable, as with everything else, they are implemented as persistent table operations that update incrementally as new data becomes available. In our tutorial workflow, we'll chunk Wikipedia articles in various ways with a document splitter, then apply several kinds of embeddings to the chunks.\n",
    "\n",
    "This tutorial is an interactive notebook, and you can follow along by executing the cells one at a time. You'll need to install Pixeltable first, if you haven't already (TODO: link to installation tutorial?), along with the Huggingface `sentence_transformers` package.\n",
    "\n",
    "## Set Up the Table Structure\n",
    "\n",
    "We start by creating a Pixeltable client object."
   ]
  },
  {
   "cell_type": "code",
   "execution_count": null,
   "id": "53a2cca4",
   "metadata": {},
   "outputs": [],
   "source": [
    "import pixeltable as pxt\n",
    "cl = pxt.Client()"
   ]
  },
  {
   "cell_type": "markdown",
   "id": "3dbd7ddf-efd3-4f2e-a520-042a16f8f378",
   "metadata": {},
   "source": [
    "The next few commands create a Pixeltable workspace `rag_demo` (if it doesn't already exist) and set up the table structure for our new workflow."
   ]
  },
  {
   "cell_type": "code",
   "execution_count": null,
   "id": "a6e5554a-440e-4573-be78-624d012948de",
   "metadata": {},
   "outputs": [],
   "source": [
    "# Create the Pixeltable workspace\n",
    "cl.create_dir('rag_demo', ignore_errors=True)\n",
    "\n",
    "# Clean the database to ensure we're using fresh table instances\n",
    "# (in case this demo has been run before)\n",
    "cl.drop_table('rag_demo.short_char_chunks', ignore_errors=True)\n",
    "cl.drop_table('rag_demo.short_chunks', ignore_errors=True)\n",
    "cl.drop_table('rag_demo.chunks', ignore_errors=True)\n",
    "cl.drop_table('rag_demo.sentences', ignore_errors=True)\n",
    "cl.drop_table('rag_demo.docs', ignore_errors=True)"
   ]
  },
  {
   "cell_type": "markdown",
   "id": "90639ba7",
   "metadata": {},
   "source": [
    "## Creating Tables and Views\n",
    "\n",
    "Now we'll create the tables that represent our workflow, starting with a table to hold references to source documents. The table contains a single column `source_doc` whose elements have type `pxt.DocumentType`, representing a general document instance. In this tutorial, we'll be working with HTML documents, but Pixeltable supports a range of other document types, such as Markdown and PDF."
   ]
  },
  {
   "cell_type": "code",
   "execution_count": null,
   "id": "c8371827",
   "metadata": {},
   "outputs": [],
   "source": [
    "docs = cl.create_table('rag_demo.docs', {'source_doc': pxt.DocumentType()})"
   ]
  },
  {
   "cell_type": "markdown",
   "id": "275d07fd-1f16-47b4-b42a-39c613c3bf5c",
   "metadata": {},
   "source": [
    "If we take a peek at the `docs` table, we see its very simple structure. Run the following command:"
   ]
  },
  {
   "cell_type": "code",
   "execution_count": null,
   "id": "d0644d63-991f-4bf4-82d3-7f887eadadbb",
   "metadata": {},
   "outputs": [],
   "source": [
    "docs"
   ]
  },
  {
   "cell_type": "markdown",
   "id": "4e1a701e-5f9d-4f56-a306-c31ff9da6ee7",
   "metadata": {},
   "source": [
    "Next we create a view to represent chunks of our HTML documents. A Pixeltable view is a virtual table, which is dynamically derived from a source table by applying a transformation and/or selecting a subset of data. In this case, our view represents a one-to-many transformation from source documents into individual sentences. This is achived using Pixeltable's built-in `DocumentSplitter` class.\n",
    "\n",
    "Note that the `docs` table is currently empty, so creating this view doesn't actually *do* anything yet: it simply defines an operation that we want Pixeltable to execute when it sees new data."
   ]
  },
  {
   "cell_type": "code",
   "execution_count": null,
   "id": "d074b305",
   "metadata": {},
   "outputs": [],
   "source": [
    "from pixeltable.iterators.document import DocumentSplitter\n",
    "\n",
    "sentences = cl.create_view(\n",
    "    'rag_demo.sentences',  # Name of the view\n",
    "    docs,  # Table from which the view is derived\n",
    "    iterator_class=DocumentSplitter,\n",
    "    iterator_args={\n",
    "        'document': docs.source_doc,\n",
    "        'separators': 'sentence',  # Chunk docs into sentences\n",
    "        'metadata': 'title,headings,sourceline',\n",
    "    })"
   ]
  },
  {
   "cell_type": "markdown",
   "id": "9badf052-7e8d-43b2-9aea-0b20a9409a83",
   "metadata": {},
   "source": [
    "Let's take a peek at the new `sentences` view. Run the following command:"
   ]
  },
  {
   "cell_type": "code",
   "execution_count": null,
   "id": "29b07709",
   "metadata": {},
   "outputs": [],
   "source": [
    "sentences"
   ]
  },
  {
   "cell_type": "markdown",
   "id": "9641a8a0-a7fe-46b8-a2e8-3589e0df2bae",
   "metadata": {},
   "source": [
    "We see that `sentences` inherits the `source_doc` column from `docs`, together with some new fields:\n",
    "- `pos`: The position in the source document where the sentence appears.\n",
    "-  `text`: The text of the sentence.\n",
    "- `title`, `headings`, and `sourceline`: The metadata we requested when we set up the view."
   ]
  },
  {
   "cell_type": "markdown",
   "id": "e53392cb",
   "metadata": {},
   "source": [
    "## Data Ingestion"
   ]
  },
  {
   "cell_type": "markdown",
   "id": "0aec54a3-f5a8-483e-b3b9-c9111929ec74",
   "metadata": {},
   "source": [
    "Ok, now it's time to insert some data into our workflow. A document in Pixeltable is just a URL; the following command inserts a single row into the `docs` table with the `source_doc` field set to the specified URL:"
   ]
  },
  {
   "cell_type": "code",
   "execution_count": null,
   "id": "a718a299",
   "metadata": {},
   "outputs": [],
   "source": [
    "docs.insert(source_doc='https://en.wikipedia.org/wiki/Marc_Chagall')"
   ]
  },
  {
   "cell_type": "markdown",
   "id": "542f97cd-08b9-4001-9d38-10f47bfdd5d0",
   "metadata": {},
   "source": [
    "We can see that two things happened. First, a single row was inserted into `docs`, containing the URL representing our source document. Then, the view `sentences` was incrementally updated by applying the `DocumentSplitter` according to the definition of the view. This illustrates an important principle in Pixeltable: anytime Pixeltable sees new data, the update is incrementally propagated to any downstream views or computed columns.\n",
    "\n",
    "We can see the effect of the insertion with the `select` command. There's a single row in `docs`:"
   ]
  },
  {
   "cell_type": "code",
   "execution_count": null,
   "id": "0bbe8e86-3cec-499f-a30f-58c5073ab42b",
   "metadata": {},
   "outputs": [],
   "source": [
    "docs.select(docs.source_doc.fileurl).show()"
   ]
  },
  {
   "cell_type": "markdown",
   "id": "a2dd8f07-6f5c-426b-a829-51dd8e26f888",
   "metadata": {},
   "source": [
    "And here are the first 50 rows in `sentences`. The content of the article is broken into individual sentences, as expected."
   ]
  },
  {
   "cell_type": "code",
   "execution_count": null,
   "id": "42199e16-559f-4827-940c-1726f83452e5",
   "metadata": {
    "scrolled": true
   },
   "outputs": [],
   "source": [
    "sentences.select(sentences.text, sentences.headings).show(50)"
   ]
  },
  {
   "cell_type": "markdown",
   "id": "9e3abbdd",
   "metadata": {},
   "source": [
    "## Experimenting with Chunking"
   ]
  },
  {
   "cell_type": "markdown",
   "id": "2d229545-79b6-4fdd-be54-f786669533eb",
   "metadata": {},
   "source": [
    "Of course, chunking into sentences isn't the only way to split a document. Perhaps we want to experiment with different chunking methodologies, in order to see which one performs best in a particular application. Pixeltable makes it easy to do this, by creating several views of the same source table. Here are a few examples. Notice that as each new view is created, it is initially populated from the data already in `docs`."
   ]
  },
  {
   "cell_type": "code",
   "execution_count": null,
   "id": "887389a1",
   "metadata": {},
   "outputs": [],
   "source": [
    "chunks = cl.create_view(\n",
    "    'rag_demo.chunks', docs, iterator_class=DocumentSplitter,\n",
    "    iterator_args={\n",
    "        'document': docs.source_doc,\n",
    "        'separators': 'paragraph,token_limit',\n",
    "        'limit': 2048,\n",
    "        'overlap': 0,\n",
    "        'metadata': 'title,headings,sourceline',\n",
    "    })"
   ]
  },
  {
   "cell_type": "code",
   "execution_count": null,
   "id": "fd4c8b8b",
   "metadata": {},
   "outputs": [],
   "source": [
    "short_chunks = cl.create_view(\n",
    "    'rag_demo.short_chunks', docs, iterator_class=DocumentSplitter,\n",
    "    iterator_args={\n",
    "        'document': docs.source_doc,\n",
    "        'separators': 'paragraph,token_limit',\n",
    "        'limit': 72,\n",
    "        'overlap': 0,\n",
    "        'metadata': 'title,headings,sourceline',\n",
    "    })"
   ]
  },
  {
   "cell_type": "code",
   "execution_count": null,
   "id": "096df773",
   "metadata": {},
   "outputs": [],
   "source": [
    "short_char_chunks = cl.create_view(\n",
    "    'rag_demo.short_char_chunks', docs, iterator_class=DocumentSplitter,\n",
    "    iterator_args={\n",
    "        'document': docs.source_doc,\n",
    "        'separators': 'paragraph,char_limit',\n",
    "        'limit': 72,\n",
    "        'overlap': 0,\n",
    "        'metadata': 'title,headings,sourceline',\n",
    "    })"
   ]
  },
  {
   "cell_type": "code",
   "execution_count": null,
   "id": "d8289f0a",
   "metadata": {
    "scrolled": true
   },
   "outputs": [],
   "source": [
    "chunks.select(chunks.text, chunks.headings).show(50)"
   ]
  },
  {
   "cell_type": "code",
   "execution_count": null,
   "id": "c0d453cf",
   "metadata": {
    "scrolled": true
   },
   "outputs": [],
   "source": [
    "short_chunks.select(short_chunks.text, short_chunks.headings).show(50)"
   ]
  },
  {
   "cell_type": "code",
   "execution_count": null,
   "id": "bb32ade8-9727-4ebc-b57a-ff8097aca993",
   "metadata": {
    "scrolled": true
   },
   "outputs": [],
   "source": [
    "short_char_chunks.select(short_char_chunks.text, short_char_chunks.headings).show(50)"
   ]
  },
  {
   "cell_type": "markdown",
   "id": "556d86ab-ef09-43e6-8bff-95caf8b8e45d",
   "metadata": {},
   "source": [
    "Now let's add a few more documents to our workflow. Notice how all of the downstream views are updated incrementally, processing just the new documents as they are inserted."
   ]
  },
  {
   "cell_type": "code",
   "execution_count": null,
   "id": "71735d6a-3f99-46ef-99d7-4783aa6840cb",
   "metadata": {},
   "outputs": [],
   "source": [
    "urls = [\n",
    "    'https://en.wikipedia.org/wiki/Pierre-Auguste_Renoir',\n",
    "    'https://en.wikipedia.org/wiki/Henri_Matisse',\n",
    "    'https://en.wikipedia.org/wiki/Marcel_Duchamp'\n",
    "]\n",
    "docs.insert([{'source_doc': url} for url in urls])"
   ]
  },
  {
   "cell_type": "markdown",
   "id": "bdf1e13c-b038-40ee-b48c-35d514149c62",
   "metadata": {},
   "source": [
    "## Further Experiments\n",
    "\n",
    "This is a good time to mention another important guiding principle of Pixeltable. The preceding examples all used the built-in `DocumentSplitter` class with various configurations. That's probably fine as a first cut or to prototype an application quickly, and it might be sufficient for some applications. But other applications might want to do more sophisticated kinds of chunking, implementing their own specialized logic or leveraging third-party tools. Pixeltable imposes no constraints on the AI or RAG operations a workflow uses: the iterator interface is highly general, and it's easy to implement new operations or adapt existing code or third-party tools into the Pixeltable workflow. Pixeltable manages *data* storage and workflow that is common to all such operations: above the data plane, it's fully general and extensible.\n",
    "\n",
    "TODO: Example of a custom splitter?"
   ]
  },
  {
   "cell_type": "markdown",
   "id": "709a4be2",
   "metadata": {},
   "source": [
    "## Adding embeddings"
   ]
  },
  {
   "cell_type": "markdown",
   "id": "fa455441-bfd1-41cc-a802-a396a2323c4f",
   "metadata": {},
   "source": [
    "Next, let's look at how embeddings can be added seamlessly to existing Pixeltable workflows. To compute our embeddings, we'll use the Huggingface `sentence_transformer` package, running it over the `chunks` view that broke our documents up into larger paragraphs. Pixeltable has a built-in `sentence_transformer` adapter, and all we have to do is add a new column that leverages it. Pixeltable takes care of the rest, applying the new column to all existing data in the view.\n",
    "\n",
    "You may see a lot of output, especially if you're using `sentence_transformers` for the first time."
   ]
  },
  {
   "cell_type": "code",
   "execution_count": null,
   "id": "e0d7ea4a",
   "metadata": {},
   "outputs": [],
   "source": [
    "from pixeltable.functions.huggingface import sentence_transformer, clip\n",
    "\n",
    "minilm_model_id = 'paraphrase-MiniLM-L6-v2'\n",
    "\n",
    "chunks.add_column(minilm_embedding=sentence_transformer(chunks.text, model_id=minilm_model_id))"
   ]
  },
  {
   "cell_type": "markdown",
   "id": "65bb3b1b-04fd-422b-a070-d3faa16033e0",
   "metadata": {},
   "source": [
    "The new column is a *computed column*: it is defined as a function on top of existing data and updated incrementally as new data are added to the workflow. Let's have a look at how the new column affected the `chunks` view."
   ]
  },
  {
   "cell_type": "code",
   "execution_count": null,
   "id": "3cf786cc",
   "metadata": {},
   "outputs": [],
   "source": [
    "chunks"
   ]
  },
  {
   "cell_type": "code",
   "execution_count": null,
   "id": "bc2893b5",
   "metadata": {
    "scrolled": true
   },
   "outputs": [],
   "source": [
    "chunks.head()"
   ]
  },
  {
   "cell_type": "markdown",
   "id": "258f0b29-aa1b-4292-8eb0-9dd3cd89d53b",
   "metadata": {},
   "source": [
    "Similarly, we might want to add a CLIP embedding to our workflow; once again, it's just another computed column:"
   ]
  },
  {
   "cell_type": "code",
   "execution_count": null,
   "id": "bc4811c4",
   "metadata": {},
   "outputs": [],
   "source": [
    "clip_model_id = 'openai/clip-vit-base-patch32'\n",
    "\n",
    "chunks.add_column(clip_embedding=clip(text=chunks.text, model_id=clip_model_id))"
   ]
  },
  {
   "cell_type": "code",
   "execution_count": null,
   "id": "40f446a4",
   "metadata": {},
   "outputs": [],
   "source": [
    "chunks"
   ]
  },
  {
   "cell_type": "code",
   "execution_count": null,
   "id": "695af1d1",
   "metadata": {
    "scrolled": true
   },
   "outputs": [],
   "source": [
    "chunks.head()"
   ]
  }
 ],
 "metadata": {
  "kernelspec": {
   "display_name": "Python 3 (ipykernel)",
   "language": "python",
   "name": "python3"
  },
  "language_info": {
   "codemirror_mode": {
    "name": "ipython",
    "version": 3
   },
   "file_extension": ".py",
   "mimetype": "text/x-python",
   "name": "python",
   "nbconvert_exporter": "python",
   "pygments_lexer": "ipython3",
   "version": "3.11.3"
  }
 },
 "nbformat": 4,
 "nbformat_minor": 5
}
