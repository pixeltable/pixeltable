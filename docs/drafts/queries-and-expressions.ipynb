{
 "cells": [
  {
   "cell_type": "markdown",
   "id": "ba79d33d-7ae2-4f0a-94c3-783f799e1ff4",
   "metadata": {},
   "source": [
    "[![Kaggle](https://kaggle.com/static/images/open-in-kaggle.svg)](https://kaggle.com/kernels/welcome?src=https://github.com/pixeltable/pixeltable/blob/release/docs/release/fundamentals/queries-and-expressions.ipynb)&nbsp;&nbsp;\n",
    "[![Colab](https://colab.research.google.com/assets/colab-badge.svg)](https://colab.research.google.com/github/pixeltable/pixeltable/blob/release/docs/release/fundamentals/queries-and-expressions.ipynb)&nbsp;&nbsp;\n",
    "<a href=\"https://raw.githubusercontent.com/pixeltable/pixeltable/release/docs/release/fundamentals/queries-and-expressions.ipynb\" download><img src=\"https://img.shields.io/badge/%E2%AC%87-Download%20Notebook-blue\" alt=\"Download Notebook\"></a>\n",
    "\n",
    "# Pixeltable Fundamentals\n",
    "\n",
    "## Section 3: Queries and Expressions\n",
    "\n",
    "Welcome to Section 3 of the __Pixeltable Fundamentals__ tutorial, __Queries and Expressions__.\n",
    "\n",
    "Pixeltable expressions can include other expressions and Python constants (such as `100` in the year-over-year example, or `True` in the fourth argument to `draw_bounding_boxes()`) in arbitrary combination. Any expression can become part of a `select()` statement, or be used to define a new computed column. In this section, we'll survey the different kinds of Pixeltable expressions and how to use them."
   ]
  },
  {
   "cell_type": "markdown",
   "id": "1c0ac449-5d46-447e-8e4b-d7e0b6860439",
   "metadata": {},
   "source": [
    "### Column References"
   ]
  },
  {
   "cell_type": "markdown",
   "id": "cfd530a1-96ad-4798-a3db-d6c0de05f532",
   "metadata": {},
   "source": [
    "### JSON Collections (Dicts and Lists)"
   ]
  },
  {
   "cell_type": "markdown",
   "id": "3da013e9-e142-4fdc-bf52-12a9fbb10787",
   "metadata": {},
   "source": [
    "### Function Calls"
   ]
  },
  {
   "cell_type": "markdown",
   "id": "f5f4c17a-61fb-4b89-b05a-20b79edebc91",
   "metadata": {},
   "source": [
    "### Arithmetic and Boolean Operations"
   ]
  },
  {
   "cell_type": "markdown",
   "id": "efba11df-cad4-4487-b572-cf92a0c08017",
   "metadata": {},
   "source": [
    "### Other Expressions"
   ]
  }
 ],
 "metadata": {
  "kernelspec": {
   "display_name": "Python 3 (ipykernel)",
   "language": "python",
   "name": "python3"
  },
  "language_info": {
   "codemirror_mode": {
    "name": "ipython",
    "version": 3
   },
   "file_extension": ".py",
   "mimetype": "text/x-python",
   "name": "python",
   "nbconvert_exporter": "python",
   "pygments_lexer": "ipython3",
   "version": "3.9.19"
  }
 },
 "nbformat": 4,
 "nbformat_minor": 5
}
