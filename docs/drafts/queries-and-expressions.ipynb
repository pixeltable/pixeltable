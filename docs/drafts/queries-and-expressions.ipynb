{
 "cells": [
  {
   "cell_type": "markdown",
   "id": "ba79d33d-7ae2-4f0a-94c3-783f799e1ff4",
   "metadata": {},
   "source": [
    "[![Kaggle](https://kaggle.com/static/images/open-in-kaggle.svg)](https://kaggle.com/kernels/welcome?src=https://github.com/pixeltable/pixeltable/blob/release/docs/release/fundamentals/queries-and-expressions.ipynb)&nbsp;&nbsp;\n",
    "[![Colab](https://colab.research.google.com/assets/colab-badge.svg)](https://colab.research.google.com/github/pixeltable/pixeltable/blob/release/docs/release/fundamentals/queries-and-expressions.ipynb)&nbsp;&nbsp;\n",
    "<a href=\"https://raw.githubusercontent.com/pixeltable/pixeltable/release/docs/release/fundamentals/queries-and-expressions.ipynb\" download><img src=\"https://img.shields.io/badge/%E2%AC%87-Download%20Notebook-blue\" alt=\"Download Notebook\"></a>\n",
    "\n",
    "# Pixeltable Fundamentals\n",
    "\n",
    "## Section 3: Queries and Expressions\n",
    "\n",
    "Welcome to Section 3 of the __Pixeltable Fundamentals__ tutorial, __Queries and Expressions__.\n",
    "\n",
    "In the previous section of this tutorial, [Computed Columns](https://docs.pixeltable.com/docs/computed-columns), we saw how to issue queries over Pixeltable tables, such as:\n",
    "\n",
    "```python\n",
    "pop_t.select(yoy_change=(pop_t.pop_2023 - pop_t.pop_2022)).collect()\n",
    "```\n",
    "\n",
    "We also saw how to define __computed columns__ that become part of the table and are updated automatically when new rows are inserted:\n",
    "\n",
    "```python\n",
    "pop_t.add_column(yoy_change=(pop_t.pop_2023 - pop_t.pop_2022))\n",
    "```\n",
    "\n",
    "Both these examples reference the _Pixeltable expression_ `pop_t.pop_2023 - pop_t.pop_2022`. We've seen a number of other expressions as well, such as the chain of image operations\n",
    "\n",
    "```python\n",
    "t.source.convert('RGBA').rotate(10)\n",
    "```\n",
    "\n",
    "and the model invocation\n",
    "\n",
    "```python\n",
    "detr_for_object_detection(\n",
    "    t.source,\n",
    "    model_id='facebook/detr-resnet-50',\n",
    "    threshold=0.8\n",
    ")\n",
    "```\n",
    "\n",
    "Expressions are the basic building blocks of Pixeltable workloads. An expression can be included in a `select()` statement, which will cause it to be evaluated dynamically, or in an `add_column()` statement, which will add it to the table schema as a computed column. In this section, we'll dive deeper into the different kinds of Pixeltable expressions and their uses. We'll:\n",
    "\n",
    "- Understand the relationship between Pixeltable expressions and query execution\n",
    "- Survey the different types of expressions and queries\n",
    "- Learn more about the Pixeltable type system\n",
    "\n",
    "To get started, let's import the necessary libraries for this tutorial and set up an example table."
   ]
  },
  {
   "cell_type": "code",
   "execution_count": null,
   "id": "af95c4aa-7905-44e9-b387-af512c347b68",
   "metadata": {},
   "outputs": [],
   "source": [
    "%pip install -qU pixeltable datasets timm"
   ]
  },
  {
   "cell_type": "markdown",
   "id": "ba3ff2d8-aafd-45af-b3e0-a86716ccb63a",
   "metadata": {},
   "source": [
    "In this section of the tutorial, we're going to work with a subset of the MNIST dataset, a classic reference database of hand-drawn digits. A copy of the MNIST dataset is hosted on the Hugging Face datasets repository, so we use Pixeltable's built-in Hugging Face data importer to load it into a Pixeltable table."
   ]
  },
  {
   "cell_type": "code",
   "execution_count": 1,
   "id": "7c14c1fe-83fb-48dd-a766-a2b22c9d214a",
   "metadata": {},
   "outputs": [
    {
     "name": "stdout",
     "output_type": "stream",
     "text": [
      "Connected to Pixeltable database at: postgresql+psycopg://postgres:@/pixeltable?host=/Users/asiegel/.pixeltable/pgdata\n",
      "Created directory `demo`.\n"
     ]
    },
    {
     "data": {
      "text/plain": [
       "<pixeltable.catalog.dir.Dir at 0x338ff7d60>"
      ]
     },
     "execution_count": 1,
     "metadata": {},
     "output_type": "execute_result"
    }
   ],
   "source": [
    "import pixeltable as pxt\n",
    "\n",
    "pxt.drop_dir('demo', force=True)\n",
    "pxt.create_dir('demo')"
   ]
  },
  {
   "cell_type": "code",
   "execution_count": 2,
   "id": "c515c6ba-959f-4da0-9bba-872acf2a845c",
   "metadata": {},
   "outputs": [
    {
     "name": "stdout",
     "output_type": "stream",
     "text": [
      "Created table `mnist_tmp_33217005`.\n",
      "Inserting rows into `mnist_tmp_33217005`: 50 rows [00:00, 17081.96 rows/s]\n",
      "Inserted 50 rows with 0 errors.\n"
     ]
    }
   ],
   "source": [
    "import datasets\n",
    "\n",
    "# Download the first 50 images of the MNIST dataset\n",
    "ds = datasets.load_dataset('ylecun/mnist', split='train[:50]')\n",
    "\n",
    "# Import them into a Pixeltable table\n",
    "t = pxt.io.import_huggingface_dataset('demo.mnist', ds)"
   ]
  },
  {
   "cell_type": "code",
   "execution_count": 3,
   "id": "57119aee-d513-4489-a3b5-44f5e2988636",
   "metadata": {
    "scrolled": true
   },
   "outputs": [
    {
     "data": {
      "text/html": [
       "<table border=\"1\" class=\"dataframe\">\n",
       "  <thead>\n",
       "    <tr style=\"text-align: right;\">\n",
       "      <th>image</th>\n",
       "      <th>label</th>\n",
       "    </tr>\n",
       "  </thead>\n",
       "  <tbody>\n",
       "    <tr>\n",
       "      <td><div class=\"pxt_image\" style=\"width:240px;\">\n",
       "                <img src=\"data:image/webp;base64,UklGRjQBAABXRUJQVlA4ICgBAADQBwCdASocABwAPm0wk0ckIyGhKAqogA2JaQATgDkgzcc0Q/qv5Mz5jyK/LHsAfqH/nE8VZwAZu/HNrmpfPK9PqD2yiBgAAAD+/5KsWrCrq9/+//uA5BBHAanH6EKeyCUbw/JEgElql69/9PFyh5Of0/yJ/g1hJ4xNv2eQvCf8fZCYANnho/vwZ88x1zLxm0uHAAqzErrn/ehXSb8I91evqhdrxJv+t+MJ+LAdoxg52UMCJO9asqLG74qmRFwBtwYmLD1qdhs5gA1+mxfu7DEmhoP3Zse+KW10ZX08J4wbCO4c25065frFQq3OieIh4HN9Tigr1hbBN7TjDDNqOJ0yiJXf11Zk6nwdufeBnF1Z3f+1x3lqj0oxvGQ3cBj382LzdHIrvMgAAA==\" width=\"240\" />\n",
       "            </div></td>\n",
       "      <td>5</td>\n",
       "    </tr>\n",
       "    <tr>\n",
       "      <td><div class=\"pxt_image\" style=\"width:240px;\">\n",
       "                <img src=\"data:image/webp;base64,UklGRiQBAABXRUJQVlA4IBgBAADwBwCdASocABwAPm0skEWkIqGYDAYAQAbEtIAIo/9QxwP7NnAHPuZr3mb/VeqL6M3Uq/qqW6nbIzaK/81eOzr0bbbxa+zvuAAA/v72Q3GuFGAD647Uhmi3XcgQoGdu0UqHvqH8f30LmVKupO/7WTRq0i24h/jgzohv3bnndohaOxGyqEvvOYAikAolsRjBMDfq6CaATYlYkJj5P/PYajfMb9AfbAhm9Tb4cPtzk32RJAR8zay3gK9xkPfYZLRnpq6918mnv0b5l1WuWF2hbwAWlTnpuH/DSgnL/d0Q57IMv/CedTiJ75/5zGe/m3/ZfszdKN5Gy3+Tfp3YPZfgmQrK7609nrUsVVoK+tqvi745MvFFZGSRQAAA\" width=\"240\" />\n",
       "            </div></td>\n",
       "      <td>0</td>\n",
       "    </tr>\n",
       "    <tr>\n",
       "      <td><div class=\"pxt_image\" style=\"width:240px;\">\n",
       "                <img src=\"data:image/webp;base64,UklGRgwBAABXRUJQVlA4IAABAADQBgCdASocABwAPmUokEWkIqGYBgBABkS0gAiDWOn/O64Fyc6bdzM/mb0Rf9eMy0WJdalc1libkAWW2NVxNuAA/v64QCovblKmg0f+W0ZZcARl3VFwt3Me2//WBL3XQG9jFMtCbP2/7/8iAx77/63rAOXqXQb4/5fxOfX6dhbdz8RiUBPDGYm3+0zQKd/yJ6nJ/wrrs3PTXnKnmhhuYU8Uxq490SSosQ+XKNkTuELTWbEWLmHhkQyX+ztvzsu2W9YIvpnCZdQJmbCatf/VLzMynv3//DX7wD/xwBwquIjgKds5cDEzbicXGdkuM37Yt4ancr9u1dBaSMfI0UVgoAAA\" width=\"240\" />\n",
       "            </div></td>\n",
       "      <td>4</td>\n",
       "    </tr>\n",
       "  </tbody>\n",
       "</table>"
      ],
      "text/plain": [
       "                                               image label\n",
       "0  <PIL.JpegImagePlugin.JpegImageFile image mode=...     5\n",
       "1  <PIL.JpegImagePlugin.JpegImageFile image mode=...     0\n",
       "2  <PIL.JpegImagePlugin.JpegImageFile image mode=...     4"
      ]
     },
     "execution_count": 3,
     "metadata": {},
     "output_type": "execute_result"
    }
   ],
   "source": [
    "t.head(3)"
   ]
  },
  {
   "cell_type": "markdown",
   "id": "09b94f8b-8568-4e46-a2f3-8b69864c9b2c",
   "metadata": {},
   "source": [
    "### Column References"
   ]
  },
  {
   "cell_type": "markdown",
   "id": "1cd19032-d232-4c38-82eb-b4246cf712ca",
   "metadata": {},
   "source": [
    "The most basic type of expression is a __column reference__: that's what you get when you type, say, `t.image`. An expression by itself is just a Python object; it doesn't contain any actual data, and no data will be loaded until you use the expression in a `select()` query or `add_column()` statement. Here's what we get if we type `t.image` by itself:"
   ]
  },
  {
   "cell_type": "code",
   "execution_count": 4,
   "id": "4fa4ed4e-ee13-4288-a1c8-256c113d8050",
   "metadata": {},
   "outputs": [
    {
     "data": {
      "text/html": [
       "<style type=\"text/css\">\n",
       "#T_9f41e th {\n",
       "  text-align: center;\n",
       "}\n",
       "#T_9f41e_row0_col0, #T_9f41e_row0_col1, #T_9f41e_row0_col2 {\n",
       "  white-space: pre-wrap;\n",
       "  text-align: left;\n",
       "}\n",
       "</style>\n",
       "<table id=\"T_9f41e\">\n",
       "  <thead>\n",
       "    <tr>\n",
       "      <th id=\"T_9f41e_level0_col0\" class=\"col_heading level0 col0\" >Column Name</th>\n",
       "      <th id=\"T_9f41e_level0_col1\" class=\"col_heading level0 col1\" >Type</th>\n",
       "      <th id=\"T_9f41e_level0_col2\" class=\"col_heading level0 col2\" >Computed With</th>\n",
       "    </tr>\n",
       "  </thead>\n",
       "  <tbody>\n",
       "    <tr>\n",
       "      <td id=\"T_9f41e_row0_col0\" class=\"data row0 col0\" >image</td>\n",
       "      <td id=\"T_9f41e_row0_col1\" class=\"data row0 col1\" >Image</td>\n",
       "      <td id=\"T_9f41e_row0_col2\" class=\"data row0 col2\" ></td>\n",
       "    </tr>\n",
       "  </tbody>\n",
       "</table>\n"
      ],
      "text/plain": [
       "ColumnRef(Column(0, 'image', tbl='mnist_tmp_33217005'))"
      ]
     },
     "execution_count": 4,
     "metadata": {},
     "output_type": "execute_result"
    }
   ],
   "source": [
    "t.image"
   ]
  },
  {
   "cell_type": "markdown",
   "id": "7bc642b7-22f9-43de-acb2-bde0242e024c",
   "metadata": {},
   "source": [
    "This is true of all Pixeltable expressions: we can freely create them and manipulate them in various ways, but no actual data will be loaded until we use them in a query."
   ]
  },
  {
   "cell_type": "markdown",
   "id": "cfd530a1-96ad-4798-a3db-d6c0de05f532",
   "metadata": {},
   "source": [
    "### JSON Collections (Dicts and Lists)"
   ]
  },
  {
   "cell_type": "markdown",
   "id": "8b20135d-7479-40aa-bf58-b6a7668d9538",
   "metadata": {},
   "source": [
    "Data is commonly presented in JSON format; for example, API responses and model output often take the shape of JSON dictionaries or lists of dictionaries. Pixeltable has native support for JSON accessors. To demonstrate this, let's run an image classification model against the images in our dataset."
   ]
  },
  {
   "cell_type": "code",
   "execution_count": 8,
   "id": "212b5bb4-af25-42a8-b936-209372c9f4bd",
   "metadata": {},
   "outputs": [
    {
     "name": "stdout",
     "output_type": "stream",
     "text": [
      "Computing cells: 100%|██████████████████████████████████████████| 50/50 [00:01<00:00, 30.87 cells/s]\n",
      "Added 50 column values with 0 errors.\n"
     ]
    },
    {
     "data": {
      "text/plain": [
       "UpdateStatus(num_rows=50, num_computed_values=50, num_excs=0, updated_cols=[], cols_with_excs=[])"
      ]
     },
     "execution_count": 8,
     "metadata": {},
     "output_type": "execute_result"
    }
   ],
   "source": [
    "from pixeltable.functions.huggingface import vit_for_image_classification\n",
    "\n",
    "t.add_column(classification=vit_for_image_classification(\n",
    "    t.image, model_id='farleyknight-org-username/vit-base-mnist'\n",
    "))"
   ]
  },
  {
   "cell_type": "code",
   "execution_count": 10,
   "id": "d3521b63-dfc6-4ca8-aadf-2f48aca5525c",
   "metadata": {
    "scrolled": true
   },
   "outputs": [
    {
     "data": {
      "text/html": [
       "<table border=\"1\" class=\"dataframe\">\n",
       "  <thead>\n",
       "    <tr style=\"text-align: right;\">\n",
       "      <th>classification</th>\n",
       "    </tr>\n",
       "  </thead>\n",
       "  <tbody>\n",
       "    <tr>\n",
       "      <td>[{&quot;p&quot;: 0.981, &quot;class&quot;: 5, &quot;label&quot;: &quot;5&quot;}, {&quot;p&quot;: 0.013, &quot;class&quot;: 3, &quot;label&quot;: &quot;3&quot;}, {&quot;p&quot;: 0.002, &quot;class&quot;: 2, &quot;label&quot;: &quot;2&quot;}, {&quot;p&quot;: 0.001, &quot;class&quot;: 8, &quot;label&quot;: &quot;8&quot;}, {&quot;p&quot;: 0.001, &quot;class&quot;: 7, &quot;label&quot;: &quot;7&quot;}]</td>\n",
       "    </tr>\n",
       "    <tr>\n",
       "      <td>[{&quot;p&quot;: 0.997, &quot;class&quot;: 0, &quot;label&quot;: &quot;0&quot;}, {&quot;p&quot;: 0., &quot;class&quot;: 6, &quot;label&quot;: &quot;6&quot;}, {&quot;p&quot;: 0., &quot;class&quot;: 9, &quot;label&quot;: &quot;9&quot;}, {&quot;p&quot;: 0., &quot;class&quot;: 8, &quot;label&quot;: &quot;8&quot;}, {&quot;p&quot;: 0., &quot;class&quot;: 1, &quot;label&quot;: &quot;1&quot;}]</td>\n",
       "    </tr>\n",
       "    <tr>\n",
       "      <td>[{&quot;p&quot;: 0.997, &quot;class&quot;: 4, &quot;label&quot;: &quot;4&quot;}, {&quot;p&quot;: 0.001, &quot;class&quot;: 1, &quot;label&quot;: &quot;1&quot;}, {&quot;p&quot;: 0., &quot;class&quot;: 9, &quot;label&quot;: &quot;9&quot;}, {&quot;p&quot;: 0., &quot;class&quot;: 7, &quot;label&quot;: &quot;7&quot;}, {&quot;p&quot;: 0., &quot;class&quot;: 0, &quot;label&quot;: &quot;0&quot;}]</td>\n",
       "    </tr>\n",
       "  </tbody>\n",
       "</table>"
      ],
      "text/plain": [
       "                                      classification\n",
       "0  [{'p': 0.9808604717254639, 'class': 5, 'label'...\n",
       "1  [{'p': 0.9970186948776245, 'class': 0, 'label'...\n",
       "2  [{'p': 0.9972391128540039, 'class': 4, 'label'..."
      ]
     },
     "execution_count": 10,
     "metadata": {},
     "output_type": "execute_result"
    }
   ],
   "source": [
    "t.select(t.classification).head(3)"
   ]
  },
  {
   "cell_type": "markdown",
   "id": "a2402dfa-51df-4d72-87dc-2d18b9ee7e18",
   "metadata": {},
   "source": [
    "We see that the output is returned as a list of dicts, each containing a class number, a label (in this case, just the string form of the class number), and a probability. The Pixeltable type of the `classification` column is `pxt.Json`:"
   ]
  },
  {
   "cell_type": "code",
   "execution_count": 11,
   "id": "17aee8c7-351f-41f5-ae10-9937314d70d6",
   "metadata": {},
   "outputs": [
    {
     "data": {
      "text/html": [
       "<style type=\"text/css\">\n",
       "#T_f8039 th {\n",
       "  text-align: center;\n",
       "}\n",
       "#T_f8039_row0_col0, #T_f8039_row0_col1, #T_f8039_row0_col2, #T_f8039_row1_col0, #T_f8039_row1_col1, #T_f8039_row1_col2, #T_f8039_row2_col0, #T_f8039_row2_col1, #T_f8039_row2_col2, #T_f8039_row3_col0, #T_f8039_row3_col1, #T_f8039_row3_col2, #T_f8039_row4_col0, #T_f8039_row4_col1, #T_f8039_row4_col2 {\n",
       "  white-space: pre-wrap;\n",
       "  text-align: left;\n",
       "}\n",
       "</style>\n",
       "<table id=\"T_f8039\">\n",
       "  <thead>\n",
       "    <tr>\n",
       "      <th id=\"T_f8039_level0_col0\" class=\"col_heading level0 col0\" >Column Name</th>\n",
       "      <th id=\"T_f8039_level0_col1\" class=\"col_heading level0 col1\" >Type</th>\n",
       "      <th id=\"T_f8039_level0_col2\" class=\"col_heading level0 col2\" >Computed With</th>\n",
       "    </tr>\n",
       "  </thead>\n",
       "  <tbody>\n",
       "    <tr>\n",
       "      <td id=\"T_f8039_row0_col0\" class=\"data row0 col0\" >image</td>\n",
       "      <td id=\"T_f8039_row0_col1\" class=\"data row0 col1\" >Image</td>\n",
       "      <td id=\"T_f8039_row0_col2\" class=\"data row0 col2\" ></td>\n",
       "    </tr>\n",
       "    <tr>\n",
       "      <td id=\"T_f8039_row1_col0\" class=\"data row1 col0\" >label</td>\n",
       "      <td id=\"T_f8039_row1_col1\" class=\"data row1 col1\" >String</td>\n",
       "      <td id=\"T_f8039_row1_col2\" class=\"data row1 col2\" ></td>\n",
       "    </tr>\n",
       "    <tr>\n",
       "      <td id=\"T_f8039_row2_col0\" class=\"data row2 col0\" >test2</td>\n",
       "      <td id=\"T_f8039_row2_col1\" class=\"data row2 col1\" >Required[Json]</td>\n",
       "      <td id=\"T_f8039_row2_col2\" class=\"data row2 col2\" >detr_for_object_detection(image, model_id='fxmarty/resnet-tiny-mnist')</td>\n",
       "    </tr>\n",
       "    <tr>\n",
       "      <td id=\"T_f8039_row3_col0\" class=\"data row3 col0\" >test3</td>\n",
       "      <td id=\"T_f8039_row3_col1\" class=\"data row3 col1\" >Required[Json]</td>\n",
       "      <td id=\"T_f8039_row3_col2\" class=\"data row3 col2\" >detr_for_object_detection(image, model_id='fxmarty/resnet-tiny-mnist', revision='main')</td>\n",
       "    </tr>\n",
       "    <tr>\n",
       "      <td id=\"T_f8039_row4_col0\" class=\"data row4 col0\" >classification</td>\n",
       "      <td id=\"T_f8039_row4_col1\" class=\"data row4 col1\" >Required[Json]</td>\n",
       "      <td id=\"T_f8039_row4_col2\" class=\"data row4 col2\" >vit_for_image_classification(image, model_id='farleyknight-org-username/vit-base-mnist')</td>\n",
       "    </tr>\n",
       "  </tbody>\n",
       "</table>\n"
      ],
      "text/plain": [
       "table 'mnist'\n",
       "\n",
       "   Column Name           Type                                                                            Computed With\n",
       "         image          Image                                                                                         \n",
       "         label         String                                                                                         \n",
       "         test2 Required[Json]                   detr_for_object_detection(image, model_id='fxmarty/resnet-tiny-mnist')\n",
       "         test3 Required[Json]  detr_for_object_detection(image, model_id='fxmarty/resnet-tiny-mnist', revision='main')\n",
       "classification Required[Json] vit_for_image_classification(image, model_id='farleyknight-org-username/vit-base-mnist')"
      ]
     },
     "execution_count": 11,
     "metadata": {},
     "output_type": "execute_result"
    }
   ],
   "source": [
    "t"
   ]
  },
  {
   "cell_type": "markdown",
   "id": "9bfc6d8e-9a61-4399-8689-974caef19b24",
   "metadata": {},
   "source": [
    "Pixeltable provides a range of operators on `Json`-typed output that behave just as you'd expect. To select a specific entry from a list, use the syntax `t.classification[0]`:"
   ]
  },
  {
   "cell_type": "code",
   "execution_count": 12,
   "id": "56f8cc75-42f2-4b03-be14-aadda41da31e",
   "metadata": {},
   "outputs": [
    {
     "data": {
      "text/html": [
       "<table border=\"1\" class=\"dataframe\">\n",
       "  <thead>\n",
       "    <tr style=\"text-align: right;\">\n",
       "      <th>classification_0</th>\n",
       "    </tr>\n",
       "  </thead>\n",
       "  <tbody>\n",
       "    <tr>\n",
       "      <td>{&quot;p&quot;: 0.981, &quot;class&quot;: 5, &quot;label&quot;: &quot;5&quot;}</td>\n",
       "    </tr>\n",
       "    <tr>\n",
       "      <td>{&quot;p&quot;: 0.997, &quot;class&quot;: 0, &quot;label&quot;: &quot;0&quot;}</td>\n",
       "    </tr>\n",
       "    <tr>\n",
       "      <td>{&quot;p&quot;: 0.997, &quot;class&quot;: 4, &quot;label&quot;: &quot;4&quot;}</td>\n",
       "    </tr>\n",
       "  </tbody>\n",
       "</table>"
      ],
      "text/plain": [
       "                                    classification_0\n",
       "0  {'p': 0.9808604717254639, 'class': 5, 'label':...\n",
       "1  {'p': 0.9970186948776245, 'class': 0, 'label':...\n",
       "2  {'p': 0.9972391128540039, 'class': 4, 'label':..."
      ]
     },
     "execution_count": 12,
     "metadata": {},
     "output_type": "execute_result"
    }
   ],
   "source": [
    "t.select(t.classification[0]).head(3)"
   ]
  },
  {
   "cell_type": "markdown",
   "id": "73d8eb1c-d449-4990-b643-4e4e729fd29f",
   "metadata": {},
   "source": [
    "`t.classification[0]` is another Pixeltable expression; you can think of it as saying, \"extract element 0 from every list in the column `t.classification`, and return the result as a new column.\" As before, the expression by itself contains no data; it's the query that actually does the work of retrieving data. Here's what we see if we just give the expression by itself, without a query:"
   ]
  },
  {
   "cell_type": "code",
   "execution_count": 13,
   "id": "eb2653ad-c389-486a-a103-e9af543fde90",
   "metadata": {},
   "outputs": [
    {
     "data": {
      "text/plain": [
       "<pixeltable.exprs.json_path.JsonPath at 0x458524ac0>"
      ]
     },
     "execution_count": 13,
     "metadata": {},
     "output_type": "execute_result"
    }
   ],
   "source": [
    "t.classification[0]"
   ]
  },
  {
   "cell_type": "markdown",
   "id": "0c90d66d-9013-44ea-9e16-490bccbe15d1",
   "metadata": {},
   "source": [
    "Pixeltable supports slicing over lists in the usual way:"
   ]
  },
  {
   "cell_type": "code",
   "execution_count": 14,
   "id": "e7e8138d-95b2-48bb-8f5d-f427128e22e2",
   "metadata": {},
   "outputs": [
    {
     "data": {
      "text/html": [
       "<table border=\"1\" class=\"dataframe\">\n",
       "  <thead>\n",
       "    <tr style=\"text-align: right;\">\n",
       "      <th>classification_02</th>\n",
       "    </tr>\n",
       "  </thead>\n",
       "  <tbody>\n",
       "    <tr>\n",
       "      <td>[{&quot;p&quot;: 0.981, &quot;class&quot;: 5, &quot;label&quot;: &quot;5&quot;}, {&quot;p&quot;: 0.013, &quot;class&quot;: 3, &quot;label&quot;: &quot;3&quot;}]</td>\n",
       "    </tr>\n",
       "    <tr>\n",
       "      <td>[{&quot;p&quot;: 0.997, &quot;class&quot;: 0, &quot;label&quot;: &quot;0&quot;}, {&quot;p&quot;: 0., &quot;class&quot;: 6, &quot;label&quot;: &quot;6&quot;}]</td>\n",
       "    </tr>\n",
       "    <tr>\n",
       "      <td>[{&quot;p&quot;: 0.997, &quot;class&quot;: 4, &quot;label&quot;: &quot;4&quot;}, {&quot;p&quot;: 0.001, &quot;class&quot;: 1, &quot;label&quot;: &quot;1&quot;}]</td>\n",
       "    </tr>\n",
       "  </tbody>\n",
       "</table>"
      ],
      "text/plain": [
       "                                   classification_02\n",
       "0  [{'p': 0.9808604717254639, 'class': 5, 'label'...\n",
       "1  [{'p': 0.9970186948776245, 'class': 0, 'label'...\n",
       "2  [{'p': 0.9972391128540039, 'class': 4, 'label'..."
      ]
     },
     "execution_count": 14,
     "metadata": {},
     "output_type": "execute_result"
    }
   ],
   "source": [
    "t.select(t.classification[0:2]).head(3)"
   ]
  },
  {
   "cell_type": "markdown",
   "id": "e8c10a76-050f-4334-8e86-80e54279da98",
   "metadata": {},
   "source": [
    "As well as to look up values in a dictionary:"
   ]
  },
  {
   "cell_type": "code",
   "execution_count": 15,
   "id": "353400f3-52f0-4680-8908-d75da97b37c3",
   "metadata": {},
   "outputs": [
    {
     "data": {
      "text/html": [
       "<table border=\"1\" class=\"dataframe\">\n",
       "  <thead>\n",
       "    <tr style=\"text-align: right;\">\n",
       "      <th>classification_0_class</th>\n",
       "    </tr>\n",
       "  </thead>\n",
       "  <tbody>\n",
       "    <tr>\n",
       "      <td>5</td>\n",
       "    </tr>\n",
       "    <tr>\n",
       "      <td>0</td>\n",
       "    </tr>\n",
       "    <tr>\n",
       "      <td>4</td>\n",
       "    </tr>\n",
       "  </tbody>\n",
       "</table>"
      ],
      "text/plain": [
       "   classification_0_class\n",
       "0                       5\n",
       "1                       0\n",
       "2                       4"
      ]
     },
     "execution_count": 15,
     "metadata": {},
     "output_type": "execute_result"
    }
   ],
   "source": [
    "t.select(t.classification[0]['label']).head(3)"
   ]
  },
  {
   "cell_type": "markdown",
   "id": "d809da69-3db6-4a9e-a4b1-7350358923dc",
   "metadata": {},
   "source": [
    "You can also use \"attribute\" syntax for dictionary lookups:"
   ]
  },
  {
   "cell_type": "code",
   "execution_count": 17,
   "id": "be58ac2e-648e-4922-be20-82b5168de813",
   "metadata": {},
   "outputs": [
    {
     "data": {
      "text/html": [
       "<table border=\"1\" class=\"dataframe\">\n",
       "  <thead>\n",
       "    <tr style=\"text-align: right;\">\n",
       "      <th>classification_0_p</th>\n",
       "    </tr>\n",
       "  </thead>\n",
       "  <tbody>\n",
       "    <tr>\n",
       "      <td>0.981</td>\n",
       "    </tr>\n",
       "    <tr>\n",
       "      <td>0.997</td>\n",
       "    </tr>\n",
       "    <tr>\n",
       "      <td>0.997</td>\n",
       "    </tr>\n",
       "  </tbody>\n",
       "</table>"
      ],
      "text/plain": [
       "   classification_0_p\n",
       "0            0.980860\n",
       "1            0.997019\n",
       "2            0.997239"
      ]
     },
     "execution_count": 17,
     "metadata": {},
     "output_type": "execute_result"
    }
   ],
   "source": [
    "t.select(t.classification[0].label).head(3)"
   ]
  },
  {
   "cell_type": "markdown",
   "id": "fe2da061-9485-4f79-9fa8-1d294cde3c62",
   "metadata": {},
   "source": [
    "The \"attribute\" syntax isn't fully general (it won't work for dictionary keys that are not valid Python identifiers), but it's handy when it works.\n",
    "\n",
    "Pixeltable is resilient against out-of-bounds indices or dictionary keys. If an index or key doesn't exist for a particular row, you'll get a `None` output for that row."
   ]
  },
  {
   "cell_type": "code",
   "execution_count": 21,
   "id": "fcf6932e-b9e7-420c-8c9a-9c72a3b0f1b1",
   "metadata": {},
   "outputs": [
    {
     "data": {
      "text/html": [
       "<table border=\"1\" class=\"dataframe\">\n",
       "  <thead>\n",
       "    <tr style=\"text-align: right;\">\n",
       "      <th>classification_0_notakey</th>\n",
       "    </tr>\n",
       "  </thead>\n",
       "  <tbody>\n",
       "    <tr>\n",
       "      <td>None</td>\n",
       "    </tr>\n",
       "    <tr>\n",
       "      <td>None</td>\n",
       "    </tr>\n",
       "    <tr>\n",
       "      <td>None</td>\n",
       "    </tr>\n",
       "  </tbody>\n",
       "</table>"
      ],
      "text/plain": [
       "  classification_0_notakey\n",
       "0                     None\n",
       "1                     None\n",
       "2                     None"
      ]
     },
     "execution_count": 21,
     "metadata": {},
     "output_type": "execute_result"
    }
   ],
   "source": [
    "t.select(t.classification[0].not_a_key).head(3)"
   ]
  },
  {
   "cell_type": "markdown",
   "id": "35e60ade-dcc5-4638-b6bf-3ede6c85353f",
   "metadata": {},
   "source": [
    "As always, any expression can be used to create a computed column."
   ]
  },
  {
   "cell_type": "code",
   "execution_count": 20,
   "id": "bb69e6a9-49cc-4fd9-9493-27b193003950",
   "metadata": {},
   "outputs": [
    {
     "data": {
      "text/html": [
       "<style type=\"text/css\">\n",
       "#T_98443 th {\n",
       "  text-align: center;\n",
       "}\n",
       "#T_98443_row0_col0, #T_98443_row0_col1, #T_98443_row0_col2, #T_98443_row1_col0, #T_98443_row1_col1, #T_98443_row1_col2, #T_98443_row2_col0, #T_98443_row2_col1, #T_98443_row2_col2, #T_98443_row3_col0, #T_98443_row3_col1, #T_98443_row3_col2, #T_98443_row4_col0, #T_98443_row4_col1, #T_98443_row4_col2, #T_98443_row5_col0, #T_98443_row5_col1, #T_98443_row5_col2 {\n",
       "  white-space: pre-wrap;\n",
       "  text-align: left;\n",
       "}\n",
       "</style>\n",
       "<table id=\"T_98443\">\n",
       "  <thead>\n",
       "    <tr>\n",
       "      <th id=\"T_98443_level0_col0\" class=\"col_heading level0 col0\" >Column Name</th>\n",
       "      <th id=\"T_98443_level0_col1\" class=\"col_heading level0 col1\" >Type</th>\n",
       "      <th id=\"T_98443_level0_col2\" class=\"col_heading level0 col2\" >Computed With</th>\n",
       "    </tr>\n",
       "  </thead>\n",
       "  <tbody>\n",
       "    <tr>\n",
       "      <td id=\"T_98443_row0_col0\" class=\"data row0 col0\" >image</td>\n",
       "      <td id=\"T_98443_row0_col1\" class=\"data row0 col1\" >Image</td>\n",
       "      <td id=\"T_98443_row0_col2\" class=\"data row0 col2\" ></td>\n",
       "    </tr>\n",
       "    <tr>\n",
       "      <td id=\"T_98443_row1_col0\" class=\"data row1 col0\" >label</td>\n",
       "      <td id=\"T_98443_row1_col1\" class=\"data row1 col1\" >String</td>\n",
       "      <td id=\"T_98443_row1_col2\" class=\"data row1 col2\" ></td>\n",
       "    </tr>\n",
       "    <tr>\n",
       "      <td id=\"T_98443_row2_col0\" class=\"data row2 col0\" >test2</td>\n",
       "      <td id=\"T_98443_row2_col1\" class=\"data row2 col1\" >Required[Json]</td>\n",
       "      <td id=\"T_98443_row2_col2\" class=\"data row2 col2\" >detr_for_object_detection(image, model_id='fxmarty/resnet-tiny-mnist')</td>\n",
       "    </tr>\n",
       "    <tr>\n",
       "      <td id=\"T_98443_row3_col0\" class=\"data row3 col0\" >test3</td>\n",
       "      <td id=\"T_98443_row3_col1\" class=\"data row3 col1\" >Required[Json]</td>\n",
       "      <td id=\"T_98443_row3_col2\" class=\"data row3 col2\" >detr_for_object_detection(image, model_id='fxmarty/resnet-tiny-mnist', revision='main')</td>\n",
       "    </tr>\n",
       "    <tr>\n",
       "      <td id=\"T_98443_row4_col0\" class=\"data row4 col0\" >classification</td>\n",
       "      <td id=\"T_98443_row4_col1\" class=\"data row4 col1\" >Required[Json]</td>\n",
       "      <td id=\"T_98443_row4_col2\" class=\"data row4 col2\" >vit_for_image_classification(image, model_id='farleyknight-org-username/vit-base-mnist')</td>\n",
       "    </tr>\n",
       "    <tr>\n",
       "      <td id=\"T_98443_row5_col0\" class=\"data row5 col0\" >pred_label</td>\n",
       "      <td id=\"T_98443_row5_col1\" class=\"data row5 col1\" >Required[Json]</td>\n",
       "      <td id=\"T_98443_row5_col2\" class=\"data row5 col2\" >classification[0].label</td>\n",
       "    </tr>\n",
       "  </tbody>\n",
       "</table>\n"
      ],
      "text/plain": [
       "table 'mnist'\n",
       "\n",
       "   Column Name           Type                                                                            Computed With\n",
       "         image          Image                                                                                         \n",
       "         label         String                                                                                         \n",
       "         test2 Required[Json]                   detr_for_object_detection(image, model_id='fxmarty/resnet-tiny-mnist')\n",
       "         test3 Required[Json]  detr_for_object_detection(image, model_id='fxmarty/resnet-tiny-mnist', revision='main')\n",
       "classification Required[Json] vit_for_image_classification(image, model_id='farleyknight-org-username/vit-base-mnist')\n",
       "    pred_label Required[Json]                                                                  classification[0].label"
      ]
     },
     "execution_count": 20,
     "metadata": {},
     "output_type": "execute_result"
    }
   ],
   "source": [
    "t.add_column(pred_label=t.classification[0].label)\n",
    "t"
   ]
  },
  {
   "cell_type": "markdown",
   "id": "3da013e9-e142-4fdc-bf52-12a9fbb10787",
   "metadata": {},
   "source": [
    "### Function Calls"
   ]
  },
  {
   "cell_type": "code",
   "execution_count": null,
   "id": "d9ecd5c6-66d1-4315-8240-774d90f6034c",
   "metadata": {},
   "outputs": [],
   "source": []
  },
  {
   "cell_type": "markdown",
   "id": "f5f4c17a-61fb-4b89-b05a-20b79edebc91",
   "metadata": {},
   "source": [
    "### Arithmetic and Boolean Operations"
   ]
  },
  {
   "cell_type": "markdown",
   "id": "efba11df-cad4-4487-b572-cf92a0c08017",
   "metadata": {},
   "source": [
    "### Other Expressions"
   ]
  }
 ],
 "metadata": {
  "kernelspec": {
   "display_name": "Python 3 (ipykernel)",
   "language": "python",
   "name": "python3"
  },
  "language_info": {
   "codemirror_mode": {
    "name": "ipython",
    "version": 3
   },
   "file_extension": ".py",
   "mimetype": "text/x-python",
   "name": "python",
   "nbconvert_exporter": "python",
   "pygments_lexer": "ipython3",
   "version": "3.9.19"
  }
 },
 "nbformat": 4,
 "nbformat_minor": 5
}
