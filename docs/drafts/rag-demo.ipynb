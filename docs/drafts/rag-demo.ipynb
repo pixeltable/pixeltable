{
 "cells": [
  {
   "cell_type": "markdown",
   "id": "f4c59543-f758-4210-aae1-8ffa175f3e3d",
   "metadata": {},
   "source": [
    "[![Kaggle](https://kaggle.com/static/images/open-in-kaggle.svg)](https://kaggle.com/kernels/welcome?src=https://github.com/pixeltable/pixeltable/blob/master/docs/release/tutorials/rag-operations.ipynb)&nbsp;&nbsp;\n",
    "[![Colab](https://colab.research.google.com/assets/colab-badge.svg)](https://colab.research.google.com/github/pixeltable/pixeltable/blob/master/docs/release/tutorials/rag-operations.ipynb)\n",
    "\n",
    "# RAG Operations in Pixeltable\n",
    "\n",
    "In this tutorial, we'll explore Pixeltable's flexible handling of RAG operations on unstructured text. In a traditional AI workflow, such operations might be implemented as a Python script that runs on a periodic schedule or in response to certain events. In Pixeltable, as with everything else, they are implemented as persistent table operations that update incrementally as new data becomes available. In our tutorial workflow, we'll chunk Wikipedia articles in various ways with a document splitter, then apply several kinds of embeddings to the chunks.\n",
    "\n",
    "To run this tutorial, you'll need to have Pixeltable installed, along with the Huggingface `sentence_transformers` package.\n",
    "\n",
    "## Set Up the Table Structure\n",
    "\n",
    "We start by creating a Pixeltable workspace `rag_demo` (if it doesn't already exist) and setting up the table structure for our new workflow."
   ]
  },
  {
   "cell_type": "code",
   "execution_count": 1,
   "id": "a6e5554a-440e-4573-be78-624d012948de",
   "metadata": {},
   "outputs": [
    {
     "name": "stdout",
     "output_type": "stream",
     "text": [
      "Connected to Pixeltable database at: postgresql://postgres:@/pixeltable?host=/Users/asiegel/.pixeltable/pgdata\n",
      "Created directory `rag_demo`.\n"
     ]
    }
   ],
   "source": [
    "import pixeltable as pxt\n",
    "\n",
    "# Create the Pixeltable workspace\n",
    "pxt.create_dir('rag_demo', ignore_errors=True)\n",
    "\n",
    "# Clean the database to ensure we're using fresh table instances\n",
    "# (in case this demo has been run before)\n",
    "pxt.drop_table('rag_demo.short_char_chunks', ignore_errors=True)\n",
    "pxt.drop_table('rag_demo.short_chunks', ignore_errors=True)\n",
    "pxt.drop_table('rag_demo.chunks', ignore_errors=True)\n",
    "pxt.drop_table('rag_demo.sentences', ignore_errors=True)\n",
    "pxt.drop_table('rag_demo.docs', ignore_errors=True)"
   ]
  },
  {
   "cell_type": "markdown",
   "id": "90639ba7",
   "metadata": {},
   "source": [
    "## Creating Tables and Views\n",
    "\n",
    "Now we'll create the tables that represent our workflow, starting with a table to hold references to source documents. The table contains a single column `source_doc` whose elements have type `pxt.DocumentType`, representing a general document instance. In this tutorial, we'll be working with HTML documents, but Pixeltable supports a range of other document types, such as Markdown and PDF."
   ]
  },
  {
   "cell_type": "code",
   "execution_count": 2,
   "id": "c8371827",
   "metadata": {},
   "outputs": [
    {
     "name": "stdout",
     "output_type": "stream",
     "text": [
      "Created table `docs`.\n"
     ]
    }
   ],
   "source": [
    "docs = pxt.create_table('rag_demo.docs', {'source_doc': pxt.DocumentType()})"
   ]
  },
  {
   "cell_type": "markdown",
   "id": "275d07fd-1f16-47b4-b42a-39c613c3bf5c",
   "metadata": {},
   "source": [
    "If we take a peek at the `docs` table, we see its very simple structure."
   ]
  },
  {
   "cell_type": "code",
   "execution_count": 3,
   "id": "d0644d63-991f-4bf4-82d3-7f887eadadbb",
   "metadata": {},
   "outputs": [
    {
     "data": {
      "text/html": [
       "<style type=\"text/css\">\n",
       "#T_0ad2d th {\n",
       "  text-align: center;\n",
       "}\n",
       "#T_0ad2d_row0_col0, #T_0ad2d_row0_col1, #T_0ad2d_row0_col2 {\n",
       "  white-space: pre-wrap;\n",
       "  text-align: left;\n",
       "}\n",
       "</style>\n",
       "<table id=\"T_0ad2d\">\n",
       "  <thead>\n",
       "    <tr>\n",
       "      <th id=\"T_0ad2d_level0_col0\" class=\"col_heading level0 col0\" >Column Name</th>\n",
       "      <th id=\"T_0ad2d_level0_col1\" class=\"col_heading level0 col1\" >Type</th>\n",
       "      <th id=\"T_0ad2d_level0_col2\" class=\"col_heading level0 col2\" >Computed With</th>\n",
       "    </tr>\n",
       "  </thead>\n",
       "  <tbody>\n",
       "    <tr>\n",
       "      <td id=\"T_0ad2d_row0_col0\" class=\"data row0 col0\" >source_doc</td>\n",
       "      <td id=\"T_0ad2d_row0_col1\" class=\"data row0 col1\" >document</td>\n",
       "      <td id=\"T_0ad2d_row0_col2\" class=\"data row0 col2\" ></td>\n",
       "    </tr>\n",
       "  </tbody>\n",
       "</table>\n"
      ],
      "text/plain": [
       "table 'docs'\n",
       "\n",
       "Column Name     Type Computed With\n",
       " source_doc document              "
      ]
     },
     "execution_count": 3,
     "metadata": {},
     "output_type": "execute_result"
    }
   ],
   "source": [
    "docs"
   ]
  },
  {
   "cell_type": "markdown",
   "id": "4e1a701e-5f9d-4f56-a306-c31ff9da6ee7",
   "metadata": {},
   "source": [
    "Next we create a view to represent chunks of our HTML documents. A Pixeltable view is a virtual table, which is dynamically derived from a source table by applying a transformation and/or selecting a subset of data. In this case, our view represents a one-to-many transformation from source documents into individual sentences. This is achieved using Pixeltable's built-in `DocumentSplitter` class.\n",
    "\n",
    "Note that the `docs` table is currently empty, so creating this view doesn't actually *do* anything yet: it simply defines an operation that we want Pixeltable to execute when it sees new data."
   ]
  },
  {
   "cell_type": "code",
   "execution_count": 5,
   "id": "d074b305",
   "metadata": {},
   "outputs": [
    {
     "name": "stdout",
     "output_type": "stream",
     "text": [
      "Created view `sentences` with 0 rows, 0 exceptions.\n"
     ]
    }
   ],
   "source": [
    "from pixeltable.iterators.document import DocumentSplitter\n",
    "\n",
    "sentences = pxt.create_view(\n",
    "    'rag_demo.sentences',  # Name of the view\n",
    "    docs,  # Table from which the view is derived\n",
    "    iterator=DocumentSplitter.create(\n",
    "        document=docs.source_doc,\n",
    "        separators='sentence',  # Chunk docs into sentences\n",
    "        metadata='title,heading,sourceline'\n",
    "    )\n",
    ")"
   ]
  },
  {
   "cell_type": "markdown",
   "id": "9badf052-7e8d-43b2-9aea-0b20a9409a83",
   "metadata": {},
   "source": [
    "Let's take a peek at the new `sentences` view. Run the following command:"
   ]
  },
  {
   "cell_type": "code",
   "execution_count": 6,
   "id": "29b07709",
   "metadata": {},
   "outputs": [
    {
     "data": {
      "text/html": [
       "<style type=\"text/css\">\n",
       "#T_fc2af th {\n",
       "  text-align: center;\n",
       "}\n",
       "#T_fc2af_row0_col0, #T_fc2af_row0_col1, #T_fc2af_row0_col2, #T_fc2af_row1_col0, #T_fc2af_row1_col1, #T_fc2af_row1_col2, #T_fc2af_row2_col0, #T_fc2af_row2_col1, #T_fc2af_row2_col2, #T_fc2af_row3_col0, #T_fc2af_row3_col1, #T_fc2af_row3_col2, #T_fc2af_row4_col0, #T_fc2af_row4_col1, #T_fc2af_row4_col2, #T_fc2af_row5_col0, #T_fc2af_row5_col1, #T_fc2af_row5_col2 {\n",
       "  white-space: pre-wrap;\n",
       "  text-align: left;\n",
       "}\n",
       "</style>\n",
       "<table id=\"T_fc2af\">\n",
       "  <thead>\n",
       "    <tr>\n",
       "      <th id=\"T_fc2af_level0_col0\" class=\"col_heading level0 col0\" >Column Name</th>\n",
       "      <th id=\"T_fc2af_level0_col1\" class=\"col_heading level0 col1\" >Type</th>\n",
       "      <th id=\"T_fc2af_level0_col2\" class=\"col_heading level0 col2\" >Computed With</th>\n",
       "    </tr>\n",
       "  </thead>\n",
       "  <tbody>\n",
       "    <tr>\n",
       "      <td id=\"T_fc2af_row0_col0\" class=\"data row0 col0\" >pos</td>\n",
       "      <td id=\"T_fc2af_row0_col1\" class=\"data row0 col1\" >int</td>\n",
       "      <td id=\"T_fc2af_row0_col2\" class=\"data row0 col2\" ></td>\n",
       "    </tr>\n",
       "    <tr>\n",
       "      <td id=\"T_fc2af_row1_col0\" class=\"data row1 col0\" >text</td>\n",
       "      <td id=\"T_fc2af_row1_col1\" class=\"data row1 col1\" >string</td>\n",
       "      <td id=\"T_fc2af_row1_col2\" class=\"data row1 col2\" ></td>\n",
       "    </tr>\n",
       "    <tr>\n",
       "      <td id=\"T_fc2af_row2_col0\" class=\"data row2 col0\" >title</td>\n",
       "      <td id=\"T_fc2af_row2_col1\" class=\"data row2 col1\" >string</td>\n",
       "      <td id=\"T_fc2af_row2_col2\" class=\"data row2 col2\" ></td>\n",
       "    </tr>\n",
       "    <tr>\n",
       "      <td id=\"T_fc2af_row3_col0\" class=\"data row3 col0\" >heading</td>\n",
       "      <td id=\"T_fc2af_row3_col1\" class=\"data row3 col1\" >json</td>\n",
       "      <td id=\"T_fc2af_row3_col2\" class=\"data row3 col2\" ></td>\n",
       "    </tr>\n",
       "    <tr>\n",
       "      <td id=\"T_fc2af_row4_col0\" class=\"data row4 col0\" >sourceline</td>\n",
       "      <td id=\"T_fc2af_row4_col1\" class=\"data row4 col1\" >int</td>\n",
       "      <td id=\"T_fc2af_row4_col2\" class=\"data row4 col2\" ></td>\n",
       "    </tr>\n",
       "    <tr>\n",
       "      <td id=\"T_fc2af_row5_col0\" class=\"data row5 col0\" >source_doc</td>\n",
       "      <td id=\"T_fc2af_row5_col1\" class=\"data row5 col1\" >document</td>\n",
       "      <td id=\"T_fc2af_row5_col2\" class=\"data row5 col2\" ></td>\n",
       "    </tr>\n",
       "  </tbody>\n",
       "</table>\n"
      ],
      "text/plain": [
       "view 'sentences'\n",
       "\n",
       "Column Name     Type Computed With\n",
       "        pos      int              \n",
       "       text   string              \n",
       "      title   string              \n",
       "    heading     json              \n",
       " sourceline      int              \n",
       " source_doc document              "
      ]
     },
     "execution_count": 6,
     "metadata": {},
     "output_type": "execute_result"
    }
   ],
   "source": [
    "sentences"
   ]
  },
  {
   "cell_type": "markdown",
   "id": "9641a8a0-a7fe-46b8-a2e8-3589e0df2bae",
   "metadata": {},
   "source": [
    "We see that `sentences` inherits the `source_doc` column from `docs`, together with some new fields:\n",
    "- `pos`: The position in the source document where the sentence appears.\n",
    "-  `text`: The text of the sentence.\n",
    "- `title`, `heading`, and `sourceline`: The metadata we requested when we set up the view."
   ]
  },
  {
   "cell_type": "markdown",
   "id": "e53392cb",
   "metadata": {},
   "source": [
    "## Data Ingestion"
   ]
  },
  {
   "cell_type": "markdown",
   "id": "0aec54a3-f5a8-483e-b3b9-c9111929ec74",
   "metadata": {},
   "source": [
    "Ok, now it's time to insert some data into our workflow. A document in Pixeltable is just a URL; the following command inserts a single row into the `docs` table with the `source_doc` field set to the specified URL:"
   ]
  },
  {
   "cell_type": "code",
   "execution_count": 7,
   "id": "a718a299",
   "metadata": {},
   "outputs": [
    {
     "name": "stdout",
     "output_type": "stream",
     "text": [
      "Inserting rows into `docs`: 1 rows [00:00, 389.73 rows/s]\n",
      "Inserting rows into `sentences`: 6 rows [00:00, 5406.19 rows/s]\n",
      "Inserted 7 rows with 0 errors.\n"
     ]
    },
    {
     "data": {
      "text/plain": [
       "UpdateStatus(num_rows=7, num_computed_values=0, num_excs=0, updated_cols=[], cols_with_excs=[])"
      ]
     },
     "execution_count": 7,
     "metadata": {},
     "output_type": "execute_result"
    }
   ],
   "source": [
    "docs.insert(source_doc='https://en.wikipedia.org/wiki/Marc_Chagall')"
   ]
  },
  {
   "cell_type": "markdown",
   "id": "542f97cd-08b9-4001-9d38-10f47bfdd5d0",
   "metadata": {},
   "source": [
    "We can see that two things happened. First, a single row was inserted into `docs`, containing the URL representing our source document. Then, the view `sentences` was incrementally updated by applying the `DocumentSplitter` according to the definition of the view. This illustrates an important principle in Pixeltable: by default, anytime Pixeltable sees new data, the update is incrementally propagated to any downstream views or computed columns.\n",
    "\n",
    "We can see the effect of the insertion with the `select` command. There's a single row in `docs`:"
   ]
  },
  {
   "cell_type": "code",
   "execution_count": 8,
   "id": "0bbe8e86-3cec-499f-a30f-58c5073ab42b",
   "metadata": {},
   "outputs": [
    {
     "data": {
      "text/html": [
       "<table border=\"1\" class=\"dataframe\">\n",
       "  <thead>\n",
       "    <tr style=\"text-align: right;\">\n",
       "      <th>source_doc_fileurl</th>\n",
       "    </tr>\n",
       "  </thead>\n",
       "  <tbody>\n",
       "    <tr>\n",
       "      <td>https://en.wikipedia.org/wiki/Marc_Chagall</td>\n",
       "    </tr>\n",
       "  </tbody>\n",
       "</table>"
      ],
      "text/plain": [
       "                           source_doc_fileurl\n",
       "0  https://en.wikipedia.org/wiki/Marc_Chagall"
      ]
     },
     "execution_count": 8,
     "metadata": {},
     "output_type": "execute_result"
    }
   ],
   "source": [
    "docs.select(docs.source_doc.fileurl).show()"
   ]
  },
  {
   "cell_type": "markdown",
   "id": "a2dd8f07-6f5c-426b-a829-51dd8e26f888",
   "metadata": {},
   "source": [
    "And here are the first 20 rows in `sentences`. The content of the article is broken into individual sentences, as expected."
   ]
  },
  {
   "cell_type": "code",
   "execution_count": 9,
   "id": "42199e16-559f-4827-940c-1726f83452e5",
   "metadata": {
    "scrolled": true
   },
   "outputs": [
    {
     "data": {
      "text/html": [
       "<table border=\"1\" class=\"dataframe\">\n",
       "  <thead>\n",
       "    <tr style=\"text-align: right;\">\n",
       "      <th>text</th>\n",
       "      <th>heading</th>\n",
       "    </tr>\n",
       "  </thead>\n",
       "  <tbody>\n",
       "    <tr>\n",
       "      <td>Main menu</td>\n",
       "      <td>{}</td>\n",
       "    </tr>\n",
       "    <tr>\n",
       "      <td>Search Search</td>\n",
       "      <td>{}</td>\n",
       "    </tr>\n",
       "    <tr>\n",
       "      <td>Personal tools</td>\n",
       "      <td>{}</td>\n",
       "    </tr>\n",
       "    <tr>\n",
       "      <td>Toggle the table of contents</td>\n",
       "      <td>{}</td>\n",
       "    </tr>\n",
       "    <tr>\n",
       "      <td>81 languages</td>\n",
       "      <td>{}</td>\n",
       "    </tr>\n",
       "    <tr>\n",
       "      <td>Toggle limited content width</td>\n",
       "      <td>{}</td>\n",
       "    </tr>\n",
       "  </tbody>\n",
       "</table>"
      ],
      "text/plain": [
       "                           text heading\n",
       "0                     Main menu      {}\n",
       "1                 Search Search      {}\n",
       "2                Personal tools      {}\n",
       "3  Toggle the table of contents      {}\n",
       "4                  81 languages      {}\n",
       "5  Toggle limited content width      {}"
      ]
     },
     "execution_count": 9,
     "metadata": {},
     "output_type": "execute_result"
    }
   ],
   "source": [
    "sentences.select(sentences.text, sentences.heading).show(20)"
   ]
  },
  {
   "cell_type": "markdown",
   "id": "9e3abbdd",
   "metadata": {},
   "source": [
    "## Experimenting with Chunking"
   ]
  },
  {
   "cell_type": "markdown",
   "id": "2d229545-79b6-4fdd-be54-f786669533eb",
   "metadata": {},
   "source": [
    "Of course, chunking into sentences isn't the only way to split a document. Perhaps we want to experiment with different chunking methodologies, in order to see which one performs best in a particular application. Pixeltable makes it easy to do this, by creating several views of the same source table. Here are a few examples. Notice that as each new view is created, it is initially populated from the data already in `docs`."
   ]
  },
  {
   "cell_type": "code",
   "execution_count": 11,
   "id": "887389a1",
   "metadata": {},
   "outputs": [
    {
     "name": "stdout",
     "output_type": "stream",
     "text": [
      "Inserting rows into `chunks`: 6 rows [00:00, 5545.58 rows/s]\n",
      "Created view `chunks` with 6 rows, 0 exceptions.\n"
     ]
    }
   ],
   "source": [
    "chunks = pxt.create_view(\n",
    "    'rag_demo.chunks', docs,\n",
    "    iterator=DocumentSplitter.create(\n",
    "        document=docs.source_doc,\n",
    "        separators='paragraph,token_limit',\n",
    "        limit=2048,\n",
    "        overlap=0,\n",
    "        metadata='title,heading,sourceline'\n",
    "    )\n",
    ")"
   ]
  },
  {
   "cell_type": "code",
   "execution_count": 12,
   "id": "fd4c8b8b",
   "metadata": {},
   "outputs": [
    {
     "name": "stdout",
     "output_type": "stream",
     "text": [
      "Inserting rows into `short_chunks`: 6 rows [00:00, 5550.47 rows/s]\n",
      "Created view `short_chunks` with 6 rows, 0 exceptions.\n"
     ]
    }
   ],
   "source": [
    "short_chunks = pxt.create_view(\n",
    "    'rag_demo.short_chunks', docs,\n",
    "    iterator=DocumentSplitter.create(\n",
    "        document=docs.source_doc,\n",
    "        separators='paragraph,token_limit',\n",
    "        limit=72,\n",
    "        overlap=0,\n",
    "        metadata='title,heading,sourceline'\n",
    "    )\n",
    ")"
   ]
  },
  {
   "cell_type": "code",
   "execution_count": 13,
   "id": "096df773",
   "metadata": {},
   "outputs": [
    {
     "name": "stdout",
     "output_type": "stream",
     "text": [
      "Inserting rows into `short_char_chunks`: 6 rows [00:00, 5268.12 rows/s]\n",
      "Created view `short_char_chunks` with 6 rows, 0 exceptions.\n"
     ]
    }
   ],
   "source": [
    "short_char_chunks = pxt.create_view(\n",
    "    'rag_demo.short_char_chunks', docs,\n",
    "    iterator=DocumentSplitter.create(\n",
    "        document=docs.source_doc,\n",
    "        separators='paragraph,char_limit',\n",
    "        limit=72,\n",
    "        overlap=0,\n",
    "        metadata='title,heading,sourceline'\n",
    "    )\n",
    ")"
   ]
  },
  {
   "cell_type": "code",
   "execution_count": 15,
   "id": "d8289f0a",
   "metadata": {
    "scrolled": true
   },
   "outputs": [
    {
     "data": {
      "text/html": [
       "<table border=\"1\" class=\"dataframe\">\n",
       "  <thead>\n",
       "    <tr style=\"text-align: right;\">\n",
       "      <th>text</th>\n",
       "      <th>heading</th>\n",
       "    </tr>\n",
       "  </thead>\n",
       "  <tbody>\n",
       "    <tr>\n",
       "      <td>Main menu</td>\n",
       "      <td>{}</td>\n",
       "    </tr>\n",
       "    <tr>\n",
       "      <td>Search Search</td>\n",
       "      <td>{}</td>\n",
       "    </tr>\n",
       "    <tr>\n",
       "      <td>Personal tools</td>\n",
       "      <td>{}</td>\n",
       "    </tr>\n",
       "    <tr>\n",
       "      <td>Toggle the table of contents</td>\n",
       "      <td>{}</td>\n",
       "    </tr>\n",
       "    <tr>\n",
       "      <td>81 languages</td>\n",
       "      <td>{}</td>\n",
       "    </tr>\n",
       "    <tr>\n",
       "      <td>Toggle limited content width</td>\n",
       "      <td>{}</td>\n",
       "    </tr>\n",
       "  </tbody>\n",
       "</table>"
      ],
      "text/plain": [
       "                           text heading\n",
       "0                     Main menu      {}\n",
       "1                 Search Search      {}\n",
       "2                Personal tools      {}\n",
       "3  Toggle the table of contents      {}\n",
       "4                  81 languages      {}\n",
       "5  Toggle limited content width      {}"
      ]
     },
     "execution_count": 15,
     "metadata": {},
     "output_type": "execute_result"
    }
   ],
   "source": [
    "chunks.select(chunks.text, chunks.heading).show(20)"
   ]
  },
  {
   "cell_type": "code",
   "execution_count": 16,
   "id": "c0d453cf",
   "metadata": {
    "scrolled": true
   },
   "outputs": [
    {
     "data": {
      "text/html": [
       "<table border=\"1\" class=\"dataframe\">\n",
       "  <thead>\n",
       "    <tr style=\"text-align: right;\">\n",
       "      <th>text</th>\n",
       "      <th>heading</th>\n",
       "    </tr>\n",
       "  </thead>\n",
       "  <tbody>\n",
       "    <tr>\n",
       "      <td>Main menu</td>\n",
       "      <td>{}</td>\n",
       "    </tr>\n",
       "    <tr>\n",
       "      <td>Search Search</td>\n",
       "      <td>{}</td>\n",
       "    </tr>\n",
       "    <tr>\n",
       "      <td>Personal tools</td>\n",
       "      <td>{}</td>\n",
       "    </tr>\n",
       "    <tr>\n",
       "      <td>Toggle the table of contents</td>\n",
       "      <td>{}</td>\n",
       "    </tr>\n",
       "    <tr>\n",
       "      <td>81 languages</td>\n",
       "      <td>{}</td>\n",
       "    </tr>\n",
       "    <tr>\n",
       "      <td>Toggle limited content width</td>\n",
       "      <td>{}</td>\n",
       "    </tr>\n",
       "  </tbody>\n",
       "</table>"
      ],
      "text/plain": [
       "                           text heading\n",
       "0                     Main menu      {}\n",
       "1                 Search Search      {}\n",
       "2                Personal tools      {}\n",
       "3  Toggle the table of contents      {}\n",
       "4                  81 languages      {}\n",
       "5  Toggle limited content width      {}"
      ]
     },
     "execution_count": 16,
     "metadata": {},
     "output_type": "execute_result"
    }
   ],
   "source": [
    "short_chunks.select(short_chunks.text, short_chunks.heading).show(20)"
   ]
  },
  {
   "cell_type": "code",
   "execution_count": 17,
   "id": "bb32ade8-9727-4ebc-b57a-ff8097aca993",
   "metadata": {
    "scrolled": true
   },
   "outputs": [
    {
     "data": {
      "text/html": [
       "<table border=\"1\" class=\"dataframe\">\n",
       "  <thead>\n",
       "    <tr style=\"text-align: right;\">\n",
       "      <th>text</th>\n",
       "      <th>heading</th>\n",
       "    </tr>\n",
       "  </thead>\n",
       "  <tbody>\n",
       "    <tr>\n",
       "      <td>Main menu</td>\n",
       "      <td>{}</td>\n",
       "    </tr>\n",
       "    <tr>\n",
       "      <td>Search Search</td>\n",
       "      <td>{}</td>\n",
       "    </tr>\n",
       "    <tr>\n",
       "      <td>Personal tools</td>\n",
       "      <td>{}</td>\n",
       "    </tr>\n",
       "    <tr>\n",
       "      <td>Toggle the table of contents</td>\n",
       "      <td>{}</td>\n",
       "    </tr>\n",
       "    <tr>\n",
       "      <td>81 languages</td>\n",
       "      <td>{}</td>\n",
       "    </tr>\n",
       "    <tr>\n",
       "      <td>Toggle limited content width</td>\n",
       "      <td>{}</td>\n",
       "    </tr>\n",
       "  </tbody>\n",
       "</table>"
      ],
      "text/plain": [
       "                           text heading\n",
       "0                     Main menu      {}\n",
       "1                 Search Search      {}\n",
       "2                Personal tools      {}\n",
       "3  Toggle the table of contents      {}\n",
       "4                  81 languages      {}\n",
       "5  Toggle limited content width      {}"
      ]
     },
     "execution_count": 17,
     "metadata": {},
     "output_type": "execute_result"
    }
   ],
   "source": [
    "short_char_chunks.select(short_char_chunks.text, short_char_chunks.heading).show(20)"
   ]
  },
  {
   "cell_type": "markdown",
   "id": "556d86ab-ef09-43e6-8bff-95caf8b8e45d",
   "metadata": {},
   "source": [
    "Now let's add a few more documents to our workflow. Notice how all of the downstream views are updated incrementally, processing just the new documents as they are inserted."
   ]
  },
  {
   "cell_type": "code",
   "execution_count": 18,
   "id": "71735d6a-3f99-46ef-99d7-4783aa6840cb",
   "metadata": {},
   "outputs": [
    {
     "name": "stdout",
     "output_type": "stream",
     "text": [
      "Inserting rows into `docs`: 3 rows [00:00, 3456.84 rows/s]\n",
      "Inserting rows into `sentences`: 18 rows [00:00, 13025.79 rows/s]\n",
      "Inserting rows into `chunks`: 18 rows [00:00, 13402.71 rows/s]\n",
      "Inserting rows into `short_chunks`: 18 rows [00:00, 14708.25 rows/s]\n",
      "Inserting rows into `short_char_chunks`: 18 rows [00:00, 12153.49 rows/s]\n",
      "Inserted 75 rows with 0 errors.\n"
     ]
    },
    {
     "data": {
      "text/plain": [
       "UpdateStatus(num_rows=75, num_computed_values=0, num_excs=0, updated_cols=[], cols_with_excs=[])"
      ]
     },
     "execution_count": 18,
     "metadata": {},
     "output_type": "execute_result"
    }
   ],
   "source": [
    "urls = [\n",
    "    'https://en.wikipedia.org/wiki/Pierre-Auguste_Renoir',\n",
    "    'https://en.wikipedia.org/wiki/Henri_Matisse',\n",
    "    'https://en.wikipedia.org/wiki/Marcel_Duchamp'\n",
    "]\n",
    "docs.insert({'source_doc': url} for url in urls)"
   ]
  },
  {
   "cell_type": "markdown",
   "id": "bdf1e13c-b038-40ee-b48c-35d514149c62",
   "metadata": {},
   "source": [
    "## Further Experiments\n",
    "\n",
    "This is a good time to mention another important guiding principle of Pixeltable. The preceding examples all used the built-in `DocumentSplitter` class with various configurations. That's probably fine as a first cut or to prototype an application quickly, and it might be sufficient for some applications. But other applications might want to do more sophisticated kinds of chunking, implementing their own specialized logic or leveraging third-party tools. Pixeltable imposes no constraints on the AI or RAG operations a workflow uses: the iterator interface is highly general, and it's easy to implement new operations or adapt existing code or third-party tools into the Pixeltable workflow. Pixeltable manages *data* storage and workflow that is common to all such operations; above the data plane, it's fully general and extensible.\n",
    "\n",
    "TODO: Example of a custom splitter?"
   ]
  },
  {
   "cell_type": "markdown",
   "id": "709a4be2",
   "metadata": {},
   "source": [
    "## Adding embeddings"
   ]
  },
  {
   "cell_type": "markdown",
   "id": "fa455441-bfd1-41cc-a802-a396a2323c4f",
   "metadata": {},
   "source": [
    "Next, let's look at how embeddings can be added seamlessly to existing Pixeltable workflows. To compute our embeddings, we'll use the Huggingface `sentence_transformer` package, running it over the `chunks` view that broke our documents up into larger paragraphs. Pixeltable has a built-in `sentence_transformer` adapter, and all we have to do is add a new column that leverages it. Pixeltable takes care of the rest, applying the new column to all existing data in the view."
   ]
  },
  {
   "cell_type": "code",
   "execution_count": 21,
   "id": "e0d7ea4a",
   "metadata": {},
   "outputs": [
    {
     "name": "stdout",
     "output_type": "stream",
     "text": [
      "Computing cells: 100%|█████████████████████████████████████████| 24/24 [00:00<00:00, 322.89 cells/s]\n",
      "Added 24 column values with 0 errors.\n"
     ]
    }
   ],
   "source": [
    "from pixeltable.functions.huggingface import sentence_transformer\n",
    "\n",
    "minilm_model_id = 'paraphrase-MiniLM-L6-v2'\n",
    "\n",
    "chunks['minilm_embedding'] =sentence_transformer(chunks.text, model_id=minilm_model_id)"
   ]
  },
  {
   "cell_type": "markdown",
   "id": "65bb3b1b-04fd-422b-a070-d3faa16033e0",
   "metadata": {},
   "source": [
    "The new column is a *computed column*: it is defined as a function on top of existing data and updated incrementally as new data are added to the workflow. Let's have a look at how the new column affected the `chunks` view."
   ]
  },
  {
   "cell_type": "code",
   "execution_count": 22,
   "id": "3cf786cc",
   "metadata": {},
   "outputs": [
    {
     "data": {
      "text/html": [
       "<style type=\"text/css\">\n",
       "#T_7ce2f th {\n",
       "  text-align: center;\n",
       "}\n",
       "#T_7ce2f_row0_col0, #T_7ce2f_row0_col1, #T_7ce2f_row0_col2, #T_7ce2f_row1_col0, #T_7ce2f_row1_col1, #T_7ce2f_row1_col2, #T_7ce2f_row2_col0, #T_7ce2f_row2_col1, #T_7ce2f_row2_col2, #T_7ce2f_row3_col0, #T_7ce2f_row3_col1, #T_7ce2f_row3_col2, #T_7ce2f_row4_col0, #T_7ce2f_row4_col1, #T_7ce2f_row4_col2, #T_7ce2f_row5_col0, #T_7ce2f_row5_col1, #T_7ce2f_row5_col2, #T_7ce2f_row6_col0, #T_7ce2f_row6_col1, #T_7ce2f_row6_col2 {\n",
       "  white-space: pre-wrap;\n",
       "  text-align: left;\n",
       "}\n",
       "</style>\n",
       "<table id=\"T_7ce2f\">\n",
       "  <thead>\n",
       "    <tr>\n",
       "      <th id=\"T_7ce2f_level0_col0\" class=\"col_heading level0 col0\" >Column Name</th>\n",
       "      <th id=\"T_7ce2f_level0_col1\" class=\"col_heading level0 col1\" >Type</th>\n",
       "      <th id=\"T_7ce2f_level0_col2\" class=\"col_heading level0 col2\" >Computed With</th>\n",
       "    </tr>\n",
       "  </thead>\n",
       "  <tbody>\n",
       "    <tr>\n",
       "      <td id=\"T_7ce2f_row0_col0\" class=\"data row0 col0\" >pos</td>\n",
       "      <td id=\"T_7ce2f_row0_col1\" class=\"data row0 col1\" >int</td>\n",
       "      <td id=\"T_7ce2f_row0_col2\" class=\"data row0 col2\" ></td>\n",
       "    </tr>\n",
       "    <tr>\n",
       "      <td id=\"T_7ce2f_row1_col0\" class=\"data row1 col0\" >text</td>\n",
       "      <td id=\"T_7ce2f_row1_col1\" class=\"data row1 col1\" >string</td>\n",
       "      <td id=\"T_7ce2f_row1_col2\" class=\"data row1 col2\" ></td>\n",
       "    </tr>\n",
       "    <tr>\n",
       "      <td id=\"T_7ce2f_row2_col0\" class=\"data row2 col0\" >title</td>\n",
       "      <td id=\"T_7ce2f_row2_col1\" class=\"data row2 col1\" >string</td>\n",
       "      <td id=\"T_7ce2f_row2_col2\" class=\"data row2 col2\" ></td>\n",
       "    </tr>\n",
       "    <tr>\n",
       "      <td id=\"T_7ce2f_row3_col0\" class=\"data row3 col0\" >heading</td>\n",
       "      <td id=\"T_7ce2f_row3_col1\" class=\"data row3 col1\" >json</td>\n",
       "      <td id=\"T_7ce2f_row3_col2\" class=\"data row3 col2\" ></td>\n",
       "    </tr>\n",
       "    <tr>\n",
       "      <td id=\"T_7ce2f_row4_col0\" class=\"data row4 col0\" >sourceline</td>\n",
       "      <td id=\"T_7ce2f_row4_col1\" class=\"data row4 col1\" >int</td>\n",
       "      <td id=\"T_7ce2f_row4_col2\" class=\"data row4 col2\" ></td>\n",
       "    </tr>\n",
       "    <tr>\n",
       "      <td id=\"T_7ce2f_row5_col0\" class=\"data row5 col0\" >minilm_embedding</td>\n",
       "      <td id=\"T_7ce2f_row5_col1\" class=\"data row5 col1\" >array((384,), dtype=FLOAT)</td>\n",
       "      <td id=\"T_7ce2f_row5_col2\" class=\"data row5 col2\" >sentence_transformer(text, model_id='paraphrase-MiniLM-L6-v2')</td>\n",
       "    </tr>\n",
       "    <tr>\n",
       "      <td id=\"T_7ce2f_row6_col0\" class=\"data row6 col0\" >source_doc</td>\n",
       "      <td id=\"T_7ce2f_row6_col1\" class=\"data row6 col1\" >document</td>\n",
       "      <td id=\"T_7ce2f_row6_col2\" class=\"data row6 col2\" ></td>\n",
       "    </tr>\n",
       "  </tbody>\n",
       "</table>\n"
      ],
      "text/plain": [
       "view 'chunks'\n",
       "\n",
       "     Column Name                       Type                                                  Computed With\n",
       "             pos                        int                                                               \n",
       "            text                     string                                                               \n",
       "           title                     string                                                               \n",
       "         heading                       json                                                               \n",
       "      sourceline                        int                                                               \n",
       "minilm_embedding array((384,), dtype=FLOAT) sentence_transformer(text, model_id='paraphrase-MiniLM-L6-v2')\n",
       "      source_doc                   document                                                               "
      ]
     },
     "execution_count": 22,
     "metadata": {},
     "output_type": "execute_result"
    }
   ],
   "source": [
    "chunks"
   ]
  },
  {
   "cell_type": "code",
   "execution_count": 23,
   "id": "bc2893b5",
   "metadata": {
    "scrolled": true
   },
   "outputs": [
    {
     "data": {
      "text/html": [
       "<table border=\"1\" class=\"dataframe\">\n",
       "  <thead>\n",
       "    <tr style=\"text-align: right;\">\n",
       "      <th>pos</th>\n",
       "      <th>text</th>\n",
       "      <th>title</th>\n",
       "      <th>heading</th>\n",
       "      <th>sourceline</th>\n",
       "      <th>minilm_embedding</th>\n",
       "      <th>source_doc</th>\n",
       "    </tr>\n",
       "  </thead>\n",
       "  <tbody>\n",
       "    <tr>\n",
       "      <td>0</td>\n",
       "      <td>Main menu</td>\n",
       "      <td></td>\n",
       "      <td>{}</td>\n",
       "      <td>0</td>\n",
       "      <td>[0.013837013, 0.14026177, 0.28270477, -0.08148003, -0.49137008, 0.23778768, -0.25082362, -0.23600236, 0.47489968, -0.27540472, -0.7250494, -0.04896789, -0.17751567, -0.60430855, -0.10019561, -1.0068173, 1.0703558, -0.45004058, 0.4654496, -0.14810751, 0.13316727, -0.10193365, -0.8039463, 0.039722055, 0.0030924305, -0.054789938, -0.08696906, 0.6339634, -0.18833934, -0.72005594, 0.045729116, -0.01488281, 0.63569754, -0.019973017, -0.08143306, -0.227109, -0.23942484, -0.5756098, -0.2401254, -0.117910385, -0.13598639, 0.6119604, -0.46512628, 0.20938733, 0.050053112, -0.35243317, -0.26929402, -0.1806831, 0.42443514, 0.36750057, -0.30398357, 0.5808253, -0.2442749, 0.062205933, 0.4597018, 0.74200726, -0.28308427, 0.17852956, -0.099436596, 0.32848102, -0.023009568, -0.118511856, -0.37992948, 0.114756465, 0.94367504, 0.4259227, -0.214038, 0.6544014, -0.62131244, 0.105964944, -0.5896095, -0.31305873, 0.25245723, 0.395325, 0.58011234, -0.3402485, -0.098590426, -0.3611181, -0.85350585, 0.3868234, 0.23653977, 0.09506751, -0.35156268, -0.64272165, 0.6753231, -0.21587954, -0.90433544, -0.46418548, -0.24809398, -0.27525756, 0.0915171, -0.27818486, 0.38402498, 0.12188502, 0.4549827, -0.2626203, -0.14732328, -1.1077989, 0.24514978, 1.0587058, ...]</td>\n",
       "      <td><div class=\"pxt_document\" style=\"width:320px;\">\n",
       "            <a href=\"http://127.0.0.1:63209/Users/asiegel/.pixeltable/file_cache/26f958802a424414b408646538f72715_0_3c5b8031c7610e17a42ab6df79e614c2ee1a85dbd022497373d574cf65e15c51\">\n",
       "                /Users/asiegel/.pixeltable/file_cache/26f958802a424414b408646538f72715_0_3c5b8031c7610e17a42ab6df79e614c2ee1a85dbd022497373d574cf65e15c51\n",
       "            </a>\n",
       "        </div></td>\n",
       "    </tr>\n",
       "    <tr>\n",
       "      <td>1</td>\n",
       "      <td>Search Search</td>\n",
       "      <td></td>\n",
       "      <td>{}</td>\n",
       "      <td>0</td>\n",
       "      <td>[-0.4388815, 0.2616052, -0.09626006, 0.27324373, 0.32822007, 0.16367495, 0.45697403, -0.35676295, 0.134427, -0.1315698, 0.8494229, -0.107490435, -0.015755985, 0.112038106, -0.07407861, -0.6957965, 0.14700912, 0.06417219, 0.40219134, -0.23525691, 0.51686716, 0.096137054, -0.31232864, -0.5254353, 0.048178654, -0.31934243, -0.6444056, -0.48666033, 0.52254075, -0.3103736, 0.3446966, -0.21178645, 0.23859325, 0.10162328, 0.8573472, -0.18241832, -0.34733444, -0.20165437, 0.15406382, -0.19690192, 0.10764988, -0.30204758, -0.06345734, 0.8638339, -0.037420724, -0.022490362, -0.6369642, 0.4802386, 0.29758453, 0.42319107, -0.8741574, -0.4897521, -0.45491284, -0.12441757, 0.07507527, 0.23504484, -0.07021256, -0.17961068, 0.2916925, -0.48828724, 0.9852896, 0.26137888, -0.7030126, 0.31352597, -0.005079925, 0.052201174, -0.1211284, 0.006912276, 0.40216282, 0.22954431, 0.5131579, 0.26010892, -0.85585743, 0.7217986, -0.8300178, 0.31207216, -0.07977496, -0.49203598, -0.018743463, -0.31410235, -0.2637596, -0.31347972, 0.0461054, 0.13912694, -0.08210782, -0.28269756, 0.22598626, 0.32890493, 0.6892837, -0.17732784, -0.13792439, -0.44667035, -0.5042677, -0.42169738, -0.88269377, -0.058416136, 0.114198565, 0.17162606, 0.64845335, 1.0464563, ...]</td>\n",
       "      <td><div class=\"pxt_document\" style=\"width:320px;\">\n",
       "            <a href=\"http://127.0.0.1:63209/Users/asiegel/.pixeltable/file_cache/26f958802a424414b408646538f72715_0_3c5b8031c7610e17a42ab6df79e614c2ee1a85dbd022497373d574cf65e15c51\">\n",
       "                /Users/asiegel/.pixeltable/file_cache/26f958802a424414b408646538f72715_0_3c5b8031c7610e17a42ab6df79e614c2ee1a85dbd022497373d574cf65e15c51\n",
       "            </a>\n",
       "        </div></td>\n",
       "    </tr>\n",
       "    <tr>\n",
       "      <td>2</td>\n",
       "      <td>Personal tools</td>\n",
       "      <td></td>\n",
       "      <td>{}</td>\n",
       "      <td>0</td>\n",
       "      <td>[-1.0809782, 0.14871615, -0.17175414, -0.16569878, 0.21554732, -0.03357071, 0.4761501, 0.23835604, 0.19804165, -0.08035711, -0.32521123, -0.009721253, 0.23285279, -0.13696082, -0.06707458, -0.16528586, -0.058667198, 0.7998024, -0.06131527, -0.051864143, 0.5496594, 0.18582836, -0.2659592, -0.031910174, 0.078132525, 0.6470892, -0.28053263, -0.18952954, 0.10174167, -0.8660025, 0.4749312, -0.074961275, 0.050736323, 0.037845034, 0.088446304, 0.2014157, -0.28794533, -0.27062154, 0.07520204, -0.5154939, -0.16101709, 0.18315947, -0.31622407, 0.31491187, 0.72120714, 0.17938687, -0.20015639, -0.07261648, -0.069424845, 0.4641994, -0.37641528, 0.019972838, -0.55050266, -0.0468921, 0.15563634, 0.536762, 0.35447353, -0.052544452, -0.2500377, -0.2003059, 0.64787114, -0.0812662, -0.8306557, 0.6260421, 0.5074377, 0.80805594, -0.14777714, 0.10732351, -0.25287554, -0.19226336, -0.049908377, -0.22145715, -0.30398428, 0.13637014, 0.6990555, -0.3411329, -0.63882506, -0.45870435, -0.52531976, 0.22960809, -0.42343894, 0.9150864, 0.5560932, 0.82766265, 0.3368435, 0.49894124, 0.4110324, 0.24729744, 0.123888955, -0.11225957, 0.5400382, -0.18255302, 0.3970428, -0.08024054, 0.6421889, 0.26095197, -0.03427285, -0.4462369, -0.09897425, 1.1412475, ...]</td>\n",
       "      <td><div class=\"pxt_document\" style=\"width:320px;\">\n",
       "            <a href=\"http://127.0.0.1:63209/Users/asiegel/.pixeltable/file_cache/26f958802a424414b408646538f72715_0_3c5b8031c7610e17a42ab6df79e614c2ee1a85dbd022497373d574cf65e15c51\">\n",
       "                /Users/asiegel/.pixeltable/file_cache/26f958802a424414b408646538f72715_0_3c5b8031c7610e17a42ab6df79e614c2ee1a85dbd022497373d574cf65e15c51\n",
       "            </a>\n",
       "        </div></td>\n",
       "    </tr>\n",
       "    <tr>\n",
       "      <td>3</td>\n",
       "      <td>Toggle the table of contents</td>\n",
       "      <td></td>\n",
       "      <td>{}</td>\n",
       "      <td>0</td>\n",
       "      <td>[-0.76352406, 0.2911742, -0.37728465, 0.19093746, -0.140064, -0.04945761, 0.3731809, -0.3496347, 0.40086436, -0.062332936, -0.7112134, -0.13447662, -0.05186095, -0.4350108, -0.18956795, -0.5171125, 0.10423254, 0.5449419, 0.077896446, -0.73348635, 0.34320197, 0.15734501, -0.68600506, 0.49173623, 0.2878567, -0.3630232, -0.6148664, 0.12523368, -0.17007872, -0.18953666, -0.15396738, 0.34241796, 0.09678027, 0.020176575, 0.09202233, -0.40456694, 0.2165412, -0.22784083, 0.17263062, -0.28882903, -0.40011954, 0.1046111, -0.71271527, -0.014165871, -0.15813112, -0.85605574, -0.0064400565, -0.052563738, 0.0008153692, 0.84786505, 0.26972294, 0.4653685, -1.0032237, 0.009683013, -0.013752021, 0.23498425, -0.017564178, -0.032678626, 0.10729927, 0.054923348, 0.13643183, -0.19399527, 0.09797632, 0.7128681, -0.17907284, 0.06496829, 0.16563877, 0.5973841, -0.35860634, 0.8271491, -0.42253146, 0.20565653, 0.23704973, 0.30834588, 0.62324, -0.4464764, -0.42047548, -0.4854938, -0.44868225, -0.04512793, 0.06387943, 0.57317567, 0.2054273, 0.22586891, -0.88775414, -0.0722231, 0.26414657, -0.05731967, 0.29917347, 0.28861794, -0.38662177, -0.24228738, 0.6345558, 0.5346524, -0.51448655, -0.18608361, 0.2659033, -0.6887446, 0.19043796, 0.21512395, ...]</td>\n",
       "      <td><div class=\"pxt_document\" style=\"width:320px;\">\n",
       "            <a href=\"http://127.0.0.1:63209/Users/asiegel/.pixeltable/file_cache/26f958802a424414b408646538f72715_0_3c5b8031c7610e17a42ab6df79e614c2ee1a85dbd022497373d574cf65e15c51\">\n",
       "                /Users/asiegel/.pixeltable/file_cache/26f958802a424414b408646538f72715_0_3c5b8031c7610e17a42ab6df79e614c2ee1a85dbd022497373d574cf65e15c51\n",
       "            </a>\n",
       "        </div></td>\n",
       "    </tr>\n",
       "    <tr>\n",
       "      <td>4</td>\n",
       "      <td>81 languages</td>\n",
       "      <td></td>\n",
       "      <td>{}</td>\n",
       "      <td>0</td>\n",
       "      <td>[-0.35333744, 0.30818775, 0.02243752, -0.09189291, -0.3976273, -0.2298608, 0.02941669, -0.8906268, 0.30699024, 0.08826257, 0.030213462, 0.16857189, 0.707843, -0.3639549, 0.32921958, 0.3625542, -0.119446225, 0.11219951, -0.6614408, -0.66407794, 0.5406015, 0.13751632, 0.10910328, -0.10940779, 0.2535726, 0.8003849, -0.062481113, -0.11061655, 0.27831066, -0.38975567, -0.24461454, 0.7062502, 0.3143381, 0.20606583, -0.63385075, 0.042145625, 0.19349475, -0.3385169, -0.055553466, 0.56680155, -0.5775918, 0.46419185, 0.82659125, 0.009503074, 0.14892751, -0.35739332, -0.51948076, 0.51623285, -0.15138075, 0.21251482, -0.20885395, 0.015218422, -0.20193988, -0.054262385, 0.3957935, -0.78115153, 0.09597854, 0.56954837, -0.31125587, -0.35390893, -0.38086376, -0.38512692, -0.42455178, 0.11628569, -0.14392239, -0.18747799, -0.2936196, 0.22382495, -0.46879995, 0.13011076, -0.59924674, -0.18403396, 0.024937525, 0.1730173, 0.16717155, 0.08859884, -0.06859409, -0.13122281, 0.13465054, -0.2630668, 0.28832006, -0.38903418, 0.353293, -0.21508962, 0.5406002, 0.1467801, -0.17857766, 0.23695262, 0.5715889, -0.27528358, -0.10049325, -0.37846547, 0.6332442, 0.18606909, 0.70320666, -0.37136123, 0.5031585, -0.2031708, -0.18354443, 1.1865332, ...]</td>\n",
       "      <td><div class=\"pxt_document\" style=\"width:320px;\">\n",
       "            <a href=\"http://127.0.0.1:63209/Users/asiegel/.pixeltable/file_cache/26f958802a424414b408646538f72715_0_3c5b8031c7610e17a42ab6df79e614c2ee1a85dbd022497373d574cf65e15c51\">\n",
       "                /Users/asiegel/.pixeltable/file_cache/26f958802a424414b408646538f72715_0_3c5b8031c7610e17a42ab6df79e614c2ee1a85dbd022497373d574cf65e15c51\n",
       "            </a>\n",
       "        </div></td>\n",
       "    </tr>\n",
       "    <tr>\n",
       "      <td>5</td>\n",
       "      <td>Toggle limited content width</td>\n",
       "      <td></td>\n",
       "      <td>{}</td>\n",
       "      <td>0</td>\n",
       "      <td>[-0.15211964, 0.38546276, -0.1152843, -0.26573178, -0.16143265, 0.054834537, -0.25513166, -0.17990258, -0.0982026, -0.15432118, -0.21740043, 0.37965918, 0.04919037, -0.017403351, 0.49209708, 0.41829243, 0.28065628, 0.5152388, -0.55857974, -0.8406034, 0.42201152, -0.35736302, 0.07185735, -0.30894467, -0.06297999, -0.5827278, -0.41154352, -0.21477029, 0.52801836, -0.5844453, 0.20428161, 0.116275035, 0.6030544, -0.27804944, -0.04783654, -0.7070529, 0.19192883, 0.061144404, -0.08976445, -0.15778783, -0.80361944, 0.50352865, -0.6300267, 0.22592299, -0.024122408, -0.43384585, 0.06896707, -0.03888852, 0.055102877, 0.57812107, 0.6730588, 0.046609852, -0.4967969, 0.36419937, -0.1735092, -0.21875642, -0.6855029, 0.0054628933, 0.16509141, 0.13048548, 0.4412918, -0.031003084, 0.54369545, 0.5677417, -0.43795553, 0.073421575, 0.31866583, 0.2080768, -0.26357657, 0.66694576, -0.2782317, -0.4245103, 0.15679206, 0.4126838, 0.3401442, -0.63811857, -0.54969794, 0.26456127, -0.20333363, -0.19035788, 0.12801765, 0.22053419, 0.1941147, -0.06459711, -0.6125251, -0.3684621, -0.026233286, -0.25659725, 0.15949713, 0.13649212, -0.59270555, 0.15782098, 0.07666095, 0.5983019, -0.3760511, -0.986836, -0.46358994, -1.0552348, -0.16911152, 0.28365183, ...]</td>\n",
       "      <td><div class=\"pxt_document\" style=\"width:320px;\">\n",
       "            <a href=\"http://127.0.0.1:63209/Users/asiegel/.pixeltable/file_cache/26f958802a424414b408646538f72715_0_3c5b8031c7610e17a42ab6df79e614c2ee1a85dbd022497373d574cf65e15c51\">\n",
       "                /Users/asiegel/.pixeltable/file_cache/26f958802a424414b408646538f72715_0_3c5b8031c7610e17a42ab6df79e614c2ee1a85dbd022497373d574cf65e15c51\n",
       "            </a>\n",
       "        </div></td>\n",
       "    </tr>\n",
       "    <tr>\n",
       "      <td>0</td>\n",
       "      <td>Main menu</td>\n",
       "      <td></td>\n",
       "      <td>{}</td>\n",
       "      <td>0</td>\n",
       "      <td>[0.013837013, 0.14026177, 0.28270477, -0.08148003, -0.49137008, 0.23778768, -0.25082362, -0.23600236, 0.47489968, -0.27540472, -0.7250494, -0.04896789, -0.17751567, -0.60430855, -0.10019561, -1.0068173, 1.0703558, -0.45004058, 0.4654496, -0.14810751, 0.13316727, -0.10193365, -0.8039463, 0.039722055, 0.0030924305, -0.054789938, -0.08696906, 0.6339634, -0.18833934, -0.72005594, 0.045729116, -0.01488281, 0.63569754, -0.019973017, -0.08143306, -0.227109, -0.23942484, -0.5756098, -0.2401254, -0.117910385, -0.13598639, 0.6119604, -0.46512628, 0.20938733, 0.050053112, -0.35243317, -0.26929402, -0.1806831, 0.42443514, 0.36750057, -0.30398357, 0.5808253, -0.2442749, 0.062205933, 0.4597018, 0.74200726, -0.28308427, 0.17852956, -0.099436596, 0.32848102, -0.023009568, -0.118511856, -0.37992948, 0.114756465, 0.94367504, 0.4259227, -0.214038, 0.6544014, -0.62131244, 0.105964944, -0.5896095, -0.31305873, 0.25245723, 0.395325, 0.58011234, -0.3402485, -0.098590426, -0.3611181, -0.85350585, 0.3868234, 0.23653977, 0.09506751, -0.35156268, -0.64272165, 0.6753231, -0.21587954, -0.90433544, -0.46418548, -0.24809398, -0.27525756, 0.0915171, -0.27818486, 0.38402498, 0.12188502, 0.4549827, -0.2626203, -0.14732328, -1.1077989, 0.24514978, 1.0587058, ...]</td>\n",
       "      <td><div class=\"pxt_document\" style=\"width:320px;\">\n",
       "            <a href=\"http://127.0.0.1:63209/Users/asiegel/.pixeltable/file_cache/76eb6d44c01f400782fdf21d9b9f06df_0_12283c17eaf278baaa6d81a4e97d55c643b0452023c8c5f5a2bd43715959a75e\">\n",
       "                /Users/asiegel/.pixeltable/file_cache/76eb6d44c01f400782fdf21d9b9f06df_0_12283c17eaf278baaa6d81a4e97d55c643b0452023c8c5f5a2bd43715959a75e\n",
       "            </a>\n",
       "        </div></td>\n",
       "    </tr>\n",
       "    <tr>\n",
       "      <td>1</td>\n",
       "      <td>Search Search</td>\n",
       "      <td></td>\n",
       "      <td>{}</td>\n",
       "      <td>0</td>\n",
       "      <td>[-0.4388815, 0.2616052, -0.09626006, 0.27324373, 0.32822007, 0.16367495, 0.45697403, -0.35676295, 0.134427, -0.1315698, 0.8494229, -0.107490435, -0.015755985, 0.112038106, -0.07407861, -0.6957965, 0.14700912, 0.06417219, 0.40219134, -0.23525691, 0.51686716, 0.096137054, -0.31232864, -0.5254353, 0.048178654, -0.31934243, -0.6444056, -0.48666033, 0.52254075, -0.3103736, 0.3446966, -0.21178645, 0.23859325, 0.10162328, 0.8573472, -0.18241832, -0.34733444, -0.20165437, 0.15406382, -0.19690192, 0.10764988, -0.30204758, -0.06345734, 0.8638339, -0.037420724, -0.022490362, -0.6369642, 0.4802386, 0.29758453, 0.42319107, -0.8741574, -0.4897521, -0.45491284, -0.12441757, 0.07507527, 0.23504484, -0.07021256, -0.17961068, 0.2916925, -0.48828724, 0.9852896, 0.26137888, -0.7030126, 0.31352597, -0.005079925, 0.052201174, -0.1211284, 0.006912276, 0.40216282, 0.22954431, 0.5131579, 0.26010892, -0.85585743, 0.7217986, -0.8300178, 0.31207216, -0.07977496, -0.49203598, -0.018743463, -0.31410235, -0.2637596, -0.31347972, 0.0461054, 0.13912694, -0.08210782, -0.28269756, 0.22598626, 0.32890493, 0.6892837, -0.17732784, -0.13792439, -0.44667035, -0.5042677, -0.42169738, -0.88269377, -0.058416136, 0.114198565, 0.17162606, 0.64845335, 1.0464563, ...]</td>\n",
       "      <td><div class=\"pxt_document\" style=\"width:320px;\">\n",
       "            <a href=\"http://127.0.0.1:63209/Users/asiegel/.pixeltable/file_cache/76eb6d44c01f400782fdf21d9b9f06df_0_12283c17eaf278baaa6d81a4e97d55c643b0452023c8c5f5a2bd43715959a75e\">\n",
       "                /Users/asiegel/.pixeltable/file_cache/76eb6d44c01f400782fdf21d9b9f06df_0_12283c17eaf278baaa6d81a4e97d55c643b0452023c8c5f5a2bd43715959a75e\n",
       "            </a>\n",
       "        </div></td>\n",
       "    </tr>\n",
       "    <tr>\n",
       "      <td>2</td>\n",
       "      <td>Personal tools</td>\n",
       "      <td></td>\n",
       "      <td>{}</td>\n",
       "      <td>0</td>\n",
       "      <td>[-1.0809782, 0.14871615, -0.17175414, -0.16569878, 0.21554732, -0.03357071, 0.4761501, 0.23835604, 0.19804165, -0.08035711, -0.32521123, -0.009721253, 0.23285279, -0.13696082, -0.06707458, -0.16528586, -0.058667198, 0.7998024, -0.06131527, -0.051864143, 0.5496594, 0.18582836, -0.2659592, -0.031910174, 0.078132525, 0.6470892, -0.28053263, -0.18952954, 0.10174167, -0.8660025, 0.4749312, -0.074961275, 0.050736323, 0.037845034, 0.088446304, 0.2014157, -0.28794533, -0.27062154, 0.07520204, -0.5154939, -0.16101709, 0.18315947, -0.31622407, 0.31491187, 0.72120714, 0.17938687, -0.20015639, -0.07261648, -0.069424845, 0.4641994, -0.37641528, 0.019972838, -0.55050266, -0.0468921, 0.15563634, 0.536762, 0.35447353, -0.052544452, -0.2500377, -0.2003059, 0.64787114, -0.0812662, -0.8306557, 0.6260421, 0.5074377, 0.80805594, -0.14777714, 0.10732351, -0.25287554, -0.19226336, -0.049908377, -0.22145715, -0.30398428, 0.13637014, 0.6990555, -0.3411329, -0.63882506, -0.45870435, -0.52531976, 0.22960809, -0.42343894, 0.9150864, 0.5560932, 0.82766265, 0.3368435, 0.49894124, 0.4110324, 0.24729744, 0.123888955, -0.11225957, 0.5400382, -0.18255302, 0.3970428, -0.08024054, 0.6421889, 0.26095197, -0.03427285, -0.4462369, -0.09897425, 1.1412475, ...]</td>\n",
       "      <td><div class=\"pxt_document\" style=\"width:320px;\">\n",
       "            <a href=\"http://127.0.0.1:63209/Users/asiegel/.pixeltable/file_cache/76eb6d44c01f400782fdf21d9b9f06df_0_12283c17eaf278baaa6d81a4e97d55c643b0452023c8c5f5a2bd43715959a75e\">\n",
       "                /Users/asiegel/.pixeltable/file_cache/76eb6d44c01f400782fdf21d9b9f06df_0_12283c17eaf278baaa6d81a4e97d55c643b0452023c8c5f5a2bd43715959a75e\n",
       "            </a>\n",
       "        </div></td>\n",
       "    </tr>\n",
       "    <tr>\n",
       "      <td>3</td>\n",
       "      <td>Toggle the table of contents</td>\n",
       "      <td></td>\n",
       "      <td>{}</td>\n",
       "      <td>0</td>\n",
       "      <td>[-0.76352406, 0.2911742, -0.37728465, 0.19093746, -0.140064, -0.04945761, 0.3731809, -0.3496347, 0.40086436, -0.062332936, -0.7112134, -0.13447662, -0.05186095, -0.4350108, -0.18956795, -0.5171125, 0.10423254, 0.5449419, 0.077896446, -0.73348635, 0.34320197, 0.15734501, -0.68600506, 0.49173623, 0.2878567, -0.3630232, -0.6148664, 0.12523368, -0.17007872, -0.18953666, -0.15396738, 0.34241796, 0.09678027, 0.020176575, 0.09202233, -0.40456694, 0.2165412, -0.22784083, 0.17263062, -0.28882903, -0.40011954, 0.1046111, -0.71271527, -0.014165871, -0.15813112, -0.85605574, -0.0064400565, -0.052563738, 0.0008153692, 0.84786505, 0.26972294, 0.4653685, -1.0032237, 0.009683013, -0.013752021, 0.23498425, -0.017564178, -0.032678626, 0.10729927, 0.054923348, 0.13643183, -0.19399527, 0.09797632, 0.7128681, -0.17907284, 0.06496829, 0.16563877, 0.5973841, -0.35860634, 0.8271491, -0.42253146, 0.20565653, 0.23704973, 0.30834588, 0.62324, -0.4464764, -0.42047548, -0.4854938, -0.44868225, -0.04512793, 0.06387943, 0.57317567, 0.2054273, 0.22586891, -0.88775414, -0.0722231, 0.26414657, -0.05731967, 0.29917347, 0.28861794, -0.38662177, -0.24228738, 0.6345558, 0.5346524, -0.51448655, -0.18608361, 0.2659033, -0.6887446, 0.19043796, 0.21512395, ...]</td>\n",
       "      <td><div class=\"pxt_document\" style=\"width:320px;\">\n",
       "            <a href=\"http://127.0.0.1:63209/Users/asiegel/.pixeltable/file_cache/76eb6d44c01f400782fdf21d9b9f06df_0_12283c17eaf278baaa6d81a4e97d55c643b0452023c8c5f5a2bd43715959a75e\">\n",
       "                /Users/asiegel/.pixeltable/file_cache/76eb6d44c01f400782fdf21d9b9f06df_0_12283c17eaf278baaa6d81a4e97d55c643b0452023c8c5f5a2bd43715959a75e\n",
       "            </a>\n",
       "        </div></td>\n",
       "    </tr>\n",
       "  </tbody>\n",
       "</table>"
      ],
      "text/plain": [
       "   pos                          text title heading  sourceline  \\\n",
       "0    0                     Main menu            {}           0   \n",
       "1    1                 Search Search            {}           0   \n",
       "2    2                Personal tools            {}           0   \n",
       "3    3  Toggle the table of contents            {}           0   \n",
       "4    4                  81 languages            {}           0   \n",
       "5    5  Toggle limited content width            {}           0   \n",
       "6    0                     Main menu            {}           0   \n",
       "7    1                 Search Search            {}           0   \n",
       "8    2                Personal tools            {}           0   \n",
       "9    3  Toggle the table of contents            {}           0   \n",
       "\n",
       "                                    minilm_embedding  \\\n",
       "0  [0.013837013, 0.14026177, 0.28270477, -0.08148...   \n",
       "1  [-0.4388815, 0.2616052, -0.09626006, 0.2732437...   \n",
       "2  [-1.0809782, 0.14871615, -0.17175414, -0.16569...   \n",
       "3  [-0.76352406, 0.2911742, -0.37728465, 0.190937...   \n",
       "4  [-0.35333744, 0.30818775, 0.02243752, -0.09189...   \n",
       "5  [-0.15211964, 0.38546276, -0.1152843, -0.26573...   \n",
       "6  [0.013837013, 0.14026177, 0.28270477, -0.08148...   \n",
       "7  [-0.4388815, 0.2616052, -0.09626006, 0.2732437...   \n",
       "8  [-1.0809782, 0.14871615, -0.17175414, -0.16569...   \n",
       "9  [-0.76352406, 0.2911742, -0.37728465, 0.190937...   \n",
       "\n",
       "                                          source_doc  \n",
       "0  /Users/asiegel/.pixeltable/file_cache/26f95880...  \n",
       "1  /Users/asiegel/.pixeltable/file_cache/26f95880...  \n",
       "2  /Users/asiegel/.pixeltable/file_cache/26f95880...  \n",
       "3  /Users/asiegel/.pixeltable/file_cache/26f95880...  \n",
       "4  /Users/asiegel/.pixeltable/file_cache/26f95880...  \n",
       "5  /Users/asiegel/.pixeltable/file_cache/26f95880...  \n",
       "6  /Users/asiegel/.pixeltable/file_cache/76eb6d44...  \n",
       "7  /Users/asiegel/.pixeltable/file_cache/76eb6d44...  \n",
       "8  /Users/asiegel/.pixeltable/file_cache/76eb6d44...  \n",
       "9  /Users/asiegel/.pixeltable/file_cache/76eb6d44...  "
      ]
     },
     "execution_count": 23,
     "metadata": {},
     "output_type": "execute_result"
    }
   ],
   "source": [
    "chunks.head()"
   ]
  },
  {
   "cell_type": "markdown",
   "id": "258f0b29-aa1b-4292-8eb0-9dd3cd89d53b",
   "metadata": {},
   "source": [
    "Similarly, we might want to add a CLIP embedding to our workflow; once again, it's just another computed column:"
   ]
  },
  {
   "cell_type": "code",
   "execution_count": 24,
   "id": "bc4811c4",
   "metadata": {},
   "outputs": [
    {
     "name": "stdout",
     "output_type": "stream",
     "text": [
      "Computing cells: 100%|██████████████████████████████████████████| 24/24 [00:00<00:00, 24.95 cells/s]\n",
      "Added 24 column values with 0 errors.\n"
     ]
    },
    {
     "data": {
      "text/plain": [
       "UpdateStatus(num_rows=24, num_computed_values=24, num_excs=0, updated_cols=[], cols_with_excs=[])"
      ]
     },
     "execution_count": 24,
     "metadata": {},
     "output_type": "execute_result"
    }
   ],
   "source": [
    "from pixeltable.functions.huggingface import clip_text\n",
    "\n",
    "clip_model_id = 'openai/clip-vit-base-patch32'\n",
    "\n",
    "chunks.add_column(clip_embedding=clip_text(text=chunks.text, model_id=clip_model_id))"
   ]
  },
  {
   "cell_type": "code",
   "execution_count": 25,
   "id": "40f446a4",
   "metadata": {},
   "outputs": [
    {
     "data": {
      "text/html": [
       "<style type=\"text/css\">\n",
       "#T_8edaf th {\n",
       "  text-align: center;\n",
       "}\n",
       "#T_8edaf_row0_col0, #T_8edaf_row0_col1, #T_8edaf_row0_col2, #T_8edaf_row1_col0, #T_8edaf_row1_col1, #T_8edaf_row1_col2, #T_8edaf_row2_col0, #T_8edaf_row2_col1, #T_8edaf_row2_col2, #T_8edaf_row3_col0, #T_8edaf_row3_col1, #T_8edaf_row3_col2, #T_8edaf_row4_col0, #T_8edaf_row4_col1, #T_8edaf_row4_col2, #T_8edaf_row5_col0, #T_8edaf_row5_col1, #T_8edaf_row5_col2, #T_8edaf_row6_col0, #T_8edaf_row6_col1, #T_8edaf_row6_col2, #T_8edaf_row7_col0, #T_8edaf_row7_col1, #T_8edaf_row7_col2 {\n",
       "  white-space: pre-wrap;\n",
       "  text-align: left;\n",
       "}\n",
       "</style>\n",
       "<table id=\"T_8edaf\">\n",
       "  <thead>\n",
       "    <tr>\n",
       "      <th id=\"T_8edaf_level0_col0\" class=\"col_heading level0 col0\" >Column Name</th>\n",
       "      <th id=\"T_8edaf_level0_col1\" class=\"col_heading level0 col1\" >Type</th>\n",
       "      <th id=\"T_8edaf_level0_col2\" class=\"col_heading level0 col2\" >Computed With</th>\n",
       "    </tr>\n",
       "  </thead>\n",
       "  <tbody>\n",
       "    <tr>\n",
       "      <td id=\"T_8edaf_row0_col0\" class=\"data row0 col0\" >pos</td>\n",
       "      <td id=\"T_8edaf_row0_col1\" class=\"data row0 col1\" >int</td>\n",
       "      <td id=\"T_8edaf_row0_col2\" class=\"data row0 col2\" ></td>\n",
       "    </tr>\n",
       "    <tr>\n",
       "      <td id=\"T_8edaf_row1_col0\" class=\"data row1 col0\" >text</td>\n",
       "      <td id=\"T_8edaf_row1_col1\" class=\"data row1 col1\" >string</td>\n",
       "      <td id=\"T_8edaf_row1_col2\" class=\"data row1 col2\" ></td>\n",
       "    </tr>\n",
       "    <tr>\n",
       "      <td id=\"T_8edaf_row2_col0\" class=\"data row2 col0\" >title</td>\n",
       "      <td id=\"T_8edaf_row2_col1\" class=\"data row2 col1\" >string</td>\n",
       "      <td id=\"T_8edaf_row2_col2\" class=\"data row2 col2\" ></td>\n",
       "    </tr>\n",
       "    <tr>\n",
       "      <td id=\"T_8edaf_row3_col0\" class=\"data row3 col0\" >heading</td>\n",
       "      <td id=\"T_8edaf_row3_col1\" class=\"data row3 col1\" >json</td>\n",
       "      <td id=\"T_8edaf_row3_col2\" class=\"data row3 col2\" ></td>\n",
       "    </tr>\n",
       "    <tr>\n",
       "      <td id=\"T_8edaf_row4_col0\" class=\"data row4 col0\" >sourceline</td>\n",
       "      <td id=\"T_8edaf_row4_col1\" class=\"data row4 col1\" >int</td>\n",
       "      <td id=\"T_8edaf_row4_col2\" class=\"data row4 col2\" ></td>\n",
       "    </tr>\n",
       "    <tr>\n",
       "      <td id=\"T_8edaf_row5_col0\" class=\"data row5 col0\" >minilm_embedding</td>\n",
       "      <td id=\"T_8edaf_row5_col1\" class=\"data row5 col1\" >array((384,), dtype=FLOAT)</td>\n",
       "      <td id=\"T_8edaf_row5_col2\" class=\"data row5 col2\" >sentence_transformer(text, model_id='paraphrase-MiniLM-L6-v2')</td>\n",
       "    </tr>\n",
       "    <tr>\n",
       "      <td id=\"T_8edaf_row6_col0\" class=\"data row6 col0\" >clip_embedding</td>\n",
       "      <td id=\"T_8edaf_row6_col1\" class=\"data row6 col1\" >array((512,), dtype=FLOAT)</td>\n",
       "      <td id=\"T_8edaf_row6_col2\" class=\"data row6 col2\" >clip_text(text, model_id='openai/clip-vit-base-patch32')</td>\n",
       "    </tr>\n",
       "    <tr>\n",
       "      <td id=\"T_8edaf_row7_col0\" class=\"data row7 col0\" >source_doc</td>\n",
       "      <td id=\"T_8edaf_row7_col1\" class=\"data row7 col1\" >document</td>\n",
       "      <td id=\"T_8edaf_row7_col2\" class=\"data row7 col2\" ></td>\n",
       "    </tr>\n",
       "  </tbody>\n",
       "</table>\n"
      ],
      "text/plain": [
       "view 'chunks'\n",
       "\n",
       "     Column Name                       Type                                                  Computed With\n",
       "             pos                        int                                                               \n",
       "            text                     string                                                               \n",
       "           title                     string                                                               \n",
       "         heading                       json                                                               \n",
       "      sourceline                        int                                                               \n",
       "minilm_embedding array((384,), dtype=FLOAT) sentence_transformer(text, model_id='paraphrase-MiniLM-L6-v2')\n",
       "  clip_embedding array((512,), dtype=FLOAT)       clip_text(text, model_id='openai/clip-vit-base-patch32')\n",
       "      source_doc                   document                                                               "
      ]
     },
     "execution_count": 25,
     "metadata": {},
     "output_type": "execute_result"
    }
   ],
   "source": [
    "chunks"
   ]
  },
  {
   "cell_type": "code",
   "execution_count": 26,
   "id": "695af1d1",
   "metadata": {
    "scrolled": true
   },
   "outputs": [
    {
     "data": {
      "text/html": [
       "<table border=\"1\" class=\"dataframe\">\n",
       "  <thead>\n",
       "    <tr style=\"text-align: right;\">\n",
       "      <th>pos</th>\n",
       "      <th>text</th>\n",
       "      <th>title</th>\n",
       "      <th>heading</th>\n",
       "      <th>sourceline</th>\n",
       "      <th>minilm_embedding</th>\n",
       "      <th>clip_embedding</th>\n",
       "      <th>source_doc</th>\n",
       "    </tr>\n",
       "  </thead>\n",
       "  <tbody>\n",
       "    <tr>\n",
       "      <td>0</td>\n",
       "      <td>Main menu</td>\n",
       "      <td></td>\n",
       "      <td>{}</td>\n",
       "      <td>0</td>\n",
       "      <td>[0.013837013, 0.14026177, 0.28270477, -0.08148003, -0.49137008, 0.23778768, -0.25082362, -0.23600236, 0.47489968, -0.27540472, -0.7250494, -0.04896789, -0.17751567, -0.60430855, -0.10019561, -1.0068173, 1.0703558, -0.45004058, 0.4654496, -0.14810751, 0.13316727, -0.10193365, -0.8039463, 0.039722055, 0.0030924305, -0.054789938, -0.08696906, 0.6339634, -0.18833934, -0.72005594, 0.045729116, -0.01488281, 0.63569754, -0.019973017, -0.08143306, -0.227109, -0.23942484, -0.5756098, -0.2401254, -0.117910385, -0.13598639, 0.6119604, -0.46512628, 0.20938733, 0.050053112, -0.35243317, -0.26929402, -0.1806831, 0.42443514, 0.36750057, -0.30398357, 0.5808253, -0.2442749, 0.062205933, 0.4597018, 0.74200726, -0.28308427, 0.17852956, -0.099436596, 0.32848102, -0.023009568, -0.118511856, -0.37992948, 0.114756465, 0.94367504, 0.4259227, -0.214038, 0.6544014, -0.62131244, 0.105964944, -0.5896095, -0.31305873, 0.25245723, 0.395325, 0.58011234, -0.3402485, -0.098590426, -0.3611181, -0.85350585, 0.3868234, 0.23653977, 0.09506751, -0.35156268, -0.64272165, 0.6753231, -0.21587954, -0.90433544, -0.46418548, -0.24809398, -0.27525756, 0.0915171, -0.27818486, 0.38402498, 0.12188502, 0.4549827, -0.2626203, -0.14732328, -1.1077989, 0.24514978, 1.0587058, ...]</td>\n",
       "      <td>[-0.5531318, 0.16027026, -0.48683742, 0.2951706, -0.5182193, 0.052434415, -0.10326098, -1.1064764, 0.37777865, 0.39373252, 0.38947615, -0.5074836, 0.62014693, -0.25353014, 0.29806983, -0.38374975, 0.36246124, -0.14680131, -0.14534412, 0.031055683, -0.11341088, 0.06288045, 0.141539, -0.339424, -0.009101639, 0.2568645, -0.2690439, -0.2006097, -0.21581353, 0.14957626, 0.15211987, 0.22838588, -0.14624989, -0.124020696, -0.6190992, -0.2951612, -0.011271886, 0.24980156, -0.23616475, -0.23461491, -0.26393172, -0.2659961, -0.2944844, 0.49428883, 0.43954688, -0.19474587, 0.027549759, -0.18032664, -0.26314127, 0.045581143, 0.07658929, -0.4105302, -0.11526471, -0.2673871, -0.12131719, 0.19915521, -0.2604302, -0.10363582, -0.107538916, 0.1527329, 0.076188356, -0.38125554, 0.29528502, 0.09472762, -0.15539111, -0.2507307, -0.07677517, -0.063536294, -0.18434253, -0.19891155, 0.04470257, 0.022209646, -0.1614833, 0.22549817, 0.11542391, -0.07204664, 0.27711573, 0.047256205, 0.17023315, -0.06887744, 0.26570502, -0.014571703, 0.1640958, 0.09986951, -0.07733063, 0.057609234, -0.4284487, 0.033188056, 0.7931183, 0.12731093, -0.010633021, -0.027210422, -1.0682269, 0.39175278, -0.1340103, 0.11624803, 0.066766635, 0.37909842, 0.16639799, -0.73498434, ...]</td>\n",
       "      <td><div class=\"pxt_document\" style=\"width:320px;\">\n",
       "            <a href=\"http://127.0.0.1:63209/Users/asiegel/.pixeltable/file_cache/26f958802a424414b408646538f72715_0_3c5b8031c7610e17a42ab6df79e614c2ee1a85dbd022497373d574cf65e15c51\">\n",
       "                /Users/asiegel/.pixeltable/file_cache/26f958802a424414b408646538f72715_0_3c5b8031c7610e17a42ab6df79e614c2ee1a85dbd022497373d574cf65e15c51\n",
       "            </a>\n",
       "        </div></td>\n",
       "    </tr>\n",
       "    <tr>\n",
       "      <td>1</td>\n",
       "      <td>Search Search</td>\n",
       "      <td></td>\n",
       "      <td>{}</td>\n",
       "      <td>0</td>\n",
       "      <td>[-0.4388815, 0.2616052, -0.09626006, 0.27324373, 0.32822007, 0.16367495, 0.45697403, -0.35676295, 0.134427, -0.1315698, 0.8494229, -0.107490435, -0.015755985, 0.112038106, -0.07407861, -0.6957965, 0.14700912, 0.06417219, 0.40219134, -0.23525691, 0.51686716, 0.096137054, -0.31232864, -0.5254353, 0.048178654, -0.31934243, -0.6444056, -0.48666033, 0.52254075, -0.3103736, 0.3446966, -0.21178645, 0.23859325, 0.10162328, 0.8573472, -0.18241832, -0.34733444, -0.20165437, 0.15406382, -0.19690192, 0.10764988, -0.30204758, -0.06345734, 0.8638339, -0.037420724, -0.022490362, -0.6369642, 0.4802386, 0.29758453, 0.42319107, -0.8741574, -0.4897521, -0.45491284, -0.12441757, 0.07507527, 0.23504484, -0.07021256, -0.17961068, 0.2916925, -0.48828724, 0.9852896, 0.26137888, -0.7030126, 0.31352597, -0.005079925, 0.052201174, -0.1211284, 0.006912276, 0.40216282, 0.22954431, 0.5131579, 0.26010892, -0.85585743, 0.7217986, -0.8300178, 0.31207216, -0.07977496, -0.49203598, -0.018743463, -0.31410235, -0.2637596, -0.31347972, 0.0461054, 0.13912694, -0.08210782, -0.28269756, 0.22598626, 0.32890493, 0.6892837, -0.17732784, -0.13792439, -0.44667035, -0.5042677, -0.42169738, -0.88269377, -0.058416136, 0.114198565, 0.17162606, 0.64845335, 1.0464563, ...]</td>\n",
       "      <td>[-0.12629531, -0.07694455, -0.24695067, 0.1703849, -0.116655484, 0.07296593, -0.20413081, -1.5659759, 0.029758586, -0.2612388, 0.04036955, 0.051568616, 0.16058469, 0.05907388, 0.38540348, 0.06859595, 0.019172423, 0.05448827, -0.11985527, -0.14081134, 0.30882344, -0.07627646, -0.13579048, -0.124700315, -0.17183591, 0.26261923, -0.024988258, 0.11412188, -0.29200915, 0.17474392, 0.094868734, -0.20584448, 0.13068438, 0.3139735, -0.30524126, 0.40679076, 0.10481771, 0.20626934, 0.14560445, -0.3557161, 0.1285901, -0.47764894, 0.052192777, 0.037408583, -0.3319631, 0.2591175, -0.24014802, 0.04854581, 0.06903092, 0.059691235, -0.041960362, 0.1487578, 0.17824541, 0.25933746, 0.23547356, 0.27059087, -0.18609473, -0.057953447, -0.15848044, 0.39927596, 0.073052034, -0.36917394, 0.25086877, -0.19590425, 0.072851256, -0.21282382, -0.17740838, -0.04656842, -0.011108203, -0.271745, -0.16953024, -0.31732634, -0.01975997, 0.0010505777, 0.21822868, -0.25579542, -0.45461774, -0.041617744, 0.14618567, -0.1804772, -0.16259916, -0.049809404, 0.20554411, 0.24418145, 0.10659656, 0.059369642, -0.18801515, -0.5357843, 0.46299982, 0.055238698, -0.29760614, 0.12586643, -1.9431536, 0.27596548, -0.0011497459, 0.22813194, -0.03529167, 0.2583362, 0.12296044, -0.044585187, ...]</td>\n",
       "      <td><div class=\"pxt_document\" style=\"width:320px;\">\n",
       "            <a href=\"http://127.0.0.1:63209/Users/asiegel/.pixeltable/file_cache/26f958802a424414b408646538f72715_0_3c5b8031c7610e17a42ab6df79e614c2ee1a85dbd022497373d574cf65e15c51\">\n",
       "                /Users/asiegel/.pixeltable/file_cache/26f958802a424414b408646538f72715_0_3c5b8031c7610e17a42ab6df79e614c2ee1a85dbd022497373d574cf65e15c51\n",
       "            </a>\n",
       "        </div></td>\n",
       "    </tr>\n",
       "    <tr>\n",
       "      <td>2</td>\n",
       "      <td>Personal tools</td>\n",
       "      <td></td>\n",
       "      <td>{}</td>\n",
       "      <td>0</td>\n",
       "      <td>[-1.0809782, 0.14871615, -0.17175414, -0.16569878, 0.21554732, -0.03357071, 0.4761501, 0.23835604, 0.19804165, -0.08035711, -0.32521123, -0.009721253, 0.23285279, -0.13696082, -0.06707458, -0.16528586, -0.058667198, 0.7998024, -0.06131527, -0.051864143, 0.5496594, 0.18582836, -0.2659592, -0.031910174, 0.078132525, 0.6470892, -0.28053263, -0.18952954, 0.10174167, -0.8660025, 0.4749312, -0.074961275, 0.050736323, 0.037845034, 0.088446304, 0.2014157, -0.28794533, -0.27062154, 0.07520204, -0.5154939, -0.16101709, 0.18315947, -0.31622407, 0.31491187, 0.72120714, 0.17938687, -0.20015639, -0.07261648, -0.069424845, 0.4641994, -0.37641528, 0.019972838, -0.55050266, -0.0468921, 0.15563634, 0.536762, 0.35447353, -0.052544452, -0.2500377, -0.2003059, 0.64787114, -0.0812662, -0.8306557, 0.6260421, 0.5074377, 0.80805594, -0.14777714, 0.10732351, -0.25287554, -0.19226336, -0.049908377, -0.22145715, -0.30398428, 0.13637014, 0.6990555, -0.3411329, -0.63882506, -0.45870435, -0.52531976, 0.22960809, -0.42343894, 0.9150864, 0.5560932, 0.82766265, 0.3368435, 0.49894124, 0.4110324, 0.24729744, 0.123888955, -0.11225957, 0.5400382, -0.18255302, 0.3970428, -0.08024054, 0.6421889, 0.26095197, -0.03427285, -0.4462369, -0.09897425, 1.1412475, ...]</td>\n",
       "      <td>[-0.20458554, 0.17220758, -0.0485206, 0.1639336, 0.005077465, 0.008720387, -0.23792481, -1.1667616, -0.112382166, -0.33927485, -0.057829898, -0.30549106, -0.075962596, 0.046494618, 0.055372562, -0.06885328, 0.36518767, -0.06918052, -0.13062161, -0.1536844, 0.22931306, 0.43585724, -0.08563784, -0.041166972, -0.25931945, 0.23090626, -0.14956851, 0.10280151, -0.09573862, 0.29523638, -0.042855825, -0.45440197, 0.13828212, 0.045055848, -0.69300526, -0.25773177, 0.12640822, -0.08484482, 0.23427612, -0.4646355, -0.014724327, -0.022386184, 0.291217, 0.16627483, -0.00425359, -0.123552315, 0.05954013, 0.04437843, 0.14394033, 0.079390906, 0.04080865, -0.25796533, -0.21452753, -0.08087331, 0.025918301, 0.06732068, -0.21227947, 0.03010841, 0.25570354, -0.3199041, -0.28317925, -0.27683067, 0.24915223, 0.000845011, 0.15688731, -0.23345436, -0.12545301, 0.232802, 0.07003277, -0.046354253, 0.13479947, -0.086028226, 0.29755598, 0.067997724, 0.11479755, -0.045700483, 0.09951596, -0.00672922, 0.08833837, -0.54363537, -0.14118557, -0.09079236, -0.12233155, 0.2212125, -0.1728841, -0.207063, 0.06818004, -0.5677625, 0.26784438, 0.055413682, -0.17554776, 0.16131523, -1.6133943, 0.36336842, 0.021336209, -0.016830143, -0.26929674, 0.38654852, -0.13187703, 0.1801156, ...]</td>\n",
       "      <td><div class=\"pxt_document\" style=\"width:320px;\">\n",
       "            <a href=\"http://127.0.0.1:63209/Users/asiegel/.pixeltable/file_cache/26f958802a424414b408646538f72715_0_3c5b8031c7610e17a42ab6df79e614c2ee1a85dbd022497373d574cf65e15c51\">\n",
       "                /Users/asiegel/.pixeltable/file_cache/26f958802a424414b408646538f72715_0_3c5b8031c7610e17a42ab6df79e614c2ee1a85dbd022497373d574cf65e15c51\n",
       "            </a>\n",
       "        </div></td>\n",
       "    </tr>\n",
       "    <tr>\n",
       "      <td>3</td>\n",
       "      <td>Toggle the table of contents</td>\n",
       "      <td></td>\n",
       "      <td>{}</td>\n",
       "      <td>0</td>\n",
       "      <td>[-0.76352406, 0.2911742, -0.37728465, 0.19093746, -0.140064, -0.04945761, 0.3731809, -0.3496347, 0.40086436, -0.062332936, -0.7112134, -0.13447662, -0.05186095, -0.4350108, -0.18956795, -0.5171125, 0.10423254, 0.5449419, 0.077896446, -0.73348635, 0.34320197, 0.15734501, -0.68600506, 0.49173623, 0.2878567, -0.3630232, -0.6148664, 0.12523368, -0.17007872, -0.18953666, -0.15396738, 0.34241796, 0.09678027, 0.020176575, 0.09202233, -0.40456694, 0.2165412, -0.22784083, 0.17263062, -0.28882903, -0.40011954, 0.1046111, -0.71271527, -0.014165871, -0.15813112, -0.85605574, -0.0064400565, -0.052563738, 0.0008153692, 0.84786505, 0.26972294, 0.4653685, -1.0032237, 0.009683013, -0.013752021, 0.23498425, -0.017564178, -0.032678626, 0.10729927, 0.054923348, 0.13643183, -0.19399527, 0.09797632, 0.7128681, -0.17907284, 0.06496829, 0.16563877, 0.5973841, -0.35860634, 0.8271491, -0.42253146, 0.20565653, 0.23704973, 0.30834588, 0.62324, -0.4464764, -0.42047548, -0.4854938, -0.44868225, -0.04512793, 0.06387943, 0.57317567, 0.2054273, 0.22586891, -0.88775414, -0.0722231, 0.26414657, -0.05731967, 0.29917347, 0.28861794, -0.38662177, -0.24228738, 0.6345558, 0.5346524, -0.51448655, -0.18608361, 0.2659033, -0.6887446, 0.19043796, 0.21512395, ...]</td>\n",
       "      <td>[-0.005423214, 0.5659227, -0.4910263, 0.0694331, 0.1823501, 0.20450561, -0.10508387, -1.184247, -0.05442602, 0.11149966, -0.06555072, -0.01358008, -0.12767978, -0.07292564, 0.36098775, -0.22222364, -0.25297746, 0.03996242, -0.6121921, 0.33806172, -0.065998994, 0.34501973, 0.10535258, -0.30768058, 0.07479844, 0.19308311, -0.13695867, 0.43060836, -0.19231877, 0.0031706481, 0.541486, 0.20323408, -0.18755071, -0.08512785, -0.2627378, -0.3793272, 0.019191463, 0.35641894, 0.030243667, -0.4861292, -0.011907903, -0.13284554, -0.2559565, 0.3541765, -0.1827185, -0.1295162, 0.0049961237, 0.43368745, -0.30694157, -0.20884004, -0.044092722, -0.2528528, -0.09669434, -0.15808743, 0.29886913, -0.098883644, -0.0474992, 0.2405852, -0.2056207, -0.03508516, -0.15220848, 0.16072603, -0.17891303, 0.08281041, -0.13319185, -0.042509336, -0.2140855, 0.056805644, -0.25885808, 0.28787652, 0.39755774, -0.05693506, -0.30927414, 0.09456241, -0.2019349, 0.26661727, -0.2693914, -0.026623314, 0.031790003, 0.14321059, -0.03521533, 0.10302337, -0.19598177, 0.22302249, -0.23572083, -0.16793199, 0.08797665, 0.20244175, 0.20940642, -0.27899504, 0.087053515, 0.17754373, -1.5792795, 0.23080936, 0.035087366, 0.20382619, -0.01034121, 0.0048282803, 0.06471122, -0.040935352, ...]</td>\n",
       "      <td><div class=\"pxt_document\" style=\"width:320px;\">\n",
       "            <a href=\"http://127.0.0.1:63209/Users/asiegel/.pixeltable/file_cache/26f958802a424414b408646538f72715_0_3c5b8031c7610e17a42ab6df79e614c2ee1a85dbd022497373d574cf65e15c51\">\n",
       "                /Users/asiegel/.pixeltable/file_cache/26f958802a424414b408646538f72715_0_3c5b8031c7610e17a42ab6df79e614c2ee1a85dbd022497373d574cf65e15c51\n",
       "            </a>\n",
       "        </div></td>\n",
       "    </tr>\n",
       "    <tr>\n",
       "      <td>4</td>\n",
       "      <td>81 languages</td>\n",
       "      <td></td>\n",
       "      <td>{}</td>\n",
       "      <td>0</td>\n",
       "      <td>[-0.35333744, 0.30818775, 0.02243752, -0.09189291, -0.3976273, -0.2298608, 0.02941669, -0.8906268, 0.30699024, 0.08826257, 0.030213462, 0.16857189, 0.707843, -0.3639549, 0.32921958, 0.3625542, -0.119446225, 0.11219951, -0.6614408, -0.66407794, 0.5406015, 0.13751632, 0.10910328, -0.10940779, 0.2535726, 0.8003849, -0.062481113, -0.11061655, 0.27831066, -0.38975567, -0.24461454, 0.7062502, 0.3143381, 0.20606583, -0.63385075, 0.042145625, 0.19349475, -0.3385169, -0.055553466, 0.56680155, -0.5775918, 0.46419185, 0.82659125, 0.009503074, 0.14892751, -0.35739332, -0.51948076, 0.51623285, -0.15138075, 0.21251482, -0.20885395, 0.015218422, -0.20193988, -0.054262385, 0.3957935, -0.78115153, 0.09597854, 0.56954837, -0.31125587, -0.35390893, -0.38086376, -0.38512692, -0.42455178, 0.11628569, -0.14392239, -0.18747799, -0.2936196, 0.22382495, -0.46879995, 0.13011076, -0.59924674, -0.18403396, 0.024937525, 0.1730173, 0.16717155, 0.08859884, -0.06859409, -0.13122281, 0.13465054, -0.2630668, 0.28832006, -0.38903418, 0.353293, -0.21508962, 0.5406002, 0.1467801, -0.17857766, 0.23695262, 0.5715889, -0.27528358, -0.10049325, -0.37846547, 0.6332442, 0.18606909, 0.70320666, -0.37136123, 0.5031585, -0.2031708, -0.18354443, 1.1865332, ...]</td>\n",
       "      <td>[-0.34331533, 0.20273906, -0.090137824, 0.30742514, 0.23061518, -0.31086007, 0.23634782, -1.1996468, -0.088177, -0.17096154, -0.05692968, -0.1643636, 0.15055364, -0.073372535, -0.010390108, -0.01978602, -0.037797093, -0.14029486, 0.049555123, 0.03419078, 0.5253226, -0.07576735, 0.09626335, -0.16718858, -0.53590447, 0.3203159, 0.3498159, 0.024152553, 0.07323911, 0.419688, 0.07274667, -0.18597865, -0.43679327, 0.1300508, -0.21003501, -0.13142243, 0.074846454, 0.089177266, 0.35480726, -0.30817708, -0.14566673, -0.35681996, 0.4717781, 0.18359682, -0.28911683, 0.2669197, -0.012217305, -0.31359598, 0.03183512, 0.16968557, 0.06520302, -0.31532475, -0.18230537, 0.20127292, 0.028945383, 0.008872973, -0.16313554, -0.0688984, 0.18896095, -0.11481496, 0.13484068, -0.36442962, -0.07948157, 0.15399662, -0.44619977, -0.3595927, -0.09778817, -0.12285096, 0.09749078, -0.28188482, 0.36443797, -0.28505477, 0.044671863, -0.22835582, -0.21781105, -0.0093451645, 0.6208436, -0.027202418, 0.00029614213, -0.009590505, 0.13736574, 0.3078496, 0.26516414, 0.12612073, -0.12918133, -0.087018944, -0.2513946, -0.1005374, 0.21471377, -0.05087362, 0.18219891, 0.16848844, -1.6397569, 0.5407484, 0.037145734, 0.15057679, 0.14737728, -0.13282962, 0.054789115, -0.042221297, ...]</td>\n",
       "      <td><div class=\"pxt_document\" style=\"width:320px;\">\n",
       "            <a href=\"http://127.0.0.1:63209/Users/asiegel/.pixeltable/file_cache/26f958802a424414b408646538f72715_0_3c5b8031c7610e17a42ab6df79e614c2ee1a85dbd022497373d574cf65e15c51\">\n",
       "                /Users/asiegel/.pixeltable/file_cache/26f958802a424414b408646538f72715_0_3c5b8031c7610e17a42ab6df79e614c2ee1a85dbd022497373d574cf65e15c51\n",
       "            </a>\n",
       "        </div></td>\n",
       "    </tr>\n",
       "    <tr>\n",
       "      <td>5</td>\n",
       "      <td>Toggle limited content width</td>\n",
       "      <td></td>\n",
       "      <td>{}</td>\n",
       "      <td>0</td>\n",
       "      <td>[-0.15211964, 0.38546276, -0.1152843, -0.26573178, -0.16143265, 0.054834537, -0.25513166, -0.17990258, -0.0982026, -0.15432118, -0.21740043, 0.37965918, 0.04919037, -0.017403351, 0.49209708, 0.41829243, 0.28065628, 0.5152388, -0.55857974, -0.8406034, 0.42201152, -0.35736302, 0.07185735, -0.30894467, -0.06297999, -0.5827278, -0.41154352, -0.21477029, 0.52801836, -0.5844453, 0.20428161, 0.116275035, 0.6030544, -0.27804944, -0.04783654, -0.7070529, 0.19192883, 0.061144404, -0.08976445, -0.15778783, -0.80361944, 0.50352865, -0.6300267, 0.22592299, -0.024122408, -0.43384585, 0.06896707, -0.03888852, 0.055102877, 0.57812107, 0.6730588, 0.046609852, -0.4967969, 0.36419937, -0.1735092, -0.21875642, -0.6855029, 0.0054628933, 0.16509141, 0.13048548, 0.4412918, -0.031003084, 0.54369545, 0.5677417, -0.43795553, 0.073421575, 0.31866583, 0.2080768, -0.26357657, 0.66694576, -0.2782317, -0.4245103, 0.15679206, 0.4126838, 0.3401442, -0.63811857, -0.54969794, 0.26456127, -0.20333363, -0.19035788, 0.12801765, 0.22053419, 0.1941147, -0.06459711, -0.6125251, -0.3684621, -0.026233286, -0.25659725, 0.15949713, 0.13649212, -0.59270555, 0.15782098, 0.07666095, 0.5983019, -0.3760511, -0.986836, -0.46358994, -1.0552348, -0.16911152, 0.28365183, ...]</td>\n",
       "      <td>[-0.091565214, 0.0732923, -0.08063167, 0.12195258, 0.11169547, 0.33529535, -0.2709521, -0.86037713, 0.49449766, 0.0054187775, 0.07144155, 0.26005045, -0.024883296, -0.03971181, 0.29828972, -0.17755392, -0.055638935, 0.023078922, -0.23991844, 0.1118772, 0.17012666, 0.06920774, -0.29045218, -0.33408982, -0.17218499, 0.114490226, 0.010212481, 0.5126702, -0.06908859, 0.19891764, 0.1808511, 0.6118871, -0.2025692, 0.11934341, -0.02145544, -0.13673407, -0.2357264, -0.062743865, 0.3907182, -0.26535547, -0.30953854, -0.0794371, -0.16496758, -0.22168432, 0.04767448, 0.030404385, -0.27747947, 0.5372426, -0.33234125, -0.36025703, -0.071698, -0.089984715, -0.19007948, -0.03948431, 0.24016726, -0.23082045, 0.046608496, 0.0437994, -0.3637641, -0.07523176, 0.03809631, -0.0024912974, -0.35827115, -0.14696714, -0.0027331614, 0.0034708336, -0.004191707, -0.01159915, 0.06747557, -0.0063892677, 0.20131825, -0.20731203, -0.012110682, 0.19452645, 0.2446104, 0.3582131, -0.1504337, -0.45276055, 0.16851528, 0.18276085, -0.054357313, -0.010257182, -0.13558345, 0.09065183, -0.18898602, 0.16080517, 0.21610081, -0.07374092, 0.23002754, -0.18459608, 0.101811945, 0.25747654, -1.5904262, 0.5457829, -0.17034297, 0.14387102, 0.07409955, -0.0026551392, -0.1499602, -0.118895076, ...]</td>\n",
       "      <td><div class=\"pxt_document\" style=\"width:320px;\">\n",
       "            <a href=\"http://127.0.0.1:63209/Users/asiegel/.pixeltable/file_cache/26f958802a424414b408646538f72715_0_3c5b8031c7610e17a42ab6df79e614c2ee1a85dbd022497373d574cf65e15c51\">\n",
       "                /Users/asiegel/.pixeltable/file_cache/26f958802a424414b408646538f72715_0_3c5b8031c7610e17a42ab6df79e614c2ee1a85dbd022497373d574cf65e15c51\n",
       "            </a>\n",
       "        </div></td>\n",
       "    </tr>\n",
       "    <tr>\n",
       "      <td>0</td>\n",
       "      <td>Main menu</td>\n",
       "      <td></td>\n",
       "      <td>{}</td>\n",
       "      <td>0</td>\n",
       "      <td>[0.013837013, 0.14026177, 0.28270477, -0.08148003, -0.49137008, 0.23778768, -0.25082362, -0.23600236, 0.47489968, -0.27540472, -0.7250494, -0.04896789, -0.17751567, -0.60430855, -0.10019561, -1.0068173, 1.0703558, -0.45004058, 0.4654496, -0.14810751, 0.13316727, -0.10193365, -0.8039463, 0.039722055, 0.0030924305, -0.054789938, -0.08696906, 0.6339634, -0.18833934, -0.72005594, 0.045729116, -0.01488281, 0.63569754, -0.019973017, -0.08143306, -0.227109, -0.23942484, -0.5756098, -0.2401254, -0.117910385, -0.13598639, 0.6119604, -0.46512628, 0.20938733, 0.050053112, -0.35243317, -0.26929402, -0.1806831, 0.42443514, 0.36750057, -0.30398357, 0.5808253, -0.2442749, 0.062205933, 0.4597018, 0.74200726, -0.28308427, 0.17852956, -0.099436596, 0.32848102, -0.023009568, -0.118511856, -0.37992948, 0.114756465, 0.94367504, 0.4259227, -0.214038, 0.6544014, -0.62131244, 0.105964944, -0.5896095, -0.31305873, 0.25245723, 0.395325, 0.58011234, -0.3402485, -0.098590426, -0.3611181, -0.85350585, 0.3868234, 0.23653977, 0.09506751, -0.35156268, -0.64272165, 0.6753231, -0.21587954, -0.90433544, -0.46418548, -0.24809398, -0.27525756, 0.0915171, -0.27818486, 0.38402498, 0.12188502, 0.4549827, -0.2626203, -0.14732328, -1.1077989, 0.24514978, 1.0587058, ...]</td>\n",
       "      <td>[-0.5531318, 0.16027026, -0.48683742, 0.2951706, -0.5182193, 0.052434415, -0.10326098, -1.1064764, 0.37777865, 0.39373252, 0.38947615, -0.5074836, 0.62014693, -0.25353014, 0.29806983, -0.38374975, 0.36246124, -0.14680131, -0.14534412, 0.031055683, -0.11341088, 0.06288045, 0.141539, -0.339424, -0.009101639, 0.2568645, -0.2690439, -0.2006097, -0.21581353, 0.14957626, 0.15211987, 0.22838588, -0.14624989, -0.124020696, -0.6190992, -0.2951612, -0.011271886, 0.24980156, -0.23616475, -0.23461491, -0.26393172, -0.2659961, -0.2944844, 0.49428883, 0.43954688, -0.19474587, 0.027549759, -0.18032664, -0.26314127, 0.045581143, 0.07658929, -0.4105302, -0.11526471, -0.2673871, -0.12131719, 0.19915521, -0.2604302, -0.10363582, -0.107538916, 0.1527329, 0.076188356, -0.38125554, 0.29528502, 0.09472762, -0.15539111, -0.2507307, -0.07677517, -0.063536294, -0.18434253, -0.19891155, 0.04470257, 0.022209646, -0.1614833, 0.22549817, 0.11542391, -0.07204664, 0.27711573, 0.047256205, 0.17023315, -0.06887744, 0.26570502, -0.014571703, 0.1640958, 0.09986951, -0.07733063, 0.057609234, -0.4284487, 0.033188056, 0.7931183, 0.12731093, -0.010633021, -0.027210422, -1.0682269, 0.39175278, -0.1340103, 0.11624803, 0.066766635, 0.37909842, 0.16639799, -0.73498434, ...]</td>\n",
       "      <td><div class=\"pxt_document\" style=\"width:320px;\">\n",
       "            <a href=\"http://127.0.0.1:63209/Users/asiegel/.pixeltable/file_cache/76eb6d44c01f400782fdf21d9b9f06df_0_12283c17eaf278baaa6d81a4e97d55c643b0452023c8c5f5a2bd43715959a75e\">\n",
       "                /Users/asiegel/.pixeltable/file_cache/76eb6d44c01f400782fdf21d9b9f06df_0_12283c17eaf278baaa6d81a4e97d55c643b0452023c8c5f5a2bd43715959a75e\n",
       "            </a>\n",
       "        </div></td>\n",
       "    </tr>\n",
       "    <tr>\n",
       "      <td>1</td>\n",
       "      <td>Search Search</td>\n",
       "      <td></td>\n",
       "      <td>{}</td>\n",
       "      <td>0</td>\n",
       "      <td>[-0.4388815, 0.2616052, -0.09626006, 0.27324373, 0.32822007, 0.16367495, 0.45697403, -0.35676295, 0.134427, -0.1315698, 0.8494229, -0.107490435, -0.015755985, 0.112038106, -0.07407861, -0.6957965, 0.14700912, 0.06417219, 0.40219134, -0.23525691, 0.51686716, 0.096137054, -0.31232864, -0.5254353, 0.048178654, -0.31934243, -0.6444056, -0.48666033, 0.52254075, -0.3103736, 0.3446966, -0.21178645, 0.23859325, 0.10162328, 0.8573472, -0.18241832, -0.34733444, -0.20165437, 0.15406382, -0.19690192, 0.10764988, -0.30204758, -0.06345734, 0.8638339, -0.037420724, -0.022490362, -0.6369642, 0.4802386, 0.29758453, 0.42319107, -0.8741574, -0.4897521, -0.45491284, -0.12441757, 0.07507527, 0.23504484, -0.07021256, -0.17961068, 0.2916925, -0.48828724, 0.9852896, 0.26137888, -0.7030126, 0.31352597, -0.005079925, 0.052201174, -0.1211284, 0.006912276, 0.40216282, 0.22954431, 0.5131579, 0.26010892, -0.85585743, 0.7217986, -0.8300178, 0.31207216, -0.07977496, -0.49203598, -0.018743463, -0.31410235, -0.2637596, -0.31347972, 0.0461054, 0.13912694, -0.08210782, -0.28269756, 0.22598626, 0.32890493, 0.6892837, -0.17732784, -0.13792439, -0.44667035, -0.5042677, -0.42169738, -0.88269377, -0.058416136, 0.114198565, 0.17162606, 0.64845335, 1.0464563, ...]</td>\n",
       "      <td>[-0.12629531, -0.07694455, -0.24695067, 0.1703849, -0.116655484, 0.07296593, -0.20413081, -1.5659759, 0.029758586, -0.2612388, 0.04036955, 0.051568616, 0.16058469, 0.05907388, 0.38540348, 0.06859595, 0.019172423, 0.05448827, -0.11985527, -0.14081134, 0.30882344, -0.07627646, -0.13579048, -0.124700315, -0.17183591, 0.26261923, -0.024988258, 0.11412188, -0.29200915, 0.17474392, 0.094868734, -0.20584448, 0.13068438, 0.3139735, -0.30524126, 0.40679076, 0.10481771, 0.20626934, 0.14560445, -0.3557161, 0.1285901, -0.47764894, 0.052192777, 0.037408583, -0.3319631, 0.2591175, -0.24014802, 0.04854581, 0.06903092, 0.059691235, -0.041960362, 0.1487578, 0.17824541, 0.25933746, 0.23547356, 0.27059087, -0.18609473, -0.057953447, -0.15848044, 0.39927596, 0.073052034, -0.36917394, 0.25086877, -0.19590425, 0.072851256, -0.21282382, -0.17740838, -0.04656842, -0.011108203, -0.271745, -0.16953024, -0.31732634, -0.01975997, 0.0010505777, 0.21822868, -0.25579542, -0.45461774, -0.041617744, 0.14618567, -0.1804772, -0.16259916, -0.049809404, 0.20554411, 0.24418145, 0.10659656, 0.059369642, -0.18801515, -0.5357843, 0.46299982, 0.055238698, -0.29760614, 0.12586643, -1.9431536, 0.27596548, -0.0011497459, 0.22813194, -0.03529167, 0.2583362, 0.12296044, -0.044585187, ...]</td>\n",
       "      <td><div class=\"pxt_document\" style=\"width:320px;\">\n",
       "            <a href=\"http://127.0.0.1:63209/Users/asiegel/.pixeltable/file_cache/76eb6d44c01f400782fdf21d9b9f06df_0_12283c17eaf278baaa6d81a4e97d55c643b0452023c8c5f5a2bd43715959a75e\">\n",
       "                /Users/asiegel/.pixeltable/file_cache/76eb6d44c01f400782fdf21d9b9f06df_0_12283c17eaf278baaa6d81a4e97d55c643b0452023c8c5f5a2bd43715959a75e\n",
       "            </a>\n",
       "        </div></td>\n",
       "    </tr>\n",
       "    <tr>\n",
       "      <td>2</td>\n",
       "      <td>Personal tools</td>\n",
       "      <td></td>\n",
       "      <td>{}</td>\n",
       "      <td>0</td>\n",
       "      <td>[-1.0809782, 0.14871615, -0.17175414, -0.16569878, 0.21554732, -0.03357071, 0.4761501, 0.23835604, 0.19804165, -0.08035711, -0.32521123, -0.009721253, 0.23285279, -0.13696082, -0.06707458, -0.16528586, -0.058667198, 0.7998024, -0.06131527, -0.051864143, 0.5496594, 0.18582836, -0.2659592, -0.031910174, 0.078132525, 0.6470892, -0.28053263, -0.18952954, 0.10174167, -0.8660025, 0.4749312, -0.074961275, 0.050736323, 0.037845034, 0.088446304, 0.2014157, -0.28794533, -0.27062154, 0.07520204, -0.5154939, -0.16101709, 0.18315947, -0.31622407, 0.31491187, 0.72120714, 0.17938687, -0.20015639, -0.07261648, -0.069424845, 0.4641994, -0.37641528, 0.019972838, -0.55050266, -0.0468921, 0.15563634, 0.536762, 0.35447353, -0.052544452, -0.2500377, -0.2003059, 0.64787114, -0.0812662, -0.8306557, 0.6260421, 0.5074377, 0.80805594, -0.14777714, 0.10732351, -0.25287554, -0.19226336, -0.049908377, -0.22145715, -0.30398428, 0.13637014, 0.6990555, -0.3411329, -0.63882506, -0.45870435, -0.52531976, 0.22960809, -0.42343894, 0.9150864, 0.5560932, 0.82766265, 0.3368435, 0.49894124, 0.4110324, 0.24729744, 0.123888955, -0.11225957, 0.5400382, -0.18255302, 0.3970428, -0.08024054, 0.6421889, 0.26095197, -0.03427285, -0.4462369, -0.09897425, 1.1412475, ...]</td>\n",
       "      <td>[-0.20458554, 0.17220758, -0.0485206, 0.1639336, 0.005077465, 0.008720387, -0.23792481, -1.1667616, -0.112382166, -0.33927485, -0.057829898, -0.30549106, -0.075962596, 0.046494618, 0.055372562, -0.06885328, 0.36518767, -0.06918052, -0.13062161, -0.1536844, 0.22931306, 0.43585724, -0.08563784, -0.041166972, -0.25931945, 0.23090626, -0.14956851, 0.10280151, -0.09573862, 0.29523638, -0.042855825, -0.45440197, 0.13828212, 0.045055848, -0.69300526, -0.25773177, 0.12640822, -0.08484482, 0.23427612, -0.4646355, -0.014724327, -0.022386184, 0.291217, 0.16627483, -0.00425359, -0.123552315, 0.05954013, 0.04437843, 0.14394033, 0.079390906, 0.04080865, -0.25796533, -0.21452753, -0.08087331, 0.025918301, 0.06732068, -0.21227947, 0.03010841, 0.25570354, -0.3199041, -0.28317925, -0.27683067, 0.24915223, 0.000845011, 0.15688731, -0.23345436, -0.12545301, 0.232802, 0.07003277, -0.046354253, 0.13479947, -0.086028226, 0.29755598, 0.067997724, 0.11479755, -0.045700483, 0.09951596, -0.00672922, 0.08833837, -0.54363537, -0.14118557, -0.09079236, -0.12233155, 0.2212125, -0.1728841, -0.207063, 0.06818004, -0.5677625, 0.26784438, 0.055413682, -0.17554776, 0.16131523, -1.6133943, 0.36336842, 0.021336209, -0.016830143, -0.26929674, 0.38654852, -0.13187703, 0.1801156, ...]</td>\n",
       "      <td><div class=\"pxt_document\" style=\"width:320px;\">\n",
       "            <a href=\"http://127.0.0.1:63209/Users/asiegel/.pixeltable/file_cache/76eb6d44c01f400782fdf21d9b9f06df_0_12283c17eaf278baaa6d81a4e97d55c643b0452023c8c5f5a2bd43715959a75e\">\n",
       "                /Users/asiegel/.pixeltable/file_cache/76eb6d44c01f400782fdf21d9b9f06df_0_12283c17eaf278baaa6d81a4e97d55c643b0452023c8c5f5a2bd43715959a75e\n",
       "            </a>\n",
       "        </div></td>\n",
       "    </tr>\n",
       "    <tr>\n",
       "      <td>3</td>\n",
       "      <td>Toggle the table of contents</td>\n",
       "      <td></td>\n",
       "      <td>{}</td>\n",
       "      <td>0</td>\n",
       "      <td>[-0.76352406, 0.2911742, -0.37728465, 0.19093746, -0.140064, -0.04945761, 0.3731809, -0.3496347, 0.40086436, -0.062332936, -0.7112134, -0.13447662, -0.05186095, -0.4350108, -0.18956795, -0.5171125, 0.10423254, 0.5449419, 0.077896446, -0.73348635, 0.34320197, 0.15734501, -0.68600506, 0.49173623, 0.2878567, -0.3630232, -0.6148664, 0.12523368, -0.17007872, -0.18953666, -0.15396738, 0.34241796, 0.09678027, 0.020176575, 0.09202233, -0.40456694, 0.2165412, -0.22784083, 0.17263062, -0.28882903, -0.40011954, 0.1046111, -0.71271527, -0.014165871, -0.15813112, -0.85605574, -0.0064400565, -0.052563738, 0.0008153692, 0.84786505, 0.26972294, 0.4653685, -1.0032237, 0.009683013, -0.013752021, 0.23498425, -0.017564178, -0.032678626, 0.10729927, 0.054923348, 0.13643183, -0.19399527, 0.09797632, 0.7128681, -0.17907284, 0.06496829, 0.16563877, 0.5973841, -0.35860634, 0.8271491, -0.42253146, 0.20565653, 0.23704973, 0.30834588, 0.62324, -0.4464764, -0.42047548, -0.4854938, -0.44868225, -0.04512793, 0.06387943, 0.57317567, 0.2054273, 0.22586891, -0.88775414, -0.0722231, 0.26414657, -0.05731967, 0.29917347, 0.28861794, -0.38662177, -0.24228738, 0.6345558, 0.5346524, -0.51448655, -0.18608361, 0.2659033, -0.6887446, 0.19043796, 0.21512395, ...]</td>\n",
       "      <td>[-0.005423214, 0.5659227, -0.4910263, 0.0694331, 0.1823501, 0.20450561, -0.10508387, -1.184247, -0.05442602, 0.11149966, -0.06555072, -0.01358008, -0.12767978, -0.07292564, 0.36098775, -0.22222364, -0.25297746, 0.03996242, -0.6121921, 0.33806172, -0.065998994, 0.34501973, 0.10535258, -0.30768058, 0.07479844, 0.19308311, -0.13695867, 0.43060836, -0.19231877, 0.0031706481, 0.541486, 0.20323408, -0.18755071, -0.08512785, -0.2627378, -0.3793272, 0.019191463, 0.35641894, 0.030243667, -0.4861292, -0.011907903, -0.13284554, -0.2559565, 0.3541765, -0.1827185, -0.1295162, 0.0049961237, 0.43368745, -0.30694157, -0.20884004, -0.044092722, -0.2528528, -0.09669434, -0.15808743, 0.29886913, -0.098883644, -0.0474992, 0.2405852, -0.2056207, -0.03508516, -0.15220848, 0.16072603, -0.17891303, 0.08281041, -0.13319185, -0.042509336, -0.2140855, 0.056805644, -0.25885808, 0.28787652, 0.39755774, -0.05693506, -0.30927414, 0.09456241, -0.2019349, 0.26661727, -0.2693914, -0.026623314, 0.031790003, 0.14321059, -0.03521533, 0.10302337, -0.19598177, 0.22302249, -0.23572083, -0.16793199, 0.08797665, 0.20244175, 0.20940642, -0.27899504, 0.087053515, 0.17754373, -1.5792795, 0.23080936, 0.035087366, 0.20382619, -0.01034121, 0.0048282803, 0.06471122, -0.040935352, ...]</td>\n",
       "      <td><div class=\"pxt_document\" style=\"width:320px;\">\n",
       "            <a href=\"http://127.0.0.1:63209/Users/asiegel/.pixeltable/file_cache/76eb6d44c01f400782fdf21d9b9f06df_0_12283c17eaf278baaa6d81a4e97d55c643b0452023c8c5f5a2bd43715959a75e\">\n",
       "                /Users/asiegel/.pixeltable/file_cache/76eb6d44c01f400782fdf21d9b9f06df_0_12283c17eaf278baaa6d81a4e97d55c643b0452023c8c5f5a2bd43715959a75e\n",
       "            </a>\n",
       "        </div></td>\n",
       "    </tr>\n",
       "  </tbody>\n",
       "</table>"
      ],
      "text/plain": [
       "   pos                          text title heading  sourceline  \\\n",
       "0    0                     Main menu            {}           0   \n",
       "1    1                 Search Search            {}           0   \n",
       "2    2                Personal tools            {}           0   \n",
       "3    3  Toggle the table of contents            {}           0   \n",
       "4    4                  81 languages            {}           0   \n",
       "5    5  Toggle limited content width            {}           0   \n",
       "6    0                     Main menu            {}           0   \n",
       "7    1                 Search Search            {}           0   \n",
       "8    2                Personal tools            {}           0   \n",
       "9    3  Toggle the table of contents            {}           0   \n",
       "\n",
       "                                    minilm_embedding  \\\n",
       "0  [0.013837013, 0.14026177, 0.28270477, -0.08148...   \n",
       "1  [-0.4388815, 0.2616052, -0.09626006, 0.2732437...   \n",
       "2  [-1.0809782, 0.14871615, -0.17175414, -0.16569...   \n",
       "3  [-0.76352406, 0.2911742, -0.37728465, 0.190937...   \n",
       "4  [-0.35333744, 0.30818775, 0.02243752, -0.09189...   \n",
       "5  [-0.15211964, 0.38546276, -0.1152843, -0.26573...   \n",
       "6  [0.013837013, 0.14026177, 0.28270477, -0.08148...   \n",
       "7  [-0.4388815, 0.2616052, -0.09626006, 0.2732437...   \n",
       "8  [-1.0809782, 0.14871615, -0.17175414, -0.16569...   \n",
       "9  [-0.76352406, 0.2911742, -0.37728465, 0.190937...   \n",
       "\n",
       "                                      clip_embedding  \\\n",
       "0  [-0.5531318, 0.16027026, -0.48683742, 0.295170...   \n",
       "1  [-0.12629531, -0.07694455, -0.24695067, 0.1703...   \n",
       "2  [-0.20458554, 0.17220758, -0.0485206, 0.163933...   \n",
       "3  [-0.005423214, 0.5659227, -0.4910263, 0.069433...   \n",
       "4  [-0.34331533, 0.20273906, -0.090137824, 0.3074...   \n",
       "5  [-0.091565214, 0.0732923, -0.08063167, 0.12195...   \n",
       "6  [-0.5531318, 0.16027026, -0.48683742, 0.295170...   \n",
       "7  [-0.12629531, -0.07694455, -0.24695067, 0.1703...   \n",
       "8  [-0.20458554, 0.17220758, -0.0485206, 0.163933...   \n",
       "9  [-0.005423214, 0.5659227, -0.4910263, 0.069433...   \n",
       "\n",
       "                                          source_doc  \n",
       "0  /Users/asiegel/.pixeltable/file_cache/26f95880...  \n",
       "1  /Users/asiegel/.pixeltable/file_cache/26f95880...  \n",
       "2  /Users/asiegel/.pixeltable/file_cache/26f95880...  \n",
       "3  /Users/asiegel/.pixeltable/file_cache/26f95880...  \n",
       "4  /Users/asiegel/.pixeltable/file_cache/26f95880...  \n",
       "5  /Users/asiegel/.pixeltable/file_cache/26f95880...  \n",
       "6  /Users/asiegel/.pixeltable/file_cache/76eb6d44...  \n",
       "7  /Users/asiegel/.pixeltable/file_cache/76eb6d44...  \n",
       "8  /Users/asiegel/.pixeltable/file_cache/76eb6d44...  \n",
       "9  /Users/asiegel/.pixeltable/file_cache/76eb6d44...  "
      ]
     },
     "execution_count": 26,
     "metadata": {},
     "output_type": "execute_result"
    }
   ],
   "source": [
    "chunks.head()"
   ]
  }
 ],
 "metadata": {
  "kernelspec": {
   "display_name": "Python 3 (ipykernel)",
   "language": "python",
   "name": "python3"
  },
  "language_info": {
   "codemirror_mode": {
    "name": "ipython",
    "version": 3
   },
   "file_extension": ".py",
   "mimetype": "text/x-python",
   "name": "python",
   "nbconvert_exporter": "python",
   "pygments_lexer": "ipython3",
   "version": "3.9.19"
  }
 },
 "nbformat": 4,
 "nbformat_minor": 5
}
