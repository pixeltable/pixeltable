{
 "cells": [
  {
   "cell_type": "markdown",
   "id": "0532f44e-eba0-447f-a0da-36f498048d15",
   "metadata": {},
   "source": [
    "# Time Zones in Pixeltable\n",
    "\n",
    "Because typical use cases involve datasets that span multiple time zones, Pixeltable strives to be precise in how it handles time zone arithmetic for datetimes.\n",
    "\n",
    "Timestamps are always stored in the Pixeltable database in UTC, to ensure consistency across datasets and deployments. Time zone considerations therefore apply during insertion and retrieval of timestamp data."
   ]
  },
  {
   "cell_type": "markdown",
   "id": "41ead473-d299-46f8-99a9-57c3e2696ae3",
   "metadata": {},
   "source": [
    "### The Default Time Zone\n",
    "\n",
    "Every Pixeltable deployment has a __default time zone__. The default time zone can be configured either by setting the `PXT_TIME_ZONE` environment variable, or by adding a `pxt-time-zone` entry in `$PIXELTABLE_HOME/config.yaml`. It must be a valid [IANA Time Zone](https://en.wikipedia.org/wiki/List_of_tz_database_time_zones)."
   ]
  },
  {
   "cell_type": "code",
   "execution_count": 1,
   "id": "6472596c-98ec-48dd-9d35-a4879eea131e",
   "metadata": {},
   "outputs": [],
   "source": [
    "import os\n",
    "os.environ['PXT_TIME_ZONE'] = 'America/Los_Angeles'"
   ]
  },
  {
   "cell_type": "markdown",
   "id": "d0fc99cc-09cb-49fc-8c8a-2d80acfd0a74",
   "metadata": {},
   "source": [
    "If no time zone is configured, Pixeltable will fall back on the system time zone of the host on which it is running. __Because system time zone is deployment-dependent, it is recommended that production deployments configure a default time zone explicitly.__\n",
    "\n",
    "\n",
    "As outlined in the [Python datetime documentation](https://docs.python.org/3/library/datetime.html), a Python `datetime` object may be either __naive__ (no time zone) or __aware__ (equipped with an explicit time zone). Pixeltable will always interpret naive `datetime` objects as referring to the configured default time zone."
   ]
  },
  {
   "cell_type": "markdown",
   "id": "ff720908-8741-488d-826f-51bded809518",
   "metadata": {},
   "source": [
    "### Insertion and Retrieval"
   ]
  },
  {
   "cell_type": "markdown",
   "id": "5f3ab151-371e-4928-b346-5d86e53a9277",
   "metadata": {},
   "source": [
    "When a `datetime` is inserted into the database, it will be converted to UTC and stored as an absolute timestamp. If the `datetime` has an explicit time zone, Pixeltable will use that time zone for the conversion; otherwise, Pixeltable will use the default time zone.\n",
    "\n",
    "When a `datetime` is retrieved, it will always be retrieved in the default time zone. To query in a different time zone, it is necessary to do an explicit conversion; we'll give an example of this in a moment. Let's first walk through a few examples that illustrate the default behavior."
   ]
  },
  {
   "cell_type": "code",
   "execution_count": 2,
   "id": "ae3f595b-fd0b-45bd-b08c-2ec1b83fa5d8",
   "metadata": {},
   "outputs": [
    {
     "name": "stdout",
     "output_type": "stream",
     "text": [
      "Connected to Pixeltable database at: postgresql://postgres:@/pixeltable?host=/Users/asiegel/.pixeltable/pgdata\n",
      "Created directory `tz_demo`.\n",
      "Created table `example`.\n"
     ]
    }
   ],
   "source": [
    "import pixeltable as pxt\n",
    "\n",
    "pxt.drop_dir('tz_demo', force=True)\n",
    "pxt.create_dir('tz_demo')\n",
    "t = pxt.create_table('tz_demo.example', {'dt': pxt.TimestampType(), 'note': pxt.StringType()})"
   ]
  },
  {
   "cell_type": "code",
   "execution_count": 3,
   "id": "e315a153-7401-467f-9f20-d4b273a417f4",
   "metadata": {},
   "outputs": [
    {
     "name": "stdout",
     "output_type": "stream",
     "text": [
      "Inserting rows into `example`: 3 rows [00:00, 1223.54 rows/s]\n",
      "Inserted 3 rows with 0 errors.\n"
     ]
    },
    {
     "data": {
      "text/plain": [
       "UpdateStatus(num_rows=3, num_computed_values=3, num_excs=0, updated_cols=[], cols_with_excs=[])"
      ]
     },
     "execution_count": 3,
     "metadata": {},
     "output_type": "execute_result"
    }
   ],
   "source": [
    "from datetime import datetime, timezone\n",
    "from zoneinfo import ZoneInfo\n",
    "\n",
    "naive_dt    = datetime(2024, 8, 9, 23, 0, 0)\n",
    "explicit_dt = datetime(2024, 8, 9, 23, 0, 0, tzinfo=ZoneInfo('America/Los_Angeles'))\n",
    "other_dt    = datetime(2024, 8, 9, 23, 0, 0, tzinfo=ZoneInfo('America/New_York'))\n",
    "\n",
    "t.insert([\n",
    "    {'dt': naive_dt,    'note': 'No time zone specified (uses default)'},\n",
    "    {'dt': explicit_dt, 'note': 'Time zone specified explicitly'},\n",
    "    {'dt': other_dt,    'note': 'A different time zone specified explicitly'}\n",
    "])"
   ]
  },
  {
   "cell_type": "code",
   "execution_count": 4,
   "id": "ef1f573a-638b-47e1-9420-17d88b2b1bfb",
   "metadata": {},
   "outputs": [
    {
     "data": {
      "text/html": [
       "<table border=\"1\" class=\"dataframe\">\n",
       "  <thead>\n",
       "    <tr style=\"text-align: right;\">\n",
       "      <th>dt</th>\n",
       "      <th>note</th>\n",
       "    </tr>\n",
       "  </thead>\n",
       "  <tbody>\n",
       "    <tr>\n",
       "      <td>2024-08-09 23:00:00-07:00</td>\n",
       "      <td>No time zone specified (uses default)</td>\n",
       "    </tr>\n",
       "    <tr>\n",
       "      <td>2024-08-09 23:00:00-07:00</td>\n",
       "      <td>Time zone specified explicitly</td>\n",
       "    </tr>\n",
       "    <tr>\n",
       "      <td>2024-08-09 20:00:00-07:00</td>\n",
       "      <td>A different time zone specified explicitly</td>\n",
       "    </tr>\n",
       "  </tbody>\n",
       "</table>"
      ],
      "text/plain": [
       "                         dt                                        note\n",
       "0 2024-08-09 23:00:00-07:00       No time zone specified (uses default)\n",
       "1 2024-08-09 23:00:00-07:00              Time zone specified explicitly\n",
       "2 2024-08-09 20:00:00-07:00  A different time zone specified explicitly"
      ]
     },
     "execution_count": 4,
     "metadata": {},
     "output_type": "execute_result"
    }
   ],
   "source": [
    "t.collect()"
   ]
  },
  {
   "cell_type": "markdown",
   "id": "2f5a1cd6-6e27-4ea6-9de0-1bf50130c557",
   "metadata": {},
   "source": [
    "Notice that on retrieval, all the timestamps are normalized to the default time zone, regardless of how they were specified during insertion. To represent timestamps in a different time zone, use the `astimezone` method."
   ]
  },
  {
   "cell_type": "code",
   "execution_count": 5,
   "id": "bbe2c4b4-36a5-4153-8caf-dbc2939ebc3b",
   "metadata": {},
   "outputs": [
    {
     "data": {
      "text/html": [
       "<table border=\"1\" class=\"dataframe\">\n",
       "  <thead>\n",
       "    <tr style=\"text-align: right;\">\n",
       "      <th>dt</th>\n",
       "      <th>dt_eastern</th>\n",
       "      <th>note</th>\n",
       "    </tr>\n",
       "  </thead>\n",
       "  <tbody>\n",
       "    <tr>\n",
       "      <td>2024-08-09 23:00:00-07:00</td>\n",
       "      <td>2024-08-10 02:00:00-04:00</td>\n",
       "      <td>No time zone specified (uses default)</td>\n",
       "    </tr>\n",
       "    <tr>\n",
       "      <td>2024-08-09 23:00:00-07:00</td>\n",
       "      <td>2024-08-10 02:00:00-04:00</td>\n",
       "      <td>Time zone specified explicitly</td>\n",
       "    </tr>\n",
       "    <tr>\n",
       "      <td>2024-08-09 20:00:00-07:00</td>\n",
       "      <td>2024-08-09 23:00:00-04:00</td>\n",
       "      <td>A different time zone specified explicitly</td>\n",
       "    </tr>\n",
       "  </tbody>\n",
       "</table>"
      ],
      "text/plain": [
       "                         dt                dt_eastern  \\\n",
       "0 2024-08-09 23:00:00-07:00 2024-08-10 02:00:00-04:00   \n",
       "1 2024-08-09 23:00:00-07:00 2024-08-10 02:00:00-04:00   \n",
       "2 2024-08-09 20:00:00-07:00 2024-08-09 23:00:00-04:00   \n",
       "\n",
       "                                         note  \n",
       "0       No time zone specified (uses default)  \n",
       "1              Time zone specified explicitly  \n",
       "2  A different time zone specified explicitly  "
      ]
     },
     "execution_count": 5,
     "metadata": {},
     "output_type": "execute_result"
    }
   ],
   "source": [
    "t.select(t.dt, dt_eastern=t.dt.astimezone('America/New_York'), note=t.note).collect()"
   ]
  },
  {
   "cell_type": "markdown",
   "id": "6b2ddf84-b440-40c3-a549-1ab0edc462cc",
   "metadata": {},
   "source": [
    "### Timestamp Methods and Properties\n",
    "\n",
    "The Pixeltable API exposes all the standard `datetime` methods and properties from the Python library. Because retrieval uses the default time zone, they are all relative to the default time zone unless `astimezone` is used."
   ]
  },
  {
   "cell_type": "code",
   "execution_count": 6,
   "id": "5a9d109a-0cc0-4471-9fb6-2173b463f1bd",
   "metadata": {},
   "outputs": [
    {
     "data": {
      "text/html": [
       "<table border=\"1\" class=\"dataframe\">\n",
       "  <thead>\n",
       "    <tr style=\"text-align: right;\">\n",
       "      <th>dt</th>\n",
       "      <th>day_default</th>\n",
       "      <th>day_eastern</th>\n",
       "    </tr>\n",
       "  </thead>\n",
       "  <tbody>\n",
       "    <tr>\n",
       "      <td>2024-08-09 23:00:00-07:00</td>\n",
       "      <td>9</td>\n",
       "      <td>10</td>\n",
       "    </tr>\n",
       "    <tr>\n",
       "      <td>2024-08-09 23:00:00-07:00</td>\n",
       "      <td>9</td>\n",
       "      <td>10</td>\n",
       "    </tr>\n",
       "    <tr>\n",
       "      <td>2024-08-09 20:00:00-07:00</td>\n",
       "      <td>9</td>\n",
       "      <td>9</td>\n",
       "    </tr>\n",
       "  </tbody>\n",
       "</table>"
      ],
      "text/plain": [
       "                         dt  day_default  day_eastern\n",
       "0 2024-08-09 23:00:00-07:00            9           10\n",
       "1 2024-08-09 23:00:00-07:00            9           10\n",
       "2 2024-08-09 20:00:00-07:00            9            9"
      ]
     },
     "execution_count": 6,
     "metadata": {},
     "output_type": "execute_result"
    }
   ],
   "source": [
    "t.select(\n",
    "    t.dt,\n",
    "    day_default=t.dt.day,\n",
    "    day_eastern=t.dt.astimezone('America/New_York').day\n",
    ").collect()"
   ]
  },
  {
   "cell_type": "markdown",
   "id": "af8c8776-5673-40ec-92c0-fb66c5750cb9",
   "metadata": {},
   "source": [
    "Observe that the first two timestamps map to different dates depending on the time zone, as expected."
   ]
  }
 ],
 "metadata": {
  "kernelspec": {
   "display_name": "Python 3 (ipykernel)",
   "language": "python",
   "name": "python3"
  },
  "language_info": {
   "codemirror_mode": {
    "name": "ipython",
    "version": 3
   },
   "file_extension": ".py",
   "mimetype": "text/x-python",
   "name": "python",
   "nbconvert_exporter": "python",
   "pygments_lexer": "ipython3",
   "version": "3.9.19"
  }
 },
 "nbformat": 4,
 "nbformat_minor": 5
}
