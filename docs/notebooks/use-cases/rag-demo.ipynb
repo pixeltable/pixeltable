{
 "cells": [
  {
   "cell_type": "markdown",
   "metadata": {},
   "source": [
    "[![Kaggle](https://kaggle.com/static/images/open-in-kaggle.svg)](https://kaggle.com/kernels/welcome?src=https://github.com/pixeltable/pixeltable/blob/release/docs/notebooks/use-cases/rag-demo.ipynb)&nbsp;&nbsp;\n",
    "[![Colab](https://colab.research.google.com/assets/colab-badge.svg)](https://colab.research.google.com/github/pixeltable/pixeltable/blob/release/docs/notebooks/use-cases/rag-demo.ipynb)\n",
    "\n",
    "# Document Indexing and RAG"
   ]
  },
  {
   "cell_type": "markdown",
   "metadata": {},
   "source": [
    "In this tutorial, we'll demonstrate how RAG operations can be implemented in Pixeltable. In particular, we'll develop a RAG application that summarizes a collection of PDF documents and uses ChatGPT to answer questions about them.\n",
    "\n",
    "In a traditional RAG workflow, such operations might be implemented as a Python script that runs on a periodic schedule or in response to certain events. In Pixeltable, they are implemented as persistent tables that are updated automatically and incrementally as new data becomes available.\n",
    "\n",
    "**If you are running this tutorial in Colab:**\n",
    "In order to make the tutorial run a bit snappier, let's switch to a GPU-equipped instance for this Colab session. To do that, click on the `Runtime -> Change runtime type` menu item at the top, then select the `GPU` radio button and click on `Save`.\n",
    "\n",
    "We first set up our OpenAI API key:"
   ]
  },
  {
   "cell_type": "code",
   "execution_count": 1,
   "metadata": {},
   "outputs": [],
   "source": [
    "import os\n",
    "import getpass\n",
    "if 'OPENAI_API_KEY' not in os.environ:\n",
    "    os.environ['OPENAI_API_KEY'] = getpass.getpass('OpenAI API Key:')"
   ]
  },
  {
   "cell_type": "markdown",
   "metadata": {},
   "source": [
    "We then install the packages we need for this tutorial and then set up our environment."
   ]
  },
  {
   "cell_type": "code",
   "execution_count": 2,
   "metadata": {},
   "outputs": [
    {
     "name": "stdout",
     "output_type": "stream",
     "text": [
      "Note: you may need to restart the kernel to use updated packages.\n"
     ]
    }
   ],
   "source": [
    "%pip install -q pixeltable sentence-transformers tiktoken openai openpyxl"
   ]
  },
  {
   "cell_type": "code",
   "execution_count": 3,
   "metadata": {
    "metadata": {}
   },
   "outputs": [
    {
     "name": "stdout",
     "output_type": "stream",
     "text": [
      "Connected to Pixeltable database at: postgresql+psycopg://postgres:@/pixeltable?host=/home/marcel/.pixeltable/pgdata\n",
      "Created directory 'rag_demo'.\n"
     ]
    },
    {
     "data": {
      "text/plain": [
       "<pixeltable.catalog.dir.Dir at 0x7eb34c1eceb0>"
      ]
     },
     "execution_count": 3,
     "metadata": {},
     "output_type": "execute_result"
    }
   ],
   "source": [
    "import numpy as np\n",
    "import pixeltable as pxt\n",
    "\n",
    "# Ensure a clean slate for the demo\n",
    "pxt.drop_dir('rag_demo', force=True)\n",
    "pxt.create_dir('rag_demo')"
   ]
  },
  {
   "cell_type": "markdown",
   "metadata": {},
   "source": [
    "Next we'll create a table containing the sample questions we want to answer. The questions are stored in an Excel spreadsheet, along with a set of \"ground truth\" answers to help evaluate our model pipeline. We can use Pixeltable's handy `import_excel()` utility to load them. Note that we can pass the URL of the spreadsheet directly to the import utility."
   ]
  },
  {
   "cell_type": "code",
   "execution_count": 4,
   "metadata": {},
   "outputs": [
    {
     "name": "stdout",
     "output_type": "stream",
     "text": [
      "Created table 'queries'.\n",
      "Inserting rows into `queries`: 8 rows [00:00, 1853.94 rows/s]\n",
      "Inserted 8 rows with 0 errors.\n"
     ]
    }
   ],
   "source": [
    "base = 'https://github.com/pixeltable/pixeltable/raw/main/docs/resources/rag-demo/'\n",
    "qa_url = base + 'Q-A-Rag.xlsx'\n",
    "queries_t = pxt.io.import_excel('rag_demo.queries', qa_url)"
   ]
  },
  {
   "cell_type": "code",
   "execution_count": 5,
   "metadata": {},
   "outputs": [
    {
     "data": {
      "text/html": [
       "<table border=\"1\" class=\"dataframe\">\n",
       "  <thead>\n",
       "    <tr style=\"text-align: right;\">\n",
       "      <th>S__No_</th>\n",
       "      <th>Question</th>\n",
       "      <th>correct_answer</th>\n",
       "    </tr>\n",
       "  </thead>\n",
       "  <tbody>\n",
       "    <tr>\n",
       "      <td>1</td>\n",
       "      <td>What is roughly the current mortage rate?</td>\n",
       "      <td>0.07</td>\n",
       "    </tr>\n",
       "    <tr>\n",
       "      <td>2</td>\n",
       "      <td>What is the current dividend yield for Alphabet Inc. (\\$GOOGL)?</td>\n",
       "      <td>0.0046</td>\n",
       "    </tr>\n",
       "    <tr>\n",
       "      <td>3</td>\n",
       "      <td>What is the market capitalization of Alphabet?</td>\n",
       "      <td>\\$2182.8 Billion</td>\n",
       "    </tr>\n",
       "    <tr>\n",
       "      <td>4</td>\n",
       "      <td>What are the latest financial metrics for Accenture PLC?</td>\n",
       "      <td>missed consensus forecasts and strong total bookings rising by 22% annually</td>\n",
       "    </tr>\n",
       "    <tr>\n",
       "      <td>5</td>\n",
       "      <td>What is the overall latest rating for Amazon.com from analysts?</td>\n",
       "      <td>SELL</td>\n",
       "    </tr>\n",
       "    <tr>\n",
       "      <td>6</td>\n",
       "      <td>What is the operating cash flow of Amazon in Q1 2024?</td>\n",
       "      <td>18,989 Million</td>\n",
       "    </tr>\n",
       "    <tr>\n",
       "      <td>7</td>\n",
       "      <td>What is the expected EPS for Nvidia in Q1 2026?</td>\n",
       "      <td>0.73 EPS</td>\n",
       "    </tr>\n",
       "    <tr>\n",
       "      <td>8</td>\n",
       "      <td>What are the main reasons to buy Nvidia?</td>\n",
       "      <td>Datacenter, GPUs Demands, Self-driving, and cash-flow</td>\n",
       "    </tr>\n",
       "  </tbody>\n",
       "</table>"
      ],
      "text/plain": [
       "   S__No_                                           Question  \\\n",
       "0       1          What is roughly the current mortage rate?   \n",
       "1       2  What is the current dividend yield for Alphabe...   \n",
       "2       3     What is the market capitalization of Alphabet?   \n",
       "3       4  What are the latest financial metrics for Acce...   \n",
       "4       5  What is the overall latest rating for Amazon.c...   \n",
       "5       6  What is the operating cash flow of Amazon in Q...   \n",
       "6       7    What is the expected EPS for Nvidia in Q1 2026?   \n",
       "7       8           What are the main reasons to buy Nvidia?   \n",
       "\n",
       "                                      correct_answer  \n",
       "0                                               0.07  \n",
       "1                                             0.0046  \n",
       "2                                    $2182.8 Billion  \n",
       "3  missed consensus forecasts and strong total bo...  \n",
       "4                                               SELL  \n",
       "5                                     18,989 Million  \n",
       "6                                           0.73 EPS  \n",
       "7  Datacenter, GPUs Demands, Self-driving, and ca...  "
      ]
     },
     "execution_count": 5,
     "metadata": {},
     "output_type": "execute_result"
    }
   ],
   "source": [
    "queries_t.head()"
   ]
  },
  {
   "cell_type": "markdown",
   "metadata": {},
   "source": [
    "## Outline\n",
    "\n",
    "There are two major parts to our RAG application:\n",
    "\n",
    "1. Document Indexing: Load the documents, split them into chunks, and index them using a vector embedding.\n",
    "2. Querying: For each question on our list, do a top-k lookup for the most relevant chunks, use them to construct a ChatGPT prompt, and send the enriched prompt to an LLM.\n",
    "\n",
    "We'll implement both parts in Pixeltable.\n",
    "\n",
    "## 1. Document Indexing\n",
    "\n",
    "All data in Pixeltable, including documents, resides in tables.\n",
    "\n",
    "Tables are persistent containers that can serve as the store of record for your data. Since we are starting from scratch, we will start with an empty table `rag_demo.documents` with a single column, `document`."
   ]
  },
  {
   "cell_type": "code",
   "execution_count": 6,
   "metadata": {
    "ExecuteTime": {
     "end_time": "2024-04-11T20:58:43.144688Z",
     "start_time": "2024-04-11T20:58:42.912418Z"
    },
    "metadata": {}
   },
   "outputs": [
    {
     "name": "stdout",
     "output_type": "stream",
     "text": [
      "Created table 'documents'.\n"
     ]
    },
    {
     "data": {
      "text/html": [
       "<style type=\"text/css\">\n",
       "#T_cb6b2_row0_col0 {\n",
       "  white-space: pre-wrap;\n",
       "  text-align: left;\n",
       "  font-weight: bold;\n",
       "}\n",
       "</style>\n",
       "<table id=\"T_cb6b2\">\n",
       "  <thead>\n",
       "  </thead>\n",
       "  <tbody>\n",
       "    <tr>\n",
       "      <td id=\"T_cb6b2_row0_col0\" class=\"data row0 col0\" >table 'rag_demo.documents'</td>\n",
       "    </tr>\n",
       "  </tbody>\n",
       "</table>\n",
       "\n",
       "<style type=\"text/css\">\n",
       "#T_2dd4f th {\n",
       "  text-align: left;\n",
       "}\n",
       "#T_2dd4f_row0_col0, #T_2dd4f_row0_col1, #T_2dd4f_row0_col2 {\n",
       "  white-space: pre-wrap;\n",
       "  text-align: left;\n",
       "}\n",
       "</style>\n",
       "<table id=\"T_2dd4f\">\n",
       "  <thead>\n",
       "    <tr>\n",
       "      <th id=\"T_2dd4f_level0_col0\" class=\"col_heading level0 col0\" >Column Name</th>\n",
       "      <th id=\"T_2dd4f_level0_col1\" class=\"col_heading level0 col1\" >Type</th>\n",
       "      <th id=\"T_2dd4f_level0_col2\" class=\"col_heading level0 col2\" >Computed With</th>\n",
       "    </tr>\n",
       "  </thead>\n",
       "  <tbody>\n",
       "    <tr>\n",
       "      <td id=\"T_2dd4f_row0_col0\" class=\"data row0 col0\" >document</td>\n",
       "      <td id=\"T_2dd4f_row0_col1\" class=\"data row0 col1\" >Document</td>\n",
       "      <td id=\"T_2dd4f_row0_col2\" class=\"data row0 col2\" ></td>\n",
       "    </tr>\n",
       "  </tbody>\n",
       "</table>\n"
      ],
      "text/plain": [
       "table 'rag_demo.documents'\n",
       "\n",
       " Column Name      Type Computed With\n",
       "    document  Document              "
      ]
     },
     "execution_count": 6,
     "metadata": {},
     "output_type": "execute_result"
    }
   ],
   "source": [
    "documents_t = pxt.create_table(\n",
    "    'rag_demo.documents',\n",
    "    {'document': pxt.Document}\n",
    ")\n",
    "\n",
    "documents_t"
   ]
  },
  {
   "cell_type": "markdown",
   "metadata": {
    "metadata": {}
   },
   "source": [
    "Next, we'll insert our first few source documents into the new table. We'll leave the rest for later, in order to show how to update the indexed document base incrementally."
   ]
  },
  {
   "cell_type": "code",
   "execution_count": 7,
   "metadata": {},
   "outputs": [],
   "source": [
    "document_urls = [\n",
    "    base + 'Argus-Market-Digest-June-2024.pdf',\n",
    "    base + 'Argus-Market-Watch-June-2024.pdf',\n",
    "    base + 'Company-Research-Alphabet.pdf',\n",
    "    base + 'Jefferson-Amazon.pdf',\n",
    "    base + 'Mclean-Equity-Alphabet.pdf',\n",
    "    base + 'Zacks-Nvidia-Report.pdf',\n",
    "]"
   ]
  },
  {
   "cell_type": "code",
   "execution_count": 8,
   "metadata": {
    "metadata": {}
   },
   "outputs": [
    {
     "name": "stdout",
     "output_type": "stream",
     "text": [
      "Inserting rows into `documents`: 3 rows [00:00, 1925.76 rows/s]\n",
      "Inserted 3 rows with 0 errors.\n"
     ]
    },
    {
     "data": {
      "text/html": [
       "<table border=\"1\" class=\"dataframe\">\n",
       "  <thead>\n",
       "    <tr style=\"text-align: right;\">\n",
       "      <th>document</th>\n",
       "    </tr>\n",
       "  </thead>\n",
       "  <tbody>\n",
       "    <tr>\n",
       "      <td><div class=\"pxt_document\" style=\"width:320px;\">\n",
       "            <a href=\"http://127.0.0.1:35765/home/marcel/.pixeltable/file_cache/c7638b6b71414922887a5d06fefd2bb8_0_395ba1d1cf2de33dff39f53a67258b84809130fbad943463fdd86e9dfcb609eb.pdf\">\n",
       "                <img style=\"object-fit: contain; border: 1px solid black;\" src=\"data:image/webp;base64,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\" />\n",
       "            </a>\n",
       "        </div></td>\n",
       "    </tr>\n",
       "    <tr>\n",
       "      <td><div class=\"pxt_document\" style=\"width:320px;\">\n",
       "            <a href=\"http://127.0.0.1:35765/home/marcel/.pixeltable/file_cache/c7638b6b71414922887a5d06fefd2bb8_0_21aaff0a17e7cd7169986c6fbcca9a28e22b1fc43fc812b27ab13995891fddec.pdf\">\n",
       "                <img style=\"object-fit: contain; border: 1px solid black;\" src=\"data:image/webp;base64,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\" />\n",
       "            </a>\n",
       "        </div></td>\n",
       "    </tr>\n",
       "    <tr>\n",
       "      <td><div class=\"pxt_document\" style=\"width:320px;\">\n",
       "            <a href=\"http://127.0.0.1:35765/home/marcel/.pixeltable/file_cache/c7638b6b71414922887a5d06fefd2bb8_0_2433fd6c032c6eda1b2714afd7d250aa12926b779199653c078fb73165ad3444.pdf\">\n",
       "                <img style=\"object-fit: contain; border: 1px solid black;\" src=\"data:image/webp;base64,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\" />\n",
       "            </a>\n",
       "        </div></td>\n",
       "    </tr>\n",
       "  </tbody>\n",
       "</table>"
      ],
      "text/plain": [
       "                                            document\n",
       "0  /home/marcel/.pixeltable/file_cache/c7638b6b71...\n",
       "1  /home/marcel/.pixeltable/file_cache/c7638b6b71...\n",
       "2  /home/marcel/.pixeltable/file_cache/c7638b6b71..."
      ]
     },
     "execution_count": 8,
     "metadata": {},
     "output_type": "execute_result"
    }
   ],
   "source": [
    "documents_t.insert({'document': url} for url in document_urls[:3])\n",
    "documents_t.show()"
   ]
  },
  {
   "cell_type": "markdown",
   "metadata": {},
   "source": [
    "In RAG applications, we often decompose documents into smaller units, or chunks, rather than treating each document as a single entity. In this example, we'll use Pixeltable's built-in `DocumentSplitter`, but in general the chunking methodology is highly customizable. `DocumentSplitter` has a variety of options for controlling the chunking behavior, and it's also possible to replace it entirely with a user-defined iterator (or an adapter for a third-party document splitter).\n",
    "\n",
    "In Pixeltable, operations such as chunking can be automated by creating **views** of the base `documents` table. A view is a virtual derived table: rather than adding data directly to the view, we define it via a computation over the base table. In this example, the view is defined by iteration over the chunks of a `DocumentSplitter`."
   ]
  },
  {
   "cell_type": "code",
   "execution_count": 9,
   "metadata": {},
   "outputs": [
    {
     "name": "stdout",
     "output_type": "stream",
     "text": [
      "Inserting rows into `chunks`: 41 rows [00:00, 21767.91 rows/s]\n"
     ]
    }
   ],
   "source": [
    "from pixeltable.iterators import DocumentSplitter\n",
    "\n",
    "chunks_t = pxt.create_view(\n",
    "    'rag_demo.chunks',\n",
    "    documents_t,\n",
    "    iterator=DocumentSplitter.create(\n",
    "        document=documents_t.document,\n",
    "        separators='token_limit',\n",
    "        limit=300\n",
    "    )\n",
    ")"
   ]
  },
  {
   "cell_type": "markdown",
   "metadata": {},
   "source": [
    "Our `chunks` view now has 3 columns:"
   ]
  },
  {
   "cell_type": "code",
   "execution_count": 10,
   "metadata": {},
   "outputs": [
    {
     "data": {
      "text/html": [
       "<style type=\"text/css\">\n",
       "#T_e62be_row0_col0 {\n",
       "  white-space: pre-wrap;\n",
       "  text-align: left;\n",
       "  font-weight: bold;\n",
       "}\n",
       "</style>\n",
       "<table id=\"T_e62be\">\n",
       "  <thead>\n",
       "  </thead>\n",
       "  <tbody>\n",
       "    <tr>\n",
       "      <td id=\"T_e62be_row0_col0\" class=\"data row0 col0\" >view 'rag_demo.chunks' (of 'rag_demo.documents')</td>\n",
       "    </tr>\n",
       "  </tbody>\n",
       "</table>\n",
       "\n",
       "<style type=\"text/css\">\n",
       "#T_44d06 th {\n",
       "  text-align: left;\n",
       "}\n",
       "#T_44d06_row0_col0, #T_44d06_row0_col1, #T_44d06_row0_col2, #T_44d06_row1_col0, #T_44d06_row1_col1, #T_44d06_row1_col2, #T_44d06_row2_col0, #T_44d06_row2_col1, #T_44d06_row2_col2 {\n",
       "  white-space: pre-wrap;\n",
       "  text-align: left;\n",
       "}\n",
       "</style>\n",
       "<table id=\"T_44d06\">\n",
       "  <thead>\n",
       "    <tr>\n",
       "      <th id=\"T_44d06_level0_col0\" class=\"col_heading level0 col0\" >Column Name</th>\n",
       "      <th id=\"T_44d06_level0_col1\" class=\"col_heading level0 col1\" >Type</th>\n",
       "      <th id=\"T_44d06_level0_col2\" class=\"col_heading level0 col2\" >Computed With</th>\n",
       "    </tr>\n",
       "  </thead>\n",
       "  <tbody>\n",
       "    <tr>\n",
       "      <td id=\"T_44d06_row0_col0\" class=\"data row0 col0\" >pos</td>\n",
       "      <td id=\"T_44d06_row0_col1\" class=\"data row0 col1\" >Required[Int]</td>\n",
       "      <td id=\"T_44d06_row0_col2\" class=\"data row0 col2\" ></td>\n",
       "    </tr>\n",
       "    <tr>\n",
       "      <td id=\"T_44d06_row1_col0\" class=\"data row1 col0\" >text</td>\n",
       "      <td id=\"T_44d06_row1_col1\" class=\"data row1 col1\" >Required[String]</td>\n",
       "      <td id=\"T_44d06_row1_col2\" class=\"data row1 col2\" ></td>\n",
       "    </tr>\n",
       "    <tr>\n",
       "      <td id=\"T_44d06_row2_col0\" class=\"data row2 col0\" >document</td>\n",
       "      <td id=\"T_44d06_row2_col1\" class=\"data row2 col1\" >Document</td>\n",
       "      <td id=\"T_44d06_row2_col2\" class=\"data row2 col2\" ></td>\n",
       "    </tr>\n",
       "  </tbody>\n",
       "</table>\n"
      ],
      "text/plain": [
       "view 'rag_demo.chunks' (of 'rag_demo.documents')\n",
       "\n",
       " Column Name              Type Computed With\n",
       "         pos     Required[Int]              \n",
       "        text  Required[String]              \n",
       "    document          Document              "
      ]
     },
     "execution_count": 10,
     "metadata": {},
     "output_type": "execute_result"
    }
   ],
   "source": [
    "chunks_t"
   ]
  },
  {
   "cell_type": "markdown",
   "metadata": {},
   "source": [
    "- `text` is the chunk text produced by the `DocumentSplitter`\n",
    "- `pos` is a system-generated integer column, starting at 0, that provides a sequence number for each row\n",
    "- `document`, which is simply the `document` column from the base table `documents`. We won't need it here, but having access to the base table's columns (in effect a parent-child join) can be quite useful."
   ]
  },
  {
   "cell_type": "markdown",
   "metadata": {},
   "source": [
    "Notice that as soon as we created it, `chunks` was automatically populated with data from the existing documents in our base table. We can select the first 2 chunks from each document using common dataframe operations, in order to get a feel for what was extracted:"
   ]
  },
  {
   "cell_type": "code",
   "execution_count": 11,
   "metadata": {
    "metadata": {},
    "scrolled": true
   },
   "outputs": [
    {
     "data": {
      "text/html": [
       "<table border=\"1\" class=\"dataframe\">\n",
       "  <thead>\n",
       "    <tr style=\"text-align: right;\">\n",
       "      <th>pos</th>\n",
       "      <th>text</th>\n",
       "      <th>document</th>\n",
       "    </tr>\n",
       "  </thead>\n",
       "  <tbody>\n",
       "    <tr>\n",
       "      <td>0</td>\n",
       "      <td>MARKET DIGEST\n",
       "- 1 -\n",
       " FRIDAY, JUNE 21, 2024\n",
       "JUNE 20, DJIA: 39,134.76\n",
       "UP 299.90\n",
       "Independent Equity Research Since 1934\n",
       "ARGUS\n",
       "A R G U S  R E S E A R C H  C O M P A N Y  •  6 1  B R O A D W A Y  •  N E W  Y O R K ,  N. Y.  1 0 0 0 6  •  ( 2 1 2 )  4 2 5  -  7 5 0 0\n",
       "LONDON SALES &amp; MARKETING OFFICE TEL 011-44-207-256-8383 / FAX 011-44-207-256-8363\n",
       "®\n",
       "Good Morning. This is the Market Digest for Friday, June 21, 2024, with analysis of the financial markets and comments on\n",
       "Accenture plc.\n",
       "IN THIS ISSUE:\n",
       "*\n",
       "Growth Stock: Accenture plc: Shares rally on AI optimism (Jim Kelleher)\n",
       "MARKET REVIEW:\n",
       "Yogi Berra famously said &quot;When you come to a fork in the road, take it.&quot; Stock investors did just that on Thursday,\n",
       "pushing the Dow Jones Industrial Average higher by 0.77% but the Nasdaq Composite and S&amp;P</td>\n",
       "      <td><div class=\"pxt_document\" style=\"width:320px;\">\n",
       "            <a href=\"http://127.0.0.1:35765/home/marcel/.pixeltable/file_cache/c7638b6b71414922887a5d06fefd2bb8_0_395ba1d1cf2de33dff39f53a67258b84809130fbad943463fdd86e9dfcb609eb.pdf\">\n",
       "                <img style=\"object-fit: contain; border: 1px solid black;\" src=\"data:image/webp;base64,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\" />\n",
       "            </a>\n",
       "        </div></td>\n",
       "    </tr>\n",
       "    <tr>\n",
       "      <td>1</td>\n",
       "      <td>500 lower by 0.79% and 0.25%,\n",
       "respectively. In a rare event, shares of Nvidia not only lost ground, but lost a relatively meaningful amount (3.5%), proving nothing\n",
       "can go up forever. Still, the major indices are comfortably ahead for the year to date — and the big non-AI mover for stocks is\n",
       "the future direction of interest rates, which remains a concern for Wall Street and (for one day at least) offset AI mania.\n",
       "ACCENTURE PLC (NYSE: ACN, \\$306.16) BUY\n",
       "ACN: Shares rally on AI optimism\n",
       "*\n",
       "Accen ...... entum for the business.\n",
       "*\n",
       "Total bookings were strong in 3Q24, rising 22% annually on acceleration in managed services and resulting in a\n",
       "1.3 book-to-bill. Accenture still appears to be taking share from competitors.\n",
       "*\n",
       "We believe that Accenture has the financial resources, customer presence, and market strength to thrive as\n",
       "companies accelerate the process of digital transformation and begin their AI journeys.\n",
       "ANALYSIS\n",
       "INVESTMENT THESIS\n",
       "Shares of BUY-rated Accenture plc (NYSE: ACN) rose solid</td>\n",
       "      <td><div class=\"pxt_document\" style=\"width:320px;\">\n",
       "            <a href=\"http://127.0.0.1:35765/home/marcel/.pixeltable/file_cache/c7638b6b71414922887a5d06fefd2bb8_0_395ba1d1cf2de33dff39f53a67258b84809130fbad943463fdd86e9dfcb609eb.pdf\">\n",
       "                <img style=\"object-fit: contain; border: 1px solid black;\" src=\"data:image/webp;base64,UklGRjYZAABXRUJQVlA4ICoZAAAQUwCdASqZAMYAPm0skkakIiGhK9WtWIANiWc3dvB9LFwh+B2nvID3BOiuZjyd/PvQJ0ywnbaQm965PSa23/mA/YD1r+iA6kD9gOnZ9nPyjNW56gdo/+k8F/HF76/b/Pcw79fWoj4P4ef9PwH+I2oL7I8sH3f/OdqDpf97/23+I9gL2S+mf777mPTc1DvB3sAfy/zC/1Hgi/Y/817AP9C/uv/l/zvu0/3f/r/1vnQ/Yv9j/7v9P/ofkJ/sXnwf//3C/uX///dh/a9GqFA7S8MQPexMHxri+R19m1kTRmNiID6FDBhF3VQCXJMjCo0o9kqNe6HNfwPmVgMBbNo06H2by9Ev4zkitFB90gGVZijTyS2HuOk7XKl9SoROCu9aXsqe2cik6MO2yrhpMIQmR0/QpSrddEfzK91DGZRgJmbN+C+j3qhBjlJcHCQiEyHlOkSz4e3NJFYgcwRiaRtYylZTXjhjXwj2WWVqlvLDj0L9k5suDM3BsI60TLCpJi7eetEs1yWPW4z/b0O+Vz6jSghRwUozOi3Mu3jUDc1OCWtxvHTZ+OBB62pHuK1WsSdRGp8L/p1Nzi3H6vbsWf7ABMUecszuRtkV4KvS94Ts8y1RtP4/6RwNheNgNhoQBR6r7fSXD5liWWuJQ3FHT38/nND7e/259P6Cwv1S26cmYif/23XQb+VMPtAK3fSuqNBjnNAmkSAqZalV0r1b00Y2W6TRvbJKxFPldf5IbpAQPL4TNCWkD/xmQMP0nvYjVyiBHsHVPT32W0xTtScN1Ln1+KKYoFuElsBkMMV4sRiWiMnO7Cg9z0VytPiKexz92cfflU8krvB/YG8b4pi2yDLY5iZ+n+ooGfkFs9qczhLNNHqIwLp93NfVj1YsBSceBHKUt+QAAP7+SA+4u/BT3Cb0//MZ/wXbAIgenv+ozBjMNIvKnGbB+SFinun/5u7QorV1A2EF6/50Z/Vzg/8PsGR0UvlfRjetmF994b1X3GA4D39RRD0ZOnB4W/VNGtZEiFboLHHyj8D2YLaCwNH0rO9f7//TLAJcY2/WNgoP7rWlP67FyPXTPuhbD/SmQUS0kTeW8JRVRpPPiZDJO8+3ifszYBLl64WHAIReu7+uiwPG4ZHep5x9oV3/1QWVtvAF/yUcnF2pfJ/cIPFoGAmb2KR1bjef//nLdIqlop+X6XN22Q5sJTf6Ue7pKdSDrCaekfW4fkKZjWHu6c7FLmHXUw4MrUbQutJ/ASX+8Nsk5eKoxaq+V/wpSQgf4k76yc/Xfy7UH5ySZXHmH9vYU27m+/D5f8Kfq2DFUVLT2Q5Wh8wME4/Jl75QgGqi096gulcMfpMNVBpqH2OgfdeoPUuPDlDAX1NFi1vsV2SU3ectJ2T9Cbjkilq53ZYm/P/BJEOOx9dCAullktioXJqdB/wMKvVPsIupRTiyz7ylNjk6T1GgH0JXHqJFuvk1p58xrnxklqL90G8QMyvTteQ6MqKyDxWvBSY4Xwz291MHsFjOMqpkLVP9b/5ZU3i/NY+dYlNULaVMQEO5Xa5Ct7Ro7Wx2JmteONz+80EwfsS3aEmZYyqptHED1z75a+/HMCT97mLoPX9+Jivb7wJmkMewuGd4oTTr0tKeSpaR2mm1fDvQlJRSsNMg0HqkkP0Ot2zBuhiyEsgIEm7WIWY2mSj+Af/zoOmzF5homOyOa+2+q5975ulxft/QL/OiDFzhzbo5CqDGy6g9n465J6/hDpvUnS+cafyHSJnMZqoigvd/BRx79rCZ8oFfA+CkreOMwkPsxJOfa4CzDki9wSc4nL7DExxTlQlFk1F+W022+pdmPyRA1H76sPv0CLS4wL51Re31kPWy5dvfZ/cEMTot7+nK3995F0pcq9jSAQr6XGJy0a4ggAAPo5+v1Y9N21JtlNaCIaRtjM51VH8Q7y6AzG/I0vDlI8Yd7t6pdzL/PuJI5qvZLa4iDRLhDN6/Eq/4jNYUPKp729nXP6nVf/QqPgegMRGL48dXAG/yTCD8I2xJBwfiYQ/SycHvJLnKmG7Y9Ow9RJdUr6UBthmnXjszmLK68Ill+xIRXdrhRQ+G88fNWOVxxe3pY5i9CBJf5J/5H5bIFlZPwBLkf/h9xOSgeoZ8gQZmA40lATG/mcDowh4jAUzM8s/DdzlkJQnyFgwdJj7MkFEYdTyDoPqLgr406d/000p1I/gPp+KR9/85E7AiKXsZ/bpRVzHC7K2xiXQq5ca54vdmbCXzDfYvYxmxXn02s+a9D730ODQAtIUNvKrknpJXmtphJMQQGVr9G55f0WUAyjR1T4FViTPWWHEipctFot8OIeNQporJRagizY+Blt+5ssZr8pTWTsqmo+vqd4SSQTAyv/CkFyXQpPfSRhMLrJZMFm5XwbdcFCY+31EferbuwyKgCT2JZ3rVwP3Yss/bkI6vAyuU+BDyLZZaJ3JQGy4cfImn2pU+NTxKD9Y65DXfiv/tI4r/gAsp8jbXJYkm6wfsVwdFa8R5OFxEVPFrgPz5yvn9+mv6QHigaI672H6c3SQlDln49m/STwISRASnz97nP+IoTZEjRC0u+Mz3uOU5pjBwLeifPPDI8zp0cz0c+e9elBreTByRx4OG8GyRukRaEyCk8z9itU11yay8xzbaaFHJeFPoBUcbAhXkjj7UDBPOm6PNPB84S/Yvbfi6PAo33u73GK/gK5uuTfR7BVzswrOqSFqqsBKeueZIKtnZF25Q2LInJgvXHXulr4DBjstqVPwjPUrOavVdeY1UrpjRx3TVUm80g1Wrn+PRYzCP4o0M6AbEuFjqasQiJc3LqRSqFYY9B+cAGsR64RgjbRyCgm/zIWP23RCt0RhYRo7Y7Wf6qIA7lfaXwe4P7dR6kKoFKWmo8Mya1oIGsLGEb/dZdZPDPbbAR6JTiVCYa81ovVUqvOQsy0XSvoa4zKkk9BipqEampX8AhpffoDRu4oKQcQfch7gOkdgKAxRxn3uN23TftZOm8Grss2c8FDMfLTNqbvMv41FXMbfiahPifN/MB15lWJq2RkB7fnwSRiLRynS2Tg59IVd2+Jqnx0jshyM79OzmCrnycrVe8T5doz2lt4eSzQmf37QH3hRiLps9Y05imtVRat2xsxgndcsfLvttMS6WWLBPjlS1mIbmC4v0eva0xmwPCkfklWSSxd30okPjG82kERdK3QBmMdnnKP4Jazqqd1gPIdCOPIlOsqlIFpPsljZCir1KLeVo0ONNjeGh9imcbb/d/bjI1WHIMZg032CwqdbXWU/D2CcNqz+D+l6Nd2V79wuSDQIWdR/yPxJoSne/3w8ZGDiecBoNScn/8IP4VIj92r1Ly+koVh9zCRy6aXsR5M3Ji7Gf7+bYjctQRGbbRaGyofFlZjOnC9Yr7T6LjRbMrkp63kdH445el7sFX+KDyfDLauVDIwUmqd5VYdb2p7Zwjbm8f9CzHVV38XXP6bzvleddw0H1nevbQCZtwhXm1Ge1mRm3tx9YDOgHiEsxIfKMBT/t8tSrCh6iZE9O/az9U4xpIijF1a+XGCE2zCOMDAUUuwnyccRsIj4Y7QX3lbTG7RxJsuczN/OQtnnNQ4QREo5KR3lgTagHUSvau2i68Cji0EwXDrnXn4RW+/bvLsG9ix9/X+127YHfK7yfqjkybZ7rri+P5C4q08C2iteB8yqL5cEVmONFtbxbJQgFYwADpTUs77A3z2PBXnO9h8WK+cQpTPYl3lq11qI0DOFsJldADdBHibr+Tw2KYh25lKuQY+oKfhV48u1tq2qw1YMvhS27xM3nnZbdsx6hPSyKpCwHopWd0Hn05qL/V76G0+JBx3wQfE0kXQ5KgZ3lvdJHcmCIRQPTGBZZlHk+u0U/xwqBQ09X9jCuW6R8MucYDtHh+qKKRlZosq4A343k30NZ44haFhZ8n/gHn7GaqvDe/AWCmg21FWqi+w+1HWfWowIiOS6OrB/6WohwbCDJbExNYdx/85YKHbsj4Wvr2BHCb9xYpx+ZULwiI7GWJV+AyNu/0ZrKEqOF1pQhtOyZJSgCDr0SlKNwjPm8P79fVtGNMnNPmiF4pn0IB5J9f3hGJvc9k2QvxYQpbQ5yG1qOZpZvgnUHa9IuP6nHV14tHhxj9oW0Lkq4cXyv2V2IOpa9bbtEgCjZQesugRpwFIgbL+9DX86e5Gdvy4PVi4qnpC8yTvuUnsa6KmmAIN3yIdLAuPgoGMBSiZJ/5/6eBq+Dvwyw36NQdSX1vsxOEvi1Jqjvx0hy1q8pywaT4NXqoXjDoAEHAkCoVYtDUDlpwK4dQIl7z0b3cW5prqP+FYfapAjTL6vj+kV3DELoTyHZI/LHF+astbOa3IqDpxu4XHrqgyClcsFovOlecK5Aqrn+QVjaq7TEhAdevkm6Ya1aXoXx+NQpS/OLwMrMHv1Djv9mqyxEHfj4oeO3lkEA1oDrm9JZE3Au6hNHlcdu5RFRBsjM8zb/qtvf4lHKIu+X1VTC7iL5kusxFHyXwP+WF2vb+5QWYxkDYQDm6bPu/S22VWtsMNJD3qyvcP2Q15/ZuW44nbYC4m5ywwniITLLPl2ryvmyZFnm7so8F/+NiornJ3sQ143Q794kSAa3RaYbS3QNgxR9ziiGW38f5Z3scP2qL8VkwqKz7FNKQXX4hXxxpMbijSoxx1Pc86Q00szhWfOvnJlF0/RYDjBzwZskg0XS/YVd2c4EwkV/2QTRXzPQomO32FKNh5udTKrzH3/ckGaUr0mIqOrW3GZDt0N4/y6XIvZx9YEHC047Q1CmNr9tLhBSxs2RmIq98rH54z00oZRVTJJDv4ZW9HKV52Fuu+isWRLxNUHWjxE/XGr30xAmddKQK5E0I7AamHozcGNKUWkI3xRaum8ABSmvsUMzN30e1owLUrpasU0GU2+juqXIN6JJHhxjhO2/dUD6z983b8r/c5ztgjjzZ1cpQbmi2RzbXPK53A5VXuzRgY/RHwwqI+a5dgPohypy6v/KHy19hrB7saA2rdb2uR/FG+/EZ8YcRDQnrLyo0d0xU1HOKTnISLD3YgwC+U0DVAWzTSrR/qxU2MiH4R/A6A9gzXC+jKfyC9RHnPNQ0r21Bm/XWwfjrG220j0MF/29Q4yH/9rtLDR0ldcWU7WyBypMyYi5nFt1PLIiSlig5SHANjLs/FGBEcUPn6Z+THnHZ2eFePmVKlca+8UTEFiMWTQdRAFDs4GK+EM25SQGDFqk3Gx+WJ7/VrTt80GElgGoD6AAJ2a0E/E8Iy7Ol8KoHsRYtEXvx6G05kWWMH9NmyCGIWsqT0bbJ2iBFvKMImJKolCvR0KR4mFno+zObgWBBLHe/Rm48Ga+ixplGKhh30Q1wnNsIS7SiqIN5Lits6fVvILbH7m03HJMJ0pIH2YOsm1JhTZ7P9z+PtWQSNq9saQ3fypC4CYWh4DfC127vn+X4xZoz3xG6bhljx1Ibv/Pk8KJJV86jnPbxckLb1zV0HA7r/S2Fos8Whe/kcD23wI1EV/6o9VliFm9R2LkPOGteOP3JsA9ClJ+ldlcmrchIehH8adQsAur4Gw4/mySq2nHj4dFMQWv+tdcgKmFCjXCRCbmqMy0/RYIB4hvoY5ML1+w45DevZB1WsnPgAd7aESClAb4ih9J3vtgJ07d1CmJExFvHmuOdsn4KIYF51B0fC31dyU18jpKmuXMv69ugQIJ3x4h0QTx7egCbLyOK0LgYMA2uAKu7N3wfzJGBDRaydVk+j9RcesQdivi3kh6nvQhADfkaxKiack/NRtsbSHVJgXZXboQXpWNeEeKpKArAZa8AxBExseLRH6lpgeVMt4AV/m13Ciak2WJnQNmUZb4/Xx91Cw3C17BDI5lxKl9hHItVkXpxg8AQUicnSm2bT7twSmGF5nfSEVV5vURXyLykIIfynCNXjRIRedoJ5tehY20EP+tWYnQr9idC2DhoqLH5WhdrJTtgGGPX/mA/ti4G1VZ/lAWnlKcfEVw6NMivIh+dQgHYNF8Flx3ifDDdf6iAOfh2QMcy0Fwk0aODXcep1xcHCLXNS0vGD5qQZpBeYnf5FQIZ+Vo1GKiIa4Tyv0OJ4O0lgN0GN3xSL11Os3ZrQekCzX3SK94fzArRzkBQpT0JNp4rGAdZtkCvG7SD03dpWw2gD3JDNfVh/AY+eQGFzvu7slvGw0mMhyyKJKJwU2e2xHJiMIdkv7sCqF6B9bT8sQ92/aPaNaGIxRSsLIeO+6uANuxzh9L6ZI6lBTl3B42me7lYpB5eUO8CQwXnIckPIJaxuSaAZxJ0JawD3ho2loh/Mu5cyzr8zB72W/J9V1LjhEodxFB4js3YsGLzT+ArrFNCzlzvoUHJAw7IPws1iZJKvewVB+SV0frQYHSScdYNGGTwLI3nnb/oC9Ikjx8qK7dfLz9fxcuax5w/uJCvkHLoFls/+o6idgxCaXQPmlUpzPIpOzo/UpQkypENz2Y6QTN9QfDxVeViaNRJ4xjQLjUMxbLPKBJtFGs9/vgUsllMj8Cu8w6PrpTpIgGnUWrBxpLRhbdCtVyuGMqeRJQfxgwvzfho6koqjIV1SntzxSI3VBHo/vX80cA9PlsfbH7cNNLgVCS3v1FkCMhLVwEhJAAPNLTtQK7bt3asg1Ou93Vrx1i+8sqdPcGLHPQfJ1hwN36s5yKnV2xDt29Mmkie4JLJERsEFbQ535DlPsKNuQdz3yIgLgW9D/Z42qMoR9EdIhc75bd/DqoaIWZFiTRduIQUVxX0clqPJUswiuUxmF+DumtMAU7yICg3PFWQOrMiv9umoepeQ4rDzhYwIsPhPp/+uXvX/W5GFM64NGdhHxC18bTsnAH+gmj5j9MJQCazdHTy/j40BZRkNAtLkhGh+gvbuwkLiPoD13uLth73W2sUIQyCarLy42R64f21YCudsxmbpN7JwNRZ1ft5FSmFYreyCxpKEwc8rl2UkcTuuz78G4BejQiRpRVN4RS4OWcKhEcfgsCpYVp7YyTpF27dhSfOH50Sg/LqrJS0ZYmLRmZHzWu1iC/ipaRR8FYwBw+PMaqU7bHUmczIauTFB4JFn9eGAhikp3XW5ZlRC6JriAH70GDJLNnQzKxkZJJgKNhCsdvh9qYJIlAYoaPZKXr/H4a6XM8q06sY7Se9LSqw371QmMBQ904/ZYgonwA6mgWNP6KNELkWNEGFNcLP+WiCmXNscnZkp4gAXiPosOMJEYGXK7P2tb5eubCW2xtSMRT+Sjs2TLYW+IsPlxk16mK3UMqeB/XKaydsM1pEZMyvqtED8Vinjoc0n4Vpn+jaz2qfr8nByqZ+zRGaYpvvzajo8rSyMlTL4js5ACbwfkrKCl1xfNFlCv/lRapNimwTQocBlAj/Se+8qcAhLpckFoIiHrIMHKmtmCn4sXsWgwGekhopTtngbnk9MzOnqpv7TnBMyAXqikK7Pm0LNfx+VEsZu4tVvyjUx+xv963Qzrh0Iob1qealqKifV+pK/PGESDTaBoGBg2m3D0OnETQDC9YO/cw7TE/ib15fyevkP2LaxYOytVkuVKKNxSc0V9wjbOnE17L0EVLs1JHkZOJIpsISszUL4Bu8QtHUUluod6toJVtmcuSOrAIz4sTC//X/M61nRAkQ0FH0q9iUfmBqNsbBoWJ4EEGQAs+GJBZIX+FGOuTV44nu6rYTJK+NPMq5CmfmNLct8sy5iTkxcMFkKy2k5dkB0XI2GkL3UchUWAqgd0VXjXh07OzllPbFHBCl/AS7otCKnG9EVBUMdKj1didcmuLu1ZBEB3tz94Au1En+fsM21+7fErLmViwmTOvhkOZGyssS0Uoh9XIIhLuwQ1Y4YvXcNm8KEu6qoJtUt565w4XoianDMW/9xjLfzXzPlv8MiSmKZiczWvGUtF41obttqJAnw7srR3OdBJg1YMT5g+Di77EFVUDkFxKOt1rP12fzCnApGdLXu0Ybk45J3ZiriUp3xbXz+11U8SpkTEeFztjuMCCKr4QdYSba8E4doypEcCf2IvegcT5G40dvoeU10heHkmP9P7+Yd7SRe8ncMF9AYT9dstWZRMA9mq16eQeyFV0+N0AcBFzRdNxmyTYVj8rZ/Jk18k+YHrgYtd69yzX1xoAW9YxnX06fBCzvh/7lreqbh7NTukgKTRJ5HpiLvqiYRILszDUJsqbZvyakPXtF81gVK7oU3B0M+0jvmEUP4cvLU6E6vm2dw7IIaZsB81lNvELENqTzg4V4LWLFNEuH20F8pp168+Ff/OM2NDJqgtistru0zUzRdyRivKB83UDFeBx9tN7ccpS6y7LojGiaM0IIZ4BDrjfS/ACSqLckBQNjaDUxCMZ7RfL1He9W5dnrlcL+slqCjjHZ21sYfCUuOkxfAtP0luLuY5+JjRcOb1ZTymRCc0jcMuM0Lx3aIu5Kqsijhxcm2MAf1LD9XE3/ojbs3JUOtjY9XhGfT/qAnPcFlV3gAvMJ0esIgbcQWdWrACy4K05eLhwMuilTk8+Mzo8mIxJMfoGtdZPsvRPjNnCbTeff7biHWmJijn2ndVwB0koskswUEySFqydneEGs8dQt8lw2FXJOsKbRwQVGegVdsGl58CCC0MgR445EKQWUAAA\" />\n",
       "            </a>\n",
       "        </div></td>\n",
       "    </tr>\n",
       "    <tr>\n",
       "      <td>0</td>\n",
       "      <td>Friday, June 21, 2024\n",
       "Intermediate Term:\n",
       "Market Outlook\n",
       "Bullish\n",
       "-------------- PORTFOLIO STRATEGY -------------\n",
       "Equity:\n",
       "72%\n",
       "Cash:\n",
       "1%\n",
       "Today&#x27;s Market Movers\n",
       "IMPACT\n",
       "aGlobal Shares Lower\n",
       "GILD Pops on HIV Drug Results\n",
       "SRPT Soars on FDA Approval\n",
       "SWBI Drops on Sales Guidance\n",
       "+\n",
       "+\n",
       "+\n",
       "-\n",
       "a\n",
       "a\n",
       "a\n",
       "Recent Research Review\n",
       "ADSK, MRNA, IQV, WMB, BUD, LYFT, SRE, BP, \n",
       "AEE, PPC, JNPR, ORCL, CMG, TPR, DPZ, EOG, \n",
       "COST, PLTR, COR, VRTX\n",
       "Statistics Diary\n",
       "12-Mth S&amp;P 500 Forcast:\n",
       "S&amp;P 500 Current/Next EPS:\n",
       "S&amp;P 500 P/E:\n",
       "12-Mth S&amp;P P/E Range:\n",
       "10-Year Yield:\n",
       "12-Mth 10-Yr. Bond Forecast:\n",
       "Current Fed Funds Target:\n",
       "12-Mth Fed Funds Forecast:\n",
       "4800-5600\n",
       "247/265\n",
       "22.16\n",
       "18.1 - 21.1\n",
       "4.26%\n",
       "3.50-4.50%\n",
       "4.62%\n",
       "4.50-5.50%\n",
       "DJIA:\n",
       "S&amp;P 500:\n",
       "NASDAQ:\n",
       "Lrg/Small Cap:\n",
       "Growth/Value:\n",
       "PREVIOUS\n",
       "CLOSE\n",
       "200-DAY\n",
       "AVERAGE\n",
       "39134.76</td>\n",
       "      <td><div class=\"pxt_document\" style=\"width:320px;\">\n",
       "            <a href=\"http://127.0.0.1:35765/home/marcel/.pixeltable/file_cache/c7638b6b71414922887a5d06fefd2bb8_0_21aaff0a17e7cd7169986c6fbcca9a28e22b1fc43fc812b27ab13995891fddec.pdf\">\n",
       "                <img style=\"object-fit: contain; border: 1px solid black;\" src=\"data:image/webp;base64,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\" />\n",
       "            </a>\n",
       "        </div></td>\n",
       "    </tr>\n",
       "    <tr>\n",
       "      <td>1</td>\n",
       "      <td>37058.23\n",
       "5473.17\n",
       "4831.39\n",
       "17721.59\n",
       "15160.55\n",
       "1.48\n",
       "1.37\n",
       "2.07\n",
       "1.86\n",
       "CURRENT\n",
       "RANKING\n",
       "Five-Day Put/Call:\n",
       "Momentum:\n",
       "Bullish Sentiment:\n",
       "Mutual Fund Cash:\n",
       "Vickers Insider Index:\n",
       "1.00\n",
       "Positive\n",
       "346000\n",
       "Neutral\n",
       "44%\n",
       "Positive\n",
       "1.70%\n",
       "Negative\n",
       "3.42\n",
       "Negative\n",
       "Housing Sentiment Slumps\n",
       "Mortgage rates near 7% are pushing prospective buyers to the sidelines and \n",
       "could turn housing to a drag on 2Q GDP after a strong contribution to 1Q \n",
       "growth. &quot;Millions of potential homebuyers have been priced out of the market \n",
       "by  ...... rding to The State of The \n",
       "Nation&#x27;s Housing report, which was published yesterday by Harvard&#x27;s Joint \n",
       "Center for Housing Studies. Fannie Mae&#x27;s Home Purchase Sentiment Index \n",
       "for May dropped by 2.5 points to an all-time survey low of 69.4. Just 14% of \n",
       "consumers said that it is a good time to buy a home, down from 20% in April. \n",
       "Doug \n",
       "Duncan, \n",
       "Chief \n",
       "Economist \n",
       "at \n",
       "Fannie \n",
       "Mae, \n",
       "said \n",
       "&quot;While \n",
       "many \n",
       "respondents expressed optimism at the beginning of the year that mortgage \n",
       "rates would decline,</td>\n",
       "      <td><div class=\"pxt_document\" style=\"width:320px;\">\n",
       "            <a href=\"http://127.0.0.1:35765/home/marcel/.pixeltable/file_cache/c7638b6b71414922887a5d06fefd2bb8_0_21aaff0a17e7cd7169986c6fbcca9a28e22b1fc43fc812b27ab13995891fddec.pdf\">\n",
       "                <img style=\"object-fit: contain; border: 1px solid black;\" src=\"data:image/webp;base64,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\" />\n",
       "            </a>\n",
       "        </div></td>\n",
       "    </tr>\n",
       "    <tr>\n",
       "      <td>0</td>\n",
       "      <td>Company Research Highlights\n",
       "®\n",
       "Report created on June 21, 2024\n",
       "This is not an investment recommendation from Fidelity Investments. Fidelity provides this information as a service to investors from independent, third-party sources.\n",
       "Performance of analyst recommendations are provided by StarMine from Refinitiv. Current analyst recommendations are collected and standardized by Investars.\n",
       "See each section in this report for third-party content attribution, as well as the final page of the report  ...... Market Capitalization:\n",
       "\\$2182.8 B\n",
       "Interactive Media &amp; Services Industry\n",
       "Business Description  Data provided by S&amp;P Compustat\n",
       "Alphabet Inc. offers various products and platforms in the United States, Europe, the Middle\n",
       "East, Africa, the Asia-Pacific, Canada, and Latin America. It operates through Google Services,\n",
       "Google Cloud, and Other Bets segments.\n",
       "Key Statistics\n",
       "Employee Count\n",
       "182,502\n",
       "Institutional Ownership\n",
       "80.9%\n",
       "Total Revenue (TTM)\n",
       "\\$80,539.00\n",
       "3/31/2024\n",
       "Revenue Growth\n",
       "(TTM vs. Prior TTM)</td>\n",
       "      <td><div class=\"pxt_document\" style=\"width:320px;\">\n",
       "            <a href=\"http://127.0.0.1:35765/home/marcel/.pixeltable/file_cache/c7638b6b71414922887a5d06fefd2bb8_0_2433fd6c032c6eda1b2714afd7d250aa12926b779199653c078fb73165ad3444.pdf\">\n",
       "                <img style=\"object-fit: contain; border: 1px solid black;\" src=\"data:image/webp;base64,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\" />\n",
       "            </a>\n",
       "        </div></td>\n",
       "    </tr>\n",
       "    <tr>\n",
       "      <td>1</td>\n",
       "      <td>+11.78%\n",
       "Enterprise Value\n",
       "\\$2103.1 B\n",
       "6/20/2024\n",
       "Ex. Dividend Date\n",
       "6/10/2024\n",
       "Dividend\n",
       "\\$0.200000\n",
       "Dividend Yield (Annualized)\n",
       "0.45%\n",
       "6/20/2024\n",
       "P/E (TTM)\n",
       "27.0\n",
       "6/20/2024\n",
       "Earning Yield (TTM)\n",
       "+3.70%\n",
       "6/20/2024\n",
       "EPS (Adjusted TTM)\n",
       "\\$1.89\n",
       "4/25/2024\n",
       "Consensus EPS Estimate\n",
       "(Q2 2024)\n",
       "\\$1.84\n",
       "EPS Growth\n",
       "(TTM vs. Prior TTM)\n",
       "+45.2%\n",
       "3-Year Price Performance  Data provided by DataScope from Refinitiv\n",
       "Q3\n",
       "Q4\n",
       "Q1\n",
       "Q2\n",
       "Q3\n",
       "Q4\n",
       "Q1\n",
       "Q2\n",
       "Q3\n",
       "Q4\n",
       "Q1\n",
       "Q2\n",
       "2021\n",
       "2022\n",
       "2023\n",
       "2024\n",
       "-40%\n",
       "-20%\n",
       "0%\n",
       "20%\n",
       "40%\n",
       "0\n",
       "500\n",
       "Average Monthly Volume (Millions)\n",
       "50-Day Moving Average\n",
       "200-Day Moving Average\n",
       "Trading Characteristics\n",
       "52 Week High\n",
       "6/12/2024\n",
       "\\$180.41\n",
       "52 Week Low\n",
       "7/11/2023\n",
       "\\$115.35\n",
       "% Price Above/Below\n",
       "   20-Day Average\n",
       "2.4\n",
       "   50-Day Average</td>\n",
       "      <td><div class=\"pxt_document\" style=\"width:320px;\">\n",
       "            <a href=\"http://127.0.0.1:35765/home/marcel/.pixeltable/file_cache/c7638b6b71414922887a5d06fefd2bb8_0_2433fd6c032c6eda1b2714afd7d250aa12926b779199653c078fb73165ad3444.pdf\">\n",
       "                <img style=\"object-fit: contain; border: 1px solid black;\" src=\"data:image/webp;base64,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\" />\n",
       "            </a>\n",
       "        </div></td>\n",
       "    </tr>\n",
       "  </tbody>\n",
       "</table>"
      ],
      "text/plain": [
       "   pos                                               text  \\\n",
       "0    0  MARKET DIGEST\\n- 1 -\\n FRIDAY, JUNE 21, 2024\\n...   \n",
       "1    1   500 lower by 0.79% and 0.25%,\\nrespectively. ...   \n",
       "2    0  Friday, June 21, 2024\\nIntermediate Term:\\nMar...   \n",
       "3    1  \\n37058.23\\n5473.17\\n4831.39\\n17721.59\\n15160....   \n",
       "4    0  Company Research Highlights\\n®\\nReport created...   \n",
       "5    1  +11.78%\\nEnterprise Value\\n$2103.1 B\\n6/20/202...   \n",
       "\n",
       "                                            document  \n",
       "0  /home/marcel/.pixeltable/file_cache/c7638b6b71...  \n",
       "1  /home/marcel/.pixeltable/file_cache/c7638b6b71...  \n",
       "2  /home/marcel/.pixeltable/file_cache/c7638b6b71...  \n",
       "3  /home/marcel/.pixeltable/file_cache/c7638b6b71...  \n",
       "4  /home/marcel/.pixeltable/file_cache/c7638b6b71...  \n",
       "5  /home/marcel/.pixeltable/file_cache/c7638b6b71...  "
      ]
     },
     "execution_count": 11,
     "metadata": {},
     "output_type": "execute_result"
    }
   ],
   "source": [
    "chunks_t.where(chunks_t.pos < 2).show()"
   ]
  },
  {
   "cell_type": "markdown",
   "metadata": {},
   "source": [
    "Now let's compute vector embeddings for the document chunks and store them in a vector index. Pixeltable has built-in support for vector indexing using a variety of embedding model families, and it's easy for users to add new ones via UDFs. In this demo, we're going to use the E5 model from the Huggingface `sentence_transformers` library, which runs locally. \n",
    "\n",
    "The following command creates a vector index on the `text` column in the `chunks` table, using the E5 embedding model. (For details on index creation, see the [Embedding and Vector Indices](https://docs.pixeltable.com/docs/embedding-vector-indexes) guide.) Note that defining the index is sufficient in order to load it with the existing data (and also to update it when the underlying data changes, as we'll see later)."
   ]
  },
  {
   "cell_type": "code",
   "execution_count": 12,
   "metadata": {
    "metadata": {}
   },
   "outputs": [],
   "source": [
    "from pixeltable.functions.huggingface import sentence_transformer\n",
    "\n",
    "chunks_t.add_embedding_index(\n",
    "    'text',\n",
    "    embedding=sentence_transformer.using(model_id='intfloat/e5-large-v2')\n",
    ")"
   ]
  },
  {
   "cell_type": "markdown",
   "metadata": {},
   "source": [
    "This completes the first part of our application, creating an indexed document base. Next, we'll use it to run some queries."
   ]
  },
  {
   "cell_type": "markdown",
   "metadata": {},
   "source": [
    "## 2. Querying\n",
    "\n",
    "In order to express a top-k lookup against our index, we use Pixeltable's `similarity` operator in combination with the standard `order_by` and `limit` operations. Before building this into our application, let's run a sample query to make sure it works."
   ]
  },
  {
   "cell_type": "code",
   "execution_count": 13,
   "metadata": {
    "metadata": {},
    "scrolled": true
   },
   "outputs": [
    {
     "data": {
      "text/html": [
       "<table border=\"1\" class=\"dataframe\">\n",
       "  <thead>\n",
       "    <tr style=\"text-align: right;\">\n",
       "      <th>similarity</th>\n",
       "      <th>text</th>\n",
       "    </tr>\n",
       "  </thead>\n",
       "  <tbody>\n",
       "    <tr>\n",
       "      <td>0.801</td>\n",
       "      <td>on 6/20/2024:\n",
       "\\$176.30\n",
       "Communication Services Sector\n",
       "Market Capitalization:\n",
       "\\$2182.8 B\n",
       "Interactive Media &amp; Services Industry\n",
       "Alphabet Class A\n",
       "The content on this page is provided by third parties and not Fidelity. Fidelity did not prepare and does not endorse such content. All are third-party companies that are not affiliated with Fidelity.\n",
       "See each section in this report for third-party content attribution and see page 4 for full disclosures.\n",
       "Page 2\n",
       "Report created on June 21, 2024\n",
       "Equity Sum ...... rom\n",
       "contributors. The number of contributors for\n",
       "each security where there is a consensus\n",
       "recommendation is provided. Each\n",
       "contributor determines how their individual\n",
       "recommendation scale maps to the I/B/E/S\n",
       "from Refinitiv 5-point scale.\n",
       "Visit Fidelity.com for firm descriptions,\n",
       "detailed methodologies, and more\n",
       "information on the Equity Summary Score,\n",
       "First Call Consensus, opinion history and\n",
       "performance, and most current available\n",
       "research reports for GOOGL.\n",
       "Equity Summary Score  (7 Firms†)</td>\n",
       "    </tr>\n",
       "    <tr>\n",
       "      <td>0.799</td>\n",
       "      <td>/B/E/S from Refinitiv\n",
       "Earnings in US Dollars\n",
       "ACTUALS\n",
       "ESTIMATES\n",
       "STARMINE ESTIMATES\n",
       "GOOGL PRICE\n",
       "Q2\n",
       "Q1\n",
       "2024\n",
       "2024\n",
       "2024\n",
       "2024\n",
       "Q4\n",
       "Q3\n",
       "Q2\n",
       "Q1\n",
       "2023\n",
       "2023\n",
       "2023\n",
       "2023\n",
       "Q4\n",
       "Q3\n",
       "Q2\n",
       "Q1\n",
       "2022\n",
       "2022\n",
       "2022\n",
       "2022\n",
       "\\$0\n",
       "\\$100\n",
       "\\$200\n",
       "Today\n",
       "1.23\n",
       "1.21\n",
       "1.06\n",
       "1.05\n",
       "1.17\n",
       "1.44\n",
       "1.55\n",
       "1.64\n",
       "1.89\n",
       "1.84\n",
       "Actuals vs. Estimates for Fiscal Year\n",
       "First Call Estimates\n",
       " \n",
       "Actual (\\$)\n",
       "Consensus (\\$)\n",
       "Analysts in Consensus\n",
       "Low / High Range (\\$)\n",
       "Previous Year (Ends 12/31/23)\n",
       "5.80\n",
       "5.74\n",
       "48\n",
       "5.26 / 6.10\n",
       "Next Year (Ends 12/31/24)\n",
       "--\n",
       "7.57\n",
       "53\n",
       "6.87 / 8.17\n",
       "Industry Comparisons**  Data provided by S&amp;P Compustat\n",
       "Valuation Ratios (trailing 12 months)\n",
       "GOOGL\n",
       "Industry\n",
       "GOOGL Percentile Rank in Industry\n",
       "Price / Earnings\n",
       "27.0\n",
       "28.1\n",
       "--\n",
       "PEG Ratio\n",
       "1</td>\n",
       "    </tr>\n",
       "    <tr>\n",
       "      <td>0.796</td>\n",
       "      <td>+11.78%\n",
       "Enterprise Value\n",
       "\\$2103.1 B\n",
       "6/20/2024\n",
       "Ex. Dividend Date\n",
       "6/10/2024\n",
       "Dividend\n",
       "\\$0.200000\n",
       "Dividend Yield (Annualized)\n",
       "0.45%\n",
       "6/20/2024\n",
       "P/E (TTM)\n",
       "27.0\n",
       "6/20/2024\n",
       "Earning Yield (TTM)\n",
       "+3.70%\n",
       "6/20/2024\n",
       "EPS (Adjusted TTM)\n",
       "\\$1.89\n",
       "4/25/2024\n",
       "Consensus EPS Estimate\n",
       "(Q2 2024)\n",
       "\\$1.84\n",
       "EPS Growth\n",
       "(TTM vs. Prior TTM)\n",
       "+45.2%\n",
       "3-Year Price Performance  Data provided by DataScope from Refinitiv\n",
       "Q3\n",
       "Q4\n",
       "Q1\n",
       "Q2\n",
       "Q3\n",
       "Q4\n",
       "Q1\n",
       "Q2\n",
       "Q3\n",
       "Q4\n",
       "Q1\n",
       "Q2\n",
       "2021\n",
       "2022\n",
       "2023\n",
       "2024\n",
       "-40%\n",
       "-20%\n",
       "0%\n",
       "20%\n",
       "40%\n",
       "0\n",
       "500\n",
       "Average Monthly Volume (Millions)\n",
       "50-Day Moving Average\n",
       "200-Day Moving Average\n",
       "Trading Characteristics\n",
       "52 Week High\n",
       "6/12/2024\n",
       "\\$180.41\n",
       "52 Week Low\n",
       "7/11/2023\n",
       "\\$115.35\n",
       "% Price Above/Below\n",
       "   20-Day Average\n",
       "2.4\n",
       "   50-Day Average</td>\n",
       "    </tr>\n",
       "    <tr>\n",
       "      <td>0.795</td>\n",
       "      <td>Friday, June 21, 2024\n",
       "Intermediate Term:\n",
       "Market Outlook\n",
       "Bullish\n",
       "-------------- PORTFOLIO STRATEGY -------------\n",
       "Equity:\n",
       "72%\n",
       "Cash:\n",
       "1%\n",
       "Today&#x27;s Market Movers\n",
       "IMPACT\n",
       "aGlobal Shares Lower\n",
       "GILD Pops on HIV Drug Results\n",
       "SRPT Soars on FDA Approval\n",
       "SWBI Drops on Sales Guidance\n",
       "+\n",
       "+\n",
       "+\n",
       "-\n",
       "a\n",
       "a\n",
       "a\n",
       "Recent Research Review\n",
       "ADSK, MRNA, IQV, WMB, BUD, LYFT, SRE, BP, \n",
       "AEE, PPC, JNPR, ORCL, CMG, TPR, DPZ, EOG, \n",
       "COST, PLTR, COR, VRTX\n",
       "Statistics Diary\n",
       "12-Mth S&amp;P 500 Forcast:\n",
       "S&amp;P 500 Current/Next EPS:\n",
       "S&amp;P 500 P/E:\n",
       "12-Mth S&amp;P P/E Range:\n",
       "10-Year Yield:\n",
       "12-Mth 10-Yr. Bond Forecast:\n",
       "Current Fed Funds Target:\n",
       "12-Mth Fed Funds Forecast:\n",
       "4800-5600\n",
       "247/265\n",
       "22.16\n",
       "18.1 - 21.1\n",
       "4.26%\n",
       "3.50-4.50%\n",
       "4.62%\n",
       "4.50-5.50%\n",
       "DJIA:\n",
       "S&amp;P 500:\n",
       "NASDAQ:\n",
       "Lrg/Small Cap:\n",
       "Growth/Value:\n",
       "PREVIOUS\n",
       "CLOSE\n",
       "200-DAY\n",
       "AVERAGE\n",
       "39134.76</td>\n",
       "    </tr>\n",
       "    <tr>\n",
       "      <td>0.794</td>\n",
       "      <td>2024:\n",
       "\\$176.30\n",
       "Communication Services Sector\n",
       "Market Capitalization:\n",
       "\\$2182.8 B\n",
       "Interactive Media &amp; Services Industry\n",
       "Alphabet Class A\n",
       "The content on this page is provided by third parties and not Fidelity. Fidelity did not prepare and does not endorse such content. All are third-party companies that are not affiliated with Fidelity.\n",
       "See each section in this report for third-party content attribution.\n",
       " \n",
       " © 2024 FMR LLC. All rights reserved. 447628.8.0\n",
       "Page 4\n",
       "Report created on June 21, 2024\n",
       "Impo ...... alyst recommendations data and analysis provided by Investars. All are third-party companies that are not affiliated with Fidelity.\n",
       "This report provides quotes and data concerning the financial markets, securities and other subjects. Content is supplied by companies that are not affiliated with Fidelity (&quot;Third-Party\n",
       "Content&quot;). Most Third-Party Content and its source are clearly and prominently identified. Fidelity does not prepare, edit, or endorse Third-Party Content. News and research are</td>\n",
       "    </tr>\n",
       "  </tbody>\n",
       "</table>"
      ],
      "text/plain": [
       "   similarity                                               text\n",
       "0    0.800725   on 6/20/2024:\\n$176.30\\nCommunication Service...\n",
       "1    0.799386  /B/E/S from Refinitiv\\nEarnings in US Dollars\\...\n",
       "2    0.796000  +11.78%\\nEnterprise Value\\n$2103.1 B\\n6/20/202...\n",
       "3    0.794835  Friday, June 21, 2024\\nIntermediate Term:\\nMar...\n",
       "4    0.794355  2024:\\n$176.30\\nCommunication Services Sector\\..."
      ]
     },
     "execution_count": 13,
     "metadata": {},
     "output_type": "execute_result"
    }
   ],
   "source": [
    "query_text = \"What is the expected EPS for Nvidia in Q1 2026?\"\n",
    "sim = chunks_t.text.similarity(query_text)\n",
    "nvidia_eps_query = (\n",
    "    chunks_t\n",
    "    .order_by(sim, asc=False)\n",
    "    .select(similarity=sim, text=chunks_t.text)\n",
    "    .limit(5)\n",
    ")\n",
    "nvidia_eps_query.collect()"
   ]
  },
  {
   "cell_type": "markdown",
   "metadata": {},
   "source": [
    "We perform this context retrieval for each row of our `queries` table by adding it as a computed column. In this case, the operation is a top-k similarity lookup against the data in the `chunks` table. To implement this operation, we'll use Pixeltable's `@query` decorator to enhance the capabilities of the `chunks` table."
   ]
  },
  {
   "cell_type": "code",
   "execution_count": 14,
   "metadata": {
    "metadata": {}
   },
   "outputs": [
    {
     "name": "stdout",
     "output_type": "stream",
     "text": [
      "Added 8 column values with 0 errors.\n"
     ]
    },
    {
     "data": {
      "text/plain": [
       "8 rows updated, 8 values computed."
      ]
     },
     "execution_count": 14,
     "metadata": {},
     "output_type": "execute_result"
    }
   ],
   "source": [
    "# A @query is essentially a reusable, parameterized query that is attached to a table (or view),\n",
    "# which is a modular way of getting data from that table.\n",
    "\n",
    "@pxt.query\n",
    "def top_k(query_text: str):\n",
    "    sim = chunks_t.text.similarity(query_text)\n",
    "    return (\n",
    "        chunks_t.order_by(sim, asc=False)\n",
    "            .select(chunks_t.text, sim=sim)\n",
    "            .limit(5)\n",
    "    )\n",
    "\n",
    "# Now add a computed column to `queries_t`, calling the query\n",
    "# `top_k` that we just defined.\n",
    "queries_t.add_computed_column(\n",
    "    question_context=top_k(queries_t.Question)\n",
    ")"
   ]
  },
  {
   "cell_type": "markdown",
   "metadata": {},
   "source": [
    "Our `queries` table now looks like this:"
   ]
  },
  {
   "cell_type": "code",
   "execution_count": 15,
   "metadata": {},
   "outputs": [
    {
     "data": {
      "text/html": [
       "<style type=\"text/css\">\n",
       "#T_d87f8_row0_col0 {\n",
       "  white-space: pre-wrap;\n",
       "  text-align: left;\n",
       "  font-weight: bold;\n",
       "}\n",
       "</style>\n",
       "<table id=\"T_d87f8\">\n",
       "  <thead>\n",
       "  </thead>\n",
       "  <tbody>\n",
       "    <tr>\n",
       "      <td id=\"T_d87f8_row0_col0\" class=\"data row0 col0\" >table 'rag_demo.queries'</td>\n",
       "    </tr>\n",
       "  </tbody>\n",
       "</table>\n",
       "\n",
       "<style type=\"text/css\">\n",
       "#T_8d1a3 th {\n",
       "  text-align: left;\n",
       "}\n",
       "#T_8d1a3_row0_col0, #T_8d1a3_row0_col1, #T_8d1a3_row0_col2, #T_8d1a3_row1_col0, #T_8d1a3_row1_col1, #T_8d1a3_row1_col2, #T_8d1a3_row2_col0, #T_8d1a3_row2_col1, #T_8d1a3_row2_col2, #T_8d1a3_row3_col0, #T_8d1a3_row3_col1, #T_8d1a3_row3_col2 {\n",
       "  white-space: pre-wrap;\n",
       "  text-align: left;\n",
       "}\n",
       "</style>\n",
       "<table id=\"T_8d1a3\">\n",
       "  <thead>\n",
       "    <tr>\n",
       "      <th id=\"T_8d1a3_level0_col0\" class=\"col_heading level0 col0\" >Column Name</th>\n",
       "      <th id=\"T_8d1a3_level0_col1\" class=\"col_heading level0 col1\" >Type</th>\n",
       "      <th id=\"T_8d1a3_level0_col2\" class=\"col_heading level0 col2\" >Computed With</th>\n",
       "    </tr>\n",
       "  </thead>\n",
       "  <tbody>\n",
       "    <tr>\n",
       "      <td id=\"T_8d1a3_row0_col0\" class=\"data row0 col0\" >S__No_</td>\n",
       "      <td id=\"T_8d1a3_row0_col1\" class=\"data row0 col1\" >Int</td>\n",
       "      <td id=\"T_8d1a3_row0_col2\" class=\"data row0 col2\" ></td>\n",
       "    </tr>\n",
       "    <tr>\n",
       "      <td id=\"T_8d1a3_row1_col0\" class=\"data row1 col0\" >Question</td>\n",
       "      <td id=\"T_8d1a3_row1_col1\" class=\"data row1 col1\" >String</td>\n",
       "      <td id=\"T_8d1a3_row1_col2\" class=\"data row1 col2\" ></td>\n",
       "    </tr>\n",
       "    <tr>\n",
       "      <td id=\"T_8d1a3_row2_col0\" class=\"data row2 col0\" >correct_answer</td>\n",
       "      <td id=\"T_8d1a3_row2_col1\" class=\"data row2 col1\" >String</td>\n",
       "      <td id=\"T_8d1a3_row2_col2\" class=\"data row2 col2\" ></td>\n",
       "    </tr>\n",
       "    <tr>\n",
       "      <td id=\"T_8d1a3_row3_col0\" class=\"data row3 col0\" >question_context</td>\n",
       "      <td id=\"T_8d1a3_row3_col1\" class=\"data row3 col1\" >Json</td>\n",
       "      <td id=\"T_8d1a3_row3_col2\" class=\"data row3 col2\" >top_k(Question)</td>\n",
       "    </tr>\n",
       "  </tbody>\n",
       "</table>\n"
      ],
      "text/plain": [
       "table 'rag_demo.queries'\n",
       "\n",
       "       Column Name    Type    Computed With\n",
       "            S__No_     Int                 \n",
       "          Question  String                 \n",
       "    correct_answer  String                 \n",
       "  question_context    Json  top_k(Question)"
      ]
     },
     "execution_count": 15,
     "metadata": {},
     "output_type": "execute_result"
    }
   ],
   "source": [
    "queries_t"
   ]
  },
  {
   "cell_type": "markdown",
   "metadata": {},
   "source": [
    "The new column `question_context` now contains the result of executing the query for each row, formatted as a list of dictionaries:"
   ]
  },
  {
   "cell_type": "code",
   "execution_count": 16,
   "metadata": {},
   "outputs": [
    {
     "data": {
      "text/html": [
       "<table border=\"1\" class=\"dataframe\">\n",
       "  <thead>\n",
       "    <tr style=\"text-align: right;\">\n",
       "      <th>question_context</th>\n",
       "    </tr>\n",
       "  </thead>\n",
       "  <tbody>\n",
       "    <tr>\n",
       "      <td>[{&quot;sim&quot;: 0.795, &quot;text&quot;: &quot; that simply hasn&#x27;t happened, and current sentiment \\nreflects pent-up frustration with the overall lack of purchase affordability.\\&quot; \\nBased on the  ...... .5% for April. The Zillow Home Value index rose by 4.3% in April and \\n4.3% in May. High mortgage rates are a challenge, but we remain bullish on \\n&quot;}, {&quot;sim&quot;: 0.794, &quot;text&quot;: &quot;\\n37058.23\\n5473.17\\n4831.39\\n17721.59\\n15160.55\\n1.48\\n1.37\\n2.07\\n1.86\\nCURRENT\\nRANKING\\nFive-Day Put/Call:\\nMomentum:\\nBullish Sentiment:\\nMutual Fund Cash:\\n ......  \\nEconomist \\nat \\nFannie \\nMae, \\nsaid \\n\\&quot;While \\nmany \\nrespondents expressed optimism at the beginning of the year that mortgage \\nrates would decline,&quot;}, {&quot;sim&quot;: 0.779, &quot;text&quot;: &quot;+11.78%\\nEnterprise Value\\n\\$2103.1 B\\n6/20/2024\\nEx. Dividend Date\\n6/10/2024\\nDividend\\n\\$0.200000\\nDividend Yield (Annualized)\\n0.45%\\n6/20/2024\\nP/E (TTM)\\n ...... e\\nTrading Characteristics\\n52 Week High\\n6/12/2024\\n\\$180.41\\n52 Week Low\\n7/11/2023\\n\\$115.35\\n% Price Above/Below\\n   20-Day Average\\n2.4\\n   50-Day Average&quot;}, {&quot;sim&quot;: 0.768, &quot;text&quot;: &quot;, redistribution or disclosure is prohibited by law and can result in prosecution. The content of this report\\nmay be derived from Argus research r ...... ny loss arising from the use of this report, nor shall Argus treat all recipients of this report as\\ncustomers simply by virtue of their receipt of&quot;}, {&quot;sim&quot;: 0.765, &quot;text&quot;: &quot;.20; the new guidance implies growth of 2%-3% from FY23. That is down from 3%-5% growth\\nguidance offered in March 2024.\\nWe are reducing our FY24 n ...... billion in FY23, \\$9.54 billion in FY22, \\$8.98 billion in FY21, \\$8.36 billion in FY20,\\nand \\$6.63 billion in FY19.\\nAccenture forecast free cash flow&quot;}]</td>\n",
       "    </tr>\n",
       "  </tbody>\n",
       "</table>"
      ],
      "text/plain": [
       "                                    question_context\n",
       "0  [{'sim': 0.7950694561004639, 'text': ' that si..."
      ]
     },
     "execution_count": 16,
     "metadata": {},
     "output_type": "execute_result"
    }
   ],
   "source": [
    "queries_t.select(queries_t.question_context).head(1)"
   ]
  },
  {
   "cell_type": "markdown",
   "metadata": {},
   "source": [
    "### Asking the LLM\n",
    "\n",
    "Now it's time for the final step in our application: feeding the document chunks and questions to an LLM for resolution. In this demo, we'll use OpenAI for this, but any other inference cloud or local model could be used instead.\n",
    "\n",
    "We start by defining a UDF that takes a top-k list of context chunks and a question and turns them into a ChatGPT prompt."
   ]
  },
  {
   "cell_type": "code",
   "execution_count": 17,
   "metadata": {},
   "outputs": [],
   "source": [
    "# Define a UDF to create an LLM prompt given a top-k list of\n",
    "# context chunks and a question.\n",
    "@pxt.udf\n",
    "def create_prompt(top_k_list: list[dict], question: str) -> str:\n",
    "    concat_top_k = '\\n\\n'.join(\n",
    "        elt['text'] for elt in reversed(top_k_list)\n",
    "    )\n",
    "    return f'''\n",
    "    PASSAGES:\n",
    "\n",
    "    {concat_top_k}\n",
    "\n",
    "    QUESTION:\n",
    "\n",
    "    {question}'''"
   ]
  },
  {
   "cell_type": "markdown",
   "metadata": {},
   "source": [
    "We then add that again as a computed column to `queries`:"
   ]
  },
  {
   "cell_type": "code",
   "execution_count": 18,
   "metadata": {},
   "outputs": [
    {
     "name": "stdout",
     "output_type": "stream",
     "text": [
      "Added 8 column values with 0 errors.\n"
     ]
    },
    {
     "data": {
      "text/plain": [
       "8 rows updated, 16 values computed."
      ]
     },
     "execution_count": 18,
     "metadata": {},
     "output_type": "execute_result"
    }
   ],
   "source": [
    "queries_t.add_computed_column(\n",
    "    prompt=create_prompt(queries_t.question_context, queries_t.Question)\n",
    ")"
   ]
  },
  {
   "cell_type": "markdown",
   "metadata": {},
   "source": [
    "We now have a new string column containing the prompt:"
   ]
  },
  {
   "cell_type": "code",
   "execution_count": 19,
   "metadata": {},
   "outputs": [
    {
     "data": {
      "text/html": [
       "<style type=\"text/css\">\n",
       "#T_b6a99_row0_col0 {\n",
       "  white-space: pre-wrap;\n",
       "  text-align: left;\n",
       "  font-weight: bold;\n",
       "}\n",
       "</style>\n",
       "<table id=\"T_b6a99\">\n",
       "  <thead>\n",
       "  </thead>\n",
       "  <tbody>\n",
       "    <tr>\n",
       "      <td id=\"T_b6a99_row0_col0\" class=\"data row0 col0\" >table 'rag_demo.queries'</td>\n",
       "    </tr>\n",
       "  </tbody>\n",
       "</table>\n",
       "\n",
       "<style type=\"text/css\">\n",
       "#T_f6da3 th {\n",
       "  text-align: left;\n",
       "}\n",
       "#T_f6da3_row0_col0, #T_f6da3_row0_col1, #T_f6da3_row0_col2, #T_f6da3_row1_col0, #T_f6da3_row1_col1, #T_f6da3_row1_col2, #T_f6da3_row2_col0, #T_f6da3_row2_col1, #T_f6da3_row2_col2, #T_f6da3_row3_col0, #T_f6da3_row3_col1, #T_f6da3_row3_col2, #T_f6da3_row4_col0, #T_f6da3_row4_col1, #T_f6da3_row4_col2 {\n",
       "  white-space: pre-wrap;\n",
       "  text-align: left;\n",
       "}\n",
       "</style>\n",
       "<table id=\"T_f6da3\">\n",
       "  <thead>\n",
       "    <tr>\n",
       "      <th id=\"T_f6da3_level0_col0\" class=\"col_heading level0 col0\" >Column Name</th>\n",
       "      <th id=\"T_f6da3_level0_col1\" class=\"col_heading level0 col1\" >Type</th>\n",
       "      <th id=\"T_f6da3_level0_col2\" class=\"col_heading level0 col2\" >Computed With</th>\n",
       "    </tr>\n",
       "  </thead>\n",
       "  <tbody>\n",
       "    <tr>\n",
       "      <td id=\"T_f6da3_row0_col0\" class=\"data row0 col0\" >S__No_</td>\n",
       "      <td id=\"T_f6da3_row0_col1\" class=\"data row0 col1\" >Int</td>\n",
       "      <td id=\"T_f6da3_row0_col2\" class=\"data row0 col2\" ></td>\n",
       "    </tr>\n",
       "    <tr>\n",
       "      <td id=\"T_f6da3_row1_col0\" class=\"data row1 col0\" >Question</td>\n",
       "      <td id=\"T_f6da3_row1_col1\" class=\"data row1 col1\" >String</td>\n",
       "      <td id=\"T_f6da3_row1_col2\" class=\"data row1 col2\" ></td>\n",
       "    </tr>\n",
       "    <tr>\n",
       "      <td id=\"T_f6da3_row2_col0\" class=\"data row2 col0\" >correct_answer</td>\n",
       "      <td id=\"T_f6da3_row2_col1\" class=\"data row2 col1\" >String</td>\n",
       "      <td id=\"T_f6da3_row2_col2\" class=\"data row2 col2\" ></td>\n",
       "    </tr>\n",
       "    <tr>\n",
       "      <td id=\"T_f6da3_row3_col0\" class=\"data row3 col0\" >question_context</td>\n",
       "      <td id=\"T_f6da3_row3_col1\" class=\"data row3 col1\" >Json</td>\n",
       "      <td id=\"T_f6da3_row3_col2\" class=\"data row3 col2\" >top_k(Question)</td>\n",
       "    </tr>\n",
       "    <tr>\n",
       "      <td id=\"T_f6da3_row4_col0\" class=\"data row4 col0\" >prompt</td>\n",
       "      <td id=\"T_f6da3_row4_col1\" class=\"data row4 col1\" >String</td>\n",
       "      <td id=\"T_f6da3_row4_col2\" class=\"data row4 col2\" >create_prompt(question_context, Question)</td>\n",
       "    </tr>\n",
       "  </tbody>\n",
       "</table>\n"
      ],
      "text/plain": [
       "table 'rag_demo.queries'\n",
       "\n",
       "       Column Name    Type                              Computed With\n",
       "            S__No_     Int                                           \n",
       "          Question  String                                           \n",
       "    correct_answer  String                                           \n",
       "  question_context    Json                            top_k(Question)\n",
       "            prompt  String  create_prompt(question_context, Question)"
      ]
     },
     "execution_count": 19,
     "metadata": {},
     "output_type": "execute_result"
    }
   ],
   "source": [
    "queries_t"
   ]
  },
  {
   "cell_type": "code",
   "execution_count": 20,
   "metadata": {},
   "outputs": [
    {
     "data": {
      "text/html": [
       "<table border=\"1\" class=\"dataframe\">\n",
       "  <thead>\n",
       "    <tr style=\"text-align: right;\">\n",
       "      <th>prompt</th>\n",
       "    </tr>\n",
       "  </thead>\n",
       "  <tbody>\n",
       "    <tr>\n",
       "      <td>PASSAGES:\n",
       "\n",
       "    .20; the new guidance implies growth of 2%-3% from FY23. That is down from 3%-5% growth\n",
       "guidance offered in March 2024.\n",
       "We are reducing our FY24 non-GAAP earnings estimate to \\$11.88 per diluted share from \\$12.11. However, we are\n",
       "raising our FY25 forecast to \\$12.70 per diluted share from \\$12.68. Our long-term annualized EPS growth rate forecast is 10%.\n",
       "FINANCIAL STRENGTH &amp; DIVIDEND\n",
       "Accenture&#x27;s financial strength ranking is High. The company, which formerly had fractional d ...... of 4.10 million (SAAR), down from 4.23 million in May 2023. Next \n",
       "week, we expect the Commerce Department to report May New Home Sales \n",
       "of 640,000 (SAAR), down from 741,000 a year earlier. The S&amp;P/Case-Shiller \n",
       "National Home Price Index jumped 6.5% in March. We expect it to rise about \n",
       "4.5% for April. The Zillow Home Value index rose by 4.3% in April and \n",
       "4.3% in May. High mortgage rates are a challenge, but we remain bullish on \n",
       "\n",
       "\n",
       "    QUESTION:\n",
       "\n",
       "    What is roughly the current mortage rate?</td>\n",
       "    </tr>\n",
       "  </tbody>\n",
       "</table>"
      ],
      "text/plain": [
       "                                              prompt\n",
       "0  \\n    PASSAGES:\\n\\n    .20; the new guidance i..."
      ]
     },
     "execution_count": 20,
     "metadata": {},
     "output_type": "execute_result"
    }
   ],
   "source": [
    "queries_t.select(queries_t.prompt).head(1)"
   ]
  },
  {
   "cell_type": "markdown",
   "metadata": {},
   "source": [
    "We now add another computed column to call OpenAI. For the `chat_completions()` call, we need to construct two messages, containing the instructions to the model and the prompt. For the latter, we can simply reference the `prompt` column we just added."
   ]
  },
  {
   "cell_type": "code",
   "execution_count": 21,
   "metadata": {},
   "outputs": [
    {
     "name": "stdout",
     "output_type": "stream",
     "text": [
      "Added 8 column values with 0 errors.\n"
     ]
    },
    {
     "data": {
      "text/plain": [
       "8 rows updated, 8 values computed."
      ]
     },
     "execution_count": 21,
     "metadata": {},
     "output_type": "execute_result"
    }
   ],
   "source": [
    "from pixeltable.functions import openai\n",
    "\n",
    "# Assemble the prompt and instructions into OpenAI's message format\n",
    "messages = [\n",
    "    {\n",
    "        'role': 'system',\n",
    "        'content': 'Please read the following passages and answer the question based on their contents.'\n",
    "    },\n",
    "    {\n",
    "        'role': 'user',\n",
    "        'content': queries_t.prompt\n",
    "    }\n",
    "]\n",
    "\n",
    "# Add a computed column that calls OpenAI\n",
    "queries_t.add_computed_column(\n",
    "    response=openai.chat_completions(model='gpt-4o-mini', messages=messages)\n",
    ")"
   ]
  },
  {
   "cell_type": "markdown",
   "metadata": {},
   "source": [
    "Our `queries` table now contains a JSON-structured column `response`, which holds the entire API response structure. At the moment, we're only interested in the response content, which we can extract easily into another computed column:"
   ]
  },
  {
   "cell_type": "code",
   "execution_count": 22,
   "metadata": {},
   "outputs": [
    {
     "name": "stdout",
     "output_type": "stream",
     "text": [
      "Added 8 column values with 0 errors.\n"
     ]
    },
    {
     "data": {
      "text/plain": [
       "8 rows updated, 8 values computed."
      ]
     },
     "execution_count": 22,
     "metadata": {},
     "output_type": "execute_result"
    }
   ],
   "source": [
    "queries_t.add_computed_column(\n",
    "    answer=queries_t.response.choices[0].message.content\n",
    ")"
   ]
  },
  {
   "cell_type": "markdown",
   "metadata": {},
   "source": [
    "We now have the following `queries` schema:"
   ]
  },
  {
   "cell_type": "code",
   "execution_count": 23,
   "metadata": {},
   "outputs": [
    {
     "data": {
      "text/html": [
       "<style type=\"text/css\">\n",
       "#T_59bdb_row0_col0 {\n",
       "  white-space: pre-wrap;\n",
       "  text-align: left;\n",
       "  font-weight: bold;\n",
       "}\n",
       "</style>\n",
       "<table id=\"T_59bdb\">\n",
       "  <thead>\n",
       "  </thead>\n",
       "  <tbody>\n",
       "    <tr>\n",
       "      <td id=\"T_59bdb_row0_col0\" class=\"data row0 col0\" >table 'rag_demo.queries'</td>\n",
       "    </tr>\n",
       "  </tbody>\n",
       "</table>\n",
       "\n",
       "<style type=\"text/css\">\n",
       "#T_30857 th {\n",
       "  text-align: left;\n",
       "}\n",
       "#T_30857_row0_col0, #T_30857_row0_col1, #T_30857_row0_col2, #T_30857_row1_col0, #T_30857_row1_col1, #T_30857_row1_col2, #T_30857_row2_col0, #T_30857_row2_col1, #T_30857_row2_col2, #T_30857_row3_col0, #T_30857_row3_col1, #T_30857_row3_col2, #T_30857_row4_col0, #T_30857_row4_col1, #T_30857_row4_col2, #T_30857_row5_col0, #T_30857_row5_col1, #T_30857_row5_col2, #T_30857_row6_col0, #T_30857_row6_col1, #T_30857_row6_col2 {\n",
       "  white-space: pre-wrap;\n",
       "  text-align: left;\n",
       "}\n",
       "</style>\n",
       "<table id=\"T_30857\">\n",
       "  <thead>\n",
       "    <tr>\n",
       "      <th id=\"T_30857_level0_col0\" class=\"col_heading level0 col0\" >Column Name</th>\n",
       "      <th id=\"T_30857_level0_col1\" class=\"col_heading level0 col1\" >Type</th>\n",
       "      <th id=\"T_30857_level0_col2\" class=\"col_heading level0 col2\" >Computed With</th>\n",
       "    </tr>\n",
       "  </thead>\n",
       "  <tbody>\n",
       "    <tr>\n",
       "      <td id=\"T_30857_row0_col0\" class=\"data row0 col0\" >S__No_</td>\n",
       "      <td id=\"T_30857_row0_col1\" class=\"data row0 col1\" >Int</td>\n",
       "      <td id=\"T_30857_row0_col2\" class=\"data row0 col2\" ></td>\n",
       "    </tr>\n",
       "    <tr>\n",
       "      <td id=\"T_30857_row1_col0\" class=\"data row1 col0\" >Question</td>\n",
       "      <td id=\"T_30857_row1_col1\" class=\"data row1 col1\" >String</td>\n",
       "      <td id=\"T_30857_row1_col2\" class=\"data row1 col2\" ></td>\n",
       "    </tr>\n",
       "    <tr>\n",
       "      <td id=\"T_30857_row2_col0\" class=\"data row2 col0\" >correct_answer</td>\n",
       "      <td id=\"T_30857_row2_col1\" class=\"data row2 col1\" >String</td>\n",
       "      <td id=\"T_30857_row2_col2\" class=\"data row2 col2\" ></td>\n",
       "    </tr>\n",
       "    <tr>\n",
       "      <td id=\"T_30857_row3_col0\" class=\"data row3 col0\" >question_context</td>\n",
       "      <td id=\"T_30857_row3_col1\" class=\"data row3 col1\" >Json</td>\n",
       "      <td id=\"T_30857_row3_col2\" class=\"data row3 col2\" >top_k(Question)</td>\n",
       "    </tr>\n",
       "    <tr>\n",
       "      <td id=\"T_30857_row4_col0\" class=\"data row4 col0\" >prompt</td>\n",
       "      <td id=\"T_30857_row4_col1\" class=\"data row4 col1\" >String</td>\n",
       "      <td id=\"T_30857_row4_col2\" class=\"data row4 col2\" >create_prompt(question_context, Question)</td>\n",
       "    </tr>\n",
       "    <tr>\n",
       "      <td id=\"T_30857_row5_col0\" class=\"data row5 col0\" >response</td>\n",
       "      <td id=\"T_30857_row5_col1\" class=\"data row5 col1\" >Required[Json]</td>\n",
       "      <td id=\"T_30857_row5_col2\" class=\"data row5 col2\" >chat_completions(model='gpt-4o-mini', messages=[{'role': 'system', 'content': 'Please read the following passages and answer the question based on their contents.'}, {'role': 'user', 'content': prompt}])</td>\n",
       "    </tr>\n",
       "    <tr>\n",
       "      <td id=\"T_30857_row6_col0\" class=\"data row6 col0\" >answer</td>\n",
       "      <td id=\"T_30857_row6_col1\" class=\"data row6 col1\" >Json</td>\n",
       "      <td id=\"T_30857_row6_col2\" class=\"data row6 col2\" >response.choices[0].message.content</td>\n",
       "    </tr>\n",
       "  </tbody>\n",
       "</table>\n"
      ],
      "text/plain": [
       "table 'rag_demo.queries'\n",
       "\n",
       "       Column Name            Type                                      Computed With\n",
       "            S__No_             Int                                                   \n",
       "          Question          String                                                   \n",
       "    correct_answer          String                                                   \n",
       "  question_context            Json                                    top_k(Question)\n",
       "            prompt          String          create_prompt(question_context, Question)\n",
       "          response  Required[Json]  chat_completions(model='gpt-4o-mini', messages...\n",
       "            answer            Json                response.choices[0].message.content"
      ]
     },
     "execution_count": 23,
     "metadata": {},
     "output_type": "execute_result"
    }
   ],
   "source": [
    "queries_t"
   ]
  },
  {
   "cell_type": "markdown",
   "metadata": {},
   "source": [
    "Let's take a look at what we got back:"
   ]
  },
  {
   "cell_type": "code",
   "execution_count": 24,
   "metadata": {},
   "outputs": [
    {
     "data": {
      "text/html": [
       "<table border=\"1\" class=\"dataframe\">\n",
       "  <thead>\n",
       "    <tr style=\"text-align: right;\">\n",
       "      <th>Question</th>\n",
       "      <th>correct_answer</th>\n",
       "      <th>answer</th>\n",
       "    </tr>\n",
       "  </thead>\n",
       "  <tbody>\n",
       "    <tr>\n",
       "      <td>What is roughly the current mortage rate?</td>\n",
       "      <td>0.07</td>\n",
       "      <td>The current mortgage rate is near 7%.</td>\n",
       "    </tr>\n",
       "    <tr>\n",
       "      <td>What is the overall latest rating for Amazon.com from analysts?</td>\n",
       "      <td>SELL</td>\n",
       "      <td>The provided passages contain detailed information about Alphabet Inc. (GOOGL) and its ratings from various analysts, but there is no information about Amazon.com (AMZN) or its ratings. Therefore, I cannot provide the overall latest rating for Amazon.com from analysts based on the content provided.</td>\n",
       "    </tr>\n",
       "    <tr>\n",
       "      <td>What is the market capitalization of Alphabet?</td>\n",
       "      <td>\\$2182.8 Billion</td>\n",
       "      <td>The market capitalization of Alphabet Inc. is \\$2,182.8 billion.</td>\n",
       "    </tr>\n",
       "    <tr>\n",
       "      <td>What is the current dividend yield for Alphabet Inc. (\\$GOOGL)?</td>\n",
       "      <td>0.0046</td>\n",
       "      <td>The passages do not provide any information regarding the current dividend yield for Alphabet Inc. (\\$GOOGL). In fact, it appears that GOOGL does not distribute dividends, as the data presented emphasizes other financial metrics without mentioning dividends. Therefore, based on the information given, the current dividend yield for Alphabet Inc. is 0%.</td>\n",
       "    </tr>\n",
       "    <tr>\n",
       "      <td>What is the expected EPS for Nvidia in Q1 2026?</td>\n",
       "      <td>0.73 EPS</td>\n",
       "      <td>The provided passages do not contain any information about Nvidia&#x27;s expected EPS for Q1 2026. The data primarily focuses on Alphabet Class A (GOOGL) and various financial statistics related to it. To find the expected EPS for Nvidia in Q1 2026, you would need to consult specific reports or sources that provide detailed forecasts for that company.</td>\n",
       "    </tr>\n",
       "    <tr>\n",
       "      <td>What is the operating cash flow of Amazon in Q1 2024?</td>\n",
       "      <td>18,989 Million</td>\n",
       "      <td>The provided passages do not contain information about Amazon&#x27;s operating cash flow for Q1 2024. They primarily focus on Alphabet Class A (GOOGL) and Accenture&#x27;s financial metrics. Therefore, it is not possible to answer the question based on the given content.</td>\n",
       "    </tr>\n",
       "    <tr>\n",
       "      <td>What are the latest financial metrics for Accenture PLC?</td>\n",
       "      <td>missed consensus forecasts and strong total bookings rising by 22% annually</td>\n",
       "      <td>The latest financial metrics for Accenture PLC are as follows:\n",
       "\n",
       "1. **Revenue for FY23**: \\$64.1 billion, up 4% on a GAAP basis.\n",
       "2. **Non-GAAP earnings per diluted share for FY23**: \\$11.67, a 9% increase.\n",
       "3. **Guidance for fiscal 4Q24 revenue**: \\$16.05-\\$16.65 billion, which translates to an annual increase of 2% to 6% in local currency, with a negative 2% impact from currency translation expected.\n",
       "4. **FY24 revenue growth guidance**: 1.5%-2.5% in local currency, lowered from earlier guidance o ...... 0.\n",
       "7. **Operating margin for FY24**: Projected to expand by 10 basis points to 15.5% from 15.4% in FY23.\n",
       "8. **Free cash flow for FY23**: \\$9.0 billion.\n",
       "9. **Shareholder return forecast for FY24**: At least \\$7.7 billion.\n",
       "10. **Dividend per share**: A quarterly dividend of \\$1.29 per share, reflecting a 15% increase announced in September 2023.\n",
       "\n",
       "Additionally, as of the end of 3Q24, Accenture has \\$1.68 billion in debt and \\$5.54 billion in cash. Cash flow from operations was \\$9.52 billion in FY23.</td>\n",
       "    </tr>\n",
       "    <tr>\n",
       "      <td>What are the main reasons to buy Nvidia?</td>\n",
       "      <td>Datacenter, GPUs Demands, Self-driving, and cash-flow</td>\n",
       "      <td>The passages provided do not explicitly discuss the reasons to buy Nvidia. However, it does mention that shares of Nvidia lost ground recently, indicating some volatility in its performance, and it highlights a general positive sentiment towards AI technologies impacting the market, which Nvidia is a significant player in due to its involvement in AI-driven hardware and software solutions.\n",
       "\n",
       "To deduce potential reasons for buying Nvidia based on the information provided:\n",
       "\n",
       "1. **Strong Market P ...... omfortably ahead for the year, indicating investor confidence that could influence Nvidia positively in the long term.\n",
       "\n",
       "4. **Future Growth Potential**: Nvidia has a strong potential for growth as businesses increasingly integrate AI into their operations.\n",
       "\n",
       "In summary, while the passages do not provide specific reasons to buy Nvidia, the underlying themes of growth in AI technology, Nvidia’s market position, and the general market performance are favorable indicators for potential investment.</td>\n",
       "    </tr>\n",
       "  </tbody>\n",
       "</table>"
      ],
      "text/plain": [
       "                                            Question  \\\n",
       "0          What is roughly the current mortage rate?   \n",
       "1  What is the overall latest rating for Amazon.c...   \n",
       "2     What is the market capitalization of Alphabet?   \n",
       "3  What is the current dividend yield for Alphabe...   \n",
       "4    What is the expected EPS for Nvidia in Q1 2026?   \n",
       "5  What is the operating cash flow of Amazon in Q...   \n",
       "6  What are the latest financial metrics for Acce...   \n",
       "7           What are the main reasons to buy Nvidia?   \n",
       "\n",
       "                                      correct_answer  \\\n",
       "0                                               0.07   \n",
       "1                                               SELL   \n",
       "2                                    $2182.8 Billion   \n",
       "3                                             0.0046   \n",
       "4                                           0.73 EPS   \n",
       "5                                     18,989 Million   \n",
       "6  missed consensus forecasts and strong total bo...   \n",
       "7  Datacenter, GPUs Demands, Self-driving, and ca...   \n",
       "\n",
       "                                              answer  \n",
       "0              The current mortgage rate is near 7%.  \n",
       "1  The provided passages contain detailed informa...  \n",
       "2  The market capitalization of Alphabet Inc. is ...  \n",
       "3  The passages do not provide any information re...  \n",
       "4  The provided passages do not contain any infor...  \n",
       "5  The provided passages do not contain informati...  \n",
       "6  The latest financial metrics for Accenture PLC...  \n",
       "7  The passages provided do not explicitly discus...  "
      ]
     },
     "execution_count": 24,
     "metadata": {},
     "output_type": "execute_result"
    }
   ],
   "source": [
    "queries_t.select(queries_t.Question, queries_t.correct_answer, queries_t.answer).show()"
   ]
  },
  {
   "cell_type": "markdown",
   "metadata": {},
   "source": [
    "The application works, but, as expected, a few questions couldn't be answered due to the missing documents. As a final step, let's add the remaining documents to our document base, and run the queries again."
   ]
  },
  {
   "cell_type": "markdown",
   "metadata": {},
   "source": [
    "## Incremental Updates"
   ]
  },
  {
   "cell_type": "markdown",
   "metadata": {},
   "source": [
    "Pixeltable's views and computed columns update automatically in response to new data. We can see this when we add the remaining documents to our `documents` table. Watch how the `chunks` view is updated to stay in sync with `documents`:"
   ]
  },
  {
   "cell_type": "code",
   "execution_count": 25,
   "metadata": {},
   "outputs": [
    {
     "name": "stdout",
     "output_type": "stream",
     "text": [
      "Inserting rows into `documents`: 3 rows [00:00, 1949.63 rows/s]\n",
      "Inserting rows into `chunks`: 68 rows [00:00, 601.57 rows/s]\n",
      "Inserted 71 rows with 0 errors.\n"
     ]
    },
    {
     "data": {
      "text/plain": [
       "71 rows inserted, 6 values computed."
      ]
     },
     "execution_count": 25,
     "metadata": {},
     "output_type": "execute_result"
    }
   ],
   "source": [
    "documents_t.insert({'document': p} for p in document_urls[3:])"
   ]
  },
  {
   "cell_type": "code",
   "execution_count": 26,
   "metadata": {
    "scrolled": true
   },
   "outputs": [
    {
     "data": {
      "text/html": [
       "<table border=\"1\" class=\"dataframe\">\n",
       "  <thead>\n",
       "    <tr style=\"text-align: right;\">\n",
       "      <th>document</th>\n",
       "    </tr>\n",
       "  </thead>\n",
       "  <tbody>\n",
       "    <tr>\n",
       "      <td><div class=\"pxt_document\" style=\"width:320px;\">\n",
       "            <a href=\"http://127.0.0.1:35765/home/marcel/.pixeltable/file_cache/c7638b6b71414922887a5d06fefd2bb8_0_395ba1d1cf2de33dff39f53a67258b84809130fbad943463fdd86e9dfcb609eb.pdf\">\n",
       "                <img style=\"object-fit: contain; border: 1px solid black;\" src=\"data:image/webp;base64,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\" />\n",
       "            </a>\n",
       "        </div></td>\n",
       "    </tr>\n",
       "    <tr>\n",
       "      <td><div class=\"pxt_document\" style=\"width:320px;\">\n",
       "            <a href=\"http://127.0.0.1:35765/home/marcel/.pixeltable/file_cache/c7638b6b71414922887a5d06fefd2bb8_0_21aaff0a17e7cd7169986c6fbcca9a28e22b1fc43fc812b27ab13995891fddec.pdf\">\n",
       "                <img style=\"object-fit: contain; border: 1px solid black;\" src=\"data:image/webp;base64,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\" />\n",
       "            </a>\n",
       "        </div></td>\n",
       "    </tr>\n",
       "    <tr>\n",
       "      <td><div class=\"pxt_document\" style=\"width:320px;\">\n",
       "            <a href=\"http://127.0.0.1:35765/home/marcel/.pixeltable/file_cache/c7638b6b71414922887a5d06fefd2bb8_0_2433fd6c032c6eda1b2714afd7d250aa12926b779199653c078fb73165ad3444.pdf\">\n",
       "                <img style=\"object-fit: contain; border: 1px solid black;\" src=\"data:image/webp;base64,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\" />\n",
       "            </a>\n",
       "        </div></td>\n",
       "    </tr>\n",
       "    <tr>\n",
       "      <td><div class=\"pxt_document\" style=\"width:320px;\">\n",
       "            <a href=\"http://127.0.0.1:35765/home/marcel/.pixeltable/file_cache/c7638b6b71414922887a5d06fefd2bb8_0_7caeea8b0e6dcc11bd572d7e46cb045c03743b8084c8bc1103e7ebdcf4f3c1f2.pdf\">\n",
       "                <img style=\"object-fit: contain; border: 1px solid black;\" src=\"data:image/webp;base64,UklGRgQXAABXRUJQVlA4IPgWAAAQVACdASqZAMYAPm0uk0ckIiGhp/YNSIANiWUn4WCEAAaI9l49jjjeLue+pLb3eYD+N+kl6Gf9P6gH9k/0nWJ+gB5cnsmfut6WWqk+Tv652zf5Lwn8m3tz3E9frIP2H6kfcn/K/vPnz/0f8P4s/Ez+99QL2T/ofRc+S/4vbHaX/k/9J6gvsT9c/4foafN+Yn2V9gD9YfRX/ZeD79k/1nsAfy3+0f9D/G/lV8mH/V/rf9P+33t6+p//b/p/gK/YP02vYf+43/09079gDvasMlQNpFpvp4rmf29tXL1n+GgtfLAMoGXOq1Li/+BYA7fOtdaTpJtEX2Uryw2jq5TwqoyiwVCD+xAdT2Jwn1t8Pt9igLUnbjU2Z0+Ffj4wC7hS4tYYG2+KAUCgMtsJcDYsmOcG5VqOcd9S9EvF+R05CKWEx5ByI+E7zpUper/qNGay2FfFD8CEkVU4FvdmiBg9nY+G9VMAusG4EolFlcwXCZxXAMscMOV1jEwjndELNIyy/UNPrRVYW2nofBIOpP4ukZKuURQaftlvvG4/wTcHFd62hMVNkj+gb8v+a+JgCrlVtV0EfmWrfMWkt8Q7fKmwgt8eAxkcBl1EIONGldxN/nRx+eO1SHCM3EU2Kaktj8bwBsoS60KT63xUqyzZegHQpGmcsbg7i/H7CHomQhYpO4aZN0U0+6AtTB8INbL24ItNwmLp8tC6Upg9t6xtZVYBhEl5ProDvUwsAvgYnAPkJkHGdTwrJ7cIUsEU/3YgV/EesUVtVfyhAe8cT2hzMSScfry8dqnSdY6HE+XqRjFQGW4XYz7P6IQpY63I2wIqTiuSfQczYBH3yNGk5nS4/07uoiyIMTVi50f6jeermUCRp1iPiJCGeEvXLI9Qq0o8D0yhIXCeBYOkpUeIDyAA/vEhCtcd9j3O7oCsNHYDJ+P5+lJBJaLP3oFv9KgEbY1MDYUF+t0I6/dowKCZOo7yk5A7/HJEgMzY1EI73QM9LhzYFQ92f6MTM80qQGBhomFy6H5Y14vu44RPCDnaZIO9N5u9tMUxpCHn/DMIfjD/wW3Na1I9zUiq/U79uI+gqBIaq77ZWztcFi40w+tyY33v3d8y+ArY/PAMsAxMGBZrP1OfXK08x0geiCJulU2LkeWzfiBMo3vjg/78gct7V8Dq7aqCVljb/FuLNFEZ9YMm0BSWVGdFU5ucMkdqUc7ofuUe1lhl3KGjHrTLcUB9TYGYjz6xfxd9N7FtnbAHPKL2qH/f43x8NnWDVpv+/fyKuIYp62A4ter5o/U8FiujM6oEIaoZUkyBCJ1L34PibLuVDPdTRv7/DqNlu+PP3Sj/UHZZQXy+mdSZz7zwzH52/nhtIvvTyj2GOgpO58KDjW+/imBC2WDwdRaaRZJZWFOWP5+uZo7+fD2LnHXtR2lqqknOy7n92PSukg4sZjpzXNeRU1AnQuC6N8xC+8HTAUdKFs1vaCT8I0pD89849Av+ldlFFLreRu5CyU2wA8XGXnpAoY/wMOvbjZLR3CPwYTlytMAv9Og/aUHUScx3dOJ4R4NY68ipKUj6NZCshiaijjja49Dx3T99C1ZfurX5JkF+dN3KYxZ1bk3ltlZ2manTWIHgxGxukvfYXf0js2Aa+YA2s4g+TMtUtqNkjialGpTpucjdqgyJb/L2kumnpnWZ42t2S+rI9Gn66kUmpUsm76fC1mBNcwTAf+vB/FVsAIOomIjZhK4oovXe4Ymb7VNVeMmlJ7m4I/QG5jc7wUmLLQ5WzGoCxFvolPQ+V0LbzNSD3vem9dpC8Lj4SUtKVQobzo3vW8G0WVF5Z6uz+VS3P+eWVPINNztxDehgA0VrLM/kqkFGZeDZ+6Ap3bUSTfEMTdawRuSLay2Yhz82tjLMUJqAQR5qDjXQzi0WQi70gSUYRLY+B69xagWBy/asGbvtVr/hIkHQlee1/Is/6ybc4Js/dSdPe7DPnjEXag+HrGbSJLL6Sb00GBenR0dvxUKInVkwxe6yO3Avq6dFAnQz85PcbvizDNYyPC63X7zb5Cu46i1KzjoTLaCE35IFsWinZORMv/TLGGCFPEO2xuMZ5Vgjk4Dp25bCn4pAGYnbK9pDSptyBZo4ucIUTV5LaXIdFm9S3Cuydi19Eo6ef0hjOWNYVoxCRPHO1plKlVR7WbNB1m6+jQLxgMZKpx7JJaN2sODr+FYsf3mnz1fwFixGsl2/v/YHU+7jIg+p845G5ev3UeICWV3EZxocbD7ziEdaTdlxUO2gCFyVPKo5kd9BumMsTwP8PMFfxfl8poamLTmHEPAXeygI3F4g0mmr2ITgpHoZKfemjEjv1QwzJOpLI0G0s8i5A7L/9VLozcfTWAs9sVzbp9SQC86aSUikaxmnsJF3/gXvtQrEv5vN36mLTKQ4Wkb2RCrE/C0wQKMDy6U20J+62lnnT7C8qqknY9PFbFMViiSn+DdsJ05sTsPGPGP7KODNdK7kFKw0483NCUAdykpYcbSFOesUyAFCqP88SOBj4RGe8/Z0Qmt6e+WMdYArfKal7AVArqSdBD6m2C7zh57MrFYB2i0VhAx7obXD190jO9nv+NiWb1Y77fI+pDZQGi8dbVvEFCm1QdtVEolqTTVJW2Qs7a51lxqPdVb4aB6s58R0zP1oWl05M5iemSW6xeVOWNagNrO2ubEODuwMc8bYKS0FrH0DkNbpK+V50Hd1VhfnYx+LKKI5W2riYo7tMWVJCPwGGGJjW3CWufBIIppf184cQpISNbUZ9d9zW0zwPQ4z0zm0ZdJ6BDUrZNbrZYCpRVbP8ldoytKA3qIsr7Wn4bKXs1dJsi4UaETq+O1jgYV3M02+7fpZDvfYCB2CoQhciVgq8q7b7fzPnbc+vgH/9ejq2nOCx/Cs04LGbuf3QwkC6d21ckiSGlEc/vl9iF/bE8ID1YTKaFvBuXkuXhm6j9S8n8hx/EfzYAeQOX3KfH7EHuzVubjHn6ykO8y0uQLNr6EXauXzx7U5uCLPDWdNvZu8mH4Rnod3Nl8oovscodW1zlNi3etnZG3huHvS/ujCGWtH/SaJfDnEbYJNUPpkbDshR0nDOR6fL6O9EDUUuYuysOlToUGhWBiXvJtSl30auGUiaCQf1GA28oko8k8z5loLYzj2JXOhgd46FOWYRKLp8u5MhWOv4TFRcT8YHh9xM0WKIhGidOyRFgobe7W0T0UTwXWrARtFN93qzY/YplaHRkSV8IfXHivVusWSKg3F0hEEWbRoMky4QVef3jo2fR/T9ffiH8NuaJ4/We6z0PcF8lZjfUBiS1VxJdQxfTw/j4sPdpWzBqNsVZeSQwme7KhzIHrZLs/PJRXJtLRDmBshDsY52NDCMUom7PFvKo37j0hgSn1KZzGd1pL4aBkCFloVbTZ9ZLoVBIDaHFFahVztVn2+UkJnyELvjBK1M0GSgRnzz2GcziUnpF6EEtHO8FHkwlu6znvw6Jw5WkEQiIfoO/krPKojUhnt7gzrPUitfdqWa/N/BHz4N+HAMJvTUX7s7pIHEQOSUlxSj6d1s7WsF7595isxU1PS0RKEtoPlFOLyEZp9JyOFcdyiPPTwDHvnm6stepdgzEd9AET3wJTeGHFVlh5cKVDDQX3IeASPHo6qauF/B/mEvJJg34Y9qxe0NDym5Ax57wdIwptT2DbpE9IPPQJ1K2Mn34bg6qqg0WytTIlJR9dNH+zb/IjG4idfWf93ULgGblKewtwou7mxVnwY6npwASNyOvi5T/SdKaPSPTfb3qyHu3+0vN7rm82zGPmIkHRBHyhC7883EQtd8xARa5tDc+MnFmGqg4TeZicr56ErlyP470H4Jyqaq7h6ekGYRNdptXT2atr37n7LU2c7ibBetoCTc/Zj/u4Rdo/6HMvU5rlAm/tefxJv+GQ7QBxnOE2tlKC94AUI+fyuoWvp8RVPuhtPFHcDp7JmiN+uodWyEp1Uj5F2RfgXT6s64T9y3+/KpC3HQof0mvUPvgSZ6CNmC91gnb8tsRJArgHHT7lbK+YRamos7v9veqnb97lDdhgzZ14eLzNhhNSao4LVV2pHSkOOWuFPMbRa8Q5hPnkPpDSeErGfktjOE+rMTXOdPFPUdbDC77NDhPv0qo2WPgYAZq5hbUEx5aa9DE2F4JEebN9wanDOJzQVyPnB1uYEdaZ+4+81szqD720GqPuLb2hx/Voam7CSUKYHSxNDJ8UY5JTDl/IWKF2vqaq2bVFmGoNlVg/56g1WdY1SKHksRNYsgq8Pl8ufRc5+qXuAjLfCmbnFxUZbFhWMjywxhxnWX2gEKP4RrVoJiW0jGLYuY7ISQG/b2oFksfbtwt++57UIcEEn4A+vXobo1SqQNcHEJglUs+bOfDEYGVm0b/GeohXsL+J2MQaSU7+kItpEvAxyUU5O3/B25QMHwMwTB916H6og0USh8k/alFcGZ+D4f5DNMBaB7r8XPj/vHMBz0MIhPRBYsu0lh82aAm5Rwry8pvcCpQ6e9u98+WLBA1LNFHZxbj8T/e/p95nsALGM5PvtmqARwDUeyAjApHYDvurTfg/rqGKSij1S4TuFsgFo+RhGg8n5VMxss11fcomGTQ2an/cLDwPmLk5VZrsM53jK7f4ftrgCGF/+t9efAFR5IkWKgwfLnImfFgimxrRX7Wbm46ri74dTne+ccptnYYQn4MvOVuP1b/NZfAOCAfXFOjMg57GwIKeBuJpvIe+nQIPihKC6yUKB9pUctk964C9YY8X1FHor289is3PY7LyB2DiiTy+hquXDT99nUMpAtGWfabNyP3gTLth18HUlb/1XNmBZtwMYnl4J4P0PNsbwKraU9ZXknL1dt3AUH75Wz7MH/28QLvUveqDlwx7G+Ekthdy8SDwevUisdoytmnHg0DRgWrf+mcRBu5cB63B3Q1UE9z4VcBX/fGecDlLjYxvW6SekVfvJn40+OSSxy+bkH00fsYy+39YQ87Mu5R/r5K0jPNufrCVNRDr2LSLJgWMM4/rajR1WGVacwfqGdgNWXH5sS9zwEmpftFQDP+V+BZ2PUKAIipmxHEZz5CU4s9IL9cR24BzXA4/1NQKxne6Kb75pij0mxRLwR7IZsZcqOvQiFa0ii6FZHzv+3drmFO3DfB6Vr4ubguWcJ8qmDIUOCVzOsyTjgz4fgOiobYbiq8oehelUgaXwXGBz2Li0olb/4b/A2fAKqU4+dVA5Tswu87Zfqay6cKZsPwiw7asv65pPvtFi1u1bz9PMUzatS/vzEb3t6vbD7S+Vt7DpgCcAqDRTFKDkRFS10nZABX3gfJinIAX0FZ39VVELhRHc/yLubSVPQPajK2ZAEYz4COhac9ErsEiAJ/HCVsSBlhVpH0CQe85VJzPmpCh+Ym2auLNQjyBGxItcSqGwZz1lgVsgL6KapTbNx7mQ+RUES2I1E3gVeRBtuIqFq8H1m4ea3MnjQwxEjDLUXYrI6FaG6qiYqli7dl+Bo2OdkthsnybGMh4edeSQc+pOOL7Ly4SPJm4AWFc+eaHXcleegfDtKlBubhpWr3Toj+Im6d/C0mtyPL8eyzbCH03h9jFJcDyH/MF2XZ+rQrqWNDzAaMUxvpfxpjJhvAPFkaWJ+R3aT4q49P5G9fLCIUJEq2X49zoGm4t9D7PjQ32w3wbR1k/DC2M3GQfmw2CD2SOeTFqadICGrS/ykm8MH+p3wdtOIBA5bUY1tFzvUN09xqKN4DItJIV2VoTbXgvd/vBfaesO+Kskz0v75GlpGuTH1j2gfKfIC35fOrLxFfmmuh5v4Y5QP1dvht+gMNlIdESkBre4on8XrNG2ussVbFwLKgDIoVJYdX/6ZBWqQdsNmLCFulMN2UCwdZjkDGspio7MwvgxmXZNb8XWYZJo+ZilR/42C3ogNIPEdLvNO7dJugpCF+aoCxjvhb1HF7qBcjdsC89ZOCaR8UtnP40W2xep5NyTEghIP5Wuip1GW2V3359PbpksaPEeyk+LUXIsspdZiLHcrxvMMnruS5cOXbmhNc6VPSOdo6JSEBBf6VumZgO5gNpauOwFXB3xtgME7blDHUn2vt21udkus3mNTd9uKnOnrBp9RlgfcbN+kKHH0yq288vNDTNGT3FoJF45ilJv1ducenr3x0XEOLkRJ759m3M7SurBxQOKI8hOzb4OJ0i6buHyty79JD+t8XQrHlLoPnKiFCcG99XdpwYk8yS6xYnidzV/wS3biEyko6bBQGPOwv4SdLVx0fR0Fmjx5ytXZaD8H0cTzMMwyAI30M9tFjotk0Cy90CvlnUzMif5pWp57PJlzE6X8CMoFmdJKUmQGgGkSWogicvKecT34Czs8kYob/0DUYGmZvhCiGlYupe6YzuPjtm4ZjgaDUM4e6fmyh6Dsvxt9tWIkrTaVdo4e7Iz3AjyiuWTC3oHW1ZEyd+NC25Ei87Q1qxDSdC/e1PIhH2KczFXU7fT2fSRrBwW1BJTR4fSafDK23jtNeTYww7rKf9f+eF7QN0TCHgKjbNzudTz75oPnY87haHOTKIRj9rrVpEN5dN+ZvWlEKdpiKyDpgyDyWNe7oYSmOlDSQiIPdMSGwsQcmoz3CnXhzy0bjIaqsu8qKk4ucITbvXCle82HKT4Tf1iIOyIVF0R4L8UFHurFc4sGHA4i1RW+9pOggJmIPpg73OFBZX8joK1Vujxc2WXjAR9ZV2X+OQuyC2RPMpr6wFndDW7usC7+/yamH1Noo+naXL837gV/5Q5GdbQU7TLeNsBpgYqjkDDviK+39xme91RDEXtDLhLQSZB0yIOcg1QScyjLS7Fqp/m549sPVf8xWOPa0BUawEWVgcYfo+XcbQwyOig8+hbvrokJaIIfhcbfA0jRbF20MK1R/+XB8eRvcXkP7XDCd2dDficksLgEyj3v5QMt/jCKaOZKNdMSey7Sq8vcxPje0KOjvJ17NiLGZRRf3NJ6dtatOdZav9WF9oMFZ7qQp2FOr8WSSmiOuVPSXkOf1LZBV605nrgZ2ch8kmYSHSf9qQOTZaxQQDAkHrluXqd+Yz1TZ3xyJry6ztaLZrYGz2iRQBZjRmtCRewcYbZmZT1FDjQHMuxtVccsZmp2CmfZALRtfN9TvIwd4I2OnM0vZrAycQx46NAXFlUeBMVKPm19Jp4Hj/bMFCPxFJvpTj6F/PQDgqjy/wfPR0ffDPPfKcSQJNRonHtfv20NEvn66wEl71K+H7K4fnOhA3m+QZAUskfiXgCRqfTu7Z4m/UDsR7P/UNzh6HxFSaA1tjWXg14qPS1AMfcdAW20ctqTvErFyDvf339AzBlfQ30GvP9UNKyNFnWAWSyNwzCWsAyH40O2HAnqjtnY/BLn0VcB4f4AWjhV0JHAgwk6gLxcBEVFidUMIedzstdiNtH1eP2yhaHprl3euFZqK9Jb+g1zyBqSlyOMKCFlWLsZOrYQuJM4P+cI8cshMduY8u4W7UxdbAVdwW/jrrvlmzuU/NI+4LAD2iIFBK4Pc1Z5Ta8UjP76izgOALCxJ94DjWZZSZXH8IU5zOMwBqoCupkElbbOBadP8d+wJOIPUrZ9EH5/i7mtRLD77I+83BZvPzliXTN4VoI7xDwRVUKGVSzJhYM1zXvkOjPP+69v4dzhGV0hy7/liieRlWcCnVVemvE4u2GVqgKOfXuD204osCs8b/IxXCeC+onp4Q0Colp4TrStYhpQqTW0z+i1bCUuBXTGHLTf954cN5vwtPtNxGoLN2IdaOMO/W3OgV6z5L7bhcVNn88Q3EFcrqK2oik2oUecdd68ACaoSXyJUXe/IsieV5DNywT5cSNiGBKdvxXUHjWcgkKtR/hdv1a5xMOAx7rrECdFyk8gAAAAAA=\" />\n",
       "            </a>\n",
       "        </div></td>\n",
       "    </tr>\n",
       "    <tr>\n",
       "      <td><div class=\"pxt_document\" style=\"width:320px;\">\n",
       "            <a href=\"http://127.0.0.1:35765/home/marcel/.pixeltable/file_cache/c7638b6b71414922887a5d06fefd2bb8_0_a17b0d41e0fc860970854ebcf261f285a8efe7f8e60417faad843ce95684834c.pdf\">\n",
       "                <img style=\"object-fit: contain; border: 1px solid black;\" src=\"data:image/webp;base64,UklGRoAZAABXRUJQVlA4IHQZAADQXQCdASqVANMAPm0wk0ckIqGhJrLNqIANiWMXgD9AP4BdAAcIcnpLfqPNXw6Lvea7swip9gOf7/Q+rT/I+oX/iuhp5hfNK/tH7Ae530D/2Q9YL/d+yv/Wv9H7Cf8Y/rP/Y9qn/1e0V/c/+X7Pv7q6qv5e/xfbR/kPyg88fI17E9v/Xiyr9cWpZ2Z/uP717Wf4P/beC/w6/zvUI9f/5Hevc9/yX/d9QL1r+of8f/G/kx6XH+3/jv2q9xP0P+7f8/3AP1f/2vp3/tvDY+t/53/j+4F/Kf67/s/7p7sf9P/6/9Z+5Hru+ov/T/qPgI/oX9//6/ruew390PZW/aY639atVTyTPOPJ35F0sbxR5OP48QeOQId2io/w9jY7Gch/dKZbaX778R0Axu6cgU7C3KAa6MBDyr87MuIyME+MKV3C4JFKq7ZYHvC/8k+JS//kQT15M74TfqnbzPuyJ93TbdlQ5psUS31WXuNC68XBA3/zbCYdkLeQLSPSMAMwwsLyHpoZgWjMIIJwS3IzcQnJY+ozrk/eNHIW6l3fNa/S5KpMRTXOcfCiFF/gy6tAV1x5Tsu5JcG5+Y9liLx58JLRVOlUFkwkRXBZf2uZ5o5JOczz4dTnS/UA4coT5+Gf5f38DSCr4n6pUeOEM/hO/KOz0n4sUBrglT4CdT7UjwN15erXcgRrcNh399k1/+KnVi0ZS1E4zVEurfr5UeSdf//rc7f/4ZQj/3XZl/9Dk0wVFwUil+UW7KRBWVxpzMHXMTUWy/Gg3BpwKwouESW5P/plKOgriELJV1zfTAww4WK09Omaq4Y8J83DqUcn4ASwLfN9hqYZwaTp+grpDesyzgJoUSF+wc7QCihgaL8gFQ9HG3oimGrtB2TVY1Uga8Zj52sWbMvo8+d+l9ju+XZ/2+SNdOyigv855nvzFuIWEaTTTIDTqoux8wbEhwVafky4zBfplLC/p2PGMBg7cyCt7+/NsriC2Rm72O4hBRr0O02Q7XFaOHmjMAnDuAAA/vdx3NmZFZ/OyCuwrF9H0+PWirP3Q1UHKb/7DRPNkQx1qU/JikOLRXFPbWgWXkC7BuTqb/FNr/25GCMj7+DjtCtwbqritLXD7VlX96wd7z6zaxsIsDrjcNif6FfiAR4I2mjSVDsZyYRx/whN7hIOOxgYhT6+0t0vR8hWT/WwUJsGPsDmqLh1D8ojIzIAiTr5m38ErmmsXuhzm2vIQRDI4B24hIqloiae88+D9WA2Qh+FgoNcN1gTa++BhfRlp6zkD9jx83GZj6A7lF60Dpcnmu66V2BLyYf2jfQvLYuK7aTUdmx6t8u0WC394I8MpPOF8ZRbi3ChVTNQMGKE+ro1LwpXZNrtdhmuWTta3AaKzPWyPw180GDMQYk3ojtLWmbgA1MDY6vveQHhsEsqFcdgqNKzz6L/ynrDD3ZMWIrDEC3+W0RkMjMmcUjYmdUtzNU8ITy5YlgocwaRU91s2QoTnZAGmeLEyXGkvXC5P0rFP8ZnZqQlFKCWusBGtjyj6G4whls7Cf/Khv22jD8cq26zirNFBTdJ0f5XY1M4q7n3lb3Xjb9jeZDpElwR5bMx6Za9Er5E8LKMf6An0fVmUImmLikoYz4qA6WZSWKgngLeOCqkzTra4uDFuU+bfPd0ISP2uDVH2LmU/9KEGD25Q+E8WGhs95h0INogvbPSG4uquNkNI4GdJEnavIcN6Dqh4AGiB6zlWpT1e5y2rVjFP3Derm5hxHXbKwIiIu0HtEtbyJ7U9tR/TDOvB25ocb76wKfzQq2K3SAZLsBBv28QcGbccK00dphmWSur6/wrGfRvlbR8L8aBhEV/t+VKAtOknWoFv32SJhLimsLNjmr9vHvzSQHXwNkAL9vguYhH1zkrtiuU2u3Ai7LZtH/oFyDlqn2l+NHX2GrvRQOsygcB6qG4ZkWlpu70cv33VhR90ajPbSB/ypJ4gxdt4u2TDkMA5rbPJgr/vpsda7w3o5QRvK/dzGV5h9zjTDzPYV8h31kkFC6tGwd4HpJJuSefaFgyNL/38YU8ccfeNNcO1LWou5NHrzKquWoCgk8Dn/oWM/UuEG9gjDaoXowoVaTNsrLMlhNUVDxifhui09gqYrDRbpzuMarCp1oFa4QxLHGwk3OGQ4jyKWGnAIVdcU8ot6v4w3e+NsrMQpAUE8+ckfw4bV+0l0adm9t9jDIRM7jrv0SEC6iKjlhe7XHLGgDzynBbMjN+zJSbAgXgtoC+pLTBEDhqgg6UeOQjoS1b9Nug7KjPibbbWr5zIKO/OY8U2w5hXCN1mvIFnhVF04OueSrSzFs4GpZbtVVj07RaBW9g3QugxtoMFSwcTKJ5x8u6gC1W1hjpH8XD2etZr7mDT4w3DXBKDgMAmwSIKL8FXkWMrPMPro6sc/cbuUZ3Yozlc4bSY9XZI/YTzwdqolvcALiLt3Hyql8nRKfQ/nAKgt0ZJhF8FtTG8qY4BgYTBR4FFUX6EUs/aOaQ18pVcbSfEVgKjtiRoAR64AmdUNWgtcJRqbHfDXLKbTXxNXufwxX0IYxDPi3xWht+UNWYyk524kYEFl3FawpSa4iZP5rWaDJWNhWG641b/w/7FdFMrPSPhhoGsqhjNF3MQCONTaB2gcHPkNDExZ5difjgBds5Das8++0q59uMrAdq37xi2WnKtXIuUqWHOr3z3ufFMWcTrBjfw0kKYomKESkvqURNrfUoi2T9e2/QtVm/14Z8QljIyzC2yTnwnN4c2VC/4vZrRbGElfel8TRxGBiVrFSLjWfCHku8mV/5P9/UKgkw9/EYPtXE0aENckkGSO3QtVRP+ccEoCvT78HVP6+mWpF+N9TV9FCWuLDMfdcif6Z/Cjtz2MhInGWHcNx5FtATq5awLHuo5cgH9pHsgmNRrn//Zv38P3u9rwLQBMnhMOhP5uK/4tLRCiEtJuBqXk85bdNA685OMBbr5vPfO3Zs21ppbvtdUjo7Hp2D9MOQ759j8qOe5DahsTsCovD0N4UnC2R5LxZ0NgfBDv3tV0+0F4y5427wrAt8W2m2YUe92CFqWOQ8KVL6z4E0aVBF78QekjfT2zJX6Q9LUeHZyweq7o/1M+ZsTDcYo03GdoQsVmVqyXk/2KFJy0yVZKmISUvYYOENDXBj9MNySAr0mcAcXbHX+d8lcxfYvbZmHW2F8RmvPtPOOfgLImXqaqCJk2Ql1ru/ng1neI7Z45nbDDJngYy6YQsr7WMjVZdg1e6am3m7vAUoPkHCYqbLYqjCvpdh3kRUJf58IQPKtv2IbZDXqsAugVoM/a20aATfy1FWWMCXosFaL5fuEddFeQyNWdGoBk9CjHKifk2oGdSs+3fc/MvJ2HUWywTcgydPi03oOQx8xeLPKhPzE+IA2qjsGBJLezEMyGXMpKQL8jNEtpJnGtNojAyHY9f1TDVTxTxqqNApNsyDLNPvinMErUYdrAGkkrR7BGfw3g8Yxa/3rMlh1/5W7E0qCXmIkfGKRGBazOpAZ9AK8VScR5xcjNtacyrk/KZNYt8LUJLFvQ9wwx3/BisfVfgX+BYntHZQZhlJPMqylYxHm+X62bLFrG2VRsnq/DhowmdoTzsoSugRD1TA7SI55ua3L7XAXrQL+40aFBZw1vLZ4dyFcBn3Y9pktmWaTu2yf6M8KL3CM/c2s/C1EKMn7XwhAz8CUjHZiaps9DDl2zmNOrgdQmTa1XoWfdgmaeLH7ztY5/LCopzvEgJlMNyDnaASkFR1ew+WNzl48WQkuhiQWu/5eUy91fu4oc54Uw1gg2wPi098PP1vjgOwc1q7usnOjg5NHEqb51nqLH06IA9ecm8Lk6h7LoFM0AeO7shTVO7iyKpZCw1QaqRYMBSiKx5xYisaQ7KYlcnuIg5I/JpDFTNEW+EzdhCKL8xsmJGaAu+ivFC3emz++Q/L9vxoJq3S3np8q8WLJH0aiEWTocsNxP0+E6eqas6W0g/RI/iN2LqOtn4rIZrDL8P74Sey469lLK4JN/8on1u17G+d700o6WqdXfkOd7D+u/ydVGuwexTMm1tBZ0kluiIgh/QHx/ZVUIW6dj7GCIa0Q09/t18fCOQ4QciCzZnnYZqH7Z+9qdXb7PegdzdsZlLxB/AHdoKXu6tYatwElQ3FSKCl+UU0cQiHdXb9How0fddLXMgRLrXzAzUiPIPRLaoSioX9kQO6ttTeuypkcIBaYeXffRvh9v6NDSiZ1xRkVf3Utl5RszlG1mcZLQXdawb31uq14q18FCtbFDqir/X4tLCYjn7EFaCoO7PyggJwjp0n8ITF5DyG51Cv5IUNv7AkoyS6KuN1nKNLjDtgSI+clcJcWIw9vGJx3qbkFAa+3m7tlcyNy/PcvXnFY90wPf+eRNwLhGLOec1WbmDmsgvYImsao6btCbFkyJcrYmWLuAjiSyYp+0v24+D55ZRMUBBQdJFxpoiEvaLPSRtKZg0OKoyFCiryJglTf2yz9SwmXWZ9voeLaK6bbVjzRoWS6K/EfEqfFb2qQRhhDxRaoYFZsDpYnRSbNberU3duc7v96gDA/xeAlsObVz0Pdt9q2/Qa5Y7IJ/70PHqVhCplRmIzhh0hId2VKo7VsyDeeiYr8LTlAY48agGaDoyHiLKnW3rM+i7u4ehnma7hNagnC+BkitUM+Yz+dRYyxVHGrk5H+zzg57mbSPGVt07/Xr9EGEsdgW75/fC9V0sFF91goTGEBjd7VlzHiqSoJiOCVeQCPi8AoH/8etsn2+oHv3bPwPeNtYSltIAQWb+1rSqJT715prxD4oKU2CsljNbXICyKuix/fRLxEnEyHlVvkHeqyXSTlE6IdAYaPH70D/+BwUiYD/9oE+ppg2rurO4EiheLMkhAB3SUx6w9vlgf7JQaLMuG/L7vqYsmNN974v9WYZQ9nf+K0H/hl6kq/ihvE470A1o4N4+lNC+iq8ILmuUT6j/9zcyfNGUS0ygDsKjifLj+EmL4IHOZbc+Y7ChHpT0+gEsgvXifF7jD5uSShEaJohG3NbGnLlTEk/uW0xZtRgy49k9zBt3ep+k+A5lY+OaUnhOKTd7pV7cxWlH0hIjJ2Jt7MzbIwEyo8qG+EDuD6ysSmWnmFAQ4YfLNBhnAcz4ri5vdvRT2v8fvP3Gwr94PhqeqxoKbgz8WpzgK9I4YP41zF+QddyrNwjgFuxHIij+SFDiAtLO5AKKeOHaoGtn8Dbd/RCQMnmGGi/Db6S7wOzgaJ0H84rZmBVJ7rSUkNqKuACy8juuON5jGeDlZLgbfpa+PdG/hhdxFTm+tX64HIIqfAng1xp8W9kQCBV6yPL13M+lFir9/dU39buJiJmZvt4BRL6c1rJ65xnijvGf8j1YQ8gYAq2JqVeRbCT3pHThkzXI6cJw0cQRTGZij2z675N7lLENP/+rjYosXNDO6Hs4J+WB/S+9kyOBg0onnfMiFcbVvU5Z/941LjtFxEI5870UUSZeaI7YyWbhdajqaOUScr6pSgJ3oo9jf3I4dVGGm4vz6gX8wOvl3shgtaq2Ow8ke7KhBNji3WPqOSA6zRnGtRMwKEQqXMnGkj/uYRHzq2ArWd0XcxmS6c7HBd0iAehBboAeElKQFqGsAkAwTTOieYYUFuPtYXGROL+uZitx8dyKPxaF0/3kjMrEOl5MLPC73qgmFeL8hJoOgydq2Pise0fLcvPzUJm5/DyD+YbIK3sK7sm3pDqm4xMsLk/UJGAyIuGN1Fog3NTCJv2CuU/+qC63SS9ag00JzYTbSzzJesgbfbq91aI3eA2W2a/1Ar5Bs7jgiv/q4Vppj3TwxzcRF/oCPwPRGXVir1IPuxBQqLIFzk2I5HMbOiZBRMSpgnfZAVwn96WHUaPhh47ag0fnZ8UHH2rWBD+EZA0P4SsGJRgs4JgEJrF9TB1ePl7hcTfHlyCXba7RAIPSNH+SgfBXJVafZqQ4XWfjr+sQXOL4VzJuWB2PgOfvOPgXCrMiXLe4HOlxGmxycZ34m7gtu0Gz8CRw+GZCNOYosYscBvVrg4zp/asS5LGg9sQQKXTyk++u2hb2yuOFgr3bCV1j/YR04NZbXuJkpFpc06QyKxNMMi0VZVoEeMhxYwzZdAE0zsh1cBoUPrWQSxgdP7VtbjsQ6jA+0FBBoiUCk/sua44ffNTz7BL2w+Yi0IEItyLST0c7mWC6s6t3dwf3kJI9fiOgkOpzo0nnu7jAddvMJbmWS0k+iolQ+UoIhoT3AKtGNzhL1SkS0jZyJQvrkmVn8wregDYB+t1nmny+DjyW3NgElftn7lyKAkgvVe5dz+qCSQJ+PhL0jkXwgstHxVwPk1/BTBLpdbvQSSsyJUDNI8CAkvJGGpFHPPOgbhus0WI8cfC/VJ2rnXN4plwyUpIZpgD2wOKK6ntM+F+jbNAuCko1IETyqloS+NLWlwm5lRZygX2gN0egwXdsdOnVgFbjMDBBgZjE7nwXlM8KCdh1c4HwPg3pYdAPFs3n6rGMiWOL6/4JCR1nGfKVmZbmPZloCL7W1y+O933x6eZ427PzUykyWR8/Njz/z2GlpO5l1th9kqBpW50H8+ZZybriBV9rQ9ztm1MUZjy9E5uNNu2Ch06uNJzNGuP3SUl+S1fPOZq6niN6C+C+OWUiIKsG+Eb9tLTVTd2phniT5RixSESK9Z5scqwMHyJv/eoxk6U15RGcyQTWknw+b8AsgtcsMNABmhXd/hveuBcyFovT9JDduewHHP00WpQgZPIzB7QdpMXHbZGdrG375EFnhwWTST6zQh5nzOW3fMayKB6NmAYdMArcI942KDTY+dtTLxw6Ea4Te7iNuLti+LPFlFptmT+3xQe9aOz0ugJ88exGpA+rfkXBeuB/MrpOLCb+fT4y+aX9ZYT6ZVriZvIMIFcHwqZH6Dhi+T4CWLO1xivVFuwv9TcMNOL4Ca0z1navvGVtf3FgOLPdaVMCBZBI5MFUE0oPrmW24s3OcVQA5lVFnOnq6HIIO8pKB8yYrwUVqkhekgBK9JTphavmsEV6pu4wah6kEXKMxnLEuQdc441ukqWZbZgsjoE2tFWIF5ZUyd+RWTjhqEoDQ5kRILhtncft2+c0jUoh8gN4WnebM1vYnh616KOBQsmvdI4aAPmByjvc1l+N1X+fNNiqqSE5h14ewlt7aao28oWoM9iRTTDrMS/WB0rMk8dXvds1wxABu5DABvg1DGB4ynKg5kjLSI1JX8iLJVht7wT8z97pKlnHCAeMGwuXHQqihMkaWlYjxjP3iFHYsR/BU/1y0jqzNEP+wUV6I9RLd97mztnZBJG02qzL7DroDzuq6OOovLlZplY8GUHD1wWwhjapITlNDZ8LGc6PagCAy/I3jhQ8Lqh3Mj+n2Ho/balmFdB4xe8qXZFXbQPQYV5mPqU8yhN6MB37pystVzQqgrz0diR+gZMlzLrxD1ZlP/974mYUMj4lhjuGNh/eBBcDpKWDK3y9zF2TzSxRWHxY8oxcEVX1c1Uopw4ZO1FvA+0djJzy4SY/246XafsKZA9HRZ5eTFeHZenbGpZQc2oLP4axU3yhm2+ua6Ncx4Xkq6DZS4kXGwt/4GG0CSlRJcwFdd01saD0E4e5UrDi24FLxwPbu52onlBZItsOVH5KN5Mvb43MqspNinNlma8cNvvpWGNCXgrvl+N67XkbLqhs2VeShj2Qk45L2vzFm05Ky9Vx5MsdLd5qi/Hm423d/xedaXKUjPsd6+g3BnhGpYLw+9nx50WBHECglAFE337WdpIiybeSiyx7OeXmdD/m6eZRP0okiu/oQeAIbmwMhT//ofw16VQzSMTwWQeiCpTLEjzz+bFUt3S4uGt+h5MvBYKRfHRp0tYP/GxwEKXYTwTt2fcbVBYjC8NS7ZkBh8n90t+Uq0hhW2U7nfvHtj0A8vu3w1QvJv86sOurnBSPh+2613UblX+upNzGvIJOZGJ2U/IzWPw/rRJv7VdjZA1Vt5o1hOGxlUHp1/urCHD0PsXSEKOvn7BNQzb8bnAR6uWT4RUqLtjj+iP2nIRVlVXvdnXmyMbg8zddjUKVsCPbaN/Q1UZ8ew3UvbbDv6+xkXYFEBB1qiM8meLJW0WgPnlRY7DCCOQgY4P1rpqm6CXn6AsHN4WM4t5m9XnyvDpXy/UyfzFZEo06geGEsJ2r6Usx37t7Q6HXoF+KtAI3ObacnJWwXj6sejyp5ZgfRkhDA3dgsnQmD9HL6gAgkAxXepLtZi8VHqPIu8d8I15LsVTXRmgbS1ZHdIrA0/8iMvRvR/2ZLxWE/AeaDX5Rinm2ohblTIuCyjHJc+v4o/PneRvWBAPbwu0EXD8bvFYpBv6pFB8d72qqzl5Dz4vfxqcjzY7uI85ZZgMuOcjttrFZ0PROuebAmStcf8lA8ROh1BASg2WazCy6qsJUCVNaP88XUu9M4yIrxDVn25U8LJ8OTtzahaWVxFPMGitry96kd5GeLsswY0D9yT1x4yB9OE2dCr9aU7Sd2shkGjnx2qmizApUDhHsPVGJlmpdq1/aNsT1I3BXKGFlkk7T04m5+HShbnFh4chmfd+UxcTWKCW2rEJgSGmkW+k6B3TkZNlm/JYamfY+i6BGPTh1/Qf8rlvGzCZvkthbokOojdxifI6p8yE/jzLW2sXbj0pV2TDp9a795BQi8NPuIGFbB772ONj4gQR7xezi+DQ8P7g3A+tX5/4KcTEVqF6rxAAAAAAA=\" />\n",
       "            </a>\n",
       "        </div></td>\n",
       "    </tr>\n",
       "    <tr>\n",
       "      <td><div class=\"pxt_document\" style=\"width:320px;\">\n",
       "            <a href=\"http://127.0.0.1:35765/home/marcel/.pixeltable/file_cache/c7638b6b71414922887a5d06fefd2bb8_0_1021ce68ce1ea06582133e782594013ae82a5ef4686e0a34c8579b044c13e3fe.pdf\">\n",
       "                <img style=\"object-fit: contain; border: 1px solid black;\" src=\"data:image/webp;base64,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\" />\n",
       "            </a>\n",
       "        </div></td>\n",
       "    </tr>\n",
       "  </tbody>\n",
       "</table>"
      ],
      "text/plain": [
       "                                            document\n",
       "0  /home/marcel/.pixeltable/file_cache/c7638b6b71...\n",
       "1  /home/marcel/.pixeltable/file_cache/c7638b6b71...\n",
       "2  /home/marcel/.pixeltable/file_cache/c7638b6b71...\n",
       "3  /home/marcel/.pixeltable/file_cache/c7638b6b71...\n",
       "4  /home/marcel/.pixeltable/file_cache/c7638b6b71...\n",
       "5  /home/marcel/.pixeltable/file_cache/c7638b6b71..."
      ]
     },
     "execution_count": 26,
     "metadata": {},
     "output_type": "execute_result"
    }
   ],
   "source": [
    "documents_t.show()"
   ]
  },
  {
   "cell_type": "markdown",
   "metadata": {},
   "source": [
    "(Note: although Pixeltable updates `documents` and `chunks`, it **does not** automatically update the `queries` table. This is by design: we don't want all rows in `queries` to get automatically re-executed every time a single new document is added to the document base. However, newly-added rows will be run over the new, incrementally-updated index.)"
   ]
  },
  {
   "cell_type": "markdown",
   "metadata": {},
   "source": [
    "To confirm that the `chunks` index got updated, we'll re-run the chunks retrieval query for the question\n",
    "\n",
    "```What is the expected EPS for Nvidia in Q1 2026?```\n",
    "\n",
    "Previously, our most similar chunk had a similarity score of ~0.81. Let's see what we get now:"
   ]
  },
  {
   "cell_type": "code",
   "execution_count": 27,
   "metadata": {
    "scrolled": true
   },
   "outputs": [
    {
     "data": {
      "text/html": [
       "<table border=\"1\" class=\"dataframe\">\n",
       "  <thead>\n",
       "    <tr style=\"text-align: right;\">\n",
       "      <th>similarity</th>\n",
       "      <th>text</th>\n",
       "    </tr>\n",
       "  </thead>\n",
       "  <tbody>\n",
       "    <tr>\n",
       "      <td>0.863</td>\n",
       "      <td>4\n",
       "7,192 A\n",
       "13,507 A\n",
       "18,120 A\n",
       "22,103 A\n",
       "60,922 A\n",
       "EPS Estimates(2)\n",
       " \n",
       "Q1\n",
       "Q2\n",
       "Q3\n",
       "Q4\n",
       "Annual*\n",
       "2026\n",
       "0.73 E\n",
       "0.73 E\n",
       "0.77 E\n",
       "0.81 E\n",
       "3.04 E\n",
       "2025\n",
       "0.61 A\n",
       "0.62 E\n",
       "0.67 E\n",
       "0.71 E\n",
       "2.62 E\n",
       "2024\n",
       "0.11 A\n",
       "0.27 A\n",
       "0.40 A\n",
       "0.52 A\n",
       "1.30 A\n",
       "*Quarterly figures may not add up to annual.\n",
       "1) The data in the charts and tables, except the estimates, is as of 06/11/2024.\n",
       "2) The report&#x27;s text, the analyst-provided estimates, and the price target are as of 06/12/2024.\n",
       "Zacks Report Date: June 12, 2024\n",
       "© 2024 Zacks Investment Research, All Rights Reserved\n",
       "10 S. Riverside Plaza Suite 1600 · Chicago, IL 60606\n",
       "Overview\n",
       "NVIDIA\n",
       "Corporation\n",
       "is the worldwide leader in visual\n",
       "computing\n",
       "technologies and the inventor of the graphic processing unit, or GPU.\n",
       "Over the years, the company&#x27;s focus has evolved from PC graphics to\n",
       "artificial\n",
       "intelligence\n",
       "(AI)\n",
       "based\n",
       "solutions\n",
       "that</td>\n",
       "    </tr>\n",
       "    <tr>\n",
       "      <td>0.855</td>\n",
       "      <td>and Microsoft&#x27;s Xbox One will also be going with AMD. NVIDIA also has limited scope for growth in\n",
       "the apps processor market as it is dominated by Apple, Samsung and Qualcomm. We believe that competitive pressure from two CPU\n",
       "vendors, Intel and AMD, who are planning to integrate graphics cores into their chips can negatively impact NVIDIA&#x27;s revenues in the long\n",
       "haul.\n",
       " \n",
       "A substantial portion of the company&#x27;s sales is derived from outside the United States. Sales revenues to customers outside  ...... stimates, Revenues Rise Y/Y\n",
       "NVIDIA reported first-quarter fiscal 2025 earnings of \\$6.12 per share, which beat the Zacks\n",
       "Consensus Estimate by 11.48% and increased 19% sequentially. Notably, NVDA posted\n",
       "earnings of \\$1.09 per share in the year-ago quarter.\n",
       "Revenues jumped 262% year over year to \\$26.04 billion and beat the Zacks Consensus\n",
       "Estimate by 7.02%. On a sequential basis, revenues increased 18%.\n",
       "NVIDIA is riding on a strong and innovative portfolio, with the growing adoption of its GPUs</td>\n",
       "    </tr>\n",
       "    <tr>\n",
       "      <td>0.848</td>\n",
       "      <td>ations for Windows to deliver maximum performance on NVIDIA GeForce RTX AI PCs and workstations.\n",
       "For the Professional Visualization domain, it launched NVIDIA RTX 500 and 1000 professional Ada generation laptop GPUs for AI-enhanced\n",
       "workflows, NVIDIA RTX A400 and A1000 GPUs for desktop workstations and NVIDIA Omniverse Cloud APIs.\n",
       "Operating Details\n",
       "NVIDIA&#x27;s non-GAAP gross margin increased to 78.9% from 66.8% in the year-ago quarter and 76.7% from the previous quarter, mainly driven\n",
       "by higher  ...... ted benefits.\n",
       "However, as a percentage of total revenues, non-GAAP operating expenses declined to 9.6% from 24.3% in the year-ago quarter and 30.7% in\n",
       "the previous quarter.\n",
       "The non-GAAP operating income was \\$18.06 billion compared with \\$3.05 billion in the year-ago quarter. Sequentially, the figure jumped 22.4%.\n",
       "Balance Sheet and Cash Flow\n",
       "As of Apr 28, 2024, NVDA&#x27;s cash, cash equivalents and marketable securities were \\$31.44 billion, up from \\$25.98 billion as of Jan 28, 2024.\n",
       "As of Apr 28,</td>\n",
       "    </tr>\n",
       "    <tr>\n",
       "      <td>0.841</td>\n",
       "      <td>2024, the total long-term debt was \\$8.46 billion, unchanged sequentially.\n",
       "NVIDIA generated \\$15.4 billion in operating cash flow, up from the previous quarter&#x27;s \\$11.5 billion.\n",
       "The company ended the fiscal first quarter with a free cash flow of \\$14.94 billion.\n",
       "In the fiscal first quarter, it returned \\$7.8 billion to shareholders through dividend payouts and share repurchases.\n",
       "Guidance\n",
       "For the second quarter of fiscal 2025, NVIDIA anticipates revenues of \\$28 billion (+/-2%), higher than the Zac ......  IGX platform.\n",
       "On Jun 2, NVIDIA announced that the world&#x27;s leaders in robot development are adopting the NVIDIA Isaac robotics platform for the research,\n",
       "development and production of the next generation of AI-enabled autonomous machines and robots.\n",
       "On Jun 2, NVIDIA announced new NVIDIA RTX technology to power AI assistants and digital humans running on new GeForce RTX AI laptops.\n",
       "On Jun 2, NVIDIA announced the widespread adoption of the NVIDIA Spectrum-X Ethernet networking platform as well</td>\n",
       "    </tr>\n",
       "    <tr>\n",
       "      <td>0.84</td>\n",
       "      <td>9.78%.\n",
       "NVIDIA Drive Thor solution was adopted by BYD, XPENG, GAC&#x27;s AION Hyper, Nuro and others in the reported quarter. Lucid and IM Motors\n",
       "are using the NVIDIA DRIVE Orin platform for vehicle models targeting the European market.\n",
       "OEM and Other revenues moved up 1% year over year but declined 13% sequentially to \\$78 million. The figure missed the consensus mark by\n",
       "15.39%.\n",
       "Expanding Portfolio Aids Prospects\n",
       "In the fiscal first quarter, NVIDIA launched the Blackwell platform targeted for AI co ...... ucture.\n",
       "Moreover, the company launched NVIDIA AI Enterprise 5.0 with NVIDIA NIM inference microservices to speed enterprise app development.\n",
       "For the gaming domain, NVIDIA launched AI gaming technologies for NVIDIA ACE and Neural Graphics. Moreover, it unveiled AI performance\n",
       "FY Quarter Ending\n",
       "1/31/2024\n",
       "Earnings Reporting Date\n",
       "May 22, 2024\n",
       "Sales Surprise\n",
       "7.02%\n",
       "EPS Surprise\n",
       "11.48%\n",
       "Quarterly EPS\n",
       "0.61\n",
       "Annual EPS (TTM)\n",
       "1.80\n",
       "Zacks Equity Research\n",
       "www.zacks.com\n",
       "Page 5 of 10\n",
       "optimizations and integr</td>\n",
       "    </tr>\n",
       "  </tbody>\n",
       "</table>"
      ],
      "text/plain": [
       "   similarity                                               text\n",
       "0    0.862984  4\\n7,192 A\\n13,507 A\\n18,120 A\\n22,103 A\\n60,9...\n",
       "1    0.854627   and Microsoft's Xbox One will also be going w...\n",
       "2    0.847631  ations for Windows to deliver maximum performa...\n",
       "3    0.841044  2024, the total long-term debt was $8.46 billi...\n",
       "4    0.840021  9.78%.\\nNVIDIA Drive Thor solution was adopted..."
      ]
     },
     "execution_count": 27,
     "metadata": {},
     "output_type": "execute_result"
    }
   ],
   "source": [
    "nvidia_eps_query.collect()"
   ]
  },
  {
   "cell_type": "markdown",
   "metadata": {},
   "source": [
    "Our most similar chunk now has a score of ~0.86 and pulls in more relevant chunks from the newly-inserted documents.\n",
    "\n",
    "Let's recompute the `response` column of the `queries` table, which will automatically recompute the `answer` column as well."
   ]
  },
  {
   "cell_type": "code",
   "execution_count": 28,
   "metadata": {},
   "outputs": [
    {
     "name": "stdout",
     "output_type": "stream",
     "text": [
      "Inserting rows into `queries`: 8 rows [00:00, 2128.01 rows/s]\n"
     ]
    },
    {
     "data": {
      "text/plain": [
       "8 rows updated, 16 values computed."
      ]
     },
     "execution_count": 28,
     "metadata": {},
     "output_type": "execute_result"
    }
   ],
   "source": [
    "queries_t.recompute_columns('response')"
   ]
  },
  {
   "cell_type": "markdown",
   "metadata": {},
   "source": [
    "As a final step, let's confirm that all the queries now have answers:"
   ]
  },
  {
   "cell_type": "code",
   "execution_count": 29,
   "metadata": {
    "scrolled": true
   },
   "outputs": [
    {
     "data": {
      "text/html": [
       "<table border=\"1\" class=\"dataframe\">\n",
       "  <thead>\n",
       "    <tr style=\"text-align: right;\">\n",
       "      <th>Question</th>\n",
       "      <th>correct_answer</th>\n",
       "      <th>answer</th>\n",
       "    </tr>\n",
       "  </thead>\n",
       "  <tbody>\n",
       "    <tr>\n",
       "      <td>What is roughly the current mortage rate?</td>\n",
       "      <td>0.07</td>\n",
       "      <td>The current mortgage rate is near 7%.</td>\n",
       "    </tr>\n",
       "    <tr>\n",
       "      <td>What is the market capitalization of Alphabet?</td>\n",
       "      <td>\\$2182.8 Billion</td>\n",
       "      <td>The market capitalization of Alphabet Class A (GOOGL) is \\$2,182.8 billion.</td>\n",
       "    </tr>\n",
       "    <tr>\n",
       "      <td>What is the current dividend yield for Alphabet Inc. (\\$GOOGL)?</td>\n",
       "      <td>0.0046</td>\n",
       "      <td>The provided passages do not mention a current dividend yield for Alphabet Inc. (\\$GOOGL). In fact, it appears that the company does not have a dividend yield indicated, as it typically does not pay dividends. For the latest and most accurate information on dividend yields, it is recommended to check financial news sources or the company’s official investor relations page.</td>\n",
       "    </tr>\n",
       "    <tr>\n",
       "      <td>What is the overall latest rating for Amazon.com from analysts?</td>\n",
       "      <td>SELL</td>\n",
       "      <td>The provided passages contain detailed information regarding Alphabet Inc. (GOOGL) but do not include any data related to Amazon.com (AMZN). Therefore, there is no information available about the overall latest rating for Amazon.com from analysts in the content you&#x27;ve shared.</td>\n",
       "    </tr>\n",
       "    <tr>\n",
       "      <td>What is the operating cash flow of Amazon in Q1 2024?</td>\n",
       "      <td>18,989 Million</td>\n",
       "      <td>The provided passages do not contain any information regarding the operating cash flow of Amazon in Q1 2024. They focus on the financial details of Alphabet Class A (GOOGL) and Accenture, but do not mention Amazon or its operating cash flow. Therefore, I am unable to provide the requested information about Amazon&#x27;s operating cash flow.</td>\n",
       "    </tr>\n",
       "    <tr>\n",
       "      <td>What is the expected EPS for Nvidia in Q1 2026?</td>\n",
       "      <td>0.73 EPS</td>\n",
       "      <td>The passages provided do not contain any information about Nvidia or its expected EPS (earnings per share) for Q1 2026. The information mentioned mainly pertains to Alphabet Class A (GOOGL) and its financial data. Therefore, I cannot provide an expected EPS for Nvidia based on the given content.</td>\n",
       "    </tr>\n",
       "    <tr>\n",
       "      <td>What are the main reasons to buy Nvidia?</td>\n",
       "      <td>Datacenter, GPUs Demands, Self-driving, and cash-flow</td>\n",
       "      <td>The passages provided do not explicitly mention the reasons to buy Nvidia. However, they do highlight general trends in stock performance, particularly how some stocks, including Nvidia, have been affected by broader market factors such as interest rates and AI-related developments.\n",
       "\n",
       "### From the context around Nvidia:\n",
       "1. **Market Resilience**: Despite a notable drop in share price (3.5% loss), the major indices were described as comfortably ahead for the year, indicating a potential recover ......  AI technologies, positioning it well in a growing market.\n",
       "2. **Future Growth Prospects**: As businesses increasingly adopt AI solutions, Nvidia&#x27;s products will likely remain in high demand.\n",
       "3. **Resilience in Performance**: Despite temporary market setbacks, Nvidia’s overall performance in the tech sector is usually robust.\n",
       "\n",
       "In summary, the reasons to consider buying Nvidia may revolve around its strong market position in AI, potential for growth, and resilience against market fluctuations.</td>\n",
       "    </tr>\n",
       "    <tr>\n",
       "      <td>What are the latest financial metrics for Accenture PLC?</td>\n",
       "      <td>missed consensus forecasts and strong total bookings rising by 22% annually</td>\n",
       "      <td>The latest financial metrics for Accenture PLC are as follows:\n",
       "\n",
       "1. **Record revenue for FY23**: \\$64.1 billion, which is up 4% on a GAAP basis.\n",
       "2. **Non-GAAP earnings**: Rose 9% to \\$11.67 per diluted share in FY23.\n",
       "3. **Guidance for fiscal 4Q24 revenue**: Expected to be between \\$16.05 billion and \\$16.65 billion, which would represent an increase of 2% to 6% annually in local currency, but flat to up 4% on a GAAP basis due to a 2% negative currency translation impact.\n",
       "4. **FY24 revenue growth  ...... or FY24; FY23 free cash flow was \\$9.0 billion.\n",
       "9. **Shareholder returns expectation for FY24**: At least \\$7.7 billion to be returned to shareholders.\n",
       "10. **Cash at the end of 3Q24**: \\$5.54 billion, down from \\$9.05 billion at the end of FY23.\n",
       "11. **Debt as of the end of 3Q24**: \\$1.68 billion.\n",
       "12. **Cash flow from operations in FY23**: \\$9.52 billion.\n",
       "\n",
       "These metrics reflect Accenture&#x27;s overall financial health and performance, including revenues, earnings, cash flow, and return to shareholders.</td>\n",
       "    </tr>\n",
       "  </tbody>\n",
       "</table>"
      ],
      "text/plain": [
       "                                            Question  \\\n",
       "0          What is roughly the current mortage rate?   \n",
       "1     What is the market capitalization of Alphabet?   \n",
       "2  What is the current dividend yield for Alphabe...   \n",
       "3  What is the overall latest rating for Amazon.c...   \n",
       "4  What is the operating cash flow of Amazon in Q...   \n",
       "5    What is the expected EPS for Nvidia in Q1 2026?   \n",
       "6           What are the main reasons to buy Nvidia?   \n",
       "7  What are the latest financial metrics for Acce...   \n",
       "\n",
       "                                      correct_answer  \\\n",
       "0                                               0.07   \n",
       "1                                    $2182.8 Billion   \n",
       "2                                             0.0046   \n",
       "3                                               SELL   \n",
       "4                                     18,989 Million   \n",
       "5                                           0.73 EPS   \n",
       "6  Datacenter, GPUs Demands, Self-driving, and ca...   \n",
       "7  missed consensus forecasts and strong total bo...   \n",
       "\n",
       "                                              answer  \n",
       "0              The current mortgage rate is near 7%.  \n",
       "1  The market capitalization of Alphabet Class A ...  \n",
       "2  The provided passages do not mention a current...  \n",
       "3  The provided passages contain detailed informa...  \n",
       "4  The provided passages do not contain any infor...  \n",
       "5  The passages provided do not contain any infor...  \n",
       "6  The passages provided do not explicitly mentio...  \n",
       "7  The latest financial metrics for Accenture PLC...  "
      ]
     },
     "execution_count": 29,
     "metadata": {},
     "output_type": "execute_result"
    }
   ],
   "source": [
    "queries_t.select(\n",
    "    queries_t.Question,\n",
    "    queries_t.correct_answer,\n",
    "    queries_t.answer\n",
    ").show()"
   ]
  },
  {
   "cell_type": "code",
   "execution_count": null,
   "metadata": {},
   "outputs": [],
   "source": []
  }
 ],
 "metadata": {
  "kernelspec": {
   "display_name": "Python 3 (ipykernel)",
   "language": "python",
   "name": "python3"
  },
  "language_info": {
   "codemirror_mode": {
    "name": "ipython",
    "version": 3
   },
   "file_extension": ".py",
   "mimetype": "text/x-python",
   "name": "python",
   "nbconvert_exporter": "python",
   "pygments_lexer": "ipython3",
   "version": "3.10.16"
  }
 },
 "nbformat": 4,
 "nbformat_minor": 4
}
