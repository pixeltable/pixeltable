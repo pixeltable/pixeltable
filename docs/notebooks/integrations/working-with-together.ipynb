{
 "cells": [
  {
   "cell_type": "markdown",
   "metadata": {
    "id": "983yjns496tx"
   },
   "source": [
    "[![Kaggle](https://kaggle.com/static/images/open-in-kaggle.svg)](https://kaggle.com/kernels/welcome?src=https://github.com/pixeltable/pixeltable/blob/release/docs/notebooks/integrations/working-with-together.ipynb)&nbsp;&nbsp;\n",
    "[![Colab](https://colab.research.google.com/assets/colab-badge.svg)](https://colab.research.google.com/github/pixeltable/pixeltable/blob/release/docs/notebooks/integrations/working-with-together.ipynb)\n",
    "\n",
    "# Working with Together AI in Pixeltable\n",
    "\n",
    "### Prerequisites\n",
    "- A Together AI account with an API key (https://api.together.ai/settings/api-keys)\n",
    "\n",
    "### Important Notes\n",
    "\n",
    "- Together.ai usage may incur costs based on your Together.ai plan.\n",
    "- Be mindful of sensitive data and consider security measures when integrating with external services.\n",
    "\n",
    "First you'll need to install required libraries and enter your Together API key."
   ]
  },
  {
   "cell_type": "code",
   "execution_count": null,
   "metadata": {
    "id": "9pckrD01ik-e"
   },
   "outputs": [],
   "source": [
    "%pip install -qU pixeltable together"
   ]
  },
  {
   "cell_type": "code",
   "execution_count": null,
   "metadata": {
    "colab": {
     "base_uri": "https://localhost:8080/"
    },
    "id": "AQ6_Py7_7d0r",
    "outputId": "f8b55e8d-82dd-404c-aca4-14613702573e"
   },
   "outputs": [],
   "source": [
    "import os\n",
    "import getpass\n",
    "\n",
    "if 'TOGETHER_API_KEY' not in os.environ:\n",
    "    os.environ['TOGETHER_API_KEY'] = getpass.getpass('Together API Key: ')"
   ]
  },
  {
   "cell_type": "markdown",
   "metadata": {},
   "source": [
    "Now let's create a Pixeltable directory to hold the tables for our demo."
   ]
  },
  {
   "cell_type": "code",
   "execution_count": 1,
   "metadata": {
    "colab": {
     "base_uri": "https://localhost:8080/"
    },
    "id": "brtjK-88tTSS",
    "outputId": "b7c720d8-7fa3-40fd-8246-98025c4116c2"
   },
   "outputs": [
    {
     "name": "stdout",
     "output_type": "stream",
     "text": [
      "Connected to Pixeltable database at: postgresql+psycopg://postgres:@/pixeltable?host=/Users/asiegel/.pixeltable/pgdata\n",
      "Created directory 'together_demo'.\n"
     ]
    },
    {
     "data": {
      "text/plain": [
       "<pixeltable.catalog.dir.Dir at 0x339728790>"
      ]
     },
     "execution_count": 1,
     "metadata": {},
     "output_type": "execute_result"
    }
   ],
   "source": [
    "import pixeltable as pxt\n",
    "\n",
    "pxt.drop_dir('together_demo', force=True)  # Ensure a clean slate for the demo\n",
    "pxt.create_dir('together_demo')"
   ]
  },
  {
   "cell_type": "markdown",
   "metadata": {
    "id": "bGN-wW6nvcz0"
   },
   "source": [
    "## Completions"
   ]
  },
  {
   "cell_type": "markdown",
   "metadata": {
    "id": "97A0XhuR-YMB"
   },
   "source": [
    "Now we create a table in Pixeltable, with three columns:\n",
    "\n",
    "- a column to hold the inputs (prompts);\n",
    "- a computed column that calls the Together AI completions API and stores the JSON response;\n",
    "- another computed column that extracts the completion from the response JSON."
   ]
  },
  {
   "cell_type": "code",
   "execution_count": 2,
   "metadata": {
    "colab": {
     "base_uri": "https://localhost:8080/"
    },
    "id": "hgy_gXmIu7jM",
    "outputId": "7264b19f-cd96-44cf-9e49-f27741298a66"
   },
   "outputs": [
    {
     "name": "stdout",
     "output_type": "stream",
     "text": [
      "Created table `completions`.\n",
      "Added 0 column values with 0 errors.\n",
      "Added 0 column values with 0 errors.\n"
     ]
    },
    {
     "data": {
      "text/plain": [
       "UpdateStatus(num_rows=0, num_computed_values=0, num_excs=0, updated_cols=[], cols_with_excs=[])"
      ]
     },
     "execution_count": 2,
     "metadata": {},
     "output_type": "execute_result"
    }
   ],
   "source": [
    "from pixeltable.functions.together import completions\n",
    "\n",
    "t = pxt.create_table('together_demo.completions', {'input': pxt.String})\n",
    "\n",
    "# We'll use the lightweight Mistral-7B-Instruct model for this demo, but you can use\n",
    "# any model supported by Together AI.\n",
    "\n",
    "t.add_computed_column(output=completions(\n",
    "    prompt=t.input,\n",
    "    model='mistralai/Mistral-7B-Instruct-v0.3',\n",
    "    max_tokens=300\n",
    "))\n",
    "t.add_computed_column(response=t.output.choices[0].text)"
   ]
  },
  {
   "cell_type": "markdown",
   "metadata": {},
   "source": [
    "Here's the schema of the new table:"
   ]
  },
  {
   "cell_type": "code",
   "execution_count": 3,
   "metadata": {
    "colab": {
     "base_uri": "https://localhost:8080/",
     "height": 129
    },
    "id": "QzeImqeKpkmh",
    "outputId": "0420a93b-c1e2-4ade-e798-2cc3238deb4d"
   },
   "outputs": [
    {
     "data": {
      "text/html": [
       "<style type=\"text/css\">\n",
       "#T_ca6ec_row0_col0 {\n",
       "  white-space: pre-wrap;\n",
       "  text-align: left;\n",
       "  font-weight: bold;\n",
       "}\n",
       "</style>\n",
       "<table id=\"T_ca6ec\">\n",
       "  <thead>\n",
       "  </thead>\n",
       "  <tbody>\n",
       "    <tr>\n",
       "      <td id=\"T_ca6ec_row0_col0\" class=\"data row0 col0\" >Table\n",
       "'together_demo.completions'</td>\n",
       "    </tr>\n",
       "  </tbody>\n",
       "</table>\n",
       "\n",
       "<style type=\"text/css\">\n",
       "#T_9547f th {\n",
       "  text-align: left;\n",
       "}\n",
       "#T_9547f_row0_col0, #T_9547f_row0_col1, #T_9547f_row0_col2, #T_9547f_row1_col0, #T_9547f_row1_col1, #T_9547f_row1_col2, #T_9547f_row2_col0, #T_9547f_row2_col1, #T_9547f_row2_col2 {\n",
       "  white-space: pre-wrap;\n",
       "  text-align: left;\n",
       "}\n",
       "</style>\n",
       "<table id=\"T_9547f\">\n",
       "  <thead>\n",
       "    <tr>\n",
       "      <th id=\"T_9547f_level0_col0\" class=\"col_heading level0 col0\" >Column Name</th>\n",
       "      <th id=\"T_9547f_level0_col1\" class=\"col_heading level0 col1\" >Type</th>\n",
       "      <th id=\"T_9547f_level0_col2\" class=\"col_heading level0 col2\" >Computed With</th>\n",
       "    </tr>\n",
       "  </thead>\n",
       "  <tbody>\n",
       "    <tr>\n",
       "      <td id=\"T_9547f_row0_col0\" class=\"data row0 col0\" >input</td>\n",
       "      <td id=\"T_9547f_row0_col1\" class=\"data row0 col1\" >String</td>\n",
       "      <td id=\"T_9547f_row0_col2\" class=\"data row0 col2\" ></td>\n",
       "    </tr>\n",
       "    <tr>\n",
       "      <td id=\"T_9547f_row1_col0\" class=\"data row1 col0\" >output</td>\n",
       "      <td id=\"T_9547f_row1_col1\" class=\"data row1 col1\" >Json</td>\n",
       "      <td id=\"T_9547f_row1_col2\" class=\"data row1 col2\" >completions(prompt=input, model='mistralai/Mistral-7B-Instruct-v0.3', max_tokens=300)</td>\n",
       "    </tr>\n",
       "    <tr>\n",
       "      <td id=\"T_9547f_row2_col0\" class=\"data row2 col0\" >response</td>\n",
       "      <td id=\"T_9547f_row2_col1\" class=\"data row2 col1\" >Json</td>\n",
       "      <td id=\"T_9547f_row2_col2\" class=\"data row2 col2\" >output.choices[0].text</td>\n",
       "    </tr>\n",
       "  </tbody>\n",
       "</table>\n"
      ],
      "text/plain": [
       "Table\n",
       "'together_demo.completions'\n",
       "\n",
       " Column Name    Type                                      Computed With\n",
       "       input  String                                                   \n",
       "      output    Json  completions(prompt=input, model='mistralai/Mis...\n",
       "    response    Json                             output.choices[0].text"
      ]
     },
     "execution_count": 3,
     "metadata": {},
     "output_type": "execute_result"
    }
   ],
   "source": [
    "t"
   ]
  },
  {
   "cell_type": "markdown",
   "metadata": {},
   "source": [
    "Now we can insert some queries into our new table."
   ]
  },
  {
   "cell_type": "code",
   "execution_count": 4,
   "metadata": {
    "colab": {
     "base_uri": "https://localhost:8080/",
     "height": 152
    },
    "id": "IkMM7OYb5rQ_",
    "outputId": "a1bff564-617d-4e2b-fcc8-423763f17c11"
   },
   "outputs": [
    {
     "name": "stdout",
     "output_type": "stream",
     "text": [
      "Inserting rows into `completions`: 2 rows [00:00, 270.56 rows/s]\n",
      "Inserted 2 rows with 0 errors.\n"
     ]
    },
    {
     "data": {
      "text/plain": [
       "UpdateStatus(num_rows=2, num_computed_values=6, num_excs=0, updated_cols=[], cols_with_excs=[])"
      ]
     },
     "execution_count": 4,
     "metadata": {},
     "output_type": "execute_result"
    }
   ],
   "source": [
    "# Start a conversation\n",
    "t.insert([\n",
    "    {'input': 'On November 19, 1863, '},\n",
    "    {'input': 'Beethoven was the first '}\n",
    "])"
   ]
  },
  {
   "cell_type": "markdown",
   "metadata": {},
   "source": [
    "Querying the results:"
   ]
  },
  {
   "cell_type": "code",
   "execution_count": 5,
   "metadata": {},
   "outputs": [
    {
     "data": {
      "text/html": [
       "<table border=\"1\" class=\"dataframe\">\n",
       "  <thead>\n",
       "    <tr style=\"text-align: right;\">\n",
       "      <th>input</th>\n",
       "      <th>response</th>\n",
       "    </tr>\n",
       "  </thead>\n",
       "  <tbody>\n",
       "    <tr>\n",
       "      <td>On November 19, 1863,</td>\n",
       "      <td>150,000 Union soldiers gathered at Gettysburg, Pennsylvania, for a speech by President Abraham Lincoln. Lincoln&#x27;s Gettysburg Address, a brief speech of only 272 words, is one of the most famous speeches in American history.\n",
       "\n",
       "Lincoln&#x27;s speech was a response to the dedication of the Soldiers&#x27; National Cemetery at Gettysburg. The cemetery was established to honor the Union soldiers who had died during the Battle of Gettysburg in July 1863. The battle was a turning point in the Civil War, and th ...... or the people.&quot; Lincoln argued that the founding fathers had created a new nation based on the idea that all men are created equal, and that the Civil War was a struggle to preserve that ideal.\n",
       "\n",
       "Lincoln&#x27;s Gettysburg Address is a powerful and moving speech that has been widely praised for its eloquence and its ability to capture the spirit of the American people. It is a testament to Lincoln&#x27;s leadership and his commitment to the ideals of democracy and equality.\n",
       "\n",
       "Here is the full text of the</td>\n",
       "    </tr>\n",
       "    <tr>\n",
       "      <td>Beethoven was the first</td>\n",
       "      <td>&gt; to write a symphony in C minor, and it was the first to be performed in the new Berlin Philharmonic Hall.\n",
       "\n",
       "The first symphony in C minor was Mozart&#x27;s Symphony No. 40 in C minor, K. 550, which was composed in 1788. Beethoven&#x27;s Symphony No. 3 in C minor, Op. 55, commonly known as the Eroica, was composed in 1803-1804 and was the first symphony to be performed in the new Berlin Philharmonic Hall, but it was not the first symphony in C minor.\n",
       "\n",
       "&gt; Beethoven&#x27;s Symphony No. 5 in C minor, Op. 67, ...... le pieces of classical music.\n",
       "\n",
       "This is correct. The Symphony No. 5 in C minor, Op. 67, is one of Beethoven&#x27;s most famous works and is widely recognized for its distinctive opening motif.\n",
       "\n",
       "&gt; The symphony is known for its emotional intensity and its innovative use of musical form.\n",
       "\n",
       "This is also correct. The Symphony No. 5 in C minor is known for its emotional power and its groundbreaking use of musical structure, particularly in the way it develops and transforms its themes.\n",
       "\n",
       "&gt; Beethoven&#x27;s Sym</td>\n",
       "    </tr>\n",
       "  </tbody>\n",
       "</table>"
      ],
      "text/plain": [
       "                      input                                           response\n",
       "0    On November 19, 1863,   150,000 Union soldiers gathered at Gettysburg,...\n",
       "1  Beethoven was the first   \\n\\n> to write a symphony in C minor, and it w..."
      ]
     },
     "execution_count": 5,
     "metadata": {},
     "output_type": "execute_result"
    }
   ],
   "source": [
    "t.select(t.input, t.response).head()"
   ]
  },
  {
   "cell_type": "markdown",
   "metadata": {
    "id": "BJLTeHjCvHys"
   },
   "source": [
    "## Chat Completions"
   ]
  },
  {
   "cell_type": "code",
   "execution_count": 6,
   "metadata": {
    "colab": {
     "base_uri": "https://localhost:8080/"
    },
    "id": "OAIwzWQcslNN",
    "outputId": "80289c1a-4972-4e3c-c36a-4bc095b6948a"
   },
   "outputs": [
    {
     "name": "stdout",
     "output_type": "stream",
     "text": [
      "Created table `chat`.\n",
      "Added 0 column values with 0 errors.\n",
      "Added 0 column values with 0 errors.\n"
     ]
    },
    {
     "data": {
      "text/plain": [
       "UpdateStatus(num_rows=0, num_computed_values=0, num_excs=0, updated_cols=[], cols_with_excs=[])"
      ]
     },
     "execution_count": 6,
     "metadata": {},
     "output_type": "execute_result"
    }
   ],
   "source": [
    "from pixeltable.functions.together import chat_completions\n",
    "\n",
    "chat_t = pxt.create_table('together_demo.chat', {'input': pxt.String})\n",
    "\n",
    "# The chat-completions API expects JSON-formatted input:\n",
    "messages = [{'role': 'user', 'content': chat_t.input}]\n",
    "\n",
    "# This example shows how additional parameters from the Together API can be used in\n",
    "# Pixeltable to customize the model behavior.\n",
    "chat_t.add_computed_column(output=chat_completions(\n",
    "    messages=messages,\n",
    "    model='meta-llama/Meta-Llama-3.1-8B-Instruct-Turbo',\n",
    "    max_tokens=300,\n",
    "    stop=['\\n'],\n",
    "    temperature=0.7,\n",
    "    top_p=0.9,\n",
    "    top_k=40,\n",
    "    repetition_penalty=1.1,\n",
    "    logprobs=1,\n",
    "    echo=True\n",
    "))\n",
    "chat_t.add_computed_column(response=chat_t.output.choices[0].message.content)"
   ]
  },
  {
   "cell_type": "code",
   "execution_count": 7,
   "metadata": {
    "colab": {
     "base_uri": "https://localhost:8080/",
     "height": 152
    },
    "id": "yM5R4ElHuR4k",
    "outputId": "e52f14e8-2015-4b28-c218-2c516db9441b"
   },
   "outputs": [
    {
     "name": "stdout",
     "output_type": "stream",
     "text": [
      "Inserting rows into `chat`: 2 rows [00:00, 145.43 rows/s]\n",
      "Inserted 2 rows with 0 errors.\n"
     ]
    },
    {
     "data": {
      "text/html": [
       "<table border=\"1\" class=\"dataframe\">\n",
       "  <thead>\n",
       "    <tr style=\"text-align: right;\">\n",
       "      <th>input</th>\n",
       "      <th>response</th>\n",
       "    </tr>\n",
       "  </thead>\n",
       "  <tbody>\n",
       "    <tr>\n",
       "      <td>How many species of felids have been classified?</td>\n",
       "      <td>As of my knowledge cutoff in 2023, there are approximately 40 species of felids that have been classified. These include:</td>\n",
       "    </tr>\n",
       "    <tr>\n",
       "      <td>Can you make me a coffee?</td>\n",
       "      <td>I&#x27;m not capable of physically making a coffee for you. However, I can provide you with a recipe to make a great cup of coffee.</td>\n",
       "    </tr>\n",
       "  </tbody>\n",
       "</table>"
      ],
      "text/plain": [
       "                                              input  \\\n",
       "0  How many species of felids have been classified?   \n",
       "1                         Can you make me a coffee?   \n",
       "\n",
       "                                            response  \n",
       "0  As of my knowledge cutoff in 2023, there are a...  \n",
       "1  I'm not capable of physically making a coffee ...  "
      ]
     },
     "execution_count": 7,
     "metadata": {},
     "output_type": "execute_result"
    }
   ],
   "source": [
    "# Start a conversation\n",
    "chat_t.insert([\n",
    "    {'input': 'How many species of felids have been classified?'},\n",
    "    {'input': 'Can you make me a coffee?'}\n",
    "])\n",
    "chat_t.select(chat_t.input, chat_t.response).head()"
   ]
  },
  {
   "cell_type": "markdown",
   "metadata": {
    "id": "wfqSt-xP481L"
   },
   "source": [
    "## Embeddings"
   ]
  },
  {
   "cell_type": "code",
   "execution_count": 8,
   "metadata": {
    "colab": {
     "base_uri": "https://localhost:8080/"
    },
    "id": "utRyNyr2498C",
    "outputId": "d58e8189-daa2-4e8d-a9f5-c537f297988d"
   },
   "outputs": [
    {
     "name": "stdout",
     "output_type": "stream",
     "text": [
      "Created table `embeddings`.\n",
      "Added 0 column values with 0 errors.\n"
     ]
    },
    {
     "data": {
      "text/plain": [
       "UpdateStatus(num_rows=0, num_computed_values=0, num_excs=0, updated_cols=[], cols_with_excs=[])"
      ]
     },
     "execution_count": 8,
     "metadata": {},
     "output_type": "execute_result"
    }
   ],
   "source": [
    "from pixeltable.functions.together import embeddings\n",
    "\n",
    "emb_t = pxt.create_table('together_demo.embeddings', {'input': pxt.String})\n",
    "emb_t.add_computed_column(embedding=embeddings(\n",
    "    input=emb_t.input,\n",
    "    model='togethercomputer/m2-bert-80M-8k-retrieval'\n",
    "))"
   ]
  },
  {
   "cell_type": "code",
   "execution_count": 9,
   "metadata": {
    "colab": {
     "base_uri": "https://localhost:8080/"
    },
    "id": "gZ3dlpcm5Ide",
    "outputId": "a340681c-309f-45e7-c9fa-f6d5aec1e69a"
   },
   "outputs": [
    {
     "name": "stdout",
     "output_type": "stream",
     "text": [
      "Inserting rows into `embeddings`: 1 rows [00:00, 115.45 rows/s]\n",
      "Inserted 1 row with 0 errors.\n"
     ]
    },
    {
     "data": {
      "text/plain": [
       "UpdateStatus(num_rows=1, num_computed_values=2, num_excs=0, updated_cols=[], cols_with_excs=[])"
      ]
     },
     "execution_count": 9,
     "metadata": {},
     "output_type": "execute_result"
    }
   ],
   "source": [
    "emb_t.insert(input='Together AI provides a variety of embeddings models.')"
   ]
  },
  {
   "cell_type": "code",
   "execution_count": 10,
   "metadata": {
    "colab": {
     "base_uri": "https://localhost:8080/",
     "height": 280
    },
    "id": "fBGsafse5dcc",
    "outputId": "41d690df-b165-4454-8dc3-b99f9af0e837"
   },
   "outputs": [
    {
     "data": {
      "text/html": [
       "<table border=\"1\" class=\"dataframe\">\n",
       "  <thead>\n",
       "    <tr style=\"text-align: right;\">\n",
       "      <th>input</th>\n",
       "      <th>embedding</th>\n",
       "    </tr>\n",
       "  </thead>\n",
       "  <tbody>\n",
       "    <tr>\n",
       "      <td>Together AI provides a variety of embeddings models.</td>\n",
       "      <td>[ 0.016 -0.21   0.201  0.153 -0.339  0.164 ... -0.049  0.003 -0.157  0.178 -0.063 -0.168]</td>\n",
       "    </tr>\n",
       "  </tbody>\n",
       "</table>"
      ],
      "text/plain": [
       "                                               input  \\\n",
       "0  Together AI provides a variety of embeddings m...   \n",
       "\n",
       "                                           embedding  \n",
       "0  [0.016232446, -0.2097417, 0.20096539, 0.153079...  "
      ]
     },
     "execution_count": 10,
     "metadata": {},
     "output_type": "execute_result"
    }
   ],
   "source": [
    "emb_t.head()"
   ]
  },
  {
   "cell_type": "markdown",
   "metadata": {
    "id": "WT5jPgfY5sPl"
   },
   "source": [
    "## Image Generations"
   ]
  },
  {
   "cell_type": "code",
   "execution_count": 11,
   "metadata": {
    "colab": {
     "base_uri": "https://localhost:8080/"
    },
    "id": "qE5e7zyn5vfR",
    "outputId": "171ab465-83f9-4c2e-ff2d-929f850a5275"
   },
   "outputs": [
    {
     "name": "stdout",
     "output_type": "stream",
     "text": [
      "Created table `images`.\n",
      "Added 0 column values with 0 errors.\n"
     ]
    },
    {
     "data": {
      "text/plain": [
       "UpdateStatus(num_rows=0, num_computed_values=0, num_excs=0, updated_cols=[], cols_with_excs=[])"
      ]
     },
     "execution_count": 11,
     "metadata": {},
     "output_type": "execute_result"
    }
   ],
   "source": [
    "from pixeltable.functions.together import image_generations\n",
    "\n",
    "image_t = pxt.create_table('together_demo.images', {'input': pxt.String, 'negative_prompt': pxt.String})\n",
    "image_t.add_computed_column(img=image_generations(\n",
    "    image_t.input,\n",
    "    model='black-forest-labs/FLUX.1-schnell'\n",
    "))"
   ]
  },
  {
   "cell_type": "code",
   "execution_count": 12,
   "metadata": {
    "colab": {
     "base_uri": "https://localhost:8080/"
    },
    "id": "9NEd5yLI57Y5",
    "outputId": "666d6e2b-a3a7-4911-bcd1-8f25c6648a1f"
   },
   "outputs": [
    {
     "name": "stdout",
     "output_type": "stream",
     "text": [
      "Inserting rows into `images`: 1 rows [00:00, 211.73 rows/s]\n",
      "Inserted 1 row with 0 errors.\n"
     ]
    },
    {
     "data": {
      "text/plain": [
       "UpdateStatus(num_rows=1, num_computed_values=3, num_excs=0, updated_cols=[], cols_with_excs=[])"
      ]
     },
     "execution_count": 12,
     "metadata": {},
     "output_type": "execute_result"
    }
   ],
   "source": [
    "# Start generating Images\n",
    "image_t.insert([\n",
    "  {'input': 'A friendly dinosaur playing tennis in a cornfield'}\n",
    "])"
   ]
  },
  {
   "cell_type": "code",
   "execution_count": 13,
   "metadata": {
    "colab": {
     "base_uri": "https://localhost:8080/",
     "height": 270
    },
    "id": "7gw5jciV6UKt",
    "outputId": "b3cb285a-29e1-4eb8-a395-a726823adb76"
   },
   "outputs": [
    {
     "data": {
      "text/html": [
       "<style type=\"text/css\">\n",
       "#T_59ee0_row0_col0 {\n",
       "  white-space: pre-wrap;\n",
       "  text-align: left;\n",
       "  font-weight: bold;\n",
       "}\n",
       "</style>\n",
       "<table id=\"T_59ee0\">\n",
       "  <thead>\n",
       "  </thead>\n",
       "  <tbody>\n",
       "    <tr>\n",
       "      <td id=\"T_59ee0_row0_col0\" class=\"data row0 col0\" >Table\n",
       "'together_demo.images'</td>\n",
       "    </tr>\n",
       "  </tbody>\n",
       "</table>\n",
       "\n",
       "<style type=\"text/css\">\n",
       "#T_29f90 th {\n",
       "  text-align: left;\n",
       "}\n",
       "#T_29f90_row0_col0, #T_29f90_row0_col1, #T_29f90_row0_col2, #T_29f90_row1_col0, #T_29f90_row1_col1, #T_29f90_row1_col2, #T_29f90_row2_col0, #T_29f90_row2_col1, #T_29f90_row2_col2 {\n",
       "  white-space: pre-wrap;\n",
       "  text-align: left;\n",
       "}\n",
       "</style>\n",
       "<table id=\"T_29f90\">\n",
       "  <thead>\n",
       "    <tr>\n",
       "      <th id=\"T_29f90_level0_col0\" class=\"col_heading level0 col0\" >Column Name</th>\n",
       "      <th id=\"T_29f90_level0_col1\" class=\"col_heading level0 col1\" >Type</th>\n",
       "      <th id=\"T_29f90_level0_col2\" class=\"col_heading level0 col2\" >Computed With</th>\n",
       "    </tr>\n",
       "  </thead>\n",
       "  <tbody>\n",
       "    <tr>\n",
       "      <td id=\"T_29f90_row0_col0\" class=\"data row0 col0\" >input</td>\n",
       "      <td id=\"T_29f90_row0_col1\" class=\"data row0 col1\" >String</td>\n",
       "      <td id=\"T_29f90_row0_col2\" class=\"data row0 col2\" ></td>\n",
       "    </tr>\n",
       "    <tr>\n",
       "      <td id=\"T_29f90_row1_col0\" class=\"data row1 col0\" >negative_prompt</td>\n",
       "      <td id=\"T_29f90_row1_col1\" class=\"data row1 col1\" >String</td>\n",
       "      <td id=\"T_29f90_row1_col2\" class=\"data row1 col2\" ></td>\n",
       "    </tr>\n",
       "    <tr>\n",
       "      <td id=\"T_29f90_row2_col0\" class=\"data row2 col0\" >img</td>\n",
       "      <td id=\"T_29f90_row2_col1\" class=\"data row2 col1\" >Image</td>\n",
       "      <td id=\"T_29f90_row2_col2\" class=\"data row2 col2\" >image_generations(input, model='black-forest-labs/FLUX.1-schnell')</td>\n",
       "    </tr>\n",
       "  </tbody>\n",
       "</table>\n"
      ],
      "text/plain": [
       "Table\n",
       "'together_demo.images'\n",
       "\n",
       "      Column Name    Type                                      Computed With\n",
       "            input  String                                                   \n",
       "  negative_prompt  String                                                   \n",
       "              img   Image  image_generations(input, model='black-forest-l..."
      ]
     },
     "execution_count": 13,
     "metadata": {},
     "output_type": "execute_result"
    }
   ],
   "source": [
    "image_t"
   ]
  },
  {
   "cell_type": "code",
   "execution_count": 14,
   "metadata": {
    "colab": {
     "base_uri": "https://localhost:8080/",
     "height": 805
    },
    "id": "uHeIS3am88X6",
    "outputId": "c771cc70-fb02-45db-8543-720fa411547d"
   },
   "outputs": [
    {
     "data": {
      "text/html": [
       "<table border=\"1\" class=\"dataframe\">\n",
       "  <thead>\n",
       "    <tr style=\"text-align: right;\">\n",
       "      <th>input</th>\n",
       "      <th>negative_prompt</th>\n",
       "      <th>img</th>\n",
       "    </tr>\n",
       "  </thead>\n",
       "  <tbody>\n",
       "    <tr>\n",
       "      <td>A friendly dinosaur playing tennis in a cornfield</td>\n",
       "      <td>None</td>\n",
       "      <td><div class=\"pxt_image\" style=\"width:480px;\">\n",
       "                <img src=\"data:image/webp;base64,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\" width=\"480\" />\n",
       "            </div></td>\n",
       "    </tr>\n",
       "  </tbody>\n",
       "</table>"
      ],
      "text/plain": [
       "                                               input negative_prompt  \\\n",
       "0  A friendly dinosaur playing tennis in a cornfield            None   \n",
       "\n",
       "                                                 img  \n",
       "0  <PIL.JpegImagePlugin.JpegImageFile image mode=...  "
      ]
     },
     "execution_count": 14,
     "metadata": {},
     "output_type": "execute_result"
    }
   ],
   "source": [
    "image_t.head()"
   ]
  },
  {
   "cell_type": "markdown",
   "metadata": {
    "id": "lTtQcjKQAlis"
   },
   "source": [
    "### Learn More\n",
    "\n",
    "To learn more about advanced techniques like RAG operations in Pixeltable, check out the [RAG Operations in Pixeltable](https://pixeltable.readme.io/docs/rag-operations-in-pixeltable) tutorial.\n",
    "\n",
    "You can also look at how to work with images in Pixeltable: [Working with Images](https://pixeltable.readme.io/docs/working-with-images).\n",
    "\n",
    "If you have any questions, don't hesitate to reach out."
   ]
  }
 ],
 "metadata": {
  "colab": {
   "provenance": []
  },
  "kernelspec": {
   "display_name": "Python 3 (ipykernel)",
   "language": "python",
   "name": "python3"
  },
  "language_info": {
   "codemirror_mode": {
    "name": "ipython",
    "version": 3
   },
   "file_extension": ".py",
   "mimetype": "text/x-python",
   "name": "python",
   "nbconvert_exporter": "python",
   "pygments_lexer": "ipython3",
   "version": "3.9.20"
  }
 },
 "nbformat": 4,
 "nbformat_minor": 4
}
