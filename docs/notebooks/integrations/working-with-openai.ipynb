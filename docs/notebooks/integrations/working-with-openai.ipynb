{
 "cells": [
  {
   "cell_type": "markdown",
   "id": "3e777354",
   "metadata": {},
   "source": [
    "[![Kaggle](https://kaggle.com/static/images/open-in-kaggle.svg)](https://kaggle.com/kernels/welcome?src=https://github.com/pixeltable/pixeltable/blob/release/docs/notebooks/integrations/working-with-openai.ipynb)&nbsp;&nbsp;\n",
    "[![Colab](https://colab.research.google.com/assets/colab-badge.svg)](https://colab.research.google.com/github/pixeltable/pixeltable/blob/release/docs/notebooks/integrations/working-with-openai.ipynb)&nbsp;&nbsp;\n",
    "<a href=\"https://raw.githubusercontent.com/pixeltable/pixeltable/release/docs/notebooks/integrations/working-with-openai.ipynb\" download><img src=\"https://img.shields.io/badge/%E2%AC%87-Download%20Notebook-blue\" alt=\"Download Notebook\"></a>\n",
    "\n",
    "# Working with OpenAI in Pixeltable\n",
    "\n",
    "Pixeltable's OpenAI integration enables you to access OpenAI models via the OpenAI API.\n",
    "\n",
    "### Prerequisites\n",
    "- An OpenAI account with an API key (https://openai.com/index/openai-api/)\n",
    "\n",
    "### Important Notes\n",
    "\n",
    "- OpenAI usage may incur costs based on your OpenAI plan.\n",
    "- Be mindful of sensitive data and consider security measures when integrating with external services."
   ]
  },
  {
   "cell_type": "markdown",
   "id": "8b2e6912-e936-4c3a-84a2-ba99950c9493",
   "metadata": {},
   "source": [
    "First you'll need to install required libraries and enter your OpenAI API key."
   ]
  },
  {
   "cell_type": "code",
   "execution_count": null,
   "id": "d5288926-c278-4cbc-815c-cbc0433bbf49",
   "metadata": {},
   "outputs": [],
   "source": [
    "%pip install -qU pixeltable openai"
   ]
  },
  {
   "cell_type": "code",
   "execution_count": null,
   "id": "385f6831-f029-42bb-99f1-652a809ffc6e",
   "metadata": {},
   "outputs": [],
   "source": [
    "import os\n",
    "import getpass\n",
    "if 'OPENAI_API_KEY' not in os.environ:\n",
    "    os.environ['OPENAI_API_KEY'] = getpass.getpass('Enter your OpenAI API key:')"
   ]
  },
  {
   "cell_type": "markdown",
   "id": "8d3dd131-22de-496c-9f02-ffd4515c20d3",
   "metadata": {},
   "source": [
    "Now let's create a Pixeltable directory to hold the tables for our demo."
   ]
  },
  {
   "cell_type": "code",
   "execution_count": 1,
   "id": "9bdc613f",
   "metadata": {},
   "outputs": [
    {
     "name": "stdout",
     "output_type": "stream",
     "text": [
      "Connected to Pixeltable database at: postgresql+psycopg://postgres:@/pixeltable?host=/Users/asiegel/.pixeltable/pgdata\n",
      "Created directory 'openai_demo'.\n"
     ]
    },
    {
     "data": {
      "text/plain": [
       "<pixeltable.catalog.dir.Dir at 0x3311897e0>"
      ]
     },
     "execution_count": 1,
     "metadata": {},
     "output_type": "execute_result"
    }
   ],
   "source": [
    "import pixeltable as pxt\n",
    "\n",
    "# Remove the 'openai_demo' directory and its contents, if it exists\n",
    "pxt.drop_dir('openai_demo', force=True)\n",
    "pxt.create_dir('openai_demo')"
   ]
  },
  {
   "cell_type": "markdown",
   "id": "02f8595f-fb03-419f-9440-ee2ae784fd20",
   "metadata": {},
   "source": [
    "## Chat Completions\n",
    "\n",
    "Create a Table: In Pixeltable, create a table with columns to represent your input data and the columns where you want to store the results from OpenAI."
   ]
  },
  {
   "cell_type": "code",
   "execution_count": 2,
   "id": "342407c1",
   "metadata": {},
   "outputs": [
    {
     "name": "stdout",
     "output_type": "stream",
     "text": [
      "Created table `chat`.\n",
      "Added 0 column values with 0 errors.\n"
     ]
    },
    {
     "data": {
      "text/plain": [
       "UpdateStatus(num_rows=0, num_computed_values=0, num_excs=0, updated_cols=[], cols_with_excs=[])"
      ]
     },
     "execution_count": 2,
     "metadata": {},
     "output_type": "execute_result"
    }
   ],
   "source": [
    "from pixeltable.functions import openai\n",
    "\n",
    "# Create a table in Pixeltable and add a computed column that calls OpenAI\n",
    "\n",
    "t = pxt.create_table('openai_demo.chat', {'input': pxt.String})\n",
    "\n",
    "messages = [{'role': 'user', 'content': t.input}]\n",
    "t.add_computed_column(output=openai.chat_completions(\n",
    "    messages=messages,\n",
    "    model='gpt-4o-mini',\n",
    "    options={\n",
    "        # Optional dict with parameters for the OpenAI API\n",
    "        'max_tokens': 300,\n",
    "        'top_p': 0.9,\n",
    "        'temperature': 0.7\n",
    "    }\n",
    "))"
   ]
  },
  {
   "cell_type": "code",
   "execution_count": 3,
   "id": "c5f0b862",
   "metadata": {},
   "outputs": [
    {
     "name": "stdout",
     "output_type": "stream",
     "text": [
      "Added 0 column values with 0 errors.\n"
     ]
    },
    {
     "data": {
      "text/plain": [
       "UpdateStatus(num_rows=0, num_computed_values=0, num_excs=0, updated_cols=[], cols_with_excs=[])"
      ]
     },
     "execution_count": 3,
     "metadata": {},
     "output_type": "execute_result"
    }
   ],
   "source": [
    "# Parse the response into a new column\n",
    "t.add_computed_column(response=t.output.choices[0].message.content)"
   ]
  },
  {
   "cell_type": "code",
   "execution_count": 4,
   "id": "15c9bc76-1b28-4d17-9a2d-339968f90786",
   "metadata": {},
   "outputs": [
    {
     "name": "stdout",
     "output_type": "stream",
     "text": [
      "Inserting rows into `chat`: 1 rows [00:00, 98.97 rows/s]\n",
      "Inserted 1 row with 0 errors.\n"
     ]
    },
    {
     "data": {
      "text/html": [
       "<table border=\"1\" class=\"dataframe\">\n",
       "  <thead>\n",
       "    <tr style=\"text-align: right;\">\n",
       "      <th>input</th>\n",
       "      <th>response</th>\n",
       "    </tr>\n",
       "  </thead>\n",
       "  <tbody>\n",
       "    <tr>\n",
       "      <td>How many islands are in the Aleutian island chain?</td>\n",
       "      <td>The Aleutian Islands consist of over 300 islands, stretching from the Alaska Peninsula to the Kamchatka Peninsula in Russia. The exact number can vary depending on how one defines an island, but the main islands and the larger ones are often the focus of discussion, which number around 80. The chain is known for its volcanic activity and unique ecosystems.</td>\n",
       "    </tr>\n",
       "  </tbody>\n",
       "</table>"
      ],
      "text/plain": [
       "                                               input  \\\n",
       "0  How many islands are in the Aleutian island ch...   \n",
       "\n",
       "                                            response  \n",
       "0  The Aleutian Islands consist of over 300 islan...  "
      ]
     },
     "execution_count": 4,
     "metadata": {},
     "output_type": "execute_result"
    }
   ],
   "source": [
    "# Start a conversation\n",
    "t.insert(input=\"How many islands are in the Aleutian island chain?\")\n",
    "t.select(t.input, t.response).head()"
   ]
  },
  {
   "cell_type": "markdown",
   "id": "f285bcef-eba6-4d0c-9f7d-950fb467eb21",
   "metadata": {},
   "source": [
    "## Embeddings"
   ]
  },
  {
   "cell_type": "code",
   "execution_count": 5,
   "id": "edf544a9-35cc-4e40-bd56-1b76226d046e",
   "metadata": {},
   "outputs": [
    {
     "name": "stdout",
     "output_type": "stream",
     "text": [
      "Created table `embeddings`.\n",
      "Added 0 column values with 0 errors.\n"
     ]
    },
    {
     "data": {
      "text/plain": [
       "UpdateStatus(num_rows=0, num_computed_values=0, num_excs=0, updated_cols=[], cols_with_excs=[])"
      ]
     },
     "execution_count": 5,
     "metadata": {},
     "output_type": "execute_result"
    }
   ],
   "source": [
    "emb_t = pxt.create_table('openai_demo.embeddings', {'input': pxt.String})\n",
    "emb_t.add_computed_column(embedding=openai.embeddings(\n",
    "    input=emb_t.input,\n",
    "    model='text-embedding-3-small'\n",
    "))"
   ]
  },
  {
   "cell_type": "code",
   "execution_count": 6,
   "id": "16e38191-0a08-457b-a202-6b2d0bcab892",
   "metadata": {},
   "outputs": [
    {
     "name": "stdout",
     "output_type": "stream",
     "text": [
      "Inserting rows into `embeddings`: 1 rows [00:00, 108.08 rows/s]\n",
      "Inserted 1 row with 0 errors.\n"
     ]
    },
    {
     "data": {
      "text/plain": [
       "UpdateStatus(num_rows=1, num_computed_values=2, num_excs=0, updated_cols=[], cols_with_excs=[])"
      ]
     },
     "execution_count": 6,
     "metadata": {},
     "output_type": "execute_result"
    }
   ],
   "source": [
    "emb_t.insert(input='OpenAI provides a variety of embeddings models.')"
   ]
  },
  {
   "cell_type": "code",
   "execution_count": 7,
   "id": "5bf1cc4d-fd13-497e-a7fb-2ce78e3ee2e8",
   "metadata": {},
   "outputs": [
    {
     "data": {
      "text/html": [
       "<table border=\"1\" class=\"dataframe\">\n",
       "  <thead>\n",
       "    <tr style=\"text-align: right;\">\n",
       "      <th>input</th>\n",
       "      <th>embedding</th>\n",
       "    </tr>\n",
       "  </thead>\n",
       "  <tbody>\n",
       "    <tr>\n",
       "      <td>OpenAI provides a variety of embeddings models.</td>\n",
       "      <td>[-0.023 -0.045  0.069 -0.017 -0.008 -0.027 ...  0.009  0.005  0.021  0.018 -0.012 -0.008]</td>\n",
       "    </tr>\n",
       "  </tbody>\n",
       "</table>"
      ],
      "text/plain": [
       "                                             input  \\\n",
       "0  OpenAI provides a variety of embeddings models.   \n",
       "\n",
       "                                           embedding  \n",
       "0  [-0.022908814, -0.044679735, 0.06892383, -0.01...  "
      ]
     },
     "execution_count": 7,
     "metadata": {},
     "output_type": "execute_result"
    }
   ],
   "source": [
    "emb_t.head()"
   ]
  },
  {
   "cell_type": "markdown",
   "id": "069cb1eb-2f5c-4843-9645-a79d410d8bf4",
   "metadata": {},
   "source": [
    "## Image Generations"
   ]
  },
  {
   "cell_type": "code",
   "execution_count": 8,
   "id": "24970bff-013f-4b5b-844d-764f1b5465d6",
   "metadata": {},
   "outputs": [
    {
     "name": "stdout",
     "output_type": "stream",
     "text": [
      "Created table `images`.\n",
      "Added 0 column values with 0 errors.\n"
     ]
    },
    {
     "data": {
      "text/plain": [
       "UpdateStatus(num_rows=0, num_computed_values=0, num_excs=0, updated_cols=[], cols_with_excs=[])"
      ]
     },
     "execution_count": 8,
     "metadata": {},
     "output_type": "execute_result"
    }
   ],
   "source": [
    "image_t = pxt.create_table('openai_demo.images', {'input': pxt.String})\n",
    "image_t.add_computed_column(img=openai.image_generations(\n",
    "    image_t.input,\n",
    "    model='dall-e-2',\n",
    "))"
   ]
  },
  {
   "cell_type": "code",
   "execution_count": 9,
   "id": "5f7f1b29-2963-4d73-b1b6-f7168f5d0a73",
   "metadata": {},
   "outputs": [
    {
     "name": "stdout",
     "output_type": "stream",
     "text": [
      "Inserting rows into `images`: 1 rows [00:00, 392.50 rows/s]\n",
      "Inserted 1 row with 0 errors.\n"
     ]
    },
    {
     "data": {
      "text/plain": [
       "UpdateStatus(num_rows=1, num_computed_values=2, num_excs=0, updated_cols=[], cols_with_excs=[])"
      ]
     },
     "execution_count": 9,
     "metadata": {},
     "output_type": "execute_result"
    }
   ],
   "source": [
    "image_t.insert([\n",
    "    {'input': 'A giant Pixel floating in the open ocean in a sea of data'}\n",
    "])"
   ]
  },
  {
   "cell_type": "code",
   "execution_count": 10,
   "id": "60c6e39b-b0b2-4087-a82a-3d8033f29e90",
   "metadata": {},
   "outputs": [
    {
     "data": {
      "text/html": [
       "<style type=\"text/css\">\n",
       "#T_eaab5_row0_col0 {\n",
       "  white-space: pre-wrap;\n",
       "  text-align: left;\n",
       "  font-weight: bold;\n",
       "}\n",
       "</style>\n",
       "<table id=\"T_eaab5\">\n",
       "  <thead>\n",
       "  </thead>\n",
       "  <tbody>\n",
       "    <tr>\n",
       "      <td id=\"T_eaab5_row0_col0\" class=\"data row0 col0\" >Table 'openai_demo.images'</td>\n",
       "    </tr>\n",
       "  </tbody>\n",
       "</table>\n",
       "\n",
       "<style type=\"text/css\">\n",
       "#T_caf86 th {\n",
       "  text-align: left;\n",
       "}\n",
       "#T_caf86_row0_col0, #T_caf86_row0_col1, #T_caf86_row0_col2, #T_caf86_row1_col0, #T_caf86_row1_col1, #T_caf86_row1_col2 {\n",
       "  white-space: pre-wrap;\n",
       "  text-align: left;\n",
       "}\n",
       "</style>\n",
       "<table id=\"T_caf86\">\n",
       "  <thead>\n",
       "    <tr>\n",
       "      <th id=\"T_caf86_level0_col0\" class=\"col_heading level0 col0\" >Column Name</th>\n",
       "      <th id=\"T_caf86_level0_col1\" class=\"col_heading level0 col1\" >Type</th>\n",
       "      <th id=\"T_caf86_level0_col2\" class=\"col_heading level0 col2\" >Computed With</th>\n",
       "    </tr>\n",
       "  </thead>\n",
       "  <tbody>\n",
       "    <tr>\n",
       "      <td id=\"T_caf86_row0_col0\" class=\"data row0 col0\" >input</td>\n",
       "      <td id=\"T_caf86_row0_col1\" class=\"data row0 col1\" >String</td>\n",
       "      <td id=\"T_caf86_row0_col2\" class=\"data row0 col2\" ></td>\n",
       "    </tr>\n",
       "    <tr>\n",
       "      <td id=\"T_caf86_row1_col0\" class=\"data row1 col0\" >img</td>\n",
       "      <td id=\"T_caf86_row1_col1\" class=\"data row1 col1\" >Image[(1024, 1024)]</td>\n",
       "      <td id=\"T_caf86_row1_col2\" class=\"data row1 col2\" >image_generations(input, model='dall-e-2')</td>\n",
       "    </tr>\n",
       "  </tbody>\n",
       "</table>\n"
      ],
      "text/plain": [
       "Table 'openai_demo.images'\n",
       "\n",
       " Column Name                 Type                               Computed With\n",
       "       input               String                                            \n",
       "         img  Image[(1024, 1024)]  image_generations(input, model='dall-e-2')"
      ]
     },
     "execution_count": 10,
     "metadata": {},
     "output_type": "execute_result"
    }
   ],
   "source": [
    "image_t"
   ]
  },
  {
   "cell_type": "code",
   "execution_count": 11,
   "id": "c1b86b7b-2a95-447f-b847-63226278de93",
   "metadata": {},
   "outputs": [
    {
     "data": {
      "text/html": [
       "<table border=\"1\" class=\"dataframe\">\n",
       "  <thead>\n",
       "    <tr style=\"text-align: right;\">\n",
       "      <th>input</th>\n",
       "      <th>img</th>\n",
       "    </tr>\n",
       "  </thead>\n",
       "  <tbody>\n",
       "    <tr>\n",
       "      <td>A giant Pixel floating in the open ocean in a sea of data</td>\n",
       "      <td><div class=\"pxt_image\" style=\"width:480px;\">\n",
       "                <img src=\"data:image/webp;base64,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\" width=\"480\" />\n",
       "            </div></td>\n",
       "    </tr>\n",
       "  </tbody>\n",
       "</table>"
      ],
      "text/plain": [
       "                                               input  \\\n",
       "0  A giant Pixel floating in the open ocean in a ...   \n",
       "\n",
       "                                                 img  \n",
       "0  <PIL.JpegImagePlugin.JpegImageFile image mode=...  "
      ]
     },
     "execution_count": 11,
     "metadata": {},
     "output_type": "execute_result"
    }
   ],
   "source": [
    "image_t.head()"
   ]
  },
  {
   "cell_type": "markdown",
   "id": "622c2abd-8709-452a-b773-18fb28d180ce",
   "metadata": {},
   "source": [
    "### Learn More\n",
    "\n",
    "To learn more about advanced techniques like RAG operations in Pixeltable, check out the [RAG Operations in Pixeltable](https://pixeltable.readme.io/docs/rag-operations-in-pixeltable) tutorial.\n",
    "\n",
    "If you have any questions, don't hesitate to reach out."
   ]
  }
 ],
 "metadata": {
  "kernelspec": {
   "display_name": "Python 3 (ipykernel)",
   "language": "python",
   "name": "python3"
  },
  "language_info": {
   "codemirror_mode": {
    "name": "ipython",
    "version": 3
   },
   "file_extension": ".py",
   "mimetype": "text/x-python",
   "name": "python",
   "nbconvert_exporter": "python",
   "pygments_lexer": "ipython3",
   "version": "3.10.16"
  }
 },
 "nbformat": 4,
 "nbformat_minor": 5
}
