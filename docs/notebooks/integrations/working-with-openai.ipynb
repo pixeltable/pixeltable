{
 "cells": [
  {
   "cell_type": "markdown",
   "id": "3e777354",
   "metadata": {},
   "source": [
    "[![Kaggle](https://kaggle.com/static/images/open-in-kaggle.svg)](https://kaggle.com/kernels/welcome?src=https://github.com/pixeltable/pixeltable/blob/release/docs/notebooks/integrations/working-with-openai.ipynb)&nbsp;&nbsp;\n",
    "[![Colab](https://colab.research.google.com/assets/colab-badge.svg)](https://colab.research.google.com/github/pixeltable/pixeltable/blob/release/docs/notebooks/integrations/working-with-openai.ipynb)&nbsp;&nbsp;\n",
    "<a href=\"https://raw.githubusercontent.com/pixeltable/pixeltable/release/docs/notebooks/integrations/working-with-openai.ipynb\" download><img src=\"https://img.shields.io/badge/%E2%AC%87-Download%20Notebook-blue\" alt=\"Download Notebook\"></a>\n",
    "\n",
    "# Working with OpenAI in Pixeltable\n",
    "\n",
    "Pixeltable's OpenAI integration enables you to access OpenAI models via the OpenAI API.\n",
    "\n",
    "### Prerequisites\n",
    "- An OpenAI account with an API key (https://openai.com/index/openai-api/)\n",
    "\n",
    "### Important Notes\n",
    "\n",
    "- OpenAI usage may incur costs based on your OpenAI plan.\n",
    "- Be mindful of sensitive data and consider security measures when integrating with external services."
   ]
  },
  {
   "cell_type": "markdown",
   "id": "8b2e6912-e936-4c3a-84a2-ba99950c9493",
   "metadata": {},
   "source": [
    "First you'll need to install required libraries and enter your OpenAI API key."
   ]
  },
  {
   "cell_type": "code",
   "execution_count": null,
   "id": "d5288926-c278-4cbc-815c-cbc0433bbf49",
   "metadata": {},
   "outputs": [],
   "source": [
    "%pip install -qU pixeltable openai"
   ]
  },
  {
   "cell_type": "code",
   "execution_count": null,
   "id": "385f6831-f029-42bb-99f1-652a809ffc6e",
   "metadata": {},
   "outputs": [],
   "source": [
    "import os\n",
    "import getpass\n",
    "if 'OPENAI_API_KEY' not in os.environ:\n",
    "    os.environ['OPENAI_API_KEY'] = getpass.getpass('Enter your OpenAI API key:')"
   ]
  },
  {
   "cell_type": "markdown",
   "id": "8d3dd131-22de-496c-9f02-ffd4515c20d3",
   "metadata": {},
   "source": [
    "Now let's create a Pixeltable directory to hold the tables for our demo."
   ]
  },
  {
   "cell_type": "code",
   "execution_count": 1,
   "id": "9bdc613f",
   "metadata": {},
   "outputs": [
    {
     "name": "stdout",
     "output_type": "stream",
     "text": [
      "Connected to Pixeltable database at: postgresql+psycopg://postgres:@/pixeltable?host=/Users/asiegel/.pixeltable/pgdata\n",
      "Created directory 'openai_demo'.\n"
     ]
    },
    {
     "data": {
      "text/plain": [
       "<pixeltable.catalog.dir.Dir at 0x32c099c30>"
      ]
     },
     "execution_count": 1,
     "metadata": {},
     "output_type": "execute_result"
    }
   ],
   "source": [
    "import pixeltable as pxt\n",
    "\n",
    "# Remove the 'openai_demo' directory and its contents, if it exists\n",
    "pxt.drop_dir('openai_demo', force=True)\n",
    "pxt.create_dir('openai_demo')"
   ]
  },
  {
   "cell_type": "markdown",
   "id": "02f8595f-fb03-419f-9440-ee2ae784fd20",
   "metadata": {},
   "source": [
    "## Chat Completions\n",
    "\n",
    "Create a Table: In Pixeltable, create a table with columns to represent your input data and the columns where you want to store the results from OpenAI."
   ]
  },
  {
   "cell_type": "code",
   "execution_count": 2,
   "id": "342407c1",
   "metadata": {},
   "outputs": [
    {
     "name": "stdout",
     "output_type": "stream",
     "text": [
      "Created table `chat`.\n",
      "Added 0 column values with 0 errors.\n"
     ]
    },
    {
     "data": {
      "text/plain": [
       "UpdateStatus(num_rows=0, num_computed_values=0, num_excs=0, updated_cols=[], cols_with_excs=[])"
      ]
     },
     "execution_count": 2,
     "metadata": {},
     "output_type": "execute_result"
    }
   ],
   "source": [
    "from pixeltable.functions import openai\n",
    "\n",
    "# Create a table in Pixeltable and add a computed column that calls OpenAI\n",
    "\n",
    "t = pxt.create_table('openai_demo.chat', {'input': pxt.String})\n",
    "\n",
    "messages = [{'role': 'user', 'content': t.input}]\n",
    "t.add_computed_column(output=openai.chat_completions(\n",
    "    messages=messages,\n",
    "    model='gpt-4o-mini',\n",
    "    model_kwargs={\n",
    "        # Optional dict with parameters for the OpenAI API\n",
    "        'max_tokens': 300,\n",
    "        'top_p': 0.9,\n",
    "        'temperature': 0.7\n",
    "    }\n",
    "))"
   ]
  },
  {
   "cell_type": "code",
   "execution_count": 3,
   "id": "c5f0b862",
   "metadata": {},
   "outputs": [
    {
     "name": "stdout",
     "output_type": "stream",
     "text": [
      "Added 0 column values with 0 errors.\n"
     ]
    },
    {
     "data": {
      "text/plain": [
       "UpdateStatus(num_rows=0, num_computed_values=0, num_excs=0, updated_cols=[], cols_with_excs=[])"
      ]
     },
     "execution_count": 3,
     "metadata": {},
     "output_type": "execute_result"
    }
   ],
   "source": [
    "# Parse the response into a new column\n",
    "t.add_computed_column(response=t.output.choices[0].message.content)"
   ]
  },
  {
   "cell_type": "code",
   "execution_count": 4,
   "id": "15c9bc76-1b28-4d17-9a2d-339968f90786",
   "metadata": {},
   "outputs": [
    {
     "name": "stdout",
     "output_type": "stream",
     "text": [
      "Inserting rows into `chat`: 1 rows [00:00, 106.84 rows/s]\n",
      "Inserted 1 row with 0 errors.\n"
     ]
    },
    {
     "data": {
      "text/html": [
       "<table border=\"1\" class=\"dataframe\">\n",
       "  <thead>\n",
       "    <tr style=\"text-align: right;\">\n",
       "      <th>input</th>\n",
       "      <th>response</th>\n",
       "    </tr>\n",
       "  </thead>\n",
       "  <tbody>\n",
       "    <tr>\n",
       "      <td>How many islands are in the Aleutian island chain?</td>\n",
       "      <td>The Aleutian Islands are a chain of over 300 islands that extend approximately 1,200 miles (1,900 km) from the southwestern tip of the Alaska Peninsula to the tip of the Kamchatka Peninsula in Russia. The exact number of islands can vary depending on how one defines an &quot;island,&quot; but there are generally recognized to be around 200 significant islands in the chain, with many smaller islets and rocks as well.</td>\n",
       "    </tr>\n",
       "  </tbody>\n",
       "</table>"
      ],
      "text/plain": [
       "                                               input  \\\n",
       "0  How many islands are in the Aleutian island ch...   \n",
       "\n",
       "                                            response  \n",
       "0  The Aleutian Islands are a chain of over 300 i...  "
      ]
     },
     "execution_count": 4,
     "metadata": {},
     "output_type": "execute_result"
    }
   ],
   "source": [
    "# Start a conversation\n",
    "t.insert(input=\"How many islands are in the Aleutian island chain?\")\n",
    "t.select(t.input, t.response).head()"
   ]
  },
  {
   "cell_type": "markdown",
   "id": "f285bcef-eba6-4d0c-9f7d-950fb467eb21",
   "metadata": {},
   "source": [
    "## Embeddings"
   ]
  },
  {
   "cell_type": "code",
   "execution_count": 5,
   "id": "edf544a9-35cc-4e40-bd56-1b76226d046e",
   "metadata": {},
   "outputs": [
    {
     "name": "stdout",
     "output_type": "stream",
     "text": [
      "Created table `embeddings`.\n",
      "Added 0 column values with 0 errors.\n"
     ]
    },
    {
     "data": {
      "text/plain": [
       "UpdateStatus(num_rows=0, num_computed_values=0, num_excs=0, updated_cols=[], cols_with_excs=[])"
      ]
     },
     "execution_count": 5,
     "metadata": {},
     "output_type": "execute_result"
    }
   ],
   "source": [
    "emb_t = pxt.create_table('openai_demo.embeddings', {'input': pxt.String})\n",
    "emb_t.add_computed_column(embedding=openai.embeddings(\n",
    "    input=emb_t.input,\n",
    "    model='text-embedding-3-small'\n",
    "))"
   ]
  },
  {
   "cell_type": "code",
   "execution_count": 6,
   "id": "16e38191-0a08-457b-a202-6b2d0bcab892",
   "metadata": {},
   "outputs": [
    {
     "name": "stdout",
     "output_type": "stream",
     "text": [
      "Inserting rows into `embeddings`: 1 rows [00:00, 164.18 rows/s]\n",
      "Inserted 1 row with 0 errors.\n"
     ]
    },
    {
     "data": {
      "text/plain": [
       "UpdateStatus(num_rows=1, num_computed_values=2, num_excs=0, updated_cols=[], cols_with_excs=[])"
      ]
     },
     "execution_count": 6,
     "metadata": {},
     "output_type": "execute_result"
    }
   ],
   "source": [
    "emb_t.insert(input='OpenAI provides a variety of embeddings models.')"
   ]
  },
  {
   "cell_type": "code",
   "execution_count": 7,
   "id": "5bf1cc4d-fd13-497e-a7fb-2ce78e3ee2e8",
   "metadata": {},
   "outputs": [
    {
     "data": {
      "text/html": [
       "<table border=\"1\" class=\"dataframe\">\n",
       "  <thead>\n",
       "    <tr style=\"text-align: right;\">\n",
       "      <th>input</th>\n",
       "      <th>embedding</th>\n",
       "    </tr>\n",
       "  </thead>\n",
       "  <tbody>\n",
       "    <tr>\n",
       "      <td>OpenAI provides a variety of embeddings models.</td>\n",
       "      <td>[-0.023 -0.045  0.069 -0.017 -0.008 -0.027 ...  0.009  0.005  0.021  0.018 -0.012 -0.008]</td>\n",
       "    </tr>\n",
       "  </tbody>\n",
       "</table>"
      ],
      "text/plain": [
       "                                             input  \\\n",
       "0  OpenAI provides a variety of embeddings models.   \n",
       "\n",
       "                                           embedding  \n",
       "0  [-0.022908814, -0.044679735, 0.06892383, -0.01...  "
      ]
     },
     "execution_count": 7,
     "metadata": {},
     "output_type": "execute_result"
    }
   ],
   "source": [
    "emb_t.head()"
   ]
  },
  {
   "cell_type": "markdown",
   "id": "069cb1eb-2f5c-4843-9645-a79d410d8bf4",
   "metadata": {},
   "source": [
    "## Image Generations"
   ]
  },
  {
   "cell_type": "code",
   "execution_count": 8,
   "id": "24970bff-013f-4b5b-844d-764f1b5465d6",
   "metadata": {},
   "outputs": [
    {
     "name": "stdout",
     "output_type": "stream",
     "text": [
      "Created table `images`.\n",
      "Added 0 column values with 0 errors.\n"
     ]
    },
    {
     "data": {
      "text/plain": [
       "UpdateStatus(num_rows=0, num_computed_values=0, num_excs=0, updated_cols=[], cols_with_excs=[])"
      ]
     },
     "execution_count": 8,
     "metadata": {},
     "output_type": "execute_result"
    }
   ],
   "source": [
    "image_t = pxt.create_table('openai_demo.images', {'input': pxt.String})\n",
    "image_t.add_computed_column(img=openai.image_generations(\n",
    "    image_t.input,\n",
    "    model='dall-e-2',\n",
    "))"
   ]
  },
  {
   "cell_type": "code",
   "execution_count": 9,
   "id": "5f7f1b29-2963-4d73-b1b6-f7168f5d0a73",
   "metadata": {},
   "outputs": [
    {
     "name": "stdout",
     "output_type": "stream",
     "text": [
      "Inserting rows into `images`: 1 rows [00:00, 444.88 rows/s]\n",
      "Inserted 1 row with 0 errors.\n"
     ]
    },
    {
     "data": {
      "text/plain": [
       "UpdateStatus(num_rows=1, num_computed_values=2, num_excs=0, updated_cols=[], cols_with_excs=[])"
      ]
     },
     "execution_count": 9,
     "metadata": {},
     "output_type": "execute_result"
    }
   ],
   "source": [
    "image_t.insert([\n",
    "    {'input': 'A giant Pixel floating in the open ocean in a sea of data'}\n",
    "])"
   ]
  },
  {
   "cell_type": "code",
   "execution_count": 10,
   "id": "60c6e39b-b0b2-4087-a82a-3d8033f29e90",
   "metadata": {},
   "outputs": [
    {
     "data": {
      "text/html": [
       "<style type=\"text/css\">\n",
       "#T_d40f4_row0_col0 {\n",
       "  white-space: pre-wrap;\n",
       "  text-align: left;\n",
       "  font-weight: bold;\n",
       "}\n",
       "</style>\n",
       "<table id=\"T_d40f4\">\n",
       "  <thead>\n",
       "  </thead>\n",
       "  <tbody>\n",
       "    <tr>\n",
       "      <td id=\"T_d40f4_row0_col0\" class=\"data row0 col0\" >Table 'openai_demo.images'</td>\n",
       "    </tr>\n",
       "  </tbody>\n",
       "</table>\n",
       "\n",
       "<style type=\"text/css\">\n",
       "#T_3a1a7 th {\n",
       "  text-align: left;\n",
       "}\n",
       "#T_3a1a7_row0_col0, #T_3a1a7_row0_col1, #T_3a1a7_row0_col2, #T_3a1a7_row1_col0, #T_3a1a7_row1_col1, #T_3a1a7_row1_col2 {\n",
       "  white-space: pre-wrap;\n",
       "  text-align: left;\n",
       "}\n",
       "</style>\n",
       "<table id=\"T_3a1a7\">\n",
       "  <thead>\n",
       "    <tr>\n",
       "      <th id=\"T_3a1a7_level0_col0\" class=\"col_heading level0 col0\" >Column Name</th>\n",
       "      <th id=\"T_3a1a7_level0_col1\" class=\"col_heading level0 col1\" >Type</th>\n",
       "      <th id=\"T_3a1a7_level0_col2\" class=\"col_heading level0 col2\" >Computed With</th>\n",
       "    </tr>\n",
       "  </thead>\n",
       "  <tbody>\n",
       "    <tr>\n",
       "      <td id=\"T_3a1a7_row0_col0\" class=\"data row0 col0\" >input</td>\n",
       "      <td id=\"T_3a1a7_row0_col1\" class=\"data row0 col1\" >String</td>\n",
       "      <td id=\"T_3a1a7_row0_col2\" class=\"data row0 col2\" ></td>\n",
       "    </tr>\n",
       "    <tr>\n",
       "      <td id=\"T_3a1a7_row1_col0\" class=\"data row1 col0\" >img</td>\n",
       "      <td id=\"T_3a1a7_row1_col1\" class=\"data row1 col1\" >Image[(1024, 1024)]</td>\n",
       "      <td id=\"T_3a1a7_row1_col2\" class=\"data row1 col2\" >image_generations(input, model='dall-e-2')</td>\n",
       "    </tr>\n",
       "  </tbody>\n",
       "</table>\n"
      ],
      "text/plain": [
       "Table 'openai_demo.images'\n",
       "\n",
       " Column Name                 Type                               Computed With\n",
       "       input               String                                            \n",
       "         img  Image[(1024, 1024)]  image_generations(input, model='dall-e-2')"
      ]
     },
     "execution_count": 10,
     "metadata": {},
     "output_type": "execute_result"
    }
   ],
   "source": [
    "image_t"
   ]
  },
  {
   "cell_type": "code",
   "execution_count": 11,
   "id": "c1b86b7b-2a95-447f-b847-63226278de93",
   "metadata": {},
   "outputs": [
    {
     "data": {
      "text/html": [
       "<table border=\"1\" class=\"dataframe\">\n",
       "  <thead>\n",
       "    <tr style=\"text-align: right;\">\n",
       "      <th>input</th>\n",
       "      <th>img</th>\n",
       "    </tr>\n",
       "  </thead>\n",
       "  <tbody>\n",
       "    <tr>\n",
       "      <td>A giant Pixel floating in the open ocean in a sea of data</td>\n",
       "      <td><div class=\"pxt_image\" style=\"width:480px;\">\n",
       "                <img src=\"data:image/webp;base64,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\" width=\"480\" />\n",
       "            </div></td>\n",
       "    </tr>\n",
       "  </tbody>\n",
       "</table>"
      ],
      "text/plain": [
       "                                               input  \\\n",
       "0  A giant Pixel floating in the open ocean in a ...   \n",
       "\n",
       "                                                 img  \n",
       "0  <PIL.JpegImagePlugin.JpegImageFile image mode=...  "
      ]
     },
     "execution_count": 11,
     "metadata": {},
     "output_type": "execute_result"
    }
   ],
   "source": [
    "image_t.head()"
   ]
  },
  {
   "cell_type": "markdown",
   "id": "e8c64ef5-8b37-42b4-bafb-d9292c9c12f8",
   "metadata": {},
   "source": [
    "## Audio Transcription"
   ]
  },
  {
   "cell_type": "code",
   "execution_count": 13,
   "id": "d67ab3ac-6562-495e-a349-f8d131b59a1f",
   "metadata": {},
   "outputs": [
    {
     "name": "stdout",
     "output_type": "stream",
     "text": [
      "Created table `audio`.\n",
      "Added 0 column values with 0 errors.\n"
     ]
    },
    {
     "data": {
      "text/plain": [
       "UpdateStatus(num_rows=0, num_computed_values=0, num_excs=0, updated_cols=[], cols_with_excs=[])"
      ]
     },
     "execution_count": 13,
     "metadata": {},
     "output_type": "execute_result"
    }
   ],
   "source": [
    "audio_t = pxt.create_table('openai_demo.audio', {'input': pxt.Audio})\n",
    "audio_t.add_computed_column(result=openai.transcriptions(\n",
    "    audio_t.input,\n",
    "    model='whisper-1',\n",
    "    model_kwargs={\n",
    "        'language': 'en',\n",
    "        'prompt': 'Transcribe the contents of this recording.'\n",
    "    },\n",
    "))"
   ]
  },
  {
   "cell_type": "code",
   "execution_count": 14,
   "id": "8d0acd4e-b1bf-4390-b17a-c68fd0d849b9",
   "metadata": {},
   "outputs": [
    {
     "name": "stdout",
     "output_type": "stream",
     "text": [
      "Inserting rows into `audio`: 1 rows [00:00, 160.69 rows/s]\n",
      "Inserted 1 row with 0 errors.\n"
     ]
    },
    {
     "data": {
      "text/plain": [
       "UpdateStatus(num_rows=1, num_computed_values=3, num_excs=0, updated_cols=[], cols_with_excs=[])"
      ]
     },
     "execution_count": 14,
     "metadata": {},
     "output_type": "execute_result"
    }
   ],
   "source": [
    "url = (\n",
    "    'https://github.com/pixeltable/pixeltable/raw/release/tests/data/audio/'\n",
    "    'jfk_1961_0109_cityuponahill-excerpt.flac'\n",
    ")\n",
    "audio_t.insert([{'input': url}])"
   ]
  },
  {
   "cell_type": "code",
   "execution_count": 15,
   "id": "c37baa46-284e-43c2-9fd0-1e81f326c3d9",
   "metadata": {},
   "outputs": [
    {
     "data": {
      "text/html": [
       "<table border=\"1\" class=\"dataframe\">\n",
       "  <thead>\n",
       "    <tr style=\"text-align: right;\">\n",
       "      <th>input</th>\n",
       "      <th>result</th>\n",
       "    </tr>\n",
       "  </thead>\n",
       "  <tbody>\n",
       "    <tr>\n",
       "      <td><div class=\"pxt_audio\">\n",
       "            <audio controls>\n",
       "                <source src=\"http://127.0.0.1:63078/Users/asiegel/.pixeltable/file_cache/a32356262d254ce3bfad351cffd2e147_0_f7ba8b0e8780147e90d1e8dec4499cee2c8f9689c70b6b62d49e1738fbb0e2d4.flac\" type=\"audio/x-flac\" />\n",
       "            </audio>\n",
       "        </div></td>\n",
       "      <td>{&quot;text&quot;: &quot;Allow me to illustrate. During the last 60 days, I have been at the task of constructing an administration. It has been a long and deliberate proc ......  hill. The eyes of all peoples are upon us. Today, the eyes of all people are truly upon us. And our governments, in every branch, at every level,&quot;}</td>\n",
       "    </tr>\n",
       "  </tbody>\n",
       "</table>"
      ],
      "text/plain": [
       "                                               input  \\\n",
       "0  /Users/asiegel/.pixeltable/file_cache/a3235626...   \n",
       "\n",
       "                                              result  \n",
       "0  {'text': 'Allow me to illustrate. During the l...  "
      ]
     },
     "execution_count": 15,
     "metadata": {},
     "output_type": "execute_result"
    }
   ],
   "source": [
    "audio_t.head()"
   ]
  },
  {
   "cell_type": "code",
   "execution_count": 16,
   "id": "c0472fe0-b415-4a78-9431-2ecd27f62372",
   "metadata": {},
   "outputs": [
    {
     "data": {
      "text/plain": [
       "'Allow me to illustrate. During the last 60 days, I have been at the task of constructing an administration. It has been a long and deliberate process. Some have counseled greater speed. Others have counseled more expedient tests. But I have been guided by the standard John Winthrop set before his shipmates on the flagship Arabella 331 years ago, as they too faced the task of building a new government on a perilous frontier. We must always consider, he said, that we shall be as a city upon a hill. The eyes of all peoples are upon us. Today, the eyes of all people are truly upon us. And our governments, in every branch, at every level,'"
      ]
     },
     "execution_count": 16,
     "metadata": {},
     "output_type": "execute_result"
    }
   ],
   "source": [
    "audio_t.head()[0]['result']['text']"
   ]
  },
  {
   "cell_type": "markdown",
   "id": "622c2abd-8709-452a-b773-18fb28d180ce",
   "metadata": {},
   "source": [
    "### Learn More\n",
    "\n",
    "To learn more about advanced techniques like RAG operations in Pixeltable, check out the [RAG Operations in Pixeltable](https://pixeltable.readme.io/docs/rag-operations-in-pixeltable) tutorial.\n",
    "\n",
    "If you have any questions, don't hesitate to reach out."
   ]
  }
 ],
 "metadata": {
  "kernelspec": {
   "display_name": "Python 3 (ipykernel)",
   "language": "python",
   "name": "python3"
  },
  "language_info": {
   "codemirror_mode": {
    "name": "ipython",
    "version": 3
   },
   "file_extension": ".py",
   "mimetype": "text/x-python",
   "name": "python",
   "nbconvert_exporter": "python",
   "pygments_lexer": "ipython3",
   "version": "3.10.16"
  }
 },
 "nbformat": 4,
 "nbformat_minor": 5
}
