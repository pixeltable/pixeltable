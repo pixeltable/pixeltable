{
 "cells": [
  {
   "cell_type": "markdown",
   "metadata": {
    "id": "983yjns496tx"
   },
   "source": [
    "[![Kaggle](https://kaggle.com/static/images/open-in-kaggle.svg)](https://kaggle.com/kernels/welcome?src=https://github.com/pixeltable/pixeltable/blob/release/docs/notebooks/integrations/working-with-deepseek.ipynb)&nbsp;&nbsp;\n",
    "[![Colab](https://colab.research.google.com/assets/colab-badge.svg)](https://colab.research.google.com/github/pixeltable/pixeltable/blob/release/docs/notebooks/integrations/working-with-deepseek.ipynb)&nbsp;&nbsp;\n",
    "<a href=\"https://raw.githubusercontent.com/pixeltable/pixeltable/release/docs/notebooks/integrations/working-with-deepseek.ipynb\" download><img src=\"https://img.shields.io/badge/%E2%AC%87-Download%20Notebook-blue\" alt=\"Download Notebook\"></a>\n",
    "\n",
    "# Working with Deepseek in Pixeltable\n",
    "\n",
    "Pixeltable's Deepseek integration enables you to access Deepseek's LLM via the Deepseek API.\n",
    "\n",
    "### Prerequisites\n",
    "\n",
    "- A Deepseek account with an API key (https://api-docs.deepseek.com/)\n",
    "\n",
    "### Important Notes\n",
    "\n",
    "- Deepseek usage may incur costs based on your Deepseek plan.\n",
    "- Be mindful of sensitive data and consider security measures when integrating with external services.\n",
    "\n",
    "First you'll need to install the required libraries and enter a Deepseek API key. Deepseek uses the OpenAI SDK as its Python API, so we need to install it in addition to Pixeltable."
   ]
  },
  {
   "cell_type": "code",
   "execution_count": null,
   "metadata": {
    "colab": {
     "base_uri": "https://localhost:8080/"
    },
    "id": "9pckrD01ik-e",
    "outputId": "060b8b32-48a6-48a0-e720-4eacf94d83ef"
   },
   "outputs": [],
   "source": [
    "%pip install -qU pixeltable openai"
   ]
  },
  {
   "cell_type": "code",
   "execution_count": null,
   "metadata": {
    "colab": {
     "base_uri": "https://localhost:8080/"
    },
    "id": "AQ6_Py7_7d0r",
    "outputId": "f82cfe36-be9e-4d43-f13e-9f6f5b680e8e"
   },
   "outputs": [],
   "source": [
    "import os\n",
    "import getpass\n",
    "\n",
    "if 'DEEPSEEK_API_KEY' not in os.environ:\n",
    "    os.environ['DEEPSEEK_API_KEY'] = getpass.getpass('Deepseek API Key:')"
   ]
  },
  {
   "cell_type": "markdown",
   "metadata": {},
   "source": [
    "Now let's create a Pixeltable directory to hold the tables for our demo."
   ]
  },
  {
   "cell_type": "code",
   "execution_count": 1,
   "metadata": {
    "colab": {
     "base_uri": "https://localhost:8080/"
    },
    "id": "brtjK-88tTSS",
    "outputId": "55d08c91-438a-4c3e-c217-3cea72faca11"
   },
   "outputs": [
    {
     "name": "stdout",
     "output_type": "stream",
     "text": [
      "Connected to Pixeltable database at: postgresql+psycopg://postgres:@/pixeltable?host=/Users/asiegel/.pixeltable/pgdata\n",
      "Created directory 'deepseek_demo'.\n"
     ]
    },
    {
     "data": {
      "text/plain": [
       "<pixeltable.catalog.dir.Dir at 0x16bcf2140>"
      ]
     },
     "execution_count": 1,
     "metadata": {},
     "output_type": "execute_result"
    }
   ],
   "source": [
    "import pixeltable as pxt\n",
    "\n",
    "# Remove the 'deepseek_demo' directory and its contents, if it exists\n",
    "pxt.drop_dir('deepseek_demo', force=True)\n",
    "pxt.create_dir('deepseek_demo')"
   ]
  },
  {
   "cell_type": "markdown",
   "metadata": {
    "id": "0kmjJoDq9Oqe"
   },
   "source": [
    "## Messages\n",
    "\n",
    "Create a Table: In Pixeltable, create a table with columns to represent your input data and the columns where you want to store the results from Deepseek."
   ]
  },
  {
   "cell_type": "code",
   "execution_count": 2,
   "metadata": {
    "colab": {
     "base_uri": "https://localhost:8080/"
    },
    "id": "5ti10tXu5m3X",
    "outputId": "30848066-1e9b-4efd-aad7-b2271a031ec3"
   },
   "outputs": [
    {
     "name": "stdout",
     "output_type": "stream",
     "text": [
      "Created table `chat`.\n",
      "Added 0 column values with 0 errors.\n"
     ]
    },
    {
     "data": {
      "text/plain": [
       "UpdateStatus(num_rows=0, num_computed_values=0, num_excs=0, updated_cols=[], cols_with_excs=[])"
      ]
     },
     "execution_count": 2,
     "metadata": {},
     "output_type": "execute_result"
    }
   ],
   "source": [
    "from pixeltable.functions import deepseek\n",
    "\n",
    "# Create a table in Pixeltable and add a computed column that calls Deepseek\n",
    "\n",
    "t = pxt.create_table('deepseek_demo.chat', {'input': pxt.String})\n",
    "\n",
    "msgs = [{'role': 'user', 'content': t.input}]\n",
    "t.add_computed_column(output=deepseek.chat_completions(\n",
    "    messages=msgs,\n",
    "    model='deepseek-chat',\n",
    "))"
   ]
  },
  {
   "cell_type": "code",
   "execution_count": 3,
   "metadata": {
    "colab": {
     "base_uri": "https://localhost:8080/"
    },
    "id": "mePjoku95iUn",
    "outputId": "07c3f8f0-5301-44ba-ba33-25d10c3c26fa"
   },
   "outputs": [
    {
     "name": "stdout",
     "output_type": "stream",
     "text": [
      "Added 0 column values with 0 errors.\n"
     ]
    },
    {
     "data": {
      "text/plain": [
       "UpdateStatus(num_rows=0, num_computed_values=0, num_excs=0, updated_cols=[], cols_with_excs=[])"
      ]
     },
     "execution_count": 3,
     "metadata": {},
     "output_type": "execute_result"
    }
   ],
   "source": [
    "# Parse the response into a new column\n",
    "t.add_computed_column(response=t.output.choices[0].message.content)"
   ]
  },
  {
   "cell_type": "code",
   "execution_count": 4,
   "metadata": {
    "colab": {
     "base_uri": "https://localhost:8080/",
     "height": 599
    },
    "id": "IkMM7OYb5rQ_",
    "outputId": "8e94af3e-485c-49f2-d7ba-b5490ec83af9"
   },
   "outputs": [
    {
     "name": "stdout",
     "output_type": "stream",
     "text": [
      "Inserting rows into `chat`: 1 rows [00:00, 105.11 rows/s]\n",
      "Inserted 1 row with 0 errors.\n"
     ]
    },
    {
     "data": {
      "text/html": [
       "<table border=\"1\" class=\"dataframe\">\n",
       "  <thead>\n",
       "    <tr style=\"text-align: right;\">\n",
       "      <th>input</th>\n",
       "      <th>response</th>\n",
       "    </tr>\n",
       "  </thead>\n",
       "  <tbody>\n",
       "    <tr>\n",
       "      <td>What was the outcome of the 1904 US Presidential election?</td>\n",
       "      <td>The **1904 U.S. Presidential election** resulted in a decisive victory for the incumbent **Republican** President **Theodore Roosevelt**, who had assumed office in 1901 after the assassination of William McKinley. \n",
       "\n",
       "### **Key Results:**\n",
       "- **Theodore Roosevelt (Republican)** won **56.4%** of the popular vote and **336 electoral votes** (70.6% of the total).\n",
       "- **Alton B. Parker (Democrat)** received **37.6%** of the popular vote and **140 electoral votes**.\n",
       "- **Eugene V. Debs (Socialist)** and **Silas C. Swallow (Prohibition)** also ran but received minimal support.\n",
       "\n",
       "### **Significance:**\n",
       "- Roosevelt&#x27;s landslide victory solidified his leadership and progressive policies, including trust-busting and conservation efforts.\n",
       "- This was the first election in which a sitting president who had inherited the office (rather than being elected to it) won a full term in his own right.\n",
       "\n",
       "Roosevelt carried **32 of the 45 states**, demonstrating broad national support.</td>\n",
       "    </tr>\n",
       "  </tbody>\n",
       "</table>"
      ],
      "text/plain": [
       "                                               input  \\\n",
       "0  What was the outcome of the 1904 US Presidenti...   \n",
       "\n",
       "                                            response  \n",
       "0  The **1904 U.S. Presidential election** result...  "
      ]
     },
     "execution_count": 4,
     "metadata": {},
     "output_type": "execute_result"
    }
   ],
   "source": [
    "# Start a conversation\n",
    "t.insert(input=\"What was the outcome of the 1904 US Presidential election?\")\n",
    "t.select(t.input, t.response).show()"
   ]
  },
  {
   "cell_type": "markdown",
   "metadata": {
    "id": "lTtQcjKQAlis"
   },
   "source": [
    "### Learn More\n",
    "\n",
    "To learn more about advanced techniques like RAG operations in Pixeltable, check out the [RAG Operations in Pixeltable](https://pixeltable.readme.io/docs/rag-operations-in-pixeltable) tutorial.\n",
    "\n",
    "If you have any questions, don't hesitate to reach out."
   ]
  }
 ],
 "metadata": {
  "colab": {
   "provenance": []
  },
  "kernelspec": {
   "display_name": "Python 3 (ipykernel)",
   "language": "python",
   "name": "python3"
  },
  "language_info": {
   "codemirror_mode": {
    "name": "ipython",
    "version": 3
   },
   "file_extension": ".py",
   "mimetype": "text/x-python",
   "name": "python",
   "nbconvert_exporter": "python",
   "pygments_lexer": "ipython3",
   "version": "3.10.16"
  }
 },
 "nbformat": 4,
 "nbformat_minor": 4
}
