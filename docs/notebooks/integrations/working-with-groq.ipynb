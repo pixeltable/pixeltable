{
 "cells": [
  {
   "cell_type": "markdown",
   "id": "3e777354",
   "metadata": {},
   "source": [
    "[![Kaggle](https://kaggle.com/static/images/open-in-kaggle.svg)](https://kaggle.com/kernels/welcome?src=https://github.com/pixeltable/pixeltable/blob/release/docs/notebooks/integrations/working-with-groq.ipynb)&nbsp;&nbsp;\n",
    "[![Colab](https://colab.research.google.com/assets/colab-badge.svg)](https://colab.research.google.com/github/pixeltable/pixeltable/blob/release/docs/notebooks/integrations/working-with-groq.ipynb)&nbsp;&nbsp;\n",
    "<a href=\"https://raw.githubusercontent.com/pixeltable/pixeltable/release/docs/notebooks/integrations/working-with-groq.ipynb\" download><img src=\"https://img.shields.io/badge/%E2%AC%87-Download%20Notebook-blue\" alt=\"Download Notebook\"></a>\n",
    "\n",
    "# Working with Groq in Pixeltable\n",
    "\n",
    "Pixeltable's Groq integration enables you to access Groq models via the Groq API.\n",
    "\n",
    "### Prerequisites\n",
    "- A Groq account with an API key (https://console.groq.com/docs/quickstart)\n",
    "\n",
    "### Important Notes\n",
    "\n",
    "- Groq usage may incur costs based on your Groq plan.\n",
    "- Be mindful of sensitive data and consider security measures when integrating with external services."
   ]
  },
  {
   "cell_type": "markdown",
   "id": "8b2e6912-e936-4c3a-84a2-ba99950c9493",
   "metadata": {},
   "source": [
    "First you'll need to install required libraries and enter your OpenAI API key."
   ]
  },
  {
   "cell_type": "code",
   "execution_count": null,
   "id": "d5288926-c278-4cbc-815c-cbc0433bbf49",
   "metadata": {},
   "outputs": [],
   "source": [
    "%pip install -qU pixeltable groq"
   ]
  },
  {
   "cell_type": "code",
   "execution_count": null,
   "id": "385f6831-f029-42bb-99f1-652a809ffc6e",
   "metadata": {},
   "outputs": [],
   "source": [
    "import os\n",
    "import getpass\n",
    "if 'GROQ_API_KEY' not in os.environ:\n",
    "    os.environ['GROQ_API_KEY'] = getpass.getpass('Enter your Groq API key:')"
   ]
  },
  {
   "cell_type": "markdown",
   "id": "8d3dd131-22de-496c-9f02-ffd4515c20d3",
   "metadata": {},
   "source": [
    "Now let's create a Pixeltable directory to hold the tables for our demo."
   ]
  },
  {
   "cell_type": "code",
   "execution_count": 1,
   "id": "9bdc613f",
   "metadata": {},
   "outputs": [
    {
     "name": "stdout",
     "output_type": "stream",
     "text": [
      "Connected to Pixeltable database at: postgresql+psycopg://postgres:@/pixeltable?host=/Users/asiegel/.pixeltable/pgdata\n",
      "Created directory 'groq_demo'.\n"
     ]
    },
    {
     "data": {
      "text/plain": [
       "<pixeltable.catalog.dir.Dir at 0x30bb80b20>"
      ]
     },
     "execution_count": 1,
     "metadata": {},
     "output_type": "execute_result"
    }
   ],
   "source": [
    "import pixeltable as pxt\n",
    "\n",
    "# Remove the 'groq_demo' directory and its contents, if it exists\n",
    "pxt.drop_dir('groq_demo', force=True)\n",
    "pxt.create_dir('groq_demo')"
   ]
  },
  {
   "cell_type": "markdown",
   "id": "02f8595f-fb03-419f-9440-ee2ae784fd20",
   "metadata": {},
   "source": [
    "## Chat Completions\n",
    "\n",
    "Create a Table: In Pixeltable, create a table with columns to represent your input data and the columns where you want to store the results from Groq."
   ]
  },
  {
   "cell_type": "code",
   "execution_count": 2,
   "id": "342407c1",
   "metadata": {},
   "outputs": [
    {
     "name": "stdout",
     "output_type": "stream",
     "text": [
      "Created table `chat`.\n",
      "Added 0 column values with 0 errors.\n"
     ]
    },
    {
     "data": {
      "text/plain": [
       "UpdateStatus(num_rows=0, num_computed_values=0, num_excs=0, updated_cols=[], cols_with_excs=[])"
      ]
     },
     "execution_count": 2,
     "metadata": {},
     "output_type": "execute_result"
    }
   ],
   "source": [
    "from pixeltable.functions import groq\n",
    "\n",
    "# Create a table in Pixeltable and add a computed column that calls OpenAI\n",
    "\n",
    "t = pxt.create_table('groq_demo.chat', {'input': pxt.String})\n",
    "\n",
    "messages = [{'role': 'user', 'content': t.input}]\n",
    "t.add_computed_column(output=groq.chat_completions(\n",
    "    messages=messages,\n",
    "    model='llama3-8b-8192',\n",
    "    model_kwargs={\n",
    "        # Optional dict with parameters for the Groq API\n",
    "        'max_tokens': 300,\n",
    "        'top_p': 0.9,\n",
    "        'temperature': 0.7\n",
    "    }\n",
    "))"
   ]
  },
  {
   "cell_type": "code",
   "execution_count": 3,
   "id": "c5f0b862",
   "metadata": {},
   "outputs": [
    {
     "name": "stdout",
     "output_type": "stream",
     "text": [
      "Added 0 column values with 0 errors.\n"
     ]
    },
    {
     "data": {
      "text/plain": [
       "UpdateStatus(num_rows=0, num_computed_values=0, num_excs=0, updated_cols=[], cols_with_excs=[])"
      ]
     },
     "execution_count": 3,
     "metadata": {},
     "output_type": "execute_result"
    }
   ],
   "source": [
    "# Parse the response into a new column\n",
    "t.add_computed_column(response=t.output.choices[0].message.content)"
   ]
  },
  {
   "cell_type": "code",
   "execution_count": 4,
   "id": "15c9bc76-1b28-4d17-9a2d-339968f90786",
   "metadata": {},
   "outputs": [
    {
     "name": "stdout",
     "output_type": "stream",
     "text": [
      "Inserting rows into `chat`: 1 rows [00:00, 76.95 rows/s]\n",
      "Inserted 1 row with 0 errors.\n"
     ]
    },
    {
     "data": {
      "text/html": [
       "<table border=\"1\" class=\"dataframe\">\n",
       "  <thead>\n",
       "    <tr style=\"text-align: right;\">\n",
       "      <th>input</th>\n",
       "      <th>response</th>\n",
       "    </tr>\n",
       "  </thead>\n",
       "  <tbody>\n",
       "    <tr>\n",
       "      <td>How many islands are in the Aleutian island chain?</td>\n",
       "      <td>The Aleutian Island chain is a part of Alaska, United States, and it stretches for approximately 1,200 miles (1,950 km) westward from the Alaska Peninsula toward Japan. The chain consists of more than 300 islands, with the largest island being Unimak Island.\n",
       "\n",
       "According to the Alaska Geographic Society, there are 314 islands in the Aleutian Island chain, although the exact number can vary depending on how the islands are defined and counted. Some sources may group certain islands together or recognize smaller islands that others do not.\n",
       "\n",
       "The Aleutian Islands are a remote and rugged chain, with many of the islands being uninhabited. The islands are volcanic in origin, and they are home to a diverse range of wildlife, including sea otters, puffins, and brown bears.</td>\n",
       "    </tr>\n",
       "  </tbody>\n",
       "</table>"
      ],
      "text/plain": [
       "                                               input  \\\n",
       "0  How many islands are in the Aleutian island ch...   \n",
       "\n",
       "                                            response  \n",
       "0  The Aleutian Island chain is a part of Alaska,...  "
      ]
     },
     "execution_count": 4,
     "metadata": {},
     "output_type": "execute_result"
    }
   ],
   "source": [
    "# Start a conversation\n",
    "t.insert(input=\"How many islands are in the Aleutian island chain?\")\n",
    "t.select(t.input, t.response).head()"
   ]
  },
  {
   "cell_type": "markdown",
   "id": "622c2abd-8709-452a-b773-18fb28d180ce",
   "metadata": {},
   "source": [
    "### Learn More\n",
    "\n",
    "To learn more about advanced techniques like RAG operations in Pixeltable, check out the [RAG Operations in Pixeltable](https://pixeltable.readme.io/docs/rag-operations-in-pixeltable) tutorial.\n",
    "\n",
    "If you have any questions, don't hesitate to reach out."
   ]
  }
 ],
 "metadata": {
  "kernelspec": {
   "display_name": "Python 3 (ipykernel)",
   "language": "python",
   "name": "python3"
  },
  "language_info": {
   "codemirror_mode": {
    "name": "ipython",
    "version": 3
   },
   "file_extension": ".py",
   "mimetype": "text/x-python",
   "name": "python",
   "nbconvert_exporter": "python",
   "pygments_lexer": "ipython3",
   "version": "3.10.16"
  }
 },
 "nbformat": 4,
 "nbformat_minor": 5
}
