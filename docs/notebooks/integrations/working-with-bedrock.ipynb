{
 "cells": [
  {
   "cell_type": "markdown",
   "metadata": {
    "id": "983yjns496tx"
   },
   "source": [
    "[![Kaggle](https://kaggle.com/static/images/open-in-kaggle.svg)](https://kaggle.com/kernels/welcome?src=https://github.com/pixeltable/pixeltable/blob/release/docs/notebooks/integrations/working-with-bedrock.ipynb)&nbsp;&nbsp;\n",
    "[![Colab](https://colab.research.google.com/assets/colab-badge.svg)](https://colab.research.google.com/github/pixeltable/pixeltable/blob/release/docs/notebooks/integrations/working-with-bedrock.ipynb)&nbsp;&nbsp;\n",
    "<a href=\"https://raw.githubusercontent.com/pixeltable/pixeltable/release/docs/notebooks/integrations/working-with-bedrock.ipynb\" download><img src=\"https://img.shields.io/badge/%E2%AC%87-Download%20Notebook-blue\" alt=\"Download Notebook\"></a>\n",
    "\n",
    "# Working with Bedrock in Pixeltable\n",
    "\n",
    "Pixeltable's Bedrock integration enables you to access AWS Bedrock via the Bedrock API.\n",
    "\n",
    "### Prerequisites\n",
    "\n",
    "- Activate Bedrock in your AWS account.\n",
    "- Request access to your desired models (e.g. Claude Sonnet 3.7, Amazon Nova Pro)\n",
    "- Optional - you may need to configure AWS CLI locally to authenticate with your AWS account.\n",
    "\n",
    "### Important Notes\n",
    "\n",
    "- Bedrock usage may incur costs based on your Bedrock plan.\n",
    "- Be mindful of sensitive data and consider security measures when integrating with external services.\n",
    "\n",
    "First you'll need to install required libraries and enter an Bedrock API key."
   ]
  },
  {
   "cell_type": "code",
   "execution_count": null,
   "metadata": {
    "colab": {
     "base_uri": "https://localhost:8080/"
    },
    "id": "9pckrD01ik-e",
    "outputId": "060b8b32-48a6-48a0-e720-4eacf94d83ef"
   },
   "outputs": [],
   "source": [
    "%pip install -qU pixeltable boto3 duckduckgo-search"
   ]
  },
  {
   "cell_type": "code",
   "execution_count": null,
   "metadata": {},
   "outputs": [],
   "source": [
    "import os\n",
    "import getpass\n",
    "\n",
    "if 'AWS_ACCESS_KEY' not in os.environ:\n",
    "    os.environ['AWS_ACCESS_KEY'] = getpass.getpass('Enter your AWS Access Key:')\n",
    "\n",
    "if 'AWS_SECRET_ACCESS_KEY' not in os.environ:\n",
    "    os.environ['AWS_SECRET_ACCESS_KEY'] = getpass.getpass('Enter your AWS Secret Access Key:')"
   ]
  },
  {
   "cell_type": "markdown",
   "metadata": {},
   "source": [
    "Now let's create a Pixeltable directory to hold the tables for our demo."
   ]
  },
  {
   "cell_type": "code",
   "execution_count": 55,
   "metadata": {
    "colab": {
     "base_uri": "https://localhost:8080/"
    },
    "id": "brtjK-88tTSS",
    "outputId": "55d08c91-438a-4c3e-c217-3cea72faca11"
   },
   "outputs": [
    {
     "name": "stdout",
     "output_type": "stream",
     "text": [
      "Created directory 'bedrock_demo'.\n"
     ]
    },
    {
     "data": {
      "text/plain": [
       "<pixeltable.catalog.dir.Dir at 0x1d4253ae930>"
      ]
     },
     "execution_count": 55,
     "metadata": {},
     "output_type": "execute_result"
    }
   ],
   "source": [
    "import pixeltable as pxt\n",
    "\n",
    "# Remove the `bedrock_demo` directory and its contents, if it exists\n",
    "pxt.drop_dir('bedrock_demo', force=True)\n",
    "pxt.create_dir('bedrock_demo')"
   ]
  },
  {
   "cell_type": "markdown",
   "metadata": {
    "id": "0kmjJoDq9Oqe"
   },
   "source": [
    "## Basic Messages\n",
    "\n",
    "Create a Table: In Pixeltable, create a table with columns to represent your input data and the columns where you want to store the results from Bedrock."
   ]
  },
  {
   "cell_type": "code",
   "execution_count": 56,
   "metadata": {
    "colab": {
     "base_uri": "https://localhost:8080/"
    },
    "id": "5ti10tXu5m3X",
    "outputId": "30848066-1e9b-4efd-aad7-b2271a031ec3"
   },
   "outputs": [
    {
     "name": "stdout",
     "output_type": "stream",
     "text": [
      "Created table `chat`.\n",
      "Added 0 column values with 0 errors.\n"
     ]
    },
    {
     "data": {
      "text/plain": [
       "UpdateStatus(num_rows=0, num_computed_values=0, num_excs=0, updated_cols=[], cols_with_excs=[])"
      ]
     },
     "execution_count": 56,
     "metadata": {},
     "output_type": "execute_result"
    }
   ],
   "source": [
    "from pixeltable.functions import bedrock\n",
    "\n",
    "# Create a table in Pixeltable and pick a model hosted on Bedrock with some parameters\n",
    "\n",
    "t = pxt.create_table('bedrock_demo.chat', {'input': pxt.String})\n",
    "\n",
    "msgs = [{'role': 'user', 'content': t.input}]\n",
    "t.add_computed_column(output=bedrock.converse(\n",
    "        model_id=\"amazon.nova-pro-v1:0\",\n",
    "        messages=[\n",
    "            {\n",
    "                'role': 'user',\n",
    "                'content': [\n",
    "                    {\n",
    "                        'text': t.input,\n",
    "                    }\n",
    "                ]\n",
    "            }\n",
    "        ],\n",
    "    ))"
   ]
  },
  {
   "cell_type": "code",
   "execution_count": 57,
   "metadata": {
    "colab": {
     "base_uri": "https://localhost:8080/"
    },
    "id": "mePjoku95iUn",
    "outputId": "07c3f8f0-5301-44ba-ba33-25d10c3c26fa"
   },
   "outputs": [
    {
     "name": "stdout",
     "output_type": "stream",
     "text": [
      "Added 0 column values with 0 errors.\n"
     ]
    },
    {
     "data": {
      "text/plain": [
       "UpdateStatus(num_rows=0, num_computed_values=0, num_excs=0, updated_cols=[], cols_with_excs=[])"
      ]
     },
     "execution_count": 57,
     "metadata": {},
     "output_type": "execute_result"
    }
   ],
   "source": [
    "# Parse the response into a new column\n",
    "t.add_computed_column(response=t.output.output.message.content[0].text)"
   ]
  },
  {
   "cell_type": "code",
   "execution_count": 58,
   "metadata": {
    "colab": {
     "base_uri": "https://localhost:8080/",
     "height": 599
    },
    "id": "IkMM7OYb5rQ_",
    "outputId": "8e94af3e-485c-49f2-d7ba-b5490ec83af9"
   },
   "outputs": [
    {
     "name": "stdout",
     "output_type": "stream",
     "text": [
      "Inserting rows into `chat`: 1 rows [00:00, 147.54 rows/s]\n",
      "Inserted 1 row with 0 errors.\n"
     ]
    },
    {
     "data": {
      "text/html": [
       "<table border=\"1\" class=\"dataframe\">\n",
       "  <thead>\n",
       "    <tr style=\"text-align: right;\">\n",
       "      <th>input</th>\n",
       "      <th>response</th>\n",
       "    </tr>\n",
       "  </thead>\n",
       "  <tbody>\n",
       "    <tr>\n",
       "      <td>What was the outcome of the 1904 US Presidential election?</td>\n",
       "      <td>The 1904 United States Presidential election was held on November 8, 1904. The outcome was a victory for the incumbent President, Theodore Roosevelt, who ran as the Republican candidate. Here are the key details of the election:\n",
       "\n",
       "### Candidates:\n",
       "- **Theodore Roosevelt (Republican Party)**: Incumbent President who had assumed office in 1901 following the assassination of President William McKinley.\n",
       "- **Alton B. Parker (Democratic Party)**: A New York judge and the Democratic nominee.\n",
       "- **Euge ...... actions and conservation efforts, were popular.\n",
       "2. **Economic Prosperity**: The country was experiencing economic growth, which benefited the incumbent.\n",
       "3. **Personal Popularity**: Roosevelt’s dynamic personality and vigorous campaign style resonated with the public.\n",
       "\n",
       "Roosevelt’s win in 1904 allowed him to implement his &quot;Square Deal&quot; domestic program and continue his foreign policy initiatives, including the construction of the Panama Canal and increased American influence in global affairs.</td>\n",
       "    </tr>\n",
       "  </tbody>\n",
       "</table>"
      ],
      "text/plain": [
       "                                               input  \\\n",
       "0  What was the outcome of the 1904 US Presidenti...   \n",
       "\n",
       "                                            response  \n",
       "0  The 1904 United States Presidential election w...  "
      ]
     },
     "execution_count": 58,
     "metadata": {},
     "output_type": "execute_result"
    }
   ],
   "source": [
    "# Start a conversation\n",
    "t.insert(input=\"What was the outcome of the 1904 US Presidential election?\")\n",
    "t.select(t.input, t.response).show()"
   ]
  },
  {
   "cell_type": "markdown",
   "metadata": {},
   "source": [
    "## Advanced: Tool-based Agent with Bedrock\n",
    "\n",
    "Now let's create a more advanced example using Bedrock with tools for news search and weather information."
   ]
  },
  {
   "cell_type": "code",
   "execution_count": 59,
   "metadata": {},
   "outputs": [
    {
     "name": "stdout",
     "output_type": "stream",
     "text": [
      "Created directory 'agents'.\n"
     ]
    },
    {
     "data": {
      "text/plain": [
       "<pixeltable.catalog.dir.Dir at 0x1d4252acdd0>"
      ]
     },
     "execution_count": 59,
     "metadata": {},
     "output_type": "execute_result"
    }
   ],
   "source": [
    "import pixeltable as pxt\n",
    "import pixeltable.functions as pxtf\n",
    "from pixeltable.functions.bedrock import converse, invoke_tools\n",
    "from duckduckgo_search import DDGS\n",
    "\n",
    "# Initialize app structure\n",
    "pxt.drop_dir(\"agents\", force=True)\n",
    "pxt.create_dir(\"agents\")"
   ]
  },
  {
   "cell_type": "code",
   "execution_count": 60,
   "metadata": {},
   "outputs": [],
   "source": [
    "# Define tools\n",
    "@pxt.udf\n",
    "def search_news(keywords: str, max_results: int) -> str:\n",
    "    \"\"\"Search news using DuckDuckGo and return results.\"\"\"\n",
    "    try:\n",
    "        with DDGS() as ddgs:\n",
    "            results = ddgs.news(\n",
    "                keywords=keywords,\n",
    "                region=\"wt-wt\",\n",
    "                safesearch=\"off\",\n",
    "                timelimit=\"m\",\n",
    "                max_results=max_results,\n",
    "            )\n",
    "            formatted_results = []\n",
    "            for i, r in enumerate(results, 1):\n",
    "                formatted_results.append(\n",
    "                    f\"{i}. Title: {r['title']}\\n\"\n",
    "                    f\"   Source: {r['source']}\\n\"\n",
    "                    f\"   Published: {r['date']}\\n\"\n",
    "                    f\"   Snippet: {r['body']}\\n\"\n",
    "                )\n",
    "            return \"\\n\".join(formatted_results)\n",
    "    except Exception as e:\n",
    "        return f\"Search failed: {str(e)}\"\n",
    "\n",
    "@pxt.udf\n",
    "def get_weather(location: str) -> str:\n",
    "    \"\"\"Mock weather function - replace with actual API call.\"\"\"\n",
    "    return f\"Current weather in {location}: 72°F, Partly Cloudy\"\n",
    "\n",
    "# Register all tools\n",
    "tools = pxt.tools(search_news, get_weather)"
   ]
  },
  {
   "cell_type": "code",
   "execution_count": 61,
   "metadata": {},
   "outputs": [
    {
     "name": "stdout",
     "output_type": "stream",
     "text": [
      "Created table `tools`.\n",
      "Added 0 column values with 0 errors.\n",
      "Added 0 column values with 0 errors.\n"
     ]
    },
    {
     "data": {
      "text/plain": [
       "UpdateStatus(num_rows=0, num_computed_values=0, num_excs=0, updated_cols=[], cols_with_excs=[])"
      ]
     },
     "execution_count": 61,
     "metadata": {},
     "output_type": "execute_result"
    }
   ],
   "source": [
    "# Create base table\n",
    "tool_agent = pxt.create_table(\n",
    "    \"agents.tools\", \n",
    "    {\"prompt\": pxt.String}, \n",
    "    if_exists=\"ignore\"\n",
    ")\n",
    "\n",
    "# Add tool selection and execution workflow\n",
    "tool_agent.add_computed_column(\n",
    "    initial_response=converse(\n",
    "        model_id=\"amazon.nova-pro-v1:0\",\n",
    "        messages=[\n",
    "            {\n",
    "                'role': 'user',\n",
    "                'content': [\n",
    "                    {\n",
    "                        'text': tool_agent.prompt,\n",
    "                    }\n",
    "                ]\n",
    "            }\n",
    "        ],\n",
    "        tool_config=tools,\n",
    "    )\n",
    ")\n",
    "\n",
    "# Add tool execution\n",
    "tool_agent.add_computed_column(\n",
    "    tool_output=invoke_tools(tools, tool_agent.initial_response)\n",
    ")"
   ]
  },
  {
   "cell_type": "code",
   "execution_count": 62,
   "metadata": {},
   "outputs": [
    {
     "name": "stdout",
     "output_type": "stream",
     "text": [
      "Added 0 column values with 0 errors.\n",
      "Added 0 column values with 0 errors.\n",
      "Added 0 column values with 0 errors.\n"
     ]
    },
    {
     "data": {
      "text/plain": [
       "UpdateStatus(num_rows=0, num_computed_values=0, num_excs=0, updated_cols=[], cols_with_excs=[])"
      ]
     },
     "execution_count": 62,
     "metadata": {},
     "output_type": "execute_result"
    }
   ],
   "source": [
    "# Add response formatting\n",
    "tool_agent.add_computed_column(\n",
    "    tool_response_prompt=pxtf.string.format(\n",
    "        \"Orginal Prompt\\n{0}: Tool Output\\n{1}\", \n",
    "        tool_agent.prompt, \n",
    "        tool_agent.tool_output\n",
    "    ),\n",
    "    if_exists=\"ignore\",\n",
    ")\n",
    "\n",
    "# Add final response generation\n",
    "tool_agent.add_computed_column(\n",
    "    final_response=converse(\n",
    "        model_id=\"amazon.nova-pro-v1:0\",\n",
    "        messages=[\n",
    "            {\n",
    "                'role': 'user',\n",
    "                'content': [\n",
    "                    {\n",
    "                        'text': tool_agent.tool_response_prompt,\n",
    "                    }\n",
    "                ]\n",
    "            }\n",
    "        ]\n",
    "    )\n",
    ")\n",
    "\n",
    "tool_agent.add_computed_column(\n",
    "    answer=tool_agent.final_response.output.message.content[0].text\n",
    ")"
   ]
  },
  {
   "cell_type": "code",
   "execution_count": 63,
   "metadata": {},
   "outputs": [
    {
     "name": "stdout",
     "output_type": "stream",
     "text": [
      "Inserting rows into `tools`: 1 rows [00:00, 168.89 rows/s]\n",
      "Inserted 1 row with 0 errors.\n",
      "\n",
      "Query: What's the latest news about SpaceX?\n",
      "Answer: Here's the latest news about SpaceX:\n",
      "\n",
      "1. **Starbase City Proposal**:\n",
      "   - **Title**: The home of Elon Musk's SpaceX could become an official Texas city called Starbase\n",
      "   - **Source**: The Associated Press\n",
      "   - **Published**: 2025-04-30\n",
      "   - **Snippet**: An election is scheduled for Saturday to determine whether a small area of coastal South Texas, which is home to SpaceX, will become an official city named Starbase.\n",
      "\n",
      "2. **250th Starlink Satellite Mission**:\n",
      "   - **Title**: SpaceX launches 250th Starlink satellite mission, lands rocket at sea (video, photos)\n",
      "   - **Source**: Space.com\n",
      "   - **Published**: 2025-04-28\n",
      "   - **Snippet**: SpaceX achieved a milestone by launching its 250th Starlink mission. A Falcon 9 rocket carrying 23 Starlink satellites, including 13 with direct-to-cell capability, lifted off from Cape Canaveral Space Force Station.\n",
      "\n",
      "3. **Back-to-Back Starlink Launches**:\n",
      "   - **Title**: SpaceX Falcon 9 rocket launches 1st of 2 planned Starlink launches in 2 days, lands booster at sea (video)\n",
      "   - **Source**: Space.com\n",
      "   - **Published**: 2025-04-28\n",
      "   - **Snippet**: SpaceX conducted its 49th Falcon 9 mission of 2025 and has another Starlink launch scheduled for later that night from Cape Canaveral Space Force Station.\n",
      "\n",
      "4. **Amazon’s Satellite Internet Competition**:\n",
      "   - **Title**: Amazon Just Launched Its First Internet Satellites to Compete Against SpaceX's Starlink\n",
      "   - **Source**: The Associated Press\n",
      "   - **Published**: 2025-04-29\n",
      "   - **Snippet**: Amazon launched its first set of internet satellites using an Atlas V rocket, aiming to compete with SpaceX's Starlink.\n",
      "\n",
      "5. **Recent Starlink Satellite Launch**:\n",
      "   - **Title**: SpaceX launches batch of Starlink satellites into low-Earth orbit\n",
      "   - **Source**: UPI\n",
      "   - **Published**: 2025-04-28\n",
      "   - **Snippet**: SpaceX launched a Falcon 9 rocket carrying nearly two dozen Starlink satellites into low-Earth orbit from Florida's east coast.\n",
      "Inserting rows into `tools`: 1 rows [00:00, 363.87 rows/s]\n",
      "Inserted 1 row with 0 errors.\n",
      "\n",
      "Query: What's the weather in San Francisco?\n",
      "Answer: Based on the tool output provided, here's the current weather in San Francisco:\n",
      "\n",
      "- **Temperature:** 72°F\n",
      "- **Condition:** Partly Cloudy\n",
      "\n",
      "If you need more detailed information or a forecast for the upcoming days, feel free to ask!\n"
     ]
    },
    {
     "data": {
      "text/html": [
       "<table border=\"1\" class=\"dataframe\">\n",
       "  <thead>\n",
       "    <tr style=\"text-align: right;\">\n",
       "      <th>prompt</th>\n",
       "      <th>answer</th>\n",
       "    </tr>\n",
       "  </thead>\n",
       "  <tbody>\n",
       "    <tr>\n",
       "      <td>What&#x27;s the latest news about SpaceX?</td>\n",
       "      <td>Here&#x27;s the latest news about SpaceX:\n",
       "\n",
       "1. **Starbase City Proposal**:\n",
       "   - **Title**: The home of Elon Musk&#x27;s SpaceX could become an official Texas city called Starbase\n",
       "   - **Source**: The Associated Press\n",
       "   - **Published**: 2025-04-30\n",
       "   - **Snippet**: An election is scheduled for Saturday to determine whether a small area of coastal South Texas, which is home to SpaceX, will become an official city named Starbase.\n",
       "\n",
       "2. **250th Starlink Satellite Mission**:\n",
       "   - **Title**: SpaceX launches 2 ...... Press\n",
       "   - **Published**: 2025-04-29\n",
       "   - **Snippet**: Amazon launched its first set of internet satellites using an Atlas V rocket, aiming to compete with SpaceX&#x27;s Starlink.\n",
       "\n",
       "5. **Recent Starlink Satellite Launch**:\n",
       "   - **Title**: SpaceX launches batch of Starlink satellites into low-Earth orbit\n",
       "   - **Source**: UPI\n",
       "   - **Published**: 2025-04-28\n",
       "   - **Snippet**: SpaceX launched a Falcon 9 rocket carrying nearly two dozen Starlink satellites into low-Earth orbit from Florida&#x27;s east coast.</td>\n",
       "    </tr>\n",
       "    <tr>\n",
       "      <td>What&#x27;s the weather in San Francisco?</td>\n",
       "      <td>Based on the tool output provided, here&#x27;s the current weather in San Francisco:\n",
       "\n",
       "- **Temperature:** 72°F\n",
       "- **Condition:** Partly Cloudy\n",
       "\n",
       "If you need more detailed information or a forecast for the upcoming days, feel free to ask!</td>\n",
       "    </tr>\n",
       "  </tbody>\n",
       "</table>"
      ],
      "text/plain": [
       "                                 prompt  \\\n",
       "0  What's the latest news about SpaceX?   \n",
       "1  What's the weather in San Francisco?   \n",
       "\n",
       "                                              answer  \n",
       "0  Here's the latest news about SpaceX:\\n\\n1. **S...  \n",
       "1  Based on the tool output provided, here's the ...  "
      ]
     },
     "execution_count": 63,
     "metadata": {},
     "output_type": "execute_result"
    }
   ],
   "source": [
    "# Example queries using different tools\n",
    "queries = [\n",
    "    \"What's the latest news about SpaceX?\",\n",
    "    \"What's the weather in San Francisco?\",\n",
    "]\n",
    "\n",
    "# Use the agent\n",
    "for query in queries:\n",
    "    tool_agent.insert(prompt=query)\n",
    "    result = tool_agent.select(\n",
    "        tool_agent.prompt,\n",
    "        tool_agent.tool_output,\n",
    "        tool_agent.answer\n",
    "    ).tail(1)\n",
    "    print(f\"\\nQuery: {query}\")\n",
    "    print(f\"Answer: {result['answer'][0]}\")\n",
    "\n",
    "# Display the full table\n",
    "tool_agent.select(tool_agent.prompt, tool_agent.answer).show()"
   ]
  },
  {
   "cell_type": "markdown",
   "metadata": {
    "id": "lTtQcjKQAlis"
   },
   "source": [
    "## How It Works\n",
    "\n",
    "This notebook demonstrates two key Bedrock integration patterns:\n",
    "\n",
    "1. **Basic Message Completion**: Using the `bedrock.messages()` function to generate responses from Bedrock models.\n",
    "\n",
    "2. **Tool-based Agent**: Using `bedrock.converse()` and `bedrock.invoke_tools()` to create an agent that can:\n",
    "   - Analyze user queries\n",
    "   - Select appropriate tools (news search or weather)\n",
    "   - Execute the tools to retrieve information\n",
    "   - Generate a final response based on the tool output\n",
    "\n",
    "This pattern demonstrates how Pixeltable can be used as an agent engineering framework, allowing you to create complex, multi-step workflows with LLMs and external tools.\n",
    "\n",
    "### Learn More\n",
    "\n",
    "To learn more about advanced techniques like RAG operations in Pixeltable, check out the [RAG Operations in Pixeltable](https://pixeltable.readme.io/docs/rag-operations-in-pixeltable) tutorial.\n",
    "\n",
    "For more on agent engineering with Pixeltable, see the [PixelAgent documentation](https://pixeltable.readme.io/docs/pixelagent).\n",
    "\n",
    "If you have any questions, don't hesitate to reach out."
   ]
  }
 ],
 "metadata": {
  "colab": {
   "provenance": []
  },
  "kernelspec": {
   "display_name": ".venv",
   "language": "python",
   "name": "python3"
  },
  "language_info": {
   "codemirror_mode": {
    "name": "ipython",
    "version": 3
   },
   "file_extension": ".py",
   "mimetype": "text/x-python",
   "name": "python",
   "nbconvert_exporter": "python",
   "pygments_lexer": "ipython3",
   "version": "3.13.1"
  }
 },
 "nbformat": 4,
 "nbformat_minor": 4
}
