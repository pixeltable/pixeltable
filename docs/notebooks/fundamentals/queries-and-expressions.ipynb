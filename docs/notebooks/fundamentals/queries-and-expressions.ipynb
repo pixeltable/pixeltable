{
 "cells": [
  {
   "cell_type": "markdown",
   "id": "ba79d33d-7ae2-4f0a-94c3-783f799e1ff4",
   "metadata": {},
   "source": [
    "[![Kaggle](https://kaggle.com/static/images/open-in-kaggle.svg)](https://kaggle.com/kernels/welcome?src=https://github.com/pixeltable/pixeltable/blob/release/docs/notebooks/fundamentals/queries-and-expressions.ipynb)&nbsp;&nbsp;\n",
    "[![Colab](https://colab.research.google.com/assets/colab-badge.svg)](https://colab.research.google.com/github/pixeltable/pixeltable/blob/release/docs/notebooks/fundamentals/queries-and-expressions.ipynb)&nbsp;&nbsp;\n",
    "<a href=\"https://raw.githubusercontent.com/pixeltable/pixeltable/release/docs/notebooks/fundamentals/queries-and-expressions.ipynb\" download><img src=\"https://img.shields.io/badge/%E2%AC%87-Download%20Notebook-blue\" alt=\"Download Notebook\"></a>\n",
    "\n",
    "# Pixeltable Fundamentals\n",
    "\n",
    "## Section 3: Queries and Expressions\n",
    "\n",
    "Welcome to Section 3 of the __Pixeltable Fundamentals__ tutorial, __Queries and Expressions__.\n",
    "\n",
    "In the previous section of this tutorial, [Computed Columns](https://docs.pixeltable.com/docs/computed-columns), we saw how to issue queries over Pixeltable tables, such as:\n",
    "\n",
    "```python\n",
    "pop_t.select(yoy_change=(pop_t.pop_2023 - pop_t.pop_2022)).collect()\n",
    "```\n",
    "\n",
    "We also saw how to define __computed columns__ that become part of the table and are updated automatically when new rows are inserted:\n",
    "\n",
    "```python\n",
    "pop_t.add_column(yoy_change=(pop_t.pop_2023 - pop_t.pop_2022))\n",
    "```\n",
    "\n",
    "Both these examples use the __Pixeltable expression__ `pop_t.pop_2023 - pop_t.pop_2022`. We've seen a number of other expressions as well, such as the chain of image operations\n",
    "\n",
    "```python\n",
    "t.source.convert('RGBA').rotate(10)\n",
    "```\n",
    "\n",
    "and the model invocation\n",
    "\n",
    "```python\n",
    "detr_for_object_detection(\n",
    "    t.source,\n",
    "    model_id='facebook/detr-resnet-50',\n",
    "    threshold=0.8\n",
    ")\n",
    "```\n",
    "\n",
    "Expressions are the basic building blocks of Pixeltable workloads. An expression can be included in a `select()` statement, which will cause it to be evaluated dynamically, or in an `add_column()` statement, which will add it to the table schema as a computed column. In this section, we'll dive deeper into the different kinds of Pixeltable expressions and their uses. We'll:\n",
    "\n",
    "- Understand the relationship between Pixeltable expressions and query execution\n",
    "- Survey the different types of expressions\n",
    "- Learn more about the Pixeltable type system\n",
    "\n",
    "To get started, let's import the necessary libraries for this tutorial and set up a demo directory."
   ]
  },
  {
   "cell_type": "code",
   "execution_count": null,
   "id": "af95c4aa-7905-44e9-b387-af512c347b68",
   "metadata": {},
   "outputs": [],
   "source": [
    "%pip install -qU pixeltable datasets torch transformers"
   ]
  },
  {
   "cell_type": "code",
   "execution_count": 1,
   "id": "7c14c1fe-83fb-48dd-a766-a2b22c9d214a",
   "metadata": {},
   "outputs": [
    {
     "name": "stdout",
     "output_type": "stream",
     "text": [
      "Connected to Pixeltable database at: postgresql+psycopg://postgres:@/pixeltable?host=/Users/asiegel/.pixeltable/pgdata\n",
      "Created directory `demo`.\n"
     ]
    },
    {
     "data": {
      "text/plain": [
       "<pixeltable.catalog.dir.Dir at 0x3274086a0>"
      ]
     },
     "execution_count": 1,
     "metadata": {},
     "output_type": "execute_result"
    }
   ],
   "source": [
    "import pixeltable as pxt\n",
    "\n",
    "pxt.drop_dir('demo', force=True)\n",
    "pxt.create_dir('demo')"
   ]
  },
  {
   "cell_type": "markdown",
   "id": "ba3ff2d8-aafd-45af-b3e0-a86716ccb63a",
   "metadata": {},
   "source": [
    "In this tutorial we're going to work with a subset of the MNIST dataset, a classic reference database of hand-drawn digits. A copy of the MNIST dataset is hosted on the Hugging Face datasets repository, so wecan  use Pixeltable's built-in Hugging Face data importer to load it into a Pixeltable table."
   ]
  },
  {
   "cell_type": "code",
   "execution_count": 2,
   "id": "c515c6ba-959f-4da0-9bba-872acf2a845c",
   "metadata": {},
   "outputs": [
    {
     "name": "stdout",
     "output_type": "stream",
     "text": [
      "Created table `mnist_tmp_69154325`.\n",
      "Inserting rows into `mnist_tmp_69154325`: 50 rows [00:00, 15723.14 rows/s]\n",
      "Inserted 50 rows with 0 errors.\n"
     ]
    }
   ],
   "source": [
    "import datasets\n",
    "\n",
    "# Download the first 50 images of the MNIST dataset\n",
    "ds = datasets.load_dataset('ylecun/mnist', split='train[:50]')\n",
    "\n",
    "# Import them into a Pixeltable table\n",
    "t = pxt.io.import_huggingface_dataset('demo.mnist', ds)"
   ]
  },
  {
   "cell_type": "code",
   "execution_count": 3,
   "id": "57119aee-d513-4489-a3b5-44f5e2988636",
   "metadata": {},
   "outputs": [
    {
     "data": {
      "text/html": [
       "<table border=\"1\" class=\"dataframe\">\n",
       "  <thead>\n",
       "    <tr style=\"text-align: right;\">\n",
       "      <th>image</th>\n",
       "      <th>label</th>\n",
       "    </tr>\n",
       "  </thead>\n",
       "  <tbody>\n",
       "    <tr>\n",
       "      <td><div class=\"pxt_image\" style=\"width:28px;\">\n",
       "                <img src=\"data:image/webp;base64,UklGRjQBAABXRUJQVlA4ICgBAADQBwCdASocABwAPm0wk0ckIyGhKAqogA2JaQATgDkgzcc0Q/qv5Mz5jyK/LHsAfqH/nE8VZwAZu/HNrmpfPK9PqD2yiBgAAAD+/5KsWrCrq9/+//uA5BBHAanH6EKeyCUbw/JEgElql69/9PFyh5Of0/yJ/g1hJ4xNv2eQvCf8fZCYANnho/vwZ88x1zLxm0uHAAqzErrn/ehXSb8I91evqhdrxJv+t+MJ+LAdoxg52UMCJO9asqLG74qmRFwBtwYmLD1qdhs5gA1+mxfu7DEmhoP3Zse+KW10ZX08J4wbCO4c25065frFQq3OieIh4HN9Tigr1hbBN7TjDDNqOJ0yiJXf11Zk6nwdufeBnF1Z3f+1x3lqj0oxvGQ3cBj382LzdHIrvMgAAA==\" width=\"28\" />\n",
       "            </div></td>\n",
       "      <td>5</td>\n",
       "    </tr>\n",
       "    <tr>\n",
       "      <td><div class=\"pxt_image\" style=\"width:28px;\">\n",
       "                <img src=\"data:image/webp;base64,UklGRiQBAABXRUJQVlA4IBgBAADwBwCdASocABwAPm0skEWkIqGYDAYAQAbEtIAIo/9QxwP7NnAHPuZr3mb/VeqL6M3Uq/qqW6nbIzaK/81eOzr0bbbxa+zvuAAA/v72Q3GuFGAD647Uhmi3XcgQoGdu0UqHvqH8f30LmVKupO/7WTRq0i24h/jgzohv3bnndohaOxGyqEvvOYAikAolsRjBMDfq6CaATYlYkJj5P/PYajfMb9AfbAhm9Tb4cPtzk32RJAR8zay3gK9xkPfYZLRnpq6918mnv0b5l1WuWF2hbwAWlTnpuH/DSgnL/d0Q57IMv/CedTiJ75/5zGe/m3/ZfszdKN5Gy3+Tfp3YPZfgmQrK7609nrUsVVoK+tqvi745MvFFZGSRQAAA\" width=\"28\" />\n",
       "            </div></td>\n",
       "      <td>0</td>\n",
       "    </tr>\n",
       "    <tr>\n",
       "      <td><div class=\"pxt_image\" style=\"width:28px;\">\n",
       "                <img src=\"data:image/webp;base64,UklGRgwBAABXRUJQVlA4IAABAADQBgCdASocABwAPmUokEWkIqGYBgBABkS0gAiDWOn/O64Fyc6bdzM/mb0Rf9eMy0WJdalc1libkAWW2NVxNuAA/v64QCovblKmg0f+W0ZZcARl3VFwt3Me2//WBL3XQG9jFMtCbP2/7/8iAx77/63rAOXqXQb4/5fxOfX6dhbdz8RiUBPDGYm3+0zQKd/yJ6nJ/wrrs3PTXnKnmhhuYU8Uxq490SSosQ+XKNkTuELTWbEWLmHhkQyX+ztvzsu2W9YIvpnCZdQJmbCatf/VLzMynv3//DX7wD/xwBwquIjgKds5cDEzbicXGdkuM37Yt4ancr9u1dBaSMfI0UVgoAAA\" width=\"28\" />\n",
       "            </div></td>\n",
       "      <td>4</td>\n",
       "    </tr>\n",
       "    <tr>\n",
       "      <td><div class=\"pxt_image\" style=\"width:28px;\">\n",
       "                <img src=\"data:image/webp;base64,UklGRsQAAABXRUJQVlA4ILgAAADwBACdASocABwAPmEojkWkIqEb/VQAQAYEtIACIJfpf53anfwh5bFxZyxmg4dIzIAA/v8aTg5Pf4AaLvDOb2+nBLe7h4WLP4eah5+VtiBuH5fnAK/9o/+/4nl+i/XuYMSDuGzWvPP7PeYAYqDelo/gGeaJWXI9qBrwbupRut1RmHAmjHeJdu952t5DneGb8d1NHD67m1X/4Fr/ktLUCjUDM3A9y/Tmv/u48GyVebp9QUFiS+qkAAAA\" width=\"28\" />\n",
       "            </div></td>\n",
       "      <td>1</td>\n",
       "    </tr>\n",
       "    <tr>\n",
       "      <td><div class=\"pxt_image\" style=\"width:28px;\">\n",
       "                <img src=\"data:image/webp;base64,UklGRhIBAABXRUJQVlA4IAYBAAAQBwCdASocABwAPmkqkEWkIqGYBgBABoS0gAiDrbQKlm9OvPM8p+ijvgH6ADs18j7y7UsovRG992j1lWJXI+NjsAD+/p9i31NdsRkVHtTBTbgEfcsiV5cS5IfF+yS7MDdvlaSHRre6nuYBWIGIMPNc7//PKE5FDkecaPH1C5KuSA/FmB0Mw15jQ4M0b5oct9Sv71vHA8P6IA5GrLvUA+xjJCnISNNaYSiHVONthArmojGAh1x2X9w6ER0Oe1Yqh//8NUVB//4iTpFaItcumEp4Ryr+jO63PtCFdy7qk9dlTU9Mno2GIXYCVLSAkv7l2L/rqd15c4R/MS1/O/u2yTOuN7uvmCQA\" width=\"28\" />\n",
       "            </div></td>\n",
       "      <td>9</td>\n",
       "    </tr>\n",
       "  </tbody>\n",
       "</table>"
      ],
      "text/plain": [
       "                                               image label\n",
       "0  <PIL.JpegImagePlugin.JpegImageFile image mode=...     5\n",
       "1  <PIL.JpegImagePlugin.JpegImageFile image mode=...     0\n",
       "2  <PIL.JpegImagePlugin.JpegImageFile image mode=...     4\n",
       "3  <PIL.JpegImagePlugin.JpegImageFile image mode=...     1\n",
       "4  <PIL.JpegImagePlugin.JpegImageFile image mode=...     9"
      ]
     },
     "execution_count": 3,
     "metadata": {},
     "output_type": "execute_result"
    }
   ],
   "source": [
    "t.head(5)"
   ]
  },
  {
   "cell_type": "markdown",
   "id": "09b94f8b-8568-4e46-a2f3-8b69864c9b2c",
   "metadata": {},
   "source": [
    "### Column References"
   ]
  },
  {
   "cell_type": "markdown",
   "id": "1cd19032-d232-4c38-82eb-b4246cf712ca",
   "metadata": {},
   "source": [
    "The most basic type of expression is a __column reference__: that's what you get when you type, say, `t.image`. An expression such as `t.image` by itself is just a Python object; it doesn't contain any actual data, and no data will be loaded until you use the expression in a `select()` query or `add_column()` statement. Here's what we get if we type `t.image` by itself:"
   ]
  },
  {
   "cell_type": "code",
   "execution_count": 4,
   "id": "4fa4ed4e-ee13-4288-a1c8-256c113d8050",
   "metadata": {},
   "outputs": [
    {
     "data": {
      "text/html": [
       "<style type=\"text/css\">\n",
       "#T_d6266 th {\n",
       "  text-align: center;\n",
       "}\n",
       "#T_d6266_row0_col0, #T_d6266_row0_col1, #T_d6266_row0_col2 {\n",
       "  white-space: pre-wrap;\n",
       "  text-align: left;\n",
       "}\n",
       "</style>\n",
       "<table id=\"T_d6266\">\n",
       "  <thead>\n",
       "    <tr>\n",
       "      <th id=\"T_d6266_level0_col0\" class=\"col_heading level0 col0\" >Column Name</th>\n",
       "      <th id=\"T_d6266_level0_col1\" class=\"col_heading level0 col1\" >Type</th>\n",
       "      <th id=\"T_d6266_level0_col2\" class=\"col_heading level0 col2\" >Computed With</th>\n",
       "    </tr>\n",
       "  </thead>\n",
       "  <tbody>\n",
       "    <tr>\n",
       "      <td id=\"T_d6266_row0_col0\" class=\"data row0 col0\" >image</td>\n",
       "      <td id=\"T_d6266_row0_col1\" class=\"data row0 col1\" >Image</td>\n",
       "      <td id=\"T_d6266_row0_col2\" class=\"data row0 col2\" ></td>\n",
       "    </tr>\n",
       "  </tbody>\n",
       "</table>\n"
      ],
      "text/plain": [
       "ColumnRef(Column(0, 'image', tbl='mnist_tmp_69154325'))"
      ]
     },
     "execution_count": 4,
     "metadata": {},
     "output_type": "execute_result"
    }
   ],
   "source": [
    "t.image"
   ]
  },
  {
   "cell_type": "markdown",
   "id": "7bc642b7-22f9-43de-acb2-bde0242e024c",
   "metadata": {},
   "source": [
    "This is true of all Pixeltable expressions: we can freely create them and manipulate them in various ways, but no actual data will be loaded until we use them in a query."
   ]
  },
  {
   "cell_type": "markdown",
   "id": "cfd530a1-96ad-4798-a3db-d6c0de05f532",
   "metadata": {},
   "source": [
    "### JSON Collections (Dicts and Lists)"
   ]
  },
  {
   "cell_type": "markdown",
   "id": "8b20135d-7479-40aa-bf58-b6a7668d9538",
   "metadata": {},
   "source": [
    "Data is commonly presented in JSON format: for example, API responses and model output often take the shape of JSON dictionaries or lists of dictionaries. Pixeltable has native support for JSON accessors. To demonstrate this, let's add a computed column that runs an image classification model against the images in our dataset."
   ]
  },
  {
   "cell_type": "code",
   "execution_count": 5,
   "id": "212b5bb4-af25-42a8-b936-209372c9f4bd",
   "metadata": {},
   "outputs": [
    {
     "name": "stdout",
     "output_type": "stream",
     "text": [
      "Computing cells: 100%|██████████████████████████████████████████| 50/50 [00:01<00:00, 41.26 cells/s]\n",
      "Added 50 column values with 0 errors.\n"
     ]
    },
    {
     "data": {
      "text/plain": [
       "UpdateStatus(num_rows=50, num_computed_values=50, num_excs=0, updated_cols=[], cols_with_excs=[])"
      ]
     },
     "execution_count": 5,
     "metadata": {},
     "output_type": "execute_result"
    }
   ],
   "source": [
    "from pixeltable.functions.huggingface import vit_for_image_classification\n",
    "\n",
    "t.add_column(classification=vit_for_image_classification(\n",
    "    t.image,\n",
    "    model_id='farleyknight-org-username/vit-base-mnist'\n",
    "))"
   ]
  },
  {
   "cell_type": "code",
   "execution_count": 6,
   "id": "d3521b63-dfc6-4ca8-aadf-2f48aca5525c",
   "metadata": {},
   "outputs": [
    {
     "data": {
      "text/html": [
       "<table border=\"1\" class=\"dataframe\">\n",
       "  <thead>\n",
       "    <tr style=\"text-align: right;\">\n",
       "      <th>image</th>\n",
       "      <th>classification</th>\n",
       "    </tr>\n",
       "  </thead>\n",
       "  <tbody>\n",
       "    <tr>\n",
       "      <td><div class=\"pxt_image\" style=\"width:28px;\">\n",
       "                <img src=\"data:image/webp;base64,UklGRjQBAABXRUJQVlA4ICgBAADQBwCdASocABwAPm0wk0ckIyGhKAqogA2JaQATgDkgzcc0Q/qv5Mz5jyK/LHsAfqH/nE8VZwAZu/HNrmpfPK9PqD2yiBgAAAD+/5KsWrCrq9/+//uA5BBHAanH6EKeyCUbw/JEgElql69/9PFyh5Of0/yJ/g1hJ4xNv2eQvCf8fZCYANnho/vwZ88x1zLxm0uHAAqzErrn/ehXSb8I91evqhdrxJv+t+MJ+LAdoxg52UMCJO9asqLG74qmRFwBtwYmLD1qdhs5gA1+mxfu7DEmhoP3Zse+KW10ZX08J4wbCO4c25065frFQq3OieIh4HN9Tigr1hbBN7TjDDNqOJ0yiJXf11Zk6nwdufeBnF1Z3f+1x3lqj0oxvGQ3cBj382LzdHIrvMgAAA==\" width=\"28\" />\n",
       "            </div></td>\n",
       "      <td>{&quot;labels&quot;: [5, 3, 2, 8, 7], &quot;scores&quot;: [0.981, 0.013, 0.002, 0.001, 0.001], &quot;label_text&quot;: [&quot;5&quot;, &quot;3&quot;, &quot;2&quot;, &quot;8&quot;, &quot;7&quot;]}</td>\n",
       "    </tr>\n",
       "    <tr>\n",
       "      <td><div class=\"pxt_image\" style=\"width:28px;\">\n",
       "                <img src=\"data:image/webp;base64,UklGRiQBAABXRUJQVlA4IBgBAADwBwCdASocABwAPm0skEWkIqGYDAYAQAbEtIAIo/9QxwP7NnAHPuZr3mb/VeqL6M3Uq/qqW6nbIzaK/81eOzr0bbbxa+zvuAAA/v72Q3GuFGAD647Uhmi3XcgQoGdu0UqHvqH8f30LmVKupO/7WTRq0i24h/jgzohv3bnndohaOxGyqEvvOYAikAolsRjBMDfq6CaATYlYkJj5P/PYajfMb9AfbAhm9Tb4cPtzk32RJAR8zay3gK9xkPfYZLRnpq6918mnv0b5l1WuWF2hbwAWlTnpuH/DSgnL/d0Q57IMv/CedTiJ75/5zGe/m3/ZfszdKN5Gy3+Tfp3YPZfgmQrK7609nrUsVVoK+tqvi745MvFFZGSRQAAA\" width=\"28\" />\n",
       "            </div></td>\n",
       "      <td>{&quot;labels&quot;: [0, 6, 9, 8, 1], &quot;scores&quot;: [0.997, 0., 0., 0., 0.], &quot;label_text&quot;: [&quot;0&quot;, &quot;6&quot;, &quot;9&quot;, &quot;8&quot;, &quot;1&quot;]}</td>\n",
       "    </tr>\n",
       "    <tr>\n",
       "      <td><div class=\"pxt_image\" style=\"width:28px;\">\n",
       "                <img src=\"data:image/webp;base64,UklGRgwBAABXRUJQVlA4IAABAADQBgCdASocABwAPmUokEWkIqGYBgBABkS0gAiDWOn/O64Fyc6bdzM/mb0Rf9eMy0WJdalc1libkAWW2NVxNuAA/v64QCovblKmg0f+W0ZZcARl3VFwt3Me2//WBL3XQG9jFMtCbP2/7/8iAx77/63rAOXqXQb4/5fxOfX6dhbdz8RiUBPDGYm3+0zQKd/yJ6nJ/wrrs3PTXnKnmhhuYU8Uxq490SSosQ+XKNkTuELTWbEWLmHhkQyX+ztvzsu2W9YIvpnCZdQJmbCatf/VLzMynv3//DX7wD/xwBwquIjgKds5cDEzbicXGdkuM37Yt4ancr9u1dBaSMfI0UVgoAAA\" width=\"28\" />\n",
       "            </div></td>\n",
       "      <td>{&quot;labels&quot;: [4, 1, 9, 7, 0], &quot;scores&quot;: [0.997, 0.001, 0., 0., 0.], &quot;label_text&quot;: [&quot;4&quot;, &quot;1&quot;, &quot;9&quot;, &quot;7&quot;, &quot;0&quot;]}</td>\n",
       "    </tr>\n",
       "  </tbody>\n",
       "</table>"
      ],
      "text/plain": [
       "                                               image  \\\n",
       "0  <PIL.JpegImagePlugin.JpegImageFile image mode=...   \n",
       "1  <PIL.JpegImagePlugin.JpegImageFile image mode=...   \n",
       "2  <PIL.JpegImagePlugin.JpegImageFile image mode=...   \n",
       "\n",
       "                                      classification  \n",
       "0  {'labels': [5, 3, 2, 8, 7], 'scores': [0.98086...  \n",
       "1  {'labels': [0, 6, 9, 8, 1], 'scores': [0.99701...  \n",
       "2  {'labels': [4, 1, 9, 7, 0], 'scores': [0.99723...  "
      ]
     },
     "execution_count": 6,
     "metadata": {},
     "output_type": "execute_result"
    }
   ],
   "source": [
    "t.select(t.image, t.classification).head(3)"
   ]
  },
  {
   "cell_type": "markdown",
   "id": "a2402dfa-51df-4d72-87dc-2d18b9ee7e18",
   "metadata": {},
   "source": [
    "We see that the output is returned as a dict containing three lists: the five most likely labels (classes) for the image, the corresponding text labels (in this case, just the string form of the class number), and the scores (confidences) of each prediction. The Pixeltable type of the `classification` column is `pxt.Json`:"
   ]
  },
  {
   "cell_type": "code",
   "execution_count": 7,
   "id": "17aee8c7-351f-41f5-ae10-9937314d70d6",
   "metadata": {},
   "outputs": [
    {
     "data": {
      "text/html": [
       "<style type=\"text/css\">\n",
       "#T_6f30e th {\n",
       "  text-align: center;\n",
       "}\n",
       "#T_6f30e_row0_col0, #T_6f30e_row0_col1, #T_6f30e_row0_col2, #T_6f30e_row1_col0, #T_6f30e_row1_col1, #T_6f30e_row1_col2, #T_6f30e_row2_col0, #T_6f30e_row2_col1, #T_6f30e_row2_col2 {\n",
       "  white-space: pre-wrap;\n",
       "  text-align: left;\n",
       "}\n",
       "</style>\n",
       "<table id=\"T_6f30e\">\n",
       "  <thead>\n",
       "    <tr>\n",
       "      <th id=\"T_6f30e_level0_col0\" class=\"col_heading level0 col0\" >Column Name</th>\n",
       "      <th id=\"T_6f30e_level0_col1\" class=\"col_heading level0 col1\" >Type</th>\n",
       "      <th id=\"T_6f30e_level0_col2\" class=\"col_heading level0 col2\" >Computed With</th>\n",
       "    </tr>\n",
       "  </thead>\n",
       "  <tbody>\n",
       "    <tr>\n",
       "      <td id=\"T_6f30e_row0_col0\" class=\"data row0 col0\" >image</td>\n",
       "      <td id=\"T_6f30e_row0_col1\" class=\"data row0 col1\" >Image</td>\n",
       "      <td id=\"T_6f30e_row0_col2\" class=\"data row0 col2\" ></td>\n",
       "    </tr>\n",
       "    <tr>\n",
       "      <td id=\"T_6f30e_row1_col0\" class=\"data row1 col0\" >label</td>\n",
       "      <td id=\"T_6f30e_row1_col1\" class=\"data row1 col1\" >String</td>\n",
       "      <td id=\"T_6f30e_row1_col2\" class=\"data row1 col2\" ></td>\n",
       "    </tr>\n",
       "    <tr>\n",
       "      <td id=\"T_6f30e_row2_col0\" class=\"data row2 col0\" >classification</td>\n",
       "      <td id=\"T_6f30e_row2_col1\" class=\"data row2 col1\" >Json</td>\n",
       "      <td id=\"T_6f30e_row2_col2\" class=\"data row2 col2\" >vit_for_image_classification(image, model_id='farleyknight-org-username/vit-base-mnist')</td>\n",
       "    </tr>\n",
       "  </tbody>\n",
       "</table>\n"
      ],
      "text/plain": [
       "table 'mnist'\n",
       "\n",
       "   Column Name   Type                                                                            Computed With\n",
       "         image  Image                                                                                         \n",
       "         label String                                                                                         \n",
       "classification   Json vit_for_image_classification(image, model_id='farleyknight-org-username/vit-base-mnist')"
      ]
     },
     "execution_count": 7,
     "metadata": {},
     "output_type": "execute_result"
    }
   ],
   "source": [
    "t"
   ]
  },
  {
   "cell_type": "markdown",
   "id": "9bfc6d8e-9a61-4399-8689-974caef19b24",
   "metadata": {},
   "source": [
    "Pixeltable provides a range of operators on `Json`-typed output that behave just as you'd expect. To look up a key in a dictionary, use the syntax `t.classification['labels']`:"
   ]
  },
  {
   "cell_type": "code",
   "execution_count": 8,
   "id": "56f8cc75-42f2-4b03-be14-aadda41da31e",
   "metadata": {},
   "outputs": [
    {
     "data": {
      "text/html": [
       "<table border=\"1\" class=\"dataframe\">\n",
       "  <thead>\n",
       "    <tr style=\"text-align: right;\">\n",
       "      <th>classification_labels</th>\n",
       "    </tr>\n",
       "  </thead>\n",
       "  <tbody>\n",
       "    <tr>\n",
       "      <td>[5, 3, 2, 8, 7]</td>\n",
       "    </tr>\n",
       "    <tr>\n",
       "      <td>[0, 6, 9, 8, 1]</td>\n",
       "    </tr>\n",
       "    <tr>\n",
       "      <td>[4, 1, 9, 7, 0]</td>\n",
       "    </tr>\n",
       "  </tbody>\n",
       "</table>"
      ],
      "text/plain": [
       "  classification_labels\n",
       "0       [5, 3, 2, 8, 7]\n",
       "1       [0, 6, 9, 8, 1]\n",
       "2       [4, 1, 9, 7, 0]"
      ]
     },
     "execution_count": 8,
     "metadata": {},
     "output_type": "execute_result"
    }
   ],
   "source": [
    "t.select(t.classification['labels']).head(3)"
   ]
  },
  {
   "cell_type": "markdown",
   "id": "2798836c-1e35-42ba-8559-550f825eeeb5",
   "metadata": {},
   "source": [
    "You can also use a convenient \"attribute\" syntax for dictionary lookups. This follows the standard [JSONPath](https://en.wikipedia.org/wiki/JSONPath) expression syntax."
   ]
  },
  {
   "cell_type": "code",
   "execution_count": 9,
   "id": "be58ac2e-648e-4922-be20-82b5168de813",
   "metadata": {},
   "outputs": [
    {
     "data": {
      "text/html": [
       "<table border=\"1\" class=\"dataframe\">\n",
       "  <thead>\n",
       "    <tr style=\"text-align: right;\">\n",
       "      <th>classification_labels</th>\n",
       "    </tr>\n",
       "  </thead>\n",
       "  <tbody>\n",
       "    <tr>\n",
       "      <td>[5, 3, 2, 8, 7]</td>\n",
       "    </tr>\n",
       "    <tr>\n",
       "      <td>[0, 6, 9, 8, 1]</td>\n",
       "    </tr>\n",
       "    <tr>\n",
       "      <td>[4, 1, 9, 7, 0]</td>\n",
       "    </tr>\n",
       "  </tbody>\n",
       "</table>"
      ],
      "text/plain": [
       "  classification_labels\n",
       "0       [5, 3, 2, 8, 7]\n",
       "1       [0, 6, 9, 8, 1]\n",
       "2       [4, 1, 9, 7, 0]"
      ]
     },
     "execution_count": 9,
     "metadata": {},
     "output_type": "execute_result"
    }
   ],
   "source": [
    "t.select(t.classification.labels).head(3)"
   ]
  },
  {
   "cell_type": "markdown",
   "id": "73d8eb1c-d449-4990-b643-4e4e729fd29f",
   "metadata": {},
   "source": [
    "The \"attribute\" syntax isn't fully general (it won't work for dictionary keys that are not valid Python identifiers), but it's handy when it works.\n",
    "\n",
    "\n",
    "`t.classification.labels` is another Pixeltable expression; you can think of it as saying, \"do the `'labels'` lookup from every dictionary in the column `t.classification`, and return the result as a new column.\" As before, the expression by itself contains no data; it's the query that does the actual work of retrieving data. Here's what we see if we just give the expression by itself, without a query:"
   ]
  },
  {
   "cell_type": "code",
   "execution_count": 10,
   "id": "eb2653ad-c389-486a-a103-e9af543fde90",
   "metadata": {},
   "outputs": [
    {
     "data": {
      "text/plain": [
       "<pixeltable.exprs.json_path.JsonPath at 0x3c0730220>"
      ]
     },
     "execution_count": 10,
     "metadata": {},
     "output_type": "execute_result"
    }
   ],
   "source": [
    "t.classification.labels"
   ]
  },
  {
   "cell_type": "markdown",
   "id": "a3047a37-f138-4780-a529-009f92a3073b",
   "metadata": {},
   "source": [
    "Similarly, one can pull out a specific item in a list (for this model, we're probably mostly interested in the first item anyway):"
   ]
  },
  {
   "cell_type": "code",
   "execution_count": 11,
   "id": "e1628434-8810-4ef9-af4f-b92388229e3c",
   "metadata": {},
   "outputs": [
    {
     "data": {
      "text/html": [
       "<table border=\"1\" class=\"dataframe\">\n",
       "  <thead>\n",
       "    <tr style=\"text-align: right;\">\n",
       "      <th>classification_labels0</th>\n",
       "    </tr>\n",
       "  </thead>\n",
       "  <tbody>\n",
       "    <tr>\n",
       "      <td>5</td>\n",
       "    </tr>\n",
       "    <tr>\n",
       "      <td>0</td>\n",
       "    </tr>\n",
       "    <tr>\n",
       "      <td>4</td>\n",
       "    </tr>\n",
       "  </tbody>\n",
       "</table>"
      ],
      "text/plain": [
       "   classification_labels0\n",
       "0                       5\n",
       "1                       0\n",
       "2                       4"
      ]
     },
     "execution_count": 11,
     "metadata": {},
     "output_type": "execute_result"
    }
   ],
   "source": [
    "t.select(t.classification.labels[0]).head(3)"
   ]
  },
  {
   "cell_type": "markdown",
   "id": "0c90d66d-9013-44ea-9e16-490bccbe15d1",
   "metadata": {},
   "source": [
    "Or slice a list in the usual manner:"
   ]
  },
  {
   "cell_type": "code",
   "execution_count": 12,
   "id": "e7e8138d-95b2-48bb-8f5d-f427128e22e2",
   "metadata": {},
   "outputs": [
    {
     "data": {
      "text/html": [
       "<table border=\"1\" class=\"dataframe\">\n",
       "  <thead>\n",
       "    <tr style=\"text-align: right;\">\n",
       "      <th>classification_labels2</th>\n",
       "    </tr>\n",
       "  </thead>\n",
       "  <tbody>\n",
       "    <tr>\n",
       "      <td>[5, 3]</td>\n",
       "    </tr>\n",
       "    <tr>\n",
       "      <td>[0, 6]</td>\n",
       "    </tr>\n",
       "    <tr>\n",
       "      <td>[4, 1]</td>\n",
       "    </tr>\n",
       "  </tbody>\n",
       "</table>"
      ],
      "text/plain": [
       "  classification_labels2\n",
       "0                 [5, 3]\n",
       "1                 [0, 6]\n",
       "2                 [4, 1]"
      ]
     },
     "execution_count": 12,
     "metadata": {},
     "output_type": "execute_result"
    }
   ],
   "source": [
    "t.select(t.classification.labels[:2]).head(3)"
   ]
  },
  {
   "cell_type": "markdown",
   "id": "fe2da061-9485-4f79-9fa8-1d294cde3c62",
   "metadata": {},
   "source": [
    "Pixeltable is resilient against out-of-bounds indices or dictionary keys. If an index or key doesn't exist for a particular row, you'll get a `None` output for that row."
   ]
  },
  {
   "cell_type": "code",
   "execution_count": 13,
   "id": "fcf6932e-b9e7-420c-8c9a-9c72a3b0f1b1",
   "metadata": {},
   "outputs": [
    {
     "data": {
      "text/html": [
       "<table border=\"1\" class=\"dataframe\">\n",
       "  <thead>\n",
       "    <tr style=\"text-align: right;\">\n",
       "      <th>classification_notakey</th>\n",
       "    </tr>\n",
       "  </thead>\n",
       "  <tbody>\n",
       "    <tr>\n",
       "      <td>None</td>\n",
       "    </tr>\n",
       "    <tr>\n",
       "      <td>None</td>\n",
       "    </tr>\n",
       "    <tr>\n",
       "      <td>None</td>\n",
       "    </tr>\n",
       "  </tbody>\n",
       "</table>"
      ],
      "text/plain": [
       "  classification_notakey\n",
       "0                   None\n",
       "1                   None\n",
       "2                   None"
      ]
     },
     "execution_count": 13,
     "metadata": {},
     "output_type": "execute_result"
    }
   ],
   "source": [
    "t.select(t.classification.not_a_key).head(3)"
   ]
  },
  {
   "cell_type": "markdown",
   "id": "35e60ade-dcc5-4638-b6bf-3ede6c85353f",
   "metadata": {},
   "source": [
    "As always, any expression can be used to create a computed column."
   ]
  },
  {
   "cell_type": "code",
   "execution_count": 14,
   "id": "bb69e6a9-49cc-4fd9-9493-27b193003950",
   "metadata": {},
   "outputs": [
    {
     "name": "stdout",
     "output_type": "stream",
     "text": [
      "Computing cells: 100%|████████████████████████████████████████| 50/50 [00:00<00:00, 6547.05 cells/s]\n",
      "Added 50 column values with 0 errors.\n"
     ]
    },
    {
     "data": {
      "text/html": [
       "<style type=\"text/css\">\n",
       "#T_705c0 th {\n",
       "  text-align: center;\n",
       "}\n",
       "#T_705c0_row0_col0, #T_705c0_row0_col1, #T_705c0_row0_col2, #T_705c0_row1_col0, #T_705c0_row1_col1, #T_705c0_row1_col2, #T_705c0_row2_col0, #T_705c0_row2_col1, #T_705c0_row2_col2, #T_705c0_row3_col0, #T_705c0_row3_col1, #T_705c0_row3_col2 {\n",
       "  white-space: pre-wrap;\n",
       "  text-align: left;\n",
       "}\n",
       "</style>\n",
       "<table id=\"T_705c0\">\n",
       "  <thead>\n",
       "    <tr>\n",
       "      <th id=\"T_705c0_level0_col0\" class=\"col_heading level0 col0\" >Column Name</th>\n",
       "      <th id=\"T_705c0_level0_col1\" class=\"col_heading level0 col1\" >Type</th>\n",
       "      <th id=\"T_705c0_level0_col2\" class=\"col_heading level0 col2\" >Computed With</th>\n",
       "    </tr>\n",
       "  </thead>\n",
       "  <tbody>\n",
       "    <tr>\n",
       "      <td id=\"T_705c0_row0_col0\" class=\"data row0 col0\" >image</td>\n",
       "      <td id=\"T_705c0_row0_col1\" class=\"data row0 col1\" >Image</td>\n",
       "      <td id=\"T_705c0_row0_col2\" class=\"data row0 col2\" ></td>\n",
       "    </tr>\n",
       "    <tr>\n",
       "      <td id=\"T_705c0_row1_col0\" class=\"data row1 col0\" >label</td>\n",
       "      <td id=\"T_705c0_row1_col1\" class=\"data row1 col1\" >String</td>\n",
       "      <td id=\"T_705c0_row1_col2\" class=\"data row1 col2\" ></td>\n",
       "    </tr>\n",
       "    <tr>\n",
       "      <td id=\"T_705c0_row2_col0\" class=\"data row2 col0\" >classification</td>\n",
       "      <td id=\"T_705c0_row2_col1\" class=\"data row2 col1\" >Json</td>\n",
       "      <td id=\"T_705c0_row2_col2\" class=\"data row2 col2\" >vit_for_image_classification(image, model_id='farleyknight-org-username/vit-base-mnist')</td>\n",
       "    </tr>\n",
       "    <tr>\n",
       "      <td id=\"T_705c0_row3_col0\" class=\"data row3 col0\" >pred_label</td>\n",
       "      <td id=\"T_705c0_row3_col1\" class=\"data row3 col1\" >Json</td>\n",
       "      <td id=\"T_705c0_row3_col2\" class=\"data row3 col2\" >classification.label_text[0]</td>\n",
       "    </tr>\n",
       "  </tbody>\n",
       "</table>\n"
      ],
      "text/plain": [
       "table 'mnist'\n",
       "\n",
       "   Column Name   Type                                                                            Computed With\n",
       "         image  Image                                                                                         \n",
       "         label String                                                                                         \n",
       "classification   Json vit_for_image_classification(image, model_id='farleyknight-org-username/vit-base-mnist')\n",
       "    pred_label   Json                                                             classification.label_text[0]"
      ]
     },
     "execution_count": 14,
     "metadata": {},
     "output_type": "execute_result"
    }
   ],
   "source": [
    "# Use label_text to be consistent with t.label, which was given\n",
    "# to us as a string\n",
    "\n",
    "t.add_column(pred_label=t.classification.label_text[0])\n",
    "t"
   ]
  },
  {
   "cell_type": "markdown",
   "id": "388db168-f1b1-400e-958e-b56281c939ea",
   "metadata": {},
   "source": [
    "Finally, just as it's possible to extract items from lists and dictionaries using Pixeltable expressions, you can also construct new lists and dictionaries: just package them up in the usual way."
   ]
  },
  {
   "cell_type": "code",
   "execution_count": 15,
   "id": "0ea19aab-bd3f-42e2-8b1c-be07a366159e",
   "metadata": {},
   "outputs": [
    {
     "data": {
      "text/html": [
       "<table border=\"1\" class=\"dataframe\">\n",
       "  <thead>\n",
       "    <tr style=\"text-align: right;\">\n",
       "      <th>image</th>\n",
       "      <th>col_1</th>\n",
       "    </tr>\n",
       "  </thead>\n",
       "  <tbody>\n",
       "    <tr>\n",
       "      <td><div class=\"pxt_image\" style=\"width:28px;\">\n",
       "                <img src=\"data:image/webp;base64,UklGRjQBAABXRUJQVlA4ICgBAADQBwCdASocABwAPm0wk0ckIyGhKAqogA2JaQATgDkgzcc0Q/qv5Mz5jyK/LHsAfqH/nE8VZwAZu/HNrmpfPK9PqD2yiBgAAAD+/5KsWrCrq9/+//uA5BBHAanH6EKeyCUbw/JEgElql69/9PFyh5Of0/yJ/g1hJ4xNv2eQvCf8fZCYANnho/vwZ88x1zLxm0uHAAqzErrn/ehXSb8I91evqhdrxJv+t+MJ+LAdoxg52UMCJO9asqLG74qmRFwBtwYmLD1qdhs5gA1+mxfu7DEmhoP3Zse+KW10ZX08J4wbCO4c25065frFQq3OieIh4HN9Tigr1hbBN7TjDDNqOJ0yiJXf11Zk6nwdufeBnF1Z3f+1x3lqj0oxvGQ3cBj382LzdHIrvMgAAA==\" width=\"28\" />\n",
       "            </div></td>\n",
       "      <td>{&quot;ground_truth&quot;: &quot;5&quot;, &quot;prediction&quot;: &quot;5&quot;, &quot;is_correct&quot;: true, &quot;engine&quot;: &quot;pixeltable&quot;}</td>\n",
       "    </tr>\n",
       "    <tr>\n",
       "      <td><div class=\"pxt_image\" style=\"width:28px;\">\n",
       "                <img src=\"data:image/webp;base64,UklGRiQBAABXRUJQVlA4IBgBAADwBwCdASocABwAPm0skEWkIqGYDAYAQAbEtIAIo/9QxwP7NnAHPuZr3mb/VeqL6M3Uq/qqW6nbIzaK/81eOzr0bbbxa+zvuAAA/v72Q3GuFGAD647Uhmi3XcgQoGdu0UqHvqH8f30LmVKupO/7WTRq0i24h/jgzohv3bnndohaOxGyqEvvOYAikAolsRjBMDfq6CaATYlYkJj5P/PYajfMb9AfbAhm9Tb4cPtzk32RJAR8zay3gK9xkPfYZLRnpq6918mnv0b5l1WuWF2hbwAWlTnpuH/DSgnL/d0Q57IMv/CedTiJ75/5zGe/m3/ZfszdKN5Gy3+Tfp3YPZfgmQrK7609nrUsVVoK+tqvi745MvFFZGSRQAAA\" width=\"28\" />\n",
       "            </div></td>\n",
       "      <td>{&quot;ground_truth&quot;: &quot;0&quot;, &quot;prediction&quot;: &quot;0&quot;, &quot;is_correct&quot;: true, &quot;engine&quot;: &quot;pixeltable&quot;}</td>\n",
       "    </tr>\n",
       "    <tr>\n",
       "      <td><div class=\"pxt_image\" style=\"width:28px;\">\n",
       "                <img src=\"data:image/webp;base64,UklGRgwBAABXRUJQVlA4IAABAADQBgCdASocABwAPmUokEWkIqGYBgBABkS0gAiDWOn/O64Fyc6bdzM/mb0Rf9eMy0WJdalc1libkAWW2NVxNuAA/v64QCovblKmg0f+W0ZZcARl3VFwt3Me2//WBL3XQG9jFMtCbP2/7/8iAx77/63rAOXqXQb4/5fxOfX6dhbdz8RiUBPDGYm3+0zQKd/yJ6nJ/wrrs3PTXnKnmhhuYU8Uxq490SSosQ+XKNkTuELTWbEWLmHhkQyX+ztvzsu2W9YIvpnCZdQJmbCatf/VLzMynv3//DX7wD/xwBwquIjgKds5cDEzbicXGdkuM37Yt4ancr9u1dBaSMfI0UVgoAAA\" width=\"28\" />\n",
       "            </div></td>\n",
       "      <td>{&quot;ground_truth&quot;: &quot;4&quot;, &quot;prediction&quot;: &quot;4&quot;, &quot;is_correct&quot;: true, &quot;engine&quot;: &quot;pixeltable&quot;}</td>\n",
       "    </tr>\n",
       "    <tr>\n",
       "      <td><div class=\"pxt_image\" style=\"width:28px;\">\n",
       "                <img src=\"data:image/webp;base64,UklGRsQAAABXRUJQVlA4ILgAAADwBACdASocABwAPmEojkWkIqEb/VQAQAYEtIACIJfpf53anfwh5bFxZyxmg4dIzIAA/v8aTg5Pf4AaLvDOb2+nBLe7h4WLP4eah5+VtiBuH5fnAK/9o/+/4nl+i/XuYMSDuGzWvPP7PeYAYqDelo/gGeaJWXI9qBrwbupRut1RmHAmjHeJdu952t5DneGb8d1NHD67m1X/4Fr/ktLUCjUDM3A9y/Tmv/u48GyVebp9QUFiS+qkAAAA\" width=\"28\" />\n",
       "            </div></td>\n",
       "      <td>{&quot;ground_truth&quot;: &quot;1&quot;, &quot;prediction&quot;: &quot;1&quot;, &quot;is_correct&quot;: true, &quot;engine&quot;: &quot;pixeltable&quot;}</td>\n",
       "    </tr>\n",
       "    <tr>\n",
       "      <td><div class=\"pxt_image\" style=\"width:28px;\">\n",
       "                <img src=\"data:image/webp;base64,UklGRhIBAABXRUJQVlA4IAYBAAAQBwCdASocABwAPmkqkEWkIqGYBgBABoS0gAiDrbQKlm9OvPM8p+ijvgH6ADs18j7y7UsovRG992j1lWJXI+NjsAD+/p9i31NdsRkVHtTBTbgEfcsiV5cS5IfF+yS7MDdvlaSHRre6nuYBWIGIMPNc7//PKE5FDkecaPH1C5KuSA/FmB0Mw15jQ4M0b5oct9Sv71vHA8P6IA5GrLvUA+xjJCnISNNaYSiHVONthArmojGAh1x2X9w6ER0Oe1Yqh//8NUVB//4iTpFaItcumEp4Ryr+jO63PtCFdy7qk9dlTU9Mno2GIXYCVLSAkv7l2L/rqd15c4R/MS1/O/u2yTOuN7uvmCQA\" width=\"28\" />\n",
       "            </div></td>\n",
       "      <td>{&quot;ground_truth&quot;: &quot;9&quot;, &quot;prediction&quot;: &quot;9&quot;, &quot;is_correct&quot;: true, &quot;engine&quot;: &quot;pixeltable&quot;}</td>\n",
       "    </tr>\n",
       "  </tbody>\n",
       "</table>"
      ],
      "text/plain": [
       "                                               image  \\\n",
       "0  <PIL.JpegImagePlugin.JpegImageFile image mode=...   \n",
       "1  <PIL.JpegImagePlugin.JpegImageFile image mode=...   \n",
       "2  <PIL.JpegImagePlugin.JpegImageFile image mode=...   \n",
       "3  <PIL.JpegImagePlugin.JpegImageFile image mode=...   \n",
       "4  <PIL.JpegImagePlugin.JpegImageFile image mode=...   \n",
       "\n",
       "                                               col_1  \n",
       "0  {'ground_truth': '5', 'prediction': '5', 'is_c...  \n",
       "1  {'ground_truth': '0', 'prediction': '0', 'is_c...  \n",
       "2  {'ground_truth': '4', 'prediction': '4', 'is_c...  \n",
       "3  {'ground_truth': '1', 'prediction': '1', 'is_c...  \n",
       "4  {'ground_truth': '9', 'prediction': '9', 'is_c...  "
      ]
     },
     "execution_count": 15,
     "metadata": {},
     "output_type": "execute_result"
    }
   ],
   "source": [
    "custom_dict = {\n",
    "    # Keys must be strings; values can be any expressions\n",
    "    'ground_truth': t.label,\n",
    "    'prediction': t.pred_label,\n",
    "    'is_correct': t.label == t.pred_label,\n",
    "    # You can also use constants as values\n",
    "    'engine': 'pixeltable',\n",
    "}\n",
    "\n",
    "t.select(t.image, custom_dict).head(5)"
   ]
  },
  {
   "cell_type": "markdown",
   "id": "8377bb7f-f665-4ff9-a694-58c93ae28583",
   "metadata": {},
   "source": [
    "### UDF Calls\n",
    "\n",
    "UDF calls are another common type of expression. We've seen them throughout the tutorial; in fact, we used one a moment ago when we added a model invocation to our workload:\n",
    "\n",
    "```python\n",
    "vit_for_image_classification(\n",
    "    t.image,\n",
    "    model_id='farleyknight-org-username/vit-base-mnist'\n",
    ")\n",
    "```\n",
    "\n",
    "This calls the `vit_for_image_classification` UDF in the `pxt.functions.huggingface` module. Note that `vit_for_image_classification` is a Pixeltable UDF, not an ordinary Python function. (UDFs were first discussed in the [Tables and Data Operations](https://docs.pixeltable.com/docs/computed-columns) section of this tutorial.) You can think of a Pixeltable UDF as a function that operates on columns of data, iteratively applying an underlying operation to each row in the column (or columns). In this case, `vit_for_image_classification` operates on `t.image`, running the model against every image in the column.\n",
    "\n",
    "Notice that in addition to the column `t.image`, this call to `vit_for_image_classification` also takes a constant argument specifying the `model_id`. Any UDF call argument may be a constant, and the constant value simply means \"use this value for every row being evaluated\".\n",
    "\n",
    "You can always compose Pixeltable expressions to form more complicated ones; here's an example that runs the model against a 90-degree rotation of every image in the sample and extracts the label. Not surprisingly, the model doesn't perform as well on the rotated images."
   ]
  },
  {
   "cell_type": "code",
   "execution_count": 16,
   "id": "2353b28e-d44e-4b21-a5b1-118d21862256",
   "metadata": {},
   "outputs": [
    {
     "data": {
      "text/html": [
       "<table border=\"1\" class=\"dataframe\">\n",
       "  <thead>\n",
       "    <tr style=\"text-align: right;\">\n",
       "      <th>image</th>\n",
       "      <th>rot_label</th>\n",
       "    </tr>\n",
       "  </thead>\n",
       "  <tbody>\n",
       "    <tr>\n",
       "      <td><div class=\"pxt_image\" style=\"width:28px;\">\n",
       "                <img src=\"data:image/webp;base64,UklGRjQBAABXRUJQVlA4ICgBAADQBwCdASocABwAPm0wk0ckIyGhKAqogA2JaQATgDkgzcc0Q/qv5Mz5jyK/LHsAfqH/nE8VZwAZu/HNrmpfPK9PqD2yiBgAAAD+/5KsWrCrq9/+//uA5BBHAanH6EKeyCUbw/JEgElql69/9PFyh5Of0/yJ/g1hJ4xNv2eQvCf8fZCYANnho/vwZ88x1zLxm0uHAAqzErrn/ehXSb8I91evqhdrxJv+t+MJ+LAdoxg52UMCJO9asqLG74qmRFwBtwYmLD1qdhs5gA1+mxfu7DEmhoP3Zse+KW10ZX08J4wbCO4c25065frFQq3OieIh4HN9Tigr1hbBN7TjDDNqOJ0yiJXf11Zk6nwdufeBnF1Z3f+1x3lqj0oxvGQ3cBj382LzdHIrvMgAAA==\" width=\"28\" />\n",
       "            </div></td>\n",
       "      <td>4</td>\n",
       "    </tr>\n",
       "    <tr>\n",
       "      <td><div class=\"pxt_image\" style=\"width:28px;\">\n",
       "                <img src=\"data:image/webp;base64,UklGRiQBAABXRUJQVlA4IBgBAADwBwCdASocABwAPm0skEWkIqGYDAYAQAbEtIAIo/9QxwP7NnAHPuZr3mb/VeqL6M3Uq/qqW6nbIzaK/81eOzr0bbbxa+zvuAAA/v72Q3GuFGAD647Uhmi3XcgQoGdu0UqHvqH8f30LmVKupO/7WTRq0i24h/jgzohv3bnndohaOxGyqEvvOYAikAolsRjBMDfq6CaATYlYkJj5P/PYajfMb9AfbAhm9Tb4cPtzk32RJAR8zay3gK9xkPfYZLRnpq6918mnv0b5l1WuWF2hbwAWlTnpuH/DSgnL/d0Q57IMv/CedTiJ75/5zGe/m3/ZfszdKN5Gy3+Tfp3YPZfgmQrK7609nrUsVVoK+tqvi745MvFFZGSRQAAA\" width=\"28\" />\n",
       "            </div></td>\n",
       "      <td>0</td>\n",
       "    </tr>\n",
       "    <tr>\n",
       "      <td><div class=\"pxt_image\" style=\"width:28px;\">\n",
       "                <img src=\"data:image/webp;base64,UklGRgwBAABXRUJQVlA4IAABAADQBgCdASocABwAPmUokEWkIqGYBgBABkS0gAiDWOn/O64Fyc6bdzM/mb0Rf9eMy0WJdalc1libkAWW2NVxNuAA/v64QCovblKmg0f+W0ZZcARl3VFwt3Me2//WBL3XQG9jFMtCbP2/7/8iAx77/63rAOXqXQb4/5fxOfX6dhbdz8RiUBPDGYm3+0zQKd/yJ6nJ/wrrs3PTXnKnmhhuYU8Uxq490SSosQ+XKNkTuELTWbEWLmHhkQyX+ztvzsu2W9YIvpnCZdQJmbCatf/VLzMynv3//DX7wD/xwBwquIjgKds5cDEzbicXGdkuM37Yt4ancr9u1dBaSMfI0UVgoAAA\" width=\"28\" />\n",
       "            </div></td>\n",
       "      <td>5</td>\n",
       "    </tr>\n",
       "    <tr>\n",
       "      <td><div class=\"pxt_image\" style=\"width:28px;\">\n",
       "                <img src=\"data:image/webp;base64,UklGRsQAAABXRUJQVlA4ILgAAADwBACdASocABwAPmEojkWkIqEb/VQAQAYEtIACIJfpf53anfwh5bFxZyxmg4dIzIAA/v8aTg5Pf4AaLvDOb2+nBLe7h4WLP4eah5+VtiBuH5fnAK/9o/+/4nl+i/XuYMSDuGzWvPP7PeYAYqDelo/gGeaJWXI9qBrwbupRut1RmHAmjHeJdu952t5DneGb8d1NHD67m1X/4Fr/ktLUCjUDM3A9y/Tmv/u48GyVebp9QUFiS+qkAAAA\" width=\"28\" />\n",
       "            </div></td>\n",
       "      <td>1</td>\n",
       "    </tr>\n",
       "    <tr>\n",
       "      <td><div class=\"pxt_image\" style=\"width:28px;\">\n",
       "                <img src=\"data:image/webp;base64,UklGRhIBAABXRUJQVlA4IAYBAAAQBwCdASocABwAPmkqkEWkIqGYBgBABoS0gAiDrbQKlm9OvPM8p+ijvgH6ADs18j7y7UsovRG992j1lWJXI+NjsAD+/p9i31NdsRkVHtTBTbgEfcsiV5cS5IfF+yS7MDdvlaSHRre6nuYBWIGIMPNc7//PKE5FDkecaPH1C5KuSA/FmB0Mw15jQ4M0b5oct9Sv71vHA8P6IA5GrLvUA+xjJCnISNNaYSiHVONthArmojGAh1x2X9w6ER0Oe1Yqh//8NUVB//4iTpFaItcumEp4Ryr+jO63PtCFdy7qk9dlTU9Mno2GIXYCVLSAkv7l2L/rqd15c4R/MS1/O/u2yTOuN7uvmCQA\" width=\"28\" />\n",
       "            </div></td>\n",
       "      <td>8</td>\n",
       "    </tr>\n",
       "  </tbody>\n",
       "</table>"
      ],
      "text/plain": [
       "                                               image  rot_label\n",
       "0  <PIL.JpegImagePlugin.JpegImageFile image mode=...          4\n",
       "1  <PIL.JpegImagePlugin.JpegImageFile image mode=...          0\n",
       "2  <PIL.JpegImagePlugin.JpegImageFile image mode=...          5\n",
       "3  <PIL.JpegImagePlugin.JpegImageFile image mode=...          1\n",
       "4  <PIL.JpegImagePlugin.JpegImageFile image mode=...          8"
      ]
     },
     "execution_count": 16,
     "metadata": {},
     "output_type": "execute_result"
    }
   ],
   "source": [
    "rot_model_result = vit_for_image_classification(\n",
    "    t.image.rotate(90),\n",
    "    model_id='farleyknight-org-username/vit-base-mnist'\n",
    ")\n",
    "\n",
    "t.select(t.image, rot_label=rot_model_result.labels[0]).head(5)   "
   ]
  },
  {
   "cell_type": "markdown",
   "id": "5314561a-82fe-406f-94c3-ceda2539f506",
   "metadata": {},
   "source": [
    "<div class=\"alert alert-block alert-info\">\n",
    "Note that we employed a useful trick here: we assigned an expression to the variable <code>rot_model_result</code> for later reuse. Every Pixeltable expression is a Python object, so you can freely assign them to variables, reuse them, compose them, and so on. Remember that nothing actually happens until the expression is used in a query - so in this example, setting the variable <code>rot_model_result</code> doesn't itself result in any data being retrieved; that only happens later, when we actually use it in the <code>select()</code> query.\n",
    "</div>\n",
    "\n",
    "There are a large number of built-in UDFs that ship with Pixeltable; you can always refer back to the [API Documentation](https://pixeltable.github.io/pixeltable/) for details."
   ]
  },
  {
   "cell_type": "markdown",
   "id": "a9bdce5c-f774-4e87-9143-5383081060ff",
   "metadata": {},
   "source": [
    "### Method Calls\n",
    "\n",
    "Many built-in UDFs allow a convenient alternate syntax. The following two expressions are exactly equivalent:"
   ]
  },
  {
   "cell_type": "code",
   "execution_count": 17,
   "id": "e4d9189b-39f8-47ff-807b-c4f7393a474c",
   "metadata": {},
   "outputs": [],
   "source": [
    "a = t.image.rotate(90)\n",
    "b = pxt.functions.image.rotate(t.image, 90)"
   ]
  },
  {
   "cell_type": "markdown",
   "id": "827f0033-7b39-4d09-8db6-09326d1764d0",
   "metadata": {},
   "source": [
    "`a` and `b` can always be used interchangeably in queries, with identical results. Just like in standard Python classes, whenever Pixeltable sees the __method call__ `t.image.rotate(90)`, it interprets it as a __function call__ `pxt.functions.image.rotate(self, 90)`, with (in this case) `self` equal to `t.image`.\n",
    "\n",
    "Any method call can also be written as a function call, but (just like in standard Python) not every function call can be written as a method call. For example, the following won't work:\n",
    "\n",
    "```python\n",
    "t.image.vit_for_image_classification(\n",
    "    model_id='farleyknight-org-username/vit-base-mnist'\n",
    ")\n",
    "```\n",
    "\n",
    "That's because `vit_for_image_classification` is part of the `pxt.functions.huggingface` module, not the core module `pxt.functions.image`. Most Pixeltable types have a corresponding __core module__ of UDFs that can be used as method calls (`pxt.functions.image` for `Image`; `pxt.functions.string` for `String`; and so on), described fully in the [API Documentation](https://pixeltable.github.io/pixeltable/)."
   ]
  },
  {
   "cell_type": "markdown",
   "id": "f5f4c17a-61fb-4b89-b05a-20b79edebc91",
   "metadata": {},
   "source": [
    "### Arithmetic and Boolean Operations"
   ]
  },
  {
   "cell_type": "markdown",
   "id": "7bd67623-5031-4eae-990f-18577ba8dc19",
   "metadata": {},
   "source": [
    "Expressions can also be combined using standard arithmetic and boolean operators. As with everything else, arithmetic and boolean expressions are operations on columns that (when used in a query) are applied to every row."
   ]
  },
  {
   "cell_type": "code",
   "execution_count": 18,
   "id": "b603d361-eddf-4d53-87df-ab2cc30eb42b",
   "metadata": {},
   "outputs": [
    {
     "data": {
      "text/html": [
       "<table border=\"1\" class=\"dataframe\">\n",
       "  <thead>\n",
       "    <tr style=\"text-align: right;\">\n",
       "      <th>image</th>\n",
       "      <th>label</th>\n",
       "      <th>col_2</th>\n",
       "      <th>col_3</th>\n",
       "    </tr>\n",
       "  </thead>\n",
       "  <tbody>\n",
       "    <tr>\n",
       "      <td><div class=\"pxt_image\" style=\"width:28px;\">\n",
       "                <img src=\"data:image/webp;base64,UklGRjQBAABXRUJQVlA4ICgBAADQBwCdASocABwAPm0wk0ckIyGhKAqogA2JaQATgDkgzcc0Q/qv5Mz5jyK/LHsAfqH/nE8VZwAZu/HNrmpfPK9PqD2yiBgAAAD+/5KsWrCrq9/+//uA5BBHAanH6EKeyCUbw/JEgElql69/9PFyh5Of0/yJ/g1hJ4xNv2eQvCf8fZCYANnho/vwZ88x1zLxm0uHAAqzErrn/ehXSb8I91evqhdrxJv+t+MJ+LAdoxg52UMCJO9asqLG74qmRFwBtwYmLD1qdhs5gA1+mxfu7DEmhoP3Zse+KW10ZX08J4wbCO4c25065frFQq3OieIh4HN9Tigr1hbBN7TjDDNqOJ0yiJXf11Zk6nwdufeBnF1Z3f+1x3lqj0oxvGQ3cBj382LzdHIrvMgAAA==\" width=\"28\" />\n",
       "            </div></td>\n",
       "      <td>5</td>\n",
       "      <td>False</td>\n",
       "      <td>False</td>\n",
       "    </tr>\n",
       "    <tr>\n",
       "      <td><div class=\"pxt_image\" style=\"width:28px;\">\n",
       "                <img src=\"data:image/webp;base64,UklGRiQBAABXRUJQVlA4IBgBAADwBwCdASocABwAPm0skEWkIqGYDAYAQAbEtIAIo/9QxwP7NnAHPuZr3mb/VeqL6M3Uq/qqW6nbIzaK/81eOzr0bbbxa+zvuAAA/v72Q3GuFGAD647Uhmi3XcgQoGdu0UqHvqH8f30LmVKupO/7WTRq0i24h/jgzohv3bnndohaOxGyqEvvOYAikAolsRjBMDfq6CaATYlYkJj5P/PYajfMb9AfbAhm9Tb4cPtzk32RJAR8zay3gK9xkPfYZLRnpq6918mnv0b5l1WuWF2hbwAWlTnpuH/DSgnL/d0Q57IMv/CedTiJ75/5zGe/m3/ZfszdKN5Gy3+Tfp3YPZfgmQrK7609nrUsVVoK+tqvi745MvFFZGSRQAAA\" width=\"28\" />\n",
       "            </div></td>\n",
       "      <td>0</td>\n",
       "      <td>False</td>\n",
       "      <td>True</td>\n",
       "    </tr>\n",
       "    <tr>\n",
       "      <td><div class=\"pxt_image\" style=\"width:28px;\">\n",
       "                <img src=\"data:image/webp;base64,UklGRgwBAABXRUJQVlA4IAABAADQBgCdASocABwAPmUokEWkIqGYBgBABkS0gAiDWOn/O64Fyc6bdzM/mb0Rf9eMy0WJdalc1libkAWW2NVxNuAA/v64QCovblKmg0f+W0ZZcARl3VFwt3Me2//WBL3XQG9jFMtCbP2/7/8iAx77/63rAOXqXQb4/5fxOfX6dhbdz8RiUBPDGYm3+0zQKd/yJ6nJ/wrrs3PTXnKnmhhuYU8Uxq490SSosQ+XKNkTuELTWbEWLmHhkQyX+ztvzsu2W9YIvpnCZdQJmbCatf/VLzMynv3//DX7wD/xwBwquIjgKds5cDEzbicXGdkuM37Yt4ancr9u1dBaSMfI0UVgoAAA\" width=\"28\" />\n",
       "            </div></td>\n",
       "      <td>4</td>\n",
       "      <td>True</td>\n",
       "      <td>True</td>\n",
       "    </tr>\n",
       "    <tr>\n",
       "      <td><div class=\"pxt_image\" style=\"width:28px;\">\n",
       "                <img src=\"data:image/webp;base64,UklGRsQAAABXRUJQVlA4ILgAAADwBACdASocABwAPmEojkWkIqEb/VQAQAYEtIACIJfpf53anfwh5bFxZyxmg4dIzIAA/v8aTg5Pf4AaLvDOb2+nBLe7h4WLP4eah5+VtiBuH5fnAK/9o/+/4nl+i/XuYMSDuGzWvPP7PeYAYqDelo/gGeaJWXI9qBrwbupRut1RmHAmjHeJdu952t5DneGb8d1NHD67m1X/4Fr/ktLUCjUDM3A9y/Tmv/u48GyVebp9QUFiS+qkAAAA\" width=\"28\" />\n",
       "            </div></td>\n",
       "      <td>1</td>\n",
       "      <td>False</td>\n",
       "      <td>True</td>\n",
       "    </tr>\n",
       "    <tr>\n",
       "      <td><div class=\"pxt_image\" style=\"width:28px;\">\n",
       "                <img src=\"data:image/webp;base64,UklGRhIBAABXRUJQVlA4IAYBAAAQBwCdASocABwAPmkqkEWkIqGYBgBABoS0gAiDrbQKlm9OvPM8p+ijvgH6ADs18j7y7UsovRG992j1lWJXI+NjsAD+/p9i31NdsRkVHtTBTbgEfcsiV5cS5IfF+yS7MDdvlaSHRre6nuYBWIGIMPNc7//PKE5FDkecaPH1C5KuSA/FmB0Mw15jQ4M0b5oct9Sv71vHA8P6IA5GrLvUA+xjJCnISNNaYSiHVONthArmojGAh1x2X9w6ER0Oe1Yqh//8NUVB//4iTpFaItcumEp4Ryr+jO63PtCFdy7qk9dlTU9Mno2GIXYCVLSAkv7l2L/rqd15c4R/MS1/O/u2yTOuN7uvmCQA\" width=\"28\" />\n",
       "            </div></td>\n",
       "      <td>9</td>\n",
       "      <td>False</td>\n",
       "      <td>False</td>\n",
       "    </tr>\n",
       "  </tbody>\n",
       "</table>"
      ],
      "text/plain": [
       "                                               image label  col_2  col_3\n",
       "0  <PIL.JpegImagePlugin.JpegImageFile image mode=...     5  False  False\n",
       "1  <PIL.JpegImagePlugin.JpegImageFile image mode=...     0  False   True\n",
       "2  <PIL.JpegImagePlugin.JpegImageFile image mode=...     4   True   True\n",
       "3  <PIL.JpegImagePlugin.JpegImageFile image mode=...     1  False   True\n",
       "4  <PIL.JpegImagePlugin.JpegImageFile image mode=...     9  False  False"
      ]
     },
     "execution_count": 18,
     "metadata": {},
     "output_type": "execute_result"
    }
   ],
   "source": [
    "t.select(\n",
    "    t.image,\n",
    "    t.label,\n",
    "    t.label == '4',\n",
    "    t.label < '5',\n",
    ").head(5)"
   ]
  },
  {
   "cell_type": "markdown",
   "id": "f7e13480-20ee-427a-8714-2fab7ae3043a",
   "metadata": {},
   "source": [
    "When you use a `where` clause in a query, you're giving it a Pixeltable expression, too (a boolean-valued one)."
   ]
  },
  {
   "cell_type": "code",
   "execution_count": 19,
   "id": "ca314ef0-8d01-48f3-9979-c88d6b47592d",
   "metadata": {},
   "outputs": [
    {
     "data": {
      "text/html": [
       "<table border=\"1\" class=\"dataframe\">\n",
       "  <thead>\n",
       "    <tr style=\"text-align: right;\">\n",
       "      <th>image</th>\n",
       "    </tr>\n",
       "  </thead>\n",
       "  <tbody>\n",
       "    <tr>\n",
       "      <td><div class=\"pxt_image\" style=\"width:28px;\">\n",
       "                <img src=\"data:image/webp;base64,UklGRgwBAABXRUJQVlA4IAABAADQBgCdASocABwAPmUokEWkIqGYBgBABkS0gAiDWOn/O64Fyc6bdzM/mb0Rf9eMy0WJdalc1libkAWW2NVxNuAA/v64QCovblKmg0f+W0ZZcARl3VFwt3Me2//WBL3XQG9jFMtCbP2/7/8iAx77/63rAOXqXQb4/5fxOfX6dhbdz8RiUBPDGYm3+0zQKd/yJ6nJ/wrrs3PTXnKnmhhuYU8Uxq490SSosQ+XKNkTuELTWbEWLmHhkQyX+ztvzsu2W9YIvpnCZdQJmbCatf/VLzMynv3//DX7wD/xwBwquIjgKds5cDEzbicXGdkuM37Yt4ancr9u1dBaSMfI0UVgoAAA\" width=\"28\" />\n",
       "            </div></td>\n",
       "    </tr>\n",
       "    <tr>\n",
       "      <td><div class=\"pxt_image\" style=\"width:28px;\">\n",
       "                <img src=\"data:image/webp;base64,UklGRgwBAABXRUJQVlA4IAABAADwBgCdASocABwAPm0qkkWkIiGYDAYAQAbEtIAIhnis8xnNLt1SedPRE/3CElWOkCohbusdE8Exkg1v+28U/j4AAP7/Ob1SSt9enIn22ereRH92vtIdw//DLI8H/4XGHKJtj+OXU6oraX84vvoX+Rouf6KLrkvONBeeOgoRpAqe8AFM/6GZGh/O/+RWubrAbil9NEEbdjXL/EzSXaciIndxXrGjiBH85QBiHoGcS0B2Z5oOHWTO/0PbyNdy1SD8pbdz/lg/7i6l0tPbSEKBTAG5aM8gfQ4ArPZ/2/67Na0kWD9Fod/0H8+y/ezeMWktl+RDvw2aK3OhSyy4eR0AAAAA\" width=\"28\" />\n",
       "            </div></td>\n",
       "    </tr>\n",
       "    <tr>\n",
       "      <td><div class=\"pxt_image\" style=\"width:28px;\">\n",
       "                <img src=\"data:image/webp;base64,UklGRiQBAABXRUJQVlA4IBgBAACwBgCdASocABwAPm0wkkakIyGhKA1QgA2JaQARC9Dt32AfGtnSecv+EGd/9FgXQHVH5VOz96seKP4mQc9AAAD+/m8gEE76f1ZGasHbwFt/zP0v7A1TApQXtGDdav5DLxSwuyy9ufIKOkpsrkh9dRFThdn41ru3bQfjDsdKV25NQemH6vz2X2sak6iQquvf+NW/8/Giv/ePpP/hzPui2oFaMgLIv0agk/vvaoQSuLQty8gwdLyXbf7W4eKyu3m9pTxhSY+U8XPiUdU0eh/k/6b8CHpfaK6vnV3o3dGkBCsM+UAf6Q3/7JKf/0eeH99r+3ZzwKqgx/krdmQZ/1j3B+1bnkWaKqf1cn9Bdv+ezjDTVwpkr/wAAAAA\" width=\"28\" />\n",
       "            </div></td>\n",
       "    </tr>\n",
       "    <tr>\n",
       "      <td><div class=\"pxt_image\" style=\"width:28px;\">\n",
       "                <img src=\"data:image/webp;base64,UklGRuAAAABXRUJQVlA4INQAAADwBQCdASocABwAPm00lkgkIyIhKAgAgA2JaQAJxBNIH4q653k9ZnKDIdKewmnw+s7opTeH66EvAAD+/3wq1F/CRP57+0DjeH1TiBbV9vkhK3KM/5D54RvJQFZK+cbD2zKzyacxKwbS7V8ur9TwNQ9YFIxIup5YC23B/2zGAVPgfYHNkRD/qYx6whZ660BOkr18TKFHgea3+mv2krfPJ1FsLjrfwki/8Se2YKopW9mtpoMaVrtpPifykr6ueTzxu/63j+RuT//Eg/ZerXvxoH1oFCAAAA==\" width=\"28\" />\n",
       "            </div></td>\n",
       "    </tr>\n",
       "  </tbody>\n",
       "</table>"
      ],
      "text/plain": [
       "                                               image\n",
       "0  <PIL.JpegImagePlugin.JpegImageFile image mode=...\n",
       "1  <PIL.JpegImagePlugin.JpegImageFile image mode=...\n",
       "2  <PIL.JpegImagePlugin.JpegImageFile image mode=...\n",
       "3  <PIL.JpegImagePlugin.JpegImageFile image mode=..."
      ]
     },
     "execution_count": 19,
     "metadata": {},
     "output_type": "execute_result"
    }
   ],
   "source": [
    "t.where(t.label == '4').select(t.image).show()"
   ]
  },
  {
   "cell_type": "markdown",
   "id": "01a81633-50bb-4960-bdca-957e6aecb4ed",
   "metadata": {},
   "source": [
    "The following example shows how boolean expressions can be assigned to variables and used to form more complex expressions."
   ]
  },
  {
   "cell_type": "code",
   "execution_count": 20,
   "id": "ddaa42d8-b3e7-4fcf-92c7-c234e823aa0d",
   "metadata": {},
   "outputs": [
    {
     "data": {
      "text/html": [
       "<table border=\"1\" class=\"dataframe\">\n",
       "  <thead>\n",
       "    <tr style=\"text-align: right;\">\n",
       "      <th>image</th>\n",
       "      <th>label</th>\n",
       "      <th>rot_label</th>\n",
       "    </tr>\n",
       "  </thead>\n",
       "  <tbody>\n",
       "    <tr>\n",
       "      <td><div class=\"pxt_image\" style=\"width:28px;\">\n",
       "                <img src=\"data:image/webp;base64,UklGRjQBAABXRUJQVlA4ICgBAADQBwCdASocABwAPm0wk0ckIyGhKAqogA2JaQATgDkgzcc0Q/qv5Mz5jyK/LHsAfqH/nE8VZwAZu/HNrmpfPK9PqD2yiBgAAAD+/5KsWrCrq9/+//uA5BBHAanH6EKeyCUbw/JEgElql69/9PFyh5Of0/yJ/g1hJ4xNv2eQvCf8fZCYANnho/vwZ88x1zLxm0uHAAqzErrn/ehXSb8I91evqhdrxJv+t+MJ+LAdoxg52UMCJO9asqLG74qmRFwBtwYmLD1qdhs5gA1+mxfu7DEmhoP3Zse+KW10ZX08J4wbCO4c25065frFQq3OieIh4HN9Tigr1hbBN7TjDDNqOJ0yiJXf11Zk6nwdufeBnF1Z3f+1x3lqj0oxvGQ3cBj382LzdHIrvMgAAA==\" width=\"28\" />\n",
       "            </div></td>\n",
       "      <td>5</td>\n",
       "      <td>4</td>\n",
       "    </tr>\n",
       "  </tbody>\n",
       "</table>"
      ],
      "text/plain": [
       "                                               image label rot_label\n",
       "0  <PIL.JpegImagePlugin.JpegImageFile image mode=...     5         4"
      ]
     },
     "execution_count": 20,
     "metadata": {},
     "output_type": "execute_result"
    }
   ],
   "source": [
    "# Reuse `rot_model_result` from above, extracting\n",
    "# the dominant label as a new expression\n",
    "\n",
    "rot_label = rot_model_result.label_text[0]\n",
    "\n",
    "# Select all the rows where the ground truth label is '5',\n",
    "# and the \"rotated\" version of the model got it wrong\n",
    "# (by returning something other than a '5')\n",
    "\n",
    "t.where((t.label == '5') & (rot_label != '5')).select(\n",
    "    t.image, t.label, rot_label=rot_label\n",
    ").show()"
   ]
  },
  {
   "cell_type": "markdown",
   "id": "08657de9-2536-48cf-8751-50ee9602fb58",
   "metadata": {},
   "source": [
    "Notice that to form a logical \"and\", we wrote\n",
    "\n",
    "```python\n",
    "(t.label == '5') & (rot_label != '5')\n",
    "```\n",
    "\n",
    "using the operator `&` rather than `and`. Likewise, to form a logical \"or\", we'd use `|` rather than `or`:\n",
    "\n",
    "```python\n",
    "(t.label == '5') | (rot_label != '5')\n",
    "```\n",
    "\n",
    "For logical negation:\n",
    "\n",
    "```python\n",
    "~(t.label == '5')\n",
    "```\n",
    "\n",
    "This follows the convention used by other popular data-manipulation frameworks such as Pandas, and it's necessary because the Python language does not allow the meanings of `and`, `or`, and `not` to be customized. There is one more instance of this to be aware of: to check whether an expression is `None`, it's necessary to write (say)\n",
    "\n",
    "```python\n",
    "t.label == None\n",
    "```\n",
    "\n",
    "rather than `t.label is None`, for the same reason."
   ]
  },
  {
   "cell_type": "markdown",
   "id": "25f5653b-76ea-4eaa-a83c-80ecdce0d49a",
   "metadata": {},
   "source": [
    "### Arrays\n",
    "\n",
    "In addition to lists and dicts, Pixeltable also has built-in support for numerical arrays. A typical place where arrays show up is as the output of an embedding."
   ]
  },
  {
   "cell_type": "code",
   "execution_count": 21,
   "id": "66b9f626-92d8-4315-928c-adeddc443290",
   "metadata": {},
   "outputs": [
    {
     "name": "stdout",
     "output_type": "stream",
     "text": [
      "Computing cells: 100%|██████████████████████████████████████████| 50/50 [00:01<00:00, 41.41 cells/s]\n",
      "Added 50 column values with 0 errors.\n"
     ]
    },
    {
     "data": {
      "text/html": [
       "<table border=\"1\" class=\"dataframe\">\n",
       "  <thead>\n",
       "    <tr style=\"text-align: right;\">\n",
       "      <th>image</th>\n",
       "      <th>clip</th>\n",
       "    </tr>\n",
       "  </thead>\n",
       "  <tbody>\n",
       "    <tr>\n",
       "      <td><div class=\"pxt_image\" style=\"width:28px;\">\n",
       "                <img src=\"data:image/webp;base64,UklGRjQBAABXRUJQVlA4ICgBAADQBwCdASocABwAPm0wk0ckIyGhKAqogA2JaQATgDkgzcc0Q/qv5Mz5jyK/LHsAfqH/nE8VZwAZu/HNrmpfPK9PqD2yiBgAAAD+/5KsWrCrq9/+//uA5BBHAanH6EKeyCUbw/JEgElql69/9PFyh5Of0/yJ/g1hJ4xNv2eQvCf8fZCYANnho/vwZ88x1zLxm0uHAAqzErrn/ehXSb8I91evqhdrxJv+t+MJ+LAdoxg52UMCJO9asqLG74qmRFwBtwYmLD1qdhs5gA1+mxfu7DEmhoP3Zse+KW10ZX08J4wbCO4c25065frFQq3OieIh4HN9Tigr1hbBN7TjDDNqOJ0yiJXf11Zk6nwdufeBnF1Z3f+1x3lqj0oxvGQ3cBj382LzdHIrvMgAAA==\" width=\"28\" />\n",
       "            </div></td>\n",
       "      <td>[-0.052 -0.259 -0.481 -0.628  0.053 -0.032 ...  0.079  0.087 -0.346  0.904  0.037 -0.161]</td>\n",
       "    </tr>\n",
       "    <tr>\n",
       "      <td><div class=\"pxt_image\" style=\"width:28px;\">\n",
       "                <img src=\"data:image/webp;base64,UklGRiQBAABXRUJQVlA4IBgBAADwBwCdASocABwAPm0skEWkIqGYDAYAQAbEtIAIo/9QxwP7NnAHPuZr3mb/VeqL6M3Uq/qqW6nbIzaK/81eOzr0bbbxa+zvuAAA/v72Q3GuFGAD647Uhmi3XcgQoGdu0UqHvqH8f30LmVKupO/7WTRq0i24h/jgzohv3bnndohaOxGyqEvvOYAikAolsRjBMDfq6CaATYlYkJj5P/PYajfMb9AfbAhm9Tb4cPtzk32RJAR8zay3gK9xkPfYZLRnpq6918mnv0b5l1WuWF2hbwAWlTnpuH/DSgnL/d0Q57IMv/CedTiJ75/5zGe/m3/ZfszdKN5Gy3+Tfp3YPZfgmQrK7609nrUsVVoK+tqvi745MvFFZGSRQAAA\" width=\"28\" />\n",
       "            </div></td>\n",
       "      <td>[ 0.063 -0.174 -0.263 -0.596  0.218 -0.332 ...  0.295  0.028  0.001  0.823 -0.149 -0.163]</td>\n",
       "    </tr>\n",
       "    <tr>\n",
       "      <td><div class=\"pxt_image\" style=\"width:28px;\">\n",
       "                <img src=\"data:image/webp;base64,UklGRgwBAABXRUJQVlA4IAABAADQBgCdASocABwAPmUokEWkIqGYBgBABkS0gAiDWOn/O64Fyc6bdzM/mb0Rf9eMy0WJdalc1libkAWW2NVxNuAA/v64QCovblKmg0f+W0ZZcARl3VFwt3Me2//WBL3XQG9jFMtCbP2/7/8iAx77/63rAOXqXQb4/5fxOfX6dhbdz8RiUBPDGYm3+0zQKd/yJ6nJ/wrrs3PTXnKnmhhuYU8Uxq490SSosQ+XKNkTuELTWbEWLmHhkQyX+ztvzsu2W9YIvpnCZdQJmbCatf/VLzMynv3//DX7wD/xwBwquIjgKds5cDEzbicXGdkuM37Yt4ancr9u1dBaSMfI0UVgoAAA\" width=\"28\" />\n",
       "            </div></td>\n",
       "      <td>[-0.059 -0.222 -0.251 -0.503 -0.112 -0.233 ...  0.038  0.107 -0.329  0.765 -0.363  0.206]</td>\n",
       "    </tr>\n",
       "    <tr>\n",
       "      <td><div class=\"pxt_image\" style=\"width:28px;\">\n",
       "                <img src=\"data:image/webp;base64,UklGRsQAAABXRUJQVlA4ILgAAADwBACdASocABwAPmEojkWkIqEb/VQAQAYEtIACIJfpf53anfwh5bFxZyxmg4dIzIAA/v8aTg5Pf4AaLvDOb2+nBLe7h4WLP4eah5+VtiBuH5fnAK/9o/+/4nl+i/XuYMSDuGzWvPP7PeYAYqDelo/gGeaJWXI9qBrwbupRut1RmHAmjHeJdu952t5DneGb8d1NHD67m1X/4Fr/ktLUCjUDM3A9y/Tmv/u48GyVebp9QUFiS+qkAAAA\" width=\"28\" />\n",
       "            </div></td>\n",
       "      <td>[ 0.098 -0.196 -0.42  -0.589  0.111 -0.107 ...  0.266  0.179 -0.143  1.023 -0.136  0.092]</td>\n",
       "    </tr>\n",
       "    <tr>\n",
       "      <td><div class=\"pxt_image\" style=\"width:28px;\">\n",
       "                <img src=\"data:image/webp;base64,UklGRhIBAABXRUJQVlA4IAYBAAAQBwCdASocABwAPmkqkEWkIqGYBgBABoS0gAiDrbQKlm9OvPM8p+ijvgH6ADs18j7y7UsovRG992j1lWJXI+NjsAD+/p9i31NdsRkVHtTBTbgEfcsiV5cS5IfF+yS7MDdvlaSHRre6nuYBWIGIMPNc7//PKE5FDkecaPH1C5KuSA/FmB0Mw15jQ4M0b5oct9Sv71vHA8P6IA5GrLvUA+xjJCnISNNaYSiHVONthArmojGAh1x2X9w6ER0Oe1Yqh//8NUVB//4iTpFaItcumEp4Ryr+jO63PtCFdy7qk9dlTU9Mno2GIXYCVLSAkv7l2L/rqd15c4R/MS1/O/u2yTOuN7uvmCQA\" width=\"28\" />\n",
       "            </div></td>\n",
       "      <td>[-0.046 -0.147 -0.455 -0.576  0.228 -0.115 ...  0.521  0.086 -0.24   0.786  0.098  0.171]</td>\n",
       "    </tr>\n",
       "  </tbody>\n",
       "</table>"
      ],
      "text/plain": [
       "                                               image  \\\n",
       "0  <PIL.JpegImagePlugin.JpegImageFile image mode=...   \n",
       "1  <PIL.JpegImagePlugin.JpegImageFile image mode=...   \n",
       "2  <PIL.JpegImagePlugin.JpegImageFile image mode=...   \n",
       "3  <PIL.JpegImagePlugin.JpegImageFile image mode=...   \n",
       "4  <PIL.JpegImagePlugin.JpegImageFile image mode=...   \n",
       "\n",
       "                                                clip  \n",
       "0  [-0.05247211, -0.2592653, -0.48137856, -0.6276...  \n",
       "1  [0.062564686, -0.17428121, -0.26288977, -0.596...  \n",
       "2  [-0.059083365, -0.22177723, -0.25141147, -0.50...  \n",
       "3  [0.0980767, -0.19610186, -0.41975808, -0.58930...  \n",
       "4  [-0.04608902, -0.14672062, -0.4550005, -0.5758...  "
      ]
     },
     "execution_count": 21,
     "metadata": {},
     "output_type": "execute_result"
    }
   ],
   "source": [
    "from pixeltable.functions.huggingface import clip_image\n",
    "\n",
    "t.add_column(clip=clip_image(t.image, model_id='openai/clip-vit-base-patch32'))\n",
    "t.select(t.image, t.clip).head(5)"
   ]
  },
  {
   "cell_type": "markdown",
   "id": "a82dde36-c0db-4e0a-a341-743c884d9638",
   "metadata": {},
   "source": [
    "The underlying Python type of `pxt.Array` is an ordinary NumPy array (`np.ndarray`), so that an array-typed column is a column of NumPy arrays (in this example, representing the embedding output of each image in the table). As with lists, arrays can be sliced in all the usual ways."
   ]
  },
  {
   "cell_type": "code",
   "execution_count": 22,
   "id": "bb5c3536-cae1-47eb-958b-c201d4aa4e75",
   "metadata": {},
   "outputs": [
    {
     "data": {
      "text/html": [
       "<table border=\"1\" class=\"dataframe\">\n",
       "  <thead>\n",
       "    <tr style=\"text-align: right;\">\n",
       "      <th>col_0</th>\n",
       "      <th>col_1</th>\n",
       "      <th>col_2</th>\n",
       "    </tr>\n",
       "  </thead>\n",
       "  <tbody>\n",
       "    <tr>\n",
       "      <td>-0.052</td>\n",
       "      <td>[-0.032  0.07   1.116 -0.037 -0.158]</td>\n",
       "      <td>[ 0.904  0.037 -0.161]</td>\n",
       "    </tr>\n",
       "    <tr>\n",
       "      <td>0.063</td>\n",
       "      <td>[-0.332 -0.201  1.023 -0.003 -0.094]</td>\n",
       "      <td>[ 0.823 -0.149 -0.163]</td>\n",
       "    </tr>\n",
       "    <tr>\n",
       "      <td>-0.059</td>\n",
       "      <td>[-0.233  0.238  0.864 -0.135 -0.017]</td>\n",
       "      <td>[ 0.765 -0.363  0.206]</td>\n",
       "    </tr>\n",
       "    <tr>\n",
       "      <td>0.098</td>\n",
       "      <td>[-0.107  0.038  1.081 -0.111  0.172]</td>\n",
       "      <td>[ 1.023 -0.136  0.092]</td>\n",
       "    </tr>\n",
       "    <tr>\n",
       "      <td>-0.046</td>\n",
       "      <td>[-0.115  0.066  1.089 -0.017  0.105]</td>\n",
       "      <td>[0.786 0.098 0.171]</td>\n",
       "    </tr>\n",
       "  </tbody>\n",
       "</table>"
      ],
      "text/plain": [
       "      col_0                                              col_1  \\\n",
       "0 -0.052472  [-0.03184875, 0.069637425, 1.1164997, -0.03714...   \n",
       "1  0.062565  [-0.33237028, -0.20095612, 1.0229388, -0.00261...   \n",
       "2 -0.059083  [-0.23313682, 0.23840849, 0.86356616, -0.13525...   \n",
       "3  0.098077  [-0.106711365, 0.038182132, 1.0814103, -0.1106...   \n",
       "4 -0.046089  [-0.115281835, 0.066132404, 1.0892407, -0.0167...   \n",
       "\n",
       "                                    col_2  \n",
       "0   [0.90351623, 0.036779318, -0.1610516]  \n",
       "1  [0.82264936, -0.14863169, -0.16314198]  \n",
       "2   [0.76470673, -0.36314318, 0.20581032]  \n",
       "3    [1.0230685, -0.13624594, 0.09243359]  \n",
       "4     [0.7860198, 0.09811235, 0.17112109]  "
      ]
     },
     "execution_count": 22,
     "metadata": {},
     "output_type": "execute_result"
    }
   ],
   "source": [
    "t.select(t.clip[0], t.clip[5:10], t.clip[-3:]).head(5)"
   ]
  },
  {
   "cell_type": "markdown",
   "id": "efba11df-cad4-4487-b572-cf92a0c08017",
   "metadata": {},
   "source": [
    "### Ad hoc UDFs with `apply`\n",
    "\n",
    "We've now seen the most commonly encountered Pixeltable expression types. There are a few other less commonly encountered expressions that are occasionally useful.\n",
    "\n",
    "You can use `apply` to map any Python function onto a column of data. You can think of `apply` as a quick way of constructing an \"on-the-fly\" UDF for one-off use."
   ]
  },
  {
   "cell_type": "code",
   "execution_count": 23,
   "id": "7c558028-433d-4efa-8832-a033299bb17f",
   "metadata": {},
   "outputs": [
    {
     "data": {
      "text/html": [
       "<table border=\"1\" class=\"dataframe\">\n",
       "  <thead>\n",
       "    <tr style=\"text-align: right;\">\n",
       "      <th>dumps</th>\n",
       "    </tr>\n",
       "  </thead>\n",
       "  <tbody>\n",
       "    <tr>\n",
       "      <td>b&#x27;\\x80\\x02cnumpy.core.multiarray\\n_reconstruct\\nq\\x00cnumpy\\nndarray\\nq\\x01K\\x00\\x85q\\x02c_codecs\\nencode\\nq\\x03X\\x01\\x00\\x00\\x00bq\\x04X\\x06\\x00\\x00\\x00latin1q\\x05\\x86q\\x06Rq\\x07\\x87q\\x08Rq\\t(K\\x01M\\x00\\x02\\x85q\\ncnumpy\\ndtype\\nq\\x0bX\\x02\\x00\\x00\\x00f4q\\x0c\\x89\\x88\\x87q\\rRq\\x0e(K\\x03X\\x01\\x00\\x00\\x00&lt;q\\x0fNNNJ\\xff\\xff\\xff\\xffJ\\xff\\xff\\xff\\xffK\\x00tq\\x10b\\x89h\\x03X\\xf4\\x0b\\x00\\x00\\xc3\\xbf\\xc3\\xacV\\xc2\\xbdl\\xc2\\xbe\\xc2\\x84\\xc2\\xbe@w\\xc3\\xb6\\xc2\\xbe(\\xc2\\xb0 \\xc2\\xbf*{Y=\\xc3\\x96s\\x02\\xc2\\xbd\\x11\\xc2\\x9e\\xc2\\x8e=v\\xc3\\xa9\\xc2\\x8e?&quot;(\\x18\\xc2\\xbdr\\x05&quot;\\xc2\\xbe\\xc3\\xbf1\\x0f?6,\\xc3\\x84&gt;\\xc2\\x8a^\\xc3\\xb3&gt;\\xc2\\xa6lD\\xc2\\xbef5 \\xc2\\xbe\\xc3\\xb8:\\xc2\\xa4=3\\&#x27;\\xc2\\xb8&gt;\\xc3\\xaf7w\\xc2\\xbb\\xc3\\x99=#\\xc2\\xbec\\xc2\\xb3@=+|\\x19\\xc2\\xbe\\xc3\\xa8\\xc3\\xaf\\xc2\\x82&gt;\\xc3\\x9c\\xc3\\xbeF\\xc2\\xbe{\\x10\\xc2\\x80&gt;\\xc2\\x81\\xc3\\xb2\\xc2\\x8f&lt;\\xc2\\xb4\\x18\\xc3\\x87=\\xc2\\xa9\\xc3\\x83\\x14\\xc2\\xbe\\xc3\\xabo2=\\x03\\&#x27;\\xc3\\x97&lt;\\xc3\\x91@\\x16\\xc2\\xbe\\xc2\\xb9\\xc2\\x96U&gt;\\xc2\\xab\\x15\\xc2\\xac\\xc2\\xbe\\xc3\\x90\\xc2\\xb3\\xc2\\xab=\\x00\\xc2\\xb10\\xc2\\xbd\\xc3\\xb8\\xc2\\x82P\\xc2\\xbea\\xc2\\x83[\\xc2\\xbeYf\\xc2\\x9b=]\\xc2\\x8c\\xc3\\xb4\\xc2\\xbd\\xc3\\x95\\xc2\\x87\\xc2\\x9b\\xc2\\xbe7S\\xc2\\x81\\xc2\\xbf\\xc3\\xa3\\xc2\\x8fO=\\xc3\\xa8!,\\xc2\\xbeP\\xc3\\x98\\xc2\\x98\\xc2\\xbe\\xc2\\xb1\\x06\\x04\\xc2\\xbf2\\xc3\\xbb\\xc3\\x9a\\xc2\\xbe\\xc3\\xae|@?p\\x16]&gt;\\xc3\\x8c}\\x00&gt;\\xc2\\x98\\xc2\\xb0\\xc2\\xa4=^\\xc3\\x94\\xc3\\x9e\\xc2\\xbe]\\&#x27;L=\\x0b\\xc3&#x27; ...... b&#x27;\\$\\x01\\x11&gt;EFw&gt;\\xc2\\xbc\\xc2\\x86G\\xc2\\xbe`\\xc3\\xac;\\xc2\\xbd\\xc3\\x86(%&gt;\\xc2\\x84s\\x0c&gt;\\xc3\\x80\\tx&lt;\\xc2\\xb6\\xc2\\x8f\\xc3\\xbf=e\\xc2\\x9b\\xc3\\x87\\xc2\\xbd\\xc2\\xa4M6?\\xc2\\xb8\\xc2\\x8d\\xc2\\xb1&gt;-iP=OJ1\\xc2\\xbcb\\xc3\\xa0\\xc2\\x9c&gt;\\xc3\\x92a\\xc3\\x97\\xc2\\xbd\\xc3\\xbc\\xc2\\x88\\xc2\\xb9&gt;\\xc3\\x9d\\x01\\x1d=&lt;\\xc3\\x95:\\xc2\\xbe.\\xc3\\xb5*\\xc2\\xbf\\x162z\\xc2\\xbe\\xc2\\x82.\\xc2\\xb3\\xc2\\xbe\\xc2\\xa5\\xc2\\xa9\\x03&gt;\\xc2\\x89[\\xc2\\xa0=\\x1a[\\xc3\\xbc\\xc2\\xbd\\xc3\\xaf\\xc2\\x90\\xc2\\x89\\xc2\\xbe\\x1a\\xc2\\x87%\\xc2\\xbeZ\\xc2\\xae\\xc2\\x9c\\xc2\\xbe\\xc2\\xa0\\xc3\\xbd\\n\\xc2\\xbf2\\xc2\\xaa\\xc2\\x90\\xc2\\xbd\\xc2\\x8c\\xc2\\x86\\xc3\\xbd\\xc2\\xbd\\xc2\\x95\\xc2\\xaeE\\xc2\\xbe?\\xc2\\x80\\xc3\\x83\\xc2\\xbe\\xc2\\xb64\\x04&gt;\\xc3\\xa2\\xc2\\xa6\\xc2\\xb6\\xc2\\xbdK\\x0f3?}}L&gt;\\xc3\\x97D\\xc2\\x85\\xc2\\xbe\\x10\\x1d\\xc2\\x9e\\xc2\\xbe\\x1b\\xc3\\xaa\\xc3\\xa8=\\xc3\\xba3\\xc2\\x8c&gt;\\xc2\\xb6\\xc3\\xb6 &gt;\\xc3\\x8f\\xc2\\xac@\\xc2\\xbd\\n\\xc3\\x9ba\\xc2\\xbe\\xc2\\xb0x\\xc3\\x87\\xc2\\xbe\\xc2\\x95\\x08\\x1c\\xc2\\xbe\\xc2\\xa3\\xc3\\xb6\\xc2\\xbd\\xc2\\xbe\\xc3\\x9d\\$\\xc2\\xb5&lt;\\xc3\\x9e\\xc2\\x8f%\\xc2\\xbe\\xc2\\xa5O(&gt;ZS\\r=h\\x02\\xc2\\x88\\xc2\\xbe\\xc3\\x99C\\xc2\\xb5&gt;\\xc3\\x85q\\x1a\\xc2\\xbc\\xc3\\x89!M&gt;\\xc2\\xbfk\\xc2\\x8c&gt;&gt;\\\\\\x02\\xc2\\xbe&gt;\\xc2\\x89\\xc3\\x84=|\\xc2\\xa2?\\xc2\\xbf\\xc3\\xb5\\xc2\\xacS=\\x17\\xc2\\x89s\\xc2\\xbe[\\xc2\\x83f\\xc2\\xbe\\xc3\\xb8\\xc3\\xa4\\xc2\\x84&gt;\\xc2\\x92^\\xc2\\xae\\xc2\\xbd~p}&lt;\\xc3\\x8a\\xc3\\xa3\\xc2\\xb9=\\x13\\$\\xc3\\xa9\\xc2\\xbd~\\xc3\\xab\\xc3\\x96\\xc2\\xbc\\xc3\\xa5]G\\xc2\\xbe\\xc3\\xb5\\x1aV=\\xc3\\x97\\xc2\\x83X\\xc2\\xbe\\xc2\\x89:\\x0b9lG\\x15=~\\xc3\\xb5\\xc3\\xaf&gt;e\\xc2\\xb1B\\xc2\\xbem\\xc2\\x9b\\xc2\\xa1=z\\xc3\\x8c\\xc2\\xb1=\\xc3\\x96\\n\\xc2\\xb1\\xc2\\xbe\\xc3\\x97Lg?\\xc3\\xa9\\xc2\\xa5\\x16=\\xc2\\xb6\\xc3\\xaa\\$\\xc2\\xbeq\\x11h\\x05\\x86q\\x12Rq\\x13tq\\x14b.&#x27;</td>\n",
       "    </tr>\n",
       "    <tr>\n",
       "      <td>b&#x27;\\x80\\x02cnumpy.core.multiarray\\n_reconstruct\\nq\\x00cnumpy\\nndarray\\nq\\x01K\\x00\\x85q\\x02c_codecs\\nencode\\nq\\x03X\\x01\\x00\\x00\\x00bq\\x04X\\x06\\x00\\x00\\x00latin1q\\x05\\x86q\\x06Rq\\x07\\x87q\\x08Rq\\t(K\\x01M\\x00\\x02\\x85q\\ncnumpy\\ndtype\\nq\\x0bX\\x02\\x00\\x00\\x00f4q\\x0c\\x89\\x88\\x87q\\rRq\\x0e(K\\x03X\\x01\\x00\\x00\\x00&lt;q\\x0fNNNJ\\xff\\xff\\xff\\xffJ\\xff\\xff\\xff\\xffK\\x00tq\\x10b\\x89h\\x03X\\x1b\\x0c\\x00\\x00\\xc3\\xaa!\\xc2\\x80=\\xc3\\x86v2\\xc2\\xbe}\\xc2\\x99\\xc2\\x86\\xc2\\xbe0\\xc2\\x9a\\x18\\xc2\\xbf\\x13O_&gt;p,\\xc2\\xaa\\xc2\\xbeq\\xc3\\x87M\\xc2\\xbe\\xc2\\xa9\\xc3\\xaf\\xc2\\x82?^&amp;+\\xc2\\xbb\\xc2\\xa1\\x1f\\xc3\\x81\\xc2\\xbd\\xc3\\x9aA\\xc3\\x89&gt;\\xc2\\xae\\xc2\\xa0\\xc3\\xa9=\\r\\xc3\\x9c\\xc3\\x9f&gt;\\xc3\\xa0\\xc2\\xa4\\xc2\\xb1\\xc2\\xbe\\xc2\\xba\\xc3\\xa7\\xc3\\xae\\xc2\\xbcT\\xc2\\xad\\$=\\xc3\\x8426&gt;\\xc3\\xac~\\xc2\\x9a\\xc2\\xbc\\xc3\\x86\\xc3\\x93\\xc3\\x8b&lt;\\xc3\\xa8\\r\\xc3\\x88=\\xc3\\xb30\\xc2\\x8f\\xc2\\xbd&quot;\\xc2\\x8b+\\xc2\\xbdO\\xc2\\x86\\xc2\\xbc&lt;\\x17|`&gt;\\x07\\xc2\\x8a\\xc2\\x99\\xc2\\xbc\\xc2\\xbd\\xc3\\x86\\xc3\\x99=\\ng\\xc2\\xa6\\xc2\\xbe1\\x03\\xc3\\x9d\\xc2\\xbe\\xc3\\xae:\\xc2\\xa6=\\xc3\\x8aHp\\xc2\\xbev\\xc2\\x9c\\xc3\\x85&lt;&quot;\\xc3\\xb6\\\\\\xc2\\xbe&amp;\\xc3\\x94\\xc2\\x8c=/\\xc3\\xa9\\x11=\\x00\\xc2\\xaa\\x05\\xc2\\xbeyg\\xc3\\x9d\\xc2\\xbep\\xc3\\x9e\\x12&gt;\\xc2\\x9c\\xc2\\x8c\\x00\\xc2\\xbe)\\xc3\\x9b\\xc2\\xaa\\xc2\\xbdT\\xc2\\xb1\\xc2\\x92\\xc2\\xbf\\xc2\\xa6\\x06\\xc3\\x9a\\xc2\\xbd\\xc3\\x9b\\xc2\\x81\\xc2\\x94\\xc2\\xbe\\xc2\\x98oz\\xc2\\xbe\\xc2\\xa8\\x01\\xc2\\x91\\xc2\\xbd\\xc3\\x8d\\xc2\\x84n\\xc2\\xbe!,\\xc2\\x8a?\\x12\\x18J\\xc2\\xbd\\xc2\\x9f,&lt;&gt;3V\\xc3\\x83=\\xc3\\xa7&#x27; ...... b&quot;\\xb8&lt;;\\xc2\\xa1\\x15\\xc2\\xbev=\\xc2\\x89=\\xc3\\xa4[G&gt;/Qj&gt;\\xc3\\x95\\xc3\\xaee&gt;\\xc3\\xbc5\\xc3\\x9c\\xc2\\xbd.\\xc2\\x8b\\xc2\\x9a\\xc2\\xbe\\xc2\\xa8\\xc2\\x89\\x11?\\x1a]\\xc2\\xbe&gt;\\x06\\xc2\\x84\\xc2\\x83&gt;\\xc2\\xacr\\xc2\\x84\\xc2\\xbe\\xc2\\x8c\\xc3\\xa4\\xc2\\x87&gt;eQ\\x14\\xc2\\xbeA\\xc2\\xa0.&gt;\\xc3\\xb0X\\xc2\\xbf\\xc2\\xbdl\\xc3\\x8d\\xc3\\x93\\xc2\\xbew\\xc3\\xb2\\xc3\\xa2\\xc2\\xbe\\t\\xc2\\x86\\xc3\\xbc\\xc2\\xbd\\xc2\\xba\\xc3\\xb0\\t\\xc2\\xbf\\xc3\\x8a\\xc3\\xaa1\\xc2\\xbe\\xc3\\x93\\xc3\\x8b\\xc2\\x92\\xc2\\xbd\\x06_&#x27;\\xc2\\xbe\\xc2\\x8c\\xc2\\xa8\\xc2\\xa3\\xc2\\xbeU\\xc3\\xab\\xc3\\x99\\xc2\\xbd\\xc3\\x8e\\xc2\\x84i\\xc2\\xbee\\xc2\\x8bF\\xc2\\xbf\\xc2\\xbe\\xc3\\x8dv&gt;N\\xc2\\xb3\\xc3\\xb5&lt;\\xc2\\x99a\\xc2\\x8e;\\xc3\\xb2H\\xc2\\x95\\xc2\\xbe1\\xc2\\x81J&gt;\\x1e@\\xc2\\xa5\\xc2\\xbd\\xc3\\x83,\\xc2\\x8b?\\xc2\\x92\\x18\\xc3\\xbb&lt;\\x0c_[\\xc2\\xbeq\\x1e\\xc3\\xa2\\xc2\\xbdU\\xc3\\x9a\\x1d\\xc2\\xbc#\\xc2\\x9e\\xc2\\xbf&gt;e2\\xc2\\xbf&gt;\\x1e 0\\xc2\\xbe\\xc2\\x88@\\x0b\\xc2\\xbe\\xc2\\xb7-A\\xc2\\xbe\\xc2\\xa5\\x03\\xc2\\x99\\xc2\\xbdr\\xc3\\x91\\xc3\\x85\\xc2\\xbe\\xc3\\x8a\\xc3\\x9ey=\\xc3\\x91\\x02\\xc2\\x9f\\xc2\\xbd\\xc3\\xbe\\xc3\\xa52\\xc2\\xbe|-\\xc2\\x8e=\\x7f\\xc2\\x87\\xc2\\xa7\\xc2\\xbd\\xc2\\xa2\\n\\xc2\\x9d&gt;\\xc3\\x9e\\n\\xc3\\xa8={\\xc3\\x87S\\xc2\\xbd\\xc3\\xaa\\xc3\\x94H&gt;~\\x11F\\xc2\\xbe?D\\x08&gt;\\xc2\\xb2\\x13\\x0e\\xc2\\xbf\\xc2\\xaaa*&gt;\\xc3\\x9a\\xc2\\x9c\\xc2\\xb5\\xc2\\xbe\\xc3\\x81\\xc3\\xa2H&gt;l\\xc3\\xb7i&gt;\\xc3\\xbd\\xc2\\xa2\\xc3\\xb6=&amp;p\\xc2\\x86=\\xc2\\xb6\\xc3\\xbdt&lt;\\xc2\\xb6R\\xc3\\x80\\xc2\\xbe&#x27;\\xc2\\xab\\x00\\xc2\\xbe\\xc2\\x87;V\\xc2\\xbd\\xc3\\x86\\xc2\\x88\\xc2\\xa9=\\x1f\\xc2\\xbf\\xc3\\x8a\\xc2\\xbe\\xc3\\x9e\\xc3\\x8c\\xc3\\xa8&lt;\\xc3\\x91\\xc3\\xad\\xc3\\x88=\\xc2\\xa1\\x07\\xc2\\xbd&gt;\\xc2\\x85&amp;N\\xc2\\xbe\\xc3\\x9f\\xc3\\x8d\\xc2\\x96&gt;Ae\\xc3\\xa3&lt;\\xc2\\x9a\\xc3\\xb8\\xc2\\x9e:&amp;\\xc2\\x99R?\\xc3\\xa82\\x18\\xc2\\xbe\\xc2\\xb1\\x0e&#x27;\\xc2\\xbeq\\x11h\\x05\\x86q\\x12Rq\\x13tq\\x14b.&quot;</td>\n",
       "    </tr>\n",
       "  </tbody>\n",
       "</table>"
      ],
      "text/plain": [
       "                                               dumps\n",
       "0  b'\\x80\\x02cnumpy.core.multiarray\\n_reconstruct...\n",
       "1  b'\\x80\\x02cnumpy.core.multiarray\\n_reconstruct..."
      ]
     },
     "execution_count": 23,
     "metadata": {},
     "output_type": "execute_result"
    }
   ],
   "source": [
    "import numpy as np\n",
    "\n",
    "t.select(t.clip.apply(np.ndarray.dumps, col_type=pxt.String)).head(2)"
   ]
  },
  {
   "cell_type": "markdown",
   "id": "d6cc7bc8-7b81-4ee3-96df-0fb11be8617c",
   "metadata": {},
   "source": [
    "Note, however, that if the function you're `apply`ing doesn't have type hints (as in the example here), you'll need to specify the output column type explicitly."
   ]
  },
  {
   "cell_type": "markdown",
   "id": "cff7dc93-a553-4fe1-b664-0d82a08df372",
   "metadata": {},
   "source": [
    "### Column Properties\n",
    "\n",
    "Some `ColumnRef` expressions have additional useful properties. A media column (image, video, audio, or document) has the following two properties:\n",
    "\n",
    "- `localpath`: the media location on the local filesystem\n",
    "- `fileurl`: the original URL where the media resides (could be the same as `localpath`)"
   ]
  },
  {
   "cell_type": "code",
   "execution_count": 24,
   "id": "1c85868e-d648-4133-9568-8151a122dff9",
   "metadata": {},
   "outputs": [
    {
     "data": {
      "text/html": [
       "<table border=\"1\" class=\"dataframe\">\n",
       "  <thead>\n",
       "    <tr style=\"text-align: right;\">\n",
       "      <th>image</th>\n",
       "      <th>image_localpath</th>\n",
       "    </tr>\n",
       "  </thead>\n",
       "  <tbody>\n",
       "    <tr>\n",
       "      <td><div class=\"pxt_image\" style=\"width:28px;\">\n",
       "                <img src=\"data:image/webp;base64,UklGRjQBAABXRUJQVlA4ICgBAADQBwCdASocABwAPm0wk0ckIyGhKAqogA2JaQATgDkgzcc0Q/qv5Mz5jyK/LHsAfqH/nE8VZwAZu/HNrmpfPK9PqD2yiBgAAAD+/5KsWrCrq9/+//uA5BBHAanH6EKeyCUbw/JEgElql69/9PFyh5Of0/yJ/g1hJ4xNv2eQvCf8fZCYANnho/vwZ88x1zLxm0uHAAqzErrn/ehXSb8I91evqhdrxJv+t+MJ+LAdoxg52UMCJO9asqLG74qmRFwBtwYmLD1qdhs5gA1+mxfu7DEmhoP3Zse+KW10ZX08J4wbCO4c25065frFQq3OieIh4HN9Tigr1hbBN7TjDDNqOJ0yiJXf11Zk6nwdufeBnF1Z3f+1x3lqj0oxvGQ3cBj382LzdHIrvMgAAA==\" width=\"28\" />\n",
       "            </div></td>\n",
       "      <td>/Users/asiegel/.pixeltable/media/bf755642aab7488e9b1ff8a513473359/b7/b7c0/bf755642aab7488e9b1ff8a513473359_0_1_b7c0c08517f144d79f1cf2fdabefb332</td>\n",
       "    </tr>\n",
       "    <tr>\n",
       "      <td><div class=\"pxt_image\" style=\"width:28px;\">\n",
       "                <img src=\"data:image/webp;base64,UklGRiQBAABXRUJQVlA4IBgBAADwBwCdASocABwAPm0skEWkIqGYDAYAQAbEtIAIo/9QxwP7NnAHPuZr3mb/VeqL6M3Uq/qqW6nbIzaK/81eOzr0bbbxa+zvuAAA/v72Q3GuFGAD647Uhmi3XcgQoGdu0UqHvqH8f30LmVKupO/7WTRq0i24h/jgzohv3bnndohaOxGyqEvvOYAikAolsRjBMDfq6CaATYlYkJj5P/PYajfMb9AfbAhm9Tb4cPtzk32RJAR8zay3gK9xkPfYZLRnpq6918mnv0b5l1WuWF2hbwAWlTnpuH/DSgnL/d0Q57IMv/CedTiJ75/5zGe/m3/ZfszdKN5Gy3+Tfp3YPZfgmQrK7609nrUsVVoK+tqvi745MvFFZGSRQAAA\" width=\"28\" />\n",
       "            </div></td>\n",
       "      <td>/Users/asiegel/.pixeltable/media/bf755642aab7488e9b1ff8a513473359/36/3621/bf755642aab7488e9b1ff8a513473359_0_1_3621003d1ad543bb980390ca9e250467</td>\n",
       "    </tr>\n",
       "    <tr>\n",
       "      <td><div class=\"pxt_image\" style=\"width:28px;\">\n",
       "                <img src=\"data:image/webp;base64,UklGRgwBAABXRUJQVlA4IAABAADQBgCdASocABwAPmUokEWkIqGYBgBABkS0gAiDWOn/O64Fyc6bdzM/mb0Rf9eMy0WJdalc1libkAWW2NVxNuAA/v64QCovblKmg0f+W0ZZcARl3VFwt3Me2//WBL3XQG9jFMtCbP2/7/8iAx77/63rAOXqXQb4/5fxOfX6dhbdz8RiUBPDGYm3+0zQKd/yJ6nJ/wrrs3PTXnKnmhhuYU8Uxq490SSosQ+XKNkTuELTWbEWLmHhkQyX+ztvzsu2W9YIvpnCZdQJmbCatf/VLzMynv3//DX7wD/xwBwquIjgKds5cDEzbicXGdkuM37Yt4ancr9u1dBaSMfI0UVgoAAA\" width=\"28\" />\n",
       "            </div></td>\n",
       "      <td>/Users/asiegel/.pixeltable/media/bf755642aab7488e9b1ff8a513473359/a5/a59d/bf755642aab7488e9b1ff8a513473359_0_1_a59d3dc98f8b4d0b8b7b3151da2998a5</td>\n",
       "    </tr>\n",
       "    <tr>\n",
       "      <td><div class=\"pxt_image\" style=\"width:28px;\">\n",
       "                <img src=\"data:image/webp;base64,UklGRsQAAABXRUJQVlA4ILgAAADwBACdASocABwAPmEojkWkIqEb/VQAQAYEtIACIJfpf53anfwh5bFxZyxmg4dIzIAA/v8aTg5Pf4AaLvDOb2+nBLe7h4WLP4eah5+VtiBuH5fnAK/9o/+/4nl+i/XuYMSDuGzWvPP7PeYAYqDelo/gGeaJWXI9qBrwbupRut1RmHAmjHeJdu952t5DneGb8d1NHD67m1X/4Fr/ktLUCjUDM3A9y/Tmv/u48GyVebp9QUFiS+qkAAAA\" width=\"28\" />\n",
       "            </div></td>\n",
       "      <td>/Users/asiegel/.pixeltable/media/bf755642aab7488e9b1ff8a513473359/a5/a5b7/bf755642aab7488e9b1ff8a513473359_0_1_a5b704619a3f47bcbbfcfa70d5d7db5f</td>\n",
       "    </tr>\n",
       "    <tr>\n",
       "      <td><div class=\"pxt_image\" style=\"width:28px;\">\n",
       "                <img src=\"data:image/webp;base64,UklGRhIBAABXRUJQVlA4IAYBAAAQBwCdASocABwAPmkqkEWkIqGYBgBABoS0gAiDrbQKlm9OvPM8p+ijvgH6ADs18j7y7UsovRG992j1lWJXI+NjsAD+/p9i31NdsRkVHtTBTbgEfcsiV5cS5IfF+yS7MDdvlaSHRre6nuYBWIGIMPNc7//PKE5FDkecaPH1C5KuSA/FmB0Mw15jQ4M0b5oct9Sv71vHA8P6IA5GrLvUA+xjJCnISNNaYSiHVONthArmojGAh1x2X9w6ER0Oe1Yqh//8NUVB//4iTpFaItcumEp4Ryr+jO63PtCFdy7qk9dlTU9Mno2GIXYCVLSAkv7l2L/rqd15c4R/MS1/O/u2yTOuN7uvmCQA\" width=\"28\" />\n",
       "            </div></td>\n",
       "      <td>/Users/asiegel/.pixeltable/media/bf755642aab7488e9b1ff8a513473359/ef/ef35/bf755642aab7488e9b1ff8a513473359_0_1_ef352768c2e94b728fc6b4b6f492bfce</td>\n",
       "    </tr>\n",
       "  </tbody>\n",
       "</table>"
      ],
      "text/plain": [
       "                                               image  \\\n",
       "0  <PIL.JpegImagePlugin.JpegImageFile image mode=...   \n",
       "1  <PIL.JpegImagePlugin.JpegImageFile image mode=...   \n",
       "2  <PIL.JpegImagePlugin.JpegImageFile image mode=...   \n",
       "3  <PIL.JpegImagePlugin.JpegImageFile image mode=...   \n",
       "4  <PIL.JpegImagePlugin.JpegImageFile image mode=...   \n",
       "\n",
       "                                     image_localpath  \n",
       "0  /Users/asiegel/.pixeltable/media/bf755642aab74...  \n",
       "1  /Users/asiegel/.pixeltable/media/bf755642aab74...  \n",
       "2  /Users/asiegel/.pixeltable/media/bf755642aab74...  \n",
       "3  /Users/asiegel/.pixeltable/media/bf755642aab74...  \n",
       "4  /Users/asiegel/.pixeltable/media/bf755642aab74...  "
      ]
     },
     "execution_count": 24,
     "metadata": {},
     "output_type": "execute_result"
    }
   ],
   "source": [
    "t.select(t.image, t.image.localpath).head(5)"
   ]
  },
  {
   "cell_type": "markdown",
   "id": "e76aaa1f-5a13-46f4-a507-26e6a7729512",
   "metadata": {},
   "source": [
    "Any computed column will have two additional properties, `errortype` and `errormsg`. These properties will usually be `None`. However, if the computed column was created with `on_error='ignore'` and an exception was encountered during column execution, then the properties will contain additional information about the exception.\n",
    "\n",
    "To demonstrate this feature, we're going to deliberately trigger an exception in a computed column. The images in our example table are black and white, meaning they have only one color channel. If we try to extract a channel other than channel number `0`, we'll get an exception. Ordinarily when we call `add_column`, the exception is raised and the `add_column` operation is aborted."
   ]
  },
  {
   "cell_type": "code",
   "execution_count": 25,
   "id": "69589077-7f3a-48eb-ae5f-93792a4c2173",
   "metadata": {
    "scrolled": true,
    "tags": [
     "raises-exception"
    ]
   },
   "outputs": [
    {
     "name": "stdout",
     "output_type": "stream",
     "text": [
      "Computing cells:  32%|█████████████                            | 16/50 [00:00<00:00, 905.19 cells/s]\n"
     ]
    },
    {
     "ename": "Error",
     "evalue": "Error while evaluating computed column `channel`:\nband index out of range",
     "output_type": "error",
     "traceback": [
      "\u001b[0;31m---------------------------------------------------------------------------\u001b[0m",
      "\u001b[0;31mValueError\u001b[0m                                Traceback (most recent call last)",
      "File \u001b[0;32m~/Dropbox/workspace/pixeltable/pixeltable/pixeltable/exprs/row_builder.py:314\u001b[0m, in \u001b[0;36mRowBuilder.eval\u001b[0;34m(self, data_row, ctx, profile, ignore_errors)\u001b[0m\n\u001b[1;32m    313\u001b[0m start_time \u001b[38;5;241m=\u001b[39m time\u001b[38;5;241m.\u001b[39mperf_counter()\n\u001b[0;32m--> 314\u001b[0m \u001b[43mexpr\u001b[49m\u001b[38;5;241;43m.\u001b[39;49m\u001b[43meval\u001b[49m\u001b[43m(\u001b[49m\u001b[43mdata_row\u001b[49m\u001b[43m,\u001b[49m\u001b[43m \u001b[49m\u001b[38;5;28;43mself\u001b[39;49m\u001b[43m)\u001b[49m\n\u001b[1;32m    315\u001b[0m \u001b[38;5;28;01mif\u001b[39;00m profile \u001b[38;5;129;01mis\u001b[39;00m \u001b[38;5;129;01mnot\u001b[39;00m \u001b[38;5;28;01mNone\u001b[39;00m:\n",
      "File \u001b[0;32m~/Dropbox/workspace/pixeltable/pixeltable/pixeltable/exprs/function_call.py:429\u001b[0m, in \u001b[0;36mFunctionCall.eval\u001b[0;34m(self, data_row, row_builder)\u001b[0m\n\u001b[1;32m    427\u001b[0m \u001b[38;5;28;01mif\u001b[39;00m \u001b[38;5;28misinstance\u001b[39m(\u001b[38;5;28mself\u001b[39m\u001b[38;5;241m.\u001b[39mfn, func\u001b[38;5;241m.\u001b[39mCallableFunction) \u001b[38;5;129;01mand\u001b[39;00m \u001b[38;5;129;01mnot\u001b[39;00m \u001b[38;5;28mself\u001b[39m\u001b[38;5;241m.\u001b[39mfn\u001b[38;5;241m.\u001b[39mis_batched:\n\u001b[1;32m    428\u001b[0m     \u001b[38;5;66;03m# optimization: avoid additional level of indirection we'd get from calling Function.exec()\u001b[39;00m\n\u001b[0;32m--> 429\u001b[0m     data_row[\u001b[38;5;28mself\u001b[39m\u001b[38;5;241m.\u001b[39mslot_idx] \u001b[38;5;241m=\u001b[39m \u001b[38;5;28;43mself\u001b[39;49m\u001b[38;5;241;43m.\u001b[39;49m\u001b[43mfn\u001b[49m\u001b[38;5;241;43m.\u001b[39;49m\u001b[43mpy_fn\u001b[49m\u001b[43m(\u001b[49m\u001b[38;5;241;43m*\u001b[39;49m\u001b[43margs\u001b[49m\u001b[43m,\u001b[49m\u001b[43m \u001b[49m\u001b[38;5;241;43m*\u001b[39;49m\u001b[38;5;241;43m*\u001b[39;49m\u001b[43mkwargs\u001b[49m\u001b[43m)\u001b[49m\n\u001b[1;32m    430\u001b[0m \u001b[38;5;28;01melif\u001b[39;00m \u001b[38;5;28mself\u001b[39m\u001b[38;5;241m.\u001b[39mis_window_fn_call:\n",
      "File \u001b[0;32m/opt/miniconda3/envs/pxt/lib/python3.9/site-packages/PIL/Image.py:2555\u001b[0m, in \u001b[0;36mImage.getchannel\u001b[0;34m(self, channel)\u001b[0m\n\u001b[1;32m   2553\u001b[0m         \u001b[38;5;28;01mraise\u001b[39;00m \u001b[38;5;167;01mValueError\u001b[39;00m(msg) \u001b[38;5;28;01mfrom\u001b[39;00m \u001b[38;5;21;01me\u001b[39;00m\n\u001b[0;32m-> 2555\u001b[0m \u001b[38;5;28;01mreturn\u001b[39;00m \u001b[38;5;28mself\u001b[39m\u001b[38;5;241m.\u001b[39m_new(\u001b[38;5;28;43mself\u001b[39;49m\u001b[38;5;241;43m.\u001b[39;49m\u001b[43mim\u001b[49m\u001b[38;5;241;43m.\u001b[39;49m\u001b[43mgetband\u001b[49m\u001b[43m(\u001b[49m\u001b[43mchannel\u001b[49m\u001b[43m)\u001b[49m)\n",
      "\u001b[0;31mValueError\u001b[0m: band index out of range",
      "\nThe above exception was the direct cause of the following exception:\n",
      "\u001b[0;31mError\u001b[0m                                     Traceback (most recent call last)",
      "Cell \u001b[0;32mIn[25], line 1\u001b[0m\n\u001b[0;32m----> 1\u001b[0m \u001b[43mt\u001b[49m\u001b[38;5;241;43m.\u001b[39;49m\u001b[43madd_column\u001b[49m\u001b[43m(\u001b[49m\u001b[43mchannel\u001b[49m\u001b[38;5;241;43m=\u001b[39;49m\u001b[43mt\u001b[49m\u001b[38;5;241;43m.\u001b[39;49m\u001b[43mimage\u001b[49m\u001b[38;5;241;43m.\u001b[39;49m\u001b[43mgetchannel\u001b[49m\u001b[43m(\u001b[49m\u001b[38;5;241;43m1\u001b[39;49m\u001b[43m)\u001b[49m\u001b[43m)\u001b[49m\n",
      "File \u001b[0;32m~/Dropbox/workspace/pixeltable/pixeltable/pixeltable/catalog/table.py:414\u001b[0m, in \u001b[0;36mTable.add_column\u001b[0;34m(self, type, stored, print_stats, on_error, **kwargs)\u001b[0m\n\u001b[1;32m    412\u001b[0m new_col \u001b[38;5;241m=\u001b[39m \u001b[38;5;28mself\u001b[39m\u001b[38;5;241m.\u001b[39m_create_columns({col_name: col_schema})[\u001b[38;5;241m0\u001b[39m]\n\u001b[1;32m    413\u001b[0m \u001b[38;5;28mself\u001b[39m\u001b[38;5;241m.\u001b[39m_verify_column(new_col, \u001b[38;5;28mset\u001b[39m(\u001b[38;5;28mself\u001b[39m\u001b[38;5;241m.\u001b[39m_schema\u001b[38;5;241m.\u001b[39mkeys()), \u001b[38;5;28mset\u001b[39m(\u001b[38;5;28mself\u001b[39m\u001b[38;5;241m.\u001b[39m_query_names))\n\u001b[0;32m--> 414\u001b[0m status \u001b[38;5;241m=\u001b[39m \u001b[38;5;28;43mself\u001b[39;49m\u001b[38;5;241;43m.\u001b[39;49m\u001b[43m_tbl_version\u001b[49m\u001b[38;5;241;43m.\u001b[39;49m\u001b[43madd_column\u001b[49m\u001b[43m(\u001b[49m\u001b[43mnew_col\u001b[49m\u001b[43m,\u001b[49m\u001b[43m \u001b[49m\u001b[43mprint_stats\u001b[49m\u001b[38;5;241;43m=\u001b[39;49m\u001b[43mprint_stats\u001b[49m\u001b[43m,\u001b[49m\u001b[43m \u001b[49m\u001b[43mon_error\u001b[49m\u001b[38;5;241;43m=\u001b[39;49m\u001b[43mon_error\u001b[49m\u001b[43m)\u001b[49m\n\u001b[1;32m    415\u001b[0m FileCache\u001b[38;5;241m.\u001b[39mget()\u001b[38;5;241m.\u001b[39memit_eviction_warnings()\n\u001b[1;32m    416\u001b[0m \u001b[38;5;28;01mreturn\u001b[39;00m status\n",
      "File \u001b[0;32m~/Dropbox/workspace/pixeltable/pixeltable/pixeltable/catalog/table_version.py:503\u001b[0m, in \u001b[0;36mTableVersion.add_column\u001b[0;34m(self, col, print_stats, on_error)\u001b[0m\n\u001b[1;32m    501\u001b[0m \u001b[38;5;28mself\u001b[39m\u001b[38;5;241m.\u001b[39mschema_version \u001b[38;5;241m=\u001b[39m \u001b[38;5;28mself\u001b[39m\u001b[38;5;241m.\u001b[39mversion\n\u001b[1;32m    502\u001b[0m \u001b[38;5;28;01mwith\u001b[39;00m Env\u001b[38;5;241m.\u001b[39mget()\u001b[38;5;241m.\u001b[39mengine\u001b[38;5;241m.\u001b[39mbegin() \u001b[38;5;28;01mas\u001b[39;00m conn:\n\u001b[0;32m--> 503\u001b[0m     status \u001b[38;5;241m=\u001b[39m \u001b[38;5;28;43mself\u001b[39;49m\u001b[38;5;241;43m.\u001b[39;49m\u001b[43m_add_columns\u001b[49m\u001b[43m(\u001b[49m\u001b[43m[\u001b[49m\u001b[43mcol\u001b[49m\u001b[43m]\u001b[49m\u001b[43m,\u001b[49m\u001b[43m \u001b[49m\u001b[43mconn\u001b[49m\u001b[43m,\u001b[49m\u001b[43m \u001b[49m\u001b[43mprint_stats\u001b[49m\u001b[38;5;241;43m=\u001b[39;49m\u001b[43mprint_stats\u001b[49m\u001b[43m,\u001b[49m\u001b[43m \u001b[49m\u001b[43mon_error\u001b[49m\u001b[38;5;241;43m=\u001b[39;49m\u001b[43mon_error\u001b[49m\u001b[43m)\u001b[49m\n\u001b[1;32m    504\u001b[0m     _ \u001b[38;5;241m=\u001b[39m \u001b[38;5;28mself\u001b[39m\u001b[38;5;241m.\u001b[39m_add_default_index(col, conn)\n\u001b[1;32m    505\u001b[0m     \u001b[38;5;28mself\u001b[39m\u001b[38;5;241m.\u001b[39m_update_md(time\u001b[38;5;241m.\u001b[39mtime(), conn, preceding_schema_version\u001b[38;5;241m=\u001b[39mpreceding_schema_version)\n",
      "File \u001b[0;32m~/Dropbox/workspace/pixeltable/pixeltable/pixeltable/catalog/table_version.py:578\u001b[0m, in \u001b[0;36mTableVersion._add_columns\u001b[0;34m(self, cols, conn, print_stats, on_error)\u001b[0m\n\u001b[1;32m    576\u001b[0m     \u001b[38;5;66;03m# we need to re-initialize the sqlalchemy schema\u001b[39;00m\n\u001b[1;32m    577\u001b[0m     \u001b[38;5;28mself\u001b[39m\u001b[38;5;241m.\u001b[39mstore_tbl\u001b[38;5;241m.\u001b[39mcreate_sa_tbl()\n\u001b[0;32m--> 578\u001b[0m     \u001b[38;5;28;01mraise\u001b[39;00m exc\n\u001b[1;32m    579\u001b[0m \u001b[38;5;28;01mfinally\u001b[39;00m:\n\u001b[1;32m    580\u001b[0m     plan\u001b[38;5;241m.\u001b[39mclose()\n",
      "File \u001b[0;32m~/Dropbox/workspace/pixeltable/pixeltable/pixeltable/catalog/table_version.py:561\u001b[0m, in \u001b[0;36mTableVersion._add_columns\u001b[0;34m(self, cols, conn, print_stats, on_error)\u001b[0m\n\u001b[1;32m    559\u001b[0m plan\u001b[38;5;241m.\u001b[39mopen()\n\u001b[1;32m    560\u001b[0m \u001b[38;5;28;01mtry\u001b[39;00m:\n\u001b[0;32m--> 561\u001b[0m     num_excs \u001b[38;5;241m=\u001b[39m \u001b[38;5;28;43mself\u001b[39;49m\u001b[38;5;241;43m.\u001b[39;49m\u001b[43mstore_tbl\u001b[49m\u001b[38;5;241;43m.\u001b[39;49m\u001b[43mload_column\u001b[49m\u001b[43m(\u001b[49m\u001b[43mcol\u001b[49m\u001b[43m,\u001b[49m\u001b[43m \u001b[49m\u001b[43mplan\u001b[49m\u001b[43m,\u001b[49m\u001b[43m \u001b[49m\u001b[43mvalue_expr_slot_idx\u001b[49m\u001b[43m,\u001b[49m\u001b[43m \u001b[49m\u001b[43mconn\u001b[49m\u001b[43m,\u001b[49m\u001b[43m \u001b[49m\u001b[43mon_error\u001b[49m\u001b[43m)\u001b[49m\n\u001b[1;32m    562\u001b[0m \u001b[38;5;28;01mexcept\u001b[39;00m sql\u001b[38;5;241m.\u001b[39mexc\u001b[38;5;241m.\u001b[39mDBAPIError \u001b[38;5;28;01mas\u001b[39;00m exc:\n\u001b[1;32m    563\u001b[0m     \u001b[38;5;66;03m# Wrap the DBAPIError in an excs.Error to unify processing in the subsequent except block\u001b[39;00m\n\u001b[1;32m    564\u001b[0m     \u001b[38;5;28;01mraise\u001b[39;00m excs\u001b[38;5;241m.\u001b[39mError(\u001b[38;5;124mf\u001b[39m\u001b[38;5;124m'\u001b[39m\u001b[38;5;124mSQL error during execution of computed column `\u001b[39m\u001b[38;5;132;01m{\u001b[39;00mcol\u001b[38;5;241m.\u001b[39mname\u001b[38;5;132;01m}\u001b[39;00m\u001b[38;5;124m`:\u001b[39m\u001b[38;5;130;01m\\n\u001b[39;00m\u001b[38;5;132;01m{\u001b[39;00mexc\u001b[38;5;132;01m}\u001b[39;00m\u001b[38;5;124m'\u001b[39m) \u001b[38;5;28;01mfrom\u001b[39;00m \u001b[38;5;21;01mexc\u001b[39;00m\n",
      "File \u001b[0;32m~/Dropbox/workspace/pixeltable/pixeltable/pixeltable/store.py:265\u001b[0m, in \u001b[0;36mStoreBase.load_column\u001b[0;34m(self, col, exec_plan, value_expr_slot_idx, conn, on_error)\u001b[0m\n\u001b[1;32m    263\u001b[0m value_exc \u001b[38;5;241m=\u001b[39m result_row\u001b[38;5;241m.\u001b[39mget_exc(value_expr_slot_idx)\n\u001b[1;32m    264\u001b[0m \u001b[38;5;28;01mif\u001b[39;00m on_error \u001b[38;5;241m==\u001b[39m \u001b[38;5;124m'\u001b[39m\u001b[38;5;124mabort\u001b[39m\u001b[38;5;124m'\u001b[39m:\n\u001b[0;32m--> 265\u001b[0m     \u001b[38;5;28;01mraise\u001b[39;00m excs\u001b[38;5;241m.\u001b[39mError(\n\u001b[1;32m    266\u001b[0m         \u001b[38;5;124mf\u001b[39m\u001b[38;5;124m'\u001b[39m\u001b[38;5;124mError while evaluating computed column `\u001b[39m\u001b[38;5;132;01m{\u001b[39;00mcol\u001b[38;5;241m.\u001b[39mname\u001b[38;5;132;01m}\u001b[39;00m\u001b[38;5;124m`:\u001b[39m\u001b[38;5;130;01m\\n\u001b[39;00m\u001b[38;5;132;01m{\u001b[39;00mvalue_exc\u001b[38;5;132;01m}\u001b[39;00m\u001b[38;5;124m'\u001b[39m\n\u001b[1;32m    267\u001b[0m     ) \u001b[38;5;28;01mfrom\u001b[39;00m \u001b[38;5;21;01mvalue_exc\u001b[39;00m\n\u001b[1;32m    268\u001b[0m \u001b[38;5;66;03m# we store a NULL value and record the exception/exc type\u001b[39;00m\n\u001b[1;32m    269\u001b[0m error_type \u001b[38;5;241m=\u001b[39m \u001b[38;5;28mtype\u001b[39m(value_exc)\u001b[38;5;241m.\u001b[39m\u001b[38;5;18m__name__\u001b[39m\n",
      "\u001b[0;31mError\u001b[0m: Error while evaluating computed column `channel`:\nband index out of range"
     ]
    }
   ],
   "source": [
    "t.add_column(channel=t.image.getchannel(1))"
   ]
  },
  {
   "cell_type": "markdown",
   "id": "96c325cb-aff9-42d4-9a37-91d0c1dc83dc",
   "metadata": {},
   "source": [
    "But if we use `on_error='ignore'`, the exception will be logged in the column properties instead."
   ]
  },
  {
   "cell_type": "code",
   "execution_count": 26,
   "id": "245b5ac9-83b5-4a1e-866d-b5ecd0305e7c",
   "metadata": {},
   "outputs": [
    {
     "name": "stdout",
     "output_type": "stream",
     "text": [
      "Computing cells: 100%|████████████████████████████████████████| 50/50 [00:00<00:00, 1718.16 cells/s]\n",
      "Added 50 column values with 50 errors.\n"
     ]
    },
    {
     "data": {
      "text/plain": [
       "UpdateStatus(num_rows=50, num_computed_values=50, num_excs=50, updated_cols=[], cols_with_excs=['mnist_tmp_69154325.channel'])"
      ]
     },
     "execution_count": 26,
     "metadata": {},
     "output_type": "execute_result"
    }
   ],
   "source": [
    "t.add_column(channel=t.image.getchannel(1), on_error='ignore')"
   ]
  },
  {
   "cell_type": "markdown",
   "id": "548b5a1c-4dc0-4736-9f90-05d9b656b16b",
   "metadata": {},
   "source": [
    "Notice that the update status informs us that there were 50 errors. If we query the table, we see that the column contains only `None` values, but the `errortype` and `errormsg` fields contain details of the error."
   ]
  },
  {
   "cell_type": "code",
   "execution_count": 27,
   "id": "b3b548fe-f8bd-438b-90fd-cab8d455b37d",
   "metadata": {},
   "outputs": [
    {
     "data": {
      "text/html": [
       "<table border=\"1\" class=\"dataframe\">\n",
       "  <thead>\n",
       "    <tr style=\"text-align: right;\">\n",
       "      <th>image</th>\n",
       "      <th>channel</th>\n",
       "      <th>channel_errortype</th>\n",
       "      <th>channel_errormsg</th>\n",
       "    </tr>\n",
       "  </thead>\n",
       "  <tbody>\n",
       "    <tr>\n",
       "      <td><div class=\"pxt_image\" style=\"width:28px;\">\n",
       "                <img src=\"data:image/webp;base64,UklGRjQBAABXRUJQVlA4ICgBAADQBwCdASocABwAPm0wk0ckIyGhKAqogA2JaQATgDkgzcc0Q/qv5Mz5jyK/LHsAfqH/nE8VZwAZu/HNrmpfPK9PqD2yiBgAAAD+/5KsWrCrq9/+//uA5BBHAanH6EKeyCUbw/JEgElql69/9PFyh5Of0/yJ/g1hJ4xNv2eQvCf8fZCYANnho/vwZ88x1zLxm0uHAAqzErrn/ehXSb8I91evqhdrxJv+t+MJ+LAdoxg52UMCJO9asqLG74qmRFwBtwYmLD1qdhs5gA1+mxfu7DEmhoP3Zse+KW10ZX08J4wbCO4c25065frFQq3OieIh4HN9Tigr1hbBN7TjDDNqOJ0yiJXf11Zk6nwdufeBnF1Z3f+1x3lqj0oxvGQ3cBj382LzdHIrvMgAAA==\" width=\"28\" />\n",
       "            </div></td>\n",
       "      <td>None</td>\n",
       "      <td>ValueError</td>\n",
       "      <td>band index out of range</td>\n",
       "    </tr>\n",
       "    <tr>\n",
       "      <td><div class=\"pxt_image\" style=\"width:28px;\">\n",
       "                <img src=\"data:image/webp;base64,UklGRiQBAABXRUJQVlA4IBgBAADwBwCdASocABwAPm0skEWkIqGYDAYAQAbEtIAIo/9QxwP7NnAHPuZr3mb/VeqL6M3Uq/qqW6nbIzaK/81eOzr0bbbxa+zvuAAA/v72Q3GuFGAD647Uhmi3XcgQoGdu0UqHvqH8f30LmVKupO/7WTRq0i24h/jgzohv3bnndohaOxGyqEvvOYAikAolsRjBMDfq6CaATYlYkJj5P/PYajfMb9AfbAhm9Tb4cPtzk32RJAR8zay3gK9xkPfYZLRnpq6918mnv0b5l1WuWF2hbwAWlTnpuH/DSgnL/d0Q57IMv/CedTiJ75/5zGe/m3/ZfszdKN5Gy3+Tfp3YPZfgmQrK7609nrUsVVoK+tqvi745MvFFZGSRQAAA\" width=\"28\" />\n",
       "            </div></td>\n",
       "      <td>None</td>\n",
       "      <td>ValueError</td>\n",
       "      <td>band index out of range</td>\n",
       "    </tr>\n",
       "    <tr>\n",
       "      <td><div class=\"pxt_image\" style=\"width:28px;\">\n",
       "                <img src=\"data:image/webp;base64,UklGRgwBAABXRUJQVlA4IAABAADQBgCdASocABwAPmUokEWkIqGYBgBABkS0gAiDWOn/O64Fyc6bdzM/mb0Rf9eMy0WJdalc1libkAWW2NVxNuAA/v64QCovblKmg0f+W0ZZcARl3VFwt3Me2//WBL3XQG9jFMtCbP2/7/8iAx77/63rAOXqXQb4/5fxOfX6dhbdz8RiUBPDGYm3+0zQKd/yJ6nJ/wrrs3PTXnKnmhhuYU8Uxq490SSosQ+XKNkTuELTWbEWLmHhkQyX+ztvzsu2W9YIvpnCZdQJmbCatf/VLzMynv3//DX7wD/xwBwquIjgKds5cDEzbicXGdkuM37Yt4ancr9u1dBaSMfI0UVgoAAA\" width=\"28\" />\n",
       "            </div></td>\n",
       "      <td>None</td>\n",
       "      <td>ValueError</td>\n",
       "      <td>band index out of range</td>\n",
       "    </tr>\n",
       "    <tr>\n",
       "      <td><div class=\"pxt_image\" style=\"width:28px;\">\n",
       "                <img src=\"data:image/webp;base64,UklGRsQAAABXRUJQVlA4ILgAAADwBACdASocABwAPmEojkWkIqEb/VQAQAYEtIACIJfpf53anfwh5bFxZyxmg4dIzIAA/v8aTg5Pf4AaLvDOb2+nBLe7h4WLP4eah5+VtiBuH5fnAK/9o/+/4nl+i/XuYMSDuGzWvPP7PeYAYqDelo/gGeaJWXI9qBrwbupRut1RmHAmjHeJdu952t5DneGb8d1NHD67m1X/4Fr/ktLUCjUDM3A9y/Tmv/u48GyVebp9QUFiS+qkAAAA\" width=\"28\" />\n",
       "            </div></td>\n",
       "      <td>None</td>\n",
       "      <td>ValueError</td>\n",
       "      <td>band index out of range</td>\n",
       "    </tr>\n",
       "    <tr>\n",
       "      <td><div class=\"pxt_image\" style=\"width:28px;\">\n",
       "                <img src=\"data:image/webp;base64,UklGRhIBAABXRUJQVlA4IAYBAAAQBwCdASocABwAPmkqkEWkIqGYBgBABoS0gAiDrbQKlm9OvPM8p+ijvgH6ADs18j7y7UsovRG992j1lWJXI+NjsAD+/p9i31NdsRkVHtTBTbgEfcsiV5cS5IfF+yS7MDdvlaSHRre6nuYBWIGIMPNc7//PKE5FDkecaPH1C5KuSA/FmB0Mw15jQ4M0b5oct9Sv71vHA8P6IA5GrLvUA+xjJCnISNNaYSiHVONthArmojGAh1x2X9w6ER0Oe1Yqh//8NUVB//4iTpFaItcumEp4Ryr+jO63PtCFdy7qk9dlTU9Mno2GIXYCVLSAkv7l2L/rqd15c4R/MS1/O/u2yTOuN7uvmCQA\" width=\"28\" />\n",
       "            </div></td>\n",
       "      <td>None</td>\n",
       "      <td>ValueError</td>\n",
       "      <td>band index out of range</td>\n",
       "    </tr>\n",
       "  </tbody>\n",
       "</table>"
      ],
      "text/plain": [
       "                                               image channel  \\\n",
       "0  <PIL.JpegImagePlugin.JpegImageFile image mode=...    None   \n",
       "1  <PIL.JpegImagePlugin.JpegImageFile image mode=...    None   \n",
       "2  <PIL.JpegImagePlugin.JpegImageFile image mode=...    None   \n",
       "3  <PIL.JpegImagePlugin.JpegImageFile image mode=...    None   \n",
       "4  <PIL.JpegImagePlugin.JpegImageFile image mode=...    None   \n",
       "\n",
       "  channel_errortype         channel_errormsg  \n",
       "0        ValueError  band index out of range  \n",
       "1        ValueError  band index out of range  \n",
       "2        ValueError  band index out of range  \n",
       "3        ValueError  band index out of range  \n",
       "4        ValueError  band index out of range  "
      ]
     },
     "execution_count": 27,
     "metadata": {},
     "output_type": "execute_result"
    }
   ],
   "source": [
    "t.select(t.image, t.channel, t.channel.errortype, t.channel.errormsg).head(5)"
   ]
  },
  {
   "cell_type": "markdown",
   "id": "a40c5c17-239f-466d-863f-efdbf52ff8ad",
   "metadata": {},
   "source": [
    "More details on Pixeltable's error handling can be found in the [Working with External Files](https://docs.pixeltable.com/docs/working-with-external-files) how-to guide."
   ]
  },
  {
   "cell_type": "markdown",
   "id": "6847abcb-1b78-4031-b097-8f4b7263b192",
   "metadata": {},
   "source": [
    "## The Pixeltable Type System"
   ]
  },
  {
   "cell_type": "markdown",
   "id": "3dac861b-e4d6-4f91-a55d-13530c3c4e0a",
   "metadata": {},
   "source": [
    "We've seen that every column and every expression in Pixeltable has an associated __Pixeltable type__. In this section, we'll briefly survey the various Pixeltable types and their uses.\n",
    "\n",
    "Here are all the supported types and their corresponding Python types:\n",
    "\n",
    "| Pixeltable type | Python type |\n",
    "|-----------------|-------------|\n",
    "| pxt.String | str |\n",
    "| pxt.Int | int |\n",
    "| pxt.Float | float |\n",
    "| pxt.Bool | bool |\n",
    "| pxt.Timestamp | datetime.datetime |\n",
    "| pxt.Json | ** |\n",
    "| pxt.Array | np.ndarray |\n",
    "| pxt.Image | PIL.Image.Image |\n",
    "| pxt.Video | str |\n",
    "| pxt.Audio | str |\n",
    "| pxt.Document | str |\n",
    "\n",
    "The Python type is what you'll get back if you query an expression of the given Pixeltable type. For `pxt.Json`, it can be any of `str`, `int`, `float`, `bool`, `list`, or `dict`.\n",
    "\n",
    "<div class=\"alert alert-block alert-info\">\n",
    "<code>pxt.Audio</code>, <code>pxt.Video</code>, and <code>pxt.Document</code> all correspond to the Python type <code>str</code>. This is because those types are represented by file paths that reference the media in question. When you query for, say, <code>t.select(t.video_col)</code>, you're guaranteed to get a file path on the <i>local</i> filesystem (Pixeltable will download and cache a local copy of the video if necessary to ensure this). If you want the original URL, use <code>t.video_col.fileurl</code> instead.\n",
    "</div>"
   ]
  },
  {
   "cell_type": "markdown",
   "id": "ff20bf54-f4a0-435b-9874-13a4e8471dd3",
   "metadata": {},
   "source": [
    "Several types can be __specialized__ to constrain the allowable data in a column.\n",
    "\n",
    "- `pxt.Image` can be specialized with a resolution and/or an image mode:\n",
    "  - `pxt.Image[(300,200)]` - images with width 300 and height 200\n",
    "  - `pxt.Image['RGB']` - images with mode `'RGB'`; see the [PIL Documentation](https://pillow.readthedocs.io/en/stable/handbook/concepts.html) for the full list\n",
    "  - `pxt.Image[(300,200), 'RGB']` - combines the above constraints\n",
    "- `pxt.Array` _must_ be specialized with a shape and a dtype:\n",
    "  - `pxt.Array[(64,64,3), pxt.Float]` - 3-dimensional arrays with dtype `pxt.Float` and 64x64x3 shape\n",
    "\n",
    "If we look at the structure of our table now, we see examples of specialized image and array types."
   ]
  },
  {
   "cell_type": "code",
   "execution_count": 28,
   "id": "0014d0c7-680c-4096-a599-50a788b1d840",
   "metadata": {},
   "outputs": [
    {
     "data": {
      "text/html": [
       "<style type=\"text/css\">\n",
       "#T_b7ce8 th {\n",
       "  text-align: center;\n",
       "}\n",
       "#T_b7ce8_row0_col0, #T_b7ce8_row0_col1, #T_b7ce8_row0_col2, #T_b7ce8_row1_col0, #T_b7ce8_row1_col1, #T_b7ce8_row1_col2, #T_b7ce8_row2_col0, #T_b7ce8_row2_col1, #T_b7ce8_row2_col2, #T_b7ce8_row3_col0, #T_b7ce8_row3_col1, #T_b7ce8_row3_col2, #T_b7ce8_row4_col0, #T_b7ce8_row4_col1, #T_b7ce8_row4_col2, #T_b7ce8_row5_col0, #T_b7ce8_row5_col1, #T_b7ce8_row5_col2 {\n",
       "  white-space: pre-wrap;\n",
       "  text-align: left;\n",
       "}\n",
       "</style>\n",
       "<table id=\"T_b7ce8\">\n",
       "  <thead>\n",
       "    <tr>\n",
       "      <th id=\"T_b7ce8_level0_col0\" class=\"col_heading level0 col0\" >Column Name</th>\n",
       "      <th id=\"T_b7ce8_level0_col1\" class=\"col_heading level0 col1\" >Type</th>\n",
       "      <th id=\"T_b7ce8_level0_col2\" class=\"col_heading level0 col2\" >Computed With</th>\n",
       "    </tr>\n",
       "  </thead>\n",
       "  <tbody>\n",
       "    <tr>\n",
       "      <td id=\"T_b7ce8_row0_col0\" class=\"data row0 col0\" >image</td>\n",
       "      <td id=\"T_b7ce8_row0_col1\" class=\"data row0 col1\" >Image</td>\n",
       "      <td id=\"T_b7ce8_row0_col2\" class=\"data row0 col2\" ></td>\n",
       "    </tr>\n",
       "    <tr>\n",
       "      <td id=\"T_b7ce8_row1_col0\" class=\"data row1 col0\" >label</td>\n",
       "      <td id=\"T_b7ce8_row1_col1\" class=\"data row1 col1\" >String</td>\n",
       "      <td id=\"T_b7ce8_row1_col2\" class=\"data row1 col2\" ></td>\n",
       "    </tr>\n",
       "    <tr>\n",
       "      <td id=\"T_b7ce8_row2_col0\" class=\"data row2 col0\" >classification</td>\n",
       "      <td id=\"T_b7ce8_row2_col1\" class=\"data row2 col1\" >Json</td>\n",
       "      <td id=\"T_b7ce8_row2_col2\" class=\"data row2 col2\" >vit_for_image_classification(image, model_id='farleyknight-org-username/vit-base-mnist')</td>\n",
       "    </tr>\n",
       "    <tr>\n",
       "      <td id=\"T_b7ce8_row3_col0\" class=\"data row3 col0\" >pred_label</td>\n",
       "      <td id=\"T_b7ce8_row3_col1\" class=\"data row3 col1\" >Json</td>\n",
       "      <td id=\"T_b7ce8_row3_col2\" class=\"data row3 col2\" >classification.label_text[0]</td>\n",
       "    </tr>\n",
       "    <tr>\n",
       "      <td id=\"T_b7ce8_row4_col0\" class=\"data row4 col0\" >clip</td>\n",
       "      <td id=\"T_b7ce8_row4_col1\" class=\"data row4 col1\" >Array[(512,), Float]</td>\n",
       "      <td id=\"T_b7ce8_row4_col2\" class=\"data row4 col2\" >clip_image(image, model_id='openai/clip-vit-base-patch32')</td>\n",
       "    </tr>\n",
       "    <tr>\n",
       "      <td id=\"T_b7ce8_row5_col0\" class=\"data row5 col0\" >channel</td>\n",
       "      <td id=\"T_b7ce8_row5_col1\" class=\"data row5 col1\" >Image['L']</td>\n",
       "      <td id=\"T_b7ce8_row5_col2\" class=\"data row5 col2\" >image.getchannel(1)</td>\n",
       "    </tr>\n",
       "  </tbody>\n",
       "</table>\n"
      ],
      "text/plain": [
       "table 'mnist'\n",
       "\n",
       "   Column Name                 Type                                                                            Computed With\n",
       "         image                Image                                                                                         \n",
       "         label               String                                                                                         \n",
       "classification                 Json vit_for_image_classification(image, model_id='farleyknight-org-username/vit-base-mnist')\n",
       "    pred_label                 Json                                                             classification.label_text[0]\n",
       "          clip Array[(512,), Float]                               clip_image(image, model_id='openai/clip-vit-base-patch32')\n",
       "       channel           Image['L']                                                                      image.getchannel(1)"
      ]
     },
     "execution_count": 28,
     "metadata": {},
     "output_type": "execute_result"
    }
   ],
   "source": [
    "t"
   ]
  },
  {
   "cell_type": "markdown",
   "id": "f7a11c3b-7907-4964-b8bb-0c5ea3d52612",
   "metadata": {},
   "source": [
    "`t.clip` has type `pxt.Array[(512,), pxt.Float]`, since the output of the embedding is always a 1x512 array. `t.channel` has type `Image['L']`, since it's always an `'L'` mode (1-channel) image."
   ]
  },
  {
   "cell_type": "markdown",
   "id": "d39b5ed0-5859-4992-9e64-cf0776537d88",
   "metadata": {},
   "source": [
    "<div class=\"alert alert-block alert-info\">\n",
    "You can freely use <code>pxt.Image</code> by itself to mean \"any image, without constraints\", but numerical arrays must always specify a shape and a dtype; <code>pxt.Array</code> by itself will raise an error.\n",
    "</div>"
   ]
  },
  {
   "cell_type": "markdown",
   "id": "57c4ba4f-b2f9-455c-b816-691db79a7eba",
   "metadata": {},
   "source": [
    "<div class=\"alert alert-block alert-info\">\n",
    "Array shapes follow standard numpy conventions: a shape is a tuple of integers, such as <code>(512,)</code> or <code>(64,64,3)</code>. A <code>None</code> may be used in place of an integer to indicate an unconstrained size for that dimension, as in <code>(None,None,3)</code> (3-dimensional array with two unconstrained dimensions), or simply <code>(None,)</code> (unconstrained 1-dimensional array).\n",
    "</div>"
   ]
  }
 ],
 "metadata": {
  "kernelspec": {
   "display_name": "Python 3 (ipykernel)",
   "language": "python",
   "name": "python3"
  },
  "language_info": {
   "codemirror_mode": {
    "name": "ipython",
    "version": 3
   },
   "file_extension": ".py",
   "mimetype": "text/x-python",
   "name": "python",
   "nbconvert_exporter": "python",
   "pygments_lexer": "ipython3",
   "version": "3.9.19"
  }
 },
 "nbformat": 4,
 "nbformat_minor": 5
}
