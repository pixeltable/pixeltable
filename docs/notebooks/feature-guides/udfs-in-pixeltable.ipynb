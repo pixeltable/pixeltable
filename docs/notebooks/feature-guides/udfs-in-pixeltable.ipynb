{
 "cells": [
  {
   "cell_type": "markdown",
   "id": "96282d95-63c9-4d09-bf43-6dccd5076046",
   "metadata": {},
   "source": [
    "[![Kaggle](https://kaggle.com/static/images/open-in-kaggle.svg)](https://kaggle.com/kernels/welcome?src=https://github.com/pixeltable/pixeltable/blob/release/docs/notebooks/feature-guides/udfs-in-pixeltable.ipynb)&nbsp;&nbsp;\n",
    "[![Colab](https://colab.research.google.com/assets/colab-badge.svg)](https://colab.research.google.com/github/pixeltable/pixeltable/blob/release/docs/notebooks/feature-guides/udfs-in-pixeltable.ipynb)\n",
    "\n",
    "# UDFs in Pixeltable\n",
    "\n",
    "Pixeltable comes with a library of built-in functions and integrations, but sooner or later, you'll want to introduce some customized logic into your workflow. This is where Pixeltable's rich UDF (User-Defined Function) capability comes in. Pixeltable UDFs let you write code in Python, then directly insert your custom logic into Pixeltable expressions and computed columns. In this how-to guide, we'll show how to define UDFs, extend their capabilities, and use them in computed columns.\n",
    "\n",
    "To start, we'll install the necessary dependencies, create a Pixeltable directory and table to experiment with, and add some sample data."
   ]
  },
  {
   "cell_type": "code",
   "execution_count": null,
   "id": "d35cd5f2-365b-43c6-94b2-0f4e308ca2a6",
   "metadata": {},
   "outputs": [],
   "source": [
    "%pip install -qU pixeltable"
   ]
  },
  {
   "cell_type": "code",
   "execution_count": 1,
   "id": "638d95c1-7c2f-4f38-a4e7-e7eaf830c881",
   "metadata": {},
   "outputs": [
    {
     "name": "stdout",
     "output_type": "stream",
     "text": [
      "Connected to Pixeltable database at: postgresql+psycopg://postgres:@/pixeltable?host=/Users/asiegel/.pixeltable/pgdata\n",
      "Created directory `udf_demo`.\n",
      "Created table `strings`.\n",
      "Inserting rows into `strings`: 2 rows [00:00, 763.99 rows/s]\n",
      "Inserted 2 rows with 0 errors.\n"
     ]
    },
    {
     "data": {
      "text/html": [
       "<table border=\"1\" class=\"dataframe\">\n",
       "  <thead>\n",
       "    <tr style=\"text-align: right;\">\n",
       "      <th>input</th>\n",
       "    </tr>\n",
       "  </thead>\n",
       "  <tbody>\n",
       "    <tr>\n",
       "      <td>Hello, world!</td>\n",
       "    </tr>\n",
       "    <tr>\n",
       "      <td>You can do a lot with Pixeltable UDFs.</td>\n",
       "    </tr>\n",
       "  </tbody>\n",
       "</table>"
      ],
      "text/plain": [
       "                                    input\n",
       "0                           Hello, world!\n",
       "1  You can do a lot with Pixeltable UDFs."
      ]
     },
     "execution_count": 1,
     "metadata": {},
     "output_type": "execute_result"
    }
   ],
   "source": [
    "import pixeltable as pxt\n",
    "\n",
    "# Create the directory and table\n",
    "pxt.drop_dir('udf_demo', force=True)  # Ensure a clean slate for the demo\n",
    "pxt.create_dir('udf_demo')\n",
    "t = pxt.create_table('udf_demo.strings', {'input': pxt.String})\n",
    "\n",
    "# Add some sample data\n",
    "t.insert([{'input': 'Hello, world!'}, {'input': 'You can do a lot with Pixeltable UDFs.'}])\n",
    "t.show()"
   ]
  },
  {
   "cell_type": "markdown",
   "id": "6a6310aa-ade3-4c0e-8e69-1e9b6f7ebf6d",
   "metadata": {},
   "source": [
    "## What is a UDF?\n",
    "\n",
    "A Pixeltable UDF is just a Python function that is marked with the `@pxt.udf` decorator.\n",
    "\n",
    "```python\n",
    "@pxt.udf\n",
    "def add_one(n: int) -> int:\n",
    "    return n + 1\n",
    "```\n",
    "\n",
    "It's as simple as that! Without the decorator, `add_one` would be an ordinary Python function that operates on integers. Adding `@pxt.udf` converts it into a Pixeltable function that operates on _columns_ of integers. The decorated function can then be used directly to define computed columns; Pixeltable will orchestrate its execution across all the input data."
   ]
  },
  {
   "cell_type": "markdown",
   "id": "54640b5d-5192-41ed-be80-82ffd1e140e0",
   "metadata": {},
   "source": [
    "For our first working example, let's do something slightly more interesting: write a function to extract the longest word from a sentence. (If there are ties for the longest word, we choose the first word among those ties.) In Python, that might look something like this:"
   ]
  },
  {
   "cell_type": "code",
   "execution_count": 2,
   "id": "d3ca2d38-4529-4fba-ad67-eb230a4d92d5",
   "metadata": {},
   "outputs": [],
   "source": [
    "import numpy as np\n",
    "\n",
    "def longest_word(sentence: str, strip_punctuation: bool = False) -> str:\n",
    "    words = sentence.split()\n",
    "    if strip_punctuation:  # Remove non-alphanumeric characters from each word\n",
    "        words = [''.join(filter(str.isalnum, word)) for word in words]\n",
    "    i = np.argmax([len(word) for word in words])\n",
    "    return words[i]"
   ]
  },
  {
   "cell_type": "code",
   "execution_count": 3,
   "id": "55629458-ca5f-437d-81bf-5e040e0f886f",
   "metadata": {},
   "outputs": [
    {
     "data": {
      "text/plain": [
       "'check'"
      ]
     },
     "execution_count": 3,
     "metadata": {},
     "output_type": "execute_result"
    }
   ],
   "source": [
    "longest_word(\"Let's check that it works.\", strip_punctuation=True)"
   ]
  },
  {
   "cell_type": "markdown",
   "id": "099e7b23-170c-4e62-81ce-61f1ac841df2",
   "metadata": {},
   "source": [
    "The `longest_word` Python function isn't a Pixeltable UDF (yet); it operates on individual strings, not columns of strings. Adding the decorator turns it into a UDF:"
   ]
  },
  {
   "cell_type": "code",
   "execution_count": 4,
   "id": "0e8bfcf9-9fef-44a6-83cc-b8232198ae18",
   "metadata": {},
   "outputs": [],
   "source": [
    "@pxt.udf\n",
    "def longest_word(sentence: str, strip_punctuation: bool = False) -> str:\n",
    "    words = sentence.split()\n",
    "    if strip_punctuation:  # Remove non-alphanumeric characters from each word\n",
    "        words = [''.join(filter(str.isalnum, word)) for word in words]\n",
    "    i = np.argmax([len(word) for word in words])\n",
    "    return words[i]"
   ]
  },
  {
   "cell_type": "markdown",
   "id": "936c0bb6-9ca6-4b66-873c-0c7cd6664856",
   "metadata": {},
   "source": [
    "Now we can use it to create a computed column. Pixeltable orchestrates the computation like it does with any other function, applying the UDF in turn to each existing row of the table, then updating incrementally each time a new row is added."
   ]
  },
  {
   "cell_type": "code",
   "execution_count": 5,
   "id": "32dd5d6f-eb8a-4db9-b224-238a913ff0c5",
   "metadata": {},
   "outputs": [
    {
     "name": "stdout",
     "output_type": "stream",
     "text": [
      "Computing cells: 100%|███████████████████████████████████████████| 2/2 [00:00<00:00, 138.28 cells/s]\n",
      "Added 2 column values with 0 errors.\n"
     ]
    },
    {
     "data": {
      "text/html": [
       "<table border=\"1\" class=\"dataframe\">\n",
       "  <thead>\n",
       "    <tr style=\"text-align: right;\">\n",
       "      <th>input</th>\n",
       "      <th>longest_word</th>\n",
       "    </tr>\n",
       "  </thead>\n",
       "  <tbody>\n",
       "    <tr>\n",
       "      <td>Hello, world!</td>\n",
       "      <td>Hello,</td>\n",
       "    </tr>\n",
       "    <tr>\n",
       "      <td>You can do a lot with Pixeltable UDFs.</td>\n",
       "      <td>Pixeltable</td>\n",
       "    </tr>\n",
       "  </tbody>\n",
       "</table>"
      ],
      "text/plain": [
       "                                    input longest_word\n",
       "0                           Hello, world!       Hello,\n",
       "1  You can do a lot with Pixeltable UDFs.   Pixeltable"
      ]
     },
     "execution_count": 5,
     "metadata": {},
     "output_type": "execute_result"
    }
   ],
   "source": [
    "t.add_computed_column(longest_word=longest_word(t.input))\n",
    "t.show()"
   ]
  },
  {
   "cell_type": "code",
   "execution_count": 6,
   "id": "61d81cc5-37ee-4d19-8f68-af9f6f8b7fad",
   "metadata": {},
   "outputs": [
    {
     "name": "stdout",
     "output_type": "stream",
     "text": [
      "Computing cells:   0%|                                                    | 0/3 [00:00<?, ? cells/s]\n",
      "Inserting rows into `strings`: 1 rows [00:00, 255.24 rows/s]\n",
      "Computing cells: 100%|███████████████████████████████████████████| 3/3 [00:00<00:00, 364.69 cells/s]\n",
      "Inserted 1 row with 0 errors.\n"
     ]
    },
    {
     "data": {
      "text/html": [
       "<table border=\"1\" class=\"dataframe\">\n",
       "  <thead>\n",
       "    <tr style=\"text-align: right;\">\n",
       "      <th>input</th>\n",
       "      <th>longest_word</th>\n",
       "    </tr>\n",
       "  </thead>\n",
       "  <tbody>\n",
       "    <tr>\n",
       "      <td>Hello, world!</td>\n",
       "      <td>Hello,</td>\n",
       "    </tr>\n",
       "    <tr>\n",
       "      <td>You can do a lot with Pixeltable UDFs.</td>\n",
       "      <td>Pixeltable</td>\n",
       "    </tr>\n",
       "    <tr>\n",
       "      <td>Pixeltable updates tables incrementally.</td>\n",
       "      <td>incrementally.</td>\n",
       "    </tr>\n",
       "  </tbody>\n",
       "</table>"
      ],
      "text/plain": [
       "                                      input    longest_word\n",
       "0                             Hello, world!          Hello,\n",
       "1    You can do a lot with Pixeltable UDFs.      Pixeltable\n",
       "2  Pixeltable updates tables incrementally.  incrementally."
      ]
     },
     "execution_count": 6,
     "metadata": {},
     "output_type": "execute_result"
    }
   ],
   "source": [
    "t.insert(input='Pixeltable updates tables incrementally.')\n",
    "t.show()"
   ]
  },
  {
   "cell_type": "markdown",
   "id": "7dc596c5-bcea-4df8-94c1-2aea6e0fbfdd",
   "metadata": {},
   "source": [
    "Oops, those trailing punctuation marks are kind of annoying. Let's add another column, this time using the handy `strip_punctuation` parameter from our UDF. (We could alternatively drop the first column before adding the new one, but for purposes of this tutorial it's convenient to see how Pixeltable executes both variants side-by-side.) Note how _columns_ such as `t.input` and _constants_ such as `True` can be freely intermixed as arguments to the UDF."
   ]
  },
  {
   "cell_type": "code",
   "execution_count": 7,
   "id": "847d6416-b430-4fe9-b951-1c2147174c1e",
   "metadata": {},
   "outputs": [
    {
     "name": "stdout",
     "output_type": "stream",
     "text": [
      "Computing cells: 100%|███████████████████████████████████████████| 3/3 [00:00<00:00, 252.91 cells/s]\n",
      "Added 3 column values with 0 errors.\n"
     ]
    },
    {
     "data": {
      "text/html": [
       "<table border=\"1\" class=\"dataframe\">\n",
       "  <thead>\n",
       "    <tr style=\"text-align: right;\">\n",
       "      <th>input</th>\n",
       "      <th>longest_word</th>\n",
       "      <th>longest_word_2</th>\n",
       "    </tr>\n",
       "  </thead>\n",
       "  <tbody>\n",
       "    <tr>\n",
       "      <td>Hello, world!</td>\n",
       "      <td>Hello,</td>\n",
       "      <td>Hello</td>\n",
       "    </tr>\n",
       "    <tr>\n",
       "      <td>You can do a lot with Pixeltable UDFs.</td>\n",
       "      <td>Pixeltable</td>\n",
       "      <td>Pixeltable</td>\n",
       "    </tr>\n",
       "    <tr>\n",
       "      <td>Pixeltable updates tables incrementally.</td>\n",
       "      <td>incrementally.</td>\n",
       "      <td>incrementally</td>\n",
       "    </tr>\n",
       "  </tbody>\n",
       "</table>"
      ],
      "text/plain": [
       "                                      input    longest_word longest_word_2\n",
       "0                             Hello, world!          Hello,          Hello\n",
       "1    You can do a lot with Pixeltable UDFs.      Pixeltable     Pixeltable\n",
       "2  Pixeltable updates tables incrementally.  incrementally.  incrementally"
      ]
     },
     "execution_count": 7,
     "metadata": {},
     "output_type": "execute_result"
    }
   ],
   "source": [
    "t.add_computed_column(\n",
    "    longest_word_2=longest_word(t.input, strip_punctuation=True)\n",
    ")\n",
    "t.show()"
   ]
  },
  {
   "cell_type": "markdown",
   "id": "b5811fb4-a9cd-46b3-bcdf-082880bebf65",
   "metadata": {},
   "source": [
    "## Types in UDFs\n",
    "\n",
    "You might have noticed that the `longest_word` UDF has _type hints_ in its signature.\n",
    "\n",
    "```python\n",
    "def longest_word(sentence: str, strip_punctuation: bool = False) -> str: ...\n",
    "```\n",
    "\n",
    "The `sentence` parameter, `strip_punctuation` parameter, and return value all have explicit types (`str`, `bool`, and `str` respectively). In general Python code, type hints are usually optional. But Pixeltable is a database system: _everything_ in Pixeltable must have a type. And since Pixeltable is also an orchestrator - meaning it sets up workflows and computed columns _before_ executing them - these types need to be known in advance. That's the reasoning behind a fundamental principle of Pixeltable UDFs:\n",
    "- Type hints are _required_.\n",
    "\n",
    "You can turn almost any Python function into a Pixeltable UDF, provided that it has type hints, and provided that Pixeltable supports the types that it uses. The most familiar types that you'll use in UDFs are:\n",
    "- `int`\n",
    "- `float`\n",
    "- `str`\n",
    "- `list` (can optionally be parameterized, e.g., `list[str]`)\n",
    "- `dict` (can optionally be parameterized, e.g., `dict[str, int]`)\n",
    "- `PIL.Image.Image`\n",
    "\n",
    "In addition to these standard Python types, Pixeltable also recognizes various kinds of arrays, audio and video media, and documents."
   ]
  },
  {
   "cell_type": "markdown",
   "id": "2527b31d-ce08-4a09-adee-3c0f3a6621e5",
   "metadata": {},
   "source": [
    "## Local and Module UDFs\n",
    "\n",
    "The `longest_word` UDF that we defined above is a _local_ UDF: it was defined directly in our notebook, rather than in a module that we imported. Many other UDFs, including all of Pixeltable's built-in functions, are defined in modules. We encountered a few of these in the Pixeltable Basics tutorial: the `huggingface.detr_for_object_detection` and `openai.vision` functions. (Although these are built-in functions, they behave the same way as UDFs, and in fact they're defined the same way under the covers.)\n",
    "\n",
    "There is an important difference between the two. When you add a module UDF such as `openai.vision` to a table, Pixeltable stores a _reference_ to the corresponding Python function in the module. If you later restart your Python runtime and reload Pixeltable, then Pixeltable will re-import the module UDF when it loads the computed column. This means that any code changes made to the UDF will be picked up at that time, and the new version of the UDF will be used in any future execution.\n",
    "\n",
    "Conversely, when you add a local UDF to a table, the _entire code_ for the UDF is serialized and stored in the table. This ensures that if you restart your notebook kernel (say), or even delete the notebook entirely, the UDF will continue to function. However, it also means that if you modify the UDF code, the updated logic will not be reflected in any existing Pixeltable columns.\n",
    "\n",
    "To see how this works in practice, let's modify our `longest_word` UDF so that if `strip_punctuation` is `True`, then we remove only a single punctuation mark from the _end_ of each word."
   ]
  },
  {
   "cell_type": "code",
   "execution_count": 8,
   "id": "fdb64049-12c3-4cd6-a6e0-a798aa46670a",
   "metadata": {},
   "outputs": [],
   "source": [
    "@pxt.udf\n",
    "def longest_word(sentence: str, strip_punctuation: bool = False) -> str:\n",
    "    words = sentence.split()\n",
    "    if strip_punctuation:\n",
    "        words = [\n",
    "            word if word[-1].isalnum() else word[:-1]\n",
    "            for word in words\n",
    "        ]\n",
    "    i = np.argmax([len(word) for word in words])\n",
    "    return words[i]"
   ]
  },
  {
   "cell_type": "markdown",
   "id": "3d67ba18-7ed7-4add-9980-831a7a889253",
   "metadata": {},
   "source": [
    "Now we see that Pixeltable continues to use the _old_ definition, even as new rows are added to the table."
   ]
  },
  {
   "cell_type": "code",
   "execution_count": 9,
   "id": "52a8cb29-9d81-4fd1-b3ba-8eb86370821a",
   "metadata": {},
   "outputs": [
    {
     "name": "stdout",
     "output_type": "stream",
     "text": [
      "Computing cells:   0%|                                                    | 0/5 [00:00<?, ? cells/s]\n",
      "Inserting rows into `strings`: 1 rows [00:00, 242.01 rows/s]\n",
      "Computing cells: 100%|███████████████████████████████████████████| 5/5 [00:00<00:00, 623.99 cells/s]\n",
      "Inserted 1 row with 0 errors.\n"
     ]
    },
    {
     "data": {
      "text/html": [
       "<table border=\"1\" class=\"dataframe\">\n",
       "  <thead>\n",
       "    <tr style=\"text-align: right;\">\n",
       "      <th>input</th>\n",
       "      <th>longest_word</th>\n",
       "      <th>longest_word_2</th>\n",
       "    </tr>\n",
       "  </thead>\n",
       "  <tbody>\n",
       "    <tr>\n",
       "      <td>Hello, world!</td>\n",
       "      <td>Hello,</td>\n",
       "      <td>Hello</td>\n",
       "    </tr>\n",
       "    <tr>\n",
       "      <td>You can do a lot with Pixeltable UDFs.</td>\n",
       "      <td>Pixeltable</td>\n",
       "      <td>Pixeltable</td>\n",
       "    </tr>\n",
       "    <tr>\n",
       "      <td>Pixeltable updates tables incrementally.</td>\n",
       "      <td>incrementally.</td>\n",
       "      <td>incrementally</td>\n",
       "    </tr>\n",
       "    <tr>\n",
       "      <td>Let&#x27;s check that it still works.</td>\n",
       "      <td>works.</td>\n",
       "      <td>check</td>\n",
       "    </tr>\n",
       "  </tbody>\n",
       "</table>"
      ],
      "text/plain": [
       "                                      input    longest_word longest_word_2\n",
       "0                             Hello, world!          Hello,          Hello\n",
       "1    You can do a lot with Pixeltable UDFs.      Pixeltable     Pixeltable\n",
       "2  Pixeltable updates tables incrementally.  incrementally.  incrementally\n",
       "3          Let's check that it still works.          works.          check"
      ]
     },
     "execution_count": 9,
     "metadata": {},
     "output_type": "execute_result"
    }
   ],
   "source": [
    "t.insert(input=\"Let's check that it still works.\")\n",
    "t.show()"
   ]
  },
  {
   "cell_type": "markdown",
   "id": "b64c40f1-b7f0-416c-ac15-57f624d7dabb",
   "metadata": {},
   "source": [
    "But if we add a new _column_ that references the `longest_word` UDF, Pixeltable will use the updated version."
   ]
  },
  {
   "cell_type": "code",
   "execution_count": 10,
   "id": "b62c1601-ca63-475e-ab2b-76edaac37ce0",
   "metadata": {},
   "outputs": [
    {
     "name": "stdout",
     "output_type": "stream",
     "text": [
      "Computing cells: 100%|███████████████████████████████████████████| 4/4 [00:00<00:00, 348.89 cells/s]\n",
      "Added 4 column values with 0 errors.\n"
     ]
    },
    {
     "data": {
      "text/html": [
       "<table border=\"1\" class=\"dataframe\">\n",
       "  <thead>\n",
       "    <tr style=\"text-align: right;\">\n",
       "      <th>input</th>\n",
       "      <th>longest_word</th>\n",
       "      <th>longest_word_2</th>\n",
       "      <th>longest_word_3</th>\n",
       "    </tr>\n",
       "  </thead>\n",
       "  <tbody>\n",
       "    <tr>\n",
       "      <td>Hello, world!</td>\n",
       "      <td>Hello,</td>\n",
       "      <td>Hello</td>\n",
       "      <td>Hello</td>\n",
       "    </tr>\n",
       "    <tr>\n",
       "      <td>You can do a lot with Pixeltable UDFs.</td>\n",
       "      <td>Pixeltable</td>\n",
       "      <td>Pixeltable</td>\n",
       "      <td>Pixeltable</td>\n",
       "    </tr>\n",
       "    <tr>\n",
       "      <td>Pixeltable updates tables incrementally.</td>\n",
       "      <td>incrementally.</td>\n",
       "      <td>incrementally</td>\n",
       "      <td>incrementally</td>\n",
       "    </tr>\n",
       "    <tr>\n",
       "      <td>Let&#x27;s check that it still works.</td>\n",
       "      <td>works.</td>\n",
       "      <td>check</td>\n",
       "      <td>Let&#x27;s</td>\n",
       "    </tr>\n",
       "  </tbody>\n",
       "</table>"
      ],
      "text/plain": [
       "                                      input    longest_word longest_word_2  \\\n",
       "0                             Hello, world!          Hello,          Hello   \n",
       "1    You can do a lot with Pixeltable UDFs.      Pixeltable     Pixeltable   \n",
       "2  Pixeltable updates tables incrementally.  incrementally.  incrementally   \n",
       "3          Let's check that it still works.          works.          check   \n",
       "\n",
       "  longest_word_3  \n",
       "0          Hello  \n",
       "1     Pixeltable  \n",
       "2  incrementally  \n",
       "3          Let's  "
      ]
     },
     "execution_count": 10,
     "metadata": {},
     "output_type": "execute_result"
    }
   ],
   "source": [
    "t.add_computed_column(\n",
    "    longest_word_3=longest_word(t.input, strip_punctuation=True)\n",
    ")\n",
    "t.show()"
   ]
  },
  {
   "cell_type": "markdown",
   "id": "3f12d7c2-b5dd-446a-997d-5510131a6ade",
   "metadata": {},
   "source": [
    "The general rule is: changes to module UDFs will affect any future execution; changes to local UDFs will only affect _new columns_ that are defined using the new version of the UDF."
   ]
  },
  {
   "cell_type": "markdown",
   "id": "42158866-8127-405c-af25-cd59d0acef8c",
   "metadata": {},
   "source": [
    "## Batching\n",
    "\n",
    "Pixeltable provides several ways to optimize UDFs for better performance. One of the most common is _batching_, which is particularly important for UDFs that involve GPU operations.\n",
    "\n",
    "Ordinary UDFs process one row at a time, meaning the UDF will be invoked exactly once per row processed. Conversely, a batched UDF processes several rows at a time; the specific number is user-configurable. As an example, let's modify our `longest_word` UDF to take a batched parameter. Here's what it looks like:"
   ]
  },
  {
   "cell_type": "code",
   "execution_count": 11,
   "id": "7bb26ff0-155d-4c51-a19f-92d235195d61",
   "metadata": {},
   "outputs": [],
   "source": [
    "from pixeltable.func import Batch\n",
    "\n",
    "@pxt.udf(batch_size=16)\n",
    "def longest_word(sentences: Batch[str], strip_punctuation: bool = False) -> Batch[str]:\n",
    "    results = []\n",
    "    for sentence in sentences:\n",
    "        words = sentence.split()\n",
    "        if strip_punctuation:\n",
    "            words = [\n",
    "                word if word[-1].isalnum() else word[:-1]\n",
    "                for word in words\n",
    "            ]\n",
    "        i = np.argmax([len(word) for word in words])\n",
    "        results.append(words[i])\n",
    "    return results"
   ]
  },
  {
   "cell_type": "markdown",
   "id": "bd41d42a-2df0-4b14-b000-ab1cbf4b22a8",
   "metadata": {},
   "source": [
    "There are several changes:\n",
    "- The parameter `batch_size=16` has been added to the `@pxt.udf` decorator, specifying the batch size;\n",
    "- The `sentences` parameter has changed from `str` to `Batch[str]`;\n",
    "- The return type has also changed from `str` to `Batch[str]`; and\n",
    "- Instead of processing a single sentence, the UDF is processing a `Batch` of sentences and returning the result `Batch`.\n",
    "\n",
    "What exactly is a `Batch[str]`? Functionally, it's simply a `list[str]`, and you can use it exactly like a `list[str]` in any Python code. The only difference is in the type hint; a type hint of `Batch[str]` tells Pixeltable, \"My data consists of individual strings that I want you to process in batches\". Conversely, a type hint of `list[str]` would mean, \"My data consists of _lists_ of strings that I want you to process one at a time\".\n",
    "\n",
    "Notice that the `strip_punctuation` parameter is _not_ wrapped in a `Batch` type. This because `strip_punctuation` controls the behavior of the UDF, rather than being part of the input data. When we use the batched `longest_word` UDF, the `strip_punctuation` parameter will always be a constant, not a column.\n",
    "\n",
    "Let's put the new, batched UDF to work."
   ]
  },
  {
   "cell_type": "code",
   "execution_count": 12,
   "id": "3a1b54bb-044d-4235-b9ee-e9ad2adf572d",
   "metadata": {},
   "outputs": [
    {
     "name": "stdout",
     "output_type": "stream",
     "text": [
      "Computing cells: 100%|███████████████████████████████████████████| 4/4 [00:00<00:00, 353.90 cells/s]\n",
      "Added 4 column values with 0 errors.\n"
     ]
    },
    {
     "data": {
      "text/html": [
       "<table border=\"1\" class=\"dataframe\">\n",
       "  <thead>\n",
       "    <tr style=\"text-align: right;\">\n",
       "      <th>input</th>\n",
       "      <th>longest_word</th>\n",
       "      <th>longest_word_2</th>\n",
       "      <th>longest_word_3</th>\n",
       "      <th>longest_word_3_batched</th>\n",
       "    </tr>\n",
       "  </thead>\n",
       "  <tbody>\n",
       "    <tr>\n",
       "      <td>Hello, world!</td>\n",
       "      <td>Hello,</td>\n",
       "      <td>Hello</td>\n",
       "      <td>Hello</td>\n",
       "      <td>Hello</td>\n",
       "    </tr>\n",
       "    <tr>\n",
       "      <td>You can do a lot with Pixeltable UDFs.</td>\n",
       "      <td>Pixeltable</td>\n",
       "      <td>Pixeltable</td>\n",
       "      <td>Pixeltable</td>\n",
       "      <td>Pixeltable</td>\n",
       "    </tr>\n",
       "    <tr>\n",
       "      <td>Pixeltable updates tables incrementally.</td>\n",
       "      <td>incrementally.</td>\n",
       "      <td>incrementally</td>\n",
       "      <td>incrementally</td>\n",
       "      <td>incrementally</td>\n",
       "    </tr>\n",
       "    <tr>\n",
       "      <td>Let&#x27;s check that it still works.</td>\n",
       "      <td>works.</td>\n",
       "      <td>check</td>\n",
       "      <td>Let&#x27;s</td>\n",
       "      <td>Let&#x27;s</td>\n",
       "    </tr>\n",
       "  </tbody>\n",
       "</table>"
      ],
      "text/plain": [
       "                                      input    longest_word longest_word_2  \\\n",
       "0                             Hello, world!          Hello,          Hello   \n",
       "1    You can do a lot with Pixeltable UDFs.      Pixeltable     Pixeltable   \n",
       "2  Pixeltable updates tables incrementally.  incrementally.  incrementally   \n",
       "3          Let's check that it still works.          works.          check   \n",
       "\n",
       "  longest_word_3 longest_word_3_batched  \n",
       "0          Hello                  Hello  \n",
       "1     Pixeltable             Pixeltable  \n",
       "2  incrementally          incrementally  \n",
       "3          Let's                  Let's  "
      ]
     },
     "execution_count": 12,
     "metadata": {},
     "output_type": "execute_result"
    }
   ],
   "source": [
    "t.add_computed_column(\n",
    "    longest_word_3_batched=longest_word(t.input, strip_punctuation=True)\n",
    ")\n",
    "t.show()"
   ]
  },
  {
   "cell_type": "markdown",
   "id": "c487704a-7e88-4d53-bf9e-8838e8a6a6f0",
   "metadata": {},
   "source": [
    "As expected, the output of the `longest_word_3_batched` column is identical to the `longest_word_3` column. Under the covers, though, Pixeltable is orchestrating execution in batches of 16. That probably won't have much performance impact on our toy example, but for GPU-bound computations such as text or image embeddings, it can make a substantial difference."
   ]
  },
  {
   "cell_type": "markdown",
   "id": "7adafc69-dcf8-4f63-9010-db42d5ac3516",
   "metadata": {},
   "source": [
    "## UDAs (Aggregate UDFs)"
   ]
  },
  {
   "cell_type": "markdown",
   "id": "41270cf1-48b2-4746-a526-030d2fa0256a",
   "metadata": {},
   "source": [
    "Ordinary UDFs are always one-to-one on rows: each row of input generates one UDF output value. Functions that aggregate data, conversely, are many-to-one, and in Pixeltable they are represented by a related abstraction, the UDA (<i>U</i>ser-<i>D</i>efined <i>A</i>ggregate). Pixeltable has a number of built-in UDAs; if you've worked through the Fundamentals tutorial, you'll have already encountered a few of them, such as `sum` and `count`. In this section, we'll show how to define your own custom UDAs. For demonstration purposes, let's start by creating a table containing all the integers from 0 to 49."
   ]
  },
  {
   "cell_type": "code",
   "execution_count": 13,
   "id": "fd1a31e5-b55d-4a8c-b78c-13a65cb0ad42",
   "metadata": {},
   "outputs": [
    {
     "name": "stdout",
     "output_type": "stream",
     "text": [
      "Created table `values`.\n",
      "Inserting rows into `values`: 50 rows [00:00, 9267.95 rows/s]\n",
      "Inserted 50 rows with 0 errors.\n"
     ]
    },
    {
     "data": {
      "text/plain": [
       "UpdateStatus(num_rows=50, num_computed_values=0, num_excs=0, updated_cols=[], cols_with_excs=[])"
      ]
     },
     "execution_count": 13,
     "metadata": {},
     "output_type": "execute_result"
    }
   ],
   "source": [
    "import pixeltable as pxt\n",
    "\n",
    "t = pxt.create_table('udf_demo.values', {'val': pxt.Int})\n",
    "t.insert({'val': n} for n in range(50))"
   ]
  },
  {
   "cell_type": "markdown",
   "id": "8bdf4c2b-8ccc-4ab4-8ae0-3612f0a95654",
   "metadata": {},
   "source": [
    "If we wanted to compute their sum using the built-in `sum` aggregate, we'd do it like this:"
   ]
  },
  {
   "cell_type": "code",
   "execution_count": 14,
   "id": "154b3adf-a3f1-4726-81e0-a841cbe05a5f",
   "metadata": {},
   "outputs": [
    {
     "data": {
      "text/html": [
       "<table border=\"1\" class=\"dataframe\">\n",
       "  <thead>\n",
       "    <tr style=\"text-align: right;\">\n",
       "      <th>sum</th>\n",
       "    </tr>\n",
       "  </thead>\n",
       "  <tbody>\n",
       "    <tr>\n",
       "      <td>1225</td>\n",
       "    </tr>\n",
       "  </tbody>\n",
       "</table>"
      ],
      "text/plain": [
       "    sum\n",
       "0  1225"
      ]
     },
     "execution_count": 14,
     "metadata": {},
     "output_type": "execute_result"
    }
   ],
   "source": [
    "import pixeltable.functions as pxtf\n",
    "\n",
    "t.select(pxtf.sum(t.val)).collect()"
   ]
  },
  {
   "cell_type": "markdown",
   "id": "dfd3eaf9-89f1-496c-a03c-a227b706e2e4",
   "metadata": {},
   "source": [
    "Or perhaps we want to group them by `n // 10` (corresponding to the tens digit of each integer) and sum each group:"
   ]
  },
  {
   "cell_type": "code",
   "execution_count": 15,
   "id": "8c6cb836-5b97-44d0-9c25-2e750e86653d",
   "metadata": {},
   "outputs": [
    {
     "data": {
      "text/html": [
       "<table border=\"1\" class=\"dataframe\">\n",
       "  <thead>\n",
       "    <tr style=\"text-align: right;\">\n",
       "      <th>col_0</th>\n",
       "      <th>sum</th>\n",
       "    </tr>\n",
       "  </thead>\n",
       "  <tbody>\n",
       "    <tr>\n",
       "      <td>0</td>\n",
       "      <td>45</td>\n",
       "    </tr>\n",
       "    <tr>\n",
       "      <td>1</td>\n",
       "      <td>145</td>\n",
       "    </tr>\n",
       "    <tr>\n",
       "      <td>2</td>\n",
       "      <td>245</td>\n",
       "    </tr>\n",
       "    <tr>\n",
       "      <td>3</td>\n",
       "      <td>345</td>\n",
       "    </tr>\n",
       "    <tr>\n",
       "      <td>4</td>\n",
       "      <td>445</td>\n",
       "    </tr>\n",
       "  </tbody>\n",
       "</table>"
      ],
      "text/plain": [
       "   col_0  sum\n",
       "0      0   45\n",
       "1      1  145\n",
       "2      2  245\n",
       "3      3  345\n",
       "4      4  445"
      ]
     },
     "execution_count": 15,
     "metadata": {},
     "output_type": "execute_result"
    }
   ],
   "source": [
    "t.group_by(t.val // 10).order_by(t.val // 10).select(\n",
    "    t.val // 10, pxtf.sum(t.val)\n",
    ").collect()"
   ]
  },
  {
   "cell_type": "markdown",
   "id": "1f96d6c6-9524-452a-a12f-9006b426fe12",
   "metadata": {},
   "source": [
    "Now let's define a new aggregate to compute the sum of squares of a set of numbers. To define an aggregate, we implement a subclass of the `pxt.Aggregator` Python class and decorate it with the `@pxt.uda` decorator, similar to what we did for UDFs. The subclass must implement three methods:\n",
    "\n",
    "- `__init__()` - initializes the aggregator; can be used to parameterize aggregator behavior\n",
    "- `update()` - updates the internal state of the aggregator with a new value\n",
    "- `value()` - retrieves the current value held by the aggregator\n",
    "\n",
    "In our example, the class will have a single member `cur_sum`, which holds a running total of the squares of all the values we've seen."
   ]
  },
  {
   "cell_type": "code",
   "execution_count": 16,
   "id": "bbf282e2-037d-4e8d-88e2-398989a6f0ac",
   "metadata": {},
   "outputs": [],
   "source": [
    "@pxt.uda\n",
    "class sum_of_squares(pxt.Aggregator):\n",
    "    def __init__(self):\n",
    "        # No data yet; initialize `cur_sum` to 0\n",
    "        self.cur_sum = 0\n",
    "\n",
    "    def update(self, val: int) -> None:\n",
    "        # Update the value of `cur_sum` with the new datapoint\n",
    "        self.cur_sum += val * val\n",
    "\n",
    "    def value(self) -> int:\n",
    "        # Retrieve the current value of `cur_sum`\n",
    "        return self.cur_sum"
   ]
  },
  {
   "cell_type": "code",
   "execution_count": 17,
   "id": "674bf26b-b9b6-4266-97ed-c2927ad832e9",
   "metadata": {},
   "outputs": [
    {
     "data": {
      "text/html": [
       "<table border=\"1\" class=\"dataframe\">\n",
       "  <thead>\n",
       "    <tr style=\"text-align: right;\">\n",
       "      <th>sum_of_squares</th>\n",
       "    </tr>\n",
       "  </thead>\n",
       "  <tbody>\n",
       "    <tr>\n",
       "      <td>40425</td>\n",
       "    </tr>\n",
       "  </tbody>\n",
       "</table>"
      ],
      "text/plain": [
       "   sum_of_squares\n",
       "0           40425"
      ]
     },
     "execution_count": 17,
     "metadata": {},
     "output_type": "execute_result"
    }
   ],
   "source": [
    "t.select(sum_of_squares(t.val)).collect()"
   ]
  },
  {
   "cell_type": "code",
   "execution_count": 18,
   "id": "65c980f0-7459-4983-b6bc-eb68c85c0685",
   "metadata": {},
   "outputs": [
    {
     "data": {
      "text/html": [
       "<table border=\"1\" class=\"dataframe\">\n",
       "  <thead>\n",
       "    <tr style=\"text-align: right;\">\n",
       "      <th>col_0</th>\n",
       "      <th>sum_of_squares</th>\n",
       "    </tr>\n",
       "  </thead>\n",
       "  <tbody>\n",
       "    <tr>\n",
       "      <td>0</td>\n",
       "      <td>285</td>\n",
       "    </tr>\n",
       "    <tr>\n",
       "      <td>1</td>\n",
       "      <td>2185</td>\n",
       "    </tr>\n",
       "    <tr>\n",
       "      <td>2</td>\n",
       "      <td>6085</td>\n",
       "    </tr>\n",
       "    <tr>\n",
       "      <td>3</td>\n",
       "      <td>11985</td>\n",
       "    </tr>\n",
       "    <tr>\n",
       "      <td>4</td>\n",
       "      <td>19885</td>\n",
       "    </tr>\n",
       "  </tbody>\n",
       "</table>"
      ],
      "text/plain": [
       "   col_0  sum_of_squares\n",
       "0      0             285\n",
       "1      1            2185\n",
       "2      2            6085\n",
       "3      3           11985\n",
       "4      4           19885"
      ]
     },
     "execution_count": 18,
     "metadata": {},
     "output_type": "execute_result"
    }
   ],
   "source": [
    "t.group_by(t.val // 10).order_by(t.val // 10).select(\n",
    "    t.val // 10, sum_of_squares(t.val)\n",
    ").collect()"
   ]
  }
 ],
 "metadata": {
  "kernelspec": {
   "display_name": "Python 3 (ipykernel)",
   "language": "python",
   "name": "python3"
  },
  "language_info": {
   "codemirror_mode": {
    "name": "ipython",
    "version": 3
   },
   "file_extension": ".py",
   "mimetype": "text/x-python",
   "name": "python",
   "nbconvert_exporter": "python",
   "pygments_lexer": "ipython3",
   "version": "3.9.20"
  }
 },
 "nbformat": 4,
 "nbformat_minor": 5
}
