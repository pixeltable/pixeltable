{
 "cells": [
  {
   "cell_type": "code",
   "execution_count": null,
   "metadata": {},
   "outputs": [],
   "source": [
    "# This notebook tests various scenarios that are specific to notebook scope\n",
    "# (and therefore are not covered under the regular unit tests).\n",
    "\n",
    "import pixeltable as pxt\n",
    "\n",
    "pxt.drop_dir('tests', force=True)\n",
    "pxt.create_dir('tests')\n",
    "t = pxt.create_table('tests.notebook_test_tbl', {'int_col': pxt.IntType()})\n",
    "t.insert(int_col=1)"
   ]
  },
  {
   "cell_type": "code",
   "execution_count": null,
   "metadata": {},
   "outputs": [],
   "source": [
    "# Test that UDFs can be redefined in notebook scope, and that computed columns use the definition that\n",
    "# was in force at the time the column was created.\n",
    "\n",
    "@pxt.udf\n",
    "def udf1(x: int) -> int:\n",
    "    return x + 1\n",
    "\n",
    "t.add_column(int_col_plus_1=udf1(t.int_col))\n",
    "\n",
    "@pxt.udf\n",
    "def udf1(x: int) -> int:\n",
    "    return x + 2\n",
    "\n",
    "t.add_column(int_col_plus_2=udf1(t.int_col))\n",
    "\n",
    "row = t.select(t.int_col, t.int_col_plus_1, t.int_col_plus_2).collect()[0]\n",
    "assert list(row.values()) == [1, 2, 3]"
   ]
  },
  {
   "cell_type": "code",
   "execution_count": 3,
   "metadata": {},
   "outputs": [],
   "source": [
    "# Test that stored queries can be redefined in notebook scope.\n",
    "\n",
    "@t.query\n",
    "def query1(x: int):\n",
    "    return t.select(t.int_col == x)\n",
    "\n",
    "@t.query\n",
    "def query1(x: int):\n",
    "    return t.select(t.int_col == x + 1)"
   ]
  }
 ],
 "metadata": {
  "kernelspec": {
   "display_name": "pxt",
   "language": "python",
   "name": "python3"
  },
  "language_info": {
   "codemirror_mode": {
    "name": "ipython",
    "version": 3
   },
   "file_extension": ".py",
   "mimetype": "text/x-python",
   "name": "python",
   "nbconvert_exporter": "python",
   "pygments_lexer": "ipython3",
   "version": "3.9.19"
  }
 },
 "nbformat": 4,
 "nbformat_minor": 2
}
